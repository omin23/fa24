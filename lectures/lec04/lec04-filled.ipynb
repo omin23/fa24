{
 "cells": [
  {
   "cell_type": "code",
   "execution_count": 1,
   "id": "bfbd3e09",
   "metadata": {
    "deletable": true,
    "editable": true,
    "slideshow": {
     "slide_type": "skip"
    },
    "tags": []
   },
   "outputs": [],
   "source": [
    "from lec_utils import *"
   ]
  },
  {
   "cell_type": "markdown",
   "id": "0230dbc9",
   "metadata": {
    "deletable": true,
    "editable": true,
    "slideshow": {
     "slide_type": "slide"
    },
    "tags": []
   },
   "source": [
    "<div class=\"alert alert-info\" markdown=\"1\">\n",
    "\n",
    "#### Lecture 4\n",
    "\n",
    "# Simulation, DataFrame Fundamentals\n",
    "\n",
    "### EECS 398-003: Practical Data Science, Fall 2024\n",
    "\n",
    "<small><a style=\"text-decoration: none\" href=\"https://practicaldsc.org\">practicaldsc.org</a> • <a style=\"text-decoration: none\" href=\"https://github.com/practicaldsc/fa24\">github.com/practicaldsc/fa24</a></small>\n",
    "    \n",
    "</div>"
   ]
  },
  {
   "cell_type": "markdown",
   "id": "b0c5405c",
   "metadata": {
    "deletable": true,
    "editable": true,
    "slideshow": {
     "slide_type": "slide"
    }
   },
   "source": [
    "### Announcements 📣\n",
    "\n",
    "- Homework 1 is due **tonight**, though note that you have 6 slip days to use during the semester, and you can use up to 2 slip days on any homework (see [here](https://practicaldsc.org/syllabus/#late-policy-slip-days-and-drops) for policy details).<br>\n",
    "<small>Post on [Ed](https://edstem.org/us/courses/61012/discussion/) or\n",
    "come to [Office Hours](https://practicaldsc.org/calendar) for help! We're using a queue for office hours now – access it from [practicaldsc.org/calendar](https://practicaldsc.org/calendar).</small>\n",
    "\n",
    "- Homework 2 will be released tomorrow.<br><small>We'll make an Ed announcement anytime an assignment is released.</small>\n",
    "\n",
    "- In discussion tomorrow, we'll cover past exam problems **on paper** related to this week's material.\n",
    "\n",
    "- Check out the [Resources](https://practicaldsc.org/resources) tab on the course website, with links to lots of supplementary resources.<br><small>New link: [EECS 201: Computer Science Pragmatics](https://www.eecs.umich.edu/courses/eecs201/fa2024/schedule). Look here for help with Terminal commands, `git`, etc.</small>"
   ]
  },
  {
   "cell_type": "markdown",
   "id": "9b90afda",
   "metadata": {
    "deletable": true,
    "editable": true,
    "slideshow": {
     "slide_type": "slide"
    }
   },
   "source": [
    "### Agenda\n",
    "\n",
    "- Randomness and simulation.\n",
    "- Introduction to `pandas` DataFrames.\n",
    "    - Selecting columns from a DataFrame.\n",
    "    - Selecting rows from a DataFrame.\n",
    "\n",
    "Remember to follow along in lecture by accessing the \"blank\" lecture notebook in our [public GitHub repository](https://github.com/practicaldsc/fa24)."
   ]
  },
  {
   "cell_type": "markdown",
   "id": "f65e122f",
   "metadata": {
    "deletable": true,
    "editable": true,
    "slideshow": {
     "slide_type": "slide"
    }
   },
   "source": [
    "<div class=\"alert alert-warning\">\n",
    "<h3>Question 🤔 (Answer at <a style=\"text-decoration: none; color: #0066cc\" href=\"https://docs.google.com/forms/d/e/1FAIpQLSd4oliiZYeNh76jWy-arfEtoAkCrVSsobZxPwxifWggo3EO0Q/viewform\">practicaldsc.org/q</a>)</h3>\n",
    "<small>Remember that you can always ask questions anonymously at the link above!</small>\n",
    "    \n",
    "    \n",
    "When is your birthday?\n",
    "        \n",
    "    \n",
    "    \n"
   ]
  },
  {
   "cell_type": "markdown",
   "id": "98d13884",
   "metadata": {
    "deletable": true,
    "editable": true,
    "slideshow": {
     "slide_type": "slide"
    }
   },
   "source": [
    "## Randomness and simulation\n",
    "\n",
    "We'll start by exploring a useful application of `numpy` in the field of probability and statistics: simulation!\n",
    "\n",
    "---"
   ]
  },
  {
   "cell_type": "markdown",
   "id": "2ba410ab",
   "metadata": {
    "deletable": true,
    "editable": true,
    "slideshow": {
     "slide_type": "slide"
    }
   },
   "source": [
    "### `np.random`\n",
    "\n",
    "The submodule `np.random` contains various functions that produce **random** results.<br><small>These use [pseudo-random number generators](https://en.wikipedia.org/wiki/Pseudorandom_number_generator) to generate random-seeming sequences of results.</small>"
   ]
  },
  {
   "cell_type": "code",
   "execution_count": 2,
   "id": "c519d377",
   "metadata": {
    "deletable": true,
    "editable": true
   },
   "outputs": [
    {
     "data": {
      "text/plain": [
       "1"
      ]
     },
     "execution_count": 2,
     "metadata": {},
     "output_type": "execute_result"
    }
   ],
   "source": [
    "# Run this cell multiple times!\n",
    "# Returns a random integer between 1 and 6, inclusive.\n",
    "np.random.randint(1, 7) "
   ]
  },
  {
   "cell_type": "code",
   "execution_count": 3,
   "id": "d5a81f30",
   "metadata": {
    "deletable": true,
    "editable": true
   },
   "outputs": [
    {
     "data": {
      "text/plain": [
       "0.506351721303505"
      ]
     },
     "execution_count": 3,
     "metadata": {},
     "output_type": "execute_result"
    }
   ],
   "source": [
    "# Returns a random real number between 0 and 1.\n",
    "np.random.random() "
   ]
  },
  {
   "cell_type": "code",
   "execution_count": 4,
   "id": "98bd3879",
   "metadata": {
    "deletable": true,
    "editable": true
   },
   "outputs": [
    {
     "data": {
      "text/plain": [
       "array(['T', 'H', 'H', 'T', 'H'], dtype='<U1')"
      ]
     },
     "execution_count": 4,
     "metadata": {},
     "output_type": "execute_result"
    }
   ],
   "source": [
    "# Returns a randomly selected element from the provided list, 5 times.\n",
    "np.random.choice(['H', 'T'], 5) "
   ]
  },
  {
   "cell_type": "code",
   "execution_count": 22,
   "id": "cc676ed7",
   "metadata": {
    "deletable": true,
    "editable": true
   },
   "outputs": [
    {
     "data": {
      "text/plain": [
       "array([5, 3, 2])"
      ]
     },
     "execution_count": 22,
     "metadata": {},
     "output_type": "execute_result"
    }
   ],
   "source": [
    "# Returns the number of occurrences of each outcome\n",
    "# in 12 trials of an experiment in which\n",
    "# outcome 1 happens 60% of the time and\n",
    "# outcome 2 happens 40% of the time.\n",
    "np.random.multinomial(10, [0.5, 0.3,0.2]) "
   ]
  },
  {
   "cell_type": "markdown",
   "id": "5df880c6",
   "metadata": {
    "deletable": true,
    "editable": true,
    "slideshow": {
     "slide_type": "slide"
    }
   },
   "source": [
    "### Simulations"
   ]
  },
  {
   "cell_type": "markdown",
   "id": "2f220dde",
   "metadata": {
    "deletable": true,
    "editable": true,
    "slideshow": {
     "slide_type": "fragment"
    }
   },
   "source": [
    "- Often, we'll want to estimate the probability of an event, but it may not be possible – or we may not know how – to calculate the probability exactly.<br><small>e.g., the probability that I see between 40 and 50 heads when I flip a fair coin 100 times.</small>"
   ]
  },
  {
   "cell_type": "markdown",
   "id": "f92d62f6",
   "metadata": {
    "deletable": true,
    "editable": true,
    "slideshow": {
     "slide_type": "fragment"
    }
   },
   "source": [
    "- Or, we may have a theoretical answer, and want to validate it using another approach."
   ]
  },
  {
   "cell_type": "markdown",
   "id": "098a2c96",
   "metadata": {
    "deletable": true,
    "editable": true,
    "slideshow": {
     "slide_type": "fragment"
    }
   },
   "source": [
    "- In such cases, we can use the power of simulation. We can:\n",
    "    1. Figure out how to **simulate** one run of the experiment.<br><small>e.g., figure out how to get Python to flip a fair coin 100 times and count the number of heads.</small>\n",
    "    1. Repeat the experiment many, many times.\n",
    "    1. Compute the fraction of experiments in which our event occurs, and use this fraction as an estimate of the probability of our event.\n",
    "    \n",
    "    This is the basis of [Monte Carlo Methods](https://en.wikipedia.org/wiki/Monte_Carlo_method)."
   ]
  },
  {
   "cell_type": "markdown",
   "id": "eae0772c",
   "metadata": {
    "deletable": true,
    "editable": true,
    "slideshow": {
     "slide_type": "fragment"
    }
   },
   "source": [
    "- Theory tells us that **the more repetitions we perform of our experiment, the closer our fraction will be to the true probability of the event**!\n",
    "<br><small>Specifically, the [Law of Large Numbers](https://en.wikipedia.org/wiki/Law_of_large_numbers) tells us this.</small>"
   ]
  },
  {
   "cell_type": "markdown",
   "id": "50571abf",
   "metadata": {
    "deletable": true,
    "editable": true,
    "slideshow": {
     "slide_type": "slide"
    }
   },
   "source": [
    "### Example: Coin flipping"
   ]
  },
  {
   "cell_type": "markdown",
   "id": "18f79e4f",
   "metadata": {
    "deletable": true,
    "editable": true,
    "slideshow": {
     "slide_type": "fragment"
    }
   },
   "source": [
    "- **Question**: What is the probability that I see between 40 and 50 heads, inclusive, when I flip a fair coin 100 times?"
   ]
  },
  {
   "cell_type": "markdown",
   "id": "724a274c",
   "metadata": {
    "deletable": true,
    "editable": true,
    "slideshow": {
     "slide_type": "fragment"
    }
   },
   "source": [
    "- **Step 1**: Figure out how to **simulate** one run of the experiment.<br><small>e.g., figure out how to get Python to flip a fair coin 100 times and count the number of heads.</small>"
   ]
  },
  {
   "cell_type": "code",
   "execution_count": null,
   "id": "9e7d938e",
   "metadata": {
    "deletable": true,
    "editable": true
   },
   "outputs": [],
   "source": [
    "(np.random.choice(['H', 'T'], 100) == 'H').sum() "
   ]
  },
  {
   "cell_type": "code",
   "execution_count": null,
   "id": "eedb453d",
   "metadata": {
    "deletable": true,
    "editable": true
   },
   "outputs": [],
   "source": [
    "np.random.multinomial(100, [0.5, 0.5])[0] "
   ]
  },
  {
   "cell_type": "code",
   "execution_count": null,
   "id": "1bb971f2",
   "metadata": {
    "deletable": true,
    "editable": true
   },
   "outputs": [],
   "source": [
    "def num_heads():\n",
    "    return np.random.multinomial(100, [0.5, 0.5])[0]\n",
    "num_heads()"
   ]
  },
  {
   "cell_type": "markdown",
   "id": "dd61e77b",
   "metadata": {
    "deletable": true,
    "editable": true,
    "slideshow": {
     "slide_type": "fragment"
    }
   },
   "source": [
    "- **Step 2**: Repeat the experiment many, many times.<br><small>In other words, run the cell above lots of times and store the results somewhere.</small>"
   ]
  },
  {
   "cell_type": "code",
   "execution_count": null,
   "id": "3275718e",
   "metadata": {
    "deletable": true,
    "editable": true
   },
   "outputs": [],
   "source": [
    "outcomes = np.array([]) \n",
    "for _ in range(10_000):\n",
    "    # Note that with arrays, append is a FUNCTION,\n",
    "    # not a METHOD, and is NOT destructive, \n",
    "    # unlike with lists!\n",
    "    outcomes = np.append(outcomes, num_heads())"
   ]
  },
  {
   "cell_type": "markdown",
   "id": "5b952828",
   "metadata": {
    "deletable": true,
    "editable": true,
    "slideshow": {
     "slide_type": "fragment"
    }
   },
   "source": [
    "- **Step 3**: Compute the fraction of experiments in which our event occurs, and use this fraction as an estimate of the probability of our event."
   ]
  },
  {
   "cell_type": "code",
   "execution_count": null,
   "id": "2f6529e2",
   "metadata": {
    "deletable": true,
    "editable": true
   },
   "outputs": [],
   "source": [
    "px.histogram(outcomes)"
   ]
  },
  {
   "cell_type": "code",
   "execution_count": null,
   "id": "c8177d60",
   "metadata": {
    "deletable": true,
    "editable": true
   },
   "outputs": [],
   "source": [
    "((outcomes >= 40) & (outcomes <= 50)).mean() "
   ]
  },
  {
   "cell_type": "markdown",
   "id": "df3e59c8",
   "metadata": {
    "deletable": true,
    "editable": true,
    "slideshow": {
     "slide_type": "fragment"
    }
   },
   "source": [
    "- This is remarkably close to the true, theoretical answer!"
   ]
  },
  {
   "cell_type": "code",
   "execution_count": null,
   "id": "184ac42e",
   "metadata": {
    "deletable": true,
    "editable": true
   },
   "outputs": [],
   "source": [
    "from scipy.stats import binom\n",
    "binom.cdf(50, 100, 0.5) - binom.cdf(39, 100, 0.5)"
   ]
  },
  {
   "cell_type": "markdown",
   "id": "b14c8bad",
   "metadata": {
    "deletable": true,
    "editable": true,
    "slideshow": {
     "slide_type": "slide"
    }
   },
   "source": [
    "<div class=\"alert alert-warning\">\n",
    "    <h3>Question 🤔 (Answer at <a style=\"text-decoration: none; color: #0066cc\" href=\"https://docs.google.com/forms/d/e/1FAIpQLSd4oliiZYeNh76jWy-arfEtoAkCrVSsobZxPwxifWggo3EO0Q/viewform\">practicaldsc.org/q</a>)</h3>\n",
    "    \n",
    "What questions do you have about our coin flipping simulation?\n",
    "    \n",
    "Can you think of a way to perform the same simulation without **any** `for`-loops?"
   ]
  },
  {
   "cell_type": "markdown",
   "id": "7f9d6b01",
   "metadata": {
    "deletable": true,
    "editable": true,
    "slideshow": {
     "slide_type": "slide"
    }
   },
   "source": [
    "### Example: The Birthday Paradox"
   ]
  },
  {
   "cell_type": "markdown",
   "id": "e857c707",
   "metadata": {
    "deletable": true,
    "editable": true,
    "slideshow": {
     "slide_type": "fragment"
    }
   },
   "source": [
    "- There are ~80 students in the room right now. What are the chances at least 2 students share the same birthday?"
   ]
  },
  {
   "cell_type": "markdown",
   "id": "19adfc2c",
   "metadata": {
    "deletable": true,
    "editable": true,
    "slideshow": {
     "slide_type": "fragment"
    }
   },
   "source": [
    "- In general, **how many people must be in a room such that there's a 50% chance that at least 2 students share the same birthday?**"
   ]
  },
  {
   "cell_type": "markdown",
   "id": "c2ee537f",
   "metadata": {
    "deletable": true,
    "editable": true,
    "slideshow": {
     "slide_type": "fragment"
    }
   },
   "source": [
    "- Let's define a function, `estimated_probability`, which takes in a class size, `n`, and returns the probability that in a class of `n` students, at least 2 students share the same birthday."
   ]
  },
  {
   "cell_type": "code",
   "execution_count": null,
   "id": "1101bf5d",
   "metadata": {
    "deletable": true,
    "editable": true
   },
   "outputs": [],
   "source": [
    "def simulate_classroom(n):\n",
    "    # This helper function should take in a class size, n,\n",
    "    # and return True if a simulated classroom of size n\n",
    "    # has at least 2 students with the same birthday\n",
    "    # and False otherwise.\n",
    "    # This is not the most efficient solution, but works for now.\n",
    "    options = np.arange(1, 366)\n",
    "    chosen_options = np.random.choice(options, n, replace=True)\n",
    "    return len(chosen_options) != len(np.unique(chosen_options))\n",
    "def estimated_probability(n):\n",
    "    return np.mean([simulate_classroom(n) for _ in range(10_000)])"
   ]
  },
  {
   "cell_type": "code",
   "execution_count": null,
   "id": "87f2ff98",
   "metadata": {
    "deletable": true,
    "editable": true,
    "scrolled": true
   },
   "outputs": [],
   "source": [
    "estimated_probability(80) "
   ]
  },
  {
   "cell_type": "markdown",
   "id": "f031f46a",
   "metadata": {
    "deletable": true,
    "editable": true,
    "slideshow": {
     "slide_type": "fragment"
    }
   },
   "source": [
    "- With 80 students, it's almost certain that 2 share the same birthday!<br>What's the minimum class size we'd need for a 50% chance that at least 2 share the same birthday?"
   ]
  },
  {
   "cell_type": "code",
   "execution_count": null,
   "id": "0a1e4fc6",
   "metadata": {
    "deletable": true,
    "editable": true
   },
   "outputs": [],
   "source": [
    "probs = [estimated_probability(n) for n in range(1, 51)]"
   ]
  },
  {
   "cell_type": "code",
   "execution_count": null,
   "id": "3e9b611f",
   "metadata": {
    "deletable": true,
    "editable": true
   },
   "outputs": [],
   "source": [
    "(\n",
    "    px\n",
    "    .bar(x=range(1, 51), \n",
    "         y=probs,\n",
    "         title='Probability that at least 2 students share the<br>same birthday in a class of n students')\n",
    "    .update_xaxes(title='$n$')\n",
    "    .update_yaxes(title='Probability')\n",
    ")"
   ]
  },
  {
   "cell_type": "markdown",
   "id": "f829723c",
   "metadata": {
    "deletable": true,
    "editable": true,
    "slideshow": {
     "slide_type": "fragment"
    }
   },
   "source": [
    "- Lower than you might think!"
   ]
  },
  {
   "cell_type": "markdown",
   "id": "e1bdb03d",
   "metadata": {
    "deletable": true,
    "editable": true,
    "slideshow": {
     "slide_type": "slide"
    }
   },
   "source": [
    "## Introduction to `pandas` DataFrames\n",
    "\n",
    "Let's finally start working with real datasets! 🎉\n",
    "\n",
    "Note that we're going to cover a lot of code quickly. The point of lecture is to expose you to what's possible; you can look at the notebook later for the details.\n",
    "\n",
    "---"
   ]
  },
  {
   "cell_type": "markdown",
   "id": "e4745d36",
   "metadata": {
    "deletable": true,
    "editable": true,
    "slideshow": {
     "slide_type": "slide"
    },
    "tags": []
   },
   "source": [
    "### `pandas`\n",
    "\n",
    "<center><img src='imgs/pandas.png' width=300></center>"
   ]
  },
  {
   "cell_type": "markdown",
   "id": "00b2184b",
   "metadata": {
    "deletable": true,
    "editable": true,
    "slideshow": {
     "slide_type": "fragment"
    }
   },
   "source": [
    "- `pandas` is **the** Python library for tabular data manipulation."
   ]
  },
  {
   "cell_type": "markdown",
   "id": "ffb71d01",
   "metadata": {
    "deletable": true,
    "editable": true,
    "slideshow": {
     "slide_type": "fragment"
    }
   },
   "source": [
    "- Before `pandas` was developed, the standard data science workflow involved using multiple languages (Python, R, Java) in a single project."
   ]
  },
  {
   "cell_type": "markdown",
   "id": "e9b3e45e",
   "metadata": {
    "deletable": true,
    "editable": true,
    "slideshow": {
     "slide_type": "fragment"
    }
   },
   "source": [
    "- Wes McKinney, the original developer of `pandas`, wanted a library which would allow everything to be done in Python.<br><small>Python is faster to develop in than Java or C++, and is more general-purpose than R.</small>"
   ]
  },
  {
   "cell_type": "markdown",
   "id": "cd26cc74",
   "metadata": {
    "deletable": true,
    "editable": true,
    "slideshow": {
     "slide_type": "slide"
    },
    "tags": []
   },
   "source": [
    "### Importing `pandas` and related libraries\n",
    "\n",
    "`pandas` is almost always imported in conjunction with `numpy`."
   ]
  },
  {
   "cell_type": "code",
   "execution_count": 23,
   "id": "ff608217",
   "metadata": {
    "deletable": true,
    "editable": true
   },
   "outputs": [],
   "source": [
    "import pandas as pd\n",
    "import numpy as np"
   ]
  },
  {
   "cell_type": "markdown",
   "id": "a1048237",
   "metadata": {
    "deletable": true,
    "editable": true,
    "slideshow": {
     "slide_type": "slide"
    },
    "tags": []
   },
   "source": [
    "### `pandas` data structures\n",
    "\n",
    "There are **three** key data structures at the core of `pandas`."
   ]
  },
  {
   "cell_type": "markdown",
   "id": "8069494c",
   "metadata": {
    "deletable": true,
    "editable": true,
    "slideshow": {
     "slide_type": "fragment"
    }
   },
   "source": [
    "<center>\n",
    "    <img src='imgs/df-anatomy.png' width=1000>\n",
    "    <small>An example DataFrame.</small>\n",
    "</center>"
   ]
  },
  {
   "cell_type": "markdown",
   "id": "86227312",
   "metadata": {
    "deletable": true,
    "editable": true,
    "slideshow": {
     "slide_type": "fragment"
    }
   },
   "source": [
    "- **DataFrame**: 2 dimensional tables. These have rows and columns."
   ]
  },
  {
   "cell_type": "markdown",
   "id": "ed344196",
   "metadata": {
    "deletable": true,
    "editable": true,
    "slideshow": {
     "slide_type": "fragment"
    }
   },
   "source": [
    "- **Series**: 1 dimensional array-like object, representing a row or column.<br><small>Like arrays, Series contain data of the same type. The plural of Series is also Series.</small>"
   ]
  },
  {
   "cell_type": "markdown",
   "id": "fefd00fa",
   "metadata": {
    "deletable": true,
    "editable": true,
    "slideshow": {
     "slide_type": "fragment"
    }
   },
   "source": [
    "- **Index**: Sequence of row or column labels. When we say \"the index\", we're referring to the sequence of **row labels**.<br><small>The index – `'lebronja'`, `'obammich'`, `'carpents'`, and `'timapplec'` in the example above – **is not** a column!<br>Column names – `'name'`, `'program'`, and `'year'` in the example above – are stored as strings, and the sequence of column names is also an index.<br></small>"
   ]
  },
  {
   "cell_type": "markdown",
   "id": "d9f5ef7a",
   "metadata": {
    "deletable": true,
    "editable": true,
    "slideshow": {
     "slide_type": "slide"
    }
   },
   "source": [
    "### Example: Dog Breeds 🐶"
   ]
  },
  {
   "cell_type": "markdown",
   "id": "d6f93f24",
   "metadata": {
    "deletable": true,
    "editable": true,
    "slideshow": {
     "slide_type": "fragment"
    }
   },
   "source": [
    "- The dataset we'll work comes from the American Kennel Club. Here's a [cool plot](https://informationisbeautiful.net/visualizations/best-in-show-whats-the-top-data-dog/) made using our dataset.\n",
    "\n",
    "<center>\n",
    "    <img src=\"https://infobeautiful4.s3.amazonaws.com/2014/11/IIB_Best-In-Show_1276x2.png\" width=650>\n",
    "        \n",
    "</center>"
   ]
  },
  {
   "cell_type": "markdown",
   "id": "f8fcdc6b",
   "metadata": {
    "deletable": true,
    "editable": true,
    "slideshow": {
     "slide_type": "fragment"
    }
   },
   "source": [
    "- We'll usually work with data stored in the CSV format. CSV stands for \"comma-separated values.\""
   ]
  },
  {
   "cell_type": "markdown",
   "id": "295f92b1",
   "metadata": {
    "deletable": true,
    "editable": true,
    "slideshow": {
     "slide_type": "fragment"
    }
   },
   "source": [
    "- We can read in a CSV using `pd.read_csv(path)`. The path should be relative to your notebook; if the file is in the same folder as your notebook, this is just the name of the file (as a string)."
   ]
  },
  {
   "cell_type": "markdown",
   "id": "17efdb98",
   "metadata": {
    "deletable": true,
    "editable": true,
    "slideshow": {
     "slide_type": "fragment"
    }
   },
   "source": [
    "- Today's dataset is stored `'data/dogs43.csv'` – open it up and see what it looks like!"
   ]
  },
  {
   "cell_type": "code",
   "execution_count": 24,
   "id": "4160f39e",
   "metadata": {
    "deletable": true,
    "editable": true,
    "slideshow": {
     "slide_type": "slide"
    }
   },
   "outputs": [
    {
     "name": "stdout",
     "output_type": "stream",
     "text": [
      "breed,kind,lifetime_cost,longevity,size,weight,height\n",
      "Brittany,sporting,22589.0,12.92,medium,35.0,19.0\n",
      "Cairn Terrier,terrier,21992.0,13.84,small,14.0,10.0\n",
      "English Cocker Spaniel,sporting,18993.0,11.66,medium,30.0,16.0\n",
      "Cocker Spaniel,sporting,24330.0,12.5,small,25.0,14.5\n",
      "Shetland Sheepdog,herding,21006.0,12.53,small,22.0,14.5\n",
      "Siberian Husky,working,22049.0,12.58,medium,47.5,21.75\n",
      "Lhasa Apso,non-sporting,22031.0,13.92,small,15.0,10.5\n",
      "Miniature Schnauzer,terrier,20087.0,11.81,small,15.5,13.0\n",
      "Chihuahua,toy,26250.0,16.5,small,5.5,5.0\n",
      "English Springer Spaniel,sporting,21946.0,12.54,medium,45.0,19.5\n",
      "German Shorthaired Pointer,sporting,25842.0,11.46,large,62.5,24.0\n",
      "Pointer,sporting,24445.0,12.42,large,59.5,25.5\n",
      "Tibetan Spaniel,non-sporting,25549.0,14.42,small,12.0,10.0\n",
      "Labrador Retriever,sporting,21299.0,12.04,medium,67.5,23.0\n",
      "Maltese,toy,19084.0,12.25,small,5.0,9.0\n",
      "Shih Tzu,toy,21152.0,13.2,small,12.5,9.75\n",
      "Irish Setter,sporting,20323.0,11.63,large,65.0,26.0\n",
      "Golden Retriever,sporting,21447.0,12.04,medium,60.0,22.75\n",
      "Chesapeake Bay Retriever,sporting,16697.0,9.48,large,67.5,23.5\n",
      "Tibetan Terrier,non-sporting,20336.0,12.31,small,24.0,15.5\n",
      "Gordon Setter,sporting,19605.0,11.1,large,62.5,25.0\n",
      "Pug,toy,18527.0,11.0,medium,16.0,16.0\n",
      "Norfolk Terrier,terrier,24308.0,13.07,small,12.0,9.5\n",
      "English Toy Spaniel,toy,17521.0,10.1,small,11.0,10.0\n",
      "Cavalier King Charles Spaniel,toy,18639.0,11.29,small,15.5,12.5\n",
      "Basenji,hound,22096.0,13.58,medium,23.0,16.5\n",
      "Staffordshire Bull Terrier,terrier,21650.0,12.05,medium,31.0,15.0\n",
      "Pembroke Welsh Corgi,herding,23978.0,12.25,small,26.0,11.0\n",
      "Clumber Spaniel,sporting,18084.0,10.0,medium,70.0,18.5\n",
      "Dandie Dinmont Terrier,terrier,21633.0,12.17,small,21.0,9.0\n",
      "Giant Schnauzer,working,26686.0,10.0,large,77.5,25.5\n",
      "Scottish Terrier,terrier,17525.0,10.69,small,20.0,10.0\n",
      "Kerry Blue Terrier,terrier,17240.0,9.4,medium,36.5,18.5\n",
      "Afghan Hound,hound,24077.0,11.92,large,55.0,26.0\n",
      "Newfoundland,working,19351.0,9.32,large,125.0,27.0\n",
      "Rhodesian Ridgeback,hound,16530.0,9.1,large,77.5,25.5\n",
      "Borzoi,hound,16176.0,9.08,large,82.5,28.0\n",
      "Bull Terrier,terrier,18490.0,10.21,medium,60.0,21.5\n",
      "Alaskan Malamute,working,21986.0,10.67,large,80.0,24.0\n",
      "Bloodhound,hound,13824.0,6.75,large,85.0,25.0\n",
      "Bullmastiff,working,13936.0,7.57,large,115.0,25.5\n",
      "Mastiff,working,13581.0,6.5,large,175.0,30.0\n",
      "Saint Bernard,working,20022.0,7.78,large,155.0,26.5\n"
     ]
    }
   ],
   "source": [
    "# The \"cat\" shell command shows you the contents of a file.\n",
    "!cat data/dogs43.csv "
   ]
  },
  {
   "cell_type": "code",
   "execution_count": 25,
   "id": "22473faa",
   "metadata": {
    "deletable": true,
    "editable": true,
    "scrolled": true,
    "slideshow": {
     "slide_type": "slide"
    }
   },
   "outputs": [
    {
     "data": {
      "text/html": [
       "<div>\n",
       "<style scoped>\n",
       "    .dataframe tbody tr th:only-of-type {\n",
       "        vertical-align: middle;\n",
       "    }\n",
       "\n",
       "    .dataframe tbody tr th {\n",
       "        vertical-align: top;\n",
       "    }\n",
       "\n",
       "    .dataframe thead th {\n",
       "        text-align: right;\n",
       "    }\n",
       "</style>\n",
       "<table border=\"1\" class=\"dataframe\">\n",
       "  <thead>\n",
       "    <tr style=\"text-align: right;\">\n",
       "      <th></th>\n",
       "      <th>breed</th>\n",
       "      <th>kind</th>\n",
       "      <th>lifetime_cost</th>\n",
       "      <th>longevity</th>\n",
       "      <th>size</th>\n",
       "      <th>weight</th>\n",
       "      <th>height</th>\n",
       "    </tr>\n",
       "  </thead>\n",
       "  <tbody>\n",
       "    <tr>\n",
       "      <th>0</th>\n",
       "      <td>Brittany</td>\n",
       "      <td>sporting</td>\n",
       "      <td>22589.0</td>\n",
       "      <td>12.92</td>\n",
       "      <td>medium</td>\n",
       "      <td>35.0</td>\n",
       "      <td>19.0</td>\n",
       "    </tr>\n",
       "    <tr>\n",
       "      <th>1</th>\n",
       "      <td>Cairn Terrier</td>\n",
       "      <td>terrier</td>\n",
       "      <td>21992.0</td>\n",
       "      <td>13.84</td>\n",
       "      <td>small</td>\n",
       "      <td>14.0</td>\n",
       "      <td>10.0</td>\n",
       "    </tr>\n",
       "    <tr>\n",
       "      <th>2</th>\n",
       "      <td>English Cocker Spaniel</td>\n",
       "      <td>sporting</td>\n",
       "      <td>18993.0</td>\n",
       "      <td>11.66</td>\n",
       "      <td>medium</td>\n",
       "      <td>30.0</td>\n",
       "      <td>16.0</td>\n",
       "    </tr>\n",
       "    <tr>\n",
       "      <th>...</th>\n",
       "      <td>...</td>\n",
       "      <td>...</td>\n",
       "      <td>...</td>\n",
       "      <td>...</td>\n",
       "      <td>...</td>\n",
       "      <td>...</td>\n",
       "      <td>...</td>\n",
       "    </tr>\n",
       "    <tr>\n",
       "      <th>40</th>\n",
       "      <td>Bullmastiff</td>\n",
       "      <td>working</td>\n",
       "      <td>13936.0</td>\n",
       "      <td>7.57</td>\n",
       "      <td>large</td>\n",
       "      <td>115.0</td>\n",
       "      <td>25.5</td>\n",
       "    </tr>\n",
       "    <tr>\n",
       "      <th>41</th>\n",
       "      <td>Mastiff</td>\n",
       "      <td>working</td>\n",
       "      <td>13581.0</td>\n",
       "      <td>6.50</td>\n",
       "      <td>large</td>\n",
       "      <td>175.0</td>\n",
       "      <td>30.0</td>\n",
       "    </tr>\n",
       "    <tr>\n",
       "      <th>42</th>\n",
       "      <td>Saint Bernard</td>\n",
       "      <td>working</td>\n",
       "      <td>20022.0</td>\n",
       "      <td>7.78</td>\n",
       "      <td>large</td>\n",
       "      <td>155.0</td>\n",
       "      <td>26.5</td>\n",
       "    </tr>\n",
       "  </tbody>\n",
       "</table>\n",
       "<p>43 rows × 7 columns</p>\n",
       "</div>"
      ],
      "text/plain": [
       "                     breed      kind  lifetime_cost  longevity    size  \\\n",
       "0                 Brittany  sporting        22589.0      12.92  medium   \n",
       "1            Cairn Terrier   terrier        21992.0      13.84   small   \n",
       "2   English Cocker Spaniel  sporting        18993.0      11.66  medium   \n",
       "..                     ...       ...            ...        ...     ...   \n",
       "40             Bullmastiff   working        13936.0       7.57   large   \n",
       "41                 Mastiff   working        13581.0       6.50   large   \n",
       "42           Saint Bernard   working        20022.0       7.78   large   \n",
       "\n",
       "    weight  height  \n",
       "0     35.0    19.0  \n",
       "1     14.0    10.0  \n",
       "2     30.0    16.0  \n",
       "..     ...     ...  \n",
       "40   115.0    25.5  \n",
       "41   175.0    30.0  \n",
       "42   155.0    26.5  \n",
       "\n",
       "[43 rows x 7 columns]"
      ]
     },
     "execution_count": 25,
     "metadata": {},
     "output_type": "execute_result"
    }
   ],
   "source": [
    "dogs = pd.read_csv('data/dogs43.csv') \n",
    "dogs"
   ]
  },
  {
   "cell_type": "markdown",
   "id": "5c7bdd4c",
   "metadata": {
    "deletable": true,
    "editable": true,
    "slideshow": {
     "slide_type": "slide"
    }
   },
   "source": [
    "### Exploring our first DataFrame"
   ]
  },
  {
   "cell_type": "markdown",
   "id": "40589aa9",
   "metadata": {
    "deletable": true,
    "editable": true,
    "slideshow": {
     "slide_type": "fragment"
    }
   },
   "source": [
    "- To extract the first or last few rows of a DataFrame, use the `head` or `tail` methods.<br><small>Like most DataFrame methods, `head` and `tail` **don't** modify the original DataFrame!</small>"
   ]
  },
  {
   "cell_type": "code",
   "execution_count": 26,
   "id": "d270e7cb",
   "metadata": {
    "deletable": true,
    "editable": true
   },
   "outputs": [
    {
     "data": {
      "text/html": [
       "<div>\n",
       "<style scoped>\n",
       "    .dataframe tbody tr th:only-of-type {\n",
       "        vertical-align: middle;\n",
       "    }\n",
       "\n",
       "    .dataframe tbody tr th {\n",
       "        vertical-align: top;\n",
       "    }\n",
       "\n",
       "    .dataframe thead th {\n",
       "        text-align: right;\n",
       "    }\n",
       "</style>\n",
       "<table border=\"1\" class=\"dataframe\">\n",
       "  <thead>\n",
       "    <tr style=\"text-align: right;\">\n",
       "      <th></th>\n",
       "      <th>breed</th>\n",
       "      <th>kind</th>\n",
       "      <th>lifetime_cost</th>\n",
       "      <th>longevity</th>\n",
       "      <th>size</th>\n",
       "      <th>weight</th>\n",
       "      <th>height</th>\n",
       "    </tr>\n",
       "  </thead>\n",
       "  <tbody>\n",
       "    <tr>\n",
       "      <th>0</th>\n",
       "      <td>Brittany</td>\n",
       "      <td>sporting</td>\n",
       "      <td>22589.0</td>\n",
       "      <td>12.92</td>\n",
       "      <td>medium</td>\n",
       "      <td>35.0</td>\n",
       "      <td>19.0</td>\n",
       "    </tr>\n",
       "    <tr>\n",
       "      <th>1</th>\n",
       "      <td>Cairn Terrier</td>\n",
       "      <td>terrier</td>\n",
       "      <td>21992.0</td>\n",
       "      <td>13.84</td>\n",
       "      <td>small</td>\n",
       "      <td>14.0</td>\n",
       "      <td>10.0</td>\n",
       "    </tr>\n",
       "    <tr>\n",
       "      <th>2</th>\n",
       "      <td>English Cocker Spaniel</td>\n",
       "      <td>sporting</td>\n",
       "      <td>18993.0</td>\n",
       "      <td>11.66</td>\n",
       "      <td>medium</td>\n",
       "      <td>30.0</td>\n",
       "      <td>16.0</td>\n",
       "    </tr>\n",
       "  </tbody>\n",
       "</table>\n",
       "</div>"
      ],
      "text/plain": [
       "                    breed      kind  lifetime_cost  longevity    size  weight  \\\n",
       "0                Brittany  sporting        22589.0      12.92  medium    35.0   \n",
       "1           Cairn Terrier   terrier        21992.0      13.84   small    14.0   \n",
       "2  English Cocker Spaniel  sporting        18993.0      11.66  medium    30.0   \n",
       "\n",
       "   height  \n",
       "0    19.0  \n",
       "1    10.0  \n",
       "2    16.0  "
      ]
     },
     "execution_count": 26,
     "metadata": {},
     "output_type": "execute_result"
    }
   ],
   "source": [
    "dogs.head(3) "
   ]
  },
  {
   "cell_type": "code",
   "execution_count": 27,
   "id": "c16ed120",
   "metadata": {
    "deletable": true,
    "editable": true
   },
   "outputs": [
    {
     "data": {
      "text/html": [
       "<div>\n",
       "<style scoped>\n",
       "    .dataframe tbody tr th:only-of-type {\n",
       "        vertical-align: middle;\n",
       "    }\n",
       "\n",
       "    .dataframe tbody tr th {\n",
       "        vertical-align: top;\n",
       "    }\n",
       "\n",
       "    .dataframe thead th {\n",
       "        text-align: right;\n",
       "    }\n",
       "</style>\n",
       "<table border=\"1\" class=\"dataframe\">\n",
       "  <thead>\n",
       "    <tr style=\"text-align: right;\">\n",
       "      <th></th>\n",
       "      <th>breed</th>\n",
       "      <th>kind</th>\n",
       "      <th>lifetime_cost</th>\n",
       "      <th>longevity</th>\n",
       "      <th>size</th>\n",
       "      <th>weight</th>\n",
       "      <th>height</th>\n",
       "    </tr>\n",
       "  </thead>\n",
       "  <tbody>\n",
       "    <tr>\n",
       "      <th>41</th>\n",
       "      <td>Mastiff</td>\n",
       "      <td>working</td>\n",
       "      <td>13581.0</td>\n",
       "      <td>6.50</td>\n",
       "      <td>large</td>\n",
       "      <td>175.0</td>\n",
       "      <td>30.0</td>\n",
       "    </tr>\n",
       "    <tr>\n",
       "      <th>42</th>\n",
       "      <td>Saint Bernard</td>\n",
       "      <td>working</td>\n",
       "      <td>20022.0</td>\n",
       "      <td>7.78</td>\n",
       "      <td>large</td>\n",
       "      <td>155.0</td>\n",
       "      <td>26.5</td>\n",
       "    </tr>\n",
       "  </tbody>\n",
       "</table>\n",
       "</div>"
      ],
      "text/plain": [
       "            breed     kind  lifetime_cost  longevity   size  weight  height\n",
       "41        Mastiff  working        13581.0       6.50  large   175.0    30.0\n",
       "42  Saint Bernard  working        20022.0       7.78  large   155.0    26.5"
      ]
     },
     "execution_count": 27,
     "metadata": {},
     "output_type": "execute_result"
    }
   ],
   "source": [
    "dogs.tail(2) "
   ]
  },
  {
   "cell_type": "code",
   "execution_count": 28,
   "id": "1090820c",
   "metadata": {
    "deletable": true,
    "editable": true
   },
   "outputs": [
    {
     "data": {
      "text/html": [
       "<div>\n",
       "<style scoped>\n",
       "    .dataframe tbody tr th:only-of-type {\n",
       "        vertical-align: middle;\n",
       "    }\n",
       "\n",
       "    .dataframe tbody tr th {\n",
       "        vertical-align: top;\n",
       "    }\n",
       "\n",
       "    .dataframe thead th {\n",
       "        text-align: right;\n",
       "    }\n",
       "</style>\n",
       "<table border=\"1\" class=\"dataframe\">\n",
       "  <thead>\n",
       "    <tr style=\"text-align: right;\">\n",
       "      <th></th>\n",
       "      <th>breed</th>\n",
       "      <th>kind</th>\n",
       "      <th>lifetime_cost</th>\n",
       "      <th>longevity</th>\n",
       "      <th>size</th>\n",
       "      <th>weight</th>\n",
       "      <th>height</th>\n",
       "    </tr>\n",
       "  </thead>\n",
       "  <tbody>\n",
       "    <tr>\n",
       "      <th>0</th>\n",
       "      <td>Brittany</td>\n",
       "      <td>sporting</td>\n",
       "      <td>22589.0</td>\n",
       "      <td>12.92</td>\n",
       "      <td>medium</td>\n",
       "      <td>35.0</td>\n",
       "      <td>19.0</td>\n",
       "    </tr>\n",
       "    <tr>\n",
       "      <th>1</th>\n",
       "      <td>Cairn Terrier</td>\n",
       "      <td>terrier</td>\n",
       "      <td>21992.0</td>\n",
       "      <td>13.84</td>\n",
       "      <td>small</td>\n",
       "      <td>14.0</td>\n",
       "      <td>10.0</td>\n",
       "    </tr>\n",
       "    <tr>\n",
       "      <th>2</th>\n",
       "      <td>English Cocker Spaniel</td>\n",
       "      <td>sporting</td>\n",
       "      <td>18993.0</td>\n",
       "      <td>11.66</td>\n",
       "      <td>medium</td>\n",
       "      <td>30.0</td>\n",
       "      <td>16.0</td>\n",
       "    </tr>\n",
       "    <tr>\n",
       "      <th>...</th>\n",
       "      <td>...</td>\n",
       "      <td>...</td>\n",
       "      <td>...</td>\n",
       "      <td>...</td>\n",
       "      <td>...</td>\n",
       "      <td>...</td>\n",
       "      <td>...</td>\n",
       "    </tr>\n",
       "    <tr>\n",
       "      <th>40</th>\n",
       "      <td>Bullmastiff</td>\n",
       "      <td>working</td>\n",
       "      <td>13936.0</td>\n",
       "      <td>7.57</td>\n",
       "      <td>large</td>\n",
       "      <td>115.0</td>\n",
       "      <td>25.5</td>\n",
       "    </tr>\n",
       "    <tr>\n",
       "      <th>41</th>\n",
       "      <td>Mastiff</td>\n",
       "      <td>working</td>\n",
       "      <td>13581.0</td>\n",
       "      <td>6.50</td>\n",
       "      <td>large</td>\n",
       "      <td>175.0</td>\n",
       "      <td>30.0</td>\n",
       "    </tr>\n",
       "    <tr>\n",
       "      <th>42</th>\n",
       "      <td>Saint Bernard</td>\n",
       "      <td>working</td>\n",
       "      <td>20022.0</td>\n",
       "      <td>7.78</td>\n",
       "      <td>large</td>\n",
       "      <td>155.0</td>\n",
       "      <td>26.5</td>\n",
       "    </tr>\n",
       "  </tbody>\n",
       "</table>\n",
       "<p>43 rows × 7 columns</p>\n",
       "</div>"
      ],
      "text/plain": [
       "                     breed      kind  lifetime_cost  longevity    size  \\\n",
       "0                 Brittany  sporting        22589.0      12.92  medium   \n",
       "1            Cairn Terrier   terrier        21992.0      13.84   small   \n",
       "2   English Cocker Spaniel  sporting        18993.0      11.66  medium   \n",
       "..                     ...       ...            ...        ...     ...   \n",
       "40             Bullmastiff   working        13936.0       7.57   large   \n",
       "41                 Mastiff   working        13581.0       6.50   large   \n",
       "42           Saint Bernard   working        20022.0       7.78   large   \n",
       "\n",
       "    weight  height  \n",
       "0     35.0    19.0  \n",
       "1     14.0    10.0  \n",
       "2     30.0    16.0  \n",
       "..     ...     ...  \n",
       "40   115.0    25.5  \n",
       "41   175.0    30.0  \n",
       "42   155.0    26.5  \n",
       "\n",
       "[43 rows x 7 columns]"
      ]
     },
     "execution_count": 28,
     "metadata": {},
     "output_type": "execute_result"
    }
   ],
   "source": [
    "dogs"
   ]
  },
  {
   "cell_type": "markdown",
   "id": "b4be6798",
   "metadata": {
    "deletable": true,
    "editable": true,
    "slideshow": {
     "slide_type": "fragment"
    },
    "tags": []
   },
   "source": [
    "- The `shape` attribute returns the DataFrame's number of rows and columns.<br><small>Sure, we can _see 👀_ that it says 43 rows x 7 columns above, but the `shape` attribute allows us to write code involving the number of rows/columns.</small>"
   ]
  },
  {
   "cell_type": "code",
   "execution_count": 29,
   "id": "55a7c521",
   "metadata": {
    "deletable": true,
    "editable": true
   },
   "outputs": [
    {
     "data": {
      "text/plain": [
       "(43, 7)"
      ]
     },
     "execution_count": 29,
     "metadata": {},
     "output_type": "execute_result"
    }
   ],
   "source": [
    "# Note that the index – 0, 1, 2, ... – does **not** count as a column!\n",
    "dogs.shape "
   ]
  },
  {
   "cell_type": "markdown",
   "id": "6d1f2b77",
   "metadata": {
    "deletable": true,
    "editable": true,
    "slideshow": {
     "slide_type": "slide"
    }
   },
   "source": [
    "### Sorting"
   ]
  },
  {
   "cell_type": "markdown",
   "id": "51429951",
   "metadata": {
    "deletable": true,
    "editable": true,
    "slideshow": {
     "slide_type": "fragment"
    },
    "tags": []
   },
   "source": [
    "- To sort by a column, use the `sort_values` method.<br><small>`ascending=False` is a **keyword argument**, meaning you need to specify the name of the argument to use it. You've seen some examples of this in the `plotly` part of Homework 1.</small> "
   ]
  },
  {
   "cell_type": "code",
   "execution_count": 30,
   "id": "0bff84a5",
   "metadata": {
    "deletable": true,
    "editable": true,
    "slideshow": {
     "slide_type": ""
    },
    "tags": []
   },
   "outputs": [
    {
     "data": {
      "text/html": [
       "<div>\n",
       "<style scoped>\n",
       "    .dataframe tbody tr th:only-of-type {\n",
       "        vertical-align: middle;\n",
       "    }\n",
       "\n",
       "    .dataframe tbody tr th {\n",
       "        vertical-align: top;\n",
       "    }\n",
       "\n",
       "    .dataframe thead th {\n",
       "        text-align: right;\n",
       "    }\n",
       "</style>\n",
       "<table border=\"1\" class=\"dataframe\">\n",
       "  <thead>\n",
       "    <tr style=\"text-align: right;\">\n",
       "      <th></th>\n",
       "      <th>breed</th>\n",
       "      <th>kind</th>\n",
       "      <th>lifetime_cost</th>\n",
       "      <th>longevity</th>\n",
       "      <th>size</th>\n",
       "      <th>weight</th>\n",
       "      <th>height</th>\n",
       "    </tr>\n",
       "  </thead>\n",
       "  <tbody>\n",
       "    <tr>\n",
       "      <th>41</th>\n",
       "      <td>Mastiff</td>\n",
       "      <td>working</td>\n",
       "      <td>13581.0</td>\n",
       "      <td>6.50</td>\n",
       "      <td>large</td>\n",
       "      <td>175.0</td>\n",
       "      <td>30.0</td>\n",
       "    </tr>\n",
       "    <tr>\n",
       "      <th>36</th>\n",
       "      <td>Borzoi</td>\n",
       "      <td>hound</td>\n",
       "      <td>16176.0</td>\n",
       "      <td>9.08</td>\n",
       "      <td>large</td>\n",
       "      <td>82.5</td>\n",
       "      <td>28.0</td>\n",
       "    </tr>\n",
       "    <tr>\n",
       "      <th>34</th>\n",
       "      <td>Newfoundland</td>\n",
       "      <td>working</td>\n",
       "      <td>19351.0</td>\n",
       "      <td>9.32</td>\n",
       "      <td>large</td>\n",
       "      <td>125.0</td>\n",
       "      <td>27.0</td>\n",
       "    </tr>\n",
       "    <tr>\n",
       "      <th>...</th>\n",
       "      <td>...</td>\n",
       "      <td>...</td>\n",
       "      <td>...</td>\n",
       "      <td>...</td>\n",
       "      <td>...</td>\n",
       "      <td>...</td>\n",
       "      <td>...</td>\n",
       "    </tr>\n",
       "    <tr>\n",
       "      <th>29</th>\n",
       "      <td>Dandie Dinmont Terrier</td>\n",
       "      <td>terrier</td>\n",
       "      <td>21633.0</td>\n",
       "      <td>12.17</td>\n",
       "      <td>small</td>\n",
       "      <td>21.0</td>\n",
       "      <td>9.0</td>\n",
       "    </tr>\n",
       "    <tr>\n",
       "      <th>14</th>\n",
       "      <td>Maltese</td>\n",
       "      <td>toy</td>\n",
       "      <td>19084.0</td>\n",
       "      <td>12.25</td>\n",
       "      <td>small</td>\n",
       "      <td>5.0</td>\n",
       "      <td>9.0</td>\n",
       "    </tr>\n",
       "    <tr>\n",
       "      <th>8</th>\n",
       "      <td>Chihuahua</td>\n",
       "      <td>toy</td>\n",
       "      <td>26250.0</td>\n",
       "      <td>16.50</td>\n",
       "      <td>small</td>\n",
       "      <td>5.5</td>\n",
       "      <td>5.0</td>\n",
       "    </tr>\n",
       "  </tbody>\n",
       "</table>\n",
       "<p>43 rows × 7 columns</p>\n",
       "</div>"
      ],
      "text/plain": [
       "                     breed     kind  lifetime_cost  longevity   size  weight  \\\n",
       "41                 Mastiff  working        13581.0       6.50  large   175.0   \n",
       "36                  Borzoi    hound        16176.0       9.08  large    82.5   \n",
       "34            Newfoundland  working        19351.0       9.32  large   125.0   \n",
       "..                     ...      ...            ...        ...    ...     ...   \n",
       "29  Dandie Dinmont Terrier  terrier        21633.0      12.17  small    21.0   \n",
       "14                 Maltese      toy        19084.0      12.25  small     5.0   \n",
       "8                Chihuahua      toy        26250.0      16.50  small     5.5   \n",
       "\n",
       "    height  \n",
       "41    30.0  \n",
       "36    28.0  \n",
       "34    27.0  \n",
       "..     ...  \n",
       "29     9.0  \n",
       "14     9.0  \n",
       "8      5.0  \n",
       "\n",
       "[43 rows x 7 columns]"
      ]
     },
     "execution_count": 30,
     "metadata": {},
     "output_type": "execute_result"
    }
   ],
   "source": [
    "# Note that the index is no longer 0, 1, 2, ...!\n",
    "dogs.sort_values('height', ascending=False) "
   ]
  },
  {
   "cell_type": "markdown",
   "id": "17fcdf69",
   "metadata": {
    "deletable": true,
    "editable": true,
    "slideshow": {
     "slide_type": "fragment"
    }
   },
   "source": [
    "- We can also sort by multiple columns!<br><small>This sorts by `'height'`, then breaks ties by `'longevity'`. Note the difference in the last three rows between this DataFrame and the one above.</small>"
   ]
  },
  {
   "cell_type": "code",
   "execution_count": 31,
   "id": "b7c54d7f",
   "metadata": {
    "deletable": true,
    "editable": true
   },
   "outputs": [
    {
     "data": {
      "text/html": [
       "<div>\n",
       "<style scoped>\n",
       "    .dataframe tbody tr th:only-of-type {\n",
       "        vertical-align: middle;\n",
       "    }\n",
       "\n",
       "    .dataframe tbody tr th {\n",
       "        vertical-align: top;\n",
       "    }\n",
       "\n",
       "    .dataframe thead th {\n",
       "        text-align: right;\n",
       "    }\n",
       "</style>\n",
       "<table border=\"1\" class=\"dataframe\">\n",
       "  <thead>\n",
       "    <tr style=\"text-align: right;\">\n",
       "      <th></th>\n",
       "      <th>breed</th>\n",
       "      <th>kind</th>\n",
       "      <th>lifetime_cost</th>\n",
       "      <th>longevity</th>\n",
       "      <th>size</th>\n",
       "      <th>weight</th>\n",
       "      <th>height</th>\n",
       "    </tr>\n",
       "  </thead>\n",
       "  <tbody>\n",
       "    <tr>\n",
       "      <th>41</th>\n",
       "      <td>Mastiff</td>\n",
       "      <td>working</td>\n",
       "      <td>13581.0</td>\n",
       "      <td>6.50</td>\n",
       "      <td>large</td>\n",
       "      <td>175.0</td>\n",
       "      <td>30.0</td>\n",
       "    </tr>\n",
       "    <tr>\n",
       "      <th>36</th>\n",
       "      <td>Borzoi</td>\n",
       "      <td>hound</td>\n",
       "      <td>16176.0</td>\n",
       "      <td>9.08</td>\n",
       "      <td>large</td>\n",
       "      <td>82.5</td>\n",
       "      <td>28.0</td>\n",
       "    </tr>\n",
       "    <tr>\n",
       "      <th>34</th>\n",
       "      <td>Newfoundland</td>\n",
       "      <td>working</td>\n",
       "      <td>19351.0</td>\n",
       "      <td>9.32</td>\n",
       "      <td>large</td>\n",
       "      <td>125.0</td>\n",
       "      <td>27.0</td>\n",
       "    </tr>\n",
       "    <tr>\n",
       "      <th>...</th>\n",
       "      <td>...</td>\n",
       "      <td>...</td>\n",
       "      <td>...</td>\n",
       "      <td>...</td>\n",
       "      <td>...</td>\n",
       "      <td>...</td>\n",
       "      <td>...</td>\n",
       "    </tr>\n",
       "    <tr>\n",
       "      <th>14</th>\n",
       "      <td>Maltese</td>\n",
       "      <td>toy</td>\n",
       "      <td>19084.0</td>\n",
       "      <td>12.25</td>\n",
       "      <td>small</td>\n",
       "      <td>5.0</td>\n",
       "      <td>9.0</td>\n",
       "    </tr>\n",
       "    <tr>\n",
       "      <th>29</th>\n",
       "      <td>Dandie Dinmont Terrier</td>\n",
       "      <td>terrier</td>\n",
       "      <td>21633.0</td>\n",
       "      <td>12.17</td>\n",
       "      <td>small</td>\n",
       "      <td>21.0</td>\n",
       "      <td>9.0</td>\n",
       "    </tr>\n",
       "    <tr>\n",
       "      <th>8</th>\n",
       "      <td>Chihuahua</td>\n",
       "      <td>toy</td>\n",
       "      <td>26250.0</td>\n",
       "      <td>16.50</td>\n",
       "      <td>small</td>\n",
       "      <td>5.5</td>\n",
       "      <td>5.0</td>\n",
       "    </tr>\n",
       "  </tbody>\n",
       "</table>\n",
       "<p>43 rows × 7 columns</p>\n",
       "</div>"
      ],
      "text/plain": [
       "                     breed     kind  lifetime_cost  longevity   size  weight  \\\n",
       "41                 Mastiff  working        13581.0       6.50  large   175.0   \n",
       "36                  Borzoi    hound        16176.0       9.08  large    82.5   \n",
       "34            Newfoundland  working        19351.0       9.32  large   125.0   \n",
       "..                     ...      ...            ...        ...    ...     ...   \n",
       "14                 Maltese      toy        19084.0      12.25  small     5.0   \n",
       "29  Dandie Dinmont Terrier  terrier        21633.0      12.17  small    21.0   \n",
       "8                Chihuahua      toy        26250.0      16.50  small     5.5   \n",
       "\n",
       "    height  \n",
       "41    30.0  \n",
       "36    28.0  \n",
       "34    27.0  \n",
       "..     ...  \n",
       "14     9.0  \n",
       "29     9.0  \n",
       "8      5.0  \n",
       "\n",
       "[43 rows x 7 columns]"
      ]
     },
     "execution_count": 31,
     "metadata": {},
     "output_type": "execute_result"
    }
   ],
   "source": [
    "dogs.sort_values(['height', 'longevity'], ascending=False) "
   ]
  },
  {
   "cell_type": "markdown",
   "id": "0a5d59c5",
   "metadata": {
    "deletable": true,
    "editable": true,
    "slideshow": {
     "slide_type": "slide"
    },
    "tags": []
   },
   "source": [
    "### Setting the index"
   ]
  },
  {
   "cell_type": "markdown",
   "id": "eb5b1bbb",
   "metadata": {
    "deletable": true,
    "editable": true,
    "slideshow": {
     "slide_type": "fragment"
    }
   },
   "source": [
    "- Think of each row's index as its **unique identifier** or **name**. The default index when we create a DataFrame using `pd.read_csv` is 0, 1, 2, 3, ...\n",
    "<br><small>Think of the index of a DataFrame like a \"key\" in a dictionary (Python) or map (C++).</small>"
   ]
  },
  {
   "cell_type": "code",
   "execution_count": 32,
   "id": "deec9cc0",
   "metadata": {
    "deletable": true,
    "editable": true
   },
   "outputs": [
    {
     "data": {
      "text/html": [
       "<div>\n",
       "<style scoped>\n",
       "    .dataframe tbody tr th:only-of-type {\n",
       "        vertical-align: middle;\n",
       "    }\n",
       "\n",
       "    .dataframe tbody tr th {\n",
       "        vertical-align: top;\n",
       "    }\n",
       "\n",
       "    .dataframe thead th {\n",
       "        text-align: right;\n",
       "    }\n",
       "</style>\n",
       "<table border=\"1\" class=\"dataframe\">\n",
       "  <thead>\n",
       "    <tr style=\"text-align: right;\">\n",
       "      <th></th>\n",
       "      <th>breed</th>\n",
       "      <th>kind</th>\n",
       "      <th>lifetime_cost</th>\n",
       "      <th>longevity</th>\n",
       "      <th>size</th>\n",
       "      <th>weight</th>\n",
       "      <th>height</th>\n",
       "    </tr>\n",
       "  </thead>\n",
       "  <tbody>\n",
       "    <tr>\n",
       "      <th>0</th>\n",
       "      <td>Brittany</td>\n",
       "      <td>sporting</td>\n",
       "      <td>22589.0</td>\n",
       "      <td>12.92</td>\n",
       "      <td>medium</td>\n",
       "      <td>35.0</td>\n",
       "      <td>19.0</td>\n",
       "    </tr>\n",
       "    <tr>\n",
       "      <th>1</th>\n",
       "      <td>Cairn Terrier</td>\n",
       "      <td>terrier</td>\n",
       "      <td>21992.0</td>\n",
       "      <td>13.84</td>\n",
       "      <td>small</td>\n",
       "      <td>14.0</td>\n",
       "      <td>10.0</td>\n",
       "    </tr>\n",
       "    <tr>\n",
       "      <th>2</th>\n",
       "      <td>English Cocker Spaniel</td>\n",
       "      <td>sporting</td>\n",
       "      <td>18993.0</td>\n",
       "      <td>11.66</td>\n",
       "      <td>medium</td>\n",
       "      <td>30.0</td>\n",
       "      <td>16.0</td>\n",
       "    </tr>\n",
       "    <tr>\n",
       "      <th>...</th>\n",
       "      <td>...</td>\n",
       "      <td>...</td>\n",
       "      <td>...</td>\n",
       "      <td>...</td>\n",
       "      <td>...</td>\n",
       "      <td>...</td>\n",
       "      <td>...</td>\n",
       "    </tr>\n",
       "    <tr>\n",
       "      <th>40</th>\n",
       "      <td>Bullmastiff</td>\n",
       "      <td>working</td>\n",
       "      <td>13936.0</td>\n",
       "      <td>7.57</td>\n",
       "      <td>large</td>\n",
       "      <td>115.0</td>\n",
       "      <td>25.5</td>\n",
       "    </tr>\n",
       "    <tr>\n",
       "      <th>41</th>\n",
       "      <td>Mastiff</td>\n",
       "      <td>working</td>\n",
       "      <td>13581.0</td>\n",
       "      <td>6.50</td>\n",
       "      <td>large</td>\n",
       "      <td>175.0</td>\n",
       "      <td>30.0</td>\n",
       "    </tr>\n",
       "    <tr>\n",
       "      <th>42</th>\n",
       "      <td>Saint Bernard</td>\n",
       "      <td>working</td>\n",
       "      <td>20022.0</td>\n",
       "      <td>7.78</td>\n",
       "      <td>large</td>\n",
       "      <td>155.0</td>\n",
       "      <td>26.5</td>\n",
       "    </tr>\n",
       "  </tbody>\n",
       "</table>\n",
       "<p>43 rows × 7 columns</p>\n",
       "</div>"
      ],
      "text/plain": [
       "                     breed      kind  lifetime_cost  longevity    size  \\\n",
       "0                 Brittany  sporting        22589.0      12.92  medium   \n",
       "1            Cairn Terrier   terrier        21992.0      13.84   small   \n",
       "2   English Cocker Spaniel  sporting        18993.0      11.66  medium   \n",
       "..                     ...       ...            ...        ...     ...   \n",
       "40             Bullmastiff   working        13936.0       7.57   large   \n",
       "41                 Mastiff   working        13581.0       6.50   large   \n",
       "42           Saint Bernard   working        20022.0       7.78   large   \n",
       "\n",
       "    weight  height  \n",
       "0     35.0    19.0  \n",
       "1     14.0    10.0  \n",
       "2     30.0    16.0  \n",
       "..     ...     ...  \n",
       "40   115.0    25.5  \n",
       "41   175.0    30.0  \n",
       "42   155.0    26.5  \n",
       "\n",
       "[43 rows x 7 columns]"
      ]
     },
     "execution_count": 32,
     "metadata": {},
     "output_type": "execute_result"
    }
   ],
   "source": [
    "dogs"
   ]
  },
  {
   "cell_type": "code",
   "execution_count": null,
   "id": "a7af36fd",
   "metadata": {},
   "outputs": [],
   "source": []
  },
  {
   "cell_type": "code",
   "execution_count": 33,
   "id": "f3ef3bb8",
   "metadata": {
    "deletable": true,
    "editable": true
   },
   "outputs": [
    {
     "data": {
      "text/plain": [
       "RangeIndex(start=0, stop=43, step=1)"
      ]
     },
     "execution_count": 33,
     "metadata": {},
     "output_type": "execute_result"
    }
   ],
   "source": [
    "dogs.index"
   ]
  },
  {
   "cell_type": "markdown",
   "id": "41adf2ee",
   "metadata": {
    "deletable": true,
    "editable": true,
    "slideshow": {
     "slide_type": "fragment"
    }
   },
   "source": [
    "- Often, we like to set the index of a DataFrame to a unique identifier if we have one available. We can do so with the `set_index` method.<br><small>We'll see the real benefit of this shortly.</small>"
   ]
  },
  {
   "cell_type": "code",
   "execution_count": 34,
   "id": "f3b44921",
   "metadata": {
    "deletable": true,
    "editable": true
   },
   "outputs": [
    {
     "data": {
      "text/html": [
       "<div>\n",
       "<style scoped>\n",
       "    .dataframe tbody tr th:only-of-type {\n",
       "        vertical-align: middle;\n",
       "    }\n",
       "\n",
       "    .dataframe tbody tr th {\n",
       "        vertical-align: top;\n",
       "    }\n",
       "\n",
       "    .dataframe thead th {\n",
       "        text-align: right;\n",
       "    }\n",
       "</style>\n",
       "<table border=\"1\" class=\"dataframe\">\n",
       "  <thead>\n",
       "    <tr style=\"text-align: right;\">\n",
       "      <th></th>\n",
       "      <th>kind</th>\n",
       "      <th>lifetime_cost</th>\n",
       "      <th>longevity</th>\n",
       "      <th>size</th>\n",
       "      <th>weight</th>\n",
       "      <th>height</th>\n",
       "    </tr>\n",
       "    <tr>\n",
       "      <th>breed</th>\n",
       "      <th></th>\n",
       "      <th></th>\n",
       "      <th></th>\n",
       "      <th></th>\n",
       "      <th></th>\n",
       "      <th></th>\n",
       "    </tr>\n",
       "  </thead>\n",
       "  <tbody>\n",
       "    <tr>\n",
       "      <th>Brittany</th>\n",
       "      <td>sporting</td>\n",
       "      <td>22589.0</td>\n",
       "      <td>12.92</td>\n",
       "      <td>medium</td>\n",
       "      <td>35.0</td>\n",
       "      <td>19.0</td>\n",
       "    </tr>\n",
       "    <tr>\n",
       "      <th>Cairn Terrier</th>\n",
       "      <td>terrier</td>\n",
       "      <td>21992.0</td>\n",
       "      <td>13.84</td>\n",
       "      <td>small</td>\n",
       "      <td>14.0</td>\n",
       "      <td>10.0</td>\n",
       "    </tr>\n",
       "    <tr>\n",
       "      <th>English Cocker Spaniel</th>\n",
       "      <td>sporting</td>\n",
       "      <td>18993.0</td>\n",
       "      <td>11.66</td>\n",
       "      <td>medium</td>\n",
       "      <td>30.0</td>\n",
       "      <td>16.0</td>\n",
       "    </tr>\n",
       "    <tr>\n",
       "      <th>...</th>\n",
       "      <td>...</td>\n",
       "      <td>...</td>\n",
       "      <td>...</td>\n",
       "      <td>...</td>\n",
       "      <td>...</td>\n",
       "      <td>...</td>\n",
       "    </tr>\n",
       "    <tr>\n",
       "      <th>Bullmastiff</th>\n",
       "      <td>working</td>\n",
       "      <td>13936.0</td>\n",
       "      <td>7.57</td>\n",
       "      <td>large</td>\n",
       "      <td>115.0</td>\n",
       "      <td>25.5</td>\n",
       "    </tr>\n",
       "    <tr>\n",
       "      <th>Mastiff</th>\n",
       "      <td>working</td>\n",
       "      <td>13581.0</td>\n",
       "      <td>6.50</td>\n",
       "      <td>large</td>\n",
       "      <td>175.0</td>\n",
       "      <td>30.0</td>\n",
       "    </tr>\n",
       "    <tr>\n",
       "      <th>Saint Bernard</th>\n",
       "      <td>working</td>\n",
       "      <td>20022.0</td>\n",
       "      <td>7.78</td>\n",
       "      <td>large</td>\n",
       "      <td>155.0</td>\n",
       "      <td>26.5</td>\n",
       "    </tr>\n",
       "  </tbody>\n",
       "</table>\n",
       "<p>43 rows × 6 columns</p>\n",
       "</div>"
      ],
      "text/plain": [
       "                            kind  lifetime_cost  longevity    size  weight  \\\n",
       "breed                                                                        \n",
       "Brittany                sporting        22589.0      12.92  medium    35.0   \n",
       "Cairn Terrier            terrier        21992.0      13.84   small    14.0   \n",
       "English Cocker Spaniel  sporting        18993.0      11.66  medium    30.0   \n",
       "...                          ...            ...        ...     ...     ...   \n",
       "Bullmastiff              working        13936.0       7.57   large   115.0   \n",
       "Mastiff                  working        13581.0       6.50   large   175.0   \n",
       "Saint Bernard            working        20022.0       7.78   large   155.0   \n",
       "\n",
       "                        height  \n",
       "breed                           \n",
       "Brittany                  19.0  \n",
       "Cairn Terrier             10.0  \n",
       "English Cocker Spaniel    16.0  \n",
       "...                        ...  \n",
       "Bullmastiff               25.5  \n",
       "Mastiff                   30.0  \n",
       "Saint Bernard             26.5  \n",
       "\n",
       "[43 rows x 6 columns]"
      ]
     },
     "execution_count": 34,
     "metadata": {},
     "output_type": "execute_result"
    }
   ],
   "source": [
    "dogs.set_index('breed') "
   ]
  },
  {
   "cell_type": "code",
   "execution_count": 35,
   "id": "3c8b65c7",
   "metadata": {
    "deletable": true,
    "editable": true
   },
   "outputs": [
    {
     "data": {
      "text/html": [
       "<div>\n",
       "<style scoped>\n",
       "    .dataframe tbody tr th:only-of-type {\n",
       "        vertical-align: middle;\n",
       "    }\n",
       "\n",
       "    .dataframe tbody tr th {\n",
       "        vertical-align: top;\n",
       "    }\n",
       "\n",
       "    .dataframe thead th {\n",
       "        text-align: right;\n",
       "    }\n",
       "</style>\n",
       "<table border=\"1\" class=\"dataframe\">\n",
       "  <thead>\n",
       "    <tr style=\"text-align: right;\">\n",
       "      <th></th>\n",
       "      <th>breed</th>\n",
       "      <th>kind</th>\n",
       "      <th>lifetime_cost</th>\n",
       "      <th>longevity</th>\n",
       "      <th>size</th>\n",
       "      <th>weight</th>\n",
       "      <th>height</th>\n",
       "    </tr>\n",
       "  </thead>\n",
       "  <tbody>\n",
       "    <tr>\n",
       "      <th>0</th>\n",
       "      <td>Brittany</td>\n",
       "      <td>sporting</td>\n",
       "      <td>22589.0</td>\n",
       "      <td>12.92</td>\n",
       "      <td>medium</td>\n",
       "      <td>35.0</td>\n",
       "      <td>19.0</td>\n",
       "    </tr>\n",
       "    <tr>\n",
       "      <th>1</th>\n",
       "      <td>Cairn Terrier</td>\n",
       "      <td>terrier</td>\n",
       "      <td>21992.0</td>\n",
       "      <td>13.84</td>\n",
       "      <td>small</td>\n",
       "      <td>14.0</td>\n",
       "      <td>10.0</td>\n",
       "    </tr>\n",
       "    <tr>\n",
       "      <th>2</th>\n",
       "      <td>English Cocker Spaniel</td>\n",
       "      <td>sporting</td>\n",
       "      <td>18993.0</td>\n",
       "      <td>11.66</td>\n",
       "      <td>medium</td>\n",
       "      <td>30.0</td>\n",
       "      <td>16.0</td>\n",
       "    </tr>\n",
       "    <tr>\n",
       "      <th>...</th>\n",
       "      <td>...</td>\n",
       "      <td>...</td>\n",
       "      <td>...</td>\n",
       "      <td>...</td>\n",
       "      <td>...</td>\n",
       "      <td>...</td>\n",
       "      <td>...</td>\n",
       "    </tr>\n",
       "    <tr>\n",
       "      <th>40</th>\n",
       "      <td>Bullmastiff</td>\n",
       "      <td>working</td>\n",
       "      <td>13936.0</td>\n",
       "      <td>7.57</td>\n",
       "      <td>large</td>\n",
       "      <td>115.0</td>\n",
       "      <td>25.5</td>\n",
       "    </tr>\n",
       "    <tr>\n",
       "      <th>41</th>\n",
       "      <td>Mastiff</td>\n",
       "      <td>working</td>\n",
       "      <td>13581.0</td>\n",
       "      <td>6.50</td>\n",
       "      <td>large</td>\n",
       "      <td>175.0</td>\n",
       "      <td>30.0</td>\n",
       "    </tr>\n",
       "    <tr>\n",
       "      <th>42</th>\n",
       "      <td>Saint Bernard</td>\n",
       "      <td>working</td>\n",
       "      <td>20022.0</td>\n",
       "      <td>7.78</td>\n",
       "      <td>large</td>\n",
       "      <td>155.0</td>\n",
       "      <td>26.5</td>\n",
       "    </tr>\n",
       "  </tbody>\n",
       "</table>\n",
       "<p>43 rows × 7 columns</p>\n",
       "</div>"
      ],
      "text/plain": [
       "                     breed      kind  lifetime_cost  longevity    size  \\\n",
       "0                 Brittany  sporting        22589.0      12.92  medium   \n",
       "1            Cairn Terrier   terrier        21992.0      13.84   small   \n",
       "2   English Cocker Spaniel  sporting        18993.0      11.66  medium   \n",
       "..                     ...       ...            ...        ...     ...   \n",
       "40             Bullmastiff   working        13936.0       7.57   large   \n",
       "41                 Mastiff   working        13581.0       6.50   large   \n",
       "42           Saint Bernard   working        20022.0       7.78   large   \n",
       "\n",
       "    weight  height  \n",
       "0     35.0    19.0  \n",
       "1     14.0    10.0  \n",
       "2     30.0    16.0  \n",
       "..     ...     ...  \n",
       "40   115.0    25.5  \n",
       "41   175.0    30.0  \n",
       "42   155.0    26.5  \n",
       "\n",
       "[43 rows x 7 columns]"
      ]
     },
     "execution_count": 35,
     "metadata": {},
     "output_type": "execute_result"
    }
   ],
   "source": [
    "# The above cell didn't involve an assignment statement, so dogs was unchanged.\n",
    "dogs"
   ]
  },
  {
   "cell_type": "code",
   "execution_count": 36,
   "id": "7ddc01b1",
   "metadata": {
    "deletable": true,
    "editable": true
   },
   "outputs": [
    {
     "data": {
      "text/html": [
       "<div>\n",
       "<style scoped>\n",
       "    .dataframe tbody tr th:only-of-type {\n",
       "        vertical-align: middle;\n",
       "    }\n",
       "\n",
       "    .dataframe tbody tr th {\n",
       "        vertical-align: top;\n",
       "    }\n",
       "\n",
       "    .dataframe thead th {\n",
       "        text-align: right;\n",
       "    }\n",
       "</style>\n",
       "<table border=\"1\" class=\"dataframe\">\n",
       "  <thead>\n",
       "    <tr style=\"text-align: right;\">\n",
       "      <th></th>\n",
       "      <th>kind</th>\n",
       "      <th>lifetime_cost</th>\n",
       "      <th>longevity</th>\n",
       "      <th>size</th>\n",
       "      <th>weight</th>\n",
       "      <th>height</th>\n",
       "    </tr>\n",
       "    <tr>\n",
       "      <th>breed</th>\n",
       "      <th></th>\n",
       "      <th></th>\n",
       "      <th></th>\n",
       "      <th></th>\n",
       "      <th></th>\n",
       "      <th></th>\n",
       "    </tr>\n",
       "  </thead>\n",
       "  <tbody>\n",
       "    <tr>\n",
       "      <th>Brittany</th>\n",
       "      <td>sporting</td>\n",
       "      <td>22589.0</td>\n",
       "      <td>12.92</td>\n",
       "      <td>medium</td>\n",
       "      <td>35.0</td>\n",
       "      <td>19.0</td>\n",
       "    </tr>\n",
       "    <tr>\n",
       "      <th>Cairn Terrier</th>\n",
       "      <td>terrier</td>\n",
       "      <td>21992.0</td>\n",
       "      <td>13.84</td>\n",
       "      <td>small</td>\n",
       "      <td>14.0</td>\n",
       "      <td>10.0</td>\n",
       "    </tr>\n",
       "    <tr>\n",
       "      <th>English Cocker Spaniel</th>\n",
       "      <td>sporting</td>\n",
       "      <td>18993.0</td>\n",
       "      <td>11.66</td>\n",
       "      <td>medium</td>\n",
       "      <td>30.0</td>\n",
       "      <td>16.0</td>\n",
       "    </tr>\n",
       "    <tr>\n",
       "      <th>...</th>\n",
       "      <td>...</td>\n",
       "      <td>...</td>\n",
       "      <td>...</td>\n",
       "      <td>...</td>\n",
       "      <td>...</td>\n",
       "      <td>...</td>\n",
       "    </tr>\n",
       "    <tr>\n",
       "      <th>Bullmastiff</th>\n",
       "      <td>working</td>\n",
       "      <td>13936.0</td>\n",
       "      <td>7.57</td>\n",
       "      <td>large</td>\n",
       "      <td>115.0</td>\n",
       "      <td>25.5</td>\n",
       "    </tr>\n",
       "    <tr>\n",
       "      <th>Mastiff</th>\n",
       "      <td>working</td>\n",
       "      <td>13581.0</td>\n",
       "      <td>6.50</td>\n",
       "      <td>large</td>\n",
       "      <td>175.0</td>\n",
       "      <td>30.0</td>\n",
       "    </tr>\n",
       "    <tr>\n",
       "      <th>Saint Bernard</th>\n",
       "      <td>working</td>\n",
       "      <td>20022.0</td>\n",
       "      <td>7.78</td>\n",
       "      <td>large</td>\n",
       "      <td>155.0</td>\n",
       "      <td>26.5</td>\n",
       "    </tr>\n",
       "  </tbody>\n",
       "</table>\n",
       "<p>43 rows × 6 columns</p>\n",
       "</div>"
      ],
      "text/plain": [
       "                            kind  lifetime_cost  longevity    size  weight  \\\n",
       "breed                                                                        \n",
       "Brittany                sporting        22589.0      12.92  medium    35.0   \n",
       "Cairn Terrier            terrier        21992.0      13.84   small    14.0   \n",
       "English Cocker Spaniel  sporting        18993.0      11.66  medium    30.0   \n",
       "...                          ...            ...        ...     ...     ...   \n",
       "Bullmastiff              working        13936.0       7.57   large   115.0   \n",
       "Mastiff                  working        13581.0       6.50   large   175.0   \n",
       "Saint Bernard            working        20022.0       7.78   large   155.0   \n",
       "\n",
       "                        height  \n",
       "breed                           \n",
       "Brittany                  19.0  \n",
       "Cairn Terrier             10.0  \n",
       "English Cocker Spaniel    16.0  \n",
       "...                        ...  \n",
       "Bullmastiff               25.5  \n",
       "Mastiff                   30.0  \n",
       "Saint Bernard             26.5  \n",
       "\n",
       "[43 rows x 6 columns]"
      ]
     },
     "execution_count": 36,
     "metadata": {},
     "output_type": "execute_result"
    }
   ],
   "source": [
    "# By reassigning dogs, our changes will persist.\n",
    "# Note that we can't run this cell twice! Try it and see what happens.\n",
    "dogs = dogs.set_index('breed')\n",
    "dogs"
   ]
  },
  {
   "cell_type": "code",
   "execution_count": null,
   "id": "2c134b47",
   "metadata": {
    "deletable": true,
    "editable": true,
    "slideshow": {
     "slide_type": ""
    },
    "tags": []
   },
   "outputs": [],
   "source": [
    "# There used to be 7 columns, but now there are only 6!\n",
    "# The index is **not** a column!\n",
    "dogs.shape"
   ]
  },
  {
   "cell_type": "code",
   "execution_count": null,
   "id": "1568db69",
   "metadata": {
    "deletable": true,
    "editable": true
   },
   "outputs": [],
   "source": [
    "dogs.index"
   ]
  },
  {
   "cell_type": "markdown",
   "id": "3a7cdba6",
   "metadata": {
    "deletable": true,
    "editable": true,
    "slideshow": {
     "slide_type": "slide"
    }
   },
   "source": [
    "<div class=\"alert alert-success\">\n",
    "<h3>Activity</h3>\n",
    "    \n",
    "Assign `tallest_breed` to the name, as a **string**, of the tallest breed in the dataset. Answer using `pandas` code, i.e. **don't** look at the dataset and hard-code the answer."
   ]
  },
  {
   "cell_type": "code",
   "execution_count": 46,
   "id": "c9387214",
   "metadata": {
    "deletable": true,
    "editable": true
   },
   "outputs": [
    {
     "data": {
      "text/html": [
       "<div>\n",
       "<style scoped>\n",
       "    .dataframe tbody tr th:only-of-type {\n",
       "        vertical-align: middle;\n",
       "    }\n",
       "\n",
       "    .dataframe tbody tr th {\n",
       "        vertical-align: top;\n",
       "    }\n",
       "\n",
       "    .dataframe thead th {\n",
       "        text-align: right;\n",
       "    }\n",
       "</style>\n",
       "<table border=\"1\" class=\"dataframe\">\n",
       "  <thead>\n",
       "    <tr style=\"text-align: right;\">\n",
       "      <th></th>\n",
       "      <th>kind</th>\n",
       "      <th>lifetime_cost</th>\n",
       "      <th>longevity</th>\n",
       "      <th>size</th>\n",
       "      <th>weight</th>\n",
       "      <th>height</th>\n",
       "    </tr>\n",
       "    <tr>\n",
       "      <th>breed</th>\n",
       "      <th></th>\n",
       "      <th></th>\n",
       "      <th></th>\n",
       "      <th></th>\n",
       "      <th></th>\n",
       "      <th></th>\n",
       "    </tr>\n",
       "  </thead>\n",
       "  <tbody>\n",
       "    <tr>\n",
       "      <th>Mastiff</th>\n",
       "      <td>working</td>\n",
       "      <td>13581.0</td>\n",
       "      <td>6.50</td>\n",
       "      <td>large</td>\n",
       "      <td>175.0</td>\n",
       "      <td>30.0</td>\n",
       "    </tr>\n",
       "    <tr>\n",
       "      <th>Borzoi</th>\n",
       "      <td>hound</td>\n",
       "      <td>16176.0</td>\n",
       "      <td>9.08</td>\n",
       "      <td>large</td>\n",
       "      <td>82.5</td>\n",
       "      <td>28.0</td>\n",
       "    </tr>\n",
       "    <tr>\n",
       "      <th>Newfoundland</th>\n",
       "      <td>working</td>\n",
       "      <td>19351.0</td>\n",
       "      <td>9.32</td>\n",
       "      <td>large</td>\n",
       "      <td>125.0</td>\n",
       "      <td>27.0</td>\n",
       "    </tr>\n",
       "    <tr>\n",
       "      <th>...</th>\n",
       "      <td>...</td>\n",
       "      <td>...</td>\n",
       "      <td>...</td>\n",
       "      <td>...</td>\n",
       "      <td>...</td>\n",
       "      <td>...</td>\n",
       "    </tr>\n",
       "    <tr>\n",
       "      <th>Dandie Dinmont Terrier</th>\n",
       "      <td>terrier</td>\n",
       "      <td>21633.0</td>\n",
       "      <td>12.17</td>\n",
       "      <td>small</td>\n",
       "      <td>21.0</td>\n",
       "      <td>9.0</td>\n",
       "    </tr>\n",
       "    <tr>\n",
       "      <th>Maltese</th>\n",
       "      <td>toy</td>\n",
       "      <td>19084.0</td>\n",
       "      <td>12.25</td>\n",
       "      <td>small</td>\n",
       "      <td>5.0</td>\n",
       "      <td>9.0</td>\n",
       "    </tr>\n",
       "    <tr>\n",
       "      <th>Chihuahua</th>\n",
       "      <td>toy</td>\n",
       "      <td>26250.0</td>\n",
       "      <td>16.50</td>\n",
       "      <td>small</td>\n",
       "      <td>5.5</td>\n",
       "      <td>5.0</td>\n",
       "    </tr>\n",
       "  </tbody>\n",
       "</table>\n",
       "<p>43 rows × 6 columns</p>\n",
       "</div>"
      ],
      "text/plain": [
       "                           kind  lifetime_cost  longevity   size  weight  \\\n",
       "breed                                                                      \n",
       "Mastiff                 working        13581.0       6.50  large   175.0   \n",
       "Borzoi                    hound        16176.0       9.08  large    82.5   \n",
       "Newfoundland            working        19351.0       9.32  large   125.0   \n",
       "...                         ...            ...        ...    ...     ...   \n",
       "Dandie Dinmont Terrier  terrier        21633.0      12.17  small    21.0   \n",
       "Maltese                     toy        19084.0      12.25  small     5.0   \n",
       "Chihuahua                   toy        26250.0      16.50  small     5.5   \n",
       "\n",
       "                        height  \n",
       "breed                           \n",
       "Mastiff                   30.0  \n",
       "Borzoi                    28.0  \n",
       "Newfoundland              27.0  \n",
       "...                        ...  \n",
       "Dandie Dinmont Terrier     9.0  \n",
       "Maltese                    9.0  \n",
       "Chihuahua                  5.0  \n",
       "\n",
       "[43 rows x 6 columns]"
      ]
     },
     "execution_count": 46,
     "metadata": {},
     "output_type": "execute_result"
    }
   ],
   "source": [
    "tallest_breed = dogs.sort_values('height', ascending=False)\n",
    "tallest_breed"
   ]
  },
  {
   "cell_type": "code",
   "execution_count": null,
   "id": "4f2d324f",
   "metadata": {
    "deletable": true,
    "editable": true
   },
   "outputs": [],
   "source": []
  },
  {
   "cell_type": "code",
   "execution_count": null,
   "id": "5e535939",
   "metadata": {},
   "outputs": [],
   "source": []
  },
  {
   "cell_type": "code",
   "execution_count": null,
   "id": "f415df2d",
   "metadata": {
    "deletable": true,
    "editable": true
   },
   "outputs": [],
   "source": []
  },
  {
   "cell_type": "markdown",
   "id": "d8b40f9e",
   "metadata": {
    "deletable": true,
    "editable": true,
    "slideshow": {
     "slide_type": "slide"
    }
   },
   "source": [
    "<div class=\"alert alert-warning\">\n",
    "    <h3>Question 🤔 (Answer at <a style=\"text-decoration: none; color: #0066cc\" href=\"https://docs.google.com/forms/d/e/1FAIpQLSd4oliiZYeNh76jWy-arfEtoAkCrVSsobZxPwxifWggo3EO0Q/viewform\">practicaldsc.org/q</a>)</h3>\n",
    "    \n",
    "What are your thoughts on the activities in lecture?\n",
    "    \n",
    "- A. I really hate them, get rid of them and spend more time lecturing.\n",
    "- B. I don't mind them.\n",
    "- C. I'm neutral – I wouldn't be sad to see them go, but don't mind if they're there.\n",
    "- D. I like them.\n",
    "- E. I really love them, do more!"
   ]
  },
  {
   "cell_type": "markdown",
   "id": "814c16b7",
   "metadata": {
    "deletable": true,
    "editable": true,
    "slideshow": {
     "slide_type": "slide"
    }
   },
   "source": [
    "### 💡 Pro-Tip: Displaying more rows/columns\n",
    "\n",
    "Sometimes, you just want `pandas` to display a lot of rows and columns. You can use this helper function to do that."
   ]
  },
  {
   "cell_type": "code",
   "execution_count": null,
   "id": "d1c32fe3",
   "metadata": {
    "deletable": true,
    "editable": true
   },
   "outputs": [],
   "source": [
    "from IPython.display import display\n",
    "def display_df(df, rows=pd.options.display.max_rows, cols=pd.options.display.max_columns):\n",
    "    \"\"\"Displays n rows and cols from df.\"\"\"\n",
    "    with pd.option_context(\"display.max_rows\", rows,\n",
    "                           \"display.max_columns\", cols):\n",
    "        display(df)"
   ]
  },
  {
   "cell_type": "code",
   "execution_count": null,
   "id": "1f08f083",
   "metadata": {
    "deletable": true,
    "editable": true
   },
   "outputs": [],
   "source": [
    "display_df(dogs.sort_values('weight', ascending=False), rows=43)"
   ]
  },
  {
   "cell_type": "markdown",
   "id": "4fe01bc6",
   "metadata": {
    "deletable": true,
    "editable": true,
    "slideshow": {
     "slide_type": "slide"
    },
    "tags": []
   },
   "source": [
    "## Selecting columns from a DataFrame\n",
    "\n",
    "In order to answer questions involving our data, we'll need to be able to access the values stored in individual columns.\n",
    "\n",
    "---"
   ]
  },
  {
   "cell_type": "markdown",
   "id": "e4a4f365",
   "metadata": {
    "deletable": true,
    "editable": true,
    "slideshow": {
     "slide_type": "slide"
    },
    "tags": []
   },
   "source": [
    "### Selecting columns with `[]`"
   ]
  },
  {
   "cell_type": "markdown",
   "id": "cf641e93",
   "metadata": {
    "deletable": true,
    "editable": true,
    "slideshow": {
     "slide_type": "fragment"
    }
   },
   "source": [
    "- The most common way to select a subset of the columns in a DataFrame is by using the `[]` operator.\n",
    "<br><small>This is just like when we accessed values in a dictionary based on their key.</small>"
   ]
  },
  {
   "cell_type": "markdown",
   "id": "bb3cbdf6",
   "metadata": {
    "deletable": true,
    "editable": true,
    "slideshow": {
     "slide_type": "fragment"
    }
   },
   "source": [
    "- Specifying a column name returns the column as a Series."
   ]
  },
  {
   "cell_type": "markdown",
   "id": "59149bf1",
   "metadata": {
    "deletable": true,
    "editable": true,
    "slideshow": {
     "slide_type": "fragment"
    }
   },
   "source": [
    "- Specifying a list of column names returns a DataFrame."
   ]
  },
  {
   "cell_type": "code",
   "execution_count": null,
   "id": "4cf558ec",
   "metadata": {
    "deletable": true,
    "editable": true,
    "slideshow": {
     "slide_type": ""
    },
    "tags": []
   },
   "outputs": [],
   "source": [
    "dogs"
   ]
  },
  {
   "cell_type": "code",
   "execution_count": null,
   "id": "c0182acd",
   "metadata": {
    "deletable": true,
    "editable": true,
    "slideshow": {
     "slide_type": ""
    },
    "tags": []
   },
   "outputs": [],
   "source": [
    "# Returns a Series.\n",
    "dogs['kind'] "
   ]
  },
  {
   "cell_type": "code",
   "execution_count": null,
   "id": "0f280a5b",
   "metadata": {
    "deletable": true,
    "editable": true,
    "slideshow": {
     "slide_type": ""
    },
    "tags": []
   },
   "outputs": [],
   "source": [
    "# Returns a DataFrame.\n",
    "dogs[['kind', 'size']] "
   ]
  },
  {
   "cell_type": "code",
   "execution_count": null,
   "id": "d6e19a92",
   "metadata": {
    "deletable": true,
    "editable": true,
    "slideshow": {
     "slide_type": ""
    },
    "tags": []
   },
   "outputs": [],
   "source": [
    "# 🤔\n",
    "dogs[['kind']] "
   ]
  },
  {
   "cell_type": "markdown",
   "id": "f5321508",
   "metadata": {
    "deletable": true,
    "editable": true,
    "slideshow": {
     "slide_type": "fragment"
    }
   },
   "source": [
    "- As an aside: when you get an error message in Python, **the most informative part is usually at the bottom!**<br><small>So, if you're posting about your error on Ed, or debugging with us in office hours, show us the bottom first.</small>"
   ]
  },
  {
   "cell_type": "code",
   "execution_count": null,
   "id": "ab5a8e79",
   "metadata": {
    "deletable": true,
    "editable": true,
    "slideshow": {
     "slide_type": ""
    },
    "tags": [
     "raises-exception"
    ]
   },
   "outputs": [],
   "source": [
    "# Breeds are stored in the index, which is not a column!\n",
    "dogs['breed'] "
   ]
  },
  {
   "cell_type": "code",
   "execution_count": null,
   "id": "3db100ba",
   "metadata": {
    "deletable": true,
    "editable": true,
    "slideshow": {
     "slide_type": ""
    },
    "tags": []
   },
   "outputs": [],
   "source": [
    "dogs.index "
   ]
  },
  {
   "cell_type": "markdown",
   "id": "7972c08f",
   "metadata": {
    "deletable": true,
    "editable": true,
    "slideshow": {
     "slide_type": "slide"
    },
    "tags": []
   },
   "source": [
    "### Useful Series methods"
   ]
  },
  {
   "cell_type": "markdown",
   "id": "e7ad69c7",
   "metadata": {
    "deletable": true,
    "editable": true,
    "slideshow": {
     "slide_type": "fragment"
    }
   },
   "source": [
    "- A Series is like an array, but with an index."
   ]
  },
  {
   "cell_type": "markdown",
   "id": "d06f1f44",
   "metadata": {
    "deletable": true,
    "editable": true,
    "slideshow": {
     "slide_type": "fragment"
    }
   },
   "source": [
    "- There are a variety of useful methods that work on Series. You can see the entire list [here](https://pandas.pydata.org/docs/reference/api/pandas.Series.html). Many methods that work on a Series will also work on DataFrames, as we'll soon see."
   ]
  },
  {
   "cell_type": "code",
   "execution_count": null,
   "id": "515937c1",
   "metadata": {
    "deletable": true,
    "editable": true,
    "slideshow": {
     "slide_type": ""
    },
    "tags": []
   },
   "outputs": [],
   "source": [
    "dogs"
   ]
  },
  {
   "cell_type": "code",
   "execution_count": null,
   "id": "588e1f70",
   "metadata": {
    "deletable": true,
    "editable": true,
    "slideshow": {
     "slide_type": ""
    },
    "tags": []
   },
   "outputs": [],
   "source": [
    "# What are the unique kinds of dogs?\n",
    "dogs['kind'].unique() "
   ]
  },
  {
   "cell_type": "code",
   "execution_count": null,
   "id": "ae046998",
   "metadata": {
    "deletable": true,
    "editable": true
   },
   "outputs": [],
   "source": [
    "# How many unique kinds of dogs are there?\n",
    "dogs['kind'].nunique() "
   ]
  },
  {
   "cell_type": "code",
   "execution_count": null,
   "id": "f1beea8b",
   "metadata": {
    "deletable": true,
    "editable": true,
    "slideshow": {
     "slide_type": ""
    },
    "tags": []
   },
   "outputs": [],
   "source": [
    "# What's the distribution of kinds?\n",
    "# value_counts is super useful – and I love asking exam questions about it!\n",
    "dogs['kind'].value_counts() "
   ]
  },
  {
   "cell_type": "code",
   "execution_count": null,
   "id": "f43ad3f5",
   "metadata": {
    "deletable": true,
    "editable": true,
    "slideshow": {
     "slide_type": ""
    },
    "tags": []
   },
   "outputs": [],
   "source": [
    "# What's the mean of the 'longevity' column?\n",
    "dogs['longevity'].mean() "
   ]
  },
  {
   "cell_type": "code",
   "execution_count": null,
   "id": "24cdf849",
   "metadata": {
    "deletable": true,
    "editable": true,
    "slideshow": {
     "slide_type": ""
    },
    "tags": []
   },
   "outputs": [],
   "source": [
    "# Tell me more about the 'weight' column.\n",
    "dogs['weight'].describe() "
   ]
  },
  {
   "cell_type": "code",
   "execution_count": null,
   "id": "aae15d95",
   "metadata": {
    "deletable": true,
    "editable": true,
    "slideshow": {
     "slide_type": ""
    },
    "tags": []
   },
   "outputs": [],
   "source": [
    "# Sort the 'lifetime_cost' column. Note that here we're using sort_values on a Series, not a DataFrame!\n",
    "dogs['lifetime_cost'].sort_values() "
   ]
  },
  {
   "cell_type": "code",
   "execution_count": null,
   "id": "6388f424",
   "metadata": {
    "deletable": true,
    "editable": true
   },
   "outputs": [],
   "source": [
    "# Gives us the index of the largest value, not the largest value itself.\n",
    "# Note that this makes our Activity from a few slides ago way easier!\n",
    "dogs['height'].idxmax() "
   ]
  },
  {
   "cell_type": "markdown",
   "id": "c254fb90",
   "metadata": {
    "deletable": true,
    "editable": true,
    "slideshow": {
     "slide_type": "slide"
    }
   },
   "source": [
    "<div class=\"alert alert-success\">\n",
    "<h3>Activity</h3>\n",
    "    \n",
    "Complete the implementation of the function `average_heaviest`, which takes in a positive integer `n` and returns the **mean `'lifetime_cost'` of the top `n` heaviest breeds**. Example behavior is given below.\n",
    "    \n",
    "```python\n",
    ">>> average_heaviest(5)\n",
    "16142.8\n",
    "    \n",
    ">>> average_heaviest(1)\n",
    "13581.0\n",
    "\n",
    "```\n",
    "    \n",
    "**We won't have time to try this activity in lecture, but the answer is posted in `lec04-filled.ipynb` and in the \"filled html\" link on the course website.**"
   ]
  },
  {
   "cell_type": "code",
   "execution_count": null,
   "id": "2ed90391",
   "metadata": {
    "deletable": true,
    "editable": true
   },
   "outputs": [],
   "source": [
    "def average_heaviest(n):\n",
    "    return (\n",
    "        dogs\n",
    "        .sort_values('weight', ascending=False)\n",
    "        .head(n)\n",
    "        ['lifetime_cost']\n",
    "        .mean()\n",
    "    )"
   ]
  },
  {
   "cell_type": "code",
   "execution_count": null,
   "id": "ccd7212f",
   "metadata": {
    "deletable": true,
    "editable": true
   },
   "outputs": [],
   "source": [
    "average_heaviest(5) "
   ]
  },
  {
   "cell_type": "code",
   "execution_count": null,
   "id": "e5ec17a1",
   "metadata": {
    "deletable": true,
    "editable": true
   },
   "outputs": [],
   "source": [
    "average_heaviest(1) "
   ]
  },
  {
   "cell_type": "markdown",
   "id": "49b5928b",
   "metadata": {
    "deletable": true,
    "editable": true,
    "slideshow": {
     "slide_type": "slide"
    }
   },
   "source": [
    "### Series support vectorized operations"
   ]
  },
  {
   "cell_type": "markdown",
   "id": "3cde140f",
   "metadata": {
    "deletable": true,
    "editable": true,
    "slideshow": {
     "slide_type": "fragment"
    }
   },
   "source": [
    "- Series operations are vectorized, just like with arrays."
   ]
  },
  {
   "cell_type": "code",
   "execution_count": null,
   "id": "55bf0c0b",
   "metadata": {
    "deletable": true,
    "editable": true,
    "scrolled": true
   },
   "outputs": [],
   "source": [
    "dogs"
   ]
  },
  {
   "cell_type": "markdown",
   "id": "ec98ffbe",
   "metadata": {
    "deletable": true,
    "editable": true,
    "slideshow": {
     "slide_type": "fragment"
    }
   },
   "source": [
    "- Example: If I adopt a puppy next year, when should I expect them to live until?"
   ]
  },
  {
   "cell_type": "code",
   "execution_count": null,
   "id": "f32695c0",
   "metadata": {
    "deletable": true,
    "editable": true
   },
   "outputs": [],
   "source": [
    "2025 + dogs['longevity'] "
   ]
  },
  {
   "cell_type": "markdown",
   "id": "26e2b3d9",
   "metadata": {
    "deletable": true,
    "editable": true,
    "slideshow": {
     "slide_type": "fragment"
    }
   },
   "source": [
    "- Example: What is the average cost per year to maintain each breed?"
   ]
  },
  {
   "cell_type": "code",
   "execution_count": null,
   "id": "a80b827e",
   "metadata": {
    "deletable": true,
    "editable": true
   },
   "outputs": [],
   "source": [
    "dogs['lifetime_cost'] / dogs['longevity'] "
   ]
  },
  {
   "cell_type": "markdown",
   "id": "f18d941a",
   "metadata": {
    "deletable": true,
    "editable": true,
    "slideshow": {
     "slide_type": "fragment"
    }
   },
   "source": [
    "- Example: Which breed is the cheapest to own per year, on average? The most expensive?"
   ]
  },
  {
   "cell_type": "code",
   "execution_count": null,
   "id": "bb20f1b5",
   "metadata": {
    "deletable": true,
    "editable": true
   },
   "outputs": [],
   "source": [
    "(dogs['lifetime_cost'] / dogs['longevity']).sort_values() "
   ]
  },
  {
   "cell_type": "code",
   "execution_count": null,
   "id": "73808398",
   "metadata": {
    "deletable": true,
    "editable": true,
    "scrolled": true
   },
   "outputs": [],
   "source": [
    "(dogs['lifetime_cost'] / dogs['longevity']).idxmax() "
   ]
  },
  {
   "cell_type": "markdown",
   "id": "795ba6ff",
   "metadata": {
    "deletable": true,
    "editable": true,
    "slideshow": {
     "slide_type": "slide"
    }
   },
   "source": [
    "<div class=\"alert alert-success\">\n",
    "<h3>Activity</h3>\n",
    "\n",
    "Assign `bmis` to a **Series** containing the Body Mass Index (BMI) of each breed, using the following formula:    \n",
    "    \n",
    "$$ \\text{BMI} = \\frac{\\text{weight in kg}}{[\\text{height in m}]^2}$$\n",
    "    \n",
    "<br>\n",
    "    \n",
    "Note that in `dogs`, weights are measured in **pounds** and heights are measured in **inches**. Use the following conversion factors:\n",
    "    \n",
    "<center>1 kg = 2.2 pounds<br>1 inch = 2.54 cm = 0.0254 m</center>\n",
    "    \n",
    "Your solution can span multiple lines, and you can define intermediate variables if you need to (we did)."
   ]
  },
  {
   "cell_type": "code",
   "execution_count": null,
   "id": "752b8c67",
   "metadata": {
    "deletable": true,
    "editable": true
   },
   "outputs": [],
   "source": [
    "weight_kg = dogs['weight'] / 2.2\n",
    "height_m = dogs['height'] * 2.54 / 100\n",
    "bmis = weight_kg / (height_m ** 2)\n",
    "bmis"
   ]
  },
  {
   "cell_type": "code",
   "execution_count": null,
   "id": "53b4216a",
   "metadata": {
    "deletable": true,
    "editable": true
   },
   "outputs": [],
   "source": []
  },
  {
   "cell_type": "code",
   "execution_count": null,
   "id": "bef3010c",
   "metadata": {
    "deletable": true,
    "editable": true
   },
   "outputs": [],
   "source": []
  },
  {
   "cell_type": "markdown",
   "id": "012eb897",
   "metadata": {
    "deletable": true,
    "editable": true,
    "slideshow": {
     "slide_type": "slide"
    }
   },
   "source": [
    "### Aside: Visualization"
   ]
  },
  {
   "cell_type": "markdown",
   "id": "35b5d36b",
   "metadata": {
    "deletable": true,
    "editable": true,
    "slideshow": {
     "slide_type": "fragment"
    }
   },
   "source": [
    "- We'll spend more time talking about when to create which types of visualizations in a few lectures."
   ]
  },
  {
   "cell_type": "markdown",
   "id": "ffb5010f",
   "metadata": {
    "deletable": true,
    "editable": true,
    "slideshow": {
     "slide_type": "fragment"
    }
   },
   "source": [
    "- But for now, you can start exploring how the DataFrame `plot` method works!"
   ]
  },
  {
   "cell_type": "code",
   "execution_count": null,
   "id": "954f4b9f",
   "metadata": {
    "deletable": true,
    "editable": true
   },
   "outputs": [],
   "source": [
    "dogs.plot(kind='scatter', x='weight', y='longevity')"
   ]
  },
  {
   "cell_type": "code",
   "execution_count": null,
   "id": "736fa846",
   "metadata": {
    "deletable": true,
    "editable": true
   },
   "outputs": [],
   "source": [
    "# Hover over a point and see what happens!\n",
    "(\n",
    "    dogs\n",
    "    .reset_index()\n",
    "    .plot(kind='scatter', x='weight', y='longevity', color='size', hover_name='breed',\n",
    "          title='Longevity vs. Weight for 43 Dog Breeds')\n",
    ")"
   ]
  },
  {
   "cell_type": "code",
   "execution_count": null,
   "id": "e92fcdae",
   "metadata": {
    "deletable": true,
    "editable": true
   },
   "outputs": [],
   "source": [
    "(\n",
    "    dogs['kind']\n",
    "    .value_counts()\n",
    "    .sort_values()\n",
    "    .plot(kind='barh', title='Distribution of Dog Kinds')\n",
    ")"
   ]
  },
  {
   "cell_type": "markdown",
   "id": "4a2ed4bb",
   "metadata": {
    "deletable": true,
    "editable": true,
    "slideshow": {
     "slide_type": "slide"
    },
    "tags": []
   },
   "source": [
    "## Selecting slices of a DataFrame\n",
    "\n",
    "Now that we know how to access specific columns in a dataset, how do we access specific rows? Or even individual values?\n",
    "\n",
    "---"
   ]
  },
  {
   "cell_type": "markdown",
   "id": "9a11cbf5",
   "metadata": {
    "deletable": true,
    "editable": true,
    "slideshow": {
     "slide_type": "slide"
    },
    "tags": []
   },
   "source": [
    "### Use `loc` to slice rows and columns using labels"
   ]
  },
  {
   "cell_type": "markdown",
   "id": "a0997046",
   "metadata": {
    "deletable": true,
    "editable": true,
    "slideshow": {
     "slide_type": "fragment"
    }
   },
   "source": [
    "- `loc` stands for \"location\"."
   ]
  },
  {
   "cell_type": "markdown",
   "id": "e2e4b6b2",
   "metadata": {
    "deletable": true,
    "editable": true,
    "slideshow": {
     "slide_type": "fragment"
    }
   },
   "source": [
    "- The `loc` indexer works similarly to slicing 2D arrays, but it uses row **labels** and column **labels**, not positions.<br><small>Remember, the \"index\" refers to the row labels.</small>"
   ]
  },
  {
   "cell_type": "code",
   "execution_count": null,
   "id": "7e17a98f",
   "metadata": {
    "deletable": true,
    "editable": true
   },
   "outputs": [],
   "source": [
    "dogs"
   ]
  },
  {
   "cell_type": "code",
   "execution_count": null,
   "id": "8db2dbb0",
   "metadata": {
    "deletable": true,
    "editable": true,
    "slideshow": {
     "slide_type": ""
    },
    "tags": []
   },
   "outputs": [],
   "source": [
    "# The first argument is the row label, i.e. the index value.\n",
    "#        ↓\n",
    "dogs.loc['Pug', 'longevity']\n",
    "#                  ↑\n",
    "# The second argument is the column label."
   ]
  },
  {
   "cell_type": "markdown",
   "id": "46b36436",
   "metadata": {
    "deletable": true,
    "editable": true,
    "slideshow": {
     "slide_type": "fragment"
    }
   },
   "source": [
    "- As an aside, `loc` is **not** a method – it's an indexer."
   ]
  },
  {
   "cell_type": "code",
   "execution_count": null,
   "id": "27fa1cea",
   "metadata": {
    "deletable": true,
    "editable": true
   },
   "outputs": [],
   "source": [
    "type(dogs.loc)"
   ]
  },
  {
   "cell_type": "code",
   "execution_count": null,
   "id": "544da9ef",
   "metadata": {
    "deletable": true,
    "editable": true
   },
   "outputs": [],
   "source": [
    "type(dogs.sort_values)"
   ]
  },
  {
   "cell_type": "markdown",
   "id": "2993a348",
   "metadata": {
    "deletable": true,
    "editable": true,
    "slideshow": {
     "slide_type": "slide"
    },
    "tags": []
   },
   "source": [
    "### `loc` is flexible 🧘\n",
    "\n",
    "You can provide a sequence (list, array, Series) as either argument to `loc`."
   ]
  },
  {
   "cell_type": "code",
   "execution_count": null,
   "id": "7b76b166",
   "metadata": {
    "deletable": true,
    "editable": true
   },
   "outputs": [],
   "source": [
    "dogs"
   ]
  },
  {
   "cell_type": "code",
   "execution_count": null,
   "id": "d127c591",
   "metadata": {
    "deletable": true,
    "editable": true
   },
   "outputs": [],
   "source": [
    "dogs.loc[['Cocker Spaniel', 'Labrador Retriever'], 'size'] "
   ]
  },
  {
   "cell_type": "code",
   "execution_count": null,
   "id": "3f76b833",
   "metadata": {
    "deletable": true,
    "editable": true,
    "slideshow": {
     "slide_type": ""
    },
    "tags": []
   },
   "outputs": [],
   "source": [
    "dogs.loc[['Cocker Spaniel', 'Labrador Retriever'], ['kind', 'size', 'height']] "
   ]
  },
  {
   "cell_type": "code",
   "execution_count": null,
   "id": "b132ac76",
   "metadata": {
    "deletable": true,
    "editable": true
   },
   "outputs": [],
   "source": [
    "# Note that the 'weight' column is included!\n",
    "# loc, per the pandas documentation, is inclusive of both slicer endpoints.\n",
    "dogs.loc[['Cocker Spaniel', 'Labrador Retriever'], 'lifetime_cost': 'weight'] "
   ]
  },
  {
   "cell_type": "code",
   "execution_count": null,
   "id": "b01ec50a",
   "metadata": {
    "deletable": true,
    "editable": true,
    "slideshow": {
     "slide_type": ""
    },
    "tags": []
   },
   "outputs": [],
   "source": [
    "dogs.loc[['Cocker Spaniel', 'Labrador Retriever'], :] "
   ]
  },
  {
   "cell_type": "code",
   "execution_count": null,
   "id": "de5df405",
   "metadata": {
    "deletable": true,
    "editable": true,
    "slideshow": {
     "slide_type": ""
    },
    "tags": []
   },
   "outputs": [],
   "source": [
    "# Shortcut for the line above.\n",
    "dogs.loc[['Cocker Spaniel', 'Labrador Retriever']] "
   ]
  },
  {
   "cell_type": "markdown",
   "id": "1f9f169d",
   "metadata": {
    "deletable": true,
    "editable": true,
    "slideshow": {
     "slide_type": "slide"
    },
    "tags": []
   },
   "source": [
    "### Use `iloc` to slice rows and columns using positions"
   ]
  },
  {
   "cell_type": "markdown",
   "id": "ad7119cd",
   "metadata": {
    "deletable": true,
    "editable": true,
    "slideshow": {
     "slide_type": "fragment"
    }
   },
   "source": [
    "- `iloc` stands for \"integer location.\""
   ]
  },
  {
   "cell_type": "markdown",
   "id": "02f5d3df",
   "metadata": {
    "deletable": true,
    "editable": true,
    "slideshow": {
     "slide_type": "fragment"
    }
   },
   "source": [
    "- `iloc` is like `loc`, but it selects rows and columns based off of integer positions only, just like with 2D arrays."
   ]
  },
  {
   "cell_type": "code",
   "execution_count": null,
   "id": "6ad29a77",
   "metadata": {
    "deletable": true,
    "editable": true,
    "slideshow": {
     "slide_type": ""
    },
    "tags": []
   },
   "outputs": [],
   "source": [
    "dogs"
   ]
  },
  {
   "cell_type": "code",
   "execution_count": null,
   "id": "4ced3210",
   "metadata": {
    "deletable": true,
    "editable": true,
    "slideshow": {
     "slide_type": ""
    },
    "tags": []
   },
   "outputs": [],
   "source": [
    "# Try removing the iloc and see what happens!\n",
    "dogs.iloc[1:15, :-2] "
   ]
  },
  {
   "cell_type": "markdown",
   "id": "4aa21719",
   "metadata": {
    "deletable": true,
    "editable": true,
    "slideshow": {
     "slide_type": "fragment"
    },
    "tags": []
   },
   "source": [
    "- `iloc` is often most useful when we sort first. For instance, to find the weight of the longest-living breed in the dataset:"
   ]
  },
  {
   "cell_type": "code",
   "execution_count": null,
   "id": "9900903e",
   "metadata": {
    "deletable": true,
    "editable": true,
    "slideshow": {
     "slide_type": ""
    },
    "tags": []
   },
   "outputs": [],
   "source": [
    "dogs.sort_values('longevity', ascending=False)['weight'].iloc[0] "
   ]
  },
  {
   "cell_type": "code",
   "execution_count": null,
   "id": "a11fb455",
   "metadata": {
    "deletable": true,
    "editable": true,
    "slideshow": {
     "slide_type": "fragment"
    },
    "tags": []
   },
   "outputs": [],
   "source": [
    "# Finding the breed itself involves sorting, but not iloc, since breeds are stored in the index.\n",
    "dogs.sort_values('longevity', ascending=False).index[0] "
   ]
  },
  {
   "cell_type": "markdown",
   "id": "694b5808",
   "metadata": {
    "deletable": true,
    "editable": true,
    "slideshow": {
     "slide_type": "slide"
    }
   },
   "source": [
    "<div class=\"alert alert-success\">\n",
    "<h3>Activity</h3>\n",
    "    \n",
    "Among just the following four breeds, what is the height of the second tallest breed?\n",
    "    \n",
    "- Cocker Spaniel.\n",
    "- Labrador Retriever.\n",
    "- Irish Setter.\n",
    "- Newfoundland.\n",
    "    \n",
    "Assign your answer to `second_tallest_height` below. Answer using `pandas` code, i.e. **don't** look at the dataset and hard-code the answer.\n",
    "    \n",
    "**We won't have time to try this activity in lecture, but the answer is posted in `lec04-filled.ipynb` and in the \"filled html\" link on the course website.**"
   ]
  },
  {
   "cell_type": "code",
   "execution_count": null,
   "id": "6b49e13f",
   "metadata": {
    "deletable": true,
    "editable": true
   },
   "outputs": [],
   "source": [
    "second_tallest_height = (\n",
    "    dogs\n",
    "    .loc[['Cocker Spaniel', 'Labrador Retriever', 'Newfoundland', 'Irish Setter'], 'height']\n",
    "    .sort_values(ascending=False)\n",
    "    .iloc[1]\n",
    ")"
   ]
  },
  {
   "cell_type": "code",
   "execution_count": null,
   "id": "533d3b20",
   "metadata": {
    "deletable": true,
    "editable": true
   },
   "outputs": [],
   "source": []
  },
  {
   "cell_type": "code",
   "execution_count": null,
   "id": "31725dc9",
   "metadata": {
    "deletable": true,
    "editable": true
   },
   "outputs": [],
   "source": []
  },
  {
   "cell_type": "markdown",
   "id": "849f6dbb",
   "metadata": {
    "deletable": true,
    "editable": true,
    "slideshow": {
     "slide_type": "slide"
    }
   },
   "source": [
    "## Querying\n",
    "\n",
    "Okay, but what if we don't know anything about the position or index of a row we're looking for? How do we find rows that satisfy certain **conditions**?\n",
    "\n",
    "---"
   ]
  },
  {
   "cell_type": "markdown",
   "id": "7e154d4b",
   "metadata": {
    "deletable": true,
    "editable": true,
    "slideshow": {
     "slide_type": "slide"
    }
   },
   "source": [
    "### Reflection"
   ]
  },
  {
   "cell_type": "markdown",
   "id": "efbbcf3a",
   "metadata": {
    "deletable": true,
    "editable": true,
    "slideshow": {
     "slide_type": "fragment"
    }
   },
   "source": [
    "- So far, all of the questions we've been able to answer involved all of the rows in the dataset.\n",
    "<br><small>What's the weight of the longest-living breed? What's the average lifetime cost of all breeds? Which breed is third heaviest?</small>"
   ]
  },
  {
   "cell_type": "markdown",
   "id": "a6a33432",
   "metadata": {
    "deletable": true,
    "editable": true,
    "slideshow": {
     "slide_type": "fragment"
    }
   },
   "source": [
    "- We don't yet have a mechanism to answer questions about a specific subset of the dataset.\n",
    "<br><small>How many terriers are there? What's the average longevity of medium-sized breeds?</small>"
   ]
  },
  {
   "cell_type": "markdown",
   "id": "6ef12947",
   "metadata": {
    "deletable": true,
    "editable": true,
    "slideshow": {
     "slide_type": "slide"
    },
    "tags": []
   },
   "source": [
    "### Querying"
   ]
  },
  {
   "cell_type": "markdown",
   "id": "c79c5963",
   "metadata": {
    "deletable": true,
    "editable": true,
    "slideshow": {
     "slide_type": "fragment"
    }
   },
   "source": [
    "- Querying is the act selecting rows in a DataFrame that satisfy certain condition(s).<br><small>We sometimes call this \"filtering.\"</small>"
   ]
  },
  {
   "cell_type": "markdown",
   "id": "2d0977ac",
   "metadata": {
    "deletable": true,
    "editable": true,
    "slideshow": {
     "slide_type": "fragment"
    }
   },
   "source": [
    "- As we saw in Lecture 3, comparisons with arrays result in Boolean arrays. The same is true for Series – **make a comparison with a Series, and the result is a Boolean Series!**"
   ]
  },
  {
   "cell_type": "markdown",
   "id": "348d453c",
   "metadata": {
    "deletable": true,
    "editable": true,
    "slideshow": {
     "slide_type": "fragment"
    }
   },
   "source": [
    "- We can use comparisons along with the `loc` operator to select specific rows from a DataFrame."
   ]
  },
  {
   "cell_type": "code",
   "execution_count": null,
   "id": "07598499",
   "metadata": {
    "deletable": true,
    "editable": true,
    "slideshow": {
     "slide_type": ""
    },
    "tags": []
   },
   "outputs": [],
   "source": [
    "dogs"
   ]
  },
  {
   "cell_type": "code",
   "execution_count": null,
   "id": "a80ec67c",
   "metadata": {
    "deletable": true,
    "editable": true
   },
   "outputs": [],
   "source": [
    "dogs['kind'] == 'terrier' "
   ]
  },
  {
   "cell_type": "code",
   "execution_count": null,
   "id": "d8de8a33",
   "metadata": {
    "deletable": true,
    "editable": true,
    "slideshow": {
     "slide_type": ""
    },
    "tags": []
   },
   "outputs": [],
   "source": [
    "dogs.loc[dogs['kind'] == 'terrier'] "
   ]
  },
  {
   "cell_type": "code",
   "execution_count": null,
   "id": "4b649a6c",
   "metadata": {
    "deletable": true,
    "editable": true
   },
   "outputs": [],
   "source": [
    "# This gives us the number of terriers in the dataset.\n",
    "dogs.loc[dogs['kind'] == 'terrier'].shape[0] "
   ]
  },
  {
   "cell_type": "code",
   "execution_count": null,
   "id": "3d2122ac",
   "metadata": {
    "deletable": true,
    "editable": true
   },
   "outputs": [],
   "source": [
    "dogs.loc[dogs['weight'] >= 50] "
   ]
  },
  {
   "cell_type": "code",
   "execution_count": null,
   "id": "7759f8f9",
   "metadata": {
    "deletable": true,
    "editable": true,
    "scrolled": true,
    "slideshow": {
     "slide_type": ""
    },
    "tags": []
   },
   "outputs": [],
   "source": [
    "# .str.contains is very useful!\n",
    "dogs.loc[dogs.index.str.contains('Retriever')] "
   ]
  },
  {
   "cell_type": "code",
   "execution_count": null,
   "id": "8173e544",
   "metadata": {
    "deletable": true,
    "editable": true,
    "slideshow": {
     "slide_type": ""
    },
    "tags": []
   },
   "outputs": [],
   "source": [
    "# Because querying is so common, there's a shortcut:\n",
    "dogs[dogs.index.str.contains('Retriever')] "
   ]
  },
  {
   "cell_type": "code",
   "execution_count": null,
   "id": "c88b6c3b",
   "metadata": {
    "deletable": true,
    "editable": true
   },
   "outputs": [],
   "source": [
    "# Empty DataFrame – not an error!\n",
    "dogs.loc[dogs['kind'] == 'beaver'] "
   ]
  },
  {
   "cell_type": "markdown",
   "id": "091d5c91",
   "metadata": {
    "deletable": true,
    "editable": true,
    "slideshow": {
     "slide_type": "slide"
    }
   },
   "source": [
    "<div class=\"alert alert-success\">\n",
    "<h3>Activity</h3>\n",
    "    \n",
    "Assign `second_tallest` to the `'size'` of the second-tallest `'sporting'` breed, as a string. Answer using `pandas` code, i.e. **don't** look at the dataset and hard-code the answer."
   ]
  },
  {
   "cell_type": "code",
   "execution_count": null,
   "id": "3cfe1ca2",
   "metadata": {
    "deletable": true,
    "editable": true
   },
   "outputs": [],
   "source": [
    "second_tallest = (\n",
    "    dogs[dogs['kind'] == 'sporting']\n",
    "    .sort_values('height', ascending=False)\n",
    "    ['size']\n",
    "    .iloc[1]\n",
    ")\n",
    "second_tallest"
   ]
  },
  {
   "cell_type": "code",
   "execution_count": null,
   "id": "ec617f87",
   "metadata": {
    "deletable": true,
    "editable": true
   },
   "outputs": [],
   "source": []
  },
  {
   "cell_type": "code",
   "execution_count": null,
   "id": "4238de7b",
   "metadata": {
    "deletable": true,
    "editable": true
   },
   "outputs": [],
   "source": []
  },
  {
   "cell_type": "markdown",
   "id": "78eecd81",
   "metadata": {
    "deletable": true,
    "editable": true,
    "slideshow": {
     "slide_type": "slide"
    }
   },
   "source": [
    "### Lingering questions"
   ]
  },
  {
   "cell_type": "markdown",
   "id": "d15bf70e",
   "metadata": {
    "deletable": true,
    "editable": true,
    "slideshow": {
     "slide_type": "fragment"
    }
   },
   "source": [
    "- How do we use multiple conditions?<br><small>We actually covered the answer to this in Lecture 3 – try it out yourself!</small>"
   ]
  },
  {
   "cell_type": "markdown",
   "id": "41371bbf",
   "metadata": {
    "deletable": true,
    "editable": true,
    "slideshow": {
     "slide_type": "fragment"
    }
   },
   "source": [
    "- There's a DataFrame `query` method – how does it work, and how is it different from what we've seen here?"
   ]
  },
  {
   "cell_type": "markdown",
   "id": "0f1ec7b1",
   "metadata": {
    "deletable": true,
    "editable": true,
    "slideshow": {
     "slide_type": "fragment"
    }
   },
   "source": [
    "- How do we find the average longevity of every `'kind'` without having to copy-paste a lot of code?"
   ]
  },
  {
   "cell_type": "markdown",
   "id": "11cdf86a",
   "metadata": {
    "deletable": true,
    "editable": true,
    "slideshow": {
     "slide_type": "fragment"
    }
   },
   "source": [
    "- We'll find out on Tuesday!"
   ]
  }
 ],
 "metadata": {
  "celltoolbar": "None",
  "kernelspec": {
   "display_name": "Python 3 (ipykernel)",
   "language": "python",
   "name": "python3"
  },
  "language_info": {
   "codemirror_mode": {
    "name": "ipython",
    "version": 3
   },
   "file_extension": ".py",
   "mimetype": "text/x-python",
   "name": "python",
   "nbconvert_exporter": "python",
   "pygments_lexer": "ipython3",
   "version": "3.10.14"
  },
  "livereveal": {
   "scroll": true
  },
  "rise": {
   "transition": "none"
  }
 },
 "nbformat": 4,
 "nbformat_minor": 5
}
