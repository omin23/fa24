{
 "cells": [
  {
   "cell_type": "code",
   "execution_count": null,
   "id": "d1c94203",
   "metadata": {
    "deletable": true,
    "editable": true,
    "slideshow": {
     "slide_type": "skip"
    },
    "tags": []
   },
   "outputs": [],
   "source": [
    "from lec_utils import *"
   ]
  },
  {
   "cell_type": "markdown",
   "id": "cd995785",
   "metadata": {
    "deletable": true,
    "editable": true,
    "slideshow": {
     "slide_type": "slide"
    },
    "tags": []
   },
   "source": [
    "<div class=\"alert alert-info\" markdown=\"1\">\n",
    "\n",
    "#### Lecture 4\n",
    "\n",
    "# Simulation, DataFrame Fundamentals\n",
    "\n",
    "### EECS 398-003: Practical Data Science, Fall 2024\n",
    "\n",
    "<small><a style=\"text-decoration: none\" href=\"https://practicaldsc.org\">practicaldsc.org</a> • <a style=\"text-decoration: none\" href=\"https://github.com/practicaldsc/fa24\">github.com/practicaldsc/fa24</a></small>\n",
    "    \n",
    "</div>"
   ]
  },
  {
   "cell_type": "markdown",
   "id": "1058dbac",
   "metadata": {
    "deletable": true,
    "editable": true,
    "slideshow": {
     "slide_type": "slide"
    }
   },
   "source": [
    "### Announcements 📣\n",
    "\n",
    "- Homework 1 is due **tonight**, though note that you have 6 slip days to use during the semester, and you can use up to 2 slip days on any homework (see [here](https://practicaldsc.org/syllabus/#late-policy-slip-days-and-drops) for policy details).<br>\n",
    "<small>Post on [Ed](https://edstem.org/us/courses/61012/discussion/) or\n",
    "come to [Office Hours](https://practicaldsc.org/calendar) for help! We're using a queue for office hours now – access it from [practicaldsc.org/calendar](https://practicaldsc.org/calendar).</small>\n",
    "\n",
    "- Homework 2 will be released tomorrow.<br><small>We'll make an Ed announcement anytime an assignment is released.</small>\n",
    "\n",
    "- In discussion tomorrow, we'll cover past exam problems **on paper** related to this week's material.\n",
    "\n",
    "- Check out the [Resources](https://practicaldsc.org/resources) tab on the course website, with links to lots of supplementary resources.<br><small>New link: [EECS 201: Computer Science Pragmatics](https://www.eecs.umich.edu/courses/eecs201/fa2024/schedule). Look here for help with Terminal commands, `git`, etc.</small>"
   ]
  },
  {
   "cell_type": "markdown",
   "id": "74edd572",
   "metadata": {
    "deletable": true,
    "editable": true,
    "slideshow": {
     "slide_type": "slide"
    }
   },
   "source": [
    "### Agenda\n",
    "\n",
    "- Randomness and simulation.\n",
    "- Introduction to `pandas` DataFrames.\n",
    "    - Selecting columns from a DataFrame.\n",
    "    - Selecting rows from a DataFrame.\n",
    "\n",
    "Remember to follow along in lecture by accessing the \"blank\" lecture notebook in our [public GitHub repository](https://github.com/practicaldsc/fa24)."
   ]
  },
  {
   "cell_type": "markdown",
   "id": "d48e84b0",
   "metadata": {
    "deletable": true,
    "editable": true,
    "slideshow": {
     "slide_type": "slide"
    }
   },
   "source": [
    "<div class=\"alert alert-warning\">\n",
    "<h3>Question 🤔 (Answer at <a style=\"text-decoration: none; color: #0066cc\" href=\"https://docs.google.com/forms/d/e/1FAIpQLSd4oliiZYeNh76jWy-arfEtoAkCrVSsobZxPwxifWggo3EO0Q/viewform\">practicaldsc.org/q</a>)</h3>\n",
    "<small>Remember that you can always ask questions anonymously at the link above!</small>\n",
    "    \n",
    "    \n",
    "When is your birthday?\n",
    "        \n",
    "    \n",
    "    \n"
   ]
  },
  {
   "cell_type": "markdown",
   "id": "06debe20",
   "metadata": {
    "deletable": true,
    "editable": true,
    "slideshow": {
     "slide_type": "slide"
    }
   },
   "source": [
    "## Randomness and simulation\n",
    "\n",
    "We'll start by exploring a useful application of `numpy` in the field of probability and statistics: simulation!\n",
    "\n",
    "---"
   ]
  },
  {
   "cell_type": "markdown",
   "id": "a6480e77",
   "metadata": {
    "deletable": true,
    "editable": true,
    "slideshow": {
     "slide_type": "slide"
    }
   },
   "source": [
    "### `np.random`\n",
    "\n",
    "The submodule `np.random` contains various functions that produce **random** results.<br><small>These use [pseudo-random number generators](https://en.wikipedia.org/wiki/Pseudorandom_number_generator) to generate random-seeming sequences of results.</small>"
   ]
  },
  {
   "cell_type": "code",
   "execution_count": null,
   "id": "950c4e88",
   "metadata": {
    "deletable": true,
    "editable": true
   },
   "outputs": [],
   "source": [
    "# Run this cell multiple times!\n",
    "# Returns a random integer between 1 and 6, inclusive.\n",
    "np.random.randint(1, 7) "
   ]
  },
  {
   "cell_type": "code",
   "execution_count": null,
   "id": "a19b9757",
   "metadata": {
    "deletable": true,
    "editable": true
   },
   "outputs": [],
   "source": [
    "# Returns a random real number between 0 and 1.\n",
    "np.random.random() "
   ]
  },
  {
   "cell_type": "code",
   "execution_count": null,
   "id": "5b204b1f",
   "metadata": {
    "deletable": true,
    "editable": true
   },
   "outputs": [],
   "source": [
    "# Returns a randomly selected element from the provided list, 5 times.\n",
    "np.random.choice(['H', 'T'], 5) "
   ]
  },
  {
   "cell_type": "code",
   "execution_count": null,
   "id": "af533b69",
   "metadata": {
    "deletable": true,
    "editable": true
   },
   "outputs": [],
   "source": [
    "# Returns the number of occurrences of each outcome\n",
    "# in 12 trials of an experiment in which\n",
    "# outcome 1 happens 60% of the time and\n",
    "# outcome 2 happens 40% of the time.\n",
    "np.random.multinomial(12, [0.6, 0.4]) "
   ]
  },
  {
   "cell_type": "markdown",
   "id": "42ae1472",
   "metadata": {
    "deletable": true,
    "editable": true,
    "slideshow": {
     "slide_type": "slide"
    }
   },
   "source": [
    "### Simulations"
   ]
  },
  {
   "cell_type": "markdown",
   "id": "7173443c",
   "metadata": {
    "deletable": true,
    "editable": true,
    "slideshow": {
     "slide_type": "fragment"
    }
   },
   "source": [
    "- Often, we'll want to estimate the probability of an event, but it may not be possible – or we may not know how – to calculate the probability exactly.<br><small>e.g., the probability that I see between 40 and 50 heads when I flip a fair coin 100 times.</small>"
   ]
  },
  {
   "cell_type": "markdown",
   "id": "5f5d631d",
   "metadata": {
    "deletable": true,
    "editable": true,
    "slideshow": {
     "slide_type": "fragment"
    }
   },
   "source": [
    "- Or, we may have a theoretical answer, and want to validate it using another approach."
   ]
  },
  {
   "cell_type": "markdown",
   "id": "bfc1f09c",
   "metadata": {
    "deletable": true,
    "editable": true,
    "slideshow": {
     "slide_type": "fragment"
    }
   },
   "source": [
    "- In such cases, we can use the power of simulation. We can:\n",
    "    1. Figure out how to **simulate** one run of the experiment.<br><small>e.g., figure out how to get Python to flip a fair coin 100 times and count the number of heads.</small>\n",
    "    1. Repeat the experiment many, many times.\n",
    "    1. Compute the fraction of experiments in which our event occurs, and use this fraction as an estimate of the probability of our event.\n",
    "    \n",
    "    This is the basis of [Monte Carlo Methods](https://en.wikipedia.org/wiki/Monte_Carlo_method)."
   ]
  },
  {
   "cell_type": "markdown",
   "id": "0ec7a1b6",
   "metadata": {
    "deletable": true,
    "editable": true,
    "slideshow": {
     "slide_type": "fragment"
    }
   },
   "source": [
    "- Theory tells us that **the more repetitions we perform of our experiment, the closer our fraction will be to the true probability of the event**!\n",
    "<br><small>Specifically, the [Law of Large Numbers](https://en.wikipedia.org/wiki/Law_of_large_numbers) tells us this.</small>"
   ]
  },
  {
   "cell_type": "markdown",
   "id": "cb623623",
   "metadata": {
    "deletable": true,
    "editable": true,
    "slideshow": {
     "slide_type": "slide"
    }
   },
   "source": [
    "### Example: Coin flipping"
   ]
  },
  {
   "cell_type": "markdown",
   "id": "5e9a418d",
   "metadata": {
    "deletable": true,
    "editable": true,
    "slideshow": {
     "slide_type": "fragment"
    }
   },
   "source": [
    "- **Question**: What is the probability that I see between 40 and 50 heads, inclusive, when I flip a fair coin 100 times?"
   ]
  },
  {
   "cell_type": "markdown",
   "id": "cc9881ee",
   "metadata": {
    "deletable": true,
    "editable": true,
    "slideshow": {
     "slide_type": "fragment"
    }
   },
   "source": [
    "- **Step 1**: Figure out how to **simulate** one run of the experiment.<br><small>e.g., figure out how to get Python to flip a fair coin 100 times and count the number of heads.</small>"
   ]
  },
  {
   "cell_type": "code",
   "execution_count": null,
   "id": "d943501a",
   "metadata": {
    "deletable": true,
    "editable": true
   },
   "outputs": [],
   "source": [
    "(np.random.choice(['H', 'T'], 100) == 'H').sum() "
   ]
  },
  {
   "cell_type": "code",
   "execution_count": null,
   "id": "6e3fabe5",
   "metadata": {
    "deletable": true,
    "editable": true
   },
   "outputs": [],
   "source": [
    "np.random.multinomial(100, [0.5, 0.5])[0] "
   ]
  },
  {
   "cell_type": "code",
   "execution_count": null,
   "id": "ebdc1e07",
   "metadata": {
    "deletable": true,
    "editable": true
   },
   "outputs": [],
   "source": [
    "def num_heads():\n",
    "    return np.random.multinomial(100, [0.5, 0.5])[0]\n",
    "num_heads()"
   ]
  },
  {
   "cell_type": "markdown",
   "id": "b1175edc",
   "metadata": {
    "deletable": true,
    "editable": true,
    "slideshow": {
     "slide_type": "fragment"
    }
   },
   "source": [
    "- **Step 2**: Repeat the experiment many, many times.<br><small>In other words, run the cell above lots of times and store the results somewhere.</small>"
   ]
  },
  {
   "cell_type": "code",
   "execution_count": null,
   "id": "4064196d",
   "metadata": {
    "deletable": true,
    "editable": true
   },
   "outputs": [],
   "source": [
    "outcomes = np.array([]) \n",
    "for _ in range(10_000):\n",
    "    # Note that with arrays, append is a FUNCTION,\n",
    "    # not a METHOD, and is NOT destructive, \n",
    "    # unlike with lists!\n",
    "    outcomes = np.append(outcomes, num_heads())"
   ]
  },
  {
   "cell_type": "markdown",
   "id": "0a2c54a5",
   "metadata": {
    "deletable": true,
    "editable": true,
    "slideshow": {
     "slide_type": "fragment"
    }
   },
   "source": [
    "- **Step 3**: Compute the fraction of experiments in which our event occurs, and use this fraction as an estimate of the probability of our event."
   ]
  },
  {
   "cell_type": "code",
   "execution_count": null,
   "id": "e1f99626",
   "metadata": {
    "deletable": true,
    "editable": true
   },
   "outputs": [],
   "source": [
    "px.histogram(outcomes)"
   ]
  },
  {
   "cell_type": "code",
   "execution_count": null,
   "id": "5d015a3d",
   "metadata": {
    "deletable": true,
    "editable": true
   },
   "outputs": [],
   "source": [
    "((outcomes >= 40) & (outcomes <= 50)).mean() "
   ]
  },
  {
   "cell_type": "markdown",
   "id": "8a76e08c",
   "metadata": {
    "deletable": true,
    "editable": true,
    "slideshow": {
     "slide_type": "fragment"
    }
   },
   "source": [
    "- This is remarkably close to the true, theoretical answer!"
   ]
  },
  {
   "cell_type": "code",
   "execution_count": null,
   "id": "21908dd4",
   "metadata": {
    "deletable": true,
    "editable": true
   },
   "outputs": [],
   "source": [
    "from scipy.stats import binom\n",
    "binom.cdf(50, 100, 0.5) - binom.cdf(39, 100, 0.5)"
   ]
  },
  {
   "cell_type": "markdown",
   "id": "a51d48ba",
   "metadata": {
    "deletable": true,
    "editable": true,
    "slideshow": {
     "slide_type": "slide"
    }
   },
   "source": [
    "<div class=\"alert alert-warning\">\n",
    "    <h3>Question 🤔 (Answer at <a style=\"text-decoration: none; color: #0066cc\" href=\"https://docs.google.com/forms/d/e/1FAIpQLSd4oliiZYeNh76jWy-arfEtoAkCrVSsobZxPwxifWggo3EO0Q/viewform\">practicaldsc.org/q</a>)</h3>\n",
    "    \n",
    "What questions do you have about our coin flipping simulation?\n",
    "    \n",
    "Can you think of a way to perform the same simulation without **any** `for`-loops?"
   ]
  },
  {
   "cell_type": "markdown",
   "id": "7d333b3b",
   "metadata": {
    "deletable": true,
    "editable": true,
    "slideshow": {
     "slide_type": "slide"
    }
   },
   "source": [
    "### Example: The Birthday Paradox"
   ]
  },
  {
   "cell_type": "markdown",
   "id": "dac8c71a",
   "metadata": {
    "deletable": true,
    "editable": true,
    "slideshow": {
     "slide_type": "fragment"
    }
   },
   "source": [
    "- There are ~80 students in the room right now. What are the chances at least 2 students share the same birthday?"
   ]
  },
  {
   "cell_type": "markdown",
   "id": "d4583c7a",
   "metadata": {
    "deletable": true,
    "editable": true,
    "slideshow": {
     "slide_type": "fragment"
    }
   },
   "source": [
    "- In general, **how many people must be in a room such that there's a 50% chance that at least 2 students share the same birthday?**"
   ]
  },
  {
   "cell_type": "markdown",
   "id": "960393fc",
   "metadata": {
    "deletable": true,
    "editable": true,
    "slideshow": {
     "slide_type": "fragment"
    }
   },
   "source": [
    "- Let's define a function, `estimated_probability`, which takes in a class size, `n`, and returns the probability that in a class of `n` students, at least 2 students share the same birthday."
   ]
  },
  {
   "cell_type": "code",
   "execution_count": null,
   "id": "2b13ca78",
   "metadata": {
    "deletable": true,
    "editable": true
   },
   "outputs": [],
   "source": [
    "def simulate_classroom(n):\n",
    "    # This helper function should take in a class size, n,\n",
    "    # and return True if a simulated classroom of size n\n",
    "    # has at least 2 students with the same birthday\n",
    "    # and False otherwise.\n",
    "    # This is not the most efficient solution, but works for now.\n",
    "    options = np.arange(1, 366)\n",
    "    chosen_options = np.random.choice(options, n, replace=True)\n",
    "    return len(chosen_options) != len(np.unique(chosen_options))\n",
    "def estimated_probability(n):\n",
    "    return np.mean([simulate_classroom(n) for _ in range(10_000)])"
   ]
  },
  {
   "cell_type": "code",
   "execution_count": null,
   "id": "53128f65",
   "metadata": {
    "deletable": true,
    "editable": true,
    "scrolled": true
   },
   "outputs": [],
   "source": [
    "estimated_probability(80) "
   ]
  },
  {
   "cell_type": "markdown",
   "id": "9cc1c282",
   "metadata": {
    "deletable": true,
    "editable": true,
    "slideshow": {
     "slide_type": "fragment"
    }
   },
   "source": [
    "- With 80 students, it's almost certain that 2 share the same birthday!<br>What's the minimum class size we'd need for a 50% chance that at least 2 share the same birthday?"
   ]
  },
  {
   "cell_type": "code",
   "execution_count": null,
   "id": "e74935ce",
   "metadata": {
    "deletable": true,
    "editable": true
   },
   "outputs": [],
   "source": [
    "probs = [estimated_probability(n) for n in range(1, 51)]"
   ]
  },
  {
   "cell_type": "code",
   "execution_count": null,
   "id": "465c4c96",
   "metadata": {
    "deletable": true,
    "editable": true
   },
   "outputs": [],
   "source": [
    "(\n",
    "    px\n",
    "    .bar(x=range(1, 51), \n",
    "         y=probs,\n",
    "         title='Probability that at least 2 students share the<br>same birthday in a class of n students')\n",
    "    .update_xaxes(title='$n$')\n",
    "    .update_yaxes(title='Probability')\n",
    ")"
   ]
  },
  {
   "cell_type": "markdown",
   "id": "3783a49b",
   "metadata": {
    "deletable": true,
    "editable": true,
    "slideshow": {
     "slide_type": "fragment"
    }
   },
   "source": [
    "- Lower than you might think!"
   ]
  },
  {
   "cell_type": "markdown",
   "id": "ce4af825",
   "metadata": {
    "deletable": true,
    "editable": true,
    "slideshow": {
     "slide_type": "slide"
    }
   },
   "source": [
    "## Introduction to `pandas` DataFrames\n",
    "\n",
    "Let's finally start working with real datasets! 🎉\n",
    "\n",
    "Note that we're going to cover a lot of code quickly. The point of lecture is to expose you to what's possible; you can look at the notebook later for the details.\n",
    "\n",
    "---"
   ]
  },
  {
   "cell_type": "markdown",
   "id": "d6e21243",
   "metadata": {
    "deletable": true,
    "editable": true,
    "slideshow": {
     "slide_type": "slide"
    },
    "tags": []
   },
   "source": [
    "### `pandas`\n",
    "\n",
    "<center><img src='imgs/pandas.png' width=300></center>"
   ]
  },
  {
   "cell_type": "markdown",
   "id": "9db3f09e",
   "metadata": {
    "deletable": true,
    "editable": true,
    "slideshow": {
     "slide_type": "fragment"
    }
   },
   "source": [
    "- `pandas` is **the** Python library for tabular data manipulation."
   ]
  },
  {
   "cell_type": "markdown",
   "id": "f8de8b46",
   "metadata": {
    "deletable": true,
    "editable": true,
    "slideshow": {
     "slide_type": "fragment"
    }
   },
   "source": [
    "- Before `pandas` was developed, the standard data science workflow involved using multiple languages (Python, R, Java) in a single project."
   ]
  },
  {
   "cell_type": "markdown",
   "id": "9f891326",
   "metadata": {
    "deletable": true,
    "editable": true,
    "slideshow": {
     "slide_type": "fragment"
    }
   },
   "source": [
    "- Wes McKinney, the original developer of `pandas`, wanted a library which would allow everything to be done in Python.<br><small>Python is faster to develop in than Java or C++, and is more general-purpose than R.</small>"
   ]
  },
  {
   "cell_type": "markdown",
   "id": "20aba6fc",
   "metadata": {
    "deletable": true,
    "editable": true,
    "slideshow": {
     "slide_type": "slide"
    },
    "tags": []
   },
   "source": [
    "### Importing `pandas` and related libraries\n",
    "\n",
    "`pandas` is almost always imported in conjunction with `numpy`."
   ]
  },
  {
   "cell_type": "code",
   "execution_count": null,
   "id": "cf74d38f",
   "metadata": {
    "deletable": true,
    "editable": true
   },
   "outputs": [],
   "source": [
    "import pandas as pd\n",
    "import numpy as np"
   ]
  },
  {
   "cell_type": "markdown",
   "id": "a5e6bcad",
   "metadata": {
    "deletable": true,
    "editable": true,
    "slideshow": {
     "slide_type": "slide"
    },
    "tags": []
   },
   "source": [
    "### `pandas` data structures\n",
    "\n",
    "There are **three** key data structures at the core of `pandas`."
   ]
  },
  {
   "cell_type": "markdown",
   "id": "ac9c66d1",
   "metadata": {
    "deletable": true,
    "editable": true,
    "slideshow": {
     "slide_type": "fragment"
    }
   },
   "source": [
    "<center>\n",
    "    <img src='imgs/df-anatomy.png' width=1000>\n",
    "    <small>An example DataFrame.</small>\n",
    "</center>"
   ]
  },
  {
   "cell_type": "markdown",
   "id": "098c1d08",
   "metadata": {
    "deletable": true,
    "editable": true,
    "slideshow": {
     "slide_type": "fragment"
    }
   },
   "source": [
    "- **DataFrame**: 2 dimensional tables. These have rows and columns."
   ]
  },
  {
   "cell_type": "markdown",
   "id": "c1e63e9e",
   "metadata": {
    "deletable": true,
    "editable": true,
    "slideshow": {
     "slide_type": "fragment"
    }
   },
   "source": [
    "- **Series**: 1 dimensional array-like object, representing a row or column.<br><small>Like arrays, Series contain data of the same type. The plural of Series is also Series.</small>"
   ]
  },
  {
   "cell_type": "markdown",
   "id": "2a1e2731",
   "metadata": {
    "deletable": true,
    "editable": true,
    "slideshow": {
     "slide_type": "fragment"
    }
   },
   "source": [
    "- **Index**: Sequence of row or column labels. When we say \"the index\", we're referring to the sequence of **row labels**.<br><small>The index – `'lebronja'`, `'obammich'`, `'carpents'`, and `'timapplec'` in the example above – **is not** a column!<br>Column names – `'name'`, `'program'`, and `'year'` in the example above – are stored as strings, and the sequence of column names is also an index.<br></small>"
   ]
  },
  {
   "cell_type": "markdown",
   "id": "3ea83eae",
   "metadata": {
    "deletable": true,
    "editable": true,
    "slideshow": {
     "slide_type": "slide"
    }
   },
   "source": [
    "### Example: Dog Breeds 🐶"
   ]
  },
  {
   "cell_type": "markdown",
   "id": "91a84a40",
   "metadata": {
    "deletable": true,
    "editable": true,
    "slideshow": {
     "slide_type": "fragment"
    }
   },
   "source": [
    "- The dataset we'll work comes from the American Kennel Club. Here's a [cool plot](https://informationisbeautiful.net/visualizations/best-in-show-whats-the-top-data-dog/) made using our dataset.\n",
    "\n",
    "<center>\n",
    "    <img src=\"https://infobeautiful4.s3.amazonaws.com/2014/11/IIB_Best-In-Show_1276x2.png\" width=650>\n",
    "        \n",
    "</center>"
   ]
  },
  {
   "cell_type": "markdown",
   "id": "a2ab24dd",
   "metadata": {
    "deletable": true,
    "editable": true,
    "slideshow": {
     "slide_type": "fragment"
    }
   },
   "source": [
    "- We'll usually work with data stored in the CSV format. CSV stands for \"comma-separated values.\""
   ]
  },
  {
   "cell_type": "markdown",
   "id": "6252bd9c",
   "metadata": {
    "deletable": true,
    "editable": true,
    "slideshow": {
     "slide_type": "fragment"
    }
   },
   "source": [
    "- We can read in a CSV using `pd.read_csv(path)`. The path should be relative to your notebook; if the file is in the same folder as your notebook, this is just the name of the file (as a string)."
   ]
  },
  {
   "cell_type": "markdown",
   "id": "6be1e9a2",
   "metadata": {
    "deletable": true,
    "editable": true,
    "slideshow": {
     "slide_type": "fragment"
    }
   },
   "source": [
    "- Today's dataset is stored `'data/dogs43.csv'` – open it up and see what it looks like!"
   ]
  },
  {
   "cell_type": "code",
   "execution_count": null,
   "id": "55e4fa53",
   "metadata": {
    "deletable": true,
    "editable": true,
    "slideshow": {
     "slide_type": "slide"
    }
   },
   "outputs": [],
   "source": [
    "# The \"cat\" shell command shows you the contents of a file.\n",
    "!cat data/dogs43.csv "
   ]
  },
  {
   "cell_type": "code",
   "execution_count": null,
   "id": "eb10ca9b",
   "metadata": {
    "deletable": true,
    "editable": true,
    "scrolled": true,
    "slideshow": {
     "slide_type": "slide"
    }
   },
   "outputs": [],
   "source": [
    "dogs = pd.read_csv('data/dogs43.csv') \n",
    "dogs"
   ]
  },
  {
   "cell_type": "markdown",
   "id": "5319e642",
   "metadata": {
    "deletable": true,
    "editable": true,
    "slideshow": {
     "slide_type": "slide"
    }
   },
   "source": [
    "### Exploring our first DataFrame"
   ]
  },
  {
   "cell_type": "markdown",
   "id": "71433849",
   "metadata": {
    "deletable": true,
    "editable": true,
    "slideshow": {
     "slide_type": "fragment"
    }
   },
   "source": [
    "- To extract the first or last few rows of a DataFrame, use the `head` or `tail` methods.<br><small>Like most DataFrame methods, `head` and `tail` **don't** modify the original DataFrame!</small>"
   ]
  },
  {
   "cell_type": "code",
   "execution_count": null,
   "id": "95d9ce8b",
   "metadata": {
    "deletable": true,
    "editable": true
   },
   "outputs": [],
   "source": [
    "dogs.head(3) "
   ]
  },
  {
   "cell_type": "code",
   "execution_count": null,
   "id": "9ef68117",
   "metadata": {
    "deletable": true,
    "editable": true
   },
   "outputs": [],
   "source": [
    "dogs.tail(2) "
   ]
  },
  {
   "cell_type": "code",
   "execution_count": null,
   "id": "f1c4c518",
   "metadata": {
    "deletable": true,
    "editable": true
   },
   "outputs": [],
   "source": [
    "dogs"
   ]
  },
  {
   "cell_type": "markdown",
   "id": "52f109ba",
   "metadata": {
    "deletable": true,
    "editable": true,
    "slideshow": {
     "slide_type": "fragment"
    },
    "tags": []
   },
   "source": [
    "- The `shape` attribute returns the DataFrame's number of rows and columns.<br><small>Sure, we can _see 👀_ that it says 43 rows x 7 columns above, but the `shape` attribute allows us to write code involving the number of rows/columns.</small>"
   ]
  },
  {
   "cell_type": "code",
   "execution_count": null,
   "id": "e5009d40",
   "metadata": {
    "deletable": true,
    "editable": true
   },
   "outputs": [],
   "source": [
    "# Note that the index – 0, 1, 2, ... – does **not** count as a column!\n",
    "dogs.shape "
   ]
  },
  {
   "cell_type": "markdown",
   "id": "580e9aa2",
   "metadata": {
    "deletable": true,
    "editable": true,
    "slideshow": {
     "slide_type": "slide"
    }
   },
   "source": [
    "### Sorting"
   ]
  },
  {
   "cell_type": "markdown",
   "id": "96c43d62",
   "metadata": {
    "deletable": true,
    "editable": true,
    "slideshow": {
     "slide_type": "fragment"
    },
    "tags": []
   },
   "source": [
    "- To sort by a column, use the `sort_values` method.<br><small>`ascending=False` is a **keyword argument**, meaning you need to specify the name of the argument to use it. You've seen some examples of this in the `plotly` part of Homework 1.</small> "
   ]
  },
  {
   "cell_type": "code",
   "execution_count": null,
   "id": "934e55c2",
   "metadata": {
    "deletable": true,
    "editable": true,
    "slideshow": {
     "slide_type": ""
    },
    "tags": []
   },
   "outputs": [],
   "source": [
    "# Note that the index is no longer 0, 1, 2, ...!\n",
    "dogs.sort_values('height', ascending=False) "
   ]
  },
  {
   "cell_type": "markdown",
   "id": "9992684b",
   "metadata": {
    "deletable": true,
    "editable": true,
    "slideshow": {
     "slide_type": "fragment"
    }
   },
   "source": [
    "- We can also sort by multiple columns!<br><small>This sorts by `'height'`, then breaks ties by `'longevity'`. Note the difference in the last three rows between this DataFrame and the one above.</small>"
   ]
  },
  {
   "cell_type": "code",
   "execution_count": null,
   "id": "98846bc7",
   "metadata": {
    "deletable": true,
    "editable": true
   },
   "outputs": [],
   "source": [
    "dogs.sort_values(['height', 'longevity'], ascending=False) "
   ]
  },
  {
   "cell_type": "markdown",
   "id": "588e3c02",
   "metadata": {
    "deletable": true,
    "editable": true,
    "slideshow": {
     "slide_type": "slide"
    },
    "tags": []
   },
   "source": [
    "### Setting the index"
   ]
  },
  {
   "cell_type": "markdown",
   "id": "162d9023",
   "metadata": {
    "deletable": true,
    "editable": true,
    "slideshow": {
     "slide_type": "fragment"
    }
   },
   "source": [
    "- Think of each row's index as its **unique identifier** or **name**. The default index when we create a DataFrame using `pd.read_csv` is 0, 1, 2, 3, ...\n",
    "<br><small>Think of the index of a DataFrame like a \"key\" in a dictionary (Python) or map (C++).</small>"
   ]
  },
  {
   "cell_type": "code",
   "execution_count": null,
   "id": "0d73f14c",
   "metadata": {
    "deletable": true,
    "editable": true
   },
   "outputs": [],
   "source": [
    "dogs"
   ]
  },
  {
   "cell_type": "code",
   "execution_count": null,
   "id": "9e63060a",
   "metadata": {
    "deletable": true,
    "editable": true
   },
   "outputs": [],
   "source": [
    "dogs.index"
   ]
  },
  {
   "cell_type": "markdown",
   "id": "e0559037",
   "metadata": {
    "deletable": true,
    "editable": true,
    "slideshow": {
     "slide_type": "fragment"
    }
   },
   "source": [
    "- Often, we like to set the index of a DataFrame to a unique identifier if we have one available. We can do so with the `set_index` method.<br><small>We'll see the real benefit of this shortly.</small>"
   ]
  },
  {
   "cell_type": "code",
   "execution_count": null,
   "id": "9883f0d0",
   "metadata": {
    "deletable": true,
    "editable": true
   },
   "outputs": [],
   "source": [
    "dogs.set_index('breed') "
   ]
  },
  {
   "cell_type": "code",
   "execution_count": null,
   "id": "daaf92a9",
   "metadata": {
    "deletable": true,
    "editable": true
   },
   "outputs": [],
   "source": [
    "# The above cell didn't involve an assignment statement, so dogs was unchanged.\n",
    "dogs"
   ]
  },
  {
   "cell_type": "code",
   "execution_count": null,
   "id": "58747a7d",
   "metadata": {
    "deletable": true,
    "editable": true
   },
   "outputs": [],
   "source": [
    "# By reassigning dogs, our changes will persist.\n",
    "# Note that we can't run this cell twice! Try it and see what happens.\n",
    "dogs = dogs.set_index('breed')\n",
    "dogs"
   ]
  },
  {
   "cell_type": "code",
   "execution_count": null,
   "id": "d171cf7a",
   "metadata": {
    "deletable": true,
    "editable": true,
    "slideshow": {
     "slide_type": ""
    },
    "tags": []
   },
   "outputs": [],
   "source": [
    "# There used to be 7 columns, but now there are only 6!\n",
    "# The index is **not** a column!\n",
    "dogs.shape"
   ]
  },
  {
   "cell_type": "code",
   "execution_count": null,
   "id": "e690b85a",
   "metadata": {
    "deletable": true,
    "editable": true
   },
   "outputs": [],
   "source": [
    "dogs.index"
   ]
  },
  {
   "cell_type": "markdown",
   "id": "2a1fc3b0",
   "metadata": {
    "deletable": true,
    "editable": true,
    "slideshow": {
     "slide_type": "slide"
    }
   },
   "source": [
    "<div class=\"alert alert-success\">\n",
    "<h3>Activity</h3>\n",
    "    \n",
    "Assign `tallest_breed` to the name, as a **string**, of the tallest breed in the dataset. Answer using `pandas` code, i.e. **don't** look at the dataset and hard-code the answer."
   ]
  },
  {
   "cell_type": "code",
   "execution_count": null,
   "id": "f1195bfa",
   "metadata": {
    "deletable": true,
    "editable": true
   },
   "outputs": [],
   "source": [
    "tallest_breed = dogs.sort_values('height', ascending=False).index[0] \n",
    "tallest_breed"
   ]
  },
  {
   "cell_type": "code",
   "execution_count": null,
   "id": "dd266b88",
   "metadata": {
    "deletable": true,
    "editable": true
   },
   "outputs": [],
   "source": []
  },
  {
   "cell_type": "code",
   "execution_count": null,
   "id": "ab19e044",
   "metadata": {
    "deletable": true,
    "editable": true
   },
   "outputs": [],
   "source": []
  },
  {
   "cell_type": "markdown",
   "id": "5e0256a9",
   "metadata": {
    "deletable": true,
    "editable": true,
    "slideshow": {
     "slide_type": "slide"
    }
   },
   "source": [
    "<div class=\"alert alert-warning\">\n",
    "    <h3>Question 🤔 (Answer at <a style=\"text-decoration: none; color: #0066cc\" href=\"https://docs.google.com/forms/d/e/1FAIpQLSd4oliiZYeNh76jWy-arfEtoAkCrVSsobZxPwxifWggo3EO0Q/viewform\">practicaldsc.org/q</a>)</h3>\n",
    "    \n",
    "What are your thoughts on the activities in lecture?\n",
    "    \n",
    "- A. I really hate them, get rid of them and spend more time lecturing.\n",
    "- B. I don't mind them.\n",
    "- C. I'm neutral – I wouldn't be sad to see them go, but don't mind if they're there.\n",
    "- D. I like them.\n",
    "- E. I really love them, do more!"
   ]
  },
  {
   "cell_type": "markdown",
   "id": "23e52a2f",
   "metadata": {
    "deletable": true,
    "editable": true,
    "slideshow": {
     "slide_type": "slide"
    }
   },
   "source": [
    "### 💡 Pro-Tip: Displaying more rows/columns\n",
    "\n",
    "Sometimes, you just want `pandas` to display a lot of rows and columns. You can use this helper function to do that."
   ]
  },
  {
   "cell_type": "code",
   "execution_count": null,
   "id": "1870e73e",
   "metadata": {
    "deletable": true,
    "editable": true
   },
   "outputs": [],
   "source": [
    "from IPython.display import display\n",
    "def display_df(df, rows=pd.options.display.max_rows, cols=pd.options.display.max_columns):\n",
    "    \"\"\"Displays n rows and cols from df.\"\"\"\n",
    "    with pd.option_context(\"display.max_rows\", rows,\n",
    "                           \"display.max_columns\", cols):\n",
    "        display(df)"
   ]
  },
  {
   "cell_type": "code",
   "execution_count": null,
   "id": "9ed37a19",
   "metadata": {
    "deletable": true,
    "editable": true
   },
   "outputs": [],
   "source": [
    "display_df(dogs.sort_values('weight', ascending=False), rows=43)"
   ]
  },
  {
   "cell_type": "markdown",
   "id": "548f825a",
   "metadata": {
    "deletable": true,
    "editable": true,
    "slideshow": {
     "slide_type": "slide"
    },
    "tags": []
   },
   "source": [
    "## Selecting columns from a DataFrame\n",
    "\n",
    "In order to answer questions involving our data, we'll need to be able to access the values stored in individual columns.\n",
    "\n",
    "---"
   ]
  },
  {
   "cell_type": "markdown",
   "id": "a32f631c",
   "metadata": {
    "deletable": true,
    "editable": true,
    "slideshow": {
     "slide_type": "slide"
    },
    "tags": []
   },
   "source": [
    "### Selecting columns with `[]`"
   ]
  },
  {
   "cell_type": "markdown",
   "id": "964ae562",
   "metadata": {
    "deletable": true,
    "editable": true,
    "slideshow": {
     "slide_type": "fragment"
    }
   },
   "source": [
    "- The most common way to select a subset of the columns in a DataFrame is by using the `[]` operator.\n",
    "<br><small>This is just like when we accessed values in a dictionary based on their key.</small>"
   ]
  },
  {
   "cell_type": "markdown",
   "id": "7d2c1466",
   "metadata": {
    "deletable": true,
    "editable": true,
    "slideshow": {
     "slide_type": "fragment"
    }
   },
   "source": [
    "- Specifying a column name returns the column as a Series."
   ]
  },
  {
   "cell_type": "markdown",
   "id": "4c985d85",
   "metadata": {
    "deletable": true,
    "editable": true,
    "slideshow": {
     "slide_type": "fragment"
    }
   },
   "source": [
    "- Specifying a list of column names returns a DataFrame."
   ]
  },
  {
   "cell_type": "code",
   "execution_count": null,
   "id": "93b803a5",
   "metadata": {
    "deletable": true,
    "editable": true,
    "slideshow": {
     "slide_type": ""
    },
    "tags": []
   },
   "outputs": [],
   "source": [
    "dogs"
   ]
  },
  {
   "cell_type": "code",
   "execution_count": null,
   "id": "ae4e315c",
   "metadata": {
    "deletable": true,
    "editable": true,
    "slideshow": {
     "slide_type": ""
    },
    "tags": []
   },
   "outputs": [],
   "source": [
    "# Returns a Series.\n",
    "dogs['kind'] "
   ]
  },
  {
   "cell_type": "code",
   "execution_count": null,
   "id": "f764c339",
   "metadata": {
    "deletable": true,
    "editable": true,
    "slideshow": {
     "slide_type": ""
    },
    "tags": []
   },
   "outputs": [],
   "source": [
    "# Returns a DataFrame.\n",
    "dogs[['kind', 'size']] "
   ]
  },
  {
   "cell_type": "code",
   "execution_count": null,
   "id": "87ea7a08",
   "metadata": {
    "deletable": true,
    "editable": true,
    "slideshow": {
     "slide_type": ""
    },
    "tags": []
   },
   "outputs": [],
   "source": [
    "# 🤔\n",
    "dogs[['kind']] "
   ]
  },
  {
   "cell_type": "markdown",
   "id": "17dee953",
   "metadata": {
    "deletable": true,
    "editable": true,
    "slideshow": {
     "slide_type": "fragment"
    }
   },
   "source": [
    "- As an aside: when you get an error message in Python, **the most informative part is usually at the bottom!**<br><small>So, if you're posting about your error on Ed, or debugging with us in office hours, show us the bottom first.</small>"
   ]
  },
  {
   "cell_type": "code",
   "execution_count": null,
   "id": "cc0984ae",
   "metadata": {
    "deletable": true,
    "editable": true,
    "slideshow": {
     "slide_type": ""
    },
    "tags": [
     "raises-exception"
    ]
   },
   "outputs": [],
   "source": [
    "# Breeds are stored in the index, which is not a column!\n",
    "dogs['breed'] "
   ]
  },
  {
   "cell_type": "code",
   "execution_count": null,
   "id": "11a1643b",
   "metadata": {
    "deletable": true,
    "editable": true,
    "slideshow": {
     "slide_type": ""
    },
    "tags": []
   },
   "outputs": [],
   "source": [
    "dogs.index "
   ]
  },
  {
   "cell_type": "markdown",
   "id": "af1a6167",
   "metadata": {
    "deletable": true,
    "editable": true,
    "slideshow": {
     "slide_type": "slide"
    },
    "tags": []
   },
   "source": [
    "### Useful Series methods"
   ]
  },
  {
   "cell_type": "markdown",
   "id": "aeb1ecb7",
   "metadata": {
    "deletable": true,
    "editable": true,
    "slideshow": {
     "slide_type": "fragment"
    }
   },
   "source": [
    "- A Series is like an array, but with an index."
   ]
  },
  {
   "cell_type": "markdown",
   "id": "e2e6769a",
   "metadata": {
    "deletable": true,
    "editable": true,
    "slideshow": {
     "slide_type": "fragment"
    }
   },
   "source": [
    "- There are a variety of useful methods that work on Series. You can see the entire list [here](https://pandas.pydata.org/docs/reference/api/pandas.Series.html). Many methods that work on a Series will also work on DataFrames, as we'll soon see."
   ]
  },
  {
   "cell_type": "code",
   "execution_count": null,
   "id": "eaa0f51f",
   "metadata": {
    "deletable": true,
    "editable": true,
    "slideshow": {
     "slide_type": ""
    },
    "tags": []
   },
   "outputs": [],
   "source": [
    "dogs"
   ]
  },
  {
   "cell_type": "code",
   "execution_count": null,
   "id": "60b03277",
   "metadata": {
    "deletable": true,
    "editable": true,
    "slideshow": {
     "slide_type": ""
    },
    "tags": []
   },
   "outputs": [],
   "source": [
    "# What are the unique kinds of dogs?\n",
    "dogs['kind'].unique() "
   ]
  },
  {
   "cell_type": "code",
   "execution_count": null,
   "id": "ef1a5e89",
   "metadata": {
    "deletable": true,
    "editable": true
   },
   "outputs": [],
   "source": [
    "# How many unique kinds of dogs are there?\n",
    "dogs['kind'].nunique() "
   ]
  },
  {
   "cell_type": "code",
   "execution_count": null,
   "id": "6046a74d",
   "metadata": {
    "deletable": true,
    "editable": true,
    "slideshow": {
     "slide_type": ""
    },
    "tags": []
   },
   "outputs": [],
   "source": [
    "# What's the distribution of kinds?\n",
    "# value_counts is super useful – and I love asking exam questions about it!\n",
    "dogs['kind'].value_counts() "
   ]
  },
  {
   "cell_type": "code",
   "execution_count": null,
   "id": "5427df90",
   "metadata": {
    "deletable": true,
    "editable": true,
    "slideshow": {
     "slide_type": ""
    },
    "tags": []
   },
   "outputs": [],
   "source": [
    "# What's the mean of the 'longevity' column?\n",
    "dogs['longevity'].mean() "
   ]
  },
  {
   "cell_type": "code",
   "execution_count": null,
   "id": "cd350ec2",
   "metadata": {
    "deletable": true,
    "editable": true,
    "slideshow": {
     "slide_type": ""
    },
    "tags": []
   },
   "outputs": [],
   "source": [
    "# Tell me more about the 'weight' column.\n",
    "dogs['weight'].describe() "
   ]
  },
  {
   "cell_type": "code",
   "execution_count": null,
   "id": "89fac53d",
   "metadata": {
    "deletable": true,
    "editable": true,
    "slideshow": {
     "slide_type": ""
    },
    "tags": []
   },
   "outputs": [],
   "source": [
    "# Sort the 'lifetime_cost' column. Note that here we're using sort_values on a Series, not a DataFrame!\n",
    "dogs['lifetime_cost'].sort_values() "
   ]
  },
  {
   "cell_type": "code",
   "execution_count": null,
   "id": "f27e5b0a",
   "metadata": {
    "deletable": true,
    "editable": true
   },
   "outputs": [],
   "source": [
    "# Gives us the index of the largest value, not the largest value itself.\n",
    "# Note that this makes our Activity from a few slides ago way easier!\n",
    "dogs['height'].idxmax() "
   ]
  },
  {
   "cell_type": "markdown",
   "id": "aa12082b",
   "metadata": {
    "deletable": true,
    "editable": true,
    "slideshow": {
     "slide_type": "slide"
    }
   },
   "source": [
    "<div class=\"alert alert-success\">\n",
    "<h3>Activity</h3>\n",
    "    \n",
    "Complete the implementation of the function `average_heaviest`, which takes in a positive integer `n` and returns the **mean `'lifetime_cost'` of the top `n` heaviest breeds**. Example behavior is given below.\n",
    "    \n",
    "```python\n",
    ">>> average_heaviest(5)\n",
    "16142.8\n",
    "    \n",
    ">>> average_heaviest(1)\n",
    "13581.0\n",
    "\n",
    "```\n",
    "    \n",
    "**We won't have time to try this activity in lecture, but the answer is posted in `lec04-filled.ipynb` and in the \"filled html\" link on the course website.**"
   ]
  },
  {
   "cell_type": "code",
   "execution_count": null,
   "id": "5da6be99",
   "metadata": {
    "deletable": true,
    "editable": true
   },
   "outputs": [],
   "source": [
    "def average_heaviest(n):\n",
    "    return (\n",
    "        dogs\n",
    "        .sort_values('weight', ascending=False)\n",
    "        .head(n)\n",
    "        ['lifetime_cost']\n",
    "        .mean()\n",
    "    )"
   ]
  },
  {
   "cell_type": "code",
   "execution_count": null,
   "id": "32455e9c",
   "metadata": {
    "deletable": true,
    "editable": true
   },
   "outputs": [],
   "source": [
    "average_heaviest(5) "
   ]
  },
  {
   "cell_type": "code",
   "execution_count": null,
   "id": "54db4378",
   "metadata": {
    "deletable": true,
    "editable": true
   },
   "outputs": [],
   "source": [
    "average_heaviest(1) "
   ]
  },
  {
   "cell_type": "markdown",
   "id": "1ec8b58c",
   "metadata": {
    "deletable": true,
    "editable": true,
    "slideshow": {
     "slide_type": "slide"
    }
   },
   "source": [
    "### Series support vectorized operations"
   ]
  },
  {
   "cell_type": "markdown",
   "id": "4c01c169",
   "metadata": {
    "deletable": true,
    "editable": true,
    "slideshow": {
     "slide_type": "fragment"
    }
   },
   "source": [
    "- Series operations are vectorized, just like with arrays."
   ]
  },
  {
   "cell_type": "code",
   "execution_count": null,
   "id": "897ef8cf",
   "metadata": {
    "deletable": true,
    "editable": true,
    "scrolled": true
   },
   "outputs": [],
   "source": [
    "dogs"
   ]
  },
  {
   "cell_type": "markdown",
   "id": "c39b6db2",
   "metadata": {
    "deletable": true,
    "editable": true,
    "slideshow": {
     "slide_type": "fragment"
    }
   },
   "source": [
    "- Example: If I adopt a puppy next year, when should I expect them to live until?"
   ]
  },
  {
   "cell_type": "code",
   "execution_count": null,
   "id": "4be7531d",
   "metadata": {
    "deletable": true,
    "editable": true
   },
   "outputs": [],
   "source": [
    "2025 + dogs['longevity'] "
   ]
  },
  {
   "cell_type": "markdown",
   "id": "69e38146",
   "metadata": {
    "deletable": true,
    "editable": true,
    "slideshow": {
     "slide_type": "fragment"
    }
   },
   "source": [
    "- Example: What is the average cost per year to maintain each breed?"
   ]
  },
  {
   "cell_type": "code",
   "execution_count": null,
   "id": "e4f74c68",
   "metadata": {
    "deletable": true,
    "editable": true
   },
   "outputs": [],
   "source": [
    "dogs['lifetime_cost'] / dogs['longevity'] "
   ]
  },
  {
   "cell_type": "markdown",
   "id": "76ecb79d",
   "metadata": {
    "deletable": true,
    "editable": true,
    "slideshow": {
     "slide_type": "fragment"
    }
   },
   "source": [
    "- Example: Which breed is the cheapest to own per year, on average? The most expensive?"
   ]
  },
  {
   "cell_type": "code",
   "execution_count": null,
   "id": "baeed5e1",
   "metadata": {
    "deletable": true,
    "editable": true
   },
   "outputs": [],
   "source": [
    "(dogs['lifetime_cost'] / dogs['longevity']).sort_values() "
   ]
  },
  {
   "cell_type": "code",
   "execution_count": null,
   "id": "01229f8d",
   "metadata": {
    "deletable": true,
    "editable": true,
    "scrolled": true
   },
   "outputs": [],
   "source": [
    "(dogs['lifetime_cost'] / dogs['longevity']).idxmax() "
   ]
  },
  {
   "cell_type": "markdown",
   "id": "a844d77d",
   "metadata": {
    "deletable": true,
    "editable": true,
    "slideshow": {
     "slide_type": "slide"
    }
   },
   "source": [
    "<div class=\"alert alert-success\">\n",
    "<h3>Activity</h3>\n",
    "\n",
    "Assign `bmis` to a **Series** containing the Body Mass Index (BMI) of each breed, using the following formula:    \n",
    "    \n",
    "$$ \\text{BMI} = \\frac{\\text{weight in kg}}{[\\text{height in m}]^2}$$\n",
    "    \n",
    "<br>\n",
    "    \n",
    "Note that in `dogs`, weights are measured in **pounds** and heights are measured in **inches**. Use the following conversion factors:\n",
    "    \n",
    "<center>1 kg = 2.2 pounds<br>1 inch = 2.54 cm = 0.0254 m</center>\n",
    "    \n",
    "Your solution can span multiple lines, and you can define intermediate variables if you need to (we did)."
   ]
  },
  {
   "cell_type": "code",
   "execution_count": null,
   "id": "b4eac618",
   "metadata": {
    "deletable": true,
    "editable": true
   },
   "outputs": [],
   "source": [
    "weight_kg = dogs['weight'] / 2.2\n",
    "height_m = dogs['height'] * 2.54 / 100\n",
    "bmis = weight_kg / (height_m ** 2)\n",
    "bmis"
   ]
  },
  {
   "cell_type": "code",
   "execution_count": null,
   "id": "18d32f1b",
   "metadata": {
    "deletable": true,
    "editable": true
   },
   "outputs": [],
   "source": []
  },
  {
   "cell_type": "code",
   "execution_count": null,
   "id": "690a29db",
   "metadata": {
    "deletable": true,
    "editable": true
   },
   "outputs": [],
   "source": []
  },
  {
   "cell_type": "markdown",
   "id": "20b2c740",
   "metadata": {
    "deletable": true,
    "editable": true,
    "slideshow": {
     "slide_type": "slide"
    }
   },
   "source": [
    "### Aside: Visualization"
   ]
  },
  {
   "cell_type": "markdown",
   "id": "42174bf5",
   "metadata": {
    "deletable": true,
    "editable": true,
    "slideshow": {
     "slide_type": "fragment"
    }
   },
   "source": [
    "- We'll spend more time talking about when to create which types of visualizations in a few lectures."
   ]
  },
  {
   "cell_type": "markdown",
   "id": "807f6a1a",
   "metadata": {
    "deletable": true,
    "editable": true,
    "slideshow": {
     "slide_type": "fragment"
    }
   },
   "source": [
    "- But for now, you can start exploring how the DataFrame `plot` method works!"
   ]
  },
  {
   "cell_type": "code",
   "execution_count": null,
   "id": "9ebd4e67",
   "metadata": {
    "deletable": true,
    "editable": true
   },
   "outputs": [],
   "source": [
    "dogs.plot(kind='scatter', x='weight', y='longevity')"
   ]
  },
  {
   "cell_type": "code",
   "execution_count": null,
   "id": "5cb688ac",
   "metadata": {
    "deletable": true,
    "editable": true
   },
   "outputs": [],
   "source": [
    "# Hover over a point and see what happens!\n",
    "(\n",
    "    dogs\n",
    "    .reset_index()\n",
    "    .plot(kind='scatter', x='weight', y='longevity', color='size', hover_name='breed',\n",
    "          title='Longevity vs. Weight for 43 Dog Breeds')\n",
    ")"
   ]
  },
  {
   "cell_type": "code",
   "execution_count": null,
   "id": "fb2ef883",
   "metadata": {
    "deletable": true,
    "editable": true
   },
   "outputs": [],
   "source": [
    "(\n",
    "    dogs['kind']\n",
    "    .value_counts()\n",
    "    .sort_values()\n",
    "    .plot(kind='barh', title='Distribution of Dog Kinds')\n",
    ")"
   ]
  },
  {
   "cell_type": "markdown",
   "id": "47510da1",
   "metadata": {
    "deletable": true,
    "editable": true,
    "slideshow": {
     "slide_type": "slide"
    },
    "tags": []
   },
   "source": [
    "## Selecting slices of a DataFrame\n",
    "\n",
    "Now that we know how to access specific columns in a dataset, how do we access specific rows? Or even individual values?\n",
    "\n",
    "---"
   ]
  },
  {
   "cell_type": "markdown",
   "id": "eee77859",
   "metadata": {
    "deletable": true,
    "editable": true,
    "slideshow": {
     "slide_type": "slide"
    },
    "tags": []
   },
   "source": [
    "### Use `loc` to slice rows and columns using labels"
   ]
  },
  {
   "cell_type": "markdown",
   "id": "3d697674",
   "metadata": {
    "deletable": true,
    "editable": true,
    "slideshow": {
     "slide_type": "fragment"
    }
   },
   "source": [
    "- `loc` stands for \"location\"."
   ]
  },
  {
   "cell_type": "markdown",
   "id": "3b971965",
   "metadata": {
    "deletable": true,
    "editable": true,
    "slideshow": {
     "slide_type": "fragment"
    }
   },
   "source": [
    "- The `loc` indexer works similarly to slicing 2D arrays, but it uses row **labels** and column **labels**, not positions.<br><small>Remember, the \"index\" refers to the row labels.</small>"
   ]
  },
  {
   "cell_type": "code",
   "execution_count": null,
   "id": "2d992e39",
   "metadata": {
    "deletable": true,
    "editable": true
   },
   "outputs": [],
   "source": [
    "dogs"
   ]
  },
  {
   "cell_type": "code",
   "execution_count": null,
   "id": "5b5c09a9",
   "metadata": {
    "deletable": true,
    "editable": true,
    "slideshow": {
     "slide_type": ""
    },
    "tags": []
   },
   "outputs": [],
   "source": [
    "# The first argument is the row label, i.e. the index value.\n",
    "#        ↓\n",
    "dogs.loc['Pug', 'longevity']\n",
    "#                  ↑\n",
    "# The second argument is the column label."
   ]
  },
  {
   "cell_type": "markdown",
   "id": "a4f71515",
   "metadata": {
    "deletable": true,
    "editable": true,
    "slideshow": {
     "slide_type": "fragment"
    }
   },
   "source": [
    "- As an aside, `loc` is **not** a method – it's an indexer."
   ]
  },
  {
   "cell_type": "code",
   "execution_count": null,
   "id": "8793173b",
   "metadata": {
    "deletable": true,
    "editable": true
   },
   "outputs": [],
   "source": [
    "type(dogs.loc)"
   ]
  },
  {
   "cell_type": "code",
   "execution_count": null,
   "id": "d5fe9da8",
   "metadata": {
    "deletable": true,
    "editable": true
   },
   "outputs": [],
   "source": [
    "type(dogs.sort_values)"
   ]
  },
  {
   "cell_type": "markdown",
   "id": "c2f041fd",
   "metadata": {
    "deletable": true,
    "editable": true,
    "slideshow": {
     "slide_type": "slide"
    },
    "tags": []
   },
   "source": [
    "### `loc` is flexible 🧘\n",
    "\n",
    "You can provide a sequence (list, array, Series) as either argument to `loc`."
   ]
  },
  {
   "cell_type": "code",
   "execution_count": null,
   "id": "aa4ddf22",
   "metadata": {
    "deletable": true,
    "editable": true
   },
   "outputs": [],
   "source": [
    "dogs"
   ]
  },
  {
   "cell_type": "code",
   "execution_count": null,
   "id": "8287ba1d",
   "metadata": {
    "deletable": true,
    "editable": true
   },
   "outputs": [],
   "source": [
    "dogs.loc[['Cocker Spaniel', 'Labrador Retriever'], 'size'] "
   ]
  },
  {
   "cell_type": "code",
   "execution_count": null,
   "id": "7d1fbed5",
   "metadata": {
    "deletable": true,
    "editable": true,
    "slideshow": {
     "slide_type": ""
    },
    "tags": []
   },
   "outputs": [],
   "source": [
    "dogs.loc[['Cocker Spaniel', 'Labrador Retriever'], ['kind', 'size', 'height']] "
   ]
  },
  {
   "cell_type": "code",
   "execution_count": null,
   "id": "c043d649",
   "metadata": {
    "deletable": true,
    "editable": true
   },
   "outputs": [],
   "source": [
    "# Note that the 'weight' column is included!\n",
    "# loc, per the pandas documentation, is inclusive of both slicer endpoints.\n",
    "dogs.loc[['Cocker Spaniel', 'Labrador Retriever'], 'lifetime_cost': 'weight'] "
   ]
  },
  {
   "cell_type": "code",
   "execution_count": null,
   "id": "1e6b6078",
   "metadata": {
    "deletable": true,
    "editable": true,
    "slideshow": {
     "slide_type": ""
    },
    "tags": []
   },
   "outputs": [],
   "source": [
    "dogs.loc[['Cocker Spaniel', 'Labrador Retriever'], :] "
   ]
  },
  {
   "cell_type": "code",
   "execution_count": null,
   "id": "2d745c6f",
   "metadata": {
    "deletable": true,
    "editable": true,
    "slideshow": {
     "slide_type": ""
    },
    "tags": []
   },
   "outputs": [],
   "source": [
    "# Shortcut for the line above.\n",
    "dogs.loc[['Cocker Spaniel', 'Labrador Retriever']] "
   ]
  },
  {
   "cell_type": "markdown",
   "id": "daafc129",
   "metadata": {
    "deletable": true,
    "editable": true,
    "slideshow": {
     "slide_type": "slide"
    },
    "tags": []
   },
   "source": [
    "### Use `iloc` to slice rows and columns using positions"
   ]
  },
  {
   "cell_type": "markdown",
   "id": "c18e5ae6",
   "metadata": {
    "deletable": true,
    "editable": true,
    "slideshow": {
     "slide_type": "fragment"
    }
   },
   "source": [
    "- `iloc` stands for \"integer location.\""
   ]
  },
  {
   "cell_type": "markdown",
   "id": "9316a2aa",
   "metadata": {
    "deletable": true,
    "editable": true,
    "slideshow": {
     "slide_type": "fragment"
    }
   },
   "source": [
    "- `iloc` is like `loc`, but it selects rows and columns based off of integer positions only, just like with 2D arrays."
   ]
  },
  {
   "cell_type": "code",
   "execution_count": null,
   "id": "1272a3d2",
   "metadata": {
    "deletable": true,
    "editable": true,
    "slideshow": {
     "slide_type": ""
    },
    "tags": []
   },
   "outputs": [],
   "source": [
    "dogs"
   ]
  },
  {
   "cell_type": "code",
   "execution_count": null,
   "id": "6c8d75d6",
   "metadata": {
    "deletable": true,
    "editable": true,
    "slideshow": {
     "slide_type": ""
    },
    "tags": []
   },
   "outputs": [],
   "source": [
    "# Try removing the iloc and see what happens!\n",
    "dogs.iloc[1:15, :-2] "
   ]
  },
  {
   "cell_type": "markdown",
   "id": "f7aba49a",
   "metadata": {
    "deletable": true,
    "editable": true,
    "slideshow": {
     "slide_type": "fragment"
    },
    "tags": []
   },
   "source": [
    "- `iloc` is often most useful when we sort first. For instance, to find the weight of the longest-living breed in the dataset:"
   ]
  },
  {
   "cell_type": "code",
   "execution_count": null,
   "id": "74c8ea2c",
   "metadata": {
    "deletable": true,
    "editable": true,
    "slideshow": {
     "slide_type": ""
    },
    "tags": []
   },
   "outputs": [],
   "source": [
    "dogs.sort_values('longevity', ascending=False)['weight'].iloc[0] "
   ]
  },
  {
   "cell_type": "code",
   "execution_count": null,
   "id": "457b5e2d",
   "metadata": {
    "deletable": true,
    "editable": true,
    "slideshow": {
     "slide_type": "fragment"
    },
    "tags": []
   },
   "outputs": [],
   "source": [
    "# Finding the breed itself involves sorting, but not iloc, since breeds are stored in the index.\n",
    "dogs.sort_values('longevity', ascending=False).index[0] "
   ]
  },
  {
   "cell_type": "markdown",
   "id": "255ec727",
   "metadata": {
    "deletable": true,
    "editable": true,
    "slideshow": {
     "slide_type": "slide"
    }
   },
   "source": [
    "<div class=\"alert alert-success\">\n",
    "<h3>Activity</h3>\n",
    "    \n",
    "Among just the following four breeds, what is the height of the second tallest breed?\n",
    "    \n",
    "- Cocker Spaniel.\n",
    "- Labrador Retriever.\n",
    "- Irish Setter.\n",
    "- Newfoundland.\n",
    "    \n",
    "Assign your answer to `second_tallest_height` below. Answer using `pandas` code, i.e. **don't** look at the dataset and hard-code the answer.\n",
    "    \n",
    "**We won't have time to try this activity in lecture, but the answer is posted in `lec04-filled.ipynb` and in the \"filled html\" link on the course website.**"
   ]
  },
  {
   "cell_type": "code",
   "execution_count": null,
   "id": "d1615648",
   "metadata": {
    "deletable": true,
    "editable": true
   },
   "outputs": [],
   "source": [
    "second_tallest_height = (\n",
    "    dogs\n",
    "    .loc[['Cocker Spaniel', 'Labrador Retriever', 'Newfoundland', 'Irish Setter'], 'height']\n",
    "    .sort_values(ascending=False)\n",
    "    .iloc[1]\n",
    ")"
   ]
  },
  {
   "cell_type": "code",
   "execution_count": null,
   "id": "a584147a",
   "metadata": {
    "deletable": true,
    "editable": true
   },
   "outputs": [],
   "source": []
  },
  {
   "cell_type": "code",
   "execution_count": null,
   "id": "a76a3bbc",
   "metadata": {
    "deletable": true,
    "editable": true
   },
   "outputs": [],
   "source": []
  },
  {
   "cell_type": "markdown",
   "id": "9e3f369a",
   "metadata": {
    "deletable": true,
    "editable": true,
    "slideshow": {
     "slide_type": "slide"
    }
   },
   "source": [
    "## Querying\n",
    "\n",
    "Okay, but what if we don't know anything about the position or index of a row we're looking for? How do we find rows that satisfy certain **conditions**?\n",
    "\n",
    "---"
   ]
  },
  {
   "cell_type": "markdown",
   "id": "9dc33b6e",
   "metadata": {
    "deletable": true,
    "editable": true,
    "slideshow": {
     "slide_type": "slide"
    }
   },
   "source": [
    "### Reflection"
   ]
  },
  {
   "cell_type": "markdown",
   "id": "295a2eb1",
   "metadata": {
    "deletable": true,
    "editable": true,
    "slideshow": {
     "slide_type": "fragment"
    }
   },
   "source": [
    "- So far, all of the questions we've been able to answer involved all of the rows in the dataset.\n",
    "<br><small>What's the weight of the longest-living breed? What's the average lifetime cost of all breeds? Which breed is third heaviest?</small>"
   ]
  },
  {
   "cell_type": "markdown",
   "id": "101ffd04",
   "metadata": {
    "deletable": true,
    "editable": true,
    "slideshow": {
     "slide_type": "fragment"
    }
   },
   "source": [
    "- We don't yet have a mechanism to answer questions about a specific subset of the dataset.\n",
    "<br><small>How many terriers are there? What's the average longevity of medium-sized breeds?</small>"
   ]
  },
  {
   "cell_type": "markdown",
   "id": "1c1dfa7b",
   "metadata": {
    "deletable": true,
    "editable": true,
    "slideshow": {
     "slide_type": "slide"
    },
    "tags": []
   },
   "source": [
    "### Querying"
   ]
  },
  {
   "cell_type": "markdown",
   "id": "fb8842f3",
   "metadata": {
    "deletable": true,
    "editable": true,
    "slideshow": {
     "slide_type": "fragment"
    }
   },
   "source": [
    "- Querying is the act selecting rows in a DataFrame that satisfy certain condition(s).<br><small>We sometimes call this \"filtering.\"</small>"
   ]
  },
  {
   "cell_type": "markdown",
   "id": "4d3d3944",
   "metadata": {
    "deletable": true,
    "editable": true,
    "slideshow": {
     "slide_type": "fragment"
    }
   },
   "source": [
    "- As we saw in Lecture 3, comparisons with arrays result in Boolean arrays. The same is true for Series – **make a comparison with a Series, and the result is a Boolean Series!**"
   ]
  },
  {
   "cell_type": "markdown",
   "id": "28d98a0c",
   "metadata": {
    "deletable": true,
    "editable": true,
    "slideshow": {
     "slide_type": "fragment"
    }
   },
   "source": [
    "- We can use comparisons along with the `loc` operator to select specific rows from a DataFrame."
   ]
  },
  {
   "cell_type": "code",
   "execution_count": null,
   "id": "84de386e",
   "metadata": {
    "deletable": true,
    "editable": true,
    "slideshow": {
     "slide_type": ""
    },
    "tags": []
   },
   "outputs": [],
   "source": [
    "dogs"
   ]
  },
  {
   "cell_type": "code",
   "execution_count": null,
   "id": "0d00c1ec",
   "metadata": {
    "deletable": true,
    "editable": true
   },
   "outputs": [],
   "source": [
    "dogs['kind'] == 'terrier' "
   ]
  },
  {
   "cell_type": "code",
   "execution_count": null,
   "id": "e3ab842f",
   "metadata": {
    "deletable": true,
    "editable": true,
    "slideshow": {
     "slide_type": ""
    },
    "tags": []
   },
   "outputs": [],
   "source": [
    "dogs.loc[dogs['kind'] == 'terrier'] "
   ]
  },
  {
   "cell_type": "code",
   "execution_count": null,
   "id": "b62e6ec3",
   "metadata": {
    "deletable": true,
    "editable": true
   },
   "outputs": [],
   "source": [
    "# This gives us the number of terriers in the dataset.\n",
    "dogs.loc[dogs['kind'] == 'terrier'].shape[0] "
   ]
  },
  {
   "cell_type": "code",
   "execution_count": null,
   "id": "ce570fc5",
   "metadata": {
    "deletable": true,
    "editable": true
   },
   "outputs": [],
   "source": [
    "dogs.loc[dogs['weight'] >= 50] "
   ]
  },
  {
   "cell_type": "code",
   "execution_count": null,
   "id": "1b0c81ef",
   "metadata": {
    "deletable": true,
    "editable": true,
    "scrolled": true,
    "slideshow": {
     "slide_type": ""
    },
    "tags": []
   },
   "outputs": [],
   "source": [
    "# .str.contains is very useful!\n",
    "dogs.loc[dogs.index.str.contains('Retriever')] "
   ]
  },
  {
   "cell_type": "code",
   "execution_count": null,
   "id": "b9287065",
   "metadata": {
    "deletable": true,
    "editable": true,
    "slideshow": {
     "slide_type": ""
    },
    "tags": []
   },
   "outputs": [],
   "source": [
    "# Because querying is so common, there's a shortcut:\n",
    "dogs[dogs.index.str.contains('Retriever')] "
   ]
  },
  {
   "cell_type": "code",
   "execution_count": null,
   "id": "e3848763",
   "metadata": {
    "deletable": true,
    "editable": true
   },
   "outputs": [],
   "source": [
    "# Empty DataFrame – not an error!\n",
    "dogs.loc[dogs['kind'] == 'beaver'] "
   ]
  },
  {
   "cell_type": "markdown",
   "id": "0f425be4",
   "metadata": {
    "deletable": true,
    "editable": true,
    "slideshow": {
     "slide_type": "slide"
    }
   },
   "source": [
    "<div class=\"alert alert-success\">\n",
    "<h3>Activity</h3>\n",
    "    \n",
    "Assign `second_tallest` to the `'size'` of the second-tallest `'sporting'` breed, as a string. Answer using `pandas` code, i.e. **don't** look at the dataset and hard-code the answer."
   ]
  },
  {
   "cell_type": "code",
   "execution_count": null,
   "id": "396d8487",
   "metadata": {
    "deletable": true,
    "editable": true
   },
   "outputs": [],
   "source": [
    "second_tallest = (\n",
    "    dogs[dogs['kind'] == 'sporting']\n",
    "    .sort_values('height', ascending=False)\n",
    "    ['size']\n",
    "    .iloc[1]\n",
    ")\n",
    "second_tallest"
   ]
  },
  {
   "cell_type": "code",
   "execution_count": null,
   "id": "769c4f8a",
   "metadata": {
    "deletable": true,
    "editable": true
   },
   "outputs": [],
   "source": []
  },
  {
   "cell_type": "code",
   "execution_count": null,
   "id": "5f97813f",
   "metadata": {
    "deletable": true,
    "editable": true
   },
   "outputs": [],
   "source": []
  },
  {
   "cell_type": "markdown",
   "id": "0de19e12",
   "metadata": {
    "deletable": true,
    "editable": true,
    "slideshow": {
     "slide_type": "slide"
    }
   },
   "source": [
    "### Lingering questions"
   ]
  },
  {
   "cell_type": "markdown",
   "id": "c6eef76b",
   "metadata": {
    "deletable": true,
    "editable": true,
    "slideshow": {
     "slide_type": "fragment"
    }
   },
   "source": [
    "- How do we use multiple conditions?<br><small>We actually covered the answer to this in Lecture 3 – try it out yourself!</small>"
   ]
  },
  {
   "cell_type": "markdown",
   "id": "9674ba1e",
   "metadata": {
    "deletable": true,
    "editable": true,
    "slideshow": {
     "slide_type": "fragment"
    }
   },
   "source": [
    "- There's a DataFrame `query` method – how does it work, and how is it different from what we've seen here?"
   ]
  },
  {
   "cell_type": "markdown",
   "id": "6e633dcb",
   "metadata": {
    "deletable": true,
    "editable": true,
    "slideshow": {
     "slide_type": "fragment"
    }
   },
   "source": [
    "- How do we find the average longevity of every `'kind'` without having to copy-paste a lot of code?"
   ]
  },
  {
   "cell_type": "markdown",
   "id": "5100318f",
   "metadata": {
    "deletable": true,
    "editable": true,
    "slideshow": {
     "slide_type": "fragment"
    }
   },
   "source": [
    "- We'll find out on Tuesday!"
   ]
  }
 ],
 "metadata": {
  "celltoolbar": "None",
  "kernelspec": {
   "display_name": "Python 3 (ipykernel)",
   "language": "python",
   "name": "python3"
  },
  "language_info": {
   "codemirror_mode": {
    "name": "ipython",
    "version": 3
   },
   "file_extension": ".py",
   "mimetype": "text/x-python",
   "name": "python",
   "nbconvert_exporter": "python",
   "pygments_lexer": "ipython3",
   "version": "3.10.14"
  },
  "livereveal": {
   "scroll": true
  },
  "rise": {
   "transition": "none"
  }
 },
 "nbformat": 4,
 "nbformat_minor": 5
}
