{
 "cells": [
  {
   "cell_type": "code",
   "execution_count": 1,
   "id": "bfbd3e09",
   "metadata": {
    "deletable": true,
    "editable": true,
    "slideshow": {
     "slide_type": "skip"
    },
    "tags": []
   },
   "outputs": [],
   "source": [
    "from lec_utils import *"
   ]
  },
  {
   "cell_type": "markdown",
   "id": "0230dbc9",
   "metadata": {
    "deletable": true,
    "editable": true,
    "slideshow": {
     "slide_type": "slide"
    },
    "tags": []
   },
   "source": [
    "<div class=\"alert alert-info\" markdown=\"1\">\n",
    "\n",
    "#### Lecture 4\n",
    "\n",
    "# Simulation, DataFrame Fundamentals\n",
    "\n",
    "### EECS 398-003: Practical Data Science, Fall 2024\n",
    "\n",
    "<small><a style=\"text-decoration: none\" href=\"https://practicaldsc.org\">practicaldsc.org</a> • <a style=\"text-decoration: none\" href=\"https://github.com/practicaldsc/fa24\">github.com/practicaldsc/fa24</a></small>\n",
    "    \n",
    "</div>"
   ]
  },
  {
   "cell_type": "markdown",
   "id": "b0c5405c",
   "metadata": {
    "deletable": true,
    "editable": true,
    "slideshow": {
     "slide_type": "slide"
    }
   },
   "source": [
    "### Announcements 📣\n",
    "\n",
    "- Homework 1 is due **tonight**, though note that you have 6 slip days to use during the semester, and you can use up to 2 slip days on any homework (see [here](https://practicaldsc.org/syllabus/#late-policy-slip-days-and-drops) for policy details).<br>\n",
    "<small>Post on [Ed](https://edstem.org/us/courses/61012/discussion/) or\n",
    "come to [Office Hours](https://practicaldsc.org/calendar) for help! We're using a queue for office hours now – access it from [practicaldsc.org/calendar](https://practicaldsc.org/calendar).</small>\n",
    "\n",
    "- Homework 2 will be released tomorrow.<br><small>We'll make an Ed announcement anytime an assignment is released.</small>\n",
    "\n",
    "- In discussion tomorrow, we'll cover past exam problems **on paper** related to this week's material.\n",
    "\n",
    "- Check out the [Resources](https://practicaldsc.org/resources) tab on the course website, with links to lots of supplementary resources.<br><small>New link: [EECS 201: Computer Science Pragmatics](https://www.eecs.umich.edu/courses/eecs201/fa2024/schedule). Look here for help with Terminal commands, `git`, etc.</small>"
   ]
  },
  {
   "cell_type": "markdown",
   "id": "9b90afda",
   "metadata": {
    "deletable": true,
    "editable": true,
    "slideshow": {
     "slide_type": "slide"
    }
   },
   "source": [
    "### Agenda\n",
    "\n",
    "- Randomness and simulation.\n",
    "- Introduction to `pandas` DataFrames.\n",
    "    - Selecting columns from a DataFrame.\n",
    "    - Selecting rows from a DataFrame.\n",
    "\n",
    "Remember to follow along in lecture by accessing the \"blank\" lecture notebook in our [public GitHub repository](https://github.com/practicaldsc/fa24)."
   ]
  },
  {
   "cell_type": "markdown",
   "id": "f65e122f",
   "metadata": {
    "deletable": true,
    "editable": true,
    "slideshow": {
     "slide_type": "slide"
    }
   },
   "source": [
    "<div class=\"alert alert-warning\">\n",
    "<h3>Question 🤔 (Answer at <a style=\"text-decoration: none; color: #0066cc\" href=\"https://docs.google.com/forms/d/e/1FAIpQLSd4oliiZYeNh76jWy-arfEtoAkCrVSsobZxPwxifWggo3EO0Q/viewform\">practicaldsc.org/q</a>)</h3>\n",
    "<small>Remember that you can always ask questions anonymously at the link above!</small>\n",
    "    \n",
    "    \n",
    "When is your birthday?\n",
    "        \n",
    "    \n",
    "    \n"
   ]
  },
  {
   "cell_type": "markdown",
   "id": "98d13884",
   "metadata": {
    "deletable": true,
    "editable": true,
    "slideshow": {
     "slide_type": "slide"
    }
   },
   "source": [
    "## Randomness and simulation\n",
    "\n",
    "We'll start by exploring a useful application of `numpy` in the field of probability and statistics: simulation!\n",
    "\n",
    "---"
   ]
  },
  {
   "cell_type": "markdown",
   "id": "2ba410ab",
   "metadata": {
    "deletable": true,
    "editable": true,
    "slideshow": {
     "slide_type": "slide"
    }
   },
   "source": [
    "### `np.random`\n",
    "\n",
    "The submodule `np.random` contains various functions that produce **random** results.<br><small>These use [pseudo-random number generators](https://en.wikipedia.org/wiki/Pseudorandom_number_generator) to generate random-seeming sequences of results.</small>"
   ]
  },
  {
   "cell_type": "code",
   "execution_count": 2,
   "id": "c519d377",
   "metadata": {
    "deletable": true,
    "editable": true
   },
   "outputs": [
    {
     "data": {
      "text/plain": [
       "5"
      ]
     },
     "execution_count": 2,
     "metadata": {},
     "output_type": "execute_result"
    }
   ],
   "source": [
    "# Run this cell multiple times!\n",
    "# Returns a random integer between 1 and 6, inclusive.\n",
    "np.random.randint(1, 7) "
   ]
  },
  {
   "cell_type": "code",
   "execution_count": 3,
   "id": "d5a81f30",
   "metadata": {
    "deletable": true,
    "editable": true
   },
   "outputs": [
    {
     "data": {
      "text/plain": [
       "0.4937368294749276"
      ]
     },
     "execution_count": 3,
     "metadata": {},
     "output_type": "execute_result"
    }
   ],
   "source": [
    "# Returns a random real number between 0 and 1.\n",
    "np.random.random() "
   ]
  },
  {
   "cell_type": "code",
   "execution_count": 4,
   "id": "98bd3879",
   "metadata": {
    "deletable": true,
    "editable": true
   },
   "outputs": [
    {
     "data": {
      "text/plain": [
       "array(['H', 'T', 'T', 'T', 'H'], dtype='<U1')"
      ]
     },
     "execution_count": 4,
     "metadata": {},
     "output_type": "execute_result"
    }
   ],
   "source": [
    "# Returns a randomly selected element from the provided list, 5 times.\n",
    "np.random.choice(['H', 'T'], 5) "
   ]
  },
  {
   "cell_type": "code",
   "execution_count": 9,
   "id": "cc676ed7",
   "metadata": {
    "deletable": true,
    "editable": true
   },
   "outputs": [
    {
     "data": {
      "text/plain": [
       "array([5, 4, 3])"
      ]
     },
     "execution_count": 9,
     "metadata": {},
     "output_type": "execute_result"
    }
   ],
   "source": [
    "# Returns the number of occurrences of each outcome\n",
    "# in 12 trials of an experiment in which\n",
    "# outcome 1 happens 60% of the time and\n",
    "# outcome 2 happens 40% of the time.\n",
    "np.random.multinomial(12, [0.5, 0.3,0.2]) "
   ]
  },
  {
   "cell_type": "markdown",
   "id": "5df880c6",
   "metadata": {
    "deletable": true,
    "editable": true,
    "slideshow": {
     "slide_type": "slide"
    }
   },
   "source": [
    "### Simulations"
   ]
  },
  {
   "cell_type": "markdown",
   "id": "2f220dde",
   "metadata": {
    "deletable": true,
    "editable": true,
    "slideshow": {
     "slide_type": "fragment"
    }
   },
   "source": [
    "- Often, we'll want to estimate the probability of an event, but it may not be possible – or we may not know how – to calculate the probability exactly.<br><small>e.g., the probability that I see between 40 and 50 heads when I flip a fair coin 100 times.</small>"
   ]
  },
  {
   "cell_type": "markdown",
   "id": "f92d62f6",
   "metadata": {
    "deletable": true,
    "editable": true,
    "slideshow": {
     "slide_type": "fragment"
    }
   },
   "source": [
    "- Or, we may have a theoretical answer, and want to validate it using another approach."
   ]
  },
  {
   "cell_type": "markdown",
   "id": "098a2c96",
   "metadata": {
    "deletable": true,
    "editable": true,
    "slideshow": {
     "slide_type": "fragment"
    }
   },
   "source": [
    "- In such cases, we can use the power of simulation. We can:\n",
    "    1. Figure out how to **simulate** one run of the experiment.<br><small>e.g., figure out how to get Python to flip a fair coin 100 times and count the number of heads.</small>\n",
    "    1. Repeat the experiment many, many times.\n",
    "    1. Compute the fraction of experiments in which our event occurs, and use this fraction as an estimate of the probability of our event.\n",
    "    \n",
    "    This is the basis of [Monte Carlo Methods](https://en.wikipedia.org/wiki/Monte_Carlo_method)."
   ]
  },
  {
   "cell_type": "markdown",
   "id": "eae0772c",
   "metadata": {
    "deletable": true,
    "editable": true,
    "slideshow": {
     "slide_type": "fragment"
    }
   },
   "source": [
    "- Theory tells us that **the more repetitions we perform of our experiment, the closer our fraction will be to the true probability of the event**!\n",
    "<br><small>Specifically, the [Law of Large Numbers](https://en.wikipedia.org/wiki/Law_of_large_numbers) tells us this.</small>"
   ]
  },
  {
   "cell_type": "markdown",
   "id": "50571abf",
   "metadata": {
    "deletable": true,
    "editable": true,
    "slideshow": {
     "slide_type": "slide"
    }
   },
   "source": [
    "### Example: Coin flipping"
   ]
  },
  {
   "cell_type": "markdown",
   "id": "18f79e4f",
   "metadata": {
    "deletable": true,
    "editable": true,
    "slideshow": {
     "slide_type": "fragment"
    }
   },
   "source": [
    "- **Question**: What is the probability that I see between 40 and 50 heads, inclusive, when I flip a fair coin 100 times?"
   ]
  },
  {
   "cell_type": "markdown",
   "id": "724a274c",
   "metadata": {
    "deletable": true,
    "editable": true,
    "slideshow": {
     "slide_type": "fragment"
    }
   },
   "source": [
    "- **Step 1**: Figure out how to **simulate** one run of the experiment.<br><small>e.g., figure out how to get Python to flip a fair coin 100 times and count the number of heads.</small>"
   ]
  },
  {
   "cell_type": "code",
   "execution_count": 6,
   "id": "9e7d938e",
   "metadata": {
    "deletable": true,
    "editable": true
   },
   "outputs": [
    {
     "data": {
      "text/plain": [
       "42"
      ]
     },
     "execution_count": 6,
     "metadata": {},
     "output_type": "execute_result"
    }
   ],
   "source": [
    "(np.random.choice(['H', 'T'], 100) == 'H').sum() "
   ]
  },
  {
   "cell_type": "code",
   "execution_count": 7,
   "id": "eedb453d",
   "metadata": {
    "deletable": true,
    "editable": true
   },
   "outputs": [
    {
     "data": {
      "text/plain": [
       "43"
      ]
     },
     "execution_count": 7,
     "metadata": {},
     "output_type": "execute_result"
    }
   ],
   "source": [
    "np.random.multinomial(100, [0.5, 0.5])[1] "
   ]
  },
  {
   "cell_type": "code",
   "execution_count": 8,
   "id": "1bb971f2",
   "metadata": {
    "deletable": true,
    "editable": true
   },
   "outputs": [
    {
     "data": {
      "text/plain": [
       "50"
      ]
     },
     "execution_count": 8,
     "metadata": {},
     "output_type": "execute_result"
    }
   ],
   "source": [
    "def num_heads():\n",
    "    return np.random.multinomial(100, [0.5, 0.5])[0]\n",
    "num_heads()"
   ]
  },
  {
   "cell_type": "markdown",
   "id": "dd61e77b",
   "metadata": {
    "deletable": true,
    "editable": true,
    "slideshow": {
     "slide_type": "fragment"
    }
   },
   "source": [
    "- **Step 2**: Repeat the experiment many, many times.<br><small>In other words, run the cell above lots of times and store the results somewhere.</small>"
   ]
  },
  {
   "cell_type": "code",
   "execution_count": 9,
   "id": "3275718e",
   "metadata": {
    "deletable": true,
    "editable": true
   },
   "outputs": [],
   "source": [
    "outcomes = np.array([]) \n",
    "for _ in range(10_000):\n",
    "    # Note that with arrays, append is a FUNCTION,\n",
    "    # not a METHOD, and is NOT destructive, \n",
    "    # unlike with lists!\n",
    "    outcomes = np.append(outcomes, num_heads())"
   ]
  },
  {
   "cell_type": "markdown",
   "id": "5b952828",
   "metadata": {
    "deletable": true,
    "editable": true,
    "slideshow": {
     "slide_type": "fragment"
    }
   },
   "source": [
    "- **Step 3**: Compute the fraction of experiments in which our event occurs, and use this fraction as an estimate of the probability of our event."
   ]
  },
  {
   "cell_type": "code",
   "execution_count": 10,
   "id": "2f6529e2",
   "metadata": {
    "deletable": true,
    "editable": true
   },
   "outputs": [
    {
     "data": {
      "application/vnd.plotly.v1+json": {
       "config": {
        "plotlyServerURL": "https://plot.ly"
       },
       "data": [
        {
         "alignmentgroup": "True",
         "bingroup": "x",
         "hovertemplate": "variable=0<br>value=%{x}<br>count=%{y}<extra></extra>",
         "legendgroup": "0",
         "marker": {
          "color": "#1F77B4",
          "pattern": {
           "shape": ""
          }
         },
         "name": "0",
         "offsetgroup": "0",
         "orientation": "v",
         "showlegend": true,
         "type": "histogram",
         "x": [
          46,
          55,
          47,
          50,
          46,
          50,
          43,
          55,
          52,
          46,
          54,
          55,
          50,
          51,
          51,
          56,
          42,
          50,
          49,
          48,
          48,
          54,
          47,
          47,
          44,
          59,
          46,
          53,
          49,
          47,
          50,
          60,
          53,
          50,
          52,
          53,
          52,
          42,
          38,
          55,
          47,
          46,
          46,
          52,
          49,
          62,
          49,
          45,
          46,
          47,
          54,
          48,
          53,
          59,
          50,
          51,
          47,
          44,
          52,
          49,
          57,
          50,
          52,
          52,
          52,
          46,
          57,
          49,
          44,
          52,
          47,
          49,
          46,
          53,
          45,
          43,
          56,
          50,
          44,
          49,
          55,
          55,
          49,
          46,
          59,
          49,
          53,
          52,
          44,
          50,
          47,
          55,
          51,
          41,
          42,
          58,
          51,
          46,
          41,
          57,
          51,
          49,
          49,
          54,
          50,
          49,
          55,
          46,
          51,
          49,
          48,
          48,
          48,
          50,
          50,
          58,
          57,
          55,
          45,
          61,
          48,
          50,
          59,
          50,
          51,
          55,
          55,
          51,
          46,
          47,
          54,
          52,
          51,
          54,
          51,
          46,
          48,
          52,
          40,
          53,
          53,
          54,
          54,
          49,
          44,
          40,
          48,
          50,
          46,
          48,
          54,
          43,
          53,
          42,
          48,
          50,
          50,
          52,
          60,
          55,
          54,
          45,
          47,
          52,
          50,
          51,
          40,
          54,
          50,
          53,
          55,
          44,
          39,
          54,
          50,
          44,
          49,
          55,
          57,
          51,
          59,
          44,
          51,
          51,
          48,
          50,
          44,
          49,
          42,
          57,
          45,
          47,
          57,
          44,
          48,
          45,
          48,
          45,
          53,
          48,
          55,
          43,
          53,
          49,
          48,
          47,
          44,
          50,
          46,
          57,
          47,
          40,
          53,
          52,
          55,
          56,
          55,
          43,
          45,
          43,
          54,
          50,
          43,
          51,
          44,
          46,
          56,
          48,
          55,
          44,
          49,
          50,
          45,
          54,
          41,
          45,
          53,
          46,
          52,
          56,
          57,
          57,
          43,
          54,
          46,
          46,
          47,
          52,
          56,
          46,
          49,
          51,
          41,
          54,
          41,
          40,
          55,
          55,
          47,
          56,
          49,
          50,
          51,
          48,
          51,
          47,
          45,
          45,
          46,
          47,
          49,
          57,
          56,
          50,
          54,
          53,
          56,
          49,
          42,
          46,
          55,
          47,
          45,
          46,
          48,
          48,
          48,
          50,
          41,
          46,
          44,
          48,
          48,
          47,
          53,
          47,
          47,
          45,
          48,
          47,
          50,
          46,
          56,
          47,
          46,
          62,
          47,
          48,
          46,
          54,
          54,
          49,
          47,
          44,
          43,
          42,
          47,
          48,
          54,
          49,
          53,
          48,
          50,
          55,
          51,
          56,
          51,
          55,
          44,
          50,
          59,
          47,
          43,
          56,
          47,
          47,
          50,
          51,
          44,
          40,
          56,
          53,
          41,
          52,
          53,
          56,
          57,
          42,
          47,
          61,
          54,
          48,
          40,
          65,
          54,
          49,
          53,
          48,
          48,
          51,
          46,
          52,
          52,
          53,
          44,
          47,
          49,
          51,
          54,
          55,
          48,
          58,
          48,
          49,
          45,
          44,
          47,
          54,
          49,
          55,
          51,
          57,
          45,
          54,
          53,
          46,
          56,
          43,
          50,
          52,
          56,
          47,
          51,
          46,
          53,
          58,
          45,
          39,
          42,
          57,
          43,
          45,
          58,
          67,
          55,
          51,
          46,
          39,
          56,
          42,
          49,
          58,
          56,
          58,
          50,
          50,
          47,
          53,
          50,
          48,
          56,
          41,
          45,
          48,
          50,
          47,
          42,
          50,
          60,
          39,
          48,
          47,
          57,
          49,
          49,
          51,
          43,
          54,
          54,
          56,
          48,
          58,
          56,
          39,
          53,
          40,
          50,
          47,
          45,
          52,
          52,
          50,
          40,
          61,
          46,
          48,
          54,
          45,
          45,
          50,
          56,
          45,
          51,
          47,
          50,
          54,
          47,
          60,
          46,
          47,
          50,
          50,
          58,
          50,
          50,
          48,
          41,
          40,
          49,
          57,
          34,
          57,
          58,
          39,
          60,
          45,
          51,
          53,
          37,
          47,
          53,
          51,
          44,
          53,
          48,
          47,
          43,
          53,
          53,
          47,
          50,
          43,
          38,
          46,
          54,
          44,
          49,
          59,
          51,
          37,
          42,
          40,
          55,
          45,
          54,
          55,
          52,
          52,
          53,
          52,
          37,
          45,
          54,
          46,
          60,
          52,
          43,
          43,
          54,
          57,
          50,
          40,
          55,
          44,
          60,
          43,
          48,
          49,
          51,
          52,
          50,
          52,
          51,
          49,
          48,
          49,
          52,
          45,
          43,
          54,
          52,
          41,
          46,
          45,
          48,
          47,
          48,
          49,
          51,
          54,
          58,
          54,
          54,
          49,
          54,
          49,
          54,
          55,
          53,
          63,
          53,
          54,
          67,
          56,
          48,
          45,
          53,
          37,
          51,
          48,
          56,
          44,
          49,
          52,
          54,
          45,
          50,
          56,
          55,
          46,
          44,
          50,
          54,
          60,
          53,
          54,
          45,
          45,
          48,
          63,
          46,
          46,
          52,
          52,
          52,
          50,
          49,
          58,
          50,
          51,
          41,
          43,
          49,
          49,
          43,
          53,
          52,
          58,
          63,
          49,
          54,
          47,
          44,
          54,
          43,
          50,
          45,
          48,
          43,
          56,
          50,
          46,
          47,
          49,
          51,
          50,
          51,
          57,
          60,
          53,
          52,
          45,
          48,
          43,
          47,
          54,
          47,
          44,
          54,
          53,
          54,
          44,
          51,
          41,
          51,
          54,
          56,
          53,
          53,
          42,
          46,
          44,
          53,
          51,
          47,
          50,
          40,
          46,
          57,
          53,
          57,
          55,
          47,
          47,
          54,
          46,
          51,
          47,
          59,
          54,
          58,
          52,
          48,
          69,
          48,
          49,
          48,
          43,
          51,
          52,
          55,
          56,
          46,
          51,
          56,
          44,
          49,
          41,
          48,
          47,
          49,
          54,
          52,
          49,
          45,
          57,
          50,
          44,
          54,
          56,
          45,
          56,
          55,
          62,
          45,
          35,
          51,
          46,
          44,
          51,
          50,
          43,
          53,
          52,
          45,
          50,
          54,
          53,
          56,
          48,
          49,
          53,
          48,
          56,
          50,
          48,
          51,
          53,
          57,
          52,
          49,
          49,
          50,
          35,
          52,
          47,
          56,
          56,
          46,
          51,
          65,
          49,
          57,
          49,
          51,
          42,
          50,
          52,
          58,
          47,
          52,
          48,
          46,
          48,
          48,
          50,
          48,
          44,
          43,
          52,
          52,
          44,
          49,
          50,
          53,
          47,
          52,
          52,
          56,
          47,
          55,
          60,
          48,
          51,
          51,
          46,
          53,
          51,
          47,
          45,
          57,
          42,
          45,
          51,
          51,
          56,
          48,
          52,
          55,
          57,
          50,
          53,
          52,
          50,
          54,
          48,
          47,
          53,
          51,
          45,
          38,
          48,
          45,
          64,
          45,
          51,
          50,
          51,
          46,
          56,
          41,
          54,
          43,
          47,
          48,
          48,
          50,
          46,
          51,
          50,
          41,
          54,
          40,
          53,
          48,
          53,
          46,
          56,
          49,
          45,
          48,
          55,
          54,
          51,
          42,
          48,
          48,
          49,
          47,
          44,
          45,
          43,
          42,
          44,
          43,
          51,
          47,
          45,
          50,
          50,
          60,
          42,
          50,
          43,
          42,
          45,
          43,
          45,
          52,
          44,
          45,
          53,
          49,
          50,
          51,
          45,
          48,
          53,
          42,
          48,
          51,
          48,
          54,
          47,
          53,
          54,
          49,
          56,
          54,
          54,
          50,
          51,
          57,
          45,
          57,
          47,
          56,
          55,
          52,
          52,
          47,
          57,
          45,
          56,
          51,
          52,
          44,
          49,
          48,
          48,
          48,
          54,
          47,
          56,
          47,
          49,
          49,
          49,
          41,
          59,
          50,
          55,
          50,
          51,
          55,
          54,
          49,
          51,
          39,
          42,
          64,
          51,
          60,
          42,
          52,
          51,
          48,
          56,
          51,
          50,
          53,
          50,
          56,
          48,
          49,
          54,
          49,
          46,
          57,
          59,
          55,
          43,
          46,
          62,
          55,
          47,
          47,
          60,
          54,
          44,
          55,
          43,
          58,
          54,
          46,
          60,
          50,
          46,
          50,
          46,
          55,
          45,
          42,
          52,
          44,
          45,
          47,
          48,
          43,
          50,
          43,
          44,
          46,
          54,
          47,
          51,
          57,
          49,
          49,
          40,
          53,
          50,
          41,
          48,
          54,
          42,
          57,
          50,
          45,
          46,
          54,
          55,
          56,
          56,
          53,
          57,
          47,
          56,
          48,
          50,
          55,
          41,
          63,
          43,
          52,
          53,
          56,
          50,
          48,
          60,
          51,
          52,
          57,
          50,
          57,
          53,
          48,
          55,
          48,
          51,
          42,
          43,
          53,
          54,
          44,
          40,
          55,
          43,
          52,
          61,
          48,
          40,
          48,
          54,
          40,
          41,
          41,
          46,
          49,
          54,
          52,
          49,
          46,
          48,
          54,
          50,
          60,
          50,
          52,
          56,
          51,
          50,
          59,
          51,
          62,
          46,
          57,
          50,
          46,
          50,
          39,
          46,
          51,
          50,
          56,
          51,
          49,
          55,
          45,
          42,
          47,
          46,
          51,
          65,
          53,
          58,
          41,
          48,
          49,
          46,
          47,
          38,
          49,
          60,
          43,
          45,
          53,
          47,
          50,
          48,
          40,
          49,
          48,
          49,
          51,
          48,
          52,
          48,
          48,
          51,
          41,
          50,
          43,
          50,
          48,
          57,
          50,
          50,
          52,
          57,
          52,
          53,
          56,
          46,
          51,
          58,
          56,
          47,
          52,
          58,
          49,
          48,
          45,
          55,
          54,
          57,
          59,
          52,
          53,
          53,
          45,
          41,
          52,
          45,
          48,
          51,
          51,
          54,
          50,
          61,
          49,
          47,
          48,
          57,
          41,
          51,
          49,
          50,
          52,
          49,
          47,
          50,
          49,
          50,
          59,
          45,
          51,
          45,
          51,
          44,
          50,
          54,
          46,
          54,
          45,
          50,
          40,
          52,
          40,
          52,
          44,
          52,
          50,
          46,
          48,
          57,
          48,
          49,
          47,
          47,
          43,
          38,
          47,
          55,
          53,
          44,
          46,
          51,
          45,
          43,
          46,
          46,
          55,
          54,
          54,
          59,
          45,
          51,
          52,
          46,
          48,
          43,
          41,
          48,
          58,
          53,
          49,
          44,
          50,
          50,
          45,
          52,
          47,
          47,
          49,
          50,
          45,
          51,
          56,
          47,
          54,
          52,
          56,
          44,
          39,
          50,
          47,
          52,
          50,
          43,
          54,
          43,
          46,
          50,
          55,
          41,
          49,
          49,
          61,
          43,
          47,
          48,
          47,
          46,
          61,
          51,
          53,
          40,
          60,
          51,
          52,
          50,
          56,
          48,
          49,
          46,
          54,
          47,
          42,
          43,
          55,
          51,
          43,
          45,
          61,
          54,
          45,
          51,
          48,
          47,
          49,
          45,
          49,
          48,
          40,
          51,
          54,
          58,
          52,
          48,
          55,
          46,
          44,
          49,
          55,
          51,
          44,
          44,
          58,
          55,
          45,
          56,
          53,
          55,
          55,
          49,
          49,
          53,
          55,
          42,
          49,
          51,
          48,
          46,
          51,
          40,
          60,
          52,
          57,
          52,
          54,
          59,
          58,
          50,
          57,
          43,
          39,
          53,
          53,
          50,
          51,
          53,
          46,
          47,
          65,
          55,
          52,
          49,
          46,
          42,
          53,
          48,
          56,
          52,
          50,
          54,
          61,
          55,
          40,
          56,
          53,
          50,
          49,
          53,
          41,
          56,
          49,
          57,
          44,
          46,
          46,
          47,
          55,
          44,
          58,
          49,
          43,
          55,
          54,
          47,
          52,
          47,
          48,
          44,
          40,
          46,
          49,
          47,
          48,
          47,
          47,
          42,
          46,
          53,
          52,
          55,
          42,
          57,
          56,
          57,
          54,
          43,
          50,
          45,
          49,
          39,
          54,
          49,
          48,
          62,
          49,
          51,
          56,
          46,
          50,
          54,
          48,
          58,
          50,
          50,
          57,
          52,
          37,
          47,
          50,
          61,
          52,
          55,
          55,
          49,
          51,
          55,
          47,
          44,
          54,
          50,
          51,
          49,
          53,
          50,
          56,
          57,
          52,
          49,
          36,
          43,
          54,
          48,
          47,
          59,
          44,
          52,
          46,
          48,
          49,
          50,
          56,
          53,
          49,
          37,
          55,
          51,
          49,
          48,
          51,
          48,
          55,
          49,
          49,
          52,
          60,
          56,
          50,
          51,
          51,
          58,
          50,
          46,
          45,
          54,
          47,
          51,
          48,
          53,
          58,
          53,
          53,
          52,
          51,
          42,
          50,
          52,
          47,
          56,
          57,
          50,
          43,
          47,
          60,
          48,
          55,
          40,
          46,
          48,
          49,
          42,
          47,
          43,
          46,
          55,
          42,
          54,
          57,
          55,
          44,
          56,
          54,
          51,
          47,
          55,
          51,
          54,
          51,
          46,
          55,
          51,
          44,
          54,
          38,
          44,
          57,
          44,
          45,
          45,
          50,
          45,
          54,
          47,
          47,
          51,
          53,
          45,
          46,
          53,
          57,
          47,
          44,
          52,
          41,
          50,
          49,
          50,
          42,
          50,
          56,
          61,
          48,
          51,
          46,
          42,
          48,
          56,
          42,
          52,
          51,
          48,
          50,
          52,
          58,
          53,
          51,
          53,
          61,
          54,
          54,
          51,
          41,
          46,
          52,
          61,
          44,
          46,
          46,
          47,
          47,
          49,
          52,
          52,
          50,
          61,
          54,
          50,
          55,
          40,
          47,
          57,
          44,
          49,
          48,
          49,
          49,
          44,
          55,
          55,
          51,
          50,
          53,
          49,
          42,
          52,
          45,
          58,
          46,
          45,
          49,
          46,
          47,
          57,
          48,
          47,
          53,
          52,
          56,
          45,
          58,
          49,
          43,
          54,
          56,
          53,
          48,
          46,
          63,
          58,
          53,
          44,
          48,
          47,
          49,
          49,
          55,
          58,
          57,
          56,
          48,
          46,
          41,
          44,
          49,
          41,
          59,
          43,
          55,
          59,
          45,
          57,
          45,
          51,
          57,
          59,
          51,
          61,
          49,
          52,
          44,
          47,
          48,
          45,
          46,
          48,
          50,
          53,
          55,
          47,
          48,
          50,
          50,
          47,
          59,
          50,
          54,
          56,
          47,
          44,
          48,
          52,
          52,
          48,
          52,
          49,
          50,
          53,
          51,
          55,
          52,
          51,
          44,
          48,
          53,
          41,
          54,
          55,
          53,
          48,
          51,
          57,
          49,
          51,
          47,
          56,
          48,
          56,
          53,
          50,
          45,
          52,
          43,
          53,
          53,
          53,
          44,
          55,
          52,
          50,
          48,
          51,
          54,
          56,
          44,
          51,
          55,
          61,
          51,
          39,
          55,
          47,
          45,
          50,
          56,
          52,
          52,
          40,
          49,
          51,
          58,
          48,
          39,
          49,
          53,
          51,
          46,
          48,
          47,
          49,
          51,
          58,
          51,
          49,
          53,
          41,
          43,
          42,
          49,
          52,
          50,
          41,
          57,
          46,
          55,
          47,
          54,
          55,
          52,
          46,
          51,
          43,
          50,
          58,
          53,
          46,
          50,
          54,
          45,
          55,
          50,
          51,
          54,
          55,
          51,
          54,
          52,
          53,
          51,
          55,
          46,
          50,
          54,
          54,
          51,
          48,
          57,
          53,
          58,
          50,
          40,
          54,
          49,
          52,
          46,
          49,
          40,
          48,
          46,
          51,
          49,
          47,
          45,
          49,
          50,
          53,
          48,
          55,
          49,
          54,
          52,
          43,
          43,
          53,
          42,
          52,
          48,
          52,
          43,
          46,
          50,
          54,
          41,
          54,
          49,
          48,
          51,
          48,
          46,
          52,
          54,
          58,
          53,
          42,
          48,
          50,
          60,
          58,
          54,
          54,
          57,
          38,
          47,
          43,
          52,
          54,
          47,
          61,
          55,
          53,
          55,
          51,
          52,
          42,
          46,
          48,
          54,
          44,
          44,
          43,
          53,
          56,
          51,
          51,
          54,
          50,
          50,
          43,
          48,
          61,
          46,
          43,
          57,
          47,
          60,
          41,
          38,
          46,
          45,
          45,
          50,
          50,
          48,
          55,
          40,
          44,
          51,
          51,
          47,
          54,
          40,
          49,
          47,
          54,
          53,
          65,
          51,
          54,
          50,
          46,
          62,
          47,
          44,
          42,
          46,
          45,
          43,
          39,
          43,
          48,
          45,
          55,
          59,
          56,
          45,
          51,
          49,
          54,
          37,
          41,
          56,
          61,
          53,
          49,
          52,
          45,
          48,
          53,
          48,
          51,
          48,
          49,
          48,
          49,
          46,
          44,
          51,
          53,
          51,
          45,
          52,
          52,
          48,
          52,
          42,
          42,
          53,
          56,
          51,
          50,
          52,
          53,
          53,
          48,
          46,
          50,
          53,
          55,
          53,
          55,
          45,
          49,
          47,
          51,
          40,
          58,
          58,
          50,
          58,
          55,
          55,
          58,
          53,
          51,
          51,
          52,
          47,
          50,
          48,
          48,
          48,
          48,
          54,
          55,
          47,
          44,
          49,
          51,
          52,
          59,
          51,
          40,
          52,
          42,
          48,
          47,
          60,
          51,
          50,
          58,
          58,
          47,
          48,
          54,
          57,
          46,
          58,
          51,
          45,
          50,
          46,
          66,
          50,
          47,
          50,
          56,
          49,
          48,
          46,
          38,
          57,
          52,
          54,
          53,
          44,
          58,
          45,
          45,
          50,
          51,
          51,
          44,
          59,
          44,
          55,
          49,
          51,
          55,
          54,
          48,
          52,
          48,
          61,
          59,
          45,
          52,
          49,
          53,
          58,
          43,
          51,
          47,
          51,
          59,
          59,
          41,
          55,
          53,
          48,
          47,
          49,
          54,
          46,
          52,
          57,
          53,
          54,
          52,
          55,
          53,
          37,
          56,
          51,
          56,
          55,
          53,
          53,
          46,
          50,
          48,
          50,
          50,
          55,
          58,
          49,
          51,
          58,
          51,
          52,
          43,
          49,
          47,
          56,
          51,
          49,
          56,
          55,
          55,
          53,
          57,
          51,
          41,
          59,
          54,
          46,
          47,
          51,
          57,
          60,
          56,
          54,
          57,
          48,
          48,
          48,
          54,
          50,
          47,
          44,
          50,
          48,
          42,
          60,
          59,
          55,
          50,
          48,
          54,
          47,
          59,
          53,
          61,
          59,
          46,
          51,
          60,
          53,
          45,
          60,
          52,
          47,
          52,
          39,
          53,
          52,
          54,
          53,
          52,
          48,
          52,
          54,
          45,
          48,
          49,
          59,
          43,
          45,
          51,
          36,
          53,
          56,
          45,
          56,
          47,
          42,
          49,
          51,
          47,
          49,
          42,
          47,
          54,
          61,
          54,
          48,
          52,
          54,
          47,
          49,
          58,
          56,
          48,
          48,
          41,
          45,
          44,
          50,
          51,
          51,
          52,
          56,
          49,
          56,
          52,
          51,
          44,
          43,
          49,
          41,
          46,
          49,
          48,
          56,
          50,
          59,
          50,
          58,
          45,
          47,
          55,
          43,
          48,
          47,
          43,
          46,
          48,
          49,
          50,
          49,
          52,
          56,
          50,
          44,
          62,
          52,
          52,
          56,
          49,
          40,
          43,
          47,
          51,
          46,
          43,
          53,
          53,
          54,
          47,
          53,
          54,
          56,
          48,
          39,
          52,
          45,
          38,
          53,
          53,
          45,
          54,
          53,
          59,
          51,
          49,
          50,
          52,
          54,
          52,
          55,
          51,
          51,
          47,
          57,
          54,
          53,
          39,
          51,
          44,
          44,
          49,
          43,
          55,
          50,
          49,
          46,
          47,
          48,
          49,
          51,
          44,
          52,
          49,
          44,
          48,
          51,
          53,
          57,
          48,
          50,
          45,
          64,
          58,
          51,
          50,
          45,
          54,
          55,
          40,
          53,
          48,
          51,
          48,
          49,
          54,
          47,
          61,
          50,
          45,
          45,
          52,
          46,
          42,
          44,
          58,
          51,
          52,
          41,
          44,
          61,
          39,
          46,
          44,
          60,
          41,
          51,
          61,
          64,
          56,
          48,
          43,
          48,
          53,
          53,
          51,
          49,
          43,
          53,
          53,
          49,
          49,
          55,
          54,
          43,
          51,
          55,
          61,
          70,
          47,
          62,
          51,
          47,
          51,
          43,
          42,
          53,
          46,
          57,
          61,
          49,
          53,
          42,
          55,
          43,
          45,
          43,
          34,
          53,
          50,
          50,
          50,
          53,
          47,
          46,
          47,
          45,
          52,
          44,
          44,
          55,
          51,
          45,
          47,
          49,
          50,
          53,
          41,
          43,
          45,
          58,
          56,
          50,
          53,
          53,
          51,
          53,
          46,
          39,
          37,
          42,
          55,
          41,
          48,
          46,
          57,
          39,
          48,
          54,
          61,
          46,
          41,
          53,
          47,
          52,
          51,
          43,
          53,
          49,
          46,
          58,
          41,
          48,
          41,
          48,
          49,
          58,
          56,
          47,
          48,
          55,
          49,
          59,
          59,
          49,
          52,
          54,
          51,
          47,
          58,
          53,
          57,
          45,
          50,
          44,
          48,
          49,
          46,
          51,
          55,
          54,
          47,
          51,
          47,
          54,
          43,
          52,
          46,
          52,
          49,
          40,
          50,
          39,
          49,
          47,
          57,
          44,
          41,
          53,
          48,
          44,
          50,
          52,
          45,
          46,
          47,
          46,
          56,
          49,
          53,
          55,
          52,
          51,
          51,
          45,
          36,
          58,
          47,
          42,
          51,
          50,
          49,
          49,
          44,
          53,
          50,
          46,
          43,
          49,
          43,
          54,
          49,
          54,
          52,
          39,
          46,
          52,
          50,
          55,
          51,
          44,
          58,
          48,
          47,
          51,
          48,
          57,
          46,
          52,
          45,
          58,
          52,
          58,
          54,
          48,
          54,
          53,
          52,
          51,
          55,
          50,
          48,
          54,
          55,
          39,
          54,
          48,
          39,
          53,
          48,
          56,
          51,
          55,
          51,
          45,
          49,
          49,
          46,
          55,
          46,
          46,
          49,
          50,
          54,
          54,
          58,
          51,
          48,
          45,
          44,
          51,
          54,
          52,
          41,
          45,
          40,
          50,
          48,
          54,
          54,
          50,
          42,
          43,
          45,
          47,
          50,
          50,
          46,
          57,
          49,
          53,
          58,
          55,
          51,
          60,
          53,
          46,
          37,
          52,
          48,
          44,
          43,
          55,
          43,
          55,
          58,
          54,
          47,
          54,
          58,
          44,
          55,
          52,
          51,
          42,
          47,
          51,
          59,
          47,
          43,
          61,
          46,
          50,
          47,
          58,
          49,
          47,
          52,
          51,
          57,
          59,
          46,
          49,
          52,
          57,
          49,
          53,
          54,
          57,
          50,
          51,
          49,
          55,
          46,
          49,
          52,
          46,
          48,
          35,
          43,
          45,
          50,
          48,
          52,
          48,
          59,
          51,
          49,
          47,
          46,
          53,
          56,
          51,
          45,
          53,
          59,
          58,
          57,
          52,
          56,
          49,
          48,
          57,
          45,
          52,
          61,
          50,
          54,
          50,
          46,
          56,
          50,
          48,
          48,
          42,
          46,
          49,
          44,
          48,
          38,
          49,
          41,
          48,
          48,
          51,
          52,
          49,
          52,
          53,
          48,
          49,
          52,
          49,
          52,
          44,
          50,
          41,
          45,
          47,
          49,
          48,
          55,
          53,
          45,
          51,
          43,
          56,
          51,
          47,
          42,
          43,
          48,
          47,
          56,
          48,
          51,
          52,
          54,
          43,
          51,
          51,
          48,
          47,
          47,
          50,
          60,
          52,
          44,
          67,
          44,
          48,
          47,
          57,
          58,
          51,
          48,
          56,
          55,
          49,
          50,
          56,
          55,
          38,
          48,
          50,
          47,
          54,
          63,
          46,
          46,
          55,
          48,
          48,
          54,
          63,
          56,
          47,
          48,
          57,
          45,
          52,
          45,
          54,
          56,
          49,
          44,
          41,
          44,
          46,
          46,
          56,
          46,
          49,
          43,
          55,
          59,
          45,
          47,
          55,
          48,
          45,
          46,
          45,
          47,
          50,
          56,
          47,
          49,
          49,
          59,
          51,
          43,
          51,
          47,
          51,
          53,
          38,
          41,
          37,
          50,
          51,
          50,
          49,
          47,
          42,
          50,
          50,
          57,
          51,
          57,
          55,
          52,
          46,
          55,
          53,
          41,
          58,
          47,
          53,
          56,
          48,
          56,
          47,
          48,
          50,
          46,
          53,
          52,
          57,
          47,
          51,
          43,
          49,
          45,
          49,
          48,
          50,
          51,
          46,
          52,
          47,
          50,
          45,
          51,
          46,
          46,
          49,
          50,
          46,
          44,
          48,
          49,
          45,
          49,
          49,
          50,
          46,
          43,
          62,
          55,
          42,
          50,
          51,
          46,
          40,
          50,
          48,
          51,
          52,
          61,
          55,
          58,
          52,
          52,
          54,
          52,
          48,
          53,
          45,
          54,
          45,
          57,
          51,
          51,
          48,
          44,
          51,
          53,
          58,
          54,
          63,
          45,
          51,
          51,
          46,
          49,
          43,
          62,
          42,
          51,
          43,
          45,
          48,
          55,
          43,
          44,
          52,
          41,
          45,
          46,
          41,
          52,
          51,
          46,
          45,
          59,
          51,
          50,
          45,
          53,
          54,
          53,
          56,
          55,
          47,
          47,
          54,
          48,
          44,
          61,
          57,
          54,
          50,
          52,
          37,
          48,
          51,
          43,
          49,
          52,
          42,
          50,
          54,
          51,
          37,
          44,
          51,
          52,
          40,
          49,
          53,
          48,
          49,
          54,
          48,
          45,
          59,
          45,
          47,
          53,
          45,
          49,
          48,
          48,
          55,
          43,
          48,
          43,
          46,
          53,
          52,
          51,
          43,
          44,
          55,
          46,
          51,
          48,
          54,
          52,
          42,
          55,
          49,
          48,
          44,
          54,
          55,
          58,
          49,
          50,
          58,
          53,
          51,
          52,
          49,
          47,
          54,
          52,
          49,
          53,
          54,
          53,
          53,
          53,
          56,
          50,
          55,
          45,
          45,
          48,
          56,
          57,
          51,
          54,
          60,
          44,
          42,
          50,
          54,
          43,
          48,
          43,
          48,
          45,
          50,
          52,
          52,
          54,
          43,
          51,
          54,
          41,
          52,
          38,
          53,
          50,
          54,
          52,
          51,
          42,
          52,
          51,
          46,
          51,
          44,
          54,
          50,
          44,
          47,
          53,
          41,
          55,
          50,
          56,
          62,
          51,
          49,
          44,
          49,
          56,
          46,
          57,
          50,
          52,
          52,
          53,
          56,
          46,
          46,
          61,
          48,
          45,
          44,
          56,
          50,
          52,
          54,
          41,
          49,
          48,
          42,
          45,
          45,
          54,
          49,
          46,
          50,
          55,
          58,
          53,
          53,
          55,
          47,
          59,
          54,
          45,
          54,
          49,
          44,
          55,
          53,
          46,
          51,
          58,
          50,
          54,
          48,
          48,
          56,
          45,
          46,
          51,
          65,
          45,
          49,
          49,
          55,
          52,
          52,
          55,
          52,
          51,
          45,
          49,
          52,
          52,
          51,
          43,
          54,
          47,
          58,
          43,
          50,
          50,
          47,
          51,
          43,
          45,
          49,
          47,
          40,
          52,
          56,
          59,
          51,
          46,
          49,
          56,
          39,
          60,
          52,
          56,
          47,
          52,
          43,
          56,
          63,
          54,
          49,
          55,
          53,
          48,
          53,
          53,
          51,
          50,
          49,
          47,
          49,
          47,
          50,
          47,
          52,
          44,
          59,
          54,
          46,
          57,
          44,
          46,
          51,
          56,
          61,
          53,
          56,
          52,
          42,
          54,
          46,
          46,
          48,
          54,
          49,
          50,
          52,
          44,
          48,
          52,
          46,
          50,
          50,
          51,
          52,
          47,
          57,
          47,
          58,
          42,
          52,
          56,
          46,
          51,
          50,
          55,
          49,
          48,
          60,
          58,
          50,
          44,
          53,
          51,
          52,
          55,
          43,
          52,
          42,
          54,
          49,
          52,
          47,
          47,
          39,
          47,
          53,
          54,
          48,
          44,
          52,
          44,
          56,
          50,
          55,
          61,
          48,
          48,
          49,
          57,
          51,
          49,
          52,
          53,
          50,
          48,
          52,
          37,
          48,
          49,
          51,
          50,
          44,
          55,
          55,
          49,
          53,
          49,
          45,
          54,
          49,
          45,
          52,
          41,
          43,
          46,
          52,
          54,
          60,
          46,
          51,
          56,
          55,
          49,
          46,
          56,
          58,
          40,
          46,
          57,
          48,
          52,
          48,
          43,
          46,
          55,
          50,
          41,
          42,
          45,
          47,
          49,
          66,
          61,
          36,
          49,
          53,
          48,
          50,
          42,
          47,
          52,
          48,
          51,
          52,
          49,
          49,
          46,
          48,
          48,
          46,
          49,
          57,
          51,
          44,
          51,
          60,
          54,
          49,
          52,
          54,
          50,
          47,
          44,
          51,
          51,
          43,
          59,
          45,
          47,
          45,
          51,
          49,
          49,
          44,
          56,
          50,
          49,
          56,
          46,
          49,
          43,
          55,
          41,
          38,
          46,
          44,
          44,
          47,
          49,
          49,
          57,
          58,
          50,
          57,
          53,
          53,
          48,
          47,
          53,
          44,
          50,
          48,
          55,
          47,
          45,
          56,
          49,
          43,
          46,
          54,
          48,
          55,
          45,
          53,
          47,
          47,
          43,
          53,
          53,
          57,
          48,
          56,
          56,
          56,
          52,
          45,
          45,
          49,
          50,
          57,
          39,
          48,
          51,
          57,
          46,
          48,
          47,
          51,
          51,
          54,
          49,
          60,
          50,
          46,
          58,
          49,
          52,
          41,
          52,
          45,
          55,
          51,
          52,
          57,
          54,
          44,
          44,
          52,
          47,
          49,
          48,
          56,
          42,
          49,
          46,
          57,
          43,
          48,
          44,
          54,
          52,
          53,
          51,
          45,
          51,
          47,
          54,
          45,
          57,
          52,
          49,
          50,
          47,
          45,
          47,
          55,
          48,
          53,
          54,
          56,
          58,
          42,
          50,
          40,
          47,
          64,
          53,
          39,
          53,
          54,
          43,
          61,
          42,
          56,
          38,
          50,
          51,
          54,
          56,
          57,
          49,
          49,
          39,
          51,
          49,
          46,
          59,
          50,
          51,
          48,
          54,
          59,
          65,
          49,
          50,
          55,
          48,
          48,
          42,
          48,
          50,
          54,
          52,
          56,
          36,
          45,
          47,
          47,
          49,
          51,
          45,
          51,
          48,
          52,
          49,
          53,
          47,
          51,
          49,
          50,
          60,
          62,
          52,
          51,
          43,
          52,
          58,
          49,
          50,
          46,
          44,
          46,
          47,
          50,
          54,
          52,
          46,
          45,
          53,
          53,
          51,
          61,
          52,
          65,
          50,
          47,
          57,
          61,
          57,
          44,
          51,
          47,
          51,
          42,
          51,
          48,
          57,
          54,
          55,
          47,
          51,
          58,
          48,
          48,
          56,
          42,
          50,
          48,
          54,
          45,
          60,
          55,
          60,
          45,
          51,
          45,
          57,
          65,
          54,
          51,
          48,
          58,
          45,
          48,
          38,
          53,
          46,
          48,
          48,
          46,
          51,
          54,
          53,
          45,
          56,
          55,
          57,
          52,
          54,
          48,
          49,
          57,
          49,
          47,
          54,
          51,
          52,
          37,
          56,
          45,
          45,
          51,
          51,
          49,
          54,
          49,
          49,
          45,
          43,
          46,
          46,
          46,
          58,
          46,
          42,
          51,
          50,
          49,
          48,
          50,
          38,
          44,
          43,
          57,
          41,
          54,
          47,
          44,
          48,
          51,
          50,
          50,
          47,
          54,
          45,
          48,
          48,
          47,
          52,
          52,
          52,
          52,
          50,
          37,
          50,
          50,
          55,
          43,
          53,
          50,
          52,
          55,
          50,
          46,
          55,
          43,
          59,
          44,
          41,
          49,
          45,
          53,
          40,
          53,
          43,
          48,
          50,
          47,
          48,
          52,
          45,
          48,
          47,
          41,
          44,
          54,
          51,
          60,
          52,
          56,
          48,
          49,
          40,
          51,
          47,
          53,
          54,
          46,
          42,
          39,
          50,
          46,
          47,
          50,
          55,
          51,
          57,
          55,
          48,
          51,
          44,
          40,
          42,
          46,
          49,
          51,
          53,
          49,
          45,
          47,
          52,
          53,
          48,
          49,
          47,
          53,
          49,
          50,
          49,
          51,
          48,
          48,
          51,
          53,
          50,
          54,
          57,
          48,
          34,
          49,
          50,
          49,
          49,
          39,
          48,
          50,
          52,
          43,
          57,
          52,
          46,
          54,
          49,
          51,
          50,
          49,
          60,
          48,
          44,
          49,
          53,
          45,
          38,
          61,
          44,
          46,
          53,
          51,
          53,
          40,
          53,
          51,
          50,
          50,
          49,
          44,
          47,
          51,
          48,
          45,
          45,
          52,
          50,
          48,
          51,
          52,
          46,
          52,
          46,
          48,
          44,
          57,
          55,
          49,
          46,
          53,
          47,
          51,
          69,
          47,
          44,
          52,
          54,
          46,
          51,
          53,
          54,
          43,
          44,
          42,
          61,
          60,
          55,
          54,
          50,
          47,
          48,
          51,
          50,
          51,
          35,
          46,
          47,
          56,
          47,
          56,
          51,
          49,
          46,
          53,
          49,
          63,
          49,
          46,
          57,
          38,
          49,
          50,
          46,
          44,
          56,
          43,
          48,
          52,
          55,
          50,
          53,
          48,
          51,
          50,
          45,
          53,
          46,
          52,
          39,
          52,
          53,
          46,
          52,
          38,
          46,
          57,
          43,
          43,
          48,
          57,
          46,
          45,
          43,
          43,
          56,
          55,
          61,
          50,
          44,
          50,
          53,
          55,
          56,
          53,
          46,
          54,
          46,
          42,
          44,
          51,
          45,
          50,
          46,
          48,
          49,
          42,
          53,
          56,
          43,
          50,
          45,
          47,
          43,
          51,
          55,
          52,
          47,
          57,
          54,
          44,
          50,
          49,
          47,
          56,
          57,
          53,
          57,
          52,
          54,
          55,
          52,
          51,
          48,
          51,
          45,
          57,
          51,
          52,
          52,
          51,
          53,
          38,
          48,
          42,
          43,
          44,
          46,
          45,
          56,
          47,
          48,
          52,
          54,
          38,
          46,
          56,
          51,
          50,
          43,
          50,
          55,
          47,
          59,
          41,
          53,
          52,
          47,
          50,
          45,
          46,
          52,
          42,
          54,
          52,
          50,
          44,
          54,
          44,
          59,
          39,
          48,
          54,
          56,
          51,
          48,
          45,
          53,
          53,
          49,
          56,
          55,
          57,
          45,
          59,
          51,
          48,
          44,
          52,
          58,
          53,
          49,
          48,
          49,
          44,
          48,
          47,
          51,
          52,
          50,
          61,
          51,
          51,
          49,
          49,
          60,
          49,
          46,
          49,
          47,
          48,
          51,
          38,
          52,
          46,
          45,
          53,
          55,
          48,
          52,
          56,
          45,
          52,
          48,
          50,
          54,
          48,
          49,
          59,
          52,
          47,
          57,
          50,
          52,
          56,
          47,
          54,
          48,
          50,
          56,
          58,
          52,
          48,
          41,
          52,
          53,
          47,
          49,
          54,
          43,
          51,
          55,
          38,
          52,
          50,
          44,
          49,
          45,
          50,
          44,
          47,
          49,
          43,
          48,
          46,
          53,
          50,
          46,
          46,
          59,
          48,
          50,
          36,
          50,
          51,
          52,
          51,
          44,
          51,
          58,
          53,
          56,
          45,
          52,
          46,
          48,
          59,
          55,
          52,
          48,
          50,
          50,
          53,
          53,
          48,
          53,
          54,
          51,
          50,
          51,
          56,
          41,
          53,
          41,
          47,
          43,
          51,
          51,
          49,
          51,
          50,
          49,
          55,
          46,
          56,
          59,
          58,
          57,
          57,
          50,
          49,
          52,
          56,
          53,
          47,
          61,
          52,
          41,
          51,
          53,
          51,
          55,
          49,
          49,
          52,
          49,
          54,
          47,
          52,
          46,
          50,
          54,
          48,
          45,
          61,
          43,
          51,
          53,
          54,
          46,
          45,
          44,
          45,
          53,
          55,
          48,
          55,
          49,
          53,
          50,
          44,
          48,
          61,
          44,
          50,
          46,
          45,
          56,
          49,
          49,
          54,
          55,
          55,
          50,
          43,
          48,
          49,
          55,
          46,
          51,
          44,
          44,
          53,
          49,
          50,
          45,
          50,
          55,
          49,
          52,
          50,
          55,
          53,
          40,
          50,
          52,
          41,
          57,
          52,
          50,
          51,
          54,
          53,
          45,
          63,
          47,
          47,
          55,
          46,
          38,
          46,
          43,
          49,
          47,
          55,
          41,
          43,
          55,
          56,
          45,
          46,
          50,
          53,
          47,
          45,
          45,
          49,
          44,
          45,
          39,
          46,
          58,
          43,
          53,
          53,
          53,
          47,
          45,
          55,
          58,
          51,
          48,
          51,
          49,
          48,
          47,
          57,
          50,
          50,
          59,
          50,
          50,
          46,
          48,
          44,
          46,
          47,
          49,
          50,
          51,
          51,
          52,
          48,
          48,
          51,
          44,
          45,
          47,
          53,
          51,
          45,
          44,
          51,
          45,
          43,
          51,
          40,
          54,
          50,
          48,
          42,
          50,
          54,
          59,
          46,
          46,
          51,
          50,
          46,
          57,
          42,
          47,
          57,
          45,
          47,
          51,
          46,
          44,
          63,
          50,
          41,
          53,
          43,
          55,
          51,
          52,
          38,
          50,
          49,
          49,
          48,
          48,
          47,
          46,
          56,
          45,
          46,
          51,
          51,
          48,
          56,
          42,
          50,
          49,
          47,
          46,
          57,
          47,
          52,
          48,
          53,
          55,
          51,
          54,
          41,
          57,
          38,
          52,
          46,
          49,
          51,
          46,
          44,
          54,
          51,
          47,
          56,
          44,
          48,
          45,
          55,
          47,
          47,
          48,
          58,
          51,
          48,
          45,
          41,
          49,
          49,
          50,
          42,
          54,
          55,
          45,
          55,
          48,
          40,
          53,
          51,
          52,
          49,
          55,
          61,
          49,
          52,
          57,
          44,
          51,
          54,
          49,
          46,
          46,
          59,
          52,
          49,
          50,
          51,
          45,
          49,
          45,
          48,
          52,
          47,
          47,
          48,
          51,
          49,
          51,
          44,
          48,
          42,
          48,
          49,
          52,
          48,
          47,
          43,
          55,
          50,
          53,
          43,
          51,
          52,
          59,
          41,
          53,
          50,
          46,
          51,
          54,
          47,
          45,
          57,
          54,
          56,
          59,
          45,
          53,
          47,
          49,
          46,
          51,
          47,
          57,
          43,
          41,
          52,
          54,
          59,
          54,
          63,
          53,
          51,
          54,
          56,
          50,
          48,
          47,
          48,
          59,
          52,
          60,
          53,
          48,
          49,
          52,
          55,
          54,
          49,
          56,
          50,
          47,
          45,
          43,
          48,
          52,
          49,
          55,
          48,
          58,
          47,
          52,
          53,
          46,
          46,
          48,
          60,
          53,
          58,
          48,
          46,
          41,
          50,
          59,
          44,
          54,
          51,
          52,
          52,
          54,
          52,
          57,
          42,
          47,
          52,
          46,
          52,
          58,
          55,
          42,
          52,
          49,
          50,
          44,
          58,
          42,
          50,
          44,
          47,
          45,
          56,
          45,
          55,
          52,
          47,
          51,
          50,
          57,
          47,
          58,
          52,
          47,
          52,
          61,
          56,
          42,
          58,
          51,
          47,
          42,
          50,
          46,
          57,
          54,
          49,
          55,
          56,
          43,
          54,
          48,
          50,
          53,
          49,
          47,
          51,
          50,
          56,
          50,
          43,
          52,
          48,
          55,
          52,
          50,
          51,
          47,
          47,
          44,
          42,
          40,
          52,
          47,
          49,
          43,
          48,
          56,
          53,
          50,
          45,
          50,
          52,
          47,
          52,
          50,
          49,
          45,
          44,
          61,
          60,
          49,
          48,
          53,
          51,
          49,
          52,
          50,
          44,
          53,
          44,
          50,
          45,
          43,
          59,
          53,
          58,
          46,
          52,
          49,
          45,
          52,
          49,
          47,
          50,
          57,
          57,
          51,
          53,
          46,
          53,
          52,
          46,
          62,
          38,
          44,
          57,
          46,
          49,
          49,
          52,
          48,
          54,
          44,
          52,
          51,
          47,
          46,
          53,
          57,
          54,
          52,
          55,
          50,
          49,
          47,
          52,
          50,
          50,
          59,
          51,
          49,
          53,
          55,
          50,
          50,
          55,
          44,
          39,
          38,
          57,
          50,
          46,
          50,
          42,
          49,
          55,
          49,
          55,
          46,
          41,
          52,
          47,
          47,
          46,
          47,
          42,
          49,
          47,
          53,
          40,
          52,
          45,
          52,
          36,
          46,
          54,
          62,
          47,
          53,
          41,
          51,
          51,
          49,
          55,
          47,
          44,
          53,
          42,
          44,
          51,
          52,
          48,
          51,
          50,
          49,
          49,
          58,
          50,
          58,
          49,
          51,
          46,
          49,
          52,
          48,
          55,
          50,
          45,
          60,
          46,
          51,
          49,
          46,
          56,
          54,
          50,
          51,
          53,
          52,
          55,
          52,
          61,
          49,
          54,
          51,
          48,
          53,
          47,
          43,
          43,
          48,
          56,
          49,
          45,
          51,
          54,
          49,
          53,
          48,
          47,
          47,
          50,
          56,
          53,
          52,
          51,
          49,
          53,
          48,
          59,
          50,
          48,
          46,
          45,
          50,
          46,
          52,
          39,
          54,
          53,
          56,
          41,
          63,
          57,
          53,
          50,
          51,
          54,
          50,
          50,
          45,
          56,
          56,
          48,
          53,
          52,
          49,
          46,
          52,
          55,
          44,
          60,
          54,
          54,
          59,
          52,
          49,
          52,
          44,
          49,
          53,
          48,
          40,
          48,
          43,
          51,
          42,
          47,
          56,
          47,
          60,
          46,
          47,
          44,
          59,
          44,
          46,
          44,
          52,
          58,
          51,
          45,
          50,
          51,
          46,
          49,
          48,
          52,
          50,
          45,
          50,
          55,
          46,
          45,
          46,
          46,
          48,
          44,
          52,
          45,
          51,
          49,
          54,
          56,
          46,
          48,
          50,
          52,
          49,
          47,
          55,
          52,
          51,
          58,
          48,
          51,
          52,
          47,
          49,
          55,
          55,
          33,
          56,
          53,
          59,
          47,
          50,
          47,
          56,
          51,
          48,
          49,
          55,
          50,
          47,
          48,
          51,
          55,
          46,
          47,
          51,
          53,
          57,
          43,
          51,
          58,
          48,
          46,
          49,
          51,
          53,
          43,
          45,
          51,
          46,
          47,
          55,
          38,
          50,
          51,
          51,
          44,
          56,
          50,
          44,
          43,
          48,
          46,
          47,
          43,
          44,
          43,
          56,
          57,
          48,
          58,
          54,
          41,
          50,
          47,
          49,
          41,
          47,
          53,
          50,
          45,
          53,
          51,
          42,
          47,
          45,
          44,
          48,
          47,
          46,
          48,
          54,
          45,
          50,
          54,
          41,
          49,
          44,
          47,
          51,
          50,
          48,
          56,
          50,
          52,
          53,
          45,
          51,
          57,
          55,
          48,
          54,
          50,
          51,
          53,
          42,
          55,
          48,
          53,
          54,
          47,
          57,
          47,
          42,
          48,
          55,
          44,
          52,
          47,
          42,
          48,
          45,
          61,
          47,
          43,
          50,
          55,
          48,
          53,
          45,
          46,
          51,
          57,
          50,
          49,
          47,
          48,
          51,
          57,
          46,
          52,
          54,
          55,
          52,
          50,
          46,
          49,
          52,
          51,
          40,
          52,
          53,
          41,
          53,
          50,
          55,
          50,
          50,
          54,
          46,
          46,
          49,
          52,
          42,
          59,
          50,
          49,
          52,
          49,
          47,
          49,
          59,
          45,
          49,
          48,
          51,
          59,
          51,
          45,
          51,
          42,
          55,
          48,
          37,
          45,
          52,
          46,
          58,
          46,
          43,
          50,
          50,
          52,
          49,
          45,
          52,
          56,
          50,
          50,
          60,
          45,
          55,
          57,
          45,
          59,
          42,
          57,
          63,
          54,
          46,
          53,
          46,
          56,
          48,
          54,
          50,
          46,
          52,
          44,
          42,
          55,
          44,
          46,
          45,
          48,
          52,
          53,
          52,
          50,
          54,
          57,
          56,
          48,
          46,
          51,
          39,
          48,
          46,
          43,
          49,
          56,
          44,
          49,
          59,
          54,
          41,
          52,
          48,
          42,
          55,
          53,
          58,
          46,
          49,
          53,
          46,
          50,
          62,
          46,
          43,
          52,
          46,
          46,
          47,
          48,
          50,
          50,
          56,
          53,
          47,
          45,
          48,
          47,
          54,
          55,
          54,
          53,
          55,
          52,
          48,
          53,
          50,
          51,
          55,
          48,
          49,
          44,
          51,
          51,
          48,
          40,
          54,
          45,
          52,
          53,
          48,
          47,
          54,
          45,
          52,
          49,
          51,
          50,
          54,
          54,
          47,
          48,
          38,
          41,
          53,
          44,
          46,
          48,
          46,
          55,
          53,
          40,
          53,
          49,
          56,
          62,
          57,
          44,
          38,
          58,
          50,
          53,
          58,
          48,
          60,
          53,
          47,
          47,
          45,
          46,
          45,
          51,
          44,
          57,
          47,
          54,
          47,
          48,
          49,
          52,
          44,
          43,
          49,
          55,
          36,
          54,
          64,
          45,
          54,
          44,
          48,
          57,
          53,
          46,
          45,
          48,
          51,
          47,
          48,
          54,
          58,
          59,
          46,
          47,
          57,
          51,
          50,
          58,
          51,
          43,
          56,
          53,
          54,
          56,
          43,
          46,
          50,
          44,
          52,
          43,
          52,
          46,
          54,
          52,
          51,
          48,
          53,
          50,
          45,
          46,
          51,
          54,
          53,
          56,
          52,
          51,
          45,
          49,
          53,
          48,
          47,
          58,
          56,
          57,
          54,
          49,
          45,
          53,
          60,
          50,
          50,
          43,
          48,
          50,
          42,
          53,
          47,
          50,
          56,
          48,
          53,
          53,
          48,
          50,
          46,
          44,
          46,
          49,
          47,
          53,
          40,
          48,
          45,
          48,
          57,
          46,
          55,
          50,
          52,
          41,
          46,
          51,
          58,
          42,
          49,
          50,
          49,
          53,
          50,
          49,
          59,
          50,
          48,
          51,
          49,
          43,
          49,
          44,
          59,
          52,
          44,
          52,
          57,
          40,
          51,
          51,
          48,
          49,
          53,
          46,
          42,
          50,
          57,
          50,
          55,
          46,
          56,
          50,
          46,
          52,
          49,
          43,
          47,
          55,
          44,
          46,
          47,
          49,
          55,
          47,
          44,
          47,
          54,
          47,
          54,
          53,
          44,
          48,
          55,
          40,
          59,
          49,
          53,
          53,
          50,
          54,
          44,
          53,
          60,
          48,
          56,
          47,
          49,
          59,
          62,
          51,
          40,
          55,
          54,
          54,
          56,
          44,
          66,
          53,
          55,
          47,
          59,
          47,
          53,
          51,
          46,
          46,
          50,
          51,
          48,
          46,
          48,
          48,
          49,
          47,
          50,
          50,
          49,
          46,
          50,
          47,
          49,
          54,
          56,
          59,
          48,
          42,
          42,
          47,
          53,
          45,
          53,
          47,
          50,
          56,
          38,
          53,
          55,
          50,
          59,
          50,
          47,
          53,
          59,
          43,
          46,
          67,
          48,
          49,
          52,
          52,
          52,
          50,
          52,
          49,
          53,
          49,
          45,
          46,
          53,
          45,
          51,
          57,
          44,
          51,
          51,
          52,
          55,
          49,
          44,
          53,
          51,
          42,
          49,
          63,
          49,
          52,
          48,
          50,
          52,
          53,
          55,
          56,
          60,
          55,
          49,
          47,
          54,
          52,
          60,
          57,
          53,
          54,
          51,
          47,
          42,
          56,
          52,
          47,
          42,
          48,
          45,
          38,
          48,
          47,
          55,
          56,
          55,
          41,
          46,
          50,
          50,
          44,
          43,
          45,
          47,
          50,
          48,
          52,
          51,
          58,
          58,
          54,
          48,
          64,
          57,
          52,
          48,
          50,
          60,
          54,
          57,
          47,
          55,
          51,
          49,
          51,
          46,
          50,
          49,
          51,
          53,
          50,
          45,
          51,
          47,
          55,
          41,
          52,
          49,
          56,
          48,
          58,
          54,
          46,
          59,
          46,
          40,
          53,
          56,
          52,
          47,
          48,
          56,
          57,
          44,
          38,
          47,
          56,
          49,
          53,
          50,
          50,
          50,
          48,
          47,
          44,
          50,
          58,
          48,
          45,
          53,
          50,
          51,
          56,
          53,
          42,
          56,
          42,
          59,
          56,
          41,
          47,
          40,
          48,
          48,
          48,
          48,
          48,
          61,
          44,
          43,
          51,
          56,
          58,
          49,
          46,
          52,
          51,
          52,
          50,
          57,
          53,
          60,
          50,
          45,
          46,
          47,
          46,
          50,
          58,
          47,
          51,
          52,
          52,
          53,
          61,
          45,
          52,
          49,
          46,
          60,
          62,
          52,
          50,
          50,
          48,
          56,
          45,
          54,
          52,
          49,
          54,
          60,
          47,
          56,
          53,
          53,
          51,
          54,
          48,
          53,
          45,
          43,
          48,
          46,
          50,
          42,
          47,
          50,
          46,
          57,
          59,
          48,
          52,
          51,
          45,
          56,
          50,
          53,
          56,
          48,
          55,
          40,
          53,
          50,
          63,
          53,
          52,
          51,
          50,
          47,
          54,
          47,
          49,
          52,
          57,
          56,
          57,
          55,
          50,
          50,
          56,
          53,
          51,
          51,
          51,
          56,
          48,
          51,
          57,
          54,
          50,
          43,
          41,
          51,
          51,
          53,
          46,
          51,
          51,
          49,
          39,
          55,
          56,
          46,
          48,
          52,
          44,
          52,
          36,
          50,
          41,
          46,
          47,
          55,
          42,
          46,
          47,
          53,
          45,
          50,
          58,
          44,
          51,
          43,
          54,
          52,
          40,
          47,
          47,
          52,
          56,
          53,
          51,
          54,
          57,
          53,
          56,
          58,
          48,
          53,
          51,
          44,
          56,
          55,
          52,
          43,
          53,
          48,
          43,
          41,
          51,
          54,
          56,
          47,
          45,
          55,
          46,
          57,
          53,
          49,
          47,
          53,
          55,
          53,
          57,
          54,
          55,
          46,
          51,
          49,
          52,
          52,
          57,
          53,
          59,
          45,
          48,
          42,
          52,
          48,
          44,
          51,
          53,
          48,
          56,
          58,
          59,
          50,
          53,
          50,
          51,
          50,
          49,
          52,
          55,
          51,
          49,
          48,
          55,
          46,
          53,
          42,
          42,
          57,
          52,
          62,
          52,
          51,
          43,
          45,
          55,
          53,
          54,
          45,
          53,
          56,
          48,
          53,
          44,
          41,
          47,
          54,
          49,
          53,
          51,
          60,
          41,
          48,
          54,
          50,
          52,
          56,
          55,
          56,
          43,
          49,
          46,
          58,
          46,
          43,
          48,
          51,
          50,
          58,
          53,
          48,
          49,
          56,
          50,
          60,
          41,
          54,
          51,
          45,
          47,
          59,
          54,
          44,
          44,
          45,
          50,
          43,
          49,
          41,
          55,
          58,
          64,
          45,
          47,
          57,
          50,
          53,
          43,
          45,
          45,
          39,
          55,
          56,
          47,
          45,
          45,
          48,
          45,
          55,
          58,
          51,
          51,
          52,
          53,
          55,
          54,
          54,
          50,
          51,
          55,
          50,
          43,
          51,
          56,
          54,
          50,
          57,
          55,
          50,
          55,
          48,
          49,
          44,
          56,
          48,
          45,
          44,
          60,
          56,
          59,
          52,
          45,
          58,
          48,
          48,
          54,
          42,
          54,
          50,
          51,
          53,
          46,
          54,
          44,
          51,
          57,
          52,
          36,
          50,
          59,
          46,
          46,
          54,
          51,
          42,
          49,
          48,
          53,
          41,
          46,
          47,
          52,
          47,
          56,
          53,
          53,
          44,
          49,
          50,
          46,
          44,
          43,
          41,
          39,
          50,
          50,
          50,
          46,
          43,
          50,
          53,
          44,
          47,
          47,
          57,
          45,
          50,
          40,
          44,
          46,
          51,
          56,
          56,
          48,
          53,
          51,
          45,
          51,
          51,
          46,
          49,
          48,
          43,
          62,
          52,
          55,
          59,
          47,
          60,
          62,
          45,
          43,
          42,
          49,
          43,
          53,
          58,
          41,
          56,
          54,
          44,
          50,
          52,
          47,
          51,
          53,
          46,
          47,
          55,
          42,
          56,
          57,
          54,
          54,
          51,
          51,
          53,
          50,
          56,
          61,
          51,
          46,
          56,
          45,
          47,
          58,
          50,
          54,
          47,
          52,
          47,
          50,
          42,
          54,
          53,
          49,
          65,
          49,
          53,
          49,
          51,
          50,
          46,
          51,
          53,
          44,
          53,
          53,
          50,
          54,
          49,
          56,
          48,
          44,
          48,
          55,
          43,
          50,
          47,
          52,
          53,
          43,
          56,
          53,
          51,
          53,
          60,
          49,
          49,
          49,
          44,
          45,
          58,
          53,
          52,
          64,
          45,
          44,
          42,
          50,
          46,
          45,
          51,
          51,
          56,
          52,
          46,
          46,
          53,
          49,
          45,
          48,
          50,
          58,
          60,
          46,
          51,
          42,
          39,
          55,
          47,
          47,
          58,
          54,
          47,
          49,
          50,
          49,
          56,
          54,
          51,
          48,
          57,
          48,
          50,
          44,
          51,
          46,
          46,
          53,
          51,
          53,
          42,
          51,
          37,
          44,
          58,
          53,
          51,
          56,
          57,
          44,
          52,
          48,
          53,
          48,
          57,
          57,
          54,
          49,
          48,
          46,
          47,
          56,
          48,
          44,
          52,
          55,
          53,
          46,
          58,
          54,
          53,
          49,
          52,
          49,
          50,
          53,
          52,
          48,
          48,
          53,
          52,
          40,
          46,
          54,
          57,
          55,
          47,
          47,
          40,
          54,
          53,
          57,
          49,
          55,
          61,
          54,
          53,
          54,
          51,
          51,
          57,
          42,
          48,
          55,
          56,
          50,
          51,
          55,
          50,
          46,
          52,
          53,
          53,
          46,
          56,
          50,
          53,
          47,
          48,
          48,
          51,
          47,
          50,
          56,
          50,
          49,
          50,
          50,
          48,
          50,
          48,
          46,
          48,
          43,
          49,
          45,
          60,
          48,
          42,
          50,
          51,
          58,
          54,
          44,
          47,
          55,
          45,
          48,
          50,
          55,
          54,
          57,
          55,
          43,
          53,
          52,
          48,
          48,
          50,
          48,
          52,
          40,
          51,
          48,
          50,
          45,
          56,
          53,
          49,
          48,
          57,
          60,
          47,
          48,
          51,
          56,
          45,
          53,
          55,
          46,
          45,
          50,
          50,
          55,
          49,
          46,
          46,
          48,
          50,
          42,
          49,
          48,
          50,
          52,
          51,
          44,
          49,
          57,
          49,
          51,
          55,
          45,
          49,
          57,
          45,
          51,
          51,
          46,
          51,
          51,
          53,
          53,
          46,
          47,
          39,
          47,
          53,
          45,
          49,
          55,
          43,
          46,
          52,
          55,
          46,
          52,
          48,
          52,
          50,
          49,
          55,
          46,
          39,
          42,
          54,
          57,
          47,
          58,
          61,
          48,
          49,
          49,
          50,
          50,
          54,
          46,
          51,
          54,
          54,
          48,
          44,
          54,
          51,
          51,
          49,
          52,
          49,
          58,
          50,
          48,
          45,
          50,
          54,
          55,
          55,
          55,
          49,
          57,
          45,
          37,
          51,
          46,
          45,
          55,
          45,
          50,
          56,
          54,
          54,
          50,
          56,
          50,
          52,
          48,
          53,
          51,
          53,
          45,
          52,
          52,
          50,
          41,
          54,
          58,
          48,
          52,
          50,
          56,
          54,
          51,
          46,
          51,
          55,
          47,
          50,
          47,
          51,
          49,
          55,
          51,
          51,
          45,
          54,
          48,
          56,
          55,
          49,
          43,
          45,
          47,
          51,
          53,
          43,
          47,
          48,
          58,
          51,
          55,
          49,
          47,
          45,
          44,
          49,
          51,
          44,
          46,
          45,
          40,
          43,
          48,
          51,
          46,
          47,
          46,
          62,
          45,
          40,
          49,
          49,
          49,
          51,
          62,
          46,
          49,
          41,
          48,
          54,
          55,
          47,
          50,
          44,
          60,
          50,
          56,
          48,
          62,
          51,
          56,
          53,
          39,
          48,
          56,
          50,
          51,
          48,
          49,
          52,
          48,
          48,
          53,
          51,
          51,
          49,
          52,
          45,
          45,
          52,
          49,
          50,
          52,
          50,
          49,
          46,
          50,
          43,
          45,
          39,
          50,
          49,
          42,
          60,
          40,
          49,
          47,
          49,
          50,
          55,
          50,
          50,
          50,
          48,
          50,
          45,
          47,
          53,
          49,
          50,
          56,
          48,
          57,
          44,
          48,
          62,
          57,
          46,
          53,
          55,
          55,
          46,
          56,
          53,
          43,
          56,
          52,
          50,
          45,
          54,
          57,
          48,
          49,
          49,
          42,
          51,
          50,
          52,
          55,
          47,
          54,
          51,
          58,
          49,
          49,
          52,
          51,
          41,
          47,
          44,
          48,
          56,
          47,
          53,
          51,
          49,
          51,
          49,
          50,
          52,
          53,
          50,
          55,
          53,
          55,
          52,
          50,
          48,
          49,
          48,
          41,
          44,
          51,
          48,
          49,
          51,
          51,
          52,
          46,
          42,
          55,
          59,
          57,
          53,
          57,
          50,
          50,
          53,
          38,
          50,
          41,
          44,
          52,
          53,
          50,
          51,
          48,
          49,
          41,
          47,
          53,
          53,
          47,
          52,
          53,
          38,
          58,
          53,
          53,
          58,
          49,
          48,
          44,
          50,
          47,
          57,
          56,
          45,
          57,
          56,
          48,
          50,
          41,
          55,
          53,
          55,
          51,
          59,
          50,
          42,
          45,
          47,
          56,
          52,
          47,
          50,
          52,
          55,
          48,
          46,
          50,
          46,
          44,
          48,
          45,
          56,
          53,
          43,
          49,
          47,
          52,
          50,
          50,
          55,
          49,
          55,
          50,
          51,
          47,
          51,
          60,
          47,
          48,
          45,
          49,
          53,
          51,
          40,
          56,
          49,
          52,
          55,
          44,
          55,
          48,
          51,
          51,
          50,
          51,
          55,
          55,
          52,
          49,
          53,
          53,
          55,
          43,
          48,
          53,
          44,
          50,
          43,
          52,
          51,
          60,
          48,
          47,
          53,
          41,
          54,
          54,
          53,
          53,
          52,
          51,
          48,
          56,
          51,
          53,
          42,
          50,
          56,
          52,
          41,
          45,
          51,
          55,
          43,
          53,
          44,
          48,
          56,
          49,
          53,
          51,
          51,
          44,
          61,
          40,
          50,
          49,
          57,
          57,
          45,
          47,
          49,
          50,
          51,
          48,
          51,
          47,
          49,
          42,
          49,
          41,
          54,
          50,
          43,
          53,
          47,
          51,
          49,
          51,
          56,
          48,
          53,
          48,
          59,
          46,
          47,
          53,
          45,
          61,
          54,
          53,
          59,
          48,
          45,
          42,
          44,
          49,
          63,
          52,
          48,
          43,
          47,
          40,
          56,
          54,
          49,
          50,
          49,
          54,
          56,
          52,
          50,
          44,
          50,
          48,
          46,
          39,
          56,
          55,
          41,
          60,
          52,
          49,
          48,
          46,
          53,
          65,
          44,
          52,
          58,
          44,
          50,
          47,
          50,
          47,
          42,
          49,
          49,
          43,
          50,
          50,
          53,
          44,
          43,
          49,
          49,
          53,
          48,
          54,
          55,
          52,
          46,
          52,
          57,
          40,
          45,
          55,
          50,
          44,
          47,
          52,
          52,
          38,
          55,
          46,
          42,
          51,
          47,
          57,
          48,
          59,
          42,
          44,
          46,
          48,
          49,
          44,
          52,
          49,
          50,
          50,
          47,
          47,
          50,
          52,
          44,
          38,
          51,
          48,
          42,
          51,
          48,
          56,
          53,
          55,
          47,
          41,
          52,
          51,
          41,
          52,
          50,
          48,
          45,
          52,
          47,
          46,
          47,
          48,
          60,
          42,
          52,
          49,
          48,
          47,
          52,
          45,
          51,
          49,
          51,
          53,
          46,
          45,
          44,
          57,
          52,
          50,
          43,
          53,
          52,
          46,
          54,
          48,
          40,
          53,
          47,
          44,
          51,
          49,
          52,
          47,
          51,
          53,
          52,
          63,
          45,
          45,
          57,
          53,
          57,
          43,
          41,
          47,
          49,
          50,
          53,
          59,
          46,
          47,
          48,
          49,
          56,
          52,
          57,
          58,
          50,
          44,
          57,
          52,
          51,
          55,
          48,
          49,
          47,
          53,
          45,
          53,
          52,
          59,
          47,
          49,
          52,
          45,
          50,
          54,
          58,
          49,
          43,
          51,
          45,
          54,
          50,
          49,
          51,
          48,
          48,
          46,
          57,
          43,
          57,
          55,
          49,
          51,
          50,
          42,
          54,
          51,
          45,
          49,
          49,
          51,
          47,
          59,
          58,
          44,
          51,
          53,
          53,
          56,
          49,
          50,
          49,
          49,
          51,
          52,
          51,
          55,
          51,
          49,
          59,
          53,
          41,
          53,
          45,
          38,
          48,
          42,
          45,
          54,
          52,
          52,
          54,
          44,
          44,
          43,
          47,
          42,
          54,
          45,
          48,
          46,
          48,
          48,
          52,
          53,
          50,
          49,
          43,
          46,
          41,
          54,
          56,
          51,
          54,
          49,
          54,
          52,
          54,
          53,
          46,
          43,
          53,
          56,
          55,
          43,
          58,
          56,
          43,
          53,
          47,
          46,
          50,
          52,
          54,
          42,
          50,
          51,
          42,
          48,
          49,
          56,
          53,
          50,
          57,
          59,
          46,
          53,
          57,
          51,
          56,
          47,
          44,
          44,
          54,
          52,
          47,
          50,
          40,
          55,
          50,
          46,
          44,
          49,
          58,
          47,
          41,
          52,
          54,
          39,
          46,
          47,
          50,
          48,
          55,
          51,
          49,
          47,
          52,
          54,
          51,
          50,
          56,
          56,
          44,
          58,
          45,
          51,
          50,
          50,
          56,
          50,
          50,
          50,
          49,
          53,
          54,
          43,
          47,
          58,
          48,
          48,
          49,
          52,
          53,
          51,
          48,
          59,
          47,
          49,
          54,
          56,
          52,
          48,
          45,
          49,
          47,
          43,
          49,
          52,
          45,
          56,
          46,
          45,
          55,
          53,
          44,
          57,
          63,
          56,
          51,
          56,
          46,
          46,
          53,
          50,
          53,
          50,
          57,
          56,
          46,
          44,
          50,
          51,
          56,
          47,
          54,
          45,
          49,
          49,
          52,
          52,
          47,
          51,
          51,
          47,
          49,
          55,
          42,
          44,
          52,
          50,
          47,
          46,
          51,
          59,
          56,
          40,
          43,
          55,
          42,
          50,
          60,
          48,
          54,
          50,
          49,
          54,
          40,
          53,
          53,
          53,
          51,
          49,
          51,
          57,
          63,
          47,
          54,
          58,
          40,
          56,
          51,
          55,
          50,
          53,
          50,
          43,
          46,
          51,
          48,
          54,
          52,
          48,
          55,
          43,
          54,
          53,
          49,
          54,
          48,
          58,
          52,
          44,
          42,
          44,
          47,
          49,
          56,
          57,
          47,
          53,
          46,
          47,
          51,
          44,
          48,
          48,
          47,
          46,
          43,
          47,
          54,
          48,
          45,
          49,
          44,
          50,
          39,
          36,
          50,
          61,
          59,
          51,
          56,
          53,
          56,
          52,
          55,
          56,
          45,
          43,
          53,
          50,
          46,
          53,
          49,
          44,
          47,
          58,
          50,
          45,
          47,
          48,
          47,
          45,
          52,
          58,
          42,
          49,
          53,
          40,
          55,
          51,
          50,
          52,
          51,
          50,
          44,
          40,
          56,
          47,
          42,
          49,
          48,
          56,
          51,
          46,
          59,
          42,
          54,
          51,
          46,
          49,
          49,
          49,
          50,
          42,
          54,
          56,
          54,
          62,
          48,
          51,
          51,
          46,
          45,
          51,
          47,
          46,
          58,
          58,
          55,
          47,
          37,
          59,
          53,
          49,
          53,
          48,
          59,
          53,
          52,
          44,
          47,
          46,
          45,
          49,
          43,
          48,
          46,
          47,
          45,
          55,
          45,
          45,
          47,
          50,
          54,
          52,
          53,
          50,
          50,
          54,
          59,
          43,
          52,
          51,
          46,
          53,
          52,
          48,
          52,
          49,
          47,
          55,
          46,
          47,
          49,
          57,
          53,
          42,
          44,
          48,
          51,
          55,
          48,
          43,
          57,
          48,
          50,
          53,
          47,
          48,
          51,
          54,
          51,
          56,
          43,
          44,
          47,
          51,
          46,
          48,
          45,
          56,
          50,
          46,
          51,
          52,
          57,
          59,
          59,
          49,
          45,
          44,
          52,
          44,
          47,
          53,
          50,
          48,
          53,
          52,
          58,
          41,
          53,
          52,
          52,
          46,
          41,
          51,
          43,
          61,
          49,
          35,
          51,
          55,
          53,
          48,
          46,
          41,
          59,
          46,
          49,
          56,
          49,
          48,
          42,
          53,
          50,
          45,
          54,
          48,
          49,
          52,
          38,
          55,
          48,
          48,
          44,
          46,
          53,
          45,
          54,
          57,
          48,
          41,
          42,
          49,
          52,
          51,
          55,
          52,
          47,
          43,
          53,
          56,
          53,
          54,
          52,
          48,
          48,
          53,
          55,
          50,
          50,
          50,
          53,
          47,
          54,
          58,
          59,
          52,
          54,
          45,
          53,
          50,
          43,
          49,
          54,
          58,
          55,
          53,
          50,
          45,
          49,
          46,
          51,
          53,
          57,
          57,
          58,
          57,
          39,
          50,
          49,
          48,
          48,
          54,
          43,
          47,
          52,
          54,
          49,
          47,
          44,
          51,
          65,
          47,
          59,
          53,
          57,
          57,
          50,
          50,
          58,
          44,
          50,
          51,
          59,
          60,
          47,
          62,
          59,
          47,
          52,
          45,
          46,
          51,
          54,
          43,
          42,
          44,
          54,
          47,
          47,
          42,
          42,
          41,
          55,
          45,
          46,
          50,
          47,
          45,
          44,
          42,
          48,
          54,
          46,
          62,
          53,
          52,
          56,
          52,
          45,
          44,
          53,
          40,
          54,
          49,
          53,
          48,
          51,
          55,
          42,
          40,
          48,
          45,
          44,
          50,
          52,
          47,
          47,
          57,
          55,
          55,
          50,
          45,
          53,
          48,
          43,
          53,
          56,
          44,
          50,
          62,
          45,
          43,
          48,
          45,
          56,
          56,
          47,
          48,
          53,
          57,
          50,
          50,
          45,
          51,
          51,
          51,
          58,
          49,
          44,
          48,
          53,
          51,
          52,
          51,
          50,
          53,
          54,
          45,
          47,
          53,
          50,
          58,
          58,
          44,
          45,
          48,
          54,
          51,
          56,
          44,
          48,
          51,
          46,
          58,
          48,
          53,
          54,
          45,
          55,
          53,
          54,
          51,
          56,
          56,
          57,
          41,
          60,
          45,
          50,
          41,
          45,
          50,
          47,
          41,
          47,
          49,
          54,
          52,
          56,
          45,
          45,
          46,
          52,
          48,
          46,
          52,
          43,
          63,
          44,
          50,
          48,
          59,
          53,
          53,
          53,
          47,
          61,
          60,
          46,
          38,
          58,
          53,
          44,
          55,
          47,
          48,
          40,
          61,
          51,
          50,
          50,
          52,
          48,
          57,
          44,
          55,
          52,
          52,
          59,
          51,
          53,
          53,
          45,
          50,
          47,
          55,
          46,
          53,
          55,
          52,
          53,
          57,
          57,
          49,
          52,
          48,
          46,
          47,
          49,
          56,
          53,
          58,
          54,
          48,
          53,
          47,
          48,
          55,
          55,
          46,
          47,
          51,
          47,
          52,
          54,
          55,
          57,
          49,
          54,
          50,
          50,
          53,
          47,
          56,
          54,
          46,
          53,
          56,
          49,
          46,
          46,
          46,
          43,
          53,
          55,
          55,
          56,
          58,
          52,
          46,
          47,
          48,
          55,
          47,
          55,
          49,
          55,
          48,
          54,
          51,
          43,
          43,
          46,
          44,
          53,
          47,
          49,
          53,
          48,
          54,
          47,
          54,
          57,
          50,
          55,
          43,
          59,
          49,
          48,
          55,
          52,
          57,
          47,
          45,
          52,
          60,
          47,
          40,
          46,
          49,
          46,
          41,
          57,
          54,
          51,
          49,
          44,
          42,
          47,
          41,
          51,
          59,
          43,
          51,
          44,
          55,
          48,
          49,
          51,
          51,
          49,
          45,
          49,
          51,
          40,
          43,
          49,
          53,
          53,
          49,
          40,
          50,
          49,
          45,
          46,
          49,
          43,
          57,
          57,
          41,
          50,
          60,
          54,
          46,
          58,
          48,
          46,
          50,
          52,
          43,
          49,
          41,
          35,
          46,
          56,
          55,
          52,
          54,
          53,
          43,
          49,
          47,
          50,
          46,
          48,
          41,
          55,
          51,
          58,
          55,
          44,
          53,
          52,
          53,
          54,
          58,
          53,
          42,
          53,
          55,
          60,
          48,
          53,
          39,
          48,
          48,
          61,
          46,
          48,
          49,
          41,
          62,
          45,
          59,
          47,
          52,
          58,
          56,
          52,
          52,
          43,
          54,
          51,
          50,
          49,
          52,
          49,
          44,
          45,
          56,
          56,
          54,
          44,
          53,
          43,
          47,
          58,
          52,
          50,
          50,
          47,
          54,
          51,
          50,
          49,
          44,
          48,
          43,
          45,
          48,
          46,
          47,
          51,
          51,
          43,
          51,
          52,
          44,
          56,
          44,
          48,
          50,
          46,
          58,
          54,
          52,
          48,
          55,
          54,
          43,
          53,
          58,
          49,
          58,
          57,
          50,
          57,
          51,
          49,
          55,
          51,
          47,
          54,
          49,
          55,
          50,
          49,
          54,
          54,
          50,
          52,
          54,
          47,
          49,
          54,
          51,
          52,
          51,
          50,
          65,
          50,
          50,
          51,
          44,
          51,
          47,
          47,
          52,
          55,
          50,
          55,
          47,
          51,
          40,
          48,
          42,
          54,
          54,
          59,
          46,
          50,
          44,
          53,
          48,
          54,
          47,
          52,
          49,
          46,
          51,
          53,
          46,
          47,
          50,
          56,
          45,
          43,
          40,
          46,
          53,
          50,
          59,
          62,
          52,
          39,
          46,
          49,
          52,
          57,
          59,
          52,
          58,
          45,
          50,
          54,
          55,
          52,
          56,
          45,
          45,
          50,
          48,
          56,
          43,
          46,
          54,
          46,
          56,
          58,
          53,
          51,
          49,
          51,
          52,
          50,
          54,
          54,
          61,
          41,
          48,
          47,
          46,
          44,
          47,
          54,
          49,
          48,
          47,
          52,
          46,
          45,
          51,
          52,
          55,
          56,
          50,
          51,
          51,
          50,
          57,
          50,
          38,
          56,
          58,
          53,
          49,
          57,
          56,
          49,
          44,
          46,
          59,
          56,
          43,
          45,
          55,
          53,
          53,
          51,
          52,
          60,
          51,
          49,
          49,
          48,
          44,
          48,
          44,
          50,
          54,
          56,
          51,
          50,
          52,
          49,
          50,
          60,
          52,
          53,
          50,
          53,
          56,
          47,
          43,
          49,
          53,
          48,
          47,
          45,
          49,
          50,
          50,
          55,
          48,
          57,
          47,
          40,
          57,
          48,
          53,
          49,
          52,
          41,
          52,
          57,
          52,
          56,
          60,
          54,
          50,
          45,
          63,
          52,
          54,
          53,
          43,
          42,
          48,
          56,
          57,
          54,
          52,
          50,
          53,
          48,
          42,
          52,
          53,
          54,
          48,
          51,
          53,
          50,
          47,
          58,
          44,
          52,
          47,
          53,
          59,
          50,
          53,
          51,
          52,
          50,
          49,
          50,
          49,
          48,
          48,
          52,
          55,
          50,
          49,
          52,
          47,
          58,
          49,
          50,
          40,
          48,
          49,
          55,
          52,
          50,
          55,
          49,
          43,
          54,
          56,
          49,
          51,
          46,
          47,
          48,
          50,
          44,
          50,
          46,
          41,
          54,
          44,
          44,
          40,
          57,
          54,
          46,
          52,
          49,
          45,
          44,
          54,
          56,
          47,
          49,
          52,
          57,
          48,
          51,
          56,
          44,
          52,
          46,
          44,
          48,
          48,
          50,
          51,
          56,
          52,
          49,
          45,
          55,
          46,
          44,
          51,
          56,
          39,
          49,
          45,
          58,
          49,
          45,
          49,
          47,
          57,
          47,
          39,
          36,
          53,
          54,
          53,
          62,
          46,
          42,
          48,
          50,
          46,
          47,
          53,
          47,
          44,
          46,
          51,
          49,
          53,
          48,
          52,
          48,
          52,
          56,
          41,
          52,
          56,
          52,
          53,
          38,
          50,
          46,
          58,
          55,
          47,
          53,
          53,
          51,
          48,
          48,
          53,
          52,
          45,
          58,
          47,
          46,
          59,
          46,
          46,
          45,
          48,
          57,
          49,
          48,
          52,
          52,
          61,
          52,
          41,
          48,
          56,
          46,
          41,
          53,
          51,
          52,
          49,
          52,
          45,
          55,
          49,
          38,
          50,
          56,
          46,
          43,
          41,
          53,
          53,
          56,
          57,
          52,
          46,
          56,
          52,
          45,
          59,
          44,
          41,
          43,
          44,
          51,
          52,
          49,
          47,
          47,
          46,
          52,
          53,
          49,
          57,
          48,
          47,
          52,
          54,
          50,
          45,
          41,
          44,
          58,
          48,
          48,
          49,
          40,
          43,
          54,
          49,
          54,
          48,
          48,
          56,
          49,
          48,
          48,
          47,
          48,
          47,
          50,
          52,
          49,
          51,
          48,
          51,
          38,
          42,
          51,
          50,
          40,
          49,
          50,
          51,
          60,
          44,
          49,
          50,
          51,
          52,
          51,
          52,
          44,
          57,
          58,
          58,
          49,
          53,
          62,
          45,
          39,
          54,
          54,
          49,
          58,
          57,
          54,
          47,
          47,
          41,
          38,
          49,
          54,
          48,
          51,
          49,
          43,
          48,
          57,
          51,
          45,
          47,
          47,
          62,
          50,
          60,
          50,
          50,
          55,
          51,
          46,
          54,
          50,
          48,
          46,
          51,
          48,
          47,
          61,
          56,
          45,
          50,
          52,
          53,
          50,
          43,
          56,
          54,
          48,
          45,
          48,
          52,
          40,
          49,
          58,
          48,
          37,
          60,
          56,
          46,
          49,
          51,
          45,
          50,
          47,
          50,
          61,
          55,
          49,
          55,
          48,
          46,
          45,
          54,
          53,
          49,
          50,
          55,
          50,
          55,
          43,
          49,
          45,
          50,
          46,
          51,
          55,
          54,
          41,
          52,
          51,
          51,
          56,
          55,
          50,
          50,
          53,
          49,
          56,
          52,
          53,
          44,
          52,
          47,
          53,
          58,
          43,
          61,
          55,
          46,
          56,
          61,
          52,
          55,
          56,
          53,
          55,
          49,
          52,
          45,
          53,
          52,
          55,
          60,
          56,
          50,
          57,
          42,
          46,
          58,
          47,
          48,
          46,
          47,
          45,
          53,
          51,
          57,
          42,
          42,
          58,
          49,
          55,
          55,
          53,
          55,
          51,
          54,
          38,
          55,
          53,
          46,
          54,
          51,
          48,
          44,
          47,
          52,
          49,
          45,
          49,
          57,
          68,
          56,
          48,
          53,
          44,
          43,
          48,
          48,
          53,
          43,
          49,
          48,
          54,
          55,
          49,
          40,
          46,
          45,
          51,
          41,
          61,
          46,
          46,
          46,
          44,
          48,
          50,
          61,
          50,
          50,
          49,
          56,
          62,
          53,
          51,
          52,
          42,
          52,
          47,
          57,
          47,
          48,
          48,
          47,
          51,
          55,
          56,
          48,
          49,
          47,
          56,
          51,
          57,
          53,
          49,
          55,
          40,
          48,
          50,
          57,
          59,
          56,
          45,
          47,
          44,
          50,
          47,
          55,
          47,
          53,
          45,
          48,
          53,
          51,
          52,
          56,
          45,
          40,
          55,
          53,
          52,
          46,
          46,
          55,
          54,
          48,
          54,
          48,
          39,
          46,
          58,
          43,
          53,
          47,
          51,
          52,
          50,
          47,
          45,
          37,
          51,
          52,
          60,
          52,
          53,
          52,
          54,
          52,
          50,
          57,
          56,
          47,
          42,
          45,
          53,
          48,
          55,
          45,
          50,
          46,
          52,
          55,
          59,
          51,
          52,
          37,
          50,
          50,
          53,
          45,
          52,
          51,
          41,
          43,
          49,
          46,
          46,
          43,
          47,
          48,
          55,
          48,
          49,
          52,
          54,
          39,
          53,
          50,
          43,
          39,
          53,
          46,
          47,
          48,
          52,
          32,
          48,
          54,
          47,
          47,
          39,
          58,
          54,
          52,
          53,
          54,
          51,
          50,
          51,
          52,
          54,
          53,
          57,
          52,
          46,
          49,
          44,
          50,
          52,
          51,
          49,
          49,
          41,
          45,
          55,
          42,
          48,
          54,
          48,
          49,
          52,
          39,
          51,
          45,
          51,
          51,
          51,
          51,
          55,
          47,
          48,
          48,
          44,
          42,
          57,
          47,
          50,
          48,
          48,
          46,
          45,
          50,
          42,
          51,
          51,
          51,
          54,
          58,
          44,
          50,
          52,
          49,
          50,
          52,
          47,
          50,
          45,
          58,
          48,
          46,
          45,
          51,
          47,
          48,
          51,
          49,
          50,
          49,
          57,
          49,
          50,
          50,
          45,
          38,
          50,
          55,
          48,
          57,
          45,
          53,
          52,
          49,
          51,
          48,
          57,
          50,
          49,
          47,
          49,
          48,
          53,
          57,
          48,
          54,
          48,
          48,
          60,
          46,
          42,
          52,
          52,
          51,
          56,
          42,
          36,
          51,
          49,
          54,
          51,
          51,
          40,
          40,
          50,
          43,
          56,
          56,
          52,
          53,
          50,
          50,
          51,
          54,
          66,
          54,
          43,
          62,
          44,
          46,
          49,
          52,
          49,
          50,
          58,
          45,
          47,
          47,
          45,
          52,
          59,
          48,
          56,
          42,
          52,
          58,
          56,
          47,
          51,
          44,
          46,
          59,
          52,
          47,
          57,
          55,
          50,
          50,
          44,
          50,
          52,
          48,
          55,
          52,
          50,
          52,
          36,
          47,
          59,
          49,
          54,
          55,
          47,
          56,
          49,
          52,
          52,
          47,
          57,
          45,
          54,
          56,
          39,
          49,
          55,
          47,
          56,
          45,
          46,
          48,
          54,
          59,
          41,
          39,
          51,
          49,
          53,
          45,
          52,
          44,
          57,
          53,
          37,
          48,
          52,
          43,
          40,
          46,
          49,
          42,
          53,
          46,
          52,
          51,
          51,
          46,
          48,
          55,
          46,
          57,
          49,
          41,
          48,
          55,
          49,
          43,
          48,
          53,
          53,
          50,
          49,
          47,
          40,
          52,
          56,
          53,
          56,
          51,
          47,
          52,
          36,
          52,
          49,
          52,
          51,
          44,
          51,
          52,
          49,
          47,
          45,
          50,
          49,
          50,
          58,
          52,
          44,
          54,
          55,
          50,
          52,
          58,
          45,
          56,
          57,
          57,
          50,
          45,
          59,
          38,
          48,
          58,
          63,
          43,
          52,
          54,
          52,
          49,
          50,
          43,
          51,
          54,
          49,
          56,
          51,
          51,
          54,
          41,
          55,
          45,
          53,
          51,
          50,
          45,
          46,
          59,
          42,
          47,
          55,
          49,
          44,
          49,
          51,
          48,
          52,
          52,
          50,
          50,
          51,
          55,
          49,
          40,
          50,
          50,
          53,
          46,
          50,
          42,
          50,
          47,
          47,
          50,
          52,
          40,
          49,
          34,
          40,
          47,
          45,
          52,
          56,
          50,
          51,
          43,
          50,
          58,
          57,
          53,
          43,
          53,
          52,
          52,
          49,
          43,
          54,
          45,
          44,
          46,
          49,
          55,
          49,
          47,
          51,
          48,
          50,
          50,
          45,
          49,
          55,
          49,
          51,
          56,
          46,
          45,
          54,
          41,
          51,
          48,
          46,
          54,
          54,
          50,
          52,
          48,
          46,
          42,
          48,
          59,
          55,
          60,
          50,
          49,
          49,
          54,
          47,
          40,
          60,
          60,
          56,
          52,
          55,
          48,
          53,
          51,
          50,
          51,
          52,
          50,
          50,
          59,
          54,
          48,
          46,
          39,
          53,
          50,
          52,
          46,
          51,
          58,
          43,
          51,
          48,
          52,
          55,
          43,
          49,
          61,
          55,
          49,
          42,
          56,
          45,
          52,
          53,
          50,
          58,
          57,
          48,
          52,
          53,
          63,
          53,
          51,
          48,
          52,
          47,
          46,
          49,
          54,
          42,
          47,
          49,
          45,
          59,
          49,
          50,
          48,
          56,
          51,
          51,
          53,
          54,
          46,
          48,
          55,
          52,
          49,
          47,
          58,
          44,
          48,
          48,
          49,
          51,
          57,
          54,
          47,
          54,
          51,
          51,
          53,
          42,
          41,
          53,
          45,
          50,
          53,
          50,
          55,
          49,
          48,
          52,
          52,
          50,
          54,
          49,
          58,
          58,
          48,
          56,
          41,
          56,
          49,
          39,
          54,
          45,
          59,
          54,
          49,
          48,
          50,
          46,
          51,
          47,
          54,
          47,
          54,
          38,
          48,
          44,
          42,
          58,
          49,
          53,
          52,
          55,
          48,
          52,
          56,
          51,
          50,
          53,
          56,
          60,
          57,
          47,
          51,
          50,
          54,
          49,
          45,
          47,
          48,
          54,
          49,
          40,
          46,
          56,
          43,
          60,
          58,
          56,
          49,
          53,
          55,
          55,
          55,
          48,
          51,
          53,
          40,
          55,
          55,
          50,
          53,
          56,
          52,
          51,
          45,
          53,
          51,
          54,
          40,
          41,
          56,
          58,
          53,
          53,
          47,
          51,
          52,
          60,
          50,
          62,
          52,
          60,
          52,
          51,
          47,
          51,
          48,
          43,
          49,
          46,
          47,
          45,
          57,
          55,
          54,
          55,
          45,
          51,
          50,
          54,
          48,
          41,
          49,
          49,
          50,
          44,
          42,
          49,
          45,
          47,
          53,
          42,
          57,
          55,
          53,
          48,
          47,
          46,
          50,
          42,
          50,
          53,
          56,
          48,
          54,
          44,
          44,
          44,
          43,
          53,
          48,
          53,
          54,
          41,
          51,
          48,
          47,
          55,
          54,
          50,
          58,
          52,
          41,
          52,
          43,
          50,
          47,
          43,
          46,
          52,
          48,
          46,
          45,
          56,
          48,
          55,
          45,
          50,
          58,
          50,
          49,
          54,
          45,
          45,
          51,
          57,
          50,
          42,
          47,
          49,
          45,
          46,
          57,
          47,
          50,
          43,
          53,
          48,
          54,
          55,
          40,
          50,
          51,
          49,
          37,
          48,
          59,
          52,
          47,
          51,
          47,
          54,
          51,
          61,
          58,
          47,
          43,
          47,
          55,
          48,
          56,
          41,
          55,
          48,
          47,
          46,
          52,
          51,
          43,
          47,
          51,
          52,
          51,
          46,
          50,
          50,
          48,
          44,
          45,
          47,
          57,
          55,
          45,
          52,
          46,
          43,
          52,
          39,
          46,
          51,
          49,
          50,
          43,
          44,
          51,
          52,
          61,
          52,
          45,
          54,
          45,
          53,
          49,
          51,
          45,
          41,
          41,
          50,
          39,
          51,
          61,
          49,
          54,
          48,
          49,
          53,
          46,
          43,
          62,
          50,
          64,
          49,
          50,
          49,
          49,
          50,
          44,
          44,
          52,
          53,
          55,
          54,
          56,
          42,
          40,
          48,
          49,
          50,
          49,
          52,
          52,
          53,
          50,
          54,
          50,
          53,
          52,
          46,
          58,
          53,
          53,
          49,
          53,
          50,
          45,
          41,
          46,
          46,
          61,
          55,
          55,
          52,
          59,
          51,
          51,
          47,
          43,
          43,
          51,
          47,
          47,
          45,
          49,
          50,
          49,
          52,
          59,
          39,
          48,
          54,
          44,
          60,
          58,
          62,
          53,
          49,
          55,
          54,
          49,
          57,
          36,
          49,
          48,
          53,
          51,
          52,
          52,
          46,
          46,
          46,
          46,
          44,
          55,
          51,
          47,
          60,
          43,
          52,
          46,
          46,
          45,
          45,
          47,
          47,
          51,
          49,
          54,
          51,
          56,
          45,
          46,
          45,
          48,
          48,
          59,
          53,
          48,
          59,
          49,
          53,
          56,
          44,
          58,
          50,
          50,
          52,
          59,
          52,
          46,
          39,
          50,
          51,
          53,
          45,
          43,
          55,
          43,
          50,
          45,
          53,
          53,
          52,
          43,
          52,
          51,
          49,
          50,
          51,
          53,
          58,
          54,
          54,
          47,
          51,
          50,
          51,
          51,
          45,
          48,
          48,
          53,
          50,
          48,
          53,
          46,
          46,
          50,
          39,
          61,
          48,
          52,
          42,
          48,
          48,
          59,
          49,
          55,
          45,
          54,
          48,
          51,
          54,
          53,
          52,
          42,
          48,
          50,
          55,
          59,
          52,
          44,
          41,
          52,
          45,
          53,
          48,
          49,
          43,
          51,
          39,
          49,
          51,
          42,
          55,
          48,
          54,
          47,
          57,
          48,
          43,
          59,
          52,
          52,
          43,
          44,
          56,
          50,
          58,
          46,
          48,
          57,
          46,
          54,
          48,
          52,
          50,
          49,
          40,
          44,
          48,
          52,
          46,
          49,
          52,
          50,
          50,
          53,
          45,
          41,
          47,
          57,
          55,
          49,
          49,
          42,
          51,
          49,
          55,
          51,
          55,
          55,
          51,
          53,
          51,
          41,
          46,
          47,
          59,
          53,
          50,
          56,
          49,
          53,
          53,
          48,
          43,
          40,
          55,
          57,
          49,
          45,
          60,
          53,
          52,
          45,
          46,
          49,
          48,
          50,
          46,
          47,
          43,
          60,
          48,
          50,
          49,
          53,
          53,
          47,
          42,
          44,
          44,
          56,
          44,
          45,
          38,
          47,
          49,
          56,
          54,
          52,
          55,
          55,
          44,
          47,
          49,
          44,
          53,
          45,
          56,
          40,
          44,
          45,
          46,
          54,
          44,
          59,
          47,
          53,
          44,
          45,
          52,
          52,
          51,
          47,
          57,
          43,
          51,
          45,
          47,
          49,
          57,
          51,
          55,
          45,
          43,
          49,
          50,
          55,
          47,
          57,
          42,
          47,
          50,
          51,
          53,
          52,
          49,
          49,
          50,
          55,
          54,
          55,
          62,
          51,
          44,
          55,
          53,
          43,
          50,
          54,
          46,
          50,
          54,
          52,
          46,
          48,
          52,
          52,
          51,
          53,
          52,
          48,
          52,
          61,
          49,
          46,
          52,
          40,
          44,
          43,
          52,
          51,
          51,
          51,
          42,
          52,
          49,
          42,
          48,
          42,
          46,
          54,
          49,
          50,
          42,
          54,
          50,
          57,
          56,
          52,
          45,
          49,
          44,
          55,
          55,
          52,
          46,
          46,
          52,
          55,
          51,
          44,
          46,
          61,
          49,
          54,
          49,
          56,
          45,
          55,
          51,
          53,
          52,
          56,
          47,
          58,
          45,
          44,
          44,
          48,
          48,
          54,
          54,
          55,
          38,
          56,
          42,
          55,
          60,
          44,
          50,
          43,
          49,
          41,
          47,
          54,
          36,
          47,
          46,
          52,
          56,
          53,
          54,
          48,
          55,
          46,
          53,
          50,
          49,
          54,
          40,
          48,
          58,
          55,
          49,
          42,
          46,
          52,
          39,
          49,
          49,
          53,
          60,
          50,
          50,
          47,
          48,
          51,
          51,
          44,
          45,
          53,
          50,
          47,
          52,
          49,
          53,
          42,
          42,
          50,
          46,
          56,
          54,
          53,
          52,
          51,
          50,
          51,
          54,
          47,
          48
         ],
         "xaxis": "x",
         "yaxis": "y"
        }
       ],
       "layout": {
        "barmode": "relative",
        "legend": {
         "title": {
          "text": "variable"
         },
         "tracegroupgap": 0
        },
        "template": {
         "data": {
          "bar": [
           {
            "error_x": {
             "color": "rgb(36,36,36)"
            },
            "error_y": {
             "color": "rgb(36,36,36)"
            },
            "marker": {
             "line": {
              "color": "white",
              "width": 0.5
             },
             "pattern": {
              "fillmode": "overlay",
              "size": 10,
              "solidity": 0.2
             }
            },
            "type": "bar"
           }
          ],
          "barpolar": [
           {
            "marker": {
             "line": {
              "color": "white",
              "width": 0.5
             },
             "pattern": {
              "fillmode": "overlay",
              "size": 10,
              "solidity": 0.2
             }
            },
            "type": "barpolar"
           }
          ],
          "carpet": [
           {
            "aaxis": {
             "endlinecolor": "rgb(36,36,36)",
             "gridcolor": "white",
             "linecolor": "white",
             "minorgridcolor": "white",
             "startlinecolor": "rgb(36,36,36)"
            },
            "baxis": {
             "endlinecolor": "rgb(36,36,36)",
             "gridcolor": "white",
             "linecolor": "white",
             "minorgridcolor": "white",
             "startlinecolor": "rgb(36,36,36)"
            },
            "type": "carpet"
           }
          ],
          "choropleth": [
           {
            "colorbar": {
             "outlinewidth": 1,
             "tickcolor": "rgb(36,36,36)",
             "ticks": "outside"
            },
            "type": "choropleth"
           }
          ],
          "contour": [
           {
            "colorbar": {
             "outlinewidth": 1,
             "tickcolor": "rgb(36,36,36)",
             "ticks": "outside"
            },
            "colorscale": [
             [
              0,
              "#440154"
             ],
             [
              0.1111111111111111,
              "#482878"
             ],
             [
              0.2222222222222222,
              "#3e4989"
             ],
             [
              0.3333333333333333,
              "#31688e"
             ],
             [
              0.4444444444444444,
              "#26828e"
             ],
             [
              0.5555555555555556,
              "#1f9e89"
             ],
             [
              0.6666666666666666,
              "#35b779"
             ],
             [
              0.7777777777777778,
              "#6ece58"
             ],
             [
              0.8888888888888888,
              "#b5de2b"
             ],
             [
              1,
              "#fde725"
             ]
            ],
            "type": "contour"
           }
          ],
          "contourcarpet": [
           {
            "colorbar": {
             "outlinewidth": 1,
             "tickcolor": "rgb(36,36,36)",
             "ticks": "outside"
            },
            "type": "contourcarpet"
           }
          ],
          "heatmap": [
           {
            "colorbar": {
             "outlinewidth": 1,
             "tickcolor": "rgb(36,36,36)",
             "ticks": "outside"
            },
            "colorscale": [
             [
              0,
              "#440154"
             ],
             [
              0.1111111111111111,
              "#482878"
             ],
             [
              0.2222222222222222,
              "#3e4989"
             ],
             [
              0.3333333333333333,
              "#31688e"
             ],
             [
              0.4444444444444444,
              "#26828e"
             ],
             [
              0.5555555555555556,
              "#1f9e89"
             ],
             [
              0.6666666666666666,
              "#35b779"
             ],
             [
              0.7777777777777778,
              "#6ece58"
             ],
             [
              0.8888888888888888,
              "#b5de2b"
             ],
             [
              1,
              "#fde725"
             ]
            ],
            "type": "heatmap"
           }
          ],
          "heatmapgl": [
           {
            "colorbar": {
             "outlinewidth": 1,
             "tickcolor": "rgb(36,36,36)",
             "ticks": "outside"
            },
            "colorscale": [
             [
              0,
              "#440154"
             ],
             [
              0.1111111111111111,
              "#482878"
             ],
             [
              0.2222222222222222,
              "#3e4989"
             ],
             [
              0.3333333333333333,
              "#31688e"
             ],
             [
              0.4444444444444444,
              "#26828e"
             ],
             [
              0.5555555555555556,
              "#1f9e89"
             ],
             [
              0.6666666666666666,
              "#35b779"
             ],
             [
              0.7777777777777778,
              "#6ece58"
             ],
             [
              0.8888888888888888,
              "#b5de2b"
             ],
             [
              1,
              "#fde725"
             ]
            ],
            "type": "heatmapgl"
           }
          ],
          "histogram": [
           {
            "marker": {
             "line": {
              "color": "white",
              "width": 0.6
             }
            },
            "type": "histogram"
           }
          ],
          "histogram2d": [
           {
            "colorbar": {
             "outlinewidth": 1,
             "tickcolor": "rgb(36,36,36)",
             "ticks": "outside"
            },
            "colorscale": [
             [
              0,
              "#440154"
             ],
             [
              0.1111111111111111,
              "#482878"
             ],
             [
              0.2222222222222222,
              "#3e4989"
             ],
             [
              0.3333333333333333,
              "#31688e"
             ],
             [
              0.4444444444444444,
              "#26828e"
             ],
             [
              0.5555555555555556,
              "#1f9e89"
             ],
             [
              0.6666666666666666,
              "#35b779"
             ],
             [
              0.7777777777777778,
              "#6ece58"
             ],
             [
              0.8888888888888888,
              "#b5de2b"
             ],
             [
              1,
              "#fde725"
             ]
            ],
            "type": "histogram2d"
           }
          ],
          "histogram2dcontour": [
           {
            "colorbar": {
             "outlinewidth": 1,
             "tickcolor": "rgb(36,36,36)",
             "ticks": "outside"
            },
            "colorscale": [
             [
              0,
              "#440154"
             ],
             [
              0.1111111111111111,
              "#482878"
             ],
             [
              0.2222222222222222,
              "#3e4989"
             ],
             [
              0.3333333333333333,
              "#31688e"
             ],
             [
              0.4444444444444444,
              "#26828e"
             ],
             [
              0.5555555555555556,
              "#1f9e89"
             ],
             [
              0.6666666666666666,
              "#35b779"
             ],
             [
              0.7777777777777778,
              "#6ece58"
             ],
             [
              0.8888888888888888,
              "#b5de2b"
             ],
             [
              1,
              "#fde725"
             ]
            ],
            "type": "histogram2dcontour"
           }
          ],
          "mesh3d": [
           {
            "colorbar": {
             "outlinewidth": 1,
             "tickcolor": "rgb(36,36,36)",
             "ticks": "outside"
            },
            "type": "mesh3d"
           }
          ],
          "parcoords": [
           {
            "line": {
             "colorbar": {
              "outlinewidth": 1,
              "tickcolor": "rgb(36,36,36)",
              "ticks": "outside"
             }
            },
            "type": "parcoords"
           }
          ],
          "pie": [
           {
            "automargin": true,
            "type": "pie"
           }
          ],
          "scatter": [
           {
            "fillpattern": {
             "fillmode": "overlay",
             "size": 10,
             "solidity": 0.2
            },
            "type": "scatter"
           }
          ],
          "scatter3d": [
           {
            "line": {
             "colorbar": {
              "outlinewidth": 1,
              "tickcolor": "rgb(36,36,36)",
              "ticks": "outside"
             }
            },
            "marker": {
             "colorbar": {
              "outlinewidth": 1,
              "tickcolor": "rgb(36,36,36)",
              "ticks": "outside"
             }
            },
            "type": "scatter3d"
           }
          ],
          "scattercarpet": [
           {
            "marker": {
             "colorbar": {
              "outlinewidth": 1,
              "tickcolor": "rgb(36,36,36)",
              "ticks": "outside"
             }
            },
            "type": "scattercarpet"
           }
          ],
          "scattergeo": [
           {
            "marker": {
             "colorbar": {
              "outlinewidth": 1,
              "tickcolor": "rgb(36,36,36)",
              "ticks": "outside"
             }
            },
            "type": "scattergeo"
           }
          ],
          "scattergl": [
           {
            "marker": {
             "colorbar": {
              "outlinewidth": 1,
              "tickcolor": "rgb(36,36,36)",
              "ticks": "outside"
             }
            },
            "type": "scattergl"
           }
          ],
          "scattermapbox": [
           {
            "marker": {
             "colorbar": {
              "outlinewidth": 1,
              "tickcolor": "rgb(36,36,36)",
              "ticks": "outside"
             }
            },
            "type": "scattermapbox"
           }
          ],
          "scatterpolar": [
           {
            "marker": {
             "colorbar": {
              "outlinewidth": 1,
              "tickcolor": "rgb(36,36,36)",
              "ticks": "outside"
             }
            },
            "type": "scatterpolar"
           }
          ],
          "scatterpolargl": [
           {
            "marker": {
             "colorbar": {
              "outlinewidth": 1,
              "tickcolor": "rgb(36,36,36)",
              "ticks": "outside"
             }
            },
            "type": "scatterpolargl"
           }
          ],
          "scatterternary": [
           {
            "marker": {
             "colorbar": {
              "outlinewidth": 1,
              "tickcolor": "rgb(36,36,36)",
              "ticks": "outside"
             }
            },
            "type": "scatterternary"
           }
          ],
          "surface": [
           {
            "colorbar": {
             "outlinewidth": 1,
             "tickcolor": "rgb(36,36,36)",
             "ticks": "outside"
            },
            "colorscale": [
             [
              0,
              "#440154"
             ],
             [
              0.1111111111111111,
              "#482878"
             ],
             [
              0.2222222222222222,
              "#3e4989"
             ],
             [
              0.3333333333333333,
              "#31688e"
             ],
             [
              0.4444444444444444,
              "#26828e"
             ],
             [
              0.5555555555555556,
              "#1f9e89"
             ],
             [
              0.6666666666666666,
              "#35b779"
             ],
             [
              0.7777777777777778,
              "#6ece58"
             ],
             [
              0.8888888888888888,
              "#b5de2b"
             ],
             [
              1,
              "#fde725"
             ]
            ],
            "type": "surface"
           }
          ],
          "table": [
           {
            "cells": {
             "fill": {
              "color": "rgb(237,237,237)"
             },
             "line": {
              "color": "white"
             }
            },
            "header": {
             "fill": {
              "color": "rgb(217,217,217)"
             },
             "line": {
              "color": "white"
             }
            },
            "type": "table"
           }
          ]
         },
         "layout": {
          "annotationdefaults": {
           "arrowhead": 0,
           "arrowwidth": 1
          },
          "autosize": true,
          "autotypenumbers": "strict",
          "coloraxis": {
           "colorbar": {
            "outlinewidth": 1,
            "tickcolor": "rgb(36,36,36)",
            "ticks": "outside"
           }
          },
          "colorscale": {
           "diverging": [
            [
             0,
             "rgb(103,0,31)"
            ],
            [
             0.1,
             "rgb(178,24,43)"
            ],
            [
             0.2,
             "rgb(214,96,77)"
            ],
            [
             0.3,
             "rgb(244,165,130)"
            ],
            [
             0.4,
             "rgb(253,219,199)"
            ],
            [
             0.5,
             "rgb(247,247,247)"
            ],
            [
             0.6,
             "rgb(209,229,240)"
            ],
            [
             0.7,
             "rgb(146,197,222)"
            ],
            [
             0.8,
             "rgb(67,147,195)"
            ],
            [
             0.9,
             "rgb(33,102,172)"
            ],
            [
             1,
             "rgb(5,48,97)"
            ]
           ],
           "sequential": [
            [
             0,
             "#440154"
            ],
            [
             0.1111111111111111,
             "#482878"
            ],
            [
             0.2222222222222222,
             "#3e4989"
            ],
            [
             0.3333333333333333,
             "#31688e"
            ],
            [
             0.4444444444444444,
             "#26828e"
            ],
            [
             0.5555555555555556,
             "#1f9e89"
            ],
            [
             0.6666666666666666,
             "#35b779"
            ],
            [
             0.7777777777777778,
             "#6ece58"
            ],
            [
             0.8888888888888888,
             "#b5de2b"
            ],
            [
             1,
             "#fde725"
            ]
           ],
           "sequentialminus": [
            [
             0,
             "#440154"
            ],
            [
             0.1111111111111111,
             "#482878"
            ],
            [
             0.2222222222222222,
             "#3e4989"
            ],
            [
             0.3333333333333333,
             "#31688e"
            ],
            [
             0.4444444444444444,
             "#26828e"
            ],
            [
             0.5555555555555556,
             "#1f9e89"
            ],
            [
             0.6666666666666666,
             "#35b779"
            ],
            [
             0.7777777777777778,
             "#6ece58"
            ],
            [
             0.8888888888888888,
             "#b5de2b"
            ],
            [
             1,
             "#fde725"
            ]
           ]
          },
          "colorway": [
           "#1F77B4",
           "#FF7F0E",
           "#2CA02C",
           "#D62728",
           "#9467BD",
           "#8C564B",
           "#E377C2",
           "#7F7F7F",
           "#BCBD22",
           "#17BECF"
          ],
          "font": {
           "color": "rgb(36,36,36)"
          },
          "geo": {
           "bgcolor": "white",
           "lakecolor": "white",
           "landcolor": "white",
           "showlakes": true,
           "showland": true,
           "subunitcolor": "white"
          },
          "height": 400,
          "hoverlabel": {
           "align": "left"
          },
          "hovermode": "closest",
          "mapbox": {
           "style": "light"
          },
          "margin": {
           "b": 30,
           "l": 30,
           "r": 30,
           "t": 30
          },
          "paper_bgcolor": "white",
          "plot_bgcolor": "white",
          "polar": {
           "angularaxis": {
            "gridcolor": "rgb(232,232,232)",
            "linecolor": "rgb(36,36,36)",
            "showgrid": false,
            "showline": true,
            "ticks": "outside"
           },
           "bgcolor": "white",
           "radialaxis": {
            "gridcolor": "rgb(232,232,232)",
            "linecolor": "rgb(36,36,36)",
            "showgrid": false,
            "showline": true,
            "ticks": "outside"
           }
          },
          "scene": {
           "xaxis": {
            "backgroundcolor": "white",
            "gridcolor": "rgb(232,232,232)",
            "gridwidth": 2,
            "linecolor": "rgb(36,36,36)",
            "showbackground": true,
            "showgrid": false,
            "showline": true,
            "ticks": "outside",
            "zeroline": false,
            "zerolinecolor": "rgb(36,36,36)"
           },
           "yaxis": {
            "backgroundcolor": "white",
            "gridcolor": "rgb(232,232,232)",
            "gridwidth": 2,
            "linecolor": "rgb(36,36,36)",
            "showbackground": true,
            "showgrid": false,
            "showline": true,
            "ticks": "outside",
            "zeroline": false,
            "zerolinecolor": "rgb(36,36,36)"
           },
           "zaxis": {
            "backgroundcolor": "white",
            "gridcolor": "rgb(232,232,232)",
            "gridwidth": 2,
            "linecolor": "rgb(36,36,36)",
            "showbackground": true,
            "showgrid": false,
            "showline": true,
            "ticks": "outside",
            "zeroline": false,
            "zerolinecolor": "rgb(36,36,36)"
           }
          },
          "shapedefaults": {
           "fillcolor": "black",
           "line": {
            "width": 0
           },
           "opacity": 0.3
          },
          "ternary": {
           "aaxis": {
            "gridcolor": "rgb(232,232,232)",
            "linecolor": "rgb(36,36,36)",
            "showgrid": false,
            "showline": true,
            "ticks": "outside"
           },
           "baxis": {
            "gridcolor": "rgb(232,232,232)",
            "linecolor": "rgb(36,36,36)",
            "showgrid": false,
            "showline": true,
            "ticks": "outside"
           },
           "bgcolor": "white",
           "caxis": {
            "gridcolor": "rgb(232,232,232)",
            "linecolor": "rgb(36,36,36)",
            "showgrid": false,
            "showline": true,
            "ticks": "outside"
           }
          },
          "title": {
           "x": 0.5,
           "xanchor": "center"
          },
          "width": 600,
          "xaxis": {
           "automargin": true,
           "gridcolor": "rgb(232,232,232)",
           "linecolor": "rgb(36,36,36)",
           "showgrid": true,
           "showline": true,
           "ticks": "outside",
           "title": {
            "standoff": 15
           },
           "zeroline": false,
           "zerolinecolor": "rgb(36,36,36)"
          },
          "yaxis": {
           "automargin": true,
           "gridcolor": "rgb(232,232,232)",
           "linecolor": "rgb(36,36,36)",
           "showgrid": true,
           "showline": true,
           "ticks": "outside",
           "title": {
            "standoff": 15
           },
           "zeroline": false,
           "zerolinecolor": "rgb(36,36,36)"
          }
         }
        },
        "xaxis": {
         "anchor": "y",
         "domain": [
          0,
          1
         ],
         "title": {
          "text": "value"
         }
        },
        "yaxis": {
         "anchor": "x",
         "domain": [
          0,
          1
         ],
         "title": {
          "text": "count"
         }
        }
       }
      }
     },
     "metadata": {},
     "output_type": "display_data"
    }
   ],
   "source": [
    "px.histogram(outcomes)"
   ]
  },
  {
   "cell_type": "code",
   "execution_count": 11,
   "id": "c8177d60",
   "metadata": {
    "deletable": true,
    "editable": true
   },
   "outputs": [
    {
     "data": {
      "text/plain": [
       "0.5258"
      ]
     },
     "execution_count": 11,
     "metadata": {},
     "output_type": "execute_result"
    }
   ],
   "source": [
    "((outcomes >= 40) & (outcomes <= 50)).mean() "
   ]
  },
  {
   "cell_type": "markdown",
   "id": "df3e59c8",
   "metadata": {
    "deletable": true,
    "editable": true,
    "slideshow": {
     "slide_type": "fragment"
    }
   },
   "source": [
    "- This is remarkably close to the true, theoretical answer!"
   ]
  },
  {
   "cell_type": "code",
   "execution_count": 12,
   "id": "184ac42e",
   "metadata": {
    "deletable": true,
    "editable": true
   },
   "outputs": [
    {
     "data": {
      "text/plain": [
       "0.5221945185847372"
      ]
     },
     "execution_count": 12,
     "metadata": {},
     "output_type": "execute_result"
    }
   ],
   "source": [
    "from scipy.stats import binom\n",
    "binom.cdf(50, 100, 0.5) - binom.cdf(39, 100, 0.5)"
   ]
  },
  {
   "cell_type": "markdown",
   "id": "b14c8bad",
   "metadata": {
    "deletable": true,
    "editable": true,
    "slideshow": {
     "slide_type": "slide"
    }
   },
   "source": [
    "<div class=\"alert alert-warning\">\n",
    "    <h3>Question 🤔 (Answer at <a style=\"text-decoration: none; color: #0066cc\" href=\"https://docs.google.com/forms/d/e/1FAIpQLSd4oliiZYeNh76jWy-arfEtoAkCrVSsobZxPwxifWggo3EO0Q/viewform\">practicaldsc.org/q</a>)</h3>\n",
    "    \n",
    "What questions do you have about our coin flipping simulation?\n",
    "    \n",
    "Can you think of a way to perform the same simulation without **any** `for`-loops?"
   ]
  },
  {
   "cell_type": "markdown",
   "id": "7f9d6b01",
   "metadata": {
    "deletable": true,
    "editable": true,
    "slideshow": {
     "slide_type": "slide"
    }
   },
   "source": [
    "### Example: The Birthday Paradox"
   ]
  },
  {
   "cell_type": "markdown",
   "id": "e857c707",
   "metadata": {
    "deletable": true,
    "editable": true,
    "slideshow": {
     "slide_type": "fragment"
    }
   },
   "source": [
    "- There are ~80 students in the room right now. What are the chances at least 2 students share the same birthday?"
   ]
  },
  {
   "cell_type": "markdown",
   "id": "19adfc2c",
   "metadata": {
    "deletable": true,
    "editable": true,
    "slideshow": {
     "slide_type": "fragment"
    }
   },
   "source": [
    "- In general, **how many people must be in a room such that there's a 50% chance that at least 2 students share the same birthday?**"
   ]
  },
  {
   "cell_type": "markdown",
   "id": "c2ee537f",
   "metadata": {
    "deletable": true,
    "editable": true,
    "slideshow": {
     "slide_type": "fragment"
    }
   },
   "source": [
    "- Let's define a function, `estimated_probability`, which takes in a class size, `n`, and returns the probability that in a class of `n` students, at least 2 students share the same birthday."
   ]
  },
  {
   "cell_type": "code",
   "execution_count": 13,
   "id": "1101bf5d",
   "metadata": {
    "deletable": true,
    "editable": true
   },
   "outputs": [],
   "source": [
    "def simulate_classroom(n):\n",
    "    # This helper function should take in a class size, n,\n",
    "    # and return True if a simulated classroom of size n\n",
    "    # has at least 2 students with the same birthday\n",
    "    # and False otherwise.\n",
    "    # This is not the most efficient solution, but works for now.\n",
    "    options = np.arange(1, 366)\n",
    "    chosen_options = np.random.choice(options, n, replace=True)\n",
    "    return len(chosen_options) != len(np.unique(chosen_options))\n",
    "def estimated_probability(n):\n",
    "    return np.mean([simulate_classroom(n) for _ in range(10_000)])"
   ]
  },
  {
   "cell_type": "code",
   "execution_count": 14,
   "id": "87f2ff98",
   "metadata": {
    "deletable": true,
    "editable": true,
    "scrolled": true
   },
   "outputs": [
    {
     "data": {
      "text/plain": [
       "0.9999"
      ]
     },
     "execution_count": 14,
     "metadata": {},
     "output_type": "execute_result"
    }
   ],
   "source": [
    "estimated_probability(80) "
   ]
  },
  {
   "cell_type": "markdown",
   "id": "f031f46a",
   "metadata": {
    "deletable": true,
    "editable": true,
    "slideshow": {
     "slide_type": "fragment"
    }
   },
   "source": [
    "- With 80 students, it's almost certain that 2 share the same birthday!<br>What's the minimum class size we'd need for a 50% chance that at least 2 share the same birthday?"
   ]
  },
  {
   "cell_type": "code",
   "execution_count": 15,
   "id": "0a1e4fc6",
   "metadata": {
    "deletable": true,
    "editable": true
   },
   "outputs": [],
   "source": [
    "probs = [estimated_probability(n) for n in range(1, 51)]"
   ]
  },
  {
   "cell_type": "code",
   "execution_count": 16,
   "id": "3e9b611f",
   "metadata": {
    "deletable": true,
    "editable": true
   },
   "outputs": [
    {
     "data": {
      "application/vnd.plotly.v1+json": {
       "config": {
        "plotlyServerURL": "https://plot.ly"
       },
       "data": [
        {
         "alignmentgroup": "True",
         "hovertemplate": "x=%{x}<br>y=%{y}<extra></extra>",
         "legendgroup": "",
         "marker": {
          "color": "#1F77B4",
          "pattern": {
           "shape": ""
          }
         },
         "name": "",
         "offsetgroup": "",
         "orientation": "v",
         "showlegend": false,
         "textposition": "auto",
         "type": "bar",
         "x": [
          1,
          2,
          3,
          4,
          5,
          6,
          7,
          8,
          9,
          10,
          11,
          12,
          13,
          14,
          15,
          16,
          17,
          18,
          19,
          20,
          21,
          22,
          23,
          24,
          25,
          26,
          27,
          28,
          29,
          30,
          31,
          32,
          33,
          34,
          35,
          36,
          37,
          38,
          39,
          40,
          41,
          42,
          43,
          44,
          45,
          46,
          47,
          48,
          49,
          50
         ],
         "xaxis": "x",
         "y": [
          0,
          0.003,
          0.008,
          0.0158,
          0.0287,
          0.0397,
          0.0596,
          0.0775,
          0.0962,
          0.1166,
          0.1369,
          0.1729,
          0.1888,
          0.219,
          0.2608,
          0.2813,
          0.3079,
          0.345,
          0.3812,
          0.415,
          0.4456,
          0.4786,
          0.5137,
          0.5318,
          0.5655,
          0.5907,
          0.6217,
          0.6568,
          0.6757,
          0.7072,
          0.7279,
          0.7528,
          0.7739,
          0.7908,
          0.8164,
          0.8359,
          0.8505,
          0.8698,
          0.8738,
          0.8893,
          0.9034,
          0.9158,
          0.9255,
          0.9307,
          0.9417,
          0.9467,
          0.9507,
          0.9572,
          0.9655,
          0.9719
         ],
         "yaxis": "y"
        }
       ],
       "layout": {
        "barmode": "relative",
        "legend": {
         "tracegroupgap": 0
        },
        "template": {
         "data": {
          "bar": [
           {
            "error_x": {
             "color": "rgb(36,36,36)"
            },
            "error_y": {
             "color": "rgb(36,36,36)"
            },
            "marker": {
             "line": {
              "color": "white",
              "width": 0.5
             },
             "pattern": {
              "fillmode": "overlay",
              "size": 10,
              "solidity": 0.2
             }
            },
            "type": "bar"
           }
          ],
          "barpolar": [
           {
            "marker": {
             "line": {
              "color": "white",
              "width": 0.5
             },
             "pattern": {
              "fillmode": "overlay",
              "size": 10,
              "solidity": 0.2
             }
            },
            "type": "barpolar"
           }
          ],
          "carpet": [
           {
            "aaxis": {
             "endlinecolor": "rgb(36,36,36)",
             "gridcolor": "white",
             "linecolor": "white",
             "minorgridcolor": "white",
             "startlinecolor": "rgb(36,36,36)"
            },
            "baxis": {
             "endlinecolor": "rgb(36,36,36)",
             "gridcolor": "white",
             "linecolor": "white",
             "minorgridcolor": "white",
             "startlinecolor": "rgb(36,36,36)"
            },
            "type": "carpet"
           }
          ],
          "choropleth": [
           {
            "colorbar": {
             "outlinewidth": 1,
             "tickcolor": "rgb(36,36,36)",
             "ticks": "outside"
            },
            "type": "choropleth"
           }
          ],
          "contour": [
           {
            "colorbar": {
             "outlinewidth": 1,
             "tickcolor": "rgb(36,36,36)",
             "ticks": "outside"
            },
            "colorscale": [
             [
              0,
              "#440154"
             ],
             [
              0.1111111111111111,
              "#482878"
             ],
             [
              0.2222222222222222,
              "#3e4989"
             ],
             [
              0.3333333333333333,
              "#31688e"
             ],
             [
              0.4444444444444444,
              "#26828e"
             ],
             [
              0.5555555555555556,
              "#1f9e89"
             ],
             [
              0.6666666666666666,
              "#35b779"
             ],
             [
              0.7777777777777778,
              "#6ece58"
             ],
             [
              0.8888888888888888,
              "#b5de2b"
             ],
             [
              1,
              "#fde725"
             ]
            ],
            "type": "contour"
           }
          ],
          "contourcarpet": [
           {
            "colorbar": {
             "outlinewidth": 1,
             "tickcolor": "rgb(36,36,36)",
             "ticks": "outside"
            },
            "type": "contourcarpet"
           }
          ],
          "heatmap": [
           {
            "colorbar": {
             "outlinewidth": 1,
             "tickcolor": "rgb(36,36,36)",
             "ticks": "outside"
            },
            "colorscale": [
             [
              0,
              "#440154"
             ],
             [
              0.1111111111111111,
              "#482878"
             ],
             [
              0.2222222222222222,
              "#3e4989"
             ],
             [
              0.3333333333333333,
              "#31688e"
             ],
             [
              0.4444444444444444,
              "#26828e"
             ],
             [
              0.5555555555555556,
              "#1f9e89"
             ],
             [
              0.6666666666666666,
              "#35b779"
             ],
             [
              0.7777777777777778,
              "#6ece58"
             ],
             [
              0.8888888888888888,
              "#b5de2b"
             ],
             [
              1,
              "#fde725"
             ]
            ],
            "type": "heatmap"
           }
          ],
          "heatmapgl": [
           {
            "colorbar": {
             "outlinewidth": 1,
             "tickcolor": "rgb(36,36,36)",
             "ticks": "outside"
            },
            "colorscale": [
             [
              0,
              "#440154"
             ],
             [
              0.1111111111111111,
              "#482878"
             ],
             [
              0.2222222222222222,
              "#3e4989"
             ],
             [
              0.3333333333333333,
              "#31688e"
             ],
             [
              0.4444444444444444,
              "#26828e"
             ],
             [
              0.5555555555555556,
              "#1f9e89"
             ],
             [
              0.6666666666666666,
              "#35b779"
             ],
             [
              0.7777777777777778,
              "#6ece58"
             ],
             [
              0.8888888888888888,
              "#b5de2b"
             ],
             [
              1,
              "#fde725"
             ]
            ],
            "type": "heatmapgl"
           }
          ],
          "histogram": [
           {
            "marker": {
             "line": {
              "color": "white",
              "width": 0.6
             }
            },
            "type": "histogram"
           }
          ],
          "histogram2d": [
           {
            "colorbar": {
             "outlinewidth": 1,
             "tickcolor": "rgb(36,36,36)",
             "ticks": "outside"
            },
            "colorscale": [
             [
              0,
              "#440154"
             ],
             [
              0.1111111111111111,
              "#482878"
             ],
             [
              0.2222222222222222,
              "#3e4989"
             ],
             [
              0.3333333333333333,
              "#31688e"
             ],
             [
              0.4444444444444444,
              "#26828e"
             ],
             [
              0.5555555555555556,
              "#1f9e89"
             ],
             [
              0.6666666666666666,
              "#35b779"
             ],
             [
              0.7777777777777778,
              "#6ece58"
             ],
             [
              0.8888888888888888,
              "#b5de2b"
             ],
             [
              1,
              "#fde725"
             ]
            ],
            "type": "histogram2d"
           }
          ],
          "histogram2dcontour": [
           {
            "colorbar": {
             "outlinewidth": 1,
             "tickcolor": "rgb(36,36,36)",
             "ticks": "outside"
            },
            "colorscale": [
             [
              0,
              "#440154"
             ],
             [
              0.1111111111111111,
              "#482878"
             ],
             [
              0.2222222222222222,
              "#3e4989"
             ],
             [
              0.3333333333333333,
              "#31688e"
             ],
             [
              0.4444444444444444,
              "#26828e"
             ],
             [
              0.5555555555555556,
              "#1f9e89"
             ],
             [
              0.6666666666666666,
              "#35b779"
             ],
             [
              0.7777777777777778,
              "#6ece58"
             ],
             [
              0.8888888888888888,
              "#b5de2b"
             ],
             [
              1,
              "#fde725"
             ]
            ],
            "type": "histogram2dcontour"
           }
          ],
          "mesh3d": [
           {
            "colorbar": {
             "outlinewidth": 1,
             "tickcolor": "rgb(36,36,36)",
             "ticks": "outside"
            },
            "type": "mesh3d"
           }
          ],
          "parcoords": [
           {
            "line": {
             "colorbar": {
              "outlinewidth": 1,
              "tickcolor": "rgb(36,36,36)",
              "ticks": "outside"
             }
            },
            "type": "parcoords"
           }
          ],
          "pie": [
           {
            "automargin": true,
            "type": "pie"
           }
          ],
          "scatter": [
           {
            "fillpattern": {
             "fillmode": "overlay",
             "size": 10,
             "solidity": 0.2
            },
            "type": "scatter"
           }
          ],
          "scatter3d": [
           {
            "line": {
             "colorbar": {
              "outlinewidth": 1,
              "tickcolor": "rgb(36,36,36)",
              "ticks": "outside"
             }
            },
            "marker": {
             "colorbar": {
              "outlinewidth": 1,
              "tickcolor": "rgb(36,36,36)",
              "ticks": "outside"
             }
            },
            "type": "scatter3d"
           }
          ],
          "scattercarpet": [
           {
            "marker": {
             "colorbar": {
              "outlinewidth": 1,
              "tickcolor": "rgb(36,36,36)",
              "ticks": "outside"
             }
            },
            "type": "scattercarpet"
           }
          ],
          "scattergeo": [
           {
            "marker": {
             "colorbar": {
              "outlinewidth": 1,
              "tickcolor": "rgb(36,36,36)",
              "ticks": "outside"
             }
            },
            "type": "scattergeo"
           }
          ],
          "scattergl": [
           {
            "marker": {
             "colorbar": {
              "outlinewidth": 1,
              "tickcolor": "rgb(36,36,36)",
              "ticks": "outside"
             }
            },
            "type": "scattergl"
           }
          ],
          "scattermapbox": [
           {
            "marker": {
             "colorbar": {
              "outlinewidth": 1,
              "tickcolor": "rgb(36,36,36)",
              "ticks": "outside"
             }
            },
            "type": "scattermapbox"
           }
          ],
          "scatterpolar": [
           {
            "marker": {
             "colorbar": {
              "outlinewidth": 1,
              "tickcolor": "rgb(36,36,36)",
              "ticks": "outside"
             }
            },
            "type": "scatterpolar"
           }
          ],
          "scatterpolargl": [
           {
            "marker": {
             "colorbar": {
              "outlinewidth": 1,
              "tickcolor": "rgb(36,36,36)",
              "ticks": "outside"
             }
            },
            "type": "scatterpolargl"
           }
          ],
          "scatterternary": [
           {
            "marker": {
             "colorbar": {
              "outlinewidth": 1,
              "tickcolor": "rgb(36,36,36)",
              "ticks": "outside"
             }
            },
            "type": "scatterternary"
           }
          ],
          "surface": [
           {
            "colorbar": {
             "outlinewidth": 1,
             "tickcolor": "rgb(36,36,36)",
             "ticks": "outside"
            },
            "colorscale": [
             [
              0,
              "#440154"
             ],
             [
              0.1111111111111111,
              "#482878"
             ],
             [
              0.2222222222222222,
              "#3e4989"
             ],
             [
              0.3333333333333333,
              "#31688e"
             ],
             [
              0.4444444444444444,
              "#26828e"
             ],
             [
              0.5555555555555556,
              "#1f9e89"
             ],
             [
              0.6666666666666666,
              "#35b779"
             ],
             [
              0.7777777777777778,
              "#6ece58"
             ],
             [
              0.8888888888888888,
              "#b5de2b"
             ],
             [
              1,
              "#fde725"
             ]
            ],
            "type": "surface"
           }
          ],
          "table": [
           {
            "cells": {
             "fill": {
              "color": "rgb(237,237,237)"
             },
             "line": {
              "color": "white"
             }
            },
            "header": {
             "fill": {
              "color": "rgb(217,217,217)"
             },
             "line": {
              "color": "white"
             }
            },
            "type": "table"
           }
          ]
         },
         "layout": {
          "annotationdefaults": {
           "arrowhead": 0,
           "arrowwidth": 1
          },
          "autosize": true,
          "autotypenumbers": "strict",
          "coloraxis": {
           "colorbar": {
            "outlinewidth": 1,
            "tickcolor": "rgb(36,36,36)",
            "ticks": "outside"
           }
          },
          "colorscale": {
           "diverging": [
            [
             0,
             "rgb(103,0,31)"
            ],
            [
             0.1,
             "rgb(178,24,43)"
            ],
            [
             0.2,
             "rgb(214,96,77)"
            ],
            [
             0.3,
             "rgb(244,165,130)"
            ],
            [
             0.4,
             "rgb(253,219,199)"
            ],
            [
             0.5,
             "rgb(247,247,247)"
            ],
            [
             0.6,
             "rgb(209,229,240)"
            ],
            [
             0.7,
             "rgb(146,197,222)"
            ],
            [
             0.8,
             "rgb(67,147,195)"
            ],
            [
             0.9,
             "rgb(33,102,172)"
            ],
            [
             1,
             "rgb(5,48,97)"
            ]
           ],
           "sequential": [
            [
             0,
             "#440154"
            ],
            [
             0.1111111111111111,
             "#482878"
            ],
            [
             0.2222222222222222,
             "#3e4989"
            ],
            [
             0.3333333333333333,
             "#31688e"
            ],
            [
             0.4444444444444444,
             "#26828e"
            ],
            [
             0.5555555555555556,
             "#1f9e89"
            ],
            [
             0.6666666666666666,
             "#35b779"
            ],
            [
             0.7777777777777778,
             "#6ece58"
            ],
            [
             0.8888888888888888,
             "#b5de2b"
            ],
            [
             1,
             "#fde725"
            ]
           ],
           "sequentialminus": [
            [
             0,
             "#440154"
            ],
            [
             0.1111111111111111,
             "#482878"
            ],
            [
             0.2222222222222222,
             "#3e4989"
            ],
            [
             0.3333333333333333,
             "#31688e"
            ],
            [
             0.4444444444444444,
             "#26828e"
            ],
            [
             0.5555555555555556,
             "#1f9e89"
            ],
            [
             0.6666666666666666,
             "#35b779"
            ],
            [
             0.7777777777777778,
             "#6ece58"
            ],
            [
             0.8888888888888888,
             "#b5de2b"
            ],
            [
             1,
             "#fde725"
            ]
           ]
          },
          "colorway": [
           "#1F77B4",
           "#FF7F0E",
           "#2CA02C",
           "#D62728",
           "#9467BD",
           "#8C564B",
           "#E377C2",
           "#7F7F7F",
           "#BCBD22",
           "#17BECF"
          ],
          "font": {
           "color": "rgb(36,36,36)"
          },
          "geo": {
           "bgcolor": "white",
           "lakecolor": "white",
           "landcolor": "white",
           "showlakes": true,
           "showland": true,
           "subunitcolor": "white"
          },
          "height": 400,
          "hoverlabel": {
           "align": "left"
          },
          "hovermode": "closest",
          "mapbox": {
           "style": "light"
          },
          "margin": {
           "b": 30,
           "l": 30,
           "r": 30,
           "t": 30
          },
          "paper_bgcolor": "white",
          "plot_bgcolor": "white",
          "polar": {
           "angularaxis": {
            "gridcolor": "rgb(232,232,232)",
            "linecolor": "rgb(36,36,36)",
            "showgrid": false,
            "showline": true,
            "ticks": "outside"
           },
           "bgcolor": "white",
           "radialaxis": {
            "gridcolor": "rgb(232,232,232)",
            "linecolor": "rgb(36,36,36)",
            "showgrid": false,
            "showline": true,
            "ticks": "outside"
           }
          },
          "scene": {
           "xaxis": {
            "backgroundcolor": "white",
            "gridcolor": "rgb(232,232,232)",
            "gridwidth": 2,
            "linecolor": "rgb(36,36,36)",
            "showbackground": true,
            "showgrid": false,
            "showline": true,
            "ticks": "outside",
            "zeroline": false,
            "zerolinecolor": "rgb(36,36,36)"
           },
           "yaxis": {
            "backgroundcolor": "white",
            "gridcolor": "rgb(232,232,232)",
            "gridwidth": 2,
            "linecolor": "rgb(36,36,36)",
            "showbackground": true,
            "showgrid": false,
            "showline": true,
            "ticks": "outside",
            "zeroline": false,
            "zerolinecolor": "rgb(36,36,36)"
           },
           "zaxis": {
            "backgroundcolor": "white",
            "gridcolor": "rgb(232,232,232)",
            "gridwidth": 2,
            "linecolor": "rgb(36,36,36)",
            "showbackground": true,
            "showgrid": false,
            "showline": true,
            "ticks": "outside",
            "zeroline": false,
            "zerolinecolor": "rgb(36,36,36)"
           }
          },
          "shapedefaults": {
           "fillcolor": "black",
           "line": {
            "width": 0
           },
           "opacity": 0.3
          },
          "ternary": {
           "aaxis": {
            "gridcolor": "rgb(232,232,232)",
            "linecolor": "rgb(36,36,36)",
            "showgrid": false,
            "showline": true,
            "ticks": "outside"
           },
           "baxis": {
            "gridcolor": "rgb(232,232,232)",
            "linecolor": "rgb(36,36,36)",
            "showgrid": false,
            "showline": true,
            "ticks": "outside"
           },
           "bgcolor": "white",
           "caxis": {
            "gridcolor": "rgb(232,232,232)",
            "linecolor": "rgb(36,36,36)",
            "showgrid": false,
            "showline": true,
            "ticks": "outside"
           }
          },
          "title": {
           "x": 0.5,
           "xanchor": "center"
          },
          "width": 600,
          "xaxis": {
           "automargin": true,
           "gridcolor": "rgb(232,232,232)",
           "linecolor": "rgb(36,36,36)",
           "showgrid": true,
           "showline": true,
           "ticks": "outside",
           "title": {
            "standoff": 15
           },
           "zeroline": false,
           "zerolinecolor": "rgb(36,36,36)"
          },
          "yaxis": {
           "automargin": true,
           "gridcolor": "rgb(232,232,232)",
           "linecolor": "rgb(36,36,36)",
           "showgrid": true,
           "showline": true,
           "ticks": "outside",
           "title": {
            "standoff": 15
           },
           "zeroline": false,
           "zerolinecolor": "rgb(36,36,36)"
          }
         }
        },
        "title": {
         "text": "Probability that at least 2 students share the<br>same birthday in a class of n students"
        },
        "xaxis": {
         "anchor": "y",
         "domain": [
          0,
          1
         ],
         "title": {
          "text": "$n$"
         }
        },
        "yaxis": {
         "anchor": "x",
         "domain": [
          0,
          1
         ],
         "title": {
          "text": "Probability"
         }
        }
       }
      }
     },
     "metadata": {},
     "output_type": "display_data"
    }
   ],
   "source": [
    "(\n",
    "    px\n",
    "    .bar(x=range(1, 51), \n",
    "         y=probs,\n",
    "         title='Probability that at least 2 students share the<br>same birthday in a class of n students')\n",
    "    .update_xaxes(title='$n$')\n",
    "    .update_yaxes(title='Probability')\n",
    ")"
   ]
  },
  {
   "cell_type": "markdown",
   "id": "f829723c",
   "metadata": {
    "deletable": true,
    "editable": true,
    "slideshow": {
     "slide_type": "fragment"
    }
   },
   "source": [
    "- Lower than you might think!"
   ]
  },
  {
   "cell_type": "markdown",
   "id": "e1bdb03d",
   "metadata": {
    "deletable": true,
    "editable": true,
    "slideshow": {
     "slide_type": "slide"
    }
   },
   "source": [
    "## Introduction to `pandas` DataFrames\n",
    "\n",
    "Let's finally start working with real datasets! 🎉\n",
    "\n",
    "Note that we're going to cover a lot of code quickly. The point of lecture is to expose you to what's possible; you can look at the notebook later for the details.\n",
    "\n",
    "---"
   ]
  },
  {
   "cell_type": "markdown",
   "id": "e4745d36",
   "metadata": {
    "deletable": true,
    "editable": true,
    "slideshow": {
     "slide_type": "slide"
    },
    "tags": []
   },
   "source": [
    "### `pandas`\n",
    "\n",
    "<center><img src='imgs/pandas.png' width=300></center>"
   ]
  },
  {
   "cell_type": "markdown",
   "id": "00b2184b",
   "metadata": {
    "deletable": true,
    "editable": true,
    "slideshow": {
     "slide_type": "fragment"
    }
   },
   "source": [
    "- `pandas` is **the** Python library for tabular data manipulation."
   ]
  },
  {
   "cell_type": "markdown",
   "id": "ffb71d01",
   "metadata": {
    "deletable": true,
    "editable": true,
    "slideshow": {
     "slide_type": "fragment"
    }
   },
   "source": [
    "- Before `pandas` was developed, the standard data science workflow involved using multiple languages (Python, R, Java) in a single project."
   ]
  },
  {
   "cell_type": "markdown",
   "id": "e9b3e45e",
   "metadata": {
    "deletable": true,
    "editable": true,
    "slideshow": {
     "slide_type": "fragment"
    }
   },
   "source": [
    "- Wes McKinney, the original developer of `pandas`, wanted a library which would allow everything to be done in Python.<br><small>Python is faster to develop in than Java or C++, and is more general-purpose than R.</small>"
   ]
  },
  {
   "cell_type": "markdown",
   "id": "cd26cc74",
   "metadata": {
    "deletable": true,
    "editable": true,
    "slideshow": {
     "slide_type": "slide"
    },
    "tags": []
   },
   "source": [
    "### Importing `pandas` and related libraries\n",
    "\n",
    "`pandas` is almost always imported in conjunction with `numpy`."
   ]
  },
  {
   "cell_type": "code",
   "execution_count": 17,
   "id": "ff608217",
   "metadata": {
    "deletable": true,
    "editable": true
   },
   "outputs": [],
   "source": [
    "import pandas as pd\n",
    "import numpy as np"
   ]
  },
  {
   "cell_type": "markdown",
   "id": "a1048237",
   "metadata": {
    "deletable": true,
    "editable": true,
    "slideshow": {
     "slide_type": "slide"
    },
    "tags": []
   },
   "source": [
    "### `pandas` data structures\n",
    "\n",
    "There are **three** key data structures at the core of `pandas`."
   ]
  },
  {
   "cell_type": "markdown",
   "id": "8069494c",
   "metadata": {
    "deletable": true,
    "editable": true,
    "slideshow": {
     "slide_type": "fragment"
    }
   },
   "source": [
    "<center>\n",
    "    <img src='imgs/df-anatomy.png' width=1000>\n",
    "    <small>An example DataFrame.</small>\n",
    "</center>"
   ]
  },
  {
   "cell_type": "markdown",
   "id": "86227312",
   "metadata": {
    "deletable": true,
    "editable": true,
    "slideshow": {
     "slide_type": "fragment"
    }
   },
   "source": [
    "- **DataFrame**: 2 dimensional tables. These have rows and columns."
   ]
  },
  {
   "cell_type": "markdown",
   "id": "ed344196",
   "metadata": {
    "deletable": true,
    "editable": true,
    "slideshow": {
     "slide_type": "fragment"
    }
   },
   "source": [
    "- **Series**: 1 dimensional array-like object, representing a row or column.<br><small>Like arrays, Series contain data of the same type. The plural of Series is also Series.</small>"
   ]
  },
  {
   "cell_type": "markdown",
   "id": "fefd00fa",
   "metadata": {
    "deletable": true,
    "editable": true,
    "slideshow": {
     "slide_type": "fragment"
    }
   },
   "source": [
    "- **Index**: Sequence of row or column labels. When we say \"the index\", we're referring to the sequence of **row labels**.<br><small>The index – `'lebronja'`, `'obammich'`, `'carpents'`, and `'timapplec'` in the example above – **is not** a column!<br>Column names – `'name'`, `'program'`, and `'year'` in the example above – are stored as strings, and the sequence of column names is also an index.<br></small>"
   ]
  },
  {
   "cell_type": "markdown",
   "id": "d9f5ef7a",
   "metadata": {
    "deletable": true,
    "editable": true,
    "slideshow": {
     "slide_type": "slide"
    }
   },
   "source": [
    "### Example: Dog Breeds 🐶"
   ]
  },
  {
   "cell_type": "markdown",
   "id": "d6f93f24",
   "metadata": {
    "deletable": true,
    "editable": true,
    "slideshow": {
     "slide_type": "fragment"
    }
   },
   "source": [
    "- The dataset we'll work comes from the American Kennel Club. Here's a [cool plot](https://informationisbeautiful.net/visualizations/best-in-show-whats-the-top-data-dog/) made using our dataset.\n",
    "\n",
    "<center>\n",
    "    <img src=\"https://infobeautiful4.s3.amazonaws.com/2014/11/IIB_Best-In-Show_1276x2.png\" width=650>\n",
    "        \n",
    "</center>"
   ]
  },
  {
   "cell_type": "markdown",
   "id": "f8fcdc6b",
   "metadata": {
    "deletable": true,
    "editable": true,
    "slideshow": {
     "slide_type": "fragment"
    }
   },
   "source": [
    "- We'll usually work with data stored in the CSV format. CSV stands for \"comma-separated values.\""
   ]
  },
  {
   "cell_type": "markdown",
   "id": "295f92b1",
   "metadata": {
    "deletable": true,
    "editable": true,
    "slideshow": {
     "slide_type": "fragment"
    }
   },
   "source": [
    "- We can read in a CSV using `pd.read_csv(path)`. The path should be relative to your notebook; if the file is in the same folder as your notebook, this is just the name of the file (as a string)."
   ]
  },
  {
   "cell_type": "markdown",
   "id": "17efdb98",
   "metadata": {
    "deletable": true,
    "editable": true,
    "slideshow": {
     "slide_type": "fragment"
    }
   },
   "source": [
    "- Today's dataset is stored `'data/dogs43.csv'` – open it up and see what it looks like!"
   ]
  },
  {
   "cell_type": "code",
   "execution_count": 18,
   "id": "4160f39e",
   "metadata": {
    "deletable": true,
    "editable": true,
    "slideshow": {
     "slide_type": "slide"
    }
   },
   "outputs": [
    {
     "name": "stdout",
     "output_type": "stream",
     "text": [
      "breed,kind,lifetime_cost,longevity,size,weight,height\n",
      "Brittany,sporting,22589.0,12.92,medium,35.0,19.0\n",
      "Cairn Terrier,terrier,21992.0,13.84,small,14.0,10.0\n",
      "English Cocker Spaniel,sporting,18993.0,11.66,medium,30.0,16.0\n",
      "Cocker Spaniel,sporting,24330.0,12.5,small,25.0,14.5\n",
      "Shetland Sheepdog,herding,21006.0,12.53,small,22.0,14.5\n",
      "Siberian Husky,working,22049.0,12.58,medium,47.5,21.75\n",
      "Lhasa Apso,non-sporting,22031.0,13.92,small,15.0,10.5\n",
      "Miniature Schnauzer,terrier,20087.0,11.81,small,15.5,13.0\n",
      "Chihuahua,toy,26250.0,16.5,small,5.5,5.0\n",
      "English Springer Spaniel,sporting,21946.0,12.54,medium,45.0,19.5\n",
      "German Shorthaired Pointer,sporting,25842.0,11.46,large,62.5,24.0\n",
      "Pointer,sporting,24445.0,12.42,large,59.5,25.5\n",
      "Tibetan Spaniel,non-sporting,25549.0,14.42,small,12.0,10.0\n",
      "Labrador Retriever,sporting,21299.0,12.04,medium,67.5,23.0\n",
      "Maltese,toy,19084.0,12.25,small,5.0,9.0\n",
      "Shih Tzu,toy,21152.0,13.2,small,12.5,9.75\n",
      "Irish Setter,sporting,20323.0,11.63,large,65.0,26.0\n",
      "Golden Retriever,sporting,21447.0,12.04,medium,60.0,22.75\n",
      "Chesapeake Bay Retriever,sporting,16697.0,9.48,large,67.5,23.5\n",
      "Tibetan Terrier,non-sporting,20336.0,12.31,small,24.0,15.5\n",
      "Gordon Setter,sporting,19605.0,11.1,large,62.5,25.0\n",
      "Pug,toy,18527.0,11.0,medium,16.0,16.0\n",
      "Norfolk Terrier,terrier,24308.0,13.07,small,12.0,9.5\n",
      "English Toy Spaniel,toy,17521.0,10.1,small,11.0,10.0\n",
      "Cavalier King Charles Spaniel,toy,18639.0,11.29,small,15.5,12.5\n",
      "Basenji,hound,22096.0,13.58,medium,23.0,16.5\n",
      "Staffordshire Bull Terrier,terrier,21650.0,12.05,medium,31.0,15.0\n",
      "Pembroke Welsh Corgi,herding,23978.0,12.25,small,26.0,11.0\n",
      "Clumber Spaniel,sporting,18084.0,10.0,medium,70.0,18.5\n",
      "Dandie Dinmont Terrier,terrier,21633.0,12.17,small,21.0,9.0\n",
      "Giant Schnauzer,working,26686.0,10.0,large,77.5,25.5\n",
      "Scottish Terrier,terrier,17525.0,10.69,small,20.0,10.0\n",
      "Kerry Blue Terrier,terrier,17240.0,9.4,medium,36.5,18.5\n",
      "Afghan Hound,hound,24077.0,11.92,large,55.0,26.0\n",
      "Newfoundland,working,19351.0,9.32,large,125.0,27.0\n",
      "Rhodesian Ridgeback,hound,16530.0,9.1,large,77.5,25.5\n",
      "Borzoi,hound,16176.0,9.08,large,82.5,28.0\n",
      "Bull Terrier,terrier,18490.0,10.21,medium,60.0,21.5\n",
      "Alaskan Malamute,working,21986.0,10.67,large,80.0,24.0\n",
      "Bloodhound,hound,13824.0,6.75,large,85.0,25.0\n",
      "Bullmastiff,working,13936.0,7.57,large,115.0,25.5\n",
      "Mastiff,working,13581.0,6.5,large,175.0,30.0\n",
      "Saint Bernard,working,20022.0,7.78,large,155.0,26.5\n"
     ]
    }
   ],
   "source": [
    "# The \"cat\" shell command shows you the contents of a file.\n",
    "!cat data/dogs43.csv "
   ]
  },
  {
   "cell_type": "code",
   "execution_count": 3,
   "id": "22473faa",
   "metadata": {
    "deletable": true,
    "editable": true,
    "scrolled": true,
    "slideshow": {
     "slide_type": "slide"
    }
   },
   "outputs": [
    {
     "data": {
      "text/html": [
       "<div>\n",
       "<style scoped>\n",
       "    .dataframe tbody tr th:only-of-type {\n",
       "        vertical-align: middle;\n",
       "    }\n",
       "\n",
       "    .dataframe tbody tr th {\n",
       "        vertical-align: top;\n",
       "    }\n",
       "\n",
       "    .dataframe thead th {\n",
       "        text-align: right;\n",
       "    }\n",
       "</style>\n",
       "<table border=\"1\" class=\"dataframe\">\n",
       "  <thead>\n",
       "    <tr style=\"text-align: right;\">\n",
       "      <th></th>\n",
       "      <th>breed</th>\n",
       "      <th>kind</th>\n",
       "      <th>lifetime_cost</th>\n",
       "      <th>longevity</th>\n",
       "      <th>size</th>\n",
       "      <th>weight</th>\n",
       "      <th>height</th>\n",
       "    </tr>\n",
       "  </thead>\n",
       "  <tbody>\n",
       "    <tr>\n",
       "      <th>0</th>\n",
       "      <td>Brittany</td>\n",
       "      <td>sporting</td>\n",
       "      <td>22589.0</td>\n",
       "      <td>12.92</td>\n",
       "      <td>medium</td>\n",
       "      <td>35.0</td>\n",
       "      <td>19.0</td>\n",
       "    </tr>\n",
       "    <tr>\n",
       "      <th>1</th>\n",
       "      <td>Cairn Terrier</td>\n",
       "      <td>terrier</td>\n",
       "      <td>21992.0</td>\n",
       "      <td>13.84</td>\n",
       "      <td>small</td>\n",
       "      <td>14.0</td>\n",
       "      <td>10.0</td>\n",
       "    </tr>\n",
       "    <tr>\n",
       "      <th>2</th>\n",
       "      <td>English Cocker Spaniel</td>\n",
       "      <td>sporting</td>\n",
       "      <td>18993.0</td>\n",
       "      <td>11.66</td>\n",
       "      <td>medium</td>\n",
       "      <td>30.0</td>\n",
       "      <td>16.0</td>\n",
       "    </tr>\n",
       "    <tr>\n",
       "      <th>...</th>\n",
       "      <td>...</td>\n",
       "      <td>...</td>\n",
       "      <td>...</td>\n",
       "      <td>...</td>\n",
       "      <td>...</td>\n",
       "      <td>...</td>\n",
       "      <td>...</td>\n",
       "    </tr>\n",
       "    <tr>\n",
       "      <th>40</th>\n",
       "      <td>Bullmastiff</td>\n",
       "      <td>working</td>\n",
       "      <td>13936.0</td>\n",
       "      <td>7.57</td>\n",
       "      <td>large</td>\n",
       "      <td>115.0</td>\n",
       "      <td>25.5</td>\n",
       "    </tr>\n",
       "    <tr>\n",
       "      <th>41</th>\n",
       "      <td>Mastiff</td>\n",
       "      <td>working</td>\n",
       "      <td>13581.0</td>\n",
       "      <td>6.50</td>\n",
       "      <td>large</td>\n",
       "      <td>175.0</td>\n",
       "      <td>30.0</td>\n",
       "    </tr>\n",
       "    <tr>\n",
       "      <th>42</th>\n",
       "      <td>Saint Bernard</td>\n",
       "      <td>working</td>\n",
       "      <td>20022.0</td>\n",
       "      <td>7.78</td>\n",
       "      <td>large</td>\n",
       "      <td>155.0</td>\n",
       "      <td>26.5</td>\n",
       "    </tr>\n",
       "  </tbody>\n",
       "</table>\n",
       "<p>43 rows × 7 columns</p>\n",
       "</div>"
      ],
      "text/plain": [
       "                     breed      kind  lifetime_cost  longevity    size  \\\n",
       "0                 Brittany  sporting        22589.0      12.92  medium   \n",
       "1            Cairn Terrier   terrier        21992.0      13.84   small   \n",
       "2   English Cocker Spaniel  sporting        18993.0      11.66  medium   \n",
       "..                     ...       ...            ...        ...     ...   \n",
       "40             Bullmastiff   working        13936.0       7.57   large   \n",
       "41                 Mastiff   working        13581.0       6.50   large   \n",
       "42           Saint Bernard   working        20022.0       7.78   large   \n",
       "\n",
       "    weight  height  \n",
       "0     35.0    19.0  \n",
       "1     14.0    10.0  \n",
       "2     30.0    16.0  \n",
       "..     ...     ...  \n",
       "40   115.0    25.5  \n",
       "41   175.0    30.0  \n",
       "42   155.0    26.5  \n",
       "\n",
       "[43 rows x 7 columns]"
      ]
     },
     "execution_count": 3,
     "metadata": {},
     "output_type": "execute_result"
    }
   ],
   "source": [
    "dogs = pd.read_csv('data/dogs43.csv') \n",
    "dogs"
   ]
  },
  {
   "cell_type": "markdown",
   "id": "5c7bdd4c",
   "metadata": {
    "deletable": true,
    "editable": true,
    "slideshow": {
     "slide_type": "slide"
    }
   },
   "source": [
    "### Exploring our first DataFrame"
   ]
  },
  {
   "cell_type": "markdown",
   "id": "40589aa9",
   "metadata": {
    "deletable": true,
    "editable": true,
    "slideshow": {
     "slide_type": "fragment"
    }
   },
   "source": [
    "- To extract the first or last few rows of a DataFrame, use the `head` or `tail` methods.<br><small>Like most DataFrame methods, `head` and `tail` **don't** modify the original DataFrame!</small>"
   ]
  },
  {
   "cell_type": "code",
   "execution_count": 14,
   "id": "d270e7cb",
   "metadata": {
    "deletable": true,
    "editable": true
   },
   "outputs": [
    {
     "data": {
      "text/plain": [
       "size\n",
       "small     16\n",
       "large     15\n",
       "medium    12\n",
       "Name: count, dtype: int64"
      ]
     },
     "execution_count": 14,
     "metadata": {},
     "output_type": "execute_result"
    }
   ],
   "source": [
    "dogs[\"size\"].value_counts()"
   ]
  },
  {
   "cell_type": "code",
   "execution_count": 21,
   "id": "c16ed120",
   "metadata": {
    "deletable": true,
    "editable": true
   },
   "outputs": [
    {
     "data": {
      "text/html": [
       "<div>\n",
       "<style scoped>\n",
       "    .dataframe tbody tr th:only-of-type {\n",
       "        vertical-align: middle;\n",
       "    }\n",
       "\n",
       "    .dataframe tbody tr th {\n",
       "        vertical-align: top;\n",
       "    }\n",
       "\n",
       "    .dataframe thead th {\n",
       "        text-align: right;\n",
       "    }\n",
       "</style>\n",
       "<table border=\"1\" class=\"dataframe\">\n",
       "  <thead>\n",
       "    <tr style=\"text-align: right;\">\n",
       "      <th></th>\n",
       "      <th>breed</th>\n",
       "      <th>kind</th>\n",
       "      <th>lifetime_cost</th>\n",
       "      <th>longevity</th>\n",
       "      <th>size</th>\n",
       "      <th>weight</th>\n",
       "      <th>height</th>\n",
       "    </tr>\n",
       "  </thead>\n",
       "  <tbody>\n",
       "    <tr>\n",
       "      <th>41</th>\n",
       "      <td>Mastiff</td>\n",
       "      <td>working</td>\n",
       "      <td>13581.0</td>\n",
       "      <td>6.50</td>\n",
       "      <td>large</td>\n",
       "      <td>175.0</td>\n",
       "      <td>30.0</td>\n",
       "    </tr>\n",
       "    <tr>\n",
       "      <th>42</th>\n",
       "      <td>Saint Bernard</td>\n",
       "      <td>working</td>\n",
       "      <td>20022.0</td>\n",
       "      <td>7.78</td>\n",
       "      <td>large</td>\n",
       "      <td>155.0</td>\n",
       "      <td>26.5</td>\n",
       "    </tr>\n",
       "  </tbody>\n",
       "</table>\n",
       "</div>"
      ],
      "text/plain": [
       "            breed     kind  lifetime_cost  longevity   size  weight  height\n",
       "41        Mastiff  working        13581.0       6.50  large   175.0    30.0\n",
       "42  Saint Bernard  working        20022.0       7.78  large   155.0    26.5"
      ]
     },
     "execution_count": 21,
     "metadata": {},
     "output_type": "execute_result"
    }
   ],
   "source": [
    "dogs.tail(2) "
   ]
  },
  {
   "cell_type": "code",
   "execution_count": 22,
   "id": "1090820c",
   "metadata": {
    "deletable": true,
    "editable": true
   },
   "outputs": [
    {
     "data": {
      "text/html": [
       "<div>\n",
       "<style scoped>\n",
       "    .dataframe tbody tr th:only-of-type {\n",
       "        vertical-align: middle;\n",
       "    }\n",
       "\n",
       "    .dataframe tbody tr th {\n",
       "        vertical-align: top;\n",
       "    }\n",
       "\n",
       "    .dataframe thead th {\n",
       "        text-align: right;\n",
       "    }\n",
       "</style>\n",
       "<table border=\"1\" class=\"dataframe\">\n",
       "  <thead>\n",
       "    <tr style=\"text-align: right;\">\n",
       "      <th></th>\n",
       "      <th>breed</th>\n",
       "      <th>kind</th>\n",
       "      <th>lifetime_cost</th>\n",
       "      <th>longevity</th>\n",
       "      <th>size</th>\n",
       "      <th>weight</th>\n",
       "      <th>height</th>\n",
       "    </tr>\n",
       "  </thead>\n",
       "  <tbody>\n",
       "    <tr>\n",
       "      <th>0</th>\n",
       "      <td>Brittany</td>\n",
       "      <td>sporting</td>\n",
       "      <td>22589.0</td>\n",
       "      <td>12.92</td>\n",
       "      <td>medium</td>\n",
       "      <td>35.0</td>\n",
       "      <td>19.0</td>\n",
       "    </tr>\n",
       "    <tr>\n",
       "      <th>1</th>\n",
       "      <td>Cairn Terrier</td>\n",
       "      <td>terrier</td>\n",
       "      <td>21992.0</td>\n",
       "      <td>13.84</td>\n",
       "      <td>small</td>\n",
       "      <td>14.0</td>\n",
       "      <td>10.0</td>\n",
       "    </tr>\n",
       "    <tr>\n",
       "      <th>2</th>\n",
       "      <td>English Cocker Spaniel</td>\n",
       "      <td>sporting</td>\n",
       "      <td>18993.0</td>\n",
       "      <td>11.66</td>\n",
       "      <td>medium</td>\n",
       "      <td>30.0</td>\n",
       "      <td>16.0</td>\n",
       "    </tr>\n",
       "    <tr>\n",
       "      <th>...</th>\n",
       "      <td>...</td>\n",
       "      <td>...</td>\n",
       "      <td>...</td>\n",
       "      <td>...</td>\n",
       "      <td>...</td>\n",
       "      <td>...</td>\n",
       "      <td>...</td>\n",
       "    </tr>\n",
       "    <tr>\n",
       "      <th>40</th>\n",
       "      <td>Bullmastiff</td>\n",
       "      <td>working</td>\n",
       "      <td>13936.0</td>\n",
       "      <td>7.57</td>\n",
       "      <td>large</td>\n",
       "      <td>115.0</td>\n",
       "      <td>25.5</td>\n",
       "    </tr>\n",
       "    <tr>\n",
       "      <th>41</th>\n",
       "      <td>Mastiff</td>\n",
       "      <td>working</td>\n",
       "      <td>13581.0</td>\n",
       "      <td>6.50</td>\n",
       "      <td>large</td>\n",
       "      <td>175.0</td>\n",
       "      <td>30.0</td>\n",
       "    </tr>\n",
       "    <tr>\n",
       "      <th>42</th>\n",
       "      <td>Saint Bernard</td>\n",
       "      <td>working</td>\n",
       "      <td>20022.0</td>\n",
       "      <td>7.78</td>\n",
       "      <td>large</td>\n",
       "      <td>155.0</td>\n",
       "      <td>26.5</td>\n",
       "    </tr>\n",
       "  </tbody>\n",
       "</table>\n",
       "<p>43 rows × 7 columns</p>\n",
       "</div>"
      ],
      "text/plain": [
       "                     breed      kind  lifetime_cost  longevity    size  \\\n",
       "0                 Brittany  sporting        22589.0      12.92  medium   \n",
       "1            Cairn Terrier   terrier        21992.0      13.84   small   \n",
       "2   English Cocker Spaniel  sporting        18993.0      11.66  medium   \n",
       "..                     ...       ...            ...        ...     ...   \n",
       "40             Bullmastiff   working        13936.0       7.57   large   \n",
       "41                 Mastiff   working        13581.0       6.50   large   \n",
       "42           Saint Bernard   working        20022.0       7.78   large   \n",
       "\n",
       "    weight  height  \n",
       "0     35.0    19.0  \n",
       "1     14.0    10.0  \n",
       "2     30.0    16.0  \n",
       "..     ...     ...  \n",
       "40   115.0    25.5  \n",
       "41   175.0    30.0  \n",
       "42   155.0    26.5  \n",
       "\n",
       "[43 rows x 7 columns]"
      ]
     },
     "execution_count": 22,
     "metadata": {},
     "output_type": "execute_result"
    }
   ],
   "source": [
    "dogs"
   ]
  },
  {
   "cell_type": "markdown",
   "id": "b4be6798",
   "metadata": {
    "deletable": true,
    "editable": true,
    "slideshow": {
     "slide_type": "fragment"
    },
    "tags": []
   },
   "source": [
    "- The `shape` attribute returns the DataFrame's number of rows and columns.<br><small>Sure, we can _see 👀_ that it says 43 rows x 7 columns above, but the `shape` attribute allows us to write code involving the number of rows/columns.</small>"
   ]
  },
  {
   "cell_type": "code",
   "execution_count": 23,
   "id": "55a7c521",
   "metadata": {
    "deletable": true,
    "editable": true
   },
   "outputs": [
    {
     "data": {
      "text/plain": [
       "(43, 7)"
      ]
     },
     "execution_count": 23,
     "metadata": {},
     "output_type": "execute_result"
    }
   ],
   "source": [
    "# Note that the index – 0, 1, 2, ... – does **not** count as a column!\n",
    "dogs.shape "
   ]
  },
  {
   "cell_type": "markdown",
   "id": "6d1f2b77",
   "metadata": {
    "deletable": true,
    "editable": true,
    "slideshow": {
     "slide_type": "slide"
    }
   },
   "source": [
    "### Sorting"
   ]
  },
  {
   "cell_type": "markdown",
   "id": "51429951",
   "metadata": {
    "deletable": true,
    "editable": true,
    "slideshow": {
     "slide_type": "fragment"
    },
    "tags": []
   },
   "source": [
    "- To sort by a column, use the `sort_values` method.<br><small>`ascending=False` is a **keyword argument**, meaning you need to specify the name of the argument to use it. You've seen some examples of this in the `plotly` part of Homework 1.</small> "
   ]
  },
  {
   "cell_type": "code",
   "execution_count": 24,
   "id": "0bff84a5",
   "metadata": {
    "deletable": true,
    "editable": true,
    "slideshow": {
     "slide_type": ""
    },
    "tags": []
   },
   "outputs": [
    {
     "data": {
      "text/html": [
       "<div>\n",
       "<style scoped>\n",
       "    .dataframe tbody tr th:only-of-type {\n",
       "        vertical-align: middle;\n",
       "    }\n",
       "\n",
       "    .dataframe tbody tr th {\n",
       "        vertical-align: top;\n",
       "    }\n",
       "\n",
       "    .dataframe thead th {\n",
       "        text-align: right;\n",
       "    }\n",
       "</style>\n",
       "<table border=\"1\" class=\"dataframe\">\n",
       "  <thead>\n",
       "    <tr style=\"text-align: right;\">\n",
       "      <th></th>\n",
       "      <th>breed</th>\n",
       "      <th>kind</th>\n",
       "      <th>lifetime_cost</th>\n",
       "      <th>longevity</th>\n",
       "      <th>size</th>\n",
       "      <th>weight</th>\n",
       "      <th>height</th>\n",
       "    </tr>\n",
       "  </thead>\n",
       "  <tbody>\n",
       "    <tr>\n",
       "      <th>41</th>\n",
       "      <td>Mastiff</td>\n",
       "      <td>working</td>\n",
       "      <td>13581.0</td>\n",
       "      <td>6.50</td>\n",
       "      <td>large</td>\n",
       "      <td>175.0</td>\n",
       "      <td>30.0</td>\n",
       "    </tr>\n",
       "    <tr>\n",
       "      <th>36</th>\n",
       "      <td>Borzoi</td>\n",
       "      <td>hound</td>\n",
       "      <td>16176.0</td>\n",
       "      <td>9.08</td>\n",
       "      <td>large</td>\n",
       "      <td>82.5</td>\n",
       "      <td>28.0</td>\n",
       "    </tr>\n",
       "    <tr>\n",
       "      <th>34</th>\n",
       "      <td>Newfoundland</td>\n",
       "      <td>working</td>\n",
       "      <td>19351.0</td>\n",
       "      <td>9.32</td>\n",
       "      <td>large</td>\n",
       "      <td>125.0</td>\n",
       "      <td>27.0</td>\n",
       "    </tr>\n",
       "    <tr>\n",
       "      <th>...</th>\n",
       "      <td>...</td>\n",
       "      <td>...</td>\n",
       "      <td>...</td>\n",
       "      <td>...</td>\n",
       "      <td>...</td>\n",
       "      <td>...</td>\n",
       "      <td>...</td>\n",
       "    </tr>\n",
       "    <tr>\n",
       "      <th>29</th>\n",
       "      <td>Dandie Dinmont Terrier</td>\n",
       "      <td>terrier</td>\n",
       "      <td>21633.0</td>\n",
       "      <td>12.17</td>\n",
       "      <td>small</td>\n",
       "      <td>21.0</td>\n",
       "      <td>9.0</td>\n",
       "    </tr>\n",
       "    <tr>\n",
       "      <th>14</th>\n",
       "      <td>Maltese</td>\n",
       "      <td>toy</td>\n",
       "      <td>19084.0</td>\n",
       "      <td>12.25</td>\n",
       "      <td>small</td>\n",
       "      <td>5.0</td>\n",
       "      <td>9.0</td>\n",
       "    </tr>\n",
       "    <tr>\n",
       "      <th>8</th>\n",
       "      <td>Chihuahua</td>\n",
       "      <td>toy</td>\n",
       "      <td>26250.0</td>\n",
       "      <td>16.50</td>\n",
       "      <td>small</td>\n",
       "      <td>5.5</td>\n",
       "      <td>5.0</td>\n",
       "    </tr>\n",
       "  </tbody>\n",
       "</table>\n",
       "<p>43 rows × 7 columns</p>\n",
       "</div>"
      ],
      "text/plain": [
       "                     breed     kind  lifetime_cost  longevity   size  weight  \\\n",
       "41                 Mastiff  working        13581.0       6.50  large   175.0   \n",
       "36                  Borzoi    hound        16176.0       9.08  large    82.5   \n",
       "34            Newfoundland  working        19351.0       9.32  large   125.0   \n",
       "..                     ...      ...            ...        ...    ...     ...   \n",
       "29  Dandie Dinmont Terrier  terrier        21633.0      12.17  small    21.0   \n",
       "14                 Maltese      toy        19084.0      12.25  small     5.0   \n",
       "8                Chihuahua      toy        26250.0      16.50  small     5.5   \n",
       "\n",
       "    height  \n",
       "41    30.0  \n",
       "36    28.0  \n",
       "34    27.0  \n",
       "..     ...  \n",
       "29     9.0  \n",
       "14     9.0  \n",
       "8      5.0  \n",
       "\n",
       "[43 rows x 7 columns]"
      ]
     },
     "execution_count": 24,
     "metadata": {},
     "output_type": "execute_result"
    }
   ],
   "source": [
    "# Note that the index is no longer 0, 1, 2, ...!\n",
    "dogs.sort_values('height', ascending=False) "
   ]
  },
  {
   "cell_type": "markdown",
   "id": "17fcdf69",
   "metadata": {
    "deletable": true,
    "editable": true,
    "slideshow": {
     "slide_type": "fragment"
    }
   },
   "source": [
    "- We can also sort by multiple columns!<br><small>This sorts by `'height'`, then breaks ties by `'longevity'`. Note the difference in the last three rows between this DataFrame and the one above.</small>"
   ]
  },
  {
   "cell_type": "code",
   "execution_count": 25,
   "id": "b7c54d7f",
   "metadata": {
    "deletable": true,
    "editable": true
   },
   "outputs": [
    {
     "data": {
      "text/html": [
       "<div>\n",
       "<style scoped>\n",
       "    .dataframe tbody tr th:only-of-type {\n",
       "        vertical-align: middle;\n",
       "    }\n",
       "\n",
       "    .dataframe tbody tr th {\n",
       "        vertical-align: top;\n",
       "    }\n",
       "\n",
       "    .dataframe thead th {\n",
       "        text-align: right;\n",
       "    }\n",
       "</style>\n",
       "<table border=\"1\" class=\"dataframe\">\n",
       "  <thead>\n",
       "    <tr style=\"text-align: right;\">\n",
       "      <th></th>\n",
       "      <th>breed</th>\n",
       "      <th>kind</th>\n",
       "      <th>lifetime_cost</th>\n",
       "      <th>longevity</th>\n",
       "      <th>size</th>\n",
       "      <th>weight</th>\n",
       "      <th>height</th>\n",
       "    </tr>\n",
       "  </thead>\n",
       "  <tbody>\n",
       "    <tr>\n",
       "      <th>41</th>\n",
       "      <td>Mastiff</td>\n",
       "      <td>working</td>\n",
       "      <td>13581.0</td>\n",
       "      <td>6.50</td>\n",
       "      <td>large</td>\n",
       "      <td>175.0</td>\n",
       "      <td>30.0</td>\n",
       "    </tr>\n",
       "    <tr>\n",
       "      <th>36</th>\n",
       "      <td>Borzoi</td>\n",
       "      <td>hound</td>\n",
       "      <td>16176.0</td>\n",
       "      <td>9.08</td>\n",
       "      <td>large</td>\n",
       "      <td>82.5</td>\n",
       "      <td>28.0</td>\n",
       "    </tr>\n",
       "    <tr>\n",
       "      <th>34</th>\n",
       "      <td>Newfoundland</td>\n",
       "      <td>working</td>\n",
       "      <td>19351.0</td>\n",
       "      <td>9.32</td>\n",
       "      <td>large</td>\n",
       "      <td>125.0</td>\n",
       "      <td>27.0</td>\n",
       "    </tr>\n",
       "    <tr>\n",
       "      <th>...</th>\n",
       "      <td>...</td>\n",
       "      <td>...</td>\n",
       "      <td>...</td>\n",
       "      <td>...</td>\n",
       "      <td>...</td>\n",
       "      <td>...</td>\n",
       "      <td>...</td>\n",
       "    </tr>\n",
       "    <tr>\n",
       "      <th>14</th>\n",
       "      <td>Maltese</td>\n",
       "      <td>toy</td>\n",
       "      <td>19084.0</td>\n",
       "      <td>12.25</td>\n",
       "      <td>small</td>\n",
       "      <td>5.0</td>\n",
       "      <td>9.0</td>\n",
       "    </tr>\n",
       "    <tr>\n",
       "      <th>29</th>\n",
       "      <td>Dandie Dinmont Terrier</td>\n",
       "      <td>terrier</td>\n",
       "      <td>21633.0</td>\n",
       "      <td>12.17</td>\n",
       "      <td>small</td>\n",
       "      <td>21.0</td>\n",
       "      <td>9.0</td>\n",
       "    </tr>\n",
       "    <tr>\n",
       "      <th>8</th>\n",
       "      <td>Chihuahua</td>\n",
       "      <td>toy</td>\n",
       "      <td>26250.0</td>\n",
       "      <td>16.50</td>\n",
       "      <td>small</td>\n",
       "      <td>5.5</td>\n",
       "      <td>5.0</td>\n",
       "    </tr>\n",
       "  </tbody>\n",
       "</table>\n",
       "<p>43 rows × 7 columns</p>\n",
       "</div>"
      ],
      "text/plain": [
       "                     breed     kind  lifetime_cost  longevity   size  weight  \\\n",
       "41                 Mastiff  working        13581.0       6.50  large   175.0   \n",
       "36                  Borzoi    hound        16176.0       9.08  large    82.5   \n",
       "34            Newfoundland  working        19351.0       9.32  large   125.0   \n",
       "..                     ...      ...            ...        ...    ...     ...   \n",
       "14                 Maltese      toy        19084.0      12.25  small     5.0   \n",
       "29  Dandie Dinmont Terrier  terrier        21633.0      12.17  small    21.0   \n",
       "8                Chihuahua      toy        26250.0      16.50  small     5.5   \n",
       "\n",
       "    height  \n",
       "41    30.0  \n",
       "36    28.0  \n",
       "34    27.0  \n",
       "..     ...  \n",
       "14     9.0  \n",
       "29     9.0  \n",
       "8      5.0  \n",
       "\n",
       "[43 rows x 7 columns]"
      ]
     },
     "execution_count": 25,
     "metadata": {},
     "output_type": "execute_result"
    }
   ],
   "source": [
    "dogs.sort_values(['height', 'longevity'], ascending=False) "
   ]
  },
  {
   "cell_type": "markdown",
   "id": "0a5d59c5",
   "metadata": {
    "deletable": true,
    "editable": true,
    "slideshow": {
     "slide_type": "slide"
    },
    "tags": []
   },
   "source": [
    "### Setting the index"
   ]
  },
  {
   "cell_type": "markdown",
   "id": "eb5b1bbb",
   "metadata": {
    "deletable": true,
    "editable": true,
    "slideshow": {
     "slide_type": "fragment"
    }
   },
   "source": [
    "- Think of each row's index as its **unique identifier** or **name**. The default index when we create a DataFrame using `pd.read_csv` is 0, 1, 2, 3, ...\n",
    "<br><small>Think of the index of a DataFrame like a \"key\" in a dictionary (Python) or map (C++).</small>"
   ]
  },
  {
   "cell_type": "code",
   "execution_count": 26,
   "id": "deec9cc0",
   "metadata": {
    "deletable": true,
    "editable": true
   },
   "outputs": [
    {
     "data": {
      "text/html": [
       "<div>\n",
       "<style scoped>\n",
       "    .dataframe tbody tr th:only-of-type {\n",
       "        vertical-align: middle;\n",
       "    }\n",
       "\n",
       "    .dataframe tbody tr th {\n",
       "        vertical-align: top;\n",
       "    }\n",
       "\n",
       "    .dataframe thead th {\n",
       "        text-align: right;\n",
       "    }\n",
       "</style>\n",
       "<table border=\"1\" class=\"dataframe\">\n",
       "  <thead>\n",
       "    <tr style=\"text-align: right;\">\n",
       "      <th></th>\n",
       "      <th>breed</th>\n",
       "      <th>kind</th>\n",
       "      <th>lifetime_cost</th>\n",
       "      <th>longevity</th>\n",
       "      <th>size</th>\n",
       "      <th>weight</th>\n",
       "      <th>height</th>\n",
       "    </tr>\n",
       "  </thead>\n",
       "  <tbody>\n",
       "    <tr>\n",
       "      <th>0</th>\n",
       "      <td>Brittany</td>\n",
       "      <td>sporting</td>\n",
       "      <td>22589.0</td>\n",
       "      <td>12.92</td>\n",
       "      <td>medium</td>\n",
       "      <td>35.0</td>\n",
       "      <td>19.0</td>\n",
       "    </tr>\n",
       "    <tr>\n",
       "      <th>1</th>\n",
       "      <td>Cairn Terrier</td>\n",
       "      <td>terrier</td>\n",
       "      <td>21992.0</td>\n",
       "      <td>13.84</td>\n",
       "      <td>small</td>\n",
       "      <td>14.0</td>\n",
       "      <td>10.0</td>\n",
       "    </tr>\n",
       "    <tr>\n",
       "      <th>2</th>\n",
       "      <td>English Cocker Spaniel</td>\n",
       "      <td>sporting</td>\n",
       "      <td>18993.0</td>\n",
       "      <td>11.66</td>\n",
       "      <td>medium</td>\n",
       "      <td>30.0</td>\n",
       "      <td>16.0</td>\n",
       "    </tr>\n",
       "    <tr>\n",
       "      <th>...</th>\n",
       "      <td>...</td>\n",
       "      <td>...</td>\n",
       "      <td>...</td>\n",
       "      <td>...</td>\n",
       "      <td>...</td>\n",
       "      <td>...</td>\n",
       "      <td>...</td>\n",
       "    </tr>\n",
       "    <tr>\n",
       "      <th>40</th>\n",
       "      <td>Bullmastiff</td>\n",
       "      <td>working</td>\n",
       "      <td>13936.0</td>\n",
       "      <td>7.57</td>\n",
       "      <td>large</td>\n",
       "      <td>115.0</td>\n",
       "      <td>25.5</td>\n",
       "    </tr>\n",
       "    <tr>\n",
       "      <th>41</th>\n",
       "      <td>Mastiff</td>\n",
       "      <td>working</td>\n",
       "      <td>13581.0</td>\n",
       "      <td>6.50</td>\n",
       "      <td>large</td>\n",
       "      <td>175.0</td>\n",
       "      <td>30.0</td>\n",
       "    </tr>\n",
       "    <tr>\n",
       "      <th>42</th>\n",
       "      <td>Saint Bernard</td>\n",
       "      <td>working</td>\n",
       "      <td>20022.0</td>\n",
       "      <td>7.78</td>\n",
       "      <td>large</td>\n",
       "      <td>155.0</td>\n",
       "      <td>26.5</td>\n",
       "    </tr>\n",
       "  </tbody>\n",
       "</table>\n",
       "<p>43 rows × 7 columns</p>\n",
       "</div>"
      ],
      "text/plain": [
       "                     breed      kind  lifetime_cost  longevity    size  \\\n",
       "0                 Brittany  sporting        22589.0      12.92  medium   \n",
       "1            Cairn Terrier   terrier        21992.0      13.84   small   \n",
       "2   English Cocker Spaniel  sporting        18993.0      11.66  medium   \n",
       "..                     ...       ...            ...        ...     ...   \n",
       "40             Bullmastiff   working        13936.0       7.57   large   \n",
       "41                 Mastiff   working        13581.0       6.50   large   \n",
       "42           Saint Bernard   working        20022.0       7.78   large   \n",
       "\n",
       "    weight  height  \n",
       "0     35.0    19.0  \n",
       "1     14.0    10.0  \n",
       "2     30.0    16.0  \n",
       "..     ...     ...  \n",
       "40   115.0    25.5  \n",
       "41   175.0    30.0  \n",
       "42   155.0    26.5  \n",
       "\n",
       "[43 rows x 7 columns]"
      ]
     },
     "execution_count": 26,
     "metadata": {},
     "output_type": "execute_result"
    }
   ],
   "source": [
    "dogs"
   ]
  },
  {
   "cell_type": "code",
   "execution_count": null,
   "id": "a7af36fd",
   "metadata": {},
   "outputs": [],
   "source": []
  },
  {
   "cell_type": "code",
   "execution_count": 27,
   "id": "f3ef3bb8",
   "metadata": {
    "deletable": true,
    "editable": true
   },
   "outputs": [
    {
     "data": {
      "text/plain": [
       "RangeIndex(start=0, stop=43, step=1)"
      ]
     },
     "execution_count": 27,
     "metadata": {},
     "output_type": "execute_result"
    }
   ],
   "source": [
    "dogs.index"
   ]
  },
  {
   "cell_type": "markdown",
   "id": "41adf2ee",
   "metadata": {
    "deletable": true,
    "editable": true,
    "slideshow": {
     "slide_type": "fragment"
    }
   },
   "source": [
    "- Often, we like to set the index of a DataFrame to a unique identifier if we have one available. We can do so with the `set_index` method.<br><small>We'll see the real benefit of this shortly.</small>"
   ]
  },
  {
   "cell_type": "code",
   "execution_count": 28,
   "id": "f3b44921",
   "metadata": {
    "deletable": true,
    "editable": true
   },
   "outputs": [
    {
     "data": {
      "text/html": [
       "<div>\n",
       "<style scoped>\n",
       "    .dataframe tbody tr th:only-of-type {\n",
       "        vertical-align: middle;\n",
       "    }\n",
       "\n",
       "    .dataframe tbody tr th {\n",
       "        vertical-align: top;\n",
       "    }\n",
       "\n",
       "    .dataframe thead th {\n",
       "        text-align: right;\n",
       "    }\n",
       "</style>\n",
       "<table border=\"1\" class=\"dataframe\">\n",
       "  <thead>\n",
       "    <tr style=\"text-align: right;\">\n",
       "      <th></th>\n",
       "      <th>kind</th>\n",
       "      <th>lifetime_cost</th>\n",
       "      <th>longevity</th>\n",
       "      <th>size</th>\n",
       "      <th>weight</th>\n",
       "      <th>height</th>\n",
       "    </tr>\n",
       "    <tr>\n",
       "      <th>breed</th>\n",
       "      <th></th>\n",
       "      <th></th>\n",
       "      <th></th>\n",
       "      <th></th>\n",
       "      <th></th>\n",
       "      <th></th>\n",
       "    </tr>\n",
       "  </thead>\n",
       "  <tbody>\n",
       "    <tr>\n",
       "      <th>Brittany</th>\n",
       "      <td>sporting</td>\n",
       "      <td>22589.0</td>\n",
       "      <td>12.92</td>\n",
       "      <td>medium</td>\n",
       "      <td>35.0</td>\n",
       "      <td>19.0</td>\n",
       "    </tr>\n",
       "    <tr>\n",
       "      <th>Cairn Terrier</th>\n",
       "      <td>terrier</td>\n",
       "      <td>21992.0</td>\n",
       "      <td>13.84</td>\n",
       "      <td>small</td>\n",
       "      <td>14.0</td>\n",
       "      <td>10.0</td>\n",
       "    </tr>\n",
       "    <tr>\n",
       "      <th>English Cocker Spaniel</th>\n",
       "      <td>sporting</td>\n",
       "      <td>18993.0</td>\n",
       "      <td>11.66</td>\n",
       "      <td>medium</td>\n",
       "      <td>30.0</td>\n",
       "      <td>16.0</td>\n",
       "    </tr>\n",
       "    <tr>\n",
       "      <th>...</th>\n",
       "      <td>...</td>\n",
       "      <td>...</td>\n",
       "      <td>...</td>\n",
       "      <td>...</td>\n",
       "      <td>...</td>\n",
       "      <td>...</td>\n",
       "    </tr>\n",
       "    <tr>\n",
       "      <th>Bullmastiff</th>\n",
       "      <td>working</td>\n",
       "      <td>13936.0</td>\n",
       "      <td>7.57</td>\n",
       "      <td>large</td>\n",
       "      <td>115.0</td>\n",
       "      <td>25.5</td>\n",
       "    </tr>\n",
       "    <tr>\n",
       "      <th>Mastiff</th>\n",
       "      <td>working</td>\n",
       "      <td>13581.0</td>\n",
       "      <td>6.50</td>\n",
       "      <td>large</td>\n",
       "      <td>175.0</td>\n",
       "      <td>30.0</td>\n",
       "    </tr>\n",
       "    <tr>\n",
       "      <th>Saint Bernard</th>\n",
       "      <td>working</td>\n",
       "      <td>20022.0</td>\n",
       "      <td>7.78</td>\n",
       "      <td>large</td>\n",
       "      <td>155.0</td>\n",
       "      <td>26.5</td>\n",
       "    </tr>\n",
       "  </tbody>\n",
       "</table>\n",
       "<p>43 rows × 6 columns</p>\n",
       "</div>"
      ],
      "text/plain": [
       "                            kind  lifetime_cost  longevity    size  weight  \\\n",
       "breed                                                                        \n",
       "Brittany                sporting        22589.0      12.92  medium    35.0   \n",
       "Cairn Terrier            terrier        21992.0      13.84   small    14.0   \n",
       "English Cocker Spaniel  sporting        18993.0      11.66  medium    30.0   \n",
       "...                          ...            ...        ...     ...     ...   \n",
       "Bullmastiff              working        13936.0       7.57   large   115.0   \n",
       "Mastiff                  working        13581.0       6.50   large   175.0   \n",
       "Saint Bernard            working        20022.0       7.78   large   155.0   \n",
       "\n",
       "                        height  \n",
       "breed                           \n",
       "Brittany                  19.0  \n",
       "Cairn Terrier             10.0  \n",
       "English Cocker Spaniel    16.0  \n",
       "...                        ...  \n",
       "Bullmastiff               25.5  \n",
       "Mastiff                   30.0  \n",
       "Saint Bernard             26.5  \n",
       "\n",
       "[43 rows x 6 columns]"
      ]
     },
     "execution_count": 28,
     "metadata": {},
     "output_type": "execute_result"
    }
   ],
   "source": [
    "dogs.set_index('breed') "
   ]
  },
  {
   "cell_type": "code",
   "execution_count": 29,
   "id": "3c8b65c7",
   "metadata": {
    "deletable": true,
    "editable": true
   },
   "outputs": [
    {
     "data": {
      "text/html": [
       "<div>\n",
       "<style scoped>\n",
       "    .dataframe tbody tr th:only-of-type {\n",
       "        vertical-align: middle;\n",
       "    }\n",
       "\n",
       "    .dataframe tbody tr th {\n",
       "        vertical-align: top;\n",
       "    }\n",
       "\n",
       "    .dataframe thead th {\n",
       "        text-align: right;\n",
       "    }\n",
       "</style>\n",
       "<table border=\"1\" class=\"dataframe\">\n",
       "  <thead>\n",
       "    <tr style=\"text-align: right;\">\n",
       "      <th></th>\n",
       "      <th>breed</th>\n",
       "      <th>kind</th>\n",
       "      <th>lifetime_cost</th>\n",
       "      <th>longevity</th>\n",
       "      <th>size</th>\n",
       "      <th>weight</th>\n",
       "      <th>height</th>\n",
       "    </tr>\n",
       "  </thead>\n",
       "  <tbody>\n",
       "    <tr>\n",
       "      <th>0</th>\n",
       "      <td>Brittany</td>\n",
       "      <td>sporting</td>\n",
       "      <td>22589.0</td>\n",
       "      <td>12.92</td>\n",
       "      <td>medium</td>\n",
       "      <td>35.0</td>\n",
       "      <td>19.0</td>\n",
       "    </tr>\n",
       "    <tr>\n",
       "      <th>1</th>\n",
       "      <td>Cairn Terrier</td>\n",
       "      <td>terrier</td>\n",
       "      <td>21992.0</td>\n",
       "      <td>13.84</td>\n",
       "      <td>small</td>\n",
       "      <td>14.0</td>\n",
       "      <td>10.0</td>\n",
       "    </tr>\n",
       "    <tr>\n",
       "      <th>2</th>\n",
       "      <td>English Cocker Spaniel</td>\n",
       "      <td>sporting</td>\n",
       "      <td>18993.0</td>\n",
       "      <td>11.66</td>\n",
       "      <td>medium</td>\n",
       "      <td>30.0</td>\n",
       "      <td>16.0</td>\n",
       "    </tr>\n",
       "    <tr>\n",
       "      <th>...</th>\n",
       "      <td>...</td>\n",
       "      <td>...</td>\n",
       "      <td>...</td>\n",
       "      <td>...</td>\n",
       "      <td>...</td>\n",
       "      <td>...</td>\n",
       "      <td>...</td>\n",
       "    </tr>\n",
       "    <tr>\n",
       "      <th>40</th>\n",
       "      <td>Bullmastiff</td>\n",
       "      <td>working</td>\n",
       "      <td>13936.0</td>\n",
       "      <td>7.57</td>\n",
       "      <td>large</td>\n",
       "      <td>115.0</td>\n",
       "      <td>25.5</td>\n",
       "    </tr>\n",
       "    <tr>\n",
       "      <th>41</th>\n",
       "      <td>Mastiff</td>\n",
       "      <td>working</td>\n",
       "      <td>13581.0</td>\n",
       "      <td>6.50</td>\n",
       "      <td>large</td>\n",
       "      <td>175.0</td>\n",
       "      <td>30.0</td>\n",
       "    </tr>\n",
       "    <tr>\n",
       "      <th>42</th>\n",
       "      <td>Saint Bernard</td>\n",
       "      <td>working</td>\n",
       "      <td>20022.0</td>\n",
       "      <td>7.78</td>\n",
       "      <td>large</td>\n",
       "      <td>155.0</td>\n",
       "      <td>26.5</td>\n",
       "    </tr>\n",
       "  </tbody>\n",
       "</table>\n",
       "<p>43 rows × 7 columns</p>\n",
       "</div>"
      ],
      "text/plain": [
       "                     breed      kind  lifetime_cost  longevity    size  \\\n",
       "0                 Brittany  sporting        22589.0      12.92  medium   \n",
       "1            Cairn Terrier   terrier        21992.0      13.84   small   \n",
       "2   English Cocker Spaniel  sporting        18993.0      11.66  medium   \n",
       "..                     ...       ...            ...        ...     ...   \n",
       "40             Bullmastiff   working        13936.0       7.57   large   \n",
       "41                 Mastiff   working        13581.0       6.50   large   \n",
       "42           Saint Bernard   working        20022.0       7.78   large   \n",
       "\n",
       "    weight  height  \n",
       "0     35.0    19.0  \n",
       "1     14.0    10.0  \n",
       "2     30.0    16.0  \n",
       "..     ...     ...  \n",
       "40   115.0    25.5  \n",
       "41   175.0    30.0  \n",
       "42   155.0    26.5  \n",
       "\n",
       "[43 rows x 7 columns]"
      ]
     },
     "execution_count": 29,
     "metadata": {},
     "output_type": "execute_result"
    }
   ],
   "source": [
    "# The above cell didn't involve an assignment statement, so dogs was unchanged.\n",
    "dogs"
   ]
  },
  {
   "cell_type": "code",
   "execution_count": 30,
   "id": "7ddc01b1",
   "metadata": {
    "deletable": true,
    "editable": true
   },
   "outputs": [
    {
     "data": {
      "text/html": [
       "<div>\n",
       "<style scoped>\n",
       "    .dataframe tbody tr th:only-of-type {\n",
       "        vertical-align: middle;\n",
       "    }\n",
       "\n",
       "    .dataframe tbody tr th {\n",
       "        vertical-align: top;\n",
       "    }\n",
       "\n",
       "    .dataframe thead th {\n",
       "        text-align: right;\n",
       "    }\n",
       "</style>\n",
       "<table border=\"1\" class=\"dataframe\">\n",
       "  <thead>\n",
       "    <tr style=\"text-align: right;\">\n",
       "      <th></th>\n",
       "      <th>kind</th>\n",
       "      <th>lifetime_cost</th>\n",
       "      <th>longevity</th>\n",
       "      <th>size</th>\n",
       "      <th>weight</th>\n",
       "      <th>height</th>\n",
       "    </tr>\n",
       "    <tr>\n",
       "      <th>breed</th>\n",
       "      <th></th>\n",
       "      <th></th>\n",
       "      <th></th>\n",
       "      <th></th>\n",
       "      <th></th>\n",
       "      <th></th>\n",
       "    </tr>\n",
       "  </thead>\n",
       "  <tbody>\n",
       "    <tr>\n",
       "      <th>Brittany</th>\n",
       "      <td>sporting</td>\n",
       "      <td>22589.0</td>\n",
       "      <td>12.92</td>\n",
       "      <td>medium</td>\n",
       "      <td>35.0</td>\n",
       "      <td>19.0</td>\n",
       "    </tr>\n",
       "    <tr>\n",
       "      <th>Cairn Terrier</th>\n",
       "      <td>terrier</td>\n",
       "      <td>21992.0</td>\n",
       "      <td>13.84</td>\n",
       "      <td>small</td>\n",
       "      <td>14.0</td>\n",
       "      <td>10.0</td>\n",
       "    </tr>\n",
       "    <tr>\n",
       "      <th>English Cocker Spaniel</th>\n",
       "      <td>sporting</td>\n",
       "      <td>18993.0</td>\n",
       "      <td>11.66</td>\n",
       "      <td>medium</td>\n",
       "      <td>30.0</td>\n",
       "      <td>16.0</td>\n",
       "    </tr>\n",
       "    <tr>\n",
       "      <th>...</th>\n",
       "      <td>...</td>\n",
       "      <td>...</td>\n",
       "      <td>...</td>\n",
       "      <td>...</td>\n",
       "      <td>...</td>\n",
       "      <td>...</td>\n",
       "    </tr>\n",
       "    <tr>\n",
       "      <th>Bullmastiff</th>\n",
       "      <td>working</td>\n",
       "      <td>13936.0</td>\n",
       "      <td>7.57</td>\n",
       "      <td>large</td>\n",
       "      <td>115.0</td>\n",
       "      <td>25.5</td>\n",
       "    </tr>\n",
       "    <tr>\n",
       "      <th>Mastiff</th>\n",
       "      <td>working</td>\n",
       "      <td>13581.0</td>\n",
       "      <td>6.50</td>\n",
       "      <td>large</td>\n",
       "      <td>175.0</td>\n",
       "      <td>30.0</td>\n",
       "    </tr>\n",
       "    <tr>\n",
       "      <th>Saint Bernard</th>\n",
       "      <td>working</td>\n",
       "      <td>20022.0</td>\n",
       "      <td>7.78</td>\n",
       "      <td>large</td>\n",
       "      <td>155.0</td>\n",
       "      <td>26.5</td>\n",
       "    </tr>\n",
       "  </tbody>\n",
       "</table>\n",
       "<p>43 rows × 6 columns</p>\n",
       "</div>"
      ],
      "text/plain": [
       "                            kind  lifetime_cost  longevity    size  weight  \\\n",
       "breed                                                                        \n",
       "Brittany                sporting        22589.0      12.92  medium    35.0   \n",
       "Cairn Terrier            terrier        21992.0      13.84   small    14.0   \n",
       "English Cocker Spaniel  sporting        18993.0      11.66  medium    30.0   \n",
       "...                          ...            ...        ...     ...     ...   \n",
       "Bullmastiff              working        13936.0       7.57   large   115.0   \n",
       "Mastiff                  working        13581.0       6.50   large   175.0   \n",
       "Saint Bernard            working        20022.0       7.78   large   155.0   \n",
       "\n",
       "                        height  \n",
       "breed                           \n",
       "Brittany                  19.0  \n",
       "Cairn Terrier             10.0  \n",
       "English Cocker Spaniel    16.0  \n",
       "...                        ...  \n",
       "Bullmastiff               25.5  \n",
       "Mastiff                   30.0  \n",
       "Saint Bernard             26.5  \n",
       "\n",
       "[43 rows x 6 columns]"
      ]
     },
     "execution_count": 30,
     "metadata": {},
     "output_type": "execute_result"
    }
   ],
   "source": [
    "# By reassigning dogs, our changes will persist.\n",
    "# Note that we can't run this cell twice! Try it and see what happens.\n",
    "dogs = dogs.set_index('breed')\n",
    "dogs"
   ]
  },
  {
   "cell_type": "code",
   "execution_count": 31,
   "id": "2c134b47",
   "metadata": {
    "deletable": true,
    "editable": true,
    "slideshow": {
     "slide_type": ""
    },
    "tags": []
   },
   "outputs": [
    {
     "data": {
      "text/plain": [
       "(43, 6)"
      ]
     },
     "execution_count": 31,
     "metadata": {},
     "output_type": "execute_result"
    }
   ],
   "source": [
    "# There used to be 7 columns, but now there are only 6!\n",
    "# The index is **not** a column!\n",
    "dogs.shape"
   ]
  },
  {
   "cell_type": "code",
   "execution_count": 32,
   "id": "1568db69",
   "metadata": {
    "deletable": true,
    "editable": true
   },
   "outputs": [
    {
     "data": {
      "text/plain": [
       "Index(['Brittany', 'Cairn Terrier', 'English Cocker Spaniel', 'Cocker Spaniel',\n",
       "       'Shetland Sheepdog', 'Siberian Husky', 'Lhasa Apso',\n",
       "       'Miniature Schnauzer', 'Chihuahua', 'English Springer Spaniel',\n",
       "       'German Shorthaired Pointer', 'Pointer', 'Tibetan Spaniel',\n",
       "       'Labrador Retriever', 'Maltese', 'Shih Tzu', 'Irish Setter',\n",
       "       'Golden Retriever', 'Chesapeake Bay Retriever', 'Tibetan Terrier',\n",
       "       'Gordon Setter', 'Pug', 'Norfolk Terrier', 'English Toy Spaniel',\n",
       "       'Cavalier King Charles Spaniel', 'Basenji',\n",
       "       'Staffordshire Bull Terrier', 'Pembroke Welsh Corgi', 'Clumber Spaniel',\n",
       "       'Dandie Dinmont Terrier', 'Giant Schnauzer', 'Scottish Terrier',\n",
       "       'Kerry Blue Terrier', 'Afghan Hound', 'Newfoundland',\n",
       "       'Rhodesian Ridgeback', 'Borzoi', 'Bull Terrier', 'Alaskan Malamute',\n",
       "       'Bloodhound', 'Bullmastiff', 'Mastiff', 'Saint Bernard'],\n",
       "      dtype='object', name='breed')"
      ]
     },
     "execution_count": 32,
     "metadata": {},
     "output_type": "execute_result"
    }
   ],
   "source": [
    "dogs.index"
   ]
  },
  {
   "cell_type": "markdown",
   "id": "3a7cdba6",
   "metadata": {
    "deletable": true,
    "editable": true,
    "slideshow": {
     "slide_type": "slide"
    }
   },
   "source": [
    "<div class=\"alert alert-success\">\n",
    "<h3>Activity</h3>\n",
    "    \n",
    "Assign `tallest_breed` to the name, as a **string**, of the tallest breed in the dataset. Answer using `pandas` code, i.e. **don't** look at the dataset and hard-code the answer."
   ]
  },
  {
   "cell_type": "code",
   "execution_count": 33,
   "id": "c9387214",
   "metadata": {
    "deletable": true,
    "editable": true
   },
   "outputs": [
    {
     "data": {
      "text/html": [
       "<div>\n",
       "<style scoped>\n",
       "    .dataframe tbody tr th:only-of-type {\n",
       "        vertical-align: middle;\n",
       "    }\n",
       "\n",
       "    .dataframe tbody tr th {\n",
       "        vertical-align: top;\n",
       "    }\n",
       "\n",
       "    .dataframe thead th {\n",
       "        text-align: right;\n",
       "    }\n",
       "</style>\n",
       "<table border=\"1\" class=\"dataframe\">\n",
       "  <thead>\n",
       "    <tr style=\"text-align: right;\">\n",
       "      <th></th>\n",
       "      <th>kind</th>\n",
       "      <th>lifetime_cost</th>\n",
       "      <th>longevity</th>\n",
       "      <th>size</th>\n",
       "      <th>weight</th>\n",
       "      <th>height</th>\n",
       "    </tr>\n",
       "    <tr>\n",
       "      <th>breed</th>\n",
       "      <th></th>\n",
       "      <th></th>\n",
       "      <th></th>\n",
       "      <th></th>\n",
       "      <th></th>\n",
       "      <th></th>\n",
       "    </tr>\n",
       "  </thead>\n",
       "  <tbody>\n",
       "    <tr>\n",
       "      <th>Mastiff</th>\n",
       "      <td>working</td>\n",
       "      <td>13581.0</td>\n",
       "      <td>6.50</td>\n",
       "      <td>large</td>\n",
       "      <td>175.0</td>\n",
       "      <td>30.0</td>\n",
       "    </tr>\n",
       "    <tr>\n",
       "      <th>Borzoi</th>\n",
       "      <td>hound</td>\n",
       "      <td>16176.0</td>\n",
       "      <td>9.08</td>\n",
       "      <td>large</td>\n",
       "      <td>82.5</td>\n",
       "      <td>28.0</td>\n",
       "    </tr>\n",
       "    <tr>\n",
       "      <th>Newfoundland</th>\n",
       "      <td>working</td>\n",
       "      <td>19351.0</td>\n",
       "      <td>9.32</td>\n",
       "      <td>large</td>\n",
       "      <td>125.0</td>\n",
       "      <td>27.0</td>\n",
       "    </tr>\n",
       "    <tr>\n",
       "      <th>...</th>\n",
       "      <td>...</td>\n",
       "      <td>...</td>\n",
       "      <td>...</td>\n",
       "      <td>...</td>\n",
       "      <td>...</td>\n",
       "      <td>...</td>\n",
       "    </tr>\n",
       "    <tr>\n",
       "      <th>Dandie Dinmont Terrier</th>\n",
       "      <td>terrier</td>\n",
       "      <td>21633.0</td>\n",
       "      <td>12.17</td>\n",
       "      <td>small</td>\n",
       "      <td>21.0</td>\n",
       "      <td>9.0</td>\n",
       "    </tr>\n",
       "    <tr>\n",
       "      <th>Maltese</th>\n",
       "      <td>toy</td>\n",
       "      <td>19084.0</td>\n",
       "      <td>12.25</td>\n",
       "      <td>small</td>\n",
       "      <td>5.0</td>\n",
       "      <td>9.0</td>\n",
       "    </tr>\n",
       "    <tr>\n",
       "      <th>Chihuahua</th>\n",
       "      <td>toy</td>\n",
       "      <td>26250.0</td>\n",
       "      <td>16.50</td>\n",
       "      <td>small</td>\n",
       "      <td>5.5</td>\n",
       "      <td>5.0</td>\n",
       "    </tr>\n",
       "  </tbody>\n",
       "</table>\n",
       "<p>43 rows × 6 columns</p>\n",
       "</div>"
      ],
      "text/plain": [
       "                           kind  lifetime_cost  longevity   size  weight  \\\n",
       "breed                                                                      \n",
       "Mastiff                 working        13581.0       6.50  large   175.0   \n",
       "Borzoi                    hound        16176.0       9.08  large    82.5   \n",
       "Newfoundland            working        19351.0       9.32  large   125.0   \n",
       "...                         ...            ...        ...    ...     ...   \n",
       "Dandie Dinmont Terrier  terrier        21633.0      12.17  small    21.0   \n",
       "Maltese                     toy        19084.0      12.25  small     5.0   \n",
       "Chihuahua                   toy        26250.0      16.50  small     5.5   \n",
       "\n",
       "                        height  \n",
       "breed                           \n",
       "Mastiff                   30.0  \n",
       "Borzoi                    28.0  \n",
       "Newfoundland              27.0  \n",
       "...                        ...  \n",
       "Dandie Dinmont Terrier     9.0  \n",
       "Maltese                    9.0  \n",
       "Chihuahua                  5.0  \n",
       "\n",
       "[43 rows x 6 columns]"
      ]
     },
     "execution_count": 33,
     "metadata": {},
     "output_type": "execute_result"
    }
   ],
   "source": [
    "tallest_breed = dogs.sort_values('height', ascending=False)\n",
    "tallest_breed"
   ]
  },
  {
   "cell_type": "code",
   "execution_count": null,
   "id": "4f2d324f",
   "metadata": {
    "deletable": true,
    "editable": true
   },
   "outputs": [],
   "source": []
  },
  {
   "cell_type": "code",
   "execution_count": null,
   "id": "5e535939",
   "metadata": {},
   "outputs": [],
   "source": []
  },
  {
   "cell_type": "code",
   "execution_count": null,
   "id": "f415df2d",
   "metadata": {
    "deletable": true,
    "editable": true
   },
   "outputs": [],
   "source": []
  },
  {
   "cell_type": "markdown",
   "id": "d8b40f9e",
   "metadata": {
    "deletable": true,
    "editable": true,
    "slideshow": {
     "slide_type": "slide"
    }
   },
   "source": [
    "<div class=\"alert alert-warning\">\n",
    "    <h3>Question 🤔 (Answer at <a style=\"text-decoration: none; color: #0066cc\" href=\"https://docs.google.com/forms/d/e/1FAIpQLSd4oliiZYeNh76jWy-arfEtoAkCrVSsobZxPwxifWggo3EO0Q/viewform\">practicaldsc.org/q</a>)</h3>\n",
    "    \n",
    "What are your thoughts on the activities in lecture?\n",
    "    \n",
    "- A. I really hate them, get rid of them and spend more time lecturing.\n",
    "- B. I don't mind them.\n",
    "- C. I'm neutral – I wouldn't be sad to see them go, but don't mind if they're there.\n",
    "- D. I like them.\n",
    "- E. I really love them, do more!"
   ]
  },
  {
   "cell_type": "markdown",
   "id": "814c16b7",
   "metadata": {
    "deletable": true,
    "editable": true,
    "slideshow": {
     "slide_type": "slide"
    }
   },
   "source": [
    "### 💡 Pro-Tip: Displaying more rows/columns\n",
    "\n",
    "Sometimes, you just want `pandas` to display a lot of rows and columns. You can use this helper function to do that."
   ]
  },
  {
   "cell_type": "code",
   "execution_count": 34,
   "id": "d1c32fe3",
   "metadata": {
    "deletable": true,
    "editable": true
   },
   "outputs": [],
   "source": [
    "from IPython.display import display\n",
    "def display_df(df, rows=pd.options.display.max_rows, cols=pd.options.display.max_columns):\n",
    "    \"\"\"Displays n rows and cols from df.\"\"\"\n",
    "    with pd.option_context(\"display.max_rows\", rows,\n",
    "                           \"display.max_columns\", cols):\n",
    "        display(df)"
   ]
  },
  {
   "cell_type": "code",
   "execution_count": 35,
   "id": "1f08f083",
   "metadata": {
    "deletable": true,
    "editable": true
   },
   "outputs": [
    {
     "data": {
      "text/html": [
       "<div>\n",
       "<style scoped>\n",
       "    .dataframe tbody tr th:only-of-type {\n",
       "        vertical-align: middle;\n",
       "    }\n",
       "\n",
       "    .dataframe tbody tr th {\n",
       "        vertical-align: top;\n",
       "    }\n",
       "\n",
       "    .dataframe thead th {\n",
       "        text-align: right;\n",
       "    }\n",
       "</style>\n",
       "<table border=\"1\" class=\"dataframe\">\n",
       "  <thead>\n",
       "    <tr style=\"text-align: right;\">\n",
       "      <th></th>\n",
       "      <th>kind</th>\n",
       "      <th>lifetime_cost</th>\n",
       "      <th>longevity</th>\n",
       "      <th>size</th>\n",
       "      <th>weight</th>\n",
       "      <th>height</th>\n",
       "    </tr>\n",
       "    <tr>\n",
       "      <th>breed</th>\n",
       "      <th></th>\n",
       "      <th></th>\n",
       "      <th></th>\n",
       "      <th></th>\n",
       "      <th></th>\n",
       "      <th></th>\n",
       "    </tr>\n",
       "  </thead>\n",
       "  <tbody>\n",
       "    <tr>\n",
       "      <th>Mastiff</th>\n",
       "      <td>working</td>\n",
       "      <td>13581.0</td>\n",
       "      <td>6.50</td>\n",
       "      <td>large</td>\n",
       "      <td>175.0</td>\n",
       "      <td>30.00</td>\n",
       "    </tr>\n",
       "    <tr>\n",
       "      <th>Saint Bernard</th>\n",
       "      <td>working</td>\n",
       "      <td>20022.0</td>\n",
       "      <td>7.78</td>\n",
       "      <td>large</td>\n",
       "      <td>155.0</td>\n",
       "      <td>26.50</td>\n",
       "    </tr>\n",
       "    <tr>\n",
       "      <th>Newfoundland</th>\n",
       "      <td>working</td>\n",
       "      <td>19351.0</td>\n",
       "      <td>9.32</td>\n",
       "      <td>large</td>\n",
       "      <td>125.0</td>\n",
       "      <td>27.00</td>\n",
       "    </tr>\n",
       "    <tr>\n",
       "      <th>Bullmastiff</th>\n",
       "      <td>working</td>\n",
       "      <td>13936.0</td>\n",
       "      <td>7.57</td>\n",
       "      <td>large</td>\n",
       "      <td>115.0</td>\n",
       "      <td>25.50</td>\n",
       "    </tr>\n",
       "    <tr>\n",
       "      <th>Bloodhound</th>\n",
       "      <td>hound</td>\n",
       "      <td>13824.0</td>\n",
       "      <td>6.75</td>\n",
       "      <td>large</td>\n",
       "      <td>85.0</td>\n",
       "      <td>25.00</td>\n",
       "    </tr>\n",
       "    <tr>\n",
       "      <th>Borzoi</th>\n",
       "      <td>hound</td>\n",
       "      <td>16176.0</td>\n",
       "      <td>9.08</td>\n",
       "      <td>large</td>\n",
       "      <td>82.5</td>\n",
       "      <td>28.00</td>\n",
       "    </tr>\n",
       "    <tr>\n",
       "      <th>Alaskan Malamute</th>\n",
       "      <td>working</td>\n",
       "      <td>21986.0</td>\n",
       "      <td>10.67</td>\n",
       "      <td>large</td>\n",
       "      <td>80.0</td>\n",
       "      <td>24.00</td>\n",
       "    </tr>\n",
       "    <tr>\n",
       "      <th>Rhodesian Ridgeback</th>\n",
       "      <td>hound</td>\n",
       "      <td>16530.0</td>\n",
       "      <td>9.10</td>\n",
       "      <td>large</td>\n",
       "      <td>77.5</td>\n",
       "      <td>25.50</td>\n",
       "    </tr>\n",
       "    <tr>\n",
       "      <th>Giant Schnauzer</th>\n",
       "      <td>working</td>\n",
       "      <td>26686.0</td>\n",
       "      <td>10.00</td>\n",
       "      <td>large</td>\n",
       "      <td>77.5</td>\n",
       "      <td>25.50</td>\n",
       "    </tr>\n",
       "    <tr>\n",
       "      <th>Clumber Spaniel</th>\n",
       "      <td>sporting</td>\n",
       "      <td>18084.0</td>\n",
       "      <td>10.00</td>\n",
       "      <td>medium</td>\n",
       "      <td>70.0</td>\n",
       "      <td>18.50</td>\n",
       "    </tr>\n",
       "    <tr>\n",
       "      <th>Labrador Retriever</th>\n",
       "      <td>sporting</td>\n",
       "      <td>21299.0</td>\n",
       "      <td>12.04</td>\n",
       "      <td>medium</td>\n",
       "      <td>67.5</td>\n",
       "      <td>23.00</td>\n",
       "    </tr>\n",
       "    <tr>\n",
       "      <th>Chesapeake Bay Retriever</th>\n",
       "      <td>sporting</td>\n",
       "      <td>16697.0</td>\n",
       "      <td>9.48</td>\n",
       "      <td>large</td>\n",
       "      <td>67.5</td>\n",
       "      <td>23.50</td>\n",
       "    </tr>\n",
       "    <tr>\n",
       "      <th>Irish Setter</th>\n",
       "      <td>sporting</td>\n",
       "      <td>20323.0</td>\n",
       "      <td>11.63</td>\n",
       "      <td>large</td>\n",
       "      <td>65.0</td>\n",
       "      <td>26.00</td>\n",
       "    </tr>\n",
       "    <tr>\n",
       "      <th>German Shorthaired Pointer</th>\n",
       "      <td>sporting</td>\n",
       "      <td>25842.0</td>\n",
       "      <td>11.46</td>\n",
       "      <td>large</td>\n",
       "      <td>62.5</td>\n",
       "      <td>24.00</td>\n",
       "    </tr>\n",
       "    <tr>\n",
       "      <th>Gordon Setter</th>\n",
       "      <td>sporting</td>\n",
       "      <td>19605.0</td>\n",
       "      <td>11.10</td>\n",
       "      <td>large</td>\n",
       "      <td>62.5</td>\n",
       "      <td>25.00</td>\n",
       "    </tr>\n",
       "    <tr>\n",
       "      <th>Bull Terrier</th>\n",
       "      <td>terrier</td>\n",
       "      <td>18490.0</td>\n",
       "      <td>10.21</td>\n",
       "      <td>medium</td>\n",
       "      <td>60.0</td>\n",
       "      <td>21.50</td>\n",
       "    </tr>\n",
       "    <tr>\n",
       "      <th>Golden Retriever</th>\n",
       "      <td>sporting</td>\n",
       "      <td>21447.0</td>\n",
       "      <td>12.04</td>\n",
       "      <td>medium</td>\n",
       "      <td>60.0</td>\n",
       "      <td>22.75</td>\n",
       "    </tr>\n",
       "    <tr>\n",
       "      <th>Pointer</th>\n",
       "      <td>sporting</td>\n",
       "      <td>24445.0</td>\n",
       "      <td>12.42</td>\n",
       "      <td>large</td>\n",
       "      <td>59.5</td>\n",
       "      <td>25.50</td>\n",
       "    </tr>\n",
       "    <tr>\n",
       "      <th>Afghan Hound</th>\n",
       "      <td>hound</td>\n",
       "      <td>24077.0</td>\n",
       "      <td>11.92</td>\n",
       "      <td>large</td>\n",
       "      <td>55.0</td>\n",
       "      <td>26.00</td>\n",
       "    </tr>\n",
       "    <tr>\n",
       "      <th>Siberian Husky</th>\n",
       "      <td>working</td>\n",
       "      <td>22049.0</td>\n",
       "      <td>12.58</td>\n",
       "      <td>medium</td>\n",
       "      <td>47.5</td>\n",
       "      <td>21.75</td>\n",
       "    </tr>\n",
       "    <tr>\n",
       "      <th>English Springer Spaniel</th>\n",
       "      <td>sporting</td>\n",
       "      <td>21946.0</td>\n",
       "      <td>12.54</td>\n",
       "      <td>medium</td>\n",
       "      <td>45.0</td>\n",
       "      <td>19.50</td>\n",
       "    </tr>\n",
       "    <tr>\n",
       "      <th>Kerry Blue Terrier</th>\n",
       "      <td>terrier</td>\n",
       "      <td>17240.0</td>\n",
       "      <td>9.40</td>\n",
       "      <td>medium</td>\n",
       "      <td>36.5</td>\n",
       "      <td>18.50</td>\n",
       "    </tr>\n",
       "    <tr>\n",
       "      <th>Brittany</th>\n",
       "      <td>sporting</td>\n",
       "      <td>22589.0</td>\n",
       "      <td>12.92</td>\n",
       "      <td>medium</td>\n",
       "      <td>35.0</td>\n",
       "      <td>19.00</td>\n",
       "    </tr>\n",
       "    <tr>\n",
       "      <th>Staffordshire Bull Terrier</th>\n",
       "      <td>terrier</td>\n",
       "      <td>21650.0</td>\n",
       "      <td>12.05</td>\n",
       "      <td>medium</td>\n",
       "      <td>31.0</td>\n",
       "      <td>15.00</td>\n",
       "    </tr>\n",
       "    <tr>\n",
       "      <th>English Cocker Spaniel</th>\n",
       "      <td>sporting</td>\n",
       "      <td>18993.0</td>\n",
       "      <td>11.66</td>\n",
       "      <td>medium</td>\n",
       "      <td>30.0</td>\n",
       "      <td>16.00</td>\n",
       "    </tr>\n",
       "    <tr>\n",
       "      <th>Pembroke Welsh Corgi</th>\n",
       "      <td>herding</td>\n",
       "      <td>23978.0</td>\n",
       "      <td>12.25</td>\n",
       "      <td>small</td>\n",
       "      <td>26.0</td>\n",
       "      <td>11.00</td>\n",
       "    </tr>\n",
       "    <tr>\n",
       "      <th>Cocker Spaniel</th>\n",
       "      <td>sporting</td>\n",
       "      <td>24330.0</td>\n",
       "      <td>12.50</td>\n",
       "      <td>small</td>\n",
       "      <td>25.0</td>\n",
       "      <td>14.50</td>\n",
       "    </tr>\n",
       "    <tr>\n",
       "      <th>Tibetan Terrier</th>\n",
       "      <td>non-sporting</td>\n",
       "      <td>20336.0</td>\n",
       "      <td>12.31</td>\n",
       "      <td>small</td>\n",
       "      <td>24.0</td>\n",
       "      <td>15.50</td>\n",
       "    </tr>\n",
       "    <tr>\n",
       "      <th>Basenji</th>\n",
       "      <td>hound</td>\n",
       "      <td>22096.0</td>\n",
       "      <td>13.58</td>\n",
       "      <td>medium</td>\n",
       "      <td>23.0</td>\n",
       "      <td>16.50</td>\n",
       "    </tr>\n",
       "    <tr>\n",
       "      <th>Shetland Sheepdog</th>\n",
       "      <td>herding</td>\n",
       "      <td>21006.0</td>\n",
       "      <td>12.53</td>\n",
       "      <td>small</td>\n",
       "      <td>22.0</td>\n",
       "      <td>14.50</td>\n",
       "    </tr>\n",
       "    <tr>\n",
       "      <th>Dandie Dinmont Terrier</th>\n",
       "      <td>terrier</td>\n",
       "      <td>21633.0</td>\n",
       "      <td>12.17</td>\n",
       "      <td>small</td>\n",
       "      <td>21.0</td>\n",
       "      <td>9.00</td>\n",
       "    </tr>\n",
       "    <tr>\n",
       "      <th>Scottish Terrier</th>\n",
       "      <td>terrier</td>\n",
       "      <td>17525.0</td>\n",
       "      <td>10.69</td>\n",
       "      <td>small</td>\n",
       "      <td>20.0</td>\n",
       "      <td>10.00</td>\n",
       "    </tr>\n",
       "    <tr>\n",
       "      <th>Pug</th>\n",
       "      <td>toy</td>\n",
       "      <td>18527.0</td>\n",
       "      <td>11.00</td>\n",
       "      <td>medium</td>\n",
       "      <td>16.0</td>\n",
       "      <td>16.00</td>\n",
       "    </tr>\n",
       "    <tr>\n",
       "      <th>Miniature Schnauzer</th>\n",
       "      <td>terrier</td>\n",
       "      <td>20087.0</td>\n",
       "      <td>11.81</td>\n",
       "      <td>small</td>\n",
       "      <td>15.5</td>\n",
       "      <td>13.00</td>\n",
       "    </tr>\n",
       "    <tr>\n",
       "      <th>Cavalier King Charles Spaniel</th>\n",
       "      <td>toy</td>\n",
       "      <td>18639.0</td>\n",
       "      <td>11.29</td>\n",
       "      <td>small</td>\n",
       "      <td>15.5</td>\n",
       "      <td>12.50</td>\n",
       "    </tr>\n",
       "    <tr>\n",
       "      <th>Lhasa Apso</th>\n",
       "      <td>non-sporting</td>\n",
       "      <td>22031.0</td>\n",
       "      <td>13.92</td>\n",
       "      <td>small</td>\n",
       "      <td>15.0</td>\n",
       "      <td>10.50</td>\n",
       "    </tr>\n",
       "    <tr>\n",
       "      <th>Cairn Terrier</th>\n",
       "      <td>terrier</td>\n",
       "      <td>21992.0</td>\n",
       "      <td>13.84</td>\n",
       "      <td>small</td>\n",
       "      <td>14.0</td>\n",
       "      <td>10.00</td>\n",
       "    </tr>\n",
       "    <tr>\n",
       "      <th>Shih Tzu</th>\n",
       "      <td>toy</td>\n",
       "      <td>21152.0</td>\n",
       "      <td>13.20</td>\n",
       "      <td>small</td>\n",
       "      <td>12.5</td>\n",
       "      <td>9.75</td>\n",
       "    </tr>\n",
       "    <tr>\n",
       "      <th>Tibetan Spaniel</th>\n",
       "      <td>non-sporting</td>\n",
       "      <td>25549.0</td>\n",
       "      <td>14.42</td>\n",
       "      <td>small</td>\n",
       "      <td>12.0</td>\n",
       "      <td>10.00</td>\n",
       "    </tr>\n",
       "    <tr>\n",
       "      <th>Norfolk Terrier</th>\n",
       "      <td>terrier</td>\n",
       "      <td>24308.0</td>\n",
       "      <td>13.07</td>\n",
       "      <td>small</td>\n",
       "      <td>12.0</td>\n",
       "      <td>9.50</td>\n",
       "    </tr>\n",
       "    <tr>\n",
       "      <th>English Toy Spaniel</th>\n",
       "      <td>toy</td>\n",
       "      <td>17521.0</td>\n",
       "      <td>10.10</td>\n",
       "      <td>small</td>\n",
       "      <td>11.0</td>\n",
       "      <td>10.00</td>\n",
       "    </tr>\n",
       "    <tr>\n",
       "      <th>Chihuahua</th>\n",
       "      <td>toy</td>\n",
       "      <td>26250.0</td>\n",
       "      <td>16.50</td>\n",
       "      <td>small</td>\n",
       "      <td>5.5</td>\n",
       "      <td>5.00</td>\n",
       "    </tr>\n",
       "    <tr>\n",
       "      <th>Maltese</th>\n",
       "      <td>toy</td>\n",
       "      <td>19084.0</td>\n",
       "      <td>12.25</td>\n",
       "      <td>small</td>\n",
       "      <td>5.0</td>\n",
       "      <td>9.00</td>\n",
       "    </tr>\n",
       "  </tbody>\n",
       "</table>\n",
       "</div>"
      ],
      "text/plain": [
       "                                       kind  lifetime_cost  longevity    size  \\\n",
       "breed                                                                           \n",
       "Mastiff                             working        13581.0       6.50   large   \n",
       "Saint Bernard                       working        20022.0       7.78   large   \n",
       "Newfoundland                        working        19351.0       9.32   large   \n",
       "Bullmastiff                         working        13936.0       7.57   large   \n",
       "Bloodhound                            hound        13824.0       6.75   large   \n",
       "Borzoi                                hound        16176.0       9.08   large   \n",
       "Alaskan Malamute                    working        21986.0      10.67   large   \n",
       "Rhodesian Ridgeback                   hound        16530.0       9.10   large   \n",
       "Giant Schnauzer                     working        26686.0      10.00   large   \n",
       "Clumber Spaniel                    sporting        18084.0      10.00  medium   \n",
       "Labrador Retriever                 sporting        21299.0      12.04  medium   \n",
       "Chesapeake Bay Retriever           sporting        16697.0       9.48   large   \n",
       "Irish Setter                       sporting        20323.0      11.63   large   \n",
       "German Shorthaired Pointer         sporting        25842.0      11.46   large   \n",
       "Gordon Setter                      sporting        19605.0      11.10   large   \n",
       "Bull Terrier                        terrier        18490.0      10.21  medium   \n",
       "Golden Retriever                   sporting        21447.0      12.04  medium   \n",
       "Pointer                            sporting        24445.0      12.42   large   \n",
       "Afghan Hound                          hound        24077.0      11.92   large   \n",
       "Siberian Husky                      working        22049.0      12.58  medium   \n",
       "English Springer Spaniel           sporting        21946.0      12.54  medium   \n",
       "Kerry Blue Terrier                  terrier        17240.0       9.40  medium   \n",
       "Brittany                           sporting        22589.0      12.92  medium   \n",
       "Staffordshire Bull Terrier          terrier        21650.0      12.05  medium   \n",
       "English Cocker Spaniel             sporting        18993.0      11.66  medium   \n",
       "Pembroke Welsh Corgi                herding        23978.0      12.25   small   \n",
       "Cocker Spaniel                     sporting        24330.0      12.50   small   \n",
       "Tibetan Terrier                non-sporting        20336.0      12.31   small   \n",
       "Basenji                               hound        22096.0      13.58  medium   \n",
       "Shetland Sheepdog                   herding        21006.0      12.53   small   \n",
       "Dandie Dinmont Terrier              terrier        21633.0      12.17   small   \n",
       "Scottish Terrier                    terrier        17525.0      10.69   small   \n",
       "Pug                                     toy        18527.0      11.00  medium   \n",
       "Miniature Schnauzer                 terrier        20087.0      11.81   small   \n",
       "Cavalier King Charles Spaniel           toy        18639.0      11.29   small   \n",
       "Lhasa Apso                     non-sporting        22031.0      13.92   small   \n",
       "Cairn Terrier                       terrier        21992.0      13.84   small   \n",
       "Shih Tzu                                toy        21152.0      13.20   small   \n",
       "Tibetan Spaniel                non-sporting        25549.0      14.42   small   \n",
       "Norfolk Terrier                     terrier        24308.0      13.07   small   \n",
       "English Toy Spaniel                     toy        17521.0      10.10   small   \n",
       "Chihuahua                               toy        26250.0      16.50   small   \n",
       "Maltese                                 toy        19084.0      12.25   small   \n",
       "\n",
       "                               weight  height  \n",
       "breed                                          \n",
       "Mastiff                         175.0   30.00  \n",
       "Saint Bernard                   155.0   26.50  \n",
       "Newfoundland                    125.0   27.00  \n",
       "Bullmastiff                     115.0   25.50  \n",
       "Bloodhound                       85.0   25.00  \n",
       "Borzoi                           82.5   28.00  \n",
       "Alaskan Malamute                 80.0   24.00  \n",
       "Rhodesian Ridgeback              77.5   25.50  \n",
       "Giant Schnauzer                  77.5   25.50  \n",
       "Clumber Spaniel                  70.0   18.50  \n",
       "Labrador Retriever               67.5   23.00  \n",
       "Chesapeake Bay Retriever         67.5   23.50  \n",
       "Irish Setter                     65.0   26.00  \n",
       "German Shorthaired Pointer       62.5   24.00  \n",
       "Gordon Setter                    62.5   25.00  \n",
       "Bull Terrier                     60.0   21.50  \n",
       "Golden Retriever                 60.0   22.75  \n",
       "Pointer                          59.5   25.50  \n",
       "Afghan Hound                     55.0   26.00  \n",
       "Siberian Husky                   47.5   21.75  \n",
       "English Springer Spaniel         45.0   19.50  \n",
       "Kerry Blue Terrier               36.5   18.50  \n",
       "Brittany                         35.0   19.00  \n",
       "Staffordshire Bull Terrier       31.0   15.00  \n",
       "English Cocker Spaniel           30.0   16.00  \n",
       "Pembroke Welsh Corgi             26.0   11.00  \n",
       "Cocker Spaniel                   25.0   14.50  \n",
       "Tibetan Terrier                  24.0   15.50  \n",
       "Basenji                          23.0   16.50  \n",
       "Shetland Sheepdog                22.0   14.50  \n",
       "Dandie Dinmont Terrier           21.0    9.00  \n",
       "Scottish Terrier                 20.0   10.00  \n",
       "Pug                              16.0   16.00  \n",
       "Miniature Schnauzer              15.5   13.00  \n",
       "Cavalier King Charles Spaniel    15.5   12.50  \n",
       "Lhasa Apso                       15.0   10.50  \n",
       "Cairn Terrier                    14.0   10.00  \n",
       "Shih Tzu                         12.5    9.75  \n",
       "Tibetan Spaniel                  12.0   10.00  \n",
       "Norfolk Terrier                  12.0    9.50  \n",
       "English Toy Spaniel              11.0   10.00  \n",
       "Chihuahua                         5.5    5.00  \n",
       "Maltese                           5.0    9.00  "
      ]
     },
     "metadata": {},
     "output_type": "display_data"
    }
   ],
   "source": [
    "display_df(dogs.sort_values('weight', ascending=False), rows=43)"
   ]
  },
  {
   "cell_type": "markdown",
   "id": "4fe01bc6",
   "metadata": {
    "deletable": true,
    "editable": true,
    "slideshow": {
     "slide_type": "slide"
    },
    "tags": []
   },
   "source": [
    "## Selecting columns from a DataFrame\n",
    "\n",
    "In order to answer questions involving our data, we'll need to be able to access the values stored in individual columns.\n",
    "\n",
    "---"
   ]
  },
  {
   "cell_type": "markdown",
   "id": "e4a4f365",
   "metadata": {
    "deletable": true,
    "editable": true,
    "slideshow": {
     "slide_type": "slide"
    },
    "tags": []
   },
   "source": [
    "### Selecting columns with `[]`"
   ]
  },
  {
   "cell_type": "markdown",
   "id": "cf641e93",
   "metadata": {
    "deletable": true,
    "editable": true,
    "slideshow": {
     "slide_type": "fragment"
    }
   },
   "source": [
    "- The most common way to select a subset of the columns in a DataFrame is by using the `[]` operator.\n",
    "<br><small>This is just like when we accessed values in a dictionary based on their key.</small>"
   ]
  },
  {
   "cell_type": "markdown",
   "id": "bb3cbdf6",
   "metadata": {
    "deletable": true,
    "editable": true,
    "slideshow": {
     "slide_type": "fragment"
    }
   },
   "source": [
    "- Specifying a column name returns the column as a Series."
   ]
  },
  {
   "cell_type": "markdown",
   "id": "59149bf1",
   "metadata": {
    "deletable": true,
    "editable": true,
    "slideshow": {
     "slide_type": "fragment"
    }
   },
   "source": [
    "- Specifying a list of column names returns a DataFrame."
   ]
  },
  {
   "cell_type": "code",
   "execution_count": 36,
   "id": "4cf558ec",
   "metadata": {
    "deletable": true,
    "editable": true,
    "slideshow": {
     "slide_type": ""
    },
    "tags": []
   },
   "outputs": [
    {
     "data": {
      "text/html": [
       "<div>\n",
       "<style scoped>\n",
       "    .dataframe tbody tr th:only-of-type {\n",
       "        vertical-align: middle;\n",
       "    }\n",
       "\n",
       "    .dataframe tbody tr th {\n",
       "        vertical-align: top;\n",
       "    }\n",
       "\n",
       "    .dataframe thead th {\n",
       "        text-align: right;\n",
       "    }\n",
       "</style>\n",
       "<table border=\"1\" class=\"dataframe\">\n",
       "  <thead>\n",
       "    <tr style=\"text-align: right;\">\n",
       "      <th></th>\n",
       "      <th>kind</th>\n",
       "      <th>lifetime_cost</th>\n",
       "      <th>longevity</th>\n",
       "      <th>size</th>\n",
       "      <th>weight</th>\n",
       "      <th>height</th>\n",
       "    </tr>\n",
       "    <tr>\n",
       "      <th>breed</th>\n",
       "      <th></th>\n",
       "      <th></th>\n",
       "      <th></th>\n",
       "      <th></th>\n",
       "      <th></th>\n",
       "      <th></th>\n",
       "    </tr>\n",
       "  </thead>\n",
       "  <tbody>\n",
       "    <tr>\n",
       "      <th>Brittany</th>\n",
       "      <td>sporting</td>\n",
       "      <td>22589.0</td>\n",
       "      <td>12.92</td>\n",
       "      <td>medium</td>\n",
       "      <td>35.0</td>\n",
       "      <td>19.0</td>\n",
       "    </tr>\n",
       "    <tr>\n",
       "      <th>Cairn Terrier</th>\n",
       "      <td>terrier</td>\n",
       "      <td>21992.0</td>\n",
       "      <td>13.84</td>\n",
       "      <td>small</td>\n",
       "      <td>14.0</td>\n",
       "      <td>10.0</td>\n",
       "    </tr>\n",
       "    <tr>\n",
       "      <th>English Cocker Spaniel</th>\n",
       "      <td>sporting</td>\n",
       "      <td>18993.0</td>\n",
       "      <td>11.66</td>\n",
       "      <td>medium</td>\n",
       "      <td>30.0</td>\n",
       "      <td>16.0</td>\n",
       "    </tr>\n",
       "    <tr>\n",
       "      <th>...</th>\n",
       "      <td>...</td>\n",
       "      <td>...</td>\n",
       "      <td>...</td>\n",
       "      <td>...</td>\n",
       "      <td>...</td>\n",
       "      <td>...</td>\n",
       "    </tr>\n",
       "    <tr>\n",
       "      <th>Bullmastiff</th>\n",
       "      <td>working</td>\n",
       "      <td>13936.0</td>\n",
       "      <td>7.57</td>\n",
       "      <td>large</td>\n",
       "      <td>115.0</td>\n",
       "      <td>25.5</td>\n",
       "    </tr>\n",
       "    <tr>\n",
       "      <th>Mastiff</th>\n",
       "      <td>working</td>\n",
       "      <td>13581.0</td>\n",
       "      <td>6.50</td>\n",
       "      <td>large</td>\n",
       "      <td>175.0</td>\n",
       "      <td>30.0</td>\n",
       "    </tr>\n",
       "    <tr>\n",
       "      <th>Saint Bernard</th>\n",
       "      <td>working</td>\n",
       "      <td>20022.0</td>\n",
       "      <td>7.78</td>\n",
       "      <td>large</td>\n",
       "      <td>155.0</td>\n",
       "      <td>26.5</td>\n",
       "    </tr>\n",
       "  </tbody>\n",
       "</table>\n",
       "<p>43 rows × 6 columns</p>\n",
       "</div>"
      ],
      "text/plain": [
       "                            kind  lifetime_cost  longevity    size  weight  \\\n",
       "breed                                                                        \n",
       "Brittany                sporting        22589.0      12.92  medium    35.0   \n",
       "Cairn Terrier            terrier        21992.0      13.84   small    14.0   \n",
       "English Cocker Spaniel  sporting        18993.0      11.66  medium    30.0   \n",
       "...                          ...            ...        ...     ...     ...   \n",
       "Bullmastiff              working        13936.0       7.57   large   115.0   \n",
       "Mastiff                  working        13581.0       6.50   large   175.0   \n",
       "Saint Bernard            working        20022.0       7.78   large   155.0   \n",
       "\n",
       "                        height  \n",
       "breed                           \n",
       "Brittany                  19.0  \n",
       "Cairn Terrier             10.0  \n",
       "English Cocker Spaniel    16.0  \n",
       "...                        ...  \n",
       "Bullmastiff               25.5  \n",
       "Mastiff                   30.0  \n",
       "Saint Bernard             26.5  \n",
       "\n",
       "[43 rows x 6 columns]"
      ]
     },
     "execution_count": 36,
     "metadata": {},
     "output_type": "execute_result"
    }
   ],
   "source": [
    "dogs"
   ]
  },
  {
   "cell_type": "code",
   "execution_count": 37,
   "id": "c0182acd",
   "metadata": {
    "deletable": true,
    "editable": true,
    "slideshow": {
     "slide_type": ""
    },
    "tags": []
   },
   "outputs": [
    {
     "data": {
      "text/plain": [
       "breed\n",
       "Brittany                  sporting\n",
       "Cairn Terrier              terrier\n",
       "English Cocker Spaniel    sporting\n",
       "                            ...   \n",
       "Bullmastiff                working\n",
       "Mastiff                    working\n",
       "Saint Bernard              working\n",
       "Name: kind, Length: 43, dtype: object"
      ]
     },
     "execution_count": 37,
     "metadata": {},
     "output_type": "execute_result"
    }
   ],
   "source": [
    "# Returns a Series.\n",
    "dogs['kind'] "
   ]
  },
  {
   "cell_type": "code",
   "execution_count": 38,
   "id": "0f280a5b",
   "metadata": {
    "deletable": true,
    "editable": true,
    "slideshow": {
     "slide_type": ""
    },
    "tags": []
   },
   "outputs": [
    {
     "data": {
      "text/html": [
       "<div>\n",
       "<style scoped>\n",
       "    .dataframe tbody tr th:only-of-type {\n",
       "        vertical-align: middle;\n",
       "    }\n",
       "\n",
       "    .dataframe tbody tr th {\n",
       "        vertical-align: top;\n",
       "    }\n",
       "\n",
       "    .dataframe thead th {\n",
       "        text-align: right;\n",
       "    }\n",
       "</style>\n",
       "<table border=\"1\" class=\"dataframe\">\n",
       "  <thead>\n",
       "    <tr style=\"text-align: right;\">\n",
       "      <th></th>\n",
       "      <th>kind</th>\n",
       "      <th>size</th>\n",
       "    </tr>\n",
       "    <tr>\n",
       "      <th>breed</th>\n",
       "      <th></th>\n",
       "      <th></th>\n",
       "    </tr>\n",
       "  </thead>\n",
       "  <tbody>\n",
       "    <tr>\n",
       "      <th>Brittany</th>\n",
       "      <td>sporting</td>\n",
       "      <td>medium</td>\n",
       "    </tr>\n",
       "    <tr>\n",
       "      <th>Cairn Terrier</th>\n",
       "      <td>terrier</td>\n",
       "      <td>small</td>\n",
       "    </tr>\n",
       "    <tr>\n",
       "      <th>English Cocker Spaniel</th>\n",
       "      <td>sporting</td>\n",
       "      <td>medium</td>\n",
       "    </tr>\n",
       "    <tr>\n",
       "      <th>...</th>\n",
       "      <td>...</td>\n",
       "      <td>...</td>\n",
       "    </tr>\n",
       "    <tr>\n",
       "      <th>Bullmastiff</th>\n",
       "      <td>working</td>\n",
       "      <td>large</td>\n",
       "    </tr>\n",
       "    <tr>\n",
       "      <th>Mastiff</th>\n",
       "      <td>working</td>\n",
       "      <td>large</td>\n",
       "    </tr>\n",
       "    <tr>\n",
       "      <th>Saint Bernard</th>\n",
       "      <td>working</td>\n",
       "      <td>large</td>\n",
       "    </tr>\n",
       "  </tbody>\n",
       "</table>\n",
       "<p>43 rows × 2 columns</p>\n",
       "</div>"
      ],
      "text/plain": [
       "                            kind    size\n",
       "breed                                   \n",
       "Brittany                sporting  medium\n",
       "Cairn Terrier            terrier   small\n",
       "English Cocker Spaniel  sporting  medium\n",
       "...                          ...     ...\n",
       "Bullmastiff              working   large\n",
       "Mastiff                  working   large\n",
       "Saint Bernard            working   large\n",
       "\n",
       "[43 rows x 2 columns]"
      ]
     },
     "execution_count": 38,
     "metadata": {},
     "output_type": "execute_result"
    }
   ],
   "source": [
    "# Returns a DataFrame.\n",
    "dogs[['kind', 'size']] "
   ]
  },
  {
   "cell_type": "code",
   "execution_count": 39,
   "id": "d6e19a92",
   "metadata": {
    "deletable": true,
    "editable": true,
    "slideshow": {
     "slide_type": ""
    },
    "tags": []
   },
   "outputs": [
    {
     "data": {
      "text/html": [
       "<div>\n",
       "<style scoped>\n",
       "    .dataframe tbody tr th:only-of-type {\n",
       "        vertical-align: middle;\n",
       "    }\n",
       "\n",
       "    .dataframe tbody tr th {\n",
       "        vertical-align: top;\n",
       "    }\n",
       "\n",
       "    .dataframe thead th {\n",
       "        text-align: right;\n",
       "    }\n",
       "</style>\n",
       "<table border=\"1\" class=\"dataframe\">\n",
       "  <thead>\n",
       "    <tr style=\"text-align: right;\">\n",
       "      <th></th>\n",
       "      <th>kind</th>\n",
       "    </tr>\n",
       "    <tr>\n",
       "      <th>breed</th>\n",
       "      <th></th>\n",
       "    </tr>\n",
       "  </thead>\n",
       "  <tbody>\n",
       "    <tr>\n",
       "      <th>Brittany</th>\n",
       "      <td>sporting</td>\n",
       "    </tr>\n",
       "    <tr>\n",
       "      <th>Cairn Terrier</th>\n",
       "      <td>terrier</td>\n",
       "    </tr>\n",
       "    <tr>\n",
       "      <th>English Cocker Spaniel</th>\n",
       "      <td>sporting</td>\n",
       "    </tr>\n",
       "    <tr>\n",
       "      <th>...</th>\n",
       "      <td>...</td>\n",
       "    </tr>\n",
       "    <tr>\n",
       "      <th>Bullmastiff</th>\n",
       "      <td>working</td>\n",
       "    </tr>\n",
       "    <tr>\n",
       "      <th>Mastiff</th>\n",
       "      <td>working</td>\n",
       "    </tr>\n",
       "    <tr>\n",
       "      <th>Saint Bernard</th>\n",
       "      <td>working</td>\n",
       "    </tr>\n",
       "  </tbody>\n",
       "</table>\n",
       "<p>43 rows × 1 columns</p>\n",
       "</div>"
      ],
      "text/plain": [
       "                            kind\n",
       "breed                           \n",
       "Brittany                sporting\n",
       "Cairn Terrier            terrier\n",
       "English Cocker Spaniel  sporting\n",
       "...                          ...\n",
       "Bullmastiff              working\n",
       "Mastiff                  working\n",
       "Saint Bernard            working\n",
       "\n",
       "[43 rows x 1 columns]"
      ]
     },
     "execution_count": 39,
     "metadata": {},
     "output_type": "execute_result"
    }
   ],
   "source": [
    "# 🤔\n",
    "dogs[['kind']] "
   ]
  },
  {
   "cell_type": "markdown",
   "id": "f5321508",
   "metadata": {
    "deletable": true,
    "editable": true,
    "slideshow": {
     "slide_type": "fragment"
    }
   },
   "source": [
    "- As an aside: when you get an error message in Python, **the most informative part is usually at the bottom!**<br><small>So, if you're posting about your error on Ed, or debugging with us in office hours, show us the bottom first.</small>"
   ]
  },
  {
   "cell_type": "code",
   "execution_count": 40,
   "id": "ab5a8e79",
   "metadata": {
    "deletable": true,
    "editable": true,
    "slideshow": {
     "slide_type": ""
    },
    "tags": [
     "raises-exception"
    ]
   },
   "outputs": [
    {
     "ename": "KeyError",
     "evalue": "'breed'",
     "output_type": "error",
     "traceback": [
      "\u001b[0;31m---------------------------------------------------------------------------\u001b[0m",
      "\u001b[0;31mKeyError\u001b[0m                                  Traceback (most recent call last)",
      "File \u001b[0;32m~/anaconda3/envs/pds/lib/python3.10/site-packages/pandas/core/indexes/base.py:3790\u001b[0m, in \u001b[0;36mIndex.get_loc\u001b[0;34m(self, key)\u001b[0m\n\u001b[1;32m   3789\u001b[0m \u001b[38;5;28;01mtry\u001b[39;00m:\n\u001b[0;32m-> 3790\u001b[0m     \u001b[38;5;28;01mreturn\u001b[39;00m \u001b[38;5;28;43mself\u001b[39;49m\u001b[38;5;241;43m.\u001b[39;49m\u001b[43m_engine\u001b[49m\u001b[38;5;241;43m.\u001b[39;49m\u001b[43mget_loc\u001b[49m\u001b[43m(\u001b[49m\u001b[43mcasted_key\u001b[49m\u001b[43m)\u001b[49m\n\u001b[1;32m   3791\u001b[0m \u001b[38;5;28;01mexcept\u001b[39;00m \u001b[38;5;167;01mKeyError\u001b[39;00m \u001b[38;5;28;01mas\u001b[39;00m err:\n",
      "File \u001b[0;32mindex.pyx:152\u001b[0m, in \u001b[0;36mpandas._libs.index.IndexEngine.get_loc\u001b[0;34m()\u001b[0m\n",
      "File \u001b[0;32mindex.pyx:181\u001b[0m, in \u001b[0;36mpandas._libs.index.IndexEngine.get_loc\u001b[0;34m()\u001b[0m\n",
      "File \u001b[0;32mpandas/_libs/hashtable_class_helper.pxi:7080\u001b[0m, in \u001b[0;36mpandas._libs.hashtable.PyObjectHashTable.get_item\u001b[0;34m()\u001b[0m\n",
      "File \u001b[0;32mpandas/_libs/hashtable_class_helper.pxi:7088\u001b[0m, in \u001b[0;36mpandas._libs.hashtable.PyObjectHashTable.get_item\u001b[0;34m()\u001b[0m\n",
      "\u001b[0;31mKeyError\u001b[0m: 'breed'",
      "\nThe above exception was the direct cause of the following exception:\n",
      "\u001b[0;31mKeyError\u001b[0m                                  Traceback (most recent call last)",
      "Cell \u001b[0;32mIn[40], line 2\u001b[0m\n\u001b[1;32m      1\u001b[0m \u001b[38;5;66;03m# Breeds are stored in the index, which is not a column!\u001b[39;00m\n\u001b[0;32m----> 2\u001b[0m \u001b[43mdogs\u001b[49m\u001b[43m[\u001b[49m\u001b[38;5;124;43m'\u001b[39;49m\u001b[38;5;124;43mbreed\u001b[39;49m\u001b[38;5;124;43m'\u001b[39;49m\u001b[43m]\u001b[49m\n",
      "File \u001b[0;32m~/anaconda3/envs/pds/lib/python3.10/site-packages/pandas/core/frame.py:3896\u001b[0m, in \u001b[0;36mDataFrame.__getitem__\u001b[0;34m(self, key)\u001b[0m\n\u001b[1;32m   3894\u001b[0m \u001b[38;5;28;01mif\u001b[39;00m \u001b[38;5;28mself\u001b[39m\u001b[38;5;241m.\u001b[39mcolumns\u001b[38;5;241m.\u001b[39mnlevels \u001b[38;5;241m>\u001b[39m \u001b[38;5;241m1\u001b[39m:\n\u001b[1;32m   3895\u001b[0m     \u001b[38;5;28;01mreturn\u001b[39;00m \u001b[38;5;28mself\u001b[39m\u001b[38;5;241m.\u001b[39m_getitem_multilevel(key)\n\u001b[0;32m-> 3896\u001b[0m indexer \u001b[38;5;241m=\u001b[39m \u001b[38;5;28;43mself\u001b[39;49m\u001b[38;5;241;43m.\u001b[39;49m\u001b[43mcolumns\u001b[49m\u001b[38;5;241;43m.\u001b[39;49m\u001b[43mget_loc\u001b[49m\u001b[43m(\u001b[49m\u001b[43mkey\u001b[49m\u001b[43m)\u001b[49m\n\u001b[1;32m   3897\u001b[0m \u001b[38;5;28;01mif\u001b[39;00m is_integer(indexer):\n\u001b[1;32m   3898\u001b[0m     indexer \u001b[38;5;241m=\u001b[39m [indexer]\n",
      "File \u001b[0;32m~/anaconda3/envs/pds/lib/python3.10/site-packages/pandas/core/indexes/base.py:3797\u001b[0m, in \u001b[0;36mIndex.get_loc\u001b[0;34m(self, key)\u001b[0m\n\u001b[1;32m   3792\u001b[0m     \u001b[38;5;28;01mif\u001b[39;00m \u001b[38;5;28misinstance\u001b[39m(casted_key, \u001b[38;5;28mslice\u001b[39m) \u001b[38;5;129;01mor\u001b[39;00m (\n\u001b[1;32m   3793\u001b[0m         \u001b[38;5;28misinstance\u001b[39m(casted_key, abc\u001b[38;5;241m.\u001b[39mIterable)\n\u001b[1;32m   3794\u001b[0m         \u001b[38;5;129;01mand\u001b[39;00m \u001b[38;5;28many\u001b[39m(\u001b[38;5;28misinstance\u001b[39m(x, \u001b[38;5;28mslice\u001b[39m) \u001b[38;5;28;01mfor\u001b[39;00m x \u001b[38;5;129;01min\u001b[39;00m casted_key)\n\u001b[1;32m   3795\u001b[0m     ):\n\u001b[1;32m   3796\u001b[0m         \u001b[38;5;28;01mraise\u001b[39;00m InvalidIndexError(key)\n\u001b[0;32m-> 3797\u001b[0m     \u001b[38;5;28;01mraise\u001b[39;00m \u001b[38;5;167;01mKeyError\u001b[39;00m(key) \u001b[38;5;28;01mfrom\u001b[39;00m \u001b[38;5;21;01merr\u001b[39;00m\n\u001b[1;32m   3798\u001b[0m \u001b[38;5;28;01mexcept\u001b[39;00m \u001b[38;5;167;01mTypeError\u001b[39;00m:\n\u001b[1;32m   3799\u001b[0m     \u001b[38;5;66;03m# If we have a listlike key, _check_indexing_error will raise\u001b[39;00m\n\u001b[1;32m   3800\u001b[0m     \u001b[38;5;66;03m#  InvalidIndexError. Otherwise we fall through and re-raise\u001b[39;00m\n\u001b[1;32m   3801\u001b[0m     \u001b[38;5;66;03m#  the TypeError.\u001b[39;00m\n\u001b[1;32m   3802\u001b[0m     \u001b[38;5;28mself\u001b[39m\u001b[38;5;241m.\u001b[39m_check_indexing_error(key)\n",
      "\u001b[0;31mKeyError\u001b[0m: 'breed'"
     ]
    }
   ],
   "source": [
    "# Breeds are stored in the index, which is not a column!\n",
    "dogs['breed'] "
   ]
  },
  {
   "cell_type": "code",
   "execution_count": 41,
   "id": "3db100ba",
   "metadata": {
    "deletable": true,
    "editable": true,
    "slideshow": {
     "slide_type": ""
    },
    "tags": []
   },
   "outputs": [
    {
     "data": {
      "text/plain": [
       "Index(['Brittany', 'Cairn Terrier', 'English Cocker Spaniel', 'Cocker Spaniel',\n",
       "       'Shetland Sheepdog', 'Siberian Husky', 'Lhasa Apso',\n",
       "       'Miniature Schnauzer', 'Chihuahua', 'English Springer Spaniel',\n",
       "       'German Shorthaired Pointer', 'Pointer', 'Tibetan Spaniel',\n",
       "       'Labrador Retriever', 'Maltese', 'Shih Tzu', 'Irish Setter',\n",
       "       'Golden Retriever', 'Chesapeake Bay Retriever', 'Tibetan Terrier',\n",
       "       'Gordon Setter', 'Pug', 'Norfolk Terrier', 'English Toy Spaniel',\n",
       "       'Cavalier King Charles Spaniel', 'Basenji',\n",
       "       'Staffordshire Bull Terrier', 'Pembroke Welsh Corgi', 'Clumber Spaniel',\n",
       "       'Dandie Dinmont Terrier', 'Giant Schnauzer', 'Scottish Terrier',\n",
       "       'Kerry Blue Terrier', 'Afghan Hound', 'Newfoundland',\n",
       "       'Rhodesian Ridgeback', 'Borzoi', 'Bull Terrier', 'Alaskan Malamute',\n",
       "       'Bloodhound', 'Bullmastiff', 'Mastiff', 'Saint Bernard'],\n",
       "      dtype='object', name='breed')"
      ]
     },
     "execution_count": 41,
     "metadata": {},
     "output_type": "execute_result"
    }
   ],
   "source": [
    "dogs.index "
   ]
  },
  {
   "cell_type": "markdown",
   "id": "7972c08f",
   "metadata": {
    "deletable": true,
    "editable": true,
    "slideshow": {
     "slide_type": "slide"
    },
    "tags": []
   },
   "source": [
    "### Useful Series methods"
   ]
  },
  {
   "cell_type": "markdown",
   "id": "e7ad69c7",
   "metadata": {
    "deletable": true,
    "editable": true,
    "slideshow": {
     "slide_type": "fragment"
    }
   },
   "source": [
    "- A Series is like an array, but with an index."
   ]
  },
  {
   "cell_type": "markdown",
   "id": "d06f1f44",
   "metadata": {
    "deletable": true,
    "editable": true,
    "slideshow": {
     "slide_type": "fragment"
    }
   },
   "source": [
    "- There are a variety of useful methods that work on Series. You can see the entire list [here](https://pandas.pydata.org/docs/reference/api/pandas.Series.html). Many methods that work on a Series will also work on DataFrames, as we'll soon see."
   ]
  },
  {
   "cell_type": "code",
   "execution_count": 42,
   "id": "515937c1",
   "metadata": {
    "deletable": true,
    "editable": true,
    "slideshow": {
     "slide_type": ""
    },
    "tags": []
   },
   "outputs": [
    {
     "data": {
      "text/html": [
       "<div>\n",
       "<style scoped>\n",
       "    .dataframe tbody tr th:only-of-type {\n",
       "        vertical-align: middle;\n",
       "    }\n",
       "\n",
       "    .dataframe tbody tr th {\n",
       "        vertical-align: top;\n",
       "    }\n",
       "\n",
       "    .dataframe thead th {\n",
       "        text-align: right;\n",
       "    }\n",
       "</style>\n",
       "<table border=\"1\" class=\"dataframe\">\n",
       "  <thead>\n",
       "    <tr style=\"text-align: right;\">\n",
       "      <th></th>\n",
       "      <th>kind</th>\n",
       "      <th>lifetime_cost</th>\n",
       "      <th>longevity</th>\n",
       "      <th>size</th>\n",
       "      <th>weight</th>\n",
       "      <th>height</th>\n",
       "    </tr>\n",
       "    <tr>\n",
       "      <th>breed</th>\n",
       "      <th></th>\n",
       "      <th></th>\n",
       "      <th></th>\n",
       "      <th></th>\n",
       "      <th></th>\n",
       "      <th></th>\n",
       "    </tr>\n",
       "  </thead>\n",
       "  <tbody>\n",
       "    <tr>\n",
       "      <th>Brittany</th>\n",
       "      <td>sporting</td>\n",
       "      <td>22589.0</td>\n",
       "      <td>12.92</td>\n",
       "      <td>medium</td>\n",
       "      <td>35.0</td>\n",
       "      <td>19.0</td>\n",
       "    </tr>\n",
       "    <tr>\n",
       "      <th>Cairn Terrier</th>\n",
       "      <td>terrier</td>\n",
       "      <td>21992.0</td>\n",
       "      <td>13.84</td>\n",
       "      <td>small</td>\n",
       "      <td>14.0</td>\n",
       "      <td>10.0</td>\n",
       "    </tr>\n",
       "    <tr>\n",
       "      <th>English Cocker Spaniel</th>\n",
       "      <td>sporting</td>\n",
       "      <td>18993.0</td>\n",
       "      <td>11.66</td>\n",
       "      <td>medium</td>\n",
       "      <td>30.0</td>\n",
       "      <td>16.0</td>\n",
       "    </tr>\n",
       "    <tr>\n",
       "      <th>...</th>\n",
       "      <td>...</td>\n",
       "      <td>...</td>\n",
       "      <td>...</td>\n",
       "      <td>...</td>\n",
       "      <td>...</td>\n",
       "      <td>...</td>\n",
       "    </tr>\n",
       "    <tr>\n",
       "      <th>Bullmastiff</th>\n",
       "      <td>working</td>\n",
       "      <td>13936.0</td>\n",
       "      <td>7.57</td>\n",
       "      <td>large</td>\n",
       "      <td>115.0</td>\n",
       "      <td>25.5</td>\n",
       "    </tr>\n",
       "    <tr>\n",
       "      <th>Mastiff</th>\n",
       "      <td>working</td>\n",
       "      <td>13581.0</td>\n",
       "      <td>6.50</td>\n",
       "      <td>large</td>\n",
       "      <td>175.0</td>\n",
       "      <td>30.0</td>\n",
       "    </tr>\n",
       "    <tr>\n",
       "      <th>Saint Bernard</th>\n",
       "      <td>working</td>\n",
       "      <td>20022.0</td>\n",
       "      <td>7.78</td>\n",
       "      <td>large</td>\n",
       "      <td>155.0</td>\n",
       "      <td>26.5</td>\n",
       "    </tr>\n",
       "  </tbody>\n",
       "</table>\n",
       "<p>43 rows × 6 columns</p>\n",
       "</div>"
      ],
      "text/plain": [
       "                            kind  lifetime_cost  longevity    size  weight  \\\n",
       "breed                                                                        \n",
       "Brittany                sporting        22589.0      12.92  medium    35.0   \n",
       "Cairn Terrier            terrier        21992.0      13.84   small    14.0   \n",
       "English Cocker Spaniel  sporting        18993.0      11.66  medium    30.0   \n",
       "...                          ...            ...        ...     ...     ...   \n",
       "Bullmastiff              working        13936.0       7.57   large   115.0   \n",
       "Mastiff                  working        13581.0       6.50   large   175.0   \n",
       "Saint Bernard            working        20022.0       7.78   large   155.0   \n",
       "\n",
       "                        height  \n",
       "breed                           \n",
       "Brittany                  19.0  \n",
       "Cairn Terrier             10.0  \n",
       "English Cocker Spaniel    16.0  \n",
       "...                        ...  \n",
       "Bullmastiff               25.5  \n",
       "Mastiff                   30.0  \n",
       "Saint Bernard             26.5  \n",
       "\n",
       "[43 rows x 6 columns]"
      ]
     },
     "execution_count": 42,
     "metadata": {},
     "output_type": "execute_result"
    }
   ],
   "source": [
    "dogs"
   ]
  },
  {
   "cell_type": "code",
   "execution_count": 43,
   "id": "588e1f70",
   "metadata": {
    "deletable": true,
    "editable": true,
    "slideshow": {
     "slide_type": ""
    },
    "tags": []
   },
   "outputs": [
    {
     "data": {
      "text/plain": [
       "array(['sporting', 'terrier', 'herding', 'working', 'non-sporting', 'toy',\n",
       "       'hound'], dtype=object)"
      ]
     },
     "execution_count": 43,
     "metadata": {},
     "output_type": "execute_result"
    }
   ],
   "source": [
    "# What are the unique kinds of dogs?\n",
    "dogs['kind'].unique() "
   ]
  },
  {
   "cell_type": "code",
   "execution_count": 44,
   "id": "ae046998",
   "metadata": {
    "deletable": true,
    "editable": true
   },
   "outputs": [
    {
     "data": {
      "text/plain": [
       "7"
      ]
     },
     "execution_count": 44,
     "metadata": {},
     "output_type": "execute_result"
    }
   ],
   "source": [
    "# How many unique kinds of dogs are there?\n",
    "dogs['kind'].nunique() "
   ]
  },
  {
   "cell_type": "code",
   "execution_count": 45,
   "id": "f1beea8b",
   "metadata": {
    "deletable": true,
    "editable": true,
    "slideshow": {
     "slide_type": ""
    },
    "tags": []
   },
   "outputs": [
    {
     "data": {
      "text/plain": [
       "kind\n",
       "sporting        12\n",
       "terrier          8\n",
       "working          7\n",
       "toy              6\n",
       "hound            5\n",
       "non-sporting     3\n",
       "herding          2\n",
       "Name: count, dtype: int64"
      ]
     },
     "execution_count": 45,
     "metadata": {},
     "output_type": "execute_result"
    }
   ],
   "source": [
    "# What's the distribution of kinds?\n",
    "# value_counts is super useful – and I love asking exam questions about it!\n",
    "dogs['kind'].value_counts() "
   ]
  },
  {
   "cell_type": "code",
   "execution_count": 46,
   "id": "f43ad3f5",
   "metadata": {
    "deletable": true,
    "editable": true,
    "slideshow": {
     "slide_type": ""
    },
    "tags": []
   },
   "outputs": [
    {
     "data": {
      "text/plain": [
       "11.340697674418605"
      ]
     },
     "execution_count": 46,
     "metadata": {},
     "output_type": "execute_result"
    }
   ],
   "source": [
    "# What's the mean of the 'longevity' column?\n",
    "dogs['longevity'].mean() "
   ]
  },
  {
   "cell_type": "code",
   "execution_count": 47,
   "id": "24cdf849",
   "metadata": {
    "deletable": true,
    "editable": true,
    "slideshow": {
     "slide_type": ""
    },
    "tags": []
   },
   "outputs": [
    {
     "data": {
      "text/plain": [
       "count     43.00\n",
       "mean      49.35\n",
       "std       39.42\n",
       "          ...  \n",
       "50%       36.50\n",
       "75%       67.50\n",
       "max      175.00\n",
       "Name: weight, Length: 8, dtype: float64"
      ]
     },
     "execution_count": 47,
     "metadata": {},
     "output_type": "execute_result"
    }
   ],
   "source": [
    "# Tell me more about the 'weight' column.\n",
    "dogs['weight'].describe() "
   ]
  },
  {
   "cell_type": "code",
   "execution_count": 48,
   "id": "aae15d95",
   "metadata": {
    "deletable": true,
    "editable": true,
    "slideshow": {
     "slide_type": ""
    },
    "tags": []
   },
   "outputs": [
    {
     "data": {
      "text/plain": [
       "breed\n",
       "Mastiff                       13581.0\n",
       "Bloodhound                    13824.0\n",
       "Bullmastiff                   13936.0\n",
       "                               ...   \n",
       "German Shorthaired Pointer    25842.0\n",
       "Chihuahua                     26250.0\n",
       "Giant Schnauzer               26686.0\n",
       "Name: lifetime_cost, Length: 43, dtype: float64"
      ]
     },
     "execution_count": 48,
     "metadata": {},
     "output_type": "execute_result"
    }
   ],
   "source": [
    "# Sort the 'lifetime_cost' column. Note that here we're using sort_values on a Series, not a DataFrame!\n",
    "dogs['lifetime_cost'].sort_values() "
   ]
  },
  {
   "cell_type": "code",
   "execution_count": 49,
   "id": "6388f424",
   "metadata": {
    "deletable": true,
    "editable": true
   },
   "outputs": [
    {
     "data": {
      "text/plain": [
       "'Mastiff'"
      ]
     },
     "execution_count": 49,
     "metadata": {},
     "output_type": "execute_result"
    }
   ],
   "source": [
    "# Gives us the index of the largest value, not the largest value itself.\n",
    "# Note that this makes our Activity from a few slides ago way easier!\n",
    "dogs['height'].idxmax() "
   ]
  },
  {
   "cell_type": "markdown",
   "id": "c254fb90",
   "metadata": {
    "deletable": true,
    "editable": true,
    "slideshow": {
     "slide_type": "slide"
    }
   },
   "source": [
    "<div class=\"alert alert-success\">\n",
    "<h3>Activity</h3>\n",
    "    \n",
    "Complete the implementation of the function `average_heaviest`, which takes in a positive integer `n` and returns the **mean `'lifetime_cost'` of the top `n` heaviest breeds**. Example behavior is given below.\n",
    "    \n",
    "```python\n",
    ">>> average_heaviest(5)\n",
    "16142.8\n",
    "    \n",
    ">>> average_heaviest(1)\n",
    "13581.0\n",
    "\n",
    "```\n",
    "    \n",
    "**We won't have time to try this activity in lecture, but the answer is posted in `lec04-filled.ipynb` and in the \"filled html\" link on the course website.**"
   ]
  },
  {
   "cell_type": "code",
   "execution_count": 50,
   "id": "2ed90391",
   "metadata": {
    "deletable": true,
    "editable": true
   },
   "outputs": [],
   "source": [
    "def average_heaviest(n):\n",
    "    return (\n",
    "        dogs\n",
    "        .sort_values('weight', ascending=False)\n",
    "        .head(n)\n",
    "        ['lifetime_cost']\n",
    "        .mean()\n",
    "    )"
   ]
  },
  {
   "cell_type": "code",
   "execution_count": 51,
   "id": "ccd7212f",
   "metadata": {
    "deletable": true,
    "editable": true
   },
   "outputs": [
    {
     "data": {
      "text/plain": [
       "16142.8"
      ]
     },
     "execution_count": 51,
     "metadata": {},
     "output_type": "execute_result"
    }
   ],
   "source": [
    "average_heaviest(5) "
   ]
  },
  {
   "cell_type": "code",
   "execution_count": 52,
   "id": "e5ec17a1",
   "metadata": {
    "deletable": true,
    "editable": true
   },
   "outputs": [
    {
     "data": {
      "text/plain": [
       "13581.0"
      ]
     },
     "execution_count": 52,
     "metadata": {},
     "output_type": "execute_result"
    }
   ],
   "source": [
    "average_heaviest(1) "
   ]
  },
  {
   "cell_type": "markdown",
   "id": "49b5928b",
   "metadata": {
    "deletable": true,
    "editable": true,
    "slideshow": {
     "slide_type": "slide"
    }
   },
   "source": [
    "### Series support vectorized operations"
   ]
  },
  {
   "cell_type": "markdown",
   "id": "3cde140f",
   "metadata": {
    "deletable": true,
    "editable": true,
    "slideshow": {
     "slide_type": "fragment"
    }
   },
   "source": [
    "- Series operations are vectorized, just like with arrays."
   ]
  },
  {
   "cell_type": "code",
   "execution_count": 53,
   "id": "55bf0c0b",
   "metadata": {
    "deletable": true,
    "editable": true,
    "scrolled": true
   },
   "outputs": [
    {
     "data": {
      "text/html": [
       "<div>\n",
       "<style scoped>\n",
       "    .dataframe tbody tr th:only-of-type {\n",
       "        vertical-align: middle;\n",
       "    }\n",
       "\n",
       "    .dataframe tbody tr th {\n",
       "        vertical-align: top;\n",
       "    }\n",
       "\n",
       "    .dataframe thead th {\n",
       "        text-align: right;\n",
       "    }\n",
       "</style>\n",
       "<table border=\"1\" class=\"dataframe\">\n",
       "  <thead>\n",
       "    <tr style=\"text-align: right;\">\n",
       "      <th></th>\n",
       "      <th>kind</th>\n",
       "      <th>lifetime_cost</th>\n",
       "      <th>longevity</th>\n",
       "      <th>size</th>\n",
       "      <th>weight</th>\n",
       "      <th>height</th>\n",
       "    </tr>\n",
       "    <tr>\n",
       "      <th>breed</th>\n",
       "      <th></th>\n",
       "      <th></th>\n",
       "      <th></th>\n",
       "      <th></th>\n",
       "      <th></th>\n",
       "      <th></th>\n",
       "    </tr>\n",
       "  </thead>\n",
       "  <tbody>\n",
       "    <tr>\n",
       "      <th>Brittany</th>\n",
       "      <td>sporting</td>\n",
       "      <td>22589.0</td>\n",
       "      <td>12.92</td>\n",
       "      <td>medium</td>\n",
       "      <td>35.0</td>\n",
       "      <td>19.0</td>\n",
       "    </tr>\n",
       "    <tr>\n",
       "      <th>Cairn Terrier</th>\n",
       "      <td>terrier</td>\n",
       "      <td>21992.0</td>\n",
       "      <td>13.84</td>\n",
       "      <td>small</td>\n",
       "      <td>14.0</td>\n",
       "      <td>10.0</td>\n",
       "    </tr>\n",
       "    <tr>\n",
       "      <th>English Cocker Spaniel</th>\n",
       "      <td>sporting</td>\n",
       "      <td>18993.0</td>\n",
       "      <td>11.66</td>\n",
       "      <td>medium</td>\n",
       "      <td>30.0</td>\n",
       "      <td>16.0</td>\n",
       "    </tr>\n",
       "    <tr>\n",
       "      <th>...</th>\n",
       "      <td>...</td>\n",
       "      <td>...</td>\n",
       "      <td>...</td>\n",
       "      <td>...</td>\n",
       "      <td>...</td>\n",
       "      <td>...</td>\n",
       "    </tr>\n",
       "    <tr>\n",
       "      <th>Bullmastiff</th>\n",
       "      <td>working</td>\n",
       "      <td>13936.0</td>\n",
       "      <td>7.57</td>\n",
       "      <td>large</td>\n",
       "      <td>115.0</td>\n",
       "      <td>25.5</td>\n",
       "    </tr>\n",
       "    <tr>\n",
       "      <th>Mastiff</th>\n",
       "      <td>working</td>\n",
       "      <td>13581.0</td>\n",
       "      <td>6.50</td>\n",
       "      <td>large</td>\n",
       "      <td>175.0</td>\n",
       "      <td>30.0</td>\n",
       "    </tr>\n",
       "    <tr>\n",
       "      <th>Saint Bernard</th>\n",
       "      <td>working</td>\n",
       "      <td>20022.0</td>\n",
       "      <td>7.78</td>\n",
       "      <td>large</td>\n",
       "      <td>155.0</td>\n",
       "      <td>26.5</td>\n",
       "    </tr>\n",
       "  </tbody>\n",
       "</table>\n",
       "<p>43 rows × 6 columns</p>\n",
       "</div>"
      ],
      "text/plain": [
       "                            kind  lifetime_cost  longevity    size  weight  \\\n",
       "breed                                                                        \n",
       "Brittany                sporting        22589.0      12.92  medium    35.0   \n",
       "Cairn Terrier            terrier        21992.0      13.84   small    14.0   \n",
       "English Cocker Spaniel  sporting        18993.0      11.66  medium    30.0   \n",
       "...                          ...            ...        ...     ...     ...   \n",
       "Bullmastiff              working        13936.0       7.57   large   115.0   \n",
       "Mastiff                  working        13581.0       6.50   large   175.0   \n",
       "Saint Bernard            working        20022.0       7.78   large   155.0   \n",
       "\n",
       "                        height  \n",
       "breed                           \n",
       "Brittany                  19.0  \n",
       "Cairn Terrier             10.0  \n",
       "English Cocker Spaniel    16.0  \n",
       "...                        ...  \n",
       "Bullmastiff               25.5  \n",
       "Mastiff                   30.0  \n",
       "Saint Bernard             26.5  \n",
       "\n",
       "[43 rows x 6 columns]"
      ]
     },
     "execution_count": 53,
     "metadata": {},
     "output_type": "execute_result"
    }
   ],
   "source": [
    "dogs"
   ]
  },
  {
   "cell_type": "markdown",
   "id": "ec98ffbe",
   "metadata": {
    "deletable": true,
    "editable": true,
    "slideshow": {
     "slide_type": "fragment"
    }
   },
   "source": [
    "- Example: If I adopt a puppy next year, when should I expect them to live until?"
   ]
  },
  {
   "cell_type": "code",
   "execution_count": 54,
   "id": "f32695c0",
   "metadata": {
    "deletable": true,
    "editable": true
   },
   "outputs": [
    {
     "data": {
      "text/plain": [
       "breed\n",
       "Brittany                  2037.92\n",
       "Cairn Terrier             2038.84\n",
       "English Cocker Spaniel    2036.66\n",
       "                           ...   \n",
       "Bullmastiff               2032.57\n",
       "Mastiff                   2031.50\n",
       "Saint Bernard             2032.78\n",
       "Name: longevity, Length: 43, dtype: float64"
      ]
     },
     "execution_count": 54,
     "metadata": {},
     "output_type": "execute_result"
    }
   ],
   "source": [
    "2025 + dogs['longevity'] "
   ]
  },
  {
   "cell_type": "markdown",
   "id": "26e2b3d9",
   "metadata": {
    "deletable": true,
    "editable": true,
    "slideshow": {
     "slide_type": "fragment"
    }
   },
   "source": [
    "- Example: What is the average cost per year to maintain each breed?"
   ]
  },
  {
   "cell_type": "code",
   "execution_count": 55,
   "id": "a80b827e",
   "metadata": {
    "deletable": true,
    "editable": true
   },
   "outputs": [
    {
     "data": {
      "text/plain": [
       "breed\n",
       "Brittany                  1748.37\n",
       "Cairn Terrier             1589.02\n",
       "English Cocker Spaniel    1628.90\n",
       "                           ...   \n",
       "Bullmastiff               1840.95\n",
       "Mastiff                   2089.38\n",
       "Saint Bernard             2573.52\n",
       "Length: 43, dtype: float64"
      ]
     },
     "execution_count": 55,
     "metadata": {},
     "output_type": "execute_result"
    }
   ],
   "source": [
    "dogs['lifetime_cost'] / dogs['longevity'] "
   ]
  },
  {
   "cell_type": "markdown",
   "id": "f18d941a",
   "metadata": {
    "deletable": true,
    "editable": true,
    "slideshow": {
     "slide_type": "fragment"
    }
   },
   "source": [
    "- Example: Which breed is the cheapest to own per year, on average? The most expensive?"
   ]
  },
  {
   "cell_type": "code",
   "execution_count": 56,
   "id": "bb20f1b5",
   "metadata": {
    "deletable": true,
    "editable": true
   },
   "outputs": [
    {
     "data": {
      "text/plain": [
       "breed\n",
       "Maltese                       1557.88\n",
       "Lhasa Apso                    1582.69\n",
       "Cairn Terrier                 1589.02\n",
       "                               ...   \n",
       "German Shorthaired Pointer    2254.97\n",
       "Saint Bernard                 2573.52\n",
       "Giant Schnauzer               2668.60\n",
       "Length: 43, dtype: float64"
      ]
     },
     "execution_count": 56,
     "metadata": {},
     "output_type": "execute_result"
    }
   ],
   "source": [
    "(dogs['lifetime_cost'] / dogs['longevity']).sort_values() "
   ]
  },
  {
   "cell_type": "code",
   "execution_count": 57,
   "id": "73808398",
   "metadata": {
    "deletable": true,
    "editable": true,
    "scrolled": true
   },
   "outputs": [
    {
     "data": {
      "text/plain": [
       "'Giant Schnauzer'"
      ]
     },
     "execution_count": 57,
     "metadata": {},
     "output_type": "execute_result"
    }
   ],
   "source": [
    "(dogs['lifetime_cost'] / dogs['longevity']).idxmax() "
   ]
  },
  {
   "cell_type": "markdown",
   "id": "795ba6ff",
   "metadata": {
    "deletable": true,
    "editable": true,
    "slideshow": {
     "slide_type": "slide"
    }
   },
   "source": [
    "<div class=\"alert alert-success\">\n",
    "<h3>Activity</h3>\n",
    "\n",
    "Assign `bmis` to a **Series** containing the Body Mass Index (BMI) of each breed, using the following formula:    \n",
    "    \n",
    "$$ \\text{BMI} = \\frac{\\text{weight in kg}}{[\\text{height in m}]^2}$$\n",
    "    \n",
    "<br>\n",
    "    \n",
    "Note that in `dogs`, weights are measured in **pounds** and heights are measured in **inches**. Use the following conversion factors:\n",
    "    \n",
    "<center>1 kg = 2.2 pounds<br>1 inch = 2.54 cm = 0.0254 m</center>\n",
    "    \n",
    "Your solution can span multiple lines, and you can define intermediate variables if you need to (we did)."
   ]
  },
  {
   "cell_type": "code",
   "execution_count": 58,
   "id": "752b8c67",
   "metadata": {
    "deletable": true,
    "editable": true
   },
   "outputs": [
    {
     "data": {
      "text/plain": [
       "breed\n",
       "Brittany                   68.31\n",
       "Cairn Terrier              98.64\n",
       "English Cocker Spaniel     82.56\n",
       "                           ...  \n",
       "Bullmastiff               124.60\n",
       "Mastiff                   137.00\n",
       "Saint Bernard             155.51\n",
       "Length: 43, dtype: float64"
      ]
     },
     "execution_count": 58,
     "metadata": {},
     "output_type": "execute_result"
    }
   ],
   "source": [
    "weight_kg = dogs['weight'] / 2.2\n",
    "height_m = dogs['height'] * 2.54 / 100\n",
    "bmis = weight_kg / (height_m ** 2)\n",
    "bmis"
   ]
  },
  {
   "cell_type": "code",
   "execution_count": null,
   "id": "53b4216a",
   "metadata": {
    "deletable": true,
    "editable": true
   },
   "outputs": [],
   "source": []
  },
  {
   "cell_type": "code",
   "execution_count": null,
   "id": "bef3010c",
   "metadata": {
    "deletable": true,
    "editable": true
   },
   "outputs": [],
   "source": []
  },
  {
   "cell_type": "markdown",
   "id": "012eb897",
   "metadata": {
    "deletable": true,
    "editable": true,
    "slideshow": {
     "slide_type": "slide"
    }
   },
   "source": [
    "### Aside: Visualization"
   ]
  },
  {
   "cell_type": "markdown",
   "id": "35b5d36b",
   "metadata": {
    "deletable": true,
    "editable": true,
    "slideshow": {
     "slide_type": "fragment"
    }
   },
   "source": [
    "- We'll spend more time talking about when to create which types of visualizations in a few lectures."
   ]
  },
  {
   "cell_type": "markdown",
   "id": "ffb5010f",
   "metadata": {
    "deletable": true,
    "editable": true,
    "slideshow": {
     "slide_type": "fragment"
    }
   },
   "source": [
    "- But for now, you can start exploring how the DataFrame `plot` method works!"
   ]
  },
  {
   "cell_type": "code",
   "execution_count": 59,
   "id": "954f4b9f",
   "metadata": {
    "deletable": true,
    "editable": true
   },
   "outputs": [
    {
     "data": {
      "application/vnd.plotly.v1+json": {
       "config": {
        "plotlyServerURL": "https://plot.ly"
       },
       "data": [
        {
         "hovertemplate": "weight=%{x}<br>longevity=%{y}<extra></extra>",
         "legendgroup": "",
         "marker": {
          "color": "#1F77B4",
          "symbol": "circle"
         },
         "mode": "markers",
         "name": "",
         "orientation": "v",
         "showlegend": false,
         "type": "scatter",
         "x": [
          35,
          14,
          30,
          25,
          22,
          47.5,
          15,
          15.5,
          5.5,
          45,
          62.5,
          59.5,
          12,
          67.5,
          5,
          12.5,
          65,
          60,
          67.5,
          24,
          62.5,
          16,
          12,
          11,
          15.5,
          23,
          31,
          26,
          70,
          21,
          77.5,
          20,
          36.5,
          55,
          125,
          77.5,
          82.5,
          60,
          80,
          85,
          115,
          175,
          155
         ],
         "xaxis": "x",
         "y": [
          12.92,
          13.84,
          11.66,
          12.5,
          12.53,
          12.58,
          13.92,
          11.81,
          16.5,
          12.54,
          11.46,
          12.42,
          14.42,
          12.04,
          12.25,
          13.2,
          11.63,
          12.04,
          9.48,
          12.31,
          11.1,
          11,
          13.07,
          10.1,
          11.29,
          13.58,
          12.05,
          12.25,
          10,
          12.17,
          10,
          10.69,
          9.4,
          11.92,
          9.32,
          9.1,
          9.08,
          10.21,
          10.67,
          6.75,
          7.57,
          6.5,
          7.78
         ],
         "yaxis": "y"
        }
       ],
       "layout": {
        "legend": {
         "tracegroupgap": 0
        },
        "template": {
         "data": {
          "bar": [
           {
            "error_x": {
             "color": "rgb(36,36,36)"
            },
            "error_y": {
             "color": "rgb(36,36,36)"
            },
            "marker": {
             "line": {
              "color": "white",
              "width": 0.5
             },
             "pattern": {
              "fillmode": "overlay",
              "size": 10,
              "solidity": 0.2
             }
            },
            "type": "bar"
           }
          ],
          "barpolar": [
           {
            "marker": {
             "line": {
              "color": "white",
              "width": 0.5
             },
             "pattern": {
              "fillmode": "overlay",
              "size": 10,
              "solidity": 0.2
             }
            },
            "type": "barpolar"
           }
          ],
          "carpet": [
           {
            "aaxis": {
             "endlinecolor": "rgb(36,36,36)",
             "gridcolor": "white",
             "linecolor": "white",
             "minorgridcolor": "white",
             "startlinecolor": "rgb(36,36,36)"
            },
            "baxis": {
             "endlinecolor": "rgb(36,36,36)",
             "gridcolor": "white",
             "linecolor": "white",
             "minorgridcolor": "white",
             "startlinecolor": "rgb(36,36,36)"
            },
            "type": "carpet"
           }
          ],
          "choropleth": [
           {
            "colorbar": {
             "outlinewidth": 1,
             "tickcolor": "rgb(36,36,36)",
             "ticks": "outside"
            },
            "type": "choropleth"
           }
          ],
          "contour": [
           {
            "colorbar": {
             "outlinewidth": 1,
             "tickcolor": "rgb(36,36,36)",
             "ticks": "outside"
            },
            "colorscale": [
             [
              0,
              "#440154"
             ],
             [
              0.1111111111111111,
              "#482878"
             ],
             [
              0.2222222222222222,
              "#3e4989"
             ],
             [
              0.3333333333333333,
              "#31688e"
             ],
             [
              0.4444444444444444,
              "#26828e"
             ],
             [
              0.5555555555555556,
              "#1f9e89"
             ],
             [
              0.6666666666666666,
              "#35b779"
             ],
             [
              0.7777777777777778,
              "#6ece58"
             ],
             [
              0.8888888888888888,
              "#b5de2b"
             ],
             [
              1,
              "#fde725"
             ]
            ],
            "type": "contour"
           }
          ],
          "contourcarpet": [
           {
            "colorbar": {
             "outlinewidth": 1,
             "tickcolor": "rgb(36,36,36)",
             "ticks": "outside"
            },
            "type": "contourcarpet"
           }
          ],
          "heatmap": [
           {
            "colorbar": {
             "outlinewidth": 1,
             "tickcolor": "rgb(36,36,36)",
             "ticks": "outside"
            },
            "colorscale": [
             [
              0,
              "#440154"
             ],
             [
              0.1111111111111111,
              "#482878"
             ],
             [
              0.2222222222222222,
              "#3e4989"
             ],
             [
              0.3333333333333333,
              "#31688e"
             ],
             [
              0.4444444444444444,
              "#26828e"
             ],
             [
              0.5555555555555556,
              "#1f9e89"
             ],
             [
              0.6666666666666666,
              "#35b779"
             ],
             [
              0.7777777777777778,
              "#6ece58"
             ],
             [
              0.8888888888888888,
              "#b5de2b"
             ],
             [
              1,
              "#fde725"
             ]
            ],
            "type": "heatmap"
           }
          ],
          "heatmapgl": [
           {
            "colorbar": {
             "outlinewidth": 1,
             "tickcolor": "rgb(36,36,36)",
             "ticks": "outside"
            },
            "colorscale": [
             [
              0,
              "#440154"
             ],
             [
              0.1111111111111111,
              "#482878"
             ],
             [
              0.2222222222222222,
              "#3e4989"
             ],
             [
              0.3333333333333333,
              "#31688e"
             ],
             [
              0.4444444444444444,
              "#26828e"
             ],
             [
              0.5555555555555556,
              "#1f9e89"
             ],
             [
              0.6666666666666666,
              "#35b779"
             ],
             [
              0.7777777777777778,
              "#6ece58"
             ],
             [
              0.8888888888888888,
              "#b5de2b"
             ],
             [
              1,
              "#fde725"
             ]
            ],
            "type": "heatmapgl"
           }
          ],
          "histogram": [
           {
            "marker": {
             "line": {
              "color": "white",
              "width": 0.6
             }
            },
            "type": "histogram"
           }
          ],
          "histogram2d": [
           {
            "colorbar": {
             "outlinewidth": 1,
             "tickcolor": "rgb(36,36,36)",
             "ticks": "outside"
            },
            "colorscale": [
             [
              0,
              "#440154"
             ],
             [
              0.1111111111111111,
              "#482878"
             ],
             [
              0.2222222222222222,
              "#3e4989"
             ],
             [
              0.3333333333333333,
              "#31688e"
             ],
             [
              0.4444444444444444,
              "#26828e"
             ],
             [
              0.5555555555555556,
              "#1f9e89"
             ],
             [
              0.6666666666666666,
              "#35b779"
             ],
             [
              0.7777777777777778,
              "#6ece58"
             ],
             [
              0.8888888888888888,
              "#b5de2b"
             ],
             [
              1,
              "#fde725"
             ]
            ],
            "type": "histogram2d"
           }
          ],
          "histogram2dcontour": [
           {
            "colorbar": {
             "outlinewidth": 1,
             "tickcolor": "rgb(36,36,36)",
             "ticks": "outside"
            },
            "colorscale": [
             [
              0,
              "#440154"
             ],
             [
              0.1111111111111111,
              "#482878"
             ],
             [
              0.2222222222222222,
              "#3e4989"
             ],
             [
              0.3333333333333333,
              "#31688e"
             ],
             [
              0.4444444444444444,
              "#26828e"
             ],
             [
              0.5555555555555556,
              "#1f9e89"
             ],
             [
              0.6666666666666666,
              "#35b779"
             ],
             [
              0.7777777777777778,
              "#6ece58"
             ],
             [
              0.8888888888888888,
              "#b5de2b"
             ],
             [
              1,
              "#fde725"
             ]
            ],
            "type": "histogram2dcontour"
           }
          ],
          "mesh3d": [
           {
            "colorbar": {
             "outlinewidth": 1,
             "tickcolor": "rgb(36,36,36)",
             "ticks": "outside"
            },
            "type": "mesh3d"
           }
          ],
          "parcoords": [
           {
            "line": {
             "colorbar": {
              "outlinewidth": 1,
              "tickcolor": "rgb(36,36,36)",
              "ticks": "outside"
             }
            },
            "type": "parcoords"
           }
          ],
          "pie": [
           {
            "automargin": true,
            "type": "pie"
           }
          ],
          "scatter": [
           {
            "fillpattern": {
             "fillmode": "overlay",
             "size": 10,
             "solidity": 0.2
            },
            "type": "scatter"
           }
          ],
          "scatter3d": [
           {
            "line": {
             "colorbar": {
              "outlinewidth": 1,
              "tickcolor": "rgb(36,36,36)",
              "ticks": "outside"
             }
            },
            "marker": {
             "colorbar": {
              "outlinewidth": 1,
              "tickcolor": "rgb(36,36,36)",
              "ticks": "outside"
             }
            },
            "type": "scatter3d"
           }
          ],
          "scattercarpet": [
           {
            "marker": {
             "colorbar": {
              "outlinewidth": 1,
              "tickcolor": "rgb(36,36,36)",
              "ticks": "outside"
             }
            },
            "type": "scattercarpet"
           }
          ],
          "scattergeo": [
           {
            "marker": {
             "colorbar": {
              "outlinewidth": 1,
              "tickcolor": "rgb(36,36,36)",
              "ticks": "outside"
             }
            },
            "type": "scattergeo"
           }
          ],
          "scattergl": [
           {
            "marker": {
             "colorbar": {
              "outlinewidth": 1,
              "tickcolor": "rgb(36,36,36)",
              "ticks": "outside"
             }
            },
            "type": "scattergl"
           }
          ],
          "scattermapbox": [
           {
            "marker": {
             "colorbar": {
              "outlinewidth": 1,
              "tickcolor": "rgb(36,36,36)",
              "ticks": "outside"
             }
            },
            "type": "scattermapbox"
           }
          ],
          "scatterpolar": [
           {
            "marker": {
             "colorbar": {
              "outlinewidth": 1,
              "tickcolor": "rgb(36,36,36)",
              "ticks": "outside"
             }
            },
            "type": "scatterpolar"
           }
          ],
          "scatterpolargl": [
           {
            "marker": {
             "colorbar": {
              "outlinewidth": 1,
              "tickcolor": "rgb(36,36,36)",
              "ticks": "outside"
             }
            },
            "type": "scatterpolargl"
           }
          ],
          "scatterternary": [
           {
            "marker": {
             "colorbar": {
              "outlinewidth": 1,
              "tickcolor": "rgb(36,36,36)",
              "ticks": "outside"
             }
            },
            "type": "scatterternary"
           }
          ],
          "surface": [
           {
            "colorbar": {
             "outlinewidth": 1,
             "tickcolor": "rgb(36,36,36)",
             "ticks": "outside"
            },
            "colorscale": [
             [
              0,
              "#440154"
             ],
             [
              0.1111111111111111,
              "#482878"
             ],
             [
              0.2222222222222222,
              "#3e4989"
             ],
             [
              0.3333333333333333,
              "#31688e"
             ],
             [
              0.4444444444444444,
              "#26828e"
             ],
             [
              0.5555555555555556,
              "#1f9e89"
             ],
             [
              0.6666666666666666,
              "#35b779"
             ],
             [
              0.7777777777777778,
              "#6ece58"
             ],
             [
              0.8888888888888888,
              "#b5de2b"
             ],
             [
              1,
              "#fde725"
             ]
            ],
            "type": "surface"
           }
          ],
          "table": [
           {
            "cells": {
             "fill": {
              "color": "rgb(237,237,237)"
             },
             "line": {
              "color": "white"
             }
            },
            "header": {
             "fill": {
              "color": "rgb(217,217,217)"
             },
             "line": {
              "color": "white"
             }
            },
            "type": "table"
           }
          ]
         },
         "layout": {
          "annotationdefaults": {
           "arrowhead": 0,
           "arrowwidth": 1
          },
          "autosize": true,
          "autotypenumbers": "strict",
          "coloraxis": {
           "colorbar": {
            "outlinewidth": 1,
            "tickcolor": "rgb(36,36,36)",
            "ticks": "outside"
           }
          },
          "colorscale": {
           "diverging": [
            [
             0,
             "rgb(103,0,31)"
            ],
            [
             0.1,
             "rgb(178,24,43)"
            ],
            [
             0.2,
             "rgb(214,96,77)"
            ],
            [
             0.3,
             "rgb(244,165,130)"
            ],
            [
             0.4,
             "rgb(253,219,199)"
            ],
            [
             0.5,
             "rgb(247,247,247)"
            ],
            [
             0.6,
             "rgb(209,229,240)"
            ],
            [
             0.7,
             "rgb(146,197,222)"
            ],
            [
             0.8,
             "rgb(67,147,195)"
            ],
            [
             0.9,
             "rgb(33,102,172)"
            ],
            [
             1,
             "rgb(5,48,97)"
            ]
           ],
           "sequential": [
            [
             0,
             "#440154"
            ],
            [
             0.1111111111111111,
             "#482878"
            ],
            [
             0.2222222222222222,
             "#3e4989"
            ],
            [
             0.3333333333333333,
             "#31688e"
            ],
            [
             0.4444444444444444,
             "#26828e"
            ],
            [
             0.5555555555555556,
             "#1f9e89"
            ],
            [
             0.6666666666666666,
             "#35b779"
            ],
            [
             0.7777777777777778,
             "#6ece58"
            ],
            [
             0.8888888888888888,
             "#b5de2b"
            ],
            [
             1,
             "#fde725"
            ]
           ],
           "sequentialminus": [
            [
             0,
             "#440154"
            ],
            [
             0.1111111111111111,
             "#482878"
            ],
            [
             0.2222222222222222,
             "#3e4989"
            ],
            [
             0.3333333333333333,
             "#31688e"
            ],
            [
             0.4444444444444444,
             "#26828e"
            ],
            [
             0.5555555555555556,
             "#1f9e89"
            ],
            [
             0.6666666666666666,
             "#35b779"
            ],
            [
             0.7777777777777778,
             "#6ece58"
            ],
            [
             0.8888888888888888,
             "#b5de2b"
            ],
            [
             1,
             "#fde725"
            ]
           ]
          },
          "colorway": [
           "#1F77B4",
           "#FF7F0E",
           "#2CA02C",
           "#D62728",
           "#9467BD",
           "#8C564B",
           "#E377C2",
           "#7F7F7F",
           "#BCBD22",
           "#17BECF"
          ],
          "font": {
           "color": "rgb(36,36,36)"
          },
          "geo": {
           "bgcolor": "white",
           "lakecolor": "white",
           "landcolor": "white",
           "showlakes": true,
           "showland": true,
           "subunitcolor": "white"
          },
          "height": 400,
          "hoverlabel": {
           "align": "left"
          },
          "hovermode": "closest",
          "mapbox": {
           "style": "light"
          },
          "margin": {
           "b": 30,
           "l": 30,
           "r": 30,
           "t": 30
          },
          "paper_bgcolor": "white",
          "plot_bgcolor": "white",
          "polar": {
           "angularaxis": {
            "gridcolor": "rgb(232,232,232)",
            "linecolor": "rgb(36,36,36)",
            "showgrid": false,
            "showline": true,
            "ticks": "outside"
           },
           "bgcolor": "white",
           "radialaxis": {
            "gridcolor": "rgb(232,232,232)",
            "linecolor": "rgb(36,36,36)",
            "showgrid": false,
            "showline": true,
            "ticks": "outside"
           }
          },
          "scene": {
           "xaxis": {
            "backgroundcolor": "white",
            "gridcolor": "rgb(232,232,232)",
            "gridwidth": 2,
            "linecolor": "rgb(36,36,36)",
            "showbackground": true,
            "showgrid": false,
            "showline": true,
            "ticks": "outside",
            "zeroline": false,
            "zerolinecolor": "rgb(36,36,36)"
           },
           "yaxis": {
            "backgroundcolor": "white",
            "gridcolor": "rgb(232,232,232)",
            "gridwidth": 2,
            "linecolor": "rgb(36,36,36)",
            "showbackground": true,
            "showgrid": false,
            "showline": true,
            "ticks": "outside",
            "zeroline": false,
            "zerolinecolor": "rgb(36,36,36)"
           },
           "zaxis": {
            "backgroundcolor": "white",
            "gridcolor": "rgb(232,232,232)",
            "gridwidth": 2,
            "linecolor": "rgb(36,36,36)",
            "showbackground": true,
            "showgrid": false,
            "showline": true,
            "ticks": "outside",
            "zeroline": false,
            "zerolinecolor": "rgb(36,36,36)"
           }
          },
          "shapedefaults": {
           "fillcolor": "black",
           "line": {
            "width": 0
           },
           "opacity": 0.3
          },
          "ternary": {
           "aaxis": {
            "gridcolor": "rgb(232,232,232)",
            "linecolor": "rgb(36,36,36)",
            "showgrid": false,
            "showline": true,
            "ticks": "outside"
           },
           "baxis": {
            "gridcolor": "rgb(232,232,232)",
            "linecolor": "rgb(36,36,36)",
            "showgrid": false,
            "showline": true,
            "ticks": "outside"
           },
           "bgcolor": "white",
           "caxis": {
            "gridcolor": "rgb(232,232,232)",
            "linecolor": "rgb(36,36,36)",
            "showgrid": false,
            "showline": true,
            "ticks": "outside"
           }
          },
          "title": {
           "x": 0.5,
           "xanchor": "center"
          },
          "width": 600,
          "xaxis": {
           "automargin": true,
           "gridcolor": "rgb(232,232,232)",
           "linecolor": "rgb(36,36,36)",
           "showgrid": true,
           "showline": true,
           "ticks": "outside",
           "title": {
            "standoff": 15
           },
           "zeroline": false,
           "zerolinecolor": "rgb(36,36,36)"
          },
          "yaxis": {
           "automargin": true,
           "gridcolor": "rgb(232,232,232)",
           "linecolor": "rgb(36,36,36)",
           "showgrid": true,
           "showline": true,
           "ticks": "outside",
           "title": {
            "standoff": 15
           },
           "zeroline": false,
           "zerolinecolor": "rgb(36,36,36)"
          }
         }
        },
        "xaxis": {
         "anchor": "y",
         "domain": [
          0,
          1
         ],
         "title": {
          "text": "weight"
         }
        },
        "yaxis": {
         "anchor": "x",
         "domain": [
          0,
          1
         ],
         "title": {
          "text": "longevity"
         }
        }
       }
      }
     },
     "metadata": {},
     "output_type": "display_data"
    }
   ],
   "source": [
    "dogs.plot(kind='scatter', x='weight', y='longevity')"
   ]
  },
  {
   "cell_type": "code",
   "execution_count": 60,
   "id": "736fa846",
   "metadata": {
    "deletable": true,
    "editable": true
   },
   "outputs": [
    {
     "data": {
      "application/vnd.plotly.v1+json": {
       "config": {
        "plotlyServerURL": "https://plot.ly"
       },
       "data": [
        {
         "hovertemplate": "<b>%{hovertext}</b><br><br>size=medium<br>weight=%{x}<br>longevity=%{y}<extra></extra>",
         "hovertext": [
          "Brittany",
          "English Cocker Spaniel",
          "Siberian Husky",
          "English Springer Spaniel",
          "Labrador Retriever",
          "Golden Retriever",
          "Pug",
          "Basenji",
          "Staffordshire Bull Terrier",
          "Clumber Spaniel",
          "Kerry Blue Terrier",
          "Bull Terrier"
         ],
         "legendgroup": "medium",
         "marker": {
          "color": "#1F77B4",
          "symbol": "circle"
         },
         "mode": "markers",
         "name": "medium",
         "orientation": "v",
         "showlegend": true,
         "type": "scatter",
         "x": [
          35,
          30,
          47.5,
          45,
          67.5,
          60,
          16,
          23,
          31,
          70,
          36.5,
          60
         ],
         "xaxis": "x",
         "y": [
          12.92,
          11.66,
          12.58,
          12.54,
          12.04,
          12.04,
          11,
          13.58,
          12.05,
          10,
          9.4,
          10.21
         ],
         "yaxis": "y"
        },
        {
         "hovertemplate": "<b>%{hovertext}</b><br><br>size=small<br>weight=%{x}<br>longevity=%{y}<extra></extra>",
         "hovertext": [
          "Cairn Terrier",
          "Cocker Spaniel",
          "Shetland Sheepdog",
          "Lhasa Apso",
          "Miniature Schnauzer",
          "Chihuahua",
          "Tibetan Spaniel",
          "Maltese",
          "Shih Tzu",
          "Tibetan Terrier",
          "Norfolk Terrier",
          "English Toy Spaniel",
          "Cavalier King Charles Spaniel",
          "Pembroke Welsh Corgi",
          "Dandie Dinmont Terrier",
          "Scottish Terrier"
         ],
         "legendgroup": "small",
         "marker": {
          "color": "#FF7F0E",
          "symbol": "circle"
         },
         "mode": "markers",
         "name": "small",
         "orientation": "v",
         "showlegend": true,
         "type": "scatter",
         "x": [
          14,
          25,
          22,
          15,
          15.5,
          5.5,
          12,
          5,
          12.5,
          24,
          12,
          11,
          15.5,
          26,
          21,
          20
         ],
         "xaxis": "x",
         "y": [
          13.84,
          12.5,
          12.53,
          13.92,
          11.81,
          16.5,
          14.42,
          12.25,
          13.2,
          12.31,
          13.07,
          10.1,
          11.29,
          12.25,
          12.17,
          10.69
         ],
         "yaxis": "y"
        },
        {
         "hovertemplate": "<b>%{hovertext}</b><br><br>size=large<br>weight=%{x}<br>longevity=%{y}<extra></extra>",
         "hovertext": [
          "German Shorthaired Pointer",
          "Pointer",
          "Irish Setter",
          "Chesapeake Bay Retriever",
          "Gordon Setter",
          "Giant Schnauzer",
          "Afghan Hound",
          "Newfoundland",
          "Rhodesian Ridgeback",
          "Borzoi",
          "Alaskan Malamute",
          "Bloodhound",
          "Bullmastiff",
          "Mastiff",
          "Saint Bernard"
         ],
         "legendgroup": "large",
         "marker": {
          "color": "#2CA02C",
          "symbol": "circle"
         },
         "mode": "markers",
         "name": "large",
         "orientation": "v",
         "showlegend": true,
         "type": "scatter",
         "x": [
          62.5,
          59.5,
          65,
          67.5,
          62.5,
          77.5,
          55,
          125,
          77.5,
          82.5,
          80,
          85,
          115,
          175,
          155
         ],
         "xaxis": "x",
         "y": [
          11.46,
          12.42,
          11.63,
          9.48,
          11.1,
          10,
          11.92,
          9.32,
          9.1,
          9.08,
          10.67,
          6.75,
          7.57,
          6.5,
          7.78
         ],
         "yaxis": "y"
        }
       ],
       "layout": {
        "legend": {
         "title": {
          "text": "size"
         },
         "tracegroupgap": 0
        },
        "template": {
         "data": {
          "bar": [
           {
            "error_x": {
             "color": "rgb(36,36,36)"
            },
            "error_y": {
             "color": "rgb(36,36,36)"
            },
            "marker": {
             "line": {
              "color": "white",
              "width": 0.5
             },
             "pattern": {
              "fillmode": "overlay",
              "size": 10,
              "solidity": 0.2
             }
            },
            "type": "bar"
           }
          ],
          "barpolar": [
           {
            "marker": {
             "line": {
              "color": "white",
              "width": 0.5
             },
             "pattern": {
              "fillmode": "overlay",
              "size": 10,
              "solidity": 0.2
             }
            },
            "type": "barpolar"
           }
          ],
          "carpet": [
           {
            "aaxis": {
             "endlinecolor": "rgb(36,36,36)",
             "gridcolor": "white",
             "linecolor": "white",
             "minorgridcolor": "white",
             "startlinecolor": "rgb(36,36,36)"
            },
            "baxis": {
             "endlinecolor": "rgb(36,36,36)",
             "gridcolor": "white",
             "linecolor": "white",
             "minorgridcolor": "white",
             "startlinecolor": "rgb(36,36,36)"
            },
            "type": "carpet"
           }
          ],
          "choropleth": [
           {
            "colorbar": {
             "outlinewidth": 1,
             "tickcolor": "rgb(36,36,36)",
             "ticks": "outside"
            },
            "type": "choropleth"
           }
          ],
          "contour": [
           {
            "colorbar": {
             "outlinewidth": 1,
             "tickcolor": "rgb(36,36,36)",
             "ticks": "outside"
            },
            "colorscale": [
             [
              0,
              "#440154"
             ],
             [
              0.1111111111111111,
              "#482878"
             ],
             [
              0.2222222222222222,
              "#3e4989"
             ],
             [
              0.3333333333333333,
              "#31688e"
             ],
             [
              0.4444444444444444,
              "#26828e"
             ],
             [
              0.5555555555555556,
              "#1f9e89"
             ],
             [
              0.6666666666666666,
              "#35b779"
             ],
             [
              0.7777777777777778,
              "#6ece58"
             ],
             [
              0.8888888888888888,
              "#b5de2b"
             ],
             [
              1,
              "#fde725"
             ]
            ],
            "type": "contour"
           }
          ],
          "contourcarpet": [
           {
            "colorbar": {
             "outlinewidth": 1,
             "tickcolor": "rgb(36,36,36)",
             "ticks": "outside"
            },
            "type": "contourcarpet"
           }
          ],
          "heatmap": [
           {
            "colorbar": {
             "outlinewidth": 1,
             "tickcolor": "rgb(36,36,36)",
             "ticks": "outside"
            },
            "colorscale": [
             [
              0,
              "#440154"
             ],
             [
              0.1111111111111111,
              "#482878"
             ],
             [
              0.2222222222222222,
              "#3e4989"
             ],
             [
              0.3333333333333333,
              "#31688e"
             ],
             [
              0.4444444444444444,
              "#26828e"
             ],
             [
              0.5555555555555556,
              "#1f9e89"
             ],
             [
              0.6666666666666666,
              "#35b779"
             ],
             [
              0.7777777777777778,
              "#6ece58"
             ],
             [
              0.8888888888888888,
              "#b5de2b"
             ],
             [
              1,
              "#fde725"
             ]
            ],
            "type": "heatmap"
           }
          ],
          "heatmapgl": [
           {
            "colorbar": {
             "outlinewidth": 1,
             "tickcolor": "rgb(36,36,36)",
             "ticks": "outside"
            },
            "colorscale": [
             [
              0,
              "#440154"
             ],
             [
              0.1111111111111111,
              "#482878"
             ],
             [
              0.2222222222222222,
              "#3e4989"
             ],
             [
              0.3333333333333333,
              "#31688e"
             ],
             [
              0.4444444444444444,
              "#26828e"
             ],
             [
              0.5555555555555556,
              "#1f9e89"
             ],
             [
              0.6666666666666666,
              "#35b779"
             ],
             [
              0.7777777777777778,
              "#6ece58"
             ],
             [
              0.8888888888888888,
              "#b5de2b"
             ],
             [
              1,
              "#fde725"
             ]
            ],
            "type": "heatmapgl"
           }
          ],
          "histogram": [
           {
            "marker": {
             "line": {
              "color": "white",
              "width": 0.6
             }
            },
            "type": "histogram"
           }
          ],
          "histogram2d": [
           {
            "colorbar": {
             "outlinewidth": 1,
             "tickcolor": "rgb(36,36,36)",
             "ticks": "outside"
            },
            "colorscale": [
             [
              0,
              "#440154"
             ],
             [
              0.1111111111111111,
              "#482878"
             ],
             [
              0.2222222222222222,
              "#3e4989"
             ],
             [
              0.3333333333333333,
              "#31688e"
             ],
             [
              0.4444444444444444,
              "#26828e"
             ],
             [
              0.5555555555555556,
              "#1f9e89"
             ],
             [
              0.6666666666666666,
              "#35b779"
             ],
             [
              0.7777777777777778,
              "#6ece58"
             ],
             [
              0.8888888888888888,
              "#b5de2b"
             ],
             [
              1,
              "#fde725"
             ]
            ],
            "type": "histogram2d"
           }
          ],
          "histogram2dcontour": [
           {
            "colorbar": {
             "outlinewidth": 1,
             "tickcolor": "rgb(36,36,36)",
             "ticks": "outside"
            },
            "colorscale": [
             [
              0,
              "#440154"
             ],
             [
              0.1111111111111111,
              "#482878"
             ],
             [
              0.2222222222222222,
              "#3e4989"
             ],
             [
              0.3333333333333333,
              "#31688e"
             ],
             [
              0.4444444444444444,
              "#26828e"
             ],
             [
              0.5555555555555556,
              "#1f9e89"
             ],
             [
              0.6666666666666666,
              "#35b779"
             ],
             [
              0.7777777777777778,
              "#6ece58"
             ],
             [
              0.8888888888888888,
              "#b5de2b"
             ],
             [
              1,
              "#fde725"
             ]
            ],
            "type": "histogram2dcontour"
           }
          ],
          "mesh3d": [
           {
            "colorbar": {
             "outlinewidth": 1,
             "tickcolor": "rgb(36,36,36)",
             "ticks": "outside"
            },
            "type": "mesh3d"
           }
          ],
          "parcoords": [
           {
            "line": {
             "colorbar": {
              "outlinewidth": 1,
              "tickcolor": "rgb(36,36,36)",
              "ticks": "outside"
             }
            },
            "type": "parcoords"
           }
          ],
          "pie": [
           {
            "automargin": true,
            "type": "pie"
           }
          ],
          "scatter": [
           {
            "fillpattern": {
             "fillmode": "overlay",
             "size": 10,
             "solidity": 0.2
            },
            "type": "scatter"
           }
          ],
          "scatter3d": [
           {
            "line": {
             "colorbar": {
              "outlinewidth": 1,
              "tickcolor": "rgb(36,36,36)",
              "ticks": "outside"
             }
            },
            "marker": {
             "colorbar": {
              "outlinewidth": 1,
              "tickcolor": "rgb(36,36,36)",
              "ticks": "outside"
             }
            },
            "type": "scatter3d"
           }
          ],
          "scattercarpet": [
           {
            "marker": {
             "colorbar": {
              "outlinewidth": 1,
              "tickcolor": "rgb(36,36,36)",
              "ticks": "outside"
             }
            },
            "type": "scattercarpet"
           }
          ],
          "scattergeo": [
           {
            "marker": {
             "colorbar": {
              "outlinewidth": 1,
              "tickcolor": "rgb(36,36,36)",
              "ticks": "outside"
             }
            },
            "type": "scattergeo"
           }
          ],
          "scattergl": [
           {
            "marker": {
             "colorbar": {
              "outlinewidth": 1,
              "tickcolor": "rgb(36,36,36)",
              "ticks": "outside"
             }
            },
            "type": "scattergl"
           }
          ],
          "scattermapbox": [
           {
            "marker": {
             "colorbar": {
              "outlinewidth": 1,
              "tickcolor": "rgb(36,36,36)",
              "ticks": "outside"
             }
            },
            "type": "scattermapbox"
           }
          ],
          "scatterpolar": [
           {
            "marker": {
             "colorbar": {
              "outlinewidth": 1,
              "tickcolor": "rgb(36,36,36)",
              "ticks": "outside"
             }
            },
            "type": "scatterpolar"
           }
          ],
          "scatterpolargl": [
           {
            "marker": {
             "colorbar": {
              "outlinewidth": 1,
              "tickcolor": "rgb(36,36,36)",
              "ticks": "outside"
             }
            },
            "type": "scatterpolargl"
           }
          ],
          "scatterternary": [
           {
            "marker": {
             "colorbar": {
              "outlinewidth": 1,
              "tickcolor": "rgb(36,36,36)",
              "ticks": "outside"
             }
            },
            "type": "scatterternary"
           }
          ],
          "surface": [
           {
            "colorbar": {
             "outlinewidth": 1,
             "tickcolor": "rgb(36,36,36)",
             "ticks": "outside"
            },
            "colorscale": [
             [
              0,
              "#440154"
             ],
             [
              0.1111111111111111,
              "#482878"
             ],
             [
              0.2222222222222222,
              "#3e4989"
             ],
             [
              0.3333333333333333,
              "#31688e"
             ],
             [
              0.4444444444444444,
              "#26828e"
             ],
             [
              0.5555555555555556,
              "#1f9e89"
             ],
             [
              0.6666666666666666,
              "#35b779"
             ],
             [
              0.7777777777777778,
              "#6ece58"
             ],
             [
              0.8888888888888888,
              "#b5de2b"
             ],
             [
              1,
              "#fde725"
             ]
            ],
            "type": "surface"
           }
          ],
          "table": [
           {
            "cells": {
             "fill": {
              "color": "rgb(237,237,237)"
             },
             "line": {
              "color": "white"
             }
            },
            "header": {
             "fill": {
              "color": "rgb(217,217,217)"
             },
             "line": {
              "color": "white"
             }
            },
            "type": "table"
           }
          ]
         },
         "layout": {
          "annotationdefaults": {
           "arrowhead": 0,
           "arrowwidth": 1
          },
          "autosize": true,
          "autotypenumbers": "strict",
          "coloraxis": {
           "colorbar": {
            "outlinewidth": 1,
            "tickcolor": "rgb(36,36,36)",
            "ticks": "outside"
           }
          },
          "colorscale": {
           "diverging": [
            [
             0,
             "rgb(103,0,31)"
            ],
            [
             0.1,
             "rgb(178,24,43)"
            ],
            [
             0.2,
             "rgb(214,96,77)"
            ],
            [
             0.3,
             "rgb(244,165,130)"
            ],
            [
             0.4,
             "rgb(253,219,199)"
            ],
            [
             0.5,
             "rgb(247,247,247)"
            ],
            [
             0.6,
             "rgb(209,229,240)"
            ],
            [
             0.7,
             "rgb(146,197,222)"
            ],
            [
             0.8,
             "rgb(67,147,195)"
            ],
            [
             0.9,
             "rgb(33,102,172)"
            ],
            [
             1,
             "rgb(5,48,97)"
            ]
           ],
           "sequential": [
            [
             0,
             "#440154"
            ],
            [
             0.1111111111111111,
             "#482878"
            ],
            [
             0.2222222222222222,
             "#3e4989"
            ],
            [
             0.3333333333333333,
             "#31688e"
            ],
            [
             0.4444444444444444,
             "#26828e"
            ],
            [
             0.5555555555555556,
             "#1f9e89"
            ],
            [
             0.6666666666666666,
             "#35b779"
            ],
            [
             0.7777777777777778,
             "#6ece58"
            ],
            [
             0.8888888888888888,
             "#b5de2b"
            ],
            [
             1,
             "#fde725"
            ]
           ],
           "sequentialminus": [
            [
             0,
             "#440154"
            ],
            [
             0.1111111111111111,
             "#482878"
            ],
            [
             0.2222222222222222,
             "#3e4989"
            ],
            [
             0.3333333333333333,
             "#31688e"
            ],
            [
             0.4444444444444444,
             "#26828e"
            ],
            [
             0.5555555555555556,
             "#1f9e89"
            ],
            [
             0.6666666666666666,
             "#35b779"
            ],
            [
             0.7777777777777778,
             "#6ece58"
            ],
            [
             0.8888888888888888,
             "#b5de2b"
            ],
            [
             1,
             "#fde725"
            ]
           ]
          },
          "colorway": [
           "#1F77B4",
           "#FF7F0E",
           "#2CA02C",
           "#D62728",
           "#9467BD",
           "#8C564B",
           "#E377C2",
           "#7F7F7F",
           "#BCBD22",
           "#17BECF"
          ],
          "font": {
           "color": "rgb(36,36,36)"
          },
          "geo": {
           "bgcolor": "white",
           "lakecolor": "white",
           "landcolor": "white",
           "showlakes": true,
           "showland": true,
           "subunitcolor": "white"
          },
          "height": 400,
          "hoverlabel": {
           "align": "left"
          },
          "hovermode": "closest",
          "mapbox": {
           "style": "light"
          },
          "margin": {
           "b": 30,
           "l": 30,
           "r": 30,
           "t": 30
          },
          "paper_bgcolor": "white",
          "plot_bgcolor": "white",
          "polar": {
           "angularaxis": {
            "gridcolor": "rgb(232,232,232)",
            "linecolor": "rgb(36,36,36)",
            "showgrid": false,
            "showline": true,
            "ticks": "outside"
           },
           "bgcolor": "white",
           "radialaxis": {
            "gridcolor": "rgb(232,232,232)",
            "linecolor": "rgb(36,36,36)",
            "showgrid": false,
            "showline": true,
            "ticks": "outside"
           }
          },
          "scene": {
           "xaxis": {
            "backgroundcolor": "white",
            "gridcolor": "rgb(232,232,232)",
            "gridwidth": 2,
            "linecolor": "rgb(36,36,36)",
            "showbackground": true,
            "showgrid": false,
            "showline": true,
            "ticks": "outside",
            "zeroline": false,
            "zerolinecolor": "rgb(36,36,36)"
           },
           "yaxis": {
            "backgroundcolor": "white",
            "gridcolor": "rgb(232,232,232)",
            "gridwidth": 2,
            "linecolor": "rgb(36,36,36)",
            "showbackground": true,
            "showgrid": false,
            "showline": true,
            "ticks": "outside",
            "zeroline": false,
            "zerolinecolor": "rgb(36,36,36)"
           },
           "zaxis": {
            "backgroundcolor": "white",
            "gridcolor": "rgb(232,232,232)",
            "gridwidth": 2,
            "linecolor": "rgb(36,36,36)",
            "showbackground": true,
            "showgrid": false,
            "showline": true,
            "ticks": "outside",
            "zeroline": false,
            "zerolinecolor": "rgb(36,36,36)"
           }
          },
          "shapedefaults": {
           "fillcolor": "black",
           "line": {
            "width": 0
           },
           "opacity": 0.3
          },
          "ternary": {
           "aaxis": {
            "gridcolor": "rgb(232,232,232)",
            "linecolor": "rgb(36,36,36)",
            "showgrid": false,
            "showline": true,
            "ticks": "outside"
           },
           "baxis": {
            "gridcolor": "rgb(232,232,232)",
            "linecolor": "rgb(36,36,36)",
            "showgrid": false,
            "showline": true,
            "ticks": "outside"
           },
           "bgcolor": "white",
           "caxis": {
            "gridcolor": "rgb(232,232,232)",
            "linecolor": "rgb(36,36,36)",
            "showgrid": false,
            "showline": true,
            "ticks": "outside"
           }
          },
          "title": {
           "x": 0.5,
           "xanchor": "center"
          },
          "width": 600,
          "xaxis": {
           "automargin": true,
           "gridcolor": "rgb(232,232,232)",
           "linecolor": "rgb(36,36,36)",
           "showgrid": true,
           "showline": true,
           "ticks": "outside",
           "title": {
            "standoff": 15
           },
           "zeroline": false,
           "zerolinecolor": "rgb(36,36,36)"
          },
          "yaxis": {
           "automargin": true,
           "gridcolor": "rgb(232,232,232)",
           "linecolor": "rgb(36,36,36)",
           "showgrid": true,
           "showline": true,
           "ticks": "outside",
           "title": {
            "standoff": 15
           },
           "zeroline": false,
           "zerolinecolor": "rgb(36,36,36)"
          }
         }
        },
        "title": {
         "text": "Longevity vs. Weight for 43 Dog Breeds"
        },
        "xaxis": {
         "anchor": "y",
         "domain": [
          0,
          1
         ],
         "title": {
          "text": "weight"
         }
        },
        "yaxis": {
         "anchor": "x",
         "domain": [
          0,
          1
         ],
         "title": {
          "text": "longevity"
         }
        }
       }
      }
     },
     "metadata": {},
     "output_type": "display_data"
    }
   ],
   "source": [
    "# Hover over a point and see what happens!\n",
    "(\n",
    "    dogs\n",
    "    .reset_index()\n",
    "    .plot(kind='scatter', x='weight', y='longevity', color='size', hover_name='breed',\n",
    "          title='Longevity vs. Weight for 43 Dog Breeds')\n",
    ")"
   ]
  },
  {
   "cell_type": "code",
   "execution_count": 61,
   "id": "e92fcdae",
   "metadata": {
    "deletable": true,
    "editable": true
   },
   "outputs": [
    {
     "data": {
      "application/vnd.plotly.v1+json": {
       "config": {
        "plotlyServerURL": "https://plot.ly"
       },
       "data": [
        {
         "alignmentgroup": "True",
         "hovertemplate": "variable=count<br>value=%{x}<br>kind=%{y}<extra></extra>",
         "legendgroup": "count",
         "marker": {
          "color": "#1F77B4",
          "pattern": {
           "shape": ""
          }
         },
         "name": "count",
         "offsetgroup": "count",
         "orientation": "h",
         "showlegend": true,
         "textposition": "auto",
         "type": "bar",
         "x": [
          2,
          3,
          5,
          6,
          7,
          8,
          12
         ],
         "xaxis": "x",
         "y": [
          "herding",
          "non-sporting",
          "hound",
          "toy",
          "working",
          "terrier",
          "sporting"
         ],
         "yaxis": "y"
        }
       ],
       "layout": {
        "barmode": "relative",
        "legend": {
         "title": {
          "text": "variable"
         },
         "tracegroupgap": 0
        },
        "template": {
         "data": {
          "bar": [
           {
            "error_x": {
             "color": "rgb(36,36,36)"
            },
            "error_y": {
             "color": "rgb(36,36,36)"
            },
            "marker": {
             "line": {
              "color": "white",
              "width": 0.5
             },
             "pattern": {
              "fillmode": "overlay",
              "size": 10,
              "solidity": 0.2
             }
            },
            "type": "bar"
           }
          ],
          "barpolar": [
           {
            "marker": {
             "line": {
              "color": "white",
              "width": 0.5
             },
             "pattern": {
              "fillmode": "overlay",
              "size": 10,
              "solidity": 0.2
             }
            },
            "type": "barpolar"
           }
          ],
          "carpet": [
           {
            "aaxis": {
             "endlinecolor": "rgb(36,36,36)",
             "gridcolor": "white",
             "linecolor": "white",
             "minorgridcolor": "white",
             "startlinecolor": "rgb(36,36,36)"
            },
            "baxis": {
             "endlinecolor": "rgb(36,36,36)",
             "gridcolor": "white",
             "linecolor": "white",
             "minorgridcolor": "white",
             "startlinecolor": "rgb(36,36,36)"
            },
            "type": "carpet"
           }
          ],
          "choropleth": [
           {
            "colorbar": {
             "outlinewidth": 1,
             "tickcolor": "rgb(36,36,36)",
             "ticks": "outside"
            },
            "type": "choropleth"
           }
          ],
          "contour": [
           {
            "colorbar": {
             "outlinewidth": 1,
             "tickcolor": "rgb(36,36,36)",
             "ticks": "outside"
            },
            "colorscale": [
             [
              0,
              "#440154"
             ],
             [
              0.1111111111111111,
              "#482878"
             ],
             [
              0.2222222222222222,
              "#3e4989"
             ],
             [
              0.3333333333333333,
              "#31688e"
             ],
             [
              0.4444444444444444,
              "#26828e"
             ],
             [
              0.5555555555555556,
              "#1f9e89"
             ],
             [
              0.6666666666666666,
              "#35b779"
             ],
             [
              0.7777777777777778,
              "#6ece58"
             ],
             [
              0.8888888888888888,
              "#b5de2b"
             ],
             [
              1,
              "#fde725"
             ]
            ],
            "type": "contour"
           }
          ],
          "contourcarpet": [
           {
            "colorbar": {
             "outlinewidth": 1,
             "tickcolor": "rgb(36,36,36)",
             "ticks": "outside"
            },
            "type": "contourcarpet"
           }
          ],
          "heatmap": [
           {
            "colorbar": {
             "outlinewidth": 1,
             "tickcolor": "rgb(36,36,36)",
             "ticks": "outside"
            },
            "colorscale": [
             [
              0,
              "#440154"
             ],
             [
              0.1111111111111111,
              "#482878"
             ],
             [
              0.2222222222222222,
              "#3e4989"
             ],
             [
              0.3333333333333333,
              "#31688e"
             ],
             [
              0.4444444444444444,
              "#26828e"
             ],
             [
              0.5555555555555556,
              "#1f9e89"
             ],
             [
              0.6666666666666666,
              "#35b779"
             ],
             [
              0.7777777777777778,
              "#6ece58"
             ],
             [
              0.8888888888888888,
              "#b5de2b"
             ],
             [
              1,
              "#fde725"
             ]
            ],
            "type": "heatmap"
           }
          ],
          "heatmapgl": [
           {
            "colorbar": {
             "outlinewidth": 1,
             "tickcolor": "rgb(36,36,36)",
             "ticks": "outside"
            },
            "colorscale": [
             [
              0,
              "#440154"
             ],
             [
              0.1111111111111111,
              "#482878"
             ],
             [
              0.2222222222222222,
              "#3e4989"
             ],
             [
              0.3333333333333333,
              "#31688e"
             ],
             [
              0.4444444444444444,
              "#26828e"
             ],
             [
              0.5555555555555556,
              "#1f9e89"
             ],
             [
              0.6666666666666666,
              "#35b779"
             ],
             [
              0.7777777777777778,
              "#6ece58"
             ],
             [
              0.8888888888888888,
              "#b5de2b"
             ],
             [
              1,
              "#fde725"
             ]
            ],
            "type": "heatmapgl"
           }
          ],
          "histogram": [
           {
            "marker": {
             "line": {
              "color": "white",
              "width": 0.6
             }
            },
            "type": "histogram"
           }
          ],
          "histogram2d": [
           {
            "colorbar": {
             "outlinewidth": 1,
             "tickcolor": "rgb(36,36,36)",
             "ticks": "outside"
            },
            "colorscale": [
             [
              0,
              "#440154"
             ],
             [
              0.1111111111111111,
              "#482878"
             ],
             [
              0.2222222222222222,
              "#3e4989"
             ],
             [
              0.3333333333333333,
              "#31688e"
             ],
             [
              0.4444444444444444,
              "#26828e"
             ],
             [
              0.5555555555555556,
              "#1f9e89"
             ],
             [
              0.6666666666666666,
              "#35b779"
             ],
             [
              0.7777777777777778,
              "#6ece58"
             ],
             [
              0.8888888888888888,
              "#b5de2b"
             ],
             [
              1,
              "#fde725"
             ]
            ],
            "type": "histogram2d"
           }
          ],
          "histogram2dcontour": [
           {
            "colorbar": {
             "outlinewidth": 1,
             "tickcolor": "rgb(36,36,36)",
             "ticks": "outside"
            },
            "colorscale": [
             [
              0,
              "#440154"
             ],
             [
              0.1111111111111111,
              "#482878"
             ],
             [
              0.2222222222222222,
              "#3e4989"
             ],
             [
              0.3333333333333333,
              "#31688e"
             ],
             [
              0.4444444444444444,
              "#26828e"
             ],
             [
              0.5555555555555556,
              "#1f9e89"
             ],
             [
              0.6666666666666666,
              "#35b779"
             ],
             [
              0.7777777777777778,
              "#6ece58"
             ],
             [
              0.8888888888888888,
              "#b5de2b"
             ],
             [
              1,
              "#fde725"
             ]
            ],
            "type": "histogram2dcontour"
           }
          ],
          "mesh3d": [
           {
            "colorbar": {
             "outlinewidth": 1,
             "tickcolor": "rgb(36,36,36)",
             "ticks": "outside"
            },
            "type": "mesh3d"
           }
          ],
          "parcoords": [
           {
            "line": {
             "colorbar": {
              "outlinewidth": 1,
              "tickcolor": "rgb(36,36,36)",
              "ticks": "outside"
             }
            },
            "type": "parcoords"
           }
          ],
          "pie": [
           {
            "automargin": true,
            "type": "pie"
           }
          ],
          "scatter": [
           {
            "fillpattern": {
             "fillmode": "overlay",
             "size": 10,
             "solidity": 0.2
            },
            "type": "scatter"
           }
          ],
          "scatter3d": [
           {
            "line": {
             "colorbar": {
              "outlinewidth": 1,
              "tickcolor": "rgb(36,36,36)",
              "ticks": "outside"
             }
            },
            "marker": {
             "colorbar": {
              "outlinewidth": 1,
              "tickcolor": "rgb(36,36,36)",
              "ticks": "outside"
             }
            },
            "type": "scatter3d"
           }
          ],
          "scattercarpet": [
           {
            "marker": {
             "colorbar": {
              "outlinewidth": 1,
              "tickcolor": "rgb(36,36,36)",
              "ticks": "outside"
             }
            },
            "type": "scattercarpet"
           }
          ],
          "scattergeo": [
           {
            "marker": {
             "colorbar": {
              "outlinewidth": 1,
              "tickcolor": "rgb(36,36,36)",
              "ticks": "outside"
             }
            },
            "type": "scattergeo"
           }
          ],
          "scattergl": [
           {
            "marker": {
             "colorbar": {
              "outlinewidth": 1,
              "tickcolor": "rgb(36,36,36)",
              "ticks": "outside"
             }
            },
            "type": "scattergl"
           }
          ],
          "scattermapbox": [
           {
            "marker": {
             "colorbar": {
              "outlinewidth": 1,
              "tickcolor": "rgb(36,36,36)",
              "ticks": "outside"
             }
            },
            "type": "scattermapbox"
           }
          ],
          "scatterpolar": [
           {
            "marker": {
             "colorbar": {
              "outlinewidth": 1,
              "tickcolor": "rgb(36,36,36)",
              "ticks": "outside"
             }
            },
            "type": "scatterpolar"
           }
          ],
          "scatterpolargl": [
           {
            "marker": {
             "colorbar": {
              "outlinewidth": 1,
              "tickcolor": "rgb(36,36,36)",
              "ticks": "outside"
             }
            },
            "type": "scatterpolargl"
           }
          ],
          "scatterternary": [
           {
            "marker": {
             "colorbar": {
              "outlinewidth": 1,
              "tickcolor": "rgb(36,36,36)",
              "ticks": "outside"
             }
            },
            "type": "scatterternary"
           }
          ],
          "surface": [
           {
            "colorbar": {
             "outlinewidth": 1,
             "tickcolor": "rgb(36,36,36)",
             "ticks": "outside"
            },
            "colorscale": [
             [
              0,
              "#440154"
             ],
             [
              0.1111111111111111,
              "#482878"
             ],
             [
              0.2222222222222222,
              "#3e4989"
             ],
             [
              0.3333333333333333,
              "#31688e"
             ],
             [
              0.4444444444444444,
              "#26828e"
             ],
             [
              0.5555555555555556,
              "#1f9e89"
             ],
             [
              0.6666666666666666,
              "#35b779"
             ],
             [
              0.7777777777777778,
              "#6ece58"
             ],
             [
              0.8888888888888888,
              "#b5de2b"
             ],
             [
              1,
              "#fde725"
             ]
            ],
            "type": "surface"
           }
          ],
          "table": [
           {
            "cells": {
             "fill": {
              "color": "rgb(237,237,237)"
             },
             "line": {
              "color": "white"
             }
            },
            "header": {
             "fill": {
              "color": "rgb(217,217,217)"
             },
             "line": {
              "color": "white"
             }
            },
            "type": "table"
           }
          ]
         },
         "layout": {
          "annotationdefaults": {
           "arrowhead": 0,
           "arrowwidth": 1
          },
          "autosize": true,
          "autotypenumbers": "strict",
          "coloraxis": {
           "colorbar": {
            "outlinewidth": 1,
            "tickcolor": "rgb(36,36,36)",
            "ticks": "outside"
           }
          },
          "colorscale": {
           "diverging": [
            [
             0,
             "rgb(103,0,31)"
            ],
            [
             0.1,
             "rgb(178,24,43)"
            ],
            [
             0.2,
             "rgb(214,96,77)"
            ],
            [
             0.3,
             "rgb(244,165,130)"
            ],
            [
             0.4,
             "rgb(253,219,199)"
            ],
            [
             0.5,
             "rgb(247,247,247)"
            ],
            [
             0.6,
             "rgb(209,229,240)"
            ],
            [
             0.7,
             "rgb(146,197,222)"
            ],
            [
             0.8,
             "rgb(67,147,195)"
            ],
            [
             0.9,
             "rgb(33,102,172)"
            ],
            [
             1,
             "rgb(5,48,97)"
            ]
           ],
           "sequential": [
            [
             0,
             "#440154"
            ],
            [
             0.1111111111111111,
             "#482878"
            ],
            [
             0.2222222222222222,
             "#3e4989"
            ],
            [
             0.3333333333333333,
             "#31688e"
            ],
            [
             0.4444444444444444,
             "#26828e"
            ],
            [
             0.5555555555555556,
             "#1f9e89"
            ],
            [
             0.6666666666666666,
             "#35b779"
            ],
            [
             0.7777777777777778,
             "#6ece58"
            ],
            [
             0.8888888888888888,
             "#b5de2b"
            ],
            [
             1,
             "#fde725"
            ]
           ],
           "sequentialminus": [
            [
             0,
             "#440154"
            ],
            [
             0.1111111111111111,
             "#482878"
            ],
            [
             0.2222222222222222,
             "#3e4989"
            ],
            [
             0.3333333333333333,
             "#31688e"
            ],
            [
             0.4444444444444444,
             "#26828e"
            ],
            [
             0.5555555555555556,
             "#1f9e89"
            ],
            [
             0.6666666666666666,
             "#35b779"
            ],
            [
             0.7777777777777778,
             "#6ece58"
            ],
            [
             0.8888888888888888,
             "#b5de2b"
            ],
            [
             1,
             "#fde725"
            ]
           ]
          },
          "colorway": [
           "#1F77B4",
           "#FF7F0E",
           "#2CA02C",
           "#D62728",
           "#9467BD",
           "#8C564B",
           "#E377C2",
           "#7F7F7F",
           "#BCBD22",
           "#17BECF"
          ],
          "font": {
           "color": "rgb(36,36,36)"
          },
          "geo": {
           "bgcolor": "white",
           "lakecolor": "white",
           "landcolor": "white",
           "showlakes": true,
           "showland": true,
           "subunitcolor": "white"
          },
          "height": 400,
          "hoverlabel": {
           "align": "left"
          },
          "hovermode": "closest",
          "mapbox": {
           "style": "light"
          },
          "margin": {
           "b": 30,
           "l": 30,
           "r": 30,
           "t": 30
          },
          "paper_bgcolor": "white",
          "plot_bgcolor": "white",
          "polar": {
           "angularaxis": {
            "gridcolor": "rgb(232,232,232)",
            "linecolor": "rgb(36,36,36)",
            "showgrid": false,
            "showline": true,
            "ticks": "outside"
           },
           "bgcolor": "white",
           "radialaxis": {
            "gridcolor": "rgb(232,232,232)",
            "linecolor": "rgb(36,36,36)",
            "showgrid": false,
            "showline": true,
            "ticks": "outside"
           }
          },
          "scene": {
           "xaxis": {
            "backgroundcolor": "white",
            "gridcolor": "rgb(232,232,232)",
            "gridwidth": 2,
            "linecolor": "rgb(36,36,36)",
            "showbackground": true,
            "showgrid": false,
            "showline": true,
            "ticks": "outside",
            "zeroline": false,
            "zerolinecolor": "rgb(36,36,36)"
           },
           "yaxis": {
            "backgroundcolor": "white",
            "gridcolor": "rgb(232,232,232)",
            "gridwidth": 2,
            "linecolor": "rgb(36,36,36)",
            "showbackground": true,
            "showgrid": false,
            "showline": true,
            "ticks": "outside",
            "zeroline": false,
            "zerolinecolor": "rgb(36,36,36)"
           },
           "zaxis": {
            "backgroundcolor": "white",
            "gridcolor": "rgb(232,232,232)",
            "gridwidth": 2,
            "linecolor": "rgb(36,36,36)",
            "showbackground": true,
            "showgrid": false,
            "showline": true,
            "ticks": "outside",
            "zeroline": false,
            "zerolinecolor": "rgb(36,36,36)"
           }
          },
          "shapedefaults": {
           "fillcolor": "black",
           "line": {
            "width": 0
           },
           "opacity": 0.3
          },
          "ternary": {
           "aaxis": {
            "gridcolor": "rgb(232,232,232)",
            "linecolor": "rgb(36,36,36)",
            "showgrid": false,
            "showline": true,
            "ticks": "outside"
           },
           "baxis": {
            "gridcolor": "rgb(232,232,232)",
            "linecolor": "rgb(36,36,36)",
            "showgrid": false,
            "showline": true,
            "ticks": "outside"
           },
           "bgcolor": "white",
           "caxis": {
            "gridcolor": "rgb(232,232,232)",
            "linecolor": "rgb(36,36,36)",
            "showgrid": false,
            "showline": true,
            "ticks": "outside"
           }
          },
          "title": {
           "x": 0.5,
           "xanchor": "center"
          },
          "width": 600,
          "xaxis": {
           "automargin": true,
           "gridcolor": "rgb(232,232,232)",
           "linecolor": "rgb(36,36,36)",
           "showgrid": true,
           "showline": true,
           "ticks": "outside",
           "title": {
            "standoff": 15
           },
           "zeroline": false,
           "zerolinecolor": "rgb(36,36,36)"
          },
          "yaxis": {
           "automargin": true,
           "gridcolor": "rgb(232,232,232)",
           "linecolor": "rgb(36,36,36)",
           "showgrid": true,
           "showline": true,
           "ticks": "outside",
           "title": {
            "standoff": 15
           },
           "zeroline": false,
           "zerolinecolor": "rgb(36,36,36)"
          }
         }
        },
        "title": {
         "text": "Distribution of Dog Kinds"
        },
        "xaxis": {
         "anchor": "y",
         "domain": [
          0,
          1
         ],
         "title": {
          "text": "value"
         }
        },
        "yaxis": {
         "anchor": "x",
         "domain": [
          0,
          1
         ],
         "title": {
          "text": "kind"
         }
        }
       }
      }
     },
     "metadata": {},
     "output_type": "display_data"
    }
   ],
   "source": [
    "(\n",
    "    dogs['kind']\n",
    "    .value_counts()\n",
    "    .sort_values()\n",
    "    .plot(kind='barh', title='Distribution of Dog Kinds')\n",
    ")"
   ]
  },
  {
   "cell_type": "markdown",
   "id": "4a2ed4bb",
   "metadata": {
    "deletable": true,
    "editable": true,
    "slideshow": {
     "slide_type": "slide"
    },
    "tags": []
   },
   "source": [
    "## Selecting slices of a DataFrame\n",
    "\n",
    "Now that we know how to access specific columns in a dataset, how do we access specific rows? Or even individual values?\n",
    "\n",
    "---"
   ]
  },
  {
   "cell_type": "markdown",
   "id": "9a11cbf5",
   "metadata": {
    "deletable": true,
    "editable": true,
    "slideshow": {
     "slide_type": "slide"
    },
    "tags": []
   },
   "source": [
    "### Use `loc` to slice rows and columns using labels"
   ]
  },
  {
   "cell_type": "markdown",
   "id": "a0997046",
   "metadata": {
    "deletable": true,
    "editable": true,
    "slideshow": {
     "slide_type": "fragment"
    }
   },
   "source": [
    "- `loc` stands for \"location\"."
   ]
  },
  {
   "cell_type": "markdown",
   "id": "e2e4b6b2",
   "metadata": {
    "deletable": true,
    "editable": true,
    "slideshow": {
     "slide_type": "fragment"
    }
   },
   "source": [
    "- The `loc` indexer works similarly to slicing 2D arrays, but it uses row **labels** and column **labels**, not positions.<br><small>Remember, the \"index\" refers to the row labels.</small>"
   ]
  },
  {
   "cell_type": "code",
   "execution_count": 62,
   "id": "7e17a98f",
   "metadata": {
    "deletable": true,
    "editable": true
   },
   "outputs": [
    {
     "data": {
      "text/html": [
       "<div>\n",
       "<style scoped>\n",
       "    .dataframe tbody tr th:only-of-type {\n",
       "        vertical-align: middle;\n",
       "    }\n",
       "\n",
       "    .dataframe tbody tr th {\n",
       "        vertical-align: top;\n",
       "    }\n",
       "\n",
       "    .dataframe thead th {\n",
       "        text-align: right;\n",
       "    }\n",
       "</style>\n",
       "<table border=\"1\" class=\"dataframe\">\n",
       "  <thead>\n",
       "    <tr style=\"text-align: right;\">\n",
       "      <th></th>\n",
       "      <th>kind</th>\n",
       "      <th>lifetime_cost</th>\n",
       "      <th>longevity</th>\n",
       "      <th>size</th>\n",
       "      <th>weight</th>\n",
       "      <th>height</th>\n",
       "    </tr>\n",
       "    <tr>\n",
       "      <th>breed</th>\n",
       "      <th></th>\n",
       "      <th></th>\n",
       "      <th></th>\n",
       "      <th></th>\n",
       "      <th></th>\n",
       "      <th></th>\n",
       "    </tr>\n",
       "  </thead>\n",
       "  <tbody>\n",
       "    <tr>\n",
       "      <th>Brittany</th>\n",
       "      <td>sporting</td>\n",
       "      <td>22589.0</td>\n",
       "      <td>12.92</td>\n",
       "      <td>medium</td>\n",
       "      <td>35.0</td>\n",
       "      <td>19.0</td>\n",
       "    </tr>\n",
       "    <tr>\n",
       "      <th>Cairn Terrier</th>\n",
       "      <td>terrier</td>\n",
       "      <td>21992.0</td>\n",
       "      <td>13.84</td>\n",
       "      <td>small</td>\n",
       "      <td>14.0</td>\n",
       "      <td>10.0</td>\n",
       "    </tr>\n",
       "    <tr>\n",
       "      <th>English Cocker Spaniel</th>\n",
       "      <td>sporting</td>\n",
       "      <td>18993.0</td>\n",
       "      <td>11.66</td>\n",
       "      <td>medium</td>\n",
       "      <td>30.0</td>\n",
       "      <td>16.0</td>\n",
       "    </tr>\n",
       "    <tr>\n",
       "      <th>...</th>\n",
       "      <td>...</td>\n",
       "      <td>...</td>\n",
       "      <td>...</td>\n",
       "      <td>...</td>\n",
       "      <td>...</td>\n",
       "      <td>...</td>\n",
       "    </tr>\n",
       "    <tr>\n",
       "      <th>Bullmastiff</th>\n",
       "      <td>working</td>\n",
       "      <td>13936.0</td>\n",
       "      <td>7.57</td>\n",
       "      <td>large</td>\n",
       "      <td>115.0</td>\n",
       "      <td>25.5</td>\n",
       "    </tr>\n",
       "    <tr>\n",
       "      <th>Mastiff</th>\n",
       "      <td>working</td>\n",
       "      <td>13581.0</td>\n",
       "      <td>6.50</td>\n",
       "      <td>large</td>\n",
       "      <td>175.0</td>\n",
       "      <td>30.0</td>\n",
       "    </tr>\n",
       "    <tr>\n",
       "      <th>Saint Bernard</th>\n",
       "      <td>working</td>\n",
       "      <td>20022.0</td>\n",
       "      <td>7.78</td>\n",
       "      <td>large</td>\n",
       "      <td>155.0</td>\n",
       "      <td>26.5</td>\n",
       "    </tr>\n",
       "  </tbody>\n",
       "</table>\n",
       "<p>43 rows × 6 columns</p>\n",
       "</div>"
      ],
      "text/plain": [
       "                            kind  lifetime_cost  longevity    size  weight  \\\n",
       "breed                                                                        \n",
       "Brittany                sporting        22589.0      12.92  medium    35.0   \n",
       "Cairn Terrier            terrier        21992.0      13.84   small    14.0   \n",
       "English Cocker Spaniel  sporting        18993.0      11.66  medium    30.0   \n",
       "...                          ...            ...        ...     ...     ...   \n",
       "Bullmastiff              working        13936.0       7.57   large   115.0   \n",
       "Mastiff                  working        13581.0       6.50   large   175.0   \n",
       "Saint Bernard            working        20022.0       7.78   large   155.0   \n",
       "\n",
       "                        height  \n",
       "breed                           \n",
       "Brittany                  19.0  \n",
       "Cairn Terrier             10.0  \n",
       "English Cocker Spaniel    16.0  \n",
       "...                        ...  \n",
       "Bullmastiff               25.5  \n",
       "Mastiff                   30.0  \n",
       "Saint Bernard             26.5  \n",
       "\n",
       "[43 rows x 6 columns]"
      ]
     },
     "execution_count": 62,
     "metadata": {},
     "output_type": "execute_result"
    }
   ],
   "source": [
    "dogs"
   ]
  },
  {
   "cell_type": "code",
   "execution_count": 63,
   "id": "8db2dbb0",
   "metadata": {
    "deletable": true,
    "editable": true,
    "slideshow": {
     "slide_type": ""
    },
    "tags": []
   },
   "outputs": [
    {
     "data": {
      "text/plain": [
       "11.0"
      ]
     },
     "execution_count": 63,
     "metadata": {},
     "output_type": "execute_result"
    }
   ],
   "source": [
    "# The first argument is the row label, i.e. the index value.\n",
    "#        ↓\n",
    "dogs.loc['Pug', 'longevity']\n",
    "#                  ↑\n",
    "# The second argument is the column label."
   ]
  },
  {
   "cell_type": "markdown",
   "id": "46b36436",
   "metadata": {
    "deletable": true,
    "editable": true,
    "slideshow": {
     "slide_type": "fragment"
    }
   },
   "source": [
    "- As an aside, `loc` is **not** a method – it's an indexer."
   ]
  },
  {
   "cell_type": "code",
   "execution_count": 64,
   "id": "27fa1cea",
   "metadata": {
    "deletable": true,
    "editable": true
   },
   "outputs": [
    {
     "data": {
      "text/plain": [
       "pandas.core.indexing._LocIndexer"
      ]
     },
     "execution_count": 64,
     "metadata": {},
     "output_type": "execute_result"
    }
   ],
   "source": [
    "type(dogs.loc)"
   ]
  },
  {
   "cell_type": "code",
   "execution_count": 65,
   "id": "544da9ef",
   "metadata": {
    "deletable": true,
    "editable": true
   },
   "outputs": [
    {
     "data": {
      "text/plain": [
       "method"
      ]
     },
     "execution_count": 65,
     "metadata": {},
     "output_type": "execute_result"
    }
   ],
   "source": [
    "type(dogs.sort_values)"
   ]
  },
  {
   "cell_type": "markdown",
   "id": "2993a348",
   "metadata": {
    "deletable": true,
    "editable": true,
    "slideshow": {
     "slide_type": "slide"
    },
    "tags": []
   },
   "source": [
    "### `loc` is flexible 🧘\n",
    "\n",
    "You can provide a sequence (list, array, Series) as either argument to `loc`."
   ]
  },
  {
   "cell_type": "code",
   "execution_count": 66,
   "id": "7b76b166",
   "metadata": {
    "deletable": true,
    "editable": true
   },
   "outputs": [
    {
     "data": {
      "text/html": [
       "<div>\n",
       "<style scoped>\n",
       "    .dataframe tbody tr th:only-of-type {\n",
       "        vertical-align: middle;\n",
       "    }\n",
       "\n",
       "    .dataframe tbody tr th {\n",
       "        vertical-align: top;\n",
       "    }\n",
       "\n",
       "    .dataframe thead th {\n",
       "        text-align: right;\n",
       "    }\n",
       "</style>\n",
       "<table border=\"1\" class=\"dataframe\">\n",
       "  <thead>\n",
       "    <tr style=\"text-align: right;\">\n",
       "      <th></th>\n",
       "      <th>kind</th>\n",
       "      <th>lifetime_cost</th>\n",
       "      <th>longevity</th>\n",
       "      <th>size</th>\n",
       "      <th>weight</th>\n",
       "      <th>height</th>\n",
       "    </tr>\n",
       "    <tr>\n",
       "      <th>breed</th>\n",
       "      <th></th>\n",
       "      <th></th>\n",
       "      <th></th>\n",
       "      <th></th>\n",
       "      <th></th>\n",
       "      <th></th>\n",
       "    </tr>\n",
       "  </thead>\n",
       "  <tbody>\n",
       "    <tr>\n",
       "      <th>Brittany</th>\n",
       "      <td>sporting</td>\n",
       "      <td>22589.0</td>\n",
       "      <td>12.92</td>\n",
       "      <td>medium</td>\n",
       "      <td>35.0</td>\n",
       "      <td>19.0</td>\n",
       "    </tr>\n",
       "    <tr>\n",
       "      <th>Cairn Terrier</th>\n",
       "      <td>terrier</td>\n",
       "      <td>21992.0</td>\n",
       "      <td>13.84</td>\n",
       "      <td>small</td>\n",
       "      <td>14.0</td>\n",
       "      <td>10.0</td>\n",
       "    </tr>\n",
       "    <tr>\n",
       "      <th>English Cocker Spaniel</th>\n",
       "      <td>sporting</td>\n",
       "      <td>18993.0</td>\n",
       "      <td>11.66</td>\n",
       "      <td>medium</td>\n",
       "      <td>30.0</td>\n",
       "      <td>16.0</td>\n",
       "    </tr>\n",
       "    <tr>\n",
       "      <th>...</th>\n",
       "      <td>...</td>\n",
       "      <td>...</td>\n",
       "      <td>...</td>\n",
       "      <td>...</td>\n",
       "      <td>...</td>\n",
       "      <td>...</td>\n",
       "    </tr>\n",
       "    <tr>\n",
       "      <th>Bullmastiff</th>\n",
       "      <td>working</td>\n",
       "      <td>13936.0</td>\n",
       "      <td>7.57</td>\n",
       "      <td>large</td>\n",
       "      <td>115.0</td>\n",
       "      <td>25.5</td>\n",
       "    </tr>\n",
       "    <tr>\n",
       "      <th>Mastiff</th>\n",
       "      <td>working</td>\n",
       "      <td>13581.0</td>\n",
       "      <td>6.50</td>\n",
       "      <td>large</td>\n",
       "      <td>175.0</td>\n",
       "      <td>30.0</td>\n",
       "    </tr>\n",
       "    <tr>\n",
       "      <th>Saint Bernard</th>\n",
       "      <td>working</td>\n",
       "      <td>20022.0</td>\n",
       "      <td>7.78</td>\n",
       "      <td>large</td>\n",
       "      <td>155.0</td>\n",
       "      <td>26.5</td>\n",
       "    </tr>\n",
       "  </tbody>\n",
       "</table>\n",
       "<p>43 rows × 6 columns</p>\n",
       "</div>"
      ],
      "text/plain": [
       "                            kind  lifetime_cost  longevity    size  weight  \\\n",
       "breed                                                                        \n",
       "Brittany                sporting        22589.0      12.92  medium    35.0   \n",
       "Cairn Terrier            terrier        21992.0      13.84   small    14.0   \n",
       "English Cocker Spaniel  sporting        18993.0      11.66  medium    30.0   \n",
       "...                          ...            ...        ...     ...     ...   \n",
       "Bullmastiff              working        13936.0       7.57   large   115.0   \n",
       "Mastiff                  working        13581.0       6.50   large   175.0   \n",
       "Saint Bernard            working        20022.0       7.78   large   155.0   \n",
       "\n",
       "                        height  \n",
       "breed                           \n",
       "Brittany                  19.0  \n",
       "Cairn Terrier             10.0  \n",
       "English Cocker Spaniel    16.0  \n",
       "...                        ...  \n",
       "Bullmastiff               25.5  \n",
       "Mastiff                   30.0  \n",
       "Saint Bernard             26.5  \n",
       "\n",
       "[43 rows x 6 columns]"
      ]
     },
     "execution_count": 66,
     "metadata": {},
     "output_type": "execute_result"
    }
   ],
   "source": [
    "dogs"
   ]
  },
  {
   "cell_type": "code",
   "execution_count": 86,
   "id": "d127c591",
   "metadata": {
    "deletable": true,
    "editable": true
   },
   "outputs": [
    {
     "data": {
      "text/plain": [
       "breed\n",
       "Cocker Spaniel         small\n",
       "Labrador Retriever    medium\n",
       "Name: size, dtype: object"
      ]
     },
     "execution_count": 86,
     "metadata": {},
     "output_type": "execute_result"
    }
   ],
   "source": [
    "dogs.loc[['Cocker Spaniel', 'Labrador Retriever'], 'size'] "
   ]
  },
  {
   "cell_type": "code",
   "execution_count": 68,
   "id": "3f76b833",
   "metadata": {
    "deletable": true,
    "editable": true,
    "slideshow": {
     "slide_type": ""
    },
    "tags": []
   },
   "outputs": [
    {
     "data": {
      "text/html": [
       "<div>\n",
       "<style scoped>\n",
       "    .dataframe tbody tr th:only-of-type {\n",
       "        vertical-align: middle;\n",
       "    }\n",
       "\n",
       "    .dataframe tbody tr th {\n",
       "        vertical-align: top;\n",
       "    }\n",
       "\n",
       "    .dataframe thead th {\n",
       "        text-align: right;\n",
       "    }\n",
       "</style>\n",
       "<table border=\"1\" class=\"dataframe\">\n",
       "  <thead>\n",
       "    <tr style=\"text-align: right;\">\n",
       "      <th></th>\n",
       "      <th>kind</th>\n",
       "      <th>size</th>\n",
       "      <th>height</th>\n",
       "    </tr>\n",
       "    <tr>\n",
       "      <th>breed</th>\n",
       "      <th></th>\n",
       "      <th></th>\n",
       "      <th></th>\n",
       "    </tr>\n",
       "  </thead>\n",
       "  <tbody>\n",
       "    <tr>\n",
       "      <th>Cocker Spaniel</th>\n",
       "      <td>sporting</td>\n",
       "      <td>small</td>\n",
       "      <td>14.5</td>\n",
       "    </tr>\n",
       "    <tr>\n",
       "      <th>Labrador Retriever</th>\n",
       "      <td>sporting</td>\n",
       "      <td>medium</td>\n",
       "      <td>23.0</td>\n",
       "    </tr>\n",
       "  </tbody>\n",
       "</table>\n",
       "</div>"
      ],
      "text/plain": [
       "                        kind    size  height\n",
       "breed                                       \n",
       "Cocker Spaniel      sporting   small    14.5\n",
       "Labrador Retriever  sporting  medium    23.0"
      ]
     },
     "execution_count": 68,
     "metadata": {},
     "output_type": "execute_result"
    }
   ],
   "source": [
    "dogs.loc[['Cocker Spaniel', 'Labrador Retriever'], ['kind', 'size', 'height']] "
   ]
  },
  {
   "cell_type": "code",
   "execution_count": 69,
   "id": "b132ac76",
   "metadata": {
    "deletable": true,
    "editable": true
   },
   "outputs": [
    {
     "data": {
      "text/html": [
       "<div>\n",
       "<style scoped>\n",
       "    .dataframe tbody tr th:only-of-type {\n",
       "        vertical-align: middle;\n",
       "    }\n",
       "\n",
       "    .dataframe tbody tr th {\n",
       "        vertical-align: top;\n",
       "    }\n",
       "\n",
       "    .dataframe thead th {\n",
       "        text-align: right;\n",
       "    }\n",
       "</style>\n",
       "<table border=\"1\" class=\"dataframe\">\n",
       "  <thead>\n",
       "    <tr style=\"text-align: right;\">\n",
       "      <th></th>\n",
       "      <th>lifetime_cost</th>\n",
       "      <th>longevity</th>\n",
       "      <th>size</th>\n",
       "      <th>weight</th>\n",
       "    </tr>\n",
       "    <tr>\n",
       "      <th>breed</th>\n",
       "      <th></th>\n",
       "      <th></th>\n",
       "      <th></th>\n",
       "      <th></th>\n",
       "    </tr>\n",
       "  </thead>\n",
       "  <tbody>\n",
       "    <tr>\n",
       "      <th>Cocker Spaniel</th>\n",
       "      <td>24330.0</td>\n",
       "      <td>12.50</td>\n",
       "      <td>small</td>\n",
       "      <td>25.0</td>\n",
       "    </tr>\n",
       "    <tr>\n",
       "      <th>Labrador Retriever</th>\n",
       "      <td>21299.0</td>\n",
       "      <td>12.04</td>\n",
       "      <td>medium</td>\n",
       "      <td>67.5</td>\n",
       "    </tr>\n",
       "  </tbody>\n",
       "</table>\n",
       "</div>"
      ],
      "text/plain": [
       "                    lifetime_cost  longevity    size  weight\n",
       "breed                                                       \n",
       "Cocker Spaniel            24330.0      12.50   small    25.0\n",
       "Labrador Retriever        21299.0      12.04  medium    67.5"
      ]
     },
     "execution_count": 69,
     "metadata": {},
     "output_type": "execute_result"
    }
   ],
   "source": [
    "# Note that the 'weight' column is included!\n",
    "# loc, per the pandas documentation, is inclusive of both slicer endpoints.\n",
    "dogs.loc[['Cocker Spaniel', 'Labrador Retriever'], 'lifetime_cost': 'weight'] "
   ]
  },
  {
   "cell_type": "code",
   "execution_count": 70,
   "id": "b01ec50a",
   "metadata": {
    "deletable": true,
    "editable": true,
    "slideshow": {
     "slide_type": ""
    },
    "tags": []
   },
   "outputs": [
    {
     "data": {
      "text/html": [
       "<div>\n",
       "<style scoped>\n",
       "    .dataframe tbody tr th:only-of-type {\n",
       "        vertical-align: middle;\n",
       "    }\n",
       "\n",
       "    .dataframe tbody tr th {\n",
       "        vertical-align: top;\n",
       "    }\n",
       "\n",
       "    .dataframe thead th {\n",
       "        text-align: right;\n",
       "    }\n",
       "</style>\n",
       "<table border=\"1\" class=\"dataframe\">\n",
       "  <thead>\n",
       "    <tr style=\"text-align: right;\">\n",
       "      <th></th>\n",
       "      <th>kind</th>\n",
       "      <th>lifetime_cost</th>\n",
       "      <th>longevity</th>\n",
       "      <th>size</th>\n",
       "      <th>weight</th>\n",
       "      <th>height</th>\n",
       "    </tr>\n",
       "    <tr>\n",
       "      <th>breed</th>\n",
       "      <th></th>\n",
       "      <th></th>\n",
       "      <th></th>\n",
       "      <th></th>\n",
       "      <th></th>\n",
       "      <th></th>\n",
       "    </tr>\n",
       "  </thead>\n",
       "  <tbody>\n",
       "    <tr>\n",
       "      <th>Cocker Spaniel</th>\n",
       "      <td>sporting</td>\n",
       "      <td>24330.0</td>\n",
       "      <td>12.50</td>\n",
       "      <td>small</td>\n",
       "      <td>25.0</td>\n",
       "      <td>14.5</td>\n",
       "    </tr>\n",
       "    <tr>\n",
       "      <th>Labrador Retriever</th>\n",
       "      <td>sporting</td>\n",
       "      <td>21299.0</td>\n",
       "      <td>12.04</td>\n",
       "      <td>medium</td>\n",
       "      <td>67.5</td>\n",
       "      <td>23.0</td>\n",
       "    </tr>\n",
       "  </tbody>\n",
       "</table>\n",
       "</div>"
      ],
      "text/plain": [
       "                        kind  lifetime_cost  longevity    size  weight  height\n",
       "breed                                                                         \n",
       "Cocker Spaniel      sporting        24330.0      12.50   small    25.0    14.5\n",
       "Labrador Retriever  sporting        21299.0      12.04  medium    67.5    23.0"
      ]
     },
     "execution_count": 70,
     "metadata": {},
     "output_type": "execute_result"
    }
   ],
   "source": [
    "dogs.loc[['Cocker Spaniel', 'Labrador Retriever'], :] "
   ]
  },
  {
   "cell_type": "code",
   "execution_count": 71,
   "id": "de5df405",
   "metadata": {
    "deletable": true,
    "editable": true,
    "slideshow": {
     "slide_type": ""
    },
    "tags": []
   },
   "outputs": [
    {
     "data": {
      "text/html": [
       "<div>\n",
       "<style scoped>\n",
       "    .dataframe tbody tr th:only-of-type {\n",
       "        vertical-align: middle;\n",
       "    }\n",
       "\n",
       "    .dataframe tbody tr th {\n",
       "        vertical-align: top;\n",
       "    }\n",
       "\n",
       "    .dataframe thead th {\n",
       "        text-align: right;\n",
       "    }\n",
       "</style>\n",
       "<table border=\"1\" class=\"dataframe\">\n",
       "  <thead>\n",
       "    <tr style=\"text-align: right;\">\n",
       "      <th></th>\n",
       "      <th>kind</th>\n",
       "      <th>lifetime_cost</th>\n",
       "      <th>longevity</th>\n",
       "      <th>size</th>\n",
       "      <th>weight</th>\n",
       "      <th>height</th>\n",
       "    </tr>\n",
       "    <tr>\n",
       "      <th>breed</th>\n",
       "      <th></th>\n",
       "      <th></th>\n",
       "      <th></th>\n",
       "      <th></th>\n",
       "      <th></th>\n",
       "      <th></th>\n",
       "    </tr>\n",
       "  </thead>\n",
       "  <tbody>\n",
       "    <tr>\n",
       "      <th>Cocker Spaniel</th>\n",
       "      <td>sporting</td>\n",
       "      <td>24330.0</td>\n",
       "      <td>12.50</td>\n",
       "      <td>small</td>\n",
       "      <td>25.0</td>\n",
       "      <td>14.5</td>\n",
       "    </tr>\n",
       "    <tr>\n",
       "      <th>Labrador Retriever</th>\n",
       "      <td>sporting</td>\n",
       "      <td>21299.0</td>\n",
       "      <td>12.04</td>\n",
       "      <td>medium</td>\n",
       "      <td>67.5</td>\n",
       "      <td>23.0</td>\n",
       "    </tr>\n",
       "  </tbody>\n",
       "</table>\n",
       "</div>"
      ],
      "text/plain": [
       "                        kind  lifetime_cost  longevity    size  weight  height\n",
       "breed                                                                         \n",
       "Cocker Spaniel      sporting        24330.0      12.50   small    25.0    14.5\n",
       "Labrador Retriever  sporting        21299.0      12.04  medium    67.5    23.0"
      ]
     },
     "execution_count": 71,
     "metadata": {},
     "output_type": "execute_result"
    }
   ],
   "source": [
    "# Shortcut for the line above.\n",
    "dogs.loc[['Cocker Spaniel', 'Labrador Retriever']] "
   ]
  },
  {
   "cell_type": "markdown",
   "id": "1f9f169d",
   "metadata": {
    "deletable": true,
    "editable": true,
    "slideshow": {
     "slide_type": "slide"
    },
    "tags": []
   },
   "source": [
    "### Use `iloc` to slice rows and columns using positions"
   ]
  },
  {
   "cell_type": "markdown",
   "id": "ad7119cd",
   "metadata": {
    "deletable": true,
    "editable": true,
    "slideshow": {
     "slide_type": "fragment"
    }
   },
   "source": [
    "- `iloc` stands for \"integer location.\""
   ]
  },
  {
   "cell_type": "markdown",
   "id": "02f5d3df",
   "metadata": {
    "deletable": true,
    "editable": true,
    "slideshow": {
     "slide_type": "fragment"
    }
   },
   "source": [
    "- `iloc` is like `loc`, but it selects rows and columns based off of integer positions only, just like with 2D arrays."
   ]
  },
  {
   "cell_type": "code",
   "execution_count": 72,
   "id": "6ad29a77",
   "metadata": {
    "deletable": true,
    "editable": true,
    "slideshow": {
     "slide_type": ""
    },
    "tags": []
   },
   "outputs": [
    {
     "data": {
      "text/html": [
       "<div>\n",
       "<style scoped>\n",
       "    .dataframe tbody tr th:only-of-type {\n",
       "        vertical-align: middle;\n",
       "    }\n",
       "\n",
       "    .dataframe tbody tr th {\n",
       "        vertical-align: top;\n",
       "    }\n",
       "\n",
       "    .dataframe thead th {\n",
       "        text-align: right;\n",
       "    }\n",
       "</style>\n",
       "<table border=\"1\" class=\"dataframe\">\n",
       "  <thead>\n",
       "    <tr style=\"text-align: right;\">\n",
       "      <th></th>\n",
       "      <th>kind</th>\n",
       "      <th>lifetime_cost</th>\n",
       "      <th>longevity</th>\n",
       "      <th>size</th>\n",
       "      <th>weight</th>\n",
       "      <th>height</th>\n",
       "    </tr>\n",
       "    <tr>\n",
       "      <th>breed</th>\n",
       "      <th></th>\n",
       "      <th></th>\n",
       "      <th></th>\n",
       "      <th></th>\n",
       "      <th></th>\n",
       "      <th></th>\n",
       "    </tr>\n",
       "  </thead>\n",
       "  <tbody>\n",
       "    <tr>\n",
       "      <th>Brittany</th>\n",
       "      <td>sporting</td>\n",
       "      <td>22589.0</td>\n",
       "      <td>12.92</td>\n",
       "      <td>medium</td>\n",
       "      <td>35.0</td>\n",
       "      <td>19.0</td>\n",
       "    </tr>\n",
       "    <tr>\n",
       "      <th>Cairn Terrier</th>\n",
       "      <td>terrier</td>\n",
       "      <td>21992.0</td>\n",
       "      <td>13.84</td>\n",
       "      <td>small</td>\n",
       "      <td>14.0</td>\n",
       "      <td>10.0</td>\n",
       "    </tr>\n",
       "    <tr>\n",
       "      <th>English Cocker Spaniel</th>\n",
       "      <td>sporting</td>\n",
       "      <td>18993.0</td>\n",
       "      <td>11.66</td>\n",
       "      <td>medium</td>\n",
       "      <td>30.0</td>\n",
       "      <td>16.0</td>\n",
       "    </tr>\n",
       "    <tr>\n",
       "      <th>...</th>\n",
       "      <td>...</td>\n",
       "      <td>...</td>\n",
       "      <td>...</td>\n",
       "      <td>...</td>\n",
       "      <td>...</td>\n",
       "      <td>...</td>\n",
       "    </tr>\n",
       "    <tr>\n",
       "      <th>Bullmastiff</th>\n",
       "      <td>working</td>\n",
       "      <td>13936.0</td>\n",
       "      <td>7.57</td>\n",
       "      <td>large</td>\n",
       "      <td>115.0</td>\n",
       "      <td>25.5</td>\n",
       "    </tr>\n",
       "    <tr>\n",
       "      <th>Mastiff</th>\n",
       "      <td>working</td>\n",
       "      <td>13581.0</td>\n",
       "      <td>6.50</td>\n",
       "      <td>large</td>\n",
       "      <td>175.0</td>\n",
       "      <td>30.0</td>\n",
       "    </tr>\n",
       "    <tr>\n",
       "      <th>Saint Bernard</th>\n",
       "      <td>working</td>\n",
       "      <td>20022.0</td>\n",
       "      <td>7.78</td>\n",
       "      <td>large</td>\n",
       "      <td>155.0</td>\n",
       "      <td>26.5</td>\n",
       "    </tr>\n",
       "  </tbody>\n",
       "</table>\n",
       "<p>43 rows × 6 columns</p>\n",
       "</div>"
      ],
      "text/plain": [
       "                            kind  lifetime_cost  longevity    size  weight  \\\n",
       "breed                                                                        \n",
       "Brittany                sporting        22589.0      12.92  medium    35.0   \n",
       "Cairn Terrier            terrier        21992.0      13.84   small    14.0   \n",
       "English Cocker Spaniel  sporting        18993.0      11.66  medium    30.0   \n",
       "...                          ...            ...        ...     ...     ...   \n",
       "Bullmastiff              working        13936.0       7.57   large   115.0   \n",
       "Mastiff                  working        13581.0       6.50   large   175.0   \n",
       "Saint Bernard            working        20022.0       7.78   large   155.0   \n",
       "\n",
       "                        height  \n",
       "breed                           \n",
       "Brittany                  19.0  \n",
       "Cairn Terrier             10.0  \n",
       "English Cocker Spaniel    16.0  \n",
       "...                        ...  \n",
       "Bullmastiff               25.5  \n",
       "Mastiff                   30.0  \n",
       "Saint Bernard             26.5  \n",
       "\n",
       "[43 rows x 6 columns]"
      ]
     },
     "execution_count": 72,
     "metadata": {},
     "output_type": "execute_result"
    }
   ],
   "source": [
    "dogs"
   ]
  },
  {
   "cell_type": "code",
   "execution_count": 73,
   "id": "4ced3210",
   "metadata": {
    "deletable": true,
    "editable": true,
    "slideshow": {
     "slide_type": ""
    },
    "tags": []
   },
   "outputs": [
    {
     "data": {
      "text/html": [
       "<div>\n",
       "<style scoped>\n",
       "    .dataframe tbody tr th:only-of-type {\n",
       "        vertical-align: middle;\n",
       "    }\n",
       "\n",
       "    .dataframe tbody tr th {\n",
       "        vertical-align: top;\n",
       "    }\n",
       "\n",
       "    .dataframe thead th {\n",
       "        text-align: right;\n",
       "    }\n",
       "</style>\n",
       "<table border=\"1\" class=\"dataframe\">\n",
       "  <thead>\n",
       "    <tr style=\"text-align: right;\">\n",
       "      <th></th>\n",
       "      <th>kind</th>\n",
       "      <th>lifetime_cost</th>\n",
       "      <th>longevity</th>\n",
       "      <th>size</th>\n",
       "    </tr>\n",
       "    <tr>\n",
       "      <th>breed</th>\n",
       "      <th></th>\n",
       "      <th></th>\n",
       "      <th></th>\n",
       "      <th></th>\n",
       "    </tr>\n",
       "  </thead>\n",
       "  <tbody>\n",
       "    <tr>\n",
       "      <th>Cairn Terrier</th>\n",
       "      <td>terrier</td>\n",
       "      <td>21992.0</td>\n",
       "      <td>13.84</td>\n",
       "      <td>small</td>\n",
       "    </tr>\n",
       "    <tr>\n",
       "      <th>English Cocker Spaniel</th>\n",
       "      <td>sporting</td>\n",
       "      <td>18993.0</td>\n",
       "      <td>11.66</td>\n",
       "      <td>medium</td>\n",
       "    </tr>\n",
       "    <tr>\n",
       "      <th>Cocker Spaniel</th>\n",
       "      <td>sporting</td>\n",
       "      <td>24330.0</td>\n",
       "      <td>12.50</td>\n",
       "      <td>small</td>\n",
       "    </tr>\n",
       "    <tr>\n",
       "      <th>...</th>\n",
       "      <td>...</td>\n",
       "      <td>...</td>\n",
       "      <td>...</td>\n",
       "      <td>...</td>\n",
       "    </tr>\n",
       "    <tr>\n",
       "      <th>Tibetan Spaniel</th>\n",
       "      <td>non-sporting</td>\n",
       "      <td>25549.0</td>\n",
       "      <td>14.42</td>\n",
       "      <td>small</td>\n",
       "    </tr>\n",
       "    <tr>\n",
       "      <th>Labrador Retriever</th>\n",
       "      <td>sporting</td>\n",
       "      <td>21299.0</td>\n",
       "      <td>12.04</td>\n",
       "      <td>medium</td>\n",
       "    </tr>\n",
       "    <tr>\n",
       "      <th>Maltese</th>\n",
       "      <td>toy</td>\n",
       "      <td>19084.0</td>\n",
       "      <td>12.25</td>\n",
       "      <td>small</td>\n",
       "    </tr>\n",
       "  </tbody>\n",
       "</table>\n",
       "<p>14 rows × 4 columns</p>\n",
       "</div>"
      ],
      "text/plain": [
       "                                kind  lifetime_cost  longevity    size\n",
       "breed                                                                 \n",
       "Cairn Terrier                terrier        21992.0      13.84   small\n",
       "English Cocker Spaniel      sporting        18993.0      11.66  medium\n",
       "Cocker Spaniel              sporting        24330.0      12.50   small\n",
       "...                              ...            ...        ...     ...\n",
       "Tibetan Spaniel         non-sporting        25549.0      14.42   small\n",
       "Labrador Retriever          sporting        21299.0      12.04  medium\n",
       "Maltese                          toy        19084.0      12.25   small\n",
       "\n",
       "[14 rows x 4 columns]"
      ]
     },
     "execution_count": 73,
     "metadata": {},
     "output_type": "execute_result"
    }
   ],
   "source": [
    "# Try removing the iloc and see what happens!\n",
    "dogs.iloc[1:15, :-2] "
   ]
  },
  {
   "cell_type": "markdown",
   "id": "4aa21719",
   "metadata": {
    "deletable": true,
    "editable": true,
    "slideshow": {
     "slide_type": "fragment"
    },
    "tags": []
   },
   "source": [
    "- `iloc` is often most useful when we sort first. For instance, to find the weight of the longest-living breed in the dataset:"
   ]
  },
  {
   "cell_type": "code",
   "execution_count": 87,
   "id": "9900903e",
   "metadata": {
    "deletable": true,
    "editable": true,
    "slideshow": {
     "slide_type": ""
    },
    "tags": []
   },
   "outputs": [
    {
     "data": {
      "text/plain": [
       "5.5"
      ]
     },
     "execution_count": 87,
     "metadata": {},
     "output_type": "execute_result"
    }
   ],
   "source": [
    "dogs.sort_values('longevity', ascending=False)['weight'].iloc[0] "
   ]
  },
  {
   "cell_type": "code",
   "execution_count": 91,
   "id": "a11fb455",
   "metadata": {
    "deletable": true,
    "editable": true,
    "slideshow": {
     "slide_type": "fragment"
    },
    "tags": []
   },
   "outputs": [
    {
     "data": {
      "text/plain": [
       "'Chihuahua'"
      ]
     },
     "execution_count": 91,
     "metadata": {},
     "output_type": "execute_result"
    }
   ],
   "source": [
    "# Finding the breed itself involves sorting, but not iloc, since breeds are stored in the index.\n",
    "dogs.sort_values('longevity', ascending=False).index[0] "
   ]
  },
  {
   "cell_type": "markdown",
   "id": "694b5808",
   "metadata": {
    "deletable": true,
    "editable": true,
    "slideshow": {
     "slide_type": "slide"
    }
   },
   "source": [
    "<div class=\"alert alert-success\">\n",
    "<h3>Activity</h3>\n",
    "    \n",
    "Among just the following four breeds, what is the height of the second tallest breed?\n",
    "    \n",
    "- Cocker Spaniel.\n",
    "- Labrador Retriever.\n",
    "- Irish Setter.\n",
    "- Newfoundland.\n",
    "    \n",
    "Assign your answer to `second_tallest_height` below. Answer using `pandas` code, i.e. **don't** look at the dataset and hard-code the answer.\n",
    "    \n",
    "**We won't have time to try this activity in lecture, but the answer is posted in `lec04-filled.ipynb` and in the \"filled html\" link on the course website.**"
   ]
  },
  {
   "cell_type": "code",
   "execution_count": 90,
   "id": "6b49e13f",
   "metadata": {
    "deletable": true,
    "editable": true
   },
   "outputs": [],
   "source": [
    "second_tallest_height = (\n",
    "    dogs\n",
    "    .loc[['Cocker Spaniel', 'Labrador Retriever', 'Newfoundland', 'Irish Setter'], 'height']\n",
    "    .sort_values(ascending=False)\n",
    "    .iloc[1]\n",
    ")"
   ]
  },
  {
   "cell_type": "code",
   "execution_count": null,
   "id": "533d3b20",
   "metadata": {
    "deletable": true,
    "editable": true
   },
   "outputs": [],
   "source": []
  },
  {
   "cell_type": "code",
   "execution_count": null,
   "id": "31725dc9",
   "metadata": {
    "deletable": true,
    "editable": true
   },
   "outputs": [],
   "source": []
  },
  {
   "cell_type": "markdown",
   "id": "849f6dbb",
   "metadata": {
    "deletable": true,
    "editable": true,
    "slideshow": {
     "slide_type": "slide"
    }
   },
   "source": [
    "## Querying\n",
    "\n",
    "Okay, but what if we don't know anything about the position or index of a row we're looking for? How do we find rows that satisfy certain **conditions**?\n",
    "\n",
    "---"
   ]
  },
  {
   "cell_type": "markdown",
   "id": "7e154d4b",
   "metadata": {
    "deletable": true,
    "editable": true,
    "slideshow": {
     "slide_type": "slide"
    }
   },
   "source": [
    "### Reflection"
   ]
  },
  {
   "cell_type": "markdown",
   "id": "efbbcf3a",
   "metadata": {
    "deletable": true,
    "editable": true,
    "slideshow": {
     "slide_type": "fragment"
    }
   },
   "source": [
    "- So far, all of the questions we've been able to answer involved all of the rows in the dataset.\n",
    "<br><small>What's the weight of the longest-living breed? What's the average lifetime cost of all breeds? Which breed is third heaviest?</small>"
   ]
  },
  {
   "cell_type": "markdown",
   "id": "a6a33432",
   "metadata": {
    "deletable": true,
    "editable": true,
    "slideshow": {
     "slide_type": "fragment"
    }
   },
   "source": [
    "- We don't yet have a mechanism to answer questions about a specific subset of the dataset.\n",
    "<br><small>How many terriers are there? What's the average longevity of medium-sized breeds?</small>"
   ]
  },
  {
   "cell_type": "markdown",
   "id": "6ef12947",
   "metadata": {
    "deletable": true,
    "editable": true,
    "slideshow": {
     "slide_type": "slide"
    },
    "tags": []
   },
   "source": [
    "### Querying"
   ]
  },
  {
   "cell_type": "markdown",
   "id": "c79c5963",
   "metadata": {
    "deletable": true,
    "editable": true,
    "slideshow": {
     "slide_type": "fragment"
    }
   },
   "source": [
    "- Querying is the act selecting rows in a DataFrame that satisfy certain condition(s).<br><small>We sometimes call this \"filtering.\"</small>"
   ]
  },
  {
   "cell_type": "markdown",
   "id": "2d0977ac",
   "metadata": {
    "deletable": true,
    "editable": true,
    "slideshow": {
     "slide_type": "fragment"
    }
   },
   "source": [
    "- As we saw in Lecture 3, comparisons with arrays result in Boolean arrays. The same is true for Series – **make a comparison with a Series, and the result is a Boolean Series!**"
   ]
  },
  {
   "cell_type": "markdown",
   "id": "348d453c",
   "metadata": {
    "deletable": true,
    "editable": true,
    "slideshow": {
     "slide_type": "fragment"
    }
   },
   "source": [
    "- We can use comparisons along with the `loc` operator to select specific rows from a DataFrame."
   ]
  },
  {
   "cell_type": "code",
   "execution_count": 77,
   "id": "07598499",
   "metadata": {
    "deletable": true,
    "editable": true,
    "slideshow": {
     "slide_type": ""
    },
    "tags": []
   },
   "outputs": [
    {
     "data": {
      "text/html": [
       "<div>\n",
       "<style scoped>\n",
       "    .dataframe tbody tr th:only-of-type {\n",
       "        vertical-align: middle;\n",
       "    }\n",
       "\n",
       "    .dataframe tbody tr th {\n",
       "        vertical-align: top;\n",
       "    }\n",
       "\n",
       "    .dataframe thead th {\n",
       "        text-align: right;\n",
       "    }\n",
       "</style>\n",
       "<table border=\"1\" class=\"dataframe\">\n",
       "  <thead>\n",
       "    <tr style=\"text-align: right;\">\n",
       "      <th></th>\n",
       "      <th>kind</th>\n",
       "      <th>lifetime_cost</th>\n",
       "      <th>longevity</th>\n",
       "      <th>size</th>\n",
       "      <th>weight</th>\n",
       "      <th>height</th>\n",
       "    </tr>\n",
       "    <tr>\n",
       "      <th>breed</th>\n",
       "      <th></th>\n",
       "      <th></th>\n",
       "      <th></th>\n",
       "      <th></th>\n",
       "      <th></th>\n",
       "      <th></th>\n",
       "    </tr>\n",
       "  </thead>\n",
       "  <tbody>\n",
       "    <tr>\n",
       "      <th>Brittany</th>\n",
       "      <td>sporting</td>\n",
       "      <td>22589.0</td>\n",
       "      <td>12.92</td>\n",
       "      <td>medium</td>\n",
       "      <td>35.0</td>\n",
       "      <td>19.0</td>\n",
       "    </tr>\n",
       "    <tr>\n",
       "      <th>Cairn Terrier</th>\n",
       "      <td>terrier</td>\n",
       "      <td>21992.0</td>\n",
       "      <td>13.84</td>\n",
       "      <td>small</td>\n",
       "      <td>14.0</td>\n",
       "      <td>10.0</td>\n",
       "    </tr>\n",
       "    <tr>\n",
       "      <th>English Cocker Spaniel</th>\n",
       "      <td>sporting</td>\n",
       "      <td>18993.0</td>\n",
       "      <td>11.66</td>\n",
       "      <td>medium</td>\n",
       "      <td>30.0</td>\n",
       "      <td>16.0</td>\n",
       "    </tr>\n",
       "    <tr>\n",
       "      <th>...</th>\n",
       "      <td>...</td>\n",
       "      <td>...</td>\n",
       "      <td>...</td>\n",
       "      <td>...</td>\n",
       "      <td>...</td>\n",
       "      <td>...</td>\n",
       "    </tr>\n",
       "    <tr>\n",
       "      <th>Bullmastiff</th>\n",
       "      <td>working</td>\n",
       "      <td>13936.0</td>\n",
       "      <td>7.57</td>\n",
       "      <td>large</td>\n",
       "      <td>115.0</td>\n",
       "      <td>25.5</td>\n",
       "    </tr>\n",
       "    <tr>\n",
       "      <th>Mastiff</th>\n",
       "      <td>working</td>\n",
       "      <td>13581.0</td>\n",
       "      <td>6.50</td>\n",
       "      <td>large</td>\n",
       "      <td>175.0</td>\n",
       "      <td>30.0</td>\n",
       "    </tr>\n",
       "    <tr>\n",
       "      <th>Saint Bernard</th>\n",
       "      <td>working</td>\n",
       "      <td>20022.0</td>\n",
       "      <td>7.78</td>\n",
       "      <td>large</td>\n",
       "      <td>155.0</td>\n",
       "      <td>26.5</td>\n",
       "    </tr>\n",
       "  </tbody>\n",
       "</table>\n",
       "<p>43 rows × 6 columns</p>\n",
       "</div>"
      ],
      "text/plain": [
       "                            kind  lifetime_cost  longevity    size  weight  \\\n",
       "breed                                                                        \n",
       "Brittany                sporting        22589.0      12.92  medium    35.0   \n",
       "Cairn Terrier            terrier        21992.0      13.84   small    14.0   \n",
       "English Cocker Spaniel  sporting        18993.0      11.66  medium    30.0   \n",
       "...                          ...            ...        ...     ...     ...   \n",
       "Bullmastiff              working        13936.0       7.57   large   115.0   \n",
       "Mastiff                  working        13581.0       6.50   large   175.0   \n",
       "Saint Bernard            working        20022.0       7.78   large   155.0   \n",
       "\n",
       "                        height  \n",
       "breed                           \n",
       "Brittany                  19.0  \n",
       "Cairn Terrier             10.0  \n",
       "English Cocker Spaniel    16.0  \n",
       "...                        ...  \n",
       "Bullmastiff               25.5  \n",
       "Mastiff                   30.0  \n",
       "Saint Bernard             26.5  \n",
       "\n",
       "[43 rows x 6 columns]"
      ]
     },
     "execution_count": 77,
     "metadata": {},
     "output_type": "execute_result"
    }
   ],
   "source": [
    "dogs"
   ]
  },
  {
   "cell_type": "code",
   "execution_count": 78,
   "id": "a80ec67c",
   "metadata": {
    "deletable": true,
    "editable": true
   },
   "outputs": [
    {
     "data": {
      "text/plain": [
       "breed\n",
       "Brittany                  False\n",
       "Cairn Terrier              True\n",
       "English Cocker Spaniel    False\n",
       "                          ...  \n",
       "Bullmastiff               False\n",
       "Mastiff                   False\n",
       "Saint Bernard             False\n",
       "Name: kind, Length: 43, dtype: bool"
      ]
     },
     "execution_count": 78,
     "metadata": {},
     "output_type": "execute_result"
    }
   ],
   "source": [
    "dogs['kind'] == 'terrier' "
   ]
  },
  {
   "cell_type": "code",
   "execution_count": 79,
   "id": "d8de8a33",
   "metadata": {
    "deletable": true,
    "editable": true,
    "slideshow": {
     "slide_type": ""
    },
    "tags": []
   },
   "outputs": [
    {
     "data": {
      "text/html": [
       "<div>\n",
       "<style scoped>\n",
       "    .dataframe tbody tr th:only-of-type {\n",
       "        vertical-align: middle;\n",
       "    }\n",
       "\n",
       "    .dataframe tbody tr th {\n",
       "        vertical-align: top;\n",
       "    }\n",
       "\n",
       "    .dataframe thead th {\n",
       "        text-align: right;\n",
       "    }\n",
       "</style>\n",
       "<table border=\"1\" class=\"dataframe\">\n",
       "  <thead>\n",
       "    <tr style=\"text-align: right;\">\n",
       "      <th></th>\n",
       "      <th>kind</th>\n",
       "      <th>lifetime_cost</th>\n",
       "      <th>longevity</th>\n",
       "      <th>size</th>\n",
       "      <th>weight</th>\n",
       "      <th>height</th>\n",
       "    </tr>\n",
       "    <tr>\n",
       "      <th>breed</th>\n",
       "      <th></th>\n",
       "      <th></th>\n",
       "      <th></th>\n",
       "      <th></th>\n",
       "      <th></th>\n",
       "      <th></th>\n",
       "    </tr>\n",
       "  </thead>\n",
       "  <tbody>\n",
       "    <tr>\n",
       "      <th>Cairn Terrier</th>\n",
       "      <td>terrier</td>\n",
       "      <td>21992.0</td>\n",
       "      <td>13.84</td>\n",
       "      <td>small</td>\n",
       "      <td>14.0</td>\n",
       "      <td>10.0</td>\n",
       "    </tr>\n",
       "    <tr>\n",
       "      <th>Miniature Schnauzer</th>\n",
       "      <td>terrier</td>\n",
       "      <td>20087.0</td>\n",
       "      <td>11.81</td>\n",
       "      <td>small</td>\n",
       "      <td>15.5</td>\n",
       "      <td>13.0</td>\n",
       "    </tr>\n",
       "    <tr>\n",
       "      <th>Norfolk Terrier</th>\n",
       "      <td>terrier</td>\n",
       "      <td>24308.0</td>\n",
       "      <td>13.07</td>\n",
       "      <td>small</td>\n",
       "      <td>12.0</td>\n",
       "      <td>9.5</td>\n",
       "    </tr>\n",
       "    <tr>\n",
       "      <th>...</th>\n",
       "      <td>...</td>\n",
       "      <td>...</td>\n",
       "      <td>...</td>\n",
       "      <td>...</td>\n",
       "      <td>...</td>\n",
       "      <td>...</td>\n",
       "    </tr>\n",
       "    <tr>\n",
       "      <th>Scottish Terrier</th>\n",
       "      <td>terrier</td>\n",
       "      <td>17525.0</td>\n",
       "      <td>10.69</td>\n",
       "      <td>small</td>\n",
       "      <td>20.0</td>\n",
       "      <td>10.0</td>\n",
       "    </tr>\n",
       "    <tr>\n",
       "      <th>Kerry Blue Terrier</th>\n",
       "      <td>terrier</td>\n",
       "      <td>17240.0</td>\n",
       "      <td>9.40</td>\n",
       "      <td>medium</td>\n",
       "      <td>36.5</td>\n",
       "      <td>18.5</td>\n",
       "    </tr>\n",
       "    <tr>\n",
       "      <th>Bull Terrier</th>\n",
       "      <td>terrier</td>\n",
       "      <td>18490.0</td>\n",
       "      <td>10.21</td>\n",
       "      <td>medium</td>\n",
       "      <td>60.0</td>\n",
       "      <td>21.5</td>\n",
       "    </tr>\n",
       "  </tbody>\n",
       "</table>\n",
       "<p>8 rows × 6 columns</p>\n",
       "</div>"
      ],
      "text/plain": [
       "                        kind  lifetime_cost  longevity    size  weight  height\n",
       "breed                                                                         \n",
       "Cairn Terrier        terrier        21992.0      13.84   small    14.0    10.0\n",
       "Miniature Schnauzer  terrier        20087.0      11.81   small    15.5    13.0\n",
       "Norfolk Terrier      terrier        24308.0      13.07   small    12.0     9.5\n",
       "...                      ...            ...        ...     ...     ...     ...\n",
       "Scottish Terrier     terrier        17525.0      10.69   small    20.0    10.0\n",
       "Kerry Blue Terrier   terrier        17240.0       9.40  medium    36.5    18.5\n",
       "Bull Terrier         terrier        18490.0      10.21  medium    60.0    21.5\n",
       "\n",
       "[8 rows x 6 columns]"
      ]
     },
     "execution_count": 79,
     "metadata": {},
     "output_type": "execute_result"
    }
   ],
   "source": [
    "dogs.loc[dogs['kind'] == 'terrier'] "
   ]
  },
  {
   "cell_type": "code",
   "execution_count": 80,
   "id": "4b649a6c",
   "metadata": {
    "deletable": true,
    "editable": true
   },
   "outputs": [
    {
     "data": {
      "text/plain": [
       "8"
      ]
     },
     "execution_count": 80,
     "metadata": {},
     "output_type": "execute_result"
    }
   ],
   "source": [
    "# This gives us the number of terriers in the dataset.\n",
    "dogs.loc[dogs['kind'] == 'terrier'].shape[0] "
   ]
  },
  {
   "cell_type": "code",
   "execution_count": 81,
   "id": "3d2122ac",
   "metadata": {
    "deletable": true,
    "editable": true
   },
   "outputs": [
    {
     "data": {
      "text/html": [
       "<div>\n",
       "<style scoped>\n",
       "    .dataframe tbody tr th:only-of-type {\n",
       "        vertical-align: middle;\n",
       "    }\n",
       "\n",
       "    .dataframe tbody tr th {\n",
       "        vertical-align: top;\n",
       "    }\n",
       "\n",
       "    .dataframe thead th {\n",
       "        text-align: right;\n",
       "    }\n",
       "</style>\n",
       "<table border=\"1\" class=\"dataframe\">\n",
       "  <thead>\n",
       "    <tr style=\"text-align: right;\">\n",
       "      <th></th>\n",
       "      <th>kind</th>\n",
       "      <th>lifetime_cost</th>\n",
       "      <th>longevity</th>\n",
       "      <th>size</th>\n",
       "      <th>weight</th>\n",
       "      <th>height</th>\n",
       "    </tr>\n",
       "    <tr>\n",
       "      <th>breed</th>\n",
       "      <th></th>\n",
       "      <th></th>\n",
       "      <th></th>\n",
       "      <th></th>\n",
       "      <th></th>\n",
       "      <th></th>\n",
       "    </tr>\n",
       "  </thead>\n",
       "  <tbody>\n",
       "    <tr>\n",
       "      <th>German Shorthaired Pointer</th>\n",
       "      <td>sporting</td>\n",
       "      <td>25842.0</td>\n",
       "      <td>11.46</td>\n",
       "      <td>large</td>\n",
       "      <td>62.5</td>\n",
       "      <td>24.0</td>\n",
       "    </tr>\n",
       "    <tr>\n",
       "      <th>Pointer</th>\n",
       "      <td>sporting</td>\n",
       "      <td>24445.0</td>\n",
       "      <td>12.42</td>\n",
       "      <td>large</td>\n",
       "      <td>59.5</td>\n",
       "      <td>25.5</td>\n",
       "    </tr>\n",
       "    <tr>\n",
       "      <th>Labrador Retriever</th>\n",
       "      <td>sporting</td>\n",
       "      <td>21299.0</td>\n",
       "      <td>12.04</td>\n",
       "      <td>medium</td>\n",
       "      <td>67.5</td>\n",
       "      <td>23.0</td>\n",
       "    </tr>\n",
       "    <tr>\n",
       "      <th>...</th>\n",
       "      <td>...</td>\n",
       "      <td>...</td>\n",
       "      <td>...</td>\n",
       "      <td>...</td>\n",
       "      <td>...</td>\n",
       "      <td>...</td>\n",
       "    </tr>\n",
       "    <tr>\n",
       "      <th>Bullmastiff</th>\n",
       "      <td>working</td>\n",
       "      <td>13936.0</td>\n",
       "      <td>7.57</td>\n",
       "      <td>large</td>\n",
       "      <td>115.0</td>\n",
       "      <td>25.5</td>\n",
       "    </tr>\n",
       "    <tr>\n",
       "      <th>Mastiff</th>\n",
       "      <td>working</td>\n",
       "      <td>13581.0</td>\n",
       "      <td>6.50</td>\n",
       "      <td>large</td>\n",
       "      <td>175.0</td>\n",
       "      <td>30.0</td>\n",
       "    </tr>\n",
       "    <tr>\n",
       "      <th>Saint Bernard</th>\n",
       "      <td>working</td>\n",
       "      <td>20022.0</td>\n",
       "      <td>7.78</td>\n",
       "      <td>large</td>\n",
       "      <td>155.0</td>\n",
       "      <td>26.5</td>\n",
       "    </tr>\n",
       "  </tbody>\n",
       "</table>\n",
       "<p>19 rows × 6 columns</p>\n",
       "</div>"
      ],
      "text/plain": [
       "                                kind  lifetime_cost  longevity    size  \\\n",
       "breed                                                                    \n",
       "German Shorthaired Pointer  sporting        25842.0      11.46   large   \n",
       "Pointer                     sporting        24445.0      12.42   large   \n",
       "Labrador Retriever          sporting        21299.0      12.04  medium   \n",
       "...                              ...            ...        ...     ...   \n",
       "Bullmastiff                  working        13936.0       7.57   large   \n",
       "Mastiff                      working        13581.0       6.50   large   \n",
       "Saint Bernard                working        20022.0       7.78   large   \n",
       "\n",
       "                            weight  height  \n",
       "breed                                       \n",
       "German Shorthaired Pointer    62.5    24.0  \n",
       "Pointer                       59.5    25.5  \n",
       "Labrador Retriever            67.5    23.0  \n",
       "...                            ...     ...  \n",
       "Bullmastiff                  115.0    25.5  \n",
       "Mastiff                      175.0    30.0  \n",
       "Saint Bernard                155.0    26.5  \n",
       "\n",
       "[19 rows x 6 columns]"
      ]
     },
     "execution_count": 81,
     "metadata": {},
     "output_type": "execute_result"
    }
   ],
   "source": [
    "dogs.loc[dogs['weight'] >= 50] "
   ]
  },
  {
   "cell_type": "code",
   "execution_count": 82,
   "id": "7759f8f9",
   "metadata": {
    "deletable": true,
    "editable": true,
    "scrolled": true,
    "slideshow": {
     "slide_type": ""
    },
    "tags": []
   },
   "outputs": [
    {
     "data": {
      "text/html": [
       "<div>\n",
       "<style scoped>\n",
       "    .dataframe tbody tr th:only-of-type {\n",
       "        vertical-align: middle;\n",
       "    }\n",
       "\n",
       "    .dataframe tbody tr th {\n",
       "        vertical-align: top;\n",
       "    }\n",
       "\n",
       "    .dataframe thead th {\n",
       "        text-align: right;\n",
       "    }\n",
       "</style>\n",
       "<table border=\"1\" class=\"dataframe\">\n",
       "  <thead>\n",
       "    <tr style=\"text-align: right;\">\n",
       "      <th></th>\n",
       "      <th>kind</th>\n",
       "      <th>lifetime_cost</th>\n",
       "      <th>longevity</th>\n",
       "      <th>size</th>\n",
       "      <th>weight</th>\n",
       "      <th>height</th>\n",
       "    </tr>\n",
       "    <tr>\n",
       "      <th>breed</th>\n",
       "      <th></th>\n",
       "      <th></th>\n",
       "      <th></th>\n",
       "      <th></th>\n",
       "      <th></th>\n",
       "      <th></th>\n",
       "    </tr>\n",
       "  </thead>\n",
       "  <tbody>\n",
       "    <tr>\n",
       "      <th>Labrador Retriever</th>\n",
       "      <td>sporting</td>\n",
       "      <td>21299.0</td>\n",
       "      <td>12.04</td>\n",
       "      <td>medium</td>\n",
       "      <td>67.5</td>\n",
       "      <td>23.00</td>\n",
       "    </tr>\n",
       "    <tr>\n",
       "      <th>Golden Retriever</th>\n",
       "      <td>sporting</td>\n",
       "      <td>21447.0</td>\n",
       "      <td>12.04</td>\n",
       "      <td>medium</td>\n",
       "      <td>60.0</td>\n",
       "      <td>22.75</td>\n",
       "    </tr>\n",
       "    <tr>\n",
       "      <th>Chesapeake Bay Retriever</th>\n",
       "      <td>sporting</td>\n",
       "      <td>16697.0</td>\n",
       "      <td>9.48</td>\n",
       "      <td>large</td>\n",
       "      <td>67.5</td>\n",
       "      <td>23.50</td>\n",
       "    </tr>\n",
       "  </tbody>\n",
       "</table>\n",
       "</div>"
      ],
      "text/plain": [
       "                              kind  lifetime_cost  longevity    size  weight  \\\n",
       "breed                                                                          \n",
       "Labrador Retriever        sporting        21299.0      12.04  medium    67.5   \n",
       "Golden Retriever          sporting        21447.0      12.04  medium    60.0   \n",
       "Chesapeake Bay Retriever  sporting        16697.0       9.48   large    67.5   \n",
       "\n",
       "                          height  \n",
       "breed                             \n",
       "Labrador Retriever         23.00  \n",
       "Golden Retriever           22.75  \n",
       "Chesapeake Bay Retriever   23.50  "
      ]
     },
     "execution_count": 82,
     "metadata": {},
     "output_type": "execute_result"
    }
   ],
   "source": [
    "# .str.contains is very useful!\n",
    "dogs.loc[dogs.index.str.contains('Retriever')] "
   ]
  },
  {
   "cell_type": "code",
   "execution_count": 83,
   "id": "8173e544",
   "metadata": {
    "deletable": true,
    "editable": true,
    "slideshow": {
     "slide_type": ""
    },
    "tags": []
   },
   "outputs": [
    {
     "data": {
      "text/html": [
       "<div>\n",
       "<style scoped>\n",
       "    .dataframe tbody tr th:only-of-type {\n",
       "        vertical-align: middle;\n",
       "    }\n",
       "\n",
       "    .dataframe tbody tr th {\n",
       "        vertical-align: top;\n",
       "    }\n",
       "\n",
       "    .dataframe thead th {\n",
       "        text-align: right;\n",
       "    }\n",
       "</style>\n",
       "<table border=\"1\" class=\"dataframe\">\n",
       "  <thead>\n",
       "    <tr style=\"text-align: right;\">\n",
       "      <th></th>\n",
       "      <th>kind</th>\n",
       "      <th>lifetime_cost</th>\n",
       "      <th>longevity</th>\n",
       "      <th>size</th>\n",
       "      <th>weight</th>\n",
       "      <th>height</th>\n",
       "    </tr>\n",
       "    <tr>\n",
       "      <th>breed</th>\n",
       "      <th></th>\n",
       "      <th></th>\n",
       "      <th></th>\n",
       "      <th></th>\n",
       "      <th></th>\n",
       "      <th></th>\n",
       "    </tr>\n",
       "  </thead>\n",
       "  <tbody>\n",
       "    <tr>\n",
       "      <th>Labrador Retriever</th>\n",
       "      <td>sporting</td>\n",
       "      <td>21299.0</td>\n",
       "      <td>12.04</td>\n",
       "      <td>medium</td>\n",
       "      <td>67.5</td>\n",
       "      <td>23.00</td>\n",
       "    </tr>\n",
       "    <tr>\n",
       "      <th>Golden Retriever</th>\n",
       "      <td>sporting</td>\n",
       "      <td>21447.0</td>\n",
       "      <td>12.04</td>\n",
       "      <td>medium</td>\n",
       "      <td>60.0</td>\n",
       "      <td>22.75</td>\n",
       "    </tr>\n",
       "    <tr>\n",
       "      <th>Chesapeake Bay Retriever</th>\n",
       "      <td>sporting</td>\n",
       "      <td>16697.0</td>\n",
       "      <td>9.48</td>\n",
       "      <td>large</td>\n",
       "      <td>67.5</td>\n",
       "      <td>23.50</td>\n",
       "    </tr>\n",
       "  </tbody>\n",
       "</table>\n",
       "</div>"
      ],
      "text/plain": [
       "                              kind  lifetime_cost  longevity    size  weight  \\\n",
       "breed                                                                          \n",
       "Labrador Retriever        sporting        21299.0      12.04  medium    67.5   \n",
       "Golden Retriever          sporting        21447.0      12.04  medium    60.0   \n",
       "Chesapeake Bay Retriever  sporting        16697.0       9.48   large    67.5   \n",
       "\n",
       "                          height  \n",
       "breed                             \n",
       "Labrador Retriever         23.00  \n",
       "Golden Retriever           22.75  \n",
       "Chesapeake Bay Retriever   23.50  "
      ]
     },
     "execution_count": 83,
     "metadata": {},
     "output_type": "execute_result"
    }
   ],
   "source": [
    "# Because querying is so common, there's a shortcut:\n",
    "dogs[dogs.index.str.contains('Retriever')] "
   ]
  },
  {
   "cell_type": "code",
   "execution_count": 84,
   "id": "c88b6c3b",
   "metadata": {
    "deletable": true,
    "editable": true
   },
   "outputs": [
    {
     "data": {
      "text/html": [
       "<div>\n",
       "<style scoped>\n",
       "    .dataframe tbody tr th:only-of-type {\n",
       "        vertical-align: middle;\n",
       "    }\n",
       "\n",
       "    .dataframe tbody tr th {\n",
       "        vertical-align: top;\n",
       "    }\n",
       "\n",
       "    .dataframe thead th {\n",
       "        text-align: right;\n",
       "    }\n",
       "</style>\n",
       "<table border=\"1\" class=\"dataframe\">\n",
       "  <thead>\n",
       "    <tr style=\"text-align: right;\">\n",
       "      <th></th>\n",
       "      <th>kind</th>\n",
       "      <th>lifetime_cost</th>\n",
       "      <th>longevity</th>\n",
       "      <th>size</th>\n",
       "      <th>weight</th>\n",
       "      <th>height</th>\n",
       "    </tr>\n",
       "    <tr>\n",
       "      <th>breed</th>\n",
       "      <th></th>\n",
       "      <th></th>\n",
       "      <th></th>\n",
       "      <th></th>\n",
       "      <th></th>\n",
       "      <th></th>\n",
       "    </tr>\n",
       "  </thead>\n",
       "  <tbody>\n",
       "  </tbody>\n",
       "</table>\n",
       "</div>"
      ],
      "text/plain": [
       "Empty DataFrame\n",
       "Columns: [kind, lifetime_cost, longevity, size, weight, height]\n",
       "Index: []"
      ]
     },
     "execution_count": 84,
     "metadata": {},
     "output_type": "execute_result"
    }
   ],
   "source": [
    "# Empty DataFrame – not an error!\n",
    "dogs.loc[dogs['kind'] == 'beaver'] "
   ]
  },
  {
   "cell_type": "markdown",
   "id": "091d5c91",
   "metadata": {
    "deletable": true,
    "editable": true,
    "slideshow": {
     "slide_type": "slide"
    }
   },
   "source": [
    "<div class=\"alert alert-success\">\n",
    "<h3>Activity</h3>\n",
    "    \n",
    "Assign `second_tallest` to the `'size'` of the second-tallest `'sporting'` breed, as a string. Answer using `pandas` code, i.e. **don't** look at the dataset and hard-code the answer."
   ]
  },
  {
   "cell_type": "code",
   "execution_count": 89,
   "id": "3cfe1ca2",
   "metadata": {
    "deletable": true,
    "editable": true
   },
   "outputs": [
    {
     "data": {
      "text/plain": [
       "'large'"
      ]
     },
     "execution_count": 89,
     "metadata": {},
     "output_type": "execute_result"
    }
   ],
   "source": [
    "second_tallest = (\n",
    "    dogs[dogs['kind'] == 'sporting']\n",
    "    .sort_values('height', ascending=False)\n",
    "    ['size']\n",
    "    .iloc[1]\n",
    ")\n",
    "second_tallest"
   ]
  },
  {
   "cell_type": "code",
   "execution_count": null,
   "id": "ec617f87",
   "metadata": {
    "deletable": true,
    "editable": true
   },
   "outputs": [],
   "source": []
  },
  {
   "cell_type": "code",
   "execution_count": null,
   "id": "4238de7b",
   "metadata": {
    "deletable": true,
    "editable": true
   },
   "outputs": [],
   "source": []
  },
  {
   "cell_type": "markdown",
   "id": "78eecd81",
   "metadata": {
    "deletable": true,
    "editable": true,
    "slideshow": {
     "slide_type": "slide"
    }
   },
   "source": [
    "### Lingering questions"
   ]
  },
  {
   "cell_type": "markdown",
   "id": "d15bf70e",
   "metadata": {
    "deletable": true,
    "editable": true,
    "slideshow": {
     "slide_type": "fragment"
    }
   },
   "source": [
    "- How do we use multiple conditions?<br><small>We actually covered the answer to this in Lecture 3 – try it out yourself!</small>"
   ]
  },
  {
   "cell_type": "markdown",
   "id": "41371bbf",
   "metadata": {
    "deletable": true,
    "editable": true,
    "slideshow": {
     "slide_type": "fragment"
    }
   },
   "source": [
    "- There's a DataFrame `query` method – how does it work, and how is it different from what we've seen here?"
   ]
  },
  {
   "cell_type": "markdown",
   "id": "0f1ec7b1",
   "metadata": {
    "deletable": true,
    "editable": true,
    "slideshow": {
     "slide_type": "fragment"
    }
   },
   "source": [
    "- How do we find the average longevity of every `'kind'` without having to copy-paste a lot of code?"
   ]
  },
  {
   "cell_type": "markdown",
   "id": "11cdf86a",
   "metadata": {
    "deletable": true,
    "editable": true,
    "slideshow": {
     "slide_type": "fragment"
    }
   },
   "source": [
    "- We'll find out on Tuesday!"
   ]
  }
 ],
 "metadata": {
  "celltoolbar": "None",
  "kernelspec": {
   "display_name": "pds",
   "language": "python",
   "name": "python3"
  },
  "language_info": {
   "codemirror_mode": {
    "name": "ipython",
    "version": 3
   },
   "file_extension": ".py",
   "mimetype": "text/x-python",
   "name": "python",
   "nbconvert_exporter": "python",
   "pygments_lexer": "ipython3",
   "version": "3.10.14"
  },
  "livereveal": {
   "scroll": true
  },
  "rise": {
   "transition": "none"
  }
 },
 "nbformat": 4,
 "nbformat_minor": 5
}
