{
 "cells": [
  {
   "cell_type": "code",
   "execution_count": 1,
   "id": "b3afe137",
   "metadata": {
    "deletable": true,
    "editable": true,
    "slideshow": {
     "slide_type": "skip"
    }
   },
   "outputs": [],
   "source": [
    "from lec_utils import *\n",
    "import lec19_util as util"
   ]
  },
  {
   "cell_type": "markdown",
   "id": "c9d6823b",
   "metadata": {
    "deletable": true,
    "editable": true,
    "slideshow": {
     "slide_type": "slide"
    },
    "tags": []
   },
   "source": [
    "<div class=\"alert alert-info\" markdown=\"1\">\n",
    "\n",
    "#### Lecture 19\n",
    "\n",
    "# Pipelines, Generalization\n",
    "\n",
    "### EECS 398-003: Practical Data Science, Fall 2024\n",
    "\n",
    "<small><a style=\"text-decoration: none\" href=\"https://practicaldsc.org\">practicaldsc.org</a> • <a style=\"text-decoration: none\" href=\"https://github.com/practicaldsc/fa24\">github.com/practicaldsc/fa24</a></small>\n",
    "    \n",
    "</div>\n",
    "\n",
    "<script type=\"text/x-mathjax-config\">\n",
    "  MathJax.Hub.Config({\n",
    "    TeX: {\n",
    "      extensions: [\"color.js\"],\n",
    "      packages: {\"[+]\": [\"color\"]},\n",
    "    }\n",
    "  });\n",
    "  </script>\n",
    "  <script src=\"https://cdnjs.cloudflare.com/ajax/libs/mathjax/2.7.5/MathJax.js?config=TeX-AMS_HTML\"></script>"
   ]
  },
  {
   "cell_type": "markdown",
   "id": "95b023e3",
   "metadata": {
    "deletable": true,
    "editable": true,
    "slideshow": {
     "slide_type": "slide"
    }
   },
   "source": [
    "<center><img src=\"imgs/interpolation.png\" width=700><br>(<a href=\"https://x.com/Luky_BB/status/1852511393297342756\">source)</center>"
   ]
  },
  {
   "cell_type": "markdown",
   "id": "35564024",
   "metadata": {
    "deletable": true,
    "editable": true,
    "slideshow": {
     "slide_type": "slide"
    }
   },
   "source": [
    "### Announcements 📣\n",
    "\n",
    "- Homework 9 is due on **Monday, November 11th**.\n",
    "- The Portfolio Homework will be released by tomorrow.\n",
    "- Homework 8 solutions can be found in [**#282 on Ed**](https://edstem.org/us/courses/61012/discussion/5648287)."
   ]
  },
  {
   "cell_type": "markdown",
   "id": "678102c2",
   "metadata": {
    "deletable": true,
    "editable": true,
    "slideshow": {
     "slide_type": "slide"
    }
   },
   "source": [
    "### Come say hi on Thursday!\n",
    "\n",
    "A few other professors and I are hosting a faculty-student panel, where you can learn more about our career (and personal) paths. Come say hi – there will be pizza 🍕!\n",
    "\n",
    "<center><img src=\"imgs/CSE Panel 11_7.png\" width=400></center>\n",
    "\n",
    "[**RSVP here**](https://docs.google.com/forms/d/e/1FAIpQLSchVg5byJC5cHJrUit8_e8d_Nb8NGEHk_vPKRWR3BBcnsq2gw/viewform)."
   ]
  },
  {
   "cell_type": "markdown",
   "id": "386ab7dc",
   "metadata": {
    "deletable": true,
    "editable": true,
    "slideshow": {
     "slide_type": "slide"
    }
   },
   "source": [
    "### Agenda\n",
    "\n",
    "- Pipelines.\n",
    "- Generalization.\n",
    "- Train-test splits.\n",
    "- Hyperparameters."
   ]
  },
  {
   "cell_type": "markdown",
   "id": "d8ccc812",
   "metadata": {
    "deletable": true,
    "editable": true,
    "slideshow": {
     "slide_type": "slide"
    }
   },
   "source": [
    "<div class=\"alert alert-warning\">\n",
    "    <h3>Question 🤔 (Answer at <a style=\"text-decoration: none; color: #0066cc\" href=\"https://docs.google.com/forms/d/e/1FAIpQLSd4oliiZYeNh76jWy-arfEtoAkCrVSsobZxPwxifWggo3EO0Q/viewform\">practicaldsc.org/q</a>)</h3>\n",
    "    \n",
    "Remember that you can always ask questions anonymously at the link above!"
   ]
  },
  {
   "cell_type": "markdown",
   "id": "5d1b1b9d",
   "metadata": {
    "deletable": true,
    "editable": true,
    "slideshow": {
     "slide_type": "slide"
    }
   },
   "source": [
    "## Pipelines\n",
    "\n",
    "---"
   ]
  },
  {
   "cell_type": "markdown",
   "id": "88d85b1f",
   "metadata": {
    "deletable": true,
    "editable": true,
    "slideshow": {
     "slide_type": "slide"
    }
   },
   "source": [
    "### Loading the data"
   ]
  },
  {
   "cell_type": "markdown",
   "id": "e954356b",
   "metadata": {
    "deletable": true,
    "editable": true,
    "slideshow": {
     "slide_type": "fragment"
    }
   },
   "source": [
    "- We'll start with our trusty commute times dataset."
   ]
  },
  {
   "cell_type": "code",
   "execution_count": 2,
   "id": "ebbe3749",
   "metadata": {
    "deletable": true,
    "editable": true
   },
   "outputs": [
    {
     "data": {
      "text/html": [
       "<div>\n",
       "<style scoped>\n",
       "    .dataframe tbody tr th:only-of-type {\n",
       "        vertical-align: middle;\n",
       "    }\n",
       "\n",
       "    .dataframe tbody tr th {\n",
       "        vertical-align: top;\n",
       "    }\n",
       "\n",
       "    .dataframe thead th {\n",
       "        text-align: right;\n",
       "    }\n",
       "</style>\n",
       "<table border=\"1\" class=\"dataframe\">\n",
       "  <thead>\n",
       "    <tr style=\"text-align: right;\">\n",
       "      <th></th>\n",
       "      <th>date</th>\n",
       "      <th>day</th>\n",
       "      <th>home_departure_time</th>\n",
       "      <th>home_departure_mileage</th>\n",
       "      <th>...</th>\n",
       "      <th>work_departure_time_hr</th>\n",
       "      <th>mileage_to_home</th>\n",
       "      <th>day_of_month</th>\n",
       "      <th>month</th>\n",
       "    </tr>\n",
       "  </thead>\n",
       "  <tbody>\n",
       "    <tr>\n",
       "      <th>0</th>\n",
       "      <td>5/15/2023</td>\n",
       "      <td>Mon</td>\n",
       "      <td>2023-05-15 10:49:00</td>\n",
       "      <td>15873.0</td>\n",
       "      <td>...</td>\n",
       "      <td>17.17</td>\n",
       "      <td>53.0</td>\n",
       "      <td>15</td>\n",
       "      <td>May</td>\n",
       "    </tr>\n",
       "    <tr>\n",
       "      <th>1</th>\n",
       "      <td>5/16/2023</td>\n",
       "      <td>Tue</td>\n",
       "      <td>2023-05-16 07:45:00</td>\n",
       "      <td>15979.0</td>\n",
       "      <td>...</td>\n",
       "      <td>NaN</td>\n",
       "      <td>NaN</td>\n",
       "      <td>16</td>\n",
       "      <td>May</td>\n",
       "    </tr>\n",
       "    <tr>\n",
       "      <th>2</th>\n",
       "      <td>5/22/2023</td>\n",
       "      <td>Mon</td>\n",
       "      <td>2023-05-22 08:27:00</td>\n",
       "      <td>50407.0</td>\n",
       "      <td>...</td>\n",
       "      <td>15.90</td>\n",
       "      <td>54.0</td>\n",
       "      <td>22</td>\n",
       "      <td>May</td>\n",
       "    </tr>\n",
       "    <tr>\n",
       "      <th>3</th>\n",
       "      <td>5/23/2023</td>\n",
       "      <td>Tue</td>\n",
       "      <td>2023-05-23 07:08:00</td>\n",
       "      <td>50535.0</td>\n",
       "      <td>...</td>\n",
       "      <td>NaN</td>\n",
       "      <td>NaN</td>\n",
       "      <td>23</td>\n",
       "      <td>May</td>\n",
       "    </tr>\n",
       "    <tr>\n",
       "      <th>4</th>\n",
       "      <td>5/30/2023</td>\n",
       "      <td>Tue</td>\n",
       "      <td>2023-05-30 09:09:00</td>\n",
       "      <td>50664.0</td>\n",
       "      <td>...</td>\n",
       "      <td>17.12</td>\n",
       "      <td>54.0</td>\n",
       "      <td>30</td>\n",
       "      <td>May</td>\n",
       "    </tr>\n",
       "  </tbody>\n",
       "</table>\n",
       "<p>5 rows × 20 columns</p>\n",
       "</div>"
      ],
      "text/plain": [
       "        date  day  home_departure_time  home_departure_mileage  ...  \\\n",
       "0  5/15/2023  Mon  2023-05-15 10:49:00                 15873.0  ...   \n",
       "1  5/16/2023  Tue  2023-05-16 07:45:00                 15979.0  ...   \n",
       "2  5/22/2023  Mon  2023-05-22 08:27:00                 50407.0  ...   \n",
       "3  5/23/2023  Tue  2023-05-23 07:08:00                 50535.0  ...   \n",
       "4  5/30/2023  Tue  2023-05-30 09:09:00                 50664.0  ...   \n",
       "\n",
       "  work_departure_time_hr  mileage_to_home day_of_month month  \n",
       "0                  17.17             53.0           15   May  \n",
       "1                    NaN              NaN           16   May  \n",
       "2                  15.90             54.0           22   May  \n",
       "3                    NaN              NaN           23   May  \n",
       "4                  17.12             54.0           30   May  \n",
       "\n",
       "[5 rows x 20 columns]"
      ]
     },
     "execution_count": 2,
     "metadata": {},
     "output_type": "execute_result"
    }
   ],
   "source": [
    "df = pd.read_csv('data/commute-times.csv')\n",
    "df['day_of_month'] = pd.to_datetime(df['date']).dt.day\n",
    "df['month'] = pd.to_datetime(df['date']).dt.month_name()\n",
    "df.head()"
   ]
  },
  {
   "cell_type": "markdown",
   "id": "9c8df3d0",
   "metadata": {
    "deletable": true,
    "editable": true,
    "slideshow": {
     "slide_type": "fragment"
    }
   },
   "source": [
    "- Our goal, as always, is to predict commute time in `'minutes'`:"
   ]
  },
  {
   "cell_type": "code",
   "execution_count": 3,
   "id": "89ec4cc9",
   "metadata": {
    "deletable": true,
    "editable": true
   },
   "outputs": [
    {
     "data": {
      "text/plain": [
       "0     68.0\n",
       "1     94.0\n",
       "2     63.0\n",
       "      ... \n",
       "62    68.0\n",
       "63    90.0\n",
       "64    83.0\n",
       "Name: minutes, Length: 65, dtype: float64"
      ]
     },
     "execution_count": 3,
     "metadata": {},
     "output_type": "execute_result"
    }
   ],
   "source": [
    "df['minutes']"
   ]
  },
  {
   "cell_type": "markdown",
   "id": "d07625c4",
   "metadata": {
    "deletable": true,
    "editable": true,
    "slideshow": {
     "slide_type": "fragment"
    }
   },
   "source": [
    "- The main numerical feature we have is `'departure_hour'`."
   ]
  },
  {
   "cell_type": "code",
   "execution_count": 4,
   "id": "3a1ad7b1",
   "metadata": {
    "deletable": true,
    "editable": true,
    "scrolled": true
   },
   "outputs": [
    {
     "data": {
      "application/vnd.plotly.v1+json": {
       "config": {
        "plotlyServerURL": "https://plot.ly"
       },
       "data": [
        {
         "hovertemplate": "departure_hour=%{x}<br>minutes=%{y}<extra></extra>",
         "legendgroup": "",
         "marker": {
          "color": "#1F77B4",
          "symbol": "circle"
         },
         "mode": "markers",
         "name": "",
         "orientation": "v",
         "showlegend": false,
         "type": "scatter",
         "x": [
          10.816666666666666,
          7.75,
          8.450000000000001,
          7.133333333333334,
          9.15,
          8.166666666666668,
          9.2,
          6.05,
          8.216666666666669,
          9.283333333333331,
          8.033333333333333,
          9.516666666666667,
          7.966666666666667,
          9.883333333333333,
          7.9,
          7.85,
          7.933333333333334,
          7.95,
          8.55,
          8.433333333333334,
          9.75,
          8.616666666666667,
          8.466666666666669,
          10.466666666666669,
          8.233333333333334,
          8.483333333333334,
          7.966666666666667,
          8.250000000000002,
          7.833333333333333,
          8.4,
          8.9,
          10.533333333333331,
          10.566666666666666,
          10.783333333333331,
          9.133333333333333,
          7.95,
          8.316666666666668,
          8.433333333333334,
          8.4,
          8.950000000000001,
          8.583333333333334,
          8.750000000000002,
          9.733333333333333,
          8.716666666666669,
          10.583333333333334,
          9.55,
          9.083333333333334,
          7.833333333333333,
          8.8,
          8.983333333333334,
          6.133333333333334,
          6.45,
          7.75,
          8.216666666666669,
          7.783333333333333,
          8.083333333333334,
          7.683333333333334,
          7.466666666666667,
          7.6,
          7.766666666666667,
          7.516666666666667,
          7.55,
          7.583333333333333,
          7.45,
          7.6
         ],
         "xaxis": "x",
         "y": [
          68.00000000000001,
          94,
          63.00000000000001,
          100,
          69,
          74,
          61.00000000000001,
          134.00000000000003,
          62.00000000000001,
          67.00000000000001,
          76,
          67.00000000000001,
          73,
          64.00000000000001,
          77,
          65.00000000000001,
          78,
          75,
          75,
          75,
          60,
          63.00000000000001,
          72,
          59,
          64.00000000000001,
          72,
          72,
          86,
          66.00000000000001,
          67.00000000000001,
          89,
          56,
          57,
          67.00000000000001,
          67.00000000000001,
          73,
          84,
          64.00000000000001,
          61.00000000000001,
          77,
          60,
          68.00000000000001,
          56,
          89,
          59,
          71,
          64.00000000000001,
          75,
          71,
          73,
          84,
          106,
          78,
          68.00000000000001,
          71,
          69,
          71,
          66.00000000000001,
          78,
          70,
          85,
          91,
          68.00000000000001,
          90,
          83
         ],
         "yaxis": "y"
        }
       ],
       "layout": {
        "legend": {
         "tracegroupgap": 0
        },
        "template": {
         "data": {
          "bar": [
           {
            "error_x": {
             "color": "rgb(36,36,36)"
            },
            "error_y": {
             "color": "rgb(36,36,36)"
            },
            "marker": {
             "line": {
              "color": "white",
              "width": 0.5
             },
             "pattern": {
              "fillmode": "overlay",
              "size": 10,
              "solidity": 0.2
             }
            },
            "type": "bar"
           }
          ],
          "barpolar": [
           {
            "marker": {
             "line": {
              "color": "white",
              "width": 0.5
             },
             "pattern": {
              "fillmode": "overlay",
              "size": 10,
              "solidity": 0.2
             }
            },
            "type": "barpolar"
           }
          ],
          "carpet": [
           {
            "aaxis": {
             "endlinecolor": "rgb(36,36,36)",
             "gridcolor": "white",
             "linecolor": "white",
             "minorgridcolor": "white",
             "startlinecolor": "rgb(36,36,36)"
            },
            "baxis": {
             "endlinecolor": "rgb(36,36,36)",
             "gridcolor": "white",
             "linecolor": "white",
             "minorgridcolor": "white",
             "startlinecolor": "rgb(36,36,36)"
            },
            "type": "carpet"
           }
          ],
          "choropleth": [
           {
            "colorbar": {
             "outlinewidth": 1,
             "tickcolor": "rgb(36,36,36)",
             "ticks": "outside"
            },
            "type": "choropleth"
           }
          ],
          "contour": [
           {
            "colorbar": {
             "outlinewidth": 1,
             "tickcolor": "rgb(36,36,36)",
             "ticks": "outside"
            },
            "colorscale": [
             [
              0,
              "#440154"
             ],
             [
              0.1111111111111111,
              "#482878"
             ],
             [
              0.2222222222222222,
              "#3e4989"
             ],
             [
              0.3333333333333333,
              "#31688e"
             ],
             [
              0.4444444444444444,
              "#26828e"
             ],
             [
              0.5555555555555556,
              "#1f9e89"
             ],
             [
              0.6666666666666666,
              "#35b779"
             ],
             [
              0.7777777777777778,
              "#6ece58"
             ],
             [
              0.8888888888888888,
              "#b5de2b"
             ],
             [
              1,
              "#fde725"
             ]
            ],
            "type": "contour"
           }
          ],
          "contourcarpet": [
           {
            "colorbar": {
             "outlinewidth": 1,
             "tickcolor": "rgb(36,36,36)",
             "ticks": "outside"
            },
            "type": "contourcarpet"
           }
          ],
          "heatmap": [
           {
            "colorbar": {
             "outlinewidth": 1,
             "tickcolor": "rgb(36,36,36)",
             "ticks": "outside"
            },
            "colorscale": [
             [
              0,
              "#440154"
             ],
             [
              0.1111111111111111,
              "#482878"
             ],
             [
              0.2222222222222222,
              "#3e4989"
             ],
             [
              0.3333333333333333,
              "#31688e"
             ],
             [
              0.4444444444444444,
              "#26828e"
             ],
             [
              0.5555555555555556,
              "#1f9e89"
             ],
             [
              0.6666666666666666,
              "#35b779"
             ],
             [
              0.7777777777777778,
              "#6ece58"
             ],
             [
              0.8888888888888888,
              "#b5de2b"
             ],
             [
              1,
              "#fde725"
             ]
            ],
            "type": "heatmap"
           }
          ],
          "heatmapgl": [
           {
            "colorbar": {
             "outlinewidth": 1,
             "tickcolor": "rgb(36,36,36)",
             "ticks": "outside"
            },
            "colorscale": [
             [
              0,
              "#440154"
             ],
             [
              0.1111111111111111,
              "#482878"
             ],
             [
              0.2222222222222222,
              "#3e4989"
             ],
             [
              0.3333333333333333,
              "#31688e"
             ],
             [
              0.4444444444444444,
              "#26828e"
             ],
             [
              0.5555555555555556,
              "#1f9e89"
             ],
             [
              0.6666666666666666,
              "#35b779"
             ],
             [
              0.7777777777777778,
              "#6ece58"
             ],
             [
              0.8888888888888888,
              "#b5de2b"
             ],
             [
              1,
              "#fde725"
             ]
            ],
            "type": "heatmapgl"
           }
          ],
          "histogram": [
           {
            "marker": {
             "line": {
              "color": "white",
              "width": 0.6
             }
            },
            "type": "histogram"
           }
          ],
          "histogram2d": [
           {
            "colorbar": {
             "outlinewidth": 1,
             "tickcolor": "rgb(36,36,36)",
             "ticks": "outside"
            },
            "colorscale": [
             [
              0,
              "#440154"
             ],
             [
              0.1111111111111111,
              "#482878"
             ],
             [
              0.2222222222222222,
              "#3e4989"
             ],
             [
              0.3333333333333333,
              "#31688e"
             ],
             [
              0.4444444444444444,
              "#26828e"
             ],
             [
              0.5555555555555556,
              "#1f9e89"
             ],
             [
              0.6666666666666666,
              "#35b779"
             ],
             [
              0.7777777777777778,
              "#6ece58"
             ],
             [
              0.8888888888888888,
              "#b5de2b"
             ],
             [
              1,
              "#fde725"
             ]
            ],
            "type": "histogram2d"
           }
          ],
          "histogram2dcontour": [
           {
            "colorbar": {
             "outlinewidth": 1,
             "tickcolor": "rgb(36,36,36)",
             "ticks": "outside"
            },
            "colorscale": [
             [
              0,
              "#440154"
             ],
             [
              0.1111111111111111,
              "#482878"
             ],
             [
              0.2222222222222222,
              "#3e4989"
             ],
             [
              0.3333333333333333,
              "#31688e"
             ],
             [
              0.4444444444444444,
              "#26828e"
             ],
             [
              0.5555555555555556,
              "#1f9e89"
             ],
             [
              0.6666666666666666,
              "#35b779"
             ],
             [
              0.7777777777777778,
              "#6ece58"
             ],
             [
              0.8888888888888888,
              "#b5de2b"
             ],
             [
              1,
              "#fde725"
             ]
            ],
            "type": "histogram2dcontour"
           }
          ],
          "mesh3d": [
           {
            "colorbar": {
             "outlinewidth": 1,
             "tickcolor": "rgb(36,36,36)",
             "ticks": "outside"
            },
            "type": "mesh3d"
           }
          ],
          "parcoords": [
           {
            "line": {
             "colorbar": {
              "outlinewidth": 1,
              "tickcolor": "rgb(36,36,36)",
              "ticks": "outside"
             }
            },
            "type": "parcoords"
           }
          ],
          "pie": [
           {
            "automargin": true,
            "type": "pie"
           }
          ],
          "scatter": [
           {
            "fillpattern": {
             "fillmode": "overlay",
             "size": 10,
             "solidity": 0.2
            },
            "type": "scatter"
           }
          ],
          "scatter3d": [
           {
            "line": {
             "colorbar": {
              "outlinewidth": 1,
              "tickcolor": "rgb(36,36,36)",
              "ticks": "outside"
             }
            },
            "marker": {
             "colorbar": {
              "outlinewidth": 1,
              "tickcolor": "rgb(36,36,36)",
              "ticks": "outside"
             }
            },
            "type": "scatter3d"
           }
          ],
          "scattercarpet": [
           {
            "marker": {
             "colorbar": {
              "outlinewidth": 1,
              "tickcolor": "rgb(36,36,36)",
              "ticks": "outside"
             }
            },
            "type": "scattercarpet"
           }
          ],
          "scattergeo": [
           {
            "marker": {
             "colorbar": {
              "outlinewidth": 1,
              "tickcolor": "rgb(36,36,36)",
              "ticks": "outside"
             }
            },
            "type": "scattergeo"
           }
          ],
          "scattergl": [
           {
            "marker": {
             "colorbar": {
              "outlinewidth": 1,
              "tickcolor": "rgb(36,36,36)",
              "ticks": "outside"
             }
            },
            "type": "scattergl"
           }
          ],
          "scattermapbox": [
           {
            "marker": {
             "colorbar": {
              "outlinewidth": 1,
              "tickcolor": "rgb(36,36,36)",
              "ticks": "outside"
             }
            },
            "type": "scattermapbox"
           }
          ],
          "scatterpolar": [
           {
            "marker": {
             "colorbar": {
              "outlinewidth": 1,
              "tickcolor": "rgb(36,36,36)",
              "ticks": "outside"
             }
            },
            "type": "scatterpolar"
           }
          ],
          "scatterpolargl": [
           {
            "marker": {
             "colorbar": {
              "outlinewidth": 1,
              "tickcolor": "rgb(36,36,36)",
              "ticks": "outside"
             }
            },
            "type": "scatterpolargl"
           }
          ],
          "scatterternary": [
           {
            "marker": {
             "colorbar": {
              "outlinewidth": 1,
              "tickcolor": "rgb(36,36,36)",
              "ticks": "outside"
             }
            },
            "type": "scatterternary"
           }
          ],
          "surface": [
           {
            "colorbar": {
             "outlinewidth": 1,
             "tickcolor": "rgb(36,36,36)",
             "ticks": "outside"
            },
            "colorscale": [
             [
              0,
              "#440154"
             ],
             [
              0.1111111111111111,
              "#482878"
             ],
             [
              0.2222222222222222,
              "#3e4989"
             ],
             [
              0.3333333333333333,
              "#31688e"
             ],
             [
              0.4444444444444444,
              "#26828e"
             ],
             [
              0.5555555555555556,
              "#1f9e89"
             ],
             [
              0.6666666666666666,
              "#35b779"
             ],
             [
              0.7777777777777778,
              "#6ece58"
             ],
             [
              0.8888888888888888,
              "#b5de2b"
             ],
             [
              1,
              "#fde725"
             ]
            ],
            "type": "surface"
           }
          ],
          "table": [
           {
            "cells": {
             "fill": {
              "color": "rgb(237,237,237)"
             },
             "line": {
              "color": "white"
             }
            },
            "header": {
             "fill": {
              "color": "rgb(217,217,217)"
             },
             "line": {
              "color": "white"
             }
            },
            "type": "table"
           }
          ]
         },
         "layout": {
          "annotationdefaults": {
           "arrowhead": 0,
           "arrowwidth": 1
          },
          "autosize": true,
          "autotypenumbers": "strict",
          "coloraxis": {
           "colorbar": {
            "outlinewidth": 1,
            "tickcolor": "rgb(36,36,36)",
            "ticks": "outside"
           }
          },
          "colorscale": {
           "diverging": [
            [
             0,
             "rgb(103,0,31)"
            ],
            [
             0.1,
             "rgb(178,24,43)"
            ],
            [
             0.2,
             "rgb(214,96,77)"
            ],
            [
             0.3,
             "rgb(244,165,130)"
            ],
            [
             0.4,
             "rgb(253,219,199)"
            ],
            [
             0.5,
             "rgb(247,247,247)"
            ],
            [
             0.6,
             "rgb(209,229,240)"
            ],
            [
             0.7,
             "rgb(146,197,222)"
            ],
            [
             0.8,
             "rgb(67,147,195)"
            ],
            [
             0.9,
             "rgb(33,102,172)"
            ],
            [
             1,
             "rgb(5,48,97)"
            ]
           ],
           "sequential": [
            [
             0,
             "#440154"
            ],
            [
             0.1111111111111111,
             "#482878"
            ],
            [
             0.2222222222222222,
             "#3e4989"
            ],
            [
             0.3333333333333333,
             "#31688e"
            ],
            [
             0.4444444444444444,
             "#26828e"
            ],
            [
             0.5555555555555556,
             "#1f9e89"
            ],
            [
             0.6666666666666666,
             "#35b779"
            ],
            [
             0.7777777777777778,
             "#6ece58"
            ],
            [
             0.8888888888888888,
             "#b5de2b"
            ],
            [
             1,
             "#fde725"
            ]
           ],
           "sequentialminus": [
            [
             0,
             "#440154"
            ],
            [
             0.1111111111111111,
             "#482878"
            ],
            [
             0.2222222222222222,
             "#3e4989"
            ],
            [
             0.3333333333333333,
             "#31688e"
            ],
            [
             0.4444444444444444,
             "#26828e"
            ],
            [
             0.5555555555555556,
             "#1f9e89"
            ],
            [
             0.6666666666666666,
             "#35b779"
            ],
            [
             0.7777777777777778,
             "#6ece58"
            ],
            [
             0.8888888888888888,
             "#b5de2b"
            ],
            [
             1,
             "#fde725"
            ]
           ]
          },
          "colorway": [
           "#1F77B4",
           "#FF7F0E",
           "#2CA02C",
           "#D62728",
           "#9467BD",
           "#8C564B",
           "#E377C2",
           "#7F7F7F",
           "#BCBD22",
           "#17BECF"
          ],
          "font": {
           "color": "rgb(36,36,36)"
          },
          "geo": {
           "bgcolor": "white",
           "lakecolor": "white",
           "landcolor": "white",
           "showlakes": true,
           "showland": true,
           "subunitcolor": "white"
          },
          "height": 400,
          "hoverlabel": {
           "align": "left"
          },
          "hovermode": "closest",
          "mapbox": {
           "style": "light"
          },
          "margin": {
           "b": 30,
           "l": 30,
           "r": 30,
           "t": 30
          },
          "paper_bgcolor": "white",
          "plot_bgcolor": "white",
          "polar": {
           "angularaxis": {
            "gridcolor": "rgb(232,232,232)",
            "linecolor": "rgb(36,36,36)",
            "showgrid": false,
            "showline": true,
            "ticks": "outside"
           },
           "bgcolor": "white",
           "radialaxis": {
            "gridcolor": "rgb(232,232,232)",
            "linecolor": "rgb(36,36,36)",
            "showgrid": false,
            "showline": true,
            "ticks": "outside"
           }
          },
          "scene": {
           "xaxis": {
            "backgroundcolor": "white",
            "gridcolor": "rgb(232,232,232)",
            "gridwidth": 2,
            "linecolor": "rgb(36,36,36)",
            "showbackground": true,
            "showgrid": false,
            "showline": true,
            "ticks": "outside",
            "zeroline": false,
            "zerolinecolor": "rgb(36,36,36)"
           },
           "yaxis": {
            "backgroundcolor": "white",
            "gridcolor": "rgb(232,232,232)",
            "gridwidth": 2,
            "linecolor": "rgb(36,36,36)",
            "showbackground": true,
            "showgrid": false,
            "showline": true,
            "ticks": "outside",
            "zeroline": false,
            "zerolinecolor": "rgb(36,36,36)"
           },
           "zaxis": {
            "backgroundcolor": "white",
            "gridcolor": "rgb(232,232,232)",
            "gridwidth": 2,
            "linecolor": "rgb(36,36,36)",
            "showbackground": true,
            "showgrid": false,
            "showline": true,
            "ticks": "outside",
            "zeroline": false,
            "zerolinecolor": "rgb(36,36,36)"
           }
          },
          "shapedefaults": {
           "fillcolor": "black",
           "line": {
            "width": 0
           },
           "opacity": 0.3
          },
          "ternary": {
           "aaxis": {
            "gridcolor": "rgb(232,232,232)",
            "linecolor": "rgb(36,36,36)",
            "showgrid": false,
            "showline": true,
            "ticks": "outside"
           },
           "baxis": {
            "gridcolor": "rgb(232,232,232)",
            "linecolor": "rgb(36,36,36)",
            "showgrid": false,
            "showline": true,
            "ticks": "outside"
           },
           "bgcolor": "white",
           "caxis": {
            "gridcolor": "rgb(232,232,232)",
            "linecolor": "rgb(36,36,36)",
            "showgrid": false,
            "showline": true,
            "ticks": "outside"
           }
          },
          "title": {
           "x": 0.5,
           "xanchor": "center"
          },
          "width": 600,
          "xaxis": {
           "automargin": true,
           "gridcolor": "rgb(232,232,232)",
           "linecolor": "rgb(36,36,36)",
           "showgrid": true,
           "showline": true,
           "ticks": "outside",
           "title": {
            "standoff": 15
           },
           "zeroline": false,
           "zerolinecolor": "rgb(36,36,36)"
          },
          "yaxis": {
           "automargin": true,
           "gridcolor": "rgb(232,232,232)",
           "linecolor": "rgb(36,36,36)",
           "showgrid": true,
           "showline": true,
           "ticks": "outside",
           "title": {
            "standoff": 15
           },
           "zeroline": false,
           "zerolinecolor": "rgb(36,36,36)"
          }
         }
        },
        "title": {
         "text": "Commuting Time vs. Home Departure Time"
        },
        "xaxis": {
         "anchor": "y",
         "domain": [
          0,
          1
         ],
         "title": {
          "text": "Home Departure Time (AM)"
         }
        },
        "yaxis": {
         "anchor": "x",
         "domain": [
          0,
          1
         ],
         "title": {
          "text": "Minutes"
         }
        }
       }
      }
     },
     "metadata": {},
     "output_type": "display_data"
    }
   ],
   "source": [
    "(\n",
    "    df\n",
    "    .plot(kind='scatter', x='departure_hour', y='minutes')\n",
    "    .update_layout(xaxis_title='Home Departure Time (AM)', \n",
    "                   yaxis_title='Minutes',\n",
    "                   title='Commuting Time vs. Home Departure Time')\n",
    ")"
   ]
  },
  {
   "cell_type": "markdown",
   "id": "0c35b3ce",
   "metadata": {
    "deletable": true,
    "editable": true,
    "slideshow": {
     "slide_type": "fragment"
    }
   },
   "source": [
    "- Last class, we used transformer classes to one hot encode `'day'` and `'month'`. We'll look at how we can easily use these columns – and more! – as inputs to a linear model that predicts commute times."
   ]
  },
  {
   "cell_type": "markdown",
   "id": "8d8a23af",
   "metadata": {
    "deletable": true,
    "editable": true,
    "slideshow": {
     "slide_type": "slide"
    }
   },
   "source": [
    "<center><img src=\"imgs/image_0.png\" width=\"50%\"></center>\n",
    "\n",
    "<br>\n",
    "\n",
    "So far, we've used transformers (like `OneHotEncoder` and `StandardScaler`) for feature engineering and models (like `LinearRegression`) for prediction. We can combine these steps into a single `Pipeline`."
   ]
  },
  {
   "cell_type": "markdown",
   "id": "09c35f07",
   "metadata": {
    "deletable": true,
    "editable": true,
    "slideshow": {
     "slide_type": "slide"
    }
   },
   "source": [
    "### Pipelines in `sklearn`"
   ]
  },
  {
   "cell_type": "markdown",
   "id": "2ceecb4c",
   "metadata": {
    "deletable": true,
    "editable": true,
    "slideshow": {
     "slide_type": "fragment"
    }
   },
   "source": [
    "- From [`sklearn`'s documentation](https://scikit-learn.org/stable/modules/generated/sklearn.pipeline.Pipeline.html):\n",
    "\n",
    "> `Pipeline` allows you to sequentially apply a list of transformers to preprocess the data and, **if desired**, conclude the sequence with a final predictor for predictive modeling.<br><br>Intermediate steps of the pipeline must be \"transforms\", that is, they must implement `fit` and `transform` methods. The final estimator only needs to implement `fit`."
   ]
  },
  {
   "cell_type": "markdown",
   "id": "2bdfb770",
   "metadata": {
    "deletable": true,
    "editable": true,
    "slideshow": {
     "slide_type": "fragment"
    }
   },
   "source": [
    "- General template: `pl = Pipeline([trans_1, trans_2, ..., model])`.<br><small>Note that the `model` is optional, meaning you can have Pipelines of just transformers.<br>Each element in the list must be a **tuple**; the first item in the tuple should be a \"name\" for the step, and the second item should be a transformer or estimator instance.</small>"
   ]
  },
  {
   "cell_type": "markdown",
   "id": "56c6f6cd",
   "metadata": {
    "deletable": true,
    "editable": true,
    "slideshow": {
     "slide_type": "fragment"
    }
   },
   "source": [
    "- Once a Pipeline is instantiated, you can fit **all** steps (transformers and model) using `pl.fit(X, y)`."
   ]
  },
  {
   "cell_type": "markdown",
   "id": "b663d103",
   "metadata": {
    "deletable": true,
    "editable": true,
    "slideshow": {
     "slide_type": "fragment"
    }
   },
   "source": [
    "- To make predictions using **raw, untransformed data**, use `pl.predict(X)`."
   ]
  },
  {
   "cell_type": "markdown",
   "id": "3eab58ac",
   "metadata": {
    "deletable": true,
    "editable": true,
    "slideshow": {
     "slide_type": "slide"
    }
   },
   "source": [
    "### Our first Pipeline"
   ]
  },
  {
   "cell_type": "markdown",
   "id": "8fc1a569",
   "metadata": {
    "deletable": true,
    "editable": true,
    "slideshow": {
     "slide_type": "fragment"
    }
   },
   "source": [
    "- Let's build a Pipeline that:\n",
    "    1. One hot encodes `'day'` and `'month'`.\n",
    "    2. Fits a regression model on just the one hot encoded data."
   ]
  },
  {
   "cell_type": "code",
   "execution_count": 5,
   "id": "0eaa9cc7",
   "metadata": {
    "deletable": true,
    "editable": true
   },
   "outputs": [],
   "source": [
    "from sklearn.pipeline import Pipeline"
   ]
  },
  {
   "cell_type": "code",
   "execution_count": 6,
   "id": "12c9380c",
   "metadata": {
    "deletable": true,
    "editable": true,
    "scrolled": true
   },
   "outputs": [],
   "source": [
    "from sklearn.preprocessing import OneHotEncoder\n",
    "from sklearn.linear_model import LinearRegression\n",
    "pl = Pipeline([\n",
    "    ('one-hot', OneHotEncoder(drop='first')),\n",
    "    ('lin-reg', LinearRegression())\n",
    "])"
   ]
  },
  {
   "cell_type": "markdown",
   "id": "88572ffc",
   "metadata": {
    "deletable": true,
    "editable": true,
    "slideshow": {
     "slide_type": "fragment"
    }
   },
   "source": [
    "- Now that `pl` is instantiated, we `fit` it the same way we would fit the individual steps."
   ]
  },
  {
   "cell_type": "code",
   "execution_count": 7,
   "id": "b86a22e4",
   "metadata": {
    "deletable": true,
    "editable": true
   },
   "outputs": [
    {
     "data": {
      "text/html": [
       "<style>#sk-container-id-1 {\n",
       "  /* Definition of color scheme common for light and dark mode */\n",
       "  --sklearn-color-text: black;\n",
       "  --sklearn-color-line: gray;\n",
       "  /* Definition of color scheme for unfitted estimators */\n",
       "  --sklearn-color-unfitted-level-0: #fff5e6;\n",
       "  --sklearn-color-unfitted-level-1: #f6e4d2;\n",
       "  --sklearn-color-unfitted-level-2: #ffe0b3;\n",
       "  --sklearn-color-unfitted-level-3: chocolate;\n",
       "  /* Definition of color scheme for fitted estimators */\n",
       "  --sklearn-color-fitted-level-0: #f0f8ff;\n",
       "  --sklearn-color-fitted-level-1: #d4ebff;\n",
       "  --sklearn-color-fitted-level-2: #b3dbfd;\n",
       "  --sklearn-color-fitted-level-3: cornflowerblue;\n",
       "\n",
       "  /* Specific color for light theme */\n",
       "  --sklearn-color-text-on-default-background: var(--sg-text-color, var(--theme-code-foreground, var(--jp-content-font-color1, black)));\n",
       "  --sklearn-color-background: var(--sg-background-color, var(--theme-background, var(--jp-layout-color0, white)));\n",
       "  --sklearn-color-border-box: var(--sg-text-color, var(--theme-code-foreground, var(--jp-content-font-color1, black)));\n",
       "  --sklearn-color-icon: #696969;\n",
       "\n",
       "  @media (prefers-color-scheme: dark) {\n",
       "    /* Redefinition of color scheme for dark theme */\n",
       "    --sklearn-color-text-on-default-background: var(--sg-text-color, var(--theme-code-foreground, var(--jp-content-font-color1, white)));\n",
       "    --sklearn-color-background: var(--sg-background-color, var(--theme-background, var(--jp-layout-color0, #111)));\n",
       "    --sklearn-color-border-box: var(--sg-text-color, var(--theme-code-foreground, var(--jp-content-font-color1, white)));\n",
       "    --sklearn-color-icon: #878787;\n",
       "  }\n",
       "}\n",
       "\n",
       "#sk-container-id-1 {\n",
       "  color: var(--sklearn-color-text);\n",
       "}\n",
       "\n",
       "#sk-container-id-1 pre {\n",
       "  padding: 0;\n",
       "}\n",
       "\n",
       "#sk-container-id-1 input.sk-hidden--visually {\n",
       "  border: 0;\n",
       "  clip: rect(1px 1px 1px 1px);\n",
       "  clip: rect(1px, 1px, 1px, 1px);\n",
       "  height: 1px;\n",
       "  margin: -1px;\n",
       "  overflow: hidden;\n",
       "  padding: 0;\n",
       "  position: absolute;\n",
       "  width: 1px;\n",
       "}\n",
       "\n",
       "#sk-container-id-1 div.sk-dashed-wrapped {\n",
       "  border: 1px dashed var(--sklearn-color-line);\n",
       "  margin: 0 0.4em 0.5em 0.4em;\n",
       "  box-sizing: border-box;\n",
       "  padding-bottom: 0.4em;\n",
       "  background-color: var(--sklearn-color-background);\n",
       "}\n",
       "\n",
       "#sk-container-id-1 div.sk-container {\n",
       "  /* jupyter's `normalize.less` sets `[hidden] { display: none; }`\n",
       "     but bootstrap.min.css set `[hidden] { display: none !important; }`\n",
       "     so we also need the `!important` here to be able to override the\n",
       "     default hidden behavior on the sphinx rendered scikit-learn.org.\n",
       "     See: https://github.com/scikit-learn/scikit-learn/issues/21755 */\n",
       "  display: inline-block !important;\n",
       "  position: relative;\n",
       "}\n",
       "\n",
       "#sk-container-id-1 div.sk-text-repr-fallback {\n",
       "  display: none;\n",
       "}\n",
       "\n",
       "div.sk-parallel-item,\n",
       "div.sk-serial,\n",
       "div.sk-item {\n",
       "  /* draw centered vertical line to link estimators */\n",
       "  background-image: linear-gradient(var(--sklearn-color-text-on-default-background), var(--sklearn-color-text-on-default-background));\n",
       "  background-size: 2px 100%;\n",
       "  background-repeat: no-repeat;\n",
       "  background-position: center center;\n",
       "}\n",
       "\n",
       "/* Parallel-specific style estimator block */\n",
       "\n",
       "#sk-container-id-1 div.sk-parallel-item::after {\n",
       "  content: \"\";\n",
       "  width: 100%;\n",
       "  border-bottom: 2px solid var(--sklearn-color-text-on-default-background);\n",
       "  flex-grow: 1;\n",
       "}\n",
       "\n",
       "#sk-container-id-1 div.sk-parallel {\n",
       "  display: flex;\n",
       "  align-items: stretch;\n",
       "  justify-content: center;\n",
       "  background-color: var(--sklearn-color-background);\n",
       "  position: relative;\n",
       "}\n",
       "\n",
       "#sk-container-id-1 div.sk-parallel-item {\n",
       "  display: flex;\n",
       "  flex-direction: column;\n",
       "}\n",
       "\n",
       "#sk-container-id-1 div.sk-parallel-item:first-child::after {\n",
       "  align-self: flex-end;\n",
       "  width: 50%;\n",
       "}\n",
       "\n",
       "#sk-container-id-1 div.sk-parallel-item:last-child::after {\n",
       "  align-self: flex-start;\n",
       "  width: 50%;\n",
       "}\n",
       "\n",
       "#sk-container-id-1 div.sk-parallel-item:only-child::after {\n",
       "  width: 0;\n",
       "}\n",
       "\n",
       "/* Serial-specific style estimator block */\n",
       "\n",
       "#sk-container-id-1 div.sk-serial {\n",
       "  display: flex;\n",
       "  flex-direction: column;\n",
       "  align-items: center;\n",
       "  background-color: var(--sklearn-color-background);\n",
       "  padding-right: 1em;\n",
       "  padding-left: 1em;\n",
       "}\n",
       "\n",
       "\n",
       "/* Toggleable style: style used for estimator/Pipeline/ColumnTransformer box that is\n",
       "clickable and can be expanded/collapsed.\n",
       "- Pipeline and ColumnTransformer use this feature and define the default style\n",
       "- Estimators will overwrite some part of the style using the `sk-estimator` class\n",
       "*/\n",
       "\n",
       "/* Pipeline and ColumnTransformer style (default) */\n",
       "\n",
       "#sk-container-id-1 div.sk-toggleable {\n",
       "  /* Default theme specific background. It is overwritten whether we have a\n",
       "  specific estimator or a Pipeline/ColumnTransformer */\n",
       "  background-color: var(--sklearn-color-background);\n",
       "}\n",
       "\n",
       "/* Toggleable label */\n",
       "#sk-container-id-1 label.sk-toggleable__label {\n",
       "  cursor: pointer;\n",
       "  display: block;\n",
       "  width: 100%;\n",
       "  margin-bottom: 0;\n",
       "  padding: 0.5em;\n",
       "  box-sizing: border-box;\n",
       "  text-align: center;\n",
       "}\n",
       "\n",
       "#sk-container-id-1 label.sk-toggleable__label-arrow:before {\n",
       "  /* Arrow on the left of the label */\n",
       "  content: \"▸\";\n",
       "  float: left;\n",
       "  margin-right: 0.25em;\n",
       "  color: var(--sklearn-color-icon);\n",
       "}\n",
       "\n",
       "#sk-container-id-1 label.sk-toggleable__label-arrow:hover:before {\n",
       "  color: var(--sklearn-color-text);\n",
       "}\n",
       "\n",
       "/* Toggleable content - dropdown */\n",
       "\n",
       "#sk-container-id-1 div.sk-toggleable__content {\n",
       "  max-height: 0;\n",
       "  max-width: 0;\n",
       "  overflow: hidden;\n",
       "  text-align: left;\n",
       "  /* unfitted */\n",
       "  background-color: var(--sklearn-color-unfitted-level-0);\n",
       "}\n",
       "\n",
       "#sk-container-id-1 div.sk-toggleable__content.fitted {\n",
       "  /* fitted */\n",
       "  background-color: var(--sklearn-color-fitted-level-0);\n",
       "}\n",
       "\n",
       "#sk-container-id-1 div.sk-toggleable__content pre {\n",
       "  margin: 0.2em;\n",
       "  border-radius: 0.25em;\n",
       "  color: var(--sklearn-color-text);\n",
       "  /* unfitted */\n",
       "  background-color: var(--sklearn-color-unfitted-level-0);\n",
       "}\n",
       "\n",
       "#sk-container-id-1 div.sk-toggleable__content.fitted pre {\n",
       "  /* unfitted */\n",
       "  background-color: var(--sklearn-color-fitted-level-0);\n",
       "}\n",
       "\n",
       "#sk-container-id-1 input.sk-toggleable__control:checked~div.sk-toggleable__content {\n",
       "  /* Expand drop-down */\n",
       "  max-height: 200px;\n",
       "  max-width: 100%;\n",
       "  overflow: auto;\n",
       "}\n",
       "\n",
       "#sk-container-id-1 input.sk-toggleable__control:checked~label.sk-toggleable__label-arrow:before {\n",
       "  content: \"▾\";\n",
       "}\n",
       "\n",
       "/* Pipeline/ColumnTransformer-specific style */\n",
       "\n",
       "#sk-container-id-1 div.sk-label input.sk-toggleable__control:checked~label.sk-toggleable__label {\n",
       "  color: var(--sklearn-color-text);\n",
       "  background-color: var(--sklearn-color-unfitted-level-2);\n",
       "}\n",
       "\n",
       "#sk-container-id-1 div.sk-label.fitted input.sk-toggleable__control:checked~label.sk-toggleable__label {\n",
       "  background-color: var(--sklearn-color-fitted-level-2);\n",
       "}\n",
       "\n",
       "/* Estimator-specific style */\n",
       "\n",
       "/* Colorize estimator box */\n",
       "#sk-container-id-1 div.sk-estimator input.sk-toggleable__control:checked~label.sk-toggleable__label {\n",
       "  /* unfitted */\n",
       "  background-color: var(--sklearn-color-unfitted-level-2);\n",
       "}\n",
       "\n",
       "#sk-container-id-1 div.sk-estimator.fitted input.sk-toggleable__control:checked~label.sk-toggleable__label {\n",
       "  /* fitted */\n",
       "  background-color: var(--sklearn-color-fitted-level-2);\n",
       "}\n",
       "\n",
       "#sk-container-id-1 div.sk-label label.sk-toggleable__label,\n",
       "#sk-container-id-1 div.sk-label label {\n",
       "  /* The background is the default theme color */\n",
       "  color: var(--sklearn-color-text-on-default-background);\n",
       "}\n",
       "\n",
       "/* On hover, darken the color of the background */\n",
       "#sk-container-id-1 div.sk-label:hover label.sk-toggleable__label {\n",
       "  color: var(--sklearn-color-text);\n",
       "  background-color: var(--sklearn-color-unfitted-level-2);\n",
       "}\n",
       "\n",
       "/* Label box, darken color on hover, fitted */\n",
       "#sk-container-id-1 div.sk-label.fitted:hover label.sk-toggleable__label.fitted {\n",
       "  color: var(--sklearn-color-text);\n",
       "  background-color: var(--sklearn-color-fitted-level-2);\n",
       "}\n",
       "\n",
       "/* Estimator label */\n",
       "\n",
       "#sk-container-id-1 div.sk-label label {\n",
       "  font-family: monospace;\n",
       "  font-weight: bold;\n",
       "  display: inline-block;\n",
       "  line-height: 1.2em;\n",
       "}\n",
       "\n",
       "#sk-container-id-1 div.sk-label-container {\n",
       "  text-align: center;\n",
       "}\n",
       "\n",
       "/* Estimator-specific */\n",
       "#sk-container-id-1 div.sk-estimator {\n",
       "  font-family: monospace;\n",
       "  border: 1px dotted var(--sklearn-color-border-box);\n",
       "  border-radius: 0.25em;\n",
       "  box-sizing: border-box;\n",
       "  margin-bottom: 0.5em;\n",
       "  /* unfitted */\n",
       "  background-color: var(--sklearn-color-unfitted-level-0);\n",
       "}\n",
       "\n",
       "#sk-container-id-1 div.sk-estimator.fitted {\n",
       "  /* fitted */\n",
       "  background-color: var(--sklearn-color-fitted-level-0);\n",
       "}\n",
       "\n",
       "/* on hover */\n",
       "#sk-container-id-1 div.sk-estimator:hover {\n",
       "  /* unfitted */\n",
       "  background-color: var(--sklearn-color-unfitted-level-2);\n",
       "}\n",
       "\n",
       "#sk-container-id-1 div.sk-estimator.fitted:hover {\n",
       "  /* fitted */\n",
       "  background-color: var(--sklearn-color-fitted-level-2);\n",
       "}\n",
       "\n",
       "/* Specification for estimator info (e.g. \"i\" and \"?\") */\n",
       "\n",
       "/* Common style for \"i\" and \"?\" */\n",
       "\n",
       ".sk-estimator-doc-link,\n",
       "a:link.sk-estimator-doc-link,\n",
       "a:visited.sk-estimator-doc-link {\n",
       "  float: right;\n",
       "  font-size: smaller;\n",
       "  line-height: 1em;\n",
       "  font-family: monospace;\n",
       "  background-color: var(--sklearn-color-background);\n",
       "  border-radius: 1em;\n",
       "  height: 1em;\n",
       "  width: 1em;\n",
       "  text-decoration: none !important;\n",
       "  margin-left: 1ex;\n",
       "  /* unfitted */\n",
       "  border: var(--sklearn-color-unfitted-level-1) 1pt solid;\n",
       "  color: var(--sklearn-color-unfitted-level-1);\n",
       "}\n",
       "\n",
       ".sk-estimator-doc-link.fitted,\n",
       "a:link.sk-estimator-doc-link.fitted,\n",
       "a:visited.sk-estimator-doc-link.fitted {\n",
       "  /* fitted */\n",
       "  border: var(--sklearn-color-fitted-level-1) 1pt solid;\n",
       "  color: var(--sklearn-color-fitted-level-1);\n",
       "}\n",
       "\n",
       "/* On hover */\n",
       "div.sk-estimator:hover .sk-estimator-doc-link:hover,\n",
       ".sk-estimator-doc-link:hover,\n",
       "div.sk-label-container:hover .sk-estimator-doc-link:hover,\n",
       ".sk-estimator-doc-link:hover {\n",
       "  /* unfitted */\n",
       "  background-color: var(--sklearn-color-unfitted-level-3);\n",
       "  color: var(--sklearn-color-background);\n",
       "  text-decoration: none;\n",
       "}\n",
       "\n",
       "div.sk-estimator.fitted:hover .sk-estimator-doc-link.fitted:hover,\n",
       ".sk-estimator-doc-link.fitted:hover,\n",
       "div.sk-label-container:hover .sk-estimator-doc-link.fitted:hover,\n",
       ".sk-estimator-doc-link.fitted:hover {\n",
       "  /* fitted */\n",
       "  background-color: var(--sklearn-color-fitted-level-3);\n",
       "  color: var(--sklearn-color-background);\n",
       "  text-decoration: none;\n",
       "}\n",
       "\n",
       "/* Span, style for the box shown on hovering the info icon */\n",
       ".sk-estimator-doc-link span {\n",
       "  display: none;\n",
       "  z-index: 9999;\n",
       "  position: relative;\n",
       "  font-weight: normal;\n",
       "  right: .2ex;\n",
       "  padding: .5ex;\n",
       "  margin: .5ex;\n",
       "  width: min-content;\n",
       "  min-width: 20ex;\n",
       "  max-width: 50ex;\n",
       "  color: var(--sklearn-color-text);\n",
       "  box-shadow: 2pt 2pt 4pt #999;\n",
       "  /* unfitted */\n",
       "  background: var(--sklearn-color-unfitted-level-0);\n",
       "  border: .5pt solid var(--sklearn-color-unfitted-level-3);\n",
       "}\n",
       "\n",
       ".sk-estimator-doc-link.fitted span {\n",
       "  /* fitted */\n",
       "  background: var(--sklearn-color-fitted-level-0);\n",
       "  border: var(--sklearn-color-fitted-level-3);\n",
       "}\n",
       "\n",
       ".sk-estimator-doc-link:hover span {\n",
       "  display: block;\n",
       "}\n",
       "\n",
       "/* \"?\"-specific style due to the `<a>` HTML tag */\n",
       "\n",
       "#sk-container-id-1 a.estimator_doc_link {\n",
       "  float: right;\n",
       "  font-size: 1rem;\n",
       "  line-height: 1em;\n",
       "  font-family: monospace;\n",
       "  background-color: var(--sklearn-color-background);\n",
       "  border-radius: 1rem;\n",
       "  height: 1rem;\n",
       "  width: 1rem;\n",
       "  text-decoration: none;\n",
       "  /* unfitted */\n",
       "  color: var(--sklearn-color-unfitted-level-1);\n",
       "  border: var(--sklearn-color-unfitted-level-1) 1pt solid;\n",
       "}\n",
       "\n",
       "#sk-container-id-1 a.estimator_doc_link.fitted {\n",
       "  /* fitted */\n",
       "  border: var(--sklearn-color-fitted-level-1) 1pt solid;\n",
       "  color: var(--sklearn-color-fitted-level-1);\n",
       "}\n",
       "\n",
       "/* On hover */\n",
       "#sk-container-id-1 a.estimator_doc_link:hover {\n",
       "  /* unfitted */\n",
       "  background-color: var(--sklearn-color-unfitted-level-3);\n",
       "  color: var(--sklearn-color-background);\n",
       "  text-decoration: none;\n",
       "}\n",
       "\n",
       "#sk-container-id-1 a.estimator_doc_link.fitted:hover {\n",
       "  /* fitted */\n",
       "  background-color: var(--sklearn-color-fitted-level-3);\n",
       "}\n",
       "</style><div id=\"sk-container-id-1\" class=\"sk-top-container\"><div class=\"sk-text-repr-fallback\"><pre>Pipeline(steps=[(&#x27;one-hot&#x27;, OneHotEncoder(drop=&#x27;first&#x27;)),\n",
       "                (&#x27;lin-reg&#x27;, LinearRegression())])</pre><b>In a Jupyter environment, please rerun this cell to show the HTML representation or trust the notebook. <br />On GitHub, the HTML representation is unable to render, please try loading this page with nbviewer.org.</b></div><div class=\"sk-container\" hidden><div class=\"sk-item sk-dashed-wrapped\"><div class=\"sk-label-container\"><div class=\"sk-label fitted sk-toggleable\"><input class=\"sk-toggleable__control sk-hidden--visually\" id=\"sk-estimator-id-1\" type=\"checkbox\" ><label for=\"sk-estimator-id-1\" class=\"sk-toggleable__label fitted sk-toggleable__label-arrow fitted\">&nbsp;&nbsp;Pipeline<a class=\"sk-estimator-doc-link fitted\" rel=\"noreferrer\" target=\"_blank\" href=\"https://scikit-learn.org/1.5/modules/generated/sklearn.pipeline.Pipeline.html\">?<span>Documentation for Pipeline</span></a><span class=\"sk-estimator-doc-link fitted\">i<span>Fitted</span></span></label><div class=\"sk-toggleable__content fitted\"><pre>Pipeline(steps=[(&#x27;one-hot&#x27;, OneHotEncoder(drop=&#x27;first&#x27;)),\n",
       "                (&#x27;lin-reg&#x27;, LinearRegression())])</pre></div> </div></div><div class=\"sk-serial\"><div class=\"sk-item\"><div class=\"sk-estimator fitted sk-toggleable\"><input class=\"sk-toggleable__control sk-hidden--visually\" id=\"sk-estimator-id-2\" type=\"checkbox\" ><label for=\"sk-estimator-id-2\" class=\"sk-toggleable__label fitted sk-toggleable__label-arrow fitted\">&nbsp;OneHotEncoder<a class=\"sk-estimator-doc-link fitted\" rel=\"noreferrer\" target=\"_blank\" href=\"https://scikit-learn.org/1.5/modules/generated/sklearn.preprocessing.OneHotEncoder.html\">?<span>Documentation for OneHotEncoder</span></a></label><div class=\"sk-toggleable__content fitted\"><pre>OneHotEncoder(drop=&#x27;first&#x27;)</pre></div> </div></div><div class=\"sk-item\"><div class=\"sk-estimator fitted sk-toggleable\"><input class=\"sk-toggleable__control sk-hidden--visually\" id=\"sk-estimator-id-3\" type=\"checkbox\" ><label for=\"sk-estimator-id-3\" class=\"sk-toggleable__label fitted sk-toggleable__label-arrow fitted\">&nbsp;LinearRegression<a class=\"sk-estimator-doc-link fitted\" rel=\"noreferrer\" target=\"_blank\" href=\"https://scikit-learn.org/1.5/modules/generated/sklearn.linear_model.LinearRegression.html\">?<span>Documentation for LinearRegression</span></a></label><div class=\"sk-toggleable__content fitted\"><pre>LinearRegression()</pre></div> </div></div></div></div></div></div>"
      ],
      "text/plain": [
       "Pipeline(steps=[('one-hot', OneHotEncoder(drop='first')),\n",
       "                ('lin-reg', LinearRegression())])"
      ]
     },
     "execution_count": 7,
     "metadata": {},
     "output_type": "execute_result"
    }
   ],
   "source": [
    "pl.fit(X=df[['day', 'month']], y=df['minutes']) "
   ]
  },
  {
   "cell_type": "markdown",
   "id": "e07caf57",
   "metadata": {
    "deletable": true,
    "editable": true,
    "slideshow": {
     "slide_type": "fragment"
    }
   },
   "source": [
    "- Now, to make predictions using **raw data**, all we need to do is use `pl.predict`:"
   ]
  },
  {
   "cell_type": "code",
   "execution_count": 8,
   "id": "2a603033",
   "metadata": {
    "deletable": true,
    "editable": true
   },
   "outputs": [
    {
     "name": "stderr",
     "output_type": "stream",
     "text": [
      "/Users/macbook/anaconda3/envs/pds/lib/python3.10/site-packages/sklearn/base.py:493: UserWarning:\n",
      "\n",
      "X does not have valid feature names, but OneHotEncoder was fitted with feature names\n",
      "\n"
     ]
    },
    {
     "data": {
      "text/plain": [
       "array([68.61])"
      ]
     },
     "execution_count": 8,
     "metadata": {},
     "output_type": "execute_result"
    }
   ],
   "source": [
    "pl.predict([['Mon', 'November']]) "
   ]
  },
  {
   "cell_type": "markdown",
   "id": "d783ad99",
   "metadata": {
    "deletable": true,
    "editable": true,
    "slideshow": {
     "slide_type": "fragment"
    }
   },
   "source": [
    "- `pl` performs **both** feature transformation and prediction with just a single call to `predict`!"
   ]
  },
  {
   "cell_type": "markdown",
   "id": "da0f7d28",
   "metadata": {
    "deletable": true,
    "editable": true,
    "slideshow": {
     "slide_type": "skip"
    }
   },
   "source": [
    "<div class=\"alert alert-danger\">\n",
    "    \n",
    "#### Reference Slide\n",
    "    \n",
    "### Pipeline internals\n",
    "    \n",
    "</div>"
   ]
  },
  {
   "cell_type": "markdown",
   "id": "9967bed9",
   "metadata": {
    "deletable": true,
    "editable": true,
    "slideshow": {
     "slide_type": "skip"
    }
   },
   "source": [
    "- We can access individual \"steps\" of a `Pipeline` through the `named_steps` attribute:"
   ]
  },
  {
   "cell_type": "code",
   "execution_count": 9,
   "id": "605b71ae",
   "metadata": {
    "deletable": true,
    "editable": true,
    "slideshow": {
     "slide_type": "skip"
    }
   },
   "outputs": [
    {
     "data": {
      "text/plain": [
       "{'one-hot': OneHotEncoder(drop='first'), 'lin-reg': LinearRegression()}"
      ]
     },
     "execution_count": 9,
     "metadata": {},
     "output_type": "execute_result"
    }
   ],
   "source": [
    "pl.named_steps"
   ]
  },
  {
   "cell_type": "code",
   "execution_count": 10,
   "id": "a8e9049e",
   "metadata": {
    "deletable": true,
    "editable": true,
    "scrolled": true,
    "slideshow": {
     "slide_type": "skip"
    }
   },
   "outputs": [
    {
     "data": {
      "text/plain": [
       "array([[1., 0., 0., ..., 0., 0., 0.],\n",
       "       [0., 0., 1., ..., 0., 0., 0.],\n",
       "       [1., 0., 0., ..., 0., 0., 0.],\n",
       "       ...,\n",
       "       [1., 0., 0., ..., 0., 0., 0.],\n",
       "       [0., 0., 1., ..., 0., 0., 0.],\n",
       "       [0., 1., 0., ..., 0., 0., 0.]])"
      ]
     },
     "execution_count": 10,
     "metadata": {},
     "output_type": "execute_result"
    }
   ],
   "source": [
    "pl.named_steps['one-hot'].transform(df[['day', 'month']]).toarray()"
   ]
  },
  {
   "cell_type": "code",
   "execution_count": 11,
   "id": "3ba6f70c",
   "metadata": {
    "deletable": true,
    "editable": true,
    "slideshow": {
     "slide_type": "skip"
    }
   },
   "outputs": [
    {
     "data": {
      "text/plain": [
       "array(['day_Mon', 'day_Thu', 'day_Tue', 'day_Wed', 'month_December',\n",
       "       'month_February', 'month_January', 'month_July', 'month_June',\n",
       "       'month_March', 'month_May', 'month_November', 'month_October',\n",
       "       'month_September'], dtype=object)"
      ]
     },
     "execution_count": 11,
     "metadata": {},
     "output_type": "execute_result"
    }
   ],
   "source": [
    "pl.named_steps['one-hot'].get_feature_names_out()"
   ]
  },
  {
   "cell_type": "code",
   "execution_count": 12,
   "id": "65b8d790",
   "metadata": {
    "deletable": true,
    "editable": true,
    "slideshow": {
     "slide_type": "skip"
    }
   },
   "outputs": [
    {
     "data": {
      "text/plain": [
       "array([ 1.65,  8.35, 13.2 ,  2.68, -2.1 ,  6.06, -4.44, -3.08,  9.14,\n",
       "        8.62,  6.24,  2.98, -5.6 ,  3.29])"
      ]
     },
     "execution_count": 12,
     "metadata": {},
     "output_type": "execute_result"
    }
   ],
   "source": [
    "pl.named_steps['lin-reg'].coef_"
   ]
  },
  {
   "cell_type": "markdown",
   "id": "d7ae8fa1",
   "metadata": {
    "deletable": true,
    "editable": true,
    "slideshow": {
     "slide_type": "skip"
    }
   },
   "source": [
    "- `pl` also has a `score` method, the same way a fit `LinearRegression` instance does:"
   ]
  },
  {
   "cell_type": "code",
   "execution_count": 13,
   "id": "f2ddd52d",
   "metadata": {
    "deletable": true,
    "editable": true,
    "slideshow": {
     "slide_type": "skip"
    }
   },
   "outputs": [
    {
     "data": {
      "text/plain": [
       "0.2973846534941992"
      ]
     },
     "execution_count": 13,
     "metadata": {},
     "output_type": "execute_result"
    }
   ],
   "source": [
    "# Why is this so low?\n",
    "pl.score(df[['day', 'month']], df['minutes'])"
   ]
  },
  {
   "cell_type": "markdown",
   "id": "b15ce97a",
   "metadata": {
    "deletable": true,
    "editable": true,
    "slideshow": {
     "slide_type": "slide"
    }
   },
   "source": [
    "### More sophisticated Pipelines"
   ]
  },
  {
   "cell_type": "markdown",
   "id": "a2ddf50d",
   "metadata": {
    "deletable": true,
    "editable": true,
    "slideshow": {
     "slide_type": "fragment"
    }
   },
   "source": [
    "- In the previous example, we one hot encoded every input column, and didn't use any columns that were originally numeric.<br><small>That's not realistic or useful!</small>"
   ]
  },
  {
   "cell_type": "code",
   "execution_count": 14,
   "id": "b54e2938",
   "metadata": {
    "deletable": true,
    "editable": true
   },
   "outputs": [
    {
     "data": {
      "text/plain": [
       "0.2973846534941992"
      ]
     },
     "execution_count": 14,
     "metadata": {},
     "output_type": "execute_result"
    }
   ],
   "source": [
    "# Why is this so low?\n",
    "pl.score(df[['day', 'month']], df['minutes']) "
   ]
  },
  {
   "cell_type": "markdown",
   "id": "391e787b",
   "metadata": {
    "deletable": true,
    "editable": true,
    "slideshow": {
     "slide_type": "fragment"
    }
   },
   "source": [
    "- What if we want to perform different transformations on different columns, or include some columns without transformation?"
   ]
  },
  {
   "cell_type": "markdown",
   "id": "26d66af7",
   "metadata": {
    "deletable": true,
    "editable": true,
    "slideshow": {
     "slide_type": "fragment"
    }
   },
   "source": [
    "- Or, what if we want to perform multiple transformations to the same column?"
   ]
  },
  {
   "cell_type": "markdown",
   "id": "90c9d027",
   "metadata": {
    "deletable": true,
    "editable": true,
    "slideshow": {
     "slide_type": "fragment"
    }
   },
   "source": [
    "- There are a variety of useful functions/classes we can use:\n",
    "\n",
    "| Name | Functionality |\n",
    "| --- | --- |\n",
    "| `ColumnTransformer` | Allows us to transform different columns with different transformations.<br><small>Instantiate a `ColumnTransformer` using a list of tuples, where:<br>• The first element is a \"name\" we choose for the transformer.<br>• The second element is a transformer instance (e.g. `OneHotEncoder()`).<br>• The third element is a **list of relevant column names**.</small> | \n",
    "| `FunctionTransformer` | Allows us to create a custom transformation (similar to using `.apply` on a DataFrame's columns). |\n",
    "| `make_pipeline` | Helper function for creating a `Pipeline` (slightly less verbose).<br>**Note that you can make a pipeline of just transformations,<br> if you want to use multiple transformations on the same column!** |\n",
    "| `make_column_transformer` | Helper function for creating a `ColumnTransformer`. |"
   ]
  },
  {
   "cell_type": "code",
   "execution_count": 15,
   "id": "a615b223",
   "metadata": {
    "deletable": true,
    "editable": true
   },
   "outputs": [],
   "source": [
    "from sklearn.compose import ColumnTransformer, make_column_transformer\n",
    "from sklearn.pipeline import FunctionTransformer, make_pipeline"
   ]
  },
  {
   "cell_type": "markdown",
   "id": "7587a949",
   "metadata": {
    "deletable": true,
    "editable": true,
    "slideshow": {
     "slide_type": "slide"
    }
   },
   "source": [
    "### The plan"
   ]
  },
  {
   "cell_type": "markdown",
   "id": "3583cdb9",
   "metadata": {
    "deletable": true,
    "editable": true,
    "slideshow": {
     "slide_type": "fragment"
    }
   },
   "source": [
    "- Before writing any code, let's plan out _how_ we want to transform our data."
   ]
  },
  {
   "cell_type": "code",
   "execution_count": 16,
   "id": "0c4c1897",
   "metadata": {
    "deletable": true,
    "editable": true
   },
   "outputs": [
    {
     "data": {
      "text/html": [
       "<div>\n",
       "<style scoped>\n",
       "    .dataframe tbody tr th:only-of-type {\n",
       "        vertical-align: middle;\n",
       "    }\n",
       "\n",
       "    .dataframe tbody tr th {\n",
       "        vertical-align: top;\n",
       "    }\n",
       "\n",
       "    .dataframe thead th {\n",
       "        text-align: right;\n",
       "    }\n",
       "</style>\n",
       "<table border=\"1\" class=\"dataframe\">\n",
       "  <thead>\n",
       "    <tr style=\"text-align: right;\">\n",
       "      <th></th>\n",
       "      <th>departure_hour</th>\n",
       "      <th>day</th>\n",
       "      <th>month</th>\n",
       "      <th>day_of_month</th>\n",
       "    </tr>\n",
       "  </thead>\n",
       "  <tbody>\n",
       "    <tr>\n",
       "      <th>0</th>\n",
       "      <td>10.82</td>\n",
       "      <td>Mon</td>\n",
       "      <td>May</td>\n",
       "      <td>15</td>\n",
       "    </tr>\n",
       "    <tr>\n",
       "      <th>1</th>\n",
       "      <td>7.75</td>\n",
       "      <td>Tue</td>\n",
       "      <td>May</td>\n",
       "      <td>16</td>\n",
       "    </tr>\n",
       "    <tr>\n",
       "      <th>2</th>\n",
       "      <td>8.45</td>\n",
       "      <td>Mon</td>\n",
       "      <td>May</td>\n",
       "      <td>22</td>\n",
       "    </tr>\n",
       "    <tr>\n",
       "      <th>...</th>\n",
       "      <td>...</td>\n",
       "      <td>...</td>\n",
       "      <td>...</td>\n",
       "      <td>...</td>\n",
       "    </tr>\n",
       "    <tr>\n",
       "      <th>62</th>\n",
       "      <td>7.58</td>\n",
       "      <td>Mon</td>\n",
       "      <td>March</td>\n",
       "      <td>4</td>\n",
       "    </tr>\n",
       "    <tr>\n",
       "      <th>63</th>\n",
       "      <td>7.45</td>\n",
       "      <td>Tue</td>\n",
       "      <td>March</td>\n",
       "      <td>5</td>\n",
       "    </tr>\n",
       "    <tr>\n",
       "      <th>64</th>\n",
       "      <td>7.60</td>\n",
       "      <td>Thu</td>\n",
       "      <td>March</td>\n",
       "      <td>7</td>\n",
       "    </tr>\n",
       "  </tbody>\n",
       "</table>\n",
       "<p>65 rows × 4 columns</p>\n",
       "</div>"
      ],
      "text/plain": [
       "    departure_hour  day  month  day_of_month\n",
       "0            10.82  Mon    May            15\n",
       "1             7.75  Tue    May            16\n",
       "2             8.45  Mon    May            22\n",
       "..             ...  ...    ...           ...\n",
       "62            7.58  Mon  March             4\n",
       "63            7.45  Tue  March             5\n",
       "64            7.60  Thu  March             7\n",
       "\n",
       "[65 rows x 4 columns]"
      ]
     },
     "execution_count": 16,
     "metadata": {},
     "output_type": "execute_result"
    }
   ],
   "source": [
    "df[['departure_hour', 'day', 'month', 'day_of_month']]"
   ]
  },
  {
   "cell_type": "markdown",
   "id": "807e6900",
   "metadata": {
    "deletable": true,
    "editable": true,
    "slideshow": {
     "slide_type": "fragment"
    }
   },
   "source": [
    "- `'departure_hour'`: Create degree 2 and degree 3 polynomial features."
   ]
  },
  {
   "cell_type": "markdown",
   "id": "2aedf466",
   "metadata": {
    "deletable": true,
    "editable": true,
    "slideshow": {
     "slide_type": "fragment"
    }
   },
   "source": [
    "- `'day'`: One hot encode."
   ]
  },
  {
   "cell_type": "markdown",
   "id": "22883a9c",
   "metadata": {
    "deletable": true,
    "editable": true,
    "slideshow": {
     "slide_type": "fragment"
    }
   },
   "source": [
    "- `'month'`: One hot encode."
   ]
  },
  {
   "cell_type": "markdown",
   "id": "c7128a1d",
   "metadata": {
    "deletable": true,
    "editable": true,
    "slideshow": {
     "slide_type": "fragment"
    }
   },
   "source": [
    "- `'day_of_month'`: Separate into five weeks, then one hot encode.<br>\n",
    "<small>Days 1 to 7 are Week 1, Days 8 to 15 are Week 2, and so on.</small>"
   ]
  },
  {
   "cell_type": "markdown",
   "id": "a242317f",
   "metadata": {
    "deletable": true,
    "editable": true,
    "slideshow": {
     "slide_type": "fragment"
    }
   },
   "source": [
    "- After all of these transformations, we'll fit a `LinearRegression` object – i.e., fit a linear model."
   ]
  },
  {
   "cell_type": "markdown",
   "id": "32ae61c0",
   "metadata": {
    "deletable": true,
    "editable": true,
    "slideshow": {
     "slide_type": "slide"
    }
   },
   "source": [
    "<center><small>\n",
    "    \n",
    "`'departure_hour'`: Create degree 2 and degree 3 polynomial features.<br>\n",
    "`'day'`: One hot encode.<br>\n",
    "`'month'`: One hot encode.<br>\n",
    "`'day_of_month'`: Separate into five weeks, then one hot encode.<br>\n",
    "    \n",
    "</small></center>"
   ]
  },
  {
   "cell_type": "markdown",
   "id": "6b87acfb",
   "metadata": {
    "deletable": true,
    "editable": true,
    "slideshow": {
     "slide_type": "fragment"
    }
   },
   "source": [
    "- Let's start with `'day_of_month'`, since it seems to involve the most complicated transformations."
   ]
  },
  {
   "cell_type": "markdown",
   "id": "f4250426",
   "metadata": {
    "deletable": true,
    "editable": true,
    "slideshow": {
     "slide_type": "fragment"
    }
   },
   "source": [
    "- First, let's figure out how to extract the week number given the day of the month."
   ]
  },
  {
   "cell_type": "code",
   "execution_count": 17,
   "id": "3283ebb8",
   "metadata": {
    "deletable": true,
    "editable": true
   },
   "outputs": [
    {
     "data": {
      "text/plain": [
       "60    27\n",
       "61    29\n",
       "62     4\n",
       "63     5\n",
       "64     7\n",
       "Name: day_of_month, dtype: int32"
      ]
     },
     "execution_count": 17,
     "metadata": {},
     "output_type": "execute_result"
    }
   ],
   "source": [
    "example_vals = df['day_of_month'].tail()\n",
    "example_vals"
   ]
  },
  {
   "cell_type": "code",
   "execution_count": 18,
   "id": "081e34a0",
   "metadata": {
    "deletable": true,
    "editable": true
   },
   "outputs": [
    {
     "data": {
      "text/plain": [
       "60    Week 4\n",
       "61    Week 5\n",
       "62    Week 1\n",
       "63    Week 1\n",
       "64    Week 1\n",
       "Name: day_of_month, dtype: object"
      ]
     },
     "execution_count": 18,
     "metadata": {},
     "output_type": "execute_result"
    }
   ],
   "source": [
    "# Expression to convert from day of month to Week #.\n",
    "'Week ' + ((example_vals - 1) // 7 + 1).astype(str) "
   ]
  },
  {
   "cell_type": "code",
   "execution_count": 19,
   "id": "fa8d225a",
   "metadata": {
    "deletable": true,
    "editable": true
   },
   "outputs": [],
   "source": [
    "# The function that FunctionTransformer takes in\n",
    "# itself takes in a Series/DataFrame, not a single element!\n",
    "# Here, we're having that function return a new Series/DataFrame,\n",
    "# depending on what's passed in to .tranform (experiment on your own).\n",
    "week_converter = FunctionTransformer(lambda s: 'Week ' + ((s - 1) // 7 + 1).astype(str)) "
   ]
  },
  {
   "cell_type": "code",
   "execution_count": 20,
   "id": "bfc3a7c9",
   "metadata": {
    "deletable": true,
    "editable": true
   },
   "outputs": [
    {
     "data": {
      "text/html": [
       "<div>\n",
       "<style scoped>\n",
       "    .dataframe tbody tr th:only-of-type {\n",
       "        vertical-align: middle;\n",
       "    }\n",
       "\n",
       "    .dataframe tbody tr th {\n",
       "        vertical-align: top;\n",
       "    }\n",
       "\n",
       "    .dataframe thead th {\n",
       "        text-align: right;\n",
       "    }\n",
       "</style>\n",
       "<table border=\"1\" class=\"dataframe\">\n",
       "  <thead>\n",
       "    <tr style=\"text-align: right;\">\n",
       "      <th></th>\n",
       "      <th>day_of_month</th>\n",
       "    </tr>\n",
       "  </thead>\n",
       "  <tbody>\n",
       "    <tr>\n",
       "      <th>0</th>\n",
       "      <td>Week 3</td>\n",
       "    </tr>\n",
       "    <tr>\n",
       "      <th>1</th>\n",
       "      <td>Week 3</td>\n",
       "    </tr>\n",
       "    <tr>\n",
       "      <th>2</th>\n",
       "      <td>Week 4</td>\n",
       "    </tr>\n",
       "    <tr>\n",
       "      <th>...</th>\n",
       "      <td>...</td>\n",
       "    </tr>\n",
       "    <tr>\n",
       "      <th>62</th>\n",
       "      <td>Week 1</td>\n",
       "    </tr>\n",
       "    <tr>\n",
       "      <th>63</th>\n",
       "      <td>Week 1</td>\n",
       "    </tr>\n",
       "    <tr>\n",
       "      <th>64</th>\n",
       "      <td>Week 1</td>\n",
       "    </tr>\n",
       "  </tbody>\n",
       "</table>\n",
       "<p>65 rows × 1 columns</p>\n",
       "</div>"
      ],
      "text/plain": [
       "   day_of_month\n",
       "0        Week 3\n",
       "1        Week 3\n",
       "2        Week 4\n",
       "..          ...\n",
       "62       Week 1\n",
       "63       Week 1\n",
       "64       Week 1\n",
       "\n",
       "[65 rows x 1 columns]"
      ]
     },
     "execution_count": 20,
     "metadata": {},
     "output_type": "execute_result"
    }
   ],
   "source": [
    "week_converter.transform(df[['day_of_month']])"
   ]
  },
  {
   "cell_type": "markdown",
   "id": "4c734284",
   "metadata": {
    "deletable": true,
    "editable": true,
    "slideshow": {
     "slide_type": "fragment"
    }
   },
   "source": [
    "- We need to apply two consecutive transformations to `'day_of_month'`, which calls for a Pipeline."
   ]
  },
  {
   "cell_type": "code",
   "execution_count": 21,
   "id": "de921492",
   "metadata": {
    "deletable": true,
    "editable": true
   },
   "outputs": [
    {
     "data": {
      "text/html": [
       "<style>#sk-container-id-2 {\n",
       "  /* Definition of color scheme common for light and dark mode */\n",
       "  --sklearn-color-text: black;\n",
       "  --sklearn-color-line: gray;\n",
       "  /* Definition of color scheme for unfitted estimators */\n",
       "  --sklearn-color-unfitted-level-0: #fff5e6;\n",
       "  --sklearn-color-unfitted-level-1: #f6e4d2;\n",
       "  --sklearn-color-unfitted-level-2: #ffe0b3;\n",
       "  --sklearn-color-unfitted-level-3: chocolate;\n",
       "  /* Definition of color scheme for fitted estimators */\n",
       "  --sklearn-color-fitted-level-0: #f0f8ff;\n",
       "  --sklearn-color-fitted-level-1: #d4ebff;\n",
       "  --sklearn-color-fitted-level-2: #b3dbfd;\n",
       "  --sklearn-color-fitted-level-3: cornflowerblue;\n",
       "\n",
       "  /* Specific color for light theme */\n",
       "  --sklearn-color-text-on-default-background: var(--sg-text-color, var(--theme-code-foreground, var(--jp-content-font-color1, black)));\n",
       "  --sklearn-color-background: var(--sg-background-color, var(--theme-background, var(--jp-layout-color0, white)));\n",
       "  --sklearn-color-border-box: var(--sg-text-color, var(--theme-code-foreground, var(--jp-content-font-color1, black)));\n",
       "  --sklearn-color-icon: #696969;\n",
       "\n",
       "  @media (prefers-color-scheme: dark) {\n",
       "    /* Redefinition of color scheme for dark theme */\n",
       "    --sklearn-color-text-on-default-background: var(--sg-text-color, var(--theme-code-foreground, var(--jp-content-font-color1, white)));\n",
       "    --sklearn-color-background: var(--sg-background-color, var(--theme-background, var(--jp-layout-color0, #111)));\n",
       "    --sklearn-color-border-box: var(--sg-text-color, var(--theme-code-foreground, var(--jp-content-font-color1, white)));\n",
       "    --sklearn-color-icon: #878787;\n",
       "  }\n",
       "}\n",
       "\n",
       "#sk-container-id-2 {\n",
       "  color: var(--sklearn-color-text);\n",
       "}\n",
       "\n",
       "#sk-container-id-2 pre {\n",
       "  padding: 0;\n",
       "}\n",
       "\n",
       "#sk-container-id-2 input.sk-hidden--visually {\n",
       "  border: 0;\n",
       "  clip: rect(1px 1px 1px 1px);\n",
       "  clip: rect(1px, 1px, 1px, 1px);\n",
       "  height: 1px;\n",
       "  margin: -1px;\n",
       "  overflow: hidden;\n",
       "  padding: 0;\n",
       "  position: absolute;\n",
       "  width: 1px;\n",
       "}\n",
       "\n",
       "#sk-container-id-2 div.sk-dashed-wrapped {\n",
       "  border: 1px dashed var(--sklearn-color-line);\n",
       "  margin: 0 0.4em 0.5em 0.4em;\n",
       "  box-sizing: border-box;\n",
       "  padding-bottom: 0.4em;\n",
       "  background-color: var(--sklearn-color-background);\n",
       "}\n",
       "\n",
       "#sk-container-id-2 div.sk-container {\n",
       "  /* jupyter's `normalize.less` sets `[hidden] { display: none; }`\n",
       "     but bootstrap.min.css set `[hidden] { display: none !important; }`\n",
       "     so we also need the `!important` here to be able to override the\n",
       "     default hidden behavior on the sphinx rendered scikit-learn.org.\n",
       "     See: https://github.com/scikit-learn/scikit-learn/issues/21755 */\n",
       "  display: inline-block !important;\n",
       "  position: relative;\n",
       "}\n",
       "\n",
       "#sk-container-id-2 div.sk-text-repr-fallback {\n",
       "  display: none;\n",
       "}\n",
       "\n",
       "div.sk-parallel-item,\n",
       "div.sk-serial,\n",
       "div.sk-item {\n",
       "  /* draw centered vertical line to link estimators */\n",
       "  background-image: linear-gradient(var(--sklearn-color-text-on-default-background), var(--sklearn-color-text-on-default-background));\n",
       "  background-size: 2px 100%;\n",
       "  background-repeat: no-repeat;\n",
       "  background-position: center center;\n",
       "}\n",
       "\n",
       "/* Parallel-specific style estimator block */\n",
       "\n",
       "#sk-container-id-2 div.sk-parallel-item::after {\n",
       "  content: \"\";\n",
       "  width: 100%;\n",
       "  border-bottom: 2px solid var(--sklearn-color-text-on-default-background);\n",
       "  flex-grow: 1;\n",
       "}\n",
       "\n",
       "#sk-container-id-2 div.sk-parallel {\n",
       "  display: flex;\n",
       "  align-items: stretch;\n",
       "  justify-content: center;\n",
       "  background-color: var(--sklearn-color-background);\n",
       "  position: relative;\n",
       "}\n",
       "\n",
       "#sk-container-id-2 div.sk-parallel-item {\n",
       "  display: flex;\n",
       "  flex-direction: column;\n",
       "}\n",
       "\n",
       "#sk-container-id-2 div.sk-parallel-item:first-child::after {\n",
       "  align-self: flex-end;\n",
       "  width: 50%;\n",
       "}\n",
       "\n",
       "#sk-container-id-2 div.sk-parallel-item:last-child::after {\n",
       "  align-self: flex-start;\n",
       "  width: 50%;\n",
       "}\n",
       "\n",
       "#sk-container-id-2 div.sk-parallel-item:only-child::after {\n",
       "  width: 0;\n",
       "}\n",
       "\n",
       "/* Serial-specific style estimator block */\n",
       "\n",
       "#sk-container-id-2 div.sk-serial {\n",
       "  display: flex;\n",
       "  flex-direction: column;\n",
       "  align-items: center;\n",
       "  background-color: var(--sklearn-color-background);\n",
       "  padding-right: 1em;\n",
       "  padding-left: 1em;\n",
       "}\n",
       "\n",
       "\n",
       "/* Toggleable style: style used for estimator/Pipeline/ColumnTransformer box that is\n",
       "clickable and can be expanded/collapsed.\n",
       "- Pipeline and ColumnTransformer use this feature and define the default style\n",
       "- Estimators will overwrite some part of the style using the `sk-estimator` class\n",
       "*/\n",
       "\n",
       "/* Pipeline and ColumnTransformer style (default) */\n",
       "\n",
       "#sk-container-id-2 div.sk-toggleable {\n",
       "  /* Default theme specific background. It is overwritten whether we have a\n",
       "  specific estimator or a Pipeline/ColumnTransformer */\n",
       "  background-color: var(--sklearn-color-background);\n",
       "}\n",
       "\n",
       "/* Toggleable label */\n",
       "#sk-container-id-2 label.sk-toggleable__label {\n",
       "  cursor: pointer;\n",
       "  display: block;\n",
       "  width: 100%;\n",
       "  margin-bottom: 0;\n",
       "  padding: 0.5em;\n",
       "  box-sizing: border-box;\n",
       "  text-align: center;\n",
       "}\n",
       "\n",
       "#sk-container-id-2 label.sk-toggleable__label-arrow:before {\n",
       "  /* Arrow on the left of the label */\n",
       "  content: \"▸\";\n",
       "  float: left;\n",
       "  margin-right: 0.25em;\n",
       "  color: var(--sklearn-color-icon);\n",
       "}\n",
       "\n",
       "#sk-container-id-2 label.sk-toggleable__label-arrow:hover:before {\n",
       "  color: var(--sklearn-color-text);\n",
       "}\n",
       "\n",
       "/* Toggleable content - dropdown */\n",
       "\n",
       "#sk-container-id-2 div.sk-toggleable__content {\n",
       "  max-height: 0;\n",
       "  max-width: 0;\n",
       "  overflow: hidden;\n",
       "  text-align: left;\n",
       "  /* unfitted */\n",
       "  background-color: var(--sklearn-color-unfitted-level-0);\n",
       "}\n",
       "\n",
       "#sk-container-id-2 div.sk-toggleable__content.fitted {\n",
       "  /* fitted */\n",
       "  background-color: var(--sklearn-color-fitted-level-0);\n",
       "}\n",
       "\n",
       "#sk-container-id-2 div.sk-toggleable__content pre {\n",
       "  margin: 0.2em;\n",
       "  border-radius: 0.25em;\n",
       "  color: var(--sklearn-color-text);\n",
       "  /* unfitted */\n",
       "  background-color: var(--sklearn-color-unfitted-level-0);\n",
       "}\n",
       "\n",
       "#sk-container-id-2 div.sk-toggleable__content.fitted pre {\n",
       "  /* unfitted */\n",
       "  background-color: var(--sklearn-color-fitted-level-0);\n",
       "}\n",
       "\n",
       "#sk-container-id-2 input.sk-toggleable__control:checked~div.sk-toggleable__content {\n",
       "  /* Expand drop-down */\n",
       "  max-height: 200px;\n",
       "  max-width: 100%;\n",
       "  overflow: auto;\n",
       "}\n",
       "\n",
       "#sk-container-id-2 input.sk-toggleable__control:checked~label.sk-toggleable__label-arrow:before {\n",
       "  content: \"▾\";\n",
       "}\n",
       "\n",
       "/* Pipeline/ColumnTransformer-specific style */\n",
       "\n",
       "#sk-container-id-2 div.sk-label input.sk-toggleable__control:checked~label.sk-toggleable__label {\n",
       "  color: var(--sklearn-color-text);\n",
       "  background-color: var(--sklearn-color-unfitted-level-2);\n",
       "}\n",
       "\n",
       "#sk-container-id-2 div.sk-label.fitted input.sk-toggleable__control:checked~label.sk-toggleable__label {\n",
       "  background-color: var(--sklearn-color-fitted-level-2);\n",
       "}\n",
       "\n",
       "/* Estimator-specific style */\n",
       "\n",
       "/* Colorize estimator box */\n",
       "#sk-container-id-2 div.sk-estimator input.sk-toggleable__control:checked~label.sk-toggleable__label {\n",
       "  /* unfitted */\n",
       "  background-color: var(--sklearn-color-unfitted-level-2);\n",
       "}\n",
       "\n",
       "#sk-container-id-2 div.sk-estimator.fitted input.sk-toggleable__control:checked~label.sk-toggleable__label {\n",
       "  /* fitted */\n",
       "  background-color: var(--sklearn-color-fitted-level-2);\n",
       "}\n",
       "\n",
       "#sk-container-id-2 div.sk-label label.sk-toggleable__label,\n",
       "#sk-container-id-2 div.sk-label label {\n",
       "  /* The background is the default theme color */\n",
       "  color: var(--sklearn-color-text-on-default-background);\n",
       "}\n",
       "\n",
       "/* On hover, darken the color of the background */\n",
       "#sk-container-id-2 div.sk-label:hover label.sk-toggleable__label {\n",
       "  color: var(--sklearn-color-text);\n",
       "  background-color: var(--sklearn-color-unfitted-level-2);\n",
       "}\n",
       "\n",
       "/* Label box, darken color on hover, fitted */\n",
       "#sk-container-id-2 div.sk-label.fitted:hover label.sk-toggleable__label.fitted {\n",
       "  color: var(--sklearn-color-text);\n",
       "  background-color: var(--sklearn-color-fitted-level-2);\n",
       "}\n",
       "\n",
       "/* Estimator label */\n",
       "\n",
       "#sk-container-id-2 div.sk-label label {\n",
       "  font-family: monospace;\n",
       "  font-weight: bold;\n",
       "  display: inline-block;\n",
       "  line-height: 1.2em;\n",
       "}\n",
       "\n",
       "#sk-container-id-2 div.sk-label-container {\n",
       "  text-align: center;\n",
       "}\n",
       "\n",
       "/* Estimator-specific */\n",
       "#sk-container-id-2 div.sk-estimator {\n",
       "  font-family: monospace;\n",
       "  border: 1px dotted var(--sklearn-color-border-box);\n",
       "  border-radius: 0.25em;\n",
       "  box-sizing: border-box;\n",
       "  margin-bottom: 0.5em;\n",
       "  /* unfitted */\n",
       "  background-color: var(--sklearn-color-unfitted-level-0);\n",
       "}\n",
       "\n",
       "#sk-container-id-2 div.sk-estimator.fitted {\n",
       "  /* fitted */\n",
       "  background-color: var(--sklearn-color-fitted-level-0);\n",
       "}\n",
       "\n",
       "/* on hover */\n",
       "#sk-container-id-2 div.sk-estimator:hover {\n",
       "  /* unfitted */\n",
       "  background-color: var(--sklearn-color-unfitted-level-2);\n",
       "}\n",
       "\n",
       "#sk-container-id-2 div.sk-estimator.fitted:hover {\n",
       "  /* fitted */\n",
       "  background-color: var(--sklearn-color-fitted-level-2);\n",
       "}\n",
       "\n",
       "/* Specification for estimator info (e.g. \"i\" and \"?\") */\n",
       "\n",
       "/* Common style for \"i\" and \"?\" */\n",
       "\n",
       ".sk-estimator-doc-link,\n",
       "a:link.sk-estimator-doc-link,\n",
       "a:visited.sk-estimator-doc-link {\n",
       "  float: right;\n",
       "  font-size: smaller;\n",
       "  line-height: 1em;\n",
       "  font-family: monospace;\n",
       "  background-color: var(--sklearn-color-background);\n",
       "  border-radius: 1em;\n",
       "  height: 1em;\n",
       "  width: 1em;\n",
       "  text-decoration: none !important;\n",
       "  margin-left: 1ex;\n",
       "  /* unfitted */\n",
       "  border: var(--sklearn-color-unfitted-level-1) 1pt solid;\n",
       "  color: var(--sklearn-color-unfitted-level-1);\n",
       "}\n",
       "\n",
       ".sk-estimator-doc-link.fitted,\n",
       "a:link.sk-estimator-doc-link.fitted,\n",
       "a:visited.sk-estimator-doc-link.fitted {\n",
       "  /* fitted */\n",
       "  border: var(--sklearn-color-fitted-level-1) 1pt solid;\n",
       "  color: var(--sklearn-color-fitted-level-1);\n",
       "}\n",
       "\n",
       "/* On hover */\n",
       "div.sk-estimator:hover .sk-estimator-doc-link:hover,\n",
       ".sk-estimator-doc-link:hover,\n",
       "div.sk-label-container:hover .sk-estimator-doc-link:hover,\n",
       ".sk-estimator-doc-link:hover {\n",
       "  /* unfitted */\n",
       "  background-color: var(--sklearn-color-unfitted-level-3);\n",
       "  color: var(--sklearn-color-background);\n",
       "  text-decoration: none;\n",
       "}\n",
       "\n",
       "div.sk-estimator.fitted:hover .sk-estimator-doc-link.fitted:hover,\n",
       ".sk-estimator-doc-link.fitted:hover,\n",
       "div.sk-label-container:hover .sk-estimator-doc-link.fitted:hover,\n",
       ".sk-estimator-doc-link.fitted:hover {\n",
       "  /* fitted */\n",
       "  background-color: var(--sklearn-color-fitted-level-3);\n",
       "  color: var(--sklearn-color-background);\n",
       "  text-decoration: none;\n",
       "}\n",
       "\n",
       "/* Span, style for the box shown on hovering the info icon */\n",
       ".sk-estimator-doc-link span {\n",
       "  display: none;\n",
       "  z-index: 9999;\n",
       "  position: relative;\n",
       "  font-weight: normal;\n",
       "  right: .2ex;\n",
       "  padding: .5ex;\n",
       "  margin: .5ex;\n",
       "  width: min-content;\n",
       "  min-width: 20ex;\n",
       "  max-width: 50ex;\n",
       "  color: var(--sklearn-color-text);\n",
       "  box-shadow: 2pt 2pt 4pt #999;\n",
       "  /* unfitted */\n",
       "  background: var(--sklearn-color-unfitted-level-0);\n",
       "  border: .5pt solid var(--sklearn-color-unfitted-level-3);\n",
       "}\n",
       "\n",
       ".sk-estimator-doc-link.fitted span {\n",
       "  /* fitted */\n",
       "  background: var(--sklearn-color-fitted-level-0);\n",
       "  border: var(--sklearn-color-fitted-level-3);\n",
       "}\n",
       "\n",
       ".sk-estimator-doc-link:hover span {\n",
       "  display: block;\n",
       "}\n",
       "\n",
       "/* \"?\"-specific style due to the `<a>` HTML tag */\n",
       "\n",
       "#sk-container-id-2 a.estimator_doc_link {\n",
       "  float: right;\n",
       "  font-size: 1rem;\n",
       "  line-height: 1em;\n",
       "  font-family: monospace;\n",
       "  background-color: var(--sklearn-color-background);\n",
       "  border-radius: 1rem;\n",
       "  height: 1rem;\n",
       "  width: 1rem;\n",
       "  text-decoration: none;\n",
       "  /* unfitted */\n",
       "  color: var(--sklearn-color-unfitted-level-1);\n",
       "  border: var(--sklearn-color-unfitted-level-1) 1pt solid;\n",
       "}\n",
       "\n",
       "#sk-container-id-2 a.estimator_doc_link.fitted {\n",
       "  /* fitted */\n",
       "  border: var(--sklearn-color-fitted-level-1) 1pt solid;\n",
       "  color: var(--sklearn-color-fitted-level-1);\n",
       "}\n",
       "\n",
       "/* On hover */\n",
       "#sk-container-id-2 a.estimator_doc_link:hover {\n",
       "  /* unfitted */\n",
       "  background-color: var(--sklearn-color-unfitted-level-3);\n",
       "  color: var(--sklearn-color-background);\n",
       "  text-decoration: none;\n",
       "}\n",
       "\n",
       "#sk-container-id-2 a.estimator_doc_link.fitted:hover {\n",
       "  /* fitted */\n",
       "  background-color: var(--sklearn-color-fitted-level-3);\n",
       "}\n",
       "</style><div id=\"sk-container-id-2\" class=\"sk-top-container\"><div class=\"sk-text-repr-fallback\"><pre>Pipeline(steps=[(&#x27;functiontransformer&#x27;,\n",
       "                 FunctionTransformer(func=&lt;function &lt;lambda&gt; at 0x164ce8820&gt;)),\n",
       "                (&#x27;onehotencoder&#x27;, OneHotEncoder(drop=&#x27;first&#x27;))])</pre><b>In a Jupyter environment, please rerun this cell to show the HTML representation or trust the notebook. <br />On GitHub, the HTML representation is unable to render, please try loading this page with nbviewer.org.</b></div><div class=\"sk-container\" hidden><div class=\"sk-item sk-dashed-wrapped\"><div class=\"sk-label-container\"><div class=\"sk-label  sk-toggleable\"><input class=\"sk-toggleable__control sk-hidden--visually\" id=\"sk-estimator-id-4\" type=\"checkbox\" ><label for=\"sk-estimator-id-4\" class=\"sk-toggleable__label  sk-toggleable__label-arrow \">&nbsp;&nbsp;Pipeline<a class=\"sk-estimator-doc-link \" rel=\"noreferrer\" target=\"_blank\" href=\"https://scikit-learn.org/1.5/modules/generated/sklearn.pipeline.Pipeline.html\">?<span>Documentation for Pipeline</span></a><span class=\"sk-estimator-doc-link \">i<span>Not fitted</span></span></label><div class=\"sk-toggleable__content \"><pre>Pipeline(steps=[(&#x27;functiontransformer&#x27;,\n",
       "                 FunctionTransformer(func=&lt;function &lt;lambda&gt; at 0x164ce8820&gt;)),\n",
       "                (&#x27;onehotencoder&#x27;, OneHotEncoder(drop=&#x27;first&#x27;))])</pre></div> </div></div><div class=\"sk-serial\"><div class=\"sk-item\"><div class=\"sk-estimator  sk-toggleable\"><input class=\"sk-toggleable__control sk-hidden--visually\" id=\"sk-estimator-id-5\" type=\"checkbox\" ><label for=\"sk-estimator-id-5\" class=\"sk-toggleable__label  sk-toggleable__label-arrow \">&nbsp;FunctionTransformer<a class=\"sk-estimator-doc-link \" rel=\"noreferrer\" target=\"_blank\" href=\"https://scikit-learn.org/1.5/modules/generated/sklearn.preprocessing.FunctionTransformer.html\">?<span>Documentation for FunctionTransformer</span></a></label><div class=\"sk-toggleable__content \"><pre>FunctionTransformer(func=&lt;function &lt;lambda&gt; at 0x164ce8820&gt;)</pre></div> </div></div><div class=\"sk-item\"><div class=\"sk-estimator  sk-toggleable\"><input class=\"sk-toggleable__control sk-hidden--visually\" id=\"sk-estimator-id-6\" type=\"checkbox\" ><label for=\"sk-estimator-id-6\" class=\"sk-toggleable__label  sk-toggleable__label-arrow \">&nbsp;OneHotEncoder<a class=\"sk-estimator-doc-link \" rel=\"noreferrer\" target=\"_blank\" href=\"https://scikit-learn.org/1.5/modules/generated/sklearn.preprocessing.OneHotEncoder.html\">?<span>Documentation for OneHotEncoder</span></a></label><div class=\"sk-toggleable__content \"><pre>OneHotEncoder(drop=&#x27;first&#x27;)</pre></div> </div></div></div></div></div></div>"
      ],
      "text/plain": [
       "Pipeline(steps=[('functiontransformer',\n",
       "                 FunctionTransformer(func=<function <lambda> at 0x164ce8820>)),\n",
       "                ('onehotencoder', OneHotEncoder(drop='first'))])"
      ]
     },
     "execution_count": 21,
     "metadata": {},
     "output_type": "execute_result"
    }
   ],
   "source": [
    "day_of_month_transformer = make_pipeline(week_converter, OneHotEncoder(drop='first')) \n",
    "day_of_month_transformer"
   ]
  },
  {
   "cell_type": "code",
   "execution_count": 22,
   "id": "3eb8ba0c",
   "metadata": {
    "deletable": true,
    "editable": true
   },
   "outputs": [
    {
     "data": {
      "text/plain": [
       "array([[0., 1., 0., 0.],\n",
       "       [0., 1., 0., 0.],\n",
       "       [0., 0., 1., 0.],\n",
       "       ...,\n",
       "       [0., 0., 0., 0.],\n",
       "       [0., 0., 0., 0.],\n",
       "       [0., 0., 0., 0.]])"
      ]
     },
     "execution_count": 22,
     "metadata": {},
     "output_type": "execute_result"
    }
   ],
   "source": [
    "day_of_month_transformer.fit_transform(df[['day_of_month']]).toarray()"
   ]
  },
  {
   "cell_type": "markdown",
   "id": "8d003cd7",
   "metadata": {
    "deletable": true,
    "editable": true,
    "slideshow": {
     "slide_type": "fragment"
    }
   },
   "source": [
    "- So, `day_of_month_transformer` does everything we need to transform `'day_of_month'`."
   ]
  },
  {
   "cell_type": "markdown",
   "id": "1300566d",
   "metadata": {
    "deletable": true,
    "editable": true,
    "slideshow": {
     "slide_type": "slide"
    }
   },
   "source": [
    "<center><small>\n",
    "    \n",
    "`'departure_hour'`: Create degree 2 and degree 3 polynomial features.<br>\n",
    "`'day'`: One hot encode.<br>\n",
    "`'month'`: One hot encode.<br>\n",
    "`'day_of_month'`: Separate into five weeks, then one hot encode. ✅ **Use `day_of_month_transformer`.**<br>\n",
    "    \n",
    "</small></center>"
   ]
  },
  {
   "cell_type": "markdown",
   "id": "567d6150",
   "metadata": {
    "deletable": true,
    "editable": true,
    "slideshow": {
     "slide_type": "fragment"
    }
   },
   "source": [
    "- Every other column only needs a single transformation. We can specify the transformations needed for each column using `make_column_transformer`."
   ]
  },
  {
   "cell_type": "code",
   "execution_count": 23,
   "id": "262df1f9",
   "metadata": {
    "deletable": true,
    "editable": true
   },
   "outputs": [],
   "source": [
    "from sklearn.preprocessing import PolynomialFeatures"
   ]
  },
  {
   "cell_type": "code",
   "execution_count": 24,
   "id": "85867778",
   "metadata": {
    "deletable": true,
    "editable": true
   },
   "outputs": [],
   "source": [
    "preprocessing = make_column_transformer(\n",
    "    (PolynomialFeatures(3), ['departure_hour']),\n",
    "    (OneHotEncoder(drop='first'), ['day', 'month']),\n",
    "    (day_of_month_transformer, ['day_of_month']),\n",
    "    remainder='drop'\n",
    ")"
   ]
  },
  {
   "cell_type": "markdown",
   "id": "b1297253",
   "metadata": {
    "deletable": true,
    "editable": true,
    "slideshow": {
     "slide_type": "fragment"
    }
   },
   "source": [
    "- Now, we're ready for a final Pipeline!"
   ]
  },
  {
   "cell_type": "code",
   "execution_count": 25,
   "id": "6953f8bc",
   "metadata": {
    "deletable": true,
    "editable": true
   },
   "outputs": [
    {
     "data": {
      "text/html": [
       "<style>#sk-container-id-3 {\n",
       "  /* Definition of color scheme common for light and dark mode */\n",
       "  --sklearn-color-text: black;\n",
       "  --sklearn-color-line: gray;\n",
       "  /* Definition of color scheme for unfitted estimators */\n",
       "  --sklearn-color-unfitted-level-0: #fff5e6;\n",
       "  --sklearn-color-unfitted-level-1: #f6e4d2;\n",
       "  --sklearn-color-unfitted-level-2: #ffe0b3;\n",
       "  --sklearn-color-unfitted-level-3: chocolate;\n",
       "  /* Definition of color scheme for fitted estimators */\n",
       "  --sklearn-color-fitted-level-0: #f0f8ff;\n",
       "  --sklearn-color-fitted-level-1: #d4ebff;\n",
       "  --sklearn-color-fitted-level-2: #b3dbfd;\n",
       "  --sklearn-color-fitted-level-3: cornflowerblue;\n",
       "\n",
       "  /* Specific color for light theme */\n",
       "  --sklearn-color-text-on-default-background: var(--sg-text-color, var(--theme-code-foreground, var(--jp-content-font-color1, black)));\n",
       "  --sklearn-color-background: var(--sg-background-color, var(--theme-background, var(--jp-layout-color0, white)));\n",
       "  --sklearn-color-border-box: var(--sg-text-color, var(--theme-code-foreground, var(--jp-content-font-color1, black)));\n",
       "  --sklearn-color-icon: #696969;\n",
       "\n",
       "  @media (prefers-color-scheme: dark) {\n",
       "    /* Redefinition of color scheme for dark theme */\n",
       "    --sklearn-color-text-on-default-background: var(--sg-text-color, var(--theme-code-foreground, var(--jp-content-font-color1, white)));\n",
       "    --sklearn-color-background: var(--sg-background-color, var(--theme-background, var(--jp-layout-color0, #111)));\n",
       "    --sklearn-color-border-box: var(--sg-text-color, var(--theme-code-foreground, var(--jp-content-font-color1, white)));\n",
       "    --sklearn-color-icon: #878787;\n",
       "  }\n",
       "}\n",
       "\n",
       "#sk-container-id-3 {\n",
       "  color: var(--sklearn-color-text);\n",
       "}\n",
       "\n",
       "#sk-container-id-3 pre {\n",
       "  padding: 0;\n",
       "}\n",
       "\n",
       "#sk-container-id-3 input.sk-hidden--visually {\n",
       "  border: 0;\n",
       "  clip: rect(1px 1px 1px 1px);\n",
       "  clip: rect(1px, 1px, 1px, 1px);\n",
       "  height: 1px;\n",
       "  margin: -1px;\n",
       "  overflow: hidden;\n",
       "  padding: 0;\n",
       "  position: absolute;\n",
       "  width: 1px;\n",
       "}\n",
       "\n",
       "#sk-container-id-3 div.sk-dashed-wrapped {\n",
       "  border: 1px dashed var(--sklearn-color-line);\n",
       "  margin: 0 0.4em 0.5em 0.4em;\n",
       "  box-sizing: border-box;\n",
       "  padding-bottom: 0.4em;\n",
       "  background-color: var(--sklearn-color-background);\n",
       "}\n",
       "\n",
       "#sk-container-id-3 div.sk-container {\n",
       "  /* jupyter's `normalize.less` sets `[hidden] { display: none; }`\n",
       "     but bootstrap.min.css set `[hidden] { display: none !important; }`\n",
       "     so we also need the `!important` here to be able to override the\n",
       "     default hidden behavior on the sphinx rendered scikit-learn.org.\n",
       "     See: https://github.com/scikit-learn/scikit-learn/issues/21755 */\n",
       "  display: inline-block !important;\n",
       "  position: relative;\n",
       "}\n",
       "\n",
       "#sk-container-id-3 div.sk-text-repr-fallback {\n",
       "  display: none;\n",
       "}\n",
       "\n",
       "div.sk-parallel-item,\n",
       "div.sk-serial,\n",
       "div.sk-item {\n",
       "  /* draw centered vertical line to link estimators */\n",
       "  background-image: linear-gradient(var(--sklearn-color-text-on-default-background), var(--sklearn-color-text-on-default-background));\n",
       "  background-size: 2px 100%;\n",
       "  background-repeat: no-repeat;\n",
       "  background-position: center center;\n",
       "}\n",
       "\n",
       "/* Parallel-specific style estimator block */\n",
       "\n",
       "#sk-container-id-3 div.sk-parallel-item::after {\n",
       "  content: \"\";\n",
       "  width: 100%;\n",
       "  border-bottom: 2px solid var(--sklearn-color-text-on-default-background);\n",
       "  flex-grow: 1;\n",
       "}\n",
       "\n",
       "#sk-container-id-3 div.sk-parallel {\n",
       "  display: flex;\n",
       "  align-items: stretch;\n",
       "  justify-content: center;\n",
       "  background-color: var(--sklearn-color-background);\n",
       "  position: relative;\n",
       "}\n",
       "\n",
       "#sk-container-id-3 div.sk-parallel-item {\n",
       "  display: flex;\n",
       "  flex-direction: column;\n",
       "}\n",
       "\n",
       "#sk-container-id-3 div.sk-parallel-item:first-child::after {\n",
       "  align-self: flex-end;\n",
       "  width: 50%;\n",
       "}\n",
       "\n",
       "#sk-container-id-3 div.sk-parallel-item:last-child::after {\n",
       "  align-self: flex-start;\n",
       "  width: 50%;\n",
       "}\n",
       "\n",
       "#sk-container-id-3 div.sk-parallel-item:only-child::after {\n",
       "  width: 0;\n",
       "}\n",
       "\n",
       "/* Serial-specific style estimator block */\n",
       "\n",
       "#sk-container-id-3 div.sk-serial {\n",
       "  display: flex;\n",
       "  flex-direction: column;\n",
       "  align-items: center;\n",
       "  background-color: var(--sklearn-color-background);\n",
       "  padding-right: 1em;\n",
       "  padding-left: 1em;\n",
       "}\n",
       "\n",
       "\n",
       "/* Toggleable style: style used for estimator/Pipeline/ColumnTransformer box that is\n",
       "clickable and can be expanded/collapsed.\n",
       "- Pipeline and ColumnTransformer use this feature and define the default style\n",
       "- Estimators will overwrite some part of the style using the `sk-estimator` class\n",
       "*/\n",
       "\n",
       "/* Pipeline and ColumnTransformer style (default) */\n",
       "\n",
       "#sk-container-id-3 div.sk-toggleable {\n",
       "  /* Default theme specific background. It is overwritten whether we have a\n",
       "  specific estimator or a Pipeline/ColumnTransformer */\n",
       "  background-color: var(--sklearn-color-background);\n",
       "}\n",
       "\n",
       "/* Toggleable label */\n",
       "#sk-container-id-3 label.sk-toggleable__label {\n",
       "  cursor: pointer;\n",
       "  display: block;\n",
       "  width: 100%;\n",
       "  margin-bottom: 0;\n",
       "  padding: 0.5em;\n",
       "  box-sizing: border-box;\n",
       "  text-align: center;\n",
       "}\n",
       "\n",
       "#sk-container-id-3 label.sk-toggleable__label-arrow:before {\n",
       "  /* Arrow on the left of the label */\n",
       "  content: \"▸\";\n",
       "  float: left;\n",
       "  margin-right: 0.25em;\n",
       "  color: var(--sklearn-color-icon);\n",
       "}\n",
       "\n",
       "#sk-container-id-3 label.sk-toggleable__label-arrow:hover:before {\n",
       "  color: var(--sklearn-color-text);\n",
       "}\n",
       "\n",
       "/* Toggleable content - dropdown */\n",
       "\n",
       "#sk-container-id-3 div.sk-toggleable__content {\n",
       "  max-height: 0;\n",
       "  max-width: 0;\n",
       "  overflow: hidden;\n",
       "  text-align: left;\n",
       "  /* unfitted */\n",
       "  background-color: var(--sklearn-color-unfitted-level-0);\n",
       "}\n",
       "\n",
       "#sk-container-id-3 div.sk-toggleable__content.fitted {\n",
       "  /* fitted */\n",
       "  background-color: var(--sklearn-color-fitted-level-0);\n",
       "}\n",
       "\n",
       "#sk-container-id-3 div.sk-toggleable__content pre {\n",
       "  margin: 0.2em;\n",
       "  border-radius: 0.25em;\n",
       "  color: var(--sklearn-color-text);\n",
       "  /* unfitted */\n",
       "  background-color: var(--sklearn-color-unfitted-level-0);\n",
       "}\n",
       "\n",
       "#sk-container-id-3 div.sk-toggleable__content.fitted pre {\n",
       "  /* unfitted */\n",
       "  background-color: var(--sklearn-color-fitted-level-0);\n",
       "}\n",
       "\n",
       "#sk-container-id-3 input.sk-toggleable__control:checked~div.sk-toggleable__content {\n",
       "  /* Expand drop-down */\n",
       "  max-height: 200px;\n",
       "  max-width: 100%;\n",
       "  overflow: auto;\n",
       "}\n",
       "\n",
       "#sk-container-id-3 input.sk-toggleable__control:checked~label.sk-toggleable__label-arrow:before {\n",
       "  content: \"▾\";\n",
       "}\n",
       "\n",
       "/* Pipeline/ColumnTransformer-specific style */\n",
       "\n",
       "#sk-container-id-3 div.sk-label input.sk-toggleable__control:checked~label.sk-toggleable__label {\n",
       "  color: var(--sklearn-color-text);\n",
       "  background-color: var(--sklearn-color-unfitted-level-2);\n",
       "}\n",
       "\n",
       "#sk-container-id-3 div.sk-label.fitted input.sk-toggleable__control:checked~label.sk-toggleable__label {\n",
       "  background-color: var(--sklearn-color-fitted-level-2);\n",
       "}\n",
       "\n",
       "/* Estimator-specific style */\n",
       "\n",
       "/* Colorize estimator box */\n",
       "#sk-container-id-3 div.sk-estimator input.sk-toggleable__control:checked~label.sk-toggleable__label {\n",
       "  /* unfitted */\n",
       "  background-color: var(--sklearn-color-unfitted-level-2);\n",
       "}\n",
       "\n",
       "#sk-container-id-3 div.sk-estimator.fitted input.sk-toggleable__control:checked~label.sk-toggleable__label {\n",
       "  /* fitted */\n",
       "  background-color: var(--sklearn-color-fitted-level-2);\n",
       "}\n",
       "\n",
       "#sk-container-id-3 div.sk-label label.sk-toggleable__label,\n",
       "#sk-container-id-3 div.sk-label label {\n",
       "  /* The background is the default theme color */\n",
       "  color: var(--sklearn-color-text-on-default-background);\n",
       "}\n",
       "\n",
       "/* On hover, darken the color of the background */\n",
       "#sk-container-id-3 div.sk-label:hover label.sk-toggleable__label {\n",
       "  color: var(--sklearn-color-text);\n",
       "  background-color: var(--sklearn-color-unfitted-level-2);\n",
       "}\n",
       "\n",
       "/* Label box, darken color on hover, fitted */\n",
       "#sk-container-id-3 div.sk-label.fitted:hover label.sk-toggleable__label.fitted {\n",
       "  color: var(--sklearn-color-text);\n",
       "  background-color: var(--sklearn-color-fitted-level-2);\n",
       "}\n",
       "\n",
       "/* Estimator label */\n",
       "\n",
       "#sk-container-id-3 div.sk-label label {\n",
       "  font-family: monospace;\n",
       "  font-weight: bold;\n",
       "  display: inline-block;\n",
       "  line-height: 1.2em;\n",
       "}\n",
       "\n",
       "#sk-container-id-3 div.sk-label-container {\n",
       "  text-align: center;\n",
       "}\n",
       "\n",
       "/* Estimator-specific */\n",
       "#sk-container-id-3 div.sk-estimator {\n",
       "  font-family: monospace;\n",
       "  border: 1px dotted var(--sklearn-color-border-box);\n",
       "  border-radius: 0.25em;\n",
       "  box-sizing: border-box;\n",
       "  margin-bottom: 0.5em;\n",
       "  /* unfitted */\n",
       "  background-color: var(--sklearn-color-unfitted-level-0);\n",
       "}\n",
       "\n",
       "#sk-container-id-3 div.sk-estimator.fitted {\n",
       "  /* fitted */\n",
       "  background-color: var(--sklearn-color-fitted-level-0);\n",
       "}\n",
       "\n",
       "/* on hover */\n",
       "#sk-container-id-3 div.sk-estimator:hover {\n",
       "  /* unfitted */\n",
       "  background-color: var(--sklearn-color-unfitted-level-2);\n",
       "}\n",
       "\n",
       "#sk-container-id-3 div.sk-estimator.fitted:hover {\n",
       "  /* fitted */\n",
       "  background-color: var(--sklearn-color-fitted-level-2);\n",
       "}\n",
       "\n",
       "/* Specification for estimator info (e.g. \"i\" and \"?\") */\n",
       "\n",
       "/* Common style for \"i\" and \"?\" */\n",
       "\n",
       ".sk-estimator-doc-link,\n",
       "a:link.sk-estimator-doc-link,\n",
       "a:visited.sk-estimator-doc-link {\n",
       "  float: right;\n",
       "  font-size: smaller;\n",
       "  line-height: 1em;\n",
       "  font-family: monospace;\n",
       "  background-color: var(--sklearn-color-background);\n",
       "  border-radius: 1em;\n",
       "  height: 1em;\n",
       "  width: 1em;\n",
       "  text-decoration: none !important;\n",
       "  margin-left: 1ex;\n",
       "  /* unfitted */\n",
       "  border: var(--sklearn-color-unfitted-level-1) 1pt solid;\n",
       "  color: var(--sklearn-color-unfitted-level-1);\n",
       "}\n",
       "\n",
       ".sk-estimator-doc-link.fitted,\n",
       "a:link.sk-estimator-doc-link.fitted,\n",
       "a:visited.sk-estimator-doc-link.fitted {\n",
       "  /* fitted */\n",
       "  border: var(--sklearn-color-fitted-level-1) 1pt solid;\n",
       "  color: var(--sklearn-color-fitted-level-1);\n",
       "}\n",
       "\n",
       "/* On hover */\n",
       "div.sk-estimator:hover .sk-estimator-doc-link:hover,\n",
       ".sk-estimator-doc-link:hover,\n",
       "div.sk-label-container:hover .sk-estimator-doc-link:hover,\n",
       ".sk-estimator-doc-link:hover {\n",
       "  /* unfitted */\n",
       "  background-color: var(--sklearn-color-unfitted-level-3);\n",
       "  color: var(--sklearn-color-background);\n",
       "  text-decoration: none;\n",
       "}\n",
       "\n",
       "div.sk-estimator.fitted:hover .sk-estimator-doc-link.fitted:hover,\n",
       ".sk-estimator-doc-link.fitted:hover,\n",
       "div.sk-label-container:hover .sk-estimator-doc-link.fitted:hover,\n",
       ".sk-estimator-doc-link.fitted:hover {\n",
       "  /* fitted */\n",
       "  background-color: var(--sklearn-color-fitted-level-3);\n",
       "  color: var(--sklearn-color-background);\n",
       "  text-decoration: none;\n",
       "}\n",
       "\n",
       "/* Span, style for the box shown on hovering the info icon */\n",
       ".sk-estimator-doc-link span {\n",
       "  display: none;\n",
       "  z-index: 9999;\n",
       "  position: relative;\n",
       "  font-weight: normal;\n",
       "  right: .2ex;\n",
       "  padding: .5ex;\n",
       "  margin: .5ex;\n",
       "  width: min-content;\n",
       "  min-width: 20ex;\n",
       "  max-width: 50ex;\n",
       "  color: var(--sklearn-color-text);\n",
       "  box-shadow: 2pt 2pt 4pt #999;\n",
       "  /* unfitted */\n",
       "  background: var(--sklearn-color-unfitted-level-0);\n",
       "  border: .5pt solid var(--sklearn-color-unfitted-level-3);\n",
       "}\n",
       "\n",
       ".sk-estimator-doc-link.fitted span {\n",
       "  /* fitted */\n",
       "  background: var(--sklearn-color-fitted-level-0);\n",
       "  border: var(--sklearn-color-fitted-level-3);\n",
       "}\n",
       "\n",
       ".sk-estimator-doc-link:hover span {\n",
       "  display: block;\n",
       "}\n",
       "\n",
       "/* \"?\"-specific style due to the `<a>` HTML tag */\n",
       "\n",
       "#sk-container-id-3 a.estimator_doc_link {\n",
       "  float: right;\n",
       "  font-size: 1rem;\n",
       "  line-height: 1em;\n",
       "  font-family: monospace;\n",
       "  background-color: var(--sklearn-color-background);\n",
       "  border-radius: 1rem;\n",
       "  height: 1rem;\n",
       "  width: 1rem;\n",
       "  text-decoration: none;\n",
       "  /* unfitted */\n",
       "  color: var(--sklearn-color-unfitted-level-1);\n",
       "  border: var(--sklearn-color-unfitted-level-1) 1pt solid;\n",
       "}\n",
       "\n",
       "#sk-container-id-3 a.estimator_doc_link.fitted {\n",
       "  /* fitted */\n",
       "  border: var(--sklearn-color-fitted-level-1) 1pt solid;\n",
       "  color: var(--sklearn-color-fitted-level-1);\n",
       "}\n",
       "\n",
       "/* On hover */\n",
       "#sk-container-id-3 a.estimator_doc_link:hover {\n",
       "  /* unfitted */\n",
       "  background-color: var(--sklearn-color-unfitted-level-3);\n",
       "  color: var(--sklearn-color-background);\n",
       "  text-decoration: none;\n",
       "}\n",
       "\n",
       "#sk-container-id-3 a.estimator_doc_link.fitted:hover {\n",
       "  /* fitted */\n",
       "  background-color: var(--sklearn-color-fitted-level-3);\n",
       "}\n",
       "</style><div id=\"sk-container-id-3\" class=\"sk-top-container\"><div class=\"sk-text-repr-fallback\"><pre>Pipeline(steps=[(&#x27;columntransformer&#x27;,\n",
       "                 ColumnTransformer(transformers=[(&#x27;polynomialfeatures&#x27;,\n",
       "                                                  PolynomialFeatures(degree=3),\n",
       "                                                  [&#x27;departure_hour&#x27;]),\n",
       "                                                 (&#x27;onehotencoder&#x27;,\n",
       "                                                  OneHotEncoder(drop=&#x27;first&#x27;),\n",
       "                                                  [&#x27;day&#x27;, &#x27;month&#x27;]),\n",
       "                                                 (&#x27;pipeline&#x27;,\n",
       "                                                  Pipeline(steps=[(&#x27;functiontransformer&#x27;,\n",
       "                                                                   FunctionTransformer(func=&lt;function &lt;lambda&gt; at 0x164ce8820&gt;)),\n",
       "                                                                  (&#x27;onehotencoder&#x27;,\n",
       "                                                                   OneHotEncoder(drop=&#x27;first&#x27;))]),\n",
       "                                                  [&#x27;day_of_month&#x27;])])),\n",
       "                (&#x27;linearregression&#x27;, LinearRegression())])</pre><b>In a Jupyter environment, please rerun this cell to show the HTML representation or trust the notebook. <br />On GitHub, the HTML representation is unable to render, please try loading this page with nbviewer.org.</b></div><div class=\"sk-container\" hidden><div class=\"sk-item sk-dashed-wrapped\"><div class=\"sk-label-container\"><div class=\"sk-label  sk-toggleable\"><input class=\"sk-toggleable__control sk-hidden--visually\" id=\"sk-estimator-id-7\" type=\"checkbox\" ><label for=\"sk-estimator-id-7\" class=\"sk-toggleable__label  sk-toggleable__label-arrow \">&nbsp;&nbsp;Pipeline<a class=\"sk-estimator-doc-link \" rel=\"noreferrer\" target=\"_blank\" href=\"https://scikit-learn.org/1.5/modules/generated/sklearn.pipeline.Pipeline.html\">?<span>Documentation for Pipeline</span></a><span class=\"sk-estimator-doc-link \">i<span>Not fitted</span></span></label><div class=\"sk-toggleable__content \"><pre>Pipeline(steps=[(&#x27;columntransformer&#x27;,\n",
       "                 ColumnTransformer(transformers=[(&#x27;polynomialfeatures&#x27;,\n",
       "                                                  PolynomialFeatures(degree=3),\n",
       "                                                  [&#x27;departure_hour&#x27;]),\n",
       "                                                 (&#x27;onehotencoder&#x27;,\n",
       "                                                  OneHotEncoder(drop=&#x27;first&#x27;),\n",
       "                                                  [&#x27;day&#x27;, &#x27;month&#x27;]),\n",
       "                                                 (&#x27;pipeline&#x27;,\n",
       "                                                  Pipeline(steps=[(&#x27;functiontransformer&#x27;,\n",
       "                                                                   FunctionTransformer(func=&lt;function &lt;lambda&gt; at 0x164ce8820&gt;)),\n",
       "                                                                  (&#x27;onehotencoder&#x27;,\n",
       "                                                                   OneHotEncoder(drop=&#x27;first&#x27;))]),\n",
       "                                                  [&#x27;day_of_month&#x27;])])),\n",
       "                (&#x27;linearregression&#x27;, LinearRegression())])</pre></div> </div></div><div class=\"sk-serial\"><div class=\"sk-item sk-dashed-wrapped\"><div class=\"sk-label-container\"><div class=\"sk-label  sk-toggleable\"><input class=\"sk-toggleable__control sk-hidden--visually\" id=\"sk-estimator-id-8\" type=\"checkbox\" ><label for=\"sk-estimator-id-8\" class=\"sk-toggleable__label  sk-toggleable__label-arrow \">&nbsp;columntransformer: ColumnTransformer<a class=\"sk-estimator-doc-link \" rel=\"noreferrer\" target=\"_blank\" href=\"https://scikit-learn.org/1.5/modules/generated/sklearn.compose.ColumnTransformer.html\">?<span>Documentation for columntransformer: ColumnTransformer</span></a></label><div class=\"sk-toggleable__content \"><pre>ColumnTransformer(transformers=[(&#x27;polynomialfeatures&#x27;,\n",
       "                                 PolynomialFeatures(degree=3),\n",
       "                                 [&#x27;departure_hour&#x27;]),\n",
       "                                (&#x27;onehotencoder&#x27;, OneHotEncoder(drop=&#x27;first&#x27;),\n",
       "                                 [&#x27;day&#x27;, &#x27;month&#x27;]),\n",
       "                                (&#x27;pipeline&#x27;,\n",
       "                                 Pipeline(steps=[(&#x27;functiontransformer&#x27;,\n",
       "                                                  FunctionTransformer(func=&lt;function &lt;lambda&gt; at 0x164ce8820&gt;)),\n",
       "                                                 (&#x27;onehotencoder&#x27;,\n",
       "                                                  OneHotEncoder(drop=&#x27;first&#x27;))]),\n",
       "                                 [&#x27;day_of_month&#x27;])])</pre></div> </div></div><div class=\"sk-parallel\"><div class=\"sk-parallel-item\"><div class=\"sk-item\"><div class=\"sk-label-container\"><div class=\"sk-label  sk-toggleable\"><input class=\"sk-toggleable__control sk-hidden--visually\" id=\"sk-estimator-id-9\" type=\"checkbox\" ><label for=\"sk-estimator-id-9\" class=\"sk-toggleable__label  sk-toggleable__label-arrow \">polynomialfeatures</label><div class=\"sk-toggleable__content \"><pre>[&#x27;departure_hour&#x27;]</pre></div> </div></div><div class=\"sk-serial\"><div class=\"sk-item\"><div class=\"sk-estimator  sk-toggleable\"><input class=\"sk-toggleable__control sk-hidden--visually\" id=\"sk-estimator-id-10\" type=\"checkbox\" ><label for=\"sk-estimator-id-10\" class=\"sk-toggleable__label  sk-toggleable__label-arrow \">&nbsp;PolynomialFeatures<a class=\"sk-estimator-doc-link \" rel=\"noreferrer\" target=\"_blank\" href=\"https://scikit-learn.org/1.5/modules/generated/sklearn.preprocessing.PolynomialFeatures.html\">?<span>Documentation for PolynomialFeatures</span></a></label><div class=\"sk-toggleable__content \"><pre>PolynomialFeatures(degree=3)</pre></div> </div></div></div></div></div><div class=\"sk-parallel-item\"><div class=\"sk-item\"><div class=\"sk-label-container\"><div class=\"sk-label  sk-toggleable\"><input class=\"sk-toggleable__control sk-hidden--visually\" id=\"sk-estimator-id-11\" type=\"checkbox\" ><label for=\"sk-estimator-id-11\" class=\"sk-toggleable__label  sk-toggleable__label-arrow \">onehotencoder</label><div class=\"sk-toggleable__content \"><pre>[&#x27;day&#x27;, &#x27;month&#x27;]</pre></div> </div></div><div class=\"sk-serial\"><div class=\"sk-item\"><div class=\"sk-estimator  sk-toggleable\"><input class=\"sk-toggleable__control sk-hidden--visually\" id=\"sk-estimator-id-12\" type=\"checkbox\" ><label for=\"sk-estimator-id-12\" class=\"sk-toggleable__label  sk-toggleable__label-arrow \">&nbsp;OneHotEncoder<a class=\"sk-estimator-doc-link \" rel=\"noreferrer\" target=\"_blank\" href=\"https://scikit-learn.org/1.5/modules/generated/sklearn.preprocessing.OneHotEncoder.html\">?<span>Documentation for OneHotEncoder</span></a></label><div class=\"sk-toggleable__content \"><pre>OneHotEncoder(drop=&#x27;first&#x27;)</pre></div> </div></div></div></div></div><div class=\"sk-parallel-item\"><div class=\"sk-item\"><div class=\"sk-label-container\"><div class=\"sk-label  sk-toggleable\"><input class=\"sk-toggleable__control sk-hidden--visually\" id=\"sk-estimator-id-13\" type=\"checkbox\" ><label for=\"sk-estimator-id-13\" class=\"sk-toggleable__label  sk-toggleable__label-arrow \">pipeline</label><div class=\"sk-toggleable__content \"><pre>[&#x27;day_of_month&#x27;]</pre></div> </div></div><div class=\"sk-serial\"><div class=\"sk-item\"><div class=\"sk-serial\"><div class=\"sk-item\"><div class=\"sk-estimator  sk-toggleable\"><input class=\"sk-toggleable__control sk-hidden--visually\" id=\"sk-estimator-id-14\" type=\"checkbox\" ><label for=\"sk-estimator-id-14\" class=\"sk-toggleable__label  sk-toggleable__label-arrow \">&nbsp;FunctionTransformer<a class=\"sk-estimator-doc-link \" rel=\"noreferrer\" target=\"_blank\" href=\"https://scikit-learn.org/1.5/modules/generated/sklearn.preprocessing.FunctionTransformer.html\">?<span>Documentation for FunctionTransformer</span></a></label><div class=\"sk-toggleable__content \"><pre>FunctionTransformer(func=&lt;function &lt;lambda&gt; at 0x164ce8820&gt;)</pre></div> </div></div><div class=\"sk-item\"><div class=\"sk-estimator  sk-toggleable\"><input class=\"sk-toggleable__control sk-hidden--visually\" id=\"sk-estimator-id-15\" type=\"checkbox\" ><label for=\"sk-estimator-id-15\" class=\"sk-toggleable__label  sk-toggleable__label-arrow \">&nbsp;OneHotEncoder<a class=\"sk-estimator-doc-link \" rel=\"noreferrer\" target=\"_blank\" href=\"https://scikit-learn.org/1.5/modules/generated/sklearn.preprocessing.OneHotEncoder.html\">?<span>Documentation for OneHotEncoder</span></a></label><div class=\"sk-toggleable__content \"><pre>OneHotEncoder(drop=&#x27;first&#x27;)</pre></div> </div></div></div></div></div></div></div></div></div><div class=\"sk-item\"><div class=\"sk-estimator  sk-toggleable\"><input class=\"sk-toggleable__control sk-hidden--visually\" id=\"sk-estimator-id-16\" type=\"checkbox\" ><label for=\"sk-estimator-id-16\" class=\"sk-toggleable__label  sk-toggleable__label-arrow \">&nbsp;LinearRegression<a class=\"sk-estimator-doc-link \" rel=\"noreferrer\" target=\"_blank\" href=\"https://scikit-learn.org/1.5/modules/generated/sklearn.linear_model.LinearRegression.html\">?<span>Documentation for LinearRegression</span></a></label><div class=\"sk-toggleable__content \"><pre>LinearRegression()</pre></div> </div></div></div></div></div></div>"
      ],
      "text/plain": [
       "Pipeline(steps=[('columntransformer',\n",
       "                 ColumnTransformer(transformers=[('polynomialfeatures',\n",
       "                                                  PolynomialFeatures(degree=3),\n",
       "                                                  ['departure_hour']),\n",
       "                                                 ('onehotencoder',\n",
       "                                                  OneHotEncoder(drop='first'),\n",
       "                                                  ['day', 'month']),\n",
       "                                                 ('pipeline',\n",
       "                                                  Pipeline(steps=[('functiontransformer',\n",
       "                                                                   FunctionTransformer(func=<function <lambda> at 0x164ce8820>)),\n",
       "                                                                  ('onehotencoder',\n",
       "                                                                   OneHotEncoder(drop='first'))]),\n",
       "                                                  ['day_of_month'])])),\n",
       "                ('linearregression', LinearRegression())])"
      ]
     },
     "execution_count": 25,
     "metadata": {},
     "output_type": "execute_result"
    }
   ],
   "source": [
    "model = make_pipeline(preprocessing, LinearRegression())\n",
    "model"
   ]
  },
  {
   "cell_type": "code",
   "execution_count": 26,
   "id": "ff2b7ac6",
   "metadata": {
    "deletable": true,
    "editable": true
   },
   "outputs": [
    {
     "data": {
      "text/html": [
       "<style>#sk-container-id-4 {\n",
       "  /* Definition of color scheme common for light and dark mode */\n",
       "  --sklearn-color-text: black;\n",
       "  --sklearn-color-line: gray;\n",
       "  /* Definition of color scheme for unfitted estimators */\n",
       "  --sklearn-color-unfitted-level-0: #fff5e6;\n",
       "  --sklearn-color-unfitted-level-1: #f6e4d2;\n",
       "  --sklearn-color-unfitted-level-2: #ffe0b3;\n",
       "  --sklearn-color-unfitted-level-3: chocolate;\n",
       "  /* Definition of color scheme for fitted estimators */\n",
       "  --sklearn-color-fitted-level-0: #f0f8ff;\n",
       "  --sklearn-color-fitted-level-1: #d4ebff;\n",
       "  --sklearn-color-fitted-level-2: #b3dbfd;\n",
       "  --sklearn-color-fitted-level-3: cornflowerblue;\n",
       "\n",
       "  /* Specific color for light theme */\n",
       "  --sklearn-color-text-on-default-background: var(--sg-text-color, var(--theme-code-foreground, var(--jp-content-font-color1, black)));\n",
       "  --sklearn-color-background: var(--sg-background-color, var(--theme-background, var(--jp-layout-color0, white)));\n",
       "  --sklearn-color-border-box: var(--sg-text-color, var(--theme-code-foreground, var(--jp-content-font-color1, black)));\n",
       "  --sklearn-color-icon: #696969;\n",
       "\n",
       "  @media (prefers-color-scheme: dark) {\n",
       "    /* Redefinition of color scheme for dark theme */\n",
       "    --sklearn-color-text-on-default-background: var(--sg-text-color, var(--theme-code-foreground, var(--jp-content-font-color1, white)));\n",
       "    --sklearn-color-background: var(--sg-background-color, var(--theme-background, var(--jp-layout-color0, #111)));\n",
       "    --sklearn-color-border-box: var(--sg-text-color, var(--theme-code-foreground, var(--jp-content-font-color1, white)));\n",
       "    --sklearn-color-icon: #878787;\n",
       "  }\n",
       "}\n",
       "\n",
       "#sk-container-id-4 {\n",
       "  color: var(--sklearn-color-text);\n",
       "}\n",
       "\n",
       "#sk-container-id-4 pre {\n",
       "  padding: 0;\n",
       "}\n",
       "\n",
       "#sk-container-id-4 input.sk-hidden--visually {\n",
       "  border: 0;\n",
       "  clip: rect(1px 1px 1px 1px);\n",
       "  clip: rect(1px, 1px, 1px, 1px);\n",
       "  height: 1px;\n",
       "  margin: -1px;\n",
       "  overflow: hidden;\n",
       "  padding: 0;\n",
       "  position: absolute;\n",
       "  width: 1px;\n",
       "}\n",
       "\n",
       "#sk-container-id-4 div.sk-dashed-wrapped {\n",
       "  border: 1px dashed var(--sklearn-color-line);\n",
       "  margin: 0 0.4em 0.5em 0.4em;\n",
       "  box-sizing: border-box;\n",
       "  padding-bottom: 0.4em;\n",
       "  background-color: var(--sklearn-color-background);\n",
       "}\n",
       "\n",
       "#sk-container-id-4 div.sk-container {\n",
       "  /* jupyter's `normalize.less` sets `[hidden] { display: none; }`\n",
       "     but bootstrap.min.css set `[hidden] { display: none !important; }`\n",
       "     so we also need the `!important` here to be able to override the\n",
       "     default hidden behavior on the sphinx rendered scikit-learn.org.\n",
       "     See: https://github.com/scikit-learn/scikit-learn/issues/21755 */\n",
       "  display: inline-block !important;\n",
       "  position: relative;\n",
       "}\n",
       "\n",
       "#sk-container-id-4 div.sk-text-repr-fallback {\n",
       "  display: none;\n",
       "}\n",
       "\n",
       "div.sk-parallel-item,\n",
       "div.sk-serial,\n",
       "div.sk-item {\n",
       "  /* draw centered vertical line to link estimators */\n",
       "  background-image: linear-gradient(var(--sklearn-color-text-on-default-background), var(--sklearn-color-text-on-default-background));\n",
       "  background-size: 2px 100%;\n",
       "  background-repeat: no-repeat;\n",
       "  background-position: center center;\n",
       "}\n",
       "\n",
       "/* Parallel-specific style estimator block */\n",
       "\n",
       "#sk-container-id-4 div.sk-parallel-item::after {\n",
       "  content: \"\";\n",
       "  width: 100%;\n",
       "  border-bottom: 2px solid var(--sklearn-color-text-on-default-background);\n",
       "  flex-grow: 1;\n",
       "}\n",
       "\n",
       "#sk-container-id-4 div.sk-parallel {\n",
       "  display: flex;\n",
       "  align-items: stretch;\n",
       "  justify-content: center;\n",
       "  background-color: var(--sklearn-color-background);\n",
       "  position: relative;\n",
       "}\n",
       "\n",
       "#sk-container-id-4 div.sk-parallel-item {\n",
       "  display: flex;\n",
       "  flex-direction: column;\n",
       "}\n",
       "\n",
       "#sk-container-id-4 div.sk-parallel-item:first-child::after {\n",
       "  align-self: flex-end;\n",
       "  width: 50%;\n",
       "}\n",
       "\n",
       "#sk-container-id-4 div.sk-parallel-item:last-child::after {\n",
       "  align-self: flex-start;\n",
       "  width: 50%;\n",
       "}\n",
       "\n",
       "#sk-container-id-4 div.sk-parallel-item:only-child::after {\n",
       "  width: 0;\n",
       "}\n",
       "\n",
       "/* Serial-specific style estimator block */\n",
       "\n",
       "#sk-container-id-4 div.sk-serial {\n",
       "  display: flex;\n",
       "  flex-direction: column;\n",
       "  align-items: center;\n",
       "  background-color: var(--sklearn-color-background);\n",
       "  padding-right: 1em;\n",
       "  padding-left: 1em;\n",
       "}\n",
       "\n",
       "\n",
       "/* Toggleable style: style used for estimator/Pipeline/ColumnTransformer box that is\n",
       "clickable and can be expanded/collapsed.\n",
       "- Pipeline and ColumnTransformer use this feature and define the default style\n",
       "- Estimators will overwrite some part of the style using the `sk-estimator` class\n",
       "*/\n",
       "\n",
       "/* Pipeline and ColumnTransformer style (default) */\n",
       "\n",
       "#sk-container-id-4 div.sk-toggleable {\n",
       "  /* Default theme specific background. It is overwritten whether we have a\n",
       "  specific estimator or a Pipeline/ColumnTransformer */\n",
       "  background-color: var(--sklearn-color-background);\n",
       "}\n",
       "\n",
       "/* Toggleable label */\n",
       "#sk-container-id-4 label.sk-toggleable__label {\n",
       "  cursor: pointer;\n",
       "  display: block;\n",
       "  width: 100%;\n",
       "  margin-bottom: 0;\n",
       "  padding: 0.5em;\n",
       "  box-sizing: border-box;\n",
       "  text-align: center;\n",
       "}\n",
       "\n",
       "#sk-container-id-4 label.sk-toggleable__label-arrow:before {\n",
       "  /* Arrow on the left of the label */\n",
       "  content: \"▸\";\n",
       "  float: left;\n",
       "  margin-right: 0.25em;\n",
       "  color: var(--sklearn-color-icon);\n",
       "}\n",
       "\n",
       "#sk-container-id-4 label.sk-toggleable__label-arrow:hover:before {\n",
       "  color: var(--sklearn-color-text);\n",
       "}\n",
       "\n",
       "/* Toggleable content - dropdown */\n",
       "\n",
       "#sk-container-id-4 div.sk-toggleable__content {\n",
       "  max-height: 0;\n",
       "  max-width: 0;\n",
       "  overflow: hidden;\n",
       "  text-align: left;\n",
       "  /* unfitted */\n",
       "  background-color: var(--sklearn-color-unfitted-level-0);\n",
       "}\n",
       "\n",
       "#sk-container-id-4 div.sk-toggleable__content.fitted {\n",
       "  /* fitted */\n",
       "  background-color: var(--sklearn-color-fitted-level-0);\n",
       "}\n",
       "\n",
       "#sk-container-id-4 div.sk-toggleable__content pre {\n",
       "  margin: 0.2em;\n",
       "  border-radius: 0.25em;\n",
       "  color: var(--sklearn-color-text);\n",
       "  /* unfitted */\n",
       "  background-color: var(--sklearn-color-unfitted-level-0);\n",
       "}\n",
       "\n",
       "#sk-container-id-4 div.sk-toggleable__content.fitted pre {\n",
       "  /* unfitted */\n",
       "  background-color: var(--sklearn-color-fitted-level-0);\n",
       "}\n",
       "\n",
       "#sk-container-id-4 input.sk-toggleable__control:checked~div.sk-toggleable__content {\n",
       "  /* Expand drop-down */\n",
       "  max-height: 200px;\n",
       "  max-width: 100%;\n",
       "  overflow: auto;\n",
       "}\n",
       "\n",
       "#sk-container-id-4 input.sk-toggleable__control:checked~label.sk-toggleable__label-arrow:before {\n",
       "  content: \"▾\";\n",
       "}\n",
       "\n",
       "/* Pipeline/ColumnTransformer-specific style */\n",
       "\n",
       "#sk-container-id-4 div.sk-label input.sk-toggleable__control:checked~label.sk-toggleable__label {\n",
       "  color: var(--sklearn-color-text);\n",
       "  background-color: var(--sklearn-color-unfitted-level-2);\n",
       "}\n",
       "\n",
       "#sk-container-id-4 div.sk-label.fitted input.sk-toggleable__control:checked~label.sk-toggleable__label {\n",
       "  background-color: var(--sklearn-color-fitted-level-2);\n",
       "}\n",
       "\n",
       "/* Estimator-specific style */\n",
       "\n",
       "/* Colorize estimator box */\n",
       "#sk-container-id-4 div.sk-estimator input.sk-toggleable__control:checked~label.sk-toggleable__label {\n",
       "  /* unfitted */\n",
       "  background-color: var(--sklearn-color-unfitted-level-2);\n",
       "}\n",
       "\n",
       "#sk-container-id-4 div.sk-estimator.fitted input.sk-toggleable__control:checked~label.sk-toggleable__label {\n",
       "  /* fitted */\n",
       "  background-color: var(--sklearn-color-fitted-level-2);\n",
       "}\n",
       "\n",
       "#sk-container-id-4 div.sk-label label.sk-toggleable__label,\n",
       "#sk-container-id-4 div.sk-label label {\n",
       "  /* The background is the default theme color */\n",
       "  color: var(--sklearn-color-text-on-default-background);\n",
       "}\n",
       "\n",
       "/* On hover, darken the color of the background */\n",
       "#sk-container-id-4 div.sk-label:hover label.sk-toggleable__label {\n",
       "  color: var(--sklearn-color-text);\n",
       "  background-color: var(--sklearn-color-unfitted-level-2);\n",
       "}\n",
       "\n",
       "/* Label box, darken color on hover, fitted */\n",
       "#sk-container-id-4 div.sk-label.fitted:hover label.sk-toggleable__label.fitted {\n",
       "  color: var(--sklearn-color-text);\n",
       "  background-color: var(--sklearn-color-fitted-level-2);\n",
       "}\n",
       "\n",
       "/* Estimator label */\n",
       "\n",
       "#sk-container-id-4 div.sk-label label {\n",
       "  font-family: monospace;\n",
       "  font-weight: bold;\n",
       "  display: inline-block;\n",
       "  line-height: 1.2em;\n",
       "}\n",
       "\n",
       "#sk-container-id-4 div.sk-label-container {\n",
       "  text-align: center;\n",
       "}\n",
       "\n",
       "/* Estimator-specific */\n",
       "#sk-container-id-4 div.sk-estimator {\n",
       "  font-family: monospace;\n",
       "  border: 1px dotted var(--sklearn-color-border-box);\n",
       "  border-radius: 0.25em;\n",
       "  box-sizing: border-box;\n",
       "  margin-bottom: 0.5em;\n",
       "  /* unfitted */\n",
       "  background-color: var(--sklearn-color-unfitted-level-0);\n",
       "}\n",
       "\n",
       "#sk-container-id-4 div.sk-estimator.fitted {\n",
       "  /* fitted */\n",
       "  background-color: var(--sklearn-color-fitted-level-0);\n",
       "}\n",
       "\n",
       "/* on hover */\n",
       "#sk-container-id-4 div.sk-estimator:hover {\n",
       "  /* unfitted */\n",
       "  background-color: var(--sklearn-color-unfitted-level-2);\n",
       "}\n",
       "\n",
       "#sk-container-id-4 div.sk-estimator.fitted:hover {\n",
       "  /* fitted */\n",
       "  background-color: var(--sklearn-color-fitted-level-2);\n",
       "}\n",
       "\n",
       "/* Specification for estimator info (e.g. \"i\" and \"?\") */\n",
       "\n",
       "/* Common style for \"i\" and \"?\" */\n",
       "\n",
       ".sk-estimator-doc-link,\n",
       "a:link.sk-estimator-doc-link,\n",
       "a:visited.sk-estimator-doc-link {\n",
       "  float: right;\n",
       "  font-size: smaller;\n",
       "  line-height: 1em;\n",
       "  font-family: monospace;\n",
       "  background-color: var(--sklearn-color-background);\n",
       "  border-radius: 1em;\n",
       "  height: 1em;\n",
       "  width: 1em;\n",
       "  text-decoration: none !important;\n",
       "  margin-left: 1ex;\n",
       "  /* unfitted */\n",
       "  border: var(--sklearn-color-unfitted-level-1) 1pt solid;\n",
       "  color: var(--sklearn-color-unfitted-level-1);\n",
       "}\n",
       "\n",
       ".sk-estimator-doc-link.fitted,\n",
       "a:link.sk-estimator-doc-link.fitted,\n",
       "a:visited.sk-estimator-doc-link.fitted {\n",
       "  /* fitted */\n",
       "  border: var(--sklearn-color-fitted-level-1) 1pt solid;\n",
       "  color: var(--sklearn-color-fitted-level-1);\n",
       "}\n",
       "\n",
       "/* On hover */\n",
       "div.sk-estimator:hover .sk-estimator-doc-link:hover,\n",
       ".sk-estimator-doc-link:hover,\n",
       "div.sk-label-container:hover .sk-estimator-doc-link:hover,\n",
       ".sk-estimator-doc-link:hover {\n",
       "  /* unfitted */\n",
       "  background-color: var(--sklearn-color-unfitted-level-3);\n",
       "  color: var(--sklearn-color-background);\n",
       "  text-decoration: none;\n",
       "}\n",
       "\n",
       "div.sk-estimator.fitted:hover .sk-estimator-doc-link.fitted:hover,\n",
       ".sk-estimator-doc-link.fitted:hover,\n",
       "div.sk-label-container:hover .sk-estimator-doc-link.fitted:hover,\n",
       ".sk-estimator-doc-link.fitted:hover {\n",
       "  /* fitted */\n",
       "  background-color: var(--sklearn-color-fitted-level-3);\n",
       "  color: var(--sklearn-color-background);\n",
       "  text-decoration: none;\n",
       "}\n",
       "\n",
       "/* Span, style for the box shown on hovering the info icon */\n",
       ".sk-estimator-doc-link span {\n",
       "  display: none;\n",
       "  z-index: 9999;\n",
       "  position: relative;\n",
       "  font-weight: normal;\n",
       "  right: .2ex;\n",
       "  padding: .5ex;\n",
       "  margin: .5ex;\n",
       "  width: min-content;\n",
       "  min-width: 20ex;\n",
       "  max-width: 50ex;\n",
       "  color: var(--sklearn-color-text);\n",
       "  box-shadow: 2pt 2pt 4pt #999;\n",
       "  /* unfitted */\n",
       "  background: var(--sklearn-color-unfitted-level-0);\n",
       "  border: .5pt solid var(--sklearn-color-unfitted-level-3);\n",
       "}\n",
       "\n",
       ".sk-estimator-doc-link.fitted span {\n",
       "  /* fitted */\n",
       "  background: var(--sklearn-color-fitted-level-0);\n",
       "  border: var(--sklearn-color-fitted-level-3);\n",
       "}\n",
       "\n",
       ".sk-estimator-doc-link:hover span {\n",
       "  display: block;\n",
       "}\n",
       "\n",
       "/* \"?\"-specific style due to the `<a>` HTML tag */\n",
       "\n",
       "#sk-container-id-4 a.estimator_doc_link {\n",
       "  float: right;\n",
       "  font-size: 1rem;\n",
       "  line-height: 1em;\n",
       "  font-family: monospace;\n",
       "  background-color: var(--sklearn-color-background);\n",
       "  border-radius: 1rem;\n",
       "  height: 1rem;\n",
       "  width: 1rem;\n",
       "  text-decoration: none;\n",
       "  /* unfitted */\n",
       "  color: var(--sklearn-color-unfitted-level-1);\n",
       "  border: var(--sklearn-color-unfitted-level-1) 1pt solid;\n",
       "}\n",
       "\n",
       "#sk-container-id-4 a.estimator_doc_link.fitted {\n",
       "  /* fitted */\n",
       "  border: var(--sklearn-color-fitted-level-1) 1pt solid;\n",
       "  color: var(--sklearn-color-fitted-level-1);\n",
       "}\n",
       "\n",
       "/* On hover */\n",
       "#sk-container-id-4 a.estimator_doc_link:hover {\n",
       "  /* unfitted */\n",
       "  background-color: var(--sklearn-color-unfitted-level-3);\n",
       "  color: var(--sklearn-color-background);\n",
       "  text-decoration: none;\n",
       "}\n",
       "\n",
       "#sk-container-id-4 a.estimator_doc_link.fitted:hover {\n",
       "  /* fitted */\n",
       "  background-color: var(--sklearn-color-fitted-level-3);\n",
       "}\n",
       "</style><div id=\"sk-container-id-4\" class=\"sk-top-container\"><div class=\"sk-text-repr-fallback\"><pre>Pipeline(steps=[(&#x27;columntransformer&#x27;,\n",
       "                 ColumnTransformer(transformers=[(&#x27;polynomialfeatures&#x27;,\n",
       "                                                  PolynomialFeatures(degree=3),\n",
       "                                                  [&#x27;departure_hour&#x27;]),\n",
       "                                                 (&#x27;onehotencoder&#x27;,\n",
       "                                                  OneHotEncoder(drop=&#x27;first&#x27;),\n",
       "                                                  [&#x27;day&#x27;, &#x27;month&#x27;]),\n",
       "                                                 (&#x27;pipeline&#x27;,\n",
       "                                                  Pipeline(steps=[(&#x27;functiontransformer&#x27;,\n",
       "                                                                   FunctionTransformer(func=&lt;function &lt;lambda&gt; at 0x164ce8820&gt;)),\n",
       "                                                                  (&#x27;onehotencoder&#x27;,\n",
       "                                                                   OneHotEncoder(drop=&#x27;first&#x27;))]),\n",
       "                                                  [&#x27;day_of_month&#x27;])])),\n",
       "                (&#x27;linearregression&#x27;, LinearRegression())])</pre><b>In a Jupyter environment, please rerun this cell to show the HTML representation or trust the notebook. <br />On GitHub, the HTML representation is unable to render, please try loading this page with nbviewer.org.</b></div><div class=\"sk-container\" hidden><div class=\"sk-item sk-dashed-wrapped\"><div class=\"sk-label-container\"><div class=\"sk-label fitted sk-toggleable\"><input class=\"sk-toggleable__control sk-hidden--visually\" id=\"sk-estimator-id-17\" type=\"checkbox\" ><label for=\"sk-estimator-id-17\" class=\"sk-toggleable__label fitted sk-toggleable__label-arrow fitted\">&nbsp;&nbsp;Pipeline<a class=\"sk-estimator-doc-link fitted\" rel=\"noreferrer\" target=\"_blank\" href=\"https://scikit-learn.org/1.5/modules/generated/sklearn.pipeline.Pipeline.html\">?<span>Documentation for Pipeline</span></a><span class=\"sk-estimator-doc-link fitted\">i<span>Fitted</span></span></label><div class=\"sk-toggleable__content fitted\"><pre>Pipeline(steps=[(&#x27;columntransformer&#x27;,\n",
       "                 ColumnTransformer(transformers=[(&#x27;polynomialfeatures&#x27;,\n",
       "                                                  PolynomialFeatures(degree=3),\n",
       "                                                  [&#x27;departure_hour&#x27;]),\n",
       "                                                 (&#x27;onehotencoder&#x27;,\n",
       "                                                  OneHotEncoder(drop=&#x27;first&#x27;),\n",
       "                                                  [&#x27;day&#x27;, &#x27;month&#x27;]),\n",
       "                                                 (&#x27;pipeline&#x27;,\n",
       "                                                  Pipeline(steps=[(&#x27;functiontransformer&#x27;,\n",
       "                                                                   FunctionTransformer(func=&lt;function &lt;lambda&gt; at 0x164ce8820&gt;)),\n",
       "                                                                  (&#x27;onehotencoder&#x27;,\n",
       "                                                                   OneHotEncoder(drop=&#x27;first&#x27;))]),\n",
       "                                                  [&#x27;day_of_month&#x27;])])),\n",
       "                (&#x27;linearregression&#x27;, LinearRegression())])</pre></div> </div></div><div class=\"sk-serial\"><div class=\"sk-item sk-dashed-wrapped\"><div class=\"sk-label-container\"><div class=\"sk-label fitted sk-toggleable\"><input class=\"sk-toggleable__control sk-hidden--visually\" id=\"sk-estimator-id-18\" type=\"checkbox\" ><label for=\"sk-estimator-id-18\" class=\"sk-toggleable__label fitted sk-toggleable__label-arrow fitted\">&nbsp;columntransformer: ColumnTransformer<a class=\"sk-estimator-doc-link fitted\" rel=\"noreferrer\" target=\"_blank\" href=\"https://scikit-learn.org/1.5/modules/generated/sklearn.compose.ColumnTransformer.html\">?<span>Documentation for columntransformer: ColumnTransformer</span></a></label><div class=\"sk-toggleable__content fitted\"><pre>ColumnTransformer(transformers=[(&#x27;polynomialfeatures&#x27;,\n",
       "                                 PolynomialFeatures(degree=3),\n",
       "                                 [&#x27;departure_hour&#x27;]),\n",
       "                                (&#x27;onehotencoder&#x27;, OneHotEncoder(drop=&#x27;first&#x27;),\n",
       "                                 [&#x27;day&#x27;, &#x27;month&#x27;]),\n",
       "                                (&#x27;pipeline&#x27;,\n",
       "                                 Pipeline(steps=[(&#x27;functiontransformer&#x27;,\n",
       "                                                  FunctionTransformer(func=&lt;function &lt;lambda&gt; at 0x164ce8820&gt;)),\n",
       "                                                 (&#x27;onehotencoder&#x27;,\n",
       "                                                  OneHotEncoder(drop=&#x27;first&#x27;))]),\n",
       "                                 [&#x27;day_of_month&#x27;])])</pre></div> </div></div><div class=\"sk-parallel\"><div class=\"sk-parallel-item\"><div class=\"sk-item\"><div class=\"sk-label-container\"><div class=\"sk-label fitted sk-toggleable\"><input class=\"sk-toggleable__control sk-hidden--visually\" id=\"sk-estimator-id-19\" type=\"checkbox\" ><label for=\"sk-estimator-id-19\" class=\"sk-toggleable__label fitted sk-toggleable__label-arrow fitted\">polynomialfeatures</label><div class=\"sk-toggleable__content fitted\"><pre>[&#x27;departure_hour&#x27;]</pre></div> </div></div><div class=\"sk-serial\"><div class=\"sk-item\"><div class=\"sk-estimator fitted sk-toggleable\"><input class=\"sk-toggleable__control sk-hidden--visually\" id=\"sk-estimator-id-20\" type=\"checkbox\" ><label for=\"sk-estimator-id-20\" class=\"sk-toggleable__label fitted sk-toggleable__label-arrow fitted\">&nbsp;PolynomialFeatures<a class=\"sk-estimator-doc-link fitted\" rel=\"noreferrer\" target=\"_blank\" href=\"https://scikit-learn.org/1.5/modules/generated/sklearn.preprocessing.PolynomialFeatures.html\">?<span>Documentation for PolynomialFeatures</span></a></label><div class=\"sk-toggleable__content fitted\"><pre>PolynomialFeatures(degree=3)</pre></div> </div></div></div></div></div><div class=\"sk-parallel-item\"><div class=\"sk-item\"><div class=\"sk-label-container\"><div class=\"sk-label fitted sk-toggleable\"><input class=\"sk-toggleable__control sk-hidden--visually\" id=\"sk-estimator-id-21\" type=\"checkbox\" ><label for=\"sk-estimator-id-21\" class=\"sk-toggleable__label fitted sk-toggleable__label-arrow fitted\">onehotencoder</label><div class=\"sk-toggleable__content fitted\"><pre>[&#x27;day&#x27;, &#x27;month&#x27;]</pre></div> </div></div><div class=\"sk-serial\"><div class=\"sk-item\"><div class=\"sk-estimator fitted sk-toggleable\"><input class=\"sk-toggleable__control sk-hidden--visually\" id=\"sk-estimator-id-22\" type=\"checkbox\" ><label for=\"sk-estimator-id-22\" class=\"sk-toggleable__label fitted sk-toggleable__label-arrow fitted\">&nbsp;OneHotEncoder<a class=\"sk-estimator-doc-link fitted\" rel=\"noreferrer\" target=\"_blank\" href=\"https://scikit-learn.org/1.5/modules/generated/sklearn.preprocessing.OneHotEncoder.html\">?<span>Documentation for OneHotEncoder</span></a></label><div class=\"sk-toggleable__content fitted\"><pre>OneHotEncoder(drop=&#x27;first&#x27;)</pre></div> </div></div></div></div></div><div class=\"sk-parallel-item\"><div class=\"sk-item\"><div class=\"sk-label-container\"><div class=\"sk-label fitted sk-toggleable\"><input class=\"sk-toggleable__control sk-hidden--visually\" id=\"sk-estimator-id-23\" type=\"checkbox\" ><label for=\"sk-estimator-id-23\" class=\"sk-toggleable__label fitted sk-toggleable__label-arrow fitted\">pipeline</label><div class=\"sk-toggleable__content fitted\"><pre>[&#x27;day_of_month&#x27;]</pre></div> </div></div><div class=\"sk-serial\"><div class=\"sk-item\"><div class=\"sk-serial\"><div class=\"sk-item\"><div class=\"sk-estimator fitted sk-toggleable\"><input class=\"sk-toggleable__control sk-hidden--visually\" id=\"sk-estimator-id-24\" type=\"checkbox\" ><label for=\"sk-estimator-id-24\" class=\"sk-toggleable__label fitted sk-toggleable__label-arrow fitted\">&nbsp;FunctionTransformer<a class=\"sk-estimator-doc-link fitted\" rel=\"noreferrer\" target=\"_blank\" href=\"https://scikit-learn.org/1.5/modules/generated/sklearn.preprocessing.FunctionTransformer.html\">?<span>Documentation for FunctionTransformer</span></a></label><div class=\"sk-toggleable__content fitted\"><pre>FunctionTransformer(func=&lt;function &lt;lambda&gt; at 0x164ce8820&gt;)</pre></div> </div></div><div class=\"sk-item\"><div class=\"sk-estimator fitted sk-toggleable\"><input class=\"sk-toggleable__control sk-hidden--visually\" id=\"sk-estimator-id-25\" type=\"checkbox\" ><label for=\"sk-estimator-id-25\" class=\"sk-toggleable__label fitted sk-toggleable__label-arrow fitted\">&nbsp;OneHotEncoder<a class=\"sk-estimator-doc-link fitted\" rel=\"noreferrer\" target=\"_blank\" href=\"https://scikit-learn.org/1.5/modules/generated/sklearn.preprocessing.OneHotEncoder.html\">?<span>Documentation for OneHotEncoder</span></a></label><div class=\"sk-toggleable__content fitted\"><pre>OneHotEncoder(drop=&#x27;first&#x27;)</pre></div> </div></div></div></div></div></div></div></div></div><div class=\"sk-item\"><div class=\"sk-estimator fitted sk-toggleable\"><input class=\"sk-toggleable__control sk-hidden--visually\" id=\"sk-estimator-id-26\" type=\"checkbox\" ><label for=\"sk-estimator-id-26\" class=\"sk-toggleable__label fitted sk-toggleable__label-arrow fitted\">&nbsp;LinearRegression<a class=\"sk-estimator-doc-link fitted\" rel=\"noreferrer\" target=\"_blank\" href=\"https://scikit-learn.org/1.5/modules/generated/sklearn.linear_model.LinearRegression.html\">?<span>Documentation for LinearRegression</span></a></label><div class=\"sk-toggleable__content fitted\"><pre>LinearRegression()</pre></div> </div></div></div></div></div></div>"
      ],
      "text/plain": [
       "Pipeline(steps=[('columntransformer',\n",
       "                 ColumnTransformer(transformers=[('polynomialfeatures',\n",
       "                                                  PolynomialFeatures(degree=3),\n",
       "                                                  ['departure_hour']),\n",
       "                                                 ('onehotencoder',\n",
       "                                                  OneHotEncoder(drop='first'),\n",
       "                                                  ['day', 'month']),\n",
       "                                                 ('pipeline',\n",
       "                                                  Pipeline(steps=[('functiontransformer',\n",
       "                                                                   FunctionTransformer(func=<function <lambda> at 0x164ce8820>)),\n",
       "                                                                  ('onehotencoder',\n",
       "                                                                   OneHotEncoder(drop='first'))]),\n",
       "                                                  ['day_of_month'])])),\n",
       "                ('linearregression', LinearRegression())])"
      ]
     },
     "execution_count": 26,
     "metadata": {},
     "output_type": "execute_result"
    }
   ],
   "source": [
    "model.fit(X=df[['departure_hour', 'day', 'month', 'day_of_month']], y=df['minutes'])"
   ]
  },
  {
   "cell_type": "markdown",
   "id": "6044601e",
   "metadata": {
    "deletable": true,
    "editable": true,
    "slideshow": {
     "slide_type": "fragment"
    }
   },
   "source": [
    "- Once our Pipeline is fit, we can use it to make predictions!<br><small>What's the predicted commute time if I leave at 8:30AM on a Tuesday in November, which happens to be the 5th of the month?</small>"
   ]
  },
  {
   "cell_type": "code",
   "execution_count": 27,
   "id": "f06e97b3",
   "metadata": {
    "deletable": true,
    "editable": true
   },
   "outputs": [
    {
     "data": {
      "text/plain": [
       "array([77.48])"
      ]
     },
     "execution_count": 27,
     "metadata": {},
     "output_type": "execute_result"
    }
   ],
   "source": [
    "model.predict(pd.DataFrame([{\n",
    "    'departure_hour': 8.5,\n",
    "    'day': 'Tue',\n",
    "    'month': 'November',\n",
    "    'day_of_month': 5\n",
    "}]))"
   ]
  },
  {
   "cell_type": "markdown",
   "id": "0b86646f",
   "metadata": {
    "deletable": true,
    "editable": true,
    "slideshow": {
     "slide_type": "slide"
    }
   },
   "source": [
    "<div class=\"alert alert-success\">\n",
    "<h3>Activity</h3>\n",
    "    \n",
    "How many columns does the final design matrix that `model` creates have? If you write code to determine the answer, make sure you can walk through the steps over the past few slides to figure out **why** the answer is what it is."
   ]
  },
  {
   "cell_type": "code",
   "execution_count": 28,
   "id": "d4cbb876",
   "metadata": {
    "deletable": true,
    "editable": true
   },
   "outputs": [
    {
     "data": {
      "text/html": [
       "<style>#sk-container-id-5 {\n",
       "  /* Definition of color scheme common for light and dark mode */\n",
       "  --sklearn-color-text: black;\n",
       "  --sklearn-color-line: gray;\n",
       "  /* Definition of color scheme for unfitted estimators */\n",
       "  --sklearn-color-unfitted-level-0: #fff5e6;\n",
       "  --sklearn-color-unfitted-level-1: #f6e4d2;\n",
       "  --sklearn-color-unfitted-level-2: #ffe0b3;\n",
       "  --sklearn-color-unfitted-level-3: chocolate;\n",
       "  /* Definition of color scheme for fitted estimators */\n",
       "  --sklearn-color-fitted-level-0: #f0f8ff;\n",
       "  --sklearn-color-fitted-level-1: #d4ebff;\n",
       "  --sklearn-color-fitted-level-2: #b3dbfd;\n",
       "  --sklearn-color-fitted-level-3: cornflowerblue;\n",
       "\n",
       "  /* Specific color for light theme */\n",
       "  --sklearn-color-text-on-default-background: var(--sg-text-color, var(--theme-code-foreground, var(--jp-content-font-color1, black)));\n",
       "  --sklearn-color-background: var(--sg-background-color, var(--theme-background, var(--jp-layout-color0, white)));\n",
       "  --sklearn-color-border-box: var(--sg-text-color, var(--theme-code-foreground, var(--jp-content-font-color1, black)));\n",
       "  --sklearn-color-icon: #696969;\n",
       "\n",
       "  @media (prefers-color-scheme: dark) {\n",
       "    /* Redefinition of color scheme for dark theme */\n",
       "    --sklearn-color-text-on-default-background: var(--sg-text-color, var(--theme-code-foreground, var(--jp-content-font-color1, white)));\n",
       "    --sklearn-color-background: var(--sg-background-color, var(--theme-background, var(--jp-layout-color0, #111)));\n",
       "    --sklearn-color-border-box: var(--sg-text-color, var(--theme-code-foreground, var(--jp-content-font-color1, white)));\n",
       "    --sklearn-color-icon: #878787;\n",
       "  }\n",
       "}\n",
       "\n",
       "#sk-container-id-5 {\n",
       "  color: var(--sklearn-color-text);\n",
       "}\n",
       "\n",
       "#sk-container-id-5 pre {\n",
       "  padding: 0;\n",
       "}\n",
       "\n",
       "#sk-container-id-5 input.sk-hidden--visually {\n",
       "  border: 0;\n",
       "  clip: rect(1px 1px 1px 1px);\n",
       "  clip: rect(1px, 1px, 1px, 1px);\n",
       "  height: 1px;\n",
       "  margin: -1px;\n",
       "  overflow: hidden;\n",
       "  padding: 0;\n",
       "  position: absolute;\n",
       "  width: 1px;\n",
       "}\n",
       "\n",
       "#sk-container-id-5 div.sk-dashed-wrapped {\n",
       "  border: 1px dashed var(--sklearn-color-line);\n",
       "  margin: 0 0.4em 0.5em 0.4em;\n",
       "  box-sizing: border-box;\n",
       "  padding-bottom: 0.4em;\n",
       "  background-color: var(--sklearn-color-background);\n",
       "}\n",
       "\n",
       "#sk-container-id-5 div.sk-container {\n",
       "  /* jupyter's `normalize.less` sets `[hidden] { display: none; }`\n",
       "     but bootstrap.min.css set `[hidden] { display: none !important; }`\n",
       "     so we also need the `!important` here to be able to override the\n",
       "     default hidden behavior on the sphinx rendered scikit-learn.org.\n",
       "     See: https://github.com/scikit-learn/scikit-learn/issues/21755 */\n",
       "  display: inline-block !important;\n",
       "  position: relative;\n",
       "}\n",
       "\n",
       "#sk-container-id-5 div.sk-text-repr-fallback {\n",
       "  display: none;\n",
       "}\n",
       "\n",
       "div.sk-parallel-item,\n",
       "div.sk-serial,\n",
       "div.sk-item {\n",
       "  /* draw centered vertical line to link estimators */\n",
       "  background-image: linear-gradient(var(--sklearn-color-text-on-default-background), var(--sklearn-color-text-on-default-background));\n",
       "  background-size: 2px 100%;\n",
       "  background-repeat: no-repeat;\n",
       "  background-position: center center;\n",
       "}\n",
       "\n",
       "/* Parallel-specific style estimator block */\n",
       "\n",
       "#sk-container-id-5 div.sk-parallel-item::after {\n",
       "  content: \"\";\n",
       "  width: 100%;\n",
       "  border-bottom: 2px solid var(--sklearn-color-text-on-default-background);\n",
       "  flex-grow: 1;\n",
       "}\n",
       "\n",
       "#sk-container-id-5 div.sk-parallel {\n",
       "  display: flex;\n",
       "  align-items: stretch;\n",
       "  justify-content: center;\n",
       "  background-color: var(--sklearn-color-background);\n",
       "  position: relative;\n",
       "}\n",
       "\n",
       "#sk-container-id-5 div.sk-parallel-item {\n",
       "  display: flex;\n",
       "  flex-direction: column;\n",
       "}\n",
       "\n",
       "#sk-container-id-5 div.sk-parallel-item:first-child::after {\n",
       "  align-self: flex-end;\n",
       "  width: 50%;\n",
       "}\n",
       "\n",
       "#sk-container-id-5 div.sk-parallel-item:last-child::after {\n",
       "  align-self: flex-start;\n",
       "  width: 50%;\n",
       "}\n",
       "\n",
       "#sk-container-id-5 div.sk-parallel-item:only-child::after {\n",
       "  width: 0;\n",
       "}\n",
       "\n",
       "/* Serial-specific style estimator block */\n",
       "\n",
       "#sk-container-id-5 div.sk-serial {\n",
       "  display: flex;\n",
       "  flex-direction: column;\n",
       "  align-items: center;\n",
       "  background-color: var(--sklearn-color-background);\n",
       "  padding-right: 1em;\n",
       "  padding-left: 1em;\n",
       "}\n",
       "\n",
       "\n",
       "/* Toggleable style: style used for estimator/Pipeline/ColumnTransformer box that is\n",
       "clickable and can be expanded/collapsed.\n",
       "- Pipeline and ColumnTransformer use this feature and define the default style\n",
       "- Estimators will overwrite some part of the style using the `sk-estimator` class\n",
       "*/\n",
       "\n",
       "/* Pipeline and ColumnTransformer style (default) */\n",
       "\n",
       "#sk-container-id-5 div.sk-toggleable {\n",
       "  /* Default theme specific background. It is overwritten whether we have a\n",
       "  specific estimator or a Pipeline/ColumnTransformer */\n",
       "  background-color: var(--sklearn-color-background);\n",
       "}\n",
       "\n",
       "/* Toggleable label */\n",
       "#sk-container-id-5 label.sk-toggleable__label {\n",
       "  cursor: pointer;\n",
       "  display: block;\n",
       "  width: 100%;\n",
       "  margin-bottom: 0;\n",
       "  padding: 0.5em;\n",
       "  box-sizing: border-box;\n",
       "  text-align: center;\n",
       "}\n",
       "\n",
       "#sk-container-id-5 label.sk-toggleable__label-arrow:before {\n",
       "  /* Arrow on the left of the label */\n",
       "  content: \"▸\";\n",
       "  float: left;\n",
       "  margin-right: 0.25em;\n",
       "  color: var(--sklearn-color-icon);\n",
       "}\n",
       "\n",
       "#sk-container-id-5 label.sk-toggleable__label-arrow:hover:before {\n",
       "  color: var(--sklearn-color-text);\n",
       "}\n",
       "\n",
       "/* Toggleable content - dropdown */\n",
       "\n",
       "#sk-container-id-5 div.sk-toggleable__content {\n",
       "  max-height: 0;\n",
       "  max-width: 0;\n",
       "  overflow: hidden;\n",
       "  text-align: left;\n",
       "  /* unfitted */\n",
       "  background-color: var(--sklearn-color-unfitted-level-0);\n",
       "}\n",
       "\n",
       "#sk-container-id-5 div.sk-toggleable__content.fitted {\n",
       "  /* fitted */\n",
       "  background-color: var(--sklearn-color-fitted-level-0);\n",
       "}\n",
       "\n",
       "#sk-container-id-5 div.sk-toggleable__content pre {\n",
       "  margin: 0.2em;\n",
       "  border-radius: 0.25em;\n",
       "  color: var(--sklearn-color-text);\n",
       "  /* unfitted */\n",
       "  background-color: var(--sklearn-color-unfitted-level-0);\n",
       "}\n",
       "\n",
       "#sk-container-id-5 div.sk-toggleable__content.fitted pre {\n",
       "  /* unfitted */\n",
       "  background-color: var(--sklearn-color-fitted-level-0);\n",
       "}\n",
       "\n",
       "#sk-container-id-5 input.sk-toggleable__control:checked~div.sk-toggleable__content {\n",
       "  /* Expand drop-down */\n",
       "  max-height: 200px;\n",
       "  max-width: 100%;\n",
       "  overflow: auto;\n",
       "}\n",
       "\n",
       "#sk-container-id-5 input.sk-toggleable__control:checked~label.sk-toggleable__label-arrow:before {\n",
       "  content: \"▾\";\n",
       "}\n",
       "\n",
       "/* Pipeline/ColumnTransformer-specific style */\n",
       "\n",
       "#sk-container-id-5 div.sk-label input.sk-toggleable__control:checked~label.sk-toggleable__label {\n",
       "  color: var(--sklearn-color-text);\n",
       "  background-color: var(--sklearn-color-unfitted-level-2);\n",
       "}\n",
       "\n",
       "#sk-container-id-5 div.sk-label.fitted input.sk-toggleable__control:checked~label.sk-toggleable__label {\n",
       "  background-color: var(--sklearn-color-fitted-level-2);\n",
       "}\n",
       "\n",
       "/* Estimator-specific style */\n",
       "\n",
       "/* Colorize estimator box */\n",
       "#sk-container-id-5 div.sk-estimator input.sk-toggleable__control:checked~label.sk-toggleable__label {\n",
       "  /* unfitted */\n",
       "  background-color: var(--sklearn-color-unfitted-level-2);\n",
       "}\n",
       "\n",
       "#sk-container-id-5 div.sk-estimator.fitted input.sk-toggleable__control:checked~label.sk-toggleable__label {\n",
       "  /* fitted */\n",
       "  background-color: var(--sklearn-color-fitted-level-2);\n",
       "}\n",
       "\n",
       "#sk-container-id-5 div.sk-label label.sk-toggleable__label,\n",
       "#sk-container-id-5 div.sk-label label {\n",
       "  /* The background is the default theme color */\n",
       "  color: var(--sklearn-color-text-on-default-background);\n",
       "}\n",
       "\n",
       "/* On hover, darken the color of the background */\n",
       "#sk-container-id-5 div.sk-label:hover label.sk-toggleable__label {\n",
       "  color: var(--sklearn-color-text);\n",
       "  background-color: var(--sklearn-color-unfitted-level-2);\n",
       "}\n",
       "\n",
       "/* Label box, darken color on hover, fitted */\n",
       "#sk-container-id-5 div.sk-label.fitted:hover label.sk-toggleable__label.fitted {\n",
       "  color: var(--sklearn-color-text);\n",
       "  background-color: var(--sklearn-color-fitted-level-2);\n",
       "}\n",
       "\n",
       "/* Estimator label */\n",
       "\n",
       "#sk-container-id-5 div.sk-label label {\n",
       "  font-family: monospace;\n",
       "  font-weight: bold;\n",
       "  display: inline-block;\n",
       "  line-height: 1.2em;\n",
       "}\n",
       "\n",
       "#sk-container-id-5 div.sk-label-container {\n",
       "  text-align: center;\n",
       "}\n",
       "\n",
       "/* Estimator-specific */\n",
       "#sk-container-id-5 div.sk-estimator {\n",
       "  font-family: monospace;\n",
       "  border: 1px dotted var(--sklearn-color-border-box);\n",
       "  border-radius: 0.25em;\n",
       "  box-sizing: border-box;\n",
       "  margin-bottom: 0.5em;\n",
       "  /* unfitted */\n",
       "  background-color: var(--sklearn-color-unfitted-level-0);\n",
       "}\n",
       "\n",
       "#sk-container-id-5 div.sk-estimator.fitted {\n",
       "  /* fitted */\n",
       "  background-color: var(--sklearn-color-fitted-level-0);\n",
       "}\n",
       "\n",
       "/* on hover */\n",
       "#sk-container-id-5 div.sk-estimator:hover {\n",
       "  /* unfitted */\n",
       "  background-color: var(--sklearn-color-unfitted-level-2);\n",
       "}\n",
       "\n",
       "#sk-container-id-5 div.sk-estimator.fitted:hover {\n",
       "  /* fitted */\n",
       "  background-color: var(--sklearn-color-fitted-level-2);\n",
       "}\n",
       "\n",
       "/* Specification for estimator info (e.g. \"i\" and \"?\") */\n",
       "\n",
       "/* Common style for \"i\" and \"?\" */\n",
       "\n",
       ".sk-estimator-doc-link,\n",
       "a:link.sk-estimator-doc-link,\n",
       "a:visited.sk-estimator-doc-link {\n",
       "  float: right;\n",
       "  font-size: smaller;\n",
       "  line-height: 1em;\n",
       "  font-family: monospace;\n",
       "  background-color: var(--sklearn-color-background);\n",
       "  border-radius: 1em;\n",
       "  height: 1em;\n",
       "  width: 1em;\n",
       "  text-decoration: none !important;\n",
       "  margin-left: 1ex;\n",
       "  /* unfitted */\n",
       "  border: var(--sklearn-color-unfitted-level-1) 1pt solid;\n",
       "  color: var(--sklearn-color-unfitted-level-1);\n",
       "}\n",
       "\n",
       ".sk-estimator-doc-link.fitted,\n",
       "a:link.sk-estimator-doc-link.fitted,\n",
       "a:visited.sk-estimator-doc-link.fitted {\n",
       "  /* fitted */\n",
       "  border: var(--sklearn-color-fitted-level-1) 1pt solid;\n",
       "  color: var(--sklearn-color-fitted-level-1);\n",
       "}\n",
       "\n",
       "/* On hover */\n",
       "div.sk-estimator:hover .sk-estimator-doc-link:hover,\n",
       ".sk-estimator-doc-link:hover,\n",
       "div.sk-label-container:hover .sk-estimator-doc-link:hover,\n",
       ".sk-estimator-doc-link:hover {\n",
       "  /* unfitted */\n",
       "  background-color: var(--sklearn-color-unfitted-level-3);\n",
       "  color: var(--sklearn-color-background);\n",
       "  text-decoration: none;\n",
       "}\n",
       "\n",
       "div.sk-estimator.fitted:hover .sk-estimator-doc-link.fitted:hover,\n",
       ".sk-estimator-doc-link.fitted:hover,\n",
       "div.sk-label-container:hover .sk-estimator-doc-link.fitted:hover,\n",
       ".sk-estimator-doc-link.fitted:hover {\n",
       "  /* fitted */\n",
       "  background-color: var(--sklearn-color-fitted-level-3);\n",
       "  color: var(--sklearn-color-background);\n",
       "  text-decoration: none;\n",
       "}\n",
       "\n",
       "/* Span, style for the box shown on hovering the info icon */\n",
       ".sk-estimator-doc-link span {\n",
       "  display: none;\n",
       "  z-index: 9999;\n",
       "  position: relative;\n",
       "  font-weight: normal;\n",
       "  right: .2ex;\n",
       "  padding: .5ex;\n",
       "  margin: .5ex;\n",
       "  width: min-content;\n",
       "  min-width: 20ex;\n",
       "  max-width: 50ex;\n",
       "  color: var(--sklearn-color-text);\n",
       "  box-shadow: 2pt 2pt 4pt #999;\n",
       "  /* unfitted */\n",
       "  background: var(--sklearn-color-unfitted-level-0);\n",
       "  border: .5pt solid var(--sklearn-color-unfitted-level-3);\n",
       "}\n",
       "\n",
       ".sk-estimator-doc-link.fitted span {\n",
       "  /* fitted */\n",
       "  background: var(--sklearn-color-fitted-level-0);\n",
       "  border: var(--sklearn-color-fitted-level-3);\n",
       "}\n",
       "\n",
       ".sk-estimator-doc-link:hover span {\n",
       "  display: block;\n",
       "}\n",
       "\n",
       "/* \"?\"-specific style due to the `<a>` HTML tag */\n",
       "\n",
       "#sk-container-id-5 a.estimator_doc_link {\n",
       "  float: right;\n",
       "  font-size: 1rem;\n",
       "  line-height: 1em;\n",
       "  font-family: monospace;\n",
       "  background-color: var(--sklearn-color-background);\n",
       "  border-radius: 1rem;\n",
       "  height: 1rem;\n",
       "  width: 1rem;\n",
       "  text-decoration: none;\n",
       "  /* unfitted */\n",
       "  color: var(--sklearn-color-unfitted-level-1);\n",
       "  border: var(--sklearn-color-unfitted-level-1) 1pt solid;\n",
       "}\n",
       "\n",
       "#sk-container-id-5 a.estimator_doc_link.fitted {\n",
       "  /* fitted */\n",
       "  border: var(--sklearn-color-fitted-level-1) 1pt solid;\n",
       "  color: var(--sklearn-color-fitted-level-1);\n",
       "}\n",
       "\n",
       "/* On hover */\n",
       "#sk-container-id-5 a.estimator_doc_link:hover {\n",
       "  /* unfitted */\n",
       "  background-color: var(--sklearn-color-unfitted-level-3);\n",
       "  color: var(--sklearn-color-background);\n",
       "  text-decoration: none;\n",
       "}\n",
       "\n",
       "#sk-container-id-5 a.estimator_doc_link.fitted:hover {\n",
       "  /* fitted */\n",
       "  background-color: var(--sklearn-color-fitted-level-3);\n",
       "}\n",
       "</style><div id=\"sk-container-id-5\" class=\"sk-top-container\"><div class=\"sk-text-repr-fallback\"><pre>Pipeline(steps=[(&#x27;columntransformer&#x27;,\n",
       "                 ColumnTransformer(transformers=[(&#x27;polynomialfeatures&#x27;,\n",
       "                                                  PolynomialFeatures(degree=3),\n",
       "                                                  [&#x27;departure_hour&#x27;]),\n",
       "                                                 (&#x27;onehotencoder&#x27;,\n",
       "                                                  OneHotEncoder(drop=&#x27;first&#x27;),\n",
       "                                                  [&#x27;day&#x27;, &#x27;month&#x27;]),\n",
       "                                                 (&#x27;pipeline&#x27;,\n",
       "                                                  Pipeline(steps=[(&#x27;functiontransformer&#x27;,\n",
       "                                                                   FunctionTransformer(func=&lt;function &lt;lambda&gt; at 0x164ce8820&gt;)),\n",
       "                                                                  (&#x27;onehotencoder&#x27;,\n",
       "                                                                   OneHotEncoder(drop=&#x27;first&#x27;))]),\n",
       "                                                  [&#x27;day_of_month&#x27;])])),\n",
       "                (&#x27;linearregression&#x27;, LinearRegression())])</pre><b>In a Jupyter environment, please rerun this cell to show the HTML representation or trust the notebook. <br />On GitHub, the HTML representation is unable to render, please try loading this page with nbviewer.org.</b></div><div class=\"sk-container\" hidden><div class=\"sk-item sk-dashed-wrapped\"><div class=\"sk-label-container\"><div class=\"sk-label fitted sk-toggleable\"><input class=\"sk-toggleable__control sk-hidden--visually\" id=\"sk-estimator-id-27\" type=\"checkbox\" ><label for=\"sk-estimator-id-27\" class=\"sk-toggleable__label fitted sk-toggleable__label-arrow fitted\">&nbsp;&nbsp;Pipeline<a class=\"sk-estimator-doc-link fitted\" rel=\"noreferrer\" target=\"_blank\" href=\"https://scikit-learn.org/1.5/modules/generated/sklearn.pipeline.Pipeline.html\">?<span>Documentation for Pipeline</span></a><span class=\"sk-estimator-doc-link fitted\">i<span>Fitted</span></span></label><div class=\"sk-toggleable__content fitted\"><pre>Pipeline(steps=[(&#x27;columntransformer&#x27;,\n",
       "                 ColumnTransformer(transformers=[(&#x27;polynomialfeatures&#x27;,\n",
       "                                                  PolynomialFeatures(degree=3),\n",
       "                                                  [&#x27;departure_hour&#x27;]),\n",
       "                                                 (&#x27;onehotencoder&#x27;,\n",
       "                                                  OneHotEncoder(drop=&#x27;first&#x27;),\n",
       "                                                  [&#x27;day&#x27;, &#x27;month&#x27;]),\n",
       "                                                 (&#x27;pipeline&#x27;,\n",
       "                                                  Pipeline(steps=[(&#x27;functiontransformer&#x27;,\n",
       "                                                                   FunctionTransformer(func=&lt;function &lt;lambda&gt; at 0x164ce8820&gt;)),\n",
       "                                                                  (&#x27;onehotencoder&#x27;,\n",
       "                                                                   OneHotEncoder(drop=&#x27;first&#x27;))]),\n",
       "                                                  [&#x27;day_of_month&#x27;])])),\n",
       "                (&#x27;linearregression&#x27;, LinearRegression())])</pre></div> </div></div><div class=\"sk-serial\"><div class=\"sk-item sk-dashed-wrapped\"><div class=\"sk-label-container\"><div class=\"sk-label fitted sk-toggleable\"><input class=\"sk-toggleable__control sk-hidden--visually\" id=\"sk-estimator-id-28\" type=\"checkbox\" ><label for=\"sk-estimator-id-28\" class=\"sk-toggleable__label fitted sk-toggleable__label-arrow fitted\">&nbsp;columntransformer: ColumnTransformer<a class=\"sk-estimator-doc-link fitted\" rel=\"noreferrer\" target=\"_blank\" href=\"https://scikit-learn.org/1.5/modules/generated/sklearn.compose.ColumnTransformer.html\">?<span>Documentation for columntransformer: ColumnTransformer</span></a></label><div class=\"sk-toggleable__content fitted\"><pre>ColumnTransformer(transformers=[(&#x27;polynomialfeatures&#x27;,\n",
       "                                 PolynomialFeatures(degree=3),\n",
       "                                 [&#x27;departure_hour&#x27;]),\n",
       "                                (&#x27;onehotencoder&#x27;, OneHotEncoder(drop=&#x27;first&#x27;),\n",
       "                                 [&#x27;day&#x27;, &#x27;month&#x27;]),\n",
       "                                (&#x27;pipeline&#x27;,\n",
       "                                 Pipeline(steps=[(&#x27;functiontransformer&#x27;,\n",
       "                                                  FunctionTransformer(func=&lt;function &lt;lambda&gt; at 0x164ce8820&gt;)),\n",
       "                                                 (&#x27;onehotencoder&#x27;,\n",
       "                                                  OneHotEncoder(drop=&#x27;first&#x27;))]),\n",
       "                                 [&#x27;day_of_month&#x27;])])</pre></div> </div></div><div class=\"sk-parallel\"><div class=\"sk-parallel-item\"><div class=\"sk-item\"><div class=\"sk-label-container\"><div class=\"sk-label fitted sk-toggleable\"><input class=\"sk-toggleable__control sk-hidden--visually\" id=\"sk-estimator-id-29\" type=\"checkbox\" ><label for=\"sk-estimator-id-29\" class=\"sk-toggleable__label fitted sk-toggleable__label-arrow fitted\">polynomialfeatures</label><div class=\"sk-toggleable__content fitted\"><pre>[&#x27;departure_hour&#x27;]</pre></div> </div></div><div class=\"sk-serial\"><div class=\"sk-item\"><div class=\"sk-estimator fitted sk-toggleable\"><input class=\"sk-toggleable__control sk-hidden--visually\" id=\"sk-estimator-id-30\" type=\"checkbox\" ><label for=\"sk-estimator-id-30\" class=\"sk-toggleable__label fitted sk-toggleable__label-arrow fitted\">&nbsp;PolynomialFeatures<a class=\"sk-estimator-doc-link fitted\" rel=\"noreferrer\" target=\"_blank\" href=\"https://scikit-learn.org/1.5/modules/generated/sklearn.preprocessing.PolynomialFeatures.html\">?<span>Documentation for PolynomialFeatures</span></a></label><div class=\"sk-toggleable__content fitted\"><pre>PolynomialFeatures(degree=3)</pre></div> </div></div></div></div></div><div class=\"sk-parallel-item\"><div class=\"sk-item\"><div class=\"sk-label-container\"><div class=\"sk-label fitted sk-toggleable\"><input class=\"sk-toggleable__control sk-hidden--visually\" id=\"sk-estimator-id-31\" type=\"checkbox\" ><label for=\"sk-estimator-id-31\" class=\"sk-toggleable__label fitted sk-toggleable__label-arrow fitted\">onehotencoder</label><div class=\"sk-toggleable__content fitted\"><pre>[&#x27;day&#x27;, &#x27;month&#x27;]</pre></div> </div></div><div class=\"sk-serial\"><div class=\"sk-item\"><div class=\"sk-estimator fitted sk-toggleable\"><input class=\"sk-toggleable__control sk-hidden--visually\" id=\"sk-estimator-id-32\" type=\"checkbox\" ><label for=\"sk-estimator-id-32\" class=\"sk-toggleable__label fitted sk-toggleable__label-arrow fitted\">&nbsp;OneHotEncoder<a class=\"sk-estimator-doc-link fitted\" rel=\"noreferrer\" target=\"_blank\" href=\"https://scikit-learn.org/1.5/modules/generated/sklearn.preprocessing.OneHotEncoder.html\">?<span>Documentation for OneHotEncoder</span></a></label><div class=\"sk-toggleable__content fitted\"><pre>OneHotEncoder(drop=&#x27;first&#x27;)</pre></div> </div></div></div></div></div><div class=\"sk-parallel-item\"><div class=\"sk-item\"><div class=\"sk-label-container\"><div class=\"sk-label fitted sk-toggleable\"><input class=\"sk-toggleable__control sk-hidden--visually\" id=\"sk-estimator-id-33\" type=\"checkbox\" ><label for=\"sk-estimator-id-33\" class=\"sk-toggleable__label fitted sk-toggleable__label-arrow fitted\">pipeline</label><div class=\"sk-toggleable__content fitted\"><pre>[&#x27;day_of_month&#x27;]</pre></div> </div></div><div class=\"sk-serial\"><div class=\"sk-item\"><div class=\"sk-serial\"><div class=\"sk-item\"><div class=\"sk-estimator fitted sk-toggleable\"><input class=\"sk-toggleable__control sk-hidden--visually\" id=\"sk-estimator-id-34\" type=\"checkbox\" ><label for=\"sk-estimator-id-34\" class=\"sk-toggleable__label fitted sk-toggleable__label-arrow fitted\">&nbsp;FunctionTransformer<a class=\"sk-estimator-doc-link fitted\" rel=\"noreferrer\" target=\"_blank\" href=\"https://scikit-learn.org/1.5/modules/generated/sklearn.preprocessing.FunctionTransformer.html\">?<span>Documentation for FunctionTransformer</span></a></label><div class=\"sk-toggleable__content fitted\"><pre>FunctionTransformer(func=&lt;function &lt;lambda&gt; at 0x164ce8820&gt;)</pre></div> </div></div><div class=\"sk-item\"><div class=\"sk-estimator fitted sk-toggleable\"><input class=\"sk-toggleable__control sk-hidden--visually\" id=\"sk-estimator-id-35\" type=\"checkbox\" ><label for=\"sk-estimator-id-35\" class=\"sk-toggleable__label fitted sk-toggleable__label-arrow fitted\">&nbsp;OneHotEncoder<a class=\"sk-estimator-doc-link fitted\" rel=\"noreferrer\" target=\"_blank\" href=\"https://scikit-learn.org/1.5/modules/generated/sklearn.preprocessing.OneHotEncoder.html\">?<span>Documentation for OneHotEncoder</span></a></label><div class=\"sk-toggleable__content fitted\"><pre>OneHotEncoder(drop=&#x27;first&#x27;)</pre></div> </div></div></div></div></div></div></div></div></div><div class=\"sk-item\"><div class=\"sk-estimator fitted sk-toggleable\"><input class=\"sk-toggleable__control sk-hidden--visually\" id=\"sk-estimator-id-36\" type=\"checkbox\" ><label for=\"sk-estimator-id-36\" class=\"sk-toggleable__label fitted sk-toggleable__label-arrow fitted\">&nbsp;LinearRegression<a class=\"sk-estimator-doc-link fitted\" rel=\"noreferrer\" target=\"_blank\" href=\"https://scikit-learn.org/1.5/modules/generated/sklearn.linear_model.LinearRegression.html\">?<span>Documentation for LinearRegression</span></a></label><div class=\"sk-toggleable__content fitted\"><pre>LinearRegression()</pre></div> </div></div></div></div></div></div>"
      ],
      "text/plain": [
       "Pipeline(steps=[('columntransformer',\n",
       "                 ColumnTransformer(transformers=[('polynomialfeatures',\n",
       "                                                  PolynomialFeatures(degree=3),\n",
       "                                                  ['departure_hour']),\n",
       "                                                 ('onehotencoder',\n",
       "                                                  OneHotEncoder(drop='first'),\n",
       "                                                  ['day', 'month']),\n",
       "                                                 ('pipeline',\n",
       "                                                  Pipeline(steps=[('functiontransformer',\n",
       "                                                                   FunctionTransformer(func=<function <lambda> at 0x164ce8820>)),\n",
       "                                                                  ('onehotencoder',\n",
       "                                                                   OneHotEncoder(drop='first'))]),\n",
       "                                                  ['day_of_month'])])),\n",
       "                ('linearregression', LinearRegression())])"
      ]
     },
     "execution_count": 28,
     "metadata": {},
     "output_type": "execute_result"
    }
   ],
   "source": [
    "model"
   ]
  },
  {
   "cell_type": "markdown",
   "id": "1a3e0427",
   "metadata": {
    "deletable": true,
    "editable": true,
    "slideshow": {
     "slide_type": "slide"
    }
   },
   "source": [
    "<div class=\"alert alert-warning\">\n",
    "    <h3>Question 🤔 (Answer at <a style=\"text-decoration: none; color: #0066cc\" href=\"https://docs.google.com/forms/d/e/1FAIpQLSd4oliiZYeNh76jWy-arfEtoAkCrVSsobZxPwxifWggo3EO0Q/viewform\">practicaldsc.org/q</a>)</h3>\n",
    "    \n",
    "What questions do you have?"
   ]
  },
  {
   "cell_type": "markdown",
   "id": "2610d24b",
   "metadata": {
    "deletable": true,
    "editable": true,
    "slideshow": {
     "slide_type": "slide"
    }
   },
   "source": [
    "## Generalization\n",
    "\n",
    "---"
   ]
  },
  {
   "cell_type": "markdown",
   "id": "b272d621",
   "metadata": {
    "deletable": true,
    "editable": true,
    "slideshow": {
     "slide_type": "slide"
    }
   },
   "source": [
    "### What went wrong with polls in 2016? Can we trust them now?"
   ]
  },
  {
   "cell_type": "markdown",
   "id": "ee63e036",
   "metadata": {
    "deletable": true,
    "editable": true,
    "slideshow": {
     "slide_type": "fragment"
    }
   },
   "source": [
    "- Trump's victory in 2016 came as a surprise to many, since most polls in swing states had Clinton ahead."
   ]
  },
  {
   "cell_type": "markdown",
   "id": "d20b66f0",
   "metadata": {
    "deletable": true,
    "editable": true,
    "slideshow": {
     "slide_type": "fragment"
    }
   },
   "source": [
    "- Polls severely underestimated support for Trump; many voters were undecided until the last minute, and many didn't want to share they supported Trump."
   ]
  },
  {
   "cell_type": "markdown",
   "id": "494a4844",
   "metadata": {
    "deletable": true,
    "editable": true,
    "slideshow": {
     "slide_type": "fragment"
    }
   },
   "source": [
    "- But a more systematic issue with the polls was that:\n",
    "    1. college-educated voters tended to be more likely to respond to polls.\n",
    "    1. college-educated voters tended to support Clinton over Trump.\n",
    "    1. there are fewer college-educated voters than non-college-educated voters, meaning that the polled support for Trump was **lower** than the true support."
   ]
  },
  {
   "cell_type": "markdown",
   "id": "f21bddd7",
   "metadata": {
    "deletable": true,
    "editable": true,
    "slideshow": {
     "slide_type": "fragment"
    }
   },
   "source": [
    "- Read more [**at this CNBC article**](https://www.cbsnews.com/news/2016-polls-president-trump-clinton-what-went-wrong/)."
   ]
  },
  {
   "cell_type": "markdown",
   "id": "a6608922",
   "metadata": {
    "deletable": true,
    "editable": true,
    "slideshow": {
     "slide_type": "slide"
    }
   },
   "source": [
    "### Motivation"
   ]
  },
  {
   "cell_type": "markdown",
   "id": "c10941a9",
   "metadata": {
    "deletable": true,
    "editable": true,
    "slideshow": {
     "slide_type": "fragment"
    }
   },
   "source": [
    "- You and Billy are studying for an upcoming exam. You both decide to test your understanding by taking a **practice exam**.<br><small>Your logic: If you do well on the practice exam, you should do well on the real exam.</small>"
   ]
  },
  {
   "cell_type": "markdown",
   "id": "10b1e5ea",
   "metadata": {
    "deletable": true,
    "editable": true,
    "slideshow": {
     "slide_type": "fragment"
    }
   },
   "source": [
    "- You each take the practice exam once and look at the solutions afterwards."
   ]
  },
  {
   "cell_type": "markdown",
   "id": "b6de2cf0",
   "metadata": {
    "deletable": true,
    "editable": true,
    "slideshow": {
     "slide_type": "fragment"
    }
   },
   "source": [
    "- **Your strategy**: Memorize the answers to all practice exam questions, e.g. \"Question 1: A; Question 2: C; Question 3: A.\""
   ]
  },
  {
   "cell_type": "markdown",
   "id": "1a8b8774",
   "metadata": {
    "deletable": true,
    "editable": true,
    "slideshow": {
     "slide_type": "fragment"
    }
   },
   "source": [
    "- **Billy's strategy**: Learn high-level concepts from the solutions, e.g. \"the TF-IDF of term $t$ in document $d$ is large when $t$ occurs often in $d$ but rarely overall.\""
   ]
  },
  {
   "cell_type": "markdown",
   "id": "a721e667",
   "metadata": {
    "deletable": true,
    "editable": true,
    "slideshow": {
     "slide_type": "fragment"
    }
   },
   "source": [
    "- Who will do better on the **practice exam**? Who will probably do better on the **real exam**? 🧐"
   ]
  },
  {
   "cell_type": "markdown",
   "id": "9e3c1cd0",
   "metadata": {
    "deletable": true,
    "editable": true,
    "slideshow": {
     "slide_type": "slide"
    }
   },
   "source": [
    "### Evaluating the quality of a model"
   ]
  },
  {
   "cell_type": "markdown",
   "id": "0258a986",
   "metadata": {
    "deletable": true,
    "editable": true,
    "slideshow": {
     "slide_type": "fragment"
    }
   },
   "source": [
    "- So far, we've computed the MSE (and $R^2$) of our fit regression models on the **data that we used to fit them**, i.e. the **training data**.<br><small>This mean squared error is called the **training MSE**, or **training error**.</small>"
   ]
  },
  {
   "cell_type": "markdown",
   "id": "06b17164",
   "metadata": {
    "deletable": true,
    "editable": true,
    "slideshow": {
     "slide_type": "fragment"
    }
   },
   "source": [
    "- We've said that Model A is **better** than Model B if Model A's MSE is **lower** than Model B's MSE.\n",
    "    - Remember, our **training data** is a sample from some population.\n",
    "    - Just because a model fits the training data well doesn't mean it will **generalize** and work well on **similar, unseen samples** from the same population!"
   ]
  },
  {
   "cell_type": "markdown",
   "id": "69dddbc6",
   "metadata": {
    "deletable": true,
    "editable": true,
    "slideshow": {
     "slide_type": "slide"
    }
   },
   "source": [
    "### Overfitting and underfitting"
   ]
  },
  {
   "cell_type": "markdown",
   "id": "2e6fb810",
   "metadata": {
    "deletable": true,
    "editable": true,
    "slideshow": {
     "slide_type": "fragment"
    }
   },
   "source": [
    "- Let's collect two samples $\\{(x_i, y_i)\\}$ from the same population."
   ]
  },
  {
   "cell_type": "code",
   "execution_count": 29,
   "id": "79d42f6e",
   "metadata": {
    "deletable": true,
    "editable": true
   },
   "outputs": [],
   "source": [
    "np.random.seed(23) # For reproducibility.\n",
    "def sample_from_pop(n=100):\n",
    "    x = np.linspace(-2, 3, n)\n",
    "    y = x ** 3 + (np.random.normal(0, 3, size=n))\n",
    "    return pd.DataFrame({'x': x, 'y': y})\n",
    "sample_1 = sample_from_pop()\n",
    "sample_2 = sample_from_pop()"
   ]
  },
  {
   "cell_type": "markdown",
   "id": "bb6fc11f",
   "metadata": {
    "deletable": true,
    "editable": true,
    "slideshow": {
     "slide_type": "fragment"
    }
   },
   "source": [
    "- For now, let's just look at Sample 1. The relationship between $x$ and $y$ is roughly **cubic**; that is, $y \\approx x^3$.<br><small>Remember, in reality, you won't get to see the population distribution. If you could, there'd be no need to build a model!</small>"
   ]
  },
  {
   "cell_type": "code",
   "execution_count": 30,
   "id": "080b55c6",
   "metadata": {
    "deletable": true,
    "editable": true,
    "scrolled": false
   },
   "outputs": [
    {
     "data": {
      "application/vnd.plotly.v1+json": {
       "config": {
        "plotlyServerURL": "https://plot.ly"
       },
       "data": [
        {
         "hovertemplate": "x=%{x}<br>y=%{y}<extra></extra>",
         "legendgroup": "",
         "marker": {
          "color": "#1F77B4",
          "symbol": "circle"
         },
         "mode": "markers",
         "name": "",
         "orientation": "v",
         "showlegend": false,
         "type": "scatter",
         "x": [
          -2,
          -1.9494949494949494,
          -1.898989898989899,
          -1.8484848484848484,
          -1.797979797979798,
          -1.7474747474747474,
          -1.696969696969697,
          -1.6464646464646464,
          -1.595959595959596,
          -1.5454545454545454,
          -1.4949494949494948,
          -1.4444444444444444,
          -1.393939393939394,
          -1.3434343434343434,
          -1.2929292929292928,
          -1.2424242424242424,
          -1.191919191919192,
          -1.1414141414141414,
          -1.0909090909090908,
          -1.0404040404040404,
          -0.9898989898989898,
          -0.9393939393939394,
          -0.8888888888888888,
          -0.8383838383838385,
          -0.7878787878787878,
          -0.7373737373737375,
          -0.6868686868686869,
          -0.6363636363636365,
          -0.5858585858585859,
          -0.5353535353535355,
          -0.48484848484848486,
          -0.4343434343434345,
          -0.38383838383838387,
          -0.33333333333333326,
          -0.2828282828282829,
          -0.23232323232323226,
          -0.18181818181818188,
          -0.13131313131313127,
          -0.08080808080808088,
          -0.030303030303030276,
          0.020202020202020332,
          0.0707070707070705,
          0.1212121212121211,
          0.1717171717171717,
          0.22222222222222232,
          0.2727272727272725,
          0.3232323232323231,
          0.3737373737373737,
          0.4242424242424243,
          0.4747474747474749,
          0.5252525252525251,
          0.5757575757575757,
          0.6262626262626263,
          0.6767676767676769,
          0.7272727272727271,
          0.7777777777777777,
          0.8282828282828283,
          0.8787878787878789,
          0.9292929292929291,
          0.9797979797979797,
          1.0303030303030303,
          1.0808080808080809,
          1.131313131313131,
          1.1818181818181817,
          1.2323232323232323,
          1.2828282828282829,
          1.3333333333333335,
          1.3838383838383836,
          1.4343434343434343,
          1.4848484848484849,
          1.5353535353535355,
          1.5858585858585856,
          1.6363636363636362,
          1.6868686868686869,
          1.7373737373737375,
          1.7878787878787876,
          1.8383838383838382,
          1.8888888888888888,
          1.9393939393939394,
          1.9898989898989896,
          2.0404040404040407,
          2.090909090909091,
          2.141414141414141,
          2.191919191919192,
          2.242424242424242,
          2.2929292929292933,
          2.3434343434343434,
          2.3939393939393936,
          2.4444444444444446,
          2.494949494949495,
          2.545454545454545,
          2.595959595959596,
          2.646464646464646,
          2.6969696969696972,
          2.7474747474747474,
          2.7979797979797976,
          2.8484848484848486,
          2.898989898989899,
          2.94949494949495,
          3
         ],
         "xaxis": "x",
         "y": [
          -5.9990358309395955,
          -7.331675885230662,
          -9.180924660338537,
          -3.470179451901875,
          -3.7073702827437094,
          -8.489452396768971,
          -5.98941842520822,
          -7.87569089667454,
          -8.031490558134312,
          1.6255652180928406,
          -4.383400719354105,
          -1.0032969324333738,
          -1.7417031226763806,
          -2.243622773961355,
          -5.29169614699648,
          -4.947654051724193,
          -0.368116342325153,
          1.8995662636648427,
          -6.812475279231776,
          -3.942481433065156,
          -1.5755235975961466,
          2.3071353419268594,
          0.9121539358522921,
          1.8470665222617393,
          0.2342407929757539,
          -3.2584534625594923,
          -0.7328570803099352,
          3.5440436489592777,
          0.31981652576846953,
          -3.8231984702398436,
          4.131982705409077,
          1.2911922179827113,
          2.1300758884067883,
          5.868267155692416,
          -1.6659879775345638,
          -2.050794248675459,
          -7.524701469467465,
          0.43861723421681753,
          1.8180587989627495,
          -0.06764449663312183,
          0.04027501702165994,
          2.8081881805190902,
          1.2636488748551804,
          1.2399223103933947,
          -0.20299783738656127,
          -0.11602722702930933,
          3.1564289524345743,
          -0.22990070793084827,
          -1.1861760148905283,
          -1.5489646567986957,
          -0.21838061156649236,
          0.7612858629930805,
          1.782035440575599,
          0.7045848011851503,
          -0.6101781945878435,
          -4.426651297267034,
          2.4255876766096427,
          -2.299061464696753,
          0.31848459772552945,
          4.517823051415926,
          1.845901394253508,
          -1.1783069898176755,
          3.558803950177709,
          0.8462122001739705,
          0.4237529475628392,
          5.844915755970276,
          4.400950721529991,
          12.212570566204747,
          -0.29076058271744465,
          3.3044447566275488,
          4.932794018434655,
          7.971713882385016,
          3.628232826321039,
          9.57936053246315,
          5.756659288677309,
          3.5872117192376947,
          5.814029610410486,
          6.6872981801573115,
          6.991264488284225,
          6.187280147954809,
          7.957602577368878,
          12.174423666913384,
          12.582772954840589,
          16.330366617859543,
          8.889865487057632,
          9.02052689988873,
          19.321741948880074,
          14.99495721888992,
          15.929764534937624,
          13.078176227888923,
          17.80653994878841,
          17.7933577077297,
          18.731461465639466,
          23.290093639346082,
          18.430838779766486,
          22.480878159835967,
          17.9424649848335,
          25.7473016349389,
          22.403091314602214,
          32.47013470396564
         ],
         "yaxis": "y"
        }
       ],
       "layout": {
        "legend": {
         "tracegroupgap": 0
        },
        "template": {
         "data": {
          "bar": [
           {
            "error_x": {
             "color": "rgb(36,36,36)"
            },
            "error_y": {
             "color": "rgb(36,36,36)"
            },
            "marker": {
             "line": {
              "color": "white",
              "width": 0.5
             },
             "pattern": {
              "fillmode": "overlay",
              "size": 10,
              "solidity": 0.2
             }
            },
            "type": "bar"
           }
          ],
          "barpolar": [
           {
            "marker": {
             "line": {
              "color": "white",
              "width": 0.5
             },
             "pattern": {
              "fillmode": "overlay",
              "size": 10,
              "solidity": 0.2
             }
            },
            "type": "barpolar"
           }
          ],
          "carpet": [
           {
            "aaxis": {
             "endlinecolor": "rgb(36,36,36)",
             "gridcolor": "white",
             "linecolor": "white",
             "minorgridcolor": "white",
             "startlinecolor": "rgb(36,36,36)"
            },
            "baxis": {
             "endlinecolor": "rgb(36,36,36)",
             "gridcolor": "white",
             "linecolor": "white",
             "minorgridcolor": "white",
             "startlinecolor": "rgb(36,36,36)"
            },
            "type": "carpet"
           }
          ],
          "choropleth": [
           {
            "colorbar": {
             "outlinewidth": 1,
             "tickcolor": "rgb(36,36,36)",
             "ticks": "outside"
            },
            "type": "choropleth"
           }
          ],
          "contour": [
           {
            "colorbar": {
             "outlinewidth": 1,
             "tickcolor": "rgb(36,36,36)",
             "ticks": "outside"
            },
            "colorscale": [
             [
              0,
              "#440154"
             ],
             [
              0.1111111111111111,
              "#482878"
             ],
             [
              0.2222222222222222,
              "#3e4989"
             ],
             [
              0.3333333333333333,
              "#31688e"
             ],
             [
              0.4444444444444444,
              "#26828e"
             ],
             [
              0.5555555555555556,
              "#1f9e89"
             ],
             [
              0.6666666666666666,
              "#35b779"
             ],
             [
              0.7777777777777778,
              "#6ece58"
             ],
             [
              0.8888888888888888,
              "#b5de2b"
             ],
             [
              1,
              "#fde725"
             ]
            ],
            "type": "contour"
           }
          ],
          "contourcarpet": [
           {
            "colorbar": {
             "outlinewidth": 1,
             "tickcolor": "rgb(36,36,36)",
             "ticks": "outside"
            },
            "type": "contourcarpet"
           }
          ],
          "heatmap": [
           {
            "colorbar": {
             "outlinewidth": 1,
             "tickcolor": "rgb(36,36,36)",
             "ticks": "outside"
            },
            "colorscale": [
             [
              0,
              "#440154"
             ],
             [
              0.1111111111111111,
              "#482878"
             ],
             [
              0.2222222222222222,
              "#3e4989"
             ],
             [
              0.3333333333333333,
              "#31688e"
             ],
             [
              0.4444444444444444,
              "#26828e"
             ],
             [
              0.5555555555555556,
              "#1f9e89"
             ],
             [
              0.6666666666666666,
              "#35b779"
             ],
             [
              0.7777777777777778,
              "#6ece58"
             ],
             [
              0.8888888888888888,
              "#b5de2b"
             ],
             [
              1,
              "#fde725"
             ]
            ],
            "type": "heatmap"
           }
          ],
          "heatmapgl": [
           {
            "colorbar": {
             "outlinewidth": 1,
             "tickcolor": "rgb(36,36,36)",
             "ticks": "outside"
            },
            "colorscale": [
             [
              0,
              "#440154"
             ],
             [
              0.1111111111111111,
              "#482878"
             ],
             [
              0.2222222222222222,
              "#3e4989"
             ],
             [
              0.3333333333333333,
              "#31688e"
             ],
             [
              0.4444444444444444,
              "#26828e"
             ],
             [
              0.5555555555555556,
              "#1f9e89"
             ],
             [
              0.6666666666666666,
              "#35b779"
             ],
             [
              0.7777777777777778,
              "#6ece58"
             ],
             [
              0.8888888888888888,
              "#b5de2b"
             ],
             [
              1,
              "#fde725"
             ]
            ],
            "type": "heatmapgl"
           }
          ],
          "histogram": [
           {
            "marker": {
             "line": {
              "color": "white",
              "width": 0.6
             }
            },
            "type": "histogram"
           }
          ],
          "histogram2d": [
           {
            "colorbar": {
             "outlinewidth": 1,
             "tickcolor": "rgb(36,36,36)",
             "ticks": "outside"
            },
            "colorscale": [
             [
              0,
              "#440154"
             ],
             [
              0.1111111111111111,
              "#482878"
             ],
             [
              0.2222222222222222,
              "#3e4989"
             ],
             [
              0.3333333333333333,
              "#31688e"
             ],
             [
              0.4444444444444444,
              "#26828e"
             ],
             [
              0.5555555555555556,
              "#1f9e89"
             ],
             [
              0.6666666666666666,
              "#35b779"
             ],
             [
              0.7777777777777778,
              "#6ece58"
             ],
             [
              0.8888888888888888,
              "#b5de2b"
             ],
             [
              1,
              "#fde725"
             ]
            ],
            "type": "histogram2d"
           }
          ],
          "histogram2dcontour": [
           {
            "colorbar": {
             "outlinewidth": 1,
             "tickcolor": "rgb(36,36,36)",
             "ticks": "outside"
            },
            "colorscale": [
             [
              0,
              "#440154"
             ],
             [
              0.1111111111111111,
              "#482878"
             ],
             [
              0.2222222222222222,
              "#3e4989"
             ],
             [
              0.3333333333333333,
              "#31688e"
             ],
             [
              0.4444444444444444,
              "#26828e"
             ],
             [
              0.5555555555555556,
              "#1f9e89"
             ],
             [
              0.6666666666666666,
              "#35b779"
             ],
             [
              0.7777777777777778,
              "#6ece58"
             ],
             [
              0.8888888888888888,
              "#b5de2b"
             ],
             [
              1,
              "#fde725"
             ]
            ],
            "type": "histogram2dcontour"
           }
          ],
          "mesh3d": [
           {
            "colorbar": {
             "outlinewidth": 1,
             "tickcolor": "rgb(36,36,36)",
             "ticks": "outside"
            },
            "type": "mesh3d"
           }
          ],
          "parcoords": [
           {
            "line": {
             "colorbar": {
              "outlinewidth": 1,
              "tickcolor": "rgb(36,36,36)",
              "ticks": "outside"
             }
            },
            "type": "parcoords"
           }
          ],
          "pie": [
           {
            "automargin": true,
            "type": "pie"
           }
          ],
          "scatter": [
           {
            "fillpattern": {
             "fillmode": "overlay",
             "size": 10,
             "solidity": 0.2
            },
            "type": "scatter"
           }
          ],
          "scatter3d": [
           {
            "line": {
             "colorbar": {
              "outlinewidth": 1,
              "tickcolor": "rgb(36,36,36)",
              "ticks": "outside"
             }
            },
            "marker": {
             "colorbar": {
              "outlinewidth": 1,
              "tickcolor": "rgb(36,36,36)",
              "ticks": "outside"
             }
            },
            "type": "scatter3d"
           }
          ],
          "scattercarpet": [
           {
            "marker": {
             "colorbar": {
              "outlinewidth": 1,
              "tickcolor": "rgb(36,36,36)",
              "ticks": "outside"
             }
            },
            "type": "scattercarpet"
           }
          ],
          "scattergeo": [
           {
            "marker": {
             "colorbar": {
              "outlinewidth": 1,
              "tickcolor": "rgb(36,36,36)",
              "ticks": "outside"
             }
            },
            "type": "scattergeo"
           }
          ],
          "scattergl": [
           {
            "marker": {
             "colorbar": {
              "outlinewidth": 1,
              "tickcolor": "rgb(36,36,36)",
              "ticks": "outside"
             }
            },
            "type": "scattergl"
           }
          ],
          "scattermapbox": [
           {
            "marker": {
             "colorbar": {
              "outlinewidth": 1,
              "tickcolor": "rgb(36,36,36)",
              "ticks": "outside"
             }
            },
            "type": "scattermapbox"
           }
          ],
          "scatterpolar": [
           {
            "marker": {
             "colorbar": {
              "outlinewidth": 1,
              "tickcolor": "rgb(36,36,36)",
              "ticks": "outside"
             }
            },
            "type": "scatterpolar"
           }
          ],
          "scatterpolargl": [
           {
            "marker": {
             "colorbar": {
              "outlinewidth": 1,
              "tickcolor": "rgb(36,36,36)",
              "ticks": "outside"
             }
            },
            "type": "scatterpolargl"
           }
          ],
          "scatterternary": [
           {
            "marker": {
             "colorbar": {
              "outlinewidth": 1,
              "tickcolor": "rgb(36,36,36)",
              "ticks": "outside"
             }
            },
            "type": "scatterternary"
           }
          ],
          "surface": [
           {
            "colorbar": {
             "outlinewidth": 1,
             "tickcolor": "rgb(36,36,36)",
             "ticks": "outside"
            },
            "colorscale": [
             [
              0,
              "#440154"
             ],
             [
              0.1111111111111111,
              "#482878"
             ],
             [
              0.2222222222222222,
              "#3e4989"
             ],
             [
              0.3333333333333333,
              "#31688e"
             ],
             [
              0.4444444444444444,
              "#26828e"
             ],
             [
              0.5555555555555556,
              "#1f9e89"
             ],
             [
              0.6666666666666666,
              "#35b779"
             ],
             [
              0.7777777777777778,
              "#6ece58"
             ],
             [
              0.8888888888888888,
              "#b5de2b"
             ],
             [
              1,
              "#fde725"
             ]
            ],
            "type": "surface"
           }
          ],
          "table": [
           {
            "cells": {
             "fill": {
              "color": "rgb(237,237,237)"
             },
             "line": {
              "color": "white"
             }
            },
            "header": {
             "fill": {
              "color": "rgb(217,217,217)"
             },
             "line": {
              "color": "white"
             }
            },
            "type": "table"
           }
          ]
         },
         "layout": {
          "annotationdefaults": {
           "arrowhead": 0,
           "arrowwidth": 1
          },
          "autosize": true,
          "autotypenumbers": "strict",
          "coloraxis": {
           "colorbar": {
            "outlinewidth": 1,
            "tickcolor": "rgb(36,36,36)",
            "ticks": "outside"
           }
          },
          "colorscale": {
           "diverging": [
            [
             0,
             "rgb(103,0,31)"
            ],
            [
             0.1,
             "rgb(178,24,43)"
            ],
            [
             0.2,
             "rgb(214,96,77)"
            ],
            [
             0.3,
             "rgb(244,165,130)"
            ],
            [
             0.4,
             "rgb(253,219,199)"
            ],
            [
             0.5,
             "rgb(247,247,247)"
            ],
            [
             0.6,
             "rgb(209,229,240)"
            ],
            [
             0.7,
             "rgb(146,197,222)"
            ],
            [
             0.8,
             "rgb(67,147,195)"
            ],
            [
             0.9,
             "rgb(33,102,172)"
            ],
            [
             1,
             "rgb(5,48,97)"
            ]
           ],
           "sequential": [
            [
             0,
             "#440154"
            ],
            [
             0.1111111111111111,
             "#482878"
            ],
            [
             0.2222222222222222,
             "#3e4989"
            ],
            [
             0.3333333333333333,
             "#31688e"
            ],
            [
             0.4444444444444444,
             "#26828e"
            ],
            [
             0.5555555555555556,
             "#1f9e89"
            ],
            [
             0.6666666666666666,
             "#35b779"
            ],
            [
             0.7777777777777778,
             "#6ece58"
            ],
            [
             0.8888888888888888,
             "#b5de2b"
            ],
            [
             1,
             "#fde725"
            ]
           ],
           "sequentialminus": [
            [
             0,
             "#440154"
            ],
            [
             0.1111111111111111,
             "#482878"
            ],
            [
             0.2222222222222222,
             "#3e4989"
            ],
            [
             0.3333333333333333,
             "#31688e"
            ],
            [
             0.4444444444444444,
             "#26828e"
            ],
            [
             0.5555555555555556,
             "#1f9e89"
            ],
            [
             0.6666666666666666,
             "#35b779"
            ],
            [
             0.7777777777777778,
             "#6ece58"
            ],
            [
             0.8888888888888888,
             "#b5de2b"
            ],
            [
             1,
             "#fde725"
            ]
           ]
          },
          "colorway": [
           "#1F77B4",
           "#FF7F0E",
           "#2CA02C",
           "#D62728",
           "#9467BD",
           "#8C564B",
           "#E377C2",
           "#7F7F7F",
           "#BCBD22",
           "#17BECF"
          ],
          "font": {
           "color": "rgb(36,36,36)"
          },
          "geo": {
           "bgcolor": "white",
           "lakecolor": "white",
           "landcolor": "white",
           "showlakes": true,
           "showland": true,
           "subunitcolor": "white"
          },
          "height": 400,
          "hoverlabel": {
           "align": "left"
          },
          "hovermode": "closest",
          "mapbox": {
           "style": "light"
          },
          "margin": {
           "b": 30,
           "l": 30,
           "r": 30,
           "t": 30
          },
          "paper_bgcolor": "white",
          "plot_bgcolor": "white",
          "polar": {
           "angularaxis": {
            "gridcolor": "rgb(232,232,232)",
            "linecolor": "rgb(36,36,36)",
            "showgrid": false,
            "showline": true,
            "ticks": "outside"
           },
           "bgcolor": "white",
           "radialaxis": {
            "gridcolor": "rgb(232,232,232)",
            "linecolor": "rgb(36,36,36)",
            "showgrid": false,
            "showline": true,
            "ticks": "outside"
           }
          },
          "scene": {
           "xaxis": {
            "backgroundcolor": "white",
            "gridcolor": "rgb(232,232,232)",
            "gridwidth": 2,
            "linecolor": "rgb(36,36,36)",
            "showbackground": true,
            "showgrid": false,
            "showline": true,
            "ticks": "outside",
            "zeroline": false,
            "zerolinecolor": "rgb(36,36,36)"
           },
           "yaxis": {
            "backgroundcolor": "white",
            "gridcolor": "rgb(232,232,232)",
            "gridwidth": 2,
            "linecolor": "rgb(36,36,36)",
            "showbackground": true,
            "showgrid": false,
            "showline": true,
            "ticks": "outside",
            "zeroline": false,
            "zerolinecolor": "rgb(36,36,36)"
           },
           "zaxis": {
            "backgroundcolor": "white",
            "gridcolor": "rgb(232,232,232)",
            "gridwidth": 2,
            "linecolor": "rgb(36,36,36)",
            "showbackground": true,
            "showgrid": false,
            "showline": true,
            "ticks": "outside",
            "zeroline": false,
            "zerolinecolor": "rgb(36,36,36)"
           }
          },
          "shapedefaults": {
           "fillcolor": "black",
           "line": {
            "width": 0
           },
           "opacity": 0.3
          },
          "ternary": {
           "aaxis": {
            "gridcolor": "rgb(232,232,232)",
            "linecolor": "rgb(36,36,36)",
            "showgrid": false,
            "showline": true,
            "ticks": "outside"
           },
           "baxis": {
            "gridcolor": "rgb(232,232,232)",
            "linecolor": "rgb(36,36,36)",
            "showgrid": false,
            "showline": true,
            "ticks": "outside"
           },
           "bgcolor": "white",
           "caxis": {
            "gridcolor": "rgb(232,232,232)",
            "linecolor": "rgb(36,36,36)",
            "showgrid": false,
            "showline": true,
            "ticks": "outside"
           }
          },
          "title": {
           "x": 0.5,
           "xanchor": "center"
          },
          "width": 600,
          "xaxis": {
           "automargin": true,
           "gridcolor": "rgb(232,232,232)",
           "linecolor": "rgb(36,36,36)",
           "showgrid": true,
           "showline": true,
           "ticks": "outside",
           "title": {
            "standoff": 15
           },
           "zeroline": false,
           "zerolinecolor": "rgb(36,36,36)"
          },
          "yaxis": {
           "automargin": true,
           "gridcolor": "rgb(232,232,232)",
           "linecolor": "rgb(36,36,36)",
           "showgrid": true,
           "showline": true,
           "ticks": "outside",
           "title": {
            "standoff": 15
           },
           "zeroline": false,
           "zerolinecolor": "rgb(36,36,36)"
          }
         }
        },
        "title": {
         "text": "Sample 1"
        },
        "xaxis": {
         "anchor": "y",
         "domain": [
          0,
          1
         ],
         "title": {
          "text": "x"
         }
        },
        "yaxis": {
         "anchor": "x",
         "domain": [
          0,
          1
         ],
         "title": {
          "text": "y"
         }
        }
       }
      }
     },
     "metadata": {},
     "output_type": "display_data"
    }
   ],
   "source": [
    "px.scatter(sample_1, x='x', y='y', title='Sample 1')"
   ]
  },
  {
   "cell_type": "markdown",
   "id": "e52dde4b",
   "metadata": {
    "deletable": true,
    "editable": true,
    "slideshow": {
     "slide_type": "slide"
    }
   },
   "source": [
    "### Polynomial regression"
   ]
  },
  {
   "cell_type": "markdown",
   "id": "9e28cd00",
   "metadata": {
    "deletable": true,
    "editable": true,
    "slideshow": {
     "slide_type": "fragment"
    }
   },
   "source": [
    "- Let's fit three **polynomial** models on Sample 1: degree 1, degree 3, and degree 25.<br><small>Again, we'll use the `PolynomialFeatures` transformer.</small>"
   ]
  },
  {
   "cell_type": "code",
   "execution_count": 31,
   "id": "79df8b3d",
   "metadata": {
    "deletable": true,
    "editable": true
   },
   "outputs": [
    {
     "data": {
      "text/plain": [
       "array([[ 1.,  1.,  1.,  1.],\n",
       "       [ 1.,  2.,  4.,  8.],\n",
       "       [ 1.,  3.,  9., 27.],\n",
       "       [ 1.,  4., 16., 64.],\n",
       "       [ 1., -2.,  4., -8.]])"
      ]
     },
     "execution_count": 31,
     "metadata": {},
     "output_type": "execute_result"
    }
   ],
   "source": [
    "# fit_transform fits and transforms the same input.\n",
    "d2 = PolynomialFeatures(3)\n",
    "d2.fit_transform(np.array([1, 2, 3, 4, -2]).reshape(-1, 1))"
   ]
  },
  {
   "cell_type": "markdown",
   "id": "29a75d49",
   "metadata": {
    "deletable": true,
    "editable": true,
    "slideshow": {
     "slide_type": "fragment"
    }
   },
   "source": [
    "- Below, we look at our three models' predictions on Sample 1, which they were **trained** on."
   ]
  },
  {
   "cell_type": "code",
   "execution_count": 32,
   "id": "40153c10",
   "metadata": {
    "deletable": true,
    "editable": true
   },
   "outputs": [
    {
     "data": {
      "application/vnd.plotly.v1+json": {
       "config": {
        "plotlyServerURL": "https://plot.ly"
       },
       "data": [
        {
         "marker": {
          "color": "#4c72b0"
         },
         "mode": "markers",
         "name": "Sample 1",
         "type": "scatter",
         "x": [
          -2,
          -1.9494949494949494,
          -1.898989898989899,
          -1.8484848484848484,
          -1.797979797979798,
          -1.7474747474747474,
          -1.696969696969697,
          -1.6464646464646464,
          -1.595959595959596,
          -1.5454545454545454,
          -1.4949494949494948,
          -1.4444444444444444,
          -1.393939393939394,
          -1.3434343434343434,
          -1.2929292929292928,
          -1.2424242424242424,
          -1.191919191919192,
          -1.1414141414141414,
          -1.0909090909090908,
          -1.0404040404040404,
          -0.9898989898989898,
          -0.9393939393939394,
          -0.8888888888888888,
          -0.8383838383838385,
          -0.7878787878787878,
          -0.7373737373737375,
          -0.6868686868686869,
          -0.6363636363636365,
          -0.5858585858585859,
          -0.5353535353535355,
          -0.48484848484848486,
          -0.4343434343434345,
          -0.38383838383838387,
          -0.33333333333333326,
          -0.2828282828282829,
          -0.23232323232323226,
          -0.18181818181818188,
          -0.13131313131313127,
          -0.08080808080808088,
          -0.030303030303030276,
          0.020202020202020332,
          0.0707070707070705,
          0.1212121212121211,
          0.1717171717171717,
          0.22222222222222232,
          0.2727272727272725,
          0.3232323232323231,
          0.3737373737373737,
          0.4242424242424243,
          0.4747474747474749,
          0.5252525252525251,
          0.5757575757575757,
          0.6262626262626263,
          0.6767676767676769,
          0.7272727272727271,
          0.7777777777777777,
          0.8282828282828283,
          0.8787878787878789,
          0.9292929292929291,
          0.9797979797979797,
          1.0303030303030303,
          1.0808080808080809,
          1.131313131313131,
          1.1818181818181817,
          1.2323232323232323,
          1.2828282828282829,
          1.3333333333333335,
          1.3838383838383836,
          1.4343434343434343,
          1.4848484848484849,
          1.5353535353535355,
          1.5858585858585856,
          1.6363636363636362,
          1.6868686868686869,
          1.7373737373737375,
          1.7878787878787876,
          1.8383838383838382,
          1.8888888888888888,
          1.9393939393939394,
          1.9898989898989896,
          2.0404040404040407,
          2.090909090909091,
          2.141414141414141,
          2.191919191919192,
          2.242424242424242,
          2.2929292929292933,
          2.3434343434343434,
          2.3939393939393936,
          2.4444444444444446,
          2.494949494949495,
          2.545454545454545,
          2.595959595959596,
          2.646464646464646,
          2.6969696969696972,
          2.7474747474747474,
          2.7979797979797976,
          2.8484848484848486,
          2.898989898989899,
          2.94949494949495,
          3
         ],
         "xaxis": "x",
         "y": [
          -5.9990358309395955,
          -7.331675885230662,
          -9.180924660338537,
          -3.470179451901875,
          -3.7073702827437094,
          -8.489452396768971,
          -5.98941842520822,
          -7.87569089667454,
          -8.031490558134312,
          1.6255652180928406,
          -4.383400719354105,
          -1.0032969324333738,
          -1.7417031226763806,
          -2.243622773961355,
          -5.29169614699648,
          -4.947654051724193,
          -0.368116342325153,
          1.8995662636648427,
          -6.812475279231776,
          -3.942481433065156,
          -1.5755235975961466,
          2.3071353419268594,
          0.9121539358522921,
          1.8470665222617393,
          0.2342407929757539,
          -3.2584534625594923,
          -0.7328570803099352,
          3.5440436489592777,
          0.31981652576846953,
          -3.8231984702398436,
          4.131982705409077,
          1.2911922179827113,
          2.1300758884067883,
          5.868267155692416,
          -1.6659879775345638,
          -2.050794248675459,
          -7.524701469467465,
          0.43861723421681753,
          1.8180587989627495,
          -0.06764449663312183,
          0.04027501702165994,
          2.8081881805190902,
          1.2636488748551804,
          1.2399223103933947,
          -0.20299783738656127,
          -0.11602722702930933,
          3.1564289524345743,
          -0.22990070793084827,
          -1.1861760148905283,
          -1.5489646567986957,
          -0.21838061156649236,
          0.7612858629930805,
          1.782035440575599,
          0.7045848011851503,
          -0.6101781945878435,
          -4.426651297267034,
          2.4255876766096427,
          -2.299061464696753,
          0.31848459772552945,
          4.517823051415926,
          1.845901394253508,
          -1.1783069898176755,
          3.558803950177709,
          0.8462122001739705,
          0.4237529475628392,
          5.844915755970276,
          4.400950721529991,
          12.212570566204747,
          -0.29076058271744465,
          3.3044447566275488,
          4.932794018434655,
          7.971713882385016,
          3.628232826321039,
          9.57936053246315,
          5.756659288677309,
          3.5872117192376947,
          5.814029610410486,
          6.6872981801573115,
          6.991264488284225,
          6.187280147954809,
          7.957602577368878,
          12.174423666913384,
          12.582772954840589,
          16.330366617859543,
          8.889865487057632,
          9.02052689988873,
          19.321741948880074,
          14.99495721888992,
          15.929764534937624,
          13.078176227888923,
          17.80653994878841,
          17.7933577077297,
          18.731461465639466,
          23.290093639346082,
          18.430838779766486,
          22.480878159835967,
          17.9424649848335,
          25.7473016349389,
          22.403091314602214,
          32.47013470396564
         ],
         "yaxis": "y"
        },
        {
         "line": {
          "color": "orange",
          "width": 4
         },
         "name": "Fit Model",
         "type": "scatter",
         "x": [
          -2,
          -1.9494949494949494,
          -1.898989898989899,
          -1.8484848484848484,
          -1.797979797979798,
          -1.7474747474747474,
          -1.696969696969697,
          -1.6464646464646464,
          -1.595959595959596,
          -1.5454545454545454,
          -1.4949494949494948,
          -1.4444444444444444,
          -1.393939393939394,
          -1.3434343434343434,
          -1.2929292929292928,
          -1.2424242424242424,
          -1.191919191919192,
          -1.1414141414141414,
          -1.0909090909090908,
          -1.0404040404040404,
          -0.9898989898989898,
          -0.9393939393939394,
          -0.8888888888888888,
          -0.8383838383838385,
          -0.7878787878787878,
          -0.7373737373737375,
          -0.6868686868686869,
          -0.6363636363636365,
          -0.5858585858585859,
          -0.5353535353535355,
          -0.48484848484848486,
          -0.4343434343434345,
          -0.38383838383838387,
          -0.33333333333333326,
          -0.2828282828282829,
          -0.23232323232323226,
          -0.18181818181818188,
          -0.13131313131313127,
          -0.08080808080808088,
          -0.030303030303030276,
          0.020202020202020332,
          0.0707070707070705,
          0.1212121212121211,
          0.1717171717171717,
          0.22222222222222232,
          0.2727272727272725,
          0.3232323232323231,
          0.3737373737373737,
          0.4242424242424243,
          0.4747474747474749,
          0.5252525252525251,
          0.5757575757575757,
          0.6262626262626263,
          0.6767676767676769,
          0.7272727272727271,
          0.7777777777777777,
          0.8282828282828283,
          0.8787878787878789,
          0.9292929292929291,
          0.9797979797979797,
          1.0303030303030303,
          1.0808080808080809,
          1.131313131313131,
          1.1818181818181817,
          1.2323232323232323,
          1.2828282828282829,
          1.3333333333333335,
          1.3838383838383836,
          1.4343434343434343,
          1.4848484848484849,
          1.5353535353535355,
          1.5858585858585856,
          1.6363636363636362,
          1.6868686868686869,
          1.7373737373737375,
          1.7878787878787876,
          1.8383838383838382,
          1.8888888888888888,
          1.9393939393939394,
          1.9898989898989896,
          2.0404040404040407,
          2.090909090909091,
          2.141414141414141,
          2.191919191919192,
          2.242424242424242,
          2.2929292929292933,
          2.3434343434343434,
          2.3939393939393936,
          2.4444444444444446,
          2.494949494949495,
          2.545454545454545,
          2.595959595959596,
          2.646464646464646,
          2.6969696969696972,
          2.7474747474747474,
          2.7979797979797976,
          2.8484848484848486,
          2.898989898989899,
          2.94949494949495,
          3
         ],
         "xaxis": "x",
         "y": [
          -8.251729575243953,
          -8.011387653946237,
          -7.771045732648525,
          -7.530703811350812,
          -7.2903618900530995,
          -7.050019968755385,
          -6.809678047457672,
          -6.569336126159959,
          -6.328994204862246,
          -6.088652283564532,
          -5.848310362266818,
          -5.607968440969105,
          -5.367626519671393,
          -5.127284598373678,
          -4.8869426770759645,
          -4.646600755778252,
          -4.406258834480539,
          -4.1659169131828255,
          -3.925574991885111,
          -3.6852330705873984,
          -3.4448911492896848,
          -3.204549227991972,
          -2.9642073066942585,
          -2.7238653853965453,
          -2.4835234640988317,
          -2.243181542801119,
          -2.002839621503405,
          -1.7624977002056923,
          -1.5221557789079783,
          -1.2818138576102656,
          -1.041471936312552,
          -0.8011300150148388,
          -0.5607880937171252,
          -0.3204461724194112,
          -0.0801042511216985,
          0.1602376701760153,
          0.4005795914737281,
          0.6409215127714419,
          0.8812634340691547,
          1.1216053553668686,
          1.3619472766645824,
          1.6022891979622942,
          1.842631119260008,
          2.0829730405577216,
          2.3233149618554356,
          2.5636568831531474,
          2.8039988044508615,
          3.044340725748575,
          3.284682647046289,
          3.5250245683440027,
          3.7653664896417145,
          4.0057084109394285,
          4.246050332237142,
          4.486392253534856,
          4.7267341748325675,
          4.967076096130281,
          5.207418017427996,
          5.447759938725709,
          5.688101860023421,
          5.928443781321135,
          6.168785702618848,
          6.409127623916563,
          6.6494695452142745,
          6.889811466511988,
          7.130153387809702,
          7.370495309107416,
          7.61083723040513,
          7.8511791517028415,
          8.091521073000555,
          8.33186299429827,
          8.572204915595982,
          8.812546836893695,
          9.052888758191408,
          9.29323067948912,
          9.533572600786837,
          9.77391452208455,
          10.014256443382262,
          10.254598364679975,
          10.494940285977691,
          10.7352822072754,
          10.975624128573116,
          11.21596604987083,
          11.456307971168542,
          11.696649892466258,
          11.936991813763967,
          12.177333735061683,
          12.417675656359396,
          12.658017577657109,
          12.898359498954825,
          13.138701420252534,
          13.379043341550247,
          13.619385262847963,
          13.859727184145676,
          14.100069105443392,
          14.340411026741101,
          14.580752948038814,
          14.82109486933653,
          15.061436790634243,
          15.30177871193196,
          15.542120633229668
         ],
         "yaxis": "y"
        },
        {
         "marker": {
          "color": "#4c72b0"
         },
         "mode": "markers",
         "name": "Actual Data",
         "showlegend": false,
         "type": "scatter",
         "x": [
          -2,
          -1.9494949494949494,
          -1.898989898989899,
          -1.8484848484848484,
          -1.797979797979798,
          -1.7474747474747474,
          -1.696969696969697,
          -1.6464646464646464,
          -1.595959595959596,
          -1.5454545454545454,
          -1.4949494949494948,
          -1.4444444444444444,
          -1.393939393939394,
          -1.3434343434343434,
          -1.2929292929292928,
          -1.2424242424242424,
          -1.191919191919192,
          -1.1414141414141414,
          -1.0909090909090908,
          -1.0404040404040404,
          -0.9898989898989898,
          -0.9393939393939394,
          -0.8888888888888888,
          -0.8383838383838385,
          -0.7878787878787878,
          -0.7373737373737375,
          -0.6868686868686869,
          -0.6363636363636365,
          -0.5858585858585859,
          -0.5353535353535355,
          -0.48484848484848486,
          -0.4343434343434345,
          -0.38383838383838387,
          -0.33333333333333326,
          -0.2828282828282829,
          -0.23232323232323226,
          -0.18181818181818188,
          -0.13131313131313127,
          -0.08080808080808088,
          -0.030303030303030276,
          0.020202020202020332,
          0.0707070707070705,
          0.1212121212121211,
          0.1717171717171717,
          0.22222222222222232,
          0.2727272727272725,
          0.3232323232323231,
          0.3737373737373737,
          0.4242424242424243,
          0.4747474747474749,
          0.5252525252525251,
          0.5757575757575757,
          0.6262626262626263,
          0.6767676767676769,
          0.7272727272727271,
          0.7777777777777777,
          0.8282828282828283,
          0.8787878787878789,
          0.9292929292929291,
          0.9797979797979797,
          1.0303030303030303,
          1.0808080808080809,
          1.131313131313131,
          1.1818181818181817,
          1.2323232323232323,
          1.2828282828282829,
          1.3333333333333335,
          1.3838383838383836,
          1.4343434343434343,
          1.4848484848484849,
          1.5353535353535355,
          1.5858585858585856,
          1.6363636363636362,
          1.6868686868686869,
          1.7373737373737375,
          1.7878787878787876,
          1.8383838383838382,
          1.8888888888888888,
          1.9393939393939394,
          1.9898989898989896,
          2.0404040404040407,
          2.090909090909091,
          2.141414141414141,
          2.191919191919192,
          2.242424242424242,
          2.2929292929292933,
          2.3434343434343434,
          2.3939393939393936,
          2.4444444444444446,
          2.494949494949495,
          2.545454545454545,
          2.595959595959596,
          2.646464646464646,
          2.6969696969696972,
          2.7474747474747474,
          2.7979797979797976,
          2.8484848484848486,
          2.898989898989899,
          2.94949494949495,
          3
         ],
         "xaxis": "x2",
         "y": [
          -5.9990358309395955,
          -7.331675885230662,
          -9.180924660338537,
          -3.470179451901875,
          -3.7073702827437094,
          -8.489452396768971,
          -5.98941842520822,
          -7.87569089667454,
          -8.031490558134312,
          1.6255652180928406,
          -4.383400719354105,
          -1.0032969324333738,
          -1.7417031226763806,
          -2.243622773961355,
          -5.29169614699648,
          -4.947654051724193,
          -0.368116342325153,
          1.8995662636648427,
          -6.812475279231776,
          -3.942481433065156,
          -1.5755235975961466,
          2.3071353419268594,
          0.9121539358522921,
          1.8470665222617393,
          0.2342407929757539,
          -3.2584534625594923,
          -0.7328570803099352,
          3.5440436489592777,
          0.31981652576846953,
          -3.8231984702398436,
          4.131982705409077,
          1.2911922179827113,
          2.1300758884067883,
          5.868267155692416,
          -1.6659879775345638,
          -2.050794248675459,
          -7.524701469467465,
          0.43861723421681753,
          1.8180587989627495,
          -0.06764449663312183,
          0.04027501702165994,
          2.8081881805190902,
          1.2636488748551804,
          1.2399223103933947,
          -0.20299783738656127,
          -0.11602722702930933,
          3.1564289524345743,
          -0.22990070793084827,
          -1.1861760148905283,
          -1.5489646567986957,
          -0.21838061156649236,
          0.7612858629930805,
          1.782035440575599,
          0.7045848011851503,
          -0.6101781945878435,
          -4.426651297267034,
          2.4255876766096427,
          -2.299061464696753,
          0.31848459772552945,
          4.517823051415926,
          1.845901394253508,
          -1.1783069898176755,
          3.558803950177709,
          0.8462122001739705,
          0.4237529475628392,
          5.844915755970276,
          4.400950721529991,
          12.212570566204747,
          -0.29076058271744465,
          3.3044447566275488,
          4.932794018434655,
          7.971713882385016,
          3.628232826321039,
          9.57936053246315,
          5.756659288677309,
          3.5872117192376947,
          5.814029610410486,
          6.6872981801573115,
          6.991264488284225,
          6.187280147954809,
          7.957602577368878,
          12.174423666913384,
          12.582772954840589,
          16.330366617859543,
          8.889865487057632,
          9.02052689988873,
          19.321741948880074,
          14.99495721888992,
          15.929764534937624,
          13.078176227888923,
          17.80653994878841,
          17.7933577077297,
          18.731461465639466,
          23.290093639346082,
          18.430838779766486,
          22.480878159835967,
          17.9424649848335,
          25.7473016349389,
          22.403091314602214,
          32.47013470396564
         ],
         "yaxis": "y2"
        },
        {
         "line": {
          "color": "orange",
          "width": 4
         },
         "name": "Predictions",
         "showlegend": false,
         "type": "scatter",
         "x": [
          -2,
          -1.9494949494949494,
          -1.898989898989899,
          -1.8484848484848484,
          -1.797979797979798,
          -1.7474747474747474,
          -1.696969696969697,
          -1.6464646464646464,
          -1.595959595959596,
          -1.5454545454545454,
          -1.4949494949494948,
          -1.4444444444444444,
          -1.393939393939394,
          -1.3434343434343434,
          -1.2929292929292928,
          -1.2424242424242424,
          -1.191919191919192,
          -1.1414141414141414,
          -1.0909090909090908,
          -1.0404040404040404,
          -0.9898989898989898,
          -0.9393939393939394,
          -0.8888888888888888,
          -0.8383838383838385,
          -0.7878787878787878,
          -0.7373737373737375,
          -0.6868686868686869,
          -0.6363636363636365,
          -0.5858585858585859,
          -0.5353535353535355,
          -0.48484848484848486,
          -0.4343434343434345,
          -0.38383838383838387,
          -0.33333333333333326,
          -0.2828282828282829,
          -0.23232323232323226,
          -0.18181818181818188,
          -0.13131313131313127,
          -0.08080808080808088,
          -0.030303030303030276,
          0.020202020202020332,
          0.0707070707070705,
          0.1212121212121211,
          0.1717171717171717,
          0.22222222222222232,
          0.2727272727272725,
          0.3232323232323231,
          0.3737373737373737,
          0.4242424242424243,
          0.4747474747474749,
          0.5252525252525251,
          0.5757575757575757,
          0.6262626262626263,
          0.6767676767676769,
          0.7272727272727271,
          0.7777777777777777,
          0.8282828282828283,
          0.8787878787878789,
          0.9292929292929291,
          0.9797979797979797,
          1.0303030303030303,
          1.0808080808080809,
          1.131313131313131,
          1.1818181818181817,
          1.2323232323232323,
          1.2828282828282829,
          1.3333333333333335,
          1.3838383838383836,
          1.4343434343434343,
          1.4848484848484849,
          1.5353535353535355,
          1.5858585858585856,
          1.6363636363636362,
          1.6868686868686869,
          1.7373737373737375,
          1.7878787878787876,
          1.8383838383838382,
          1.8888888888888888,
          1.9393939393939394,
          1.9898989898989896,
          2.0404040404040407,
          2.090909090909091,
          2.141414141414141,
          2.191919191919192,
          2.242424242424242,
          2.2929292929292933,
          2.3434343434343434,
          2.3939393939393936,
          2.4444444444444446,
          2.494949494949495,
          2.545454545454545,
          2.595959595959596,
          2.646464646464646,
          2.6969696969696972,
          2.7474747474747474,
          2.7979797979797976,
          2.8484848484848486,
          2.898989898989899,
          2.94949494949495,
          3
         ],
         "xaxis": "x2",
         "y": [
          -7.985097661263955,
          -7.416323983124312,
          -6.875350418396554,
          -6.361451969675291,
          -5.873903639555139,
          -5.4119804306307095,
          -4.97495734549662,
          -4.562109386747479,
          -4.172711556977904,
          -3.806038858782509,
          -3.4613662947559045,
          -3.137968867492708,
          -2.8351215795875313,
          -2.5520994336349867,
          -2.2881774322296895,
          -2.042630577966254,
          -1.8147338734392933,
          -1.6037623212434198,
          -1.4089909239732483,
          -1.2296946842233933,
          -1.0651486045884673,
          -0.9146276876630848,
          -0.7774069360418585,
          -0.6527613523194031,
          -0.5399659390903313,
          -0.4382956989492579,
          -0.3470256344907957,
          -0.26543074830955915,
          -0.1927860430001611,
          -0.12836652115721608,
          -0.07144718537533706,
          -0.021303038249138373,
          0.0227909176267668,
          0.06155967965776454,
          0.09572824524924098,
          0.12602161180658278,
          0.15316477673517587,
          0.17788273744040692,
          0.20090049132766194,
          0.22294303580232747,
          0.24473536826978967,
          0.2670024861354347,
          0.29046938680464923,
          0.31586106768281935,
          0.3439025261753314,
          0.37531875968757145,
          0.4108347656249262,
          0.4511755413927818,
          0.49706608439652467,
          0.5492313920415409,
          0.6083964617332164,
          0.6752862908769385,
          0.7506258768780929,
          0.8351402171420661,
          0.9295543090742433,
          1.0345931500800125,
          1.1509817375647595,
          1.2794450689338706,
          1.42070814159273,
          1.5754959529467276,
          1.744533500401248,
          1.9285457813616775,
          2.1282577932334004,
          2.3443945334218075,
          2.577680999332282,
          2.828842188370211,
          3.0986030979409804,
          3.3876887254499746,
          3.6968240683025844,
          4.026734123904193,
          4.37814388966019,
          4.751778362975953,
          5.148362541256879,
          5.568621421908349,
          6.013280002335751,
          6.483063279944466,
          6.978696252139889,
          7.500903916327402,
          8.050411269912392,
          8.627943310300237,
          9.234225034896344,
          9.869981441106074,
          10.535937526334825,
          11.232818287987998,
          11.961348723470952,
          12.722253830189096,
          13.516258605547796,
          14.344088046952448,
          15.206467151808456,
          16.104120917521172,
          17.037774341496,
          18.00815242113834,
          19.01598015385355,
          20.061982537047054,
          21.146884568124193,
          22.271411244490373,
          23.436287563551005,
          24.642238522711427,
          25.88998911937708,
          27.180264350953298
         ],
         "yaxis": "y2"
        },
        {
         "marker": {
          "color": "#4c72b0"
         },
         "mode": "markers",
         "name": "Actual Data",
         "showlegend": false,
         "type": "scatter",
         "x": [
          -2,
          -1.9494949494949494,
          -1.898989898989899,
          -1.8484848484848484,
          -1.797979797979798,
          -1.7474747474747474,
          -1.696969696969697,
          -1.6464646464646464,
          -1.595959595959596,
          -1.5454545454545454,
          -1.4949494949494948,
          -1.4444444444444444,
          -1.393939393939394,
          -1.3434343434343434,
          -1.2929292929292928,
          -1.2424242424242424,
          -1.191919191919192,
          -1.1414141414141414,
          -1.0909090909090908,
          -1.0404040404040404,
          -0.9898989898989898,
          -0.9393939393939394,
          -0.8888888888888888,
          -0.8383838383838385,
          -0.7878787878787878,
          -0.7373737373737375,
          -0.6868686868686869,
          -0.6363636363636365,
          -0.5858585858585859,
          -0.5353535353535355,
          -0.48484848484848486,
          -0.4343434343434345,
          -0.38383838383838387,
          -0.33333333333333326,
          -0.2828282828282829,
          -0.23232323232323226,
          -0.18181818181818188,
          -0.13131313131313127,
          -0.08080808080808088,
          -0.030303030303030276,
          0.020202020202020332,
          0.0707070707070705,
          0.1212121212121211,
          0.1717171717171717,
          0.22222222222222232,
          0.2727272727272725,
          0.3232323232323231,
          0.3737373737373737,
          0.4242424242424243,
          0.4747474747474749,
          0.5252525252525251,
          0.5757575757575757,
          0.6262626262626263,
          0.6767676767676769,
          0.7272727272727271,
          0.7777777777777777,
          0.8282828282828283,
          0.8787878787878789,
          0.9292929292929291,
          0.9797979797979797,
          1.0303030303030303,
          1.0808080808080809,
          1.131313131313131,
          1.1818181818181817,
          1.2323232323232323,
          1.2828282828282829,
          1.3333333333333335,
          1.3838383838383836,
          1.4343434343434343,
          1.4848484848484849,
          1.5353535353535355,
          1.5858585858585856,
          1.6363636363636362,
          1.6868686868686869,
          1.7373737373737375,
          1.7878787878787876,
          1.8383838383838382,
          1.8888888888888888,
          1.9393939393939394,
          1.9898989898989896,
          2.0404040404040407,
          2.090909090909091,
          2.141414141414141,
          2.191919191919192,
          2.242424242424242,
          2.2929292929292933,
          2.3434343434343434,
          2.3939393939393936,
          2.4444444444444446,
          2.494949494949495,
          2.545454545454545,
          2.595959595959596,
          2.646464646464646,
          2.6969696969696972,
          2.7474747474747474,
          2.7979797979797976,
          2.8484848484848486,
          2.898989898989899,
          2.94949494949495,
          3
         ],
         "xaxis": "x3",
         "y": [
          -5.9990358309395955,
          -7.331675885230662,
          -9.180924660338537,
          -3.470179451901875,
          -3.7073702827437094,
          -8.489452396768971,
          -5.98941842520822,
          -7.87569089667454,
          -8.031490558134312,
          1.6255652180928406,
          -4.383400719354105,
          -1.0032969324333738,
          -1.7417031226763806,
          -2.243622773961355,
          -5.29169614699648,
          -4.947654051724193,
          -0.368116342325153,
          1.8995662636648427,
          -6.812475279231776,
          -3.942481433065156,
          -1.5755235975961466,
          2.3071353419268594,
          0.9121539358522921,
          1.8470665222617393,
          0.2342407929757539,
          -3.2584534625594923,
          -0.7328570803099352,
          3.5440436489592777,
          0.31981652576846953,
          -3.8231984702398436,
          4.131982705409077,
          1.2911922179827113,
          2.1300758884067883,
          5.868267155692416,
          -1.6659879775345638,
          -2.050794248675459,
          -7.524701469467465,
          0.43861723421681753,
          1.8180587989627495,
          -0.06764449663312183,
          0.04027501702165994,
          2.8081881805190902,
          1.2636488748551804,
          1.2399223103933947,
          -0.20299783738656127,
          -0.11602722702930933,
          3.1564289524345743,
          -0.22990070793084827,
          -1.1861760148905283,
          -1.5489646567986957,
          -0.21838061156649236,
          0.7612858629930805,
          1.782035440575599,
          0.7045848011851503,
          -0.6101781945878435,
          -4.426651297267034,
          2.4255876766096427,
          -2.299061464696753,
          0.31848459772552945,
          4.517823051415926,
          1.845901394253508,
          -1.1783069898176755,
          3.558803950177709,
          0.8462122001739705,
          0.4237529475628392,
          5.844915755970276,
          4.400950721529991,
          12.212570566204747,
          -0.29076058271744465,
          3.3044447566275488,
          4.932794018434655,
          7.971713882385016,
          3.628232826321039,
          9.57936053246315,
          5.756659288677309,
          3.5872117192376947,
          5.814029610410486,
          6.6872981801573115,
          6.991264488284225,
          6.187280147954809,
          7.957602577368878,
          12.174423666913384,
          12.582772954840589,
          16.330366617859543,
          8.889865487057632,
          9.02052689988873,
          19.321741948880074,
          14.99495721888992,
          15.929764534937624,
          13.078176227888923,
          17.80653994878841,
          17.7933577077297,
          18.731461465639466,
          23.290093639346082,
          18.430838779766486,
          22.480878159835967,
          17.9424649848335,
          25.7473016349389,
          22.403091314602214,
          32.47013470396564
         ],
         "yaxis": "y3"
        },
        {
         "line": {
          "color": "orange",
          "width": 4
         },
         "name": "Predictions",
         "showlegend": false,
         "type": "scatter",
         "x": [
          -2,
          -1.9494949494949494,
          -1.898989898989899,
          -1.8484848484848484,
          -1.797979797979798,
          -1.7474747474747474,
          -1.696969696969697,
          -1.6464646464646464,
          -1.595959595959596,
          -1.5454545454545454,
          -1.4949494949494948,
          -1.4444444444444444,
          -1.393939393939394,
          -1.3434343434343434,
          -1.2929292929292928,
          -1.2424242424242424,
          -1.191919191919192,
          -1.1414141414141414,
          -1.0909090909090908,
          -1.0404040404040404,
          -0.9898989898989898,
          -0.9393939393939394,
          -0.8888888888888888,
          -0.8383838383838385,
          -0.7878787878787878,
          -0.7373737373737375,
          -0.6868686868686869,
          -0.6363636363636365,
          -0.5858585858585859,
          -0.5353535353535355,
          -0.48484848484848486,
          -0.4343434343434345,
          -0.38383838383838387,
          -0.33333333333333326,
          -0.2828282828282829,
          -0.23232323232323226,
          -0.18181818181818188,
          -0.13131313131313127,
          -0.08080808080808088,
          -0.030303030303030276,
          0.020202020202020332,
          0.0707070707070705,
          0.1212121212121211,
          0.1717171717171717,
          0.22222222222222232,
          0.2727272727272725,
          0.3232323232323231,
          0.3737373737373737,
          0.4242424242424243,
          0.4747474747474749,
          0.5252525252525251,
          0.5757575757575757,
          0.6262626262626263,
          0.6767676767676769,
          0.7272727272727271,
          0.7777777777777777,
          0.8282828282828283,
          0.8787878787878789,
          0.9292929292929291,
          0.9797979797979797,
          1.0303030303030303,
          1.0808080808080809,
          1.131313131313131,
          1.1818181818181817,
          1.2323232323232323,
          1.2828282828282829,
          1.3333333333333335,
          1.3838383838383836,
          1.4343434343434343,
          1.4848484848484849,
          1.5353535353535355,
          1.5858585858585856,
          1.6363636363636362,
          1.6868686868686869,
          1.7373737373737375,
          1.7878787878787876,
          1.8383838383838382,
          1.8888888888888888,
          1.9393939393939394,
          1.9898989898989896,
          2.0404040404040407,
          2.090909090909091,
          2.141414141414141,
          2.191919191919192,
          2.242424242424242,
          2.2929292929292933,
          2.3434343434343434,
          2.3939393939393936,
          2.4444444444444446,
          2.494949494949495,
          2.545454545454545,
          2.595959595959596,
          2.646464646464646,
          2.6969696969696972,
          2.7474747474747474,
          2.7979797979797976,
          2.8484848484848486,
          2.898989898989899,
          2.94949494949495,
          3
         ],
         "xaxis": "x3",
         "y": [
          -6.190300662874506,
          -7.708138742138544,
          -7.697141573864883,
          -4.840043405498136,
          -4.570809693295587,
          -6.482972746519181,
          -7.895502585935446,
          -7.326056983185481,
          -5.164202427210284,
          -2.7418222305179825,
          -1.2281346101176496,
          -1.0522167282706505,
          -1.9139228789783829,
          -3.1335144499660146,
          -4.051939752838052,
          -4.294428498139268,
          -3.8395384537050177,
          -2.932061271409566,
          -1.9218740266235272,
          -1.1092341407818367,
          -0.648810068209059,
          -0.5290302973280632,
          -0.6139031071975296,
          -0.7180608437090541,
          -0.6830320931915139,
          -0.4302459268349139,
          0.02107191365075778,
          0.5700525478850977,
          1.073735733571084,
          1.3948016145852762,
          1.442727594683447,
          1.1978670890146077,
          0.7141164771630883,
          0.10201519655515767,
          -0.501190928142023,
          -0.9656501494259828,
          -1.1984415228046146,
          -1.162008284753938,
          -0.8783527922494159,
          -0.41952143833395894,
          0.11203075570711007,
          0.6077449193899156,
          0.9760702131029575,
          1.1594610563006427,
          1.1422545962536788,
          0.9487789933427848,
          0.6332722056085913,
          0.26482084409462914,
          -0.08873226455830263,
          -0.37418400008527897,
          -0.560977835140875,
          -0.6426699971066228,
          -0.6323572309836436,
          -0.5539507292573944,
          -0.4319964250985322,
          -0.28284462926535525,
          -0.10938791145849791,
          0.09950118822257537,
          0.36499878102381444,
          0.7111683228786205,
          1.156720794077728,
          1.7079855444355871,
          2.354942052810202,
          3.0712413084604577,
          3.818004796406967,
          4.550156458254378,
          5.223423605646076,
          5.80013230776899,
          6.252541406558294,
          6.563526523335668,
          6.725589234480594,
          6.739988807759801,
          6.617878798135052,
          6.384470173365344,
          6.085537985346036,
          5.793506666800113,
          5.608671525255204,
          5.650760241171611,
          6.037769770101022,
          6.85307226173768,
          8.107554350709052,
          9.709394861205283,
          11.457463231446354,
          13.07238549047679,
          14.269961536917208,
          14.86486038819885,
          14.871966704225997,
          14.556355534321028,
          14.382177703899288,
          14.837521838181601,
          16.171833586414778,
          18.163447737350225,
          20.09877358380595,
          21.121594370780258,
          20.91593501017178,
          20.285162364670214,
          20.7637352054237,
          22.68031171190046,
          24.01016774068421,
          32.165762483564095
         ],
         "yaxis": "y3"
        }
       ],
       "layout": {
        "height": 500,
        "template": {
         "data": {
          "bar": [
           {
            "error_x": {
             "color": "rgb(36,36,36)"
            },
            "error_y": {
             "color": "rgb(36,36,36)"
            },
            "marker": {
             "line": {
              "color": "white",
              "width": 0.5
             },
             "pattern": {
              "fillmode": "overlay",
              "size": 10,
              "solidity": 0.2
             }
            },
            "type": "bar"
           }
          ],
          "barpolar": [
           {
            "marker": {
             "line": {
              "color": "white",
              "width": 0.5
             },
             "pattern": {
              "fillmode": "overlay",
              "size": 10,
              "solidity": 0.2
             }
            },
            "type": "barpolar"
           }
          ],
          "carpet": [
           {
            "aaxis": {
             "endlinecolor": "rgb(36,36,36)",
             "gridcolor": "white",
             "linecolor": "white",
             "minorgridcolor": "white",
             "startlinecolor": "rgb(36,36,36)"
            },
            "baxis": {
             "endlinecolor": "rgb(36,36,36)",
             "gridcolor": "white",
             "linecolor": "white",
             "minorgridcolor": "white",
             "startlinecolor": "rgb(36,36,36)"
            },
            "type": "carpet"
           }
          ],
          "choropleth": [
           {
            "colorbar": {
             "outlinewidth": 1,
             "tickcolor": "rgb(36,36,36)",
             "ticks": "outside"
            },
            "type": "choropleth"
           }
          ],
          "contour": [
           {
            "colorbar": {
             "outlinewidth": 1,
             "tickcolor": "rgb(36,36,36)",
             "ticks": "outside"
            },
            "colorscale": [
             [
              0,
              "#440154"
             ],
             [
              0.1111111111111111,
              "#482878"
             ],
             [
              0.2222222222222222,
              "#3e4989"
             ],
             [
              0.3333333333333333,
              "#31688e"
             ],
             [
              0.4444444444444444,
              "#26828e"
             ],
             [
              0.5555555555555556,
              "#1f9e89"
             ],
             [
              0.6666666666666666,
              "#35b779"
             ],
             [
              0.7777777777777778,
              "#6ece58"
             ],
             [
              0.8888888888888888,
              "#b5de2b"
             ],
             [
              1,
              "#fde725"
             ]
            ],
            "type": "contour"
           }
          ],
          "contourcarpet": [
           {
            "colorbar": {
             "outlinewidth": 1,
             "tickcolor": "rgb(36,36,36)",
             "ticks": "outside"
            },
            "type": "contourcarpet"
           }
          ],
          "heatmap": [
           {
            "colorbar": {
             "outlinewidth": 1,
             "tickcolor": "rgb(36,36,36)",
             "ticks": "outside"
            },
            "colorscale": [
             [
              0,
              "#440154"
             ],
             [
              0.1111111111111111,
              "#482878"
             ],
             [
              0.2222222222222222,
              "#3e4989"
             ],
             [
              0.3333333333333333,
              "#31688e"
             ],
             [
              0.4444444444444444,
              "#26828e"
             ],
             [
              0.5555555555555556,
              "#1f9e89"
             ],
             [
              0.6666666666666666,
              "#35b779"
             ],
             [
              0.7777777777777778,
              "#6ece58"
             ],
             [
              0.8888888888888888,
              "#b5de2b"
             ],
             [
              1,
              "#fde725"
             ]
            ],
            "type": "heatmap"
           }
          ],
          "heatmapgl": [
           {
            "colorbar": {
             "outlinewidth": 1,
             "tickcolor": "rgb(36,36,36)",
             "ticks": "outside"
            },
            "colorscale": [
             [
              0,
              "#440154"
             ],
             [
              0.1111111111111111,
              "#482878"
             ],
             [
              0.2222222222222222,
              "#3e4989"
             ],
             [
              0.3333333333333333,
              "#31688e"
             ],
             [
              0.4444444444444444,
              "#26828e"
             ],
             [
              0.5555555555555556,
              "#1f9e89"
             ],
             [
              0.6666666666666666,
              "#35b779"
             ],
             [
              0.7777777777777778,
              "#6ece58"
             ],
             [
              0.8888888888888888,
              "#b5de2b"
             ],
             [
              1,
              "#fde725"
             ]
            ],
            "type": "heatmapgl"
           }
          ],
          "histogram": [
           {
            "marker": {
             "line": {
              "color": "white",
              "width": 0.6
             }
            },
            "type": "histogram"
           }
          ],
          "histogram2d": [
           {
            "colorbar": {
             "outlinewidth": 1,
             "tickcolor": "rgb(36,36,36)",
             "ticks": "outside"
            },
            "colorscale": [
             [
              0,
              "#440154"
             ],
             [
              0.1111111111111111,
              "#482878"
             ],
             [
              0.2222222222222222,
              "#3e4989"
             ],
             [
              0.3333333333333333,
              "#31688e"
             ],
             [
              0.4444444444444444,
              "#26828e"
             ],
             [
              0.5555555555555556,
              "#1f9e89"
             ],
             [
              0.6666666666666666,
              "#35b779"
             ],
             [
              0.7777777777777778,
              "#6ece58"
             ],
             [
              0.8888888888888888,
              "#b5de2b"
             ],
             [
              1,
              "#fde725"
             ]
            ],
            "type": "histogram2d"
           }
          ],
          "histogram2dcontour": [
           {
            "colorbar": {
             "outlinewidth": 1,
             "tickcolor": "rgb(36,36,36)",
             "ticks": "outside"
            },
            "colorscale": [
             [
              0,
              "#440154"
             ],
             [
              0.1111111111111111,
              "#482878"
             ],
             [
              0.2222222222222222,
              "#3e4989"
             ],
             [
              0.3333333333333333,
              "#31688e"
             ],
             [
              0.4444444444444444,
              "#26828e"
             ],
             [
              0.5555555555555556,
              "#1f9e89"
             ],
             [
              0.6666666666666666,
              "#35b779"
             ],
             [
              0.7777777777777778,
              "#6ece58"
             ],
             [
              0.8888888888888888,
              "#b5de2b"
             ],
             [
              1,
              "#fde725"
             ]
            ],
            "type": "histogram2dcontour"
           }
          ],
          "mesh3d": [
           {
            "colorbar": {
             "outlinewidth": 1,
             "tickcolor": "rgb(36,36,36)",
             "ticks": "outside"
            },
            "type": "mesh3d"
           }
          ],
          "parcoords": [
           {
            "line": {
             "colorbar": {
              "outlinewidth": 1,
              "tickcolor": "rgb(36,36,36)",
              "ticks": "outside"
             }
            },
            "type": "parcoords"
           }
          ],
          "pie": [
           {
            "automargin": true,
            "type": "pie"
           }
          ],
          "scatter": [
           {
            "fillpattern": {
             "fillmode": "overlay",
             "size": 10,
             "solidity": 0.2
            },
            "type": "scatter"
           }
          ],
          "scatter3d": [
           {
            "line": {
             "colorbar": {
              "outlinewidth": 1,
              "tickcolor": "rgb(36,36,36)",
              "ticks": "outside"
             }
            },
            "marker": {
             "colorbar": {
              "outlinewidth": 1,
              "tickcolor": "rgb(36,36,36)",
              "ticks": "outside"
             }
            },
            "type": "scatter3d"
           }
          ],
          "scattercarpet": [
           {
            "marker": {
             "colorbar": {
              "outlinewidth": 1,
              "tickcolor": "rgb(36,36,36)",
              "ticks": "outside"
             }
            },
            "type": "scattercarpet"
           }
          ],
          "scattergeo": [
           {
            "marker": {
             "colorbar": {
              "outlinewidth": 1,
              "tickcolor": "rgb(36,36,36)",
              "ticks": "outside"
             }
            },
            "type": "scattergeo"
           }
          ],
          "scattergl": [
           {
            "marker": {
             "colorbar": {
              "outlinewidth": 1,
              "tickcolor": "rgb(36,36,36)",
              "ticks": "outside"
             }
            },
            "type": "scattergl"
           }
          ],
          "scattermapbox": [
           {
            "marker": {
             "colorbar": {
              "outlinewidth": 1,
              "tickcolor": "rgb(36,36,36)",
              "ticks": "outside"
             }
            },
            "type": "scattermapbox"
           }
          ],
          "scatterpolar": [
           {
            "marker": {
             "colorbar": {
              "outlinewidth": 1,
              "tickcolor": "rgb(36,36,36)",
              "ticks": "outside"
             }
            },
            "type": "scatterpolar"
           }
          ],
          "scatterpolargl": [
           {
            "marker": {
             "colorbar": {
              "outlinewidth": 1,
              "tickcolor": "rgb(36,36,36)",
              "ticks": "outside"
             }
            },
            "type": "scatterpolargl"
           }
          ],
          "scatterternary": [
           {
            "marker": {
             "colorbar": {
              "outlinewidth": 1,
              "tickcolor": "rgb(36,36,36)",
              "ticks": "outside"
             }
            },
            "type": "scatterternary"
           }
          ],
          "surface": [
           {
            "colorbar": {
             "outlinewidth": 1,
             "tickcolor": "rgb(36,36,36)",
             "ticks": "outside"
            },
            "colorscale": [
             [
              0,
              "#440154"
             ],
             [
              0.1111111111111111,
              "#482878"
             ],
             [
              0.2222222222222222,
              "#3e4989"
             ],
             [
              0.3333333333333333,
              "#31688e"
             ],
             [
              0.4444444444444444,
              "#26828e"
             ],
             [
              0.5555555555555556,
              "#1f9e89"
             ],
             [
              0.6666666666666666,
              "#35b779"
             ],
             [
              0.7777777777777778,
              "#6ece58"
             ],
             [
              0.8888888888888888,
              "#b5de2b"
             ],
             [
              1,
              "#fde725"
             ]
            ],
            "type": "surface"
           }
          ],
          "table": [
           {
            "cells": {
             "fill": {
              "color": "rgb(237,237,237)"
             },
             "line": {
              "color": "white"
             }
            },
            "header": {
             "fill": {
              "color": "rgb(217,217,217)"
             },
             "line": {
              "color": "white"
             }
            },
            "type": "table"
           }
          ]
         },
         "layout": {
          "annotationdefaults": {
           "arrowhead": 0,
           "arrowwidth": 1
          },
          "autosize": true,
          "autotypenumbers": "strict",
          "coloraxis": {
           "colorbar": {
            "outlinewidth": 1,
            "tickcolor": "rgb(36,36,36)",
            "ticks": "outside"
           }
          },
          "colorscale": {
           "diverging": [
            [
             0,
             "rgb(103,0,31)"
            ],
            [
             0.1,
             "rgb(178,24,43)"
            ],
            [
             0.2,
             "rgb(214,96,77)"
            ],
            [
             0.3,
             "rgb(244,165,130)"
            ],
            [
             0.4,
             "rgb(253,219,199)"
            ],
            [
             0.5,
             "rgb(247,247,247)"
            ],
            [
             0.6,
             "rgb(209,229,240)"
            ],
            [
             0.7,
             "rgb(146,197,222)"
            ],
            [
             0.8,
             "rgb(67,147,195)"
            ],
            [
             0.9,
             "rgb(33,102,172)"
            ],
            [
             1,
             "rgb(5,48,97)"
            ]
           ],
           "sequential": [
            [
             0,
             "#440154"
            ],
            [
             0.1111111111111111,
             "#482878"
            ],
            [
             0.2222222222222222,
             "#3e4989"
            ],
            [
             0.3333333333333333,
             "#31688e"
            ],
            [
             0.4444444444444444,
             "#26828e"
            ],
            [
             0.5555555555555556,
             "#1f9e89"
            ],
            [
             0.6666666666666666,
             "#35b779"
            ],
            [
             0.7777777777777778,
             "#6ece58"
            ],
            [
             0.8888888888888888,
             "#b5de2b"
            ],
            [
             1,
             "#fde725"
            ]
           ],
           "sequentialminus": [
            [
             0,
             "#440154"
            ],
            [
             0.1111111111111111,
             "#482878"
            ],
            [
             0.2222222222222222,
             "#3e4989"
            ],
            [
             0.3333333333333333,
             "#31688e"
            ],
            [
             0.4444444444444444,
             "#26828e"
            ],
            [
             0.5555555555555556,
             "#1f9e89"
            ],
            [
             0.6666666666666666,
             "#35b779"
            ],
            [
             0.7777777777777778,
             "#6ece58"
            ],
            [
             0.8888888888888888,
             "#b5de2b"
            ],
            [
             1,
             "#fde725"
            ]
           ]
          },
          "colorway": [
           "#1F77B4",
           "#FF7F0E",
           "#2CA02C",
           "#D62728",
           "#9467BD",
           "#8C564B",
           "#E377C2",
           "#7F7F7F",
           "#BCBD22",
           "#17BECF"
          ],
          "font": {
           "color": "rgb(36,36,36)"
          },
          "geo": {
           "bgcolor": "white",
           "lakecolor": "white",
           "landcolor": "white",
           "showlakes": true,
           "showland": true,
           "subunitcolor": "white"
          },
          "height": 400,
          "hoverlabel": {
           "align": "left"
          },
          "hovermode": "closest",
          "mapbox": {
           "style": "light"
          },
          "margin": {
           "b": 30,
           "l": 30,
           "r": 30,
           "t": 30
          },
          "paper_bgcolor": "white",
          "plot_bgcolor": "white",
          "polar": {
           "angularaxis": {
            "gridcolor": "rgb(232,232,232)",
            "linecolor": "rgb(36,36,36)",
            "showgrid": false,
            "showline": true,
            "ticks": "outside"
           },
           "bgcolor": "white",
           "radialaxis": {
            "gridcolor": "rgb(232,232,232)",
            "linecolor": "rgb(36,36,36)",
            "showgrid": false,
            "showline": true,
            "ticks": "outside"
           }
          },
          "scene": {
           "xaxis": {
            "backgroundcolor": "white",
            "gridcolor": "rgb(232,232,232)",
            "gridwidth": 2,
            "linecolor": "rgb(36,36,36)",
            "showbackground": true,
            "showgrid": false,
            "showline": true,
            "ticks": "outside",
            "zeroline": false,
            "zerolinecolor": "rgb(36,36,36)"
           },
           "yaxis": {
            "backgroundcolor": "white",
            "gridcolor": "rgb(232,232,232)",
            "gridwidth": 2,
            "linecolor": "rgb(36,36,36)",
            "showbackground": true,
            "showgrid": false,
            "showline": true,
            "ticks": "outside",
            "zeroline": false,
            "zerolinecolor": "rgb(36,36,36)"
           },
           "zaxis": {
            "backgroundcolor": "white",
            "gridcolor": "rgb(232,232,232)",
            "gridwidth": 2,
            "linecolor": "rgb(36,36,36)",
            "showbackground": true,
            "showgrid": false,
            "showline": true,
            "ticks": "outside",
            "zeroline": false,
            "zerolinecolor": "rgb(36,36,36)"
           }
          },
          "shapedefaults": {
           "fillcolor": "black",
           "line": {
            "width": 0
           },
           "opacity": 0.3
          },
          "ternary": {
           "aaxis": {
            "gridcolor": "rgb(232,232,232)",
            "linecolor": "rgb(36,36,36)",
            "showgrid": false,
            "showline": true,
            "ticks": "outside"
           },
           "baxis": {
            "gridcolor": "rgb(232,232,232)",
            "linecolor": "rgb(36,36,36)",
            "showgrid": false,
            "showline": true,
            "ticks": "outside"
           },
           "bgcolor": "white",
           "caxis": {
            "gridcolor": "rgb(232,232,232)",
            "linecolor": "rgb(36,36,36)",
            "showgrid": false,
            "showline": true,
            "ticks": "outside"
           }
          },
          "title": {
           "x": 0.5,
           "xanchor": "center"
          },
          "width": 600,
          "xaxis": {
           "automargin": true,
           "gridcolor": "rgb(232,232,232)",
           "linecolor": "rgb(36,36,36)",
           "showgrid": true,
           "showline": true,
           "ticks": "outside",
           "title": {
            "standoff": 15
           },
           "zeroline": false,
           "zerolinecolor": "rgb(36,36,36)"
          },
          "yaxis": {
           "automargin": true,
           "gridcolor": "rgb(232,232,232)",
           "linecolor": "rgb(36,36,36)",
           "showgrid": true,
           "showline": true,
           "ticks": "outside",
           "title": {
            "standoff": 15
           },
           "zeroline": false,
           "zerolinecolor": "rgb(36,36,36)"
          }
         }
        },
        "title": {
         "text": "Trained on Sample 1, Performance on Sample 1"
        },
        "width": 950,
        "xaxis": {
         "anchor": "y",
         "domain": [
          0,
          0.2888888888888889
         ],
         "title": {
          "text": "Degree 1, MSE: 20.672"
         }
        },
        "xaxis2": {
         "anchor": "y2",
         "domain": [
          0.35555555555555557,
          0.6444444444444445
         ],
         "title": {
          "text": "Degree 3, MSE: 7.941"
         }
        },
        "xaxis3": {
         "anchor": "y3",
         "domain": [
          0.7111111111111111,
          1
         ],
         "title": {
          "text": "Degree 25, MSE: 6.516"
         }
        },
        "yaxis": {
         "anchor": "x",
         "domain": [
          0,
          1
         ]
        },
        "yaxis2": {
         "anchor": "x2",
         "domain": [
          0,
          1
         ]
        },
        "yaxis3": {
         "anchor": "x3",
         "domain": [
          0,
          1
         ]
        }
       }
      }
     },
     "metadata": {},
     "output_type": "display_data"
    }
   ],
   "source": [
    "# Look at the definition of train_and_plot in lec19_util.py if you're curious as to how the plotting works.\n",
    "fig = util.train_and_plot(train_sample=sample_1, test_sample=sample_1, degs=[1, 3, 25], data_name='Sample 1')\n",
    "fig.update_layout(title='Trained on Sample 1, Performance on Sample 1')"
   ]
  },
  {
   "cell_type": "markdown",
   "id": "efadb0dc",
   "metadata": {
    "deletable": true,
    "editable": true,
    "slideshow": {
     "slide_type": "fragment"
    }
   },
   "source": [
    "- The degree 25 polynomial has the lowest MSE on Sample 1."
   ]
  },
  {
   "cell_type": "markdown",
   "id": "c53515fe",
   "metadata": {
    "deletable": true,
    "editable": true,
    "slideshow": {
     "slide_type": "slide"
    }
   },
   "source": [
    "- How do the same fit polynomials look on Sample 2?"
   ]
  },
  {
   "cell_type": "code",
   "execution_count": 33,
   "id": "8cf330fe",
   "metadata": {
    "deletable": true,
    "editable": true
   },
   "outputs": [
    {
     "data": {
      "application/vnd.plotly.v1+json": {
       "config": {
        "plotlyServerURL": "https://plot.ly"
       },
       "data": [
        {
         "marker": {
          "color": "#4c72b0"
         },
         "mode": "markers",
         "name": "Sample 2",
         "type": "scatter",
         "x": [
          -2,
          -1.9494949494949494,
          -1.898989898989899,
          -1.8484848484848484,
          -1.797979797979798,
          -1.7474747474747474,
          -1.696969696969697,
          -1.6464646464646464,
          -1.595959595959596,
          -1.5454545454545454,
          -1.4949494949494948,
          -1.4444444444444444,
          -1.393939393939394,
          -1.3434343434343434,
          -1.2929292929292928,
          -1.2424242424242424,
          -1.191919191919192,
          -1.1414141414141414,
          -1.0909090909090908,
          -1.0404040404040404,
          -0.9898989898989898,
          -0.9393939393939394,
          -0.8888888888888888,
          -0.8383838383838385,
          -0.7878787878787878,
          -0.7373737373737375,
          -0.6868686868686869,
          -0.6363636363636365,
          -0.5858585858585859,
          -0.5353535353535355,
          -0.48484848484848486,
          -0.4343434343434345,
          -0.38383838383838387,
          -0.33333333333333326,
          -0.2828282828282829,
          -0.23232323232323226,
          -0.18181818181818188,
          -0.13131313131313127,
          -0.08080808080808088,
          -0.030303030303030276,
          0.020202020202020332,
          0.0707070707070705,
          0.1212121212121211,
          0.1717171717171717,
          0.22222222222222232,
          0.2727272727272725,
          0.3232323232323231,
          0.3737373737373737,
          0.4242424242424243,
          0.4747474747474749,
          0.5252525252525251,
          0.5757575757575757,
          0.6262626262626263,
          0.6767676767676769,
          0.7272727272727271,
          0.7777777777777777,
          0.8282828282828283,
          0.8787878787878789,
          0.9292929292929291,
          0.9797979797979797,
          1.0303030303030303,
          1.0808080808080809,
          1.131313131313131,
          1.1818181818181817,
          1.2323232323232323,
          1.2828282828282829,
          1.3333333333333335,
          1.3838383838383836,
          1.4343434343434343,
          1.4848484848484849,
          1.5353535353535355,
          1.5858585858585856,
          1.6363636363636362,
          1.6868686868686869,
          1.7373737373737375,
          1.7878787878787876,
          1.8383838383838382,
          1.8888888888888888,
          1.9393939393939394,
          1.9898989898989896,
          2.0404040404040407,
          2.090909090909091,
          2.141414141414141,
          2.191919191919192,
          2.242424242424242,
          2.2929292929292933,
          2.3434343434343434,
          2.3939393939393936,
          2.4444444444444446,
          2.494949494949495,
          2.545454545454545,
          2.595959595959596,
          2.646464646464646,
          2.6969696969696972,
          2.7474747474747474,
          2.7979797979797976,
          2.8484848484848486,
          2.898989898989899,
          2.94949494949495,
          3
         ],
         "xaxis": "x",
         "y": [
          -11.998590480076722,
          -2.496941465002089,
          -9.31688245559296,
          -11.1104082509034,
          -5.132850447321234,
          -4.634513733189402,
          -7.7284414170294875,
          -8.248040447617353,
          -11.234645316677629,
          -4.691031574859338,
          -2.3104734574288317,
          -9.097299868740176,
          -2.31426876852478,
          2.3850507564742736,
          -7.454287069552254,
          -0.21831664647147164,
          -0.04696123700632726,
          -3.3324692363817165,
          -0.32763505928476433,
          -4.435755933825194,
          0.3817858577760457,
          4.02337759538627,
          -1.7294267857744845,
          -2.45974863406599,
          -6.533502548878326,
          5.211757053902781,
          5.295537475160366,
          -1.762068900665351,
          0.06919742280304705,
          -0.4352678912179253,
          3.967477229182978,
          -4.79146834510034,
          1.9726578252663902,
          -6.804696869929592,
          1.938224009800232,
          -2.2499778261446,
          3.914339202920966,
          1.6456659993847353,
          -1.8370695234186925,
          -2.2105541647623372,
          -3.58607098170471,
          5.0464899287466745,
          3.198049282089516,
          -1.8116274255502842,
          -3.989688456673687,
          1.5084587137918761,
          0.0733524763594981,
          -1.4034266610210178,
          0.4238484761612782,
          2.1022866872345896,
          0.0652431468146703,
          2.060519614674064,
          0.23439899667225553,
          1.1258771959108087,
          -1.2402431551725877,
          2.8518888351644747,
          1.0362840786303353,
          -0.235132876679367,
          1.3720908319110892,
          0.2444127537951878,
          0.5226170278082167,
          2.8386938715474663,
          4.0671092766726105,
          -3.2422469811989183,
          1.3012720283027217,
          2.3549553402860566,
          -0.9891561901286652,
          3.9621351323166243,
          2.2341638188303996,
          1.661558427929302,
          -1.6872610750099293,
          -0.34314298120376785,
          4.662018675535766,
          10.179037811088113,
          3.9930675619843257,
          -0.5767656786836524,
          9.929860767983126,
          7.258120182705435,
          10.809931542411586,
          5.9936566626103485,
          11.085929596017904,
          10.190246749453575,
          6.07427462831265,
          9.471519271162274,
          11.647179419327747,
          9.422211873367212,
          16.453145822267615,
          12.518496297023688,
          17.265462888184242,
          14.809354888351873,
          18.44884702597492,
          19.200768527267012,
          12.824697944113803,
          18.885933135573637,
          22.94753463651476,
          20.899722259116764,
          27.679395575203962,
          28.289977122558664,
          23.352893697790353,
          27.567452866571745
         ],
         "yaxis": "y"
        },
        {
         "line": {
          "color": "orange",
          "width": 4
         },
         "name": "Fit Model",
         "type": "scatter",
         "x": [
          -2,
          -1.9494949494949494,
          -1.898989898989899,
          -1.8484848484848484,
          -1.797979797979798,
          -1.7474747474747474,
          -1.696969696969697,
          -1.6464646464646464,
          -1.595959595959596,
          -1.5454545454545454,
          -1.4949494949494948,
          -1.4444444444444444,
          -1.393939393939394,
          -1.3434343434343434,
          -1.2929292929292928,
          -1.2424242424242424,
          -1.191919191919192,
          -1.1414141414141414,
          -1.0909090909090908,
          -1.0404040404040404,
          -0.9898989898989898,
          -0.9393939393939394,
          -0.8888888888888888,
          -0.8383838383838385,
          -0.7878787878787878,
          -0.7373737373737375,
          -0.6868686868686869,
          -0.6363636363636365,
          -0.5858585858585859,
          -0.5353535353535355,
          -0.48484848484848486,
          -0.4343434343434345,
          -0.38383838383838387,
          -0.33333333333333326,
          -0.2828282828282829,
          -0.23232323232323226,
          -0.18181818181818188,
          -0.13131313131313127,
          -0.08080808080808088,
          -0.030303030303030276,
          0.020202020202020332,
          0.0707070707070705,
          0.1212121212121211,
          0.1717171717171717,
          0.22222222222222232,
          0.2727272727272725,
          0.3232323232323231,
          0.3737373737373737,
          0.4242424242424243,
          0.4747474747474749,
          0.5252525252525251,
          0.5757575757575757,
          0.6262626262626263,
          0.6767676767676769,
          0.7272727272727271,
          0.7777777777777777,
          0.8282828282828283,
          0.8787878787878789,
          0.9292929292929291,
          0.9797979797979797,
          1.0303030303030303,
          1.0808080808080809,
          1.131313131313131,
          1.1818181818181817,
          1.2323232323232323,
          1.2828282828282829,
          1.3333333333333335,
          1.3838383838383836,
          1.4343434343434343,
          1.4848484848484849,
          1.5353535353535355,
          1.5858585858585856,
          1.6363636363636362,
          1.6868686868686869,
          1.7373737373737375,
          1.7878787878787876,
          1.8383838383838382,
          1.8888888888888888,
          1.9393939393939394,
          1.9898989898989896,
          2.0404040404040407,
          2.090909090909091,
          2.141414141414141,
          2.191919191919192,
          2.242424242424242,
          2.2929292929292933,
          2.3434343434343434,
          2.3939393939393936,
          2.4444444444444446,
          2.494949494949495,
          2.545454545454545,
          2.595959595959596,
          2.646464646464646,
          2.6969696969696972,
          2.7474747474747474,
          2.7979797979797976,
          2.8484848484848486,
          2.898989898989899,
          2.94949494949495,
          3
         ],
         "xaxis": "x",
         "y": [
          -8.251729575243953,
          -8.011387653946237,
          -7.771045732648525,
          -7.530703811350812,
          -7.2903618900530995,
          -7.050019968755385,
          -6.809678047457672,
          -6.569336126159959,
          -6.328994204862246,
          -6.088652283564532,
          -5.848310362266818,
          -5.607968440969105,
          -5.367626519671393,
          -5.127284598373678,
          -4.8869426770759645,
          -4.646600755778252,
          -4.406258834480539,
          -4.1659169131828255,
          -3.925574991885111,
          -3.6852330705873984,
          -3.4448911492896848,
          -3.204549227991972,
          -2.9642073066942585,
          -2.7238653853965453,
          -2.4835234640988317,
          -2.243181542801119,
          -2.002839621503405,
          -1.7624977002056923,
          -1.5221557789079783,
          -1.2818138576102656,
          -1.041471936312552,
          -0.8011300150148388,
          -0.5607880937171252,
          -0.3204461724194112,
          -0.0801042511216985,
          0.1602376701760153,
          0.4005795914737281,
          0.6409215127714419,
          0.8812634340691547,
          1.1216053553668686,
          1.3619472766645824,
          1.6022891979622942,
          1.842631119260008,
          2.0829730405577216,
          2.3233149618554356,
          2.5636568831531474,
          2.8039988044508615,
          3.044340725748575,
          3.284682647046289,
          3.5250245683440027,
          3.7653664896417145,
          4.0057084109394285,
          4.246050332237142,
          4.486392253534856,
          4.7267341748325675,
          4.967076096130281,
          5.207418017427996,
          5.447759938725709,
          5.688101860023421,
          5.928443781321135,
          6.168785702618848,
          6.409127623916563,
          6.6494695452142745,
          6.889811466511988,
          7.130153387809702,
          7.370495309107416,
          7.61083723040513,
          7.8511791517028415,
          8.091521073000555,
          8.33186299429827,
          8.572204915595982,
          8.812546836893695,
          9.052888758191408,
          9.29323067948912,
          9.533572600786837,
          9.77391452208455,
          10.014256443382262,
          10.254598364679975,
          10.494940285977691,
          10.7352822072754,
          10.975624128573116,
          11.21596604987083,
          11.456307971168542,
          11.696649892466258,
          11.936991813763967,
          12.177333735061683,
          12.417675656359396,
          12.658017577657109,
          12.898359498954825,
          13.138701420252534,
          13.379043341550247,
          13.619385262847963,
          13.859727184145676,
          14.100069105443392,
          14.340411026741101,
          14.580752948038814,
          14.82109486933653,
          15.061436790634243,
          15.30177871193196,
          15.542120633229668
         ],
         "yaxis": "y"
        },
        {
         "marker": {
          "color": "#4c72b0"
         },
         "mode": "markers",
         "name": "Actual Data",
         "showlegend": false,
         "type": "scatter",
         "x": [
          -2,
          -1.9494949494949494,
          -1.898989898989899,
          -1.8484848484848484,
          -1.797979797979798,
          -1.7474747474747474,
          -1.696969696969697,
          -1.6464646464646464,
          -1.595959595959596,
          -1.5454545454545454,
          -1.4949494949494948,
          -1.4444444444444444,
          -1.393939393939394,
          -1.3434343434343434,
          -1.2929292929292928,
          -1.2424242424242424,
          -1.191919191919192,
          -1.1414141414141414,
          -1.0909090909090908,
          -1.0404040404040404,
          -0.9898989898989898,
          -0.9393939393939394,
          -0.8888888888888888,
          -0.8383838383838385,
          -0.7878787878787878,
          -0.7373737373737375,
          -0.6868686868686869,
          -0.6363636363636365,
          -0.5858585858585859,
          -0.5353535353535355,
          -0.48484848484848486,
          -0.4343434343434345,
          -0.38383838383838387,
          -0.33333333333333326,
          -0.2828282828282829,
          -0.23232323232323226,
          -0.18181818181818188,
          -0.13131313131313127,
          -0.08080808080808088,
          -0.030303030303030276,
          0.020202020202020332,
          0.0707070707070705,
          0.1212121212121211,
          0.1717171717171717,
          0.22222222222222232,
          0.2727272727272725,
          0.3232323232323231,
          0.3737373737373737,
          0.4242424242424243,
          0.4747474747474749,
          0.5252525252525251,
          0.5757575757575757,
          0.6262626262626263,
          0.6767676767676769,
          0.7272727272727271,
          0.7777777777777777,
          0.8282828282828283,
          0.8787878787878789,
          0.9292929292929291,
          0.9797979797979797,
          1.0303030303030303,
          1.0808080808080809,
          1.131313131313131,
          1.1818181818181817,
          1.2323232323232323,
          1.2828282828282829,
          1.3333333333333335,
          1.3838383838383836,
          1.4343434343434343,
          1.4848484848484849,
          1.5353535353535355,
          1.5858585858585856,
          1.6363636363636362,
          1.6868686868686869,
          1.7373737373737375,
          1.7878787878787876,
          1.8383838383838382,
          1.8888888888888888,
          1.9393939393939394,
          1.9898989898989896,
          2.0404040404040407,
          2.090909090909091,
          2.141414141414141,
          2.191919191919192,
          2.242424242424242,
          2.2929292929292933,
          2.3434343434343434,
          2.3939393939393936,
          2.4444444444444446,
          2.494949494949495,
          2.545454545454545,
          2.595959595959596,
          2.646464646464646,
          2.6969696969696972,
          2.7474747474747474,
          2.7979797979797976,
          2.8484848484848486,
          2.898989898989899,
          2.94949494949495,
          3
         ],
         "xaxis": "x2",
         "y": [
          -11.998590480076722,
          -2.496941465002089,
          -9.31688245559296,
          -11.1104082509034,
          -5.132850447321234,
          -4.634513733189402,
          -7.7284414170294875,
          -8.248040447617353,
          -11.234645316677629,
          -4.691031574859338,
          -2.3104734574288317,
          -9.097299868740176,
          -2.31426876852478,
          2.3850507564742736,
          -7.454287069552254,
          -0.21831664647147164,
          -0.04696123700632726,
          -3.3324692363817165,
          -0.32763505928476433,
          -4.435755933825194,
          0.3817858577760457,
          4.02337759538627,
          -1.7294267857744845,
          -2.45974863406599,
          -6.533502548878326,
          5.211757053902781,
          5.295537475160366,
          -1.762068900665351,
          0.06919742280304705,
          -0.4352678912179253,
          3.967477229182978,
          -4.79146834510034,
          1.9726578252663902,
          -6.804696869929592,
          1.938224009800232,
          -2.2499778261446,
          3.914339202920966,
          1.6456659993847353,
          -1.8370695234186925,
          -2.2105541647623372,
          -3.58607098170471,
          5.0464899287466745,
          3.198049282089516,
          -1.8116274255502842,
          -3.989688456673687,
          1.5084587137918761,
          0.0733524763594981,
          -1.4034266610210178,
          0.4238484761612782,
          2.1022866872345896,
          0.0652431468146703,
          2.060519614674064,
          0.23439899667225553,
          1.1258771959108087,
          -1.2402431551725877,
          2.8518888351644747,
          1.0362840786303353,
          -0.235132876679367,
          1.3720908319110892,
          0.2444127537951878,
          0.5226170278082167,
          2.8386938715474663,
          4.0671092766726105,
          -3.2422469811989183,
          1.3012720283027217,
          2.3549553402860566,
          -0.9891561901286652,
          3.9621351323166243,
          2.2341638188303996,
          1.661558427929302,
          -1.6872610750099293,
          -0.34314298120376785,
          4.662018675535766,
          10.179037811088113,
          3.9930675619843257,
          -0.5767656786836524,
          9.929860767983126,
          7.258120182705435,
          10.809931542411586,
          5.9936566626103485,
          11.085929596017904,
          10.190246749453575,
          6.07427462831265,
          9.471519271162274,
          11.647179419327747,
          9.422211873367212,
          16.453145822267615,
          12.518496297023688,
          17.265462888184242,
          14.809354888351873,
          18.44884702597492,
          19.200768527267012,
          12.824697944113803,
          18.885933135573637,
          22.94753463651476,
          20.899722259116764,
          27.679395575203962,
          28.289977122558664,
          23.352893697790353,
          27.567452866571745
         ],
         "yaxis": "y2"
        },
        {
         "line": {
          "color": "orange",
          "width": 4
         },
         "name": "Predictions",
         "showlegend": false,
         "type": "scatter",
         "x": [
          -2,
          -1.9494949494949494,
          -1.898989898989899,
          -1.8484848484848484,
          -1.797979797979798,
          -1.7474747474747474,
          -1.696969696969697,
          -1.6464646464646464,
          -1.595959595959596,
          -1.5454545454545454,
          -1.4949494949494948,
          -1.4444444444444444,
          -1.393939393939394,
          -1.3434343434343434,
          -1.2929292929292928,
          -1.2424242424242424,
          -1.191919191919192,
          -1.1414141414141414,
          -1.0909090909090908,
          -1.0404040404040404,
          -0.9898989898989898,
          -0.9393939393939394,
          -0.8888888888888888,
          -0.8383838383838385,
          -0.7878787878787878,
          -0.7373737373737375,
          -0.6868686868686869,
          -0.6363636363636365,
          -0.5858585858585859,
          -0.5353535353535355,
          -0.48484848484848486,
          -0.4343434343434345,
          -0.38383838383838387,
          -0.33333333333333326,
          -0.2828282828282829,
          -0.23232323232323226,
          -0.18181818181818188,
          -0.13131313131313127,
          -0.08080808080808088,
          -0.030303030303030276,
          0.020202020202020332,
          0.0707070707070705,
          0.1212121212121211,
          0.1717171717171717,
          0.22222222222222232,
          0.2727272727272725,
          0.3232323232323231,
          0.3737373737373737,
          0.4242424242424243,
          0.4747474747474749,
          0.5252525252525251,
          0.5757575757575757,
          0.6262626262626263,
          0.6767676767676769,
          0.7272727272727271,
          0.7777777777777777,
          0.8282828282828283,
          0.8787878787878789,
          0.9292929292929291,
          0.9797979797979797,
          1.0303030303030303,
          1.0808080808080809,
          1.131313131313131,
          1.1818181818181817,
          1.2323232323232323,
          1.2828282828282829,
          1.3333333333333335,
          1.3838383838383836,
          1.4343434343434343,
          1.4848484848484849,
          1.5353535353535355,
          1.5858585858585856,
          1.6363636363636362,
          1.6868686868686869,
          1.7373737373737375,
          1.7878787878787876,
          1.8383838383838382,
          1.8888888888888888,
          1.9393939393939394,
          1.9898989898989896,
          2.0404040404040407,
          2.090909090909091,
          2.141414141414141,
          2.191919191919192,
          2.242424242424242,
          2.2929292929292933,
          2.3434343434343434,
          2.3939393939393936,
          2.4444444444444446,
          2.494949494949495,
          2.545454545454545,
          2.595959595959596,
          2.646464646464646,
          2.6969696969696972,
          2.7474747474747474,
          2.7979797979797976,
          2.8484848484848486,
          2.898989898989899,
          2.94949494949495,
          3
         ],
         "xaxis": "x2",
         "y": [
          -7.985097661263955,
          -7.416323983124312,
          -6.875350418396554,
          -6.361451969675291,
          -5.873903639555139,
          -5.4119804306307095,
          -4.97495734549662,
          -4.562109386747479,
          -4.172711556977904,
          -3.806038858782509,
          -3.4613662947559045,
          -3.137968867492708,
          -2.8351215795875313,
          -2.5520994336349867,
          -2.2881774322296895,
          -2.042630577966254,
          -1.8147338734392933,
          -1.6037623212434198,
          -1.4089909239732483,
          -1.2296946842233933,
          -1.0651486045884673,
          -0.9146276876630848,
          -0.7774069360418585,
          -0.6527613523194031,
          -0.5399659390903313,
          -0.4382956989492579,
          -0.3470256344907957,
          -0.26543074830955915,
          -0.1927860430001611,
          -0.12836652115721608,
          -0.07144718537533706,
          -0.021303038249138373,
          0.0227909176267668,
          0.06155967965776454,
          0.09572824524924098,
          0.12602161180658278,
          0.15316477673517587,
          0.17788273744040692,
          0.20090049132766194,
          0.22294303580232747,
          0.24473536826978967,
          0.2670024861354347,
          0.29046938680464923,
          0.31586106768281935,
          0.3439025261753314,
          0.37531875968757145,
          0.4108347656249262,
          0.4511755413927818,
          0.49706608439652467,
          0.5492313920415409,
          0.6083964617332164,
          0.6752862908769385,
          0.7506258768780929,
          0.8351402171420661,
          0.9295543090742433,
          1.0345931500800125,
          1.1509817375647595,
          1.2794450689338706,
          1.42070814159273,
          1.5754959529467276,
          1.744533500401248,
          1.9285457813616775,
          2.1282577932334004,
          2.3443945334218075,
          2.577680999332282,
          2.828842188370211,
          3.0986030979409804,
          3.3876887254499746,
          3.6968240683025844,
          4.026734123904193,
          4.37814388966019,
          4.751778362975953,
          5.148362541256879,
          5.568621421908349,
          6.013280002335751,
          6.483063279944466,
          6.978696252139889,
          7.500903916327402,
          8.050411269912392,
          8.627943310300237,
          9.234225034896344,
          9.869981441106074,
          10.535937526334825,
          11.232818287987998,
          11.961348723470952,
          12.722253830189096,
          13.516258605547796,
          14.344088046952448,
          15.206467151808456,
          16.104120917521172,
          17.037774341496,
          18.00815242113834,
          19.01598015385355,
          20.061982537047054,
          21.146884568124193,
          22.271411244490373,
          23.436287563551005,
          24.642238522711427,
          25.88998911937708,
          27.180264350953298
         ],
         "yaxis": "y2"
        },
        {
         "marker": {
          "color": "#4c72b0"
         },
         "mode": "markers",
         "name": "Actual Data",
         "showlegend": false,
         "type": "scatter",
         "x": [
          -2,
          -1.9494949494949494,
          -1.898989898989899,
          -1.8484848484848484,
          -1.797979797979798,
          -1.7474747474747474,
          -1.696969696969697,
          -1.6464646464646464,
          -1.595959595959596,
          -1.5454545454545454,
          -1.4949494949494948,
          -1.4444444444444444,
          -1.393939393939394,
          -1.3434343434343434,
          -1.2929292929292928,
          -1.2424242424242424,
          -1.191919191919192,
          -1.1414141414141414,
          -1.0909090909090908,
          -1.0404040404040404,
          -0.9898989898989898,
          -0.9393939393939394,
          -0.8888888888888888,
          -0.8383838383838385,
          -0.7878787878787878,
          -0.7373737373737375,
          -0.6868686868686869,
          -0.6363636363636365,
          -0.5858585858585859,
          -0.5353535353535355,
          -0.48484848484848486,
          -0.4343434343434345,
          -0.38383838383838387,
          -0.33333333333333326,
          -0.2828282828282829,
          -0.23232323232323226,
          -0.18181818181818188,
          -0.13131313131313127,
          -0.08080808080808088,
          -0.030303030303030276,
          0.020202020202020332,
          0.0707070707070705,
          0.1212121212121211,
          0.1717171717171717,
          0.22222222222222232,
          0.2727272727272725,
          0.3232323232323231,
          0.3737373737373737,
          0.4242424242424243,
          0.4747474747474749,
          0.5252525252525251,
          0.5757575757575757,
          0.6262626262626263,
          0.6767676767676769,
          0.7272727272727271,
          0.7777777777777777,
          0.8282828282828283,
          0.8787878787878789,
          0.9292929292929291,
          0.9797979797979797,
          1.0303030303030303,
          1.0808080808080809,
          1.131313131313131,
          1.1818181818181817,
          1.2323232323232323,
          1.2828282828282829,
          1.3333333333333335,
          1.3838383838383836,
          1.4343434343434343,
          1.4848484848484849,
          1.5353535353535355,
          1.5858585858585856,
          1.6363636363636362,
          1.6868686868686869,
          1.7373737373737375,
          1.7878787878787876,
          1.8383838383838382,
          1.8888888888888888,
          1.9393939393939394,
          1.9898989898989896,
          2.0404040404040407,
          2.090909090909091,
          2.141414141414141,
          2.191919191919192,
          2.242424242424242,
          2.2929292929292933,
          2.3434343434343434,
          2.3939393939393936,
          2.4444444444444446,
          2.494949494949495,
          2.545454545454545,
          2.595959595959596,
          2.646464646464646,
          2.6969696969696972,
          2.7474747474747474,
          2.7979797979797976,
          2.8484848484848486,
          2.898989898989899,
          2.94949494949495,
          3
         ],
         "xaxis": "x3",
         "y": [
          -11.998590480076722,
          -2.496941465002089,
          -9.31688245559296,
          -11.1104082509034,
          -5.132850447321234,
          -4.634513733189402,
          -7.7284414170294875,
          -8.248040447617353,
          -11.234645316677629,
          -4.691031574859338,
          -2.3104734574288317,
          -9.097299868740176,
          -2.31426876852478,
          2.3850507564742736,
          -7.454287069552254,
          -0.21831664647147164,
          -0.04696123700632726,
          -3.3324692363817165,
          -0.32763505928476433,
          -4.435755933825194,
          0.3817858577760457,
          4.02337759538627,
          -1.7294267857744845,
          -2.45974863406599,
          -6.533502548878326,
          5.211757053902781,
          5.295537475160366,
          -1.762068900665351,
          0.06919742280304705,
          -0.4352678912179253,
          3.967477229182978,
          -4.79146834510034,
          1.9726578252663902,
          -6.804696869929592,
          1.938224009800232,
          -2.2499778261446,
          3.914339202920966,
          1.6456659993847353,
          -1.8370695234186925,
          -2.2105541647623372,
          -3.58607098170471,
          5.0464899287466745,
          3.198049282089516,
          -1.8116274255502842,
          -3.989688456673687,
          1.5084587137918761,
          0.0733524763594981,
          -1.4034266610210178,
          0.4238484761612782,
          2.1022866872345896,
          0.0652431468146703,
          2.060519614674064,
          0.23439899667225553,
          1.1258771959108087,
          -1.2402431551725877,
          2.8518888351644747,
          1.0362840786303353,
          -0.235132876679367,
          1.3720908319110892,
          0.2444127537951878,
          0.5226170278082167,
          2.8386938715474663,
          4.0671092766726105,
          -3.2422469811989183,
          1.3012720283027217,
          2.3549553402860566,
          -0.9891561901286652,
          3.9621351323166243,
          2.2341638188303996,
          1.661558427929302,
          -1.6872610750099293,
          -0.34314298120376785,
          4.662018675535766,
          10.179037811088113,
          3.9930675619843257,
          -0.5767656786836524,
          9.929860767983126,
          7.258120182705435,
          10.809931542411586,
          5.9936566626103485,
          11.085929596017904,
          10.190246749453575,
          6.07427462831265,
          9.471519271162274,
          11.647179419327747,
          9.422211873367212,
          16.453145822267615,
          12.518496297023688,
          17.265462888184242,
          14.809354888351873,
          18.44884702597492,
          19.200768527267012,
          12.824697944113803,
          18.885933135573637,
          22.94753463651476,
          20.899722259116764,
          27.679395575203962,
          28.289977122558664,
          23.352893697790353,
          27.567452866571745
         ],
         "yaxis": "y3"
        },
        {
         "line": {
          "color": "orange",
          "width": 4
         },
         "name": "Predictions",
         "showlegend": false,
         "type": "scatter",
         "x": [
          -2,
          -1.9494949494949494,
          -1.898989898989899,
          -1.8484848484848484,
          -1.797979797979798,
          -1.7474747474747474,
          -1.696969696969697,
          -1.6464646464646464,
          -1.595959595959596,
          -1.5454545454545454,
          -1.4949494949494948,
          -1.4444444444444444,
          -1.393939393939394,
          -1.3434343434343434,
          -1.2929292929292928,
          -1.2424242424242424,
          -1.191919191919192,
          -1.1414141414141414,
          -1.0909090909090908,
          -1.0404040404040404,
          -0.9898989898989898,
          -0.9393939393939394,
          -0.8888888888888888,
          -0.8383838383838385,
          -0.7878787878787878,
          -0.7373737373737375,
          -0.6868686868686869,
          -0.6363636363636365,
          -0.5858585858585859,
          -0.5353535353535355,
          -0.48484848484848486,
          -0.4343434343434345,
          -0.38383838383838387,
          -0.33333333333333326,
          -0.2828282828282829,
          -0.23232323232323226,
          -0.18181818181818188,
          -0.13131313131313127,
          -0.08080808080808088,
          -0.030303030303030276,
          0.020202020202020332,
          0.0707070707070705,
          0.1212121212121211,
          0.1717171717171717,
          0.22222222222222232,
          0.2727272727272725,
          0.3232323232323231,
          0.3737373737373737,
          0.4242424242424243,
          0.4747474747474749,
          0.5252525252525251,
          0.5757575757575757,
          0.6262626262626263,
          0.6767676767676769,
          0.7272727272727271,
          0.7777777777777777,
          0.8282828282828283,
          0.8787878787878789,
          0.9292929292929291,
          0.9797979797979797,
          1.0303030303030303,
          1.0808080808080809,
          1.131313131313131,
          1.1818181818181817,
          1.2323232323232323,
          1.2828282828282829,
          1.3333333333333335,
          1.3838383838383836,
          1.4343434343434343,
          1.4848484848484849,
          1.5353535353535355,
          1.5858585858585856,
          1.6363636363636362,
          1.6868686868686869,
          1.7373737373737375,
          1.7878787878787876,
          1.8383838383838382,
          1.8888888888888888,
          1.9393939393939394,
          1.9898989898989896,
          2.0404040404040407,
          2.090909090909091,
          2.141414141414141,
          2.191919191919192,
          2.242424242424242,
          2.2929292929292933,
          2.3434343434343434,
          2.3939393939393936,
          2.4444444444444446,
          2.494949494949495,
          2.545454545454545,
          2.595959595959596,
          2.646464646464646,
          2.6969696969696972,
          2.7474747474747474,
          2.7979797979797976,
          2.8484848484848486,
          2.898989898989899,
          2.94949494949495,
          3
         ],
         "xaxis": "x3",
         "y": [
          -6.190300662874506,
          -7.708138742138544,
          -7.697141573864883,
          -4.840043405498136,
          -4.570809693295587,
          -6.482972746519181,
          -7.895502585935446,
          -7.326056983185481,
          -5.164202427210284,
          -2.7418222305179825,
          -1.2281346101176496,
          -1.0522167282706505,
          -1.9139228789783829,
          -3.1335144499660146,
          -4.051939752838052,
          -4.294428498139268,
          -3.8395384537050177,
          -2.932061271409566,
          -1.9218740266235272,
          -1.1092341407818367,
          -0.648810068209059,
          -0.5290302973280632,
          -0.6139031071975296,
          -0.7180608437090541,
          -0.6830320931915139,
          -0.4302459268349139,
          0.02107191365075778,
          0.5700525478850977,
          1.073735733571084,
          1.3948016145852762,
          1.442727594683447,
          1.1978670890146077,
          0.7141164771630883,
          0.10201519655515767,
          -0.501190928142023,
          -0.9656501494259828,
          -1.1984415228046146,
          -1.162008284753938,
          -0.8783527922494159,
          -0.41952143833395894,
          0.11203075570711007,
          0.6077449193899156,
          0.9760702131029575,
          1.1594610563006427,
          1.1422545962536788,
          0.9487789933427848,
          0.6332722056085913,
          0.26482084409462914,
          -0.08873226455830263,
          -0.37418400008527897,
          -0.560977835140875,
          -0.6426699971066228,
          -0.6323572309836436,
          -0.5539507292573944,
          -0.4319964250985322,
          -0.28284462926535525,
          -0.10938791145849791,
          0.09950118822257537,
          0.36499878102381444,
          0.7111683228786205,
          1.156720794077728,
          1.7079855444355871,
          2.354942052810202,
          3.0712413084604577,
          3.818004796406967,
          4.550156458254378,
          5.223423605646076,
          5.80013230776899,
          6.252541406558294,
          6.563526523335668,
          6.725589234480594,
          6.739988807759801,
          6.617878798135052,
          6.384470173365344,
          6.085537985346036,
          5.793506666800113,
          5.608671525255204,
          5.650760241171611,
          6.037769770101022,
          6.85307226173768,
          8.107554350709052,
          9.709394861205283,
          11.457463231446354,
          13.07238549047679,
          14.269961536917208,
          14.86486038819885,
          14.871966704225997,
          14.556355534321028,
          14.382177703899288,
          14.837521838181601,
          16.171833586414778,
          18.163447737350225,
          20.09877358380595,
          21.121594370780258,
          20.91593501017178,
          20.285162364670214,
          20.7637352054237,
          22.68031171190046,
          24.01016774068421,
          32.165762483564095
         ],
         "yaxis": "y3"
        }
       ],
       "layout": {
        "height": 500,
        "template": {
         "data": {
          "bar": [
           {
            "error_x": {
             "color": "rgb(36,36,36)"
            },
            "error_y": {
             "color": "rgb(36,36,36)"
            },
            "marker": {
             "line": {
              "color": "white",
              "width": 0.5
             },
             "pattern": {
              "fillmode": "overlay",
              "size": 10,
              "solidity": 0.2
             }
            },
            "type": "bar"
           }
          ],
          "barpolar": [
           {
            "marker": {
             "line": {
              "color": "white",
              "width": 0.5
             },
             "pattern": {
              "fillmode": "overlay",
              "size": 10,
              "solidity": 0.2
             }
            },
            "type": "barpolar"
           }
          ],
          "carpet": [
           {
            "aaxis": {
             "endlinecolor": "rgb(36,36,36)",
             "gridcolor": "white",
             "linecolor": "white",
             "minorgridcolor": "white",
             "startlinecolor": "rgb(36,36,36)"
            },
            "baxis": {
             "endlinecolor": "rgb(36,36,36)",
             "gridcolor": "white",
             "linecolor": "white",
             "minorgridcolor": "white",
             "startlinecolor": "rgb(36,36,36)"
            },
            "type": "carpet"
           }
          ],
          "choropleth": [
           {
            "colorbar": {
             "outlinewidth": 1,
             "tickcolor": "rgb(36,36,36)",
             "ticks": "outside"
            },
            "type": "choropleth"
           }
          ],
          "contour": [
           {
            "colorbar": {
             "outlinewidth": 1,
             "tickcolor": "rgb(36,36,36)",
             "ticks": "outside"
            },
            "colorscale": [
             [
              0,
              "#440154"
             ],
             [
              0.1111111111111111,
              "#482878"
             ],
             [
              0.2222222222222222,
              "#3e4989"
             ],
             [
              0.3333333333333333,
              "#31688e"
             ],
             [
              0.4444444444444444,
              "#26828e"
             ],
             [
              0.5555555555555556,
              "#1f9e89"
             ],
             [
              0.6666666666666666,
              "#35b779"
             ],
             [
              0.7777777777777778,
              "#6ece58"
             ],
             [
              0.8888888888888888,
              "#b5de2b"
             ],
             [
              1,
              "#fde725"
             ]
            ],
            "type": "contour"
           }
          ],
          "contourcarpet": [
           {
            "colorbar": {
             "outlinewidth": 1,
             "tickcolor": "rgb(36,36,36)",
             "ticks": "outside"
            },
            "type": "contourcarpet"
           }
          ],
          "heatmap": [
           {
            "colorbar": {
             "outlinewidth": 1,
             "tickcolor": "rgb(36,36,36)",
             "ticks": "outside"
            },
            "colorscale": [
             [
              0,
              "#440154"
             ],
             [
              0.1111111111111111,
              "#482878"
             ],
             [
              0.2222222222222222,
              "#3e4989"
             ],
             [
              0.3333333333333333,
              "#31688e"
             ],
             [
              0.4444444444444444,
              "#26828e"
             ],
             [
              0.5555555555555556,
              "#1f9e89"
             ],
             [
              0.6666666666666666,
              "#35b779"
             ],
             [
              0.7777777777777778,
              "#6ece58"
             ],
             [
              0.8888888888888888,
              "#b5de2b"
             ],
             [
              1,
              "#fde725"
             ]
            ],
            "type": "heatmap"
           }
          ],
          "heatmapgl": [
           {
            "colorbar": {
             "outlinewidth": 1,
             "tickcolor": "rgb(36,36,36)",
             "ticks": "outside"
            },
            "colorscale": [
             [
              0,
              "#440154"
             ],
             [
              0.1111111111111111,
              "#482878"
             ],
             [
              0.2222222222222222,
              "#3e4989"
             ],
             [
              0.3333333333333333,
              "#31688e"
             ],
             [
              0.4444444444444444,
              "#26828e"
             ],
             [
              0.5555555555555556,
              "#1f9e89"
             ],
             [
              0.6666666666666666,
              "#35b779"
             ],
             [
              0.7777777777777778,
              "#6ece58"
             ],
             [
              0.8888888888888888,
              "#b5de2b"
             ],
             [
              1,
              "#fde725"
             ]
            ],
            "type": "heatmapgl"
           }
          ],
          "histogram": [
           {
            "marker": {
             "line": {
              "color": "white",
              "width": 0.6
             }
            },
            "type": "histogram"
           }
          ],
          "histogram2d": [
           {
            "colorbar": {
             "outlinewidth": 1,
             "tickcolor": "rgb(36,36,36)",
             "ticks": "outside"
            },
            "colorscale": [
             [
              0,
              "#440154"
             ],
             [
              0.1111111111111111,
              "#482878"
             ],
             [
              0.2222222222222222,
              "#3e4989"
             ],
             [
              0.3333333333333333,
              "#31688e"
             ],
             [
              0.4444444444444444,
              "#26828e"
             ],
             [
              0.5555555555555556,
              "#1f9e89"
             ],
             [
              0.6666666666666666,
              "#35b779"
             ],
             [
              0.7777777777777778,
              "#6ece58"
             ],
             [
              0.8888888888888888,
              "#b5de2b"
             ],
             [
              1,
              "#fde725"
             ]
            ],
            "type": "histogram2d"
           }
          ],
          "histogram2dcontour": [
           {
            "colorbar": {
             "outlinewidth": 1,
             "tickcolor": "rgb(36,36,36)",
             "ticks": "outside"
            },
            "colorscale": [
             [
              0,
              "#440154"
             ],
             [
              0.1111111111111111,
              "#482878"
             ],
             [
              0.2222222222222222,
              "#3e4989"
             ],
             [
              0.3333333333333333,
              "#31688e"
             ],
             [
              0.4444444444444444,
              "#26828e"
             ],
             [
              0.5555555555555556,
              "#1f9e89"
             ],
             [
              0.6666666666666666,
              "#35b779"
             ],
             [
              0.7777777777777778,
              "#6ece58"
             ],
             [
              0.8888888888888888,
              "#b5de2b"
             ],
             [
              1,
              "#fde725"
             ]
            ],
            "type": "histogram2dcontour"
           }
          ],
          "mesh3d": [
           {
            "colorbar": {
             "outlinewidth": 1,
             "tickcolor": "rgb(36,36,36)",
             "ticks": "outside"
            },
            "type": "mesh3d"
           }
          ],
          "parcoords": [
           {
            "line": {
             "colorbar": {
              "outlinewidth": 1,
              "tickcolor": "rgb(36,36,36)",
              "ticks": "outside"
             }
            },
            "type": "parcoords"
           }
          ],
          "pie": [
           {
            "automargin": true,
            "type": "pie"
           }
          ],
          "scatter": [
           {
            "fillpattern": {
             "fillmode": "overlay",
             "size": 10,
             "solidity": 0.2
            },
            "type": "scatter"
           }
          ],
          "scatter3d": [
           {
            "line": {
             "colorbar": {
              "outlinewidth": 1,
              "tickcolor": "rgb(36,36,36)",
              "ticks": "outside"
             }
            },
            "marker": {
             "colorbar": {
              "outlinewidth": 1,
              "tickcolor": "rgb(36,36,36)",
              "ticks": "outside"
             }
            },
            "type": "scatter3d"
           }
          ],
          "scattercarpet": [
           {
            "marker": {
             "colorbar": {
              "outlinewidth": 1,
              "tickcolor": "rgb(36,36,36)",
              "ticks": "outside"
             }
            },
            "type": "scattercarpet"
           }
          ],
          "scattergeo": [
           {
            "marker": {
             "colorbar": {
              "outlinewidth": 1,
              "tickcolor": "rgb(36,36,36)",
              "ticks": "outside"
             }
            },
            "type": "scattergeo"
           }
          ],
          "scattergl": [
           {
            "marker": {
             "colorbar": {
              "outlinewidth": 1,
              "tickcolor": "rgb(36,36,36)",
              "ticks": "outside"
             }
            },
            "type": "scattergl"
           }
          ],
          "scattermapbox": [
           {
            "marker": {
             "colorbar": {
              "outlinewidth": 1,
              "tickcolor": "rgb(36,36,36)",
              "ticks": "outside"
             }
            },
            "type": "scattermapbox"
           }
          ],
          "scatterpolar": [
           {
            "marker": {
             "colorbar": {
              "outlinewidth": 1,
              "tickcolor": "rgb(36,36,36)",
              "ticks": "outside"
             }
            },
            "type": "scatterpolar"
           }
          ],
          "scatterpolargl": [
           {
            "marker": {
             "colorbar": {
              "outlinewidth": 1,
              "tickcolor": "rgb(36,36,36)",
              "ticks": "outside"
             }
            },
            "type": "scatterpolargl"
           }
          ],
          "scatterternary": [
           {
            "marker": {
             "colorbar": {
              "outlinewidth": 1,
              "tickcolor": "rgb(36,36,36)",
              "ticks": "outside"
             }
            },
            "type": "scatterternary"
           }
          ],
          "surface": [
           {
            "colorbar": {
             "outlinewidth": 1,
             "tickcolor": "rgb(36,36,36)",
             "ticks": "outside"
            },
            "colorscale": [
             [
              0,
              "#440154"
             ],
             [
              0.1111111111111111,
              "#482878"
             ],
             [
              0.2222222222222222,
              "#3e4989"
             ],
             [
              0.3333333333333333,
              "#31688e"
             ],
             [
              0.4444444444444444,
              "#26828e"
             ],
             [
              0.5555555555555556,
              "#1f9e89"
             ],
             [
              0.6666666666666666,
              "#35b779"
             ],
             [
              0.7777777777777778,
              "#6ece58"
             ],
             [
              0.8888888888888888,
              "#b5de2b"
             ],
             [
              1,
              "#fde725"
             ]
            ],
            "type": "surface"
           }
          ],
          "table": [
           {
            "cells": {
             "fill": {
              "color": "rgb(237,237,237)"
             },
             "line": {
              "color": "white"
             }
            },
            "header": {
             "fill": {
              "color": "rgb(217,217,217)"
             },
             "line": {
              "color": "white"
             }
            },
            "type": "table"
           }
          ]
         },
         "layout": {
          "annotationdefaults": {
           "arrowhead": 0,
           "arrowwidth": 1
          },
          "autosize": true,
          "autotypenumbers": "strict",
          "coloraxis": {
           "colorbar": {
            "outlinewidth": 1,
            "tickcolor": "rgb(36,36,36)",
            "ticks": "outside"
           }
          },
          "colorscale": {
           "diverging": [
            [
             0,
             "rgb(103,0,31)"
            ],
            [
             0.1,
             "rgb(178,24,43)"
            ],
            [
             0.2,
             "rgb(214,96,77)"
            ],
            [
             0.3,
             "rgb(244,165,130)"
            ],
            [
             0.4,
             "rgb(253,219,199)"
            ],
            [
             0.5,
             "rgb(247,247,247)"
            ],
            [
             0.6,
             "rgb(209,229,240)"
            ],
            [
             0.7,
             "rgb(146,197,222)"
            ],
            [
             0.8,
             "rgb(67,147,195)"
            ],
            [
             0.9,
             "rgb(33,102,172)"
            ],
            [
             1,
             "rgb(5,48,97)"
            ]
           ],
           "sequential": [
            [
             0,
             "#440154"
            ],
            [
             0.1111111111111111,
             "#482878"
            ],
            [
             0.2222222222222222,
             "#3e4989"
            ],
            [
             0.3333333333333333,
             "#31688e"
            ],
            [
             0.4444444444444444,
             "#26828e"
            ],
            [
             0.5555555555555556,
             "#1f9e89"
            ],
            [
             0.6666666666666666,
             "#35b779"
            ],
            [
             0.7777777777777778,
             "#6ece58"
            ],
            [
             0.8888888888888888,
             "#b5de2b"
            ],
            [
             1,
             "#fde725"
            ]
           ],
           "sequentialminus": [
            [
             0,
             "#440154"
            ],
            [
             0.1111111111111111,
             "#482878"
            ],
            [
             0.2222222222222222,
             "#3e4989"
            ],
            [
             0.3333333333333333,
             "#31688e"
            ],
            [
             0.4444444444444444,
             "#26828e"
            ],
            [
             0.5555555555555556,
             "#1f9e89"
            ],
            [
             0.6666666666666666,
             "#35b779"
            ],
            [
             0.7777777777777778,
             "#6ece58"
            ],
            [
             0.8888888888888888,
             "#b5de2b"
            ],
            [
             1,
             "#fde725"
            ]
           ]
          },
          "colorway": [
           "#1F77B4",
           "#FF7F0E",
           "#2CA02C",
           "#D62728",
           "#9467BD",
           "#8C564B",
           "#E377C2",
           "#7F7F7F",
           "#BCBD22",
           "#17BECF"
          ],
          "font": {
           "color": "rgb(36,36,36)"
          },
          "geo": {
           "bgcolor": "white",
           "lakecolor": "white",
           "landcolor": "white",
           "showlakes": true,
           "showland": true,
           "subunitcolor": "white"
          },
          "height": 400,
          "hoverlabel": {
           "align": "left"
          },
          "hovermode": "closest",
          "mapbox": {
           "style": "light"
          },
          "margin": {
           "b": 30,
           "l": 30,
           "r": 30,
           "t": 30
          },
          "paper_bgcolor": "white",
          "plot_bgcolor": "white",
          "polar": {
           "angularaxis": {
            "gridcolor": "rgb(232,232,232)",
            "linecolor": "rgb(36,36,36)",
            "showgrid": false,
            "showline": true,
            "ticks": "outside"
           },
           "bgcolor": "white",
           "radialaxis": {
            "gridcolor": "rgb(232,232,232)",
            "linecolor": "rgb(36,36,36)",
            "showgrid": false,
            "showline": true,
            "ticks": "outside"
           }
          },
          "scene": {
           "xaxis": {
            "backgroundcolor": "white",
            "gridcolor": "rgb(232,232,232)",
            "gridwidth": 2,
            "linecolor": "rgb(36,36,36)",
            "showbackground": true,
            "showgrid": false,
            "showline": true,
            "ticks": "outside",
            "zeroline": false,
            "zerolinecolor": "rgb(36,36,36)"
           },
           "yaxis": {
            "backgroundcolor": "white",
            "gridcolor": "rgb(232,232,232)",
            "gridwidth": 2,
            "linecolor": "rgb(36,36,36)",
            "showbackground": true,
            "showgrid": false,
            "showline": true,
            "ticks": "outside",
            "zeroline": false,
            "zerolinecolor": "rgb(36,36,36)"
           },
           "zaxis": {
            "backgroundcolor": "white",
            "gridcolor": "rgb(232,232,232)",
            "gridwidth": 2,
            "linecolor": "rgb(36,36,36)",
            "showbackground": true,
            "showgrid": false,
            "showline": true,
            "ticks": "outside",
            "zeroline": false,
            "zerolinecolor": "rgb(36,36,36)"
           }
          },
          "shapedefaults": {
           "fillcolor": "black",
           "line": {
            "width": 0
           },
           "opacity": 0.3
          },
          "ternary": {
           "aaxis": {
            "gridcolor": "rgb(232,232,232)",
            "linecolor": "rgb(36,36,36)",
            "showgrid": false,
            "showline": true,
            "ticks": "outside"
           },
           "baxis": {
            "gridcolor": "rgb(232,232,232)",
            "linecolor": "rgb(36,36,36)",
            "showgrid": false,
            "showline": true,
            "ticks": "outside"
           },
           "bgcolor": "white",
           "caxis": {
            "gridcolor": "rgb(232,232,232)",
            "linecolor": "rgb(36,36,36)",
            "showgrid": false,
            "showline": true,
            "ticks": "outside"
           }
          },
          "title": {
           "x": 0.5,
           "xanchor": "center"
          },
          "width": 600,
          "xaxis": {
           "automargin": true,
           "gridcolor": "rgb(232,232,232)",
           "linecolor": "rgb(36,36,36)",
           "showgrid": true,
           "showline": true,
           "ticks": "outside",
           "title": {
            "standoff": 15
           },
           "zeroline": false,
           "zerolinecolor": "rgb(36,36,36)"
          },
          "yaxis": {
           "automargin": true,
           "gridcolor": "rgb(232,232,232)",
           "linecolor": "rgb(36,36,36)",
           "showgrid": true,
           "showline": true,
           "ticks": "outside",
           "title": {
            "standoff": 15
           },
           "zeroline": false,
           "zerolinecolor": "rgb(36,36,36)"
          }
         }
        },
        "title": {
         "text": "Trained on Sample 1, Performance on Sample 2"
        },
        "width": 950,
        "xaxis": {
         "anchor": "y",
         "domain": [
          0,
          0.2888888888888889
         ],
         "title": {
          "text": "Degree 1, MSE: 24.801"
         }
        },
        "xaxis2": {
         "anchor": "y2",
         "domain": [
          0.35555555555555557,
          0.6444444444444445
         ],
         "title": {
          "text": "Degree 3, MSE: 9.672"
         }
        },
        "xaxis3": {
         "anchor": "y3",
         "domain": [
          0.7111111111111111,
          1
         ],
         "title": {
          "text": "Degree 25, MSE: 13.144"
         }
        },
        "yaxis": {
         "anchor": "x",
         "domain": [
          0,
          1
         ]
        },
        "yaxis2": {
         "anchor": "x2",
         "domain": [
          0,
          1
         ]
        },
        "yaxis3": {
         "anchor": "x3",
         "domain": [
          0,
          1
         ]
        }
       }
      }
     },
     "metadata": {},
     "output_type": "display_data"
    }
   ],
   "source": [
    "fig = util.train_and_plot(train_sample=sample_1, test_sample=sample_2, degs=[1, 3, 25], data_name='Sample 2')\n",
    "fig.update_layout(title='Trained on Sample 1, Performance on Sample 2')"
   ]
  },
  {
   "cell_type": "markdown",
   "id": "46c741af",
   "metadata": {
    "deletable": true,
    "editable": true,
    "slideshow": {
     "slide_type": "fragment"
    }
   },
   "source": [
    "- The degree 3 polynomial has the lowest MSE on Sample 2. "
   ]
  },
  {
   "cell_type": "markdown",
   "id": "6a6330c8",
   "metadata": {
    "deletable": true,
    "editable": true,
    "slideshow": {
     "slide_type": "fragment"
    }
   },
   "source": [
    "- Note that **we didn't get to see Sample 2 when fitting our models**! "
   ]
  },
  {
   "cell_type": "markdown",
   "id": "f42b0b51",
   "metadata": {
    "deletable": true,
    "editable": true,
    "slideshow": {
     "slide_type": "fragment"
    }
   },
   "source": [
    "- As such, it seems that the degree 3 polynomial **generalizes better** to unseen data than the degree 25 polynomial does."
   ]
  },
  {
   "cell_type": "markdown",
   "id": "1120268e",
   "metadata": {
    "deletable": true,
    "editable": true,
    "slideshow": {
     "slide_type": "slide"
    }
   },
   "source": [
    "- What if we fit a degree 1, degree 3, and degree 25 polynomial **on Sample 2** as well?"
   ]
  },
  {
   "cell_type": "code",
   "execution_count": 34,
   "id": "95c06db5",
   "metadata": {
    "deletable": true,
    "editable": true
   },
   "outputs": [
    {
     "data": {
      "application/vnd.plotly.v1+json": {
       "config": {
        "plotlyServerURL": "https://plot.ly"
       },
       "data": [
        {
         "line": {
          "color": "orange",
          "width": 4
         },
         "name": "Trained on Sample 1",
         "type": "scatter",
         "x": [
          -2,
          -1.9494949494949494,
          -1.898989898989899,
          -1.8484848484848484,
          -1.797979797979798,
          -1.7474747474747474,
          -1.696969696969697,
          -1.6464646464646464,
          -1.595959595959596,
          -1.5454545454545454,
          -1.4949494949494948,
          -1.4444444444444444,
          -1.393939393939394,
          -1.3434343434343434,
          -1.2929292929292928,
          -1.2424242424242424,
          -1.191919191919192,
          -1.1414141414141414,
          -1.0909090909090908,
          -1.0404040404040404,
          -0.9898989898989898,
          -0.9393939393939394,
          -0.8888888888888888,
          -0.8383838383838385,
          -0.7878787878787878,
          -0.7373737373737375,
          -0.6868686868686869,
          -0.6363636363636365,
          -0.5858585858585859,
          -0.5353535353535355,
          -0.48484848484848486,
          -0.4343434343434345,
          -0.38383838383838387,
          -0.33333333333333326,
          -0.2828282828282829,
          -0.23232323232323226,
          -0.18181818181818188,
          -0.13131313131313127,
          -0.08080808080808088,
          -0.030303030303030276,
          0.020202020202020332,
          0.0707070707070705,
          0.1212121212121211,
          0.1717171717171717,
          0.22222222222222232,
          0.2727272727272725,
          0.3232323232323231,
          0.3737373737373737,
          0.4242424242424243,
          0.4747474747474749,
          0.5252525252525251,
          0.5757575757575757,
          0.6262626262626263,
          0.6767676767676769,
          0.7272727272727271,
          0.7777777777777777,
          0.8282828282828283,
          0.8787878787878789,
          0.9292929292929291,
          0.9797979797979797,
          1.0303030303030303,
          1.0808080808080809,
          1.131313131313131,
          1.1818181818181817,
          1.2323232323232323,
          1.2828282828282829,
          1.3333333333333335,
          1.3838383838383836,
          1.4343434343434343,
          1.4848484848484849,
          1.5353535353535355,
          1.5858585858585856,
          1.6363636363636362,
          1.6868686868686869,
          1.7373737373737375,
          1.7878787878787876,
          1.8383838383838382,
          1.8888888888888888,
          1.9393939393939394,
          1.9898989898989896,
          2.0404040404040407,
          2.090909090909091,
          2.141414141414141,
          2.191919191919192,
          2.242424242424242,
          2.2929292929292933,
          2.3434343434343434,
          2.3939393939393936,
          2.4444444444444446,
          2.494949494949495,
          2.545454545454545,
          2.595959595959596,
          2.646464646464646,
          2.6969696969696972,
          2.7474747474747474,
          2.7979797979797976,
          2.8484848484848486,
          2.898989898989899,
          2.94949494949495,
          3
         ],
         "xaxis": "x",
         "y": [
          -8.251729575243953,
          -8.011387653946237,
          -7.771045732648525,
          -7.530703811350812,
          -7.2903618900530995,
          -7.050019968755385,
          -6.809678047457672,
          -6.569336126159959,
          -6.328994204862246,
          -6.088652283564532,
          -5.848310362266818,
          -5.607968440969105,
          -5.367626519671393,
          -5.127284598373678,
          -4.8869426770759645,
          -4.646600755778252,
          -4.406258834480539,
          -4.1659169131828255,
          -3.925574991885111,
          -3.6852330705873984,
          -3.4448911492896848,
          -3.204549227991972,
          -2.9642073066942585,
          -2.7238653853965453,
          -2.4835234640988317,
          -2.243181542801119,
          -2.002839621503405,
          -1.7624977002056923,
          -1.5221557789079783,
          -1.2818138576102656,
          -1.041471936312552,
          -0.8011300150148388,
          -0.5607880937171252,
          -0.3204461724194112,
          -0.0801042511216985,
          0.1602376701760153,
          0.4005795914737281,
          0.6409215127714419,
          0.8812634340691547,
          1.1216053553668686,
          1.3619472766645824,
          1.6022891979622942,
          1.842631119260008,
          2.0829730405577216,
          2.3233149618554356,
          2.5636568831531474,
          2.8039988044508615,
          3.044340725748575,
          3.284682647046289,
          3.5250245683440027,
          3.7653664896417145,
          4.0057084109394285,
          4.246050332237142,
          4.486392253534856,
          4.7267341748325675,
          4.967076096130281,
          5.207418017427996,
          5.447759938725709,
          5.688101860023421,
          5.928443781321135,
          6.168785702618848,
          6.409127623916563,
          6.6494695452142745,
          6.889811466511988,
          7.130153387809702,
          7.370495309107416,
          7.61083723040513,
          7.8511791517028415,
          8.091521073000555,
          8.33186299429827,
          8.572204915595982,
          8.812546836893695,
          9.052888758191408,
          9.29323067948912,
          9.533572600786837,
          9.77391452208455,
          10.014256443382262,
          10.254598364679975,
          10.494940285977691,
          10.7352822072754,
          10.975624128573116,
          11.21596604987083,
          11.456307971168542,
          11.696649892466258,
          11.936991813763967,
          12.177333735061683,
          12.417675656359396,
          12.658017577657109,
          12.898359498954825,
          13.138701420252534,
          13.379043341550247,
          13.619385262847963,
          13.859727184145676,
          14.100069105443392,
          14.340411026741101,
          14.580752948038814,
          14.82109486933653,
          15.061436790634243,
          15.30177871193196,
          15.542120633229668
         ],
         "yaxis": "y"
        },
        {
         "line": {
          "color": "purple",
          "width": 4
         },
         "name": "Trained on Sample 2",
         "type": "scatter",
         "x": [
          -2,
          -1.9494949494949494,
          -1.898989898989899,
          -1.8484848484848484,
          -1.797979797979798,
          -1.7474747474747474,
          -1.696969696969697,
          -1.6464646464646464,
          -1.595959595959596,
          -1.5454545454545454,
          -1.4949494949494948,
          -1.4444444444444444,
          -1.393939393939394,
          -1.3434343434343434,
          -1.2929292929292928,
          -1.2424242424242424,
          -1.191919191919192,
          -1.1414141414141414,
          -1.0909090909090908,
          -1.0404040404040404,
          -0.9898989898989898,
          -0.9393939393939394,
          -0.8888888888888888,
          -0.8383838383838385,
          -0.7878787878787878,
          -0.7373737373737375,
          -0.6868686868686869,
          -0.6363636363636365,
          -0.5858585858585859,
          -0.5353535353535355,
          -0.48484848484848486,
          -0.4343434343434345,
          -0.38383838383838387,
          -0.33333333333333326,
          -0.2828282828282829,
          -0.23232323232323226,
          -0.18181818181818188,
          -0.13131313131313127,
          -0.08080808080808088,
          -0.030303030303030276,
          0.020202020202020332,
          0.0707070707070705,
          0.1212121212121211,
          0.1717171717171717,
          0.22222222222222232,
          0.2727272727272725,
          0.3232323232323231,
          0.3737373737373737,
          0.4242424242424243,
          0.4747474747474749,
          0.5252525252525251,
          0.5757575757575757,
          0.6262626262626263,
          0.6767676767676769,
          0.7272727272727271,
          0.7777777777777777,
          0.8282828282828283,
          0.8787878787878789,
          0.9292929292929291,
          0.9797979797979797,
          1.0303030303030303,
          1.0808080808080809,
          1.131313131313131,
          1.1818181818181817,
          1.2323232323232323,
          1.2828282828282829,
          1.3333333333333335,
          1.3838383838383836,
          1.4343434343434343,
          1.4848484848484849,
          1.5353535353535355,
          1.5858585858585856,
          1.6363636363636362,
          1.6868686868686869,
          1.7373737373737375,
          1.7878787878787876,
          1.8383838383838382,
          1.8888888888888888,
          1.9393939393939394,
          1.9898989898989896,
          2.0404040404040407,
          2.090909090909091,
          2.141414141414141,
          2.191919191919192,
          2.242424242424242,
          2.2929292929292933,
          2.3434343434343434,
          2.3939393939393936,
          2.4444444444444446,
          2.494949494949495,
          2.545454545454545,
          2.595959595959596,
          2.646464646464646,
          2.6969696969696972,
          2.7474747474747474,
          2.7979797979797976,
          2.8484848484848486,
          2.898989898989899,
          2.94949494949495,
          3
         ],
         "xaxis": "x",
         "y": [
          -8.972515178261343,
          -8.729251607593495,
          -8.485988036925647,
          -8.2427244662578,
          -7.999460895589953,
          -7.756197324922104,
          -7.512933754254258,
          -7.26967018358641,
          -7.026406612918562,
          -6.783143042250714,
          -6.539879471582866,
          -6.296615900915018,
          -6.053352330247172,
          -5.8100887595793225,
          -5.566825188911475,
          -5.3235616182436285,
          -5.080298047575781,
          -4.837034476907933,
          -4.593770906240085,
          -4.350507335572237,
          -4.107243764904389,
          -3.8639801942365426,
          -3.6207166235686947,
          -3.377453052900847,
          -3.134189482232999,
          -2.890925911565152,
          -2.6476623408973037,
          -2.4043987702294567,
          -2.161135199561609,
          -1.9178716288937614,
          -1.6746080582259135,
          -1.4313444875580665,
          -1.1880809168902182,
          -0.9448173462223701,
          -0.7015537755545231,
          -0.45829020488667505,
          -0.21502663421882784,
          0.028236936449020256,
          0.27150050711686735,
          0.5147640777847154,
          0.7580276484525637,
          1.0012912191204095,
          1.2445547897882578,
          1.4878183604561057,
          1.731081931123954,
          1.9743455017918,
          2.2176090724596484,
          2.4608726431274963,
          2.7041362137953446,
          2.9473997844631925,
          3.1906633551310386,
          3.4339269257988865,
          3.677190496466735,
          3.920454067134583,
          4.163717637802429,
          4.4069812084702775,
          4.650244779138125,
          4.893508349805973,
          5.136771920473819,
          5.380035491141667,
          5.623299061809515,
          5.866562632477363,
          6.109826203145209,
          6.353089773813059,
          6.596353344480907,
          6.8396169151487545,
          7.082880485816602,
          7.326144056484448,
          7.569407627152296,
          7.812671197820144,
          8.055934768487992,
          8.299198339155838,
          8.542461909823686,
          8.785725480491534,
          9.028989051159384,
          9.272252621827228,
          9.515516192495078,
          9.758779763162925,
          10.002043333830773,
          10.24530690449862,
          10.488570475166469,
          10.731834045834315,
          10.975097616502161,
          11.21836118717001,
          11.461624757837857,
          11.704888328505708,
          11.948151899173554,
          12.1914154698414,
          12.43467904050925,
          12.677942611177096,
          12.921206181844942,
          13.164469752512792,
          13.407733323180638,
          13.65099689384849,
          13.894260464516334,
          14.13752403518418,
          14.380787605852031,
          14.624051176519878,
          14.867314747187727,
          15.110578317855573
         ],
         "yaxis": "y"
        },
        {
         "line": {
          "color": "orange",
          "width": 4
         },
         "showlegend": false,
         "type": "scatter",
         "x": [
          -2,
          -1.9494949494949494,
          -1.898989898989899,
          -1.8484848484848484,
          -1.797979797979798,
          -1.7474747474747474,
          -1.696969696969697,
          -1.6464646464646464,
          -1.595959595959596,
          -1.5454545454545454,
          -1.4949494949494948,
          -1.4444444444444444,
          -1.393939393939394,
          -1.3434343434343434,
          -1.2929292929292928,
          -1.2424242424242424,
          -1.191919191919192,
          -1.1414141414141414,
          -1.0909090909090908,
          -1.0404040404040404,
          -0.9898989898989898,
          -0.9393939393939394,
          -0.8888888888888888,
          -0.8383838383838385,
          -0.7878787878787878,
          -0.7373737373737375,
          -0.6868686868686869,
          -0.6363636363636365,
          -0.5858585858585859,
          -0.5353535353535355,
          -0.48484848484848486,
          -0.4343434343434345,
          -0.38383838383838387,
          -0.33333333333333326,
          -0.2828282828282829,
          -0.23232323232323226,
          -0.18181818181818188,
          -0.13131313131313127,
          -0.08080808080808088,
          -0.030303030303030276,
          0.020202020202020332,
          0.0707070707070705,
          0.1212121212121211,
          0.1717171717171717,
          0.22222222222222232,
          0.2727272727272725,
          0.3232323232323231,
          0.3737373737373737,
          0.4242424242424243,
          0.4747474747474749,
          0.5252525252525251,
          0.5757575757575757,
          0.6262626262626263,
          0.6767676767676769,
          0.7272727272727271,
          0.7777777777777777,
          0.8282828282828283,
          0.8787878787878789,
          0.9292929292929291,
          0.9797979797979797,
          1.0303030303030303,
          1.0808080808080809,
          1.131313131313131,
          1.1818181818181817,
          1.2323232323232323,
          1.2828282828282829,
          1.3333333333333335,
          1.3838383838383836,
          1.4343434343434343,
          1.4848484848484849,
          1.5353535353535355,
          1.5858585858585856,
          1.6363636363636362,
          1.6868686868686869,
          1.7373737373737375,
          1.7878787878787876,
          1.8383838383838382,
          1.8888888888888888,
          1.9393939393939394,
          1.9898989898989896,
          2.0404040404040407,
          2.090909090909091,
          2.141414141414141,
          2.191919191919192,
          2.242424242424242,
          2.2929292929292933,
          2.3434343434343434,
          2.3939393939393936,
          2.4444444444444446,
          2.494949494949495,
          2.545454545454545,
          2.595959595959596,
          2.646464646464646,
          2.6969696969696972,
          2.7474747474747474,
          2.7979797979797976,
          2.8484848484848486,
          2.898989898989899,
          2.94949494949495,
          3
         ],
         "xaxis": "x2",
         "y": [
          -7.985097661263955,
          -7.416323983124312,
          -6.875350418396554,
          -6.361451969675291,
          -5.873903639555139,
          -5.4119804306307095,
          -4.97495734549662,
          -4.562109386747479,
          -4.172711556977904,
          -3.806038858782509,
          -3.4613662947559045,
          -3.137968867492708,
          -2.8351215795875313,
          -2.5520994336349867,
          -2.2881774322296895,
          -2.042630577966254,
          -1.8147338734392933,
          -1.6037623212434198,
          -1.4089909239732483,
          -1.2296946842233933,
          -1.0651486045884673,
          -0.9146276876630848,
          -0.7774069360418585,
          -0.6527613523194031,
          -0.5399659390903313,
          -0.4382956989492579,
          -0.3470256344907957,
          -0.26543074830955915,
          -0.1927860430001611,
          -0.12836652115721608,
          -0.07144718537533706,
          -0.021303038249138373,
          0.0227909176267668,
          0.06155967965776454,
          0.09572824524924098,
          0.12602161180658278,
          0.15316477673517587,
          0.17788273744040692,
          0.20090049132766194,
          0.22294303580232747,
          0.24473536826978967,
          0.2670024861354347,
          0.29046938680464923,
          0.31586106768281935,
          0.3439025261753314,
          0.37531875968757145,
          0.4108347656249262,
          0.4511755413927818,
          0.49706608439652467,
          0.5492313920415409,
          0.6083964617332164,
          0.6752862908769385,
          0.7506258768780929,
          0.8351402171420661,
          0.9295543090742433,
          1.0345931500800125,
          1.1509817375647595,
          1.2794450689338706,
          1.42070814159273,
          1.5754959529467276,
          1.744533500401248,
          1.9285457813616775,
          2.1282577932334004,
          2.3443945334218075,
          2.577680999332282,
          2.828842188370211,
          3.0986030979409804,
          3.3876887254499746,
          3.6968240683025844,
          4.026734123904193,
          4.37814388966019,
          4.751778362975953,
          5.148362541256879,
          5.568621421908349,
          6.013280002335751,
          6.483063279944466,
          6.978696252139889,
          7.500903916327402,
          8.050411269912392,
          8.627943310300237,
          9.234225034896344,
          9.869981441106074,
          10.535937526334825,
          11.232818287987998,
          11.961348723470952,
          12.722253830189096,
          13.516258605547796,
          14.344088046952448,
          15.206467151808456,
          16.104120917521172,
          17.037774341496,
          18.00815242113834,
          19.01598015385355,
          20.061982537047054,
          21.146884568124193,
          22.271411244490373,
          23.436287563551005,
          24.642238522711427,
          25.88998911937708,
          27.180264350953298
         ],
         "yaxis": "y2"
        },
        {
         "line": {
          "color": "purple",
          "width": 4
         },
         "showlegend": false,
         "type": "scatter",
         "x": [
          -2,
          -1.9494949494949494,
          -1.898989898989899,
          -1.8484848484848484,
          -1.797979797979798,
          -1.7474747474747474,
          -1.696969696969697,
          -1.6464646464646464,
          -1.595959595959596,
          -1.5454545454545454,
          -1.4949494949494948,
          -1.4444444444444444,
          -1.393939393939394,
          -1.3434343434343434,
          -1.2929292929292928,
          -1.2424242424242424,
          -1.191919191919192,
          -1.1414141414141414,
          -1.0909090909090908,
          -1.0404040404040404,
          -0.9898989898989898,
          -0.9393939393939394,
          -0.8888888888888888,
          -0.8383838383838385,
          -0.7878787878787878,
          -0.7373737373737375,
          -0.6868686868686869,
          -0.6363636363636365,
          -0.5858585858585859,
          -0.5353535353535355,
          -0.48484848484848486,
          -0.4343434343434345,
          -0.38383838383838387,
          -0.33333333333333326,
          -0.2828282828282829,
          -0.23232323232323226,
          -0.18181818181818188,
          -0.13131313131313127,
          -0.08080808080808088,
          -0.030303030303030276,
          0.020202020202020332,
          0.0707070707070705,
          0.1212121212121211,
          0.1717171717171717,
          0.22222222222222232,
          0.2727272727272725,
          0.3232323232323231,
          0.3737373737373737,
          0.4242424242424243,
          0.4747474747474749,
          0.5252525252525251,
          0.5757575757575757,
          0.6262626262626263,
          0.6767676767676769,
          0.7272727272727271,
          0.7777777777777777,
          0.8282828282828283,
          0.8787878787878789,
          0.9292929292929291,
          0.9797979797979797,
          1.0303030303030303,
          1.0808080808080809,
          1.131313131313131,
          1.1818181818181817,
          1.2323232323232323,
          1.2828282828282829,
          1.3333333333333335,
          1.3838383838383836,
          1.4343434343434343,
          1.4848484848484849,
          1.5353535353535355,
          1.5858585858585856,
          1.6363636363636362,
          1.6868686868686869,
          1.7373737373737375,
          1.7878787878787876,
          1.8383838383838382,
          1.8888888888888888,
          1.9393939393939394,
          1.9898989898989896,
          2.0404040404040407,
          2.090909090909091,
          2.141414141414141,
          2.191919191919192,
          2.242424242424242,
          2.2929292929292933,
          2.3434343434343434,
          2.3939393939393936,
          2.4444444444444446,
          2.494949494949495,
          2.545454545454545,
          2.595959595959596,
          2.646464646464646,
          2.6969696969696972,
          2.7474747474747474,
          2.7979797979797976,
          2.8484848484848486,
          2.898989898989899,
          2.94949494949495,
          3
         ],
         "xaxis": "x2",
         "y": [
          -10.235629893832938,
          -9.484125110287765,
          -8.769422523283334,
          -8.090613887909326,
          -7.446790959255427,
          -6.837045492411324,
          -6.2604692424667,
          -5.716153964511234,
          -5.2031914136346185,
          -4.720673344926533,
          -4.267691513476665,
          -3.843337674374698,
          -3.446703582710315,
          -3.0768809935732,
          -2.732961662053039,
          -2.4140373432395177,
          -2.119199792222319,
          -1.8475407640911259,
          -1.598152013935624,
          -1.3701252968454996,
          -1.1625523679104344,
          -0.974524982220115,
          -0.805134894864224,
          -0.6534738609324472,
          -0.518633635514468,
          -0.39970597369997185,
          -0.29578263057864235,
          -0.20595536124016467,
          -0.12931592077422244,
          -0.06495606427050096,
          -0.011967546818683908,
          0.030557876491543706,
          0.06352845057049786,
          0.08785242032849389,
          0.10443803067584728,
          0.11419352652287379,
          0.11802715277988884,
          0.11684715435720806,
          0.11156177616514702,
          0.10307926311402121,
          0.09230786011414623,
          0.08015581207583775,
          0.0675313639094111,
          0.05534276052518198,
          0.044498246833465926,
          0.03590606774457858,
          0.03047446816883534,
          0.029111693016551893,
          0.032725987198043746,
          0.042225595623626516,
          0.058518763203615536,
          0.08251373484832672,
          0.11511875546807548,
          0.1572420699731774,
          0.20979192327394752,
          0.27367656028070225,
          0.349804225903757,
          0.4390831650534271,
          0.5424216226400271,
          0.6607278435738745,
          0.794910072765284,
          0.9458765551245711,
          1.1145355355620499,
          1.3017952589880388,
          1.5085639703128522,
          1.7357499144468056,
          1.9842613363002144,
          2.2550064807833916,
          2.548893592806658,
          2.8668309172803257,
          3.209726699114712,
          3.5784891832201287,
          3.9740266145068963,
          4.397247237885328,
          4.8490592982657414,
          5.330371040558445,
          5.842090709673762,
          6.385126550522008,
          6.960386808013496,
          7.568779727058537,
          8.21121355256746,
          8.888596529450563,
          9.601836902618167,
          10.351842916980607,
          11.139522817448167,
          11.965784848931193,
          12.831537256339969,
          13.73768828458483,
          14.685146178576103,
          15.67481918322407,
          16.707615543439072,
          17.78444350413143,
          18.906211310211436,
          20.073827206589435,
          21.288199438175702,
          22.550236249880577,
          23.8608458866144,
          25.220936593287426,
          26.631416614810043,
          28.093194196092497
         ],
         "yaxis": "y2"
        },
        {
         "line": {
          "color": "orange",
          "width": 4
         },
         "showlegend": false,
         "type": "scatter",
         "x": [
          -2,
          -1.9494949494949494,
          -1.898989898989899,
          -1.8484848484848484,
          -1.797979797979798,
          -1.7474747474747474,
          -1.696969696969697,
          -1.6464646464646464,
          -1.595959595959596,
          -1.5454545454545454,
          -1.4949494949494948,
          -1.4444444444444444,
          -1.393939393939394,
          -1.3434343434343434,
          -1.2929292929292928,
          -1.2424242424242424,
          -1.191919191919192,
          -1.1414141414141414,
          -1.0909090909090908,
          -1.0404040404040404,
          -0.9898989898989898,
          -0.9393939393939394,
          -0.8888888888888888,
          -0.8383838383838385,
          -0.7878787878787878,
          -0.7373737373737375,
          -0.6868686868686869,
          -0.6363636363636365,
          -0.5858585858585859,
          -0.5353535353535355,
          -0.48484848484848486,
          -0.4343434343434345,
          -0.38383838383838387,
          -0.33333333333333326,
          -0.2828282828282829,
          -0.23232323232323226,
          -0.18181818181818188,
          -0.13131313131313127,
          -0.08080808080808088,
          -0.030303030303030276,
          0.020202020202020332,
          0.0707070707070705,
          0.1212121212121211,
          0.1717171717171717,
          0.22222222222222232,
          0.2727272727272725,
          0.3232323232323231,
          0.3737373737373737,
          0.4242424242424243,
          0.4747474747474749,
          0.5252525252525251,
          0.5757575757575757,
          0.6262626262626263,
          0.6767676767676769,
          0.7272727272727271,
          0.7777777777777777,
          0.8282828282828283,
          0.8787878787878789,
          0.9292929292929291,
          0.9797979797979797,
          1.0303030303030303,
          1.0808080808080809,
          1.131313131313131,
          1.1818181818181817,
          1.2323232323232323,
          1.2828282828282829,
          1.3333333333333335,
          1.3838383838383836,
          1.4343434343434343,
          1.4848484848484849,
          1.5353535353535355,
          1.5858585858585856,
          1.6363636363636362,
          1.6868686868686869,
          1.7373737373737375,
          1.7878787878787876,
          1.8383838383838382,
          1.8888888888888888,
          1.9393939393939394,
          1.9898989898989896,
          2.0404040404040407,
          2.090909090909091,
          2.141414141414141,
          2.191919191919192,
          2.242424242424242,
          2.2929292929292933,
          2.3434343434343434,
          2.3939393939393936,
          2.4444444444444446,
          2.494949494949495,
          2.545454545454545,
          2.595959595959596,
          2.646464646464646,
          2.6969696969696972,
          2.7474747474747474,
          2.7979797979797976,
          2.8484848484848486,
          2.898989898989899,
          2.94949494949495,
          3
         ],
         "xaxis": "x3",
         "y": [
          -6.190300662874506,
          -7.708138742138544,
          -7.697141573864883,
          -4.840043405498136,
          -4.570809693295587,
          -6.482972746519181,
          -7.895502585935446,
          -7.326056983185481,
          -5.164202427210284,
          -2.7418222305179825,
          -1.2281346101176496,
          -1.0522167282706505,
          -1.9139228789783829,
          -3.1335144499660146,
          -4.051939752838052,
          -4.294428498139268,
          -3.8395384537050177,
          -2.932061271409566,
          -1.9218740266235272,
          -1.1092341407818367,
          -0.648810068209059,
          -0.5290302973280632,
          -0.6139031071975296,
          -0.7180608437090541,
          -0.6830320931915139,
          -0.4302459268349139,
          0.02107191365075778,
          0.5700525478850977,
          1.073735733571084,
          1.3948016145852762,
          1.442727594683447,
          1.1978670890146077,
          0.7141164771630883,
          0.10201519655515767,
          -0.501190928142023,
          -0.9656501494259828,
          -1.1984415228046146,
          -1.162008284753938,
          -0.8783527922494159,
          -0.41952143833395894,
          0.11203075570711007,
          0.6077449193899156,
          0.9760702131029575,
          1.1594610563006427,
          1.1422545962536788,
          0.9487789933427848,
          0.6332722056085913,
          0.26482084409462914,
          -0.08873226455830263,
          -0.37418400008527897,
          -0.560977835140875,
          -0.6426699971066228,
          -0.6323572309836436,
          -0.5539507292573944,
          -0.4319964250985322,
          -0.28284462926535525,
          -0.10938791145849791,
          0.09950118822257537,
          0.36499878102381444,
          0.7111683228786205,
          1.156720794077728,
          1.7079855444355871,
          2.354942052810202,
          3.0712413084604577,
          3.818004796406967,
          4.550156458254378,
          5.223423605646076,
          5.80013230776899,
          6.252541406558294,
          6.563526523335668,
          6.725589234480594,
          6.739988807759801,
          6.617878798135052,
          6.384470173365344,
          6.085537985346036,
          5.793506666800113,
          5.608671525255204,
          5.650760241171611,
          6.037769770101022,
          6.85307226173768,
          8.107554350709052,
          9.709394861205283,
          11.457463231446354,
          13.07238549047679,
          14.269961536917208,
          14.86486038819885,
          14.871966704225997,
          14.556355534321028,
          14.382177703899288,
          14.837521838181601,
          16.171833586414778,
          18.163447737350225,
          20.09877358380595,
          21.121594370780258,
          20.91593501017178,
          20.285162364670214,
          20.7637352054237,
          22.68031171190046,
          24.01016774068421,
          32.165762483564095
         ],
         "yaxis": "y3"
        },
        {
         "line": {
          "color": "purple",
          "width": 4
         },
         "showlegend": false,
         "type": "scatter",
         "x": [
          -2,
          -1.9494949494949494,
          -1.898989898989899,
          -1.8484848484848484,
          -1.797979797979798,
          -1.7474747474747474,
          -1.696969696969697,
          -1.6464646464646464,
          -1.595959595959596,
          -1.5454545454545454,
          -1.4949494949494948,
          -1.4444444444444444,
          -1.393939393939394,
          -1.3434343434343434,
          -1.2929292929292928,
          -1.2424242424242424,
          -1.191919191919192,
          -1.1414141414141414,
          -1.0909090909090908,
          -1.0404040404040404,
          -0.9898989898989898,
          -0.9393939393939394,
          -0.8888888888888888,
          -0.8383838383838385,
          -0.7878787878787878,
          -0.7373737373737375,
          -0.6868686868686869,
          -0.6363636363636365,
          -0.5858585858585859,
          -0.5353535353535355,
          -0.48484848484848486,
          -0.4343434343434345,
          -0.38383838383838387,
          -0.33333333333333326,
          -0.2828282828282829,
          -0.23232323232323226,
          -0.18181818181818188,
          -0.13131313131313127,
          -0.08080808080808088,
          -0.030303030303030276,
          0.020202020202020332,
          0.0707070707070705,
          0.1212121212121211,
          0.1717171717171717,
          0.22222222222222232,
          0.2727272727272725,
          0.3232323232323231,
          0.3737373737373737,
          0.4242424242424243,
          0.4747474747474749,
          0.5252525252525251,
          0.5757575757575757,
          0.6262626262626263,
          0.6767676767676769,
          0.7272727272727271,
          0.7777777777777777,
          0.8282828282828283,
          0.8787878787878789,
          0.9292929292929291,
          0.9797979797979797,
          1.0303030303030303,
          1.0808080808080809,
          1.131313131313131,
          1.1818181818181817,
          1.2323232323232323,
          1.2828282828282829,
          1.3333333333333335,
          1.3838383838383836,
          1.4343434343434343,
          1.4848484848484849,
          1.5353535353535355,
          1.5858585858585856,
          1.6363636363636362,
          1.6868686868686869,
          1.7373737373737375,
          1.7878787878787876,
          1.8383838383838382,
          1.8888888888888888,
          1.9393939393939394,
          1.9898989898989896,
          2.0404040404040407,
          2.090909090909091,
          2.141414141414141,
          2.191919191919192,
          2.242424242424242,
          2.2929292929292933,
          2.3434343434343434,
          2.3939393939393936,
          2.4444444444444446,
          2.494949494949495,
          2.545454545454545,
          2.595959595959596,
          2.646464646464646,
          2.6969696969696972,
          2.7474747474747474,
          2.7979797979797976,
          2.8484848484848486,
          2.898989898989899,
          2.94949494949495,
          3
         ],
         "xaxis": "x3",
         "y": [
          -12.043242448432181,
          -2.380505352851742,
          -10.083129860438987,
          -9.342524933693312,
          -6.330227316321611,
          -5.588815354459086,
          -6.8602589266353675,
          -8.242469336641193,
          -8.466792956694974,
          -7.414249136709145,
          -5.676991387696887,
          -3.9608075989132203,
          -2.7162484987550783,
          -2.053805145484091,
          -1.8405535257019778,
          -1.8512144490088076,
          -1.8876132847183271,
          -1.834662740228282,
          -1.6606856629558706,
          -1.3876497493979514,
          -1.0567962816452336,
          -0.7054970661891957,
          -0.3596732363109254,
          -0.03768303871561329,
          0.24194133965460196,
          0.4556964331067661,
          0.5766485180648147,
          0.5818011226666613,
          0.46191668547334075,
          0.22939166130305466,
          -0.07941867903645061,
          -0.40898767908976197,
          -0.6956387280748118,
          -0.8818995694592218,
          -0.9302496641711855,
          -0.8324779291640425,
          -0.6120807158136472,
          -0.3189937310331743,
          -0.017935497175642467,
          0.226769158754621,
          0.3661933526250891,
          0.37805274709796777,
          0.2715675332360661,
          0.08487797169965461,
          -0.12428300626663713,
          -0.2923958218003122,
          -0.3651703892311957,
          -0.31026907805653536,
          -0.12480335021035671,
          0.16409675954156455,
          0.5057319520410601,
          0.8377710689820219,
          1.1008741137453626,
          1.2525633868013983,
          1.2770549460838083,
          1.188674233453412,
          1.027962012348496,
          0.8513072106130721,
          0.7165334056788311,
          0.6679425945433195,
          0.7246080189697182,
          0.8750948449770704,
          1.0803597320588665,
          1.2846182532856574,
          1.431900679424757,
          1.4843339920641938,
          1.4373415337823872,
          1.327241179410862,
          1.2282088507684534,
          1.2380319066095353,
          1.4550097917379503,
          1.9510781491469515,
          2.7479947239627336,
          3.8036122619433854,
          5.0135623638491325,
          6.230219684228189,
          7.296247633339078,
          8.085425724152685,
          8.540146187972482,
          8.69418284801219,
          8.671845822926059,
          8.660371739350865,
          8.860236961038254,
          9.42590113895551,
          10.414603534618436,
          11.760805225216131,
          13.287566346849758,
          14.754750321231938,
          15.931354181212043,
          16.67125195389582,
          16.973190519540765,
          17.016633693001722,
          17.17421782371065,
          17.98634562111704,
          20.02011670523359,
          23.439921591104053,
          27.14970223901895,
          28.042922415739667,
          23.496815063141298,
          27.546727566888194
         ],
         "yaxis": "y3"
        }
       ],
       "layout": {
        "annotations": [
         {
          "font": {
           "size": 16
          },
          "showarrow": false,
          "text": "Degree 1",
          "x": 0.14444444444444446,
          "xanchor": "center",
          "xref": "paper",
          "y": 1,
          "yanchor": "bottom",
          "yref": "paper"
         },
         {
          "font": {
           "size": 16
          },
          "showarrow": false,
          "text": "Degree 3",
          "x": 0.5,
          "xanchor": "center",
          "xref": "paper",
          "y": 1,
          "yanchor": "bottom",
          "yref": "paper"
         },
         {
          "font": {
           "size": 16
          },
          "showarrow": false,
          "text": "Degree 25",
          "x": 0.8555555555555556,
          "xanchor": "center",
          "xref": "paper",
          "y": 1,
          "yanchor": "bottom",
          "yref": "paper"
         }
        ],
        "height": 500,
        "template": {
         "data": {
          "bar": [
           {
            "error_x": {
             "color": "rgb(36,36,36)"
            },
            "error_y": {
             "color": "rgb(36,36,36)"
            },
            "marker": {
             "line": {
              "color": "white",
              "width": 0.5
             },
             "pattern": {
              "fillmode": "overlay",
              "size": 10,
              "solidity": 0.2
             }
            },
            "type": "bar"
           }
          ],
          "barpolar": [
           {
            "marker": {
             "line": {
              "color": "white",
              "width": 0.5
             },
             "pattern": {
              "fillmode": "overlay",
              "size": 10,
              "solidity": 0.2
             }
            },
            "type": "barpolar"
           }
          ],
          "carpet": [
           {
            "aaxis": {
             "endlinecolor": "rgb(36,36,36)",
             "gridcolor": "white",
             "linecolor": "white",
             "minorgridcolor": "white",
             "startlinecolor": "rgb(36,36,36)"
            },
            "baxis": {
             "endlinecolor": "rgb(36,36,36)",
             "gridcolor": "white",
             "linecolor": "white",
             "minorgridcolor": "white",
             "startlinecolor": "rgb(36,36,36)"
            },
            "type": "carpet"
           }
          ],
          "choropleth": [
           {
            "colorbar": {
             "outlinewidth": 1,
             "tickcolor": "rgb(36,36,36)",
             "ticks": "outside"
            },
            "type": "choropleth"
           }
          ],
          "contour": [
           {
            "colorbar": {
             "outlinewidth": 1,
             "tickcolor": "rgb(36,36,36)",
             "ticks": "outside"
            },
            "colorscale": [
             [
              0,
              "#440154"
             ],
             [
              0.1111111111111111,
              "#482878"
             ],
             [
              0.2222222222222222,
              "#3e4989"
             ],
             [
              0.3333333333333333,
              "#31688e"
             ],
             [
              0.4444444444444444,
              "#26828e"
             ],
             [
              0.5555555555555556,
              "#1f9e89"
             ],
             [
              0.6666666666666666,
              "#35b779"
             ],
             [
              0.7777777777777778,
              "#6ece58"
             ],
             [
              0.8888888888888888,
              "#b5de2b"
             ],
             [
              1,
              "#fde725"
             ]
            ],
            "type": "contour"
           }
          ],
          "contourcarpet": [
           {
            "colorbar": {
             "outlinewidth": 1,
             "tickcolor": "rgb(36,36,36)",
             "ticks": "outside"
            },
            "type": "contourcarpet"
           }
          ],
          "heatmap": [
           {
            "colorbar": {
             "outlinewidth": 1,
             "tickcolor": "rgb(36,36,36)",
             "ticks": "outside"
            },
            "colorscale": [
             [
              0,
              "#440154"
             ],
             [
              0.1111111111111111,
              "#482878"
             ],
             [
              0.2222222222222222,
              "#3e4989"
             ],
             [
              0.3333333333333333,
              "#31688e"
             ],
             [
              0.4444444444444444,
              "#26828e"
             ],
             [
              0.5555555555555556,
              "#1f9e89"
             ],
             [
              0.6666666666666666,
              "#35b779"
             ],
             [
              0.7777777777777778,
              "#6ece58"
             ],
             [
              0.8888888888888888,
              "#b5de2b"
             ],
             [
              1,
              "#fde725"
             ]
            ],
            "type": "heatmap"
           }
          ],
          "heatmapgl": [
           {
            "colorbar": {
             "outlinewidth": 1,
             "tickcolor": "rgb(36,36,36)",
             "ticks": "outside"
            },
            "colorscale": [
             [
              0,
              "#440154"
             ],
             [
              0.1111111111111111,
              "#482878"
             ],
             [
              0.2222222222222222,
              "#3e4989"
             ],
             [
              0.3333333333333333,
              "#31688e"
             ],
             [
              0.4444444444444444,
              "#26828e"
             ],
             [
              0.5555555555555556,
              "#1f9e89"
             ],
             [
              0.6666666666666666,
              "#35b779"
             ],
             [
              0.7777777777777778,
              "#6ece58"
             ],
             [
              0.8888888888888888,
              "#b5de2b"
             ],
             [
              1,
              "#fde725"
             ]
            ],
            "type": "heatmapgl"
           }
          ],
          "histogram": [
           {
            "marker": {
             "line": {
              "color": "white",
              "width": 0.6
             }
            },
            "type": "histogram"
           }
          ],
          "histogram2d": [
           {
            "colorbar": {
             "outlinewidth": 1,
             "tickcolor": "rgb(36,36,36)",
             "ticks": "outside"
            },
            "colorscale": [
             [
              0,
              "#440154"
             ],
             [
              0.1111111111111111,
              "#482878"
             ],
             [
              0.2222222222222222,
              "#3e4989"
             ],
             [
              0.3333333333333333,
              "#31688e"
             ],
             [
              0.4444444444444444,
              "#26828e"
             ],
             [
              0.5555555555555556,
              "#1f9e89"
             ],
             [
              0.6666666666666666,
              "#35b779"
             ],
             [
              0.7777777777777778,
              "#6ece58"
             ],
             [
              0.8888888888888888,
              "#b5de2b"
             ],
             [
              1,
              "#fde725"
             ]
            ],
            "type": "histogram2d"
           }
          ],
          "histogram2dcontour": [
           {
            "colorbar": {
             "outlinewidth": 1,
             "tickcolor": "rgb(36,36,36)",
             "ticks": "outside"
            },
            "colorscale": [
             [
              0,
              "#440154"
             ],
             [
              0.1111111111111111,
              "#482878"
             ],
             [
              0.2222222222222222,
              "#3e4989"
             ],
             [
              0.3333333333333333,
              "#31688e"
             ],
             [
              0.4444444444444444,
              "#26828e"
             ],
             [
              0.5555555555555556,
              "#1f9e89"
             ],
             [
              0.6666666666666666,
              "#35b779"
             ],
             [
              0.7777777777777778,
              "#6ece58"
             ],
             [
              0.8888888888888888,
              "#b5de2b"
             ],
             [
              1,
              "#fde725"
             ]
            ],
            "type": "histogram2dcontour"
           }
          ],
          "mesh3d": [
           {
            "colorbar": {
             "outlinewidth": 1,
             "tickcolor": "rgb(36,36,36)",
             "ticks": "outside"
            },
            "type": "mesh3d"
           }
          ],
          "parcoords": [
           {
            "line": {
             "colorbar": {
              "outlinewidth": 1,
              "tickcolor": "rgb(36,36,36)",
              "ticks": "outside"
             }
            },
            "type": "parcoords"
           }
          ],
          "pie": [
           {
            "automargin": true,
            "type": "pie"
           }
          ],
          "scatter": [
           {
            "fillpattern": {
             "fillmode": "overlay",
             "size": 10,
             "solidity": 0.2
            },
            "type": "scatter"
           }
          ],
          "scatter3d": [
           {
            "line": {
             "colorbar": {
              "outlinewidth": 1,
              "tickcolor": "rgb(36,36,36)",
              "ticks": "outside"
             }
            },
            "marker": {
             "colorbar": {
              "outlinewidth": 1,
              "tickcolor": "rgb(36,36,36)",
              "ticks": "outside"
             }
            },
            "type": "scatter3d"
           }
          ],
          "scattercarpet": [
           {
            "marker": {
             "colorbar": {
              "outlinewidth": 1,
              "tickcolor": "rgb(36,36,36)",
              "ticks": "outside"
             }
            },
            "type": "scattercarpet"
           }
          ],
          "scattergeo": [
           {
            "marker": {
             "colorbar": {
              "outlinewidth": 1,
              "tickcolor": "rgb(36,36,36)",
              "ticks": "outside"
             }
            },
            "type": "scattergeo"
           }
          ],
          "scattergl": [
           {
            "marker": {
             "colorbar": {
              "outlinewidth": 1,
              "tickcolor": "rgb(36,36,36)",
              "ticks": "outside"
             }
            },
            "type": "scattergl"
           }
          ],
          "scattermapbox": [
           {
            "marker": {
             "colorbar": {
              "outlinewidth": 1,
              "tickcolor": "rgb(36,36,36)",
              "ticks": "outside"
             }
            },
            "type": "scattermapbox"
           }
          ],
          "scatterpolar": [
           {
            "marker": {
             "colorbar": {
              "outlinewidth": 1,
              "tickcolor": "rgb(36,36,36)",
              "ticks": "outside"
             }
            },
            "type": "scatterpolar"
           }
          ],
          "scatterpolargl": [
           {
            "marker": {
             "colorbar": {
              "outlinewidth": 1,
              "tickcolor": "rgb(36,36,36)",
              "ticks": "outside"
             }
            },
            "type": "scatterpolargl"
           }
          ],
          "scatterternary": [
           {
            "marker": {
             "colorbar": {
              "outlinewidth": 1,
              "tickcolor": "rgb(36,36,36)",
              "ticks": "outside"
             }
            },
            "type": "scatterternary"
           }
          ],
          "surface": [
           {
            "colorbar": {
             "outlinewidth": 1,
             "tickcolor": "rgb(36,36,36)",
             "ticks": "outside"
            },
            "colorscale": [
             [
              0,
              "#440154"
             ],
             [
              0.1111111111111111,
              "#482878"
             ],
             [
              0.2222222222222222,
              "#3e4989"
             ],
             [
              0.3333333333333333,
              "#31688e"
             ],
             [
              0.4444444444444444,
              "#26828e"
             ],
             [
              0.5555555555555556,
              "#1f9e89"
             ],
             [
              0.6666666666666666,
              "#35b779"
             ],
             [
              0.7777777777777778,
              "#6ece58"
             ],
             [
              0.8888888888888888,
              "#b5de2b"
             ],
             [
              1,
              "#fde725"
             ]
            ],
            "type": "surface"
           }
          ],
          "table": [
           {
            "cells": {
             "fill": {
              "color": "rgb(237,237,237)"
             },
             "line": {
              "color": "white"
             }
            },
            "header": {
             "fill": {
              "color": "rgb(217,217,217)"
             },
             "line": {
              "color": "white"
             }
            },
            "type": "table"
           }
          ]
         },
         "layout": {
          "annotationdefaults": {
           "arrowhead": 0,
           "arrowwidth": 1
          },
          "autosize": true,
          "autotypenumbers": "strict",
          "coloraxis": {
           "colorbar": {
            "outlinewidth": 1,
            "tickcolor": "rgb(36,36,36)",
            "ticks": "outside"
           }
          },
          "colorscale": {
           "diverging": [
            [
             0,
             "rgb(103,0,31)"
            ],
            [
             0.1,
             "rgb(178,24,43)"
            ],
            [
             0.2,
             "rgb(214,96,77)"
            ],
            [
             0.3,
             "rgb(244,165,130)"
            ],
            [
             0.4,
             "rgb(253,219,199)"
            ],
            [
             0.5,
             "rgb(247,247,247)"
            ],
            [
             0.6,
             "rgb(209,229,240)"
            ],
            [
             0.7,
             "rgb(146,197,222)"
            ],
            [
             0.8,
             "rgb(67,147,195)"
            ],
            [
             0.9,
             "rgb(33,102,172)"
            ],
            [
             1,
             "rgb(5,48,97)"
            ]
           ],
           "sequential": [
            [
             0,
             "#440154"
            ],
            [
             0.1111111111111111,
             "#482878"
            ],
            [
             0.2222222222222222,
             "#3e4989"
            ],
            [
             0.3333333333333333,
             "#31688e"
            ],
            [
             0.4444444444444444,
             "#26828e"
            ],
            [
             0.5555555555555556,
             "#1f9e89"
            ],
            [
             0.6666666666666666,
             "#35b779"
            ],
            [
             0.7777777777777778,
             "#6ece58"
            ],
            [
             0.8888888888888888,
             "#b5de2b"
            ],
            [
             1,
             "#fde725"
            ]
           ],
           "sequentialminus": [
            [
             0,
             "#440154"
            ],
            [
             0.1111111111111111,
             "#482878"
            ],
            [
             0.2222222222222222,
             "#3e4989"
            ],
            [
             0.3333333333333333,
             "#31688e"
            ],
            [
             0.4444444444444444,
             "#26828e"
            ],
            [
             0.5555555555555556,
             "#1f9e89"
            ],
            [
             0.6666666666666666,
             "#35b779"
            ],
            [
             0.7777777777777778,
             "#6ece58"
            ],
            [
             0.8888888888888888,
             "#b5de2b"
            ],
            [
             1,
             "#fde725"
            ]
           ]
          },
          "colorway": [
           "#1F77B4",
           "#FF7F0E",
           "#2CA02C",
           "#D62728",
           "#9467BD",
           "#8C564B",
           "#E377C2",
           "#7F7F7F",
           "#BCBD22",
           "#17BECF"
          ],
          "font": {
           "color": "rgb(36,36,36)"
          },
          "geo": {
           "bgcolor": "white",
           "lakecolor": "white",
           "landcolor": "white",
           "showlakes": true,
           "showland": true,
           "subunitcolor": "white"
          },
          "height": 400,
          "hoverlabel": {
           "align": "left"
          },
          "hovermode": "closest",
          "mapbox": {
           "style": "light"
          },
          "margin": {
           "b": 30,
           "l": 30,
           "r": 30,
           "t": 30
          },
          "paper_bgcolor": "white",
          "plot_bgcolor": "white",
          "polar": {
           "angularaxis": {
            "gridcolor": "rgb(232,232,232)",
            "linecolor": "rgb(36,36,36)",
            "showgrid": false,
            "showline": true,
            "ticks": "outside"
           },
           "bgcolor": "white",
           "radialaxis": {
            "gridcolor": "rgb(232,232,232)",
            "linecolor": "rgb(36,36,36)",
            "showgrid": false,
            "showline": true,
            "ticks": "outside"
           }
          },
          "scene": {
           "xaxis": {
            "backgroundcolor": "white",
            "gridcolor": "rgb(232,232,232)",
            "gridwidth": 2,
            "linecolor": "rgb(36,36,36)",
            "showbackground": true,
            "showgrid": false,
            "showline": true,
            "ticks": "outside",
            "zeroline": false,
            "zerolinecolor": "rgb(36,36,36)"
           },
           "yaxis": {
            "backgroundcolor": "white",
            "gridcolor": "rgb(232,232,232)",
            "gridwidth": 2,
            "linecolor": "rgb(36,36,36)",
            "showbackground": true,
            "showgrid": false,
            "showline": true,
            "ticks": "outside",
            "zeroline": false,
            "zerolinecolor": "rgb(36,36,36)"
           },
           "zaxis": {
            "backgroundcolor": "white",
            "gridcolor": "rgb(232,232,232)",
            "gridwidth": 2,
            "linecolor": "rgb(36,36,36)",
            "showbackground": true,
            "showgrid": false,
            "showline": true,
            "ticks": "outside",
            "zeroline": false,
            "zerolinecolor": "rgb(36,36,36)"
           }
          },
          "shapedefaults": {
           "fillcolor": "black",
           "line": {
            "width": 0
           },
           "opacity": 0.3
          },
          "ternary": {
           "aaxis": {
            "gridcolor": "rgb(232,232,232)",
            "linecolor": "rgb(36,36,36)",
            "showgrid": false,
            "showline": true,
            "ticks": "outside"
           },
           "baxis": {
            "gridcolor": "rgb(232,232,232)",
            "linecolor": "rgb(36,36,36)",
            "showgrid": false,
            "showline": true,
            "ticks": "outside"
           },
           "bgcolor": "white",
           "caxis": {
            "gridcolor": "rgb(232,232,232)",
            "linecolor": "rgb(36,36,36)",
            "showgrid": false,
            "showline": true,
            "ticks": "outside"
           }
          },
          "title": {
           "x": 0.5,
           "xanchor": "center"
          },
          "width": 600,
          "xaxis": {
           "automargin": true,
           "gridcolor": "rgb(232,232,232)",
           "linecolor": "rgb(36,36,36)",
           "showgrid": true,
           "showline": true,
           "ticks": "outside",
           "title": {
            "standoff": 15
           },
           "zeroline": false,
           "zerolinecolor": "rgb(36,36,36)"
          },
          "yaxis": {
           "automargin": true,
           "gridcolor": "rgb(232,232,232)",
           "linecolor": "rgb(36,36,36)",
           "showgrid": true,
           "showline": true,
           "ticks": "outside",
           "title": {
            "standoff": 15
           },
           "zeroline": false,
           "zerolinecolor": "rgb(36,36,36)"
          }
         }
        },
        "width": 950,
        "xaxis": {
         "anchor": "y",
         "domain": [
          0,
          0.2888888888888889
         ]
        },
        "xaxis2": {
         "anchor": "y2",
         "domain": [
          0.35555555555555557,
          0.6444444444444445
         ]
        },
        "xaxis3": {
         "anchor": "y3",
         "domain": [
          0.7111111111111111,
          1
         ]
        },
        "yaxis": {
         "anchor": "x",
         "domain": [
          0,
          1
         ]
        },
        "yaxis2": {
         "anchor": "x2",
         "domain": [
          0,
          1
         ]
        },
        "yaxis3": {
         "anchor": "x3",
         "domain": [
          0,
          1
         ]
        }
       }
      }
     },
     "metadata": {},
     "output_type": "display_data"
    }
   ],
   "source": [
    "util.plot_multiple_models(sample_1, sample_2, degs=[1, 3, 25])"
   ]
  },
  {
   "cell_type": "markdown",
   "id": "ddf79081",
   "metadata": {
    "deletable": true,
    "editable": true,
    "slideshow": {
     "slide_type": "fragment"
    }
   },
   "source": [
    "- **Key idea**: Degree 25 polynomials seem to **vary more when trained on different samples** than degree 3 and 1 polynomials do."
   ]
  },
  {
   "cell_type": "markdown",
   "id": "1f5d18d8",
   "metadata": {
    "deletable": true,
    "editable": true,
    "slideshow": {
     "slide_type": "slide"
    }
   },
   "source": [
    "### Bias and variance"
   ]
  },
  {
   "cell_type": "markdown",
   "id": "b97373e4",
   "metadata": {
    "deletable": true,
    "editable": true,
    "slideshow": {
     "slide_type": "fragment"
    }
   },
   "source": [
    "- The training data we have access to is a sample from the population. We are concerned with our model's ability to **generalize** and work well on **different datasets** drawn from the same population."
   ]
  },
  {
   "cell_type": "markdown",
   "id": "e48b4386",
   "metadata": {
    "deletable": true,
    "editable": true,
    "slideshow": {
     "slide_type": "fragment"
    }
   },
   "source": [
    "- Suppose we **fit** a model $H^*$ (e.g. a degree 3 polynomial) on **several different datasets** from a population. There are three sources of error that arise."
   ]
  },
  {
   "cell_type": "markdown",
   "id": "4da9f472",
   "metadata": {
    "deletable": true,
    "editable": true,
    "slideshow": {
     "slide_type": "fragment"
    }
   },
   "source": [
    "1. **Bias**: **The expected deviation between a predicted value and an actual value**.<br><small>In other words, **for a given $x_i$, how far is $H^*(x_i)$ from the true $y_i$, on average?**\n",
    "    - Low bias is good! ✅\n",
    "    - High bias is a sign of **underfitting**, i.e. that our model is too **basic** to capture the relationship between our features and response.</small>"
   ]
  },
  {
   "cell_type": "markdown",
   "id": "37f2179e",
   "metadata": {
    "deletable": true,
    "editable": true,
    "slideshow": {
     "slide_type": "fragment"
    }
   },
   "source": [
    "2. **Model variance (\"variance\")**: **The variance of a model's predictions**.<br><small>In other words, **for a given $x_i$, how much does $H^*(x_i)$ vary across all datasets**?\n",
    "    - Low model variance is good! ✅\n",
    "    - High model variance is a sign of **overfitting**, i.e. that our model is too **complicated** and is prone to fitting to the noise in our training data.</small>"
   ]
  },
  {
   "cell_type": "markdown",
   "id": "9190faa6",
   "metadata": {
    "deletable": true,
    "editable": true,
    "slideshow": {
     "slide_type": "fragment"
    }
   },
   "source": [
    "3. **Observation error**: The error due to the random noise in the process we are trying to model (e.g. measurement error).<br><small>We can't reduce this without collecting more data!</small>"
   ]
  },
  {
   "cell_type": "markdown",
   "id": "7c6b1e3b",
   "metadata": {
    "deletable": true,
    "editable": true,
    "slideshow": {
     "slide_type": "slide"
    }
   },
   "source": [
    "<center><img src=\"imgs/image_5.png\" width=\"600\"></center>"
   ]
  },
  {
   "cell_type": "markdown",
   "id": "4399fc84",
   "metadata": {
    "deletable": true,
    "editable": true,
    "slideshow": {
     "slide_type": "fragment"
    }
   },
   "source": [
    "- Here, suppose:\n",
    "    - The <span style='color:#c6283f'><b>red bulls-eye</b></span> represents your **true weight and height** 🧍.\n",
    "    - The <span style='color:#080c6f'><b>dark blue darts</b></span> represent **predictions of your weight and height** using different models that were fit using different samples drawn from the same population. \n"
   ]
  },
  {
   "cell_type": "markdown",
   "id": "9d70296a",
   "metadata": {
    "deletable": true,
    "editable": true,
    "slideshow": {
     "slide_type": "fragment"
    }
   },
   "source": [
    "- We'd like our models to be in the top left, but in practice that's hard to achieve!"
   ]
  },
  {
   "cell_type": "markdown",
   "id": "f84f9153",
   "metadata": {
    "deletable": true,
    "editable": true,
    "slideshow": {
     "slide_type": "slide"
    }
   },
   "source": [
    "### Risk vs. empirical risk"
   ]
  },
  {
   "cell_type": "markdown",
   "id": "fb8189d5",
   "metadata": {
    "deletable": true,
    "editable": true,
    "slideshow": {
     "slide_type": "fragment"
    }
   },
   "source": [
    "- Since Lecture 14, we've minimized **empirical risk** to find optimal model parameters $\\vec{w}^*$:\n",
    "\n",
    "$$\n",
    "\\text{choose the $\\vec{w}$ such that } \\frac{1}{n} \\sum_{i = 1}^n \\left( y_i - H(x_i) \\right)^2 \\text{ is minimized}$$\n",
    "\n",
    "<center>or, equivalently:</center>\n",
    "\n",
    "$$\\vec{w}^* = \\underset{\\vec{w}}{\\text{argmin}} \\frac{1}{n} \\sum_{i = 1}^n \\left( y_i - H(x_i) \\right)^2$$"
   ]
  },
  {
   "cell_type": "markdown",
   "id": "5a72c3b6",
   "metadata": {
    "deletable": true,
    "editable": true,
    "slideshow": {
     "slide_type": "fragment"
    }
   },
   "source": [
    "- **Key idea**: A model that works well on past data should work well on future data, if future data looks like past data."
   ]
  },
  {
   "cell_type": "markdown",
   "id": "be7ca1d9",
   "metadata": {
    "deletable": true,
    "editable": true,
    "slideshow": {
     "slide_type": "fragment"
    }
   },
   "source": [
    "- What we really want is for the **expected loss for a new data point $(x_{\\text{new}}, y_{\\text{new}})$, drawn from the same population as the training set, to be small**. That is, we want\n",
    "    $$\\mathbb{E}[y_{\\text{new}} - H(x_{\\text{new}})]^2$$\n",
    "    to be minimized. The quantity above is called **risk**."
   ]
  },
  {
   "cell_type": "markdown",
   "id": "aeace0b8",
   "metadata": {
    "deletable": true,
    "editable": true,
    "slideshow": {
     "slide_type": "fragment"
    }
   },
   "source": [
    "- What's that fancy $\\mathbb{E}$? It is the **expectation** operator of a random variable: it computes the **average value** of the random variable across its entire distribution.<br><small>For example, if $X \\sim \\text{Binomial}(n, p)$, then $\\mathbb{E}[X] = np$.<br>Here, the expectation is being computed across the entire population distribution of $(x_i, y_i)$ pairs.</small>"
   ]
  },
  {
   "cell_type": "markdown",
   "id": "23aba911",
   "metadata": {
    "deletable": true,
    "editable": true,
    "slideshow": {
     "slide_type": "fragment"
    }
   },
   "source": [
    "- In general, we don't know the entire population distribution of $x$s and $y$s, so we can't compute risk exactly. That's why we compute **empirical risk**!\n",
    "\n",
    "$$\\mathbb{E}[y_{\\text{new}} - H(x_{\\text{new}})]^2 \\approx \\frac{1}{n} \\sum_{i = 1}^n \\left( y_i - H(x_i) \\right)^2$$"
   ]
  },
  {
   "cell_type": "markdown",
   "id": "9e6abc10",
   "metadata": {
    "deletable": true,
    "editable": true,
    "slideshow": {
     "slide_type": "slide"
    }
   },
   "source": [
    "### The bias-variance decomposition"
   ]
  },
  {
   "cell_type": "markdown",
   "id": "3cc0679a",
   "metadata": {
    "deletable": true,
    "editable": true,
    "slideshow": {
     "slide_type": "fragment"
    }
   },
   "source": [
    "- Risk can be decomposed as follows:<br><small>Remember, this expectation $\\mathbb{E}$ is over the entire population of $x$s and $y$s. In real life, we don't know what this population distribution is, so we can't put actual numbers to this.</small>\n",
    "\n",
    "$$\\mathbb{E}[y_{\\text{new}} - H(x_{\\text{new}})]^2 = \\text{model bias}^2 + \\text{model variance} + \\text{observation error}$$"
   ]
  },
  {
   "cell_type": "markdown",
   "id": "b183d60b",
   "metadata": {
    "deletable": true,
    "editable": true,
    "slideshow": {
     "slide_type": "fragment"
    }
   },
   "source": [
    "- **Key takeaway**: If we care about minimizing (empirical) risk, we can equivalently try to minimize both model bias and model variance."
   ]
  },
  {
   "cell_type": "markdown",
   "id": "a047208e",
   "metadata": {
    "deletable": true,
    "editable": true,
    "slideshow": {
     "slide_type": "fragment"
    }
   },
   "source": [
    "- If $H$ is too simple to capture the relationship between $x$s and $y$s in the population, $H$ will **underfit** to training sets and have **high bias**."
   ]
  },
  {
   "cell_type": "markdown",
   "id": "cfc8a0fd",
   "metadata": {
    "deletable": true,
    "editable": true,
    "slideshow": {
     "slide_type": "fragment"
    }
   },
   "source": [
    "- If $H$ is overly complex, $H$ will **overfit** to training sets and have **high variance**, meaning it will change significantly from one training set to the next."
   ]
  },
  {
   "cell_type": "markdown",
   "id": "570a1aee",
   "metadata": {
    "deletable": true,
    "editable": true,
    "slideshow": {
     "slide_type": "fragment"
    }
   },
   "source": [
    "- We won't cover the proof of the decomposition here – read [**this**](https://learningds.org/ch/17/inf_pred_gen_prob.html#probability-behind-model-selection) for more – but note that in Homework 7, you proved a related formula for $R_\\text{sq}(h)$:\n",
    "\n",
    "$$R_\\text{sq}(h) = \\frac{1}{n} \\sum_{i = 1}^n (y_i - h)^2 = \\underbrace{\\frac{1}{n} \\sum_{i = 1}^n (y_i - \\bar{y})^2}_{\\text{variance of } y} + (\\bar{y} - h)^2$$"
   ]
  },
  {
   "cell_type": "markdown",
   "id": "4ed914ad",
   "metadata": {
    "deletable": true,
    "editable": true,
    "slideshow": {
     "slide_type": "slide"
    }
   },
   "source": [
    "### The bias-variance tradeoff"
   ]
  },
  {
   "cell_type": "markdown",
   "id": "a5217290",
   "metadata": {
    "deletable": true,
    "editable": true,
    "slideshow": {
     "slide_type": "fragment"
    }
   },
   "source": [
    "- As model variance increases, model bias tends to decrease, and vice versa."
   ]
  },
  {
   "cell_type": "markdown",
   "id": "d0acad0f",
   "metadata": {
    "deletable": true,
    "editable": true,
    "slideshow": {
     "slide_type": "fragment"
    }
   },
   "source": [
    "- The graph below shows, conceptually, this **tradeoff**:"
   ]
  },
  {
   "cell_type": "markdown",
   "id": "04c7d212",
   "metadata": {
    "deletable": true,
    "editable": true,
    "slideshow": {
     "slide_type": "-"
    }
   },
   "source": [
    "<center><img src=\"imgs/bv-decomp.svg\" width=800></center>"
   ]
  },
  {
   "cell_type": "markdown",
   "id": "843e42d6",
   "metadata": {
    "deletable": true,
    "editable": true,
    "slideshow": {
     "slide_type": "skip"
    }
   },
   "source": [
    "<div class=\"alert alert-danger\">\n",
    "    \n",
    "#### Reference Slide\n",
    "\n",
    "### Navigating the bias-variance tradeoff\n",
    "\n",
    "    \n",
    "</div>"
   ]
  },
  {
   "cell_type": "markdown",
   "id": "a9691bc9",
   "metadata": {
    "deletable": true,
    "editable": true,
    "slideshow": {
     "slide_type": "skip"
    }
   },
   "source": [
    "$$\\mathbb{E}[y_{\\text{new}} - H(x_{\\text{new}})]^2 = \\text{model bias}^2 + \\text{model variance} + \\text{observation error}$$"
   ]
  },
  {
   "cell_type": "markdown",
   "id": "59935fcb",
   "metadata": {
    "deletable": true,
    "editable": true,
    "slideshow": {
     "slide_type": "skip"
    }
   },
   "source": [
    "- As we collect more data points (i.e. as $n \\uparrow$):\n",
    "    - Model variance decreases.\n",
    "    - If $H$ can exactly model the true population relationship between $x$ and $y$ (e.g. cubic), then model bias also decreases.\n",
    "    - If $H$ can't exactly model the true population relationship between $x$ and $y$, then model bias will remain large."
   ]
  },
  {
   "cell_type": "markdown",
   "id": "43d905ce",
   "metadata": {
    "deletable": true,
    "editable": true,
    "slideshow": {
     "slide_type": "skip"
    }
   },
   "source": [
    "- As we add more features (i.e. as $d \\uparrow$):\n",
    "    - Model variance increases, whether or not the feature was useful.\n",
    "    - Adding a useful feature decreases model bias.\n",
    "    - Adding a useless feature doesn't change model bias."
   ]
  },
  {
   "cell_type": "markdown",
   "id": "3e0846d9",
   "metadata": {
    "deletable": true,
    "editable": true,
    "slideshow": {
     "slide_type": "skip"
    }
   },
   "source": [
    "- Example: Suppose the actual relationship between $x$ and $y$ in the population is linear, and we fit $H$ using simple linear regression.\n",
    "    - Model bias = 0.\n",
    "    - Model variance $\\propto \\frac{d}{n}$.\n",
    "        - As $d \\uparrow$, model variance $\\uparrow$.\n",
    "        - As $n \\uparrow$, model variance $\\downarrow$."
   ]
  },
  {
   "cell_type": "markdown",
   "id": "04e3df88",
   "metadata": {
    "deletable": true,
    "editable": true,
    "slideshow": {
     "slide_type": "slide"
    }
   },
   "source": [
    "<div class=\"alert alert-success\">\n",
    "<h3>Activity</h3>\n",
    "\n",
    "Determine how each change below affects model bias and variance compared to this model:\n",
    "\n",
    "<center><img src='imgs/hx.png' width=50%></center>\n",
    "\n",
    "For each change, choose all of the following that apply: **increase bias, decrease bias, increase variance, decrease variance.**\n",
    "\n",
    "1. Add degree 3 polynomial features.\n",
    "1. Add a feature of numbers chosen at random between 0 and 1.\n",
    "1. Collect 100 more points for the training set.\n",
    "1. Don’t use the `'veg'` feature.\n",
    "    \n",
    "</div>"
   ]
  },
  {
   "cell_type": "markdown",
   "id": "3874f550",
   "metadata": {
    "deletable": true,
    "editable": true,
    "slideshow": {
     "slide_type": "slide"
    }
   },
   "source": [
    "## Train-test splits\n",
    "\n",
    "---"
   ]
  },
  {
   "cell_type": "markdown",
   "id": "7ba3cca7",
   "metadata": {
    "deletable": true,
    "editable": true,
    "slideshow": {
     "slide_type": "slide"
    }
   },
   "source": [
    "### Avoiding overfitting"
   ]
  },
  {
   "cell_type": "markdown",
   "id": "5b426cfe",
   "metadata": {
    "deletable": true,
    "editable": true,
    "slideshow": {
     "slide_type": "fragment"
    }
   },
   "source": [
    "- We won't know whether our model has **overfit** to our sample (training data) unless we get to see how well it performs on a new sample from the same population."
   ]
  },
  {
   "cell_type": "markdown",
   "id": "2d84e8be",
   "metadata": {
    "deletable": true,
    "editable": true,
    "slideshow": {
     "slide_type": "fragment"
    }
   },
   "source": [
    "- 💡**Idea**: **Split** our sample into a **training set** and **test set**."
   ]
  },
  {
   "cell_type": "markdown",
   "id": "638d5195",
   "metadata": {
    "deletable": true,
    "editable": true,
    "slideshow": {
     "slide_type": "fragment"
    }
   },
   "source": [
    "- Use **only** the training set to fit the model (i.e. find $\\vec{w}^*$)."
   ]
  },
  {
   "cell_type": "markdown",
   "id": "f0ae9b95",
   "metadata": {
    "deletable": true,
    "editable": true,
    "slideshow": {
     "slide_type": "fragment"
    }
   },
   "source": [
    "- Use the test set to evaluate the model's error (MSE, $R^2$)."
   ]
  },
  {
   "cell_type": "markdown",
   "id": "2b20f911",
   "metadata": {
    "deletable": true,
    "editable": true,
    "slideshow": {
     "slide_type": "fragment"
    }
   },
   "source": [
    "- The test set is like a new sample of data from the same population as the training data!"
   ]
  },
  {
   "cell_type": "markdown",
   "id": "650136ad",
   "metadata": {
    "deletable": true,
    "editable": true,
    "slideshow": {
     "slide_type": "fragment"
    }
   },
   "source": [
    "- Generally:\n",
    "    - Training error reflects bias, **not variance**.\n",
    "    - Test error reflects **both bias and variance**, so we need to compute it to understand the true error of our model."
   ]
  },
  {
   "cell_type": "markdown",
   "id": "85f75988",
   "metadata": {
    "deletable": true,
    "editable": true,
    "slideshow": {
     "slide_type": "slide"
    }
   },
   "source": [
    "<center><img src=\"imgs/train-test.png\" width='50%'></center>"
   ]
  },
  {
   "cell_type": "markdown",
   "id": "4c57bb1a",
   "metadata": {
    "deletable": true,
    "editable": true,
    "slideshow": {
     "slide_type": "slide"
    }
   },
   "source": [
    "### Train-test split 🚆"
   ]
  },
  {
   "cell_type": "markdown",
   "id": "836a9a2f",
   "metadata": {
    "deletable": true,
    "editable": true,
    "slideshow": {
     "slide_type": "fragment"
    }
   },
   "source": [
    "- `sklearn.model_selection.train_test_split` implements a train-test split for us! 🙏🏼 "
   ]
  },
  {
   "cell_type": "markdown",
   "id": "abd7c991",
   "metadata": {
    "deletable": true,
    "editable": true,
    "slideshow": {
     "slide_type": "fragment"
    }
   },
   "source": [
    "- If `X` is an array/DataFrame of features and `y` is an array/Series of responses,\n",
    "    ```py\n",
    "        X_train, X_test, y_train, y_test = train_test_split(X, y, test_size=0.25)\n",
    "    ```\n",
    "    randomly splits the features and responses into training and test sets, such that the test set contains 0.25 of the full dataset."
   ]
  },
  {
   "cell_type": "code",
   "execution_count": 35,
   "id": "65eda6bd",
   "metadata": {
    "deletable": true,
    "editable": true,
    "slideshow": {
     "slide_type": "fragment"
    }
   },
   "outputs": [],
   "source": [
    "from sklearn.model_selection import train_test_split"
   ]
  },
  {
   "cell_type": "code",
   "execution_count": 36,
   "id": "f3943ace",
   "metadata": {
    "deletable": true,
    "editable": true
   },
   "outputs": [
    {
     "name": "stdout",
     "output_type": "stream",
     "text": [
      "\u001b[0;31mSignature:\u001b[0m\n",
      "\u001b[0mtrain_test_split\u001b[0m\u001b[0;34m(\u001b[0m\u001b[0;34m\u001b[0m\n",
      "\u001b[0;34m\u001b[0m    \u001b[0;34m*\u001b[0m\u001b[0marrays\u001b[0m\u001b[0;34m,\u001b[0m\u001b[0;34m\u001b[0m\n",
      "\u001b[0;34m\u001b[0m    \u001b[0mtest_size\u001b[0m\u001b[0;34m=\u001b[0m\u001b[0;32mNone\u001b[0m\u001b[0;34m,\u001b[0m\u001b[0;34m\u001b[0m\n",
      "\u001b[0;34m\u001b[0m    \u001b[0mtrain_size\u001b[0m\u001b[0;34m=\u001b[0m\u001b[0;32mNone\u001b[0m\u001b[0;34m,\u001b[0m\u001b[0;34m\u001b[0m\n",
      "\u001b[0;34m\u001b[0m    \u001b[0mrandom_state\u001b[0m\u001b[0;34m=\u001b[0m\u001b[0;32mNone\u001b[0m\u001b[0;34m,\u001b[0m\u001b[0;34m\u001b[0m\n",
      "\u001b[0;34m\u001b[0m    \u001b[0mshuffle\u001b[0m\u001b[0;34m=\u001b[0m\u001b[0;32mTrue\u001b[0m\u001b[0;34m,\u001b[0m\u001b[0;34m\u001b[0m\n",
      "\u001b[0;34m\u001b[0m    \u001b[0mstratify\u001b[0m\u001b[0;34m=\u001b[0m\u001b[0;32mNone\u001b[0m\u001b[0;34m,\u001b[0m\u001b[0;34m\u001b[0m\n",
      "\u001b[0;34m\u001b[0m\u001b[0;34m)\u001b[0m\u001b[0;34m\u001b[0m\u001b[0;34m\u001b[0m\u001b[0m\n",
      "\u001b[0;31mDocstring:\u001b[0m\n",
      "Split arrays or matrices into random train and test subsets.\n",
      "\n",
      "Quick utility that wraps input validation,\n",
      "``next(ShuffleSplit().split(X, y))``, and application to input data\n",
      "into a single call for splitting (and optionally subsampling) data into a\n",
      "one-liner.\n",
      "\n",
      "Read more in the :ref:`User Guide <cross_validation>`.\n",
      "\n",
      "Parameters\n",
      "----------\n",
      "*arrays : sequence of indexables with same length / shape[0]\n",
      "    Allowed inputs are lists, numpy arrays, scipy-sparse\n",
      "    matrices or pandas dataframes.\n",
      "\n",
      "test_size : float or int, default=None\n",
      "    If float, should be between 0.0 and 1.0 and represent the proportion\n",
      "    of the dataset to include in the test split. If int, represents the\n",
      "    absolute number of test samples. If None, the value is set to the\n",
      "    complement of the train size. If ``train_size`` is also None, it will\n",
      "    be set to 0.25.\n",
      "\n",
      "train_size : float or int, default=None\n",
      "    If float, should be between 0.0 and 1.0 and represent the\n",
      "    proportion of the dataset to include in the train split. If\n",
      "    int, represents the absolute number of train samples. If None,\n",
      "    the value is automatically set to the complement of the test size.\n",
      "\n",
      "random_state : int, RandomState instance or None, default=None\n",
      "    Controls the shuffling applied to the data before applying the split.\n",
      "    Pass an int for reproducible output across multiple function calls.\n",
      "    See :term:`Glossary <random_state>`.\n",
      "\n",
      "shuffle : bool, default=True\n",
      "    Whether or not to shuffle the data before splitting. If shuffle=False\n",
      "    then stratify must be None.\n",
      "\n",
      "stratify : array-like, default=None\n",
      "    If not None, data is split in a stratified fashion, using this as\n",
      "    the class labels.\n",
      "    Read more in the :ref:`User Guide <stratification>`.\n",
      "\n",
      "Returns\n",
      "-------\n",
      "splitting : list, length=2 * len(arrays)\n",
      "    List containing train-test split of inputs.\n",
      "\n",
      "    .. versionadded:: 0.16\n",
      "        If the input is sparse, the output will be a\n",
      "        ``scipy.sparse.csr_matrix``. Else, output type is the same as the\n",
      "        input type.\n",
      "\n",
      "Examples\n",
      "--------\n",
      ">>> import numpy as np\n",
      ">>> from sklearn.model_selection import train_test_split\n",
      ">>> X, y = np.arange(10).reshape((5, 2)), range(5)\n",
      ">>> X\n",
      "array([[0, 1],\n",
      "       [2, 3],\n",
      "       [4, 5],\n",
      "       [6, 7],\n",
      "       [8, 9]])\n",
      ">>> list(y)\n",
      "[0, 1, 2, 3, 4]\n",
      "\n",
      ">>> X_train, X_test, y_train, y_test = train_test_split(\n",
      "...     X, y, test_size=0.33, random_state=42)\n",
      "...\n",
      ">>> X_train\n",
      "array([[4, 5],\n",
      "       [0, 1],\n",
      "       [6, 7]])\n",
      ">>> y_train\n",
      "[2, 0, 3]\n",
      ">>> X_test\n",
      "array([[2, 3],\n",
      "       [8, 9]])\n",
      ">>> y_test\n",
      "[1, 4]\n",
      "\n",
      ">>> train_test_split(y, shuffle=False)\n",
      "[[0, 1, 2], [3, 4]]\n",
      "\u001b[0;31mFile:\u001b[0m      ~/anaconda3/envs/pds/lib/python3.10/site-packages/sklearn/model_selection/_split.py\n",
      "\u001b[0;31mType:\u001b[0m      function"
     ]
    }
   ],
   "source": [
    "# Read the documentation!\n",
    "train_test_split?"
   ]
  },
  {
   "cell_type": "markdown",
   "id": "dd803024",
   "metadata": {
    "deletable": true,
    "editable": true,
    "slideshow": {
     "slide_type": "fragment"
    }
   },
   "source": [
    "- Let's perform a train/test split on `sample_1`, for illustration."
   ]
  },
  {
   "cell_type": "code",
   "execution_count": 37,
   "id": "3b8973b4",
   "metadata": {
    "deletable": true,
    "editable": true
   },
   "outputs": [
    {
     "data": {
      "text/html": [
       "<div>\n",
       "<style scoped>\n",
       "    .dataframe tbody tr th:only-of-type {\n",
       "        vertical-align: middle;\n",
       "    }\n",
       "\n",
       "    .dataframe tbody tr th {\n",
       "        vertical-align: top;\n",
       "    }\n",
       "\n",
       "    .dataframe thead th {\n",
       "        text-align: right;\n",
       "    }\n",
       "</style>\n",
       "<table border=\"1\" class=\"dataframe\">\n",
       "  <thead>\n",
       "    <tr style=\"text-align: right;\">\n",
       "      <th></th>\n",
       "      <th>x</th>\n",
       "      <th>y</th>\n",
       "    </tr>\n",
       "  </thead>\n",
       "  <tbody>\n",
       "    <tr>\n",
       "      <th>0</th>\n",
       "      <td>-2.00</td>\n",
       "      <td>-6.00</td>\n",
       "    </tr>\n",
       "    <tr>\n",
       "      <th>1</th>\n",
       "      <td>-1.95</td>\n",
       "      <td>-7.33</td>\n",
       "    </tr>\n",
       "    <tr>\n",
       "      <th>2</th>\n",
       "      <td>-1.90</td>\n",
       "      <td>-9.18</td>\n",
       "    </tr>\n",
       "    <tr>\n",
       "      <th>...</th>\n",
       "      <td>...</td>\n",
       "      <td>...</td>\n",
       "    </tr>\n",
       "    <tr>\n",
       "      <th>97</th>\n",
       "      <td>2.90</td>\n",
       "      <td>25.75</td>\n",
       "    </tr>\n",
       "    <tr>\n",
       "      <th>98</th>\n",
       "      <td>2.95</td>\n",
       "      <td>22.40</td>\n",
       "    </tr>\n",
       "    <tr>\n",
       "      <th>99</th>\n",
       "      <td>3.00</td>\n",
       "      <td>32.47</td>\n",
       "    </tr>\n",
       "  </tbody>\n",
       "</table>\n",
       "<p>100 rows × 2 columns</p>\n",
       "</div>"
      ],
      "text/plain": [
       "       x      y\n",
       "0  -2.00  -6.00\n",
       "1  -1.95  -7.33\n",
       "2  -1.90  -9.18\n",
       "..   ...    ...\n",
       "97  2.90  25.75\n",
       "98  2.95  22.40\n",
       "99  3.00  32.47\n",
       "\n",
       "[100 rows x 2 columns]"
      ]
     },
     "execution_count": 37,
     "metadata": {},
     "output_type": "execute_result"
    }
   ],
   "source": [
    "sample_1"
   ]
  },
  {
   "cell_type": "code",
   "execution_count": 38,
   "id": "86e52c4f",
   "metadata": {
    "deletable": true,
    "editable": true
   },
   "outputs": [],
   "source": [
    "X = sample_1[['x']] # DataFrame. \n",
    "y = sample_1['y'] # Series. \n",
    "# We don't have to choose 0.25.\n",
    "# We also don't have to set a random_state;\n",
    "# we've done this so that we get the same results in lecture every time.\n",
    "X_train, X_test, y_train, y_test = train_test_split(X, y, test_size=0.2, random_state=23) "
   ]
  },
  {
   "cell_type": "markdown",
   "id": "d502ada4",
   "metadata": {
    "deletable": true,
    "editable": true,
    "slideshow": {
     "slide_type": "fragment"
    }
   },
   "source": [
    "- Before proceeding, let's check the sizes of `X_train` and `X_test`."
   ]
  },
  {
   "cell_type": "code",
   "execution_count": 39,
   "id": "1d200bf4",
   "metadata": {
    "deletable": true,
    "editable": true
   },
   "outputs": [
    {
     "name": "stdout",
     "output_type": "stream",
     "text": [
      "Rows in X_train: 80\n"
     ]
    },
    {
     "data": {
      "text/html": [
       "<div>\n",
       "<style scoped>\n",
       "    .dataframe tbody tr th:only-of-type {\n",
       "        vertical-align: middle;\n",
       "    }\n",
       "\n",
       "    .dataframe tbody tr th {\n",
       "        vertical-align: top;\n",
       "    }\n",
       "\n",
       "    .dataframe thead th {\n",
       "        text-align: right;\n",
       "    }\n",
       "</style>\n",
       "<table border=\"1\" class=\"dataframe\">\n",
       "  <thead>\n",
       "    <tr style=\"text-align: right;\">\n",
       "      <th></th>\n",
       "      <th>x</th>\n",
       "    </tr>\n",
       "  </thead>\n",
       "  <tbody>\n",
       "    <tr>\n",
       "      <th>85</th>\n",
       "      <td>2.29</td>\n",
       "    </tr>\n",
       "    <tr>\n",
       "      <th>28</th>\n",
       "      <td>-0.59</td>\n",
       "    </tr>\n",
       "    <tr>\n",
       "      <th>8</th>\n",
       "      <td>-1.60</td>\n",
       "    </tr>\n",
       "    <tr>\n",
       "      <th>11</th>\n",
       "      <td>-1.44</td>\n",
       "    </tr>\n",
       "    <tr>\n",
       "      <th>63</th>\n",
       "      <td>1.18</td>\n",
       "    </tr>\n",
       "  </tbody>\n",
       "</table>\n",
       "</div>"
      ],
      "text/plain": [
       "       x\n",
       "85  2.29\n",
       "28 -0.59\n",
       "8  -1.60\n",
       "11 -1.44\n",
       "63  1.18"
      ]
     },
     "metadata": {},
     "output_type": "display_data"
    },
    {
     "name": "stdout",
     "output_type": "stream",
     "text": [
      "Rows in X_test: 20\n"
     ]
    },
    {
     "data": {
      "text/html": [
       "<div>\n",
       "<style scoped>\n",
       "    .dataframe tbody tr th:only-of-type {\n",
       "        vertical-align: middle;\n",
       "    }\n",
       "\n",
       "    .dataframe tbody tr th {\n",
       "        vertical-align: top;\n",
       "    }\n",
       "\n",
       "    .dataframe thead th {\n",
       "        text-align: right;\n",
       "    }\n",
       "</style>\n",
       "<table border=\"1\" class=\"dataframe\">\n",
       "  <thead>\n",
       "    <tr style=\"text-align: right;\">\n",
       "      <th></th>\n",
       "      <th>x</th>\n",
       "    </tr>\n",
       "  </thead>\n",
       "  <tbody>\n",
       "    <tr>\n",
       "      <th>26</th>\n",
       "      <td>-0.69</td>\n",
       "    </tr>\n",
       "    <tr>\n",
       "      <th>80</th>\n",
       "      <td>2.04</td>\n",
       "    </tr>\n",
       "    <tr>\n",
       "      <th>82</th>\n",
       "      <td>2.14</td>\n",
       "    </tr>\n",
       "    <tr>\n",
       "      <th>68</th>\n",
       "      <td>1.43</td>\n",
       "    </tr>\n",
       "    <tr>\n",
       "      <th>77</th>\n",
       "      <td>1.89</td>\n",
       "    </tr>\n",
       "  </tbody>\n",
       "</table>\n",
       "</div>"
      ],
      "text/plain": [
       "       x\n",
       "26 -0.69\n",
       "80  2.04\n",
       "82  2.14\n",
       "68  1.43\n",
       "77  1.89"
      ]
     },
     "metadata": {},
     "output_type": "display_data"
    }
   ],
   "source": [
    "print('Rows in X_train:', X_train.shape[0])\n",
    "display(X_train.head())\n",
    "print('Rows in X_test:', X_test.shape[0])\n",
    "display(X_test.head())"
   ]
  },
  {
   "cell_type": "markdown",
   "id": "917bd2ba",
   "metadata": {
    "deletable": true,
    "editable": true,
    "slideshow": {
     "slide_type": "slide"
    }
   },
   "source": [
    "### Example train-test split"
   ]
  },
  {
   "cell_type": "markdown",
   "id": "7c76b1d8",
   "metadata": {
    "deletable": true,
    "editable": true,
    "slideshow": {
     "slide_type": "fragment"
    }
   },
   "source": [
    "- First, we'll fit a model on the training set."
   ]
  },
  {
   "cell_type": "markdown",
   "id": "cbb0fc17",
   "metadata": {
    "deletable": true,
    "editable": true,
    "slideshow": {
     "slide_type": "fragment"
    }
   },
   "source": [
    "- Here, we'll use a stand-alone `LinearRegression` model without a `Pipeline`, but this process would work the same if we were using a `Pipeline`."
   ]
  },
  {
   "cell_type": "code",
   "execution_count": 40,
   "id": "cd606e0a",
   "metadata": {
    "deletable": true,
    "editable": true
   },
   "outputs": [],
   "source": [
    "from sklearn.metrics import mean_squared_error"
   ]
  },
  {
   "cell_type": "code",
   "execution_count": 41,
   "id": "532b4e9b",
   "metadata": {
    "deletable": true,
    "editable": true
   },
   "outputs": [
    {
     "data": {
      "text/html": [
       "<style>#sk-container-id-6 {\n",
       "  /* Definition of color scheme common for light and dark mode */\n",
       "  --sklearn-color-text: black;\n",
       "  --sklearn-color-line: gray;\n",
       "  /* Definition of color scheme for unfitted estimators */\n",
       "  --sklearn-color-unfitted-level-0: #fff5e6;\n",
       "  --sklearn-color-unfitted-level-1: #f6e4d2;\n",
       "  --sklearn-color-unfitted-level-2: #ffe0b3;\n",
       "  --sklearn-color-unfitted-level-3: chocolate;\n",
       "  /* Definition of color scheme for fitted estimators */\n",
       "  --sklearn-color-fitted-level-0: #f0f8ff;\n",
       "  --sklearn-color-fitted-level-1: #d4ebff;\n",
       "  --sklearn-color-fitted-level-2: #b3dbfd;\n",
       "  --sklearn-color-fitted-level-3: cornflowerblue;\n",
       "\n",
       "  /* Specific color for light theme */\n",
       "  --sklearn-color-text-on-default-background: var(--sg-text-color, var(--theme-code-foreground, var(--jp-content-font-color1, black)));\n",
       "  --sklearn-color-background: var(--sg-background-color, var(--theme-background, var(--jp-layout-color0, white)));\n",
       "  --sklearn-color-border-box: var(--sg-text-color, var(--theme-code-foreground, var(--jp-content-font-color1, black)));\n",
       "  --sklearn-color-icon: #696969;\n",
       "\n",
       "  @media (prefers-color-scheme: dark) {\n",
       "    /* Redefinition of color scheme for dark theme */\n",
       "    --sklearn-color-text-on-default-background: var(--sg-text-color, var(--theme-code-foreground, var(--jp-content-font-color1, white)));\n",
       "    --sklearn-color-background: var(--sg-background-color, var(--theme-background, var(--jp-layout-color0, #111)));\n",
       "    --sklearn-color-border-box: var(--sg-text-color, var(--theme-code-foreground, var(--jp-content-font-color1, white)));\n",
       "    --sklearn-color-icon: #878787;\n",
       "  }\n",
       "}\n",
       "\n",
       "#sk-container-id-6 {\n",
       "  color: var(--sklearn-color-text);\n",
       "}\n",
       "\n",
       "#sk-container-id-6 pre {\n",
       "  padding: 0;\n",
       "}\n",
       "\n",
       "#sk-container-id-6 input.sk-hidden--visually {\n",
       "  border: 0;\n",
       "  clip: rect(1px 1px 1px 1px);\n",
       "  clip: rect(1px, 1px, 1px, 1px);\n",
       "  height: 1px;\n",
       "  margin: -1px;\n",
       "  overflow: hidden;\n",
       "  padding: 0;\n",
       "  position: absolute;\n",
       "  width: 1px;\n",
       "}\n",
       "\n",
       "#sk-container-id-6 div.sk-dashed-wrapped {\n",
       "  border: 1px dashed var(--sklearn-color-line);\n",
       "  margin: 0 0.4em 0.5em 0.4em;\n",
       "  box-sizing: border-box;\n",
       "  padding-bottom: 0.4em;\n",
       "  background-color: var(--sklearn-color-background);\n",
       "}\n",
       "\n",
       "#sk-container-id-6 div.sk-container {\n",
       "  /* jupyter's `normalize.less` sets `[hidden] { display: none; }`\n",
       "     but bootstrap.min.css set `[hidden] { display: none !important; }`\n",
       "     so we also need the `!important` here to be able to override the\n",
       "     default hidden behavior on the sphinx rendered scikit-learn.org.\n",
       "     See: https://github.com/scikit-learn/scikit-learn/issues/21755 */\n",
       "  display: inline-block !important;\n",
       "  position: relative;\n",
       "}\n",
       "\n",
       "#sk-container-id-6 div.sk-text-repr-fallback {\n",
       "  display: none;\n",
       "}\n",
       "\n",
       "div.sk-parallel-item,\n",
       "div.sk-serial,\n",
       "div.sk-item {\n",
       "  /* draw centered vertical line to link estimators */\n",
       "  background-image: linear-gradient(var(--sklearn-color-text-on-default-background), var(--sklearn-color-text-on-default-background));\n",
       "  background-size: 2px 100%;\n",
       "  background-repeat: no-repeat;\n",
       "  background-position: center center;\n",
       "}\n",
       "\n",
       "/* Parallel-specific style estimator block */\n",
       "\n",
       "#sk-container-id-6 div.sk-parallel-item::after {\n",
       "  content: \"\";\n",
       "  width: 100%;\n",
       "  border-bottom: 2px solid var(--sklearn-color-text-on-default-background);\n",
       "  flex-grow: 1;\n",
       "}\n",
       "\n",
       "#sk-container-id-6 div.sk-parallel {\n",
       "  display: flex;\n",
       "  align-items: stretch;\n",
       "  justify-content: center;\n",
       "  background-color: var(--sklearn-color-background);\n",
       "  position: relative;\n",
       "}\n",
       "\n",
       "#sk-container-id-6 div.sk-parallel-item {\n",
       "  display: flex;\n",
       "  flex-direction: column;\n",
       "}\n",
       "\n",
       "#sk-container-id-6 div.sk-parallel-item:first-child::after {\n",
       "  align-self: flex-end;\n",
       "  width: 50%;\n",
       "}\n",
       "\n",
       "#sk-container-id-6 div.sk-parallel-item:last-child::after {\n",
       "  align-self: flex-start;\n",
       "  width: 50%;\n",
       "}\n",
       "\n",
       "#sk-container-id-6 div.sk-parallel-item:only-child::after {\n",
       "  width: 0;\n",
       "}\n",
       "\n",
       "/* Serial-specific style estimator block */\n",
       "\n",
       "#sk-container-id-6 div.sk-serial {\n",
       "  display: flex;\n",
       "  flex-direction: column;\n",
       "  align-items: center;\n",
       "  background-color: var(--sklearn-color-background);\n",
       "  padding-right: 1em;\n",
       "  padding-left: 1em;\n",
       "}\n",
       "\n",
       "\n",
       "/* Toggleable style: style used for estimator/Pipeline/ColumnTransformer box that is\n",
       "clickable and can be expanded/collapsed.\n",
       "- Pipeline and ColumnTransformer use this feature and define the default style\n",
       "- Estimators will overwrite some part of the style using the `sk-estimator` class\n",
       "*/\n",
       "\n",
       "/* Pipeline and ColumnTransformer style (default) */\n",
       "\n",
       "#sk-container-id-6 div.sk-toggleable {\n",
       "  /* Default theme specific background. It is overwritten whether we have a\n",
       "  specific estimator or a Pipeline/ColumnTransformer */\n",
       "  background-color: var(--sklearn-color-background);\n",
       "}\n",
       "\n",
       "/* Toggleable label */\n",
       "#sk-container-id-6 label.sk-toggleable__label {\n",
       "  cursor: pointer;\n",
       "  display: block;\n",
       "  width: 100%;\n",
       "  margin-bottom: 0;\n",
       "  padding: 0.5em;\n",
       "  box-sizing: border-box;\n",
       "  text-align: center;\n",
       "}\n",
       "\n",
       "#sk-container-id-6 label.sk-toggleable__label-arrow:before {\n",
       "  /* Arrow on the left of the label */\n",
       "  content: \"▸\";\n",
       "  float: left;\n",
       "  margin-right: 0.25em;\n",
       "  color: var(--sklearn-color-icon);\n",
       "}\n",
       "\n",
       "#sk-container-id-6 label.sk-toggleable__label-arrow:hover:before {\n",
       "  color: var(--sklearn-color-text);\n",
       "}\n",
       "\n",
       "/* Toggleable content - dropdown */\n",
       "\n",
       "#sk-container-id-6 div.sk-toggleable__content {\n",
       "  max-height: 0;\n",
       "  max-width: 0;\n",
       "  overflow: hidden;\n",
       "  text-align: left;\n",
       "  /* unfitted */\n",
       "  background-color: var(--sklearn-color-unfitted-level-0);\n",
       "}\n",
       "\n",
       "#sk-container-id-6 div.sk-toggleable__content.fitted {\n",
       "  /* fitted */\n",
       "  background-color: var(--sklearn-color-fitted-level-0);\n",
       "}\n",
       "\n",
       "#sk-container-id-6 div.sk-toggleable__content pre {\n",
       "  margin: 0.2em;\n",
       "  border-radius: 0.25em;\n",
       "  color: var(--sklearn-color-text);\n",
       "  /* unfitted */\n",
       "  background-color: var(--sklearn-color-unfitted-level-0);\n",
       "}\n",
       "\n",
       "#sk-container-id-6 div.sk-toggleable__content.fitted pre {\n",
       "  /* unfitted */\n",
       "  background-color: var(--sklearn-color-fitted-level-0);\n",
       "}\n",
       "\n",
       "#sk-container-id-6 input.sk-toggleable__control:checked~div.sk-toggleable__content {\n",
       "  /* Expand drop-down */\n",
       "  max-height: 200px;\n",
       "  max-width: 100%;\n",
       "  overflow: auto;\n",
       "}\n",
       "\n",
       "#sk-container-id-6 input.sk-toggleable__control:checked~label.sk-toggleable__label-arrow:before {\n",
       "  content: \"▾\";\n",
       "}\n",
       "\n",
       "/* Pipeline/ColumnTransformer-specific style */\n",
       "\n",
       "#sk-container-id-6 div.sk-label input.sk-toggleable__control:checked~label.sk-toggleable__label {\n",
       "  color: var(--sklearn-color-text);\n",
       "  background-color: var(--sklearn-color-unfitted-level-2);\n",
       "}\n",
       "\n",
       "#sk-container-id-6 div.sk-label.fitted input.sk-toggleable__control:checked~label.sk-toggleable__label {\n",
       "  background-color: var(--sklearn-color-fitted-level-2);\n",
       "}\n",
       "\n",
       "/* Estimator-specific style */\n",
       "\n",
       "/* Colorize estimator box */\n",
       "#sk-container-id-6 div.sk-estimator input.sk-toggleable__control:checked~label.sk-toggleable__label {\n",
       "  /* unfitted */\n",
       "  background-color: var(--sklearn-color-unfitted-level-2);\n",
       "}\n",
       "\n",
       "#sk-container-id-6 div.sk-estimator.fitted input.sk-toggleable__control:checked~label.sk-toggleable__label {\n",
       "  /* fitted */\n",
       "  background-color: var(--sklearn-color-fitted-level-2);\n",
       "}\n",
       "\n",
       "#sk-container-id-6 div.sk-label label.sk-toggleable__label,\n",
       "#sk-container-id-6 div.sk-label label {\n",
       "  /* The background is the default theme color */\n",
       "  color: var(--sklearn-color-text-on-default-background);\n",
       "}\n",
       "\n",
       "/* On hover, darken the color of the background */\n",
       "#sk-container-id-6 div.sk-label:hover label.sk-toggleable__label {\n",
       "  color: var(--sklearn-color-text);\n",
       "  background-color: var(--sklearn-color-unfitted-level-2);\n",
       "}\n",
       "\n",
       "/* Label box, darken color on hover, fitted */\n",
       "#sk-container-id-6 div.sk-label.fitted:hover label.sk-toggleable__label.fitted {\n",
       "  color: var(--sklearn-color-text);\n",
       "  background-color: var(--sklearn-color-fitted-level-2);\n",
       "}\n",
       "\n",
       "/* Estimator label */\n",
       "\n",
       "#sk-container-id-6 div.sk-label label {\n",
       "  font-family: monospace;\n",
       "  font-weight: bold;\n",
       "  display: inline-block;\n",
       "  line-height: 1.2em;\n",
       "}\n",
       "\n",
       "#sk-container-id-6 div.sk-label-container {\n",
       "  text-align: center;\n",
       "}\n",
       "\n",
       "/* Estimator-specific */\n",
       "#sk-container-id-6 div.sk-estimator {\n",
       "  font-family: monospace;\n",
       "  border: 1px dotted var(--sklearn-color-border-box);\n",
       "  border-radius: 0.25em;\n",
       "  box-sizing: border-box;\n",
       "  margin-bottom: 0.5em;\n",
       "  /* unfitted */\n",
       "  background-color: var(--sklearn-color-unfitted-level-0);\n",
       "}\n",
       "\n",
       "#sk-container-id-6 div.sk-estimator.fitted {\n",
       "  /* fitted */\n",
       "  background-color: var(--sklearn-color-fitted-level-0);\n",
       "}\n",
       "\n",
       "/* on hover */\n",
       "#sk-container-id-6 div.sk-estimator:hover {\n",
       "  /* unfitted */\n",
       "  background-color: var(--sklearn-color-unfitted-level-2);\n",
       "}\n",
       "\n",
       "#sk-container-id-6 div.sk-estimator.fitted:hover {\n",
       "  /* fitted */\n",
       "  background-color: var(--sklearn-color-fitted-level-2);\n",
       "}\n",
       "\n",
       "/* Specification for estimator info (e.g. \"i\" and \"?\") */\n",
       "\n",
       "/* Common style for \"i\" and \"?\" */\n",
       "\n",
       ".sk-estimator-doc-link,\n",
       "a:link.sk-estimator-doc-link,\n",
       "a:visited.sk-estimator-doc-link {\n",
       "  float: right;\n",
       "  font-size: smaller;\n",
       "  line-height: 1em;\n",
       "  font-family: monospace;\n",
       "  background-color: var(--sklearn-color-background);\n",
       "  border-radius: 1em;\n",
       "  height: 1em;\n",
       "  width: 1em;\n",
       "  text-decoration: none !important;\n",
       "  margin-left: 1ex;\n",
       "  /* unfitted */\n",
       "  border: var(--sklearn-color-unfitted-level-1) 1pt solid;\n",
       "  color: var(--sklearn-color-unfitted-level-1);\n",
       "}\n",
       "\n",
       ".sk-estimator-doc-link.fitted,\n",
       "a:link.sk-estimator-doc-link.fitted,\n",
       "a:visited.sk-estimator-doc-link.fitted {\n",
       "  /* fitted */\n",
       "  border: var(--sklearn-color-fitted-level-1) 1pt solid;\n",
       "  color: var(--sklearn-color-fitted-level-1);\n",
       "}\n",
       "\n",
       "/* On hover */\n",
       "div.sk-estimator:hover .sk-estimator-doc-link:hover,\n",
       ".sk-estimator-doc-link:hover,\n",
       "div.sk-label-container:hover .sk-estimator-doc-link:hover,\n",
       ".sk-estimator-doc-link:hover {\n",
       "  /* unfitted */\n",
       "  background-color: var(--sklearn-color-unfitted-level-3);\n",
       "  color: var(--sklearn-color-background);\n",
       "  text-decoration: none;\n",
       "}\n",
       "\n",
       "div.sk-estimator.fitted:hover .sk-estimator-doc-link.fitted:hover,\n",
       ".sk-estimator-doc-link.fitted:hover,\n",
       "div.sk-label-container:hover .sk-estimator-doc-link.fitted:hover,\n",
       ".sk-estimator-doc-link.fitted:hover {\n",
       "  /* fitted */\n",
       "  background-color: var(--sklearn-color-fitted-level-3);\n",
       "  color: var(--sklearn-color-background);\n",
       "  text-decoration: none;\n",
       "}\n",
       "\n",
       "/* Span, style for the box shown on hovering the info icon */\n",
       ".sk-estimator-doc-link span {\n",
       "  display: none;\n",
       "  z-index: 9999;\n",
       "  position: relative;\n",
       "  font-weight: normal;\n",
       "  right: .2ex;\n",
       "  padding: .5ex;\n",
       "  margin: .5ex;\n",
       "  width: min-content;\n",
       "  min-width: 20ex;\n",
       "  max-width: 50ex;\n",
       "  color: var(--sklearn-color-text);\n",
       "  box-shadow: 2pt 2pt 4pt #999;\n",
       "  /* unfitted */\n",
       "  background: var(--sklearn-color-unfitted-level-0);\n",
       "  border: .5pt solid var(--sklearn-color-unfitted-level-3);\n",
       "}\n",
       "\n",
       ".sk-estimator-doc-link.fitted span {\n",
       "  /* fitted */\n",
       "  background: var(--sklearn-color-fitted-level-0);\n",
       "  border: var(--sklearn-color-fitted-level-3);\n",
       "}\n",
       "\n",
       ".sk-estimator-doc-link:hover span {\n",
       "  display: block;\n",
       "}\n",
       "\n",
       "/* \"?\"-specific style due to the `<a>` HTML tag */\n",
       "\n",
       "#sk-container-id-6 a.estimator_doc_link {\n",
       "  float: right;\n",
       "  font-size: 1rem;\n",
       "  line-height: 1em;\n",
       "  font-family: monospace;\n",
       "  background-color: var(--sklearn-color-background);\n",
       "  border-radius: 1rem;\n",
       "  height: 1rem;\n",
       "  width: 1rem;\n",
       "  text-decoration: none;\n",
       "  /* unfitted */\n",
       "  color: var(--sklearn-color-unfitted-level-1);\n",
       "  border: var(--sklearn-color-unfitted-level-1) 1pt solid;\n",
       "}\n",
       "\n",
       "#sk-container-id-6 a.estimator_doc_link.fitted {\n",
       "  /* fitted */\n",
       "  border: var(--sklearn-color-fitted-level-1) 1pt solid;\n",
       "  color: var(--sklearn-color-fitted-level-1);\n",
       "}\n",
       "\n",
       "/* On hover */\n",
       "#sk-container-id-6 a.estimator_doc_link:hover {\n",
       "  /* unfitted */\n",
       "  background-color: var(--sklearn-color-unfitted-level-3);\n",
       "  color: var(--sklearn-color-background);\n",
       "  text-decoration: none;\n",
       "}\n",
       "\n",
       "#sk-container-id-6 a.estimator_doc_link.fitted:hover {\n",
       "  /* fitted */\n",
       "  background-color: var(--sklearn-color-fitted-level-3);\n",
       "}\n",
       "</style><div id=\"sk-container-id-6\" class=\"sk-top-container\"><div class=\"sk-text-repr-fallback\"><pre>LinearRegression()</pre><b>In a Jupyter environment, please rerun this cell to show the HTML representation or trust the notebook. <br />On GitHub, the HTML representation is unable to render, please try loading this page with nbviewer.org.</b></div><div class=\"sk-container\" hidden><div class=\"sk-item\"><div class=\"sk-estimator fitted sk-toggleable\"><input class=\"sk-toggleable__control sk-hidden--visually\" id=\"sk-estimator-id-37\" type=\"checkbox\" checked><label for=\"sk-estimator-id-37\" class=\"sk-toggleable__label fitted sk-toggleable__label-arrow fitted\">&nbsp;&nbsp;LinearRegression<a class=\"sk-estimator-doc-link fitted\" rel=\"noreferrer\" target=\"_blank\" href=\"https://scikit-learn.org/1.5/modules/generated/sklearn.linear_model.LinearRegression.html\">?<span>Documentation for LinearRegression</span></a><span class=\"sk-estimator-doc-link fitted\">i<span>Fitted</span></span></label><div class=\"sk-toggleable__content fitted\"><pre>LinearRegression()</pre></div> </div></div></div></div>"
      ],
      "text/plain": [
       "LinearRegression()"
      ]
     },
     "execution_count": 41,
     "metadata": {},
     "output_type": "execute_result"
    }
   ],
   "source": [
    "model = LinearRegression()\n",
    "model.fit(X_train, y_train)"
   ]
  },
  {
   "cell_type": "markdown",
   "id": "0250173a",
   "metadata": {
    "deletable": true,
    "editable": true,
    "slideshow": {
     "slide_type": "fragment"
    }
   },
   "source": [
    "- Let's check our model's performance on the **training** set first."
   ]
  },
  {
   "cell_type": "code",
   "execution_count": 42,
   "id": "c9af694a",
   "metadata": {
    "deletable": true,
    "editable": true
   },
   "outputs": [
    {
     "data": {
      "text/plain": [
       "20.856902743684927"
      ]
     },
     "execution_count": 42,
     "metadata": {},
     "output_type": "execute_result"
    }
   ],
   "source": [
    "pred_train = model.predict(X_train)\n",
    "mse_train = mean_squared_error(y_train, pred_train)\n",
    "mse_train"
   ]
  },
  {
   "cell_type": "markdown",
   "id": "1f40bdbd",
   "metadata": {
    "deletable": true,
    "editable": true,
    "slideshow": {
     "slide_type": "fragment"
    }
   },
   "source": [
    "- And the **test** set:"
   ]
  },
  {
   "cell_type": "code",
   "execution_count": 43,
   "id": "6528499b",
   "metadata": {
    "deletable": true,
    "editable": true
   },
   "outputs": [
    {
     "data": {
      "text/plain": [
       "20.78677438753835"
      ]
     },
     "execution_count": 43,
     "metadata": {},
     "output_type": "execute_result"
    }
   ],
   "source": [
    "pred_test = model.predict(X_test)\n",
    "mse_test = mean_squared_error(y_test, pred_test)\n",
    "mse_test"
   ]
  },
  {
   "cell_type": "markdown",
   "id": "b950e210",
   "metadata": {
    "deletable": true,
    "editable": true,
    "slideshow": {
     "slide_type": "fragment"
    }
   },
   "source": [
    "- Since `mse_train` and `mse_test` are similar, it **doesn't seem like our model is overfitting** to the training data."
   ]
  },
  {
   "cell_type": "markdown",
   "id": "c5d03e69",
   "metadata": {
    "deletable": true,
    "editable": true,
    "slideshow": {
     "slide_type": "fragment"
    }
   },
   "source": [
    "- If `mse_test` was much larger than `mse_train`, it would be evidence that our model is unable to **generalize well**."
   ]
  },
  {
   "cell_type": "markdown",
   "id": "bd23b67b",
   "metadata": {
    "deletable": true,
    "editable": true,
    "slideshow": {
     "slide_type": "slide"
    }
   },
   "source": [
    "## Hyperparameters\n",
    "\n",
    "---"
   ]
  },
  {
   "cell_type": "markdown",
   "id": "1597da9b",
   "metadata": {
    "deletable": true,
    "editable": true,
    "slideshow": {
     "slide_type": "slide"
    }
   },
   "source": [
    "### Example: Polynomial regression"
   ]
  },
  {
   "cell_type": "markdown",
   "id": "b3a8258d",
   "metadata": {
    "deletable": true,
    "editable": true,
    "slideshow": {
     "slide_type": "fragment"
    }
   },
   "source": [
    "- We recently looked at an example of **polynomial regression**."
   ]
  },
  {
   "cell_type": "code",
   "execution_count": 44,
   "id": "b1ac9746",
   "metadata": {
    "deletable": true,
    "editable": true
   },
   "outputs": [
    {
     "data": {
      "application/vnd.plotly.v1+json": {
       "config": {
        "plotlyServerURL": "https://plot.ly"
       },
       "data": [
        {
         "marker": {
          "color": "#4c72b0"
         },
         "mode": "markers",
         "name": "Sample 2",
         "type": "scatter",
         "x": [
          -2,
          -1.9494949494949494,
          -1.898989898989899,
          -1.8484848484848484,
          -1.797979797979798,
          -1.7474747474747474,
          -1.696969696969697,
          -1.6464646464646464,
          -1.595959595959596,
          -1.5454545454545454,
          -1.4949494949494948,
          -1.4444444444444444,
          -1.393939393939394,
          -1.3434343434343434,
          -1.2929292929292928,
          -1.2424242424242424,
          -1.191919191919192,
          -1.1414141414141414,
          -1.0909090909090908,
          -1.0404040404040404,
          -0.9898989898989898,
          -0.9393939393939394,
          -0.8888888888888888,
          -0.8383838383838385,
          -0.7878787878787878,
          -0.7373737373737375,
          -0.6868686868686869,
          -0.6363636363636365,
          -0.5858585858585859,
          -0.5353535353535355,
          -0.48484848484848486,
          -0.4343434343434345,
          -0.38383838383838387,
          -0.33333333333333326,
          -0.2828282828282829,
          -0.23232323232323226,
          -0.18181818181818188,
          -0.13131313131313127,
          -0.08080808080808088,
          -0.030303030303030276,
          0.020202020202020332,
          0.0707070707070705,
          0.1212121212121211,
          0.1717171717171717,
          0.22222222222222232,
          0.2727272727272725,
          0.3232323232323231,
          0.3737373737373737,
          0.4242424242424243,
          0.4747474747474749,
          0.5252525252525251,
          0.5757575757575757,
          0.6262626262626263,
          0.6767676767676769,
          0.7272727272727271,
          0.7777777777777777,
          0.8282828282828283,
          0.8787878787878789,
          0.9292929292929291,
          0.9797979797979797,
          1.0303030303030303,
          1.0808080808080809,
          1.131313131313131,
          1.1818181818181817,
          1.2323232323232323,
          1.2828282828282829,
          1.3333333333333335,
          1.3838383838383836,
          1.4343434343434343,
          1.4848484848484849,
          1.5353535353535355,
          1.5858585858585856,
          1.6363636363636362,
          1.6868686868686869,
          1.7373737373737375,
          1.7878787878787876,
          1.8383838383838382,
          1.8888888888888888,
          1.9393939393939394,
          1.9898989898989896,
          2.0404040404040407,
          2.090909090909091,
          2.141414141414141,
          2.191919191919192,
          2.242424242424242,
          2.2929292929292933,
          2.3434343434343434,
          2.3939393939393936,
          2.4444444444444446,
          2.494949494949495,
          2.545454545454545,
          2.595959595959596,
          2.646464646464646,
          2.6969696969696972,
          2.7474747474747474,
          2.7979797979797976,
          2.8484848484848486,
          2.898989898989899,
          2.94949494949495,
          3
         ],
         "xaxis": "x",
         "y": [
          -11.998590480076722,
          -2.496941465002089,
          -9.31688245559296,
          -11.1104082509034,
          -5.132850447321234,
          -4.634513733189402,
          -7.7284414170294875,
          -8.248040447617353,
          -11.234645316677629,
          -4.691031574859338,
          -2.3104734574288317,
          -9.097299868740176,
          -2.31426876852478,
          2.3850507564742736,
          -7.454287069552254,
          -0.21831664647147164,
          -0.04696123700632726,
          -3.3324692363817165,
          -0.32763505928476433,
          -4.435755933825194,
          0.3817858577760457,
          4.02337759538627,
          -1.7294267857744845,
          -2.45974863406599,
          -6.533502548878326,
          5.211757053902781,
          5.295537475160366,
          -1.762068900665351,
          0.06919742280304705,
          -0.4352678912179253,
          3.967477229182978,
          -4.79146834510034,
          1.9726578252663902,
          -6.804696869929592,
          1.938224009800232,
          -2.2499778261446,
          3.914339202920966,
          1.6456659993847353,
          -1.8370695234186925,
          -2.2105541647623372,
          -3.58607098170471,
          5.0464899287466745,
          3.198049282089516,
          -1.8116274255502842,
          -3.989688456673687,
          1.5084587137918761,
          0.0733524763594981,
          -1.4034266610210178,
          0.4238484761612782,
          2.1022866872345896,
          0.0652431468146703,
          2.060519614674064,
          0.23439899667225553,
          1.1258771959108087,
          -1.2402431551725877,
          2.8518888351644747,
          1.0362840786303353,
          -0.235132876679367,
          1.3720908319110892,
          0.2444127537951878,
          0.5226170278082167,
          2.8386938715474663,
          4.0671092766726105,
          -3.2422469811989183,
          1.3012720283027217,
          2.3549553402860566,
          -0.9891561901286652,
          3.9621351323166243,
          2.2341638188303996,
          1.661558427929302,
          -1.6872610750099293,
          -0.34314298120376785,
          4.662018675535766,
          10.179037811088113,
          3.9930675619843257,
          -0.5767656786836524,
          9.929860767983126,
          7.258120182705435,
          10.809931542411586,
          5.9936566626103485,
          11.085929596017904,
          10.190246749453575,
          6.07427462831265,
          9.471519271162274,
          11.647179419327747,
          9.422211873367212,
          16.453145822267615,
          12.518496297023688,
          17.265462888184242,
          14.809354888351873,
          18.44884702597492,
          19.200768527267012,
          12.824697944113803,
          18.885933135573637,
          22.94753463651476,
          20.899722259116764,
          27.679395575203962,
          28.289977122558664,
          23.352893697790353,
          27.567452866571745
         ],
         "yaxis": "y"
        },
        {
         "line": {
          "color": "orange",
          "width": 4
         },
         "name": "Fit Model",
         "type": "scatter",
         "x": [
          -2,
          -1.9494949494949494,
          -1.898989898989899,
          -1.8484848484848484,
          -1.797979797979798,
          -1.7474747474747474,
          -1.696969696969697,
          -1.6464646464646464,
          -1.595959595959596,
          -1.5454545454545454,
          -1.4949494949494948,
          -1.4444444444444444,
          -1.393939393939394,
          -1.3434343434343434,
          -1.2929292929292928,
          -1.2424242424242424,
          -1.191919191919192,
          -1.1414141414141414,
          -1.0909090909090908,
          -1.0404040404040404,
          -0.9898989898989898,
          -0.9393939393939394,
          -0.8888888888888888,
          -0.8383838383838385,
          -0.7878787878787878,
          -0.7373737373737375,
          -0.6868686868686869,
          -0.6363636363636365,
          -0.5858585858585859,
          -0.5353535353535355,
          -0.48484848484848486,
          -0.4343434343434345,
          -0.38383838383838387,
          -0.33333333333333326,
          -0.2828282828282829,
          -0.23232323232323226,
          -0.18181818181818188,
          -0.13131313131313127,
          -0.08080808080808088,
          -0.030303030303030276,
          0.020202020202020332,
          0.0707070707070705,
          0.1212121212121211,
          0.1717171717171717,
          0.22222222222222232,
          0.2727272727272725,
          0.3232323232323231,
          0.3737373737373737,
          0.4242424242424243,
          0.4747474747474749,
          0.5252525252525251,
          0.5757575757575757,
          0.6262626262626263,
          0.6767676767676769,
          0.7272727272727271,
          0.7777777777777777,
          0.8282828282828283,
          0.8787878787878789,
          0.9292929292929291,
          0.9797979797979797,
          1.0303030303030303,
          1.0808080808080809,
          1.131313131313131,
          1.1818181818181817,
          1.2323232323232323,
          1.2828282828282829,
          1.3333333333333335,
          1.3838383838383836,
          1.4343434343434343,
          1.4848484848484849,
          1.5353535353535355,
          1.5858585858585856,
          1.6363636363636362,
          1.6868686868686869,
          1.7373737373737375,
          1.7878787878787876,
          1.8383838383838382,
          1.8888888888888888,
          1.9393939393939394,
          1.9898989898989896,
          2.0404040404040407,
          2.090909090909091,
          2.141414141414141,
          2.191919191919192,
          2.242424242424242,
          2.2929292929292933,
          2.3434343434343434,
          2.3939393939393936,
          2.4444444444444446,
          2.494949494949495,
          2.545454545454545,
          2.595959595959596,
          2.646464646464646,
          2.6969696969696972,
          2.7474747474747474,
          2.7979797979797976,
          2.8484848484848486,
          2.898989898989899,
          2.94949494949495,
          3
         ],
         "xaxis": "x",
         "y": [
          -8.251729575243953,
          -8.011387653946237,
          -7.771045732648525,
          -7.530703811350812,
          -7.2903618900530995,
          -7.050019968755385,
          -6.809678047457672,
          -6.569336126159959,
          -6.328994204862246,
          -6.088652283564532,
          -5.848310362266818,
          -5.607968440969105,
          -5.367626519671393,
          -5.127284598373678,
          -4.8869426770759645,
          -4.646600755778252,
          -4.406258834480539,
          -4.1659169131828255,
          -3.925574991885111,
          -3.6852330705873984,
          -3.4448911492896848,
          -3.204549227991972,
          -2.9642073066942585,
          -2.7238653853965453,
          -2.4835234640988317,
          -2.243181542801119,
          -2.002839621503405,
          -1.7624977002056923,
          -1.5221557789079783,
          -1.2818138576102656,
          -1.041471936312552,
          -0.8011300150148388,
          -0.5607880937171252,
          -0.3204461724194112,
          -0.0801042511216985,
          0.1602376701760153,
          0.4005795914737281,
          0.6409215127714419,
          0.8812634340691547,
          1.1216053553668686,
          1.3619472766645824,
          1.6022891979622942,
          1.842631119260008,
          2.0829730405577216,
          2.3233149618554356,
          2.5636568831531474,
          2.8039988044508615,
          3.044340725748575,
          3.284682647046289,
          3.5250245683440027,
          3.7653664896417145,
          4.0057084109394285,
          4.246050332237142,
          4.486392253534856,
          4.7267341748325675,
          4.967076096130281,
          5.207418017427996,
          5.447759938725709,
          5.688101860023421,
          5.928443781321135,
          6.168785702618848,
          6.409127623916563,
          6.6494695452142745,
          6.889811466511988,
          7.130153387809702,
          7.370495309107416,
          7.61083723040513,
          7.8511791517028415,
          8.091521073000555,
          8.33186299429827,
          8.572204915595982,
          8.812546836893695,
          9.052888758191408,
          9.29323067948912,
          9.533572600786837,
          9.77391452208455,
          10.014256443382262,
          10.254598364679975,
          10.494940285977691,
          10.7352822072754,
          10.975624128573116,
          11.21596604987083,
          11.456307971168542,
          11.696649892466258,
          11.936991813763967,
          12.177333735061683,
          12.417675656359396,
          12.658017577657109,
          12.898359498954825,
          13.138701420252534,
          13.379043341550247,
          13.619385262847963,
          13.859727184145676,
          14.100069105443392,
          14.340411026741101,
          14.580752948038814,
          14.82109486933653,
          15.061436790634243,
          15.30177871193196,
          15.542120633229668
         ],
         "yaxis": "y"
        },
        {
         "marker": {
          "color": "#4c72b0"
         },
         "mode": "markers",
         "name": "Actual Data",
         "showlegend": false,
         "type": "scatter",
         "x": [
          -2,
          -1.9494949494949494,
          -1.898989898989899,
          -1.8484848484848484,
          -1.797979797979798,
          -1.7474747474747474,
          -1.696969696969697,
          -1.6464646464646464,
          -1.595959595959596,
          -1.5454545454545454,
          -1.4949494949494948,
          -1.4444444444444444,
          -1.393939393939394,
          -1.3434343434343434,
          -1.2929292929292928,
          -1.2424242424242424,
          -1.191919191919192,
          -1.1414141414141414,
          -1.0909090909090908,
          -1.0404040404040404,
          -0.9898989898989898,
          -0.9393939393939394,
          -0.8888888888888888,
          -0.8383838383838385,
          -0.7878787878787878,
          -0.7373737373737375,
          -0.6868686868686869,
          -0.6363636363636365,
          -0.5858585858585859,
          -0.5353535353535355,
          -0.48484848484848486,
          -0.4343434343434345,
          -0.38383838383838387,
          -0.33333333333333326,
          -0.2828282828282829,
          -0.23232323232323226,
          -0.18181818181818188,
          -0.13131313131313127,
          -0.08080808080808088,
          -0.030303030303030276,
          0.020202020202020332,
          0.0707070707070705,
          0.1212121212121211,
          0.1717171717171717,
          0.22222222222222232,
          0.2727272727272725,
          0.3232323232323231,
          0.3737373737373737,
          0.4242424242424243,
          0.4747474747474749,
          0.5252525252525251,
          0.5757575757575757,
          0.6262626262626263,
          0.6767676767676769,
          0.7272727272727271,
          0.7777777777777777,
          0.8282828282828283,
          0.8787878787878789,
          0.9292929292929291,
          0.9797979797979797,
          1.0303030303030303,
          1.0808080808080809,
          1.131313131313131,
          1.1818181818181817,
          1.2323232323232323,
          1.2828282828282829,
          1.3333333333333335,
          1.3838383838383836,
          1.4343434343434343,
          1.4848484848484849,
          1.5353535353535355,
          1.5858585858585856,
          1.6363636363636362,
          1.6868686868686869,
          1.7373737373737375,
          1.7878787878787876,
          1.8383838383838382,
          1.8888888888888888,
          1.9393939393939394,
          1.9898989898989896,
          2.0404040404040407,
          2.090909090909091,
          2.141414141414141,
          2.191919191919192,
          2.242424242424242,
          2.2929292929292933,
          2.3434343434343434,
          2.3939393939393936,
          2.4444444444444446,
          2.494949494949495,
          2.545454545454545,
          2.595959595959596,
          2.646464646464646,
          2.6969696969696972,
          2.7474747474747474,
          2.7979797979797976,
          2.8484848484848486,
          2.898989898989899,
          2.94949494949495,
          3
         ],
         "xaxis": "x2",
         "y": [
          -11.998590480076722,
          -2.496941465002089,
          -9.31688245559296,
          -11.1104082509034,
          -5.132850447321234,
          -4.634513733189402,
          -7.7284414170294875,
          -8.248040447617353,
          -11.234645316677629,
          -4.691031574859338,
          -2.3104734574288317,
          -9.097299868740176,
          -2.31426876852478,
          2.3850507564742736,
          -7.454287069552254,
          -0.21831664647147164,
          -0.04696123700632726,
          -3.3324692363817165,
          -0.32763505928476433,
          -4.435755933825194,
          0.3817858577760457,
          4.02337759538627,
          -1.7294267857744845,
          -2.45974863406599,
          -6.533502548878326,
          5.211757053902781,
          5.295537475160366,
          -1.762068900665351,
          0.06919742280304705,
          -0.4352678912179253,
          3.967477229182978,
          -4.79146834510034,
          1.9726578252663902,
          -6.804696869929592,
          1.938224009800232,
          -2.2499778261446,
          3.914339202920966,
          1.6456659993847353,
          -1.8370695234186925,
          -2.2105541647623372,
          -3.58607098170471,
          5.0464899287466745,
          3.198049282089516,
          -1.8116274255502842,
          -3.989688456673687,
          1.5084587137918761,
          0.0733524763594981,
          -1.4034266610210178,
          0.4238484761612782,
          2.1022866872345896,
          0.0652431468146703,
          2.060519614674064,
          0.23439899667225553,
          1.1258771959108087,
          -1.2402431551725877,
          2.8518888351644747,
          1.0362840786303353,
          -0.235132876679367,
          1.3720908319110892,
          0.2444127537951878,
          0.5226170278082167,
          2.8386938715474663,
          4.0671092766726105,
          -3.2422469811989183,
          1.3012720283027217,
          2.3549553402860566,
          -0.9891561901286652,
          3.9621351323166243,
          2.2341638188303996,
          1.661558427929302,
          -1.6872610750099293,
          -0.34314298120376785,
          4.662018675535766,
          10.179037811088113,
          3.9930675619843257,
          -0.5767656786836524,
          9.929860767983126,
          7.258120182705435,
          10.809931542411586,
          5.9936566626103485,
          11.085929596017904,
          10.190246749453575,
          6.07427462831265,
          9.471519271162274,
          11.647179419327747,
          9.422211873367212,
          16.453145822267615,
          12.518496297023688,
          17.265462888184242,
          14.809354888351873,
          18.44884702597492,
          19.200768527267012,
          12.824697944113803,
          18.885933135573637,
          22.94753463651476,
          20.899722259116764,
          27.679395575203962,
          28.289977122558664,
          23.352893697790353,
          27.567452866571745
         ],
         "yaxis": "y2"
        },
        {
         "line": {
          "color": "orange",
          "width": 4
         },
         "name": "Predictions",
         "showlegend": false,
         "type": "scatter",
         "x": [
          -2,
          -1.9494949494949494,
          -1.898989898989899,
          -1.8484848484848484,
          -1.797979797979798,
          -1.7474747474747474,
          -1.696969696969697,
          -1.6464646464646464,
          -1.595959595959596,
          -1.5454545454545454,
          -1.4949494949494948,
          -1.4444444444444444,
          -1.393939393939394,
          -1.3434343434343434,
          -1.2929292929292928,
          -1.2424242424242424,
          -1.191919191919192,
          -1.1414141414141414,
          -1.0909090909090908,
          -1.0404040404040404,
          -0.9898989898989898,
          -0.9393939393939394,
          -0.8888888888888888,
          -0.8383838383838385,
          -0.7878787878787878,
          -0.7373737373737375,
          -0.6868686868686869,
          -0.6363636363636365,
          -0.5858585858585859,
          -0.5353535353535355,
          -0.48484848484848486,
          -0.4343434343434345,
          -0.38383838383838387,
          -0.33333333333333326,
          -0.2828282828282829,
          -0.23232323232323226,
          -0.18181818181818188,
          -0.13131313131313127,
          -0.08080808080808088,
          -0.030303030303030276,
          0.020202020202020332,
          0.0707070707070705,
          0.1212121212121211,
          0.1717171717171717,
          0.22222222222222232,
          0.2727272727272725,
          0.3232323232323231,
          0.3737373737373737,
          0.4242424242424243,
          0.4747474747474749,
          0.5252525252525251,
          0.5757575757575757,
          0.6262626262626263,
          0.6767676767676769,
          0.7272727272727271,
          0.7777777777777777,
          0.8282828282828283,
          0.8787878787878789,
          0.9292929292929291,
          0.9797979797979797,
          1.0303030303030303,
          1.0808080808080809,
          1.131313131313131,
          1.1818181818181817,
          1.2323232323232323,
          1.2828282828282829,
          1.3333333333333335,
          1.3838383838383836,
          1.4343434343434343,
          1.4848484848484849,
          1.5353535353535355,
          1.5858585858585856,
          1.6363636363636362,
          1.6868686868686869,
          1.7373737373737375,
          1.7878787878787876,
          1.8383838383838382,
          1.8888888888888888,
          1.9393939393939394,
          1.9898989898989896,
          2.0404040404040407,
          2.090909090909091,
          2.141414141414141,
          2.191919191919192,
          2.242424242424242,
          2.2929292929292933,
          2.3434343434343434,
          2.3939393939393936,
          2.4444444444444446,
          2.494949494949495,
          2.545454545454545,
          2.595959595959596,
          2.646464646464646,
          2.6969696969696972,
          2.7474747474747474,
          2.7979797979797976,
          2.8484848484848486,
          2.898989898989899,
          2.94949494949495,
          3
         ],
         "xaxis": "x2",
         "y": [
          -7.985097661263955,
          -7.416323983124312,
          -6.875350418396554,
          -6.361451969675291,
          -5.873903639555139,
          -5.4119804306307095,
          -4.97495734549662,
          -4.562109386747479,
          -4.172711556977904,
          -3.806038858782509,
          -3.4613662947559045,
          -3.137968867492708,
          -2.8351215795875313,
          -2.5520994336349867,
          -2.2881774322296895,
          -2.042630577966254,
          -1.8147338734392933,
          -1.6037623212434198,
          -1.4089909239732483,
          -1.2296946842233933,
          -1.0651486045884673,
          -0.9146276876630848,
          -0.7774069360418585,
          -0.6527613523194031,
          -0.5399659390903313,
          -0.4382956989492579,
          -0.3470256344907957,
          -0.26543074830955915,
          -0.1927860430001611,
          -0.12836652115721608,
          -0.07144718537533706,
          -0.021303038249138373,
          0.0227909176267668,
          0.06155967965776454,
          0.09572824524924098,
          0.12602161180658278,
          0.15316477673517587,
          0.17788273744040692,
          0.20090049132766194,
          0.22294303580232747,
          0.24473536826978967,
          0.2670024861354347,
          0.29046938680464923,
          0.31586106768281935,
          0.3439025261753314,
          0.37531875968757145,
          0.4108347656249262,
          0.4511755413927818,
          0.49706608439652467,
          0.5492313920415409,
          0.6083964617332164,
          0.6752862908769385,
          0.7506258768780929,
          0.8351402171420661,
          0.9295543090742433,
          1.0345931500800125,
          1.1509817375647595,
          1.2794450689338706,
          1.42070814159273,
          1.5754959529467276,
          1.744533500401248,
          1.9285457813616775,
          2.1282577932334004,
          2.3443945334218075,
          2.577680999332282,
          2.828842188370211,
          3.0986030979409804,
          3.3876887254499746,
          3.6968240683025844,
          4.026734123904193,
          4.37814388966019,
          4.751778362975953,
          5.148362541256879,
          5.568621421908349,
          6.013280002335751,
          6.483063279944466,
          6.978696252139889,
          7.500903916327402,
          8.050411269912392,
          8.627943310300237,
          9.234225034896344,
          9.869981441106074,
          10.535937526334825,
          11.232818287987998,
          11.961348723470952,
          12.722253830189096,
          13.516258605547796,
          14.344088046952448,
          15.206467151808456,
          16.104120917521172,
          17.037774341496,
          18.00815242113834,
          19.01598015385355,
          20.061982537047054,
          21.146884568124193,
          22.271411244490373,
          23.436287563551005,
          24.642238522711427,
          25.88998911937708,
          27.180264350953298
         ],
         "yaxis": "y2"
        },
        {
         "marker": {
          "color": "#4c72b0"
         },
         "mode": "markers",
         "name": "Actual Data",
         "showlegend": false,
         "type": "scatter",
         "x": [
          -2,
          -1.9494949494949494,
          -1.898989898989899,
          -1.8484848484848484,
          -1.797979797979798,
          -1.7474747474747474,
          -1.696969696969697,
          -1.6464646464646464,
          -1.595959595959596,
          -1.5454545454545454,
          -1.4949494949494948,
          -1.4444444444444444,
          -1.393939393939394,
          -1.3434343434343434,
          -1.2929292929292928,
          -1.2424242424242424,
          -1.191919191919192,
          -1.1414141414141414,
          -1.0909090909090908,
          -1.0404040404040404,
          -0.9898989898989898,
          -0.9393939393939394,
          -0.8888888888888888,
          -0.8383838383838385,
          -0.7878787878787878,
          -0.7373737373737375,
          -0.6868686868686869,
          -0.6363636363636365,
          -0.5858585858585859,
          -0.5353535353535355,
          -0.48484848484848486,
          -0.4343434343434345,
          -0.38383838383838387,
          -0.33333333333333326,
          -0.2828282828282829,
          -0.23232323232323226,
          -0.18181818181818188,
          -0.13131313131313127,
          -0.08080808080808088,
          -0.030303030303030276,
          0.020202020202020332,
          0.0707070707070705,
          0.1212121212121211,
          0.1717171717171717,
          0.22222222222222232,
          0.2727272727272725,
          0.3232323232323231,
          0.3737373737373737,
          0.4242424242424243,
          0.4747474747474749,
          0.5252525252525251,
          0.5757575757575757,
          0.6262626262626263,
          0.6767676767676769,
          0.7272727272727271,
          0.7777777777777777,
          0.8282828282828283,
          0.8787878787878789,
          0.9292929292929291,
          0.9797979797979797,
          1.0303030303030303,
          1.0808080808080809,
          1.131313131313131,
          1.1818181818181817,
          1.2323232323232323,
          1.2828282828282829,
          1.3333333333333335,
          1.3838383838383836,
          1.4343434343434343,
          1.4848484848484849,
          1.5353535353535355,
          1.5858585858585856,
          1.6363636363636362,
          1.6868686868686869,
          1.7373737373737375,
          1.7878787878787876,
          1.8383838383838382,
          1.8888888888888888,
          1.9393939393939394,
          1.9898989898989896,
          2.0404040404040407,
          2.090909090909091,
          2.141414141414141,
          2.191919191919192,
          2.242424242424242,
          2.2929292929292933,
          2.3434343434343434,
          2.3939393939393936,
          2.4444444444444446,
          2.494949494949495,
          2.545454545454545,
          2.595959595959596,
          2.646464646464646,
          2.6969696969696972,
          2.7474747474747474,
          2.7979797979797976,
          2.8484848484848486,
          2.898989898989899,
          2.94949494949495,
          3
         ],
         "xaxis": "x3",
         "y": [
          -11.998590480076722,
          -2.496941465002089,
          -9.31688245559296,
          -11.1104082509034,
          -5.132850447321234,
          -4.634513733189402,
          -7.7284414170294875,
          -8.248040447617353,
          -11.234645316677629,
          -4.691031574859338,
          -2.3104734574288317,
          -9.097299868740176,
          -2.31426876852478,
          2.3850507564742736,
          -7.454287069552254,
          -0.21831664647147164,
          -0.04696123700632726,
          -3.3324692363817165,
          -0.32763505928476433,
          -4.435755933825194,
          0.3817858577760457,
          4.02337759538627,
          -1.7294267857744845,
          -2.45974863406599,
          -6.533502548878326,
          5.211757053902781,
          5.295537475160366,
          -1.762068900665351,
          0.06919742280304705,
          -0.4352678912179253,
          3.967477229182978,
          -4.79146834510034,
          1.9726578252663902,
          -6.804696869929592,
          1.938224009800232,
          -2.2499778261446,
          3.914339202920966,
          1.6456659993847353,
          -1.8370695234186925,
          -2.2105541647623372,
          -3.58607098170471,
          5.0464899287466745,
          3.198049282089516,
          -1.8116274255502842,
          -3.989688456673687,
          1.5084587137918761,
          0.0733524763594981,
          -1.4034266610210178,
          0.4238484761612782,
          2.1022866872345896,
          0.0652431468146703,
          2.060519614674064,
          0.23439899667225553,
          1.1258771959108087,
          -1.2402431551725877,
          2.8518888351644747,
          1.0362840786303353,
          -0.235132876679367,
          1.3720908319110892,
          0.2444127537951878,
          0.5226170278082167,
          2.8386938715474663,
          4.0671092766726105,
          -3.2422469811989183,
          1.3012720283027217,
          2.3549553402860566,
          -0.9891561901286652,
          3.9621351323166243,
          2.2341638188303996,
          1.661558427929302,
          -1.6872610750099293,
          -0.34314298120376785,
          4.662018675535766,
          10.179037811088113,
          3.9930675619843257,
          -0.5767656786836524,
          9.929860767983126,
          7.258120182705435,
          10.809931542411586,
          5.9936566626103485,
          11.085929596017904,
          10.190246749453575,
          6.07427462831265,
          9.471519271162274,
          11.647179419327747,
          9.422211873367212,
          16.453145822267615,
          12.518496297023688,
          17.265462888184242,
          14.809354888351873,
          18.44884702597492,
          19.200768527267012,
          12.824697944113803,
          18.885933135573637,
          22.94753463651476,
          20.899722259116764,
          27.679395575203962,
          28.289977122558664,
          23.352893697790353,
          27.567452866571745
         ],
         "yaxis": "y3"
        },
        {
         "line": {
          "color": "orange",
          "width": 4
         },
         "name": "Predictions",
         "showlegend": false,
         "type": "scatter",
         "x": [
          -2,
          -1.9494949494949494,
          -1.898989898989899,
          -1.8484848484848484,
          -1.797979797979798,
          -1.7474747474747474,
          -1.696969696969697,
          -1.6464646464646464,
          -1.595959595959596,
          -1.5454545454545454,
          -1.4949494949494948,
          -1.4444444444444444,
          -1.393939393939394,
          -1.3434343434343434,
          -1.2929292929292928,
          -1.2424242424242424,
          -1.191919191919192,
          -1.1414141414141414,
          -1.0909090909090908,
          -1.0404040404040404,
          -0.9898989898989898,
          -0.9393939393939394,
          -0.8888888888888888,
          -0.8383838383838385,
          -0.7878787878787878,
          -0.7373737373737375,
          -0.6868686868686869,
          -0.6363636363636365,
          -0.5858585858585859,
          -0.5353535353535355,
          -0.48484848484848486,
          -0.4343434343434345,
          -0.38383838383838387,
          -0.33333333333333326,
          -0.2828282828282829,
          -0.23232323232323226,
          -0.18181818181818188,
          -0.13131313131313127,
          -0.08080808080808088,
          -0.030303030303030276,
          0.020202020202020332,
          0.0707070707070705,
          0.1212121212121211,
          0.1717171717171717,
          0.22222222222222232,
          0.2727272727272725,
          0.3232323232323231,
          0.3737373737373737,
          0.4242424242424243,
          0.4747474747474749,
          0.5252525252525251,
          0.5757575757575757,
          0.6262626262626263,
          0.6767676767676769,
          0.7272727272727271,
          0.7777777777777777,
          0.8282828282828283,
          0.8787878787878789,
          0.9292929292929291,
          0.9797979797979797,
          1.0303030303030303,
          1.0808080808080809,
          1.131313131313131,
          1.1818181818181817,
          1.2323232323232323,
          1.2828282828282829,
          1.3333333333333335,
          1.3838383838383836,
          1.4343434343434343,
          1.4848484848484849,
          1.5353535353535355,
          1.5858585858585856,
          1.6363636363636362,
          1.6868686868686869,
          1.7373737373737375,
          1.7878787878787876,
          1.8383838383838382,
          1.8888888888888888,
          1.9393939393939394,
          1.9898989898989896,
          2.0404040404040407,
          2.090909090909091,
          2.141414141414141,
          2.191919191919192,
          2.242424242424242,
          2.2929292929292933,
          2.3434343434343434,
          2.3939393939393936,
          2.4444444444444446,
          2.494949494949495,
          2.545454545454545,
          2.595959595959596,
          2.646464646464646,
          2.6969696969696972,
          2.7474747474747474,
          2.7979797979797976,
          2.8484848484848486,
          2.898989898989899,
          2.94949494949495,
          3
         ],
         "xaxis": "x3",
         "y": [
          -6.190300662874506,
          -7.708138742138544,
          -7.697141573864883,
          -4.840043405498136,
          -4.570809693295587,
          -6.482972746519181,
          -7.895502585935446,
          -7.326056983185481,
          -5.164202427210284,
          -2.7418222305179825,
          -1.2281346101176496,
          -1.0522167282706505,
          -1.9139228789783829,
          -3.1335144499660146,
          -4.051939752838052,
          -4.294428498139268,
          -3.8395384537050177,
          -2.932061271409566,
          -1.9218740266235272,
          -1.1092341407818367,
          -0.648810068209059,
          -0.5290302973280632,
          -0.6139031071975296,
          -0.7180608437090541,
          -0.6830320931915139,
          -0.4302459268349139,
          0.02107191365075778,
          0.5700525478850977,
          1.073735733571084,
          1.3948016145852762,
          1.442727594683447,
          1.1978670890146077,
          0.7141164771630883,
          0.10201519655515767,
          -0.501190928142023,
          -0.9656501494259828,
          -1.1984415228046146,
          -1.162008284753938,
          -0.8783527922494159,
          -0.41952143833395894,
          0.11203075570711007,
          0.6077449193899156,
          0.9760702131029575,
          1.1594610563006427,
          1.1422545962536788,
          0.9487789933427848,
          0.6332722056085913,
          0.26482084409462914,
          -0.08873226455830263,
          -0.37418400008527897,
          -0.560977835140875,
          -0.6426699971066228,
          -0.6323572309836436,
          -0.5539507292573944,
          -0.4319964250985322,
          -0.28284462926535525,
          -0.10938791145849791,
          0.09950118822257537,
          0.36499878102381444,
          0.7111683228786205,
          1.156720794077728,
          1.7079855444355871,
          2.354942052810202,
          3.0712413084604577,
          3.818004796406967,
          4.550156458254378,
          5.223423605646076,
          5.80013230776899,
          6.252541406558294,
          6.563526523335668,
          6.725589234480594,
          6.739988807759801,
          6.617878798135052,
          6.384470173365344,
          6.085537985346036,
          5.793506666800113,
          5.608671525255204,
          5.650760241171611,
          6.037769770101022,
          6.85307226173768,
          8.107554350709052,
          9.709394861205283,
          11.457463231446354,
          13.07238549047679,
          14.269961536917208,
          14.86486038819885,
          14.871966704225997,
          14.556355534321028,
          14.382177703899288,
          14.837521838181601,
          16.171833586414778,
          18.163447737350225,
          20.09877358380595,
          21.121594370780258,
          20.91593501017178,
          20.285162364670214,
          20.7637352054237,
          22.68031171190046,
          24.01016774068421,
          32.165762483564095
         ],
         "yaxis": "y3"
        }
       ],
       "layout": {
        "height": 500,
        "template": {
         "data": {
          "bar": [
           {
            "error_x": {
             "color": "rgb(36,36,36)"
            },
            "error_y": {
             "color": "rgb(36,36,36)"
            },
            "marker": {
             "line": {
              "color": "white",
              "width": 0.5
             },
             "pattern": {
              "fillmode": "overlay",
              "size": 10,
              "solidity": 0.2
             }
            },
            "type": "bar"
           }
          ],
          "barpolar": [
           {
            "marker": {
             "line": {
              "color": "white",
              "width": 0.5
             },
             "pattern": {
              "fillmode": "overlay",
              "size": 10,
              "solidity": 0.2
             }
            },
            "type": "barpolar"
           }
          ],
          "carpet": [
           {
            "aaxis": {
             "endlinecolor": "rgb(36,36,36)",
             "gridcolor": "white",
             "linecolor": "white",
             "minorgridcolor": "white",
             "startlinecolor": "rgb(36,36,36)"
            },
            "baxis": {
             "endlinecolor": "rgb(36,36,36)",
             "gridcolor": "white",
             "linecolor": "white",
             "minorgridcolor": "white",
             "startlinecolor": "rgb(36,36,36)"
            },
            "type": "carpet"
           }
          ],
          "choropleth": [
           {
            "colorbar": {
             "outlinewidth": 1,
             "tickcolor": "rgb(36,36,36)",
             "ticks": "outside"
            },
            "type": "choropleth"
           }
          ],
          "contour": [
           {
            "colorbar": {
             "outlinewidth": 1,
             "tickcolor": "rgb(36,36,36)",
             "ticks": "outside"
            },
            "colorscale": [
             [
              0,
              "#440154"
             ],
             [
              0.1111111111111111,
              "#482878"
             ],
             [
              0.2222222222222222,
              "#3e4989"
             ],
             [
              0.3333333333333333,
              "#31688e"
             ],
             [
              0.4444444444444444,
              "#26828e"
             ],
             [
              0.5555555555555556,
              "#1f9e89"
             ],
             [
              0.6666666666666666,
              "#35b779"
             ],
             [
              0.7777777777777778,
              "#6ece58"
             ],
             [
              0.8888888888888888,
              "#b5de2b"
             ],
             [
              1,
              "#fde725"
             ]
            ],
            "type": "contour"
           }
          ],
          "contourcarpet": [
           {
            "colorbar": {
             "outlinewidth": 1,
             "tickcolor": "rgb(36,36,36)",
             "ticks": "outside"
            },
            "type": "contourcarpet"
           }
          ],
          "heatmap": [
           {
            "colorbar": {
             "outlinewidth": 1,
             "tickcolor": "rgb(36,36,36)",
             "ticks": "outside"
            },
            "colorscale": [
             [
              0,
              "#440154"
             ],
             [
              0.1111111111111111,
              "#482878"
             ],
             [
              0.2222222222222222,
              "#3e4989"
             ],
             [
              0.3333333333333333,
              "#31688e"
             ],
             [
              0.4444444444444444,
              "#26828e"
             ],
             [
              0.5555555555555556,
              "#1f9e89"
             ],
             [
              0.6666666666666666,
              "#35b779"
             ],
             [
              0.7777777777777778,
              "#6ece58"
             ],
             [
              0.8888888888888888,
              "#b5de2b"
             ],
             [
              1,
              "#fde725"
             ]
            ],
            "type": "heatmap"
           }
          ],
          "heatmapgl": [
           {
            "colorbar": {
             "outlinewidth": 1,
             "tickcolor": "rgb(36,36,36)",
             "ticks": "outside"
            },
            "colorscale": [
             [
              0,
              "#440154"
             ],
             [
              0.1111111111111111,
              "#482878"
             ],
             [
              0.2222222222222222,
              "#3e4989"
             ],
             [
              0.3333333333333333,
              "#31688e"
             ],
             [
              0.4444444444444444,
              "#26828e"
             ],
             [
              0.5555555555555556,
              "#1f9e89"
             ],
             [
              0.6666666666666666,
              "#35b779"
             ],
             [
              0.7777777777777778,
              "#6ece58"
             ],
             [
              0.8888888888888888,
              "#b5de2b"
             ],
             [
              1,
              "#fde725"
             ]
            ],
            "type": "heatmapgl"
           }
          ],
          "histogram": [
           {
            "marker": {
             "line": {
              "color": "white",
              "width": 0.6
             }
            },
            "type": "histogram"
           }
          ],
          "histogram2d": [
           {
            "colorbar": {
             "outlinewidth": 1,
             "tickcolor": "rgb(36,36,36)",
             "ticks": "outside"
            },
            "colorscale": [
             [
              0,
              "#440154"
             ],
             [
              0.1111111111111111,
              "#482878"
             ],
             [
              0.2222222222222222,
              "#3e4989"
             ],
             [
              0.3333333333333333,
              "#31688e"
             ],
             [
              0.4444444444444444,
              "#26828e"
             ],
             [
              0.5555555555555556,
              "#1f9e89"
             ],
             [
              0.6666666666666666,
              "#35b779"
             ],
             [
              0.7777777777777778,
              "#6ece58"
             ],
             [
              0.8888888888888888,
              "#b5de2b"
             ],
             [
              1,
              "#fde725"
             ]
            ],
            "type": "histogram2d"
           }
          ],
          "histogram2dcontour": [
           {
            "colorbar": {
             "outlinewidth": 1,
             "tickcolor": "rgb(36,36,36)",
             "ticks": "outside"
            },
            "colorscale": [
             [
              0,
              "#440154"
             ],
             [
              0.1111111111111111,
              "#482878"
             ],
             [
              0.2222222222222222,
              "#3e4989"
             ],
             [
              0.3333333333333333,
              "#31688e"
             ],
             [
              0.4444444444444444,
              "#26828e"
             ],
             [
              0.5555555555555556,
              "#1f9e89"
             ],
             [
              0.6666666666666666,
              "#35b779"
             ],
             [
              0.7777777777777778,
              "#6ece58"
             ],
             [
              0.8888888888888888,
              "#b5de2b"
             ],
             [
              1,
              "#fde725"
             ]
            ],
            "type": "histogram2dcontour"
           }
          ],
          "mesh3d": [
           {
            "colorbar": {
             "outlinewidth": 1,
             "tickcolor": "rgb(36,36,36)",
             "ticks": "outside"
            },
            "type": "mesh3d"
           }
          ],
          "parcoords": [
           {
            "line": {
             "colorbar": {
              "outlinewidth": 1,
              "tickcolor": "rgb(36,36,36)",
              "ticks": "outside"
             }
            },
            "type": "parcoords"
           }
          ],
          "pie": [
           {
            "automargin": true,
            "type": "pie"
           }
          ],
          "scatter": [
           {
            "fillpattern": {
             "fillmode": "overlay",
             "size": 10,
             "solidity": 0.2
            },
            "type": "scatter"
           }
          ],
          "scatter3d": [
           {
            "line": {
             "colorbar": {
              "outlinewidth": 1,
              "tickcolor": "rgb(36,36,36)",
              "ticks": "outside"
             }
            },
            "marker": {
             "colorbar": {
              "outlinewidth": 1,
              "tickcolor": "rgb(36,36,36)",
              "ticks": "outside"
             }
            },
            "type": "scatter3d"
           }
          ],
          "scattercarpet": [
           {
            "marker": {
             "colorbar": {
              "outlinewidth": 1,
              "tickcolor": "rgb(36,36,36)",
              "ticks": "outside"
             }
            },
            "type": "scattercarpet"
           }
          ],
          "scattergeo": [
           {
            "marker": {
             "colorbar": {
              "outlinewidth": 1,
              "tickcolor": "rgb(36,36,36)",
              "ticks": "outside"
             }
            },
            "type": "scattergeo"
           }
          ],
          "scattergl": [
           {
            "marker": {
             "colorbar": {
              "outlinewidth": 1,
              "tickcolor": "rgb(36,36,36)",
              "ticks": "outside"
             }
            },
            "type": "scattergl"
           }
          ],
          "scattermapbox": [
           {
            "marker": {
             "colorbar": {
              "outlinewidth": 1,
              "tickcolor": "rgb(36,36,36)",
              "ticks": "outside"
             }
            },
            "type": "scattermapbox"
           }
          ],
          "scatterpolar": [
           {
            "marker": {
             "colorbar": {
              "outlinewidth": 1,
              "tickcolor": "rgb(36,36,36)",
              "ticks": "outside"
             }
            },
            "type": "scatterpolar"
           }
          ],
          "scatterpolargl": [
           {
            "marker": {
             "colorbar": {
              "outlinewidth": 1,
              "tickcolor": "rgb(36,36,36)",
              "ticks": "outside"
             }
            },
            "type": "scatterpolargl"
           }
          ],
          "scatterternary": [
           {
            "marker": {
             "colorbar": {
              "outlinewidth": 1,
              "tickcolor": "rgb(36,36,36)",
              "ticks": "outside"
             }
            },
            "type": "scatterternary"
           }
          ],
          "surface": [
           {
            "colorbar": {
             "outlinewidth": 1,
             "tickcolor": "rgb(36,36,36)",
             "ticks": "outside"
            },
            "colorscale": [
             [
              0,
              "#440154"
             ],
             [
              0.1111111111111111,
              "#482878"
             ],
             [
              0.2222222222222222,
              "#3e4989"
             ],
             [
              0.3333333333333333,
              "#31688e"
             ],
             [
              0.4444444444444444,
              "#26828e"
             ],
             [
              0.5555555555555556,
              "#1f9e89"
             ],
             [
              0.6666666666666666,
              "#35b779"
             ],
             [
              0.7777777777777778,
              "#6ece58"
             ],
             [
              0.8888888888888888,
              "#b5de2b"
             ],
             [
              1,
              "#fde725"
             ]
            ],
            "type": "surface"
           }
          ],
          "table": [
           {
            "cells": {
             "fill": {
              "color": "rgb(237,237,237)"
             },
             "line": {
              "color": "white"
             }
            },
            "header": {
             "fill": {
              "color": "rgb(217,217,217)"
             },
             "line": {
              "color": "white"
             }
            },
            "type": "table"
           }
          ]
         },
         "layout": {
          "annotationdefaults": {
           "arrowhead": 0,
           "arrowwidth": 1
          },
          "autosize": true,
          "autotypenumbers": "strict",
          "coloraxis": {
           "colorbar": {
            "outlinewidth": 1,
            "tickcolor": "rgb(36,36,36)",
            "ticks": "outside"
           }
          },
          "colorscale": {
           "diverging": [
            [
             0,
             "rgb(103,0,31)"
            ],
            [
             0.1,
             "rgb(178,24,43)"
            ],
            [
             0.2,
             "rgb(214,96,77)"
            ],
            [
             0.3,
             "rgb(244,165,130)"
            ],
            [
             0.4,
             "rgb(253,219,199)"
            ],
            [
             0.5,
             "rgb(247,247,247)"
            ],
            [
             0.6,
             "rgb(209,229,240)"
            ],
            [
             0.7,
             "rgb(146,197,222)"
            ],
            [
             0.8,
             "rgb(67,147,195)"
            ],
            [
             0.9,
             "rgb(33,102,172)"
            ],
            [
             1,
             "rgb(5,48,97)"
            ]
           ],
           "sequential": [
            [
             0,
             "#440154"
            ],
            [
             0.1111111111111111,
             "#482878"
            ],
            [
             0.2222222222222222,
             "#3e4989"
            ],
            [
             0.3333333333333333,
             "#31688e"
            ],
            [
             0.4444444444444444,
             "#26828e"
            ],
            [
             0.5555555555555556,
             "#1f9e89"
            ],
            [
             0.6666666666666666,
             "#35b779"
            ],
            [
             0.7777777777777778,
             "#6ece58"
            ],
            [
             0.8888888888888888,
             "#b5de2b"
            ],
            [
             1,
             "#fde725"
            ]
           ],
           "sequentialminus": [
            [
             0,
             "#440154"
            ],
            [
             0.1111111111111111,
             "#482878"
            ],
            [
             0.2222222222222222,
             "#3e4989"
            ],
            [
             0.3333333333333333,
             "#31688e"
            ],
            [
             0.4444444444444444,
             "#26828e"
            ],
            [
             0.5555555555555556,
             "#1f9e89"
            ],
            [
             0.6666666666666666,
             "#35b779"
            ],
            [
             0.7777777777777778,
             "#6ece58"
            ],
            [
             0.8888888888888888,
             "#b5de2b"
            ],
            [
             1,
             "#fde725"
            ]
           ]
          },
          "colorway": [
           "#1F77B4",
           "#FF7F0E",
           "#2CA02C",
           "#D62728",
           "#9467BD",
           "#8C564B",
           "#E377C2",
           "#7F7F7F",
           "#BCBD22",
           "#17BECF"
          ],
          "font": {
           "color": "rgb(36,36,36)"
          },
          "geo": {
           "bgcolor": "white",
           "lakecolor": "white",
           "landcolor": "white",
           "showlakes": true,
           "showland": true,
           "subunitcolor": "white"
          },
          "height": 400,
          "hoverlabel": {
           "align": "left"
          },
          "hovermode": "closest",
          "mapbox": {
           "style": "light"
          },
          "margin": {
           "b": 30,
           "l": 30,
           "r": 30,
           "t": 30
          },
          "paper_bgcolor": "white",
          "plot_bgcolor": "white",
          "polar": {
           "angularaxis": {
            "gridcolor": "rgb(232,232,232)",
            "linecolor": "rgb(36,36,36)",
            "showgrid": false,
            "showline": true,
            "ticks": "outside"
           },
           "bgcolor": "white",
           "radialaxis": {
            "gridcolor": "rgb(232,232,232)",
            "linecolor": "rgb(36,36,36)",
            "showgrid": false,
            "showline": true,
            "ticks": "outside"
           }
          },
          "scene": {
           "xaxis": {
            "backgroundcolor": "white",
            "gridcolor": "rgb(232,232,232)",
            "gridwidth": 2,
            "linecolor": "rgb(36,36,36)",
            "showbackground": true,
            "showgrid": false,
            "showline": true,
            "ticks": "outside",
            "zeroline": false,
            "zerolinecolor": "rgb(36,36,36)"
           },
           "yaxis": {
            "backgroundcolor": "white",
            "gridcolor": "rgb(232,232,232)",
            "gridwidth": 2,
            "linecolor": "rgb(36,36,36)",
            "showbackground": true,
            "showgrid": false,
            "showline": true,
            "ticks": "outside",
            "zeroline": false,
            "zerolinecolor": "rgb(36,36,36)"
           },
           "zaxis": {
            "backgroundcolor": "white",
            "gridcolor": "rgb(232,232,232)",
            "gridwidth": 2,
            "linecolor": "rgb(36,36,36)",
            "showbackground": true,
            "showgrid": false,
            "showline": true,
            "ticks": "outside",
            "zeroline": false,
            "zerolinecolor": "rgb(36,36,36)"
           }
          },
          "shapedefaults": {
           "fillcolor": "black",
           "line": {
            "width": 0
           },
           "opacity": 0.3
          },
          "ternary": {
           "aaxis": {
            "gridcolor": "rgb(232,232,232)",
            "linecolor": "rgb(36,36,36)",
            "showgrid": false,
            "showline": true,
            "ticks": "outside"
           },
           "baxis": {
            "gridcolor": "rgb(232,232,232)",
            "linecolor": "rgb(36,36,36)",
            "showgrid": false,
            "showline": true,
            "ticks": "outside"
           },
           "bgcolor": "white",
           "caxis": {
            "gridcolor": "rgb(232,232,232)",
            "linecolor": "rgb(36,36,36)",
            "showgrid": false,
            "showline": true,
            "ticks": "outside"
           }
          },
          "title": {
           "x": 0.5,
           "xanchor": "center"
          },
          "width": 600,
          "xaxis": {
           "automargin": true,
           "gridcolor": "rgb(232,232,232)",
           "linecolor": "rgb(36,36,36)",
           "showgrid": true,
           "showline": true,
           "ticks": "outside",
           "title": {
            "standoff": 15
           },
           "zeroline": false,
           "zerolinecolor": "rgb(36,36,36)"
          },
          "yaxis": {
           "automargin": true,
           "gridcolor": "rgb(232,232,232)",
           "linecolor": "rgb(36,36,36)",
           "showgrid": true,
           "showline": true,
           "ticks": "outside",
           "title": {
            "standoff": 15
           },
           "zeroline": false,
           "zerolinecolor": "rgb(36,36,36)"
          }
         }
        },
        "title": {
         "text": "Trained on Sample 1, Performance on Sample 2"
        },
        "width": 950,
        "xaxis": {
         "anchor": "y",
         "domain": [
          0,
          0.2888888888888889
         ],
         "title": {
          "text": "Degree 1, MSE: 24.801"
         }
        },
        "xaxis2": {
         "anchor": "y2",
         "domain": [
          0.35555555555555557,
          0.6444444444444445
         ],
         "title": {
          "text": "Degree 3, MSE: 9.672"
         }
        },
        "xaxis3": {
         "anchor": "y3",
         "domain": [
          0.7111111111111111,
          1
         ],
         "title": {
          "text": "Degree 25, MSE: 13.144"
         }
        },
        "yaxis": {
         "anchor": "x",
         "domain": [
          0,
          1
         ]
        },
        "yaxis2": {
         "anchor": "x2",
         "domain": [
          0,
          1
         ]
        },
        "yaxis3": {
         "anchor": "x3",
         "domain": [
          0,
          1
         ]
        }
       }
      }
     },
     "metadata": {},
     "output_type": "display_data"
    }
   ],
   "source": [
    "fig = util.train_and_plot(train_sample=sample_1, test_sample=sample_2, degs=[1, 3, 25], data_name='Sample 2')\n",
    "fig.update_layout(title='Trained on Sample 1, Performance on Sample 2')"
   ]
  },
  {
   "cell_type": "markdown",
   "id": "4ebb8938",
   "metadata": {
    "deletable": true,
    "editable": true,
    "slideshow": {
     "slide_type": "fragment"
    }
   },
   "source": [
    "- When building these models:\n",
    "    - We **got to choose** the degree of the polynomials – we chose 1, 3, and 25.\n",
    "    - We didn't get to choose the exact formulas for the three polynomials – their formulas were **learned from data**.<br><small>No matter what the data looked like, the left-most model **had** to look like a line, because we chose its degree in advance.</small>"
   ]
  },
  {
   "cell_type": "markdown",
   "id": "44faaf15",
   "metadata": {
    "deletable": true,
    "editable": true,
    "slideshow": {
     "slide_type": "slide"
    }
   },
   "source": [
    "### Parameters vs. hyperparameters"
   ]
  },
  {
   "cell_type": "markdown",
   "id": "d7379758",
   "metadata": {
    "deletable": true,
    "editable": true,
    "slideshow": {
     "slide_type": "fragment"
    }
   },
   "source": [
    "- A **parameter** defines the relationship between variables in a model. **We learn parameters from data**.\n",
    "    - For instance, suppose we fit a degree 3 polynomial to data, and end up with:\n",
    "    \n",
    "    $$H(x) = 1 - 2x + 13x^2 - 4x^3$$\n",
    "    \n",
    "    - 1, -2, 13, and -4 are parameters."
   ]
  },
  {
   "cell_type": "markdown",
   "id": "dd7244c3",
   "metadata": {
    "deletable": true,
    "editable": true,
    "slideshow": {
     "slide_type": "fragment"
    }
   },
   "source": [
    "- A **hyperparameter** is a parameter that **we choose _before_ our model is fit to the data**.\n",
    "    - Think of hyperparameters as knobs 🎛 – **we get to pick and tune them!**\n",
    "    - **Polynomial degree** was a hyperparameter in the previous example, and we tried three different values: 1, 3, and 25."
   ]
  },
  {
   "cell_type": "markdown",
   "id": "6edce0a5",
   "metadata": {
    "deletable": true,
    "editable": true,
    "slideshow": {
     "slide_type": "fragment"
    }
   },
   "source": [
    "- **Question**: How do we choose the \"right\" hyperparameter(s)?<br><small>Degree 3 was a better choice than degree 25, for example – but how do we systematically choose?"
   ]
  },
  {
   "cell_type": "markdown",
   "id": "32627297",
   "metadata": {
    "deletable": true,
    "editable": true,
    "slideshow": {
     "slide_type": "slide"
    }
   },
   "source": [
    "### Training error vs. test error"
   ]
  },
  {
   "cell_type": "markdown",
   "id": "40ef3b1a",
   "metadata": {
    "deletable": true,
    "editable": true,
    "slideshow": {
     "slide_type": "fragment"
    }
   },
   "source": [
    "- We know that a model's performance on a **test set** is a good estimate of its ability to generalize to unseen data."
   ]
  },
  {
   "cell_type": "markdown",
   "id": "244d62ef",
   "metadata": {
    "deletable": true,
    "editable": true,
    "slideshow": {
     "slide_type": "fragment"
    }
   },
   "source": [
    "- We want to find the hyperparameter that leads to the best **test set performance**."
   ]
  },
  {
   "cell_type": "markdown",
   "id": "09609ab8",
   "metadata": {
    "deletable": true,
    "editable": true,
    "slideshow": {
     "slide_type": "fragment"
    }
   },
   "source": [
    "- Idea:\n",
    "    1. Come up with a **list** of hyperparameters to try.\n",
    "    2. For each hyperparameter, train the model on the training set and compute its performance on the test set.\n",
    "    3. Pick the hyperparameter with the best performance on the test set."
   ]
  },
  {
   "cell_type": "markdown",
   "id": "86514efd",
   "metadata": {
    "deletable": true,
    "editable": true,
    "slideshow": {
     "slide_type": "fragment"
    }
   },
   "source": [
    "- Let's try this strategy on Sample 1 from our earlier example."
   ]
  },
  {
   "cell_type": "markdown",
   "id": "f2db0113",
   "metadata": {
    "deletable": true,
    "editable": true,
    "slideshow": {
     "slide_type": "fragment"
    }
   },
   "source": [
    "- We'll try to fit a polynomial model on the dataset; we'll choose the polynomial's degree from the list [1, 2, ..., 25]."
   ]
  },
  {
   "cell_type": "markdown",
   "id": "eb9967a2",
   "metadata": {
    "deletable": true,
    "editable": true,
    "slideshow": {
     "slide_type": "slide"
    }
   },
   "source": [
    "### Polynomial degree vs. train/test error"
   ]
  },
  {
   "cell_type": "markdown",
   "id": "3c2f0202",
   "metadata": {
    "deletable": true,
    "editable": true,
    "slideshow": {
     "slide_type": "fragment"
    }
   },
   "source": [
    "- We already performed a train-test split of `sample_1` a few slides ago."
   ]
  },
  {
   "cell_type": "code",
   "execution_count": 45,
   "id": "d71d1e12",
   "metadata": {
    "deletable": true,
    "editable": true
   },
   "outputs": [
    {
     "data": {
      "text/html": [
       "<div>\n",
       "<style scoped>\n",
       "    .dataframe tbody tr th:only-of-type {\n",
       "        vertical-align: middle;\n",
       "    }\n",
       "\n",
       "    .dataframe tbody tr th {\n",
       "        vertical-align: top;\n",
       "    }\n",
       "\n",
       "    .dataframe thead th {\n",
       "        text-align: right;\n",
       "    }\n",
       "</style>\n",
       "<table border=\"1\" class=\"dataframe\">\n",
       "  <thead>\n",
       "    <tr style=\"text-align: right;\">\n",
       "      <th></th>\n",
       "      <th>x</th>\n",
       "    </tr>\n",
       "  </thead>\n",
       "  <tbody>\n",
       "    <tr>\n",
       "      <th>85</th>\n",
       "      <td>2.29</td>\n",
       "    </tr>\n",
       "    <tr>\n",
       "      <th>28</th>\n",
       "      <td>-0.59</td>\n",
       "    </tr>\n",
       "    <tr>\n",
       "      <th>8</th>\n",
       "      <td>-1.60</td>\n",
       "    </tr>\n",
       "    <tr>\n",
       "      <th>...</th>\n",
       "      <td>...</td>\n",
       "    </tr>\n",
       "    <tr>\n",
       "      <th>73</th>\n",
       "      <td>1.69</td>\n",
       "    </tr>\n",
       "    <tr>\n",
       "      <th>40</th>\n",
       "      <td>0.02</td>\n",
       "    </tr>\n",
       "    <tr>\n",
       "      <th>83</th>\n",
       "      <td>2.19</td>\n",
       "    </tr>\n",
       "  </tbody>\n",
       "</table>\n",
       "<p>80 rows × 1 columns</p>\n",
       "</div>"
      ],
      "text/plain": [
       "       x\n",
       "85  2.29\n",
       "28 -0.59\n",
       "8  -1.60\n",
       "..   ...\n",
       "73  1.69\n",
       "40  0.02\n",
       "83  2.19\n",
       "\n",
       "[80 rows x 1 columns]"
      ]
     },
     "execution_count": 45,
     "metadata": {},
     "output_type": "execute_result"
    }
   ],
   "source": [
    "X_train"
   ]
  },
  {
   "cell_type": "markdown",
   "id": "bdcaecef",
   "metadata": {
    "deletable": true,
    "editable": true,
    "slideshow": {
     "slide_type": "fragment"
    }
   },
   "source": [
    "- Now, we'll create models with degree 1 through degree 25 polynomial features and compute their train and test errors."
   ]
  },
  {
   "cell_type": "code",
   "execution_count": 46,
   "id": "1ce148a8",
   "metadata": {
    "deletable": true,
    "editable": true
   },
   "outputs": [],
   "source": [
    "train_errs = []\n",
    "test_errs = []\n",
    "for d in range(1, 26):\n",
    "    pl = make_pipeline(PolynomialFeatures(d), LinearRegression())\n",
    "    pl.fit(X_train, y_train)\n",
    "    train_errs.append(mean_squared_error(y_train, pl.predict(X_train)))\n",
    "    test_errs.append(mean_squared_error(y_test, pl.predict(X_test)))\n",
    "errs = pd.DataFrame({'Train Error': train_errs, 'Test Error': test_errs})"
   ]
  },
  {
   "cell_type": "markdown",
   "id": "f2c6e9c5",
   "metadata": {
    "deletable": true,
    "editable": true,
    "slideshow": {
     "slide_type": "slide"
    }
   },
   "source": [
    "- Let's look at the plots of training error vs. degree and test error vs. degree."
   ]
  },
  {
   "cell_type": "code",
   "execution_count": 47,
   "id": "125f667f",
   "metadata": {
    "deletable": true,
    "editable": true
   },
   "outputs": [
    {
     "data": {
      "application/vnd.plotly.v1+json": {
       "config": {
        "plotlyServerURL": "https://plot.ly"
       },
       "data": [
        {
         "hovertemplate": "variable=Train Error<br>index=%{x}<br>value=%{y}<extra></extra>",
         "legendgroup": "Train Error",
         "line": {
          "color": "#1F77B4",
          "dash": "solid"
         },
         "marker": {
          "symbol": "circle"
         },
         "mode": "lines",
         "name": "Train Error",
         "orientation": "v",
         "showlegend": true,
         "type": "scatter",
         "x": [
          0,
          1,
          2,
          3,
          4,
          5,
          6,
          7,
          8,
          9,
          10,
          11,
          12,
          13,
          14,
          15,
          16,
          17,
          18,
          19,
          20,
          21,
          22,
          23
         ],
         "xaxis": "x",
         "y": [
          20.85690274368493,
          13.078679008581494,
          7.0118414350227365,
          7.011747708526599,
          6.873735698267976,
          6.680124152451379,
          6.676102550692943,
          6.659073243766495,
          6.52552139806551,
          6.325286823619524,
          6.292663041314892,
          6.095334677379928,
          6.090517306978397,
          6.057357286935319,
          5.863090246945772,
          5.7513343831921535,
          5.708301850803188,
          5.53961031484494,
          5.4862839483433445,
          5.47079803736383,
          5.470620066448203,
          5.45668865665122,
          5.265326500135062,
          5.099812465598634
         ],
         "yaxis": "y"
        },
        {
         "hovertemplate": "variable=Test Error<br>index=%{x}<br>value=%{y}<extra></extra>",
         "legendgroup": "Test Error",
         "line": {
          "color": "#FF7F0E",
          "dash": "solid"
         },
         "marker": {
          "symbol": "circle"
         },
         "mode": "lines",
         "name": "Test Error",
         "orientation": "v",
         "showlegend": true,
         "type": "scatter",
         "x": [
          0,
          1,
          2,
          3,
          4,
          5,
          6,
          7,
          8,
          9,
          10,
          11,
          12,
          13,
          14,
          15,
          16,
          17,
          18,
          19,
          20,
          21,
          22,
          23
         ],
         "xaxis": "x",
         "y": [
          20.786774387538323,
          14.313598184539035,
          12.09729933434565,
          12.09081403987992,
          12.885221915714544,
          12.812567023970217,
          12.906416230588373,
          12.96125863713031,
          13.522080166279537,
          13.30457693077291,
          12.993173799271792,
          13.748284026060523,
          13.845131050226957,
          13.980111802186105,
          13.616792836461249,
          13.447033397593302,
          13.629933257272814,
          14.519104027770904,
          14.190887771910392,
          14.51832524960405,
          14.488429132374218,
          14.211446045197196,
          14.256962989028148,
          14.639907606610072
         ],
         "yaxis": "y"
        }
       ],
       "layout": {
        "legend": {
         "title": {
          "text": "variable"
         },
         "tracegroupgap": 0
        },
        "showlegend": true,
        "template": {
         "data": {
          "bar": [
           {
            "error_x": {
             "color": "rgb(36,36,36)"
            },
            "error_y": {
             "color": "rgb(36,36,36)"
            },
            "marker": {
             "line": {
              "color": "white",
              "width": 0.5
             },
             "pattern": {
              "fillmode": "overlay",
              "size": 10,
              "solidity": 0.2
             }
            },
            "type": "bar"
           }
          ],
          "barpolar": [
           {
            "marker": {
             "line": {
              "color": "white",
              "width": 0.5
             },
             "pattern": {
              "fillmode": "overlay",
              "size": 10,
              "solidity": 0.2
             }
            },
            "type": "barpolar"
           }
          ],
          "carpet": [
           {
            "aaxis": {
             "endlinecolor": "rgb(36,36,36)",
             "gridcolor": "white",
             "linecolor": "white",
             "minorgridcolor": "white",
             "startlinecolor": "rgb(36,36,36)"
            },
            "baxis": {
             "endlinecolor": "rgb(36,36,36)",
             "gridcolor": "white",
             "linecolor": "white",
             "minorgridcolor": "white",
             "startlinecolor": "rgb(36,36,36)"
            },
            "type": "carpet"
           }
          ],
          "choropleth": [
           {
            "colorbar": {
             "outlinewidth": 1,
             "tickcolor": "rgb(36,36,36)",
             "ticks": "outside"
            },
            "type": "choropleth"
           }
          ],
          "contour": [
           {
            "colorbar": {
             "outlinewidth": 1,
             "tickcolor": "rgb(36,36,36)",
             "ticks": "outside"
            },
            "colorscale": [
             [
              0,
              "#440154"
             ],
             [
              0.1111111111111111,
              "#482878"
             ],
             [
              0.2222222222222222,
              "#3e4989"
             ],
             [
              0.3333333333333333,
              "#31688e"
             ],
             [
              0.4444444444444444,
              "#26828e"
             ],
             [
              0.5555555555555556,
              "#1f9e89"
             ],
             [
              0.6666666666666666,
              "#35b779"
             ],
             [
              0.7777777777777778,
              "#6ece58"
             ],
             [
              0.8888888888888888,
              "#b5de2b"
             ],
             [
              1,
              "#fde725"
             ]
            ],
            "type": "contour"
           }
          ],
          "contourcarpet": [
           {
            "colorbar": {
             "outlinewidth": 1,
             "tickcolor": "rgb(36,36,36)",
             "ticks": "outside"
            },
            "type": "contourcarpet"
           }
          ],
          "heatmap": [
           {
            "colorbar": {
             "outlinewidth": 1,
             "tickcolor": "rgb(36,36,36)",
             "ticks": "outside"
            },
            "colorscale": [
             [
              0,
              "#440154"
             ],
             [
              0.1111111111111111,
              "#482878"
             ],
             [
              0.2222222222222222,
              "#3e4989"
             ],
             [
              0.3333333333333333,
              "#31688e"
             ],
             [
              0.4444444444444444,
              "#26828e"
             ],
             [
              0.5555555555555556,
              "#1f9e89"
             ],
             [
              0.6666666666666666,
              "#35b779"
             ],
             [
              0.7777777777777778,
              "#6ece58"
             ],
             [
              0.8888888888888888,
              "#b5de2b"
             ],
             [
              1,
              "#fde725"
             ]
            ],
            "type": "heatmap"
           }
          ],
          "heatmapgl": [
           {
            "colorbar": {
             "outlinewidth": 1,
             "tickcolor": "rgb(36,36,36)",
             "ticks": "outside"
            },
            "colorscale": [
             [
              0,
              "#440154"
             ],
             [
              0.1111111111111111,
              "#482878"
             ],
             [
              0.2222222222222222,
              "#3e4989"
             ],
             [
              0.3333333333333333,
              "#31688e"
             ],
             [
              0.4444444444444444,
              "#26828e"
             ],
             [
              0.5555555555555556,
              "#1f9e89"
             ],
             [
              0.6666666666666666,
              "#35b779"
             ],
             [
              0.7777777777777778,
              "#6ece58"
             ],
             [
              0.8888888888888888,
              "#b5de2b"
             ],
             [
              1,
              "#fde725"
             ]
            ],
            "type": "heatmapgl"
           }
          ],
          "histogram": [
           {
            "marker": {
             "line": {
              "color": "white",
              "width": 0.6
             }
            },
            "type": "histogram"
           }
          ],
          "histogram2d": [
           {
            "colorbar": {
             "outlinewidth": 1,
             "tickcolor": "rgb(36,36,36)",
             "ticks": "outside"
            },
            "colorscale": [
             [
              0,
              "#440154"
             ],
             [
              0.1111111111111111,
              "#482878"
             ],
             [
              0.2222222222222222,
              "#3e4989"
             ],
             [
              0.3333333333333333,
              "#31688e"
             ],
             [
              0.4444444444444444,
              "#26828e"
             ],
             [
              0.5555555555555556,
              "#1f9e89"
             ],
             [
              0.6666666666666666,
              "#35b779"
             ],
             [
              0.7777777777777778,
              "#6ece58"
             ],
             [
              0.8888888888888888,
              "#b5de2b"
             ],
             [
              1,
              "#fde725"
             ]
            ],
            "type": "histogram2d"
           }
          ],
          "histogram2dcontour": [
           {
            "colorbar": {
             "outlinewidth": 1,
             "tickcolor": "rgb(36,36,36)",
             "ticks": "outside"
            },
            "colorscale": [
             [
              0,
              "#440154"
             ],
             [
              0.1111111111111111,
              "#482878"
             ],
             [
              0.2222222222222222,
              "#3e4989"
             ],
             [
              0.3333333333333333,
              "#31688e"
             ],
             [
              0.4444444444444444,
              "#26828e"
             ],
             [
              0.5555555555555556,
              "#1f9e89"
             ],
             [
              0.6666666666666666,
              "#35b779"
             ],
             [
              0.7777777777777778,
              "#6ece58"
             ],
             [
              0.8888888888888888,
              "#b5de2b"
             ],
             [
              1,
              "#fde725"
             ]
            ],
            "type": "histogram2dcontour"
           }
          ],
          "mesh3d": [
           {
            "colorbar": {
             "outlinewidth": 1,
             "tickcolor": "rgb(36,36,36)",
             "ticks": "outside"
            },
            "type": "mesh3d"
           }
          ],
          "parcoords": [
           {
            "line": {
             "colorbar": {
              "outlinewidth": 1,
              "tickcolor": "rgb(36,36,36)",
              "ticks": "outside"
             }
            },
            "type": "parcoords"
           }
          ],
          "pie": [
           {
            "automargin": true,
            "type": "pie"
           }
          ],
          "scatter": [
           {
            "fillpattern": {
             "fillmode": "overlay",
             "size": 10,
             "solidity": 0.2
            },
            "type": "scatter"
           }
          ],
          "scatter3d": [
           {
            "line": {
             "colorbar": {
              "outlinewidth": 1,
              "tickcolor": "rgb(36,36,36)",
              "ticks": "outside"
             }
            },
            "marker": {
             "colorbar": {
              "outlinewidth": 1,
              "tickcolor": "rgb(36,36,36)",
              "ticks": "outside"
             }
            },
            "type": "scatter3d"
           }
          ],
          "scattercarpet": [
           {
            "marker": {
             "colorbar": {
              "outlinewidth": 1,
              "tickcolor": "rgb(36,36,36)",
              "ticks": "outside"
             }
            },
            "type": "scattercarpet"
           }
          ],
          "scattergeo": [
           {
            "marker": {
             "colorbar": {
              "outlinewidth": 1,
              "tickcolor": "rgb(36,36,36)",
              "ticks": "outside"
             }
            },
            "type": "scattergeo"
           }
          ],
          "scattergl": [
           {
            "marker": {
             "colorbar": {
              "outlinewidth": 1,
              "tickcolor": "rgb(36,36,36)",
              "ticks": "outside"
             }
            },
            "type": "scattergl"
           }
          ],
          "scattermapbox": [
           {
            "marker": {
             "colorbar": {
              "outlinewidth": 1,
              "tickcolor": "rgb(36,36,36)",
              "ticks": "outside"
             }
            },
            "type": "scattermapbox"
           }
          ],
          "scatterpolar": [
           {
            "marker": {
             "colorbar": {
              "outlinewidth": 1,
              "tickcolor": "rgb(36,36,36)",
              "ticks": "outside"
             }
            },
            "type": "scatterpolar"
           }
          ],
          "scatterpolargl": [
           {
            "marker": {
             "colorbar": {
              "outlinewidth": 1,
              "tickcolor": "rgb(36,36,36)",
              "ticks": "outside"
             }
            },
            "type": "scatterpolargl"
           }
          ],
          "scatterternary": [
           {
            "marker": {
             "colorbar": {
              "outlinewidth": 1,
              "tickcolor": "rgb(36,36,36)",
              "ticks": "outside"
             }
            },
            "type": "scatterternary"
           }
          ],
          "surface": [
           {
            "colorbar": {
             "outlinewidth": 1,
             "tickcolor": "rgb(36,36,36)",
             "ticks": "outside"
            },
            "colorscale": [
             [
              0,
              "#440154"
             ],
             [
              0.1111111111111111,
              "#482878"
             ],
             [
              0.2222222222222222,
              "#3e4989"
             ],
             [
              0.3333333333333333,
              "#31688e"
             ],
             [
              0.4444444444444444,
              "#26828e"
             ],
             [
              0.5555555555555556,
              "#1f9e89"
             ],
             [
              0.6666666666666666,
              "#35b779"
             ],
             [
              0.7777777777777778,
              "#6ece58"
             ],
             [
              0.8888888888888888,
              "#b5de2b"
             ],
             [
              1,
              "#fde725"
             ]
            ],
            "type": "surface"
           }
          ],
          "table": [
           {
            "cells": {
             "fill": {
              "color": "rgb(237,237,237)"
             },
             "line": {
              "color": "white"
             }
            },
            "header": {
             "fill": {
              "color": "rgb(217,217,217)"
             },
             "line": {
              "color": "white"
             }
            },
            "type": "table"
           }
          ]
         },
         "layout": {
          "annotationdefaults": {
           "arrowhead": 0,
           "arrowwidth": 1
          },
          "autosize": true,
          "autotypenumbers": "strict",
          "coloraxis": {
           "colorbar": {
            "outlinewidth": 1,
            "tickcolor": "rgb(36,36,36)",
            "ticks": "outside"
           }
          },
          "colorscale": {
           "diverging": [
            [
             0,
             "rgb(103,0,31)"
            ],
            [
             0.1,
             "rgb(178,24,43)"
            ],
            [
             0.2,
             "rgb(214,96,77)"
            ],
            [
             0.3,
             "rgb(244,165,130)"
            ],
            [
             0.4,
             "rgb(253,219,199)"
            ],
            [
             0.5,
             "rgb(247,247,247)"
            ],
            [
             0.6,
             "rgb(209,229,240)"
            ],
            [
             0.7,
             "rgb(146,197,222)"
            ],
            [
             0.8,
             "rgb(67,147,195)"
            ],
            [
             0.9,
             "rgb(33,102,172)"
            ],
            [
             1,
             "rgb(5,48,97)"
            ]
           ],
           "sequential": [
            [
             0,
             "#440154"
            ],
            [
             0.1111111111111111,
             "#482878"
            ],
            [
             0.2222222222222222,
             "#3e4989"
            ],
            [
             0.3333333333333333,
             "#31688e"
            ],
            [
             0.4444444444444444,
             "#26828e"
            ],
            [
             0.5555555555555556,
             "#1f9e89"
            ],
            [
             0.6666666666666666,
             "#35b779"
            ],
            [
             0.7777777777777778,
             "#6ece58"
            ],
            [
             0.8888888888888888,
             "#b5de2b"
            ],
            [
             1,
             "#fde725"
            ]
           ],
           "sequentialminus": [
            [
             0,
             "#440154"
            ],
            [
             0.1111111111111111,
             "#482878"
            ],
            [
             0.2222222222222222,
             "#3e4989"
            ],
            [
             0.3333333333333333,
             "#31688e"
            ],
            [
             0.4444444444444444,
             "#26828e"
            ],
            [
             0.5555555555555556,
             "#1f9e89"
            ],
            [
             0.6666666666666666,
             "#35b779"
            ],
            [
             0.7777777777777778,
             "#6ece58"
            ],
            [
             0.8888888888888888,
             "#b5de2b"
            ],
            [
             1,
             "#fde725"
            ]
           ]
          },
          "colorway": [
           "#1F77B4",
           "#FF7F0E",
           "#2CA02C",
           "#D62728",
           "#9467BD",
           "#8C564B",
           "#E377C2",
           "#7F7F7F",
           "#BCBD22",
           "#17BECF"
          ],
          "font": {
           "color": "rgb(36,36,36)"
          },
          "geo": {
           "bgcolor": "white",
           "lakecolor": "white",
           "landcolor": "white",
           "showlakes": true,
           "showland": true,
           "subunitcolor": "white"
          },
          "height": 400,
          "hoverlabel": {
           "align": "left"
          },
          "hovermode": "closest",
          "mapbox": {
           "style": "light"
          },
          "margin": {
           "b": 30,
           "l": 30,
           "r": 30,
           "t": 30
          },
          "paper_bgcolor": "white",
          "plot_bgcolor": "white",
          "polar": {
           "angularaxis": {
            "gridcolor": "rgb(232,232,232)",
            "linecolor": "rgb(36,36,36)",
            "showgrid": false,
            "showline": true,
            "ticks": "outside"
           },
           "bgcolor": "white",
           "radialaxis": {
            "gridcolor": "rgb(232,232,232)",
            "linecolor": "rgb(36,36,36)",
            "showgrid": false,
            "showline": true,
            "ticks": "outside"
           }
          },
          "scene": {
           "xaxis": {
            "backgroundcolor": "white",
            "gridcolor": "rgb(232,232,232)",
            "gridwidth": 2,
            "linecolor": "rgb(36,36,36)",
            "showbackground": true,
            "showgrid": false,
            "showline": true,
            "ticks": "outside",
            "zeroline": false,
            "zerolinecolor": "rgb(36,36,36)"
           },
           "yaxis": {
            "backgroundcolor": "white",
            "gridcolor": "rgb(232,232,232)",
            "gridwidth": 2,
            "linecolor": "rgb(36,36,36)",
            "showbackground": true,
            "showgrid": false,
            "showline": true,
            "ticks": "outside",
            "zeroline": false,
            "zerolinecolor": "rgb(36,36,36)"
           },
           "zaxis": {
            "backgroundcolor": "white",
            "gridcolor": "rgb(232,232,232)",
            "gridwidth": 2,
            "linecolor": "rgb(36,36,36)",
            "showbackground": true,
            "showgrid": false,
            "showline": true,
            "ticks": "outside",
            "zeroline": false,
            "zerolinecolor": "rgb(36,36,36)"
           }
          },
          "shapedefaults": {
           "fillcolor": "black",
           "line": {
            "width": 0
           },
           "opacity": 0.3
          },
          "ternary": {
           "aaxis": {
            "gridcolor": "rgb(232,232,232)",
            "linecolor": "rgb(36,36,36)",
            "showgrid": false,
            "showline": true,
            "ticks": "outside"
           },
           "baxis": {
            "gridcolor": "rgb(232,232,232)",
            "linecolor": "rgb(36,36,36)",
            "showgrid": false,
            "showline": true,
            "ticks": "outside"
           },
           "bgcolor": "white",
           "caxis": {
            "gridcolor": "rgb(232,232,232)",
            "linecolor": "rgb(36,36,36)",
            "showgrid": false,
            "showline": true,
            "ticks": "outside"
           }
          },
          "title": {
           "x": 0.5,
           "xanchor": "center"
          },
          "width": 600,
          "xaxis": {
           "automargin": true,
           "gridcolor": "rgb(232,232,232)",
           "linecolor": "rgb(36,36,36)",
           "showgrid": true,
           "showline": true,
           "ticks": "outside",
           "title": {
            "standoff": 15
           },
           "zeroline": false,
           "zerolinecolor": "rgb(36,36,36)"
          },
          "yaxis": {
           "automargin": true,
           "gridcolor": "rgb(232,232,232)",
           "linecolor": "rgb(36,36,36)",
           "showgrid": true,
           "showline": true,
           "ticks": "outside",
           "title": {
            "standoff": 15
           },
           "zeroline": false,
           "zerolinecolor": "rgb(36,36,36)"
          }
         }
        },
        "xaxis": {
         "anchor": "y",
         "domain": [
          0,
          1
         ],
         "title": {
          "text": "Polynomial Degree"
         }
        },
        "yaxis": {
         "anchor": "x",
         "domain": [
          0,
          1
         ],
         "title": {
          "text": "Mean Squared Error"
         }
        }
       }
      }
     },
     "metadata": {},
     "output_type": "display_data"
    }
   ],
   "source": [
    "fig = px.line(errs.iloc[:-1])\n",
    "fig.update_layout(showlegend=True, xaxis_title='Polynomial Degree', yaxis_title='Mean Squared Error')"
   ]
  },
  {
   "cell_type": "markdown",
   "id": "993f2606",
   "metadata": {
    "deletable": true,
    "editable": true,
    "slideshow": {
     "slide_type": "fragment"
    }
   },
   "source": [
    "- Training error appears to decrease as polynomial degree increases."
   ]
  },
  {
   "cell_type": "markdown",
   "id": "a6ace7d1",
   "metadata": {
    "deletable": true,
    "editable": true,
    "slideshow": {
     "slide_type": "fragment"
    }
   },
   "source": [
    "- Test error appears to decrease until a \"valley\", and then increases again."
   ]
  },
  {
   "cell_type": "markdown",
   "id": "cc26bc4c",
   "metadata": {
    "deletable": true,
    "editable": true,
    "slideshow": {
     "slide_type": "fragment"
    }
   },
   "source": [
    "- Here, we'd choose a degree of 3, since that degree has the **lowest test error**."
   ]
  },
  {
   "cell_type": "markdown",
   "id": "27054f13",
   "metadata": {
    "deletable": true,
    "editable": true,
    "slideshow": {
     "slide_type": "slide"
    }
   },
   "source": [
    "### Training error vs. test error"
   ]
  },
  {
   "cell_type": "markdown",
   "id": "64a309e0",
   "metadata": {
    "deletable": true,
    "editable": true,
    "slideshow": {
     "slide_type": "fragment"
    }
   },
   "source": [
    "- The pattern we saw in the previous example is true more generally.\n",
    "\n",
    "<center><img src='imgs/tt-errors.png' width=600></center>"
   ]
  },
  {
   "cell_type": "markdown",
   "id": "e64efc96",
   "metadata": {
    "deletable": true,
    "editable": true,
    "slideshow": {
     "slide_type": "fragment"
    }
   },
   "source": [
    "- We pick the hyperparameter(s) at the \"valley\" of test error."
   ]
  },
  {
   "cell_type": "markdown",
   "id": "33264c50",
   "metadata": {
    "deletable": true,
    "editable": true,
    "slideshow": {
     "slide_type": "fragment"
    }
   },
   "source": [
    "- Note that training error **tends** to underestimate test error, but it doesn't have to – i.e., it is possible for test error to be lower than training error (say, if the test set is \"easier\" to predict than the training set)."
   ]
  },
  {
   "cell_type": "markdown",
   "id": "916cc913",
   "metadata": {
    "deletable": true,
    "editable": true,
    "slideshow": {
     "slide_type": "fragment"
    }
   },
   "source": [
    "- The results – and the bias-variance tradeoff more generally – hold true for \"classic\" machine learning models, like the ones we're studying here. But in deep neural networks, this pattern is often violated; extremely complex models can have low test error as well.<br><small>This phenomenon is known as \"double descent\"; learn more [**here**](https://en.wikipedia.org/wiki/Double_descent).</small>"
   ]
  },
  {
   "cell_type": "markdown",
   "id": "9c268e52",
   "metadata": {
    "deletable": true,
    "editable": true,
    "slideshow": {
     "slide_type": "slide"
    }
   },
   "source": [
    "### Conducting train-test splits"
   ]
  },
  {
   "cell_type": "markdown",
   "id": "1ae8cf4e",
   "metadata": {
    "deletable": true,
    "editable": true,
    "slideshow": {
     "slide_type": "fragment"
    }
   },
   "source": [
    "- Recall, <span style='color: blue'><b>training data</b></span> is used to fit our model, and <span style='color: orange'><b>test data</b></span> is used to evaluate our model.\n",
    "\n",
    "<center><img src='imgs/train-test-first.png' width=40%></center>"
   ]
  },
  {
   "cell_type": "markdown",
   "id": "04d79f33",
   "metadata": {
    "deletable": true,
    "editable": true,
    "slideshow": {
     "slide_type": "fragment"
    }
   },
   "source": [
    "- **Question**: _How_ should we split?\n",
    "    - `sklearn`'s `train_test_split` splits **randomly**, which usually works well.\n",
    "    - However, if there is some element of **time** in the training data (say, when predicting the future price of a stock), a better split is \"past\" and \"future\"."
   ]
  },
  {
   "cell_type": "markdown",
   "id": "7570cd07",
   "metadata": {
    "deletable": true,
    "editable": true,
    "slideshow": {
     "slide_type": "fragment"
    }
   },
   "source": [
    "- **Question**: How _large_ should the split be, e.g. 90%-10% vs. 75%-25%?\n",
    "    - There's a tradeoff – a larger training set should lead to a \"better\" model, while a larger test set should lead to a better estimate of our model's ability to generalize.\n",
    "    - There's no \"right\" choice, but we usually choose between 10% to 25% for the test set."
   ]
  },
  {
   "cell_type": "markdown",
   "id": "fac3a4ab",
   "metadata": {
    "deletable": true,
    "editable": true,
    "slideshow": {
     "slide_type": "slide"
    }
   },
   "source": [
    "### But wait..."
   ]
  },
  {
   "cell_type": "markdown",
   "id": "c70ac0e9",
   "metadata": {
    "deletable": true,
    "editable": true,
    "slideshow": {
     "slide_type": "fragment"
    }
   },
   "source": [
    "- With our current strategy, we are choosing the hyperparameter that creates the model that **performs best on the test set**."
   ]
  },
  {
   "cell_type": "markdown",
   "id": "a1166e61",
   "metadata": {
    "deletable": true,
    "editable": true,
    "slideshow": {
     "slide_type": "fragment"
    }
   },
   "source": [
    "- As such, we are **overfitting to the test set** – the best hyperparameter for the test set might not be the best hyperparameter for a totally unseen dataset!"
   ]
  },
  {
   "cell_type": "markdown",
   "id": "1a79a906",
   "metadata": {
    "deletable": true,
    "editable": true,
    "slideshow": {
     "slide_type": "fragment"
    }
   },
   "source": [
    "- It seems like we need **another** split."
   ]
  },
  {
   "cell_type": "markdown",
   "id": "4df7b328",
   "metadata": {
    "deletable": true,
    "editable": true,
    "slideshow": {
     "slide_type": "fragment"
    }
   },
   "source": [
    "- On Thursday, we'll cover the more robust solution to the problem of selecting hyperparameters: **cross-validation**."
   ]
  }
 ],
 "metadata": {
  "celltoolbar": "None",
  "kernelspec": {
   "display_name": "pds",
   "language": "python",
   "name": "python3"
  },
  "language_info": {
   "codemirror_mode": {
    "name": "ipython",
    "version": 3
   },
   "file_extension": ".py",
   "mimetype": "text/x-python",
   "name": "python",
   "nbconvert_exporter": "python",
   "pygments_lexer": "ipython3",
   "version": "3.10.14"
  },
  "livereveal": {
   "scroll": true
  },
  "rise": {
   "transition": "none"
  }
 },
 "nbformat": 4,
 "nbformat_minor": 5
}
