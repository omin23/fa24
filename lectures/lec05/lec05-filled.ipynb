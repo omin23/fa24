{
 "cells": [
  {
   "cell_type": "code",
   "execution_count": 1,
   "id": "df686acd",
   "metadata": {
    "deletable": true,
    "editable": true,
    "slideshow": {
     "slide_type": "skip"
    },
    "tags": []
   },
   "outputs": [],
   "source": [
    "from lec_utils import *\n",
    "def show_grouping_animation():\n",
    "    src = \"https://docs.google.com/presentation/d/1tBaFyHseIGsX5wmE3BdNLeVHnKksQtpzLhHge8Tzly0/embed?start=false&loop=false&delayms=60000&rm=minimal\"\n",
    "    width = 960\n",
    "    height = 509\n",
    "    display(IFrame(src, width, height))"
   ]
  },
  {
   "cell_type": "markdown",
   "id": "ccd8c3b9",
   "metadata": {
    "deletable": true,
    "editable": true,
    "slideshow": {
     "slide_type": "slide"
    },
    "tags": []
   },
   "source": [
    "<div class=\"alert alert-info\" markdown=\"1\">\n",
    "\n",
    "#### Lecture 5\n",
    "\n",
    "# Querying and Grouping\n",
    "\n",
    "### EECS 398-003: Practical Data Science, Fall 2024\n",
    "\n",
    "<small><a style=\"text-decoration: none\" href=\"https://practicaldsc.org\">practicaldsc.org</a> • <a style=\"text-decoration: none\" href=\"https://github.com/practicaldsc/fa24\">github.com/practicaldsc/fa24</a></small>\n",
    "    \n",
    "</div>"
   ]
  },
  {
   "cell_type": "markdown",
   "id": "8fb740ee",
   "metadata": {
    "deletable": true,
    "editable": true,
    "slideshow": {
     "slide_type": "slide"
    }
   },
   "source": [
    "### Announcements 📣\n",
    "\n",
    "- Homework 2 is due on **Thursday**.\n",
    "<br><small>Post on [Ed](https://edstem.org/us/courses/61012/discussion/) or\n",
    "come to [Office Hours](https://practicaldsc.org/calendar) for help! We're using a queue for office hours now – access it from [practicaldsc.org/calendar](https://practicaldsc.org/calendar).</small>\n",
    "\n",
    "- [**study.practicaldsc.org**](https://study.practicaldsc.org) contains our discussion worksheets (and solutions), which are made up of old exam problems. Use these problems to build your theoretical understanding of the material!\n",
    "\n",
    "- Homework 1 scores are available on Gradescope."
   ]
  },
  {
   "cell_type": "markdown",
   "id": "4b541837",
   "metadata": {
    "deletable": true,
    "editable": true,
    "slideshow": {
     "slide_type": "slide"
    }
   },
   "source": [
    "### Agenda\n",
    "\n",
    "- Recap: Querying.\n",
    "- Adding and modifying columns.\n",
    "- `pandas` and `numpy`.\n",
    "- Introduction to the `groupby` method.\n",
    "- `groupby`'s inner workings.\n",
    "\n",
    "Remember to follow along in lecture by accessing the \"blank\" lecture notebook in our [public GitHub repository](https://github.com/practicaldsc/fa24)."
   ]
  },
  {
   "cell_type": "markdown",
   "id": "e866c084",
   "metadata": {
    "deletable": true,
    "editable": true,
    "slideshow": {
     "slide_type": "slide"
    }
   },
   "source": [
    "<div class=\"alert alert-warning\">\n",
    "    <h3>Question 🤔 (Answer at <a style=\"text-decoration: none; color: #0066cc\" href=\"https://docs.google.com/forms/d/e/1FAIpQLSd4oliiZYeNh76jWy-arfEtoAkCrVSsobZxPwxifWggo3EO0Q/viewform\">practicaldsc.org/q</a>)</h3>\n",
    "    \n",
    "<small>Remember that you can always ask questions anonymously at the link above!</small>"
   ]
  },
  {
   "cell_type": "markdown",
   "id": "84bee0e4",
   "metadata": {
    "deletable": true,
    "editable": true,
    "slideshow": {
     "slide_type": "slide"
    }
   },
   "source": [
    "## Querying\n",
    "\n",
    "How do we find rows that satisfy certain **conditions**?\n",
    "\n",
    "---"
   ]
  },
  {
   "cell_type": "markdown",
   "id": "e83520d2",
   "metadata": {
    "deletable": true,
    "editable": true,
    "slideshow": {
     "slide_type": "slide"
    }
   },
   "source": [
    "Run the cell below to load in our dataset."
   ]
  },
  {
   "cell_type": "code",
   "execution_count": 2,
   "id": "aa2d631b",
   "metadata": {
    "deletable": true,
    "editable": true,
    "slideshow": {
     "slide_type": "-"
    }
   },
   "outputs": [
    {
     "data": {
      "text/html": [
       "<div>\n",
       "<style scoped>\n",
       "    .dataframe tbody tr th:only-of-type {\n",
       "        vertical-align: middle;\n",
       "    }\n",
       "\n",
       "    .dataframe tbody tr th {\n",
       "        vertical-align: top;\n",
       "    }\n",
       "\n",
       "    .dataframe thead th {\n",
       "        text-align: right;\n",
       "    }\n",
       "</style>\n",
       "<table border=\"1\" class=\"dataframe\">\n",
       "  <thead>\n",
       "    <tr style=\"text-align: right;\">\n",
       "      <th></th>\n",
       "      <th>kind</th>\n",
       "      <th>lifetime_cost</th>\n",
       "      <th>longevity</th>\n",
       "      <th>size</th>\n",
       "      <th>weight</th>\n",
       "      <th>height</th>\n",
       "    </tr>\n",
       "    <tr>\n",
       "      <th>breed</th>\n",
       "      <th></th>\n",
       "      <th></th>\n",
       "      <th></th>\n",
       "      <th></th>\n",
       "      <th></th>\n",
       "      <th></th>\n",
       "    </tr>\n",
       "  </thead>\n",
       "  <tbody>\n",
       "    <tr>\n",
       "      <th>Brittany</th>\n",
       "      <td>sporting</td>\n",
       "      <td>22589.0</td>\n",
       "      <td>12.92</td>\n",
       "      <td>medium</td>\n",
       "      <td>35.0</td>\n",
       "      <td>19.0</td>\n",
       "    </tr>\n",
       "    <tr>\n",
       "      <th>Cairn Terrier</th>\n",
       "      <td>terrier</td>\n",
       "      <td>21992.0</td>\n",
       "      <td>13.84</td>\n",
       "      <td>small</td>\n",
       "      <td>14.0</td>\n",
       "      <td>10.0</td>\n",
       "    </tr>\n",
       "    <tr>\n",
       "      <th>English Cocker Spaniel</th>\n",
       "      <td>sporting</td>\n",
       "      <td>18993.0</td>\n",
       "      <td>11.66</td>\n",
       "      <td>medium</td>\n",
       "      <td>30.0</td>\n",
       "      <td>16.0</td>\n",
       "    </tr>\n",
       "    <tr>\n",
       "      <th>Cocker Spaniel</th>\n",
       "      <td>sporting</td>\n",
       "      <td>24330.0</td>\n",
       "      <td>12.50</td>\n",
       "      <td>small</td>\n",
       "      <td>25.0</td>\n",
       "      <td>14.5</td>\n",
       "    </tr>\n",
       "    <tr>\n",
       "      <th>Shetland Sheepdog</th>\n",
       "      <td>herding</td>\n",
       "      <td>21006.0</td>\n",
       "      <td>12.53</td>\n",
       "      <td>small</td>\n",
       "      <td>22.0</td>\n",
       "      <td>14.5</td>\n",
       "    </tr>\n",
       "  </tbody>\n",
       "</table>\n",
       "</div>"
      ],
      "text/plain": [
       "                            kind  lifetime_cost  longevity    size  weight  \\\n",
       "breed                                                                        \n",
       "Brittany                sporting        22589.0      12.92  medium    35.0   \n",
       "Cairn Terrier            terrier        21992.0      13.84   small    14.0   \n",
       "English Cocker Spaniel  sporting        18993.0      11.66  medium    30.0   \n",
       "Cocker Spaniel          sporting        24330.0      12.50   small    25.0   \n",
       "Shetland Sheepdog        herding        21006.0      12.53   small    22.0   \n",
       "\n",
       "                        height  \n",
       "breed                           \n",
       "Brittany                  19.0  \n",
       "Cairn Terrier             10.0  \n",
       "English Cocker Spaniel    16.0  \n",
       "Cocker Spaniel            14.5  \n",
       "Shetland Sheepdog         14.5  "
      ]
     },
     "execution_count": 2,
     "metadata": {},
     "output_type": "execute_result"
    }
   ],
   "source": [
    "dogs = pd.read_csv('data/dogs43.csv').set_index('breed')\n",
    "dogs.head()"
   ]
  },
  {
   "cell_type": "markdown",
   "id": "e5c9fe49",
   "metadata": {
    "deletable": true,
    "editable": true,
    "slideshow": {
     "slide_type": "slide"
    }
   },
   "source": [
    "### Recap: Querying"
   ]
  },
  {
   "cell_type": "markdown",
   "id": "dc1212da",
   "metadata": {
    "deletable": true,
    "editable": true,
    "slideshow": {
     "slide_type": "fragment"
    }
   },
   "source": [
    "- Querying is the act selecting rows in a DataFrame that satisfy certain condition(s).<br><small>We sometimes call this \"filtering.\"</small>"
   ]
  },
  {
   "cell_type": "markdown",
   "id": "301576cd",
   "metadata": {
    "deletable": true,
    "editable": true,
    "slideshow": {
     "slide_type": "fragment"
    }
   },
   "source": [
    "- Example: How many breeds live to be over 10 years old?"
   ]
  },
  {
   "cell_type": "code",
   "execution_count": 3,
   "id": "a27dd9e1",
   "metadata": {
    "deletable": true,
    "editable": true
   },
   "outputs": [
    {
     "data": {
      "text/plain": [
       "32"
      ]
     },
     "execution_count": 3,
     "metadata": {},
     "output_type": "execute_result"
    }
   ],
   "source": [
    "dogs[dogs['longevity'] > 10].shape[0] "
   ]
  },
  {
   "cell_type": "markdown",
   "id": "1466206b",
   "metadata": {
    "deletable": true,
    "editable": true,
    "slideshow": {
     "slide_type": "fragment"
    }
   },
   "source": [
    "- Example: Among all breeds with `'Retriever'` in the same, which is the second tallest?<br><small>Remember, we like to format our code this way when writing long, hard-to-read lines.</small>"
   ]
  },
  {
   "cell_type": "code",
   "execution_count": 4,
   "id": "e3ea8424",
   "metadata": {
    "deletable": true,
    "editable": true
   },
   "outputs": [
    {
     "data": {
      "text/plain": [
       "23.0"
      ]
     },
     "execution_count": 4,
     "metadata": {},
     "output_type": "execute_result"
    }
   ],
   "source": [
    "(\n",
    "    dogs.loc[dogs.index.str.contains('Retriever'), 'height']\n",
    "    .sort_values(ascending=False)\n",
    "    .iloc[1]\n",
    ")"
   ]
  },
  {
   "cell_type": "markdown",
   "id": "f6f3ef04",
   "metadata": {
    "deletable": true,
    "editable": true,
    "slideshow": {
     "slide_type": "fragment"
    }
   },
   "source": [
    "- What is the distribution of breeds `'size'`s among `'sporting'` and `'working'` breeds?<br><small>Remember, you need parentheses around each condition. Also, you must use the bitwise operators `&` and `|` instead of the standard `and` and `or` keywords, as we saw in Lecture 3.</small>"
   ]
  },
  {
   "cell_type": "code",
   "execution_count": 9,
   "id": "8ab4cc23",
   "metadata": {
    "deletable": true,
    "editable": true
   },
   "outputs": [
    {
     "data": {
      "text/plain": [
       "size\n",
       "large     11\n",
       "medium     7\n",
       "small      1\n",
       "Name: count, dtype: int64"
      ]
     },
     "execution_count": 9,
     "metadata": {},
     "output_type": "execute_result"
    }
   ],
   "source": [
    "(\n",
    "    dogs.loc[(dogs['kind'] == 'sporting') |\n",
    "    (dogs['kind'] == 'working'), 'size']\n",
    "    .value_counts()\n",
    ")"
   ]
  },
  {
   "cell_type": "code",
   "execution_count": 10,
   "id": "e38ebc25",
   "metadata": {
    "deletable": true,
    "editable": true
   },
   "outputs": [
    {
     "data": {
      "text/plain": [
       "size\n",
       "large     11\n",
       "medium     7\n",
       "small      1\n",
       "Name: count, dtype: int64"
      ]
     },
     "execution_count": 10,
     "metadata": {},
     "output_type": "execute_result"
    }
   ],
   "source": [
    "# Equivalent to the above!\n",
    "(\n",
    "    dogs.loc[dogs['kind'].isin(['sporting', 'working']), 'size']\n",
    "    .value_counts()\n",
    ")"
   ]
  },
  {
   "cell_type": "markdown",
   "id": "0456c658",
   "metadata": {
    "deletable": true,
    "editable": true,
    "slideshow": {
     "slide_type": "fragment"
    }
   },
   "source": [
    "- Show me all rows for `'medium'`-sized dogs."
   ]
  },
  {
   "cell_type": "code",
   "execution_count": 9,
   "id": "bc02bcee",
   "metadata": {
    "deletable": true,
    "editable": true
   },
   "outputs": [
    {
     "data": {
      "text/html": [
       "<div>\n",
       "<style scoped>\n",
       "    .dataframe tbody tr th:only-of-type {\n",
       "        vertical-align: middle;\n",
       "    }\n",
       "\n",
       "    .dataframe tbody tr th {\n",
       "        vertical-align: top;\n",
       "    }\n",
       "\n",
       "    .dataframe thead th {\n",
       "        text-align: right;\n",
       "    }\n",
       "</style>\n",
       "<table border=\"1\" class=\"dataframe\">\n",
       "  <thead>\n",
       "    <tr style=\"text-align: right;\">\n",
       "      <th></th>\n",
       "      <th>kind</th>\n",
       "      <th>lifetime_cost</th>\n",
       "      <th>longevity</th>\n",
       "      <th>size</th>\n",
       "      <th>weight</th>\n",
       "      <th>height</th>\n",
       "    </tr>\n",
       "    <tr>\n",
       "      <th>breed</th>\n",
       "      <th></th>\n",
       "      <th></th>\n",
       "      <th></th>\n",
       "      <th></th>\n",
       "      <th></th>\n",
       "      <th></th>\n",
       "    </tr>\n",
       "  </thead>\n",
       "  <tbody>\n",
       "    <tr>\n",
       "      <th>Brittany</th>\n",
       "      <td>sporting</td>\n",
       "      <td>22589.0</td>\n",
       "      <td>12.92</td>\n",
       "      <td>medium</td>\n",
       "      <td>35.0</td>\n",
       "      <td>19.00</td>\n",
       "    </tr>\n",
       "    <tr>\n",
       "      <th>English Cocker Spaniel</th>\n",
       "      <td>sporting</td>\n",
       "      <td>18993.0</td>\n",
       "      <td>11.66</td>\n",
       "      <td>medium</td>\n",
       "      <td>30.0</td>\n",
       "      <td>16.00</td>\n",
       "    </tr>\n",
       "    <tr>\n",
       "      <th>Siberian Husky</th>\n",
       "      <td>working</td>\n",
       "      <td>22049.0</td>\n",
       "      <td>12.58</td>\n",
       "      <td>medium</td>\n",
       "      <td>47.5</td>\n",
       "      <td>21.75</td>\n",
       "    </tr>\n",
       "    <tr>\n",
       "      <th>...</th>\n",
       "      <td>...</td>\n",
       "      <td>...</td>\n",
       "      <td>...</td>\n",
       "      <td>...</td>\n",
       "      <td>...</td>\n",
       "      <td>...</td>\n",
       "    </tr>\n",
       "    <tr>\n",
       "      <th>Clumber Spaniel</th>\n",
       "      <td>sporting</td>\n",
       "      <td>18084.0</td>\n",
       "      <td>10.00</td>\n",
       "      <td>medium</td>\n",
       "      <td>70.0</td>\n",
       "      <td>18.50</td>\n",
       "    </tr>\n",
       "    <tr>\n",
       "      <th>Kerry Blue Terrier</th>\n",
       "      <td>terrier</td>\n",
       "      <td>17240.0</td>\n",
       "      <td>9.40</td>\n",
       "      <td>medium</td>\n",
       "      <td>36.5</td>\n",
       "      <td>18.50</td>\n",
       "    </tr>\n",
       "    <tr>\n",
       "      <th>Bull Terrier</th>\n",
       "      <td>terrier</td>\n",
       "      <td>18490.0</td>\n",
       "      <td>10.21</td>\n",
       "      <td>medium</td>\n",
       "      <td>60.0</td>\n",
       "      <td>21.50</td>\n",
       "    </tr>\n",
       "  </tbody>\n",
       "</table>\n",
       "<p>12 rows × 6 columns</p>\n",
       "</div>"
      ],
      "text/plain": [
       "                            kind  lifetime_cost  longevity    size  weight  \\\n",
       "breed                                                                        \n",
       "Brittany                sporting        22589.0      12.92  medium    35.0   \n",
       "English Cocker Spaniel  sporting        18993.0      11.66  medium    30.0   \n",
       "Siberian Husky           working        22049.0      12.58  medium    47.5   \n",
       "...                          ...            ...        ...     ...     ...   \n",
       "Clumber Spaniel         sporting        18084.0      10.00  medium    70.0   \n",
       "Kerry Blue Terrier       terrier        17240.0       9.40  medium    36.5   \n",
       "Bull Terrier             terrier        18490.0      10.21  medium    60.0   \n",
       "\n",
       "                        height  \n",
       "breed                           \n",
       "Brittany                 19.00  \n",
       "English Cocker Spaniel   16.00  \n",
       "Siberian Husky           21.75  \n",
       "...                        ...  \n",
       "Clumber Spaniel          18.50  \n",
       "Kerry Blue Terrier       18.50  \n",
       "Bull Terrier             21.50  \n",
       "\n",
       "[12 rows x 6 columns]"
      ]
     },
     "execution_count": 9,
     "metadata": {},
     "output_type": "execute_result"
    }
   ],
   "source": [
    "dogs[dogs['size'] == 'medium'] "
   ]
  },
  {
   "cell_type": "markdown",
   "id": "93e7ad42",
   "metadata": {
    "deletable": true,
    "editable": true,
    "slideshow": {
     "slide_type": "fragment"
    }
   },
   "source": [
    "- Show me all rows for `'Golden Retriever'`s.<br><small>Note that because we set the index to `'breed'` earlier, we can select rows based on dog breeds without having to query. If `'breed'` was instead a column, then we'd need to query to access information about a particular breed.</small>"
   ]
  },
  {
   "cell_type": "code",
   "execution_count": 10,
   "id": "ad0b7a27",
   "metadata": {
    "deletable": true,
    "editable": true
   },
   "outputs": [
    {
     "data": {
      "text/plain": [
       "kind             sporting\n",
       "lifetime_cost     21447.0\n",
       "longevity           12.04\n",
       "size               medium\n",
       "weight               60.0\n",
       "height              22.75\n",
       "Name: Golden Retriever, dtype: object"
      ]
     },
     "execution_count": 10,
     "metadata": {},
     "output_type": "execute_result"
    }
   ],
   "source": [
    "dogs.loc['Golden Retriever'] "
   ]
  },
  {
   "cell_type": "markdown",
   "id": "7dd8652e",
   "metadata": {
    "deletable": true,
    "editable": true,
    "slideshow": {
     "slide_type": "slide"
    },
    "tags": []
   },
   "source": [
    "<div class=\"alert alert-danger\">\n",
    "    <h3>Aside: Reference Slides</h3>"
   ]
  },
  {
   "cell_type": "markdown",
   "id": "22b25f4b",
   "metadata": {
    "deletable": true,
    "editable": true,
    "slideshow": {
     "slide_type": "fragment"
    }
   },
   "source": [
    "- Moving forward, I'm going to try and spend a bit less time on syntax and a bit more time on conceptual problem-solving."
   ]
  },
  {
   "cell_type": "markdown",
   "id": "f57affe2",
   "metadata": {
    "deletable": true,
    "editable": true,
    "slideshow": {
     "slide_type": "fragment"
    }
   },
   "source": [
    "- So, in each lecture, some slides will be called \"Reference Slides\"."
   ]
  },
  {
   "cell_type": "markdown",
   "id": "19c5d462",
   "metadata": {
    "deletable": true,
    "editable": true,
    "slideshow": {
     "slide_type": "fragment"
    }
   },
   "source": [
    "- **We will skip these slides during live lecture, but they'll be present in the posted lecture notebooks, so that you can look at them when working on activities in class and on discussion and homework problems**.<br><small>The material in them is in-scope.</small>"
   ]
  },
  {
   "cell_type": "markdown",
   "id": "30f3bffd",
   "metadata": {
    "deletable": true,
    "editable": true,
    "slideshow": {
     "slide_type": "fragment"
    }
   },
   "source": [
    "- Reference slides will appear with red headers, like this one.<br><small>There's a Reference Slide right after this slide, about the DataFrame `query` method!</small>"
   ]
  },
  {
   "cell_type": "markdown",
   "id": "b245ce1c",
   "metadata": {
    "deletable": true,
    "editable": true,
    "slideshow": {
     "slide_type": "skip"
    }
   },
   "source": [
    "<div class=\"alert alert-danger\" markdown=\"1\">\n",
    "\n",
    "#### Reference Slide\n",
    "\n",
    "### The `query` method"
   ]
  },
  {
   "cell_type": "markdown",
   "id": "6ce838f8",
   "metadata": {
    "deletable": true,
    "editable": true,
    "slideshow": {
     "slide_type": "skip"
    }
   },
   "source": [
    "The DataFrame `query` method is a convenient way to query, since you don't need parentheses and you can use the `and` and `or` keywords."
   ]
  },
  {
   "cell_type": "code",
   "execution_count": null,
   "id": "d2a971ea",
   "metadata": {
    "deletable": true,
    "editable": true,
    "slideshow": {
     "slide_type": "skip"
    }
   },
   "outputs": [],
   "source": [
    "dogs"
   ]
  },
  {
   "cell_type": "code",
   "execution_count": 11,
   "id": "fe67df64",
   "metadata": {
    "deletable": true,
    "editable": true,
    "slideshow": {
     "slide_type": "skip"
    },
    "tags": []
   },
   "outputs": [
    {
     "data": {
      "text/html": [
       "<div>\n",
       "<style scoped>\n",
       "    .dataframe tbody tr th:only-of-type {\n",
       "        vertical-align: middle;\n",
       "    }\n",
       "\n",
       "    .dataframe tbody tr th {\n",
       "        vertical-align: top;\n",
       "    }\n",
       "\n",
       "    .dataframe thead th {\n",
       "        text-align: right;\n",
       "    }\n",
       "</style>\n",
       "<table border=\"1\" class=\"dataframe\">\n",
       "  <thead>\n",
       "    <tr style=\"text-align: right;\">\n",
       "      <th></th>\n",
       "      <th>kind</th>\n",
       "      <th>lifetime_cost</th>\n",
       "      <th>longevity</th>\n",
       "      <th>size</th>\n",
       "      <th>weight</th>\n",
       "      <th>height</th>\n",
       "    </tr>\n",
       "    <tr>\n",
       "      <th>breed</th>\n",
       "      <th></th>\n",
       "      <th></th>\n",
       "      <th></th>\n",
       "      <th></th>\n",
       "      <th></th>\n",
       "      <th></th>\n",
       "    </tr>\n",
       "  </thead>\n",
       "  <tbody>\n",
       "    <tr>\n",
       "      <th>Cairn Terrier</th>\n",
       "      <td>terrier</td>\n",
       "      <td>21992.0</td>\n",
       "      <td>13.84</td>\n",
       "      <td>small</td>\n",
       "      <td>14.0</td>\n",
       "      <td>10.0</td>\n",
       "    </tr>\n",
       "    <tr>\n",
       "      <th>Miniature Schnauzer</th>\n",
       "      <td>terrier</td>\n",
       "      <td>20087.0</td>\n",
       "      <td>11.81</td>\n",
       "      <td>small</td>\n",
       "      <td>15.5</td>\n",
       "      <td>13.0</td>\n",
       "    </tr>\n",
       "    <tr>\n",
       "      <th>Norfolk Terrier</th>\n",
       "      <td>terrier</td>\n",
       "      <td>24308.0</td>\n",
       "      <td>13.07</td>\n",
       "      <td>small</td>\n",
       "      <td>12.0</td>\n",
       "      <td>9.5</td>\n",
       "    </tr>\n",
       "  </tbody>\n",
       "</table>\n",
       "</div>"
      ],
      "text/plain": [
       "                        kind  lifetime_cost  longevity   size  weight  height\n",
       "breed                                                                        \n",
       "Cairn Terrier        terrier        21992.0      13.84  small    14.0    10.0\n",
       "Miniature Schnauzer  terrier        20087.0      11.81  small    15.5    13.0\n",
       "Norfolk Terrier      terrier        24308.0      13.07  small    12.0     9.5"
      ]
     },
     "execution_count": 11,
     "metadata": {},
     "output_type": "execute_result"
    }
   ],
   "source": [
    "dogs.query('weight < 20 and kind == \"terrier\"')"
   ]
  },
  {
   "cell_type": "code",
   "execution_count": 12,
   "id": "3ebdd2eb",
   "metadata": {
    "deletable": true,
    "editable": true,
    "slideshow": {
     "slide_type": "skip"
    },
    "tags": []
   },
   "outputs": [
    {
     "data": {
      "text/html": [
       "<div>\n",
       "<style scoped>\n",
       "    .dataframe tbody tr th:only-of-type {\n",
       "        vertical-align: middle;\n",
       "    }\n",
       "\n",
       "    .dataframe tbody tr th {\n",
       "        vertical-align: top;\n",
       "    }\n",
       "\n",
       "    .dataframe thead th {\n",
       "        text-align: right;\n",
       "    }\n",
       "</style>\n",
       "<table border=\"1\" class=\"dataframe\">\n",
       "  <thead>\n",
       "    <tr style=\"text-align: right;\">\n",
       "      <th></th>\n",
       "      <th>kind</th>\n",
       "      <th>lifetime_cost</th>\n",
       "      <th>longevity</th>\n",
       "      <th>size</th>\n",
       "      <th>weight</th>\n",
       "      <th>height</th>\n",
       "    </tr>\n",
       "    <tr>\n",
       "      <th>breed</th>\n",
       "      <th></th>\n",
       "      <th></th>\n",
       "      <th></th>\n",
       "      <th></th>\n",
       "      <th></th>\n",
       "      <th></th>\n",
       "    </tr>\n",
       "  </thead>\n",
       "  <tbody>\n",
       "    <tr>\n",
       "      <th>English Cocker Spaniel</th>\n",
       "      <td>sporting</td>\n",
       "      <td>18993.0</td>\n",
       "      <td>11.66</td>\n",
       "      <td>medium</td>\n",
       "      <td>30.0</td>\n",
       "      <td>16.0</td>\n",
       "    </tr>\n",
       "    <tr>\n",
       "      <th>Chesapeake Bay Retriever</th>\n",
       "      <td>sporting</td>\n",
       "      <td>16697.0</td>\n",
       "      <td>9.48</td>\n",
       "      <td>large</td>\n",
       "      <td>67.5</td>\n",
       "      <td>23.5</td>\n",
       "    </tr>\n",
       "    <tr>\n",
       "      <th>Gordon Setter</th>\n",
       "      <td>sporting</td>\n",
       "      <td>19605.0</td>\n",
       "      <td>11.10</td>\n",
       "      <td>large</td>\n",
       "      <td>62.5</td>\n",
       "      <td>25.0</td>\n",
       "    </tr>\n",
       "    <tr>\n",
       "      <th>Clumber Spaniel</th>\n",
       "      <td>sporting</td>\n",
       "      <td>18084.0</td>\n",
       "      <td>10.00</td>\n",
       "      <td>medium</td>\n",
       "      <td>70.0</td>\n",
       "      <td>18.5</td>\n",
       "    </tr>\n",
       "    <tr>\n",
       "      <th>Scottish Terrier</th>\n",
       "      <td>terrier</td>\n",
       "      <td>17525.0</td>\n",
       "      <td>10.69</td>\n",
       "      <td>small</td>\n",
       "      <td>20.0</td>\n",
       "      <td>10.0</td>\n",
       "    </tr>\n",
       "    <tr>\n",
       "      <th>Kerry Blue Terrier</th>\n",
       "      <td>terrier</td>\n",
       "      <td>17240.0</td>\n",
       "      <td>9.40</td>\n",
       "      <td>medium</td>\n",
       "      <td>36.5</td>\n",
       "      <td>18.5</td>\n",
       "    </tr>\n",
       "    <tr>\n",
       "      <th>Bull Terrier</th>\n",
       "      <td>terrier</td>\n",
       "      <td>18490.0</td>\n",
       "      <td>10.21</td>\n",
       "      <td>medium</td>\n",
       "      <td>60.0</td>\n",
       "      <td>21.5</td>\n",
       "    </tr>\n",
       "  </tbody>\n",
       "</table>\n",
       "</div>"
      ],
      "text/plain": [
       "                              kind  lifetime_cost  longevity    size  weight  \\\n",
       "breed                                                                          \n",
       "English Cocker Spaniel    sporting        18993.0      11.66  medium    30.0   \n",
       "Chesapeake Bay Retriever  sporting        16697.0       9.48   large    67.5   \n",
       "Gordon Setter             sporting        19605.0      11.10   large    62.5   \n",
       "Clumber Spaniel           sporting        18084.0      10.00  medium    70.0   \n",
       "Scottish Terrier           terrier        17525.0      10.69   small    20.0   \n",
       "Kerry Blue Terrier         terrier        17240.0       9.40  medium    36.5   \n",
       "Bull Terrier               terrier        18490.0      10.21  medium    60.0   \n",
       "\n",
       "                          height  \n",
       "breed                             \n",
       "English Cocker Spaniel      16.0  \n",
       "Chesapeake Bay Retriever    23.5  \n",
       "Gordon Setter               25.0  \n",
       "Clumber Spaniel             18.5  \n",
       "Scottish Terrier            10.0  \n",
       "Kerry Blue Terrier          18.5  \n",
       "Bull Terrier                21.5  "
      ]
     },
     "execution_count": 12,
     "metadata": {},
     "output_type": "execute_result"
    }
   ],
   "source": [
    "dogs.query('kind in [\"sporting\", \"terrier\"] and lifetime_cost < 20000')"
   ]
  },
  {
   "cell_type": "markdown",
   "id": "b6c05987",
   "metadata": {
    "deletable": true,
    "editable": true,
    "slideshow": {
     "slide_type": "skip"
    },
    "tags": []
   },
   "source": [
    "<div class=\"alert alert-danger\" markdown=\"1\">\n",
    "\n",
    "#### Reference Slide\n",
    "\n",
    "### More practice"
   ]
  },
  {
   "cell_type": "code",
   "execution_count": 13,
   "id": "c9ad843d",
   "metadata": {
    "deletable": true,
    "editable": true,
    "slideshow": {
     "slide_type": "skip"
    },
    "tags": []
   },
   "outputs": [
    {
     "data": {
      "text/html": [
       "<div>\n",
       "<style scoped>\n",
       "    .dataframe tbody tr th:only-of-type {\n",
       "        vertical-align: middle;\n",
       "    }\n",
       "\n",
       "    .dataframe tbody tr th {\n",
       "        vertical-align: top;\n",
       "    }\n",
       "\n",
       "    .dataframe thead th {\n",
       "        text-align: right;\n",
       "    }\n",
       "</style>\n",
       "<table border=\"1\" class=\"dataframe\">\n",
       "  <thead>\n",
       "    <tr style=\"text-align: right;\">\n",
       "      <th></th>\n",
       "      <th>1</th>\n",
       "      <th>1</th>\n",
       "    </tr>\n",
       "  </thead>\n",
       "  <tbody>\n",
       "    <tr>\n",
       "      <th>0</th>\n",
       "      <td>fee</td>\n",
       "      <td>fo</td>\n",
       "    </tr>\n",
       "    <tr>\n",
       "      <th>1</th>\n",
       "      <td>fi</td>\n",
       "      <td>fum</td>\n",
       "    </tr>\n",
       "  </tbody>\n",
       "</table>\n",
       "</div>"
      ],
      "text/plain": [
       "     1    1\n",
       "0  fee   fo\n",
       "1   fi  fum"
      ]
     },
     "execution_count": 13,
     "metadata": {},
     "output_type": "execute_result"
    }
   ],
   "source": [
    "jack = pd.DataFrame({1: ['fee', 'fi'], \n",
    "                     '1': ['fo', 'fum']})\n",
    "jack"
   ]
  },
  {
   "cell_type": "markdown",
   "id": "446fcd49",
   "metadata": {
    "deletable": true,
    "editable": true,
    "slideshow": {
     "slide_type": "skip"
    },
    "tags": []
   },
   "source": [
    "For each of the following pieces of code, predict what the output will be. Then, uncomment the line of code and see for yourself. We **won't** cover these in class, but you should try them out yourself. [Here's a Pandas Tutor link](https://pandastutor.com/vis.html#code=import%20pandas%20as%20pd%0A%0Ajack%20%3D%20pd.DataFrame%28%7B1%3A%20%5B'fee',%20'fi'%5D,%20%0A%20%20%20%20%20%20%20%20%20%20%20%20%20%20%20%20%20%20%20%20%20'1'%3A%20%5B'fo',%20'fum'%5D%7D%29%0Ajack%5B1%5D&d=2023-10-05&lang=py&v=v1) to visualize these!"
   ]
  },
  {
   "cell_type": "code",
   "execution_count": 14,
   "id": "770d701e",
   "metadata": {
    "deletable": true,
    "editable": true,
    "slideshow": {
     "slide_type": "skip"
    },
    "tags": []
   },
   "outputs": [],
   "source": [
    "# jack[1]"
   ]
  },
  {
   "cell_type": "code",
   "execution_count": null,
   "id": "c753c2f4",
   "metadata": {
    "deletable": true,
    "editable": true,
    "slideshow": {
     "slide_type": "skip"
    },
    "tags": []
   },
   "outputs": [],
   "source": [
    "# jack[[1]]"
   ]
  },
  {
   "cell_type": "code",
   "execution_count": null,
   "id": "226f0a7e",
   "metadata": {
    "deletable": true,
    "editable": true,
    "slideshow": {
     "slide_type": "skip"
    },
    "tags": []
   },
   "outputs": [],
   "source": [
    "# jack['1']"
   ]
  },
  {
   "cell_type": "code",
   "execution_count": null,
   "id": "b4b72a58",
   "metadata": {
    "deletable": true,
    "editable": true,
    "slideshow": {
     "slide_type": "skip"
    },
    "tags": []
   },
   "outputs": [],
   "source": [
    "# jack[[1, 1]]"
   ]
  },
  {
   "cell_type": "code",
   "execution_count": null,
   "id": "b52d40bd",
   "metadata": {
    "deletable": true,
    "editable": true,
    "slideshow": {
     "slide_type": "skip"
    },
    "tags": []
   },
   "outputs": [],
   "source": [
    "# jack.loc[1]"
   ]
  },
  {
   "cell_type": "code",
   "execution_count": null,
   "id": "8c50cc06",
   "metadata": {
    "deletable": true,
    "editable": true,
    "slideshow": {
     "slide_type": "skip"
    },
    "tags": []
   },
   "outputs": [],
   "source": [
    "# jack.loc[jack[1] == 'fo']"
   ]
  },
  {
   "cell_type": "code",
   "execution_count": null,
   "id": "58cc2a5d",
   "metadata": {
    "deletable": true,
    "editable": true,
    "slideshow": {
     "slide_type": "skip"
    },
    "tags": []
   },
   "outputs": [],
   "source": [
    "# jack[1, ['1', 1]]"
   ]
  },
  {
   "cell_type": "code",
   "execution_count": null,
   "id": "34714544",
   "metadata": {
    "deletable": true,
    "editable": true,
    "slideshow": {
     "slide_type": "skip"
    },
    "tags": []
   },
   "outputs": [],
   "source": [
    "# jack.loc[1,1]"
   ]
  },
  {
   "cell_type": "markdown",
   "id": "5e508b30",
   "metadata": {
    "deletable": true,
    "editable": true,
    "slideshow": {
     "slide_type": "slide"
    },
    "tags": []
   },
   "source": [
    "## Adding and modifying columns\n",
    "\n",
    "---"
   ]
  },
  {
   "cell_type": "markdown",
   "id": "652e801f",
   "metadata": {
    "deletable": true,
    "editable": true,
    "slideshow": {
     "slide_type": "slide"
    },
    "tags": []
   },
   "source": [
    "### Adding and modifying columns, using a copy"
   ]
  },
  {
   "cell_type": "markdown",
   "id": "01da132d",
   "metadata": {
    "deletable": true,
    "editable": true,
    "slideshow": {
     "slide_type": "fragment"
    }
   },
   "source": [
    "- To add a new column to a DataFrame, use the `assign` method.<br><small>To change the values in a column, add a new column with the same name as the existing column.</small>"
   ]
  },
  {
   "cell_type": "markdown",
   "id": "666c506d",
   "metadata": {
    "deletable": true,
    "editable": true,
    "slideshow": {
     "slide_type": "fragment"
    }
   },
   "source": [
    "- Like most `pandas` methods, `assign` returns a new DataFrame.<br><small>\n",
    "    - **Pro** ✅: This doesn't inadvertently change any existing variables.\n",
    "    - **Con** ❌: It is not very space efficient, as it creates a new copy each time it is called.</small>"
   ]
  },
  {
   "cell_type": "code",
   "execution_count": null,
   "id": "b727ce4b",
   "metadata": {
    "deletable": true,
    "editable": true,
    "scrolled": true,
    "slideshow": {
     "slide_type": ""
    },
    "tags": []
   },
   "outputs": [],
   "source": [
    "dogs.assign(cost_per_year=dogs['lifetime_cost'] / dogs['longevity']) "
   ]
  },
  {
   "cell_type": "code",
   "execution_count": null,
   "id": "32a1e798",
   "metadata": {
    "deletable": true,
    "editable": true
   },
   "outputs": [],
   "source": [
    "dogs"
   ]
  },
  {
   "cell_type": "markdown",
   "id": "b723299c",
   "metadata": {
    "deletable": true,
    "editable": true,
    "slideshow": {
     "slide_type": "skip"
    }
   },
   "source": [
    "<div class=\"alert alert-danger\" markdown=\"1\">\n",
    "\n",
    "#### Reference Slide\n",
    "\n",
    "### `assign` for column names with special characters"
   ]
  },
  {
   "cell_type": "markdown",
   "id": "cb39b551",
   "metadata": {
    "deletable": true,
    "editable": true,
    "slideshow": {
     "slide_type": "skip"
    }
   },
   "source": [
    "You can also use `assign` when the desired column name has spaces (and other special characters) by unpacking a dictionary:"
   ]
  },
  {
   "cell_type": "code",
   "execution_count": 15,
   "id": "03e8ca37",
   "metadata": {
    "deletable": true,
    "editable": true,
    "slideshow": {
     "slide_type": "skip"
    }
   },
   "outputs": [
    {
     "data": {
      "text/html": [
       "<div>\n",
       "<style scoped>\n",
       "    .dataframe tbody tr th:only-of-type {\n",
       "        vertical-align: middle;\n",
       "    }\n",
       "\n",
       "    .dataframe tbody tr th {\n",
       "        vertical-align: top;\n",
       "    }\n",
       "\n",
       "    .dataframe thead th {\n",
       "        text-align: right;\n",
       "    }\n",
       "</style>\n",
       "<table border=\"1\" class=\"dataframe\">\n",
       "  <thead>\n",
       "    <tr style=\"text-align: right;\">\n",
       "      <th></th>\n",
       "      <th>kind</th>\n",
       "      <th>lifetime_cost</th>\n",
       "      <th>longevity</th>\n",
       "      <th>size</th>\n",
       "      <th>weight</th>\n",
       "      <th>height</th>\n",
       "      <th>cost per year 💵</th>\n",
       "    </tr>\n",
       "    <tr>\n",
       "      <th>breed</th>\n",
       "      <th></th>\n",
       "      <th></th>\n",
       "      <th></th>\n",
       "      <th></th>\n",
       "      <th></th>\n",
       "      <th></th>\n",
       "      <th></th>\n",
       "    </tr>\n",
       "  </thead>\n",
       "  <tbody>\n",
       "    <tr>\n",
       "      <th>Brittany</th>\n",
       "      <td>sporting</td>\n",
       "      <td>22589.0</td>\n",
       "      <td>12.92</td>\n",
       "      <td>medium</td>\n",
       "      <td>35.0</td>\n",
       "      <td>19.0</td>\n",
       "      <td>1748.37</td>\n",
       "    </tr>\n",
       "    <tr>\n",
       "      <th>Cairn Terrier</th>\n",
       "      <td>terrier</td>\n",
       "      <td>21992.0</td>\n",
       "      <td>13.84</td>\n",
       "      <td>small</td>\n",
       "      <td>14.0</td>\n",
       "      <td>10.0</td>\n",
       "      <td>1589.02</td>\n",
       "    </tr>\n",
       "    <tr>\n",
       "      <th>English Cocker Spaniel</th>\n",
       "      <td>sporting</td>\n",
       "      <td>18993.0</td>\n",
       "      <td>11.66</td>\n",
       "      <td>medium</td>\n",
       "      <td>30.0</td>\n",
       "      <td>16.0</td>\n",
       "      <td>1628.90</td>\n",
       "    </tr>\n",
       "    <tr>\n",
       "      <th>...</th>\n",
       "      <td>...</td>\n",
       "      <td>...</td>\n",
       "      <td>...</td>\n",
       "      <td>...</td>\n",
       "      <td>...</td>\n",
       "      <td>...</td>\n",
       "      <td>...</td>\n",
       "    </tr>\n",
       "    <tr>\n",
       "      <th>Bullmastiff</th>\n",
       "      <td>working</td>\n",
       "      <td>13936.0</td>\n",
       "      <td>7.57</td>\n",
       "      <td>large</td>\n",
       "      <td>115.0</td>\n",
       "      <td>25.5</td>\n",
       "      <td>1840.95</td>\n",
       "    </tr>\n",
       "    <tr>\n",
       "      <th>Mastiff</th>\n",
       "      <td>working</td>\n",
       "      <td>13581.0</td>\n",
       "      <td>6.50</td>\n",
       "      <td>large</td>\n",
       "      <td>175.0</td>\n",
       "      <td>30.0</td>\n",
       "      <td>2089.38</td>\n",
       "    </tr>\n",
       "    <tr>\n",
       "      <th>Saint Bernard</th>\n",
       "      <td>working</td>\n",
       "      <td>20022.0</td>\n",
       "      <td>7.78</td>\n",
       "      <td>large</td>\n",
       "      <td>155.0</td>\n",
       "      <td>26.5</td>\n",
       "      <td>2573.52</td>\n",
       "    </tr>\n",
       "  </tbody>\n",
       "</table>\n",
       "<p>43 rows × 7 columns</p>\n",
       "</div>"
      ],
      "text/plain": [
       "                            kind  lifetime_cost  longevity    size  weight  \\\n",
       "breed                                                                        \n",
       "Brittany                sporting        22589.0      12.92  medium    35.0   \n",
       "Cairn Terrier            terrier        21992.0      13.84   small    14.0   \n",
       "English Cocker Spaniel  sporting        18993.0      11.66  medium    30.0   \n",
       "...                          ...            ...        ...     ...     ...   \n",
       "Bullmastiff              working        13936.0       7.57   large   115.0   \n",
       "Mastiff                  working        13581.0       6.50   large   175.0   \n",
       "Saint Bernard            working        20022.0       7.78   large   155.0   \n",
       "\n",
       "                        height  cost per year 💵  \n",
       "breed                                            \n",
       "Brittany                  19.0          1748.37  \n",
       "Cairn Terrier             10.0          1589.02  \n",
       "English Cocker Spaniel    16.0          1628.90  \n",
       "...                        ...              ...  \n",
       "Bullmastiff               25.5          1840.95  \n",
       "Mastiff                   30.0          2089.38  \n",
       "Saint Bernard             26.5          2573.52  \n",
       "\n",
       "[43 rows x 7 columns]"
      ]
     },
     "execution_count": 15,
     "metadata": {},
     "output_type": "execute_result"
    }
   ],
   "source": [
    "dogs.assign(**{'cost per year 💵': dogs['lifetime_cost'] / dogs['longevity']})"
   ]
  },
  {
   "cell_type": "markdown",
   "id": "e34a0ea7",
   "metadata": {
    "deletable": true,
    "editable": true,
    "slideshow": {
     "slide_type": "slide"
    }
   },
   "source": [
    "### Adding and modifying columns, in-place"
   ]
  },
  {
   "cell_type": "markdown",
   "id": "13340e30",
   "metadata": {
    "deletable": true,
    "editable": true,
    "slideshow": {
     "slide_type": "fragment"
    }
   },
   "source": [
    "- You can assign a new column to a DataFrame **in-place** using `[]`.<br><small>This works like dictionary assignment. Using `[]` **modifies** the underlying DataFrame, unlike `assign`, which returns a new DataFrame.</small>"
   ]
  },
  {
   "cell_type": "markdown",
   "id": "19ed07dc",
   "metadata": {
    "deletable": true,
    "editable": true,
    "slideshow": {
     "slide_type": "fragment"
    }
   },
   "source": [
    "- This is the more \"common\" way of adding/modifying columns.<br><small>**Exercise caution when using this approach, since it is destructive – it changes the values of existing variables.**</small>"
   ]
  },
  {
   "cell_type": "code",
   "execution_count": null,
   "id": "32a6a112",
   "metadata": {
    "deletable": true,
    "editable": true
   },
   "outputs": [],
   "source": [
    "# By default, .copy() returns a deep copy of the object it is called on,\n",
    "# meaning that if you change the copy, the original remains unmodified.\n",
    "dogs_copy = dogs.copy() \n",
    "dogs_copy.head(2)"
   ]
  },
  {
   "cell_type": "code",
   "execution_count": null,
   "id": "acfbab19",
   "metadata": {
    "deletable": true,
    "editable": true
   },
   "outputs": [],
   "source": [
    "dogs_copy['cost_per_year'] = dogs_copy['lifetime_cost'] / dogs_copy['longevity']\n",
    "dogs_copy"
   ]
  },
  {
   "cell_type": "markdown",
   "id": "a7117c42",
   "metadata": {
    "deletable": true,
    "editable": true,
    "slideshow": {
     "slide_type": "fragment"
    }
   },
   "source": [
    "- Note that we never reassigned `dogs_copy` in the cell above – that is, we never wrote `dogs_copy = ...` – though it was still modified."
   ]
  },
  {
   "cell_type": "markdown",
   "id": "e13740da",
   "metadata": {
    "deletable": true,
    "editable": true,
    "slideshow": {
     "slide_type": "slide"
    }
   },
   "source": [
    "### Mutability"
   ]
  },
  {
   "cell_type": "markdown",
   "id": "6a1670d6",
   "metadata": {
    "deletable": true,
    "editable": true,
    "slideshow": {
     "slide_type": "fragment"
    }
   },
   "source": [
    "- DataFrames, like lists, arrays, and dictionaries, are **mutable**. As we saw in Lecture 2, this means they can be modified in-place after creation."
   ]
  },
  {
   "cell_type": "markdown",
   "id": "30e38cb4",
   "metadata": {
    "deletable": true,
    "editable": true,
    "slideshow": {
     "slide_type": "fragment"
    }
   },
   "source": [
    "- Not only does this explain the behavior on the previous slide, but it also explains the following:"
   ]
  },
  {
   "cell_type": "code",
   "execution_count": null,
   "id": "afa56a31",
   "metadata": {
    "deletable": true,
    "editable": true
   },
   "outputs": [],
   "source": [
    "dogs_copy"
   ]
  },
  {
   "cell_type": "code",
   "execution_count": null,
   "id": "55a92bf0",
   "metadata": {
    "deletable": true,
    "editable": true
   },
   "outputs": [],
   "source": [
    "def cost_in_thousands():\n",
    "    dogs_copy['lifetime_cost'] = dogs_copy['lifetime_cost'] / 1000"
   ]
  },
  {
   "cell_type": "code",
   "execution_count": null,
   "id": "467a05ea",
   "metadata": {
    "deletable": true,
    "editable": true
   },
   "outputs": [],
   "source": [
    "# What happens when we run this twice? Three times?\n",
    "cost_in_thousands()"
   ]
  },
  {
   "cell_type": "code",
   "execution_count": null,
   "id": "52b595d5",
   "metadata": {
    "deletable": true,
    "editable": true
   },
   "outputs": [],
   "source": [
    "dogs_copy"
   ]
  },
  {
   "cell_type": "markdown",
   "id": "3857feb5",
   "metadata": {
    "deletable": true,
    "editable": true,
    "slideshow": {
     "slide_type": "slide"
    }
   },
   "source": [
    "### ⚠️ Warning: Avoid mutation when possible!"
   ]
  },
  {
   "cell_type": "markdown",
   "id": "8f7d8d12",
   "metadata": {
    "deletable": true,
    "editable": true,
    "slideshow": {
     "slide_type": "fragment"
    }
   },
   "source": [
    "- Note that `dogs_copy` was modified, even though we didn't reassign it! These unintended consequences can **influence the behavior of test cases on homeworks**, among other things!"
   ]
  },
  {
   "cell_type": "markdown",
   "id": "50d58155",
   "metadata": {
    "deletable": true,
    "editable": true,
    "slideshow": {
     "slide_type": "fragment"
    }
   },
   "source": [
    "- To avoid this, it's a good idea to avoid mutation when possible. If you must use mutation, include `df = df.copy()` as the first line in functions that take DataFrames as input."
   ]
  },
  {
   "cell_type": "markdown",
   "id": "2a1f060c",
   "metadata": {
    "deletable": true,
    "editable": true,
    "slideshow": {
     "slide_type": "slide"
    }
   },
   "source": [
    "<div class=\"alert alert-warning\">\n",
    "    <h3>Question 🤔 (Answer at <a style=\"text-decoration: none; color: #0066cc\" href=\"https://docs.google.com/forms/d/e/1FAIpQLSd4oliiZYeNh76jWy-arfEtoAkCrVSsobZxPwxifWggo3EO0Q/viewform\">practicaldsc.org/q</a>)</h3>\n",
    "    \n",
    "<small>Remember that you can always ask questions anonymously at the link above!</small>"
   ]
  },
  {
   "cell_type": "markdown",
   "id": "8405b326",
   "metadata": {
    "deletable": true,
    "editable": true,
    "slideshow": {
     "slide_type": "slide"
    }
   },
   "source": [
    "## `pandas` and `numpy`\n",
    "\n",
    "---"
   ]
  },
  {
   "cell_type": "markdown",
   "id": "d3b1cd4d",
   "metadata": {
    "deletable": true,
    "editable": true,
    "slideshow": {
     "slide_type": "slide"
    }
   },
   "source": [
    "<center><img src='imgs/python-stack.png' width=60%></center>"
   ]
  },
  {
   "cell_type": "markdown",
   "id": "177c87d4",
   "metadata": {
    "deletable": true,
    "editable": true,
    "slideshow": {
     "slide_type": "slide"
    }
   },
   "source": [
    "### `pandas` is built upon `numpy`!"
   ]
  },
  {
   "cell_type": "markdown",
   "id": "0c631e08",
   "metadata": {
    "deletable": true,
    "editable": true,
    "slideshow": {
     "slide_type": "fragment"
    }
   },
   "source": [
    "- A Series in `pandas` is a `numpy` array with an index."
   ]
  },
  {
   "cell_type": "markdown",
   "id": "b1c6632f",
   "metadata": {
    "deletable": true,
    "editable": true,
    "slideshow": {
     "slide_type": "fragment"
    }
   },
   "source": [
    "- A DataFrame is like a dictionary of columns, each of which is a `numpy` array."
   ]
  },
  {
   "cell_type": "markdown",
   "id": "9a3a4cbf",
   "metadata": {
    "deletable": true,
    "editable": true,
    "slideshow": {
     "slide_type": "fragment"
    }
   },
   "source": [
    "- Many operations in `pandas` are fast because they use `numpy`'s implementations, which are written in fast, compiled languages like C."
   ]
  },
  {
   "cell_type": "markdown",
   "id": "4c512226",
   "metadata": {
    "deletable": true,
    "editable": true,
    "slideshow": {
     "slide_type": "fragment"
    }
   },
   "source": [
    "- If you need to access the array underlying a DataFrame or Series, use the `to_numpy` method."
   ]
  },
  {
   "cell_type": "code",
   "execution_count": null,
   "id": "fc0bcffd",
   "metadata": {
    "deletable": true,
    "editable": true
   },
   "outputs": [],
   "source": [
    "dogs['lifetime_cost']"
   ]
  },
  {
   "cell_type": "code",
   "execution_count": null,
   "id": "3ccd45ef",
   "metadata": {
    "deletable": true,
    "editable": true
   },
   "outputs": [],
   "source": [
    "dogs['lifetime_cost'].to_numpy() "
   ]
  },
  {
   "cell_type": "markdown",
   "id": "6cd102e8",
   "metadata": {
    "deletable": true,
    "editable": true,
    "slideshow": {
     "slide_type": "skip"
    }
   },
   "source": [
    "<div class=\"alert alert-danger\" markdown=\"1\">\n",
    "\n",
    "#### Reference Slide\n",
    "\n",
    "### `pandas` data types"
   ]
  },
  {
   "cell_type": "markdown",
   "id": "704a4939",
   "metadata": {
    "deletable": true,
    "editable": true,
    "slideshow": {
     "slide_type": "skip"
    }
   },
   "source": [
    "- Each Series (column) has a `numpy` data type, which refers to the type of the values stored within. Access it using the `dtypes` attribute."
   ]
  },
  {
   "cell_type": "markdown",
   "id": "c7caeb32",
   "metadata": {
    "deletable": true,
    "editable": true,
    "slideshow": {
     "slide_type": "skip"
    }
   },
   "source": [
    "- A column's data type determines which operations can be applied to it."
   ]
  },
  {
   "cell_type": "markdown",
   "id": "e449291f",
   "metadata": {
    "deletable": true,
    "editable": true,
    "slideshow": {
     "slide_type": "skip"
    }
   },
   "source": [
    "- `pandas` tries to guess the correct data types for a given DataFrame, and is often wrong.\n",
    "    - This can lead to incorrect calculations and poor memory/time performance."
   ]
  },
  {
   "cell_type": "markdown",
   "id": "93bcdf89",
   "metadata": {
    "deletable": true,
    "editable": true,
    "slideshow": {
     "slide_type": "skip"
    }
   },
   "source": [
    "- As a result, you will often need to explicitly convert between data types."
   ]
  },
  {
   "cell_type": "code",
   "execution_count": null,
   "id": "61cbb757",
   "metadata": {
    "deletable": true,
    "editable": true,
    "slideshow": {
     "slide_type": "skip"
    }
   },
   "outputs": [],
   "source": [
    "dogs"
   ]
  },
  {
   "cell_type": "code",
   "execution_count": null,
   "id": "cc299d14",
   "metadata": {
    "deletable": true,
    "editable": true,
    "slideshow": {
     "slide_type": "skip"
    }
   },
   "outputs": [],
   "source": [
    "dogs.dtypes"
   ]
  },
  {
   "cell_type": "markdown",
   "id": "23415fd4",
   "metadata": {
    "deletable": true,
    "editable": true,
    "slideshow": {
     "slide_type": "skip"
    }
   },
   "source": [
    "<div class=\"alert alert-danger\" markdown=\"1\">\n",
    "\n",
    "#### Reference Slide\n",
    "\n",
    "### `pandas` data types"
   ]
  },
  {
   "cell_type": "markdown",
   "id": "81e4ae10",
   "metadata": {
    "deletable": true,
    "editable": true,
    "slideshow": {
     "slide_type": "skip"
    }
   },
   "source": [
    "- Notice that Python `str` types are `object` types in `numpy` and `pandas`.\n",
    "\n",
    "|Pandas dtype|Python type|NumPy type|SQL type|Usage|\n",
    "|---|---|---|---|---|\n",
    "|int64|int|int_, int8,...,int64, uint8,...,uint64|INT, BIGINT| Integer numbers|\n",
    "|float64|float|float_, float16, float32, float64|FLOAT| Floating point numbers|\n",
    "|bool|bool|bool_|BOOL|True/False values|\n",
    "|datetime64 or Timestamp|datetime.datetime|datetime64|DATETIME|Date and time values|\n",
    "|timedelta64 or Timedelta|datetime.timedelta|timedelta64|NA|Differences between two datetimes|\n",
    "|category|NA|NA|ENUM|Finite list of text values|\n",
    "|object|str|string, unicode|NA|Text|\n",
    "|object|NA|object|NA|Mixed types|"
   ]
  },
  {
   "cell_type": "markdown",
   "id": "5d5f8990",
   "metadata": {
    "deletable": true,
    "editable": true,
    "slideshow": {
     "slide_type": "skip"
    }
   },
   "source": [
    "- [This article](https://www.dataquest.io/blog/pandas-big-data/) details how `pandas` stores different data types under the hood."
   ]
  },
  {
   "cell_type": "markdown",
   "id": "44f6709f",
   "metadata": {
    "deletable": true,
    "editable": true,
    "slideshow": {
     "slide_type": "skip"
    }
   },
   "source": [
    "- [This article](https://mortada.net/can-integer-operations-overflow-in-python.html#Can-integers-overflow-in-python?) explains how `numpy`/`pandas` `int64` operations differ from vanilla `int` operations."
   ]
  },
  {
   "cell_type": "markdown",
   "id": "6002e769",
   "metadata": {
    "deletable": true,
    "editable": true,
    "slideshow": {
     "slide_type": "skip"
    }
   },
   "source": [
    "<div class=\"alert alert-danger\" markdown=\"1\">\n",
    "\n",
    "#### Reference Slide\n",
    "\n",
    "### Type conversion"
   ]
  },
  {
   "cell_type": "markdown",
   "id": "9a7a8bb0",
   "metadata": {
    "deletable": true,
    "editable": true,
    "slideshow": {
     "slide_type": "skip"
    }
   },
   "source": [
    "- You can change the data type of a Series using the `.astype` Series method."
   ]
  },
  {
   "cell_type": "markdown",
   "id": "31fdb469",
   "metadata": {
    "deletable": true,
    "editable": true,
    "slideshow": {
     "slide_type": "skip"
    }
   },
   "source": [
    "- For example, we can change the data type of the `'lifetime_cost'` column in `dogs` to be `uint32`:"
   ]
  },
  {
   "cell_type": "code",
   "execution_count": null,
   "id": "2798c4c4",
   "metadata": {
    "deletable": true,
    "editable": true,
    "scrolled": false,
    "slideshow": {
     "slide_type": "skip"
    }
   },
   "outputs": [],
   "source": [
    "dogs"
   ]
  },
  {
   "cell_type": "code",
   "execution_count": null,
   "id": "7b85f0ad",
   "metadata": {
    "deletable": true,
    "editable": true,
    "slideshow": {
     "slide_type": "skip"
    }
   },
   "outputs": [],
   "source": [
    "# Gives the types as well as the space taken up by the DataFrame.\n",
    "dogs.info()"
   ]
  },
  {
   "cell_type": "code",
   "execution_count": null,
   "id": "12bd3c25",
   "metadata": {
    "deletable": true,
    "editable": true,
    "slideshow": {
     "slide_type": "skip"
    }
   },
   "outputs": [],
   "source": [
    "dogs['lifetime_cost'] = dogs['lifetime_cost'].astype('uint32')"
   ]
  },
  {
   "cell_type": "markdown",
   "id": "b4657439",
   "metadata": {
    "deletable": true,
    "editable": true,
    "slideshow": {
     "slide_type": "skip"
    }
   },
   "source": [
    "- Now, the DataFrame takes up less space! This may be insignificant in our DataFrame, but makes a difference when working with larger datasets."
   ]
  },
  {
   "cell_type": "code",
   "execution_count": null,
   "id": "5bd05cd3",
   "metadata": {
    "deletable": true,
    "editable": true,
    "slideshow": {
     "slide_type": "skip"
    }
   },
   "outputs": [],
   "source": [
    "dogs.info()"
   ]
  },
  {
   "cell_type": "markdown",
   "id": "d93eca39",
   "metadata": {
    "deletable": true,
    "editable": true,
    "slideshow": {
     "slide_type": "skip"
    }
   },
   "source": [
    "<div class=\"alert alert-danger\" markdown=\"1\">\n",
    "\n",
    "#### Reference Slide\n",
    "\n",
    "### Setting `dtype`s in `read_csv`"
   ]
  },
  {
   "cell_type": "markdown",
   "id": "c61f2e4c",
   "metadata": {
    "deletable": true,
    "editable": true,
    "slideshow": {
     "slide_type": "skip"
    }
   },
   "source": [
    "Usually, we prefer to set the correct dtypes in `read_csv`, since it can help `pandas` load in files more quickly:"
   ]
  },
  {
   "cell_type": "code",
   "execution_count": null,
   "id": "170e83b5",
   "metadata": {
    "deletable": true,
    "editable": true,
    "slideshow": {
     "slide_type": "skip"
    }
   },
   "outputs": [],
   "source": [
    "dogs_new = pd.read_csv('data/dogs43.csv', dtype={'lifetime_cost': 'uint32'})\n",
    "dogs_new"
   ]
  },
  {
   "cell_type": "code",
   "execution_count": null,
   "id": "3796492d",
   "metadata": {
    "deletable": true,
    "editable": true,
    "slideshow": {
     "slide_type": "skip"
    }
   },
   "outputs": [],
   "source": [
    "dogs_new.dtypes"
   ]
  },
  {
   "cell_type": "markdown",
   "id": "fb31eecc",
   "metadata": {
    "deletable": true,
    "editable": true,
    "slideshow": {
     "slide_type": "slide"
    }
   },
   "source": [
    "### Axes"
   ]
  },
  {
   "cell_type": "markdown",
   "id": "f9ff33b1",
   "metadata": {
    "deletable": true,
    "editable": true,
    "slideshow": {
     "slide_type": "fragment"
    }
   },
   "source": [
    "- The rows and columns of a DataFrame are both stored as Series."
   ]
  },
  {
   "cell_type": "markdown",
   "id": "30650747",
   "metadata": {
    "deletable": true,
    "editable": true,
    "slideshow": {
     "slide_type": "fragment"
    }
   },
   "source": [
    "- The **axis** specifies the direction of a **slice** of a DataFrame.\n",
    "\n",
    "<center><img src='imgs/axis.png' width=30%></center>"
   ]
  },
  {
   "cell_type": "markdown",
   "id": "5b14887b",
   "metadata": {
    "deletable": true,
    "editable": true,
    "slideshow": {
     "slide_type": "fragment"
    }
   },
   "source": [
    "- Axis 0 refers to the rows and axis 1 refers to the columns.<br><small>**These are the same axes definitions that 2D `numpy` arrays have!**</small>"
   ]
  },
  {
   "cell_type": "markdown",
   "id": "fcf44d69",
   "metadata": {
    "deletable": true,
    "editable": true,
    "slideshow": {
     "slide_type": "slide"
    }
   },
   "source": [
    "### DataFrame methods with `axis`"
   ]
  },
  {
   "cell_type": "markdown",
   "id": "31640775",
   "metadata": {
    "deletable": true,
    "editable": true,
    "slideshow": {
     "slide_type": "fragment"
    }
   },
   "source": [
    "- Many Series methods work on DataFrames."
   ]
  },
  {
   "cell_type": "markdown",
   "id": "f8d8463b",
   "metadata": {
    "deletable": true,
    "editable": true,
    "slideshow": {
     "slide_type": "fragment"
    }
   },
   "source": [
    "- In such cases, the DataFrame method usually applies the Series method to every row or column."
   ]
  },
  {
   "cell_type": "markdown",
   "id": "07d6f776",
   "metadata": {
    "deletable": true,
    "editable": true,
    "slideshow": {
     "slide_type": "fragment"
    }
   },
   "source": [
    "- Many of these methods accept an `axis` argument; the default is usually `axis=0`."
   ]
  },
  {
   "cell_type": "code",
   "execution_count": null,
   "id": "0debe36c",
   "metadata": {
    "deletable": true,
    "editable": true
   },
   "outputs": [],
   "source": [
    "dogs"
   ]
  },
  {
   "cell_type": "code",
   "execution_count": null,
   "id": "6b06f659",
   "metadata": {
    "deletable": true,
    "editable": true
   },
   "outputs": [],
   "source": [
    "# Max element in each column.\n",
    "dogs.max() "
   ]
  },
  {
   "cell_type": "code",
   "execution_count": null,
   "id": "7610d530",
   "metadata": {
    "deletable": true,
    "editable": true
   },
   "outputs": [],
   "source": [
    "# Max element in each row – a little nonsensical, since the values in each column are on different scales.\n",
    "# Note that we had to select the numeric columns first.\n",
    "dogs[['lifetime_cost', 'longevity', 'weight', 'height']].max(axis=1)"
   ]
  },
  {
   "cell_type": "code",
   "execution_count": null,
   "id": "d768c8bf",
   "metadata": {
    "deletable": true,
    "editable": true
   },
   "outputs": [],
   "source": [
    "# The number of unique values in each column.\n",
    "dogs.nunique() "
   ]
  },
  {
   "cell_type": "code",
   "execution_count": null,
   "id": "10baac2f",
   "metadata": {
    "deletable": true,
    "editable": true
   },
   "outputs": [],
   "source": [
    "# describe doesn't accept an axis argument; it works on every numeric column in the DataFrame it is called on.\n",
    "dogs.describe() "
   ]
  },
  {
   "cell_type": "markdown",
   "id": "06e7a670",
   "metadata": {
    "deletable": true,
    "editable": true,
    "slideshow": {
     "slide_type": "slide"
    }
   },
   "source": [
    "<div class=\"alert alert-success\">\n",
    "<h3>Activity</h3>\n",
    "\n",
    "Pick a dog breed that you personally like or know the name of. Then:\n",
    "<ul>\n",
    "    <li>Try to find a few other dog breeds that are similar in weight to yours in <code>all_dogs</code>.</li>\n",
    "    <li>Which similar breeds have the lowest and highest <code>'lifetime_cost'</code>? <code>'intelligence_rank'</code>?</li>\n",
    "    <li>Are there any similar breeds that you haven't heard of before?</li>\n",
    "</ul>\n",
    "<br>\n",
    "    For fun, look up these dog breeds on the <a href=\"https://www.akc.org/\">AKC website</a> to see what they look like!\n",
    "</div>"
   ]
  },
  {
   "cell_type": "code",
   "execution_count": null,
   "id": "9889123d",
   "metadata": {
    "deletable": true,
    "editable": true
   },
   "outputs": [],
   "source": [
    "all_dogs = pd.read_csv('data/all_dogs.csv')\n",
    "all_dogs"
   ]
  },
  {
   "cell_type": "code",
   "execution_count": null,
   "id": "c3402776",
   "metadata": {
    "deletable": true,
    "editable": true
   },
   "outputs": [],
   "source": [
    "# There's no \"right answer\" here; you're supposed to explore!\n",
    "fav_weight = all_dogs.loc[all_dogs['breed'] == 'English Cocker Spaniel', 'weight'].iloc[0]\n",
    "similar_weight = all_dogs[(all_dogs['weight'] >= fav_weight - 5) & (all_dogs['weight'] <= fav_weight + 5)]\n",
    "similar_weight"
   ]
  },
  {
   "cell_type": "code",
   "execution_count": null,
   "id": "35b67f76",
   "metadata": {
    "deletable": true,
    "editable": true
   },
   "outputs": [],
   "source": [
    "similar_weight.sort_values('intelligence_rank')[['breed', 'lifetime_cost', 'intelligence_rank']] "
   ]
  },
  {
   "cell_type": "markdown",
   "id": "bd98e2b2",
   "metadata": {
    "deletable": true,
    "editable": true,
    "slideshow": {
     "slide_type": "slide"
    }
   },
   "source": [
    "## Introduction to the `groupby` method\n",
    "\n",
    "---"
   ]
  },
  {
   "cell_type": "markdown",
   "id": "6a8b6331",
   "metadata": {
    "deletable": true,
    "editable": true,
    "slideshow": {
     "slide_type": "slide"
    }
   },
   "source": [
    "### Example: Palmer Penguins\n",
    "\n",
    "<center><img src=\"imgs/lter_penguins.png\" width=60%>\n",
    "<i><a href=\"https://github.com/allisonhorst/palmerpenguins/blob/main/README.md\">Artwork by @allison_horst</a></i>\n",
    "\n",
    "</center>\n",
    "\n",
    "The dataset we'll work with for the rest of the lecture involves various measurements taken of three species of penguins in Antarctica."
   ]
  },
  {
   "cell_type": "code",
   "execution_count": 1,
   "id": "1a3b247a",
   "metadata": {
    "deletable": true,
    "editable": true,
    "slideshow": {
     "slide_type": "slide"
    }
   },
   "outputs": [
    {
     "ename": "NameError",
     "evalue": "name 'IFrame' is not defined",
     "output_type": "error",
     "traceback": [
      "\u001b[0;31m---------------------------------------------------------------------------\u001b[0m",
      "\u001b[0;31mNameError\u001b[0m                                 Traceback (most recent call last)",
      "Cell \u001b[0;32mIn[1], line 1\u001b[0m\n\u001b[0;32m----> 1\u001b[0m \u001b[43mIFrame\u001b[49m(\u001b[38;5;124m'\u001b[39m\u001b[38;5;124mhttps://www.youtube-nocookie.com/embed/CCrNAHXUstU?si=-DntSyUNp5Kwitjm&amp;start=11\u001b[39m\u001b[38;5;124m'\u001b[39m,\n\u001b[1;32m      2\u001b[0m        width\u001b[38;5;241m=\u001b[39m\u001b[38;5;241m560\u001b[39m, height\u001b[38;5;241m=\u001b[39m\u001b[38;5;241m315\u001b[39m)\n",
      "\u001b[0;31mNameError\u001b[0m: name 'IFrame' is not defined"
     ]
    }
   ],
   "source": [
    "IFrame('https://www.youtube-nocookie.com/embed/CCrNAHXUstU?si=-DntSyUNp5Kwitjm&amp;start=11',\n",
    "       width=560, height=315)"
   ]
  },
  {
   "cell_type": "markdown",
   "id": "4220cd41",
   "metadata": {
    "deletable": true,
    "editable": true,
    "slideshow": {
     "slide_type": "slide"
    }
   },
   "source": [
    "### Loading the data"
   ]
  },
  {
   "cell_type": "code",
   "execution_count": 2,
   "id": "85ee2c4f",
   "metadata": {
    "deletable": true,
    "editable": true,
    "slideshow": {
     "slide_type": "-"
    }
   },
   "outputs": [
    {
     "ename": "NameError",
     "evalue": "name 'sns' is not defined",
     "output_type": "error",
     "traceback": [
      "\u001b[0;31m---------------------------------------------------------------------------\u001b[0m",
      "\u001b[0;31mNameError\u001b[0m                                 Traceback (most recent call last)",
      "Cell \u001b[0;32mIn[2], line 1\u001b[0m\n\u001b[0;32m----> 1\u001b[0m penguins \u001b[38;5;241m=\u001b[39m \u001b[43msns\u001b[49m\u001b[38;5;241m.\u001b[39mload_dataset(\u001b[38;5;124m'\u001b[39m\u001b[38;5;124mpenguins\u001b[39m\u001b[38;5;124m'\u001b[39m)\u001b[38;5;241m.\u001b[39mdropna()\u001b[38;5;241m.\u001b[39mreset_index(drop\u001b[38;5;241m=\u001b[39m\u001b[38;5;28;01mTrue\u001b[39;00m)\n\u001b[1;32m      2\u001b[0m penguins\n",
      "\u001b[0;31mNameError\u001b[0m: name 'sns' is not defined"
     ]
    }
   ],
   "source": [
    "penguins = sns.load_dataset('penguins').dropna().reset_index(drop=True)\n",
    "penguins"
   ]
  },
  {
   "cell_type": "markdown",
   "id": "1f5e65c2",
   "metadata": {
    "deletable": true,
    "editable": true,
    "slideshow": {
     "slide_type": "fragment"
    }
   },
   "source": [
    "- Here, each row corresponds to a single penguin, and each column corresponds to a different attribute (or feature) we have for each penguin."
   ]
  },
  {
   "cell_type": "markdown",
   "id": "467877c0",
   "metadata": {
    "deletable": true,
    "editable": true,
    "slideshow": {
     "slide_type": "fragment"
    }
   },
   "source": [
    "- Data formatted in this way is sometimes called [tidy data](https://r4ds.had.co.nz/tidy-data.html)."
   ]
  },
  {
   "cell_type": "markdown",
   "id": "373df40c",
   "metadata": {
    "deletable": true,
    "editable": true,
    "slideshow": {
     "slide_type": "slide"
    }
   },
   "source": [
    "### Visualizing the data"
   ]
  },
  {
   "cell_type": "code",
   "execution_count": null,
   "id": "ccda42bd",
   "metadata": {
    "deletable": true,
    "editable": true
   },
   "outputs": [],
   "source": [
    "penguins.plot(kind='scatter', \n",
    "              x='bill_length_mm', \n",
    "              y='body_mass_g', \n",
    "              color='species', \n",
    "              title='Body Mass vs. Bill Length')"
   ]
  },
  {
   "cell_type": "markdown",
   "id": "f054cc5b",
   "metadata": {
    "deletable": true,
    "editable": true,
    "slideshow": {
     "slide_type": "slide"
    }
   },
   "source": [
    "### Granularity"
   ]
  },
  {
   "cell_type": "markdown",
   "id": "3f1ebe4e",
   "metadata": {
    "deletable": true,
    "editable": true,
    "slideshow": {
     "slide_type": "fragment"
    }
   },
   "source": [
    "- Granularity refers to what each observation in a dataset represents.\n",
    "    - Fine: small details.\n",
    "    - Coarse: bigger picture."
   ]
  },
  {
   "cell_type": "markdown",
   "id": "c169e98a",
   "metadata": {
    "deletable": true,
    "editable": true,
    "slideshow": {
     "slide_type": "fragment"
    }
   },
   "source": [
    "- If you can control how your dataset is created, you should opt for **finer granularity**, i.e. for more detail.\n",
    "    - You can always remove details, but it's difficult to add detail that isn't already there.\n",
    "    - But obtaining fine-grained data can take more time/money."
   ]
  },
  {
   "cell_type": "markdown",
   "id": "9728bc6e",
   "metadata": {
    "deletable": true,
    "editable": true,
    "slideshow": {
     "slide_type": "fragment"
    }
   },
   "source": [
    "- Today, we'll focus on how to **remove** details from fine-grained data, in order to help us understand bigger-picture trends in our data."
   ]
  },
  {
   "cell_type": "markdown",
   "id": "16cc3770",
   "metadata": {
    "deletable": true,
    "editable": true,
    "slideshow": {
     "slide_type": "slide"
    }
   },
   "source": [
    "### Aggregating"
   ]
  },
  {
   "cell_type": "markdown",
   "id": "f0928502",
   "metadata": {
    "deletable": true,
    "editable": true,
    "slideshow": {
     "slide_type": "fragment"
    }
   },
   "source": [
    "- **Aggregating** is the act of combining many values into a single value."
   ]
  },
  {
   "cell_type": "markdown",
   "id": "1dede7b0",
   "metadata": {
    "deletable": true,
    "editable": true,
    "slideshow": {
     "slide_type": "fragment"
    }
   },
   "source": [
    "- What is the mean `'body_mass_g'` for all penguins?"
   ]
  },
  {
   "cell_type": "code",
   "execution_count": null,
   "id": "0d54ab67",
   "metadata": {
    "deletable": true,
    "editable": true
   },
   "outputs": [],
   "source": [
    "penguins['body_mass_g'].mean() "
   ]
  },
  {
   "cell_type": "markdown",
   "id": "7716872e",
   "metadata": {
    "deletable": true,
    "editable": true,
    "slideshow": {
     "slide_type": "fragment"
    }
   },
   "source": [
    "- What is the mean `'body_mass_g'` **for each `'species'`**?"
   ]
  },
  {
   "cell_type": "markdown",
   "id": "2ded8712",
   "metadata": {
    "deletable": true,
    "editable": true,
    "slideshow": {
     "slide_type": "slide"
    }
   },
   "source": [
    "### A naïve approach to finding the mean `'body_mass_g'` per `'species'`"
   ]
  },
  {
   "cell_type": "markdown",
   "id": "82e6f8db",
   "metadata": {
    "deletable": true,
    "editable": true,
    "slideshow": {
     "slide_type": "fragment"
    }
   },
   "source": [
    "- First, we could identify all unique values in the `'species'` column."
   ]
  },
  {
   "cell_type": "code",
   "execution_count": null,
   "id": "10b19d35",
   "metadata": {
    "deletable": true,
    "editable": true,
    "slideshow": {
     "slide_type": ""
    }
   },
   "outputs": [],
   "source": [
    "penguins['species'].unique() "
   ]
  },
  {
   "cell_type": "markdown",
   "id": "687205ea",
   "metadata": {
    "deletable": true,
    "editable": true,
    "slideshow": {
     "slide_type": "fragment"
    }
   },
   "source": [
    "- Then, for each `'species'`, we could:\n",
    "    1. Query for just that `'species'`.\n",
    "    1. Extract the `'body_mass_g'` column and use the `mean` method on it."
   ]
  },
  {
   "cell_type": "code",
   "execution_count": null,
   "id": "53c03107",
   "metadata": {
    "deletable": true,
    "editable": true
   },
   "outputs": [],
   "source": [
    "penguins.loc[penguins['species'] == 'Adelie', 'body_mass_g'].mean() "
   ]
  },
  {
   "cell_type": "code",
   "execution_count": null,
   "id": "d2511ec8",
   "metadata": {
    "deletable": true,
    "editable": true
   },
   "outputs": [],
   "source": [
    "penguins.loc[penguins['species'] == 'Chinstrap', 'body_mass_g'].mean() "
   ]
  },
  {
   "cell_type": "code",
   "execution_count": null,
   "id": "d3a00fb3",
   "metadata": {
    "deletable": true,
    "editable": true
   },
   "outputs": [],
   "source": [
    "penguins.loc[penguins['species'] == 'Gentoo', 'body_mass_g'].mean() "
   ]
  },
  {
   "cell_type": "markdown",
   "id": "27104f3a",
   "metadata": {
    "deletable": true,
    "editable": true,
    "slideshow": {
     "slide_type": "fragment"
    }
   },
   "source": [
    "- We _could_ use a `for`-loop, but remember, we want to avoid Python `for`-loops."
   ]
  },
  {
   "cell_type": "markdown",
   "id": "e887fe54",
   "metadata": {
    "deletable": true,
    "editable": true,
    "slideshow": {
     "slide_type": "slide"
    }
   },
   "source": [
    "### Grouping"
   ]
  },
  {
   "cell_type": "markdown",
   "id": "a5aff1e6",
   "metadata": {
    "deletable": true,
    "editable": true,
    "slideshow": {
     "slide_type": "fragment"
    }
   },
   "source": [
    "- A better solution is to use the `groupby` method."
   ]
  },
  {
   "cell_type": "code",
   "execution_count": null,
   "id": "4ac144e6",
   "metadata": {
    "deletable": true,
    "editable": true
   },
   "outputs": [],
   "source": [
    "# To find the overall mean 'body_mass_g':\n",
    "penguins['body_mass_g'].mean() "
   ]
  },
  {
   "cell_type": "code",
   "execution_count": null,
   "id": "1f4109c9",
   "metadata": {
    "deletable": true,
    "editable": true
   },
   "outputs": [],
   "source": [
    "# To find the mean 'body_mass_g' for each 'species':\n",
    "penguins.groupby('species')['body_mass_g'].mean() "
   ]
  },
  {
   "cell_type": "markdown",
   "id": "fff408af",
   "metadata": {
    "deletable": true,
    "editable": true,
    "slideshow": {
     "slide_type": "fragment"
    }
   },
   "source": [
    "- Somehow, the `groupby` method computes what we're looking for in just one line. How?"
   ]
  },
  {
   "cell_type": "markdown",
   "id": "0181f733",
   "metadata": {
    "deletable": true,
    "editable": true,
    "slideshow": {
     "slide_type": "fragment"
    }
   },
   "source": [
    "- We'll work through the internals, but remember this: **if you need to calculate something _for each group_, use `groupby`!**"
   ]
  },
  {
   "cell_type": "markdown",
   "id": "0da1b158",
   "metadata": {
    "deletable": true,
    "editable": true,
    "slideshow": {
     "slide_type": "slide"
    }
   },
   "source": [
    "### An illustrative example: Pets 🐱 🐶🐹"
   ]
  },
  {
   "cell_type": "markdown",
   "id": "bdff384f",
   "metadata": {
    "deletable": true,
    "editable": true,
    "slideshow": {
     "slide_type": "fragment"
    }
   },
   "source": [
    "- Consider the DataFrame `pets`, shown below.\n",
    "\n",
    "<table border=\"1\" class=\"dataframe\">\n",
    "  <thead>\n",
    "    <tr style=\"text-align: right;\">\n",
    "      <th></th>\n",
    "      <th>Species</th>\n",
    "      <th>Color</th>\n",
    "      <th>Weight</th>\n",
    "      <th>Age</th>\n",
    "    </tr>\n",
    "  </thead>\n",
    "  <tbody>\n",
    "    <tr>\n",
    "      <th>0</th>\n",
    "      <td>dog</td>\n",
    "      <td>black</td>\n",
    "      <td>40</td>\n",
    "      <td>5.0</td>\n",
    "    </tr>\n",
    "    <tr>\n",
    "      <th>1</th>\n",
    "      <td>cat</td>\n",
    "      <td>golden</td>\n",
    "      <td>15</td>\n",
    "      <td>8.0</td>\n",
    "    </tr>\n",
    "    <tr>\n",
    "      <th>2</th>\n",
    "      <td>cat</td>\n",
    "      <td>black</td>\n",
    "      <td>20</td>\n",
    "      <td>9.0</td>\n",
    "    </tr>\n",
    "    <tr>\n",
    "      <th>3</th>\n",
    "      <td>dog</td>\n",
    "      <td>white</td>\n",
    "      <td>80</td>\n",
    "      <td>2.0</td>\n",
    "    </tr>\n",
    "    <tr>\n",
    "      <th>4</th>\n",
    "      <td>dog</td>\n",
    "      <td>golden</td>\n",
    "      <td>25</td>\n",
    "      <td>0.5</td>\n",
    "    </tr>\n",
    "    <tr>\n",
    "      <th>5</th>\n",
    "      <td>hamster</td>\n",
    "      <td>golden</td>\n",
    "      <td>1</td>\n",
    "      <td>3.0</td>\n",
    "    </tr>\n",
    "  </tbody>\n",
    "</table>"
   ]
  },
  {
   "cell_type": "markdown",
   "id": "a1c11983",
   "metadata": {
    "deletable": true,
    "editable": true,
    "slideshow": {
     "slide_type": "fragment"
    }
   },
   "source": [
    "- Let's see what happens under the hood when we use the `groupby` method on `pets`."
   ]
  },
  {
   "cell_type": "code",
   "execution_count": null,
   "id": "ae7dc021",
   "metadata": {
    "deletable": true,
    "editable": true,
    "slideshow": {
     "slide_type": "slide"
    }
   },
   "outputs": [],
   "source": [
    "show_grouping_animation()"
   ]
  },
  {
   "cell_type": "markdown",
   "id": "4e0bd348",
   "metadata": {
    "deletable": true,
    "editable": true,
    "slideshow": {
     "slide_type": "slide"
    }
   },
   "source": [
    "### Let's try it out!"
   ]
  },
  {
   "cell_type": "code",
   "execution_count": 11,
   "id": "553df0b6",
   "metadata": {
    "deletable": true,
    "editable": true
   },
   "outputs": [
    {
     "data": {
      "text/html": [
       "<div>\n",
       "<style scoped>\n",
       "    .dataframe tbody tr th:only-of-type {\n",
       "        vertical-align: middle;\n",
       "    }\n",
       "\n",
       "    .dataframe tbody tr th {\n",
       "        vertical-align: top;\n",
       "    }\n",
       "\n",
       "    .dataframe thead th {\n",
       "        text-align: right;\n",
       "    }\n",
       "</style>\n",
       "<table border=\"1\" class=\"dataframe\">\n",
       "  <thead>\n",
       "    <tr style=\"text-align: right;\">\n",
       "      <th></th>\n",
       "      <th>Species</th>\n",
       "      <th>Color</th>\n",
       "      <th>Weight</th>\n",
       "      <th>Age</th>\n",
       "    </tr>\n",
       "  </thead>\n",
       "  <tbody>\n",
       "    <tr>\n",
       "      <th>0</th>\n",
       "      <td>dog</td>\n",
       "      <td>black</td>\n",
       "      <td>40</td>\n",
       "      <td>5.0</td>\n",
       "    </tr>\n",
       "    <tr>\n",
       "      <th>1</th>\n",
       "      <td>cat</td>\n",
       "      <td>golden</td>\n",
       "      <td>15</td>\n",
       "      <td>8.0</td>\n",
       "    </tr>\n",
       "    <tr>\n",
       "      <th>2</th>\n",
       "      <td>cat</td>\n",
       "      <td>black</td>\n",
       "      <td>20</td>\n",
       "      <td>9.0</td>\n",
       "    </tr>\n",
       "    <tr>\n",
       "      <th>3</th>\n",
       "      <td>dog</td>\n",
       "      <td>white</td>\n",
       "      <td>80</td>\n",
       "      <td>2.0</td>\n",
       "    </tr>\n",
       "    <tr>\n",
       "      <th>4</th>\n",
       "      <td>dog</td>\n",
       "      <td>golden</td>\n",
       "      <td>25</td>\n",
       "      <td>0.5</td>\n",
       "    </tr>\n",
       "    <tr>\n",
       "      <th>5</th>\n",
       "      <td>hamster</td>\n",
       "      <td>golden</td>\n",
       "      <td>1</td>\n",
       "      <td>3.0</td>\n",
       "    </tr>\n",
       "  </tbody>\n",
       "</table>\n",
       "</div>"
      ],
      "text/plain": [
       "   Species   Color  Weight  Age\n",
       "0      dog   black      40  5.0\n",
       "1      cat  golden      15  8.0\n",
       "2      cat   black      20  9.0\n",
       "3      dog   white      80  2.0\n",
       "4      dog  golden      25  0.5\n",
       "5  hamster  golden       1  3.0"
      ]
     },
     "execution_count": 11,
     "metadata": {},
     "output_type": "execute_result"
    }
   ],
   "source": [
    "pets = pd.DataFrame().assign(\n",
    "    Species=['dog', 'cat', 'cat', 'dog', 'dog', 'hamster'],\n",
    "    Color=['black', 'golden', 'black', 'white', 'golden', 'golden'],\n",
    "    Weight=[40, 15, 20, 80, 25, 1],\n",
    "    Age=[5, 8, 9, 2, 0.5, 3]\n",
    ")\n",
    "pets"
   ]
  },
  {
   "cell_type": "code",
   "execution_count": 12,
   "id": "ffeae51e",
   "metadata": {
    "deletable": true,
    "editable": true,
    "scrolled": false
   },
   "outputs": [
    {
     "ename": "TypeError",
     "evalue": "agg function failed [how->mean,dtype->object]",
     "output_type": "error",
     "traceback": [
      "\u001b[0;31m---------------------------------------------------------------------------\u001b[0m",
      "\u001b[0;31mTypeError\u001b[0m                                 Traceback (most recent call last)",
      "File \u001b[0;32m~/anaconda3/envs/pds/lib/python3.10/site-packages/pandas/core/groupby/groupby.py:1870\u001b[0m, in \u001b[0;36mGroupBy._agg_py_fallback\u001b[0;34m(self, how, values, ndim, alt)\u001b[0m\n\u001b[1;32m   1869\u001b[0m \u001b[38;5;28;01mtry\u001b[39;00m:\n\u001b[0;32m-> 1870\u001b[0m     res_values \u001b[38;5;241m=\u001b[39m \u001b[38;5;28;43mself\u001b[39;49m\u001b[38;5;241;43m.\u001b[39;49m\u001b[43mgrouper\u001b[49m\u001b[38;5;241;43m.\u001b[39;49m\u001b[43magg_series\u001b[49m\u001b[43m(\u001b[49m\u001b[43mser\u001b[49m\u001b[43m,\u001b[49m\u001b[43m \u001b[49m\u001b[43malt\u001b[49m\u001b[43m,\u001b[49m\u001b[43m \u001b[49m\u001b[43mpreserve_dtype\u001b[49m\u001b[38;5;241;43m=\u001b[39;49m\u001b[38;5;28;43;01mTrue\u001b[39;49;00m\u001b[43m)\u001b[49m\n\u001b[1;32m   1871\u001b[0m \u001b[38;5;28;01mexcept\u001b[39;00m \u001b[38;5;167;01mException\u001b[39;00m \u001b[38;5;28;01mas\u001b[39;00m err:\n",
      "File \u001b[0;32m~/anaconda3/envs/pds/lib/python3.10/site-packages/pandas/core/groupby/ops.py:850\u001b[0m, in \u001b[0;36mBaseGrouper.agg_series\u001b[0;34m(self, obj, func, preserve_dtype)\u001b[0m\n\u001b[1;32m    848\u001b[0m     preserve_dtype \u001b[38;5;241m=\u001b[39m \u001b[38;5;28;01mTrue\u001b[39;00m\n\u001b[0;32m--> 850\u001b[0m result \u001b[38;5;241m=\u001b[39m \u001b[38;5;28;43mself\u001b[39;49m\u001b[38;5;241;43m.\u001b[39;49m\u001b[43m_aggregate_series_pure_python\u001b[49m\u001b[43m(\u001b[49m\u001b[43mobj\u001b[49m\u001b[43m,\u001b[49m\u001b[43m \u001b[49m\u001b[43mfunc\u001b[49m\u001b[43m)\u001b[49m\n\u001b[1;32m    852\u001b[0m npvalues \u001b[38;5;241m=\u001b[39m lib\u001b[38;5;241m.\u001b[39mmaybe_convert_objects(result, try_float\u001b[38;5;241m=\u001b[39m\u001b[38;5;28;01mFalse\u001b[39;00m)\n",
      "File \u001b[0;32m~/anaconda3/envs/pds/lib/python3.10/site-packages/pandas/core/groupby/ops.py:871\u001b[0m, in \u001b[0;36mBaseGrouper._aggregate_series_pure_python\u001b[0;34m(self, obj, func)\u001b[0m\n\u001b[1;32m    870\u001b[0m \u001b[38;5;28;01mfor\u001b[39;00m i, group \u001b[38;5;129;01min\u001b[39;00m \u001b[38;5;28menumerate\u001b[39m(splitter):\n\u001b[0;32m--> 871\u001b[0m     res \u001b[38;5;241m=\u001b[39m \u001b[43mfunc\u001b[49m\u001b[43m(\u001b[49m\u001b[43mgroup\u001b[49m\u001b[43m)\u001b[49m\n\u001b[1;32m    872\u001b[0m     res \u001b[38;5;241m=\u001b[39m extract_result(res)\n",
      "File \u001b[0;32m~/anaconda3/envs/pds/lib/python3.10/site-packages/pandas/core/groupby/groupby.py:2376\u001b[0m, in \u001b[0;36mGroupBy.mean.<locals>.<lambda>\u001b[0;34m(x)\u001b[0m\n\u001b[1;32m   2373\u001b[0m \u001b[38;5;28;01melse\u001b[39;00m:\n\u001b[1;32m   2374\u001b[0m     result \u001b[38;5;241m=\u001b[39m \u001b[38;5;28mself\u001b[39m\u001b[38;5;241m.\u001b[39m_cython_agg_general(\n\u001b[1;32m   2375\u001b[0m         \u001b[38;5;124m\"\u001b[39m\u001b[38;5;124mmean\u001b[39m\u001b[38;5;124m\"\u001b[39m,\n\u001b[0;32m-> 2376\u001b[0m         alt\u001b[38;5;241m=\u001b[39m\u001b[38;5;28;01mlambda\u001b[39;00m x: \u001b[43mSeries\u001b[49m\u001b[43m(\u001b[49m\u001b[43mx\u001b[49m\u001b[43m)\u001b[49m\u001b[38;5;241;43m.\u001b[39;49m\u001b[43mmean\u001b[49m\u001b[43m(\u001b[49m\u001b[43mnumeric_only\u001b[49m\u001b[38;5;241;43m=\u001b[39;49m\u001b[43mnumeric_only\u001b[49m\u001b[43m)\u001b[49m,\n\u001b[1;32m   2377\u001b[0m         numeric_only\u001b[38;5;241m=\u001b[39mnumeric_only,\n\u001b[1;32m   2378\u001b[0m     )\n\u001b[1;32m   2379\u001b[0m     \u001b[38;5;28;01mreturn\u001b[39;00m result\u001b[38;5;241m.\u001b[39m__finalize__(\u001b[38;5;28mself\u001b[39m\u001b[38;5;241m.\u001b[39mobj, method\u001b[38;5;241m=\u001b[39m\u001b[38;5;124m\"\u001b[39m\u001b[38;5;124mgroupby\u001b[39m\u001b[38;5;124m\"\u001b[39m)\n",
      "File \u001b[0;32m~/anaconda3/envs/pds/lib/python3.10/site-packages/pandas/core/series.py:6226\u001b[0m, in \u001b[0;36mSeries.mean\u001b[0;34m(self, axis, skipna, numeric_only, **kwargs)\u001b[0m\n\u001b[1;32m   6218\u001b[0m \u001b[38;5;129m@doc\u001b[39m(make_doc(\u001b[38;5;124m\"\u001b[39m\u001b[38;5;124mmean\u001b[39m\u001b[38;5;124m\"\u001b[39m, ndim\u001b[38;5;241m=\u001b[39m\u001b[38;5;241m1\u001b[39m))\n\u001b[1;32m   6219\u001b[0m \u001b[38;5;28;01mdef\u001b[39;00m \u001b[38;5;21mmean\u001b[39m(\n\u001b[1;32m   6220\u001b[0m     \u001b[38;5;28mself\u001b[39m,\n\u001b[0;32m   (...)\u001b[0m\n\u001b[1;32m   6224\u001b[0m     \u001b[38;5;241m*\u001b[39m\u001b[38;5;241m*\u001b[39mkwargs,\n\u001b[1;32m   6225\u001b[0m ):\n\u001b[0;32m-> 6226\u001b[0m     \u001b[38;5;28;01mreturn\u001b[39;00m \u001b[43mNDFrame\u001b[49m\u001b[38;5;241;43m.\u001b[39;49m\u001b[43mmean\u001b[49m\u001b[43m(\u001b[49m\u001b[38;5;28;43mself\u001b[39;49m\u001b[43m,\u001b[49m\u001b[43m \u001b[49m\u001b[43maxis\u001b[49m\u001b[43m,\u001b[49m\u001b[43m \u001b[49m\u001b[43mskipna\u001b[49m\u001b[43m,\u001b[49m\u001b[43m \u001b[49m\u001b[43mnumeric_only\u001b[49m\u001b[43m,\u001b[49m\u001b[43m \u001b[49m\u001b[38;5;241;43m*\u001b[39;49m\u001b[38;5;241;43m*\u001b[39;49m\u001b[43mkwargs\u001b[49m\u001b[43m)\u001b[49m\n",
      "File \u001b[0;32m~/anaconda3/envs/pds/lib/python3.10/site-packages/pandas/core/generic.py:11969\u001b[0m, in \u001b[0;36mNDFrame.mean\u001b[0;34m(self, axis, skipna, numeric_only, **kwargs)\u001b[0m\n\u001b[1;32m  11962\u001b[0m \u001b[38;5;28;01mdef\u001b[39;00m \u001b[38;5;21mmean\u001b[39m(\n\u001b[1;32m  11963\u001b[0m     \u001b[38;5;28mself\u001b[39m,\n\u001b[1;32m  11964\u001b[0m     axis: Axis \u001b[38;5;241m|\u001b[39m \u001b[38;5;28;01mNone\u001b[39;00m \u001b[38;5;241m=\u001b[39m \u001b[38;5;241m0\u001b[39m,\n\u001b[0;32m   (...)\u001b[0m\n\u001b[1;32m  11967\u001b[0m     \u001b[38;5;241m*\u001b[39m\u001b[38;5;241m*\u001b[39mkwargs,\n\u001b[1;32m  11968\u001b[0m ) \u001b[38;5;241m-\u001b[39m\u001b[38;5;241m>\u001b[39m Series \u001b[38;5;241m|\u001b[39m \u001b[38;5;28mfloat\u001b[39m:\n\u001b[0;32m> 11969\u001b[0m     \u001b[38;5;28;01mreturn\u001b[39;00m \u001b[38;5;28;43mself\u001b[39;49m\u001b[38;5;241;43m.\u001b[39;49m\u001b[43m_stat_function\u001b[49m\u001b[43m(\u001b[49m\n\u001b[1;32m  11970\u001b[0m \u001b[43m        \u001b[49m\u001b[38;5;124;43m\"\u001b[39;49m\u001b[38;5;124;43mmean\u001b[39;49m\u001b[38;5;124;43m\"\u001b[39;49m\u001b[43m,\u001b[49m\u001b[43m \u001b[49m\u001b[43mnanops\u001b[49m\u001b[38;5;241;43m.\u001b[39;49m\u001b[43mnanmean\u001b[49m\u001b[43m,\u001b[49m\u001b[43m \u001b[49m\u001b[43maxis\u001b[49m\u001b[43m,\u001b[49m\u001b[43m \u001b[49m\u001b[43mskipna\u001b[49m\u001b[43m,\u001b[49m\u001b[43m \u001b[49m\u001b[43mnumeric_only\u001b[49m\u001b[43m,\u001b[49m\u001b[43m \u001b[49m\u001b[38;5;241;43m*\u001b[39;49m\u001b[38;5;241;43m*\u001b[39;49m\u001b[43mkwargs\u001b[49m\n\u001b[1;32m  11971\u001b[0m \u001b[43m    \u001b[49m\u001b[43m)\u001b[49m\n",
      "File \u001b[0;32m~/anaconda3/envs/pds/lib/python3.10/site-packages/pandas/core/generic.py:11926\u001b[0m, in \u001b[0;36mNDFrame._stat_function\u001b[0;34m(self, name, func, axis, skipna, numeric_only, **kwargs)\u001b[0m\n\u001b[1;32m  11924\u001b[0m validate_bool_kwarg(skipna, \u001b[38;5;124m\"\u001b[39m\u001b[38;5;124mskipna\u001b[39m\u001b[38;5;124m\"\u001b[39m, none_allowed\u001b[38;5;241m=\u001b[39m\u001b[38;5;28;01mFalse\u001b[39;00m)\n\u001b[0;32m> 11926\u001b[0m \u001b[38;5;28;01mreturn\u001b[39;00m \u001b[38;5;28;43mself\u001b[39;49m\u001b[38;5;241;43m.\u001b[39;49m\u001b[43m_reduce\u001b[49m\u001b[43m(\u001b[49m\n\u001b[1;32m  11927\u001b[0m \u001b[43m    \u001b[49m\u001b[43mfunc\u001b[49m\u001b[43m,\u001b[49m\u001b[43m \u001b[49m\u001b[43mname\u001b[49m\u001b[38;5;241;43m=\u001b[39;49m\u001b[43mname\u001b[49m\u001b[43m,\u001b[49m\u001b[43m \u001b[49m\u001b[43maxis\u001b[49m\u001b[38;5;241;43m=\u001b[39;49m\u001b[43maxis\u001b[49m\u001b[43m,\u001b[49m\u001b[43m \u001b[49m\u001b[43mskipna\u001b[49m\u001b[38;5;241;43m=\u001b[39;49m\u001b[43mskipna\u001b[49m\u001b[43m,\u001b[49m\u001b[43m \u001b[49m\u001b[43mnumeric_only\u001b[49m\u001b[38;5;241;43m=\u001b[39;49m\u001b[43mnumeric_only\u001b[49m\n\u001b[1;32m  11928\u001b[0m \u001b[43m\u001b[49m\u001b[43m)\u001b[49m\n",
      "File \u001b[0;32m~/anaconda3/envs/pds/lib/python3.10/site-packages/pandas/core/series.py:6134\u001b[0m, in \u001b[0;36mSeries._reduce\u001b[0;34m(self, op, name, axis, skipna, numeric_only, filter_type, **kwds)\u001b[0m\n\u001b[1;32m   6130\u001b[0m     \u001b[38;5;28;01mraise\u001b[39;00m \u001b[38;5;167;01mTypeError\u001b[39;00m(\n\u001b[1;32m   6131\u001b[0m         \u001b[38;5;124mf\u001b[39m\u001b[38;5;124m\"\u001b[39m\u001b[38;5;124mSeries.\u001b[39m\u001b[38;5;132;01m{\u001b[39;00mname\u001b[38;5;132;01m}\u001b[39;00m\u001b[38;5;124m does not allow \u001b[39m\u001b[38;5;132;01m{\u001b[39;00mkwd_name\u001b[38;5;132;01m}\u001b[39;00m\u001b[38;5;124m=\u001b[39m\u001b[38;5;132;01m{\u001b[39;00mnumeric_only\u001b[38;5;132;01m}\u001b[39;00m\u001b[38;5;124m \u001b[39m\u001b[38;5;124m\"\u001b[39m\n\u001b[1;32m   6132\u001b[0m         \u001b[38;5;124m\"\u001b[39m\u001b[38;5;124mwith non-numeric dtypes.\u001b[39m\u001b[38;5;124m\"\u001b[39m\n\u001b[1;32m   6133\u001b[0m     )\n\u001b[0;32m-> 6134\u001b[0m \u001b[38;5;28;01mreturn\u001b[39;00m \u001b[43mop\u001b[49m\u001b[43m(\u001b[49m\u001b[43mdelegate\u001b[49m\u001b[43m,\u001b[49m\u001b[43m \u001b[49m\u001b[43mskipna\u001b[49m\u001b[38;5;241;43m=\u001b[39;49m\u001b[43mskipna\u001b[49m\u001b[43m,\u001b[49m\u001b[43m \u001b[49m\u001b[38;5;241;43m*\u001b[39;49m\u001b[38;5;241;43m*\u001b[39;49m\u001b[43mkwds\u001b[49m\u001b[43m)\u001b[49m\n",
      "File \u001b[0;32m~/anaconda3/envs/pds/lib/python3.10/site-packages/pandas/core/nanops.py:147\u001b[0m, in \u001b[0;36mbottleneck_switch.__call__.<locals>.f\u001b[0;34m(values, axis, skipna, **kwds)\u001b[0m\n\u001b[1;32m    146\u001b[0m \u001b[38;5;28;01melse\u001b[39;00m:\n\u001b[0;32m--> 147\u001b[0m     result \u001b[38;5;241m=\u001b[39m \u001b[43malt\u001b[49m\u001b[43m(\u001b[49m\u001b[43mvalues\u001b[49m\u001b[43m,\u001b[49m\u001b[43m \u001b[49m\u001b[43maxis\u001b[49m\u001b[38;5;241;43m=\u001b[39;49m\u001b[43maxis\u001b[49m\u001b[43m,\u001b[49m\u001b[43m \u001b[49m\u001b[43mskipna\u001b[49m\u001b[38;5;241;43m=\u001b[39;49m\u001b[43mskipna\u001b[49m\u001b[43m,\u001b[49m\u001b[43m \u001b[49m\u001b[38;5;241;43m*\u001b[39;49m\u001b[38;5;241;43m*\u001b[39;49m\u001b[43mkwds\u001b[49m\u001b[43m)\u001b[49m\n\u001b[1;32m    149\u001b[0m \u001b[38;5;28;01mreturn\u001b[39;00m result\n",
      "File \u001b[0;32m~/anaconda3/envs/pds/lib/python3.10/site-packages/pandas/core/nanops.py:404\u001b[0m, in \u001b[0;36m_datetimelike_compat.<locals>.new_func\u001b[0;34m(values, axis, skipna, mask, **kwargs)\u001b[0m\n\u001b[1;32m    402\u001b[0m     mask \u001b[38;5;241m=\u001b[39m isna(values)\n\u001b[0;32m--> 404\u001b[0m result \u001b[38;5;241m=\u001b[39m \u001b[43mfunc\u001b[49m\u001b[43m(\u001b[49m\u001b[43mvalues\u001b[49m\u001b[43m,\u001b[49m\u001b[43m \u001b[49m\u001b[43maxis\u001b[49m\u001b[38;5;241;43m=\u001b[39;49m\u001b[43maxis\u001b[49m\u001b[43m,\u001b[49m\u001b[43m \u001b[49m\u001b[43mskipna\u001b[49m\u001b[38;5;241;43m=\u001b[39;49m\u001b[43mskipna\u001b[49m\u001b[43m,\u001b[49m\u001b[43m \u001b[49m\u001b[43mmask\u001b[49m\u001b[38;5;241;43m=\u001b[39;49m\u001b[43mmask\u001b[49m\u001b[43m,\u001b[49m\u001b[43m \u001b[49m\u001b[38;5;241;43m*\u001b[39;49m\u001b[38;5;241;43m*\u001b[39;49m\u001b[43mkwargs\u001b[49m\u001b[43m)\u001b[49m\n\u001b[1;32m    406\u001b[0m \u001b[38;5;28;01mif\u001b[39;00m datetimelike:\n",
      "File \u001b[0;32m~/anaconda3/envs/pds/lib/python3.10/site-packages/pandas/core/nanops.py:720\u001b[0m, in \u001b[0;36mnanmean\u001b[0;34m(values, axis, skipna, mask)\u001b[0m\n\u001b[1;32m    719\u001b[0m the_sum \u001b[38;5;241m=\u001b[39m values\u001b[38;5;241m.\u001b[39msum(axis, dtype\u001b[38;5;241m=\u001b[39mdtype_sum)\n\u001b[0;32m--> 720\u001b[0m the_sum \u001b[38;5;241m=\u001b[39m \u001b[43m_ensure_numeric\u001b[49m\u001b[43m(\u001b[49m\u001b[43mthe_sum\u001b[49m\u001b[43m)\u001b[49m\n\u001b[1;32m    722\u001b[0m \u001b[38;5;28;01mif\u001b[39;00m axis \u001b[38;5;129;01mis\u001b[39;00m \u001b[38;5;129;01mnot\u001b[39;00m \u001b[38;5;28;01mNone\u001b[39;00m \u001b[38;5;129;01mand\u001b[39;00m \u001b[38;5;28mgetattr\u001b[39m(the_sum, \u001b[38;5;124m\"\u001b[39m\u001b[38;5;124mndim\u001b[39m\u001b[38;5;124m\"\u001b[39m, \u001b[38;5;28;01mFalse\u001b[39;00m):\n",
      "File \u001b[0;32m~/anaconda3/envs/pds/lib/python3.10/site-packages/pandas/core/nanops.py:1693\u001b[0m, in \u001b[0;36m_ensure_numeric\u001b[0;34m(x)\u001b[0m\n\u001b[1;32m   1691\u001b[0m \u001b[38;5;28;01mif\u001b[39;00m \u001b[38;5;28misinstance\u001b[39m(x, \u001b[38;5;28mstr\u001b[39m):\n\u001b[1;32m   1692\u001b[0m     \u001b[38;5;66;03m# GH#44008, GH#36703 avoid casting e.g. strings to numeric\u001b[39;00m\n\u001b[0;32m-> 1693\u001b[0m     \u001b[38;5;28;01mraise\u001b[39;00m \u001b[38;5;167;01mTypeError\u001b[39;00m(\u001b[38;5;124mf\u001b[39m\u001b[38;5;124m\"\u001b[39m\u001b[38;5;124mCould not convert string \u001b[39m\u001b[38;5;124m'\u001b[39m\u001b[38;5;132;01m{\u001b[39;00mx\u001b[38;5;132;01m}\u001b[39;00m\u001b[38;5;124m'\u001b[39m\u001b[38;5;124m to numeric\u001b[39m\u001b[38;5;124m\"\u001b[39m)\n\u001b[1;32m   1694\u001b[0m \u001b[38;5;28;01mtry\u001b[39;00m:\n",
      "\u001b[0;31mTypeError\u001b[0m: Could not convert string 'goldenblack' to numeric",
      "\nThe above exception was the direct cause of the following exception:\n",
      "\u001b[0;31mTypeError\u001b[0m                                 Traceback (most recent call last)",
      "Cell \u001b[0;32mIn[12], line 2\u001b[0m\n\u001b[1;32m      1\u001b[0m \u001b[38;5;66;03m# Why does this error?\u001b[39;00m\n\u001b[0;32m----> 2\u001b[0m \u001b[43mpets\u001b[49m\u001b[38;5;241;43m.\u001b[39;49m\u001b[43mgroupby\u001b[49m\u001b[43m(\u001b[49m\u001b[38;5;124;43m'\u001b[39;49m\u001b[38;5;124;43mSpecies\u001b[39;49m\u001b[38;5;124;43m'\u001b[39;49m\u001b[43m)\u001b[49m\u001b[38;5;241;43m.\u001b[39;49m\u001b[43mmean\u001b[49m\u001b[43m(\u001b[49m\u001b[43m)\u001b[49m\n",
      "File \u001b[0;32m~/anaconda3/envs/pds/lib/python3.10/site-packages/pandas/core/groupby/groupby.py:2374\u001b[0m, in \u001b[0;36mGroupBy.mean\u001b[0;34m(self, numeric_only, engine, engine_kwargs)\u001b[0m\n\u001b[1;32m   2367\u001b[0m     \u001b[38;5;28;01mreturn\u001b[39;00m \u001b[38;5;28mself\u001b[39m\u001b[38;5;241m.\u001b[39m_numba_agg_general(\n\u001b[1;32m   2368\u001b[0m         grouped_mean,\n\u001b[1;32m   2369\u001b[0m         executor\u001b[38;5;241m.\u001b[39mfloat_dtype_mapping,\n\u001b[1;32m   2370\u001b[0m         engine_kwargs,\n\u001b[1;32m   2371\u001b[0m         min_periods\u001b[38;5;241m=\u001b[39m\u001b[38;5;241m0\u001b[39m,\n\u001b[1;32m   2372\u001b[0m     )\n\u001b[1;32m   2373\u001b[0m \u001b[38;5;28;01melse\u001b[39;00m:\n\u001b[0;32m-> 2374\u001b[0m     result \u001b[38;5;241m=\u001b[39m \u001b[38;5;28;43mself\u001b[39;49m\u001b[38;5;241;43m.\u001b[39;49m\u001b[43m_cython_agg_general\u001b[49m\u001b[43m(\u001b[49m\n\u001b[1;32m   2375\u001b[0m \u001b[43m        \u001b[49m\u001b[38;5;124;43m\"\u001b[39;49m\u001b[38;5;124;43mmean\u001b[39;49m\u001b[38;5;124;43m\"\u001b[39;49m\u001b[43m,\u001b[49m\n\u001b[1;32m   2376\u001b[0m \u001b[43m        \u001b[49m\u001b[43malt\u001b[49m\u001b[38;5;241;43m=\u001b[39;49m\u001b[38;5;28;43;01mlambda\u001b[39;49;00m\u001b[43m \u001b[49m\u001b[43mx\u001b[49m\u001b[43m:\u001b[49m\u001b[43m \u001b[49m\u001b[43mSeries\u001b[49m\u001b[43m(\u001b[49m\u001b[43mx\u001b[49m\u001b[43m)\u001b[49m\u001b[38;5;241;43m.\u001b[39;49m\u001b[43mmean\u001b[49m\u001b[43m(\u001b[49m\u001b[43mnumeric_only\u001b[49m\u001b[38;5;241;43m=\u001b[39;49m\u001b[43mnumeric_only\u001b[49m\u001b[43m)\u001b[49m\u001b[43m,\u001b[49m\n\u001b[1;32m   2377\u001b[0m \u001b[43m        \u001b[49m\u001b[43mnumeric_only\u001b[49m\u001b[38;5;241;43m=\u001b[39;49m\u001b[43mnumeric_only\u001b[49m\u001b[43m,\u001b[49m\n\u001b[1;32m   2378\u001b[0m \u001b[43m    \u001b[49m\u001b[43m)\u001b[49m\n\u001b[1;32m   2379\u001b[0m     \u001b[38;5;28;01mreturn\u001b[39;00m result\u001b[38;5;241m.\u001b[39m__finalize__(\u001b[38;5;28mself\u001b[39m\u001b[38;5;241m.\u001b[39mobj, method\u001b[38;5;241m=\u001b[39m\u001b[38;5;124m\"\u001b[39m\u001b[38;5;124mgroupby\u001b[39m\u001b[38;5;124m\"\u001b[39m)\n",
      "File \u001b[0;32m~/anaconda3/envs/pds/lib/python3.10/site-packages/pandas/core/groupby/groupby.py:1925\u001b[0m, in \u001b[0;36mGroupBy._cython_agg_general\u001b[0;34m(self, how, alt, numeric_only, min_count, **kwargs)\u001b[0m\n\u001b[1;32m   1922\u001b[0m     result \u001b[38;5;241m=\u001b[39m \u001b[38;5;28mself\u001b[39m\u001b[38;5;241m.\u001b[39m_agg_py_fallback(how, values, ndim\u001b[38;5;241m=\u001b[39mdata\u001b[38;5;241m.\u001b[39mndim, alt\u001b[38;5;241m=\u001b[39malt)\n\u001b[1;32m   1923\u001b[0m     \u001b[38;5;28;01mreturn\u001b[39;00m result\n\u001b[0;32m-> 1925\u001b[0m new_mgr \u001b[38;5;241m=\u001b[39m \u001b[43mdata\u001b[49m\u001b[38;5;241;43m.\u001b[39;49m\u001b[43mgrouped_reduce\u001b[49m\u001b[43m(\u001b[49m\u001b[43marray_func\u001b[49m\u001b[43m)\u001b[49m\n\u001b[1;32m   1926\u001b[0m res \u001b[38;5;241m=\u001b[39m \u001b[38;5;28mself\u001b[39m\u001b[38;5;241m.\u001b[39m_wrap_agged_manager(new_mgr)\n\u001b[1;32m   1927\u001b[0m out \u001b[38;5;241m=\u001b[39m \u001b[38;5;28mself\u001b[39m\u001b[38;5;241m.\u001b[39m_wrap_aggregated_output(res)\n",
      "File \u001b[0;32m~/anaconda3/envs/pds/lib/python3.10/site-packages/pandas/core/internals/managers.py:1428\u001b[0m, in \u001b[0;36mBlockManager.grouped_reduce\u001b[0;34m(self, func)\u001b[0m\n\u001b[1;32m   1424\u001b[0m \u001b[38;5;28;01mif\u001b[39;00m blk\u001b[38;5;241m.\u001b[39mis_object:\n\u001b[1;32m   1425\u001b[0m     \u001b[38;5;66;03m# split on object-dtype blocks bc some columns may raise\u001b[39;00m\n\u001b[1;32m   1426\u001b[0m     \u001b[38;5;66;03m#  while others do not.\u001b[39;00m\n\u001b[1;32m   1427\u001b[0m     \u001b[38;5;28;01mfor\u001b[39;00m sb \u001b[38;5;129;01min\u001b[39;00m blk\u001b[38;5;241m.\u001b[39m_split():\n\u001b[0;32m-> 1428\u001b[0m         applied \u001b[38;5;241m=\u001b[39m \u001b[43msb\u001b[49m\u001b[38;5;241;43m.\u001b[39;49m\u001b[43mapply\u001b[49m\u001b[43m(\u001b[49m\u001b[43mfunc\u001b[49m\u001b[43m)\u001b[49m\n\u001b[1;32m   1429\u001b[0m         result_blocks \u001b[38;5;241m=\u001b[39m extend_blocks(applied, result_blocks)\n\u001b[1;32m   1430\u001b[0m \u001b[38;5;28;01melse\u001b[39;00m:\n",
      "File \u001b[0;32m~/anaconda3/envs/pds/lib/python3.10/site-packages/pandas/core/internals/blocks.py:366\u001b[0m, in \u001b[0;36mBlock.apply\u001b[0;34m(self, func, **kwargs)\u001b[0m\n\u001b[1;32m    360\u001b[0m \u001b[38;5;129m@final\u001b[39m\n\u001b[1;32m    361\u001b[0m \u001b[38;5;28;01mdef\u001b[39;00m \u001b[38;5;21mapply\u001b[39m(\u001b[38;5;28mself\u001b[39m, func, \u001b[38;5;241m*\u001b[39m\u001b[38;5;241m*\u001b[39mkwargs) \u001b[38;5;241m-\u001b[39m\u001b[38;5;241m>\u001b[39m \u001b[38;5;28mlist\u001b[39m[Block]:\n\u001b[1;32m    362\u001b[0m \u001b[38;5;250m    \u001b[39m\u001b[38;5;124;03m\"\"\"\u001b[39;00m\n\u001b[1;32m    363\u001b[0m \u001b[38;5;124;03m    apply the function to my values; return a block if we are not\u001b[39;00m\n\u001b[1;32m    364\u001b[0m \u001b[38;5;124;03m    one\u001b[39;00m\n\u001b[1;32m    365\u001b[0m \u001b[38;5;124;03m    \"\"\"\u001b[39;00m\n\u001b[0;32m--> 366\u001b[0m     result \u001b[38;5;241m=\u001b[39m \u001b[43mfunc\u001b[49m\u001b[43m(\u001b[49m\u001b[38;5;28;43mself\u001b[39;49m\u001b[38;5;241;43m.\u001b[39;49m\u001b[43mvalues\u001b[49m\u001b[43m,\u001b[49m\u001b[43m \u001b[49m\u001b[38;5;241;43m*\u001b[39;49m\u001b[38;5;241;43m*\u001b[39;49m\u001b[43mkwargs\u001b[49m\u001b[43m)\u001b[49m\n\u001b[1;32m    368\u001b[0m     result \u001b[38;5;241m=\u001b[39m maybe_coerce_values(result)\n\u001b[1;32m    369\u001b[0m     \u001b[38;5;28;01mreturn\u001b[39;00m \u001b[38;5;28mself\u001b[39m\u001b[38;5;241m.\u001b[39m_split_op_result(result)\n",
      "File \u001b[0;32m~/anaconda3/envs/pds/lib/python3.10/site-packages/pandas/core/groupby/groupby.py:1922\u001b[0m, in \u001b[0;36mGroupBy._cython_agg_general.<locals>.array_func\u001b[0;34m(values)\u001b[0m\n\u001b[1;32m   1919\u001b[0m \u001b[38;5;28;01melse\u001b[39;00m:\n\u001b[1;32m   1920\u001b[0m     \u001b[38;5;28;01mreturn\u001b[39;00m result\n\u001b[0;32m-> 1922\u001b[0m result \u001b[38;5;241m=\u001b[39m \u001b[38;5;28;43mself\u001b[39;49m\u001b[38;5;241;43m.\u001b[39;49m\u001b[43m_agg_py_fallback\u001b[49m\u001b[43m(\u001b[49m\u001b[43mhow\u001b[49m\u001b[43m,\u001b[49m\u001b[43m \u001b[49m\u001b[43mvalues\u001b[49m\u001b[43m,\u001b[49m\u001b[43m \u001b[49m\u001b[43mndim\u001b[49m\u001b[38;5;241;43m=\u001b[39;49m\u001b[43mdata\u001b[49m\u001b[38;5;241;43m.\u001b[39;49m\u001b[43mndim\u001b[49m\u001b[43m,\u001b[49m\u001b[43m \u001b[49m\u001b[43malt\u001b[49m\u001b[38;5;241;43m=\u001b[39;49m\u001b[43malt\u001b[49m\u001b[43m)\u001b[49m\n\u001b[1;32m   1923\u001b[0m \u001b[38;5;28;01mreturn\u001b[39;00m result\n",
      "File \u001b[0;32m~/anaconda3/envs/pds/lib/python3.10/site-packages/pandas/core/groupby/groupby.py:1874\u001b[0m, in \u001b[0;36mGroupBy._agg_py_fallback\u001b[0;34m(self, how, values, ndim, alt)\u001b[0m\n\u001b[1;32m   1872\u001b[0m     msg \u001b[38;5;241m=\u001b[39m \u001b[38;5;124mf\u001b[39m\u001b[38;5;124m\"\u001b[39m\u001b[38;5;124magg function failed [how->\u001b[39m\u001b[38;5;132;01m{\u001b[39;00mhow\u001b[38;5;132;01m}\u001b[39;00m\u001b[38;5;124m,dtype->\u001b[39m\u001b[38;5;132;01m{\u001b[39;00mser\u001b[38;5;241m.\u001b[39mdtype\u001b[38;5;132;01m}\u001b[39;00m\u001b[38;5;124m]\u001b[39m\u001b[38;5;124m\"\u001b[39m\n\u001b[1;32m   1873\u001b[0m     \u001b[38;5;66;03m# preserve the kind of exception that raised\u001b[39;00m\n\u001b[0;32m-> 1874\u001b[0m     \u001b[38;5;28;01mraise\u001b[39;00m \u001b[38;5;28mtype\u001b[39m(err)(msg) \u001b[38;5;28;01mfrom\u001b[39;00m \u001b[38;5;21;01merr\u001b[39;00m\n\u001b[1;32m   1876\u001b[0m \u001b[38;5;28;01mif\u001b[39;00m ser\u001b[38;5;241m.\u001b[39mdtype \u001b[38;5;241m==\u001b[39m \u001b[38;5;28mobject\u001b[39m:\n\u001b[1;32m   1877\u001b[0m     res_values \u001b[38;5;241m=\u001b[39m res_values\u001b[38;5;241m.\u001b[39mastype(\u001b[38;5;28mobject\u001b[39m, copy\u001b[38;5;241m=\u001b[39m\u001b[38;5;28;01mFalse\u001b[39;00m)\n",
      "\u001b[0;31mTypeError\u001b[0m: agg function failed [how->mean,dtype->object]"
     ]
    }
   ],
   "source": [
    "# Why does this error?\n",
    "pets.groupby('Species').mean()"
   ]
  },
  {
   "cell_type": "code",
   "execution_count": 13,
   "id": "03b43419",
   "metadata": {
    "deletable": true,
    "editable": true
   },
   "outputs": [
    {
     "data": {
      "text/html": [
       "<div>\n",
       "<style scoped>\n",
       "    .dataframe tbody tr th:only-of-type {\n",
       "        vertical-align: middle;\n",
       "    }\n",
       "\n",
       "    .dataframe tbody tr th {\n",
       "        vertical-align: top;\n",
       "    }\n",
       "\n",
       "    .dataframe thead th {\n",
       "        text-align: right;\n",
       "    }\n",
       "</style>\n",
       "<table border=\"1\" class=\"dataframe\">\n",
       "  <thead>\n",
       "    <tr style=\"text-align: right;\">\n",
       "      <th></th>\n",
       "      <th>Weight</th>\n",
       "      <th>Age</th>\n",
       "    </tr>\n",
       "    <tr>\n",
       "      <th>Species</th>\n",
       "      <th></th>\n",
       "      <th></th>\n",
       "    </tr>\n",
       "  </thead>\n",
       "  <tbody>\n",
       "    <tr>\n",
       "      <th>cat</th>\n",
       "      <td>17.50</td>\n",
       "      <td>8.5</td>\n",
       "    </tr>\n",
       "    <tr>\n",
       "      <th>dog</th>\n",
       "      <td>48.33</td>\n",
       "      <td>2.5</td>\n",
       "    </tr>\n",
       "    <tr>\n",
       "      <th>hamster</th>\n",
       "      <td>1.00</td>\n",
       "      <td>3.0</td>\n",
       "    </tr>\n",
       "  </tbody>\n",
       "</table>\n",
       "</div>"
      ],
      "text/plain": [
       "         Weight  Age\n",
       "Species             \n",
       "cat       17.50  8.5\n",
       "dog       48.33  2.5\n",
       "hamster    1.00  3.0"
      ]
     },
     "execution_count": 13,
     "metadata": {},
     "output_type": "execute_result"
    }
   ],
   "source": [
    "pets.groupby('Species')[['Weight', 'Age']].mean() "
   ]
  },
  {
   "cell_type": "code",
   "execution_count": 14,
   "id": "6d95c4ac",
   "metadata": {
    "deletable": true,
    "editable": true
   },
   "outputs": [
    {
     "data": {
      "text/html": [
       "<div>\n",
       "<style scoped>\n",
       "    .dataframe tbody tr th:only-of-type {\n",
       "        vertical-align: middle;\n",
       "    }\n",
       "\n",
       "    .dataframe tbody tr th {\n",
       "        vertical-align: top;\n",
       "    }\n",
       "\n",
       "    .dataframe thead th {\n",
       "        text-align: right;\n",
       "    }\n",
       "</style>\n",
       "<table border=\"1\" class=\"dataframe\">\n",
       "  <thead>\n",
       "    <tr style=\"text-align: right;\">\n",
       "      <th></th>\n",
       "      <th>Color</th>\n",
       "      <th>Weight</th>\n",
       "      <th>Age</th>\n",
       "    </tr>\n",
       "    <tr>\n",
       "      <th>Species</th>\n",
       "      <th></th>\n",
       "      <th></th>\n",
       "      <th></th>\n",
       "    </tr>\n",
       "  </thead>\n",
       "  <tbody>\n",
       "    <tr>\n",
       "      <th>cat</th>\n",
       "      <td>golden</td>\n",
       "      <td>20</td>\n",
       "      <td>9.0</td>\n",
       "    </tr>\n",
       "    <tr>\n",
       "      <th>dog</th>\n",
       "      <td>white</td>\n",
       "      <td>80</td>\n",
       "      <td>5.0</td>\n",
       "    </tr>\n",
       "    <tr>\n",
       "      <th>hamster</th>\n",
       "      <td>golden</td>\n",
       "      <td>1</td>\n",
       "      <td>3.0</td>\n",
       "    </tr>\n",
       "  </tbody>\n",
       "</table>\n",
       "</div>"
      ],
      "text/plain": [
       "          Color  Weight  Age\n",
       "Species                     \n",
       "cat      golden      20  9.0\n",
       "dog       white      80  5.0\n",
       "hamster  golden       1  3.0"
      ]
     },
     "execution_count": 14,
     "metadata": {},
     "output_type": "execute_result"
    }
   ],
   "source": [
    "pets.groupby('Species').max() "
   ]
  },
  {
   "cell_type": "markdown",
   "id": "c7846128",
   "metadata": {
    "deletable": true,
    "editable": true,
    "slideshow": {
     "slide_type": "fragment"
    }
   },
   "source": [
    "It takes several steps to go from the original `pets` DataFrame to this grouped DataFrame, but we don't get to see any of Python's inner workings, just the final output."
   ]
  },
  {
   "cell_type": "markdown",
   "id": "6ea351aa",
   "metadata": {
    "deletable": true,
    "editable": true,
    "slideshow": {
     "slide_type": "slide"
    }
   },
   "source": [
    "### \"Split-apply-combine\" paradigm"
   ]
  },
  {
   "cell_type": "markdown",
   "id": "4cad30ef",
   "metadata": {
    "deletable": true,
    "editable": true,
    "slideshow": {
     "slide_type": "fragment"
    }
   },
   "source": [
    "- The `groupby` method involves three steps: **split**, **apply**, and **combine**.<br><small>This is the same terminology that the [`pandas` documentation](https://pandas.pydata.org/docs/user_guide/groupby.html) uses.</small>\n",
    "\n",
    "<center><img src=\"imgs/image_0.png\" width=40%></center>"
   ]
  },
  {
   "cell_type": "markdown",
   "id": "e67d26b7",
   "metadata": {
    "deletable": true,
    "editable": true,
    "slideshow": {
     "slide_type": "fragment"
    }
   },
   "source": [
    "- **Split** breaks up and \"groups\" the rows of a DataFrame according to the specified **key**.<br><small>There is one \"group\" for every unique value of the key.</small>"
   ]
  },
  {
   "cell_type": "markdown",
   "id": "cd690ad9",
   "metadata": {
    "deletable": true,
    "editable": true,
    "slideshow": {
     "slide_type": "fragment"
    }
   },
   "source": [
    "- **Apply** uses a function (e.g. aggregation, transformation, filtration) within the individual groups."
   ]
  },
  {
   "cell_type": "markdown",
   "id": "6e549fb4",
   "metadata": {
    "deletable": true,
    "editable": true,
    "slideshow": {
     "slide_type": "fragment"
    }
   },
   "source": [
    "- **Combine** stitches the results of these operations into an output DataFrame."
   ]
  },
  {
   "cell_type": "markdown",
   "id": "806609b7",
   "metadata": {
    "deletable": true,
    "editable": true,
    "slideshow": {
     "slide_type": "fragment"
    }
   },
   "source": [
    "- The split-apply-combine pattern can be **parallelized** to work on multiple computers or threads, by sending computations for each group to different processors."
   ]
  },
  {
   "cell_type": "markdown",
   "id": "3b12fa5e",
   "metadata": {
    "deletable": true,
    "editable": true,
    "slideshow": {
     "slide_type": "slide"
    }
   },
   "source": [
    "### More examples\n",
    "\n",
    "Before we dive into the internals, let's look at a few more examples."
   ]
  },
  {
   "cell_type": "markdown",
   "id": "3c0c3f29",
   "metadata": {
    "deletable": true,
    "editable": true,
    "slideshow": {
     "slide_type": "slide"
    }
   },
   "source": [
    "<div class=\"alert alert-success\">\n",
    "<h3>Activity</h3>\n",
    "        \n",
    "Which `'species'` has the highest median `'bill_length_mm'`?"
   ]
  },
  {
   "cell_type": "code",
   "execution_count": null,
   "id": "7b5b330e",
   "metadata": {
    "deletable": true,
    "editable": true
   },
   "outputs": [],
   "source": [
    "(\n",
    "    penguins\n",
    "    .groupby('species')\n",
    "    ['bill_length_mm']\n",
    "    .median()\n",
    "    .idxmax()\n",
    ")"
   ]
  },
  {
   "cell_type": "code",
   "execution_count": null,
   "id": "b2615043",
   "metadata": {
    "deletable": true,
    "editable": true
   },
   "outputs": [],
   "source": [
    "(\n",
    "    penguins\n",
    "    .groupby('species')\n",
    "    ['bill_length_mm']\n",
    "    .median()\n",
    "    .plot(kind='barh', title='Median Bill Length of Each Species')\n",
    ")"
   ]
  },
  {
   "cell_type": "code",
   "execution_count": null,
   "id": "9d77518b",
   "metadata": {
    "deletable": true,
    "editable": true
   },
   "outputs": [],
   "source": []
  },
  {
   "cell_type": "markdown",
   "id": "35886f3b",
   "metadata": {
    "deletable": true,
    "editable": true,
    "slideshow": {
     "slide_type": "slide"
    }
   },
   "source": [
    "<div class=\"alert alert-success\">\n",
    "<h3>Activity</h3>\n",
    "                \n",
    "What proportion of penguins of each `'species'` live on `'Dream'` island?\n",
    "\n",
    "</div>"
   ]
  },
  {
   "cell_type": "code",
   "execution_count": null,
   "id": "9f2f4875",
   "metadata": {
    "deletable": true,
    "editable": true
   },
   "outputs": [],
   "source": [
    "(\n",
    "    penguins\n",
    "    .assign(is_Dream=penguins['island'] == 'Dream')\n",
    "    .groupby('species')\n",
    "    ['is_Dream']\n",
    "    .mean()\n",
    ")"
   ]
  },
  {
   "cell_type": "code",
   "execution_count": null,
   "id": "d59728b1",
   "metadata": {
    "deletable": true,
    "editable": true
   },
   "outputs": [],
   "source": []
  },
  {
   "cell_type": "markdown",
   "id": "ca27a494",
   "metadata": {
    "deletable": true,
    "editable": true,
    "slideshow": {
     "slide_type": "slide"
    }
   },
   "source": [
    "## `groupby`'s inner workings\n",
    "\n",
    "---"
   ]
  },
  {
   "cell_type": "markdown",
   "id": "ff760172",
   "metadata": {
    "deletable": true,
    "editable": true,
    "slideshow": {
     "slide_type": "slide"
    }
   },
   "source": [
    "### How does `groupby` actually work?"
   ]
  },
  {
   "cell_type": "markdown",
   "id": "47e5ad1a",
   "metadata": {
    "deletable": true,
    "editable": true,
    "slideshow": {
     "slide_type": "fragment"
    }
   },
   "source": [
    "- We've just evaluated a few expressions of the following form."
   ]
  },
  {
   "cell_type": "code",
   "execution_count": null,
   "id": "3e69330d",
   "metadata": {
    "deletable": true,
    "editable": true
   },
   "outputs": [],
   "source": [
    "penguins.groupby('species')['bill_length_mm'].mean()"
   ]
  },
  {
   "cell_type": "markdown",
   "id": "3a7e7c7e",
   "metadata": {
    "deletable": true,
    "editable": true,
    "slideshow": {
     "slide_type": "fragment"
    }
   },
   "source": [
    "- There are three \"building blocks\"\n",
    "in the above expression:\n",
    "    1. `penguins.groupby('species')`.<br><small>First, we specify which column we want to group on.</small>\n",
    "    1. `['bill_length_mm']`.<br><small>Then, we select the other relevant columns for our calculations.</small>\n",
    "    1. `.mean()`.<br><small>Finally, we use an aggregation method.</small>"
   ]
  },
  {
   "cell_type": "markdown",
   "id": "95f7f549",
   "metadata": {
    "deletable": true,
    "editable": true,
    "slideshow": {
     "slide_type": "fragment"
    }
   },
   "source": [
    "- Let's see what each block contributes to the output."
   ]
  },
  {
   "cell_type": "markdown",
   "id": "87206462",
   "metadata": {
    "deletable": true,
    "editable": true,
    "slideshow": {
     "slide_type": "slide"
    }
   },
   "source": [
    "### `DataFrameGroupBy` objects"
   ]
  },
  {
   "cell_type": "markdown",
   "id": "567a1c80",
   "metadata": {
    "deletable": true,
    "editable": true,
    "slideshow": {
     "slide_type": "fragment"
    }
   },
   "source": [
    "<pre>\n",
    "\n",
    "<strong><span style=\"color: #0066cc\">penguins.groupby('species')</span></strong><span style=\"color: #999\">['bill_length_mm'].mean()</span>\n",
    "\n",
    "</pre>"
   ]
  },
  {
   "cell_type": "markdown",
   "id": "848cb8c4",
   "metadata": {
    "deletable": true,
    "editable": true,
    "slideshow": {
     "slide_type": "fragment"
    }
   },
   "source": [
    "- If `df` is a DataFrame, then `df.groupby(key)` returns a `DataFrameGroupBy` object.<br><small>This object represents the \"split\" in \"split-apply-combine\".</small>"
   ]
  },
  {
   "cell_type": "code",
   "execution_count": null,
   "id": "4631dd27",
   "metadata": {
    "deletable": true,
    "editable": true
   },
   "outputs": [],
   "source": [
    "# Simplified DataFrame for demonstration:\n",
    "penguins_small = penguins.iloc[[0, 150, 300, 1, 251, 151, 301], [0, 5, 6]]\n",
    "penguins_small"
   ]
  },
  {
   "cell_type": "code",
   "execution_count": null,
   "id": "d475b6fe",
   "metadata": {
    "deletable": true,
    "editable": true
   },
   "outputs": [],
   "source": [
    "# Creates one group for each unique value in the species column.\n",
    "penguins_small.groupby('species')"
   ]
  },
  {
   "cell_type": "markdown",
   "id": "9e65e658",
   "metadata": {
    "deletable": true,
    "editable": true,
    "slideshow": {
     "slide_type": "fragment"
    }
   },
   "source": [
    "- `DataFrameGroupBy` objects have a `groups` attribute, which is a dictionary in which the keys are group names and the values are lists of row labels.<br><small>We won't actually use this, but it's helpful in understanding how `groupby` works under-the-hood.</small>"
   ]
  },
  {
   "cell_type": "code",
   "execution_count": null,
   "id": "8f3ca259",
   "metadata": {
    "deletable": true,
    "editable": true
   },
   "outputs": [],
   "source": [
    "penguins_small.groupby('species').groups"
   ]
  },
  {
   "cell_type": "markdown",
   "id": "330c4ccc",
   "metadata": {
    "deletable": true,
    "editable": true,
    "slideshow": {
     "slide_type": "slide"
    }
   },
   "source": [
    "### Column extraction"
   ]
  },
  {
   "cell_type": "markdown",
   "id": "f020aef5",
   "metadata": {
    "deletable": true,
    "editable": true,
    "slideshow": {
     "slide_type": "fragment"
    }
   },
   "source": [
    "<pre>\n",
    "\n",
    "<span style=\"color: #999\">penguins.groupby('species')</span><strong><span style=\"color: #0066cc\">['bill_length_mm']</span></strong><span style=\"color: #999\">.mean()</span>\n",
    "\n",
    "</pre>"
   ]
  },
  {
   "cell_type": "markdown",
   "id": "e55555aa",
   "metadata": {
    "deletable": true,
    "editable": true,
    "slideshow": {
     "slide_type": "fragment"
    }
   },
   "source": [
    "- After creating a `DataFrameGroupBy` object, we typically select the relevant column(s) that we want to aggregate."
   ]
  },
  {
   "cell_type": "markdown",
   "id": "b95c5212",
   "metadata": {
    "deletable": true,
    "editable": true,
    "slideshow": {
     "slide_type": "fragment"
    }
   },
   "source": [
    "- The result is either a `SeriesGroupBy` or `DataFrameGroupBy` object, depending on what's passed in."
   ]
  },
  {
   "cell_type": "code",
   "execution_count": null,
   "id": "b7a73596",
   "metadata": {
    "deletable": true,
    "editable": true
   },
   "outputs": [],
   "source": [
    "penguins.groupby('species')['bill_length_mm'] "
   ]
  },
  {
   "cell_type": "code",
   "execution_count": null,
   "id": "8922c570",
   "metadata": {
    "deletable": true,
    "editable": true
   },
   "outputs": [],
   "source": [
    "penguins.groupby('species')[['bill_length_mm', 'bill_depth_mm']] "
   ]
  },
  {
   "cell_type": "markdown",
   "id": "7011fb48",
   "metadata": {
    "deletable": true,
    "editable": true,
    "slideshow": {
     "slide_type": "fragment"
    }
   },
   "source": [
    "- As we've seen already, you should the columns you want to aggregate **before** using your aggregation method, or you may run into errors!"
   ]
  },
  {
   "cell_type": "code",
   "execution_count": null,
   "id": "5c51a0cf",
   "metadata": {
    "deletable": true,
    "editable": true
   },
   "outputs": [],
   "source": [
    "# This errors, because there are non-numeric columns in penguins\n",
    "# that it's trying to take the \"mean\" of, like 'island'.\n",
    "penguins.groupby('species').mean() "
   ]
  },
  {
   "cell_type": "code",
   "execution_count": null,
   "id": "c6d812ca",
   "metadata": {
    "deletable": true,
    "editable": true
   },
   "outputs": [],
   "source": [
    "penguins.groupby('species')[['bill_length_mm', 'bill_depth_mm']].mean() "
   ]
  },
  {
   "cell_type": "markdown",
   "id": "ed03a584",
   "metadata": {
    "deletable": true,
    "editable": true,
    "slideshow": {
     "slide_type": "slide"
    }
   },
   "source": [
    "### Aggregation"
   ]
  },
  {
   "cell_type": "markdown",
   "id": "6446df81",
   "metadata": {
    "deletable": true,
    "editable": true,
    "slideshow": {
     "slide_type": "fragment"
    }
   },
   "source": [
    "<pre>\n",
    "\n",
    "<span style=\"color: #999\">penguins.groupby('species')['bill_length_mm']</span><strong><span style=\"color: #0066cc\">.mean()</span></strong>\n",
    "\n",
    "</pre>"
   ]
  },
  {
   "cell_type": "markdown",
   "id": "c2289162",
   "metadata": {
    "deletable": true,
    "editable": true,
    "slideshow": {
     "slide_type": "fragment"
    }
   },
   "source": [
    "- Once we create a `DataFrameGroupBy` or `SeriesGroupBy` object, we need to **apply** some function to each group, and **combine** the results."
   ]
  },
  {
   "cell_type": "markdown",
   "id": "670e589b",
   "metadata": {
    "deletable": true,
    "editable": true,
    "slideshow": {
     "slide_type": "fragment"
    }
   },
   "source": [
    "- The most common operation we apply to each group is an **aggregation**, but we'll see examples of **filtrations** and **transformations** soon<br><small>Remember, aggregation is the act of combining many values into a single value.</small>"
   ]
  },
  {
   "cell_type": "markdown",
   "id": "3d8ded02",
   "metadata": {
    "deletable": true,
    "editable": true,
    "slideshow": {
     "slide_type": "fragment"
    }
   },
   "source": [
    "- To perform an aggregation, use an aggregation method on the `DataFrameGroupBy` or `SeriesGroupBy` object, e.g. `.mean()`, `.max()`, or `.median()`."
   ]
  },
  {
   "cell_type": "markdown",
   "id": "eae8bac2",
   "metadata": {
    "deletable": true,
    "editable": true,
    "slideshow": {
     "slide_type": "slide"
    }
   },
   "source": [
    "Let's look at some examples."
   ]
  },
  {
   "cell_type": "code",
   "execution_count": null,
   "id": "b6ea839c",
   "metadata": {
    "deletable": true,
    "editable": true,
    "scrolled": true,
    "slideshow": {
     "slide_type": "-"
    }
   },
   "outputs": [],
   "source": [
    "penguins_small"
   ]
  },
  {
   "cell_type": "code",
   "execution_count": null,
   "id": "7884aee6",
   "metadata": {
    "deletable": true,
    "editable": true
   },
   "outputs": [],
   "source": [
    "penguins_small.groupby('species')['body_mass_g'].mean() "
   ]
  },
  {
   "cell_type": "code",
   "execution_count": null,
   "id": "19805ceb",
   "metadata": {
    "deletable": true,
    "editable": true
   },
   "outputs": [],
   "source": [
    "# Note that this worked on the entire DataFrame!\n",
    "# But, if all we wanted are the sums of `'body_mass_g'\n",
    "# for each species, this is slower than\n",
    "# penguins_small.groupby('species')['body_mass_g'].mean().\n",
    "penguins_small.groupby('species').sum() "
   ]
  },
  {
   "cell_type": "code",
   "execution_count": null,
   "id": "0cde65c1",
   "metadata": {
    "deletable": true,
    "editable": true
   },
   "outputs": [],
   "source": [
    "# Often used in conjunction with sort_values.\n",
    "# Remember this when you work on the activity in a few slides!\n",
    "penguins_small.groupby('species').last() "
   ]
  },
  {
   "cell_type": "code",
   "execution_count": null,
   "id": "8205a912",
   "metadata": {
    "deletable": true,
    "editable": true,
    "scrolled": true
   },
   "outputs": [],
   "source": [
    "penguins_small.groupby('species').max() "
   ]
  },
  {
   "cell_type": "markdown",
   "id": "b6ad607f",
   "metadata": {
    "deletable": true,
    "editable": true,
    "slideshow": {
     "slide_type": "slide"
    }
   },
   "source": [
    "### Column independence"
   ]
  },
  {
   "cell_type": "markdown",
   "id": "5b6dc18a",
   "metadata": {
    "deletable": true,
    "editable": true,
    "slideshow": {
     "slide_type": "fragment"
    }
   },
   "source": [
    "- Within each group, the aggregation method is applied to **each column independently**."
   ]
  },
  {
   "cell_type": "code",
   "execution_count": null,
   "id": "90102e3c",
   "metadata": {
    "deletable": true,
    "editable": true
   },
   "outputs": [],
   "source": [
    "penguins_small.groupby('species').max()"
   ]
  },
  {
   "cell_type": "markdown",
   "id": "a5752d12",
   "metadata": {
    "deletable": true,
    "editable": true,
    "slideshow": {
     "slide_type": "fragment"
    }
   },
   "source": [
    "- The above result **is not** telling us that there is a `'Male'` `'Adelie'` penguin with a `'body_mass_g'` of `3800.0`!"
   ]
  },
  {
   "cell_type": "code",
   "execution_count": null,
   "id": "8de87eac",
   "metadata": {
    "deletable": true,
    "editable": true
   },
   "outputs": [],
   "source": [
    "# This penguin is Female!\n",
    "penguins_small.loc[(penguins['species'] == 'Adelie') & (penguins['body_mass_g'] == 3800.0)]"
   ]
  },
  {
   "cell_type": "markdown",
   "id": "2daee1ab",
   "metadata": {
    "deletable": true,
    "editable": true,
    "slideshow": {
     "slide_type": "slide"
    }
   },
   "source": [
    "<div class=\"alert alert-success\">\n",
    "<h3>Activity</h3>\n",
    "\n",
    "Find the <code>'species'</code>, <code>'island'</code>, and <code>'body_mass_g'</code> of the heaviest <code>'Male'</code> and <code>'Female'</code> penguins in <code>penguins</code> (not <code>penguins_small</code>).\n",
    "</div>"
   ]
  },
  {
   "cell_type": "code",
   "execution_count": null,
   "id": "4d3f7eaf",
   "metadata": {
    "deletable": true,
    "editable": true
   },
   "outputs": [],
   "source": [
    "# General idea: Sort the penguibs by mass in decreasing order.\n",
    "# Then, the first male penguin that appears is the heaviest male penguin,\n",
    "# and the first female penguin that appears is the heaviest female penguin.\n",
    "# For each sex, take the first row.\n",
    "(\n",
    "    penguins\n",
    "    .sort_values('body_mass_g', ascending=False)\n",
    "    .groupby('sex')\n",
    "    .first()\n",
    ")"
   ]
  },
  {
   "cell_type": "markdown",
   "id": "26ebbcdb",
   "metadata": {
    "deletable": true,
    "editable": true,
    "slideshow": {
     "slide_type": "slide"
    }
   },
   "source": [
    "### Beyond default aggregation methods"
   ]
  },
  {
   "cell_type": "markdown",
   "id": "59022564",
   "metadata": {
    "deletable": true,
    "editable": true,
    "slideshow": {
     "slide_type": "fragment"
    }
   },
   "source": [
    "- There are many built-in aggregation methods."
   ]
  },
  {
   "cell_type": "markdown",
   "id": "dae83b1f",
   "metadata": {
    "deletable": true,
    "editable": true,
    "slideshow": {
     "slide_type": "fragment"
    }
   },
   "source": [
    "- What if you want to apply different aggregation methods to different columns?"
   ]
  },
  {
   "cell_type": "markdown",
   "id": "1efc2283",
   "metadata": {
    "deletable": true,
    "editable": true,
    "slideshow": {
     "slide_type": "fragment"
    }
   },
   "source": [
    "- What if the aggregation method you want to use doesn't already exist in `pandas`?"
   ]
  },
  {
   "cell_type": "markdown",
   "id": "919542f4",
   "metadata": {
    "deletable": true,
    "editable": true,
    "slideshow": {
     "slide_type": "slide"
    }
   },
   "source": [
    "### The `aggregate` method"
   ]
  },
  {
   "cell_type": "markdown",
   "id": "d23abfa0",
   "metadata": {
    "deletable": true,
    "editable": true,
    "slideshow": {
     "slide_type": "fragment"
    }
   },
   "source": [
    "- `DataFrameGroupBy` and `SeriesGroupBy` objects have a general `aggregate` method, which aggregates using one or more operations.<br><small>Remember, aggregation is the act of combining many values into a single value.</small>"
   ]
  },
  {
   "cell_type": "markdown",
   "id": "60df7590",
   "metadata": {
    "deletable": true,
    "editable": true,
    "slideshow": {
     "slide_type": "fragment"
    }
   },
   "source": [
    "- There are many ways of using `aggregate`; refer to [the documentation](https://pandas.pydata.org/pandas-docs/stable/reference/api/pandas.core.groupby.DataFrameGroupBy.aggregate.html) for a comprehensive list.<br><small>Per [the documentation](https://pandas.pydata.org/pandas-docs/stable/reference/api/pandas.DataFrame.agg.html), `agg` is an alias for `aggregate`.</small>"
   ]
  },
  {
   "cell_type": "markdown",
   "id": "c4106315",
   "metadata": {
    "deletable": true,
    "editable": true,
    "slideshow": {
     "slide_type": "fragment"
    }
   },
   "source": [
    "- Example arguments:\n",
    "    - A single function.\n",
    "    - A list of functions.\n",
    "    - A dictionary mapping column names to functions."
   ]
  },
  {
   "cell_type": "markdown",
   "id": "448e499b",
   "metadata": {
    "deletable": true,
    "editable": true,
    "slideshow": {
     "slide_type": "fragment"
    }
   },
   "source": [
    "- We've attached a Reference Slide with examples."
   ]
  },
  {
   "cell_type": "markdown",
   "id": "5b8d779d",
   "metadata": {
    "deletable": true,
    "editable": true,
    "slideshow": {
     "slide_type": "skip"
    }
   },
   "source": [
    "<div class=\"alert alert-danger\" markdown=\"1\">\n",
    "\n",
    "#### Reference Slide\n",
    "\n",
    "### Examples"
   ]
  },
  {
   "cell_type": "markdown",
   "id": "c6a03aaa",
   "metadata": {
    "deletable": true,
    "editable": true,
    "slideshow": {
     "slide_type": "skip"
    }
   },
   "source": [
    "- How many penguins are there of each `'species'`, and what is the mean `'body_mass_g'` of each `'species'`?"
   ]
  },
  {
   "cell_type": "code",
   "execution_count": null,
   "id": "163b96bf",
   "metadata": {
    "deletable": true,
    "editable": true,
    "slideshow": {
     "slide_type": "skip"
    }
   },
   "outputs": [],
   "source": [
    "(\n",
    "    penguins\n",
    "    .groupby('species')\n",
    "    ['body_mass_g']\n",
    "    .aggregate(['count', 'mean'])\n",
    ")"
   ]
  },
  {
   "cell_type": "markdown",
   "id": "414d5a75",
   "metadata": {
    "deletable": true,
    "editable": true,
    "slideshow": {
     "slide_type": "skip"
    }
   },
   "source": [
    "- What is the maximum `'bill_length_mm'` of each `'species'`, and which `'island'`s is each `'species'` found on?"
   ]
  },
  {
   "cell_type": "code",
   "execution_count": 18,
   "id": "fccc18aa",
   "metadata": {
    "deletable": true,
    "editable": true,
    "slideshow": {
     "slide_type": "skip"
    }
   },
   "outputs": [
    {
     "ename": "NameError",
     "evalue": "name 'penguins' is not defined",
     "output_type": "error",
     "traceback": [
      "\u001b[0;31m---------------------------------------------------------------------------\u001b[0m",
      "\u001b[0;31mNameError\u001b[0m                                 Traceback (most recent call last)",
      "Cell \u001b[0;32mIn[18], line 2\u001b[0m\n\u001b[1;32m      1\u001b[0m (\n\u001b[0;32m----> 2\u001b[0m     \u001b[43mpenguins\u001b[49m\n\u001b[1;32m      3\u001b[0m     \u001b[38;5;241m.\u001b[39mgroupby(\u001b[38;5;124m'\u001b[39m\u001b[38;5;124mspecies\u001b[39m\u001b[38;5;124m'\u001b[39m)\n\u001b[1;32m      4\u001b[0m     \u001b[38;5;241m.\u001b[39magg({\u001b[38;5;124m'\u001b[39m\u001b[38;5;124mbill_length_mm\u001b[39m\u001b[38;5;124m'\u001b[39m: \u001b[38;5;124m'\u001b[39m\u001b[38;5;124mmax\u001b[39m\u001b[38;5;124m'\u001b[39m, \u001b[38;5;124m'\u001b[39m\u001b[38;5;124misland\u001b[39m\u001b[38;5;124m'\u001b[39m: \u001b[38;5;124m'\u001b[39m\u001b[38;5;124munique\u001b[39m\u001b[38;5;124m'\u001b[39m})\n\u001b[1;32m      5\u001b[0m )\n",
      "\u001b[0;31mNameError\u001b[0m: name 'penguins' is not defined"
     ]
    }
   ],
   "source": [
    "(\n",
    "    penguins\n",
    "    .groupby('species')\n",
    "    .agg({'bill_length_mm': 'max', 'island': 'unique'})\n",
    ")"
   ]
  },
  {
   "cell_type": "markdown",
   "id": "5d893025",
   "metadata": {
    "deletable": true,
    "editable": true,
    "slideshow": {
     "slide_type": "slide"
    }
   },
   "source": [
    "<div class=\"alert alert-success\">\n",
    "<h3>Activity</h3>\n",
    "\n",
    "What is the **interquartile range** of the `'body_mass_g'` of each `'species'`?\n",
    "    \n",
    "The interquartile range of a distribution is defined as:\n",
    "    \n",
    "$$\\text{75th percentile} - \\text{25th percentile}$$\n",
    "    \n",
    "***Hint***: Use `np.percentile`, and pass `agg`/`aggregate` a custom function."
   ]
  },
  {
   "cell_type": "code",
   "execution_count": 17,
   "id": "8b6b663a",
   "metadata": {
    "deletable": true,
    "editable": true
   },
   "outputs": [
    {
     "ename": "NameError",
     "evalue": "name 'penguins' is not defined",
     "output_type": "error",
     "traceback": [
      "\u001b[0;31m---------------------------------------------------------------------------\u001b[0m",
      "\u001b[0;31mNameError\u001b[0m                                 Traceback (most recent call last)",
      "Cell \u001b[0;32mIn[17], line 6\u001b[0m\n\u001b[1;32m      3\u001b[0m \u001b[38;5;28;01mdef\u001b[39;00m \u001b[38;5;21miqr\u001b[39m(s):\n\u001b[1;32m      4\u001b[0m     \u001b[38;5;28;01mreturn\u001b[39;00m np\u001b[38;5;241m.\u001b[39mpercentile(s, \u001b[38;5;241m75\u001b[39m) \u001b[38;5;241m-\u001b[39m np\u001b[38;5;241m.\u001b[39mpercentile(s, \u001b[38;5;241m25\u001b[39m)\n\u001b[1;32m      5\u001b[0m (\n\u001b[0;32m----> 6\u001b[0m     \u001b[43mpenguins\u001b[49m\n\u001b[1;32m      7\u001b[0m     \u001b[38;5;241m.\u001b[39mgroupby(\u001b[38;5;124m'\u001b[39m\u001b[38;5;124mspecies\u001b[39m\u001b[38;5;124m'\u001b[39m)\n\u001b[1;32m      8\u001b[0m     [\u001b[38;5;124m'\u001b[39m\u001b[38;5;124mbody_mass_g\u001b[39m\u001b[38;5;124m'\u001b[39m]\n\u001b[1;32m      9\u001b[0m     \u001b[38;5;241m.\u001b[39magg(iqr)\n\u001b[1;32m     10\u001b[0m )\n",
      "\u001b[0;31mNameError\u001b[0m: name 'penguins' is not defined"
     ]
    }
   ],
   "source": [
    "# Here, the argument to agg is a function,\n",
    "# which takes in a Series and returns a scalar.\n",
    "def iqr(s):\n",
    "    return np.percentile(s, 75) - np.percentile(s, 25)\n",
    "(\n",
    "    penguins\n",
    "    .groupby('species')\n",
    "    ['body_mass_g']\n",
    "    .agg(iqr)\n",
    ")"
   ]
  },
  {
   "cell_type": "markdown",
   "id": "1cd436eb",
   "metadata": {
    "deletable": true,
    "editable": true,
    "slideshow": {
     "slide_type": "slide"
    }
   },
   "source": [
    "<div class=\"alert alert-warning\">\n",
    "    <h3>Question 🤔 (Answer at <a style=\"text-decoration: none; color: #0066cc\" href=\"https://docs.google.com/forms/d/e/1FAIpQLSd4oliiZYeNh76jWy-arfEtoAkCrVSsobZxPwxifWggo3EO0Q/viewform\">practicaldsc.org/q</a>)</h3>\n",
    "    \n",
    "<small>Remember that you can always ask questions anonymously at the link above!</small>\n",
    "    \n",
    "What questions do you have?"
   ]
  },
  {
   "cell_type": "markdown",
   "id": "7fb1e15c",
   "metadata": {
    "deletable": true,
    "editable": true,
    "slideshow": {
     "slide_type": "slide"
    }
   },
   "source": [
    "### Split-apply-combine, revisited"
   ]
  },
  {
   "cell_type": "markdown",
   "id": "5cea478c",
   "metadata": {
    "deletable": true,
    "editable": true,
    "slideshow": {
     "slide_type": "fragment"
    }
   },
   "source": [
    "- When we introduced the split-apply-combine pattern, the \"apply\" step involved **aggregation** – our final DataFrame had one row for each group.\n",
    "\n",
    "<center><img src=\"imgs/image_0.png\" width=40%></center>"
   ]
  },
  {
   "cell_type": "markdown",
   "id": "ec1cabe4",
   "metadata": {
    "deletable": true,
    "editable": true,
    "slideshow": {
     "slide_type": "fragment"
    }
   },
   "source": [
    "- Instead of aggregating during the apply step, we could instead perform a **filtration**, in which we keep only the groups that satisfy some condition."
   ]
  },
  {
   "cell_type": "markdown",
   "id": "a3a38776",
   "metadata": {
    "deletable": true,
    "editable": true,
    "slideshow": {
     "slide_type": "fragment"
    }
   },
   "source": [
    "- Or a **transformation**, in which we perform operations to every value within each group."
   ]
  },
  {
   "cell_type": "markdown",
   "id": "d8f2f8eb",
   "metadata": {
    "deletable": true,
    "editable": true,
    "slideshow": {
     "slide_type": "slide"
    }
   },
   "source": [
    "### Grouping, then filtering"
   ]
  },
  {
   "cell_type": "markdown",
   "id": "d9a3f2af",
   "metadata": {
    "deletable": true,
    "editable": true,
    "slideshow": {
     "slide_type": "fragment"
    }
   },
   "source": [
    "- To keep only the groups that satisfy a particular condition, use the `filter` method on a `DataFrameGroupBy`/`SeriesGroupBy` object.<br><small>The `filter` method takes in a function, which itself takes in a DataFrame/Series and return a single Boolean. The result is a new DataFrame/Series with only the groups for which the filter function returned `True`.</small>"
   ]
  },
  {
   "cell_type": "markdown",
   "id": "5013c548",
   "metadata": {
    "deletable": true,
    "editable": true,
    "slideshow": {
     "slide_type": "fragment"
    }
   },
   "source": [
    "- For example, suppose we want only the `'species'` whose average `'bill_length_mm'` is above 39."
   ]
  },
  {
   "cell_type": "code",
   "execution_count": 16,
   "id": "dba70d72",
   "metadata": {
    "deletable": true,
    "editable": true
   },
   "outputs": [
    {
     "ename": "NameError",
     "evalue": "name 'penguins' is not defined",
     "output_type": "error",
     "traceback": [
      "\u001b[0;31m---------------------------------------------------------------------------\u001b[0m",
      "\u001b[0;31mNameError\u001b[0m                                 Traceback (most recent call last)",
      "Cell \u001b[0;32mIn[16], line 2\u001b[0m\n\u001b[1;32m      1\u001b[0m (\n\u001b[0;32m----> 2\u001b[0m     \u001b[43mpenguins\u001b[49m\n\u001b[1;32m      3\u001b[0m     \u001b[38;5;241m.\u001b[39mgroupby(\u001b[38;5;124m'\u001b[39m\u001b[38;5;124mspecies\u001b[39m\u001b[38;5;124m'\u001b[39m)\n\u001b[1;32m      4\u001b[0m     \u001b[38;5;241m.\u001b[39mfilter(\u001b[38;5;28;01mlambda\u001b[39;00m df: df[\u001b[38;5;124m'\u001b[39m\u001b[38;5;124mbill_length_mm\u001b[39m\u001b[38;5;124m'\u001b[39m]\u001b[38;5;241m.\u001b[39mmean() \u001b[38;5;241m>\u001b[39m \u001b[38;5;241m39\u001b[39m)\n\u001b[1;32m      5\u001b[0m )\n",
      "\u001b[0;31mNameError\u001b[0m: name 'penguins' is not defined"
     ]
    }
   ],
   "source": [
    "(\n",
    "    penguins\n",
    "    .groupby('species')\n",
    "    .filter(lambda df: df['bill_length_mm'].mean() > 39)\n",
    ")"
   ]
  },
  {
   "cell_type": "markdown",
   "id": "ce9cdb1f",
   "metadata": {
    "deletable": true,
    "editable": true,
    "slideshow": {
     "slide_type": "fragment"
    }
   },
   "source": [
    "- No more `'Adelie'`s!"
   ]
  },
  {
   "cell_type": "markdown",
   "id": "a78959f0",
   "metadata": {
    "deletable": true,
    "editable": true,
    "slideshow": {
     "slide_type": "slide"
    }
   },
   "source": [
    "<div class=\"alert alert-success\">\n",
    "<h3>Activity</h3>\n",
    "\n",
    "Create a new DataFrame with only the rows in `penguins` for popular `'species'` – that is, `'species'` with at least 100 penguins."
   ]
  },
  {
   "cell_type": "code",
   "execution_count": null,
   "id": "29d898c4",
   "metadata": {
    "deletable": true,
    "editable": true
   },
   "outputs": [],
   "source": [
    "(\n",
    "    penguins\n",
    "    .groupby('species')\n",
    "    .filter(lambda df: df.shape[0] >= 100)\n",
    ")"
   ]
  },
  {
   "cell_type": "code",
   "execution_count": null,
   "id": "527cf2bb",
   "metadata": {
    "deletable": true,
    "editable": true
   },
   "outputs": [],
   "source": [
    "# Note that to just find the 'species' with at least 100 penguins,\n",
    "# we didn't need to group:\n",
    "penguins['species'].value_counts()"
   ]
  },
  {
   "cell_type": "markdown",
   "id": "8b0913dc",
   "metadata": {
    "deletable": true,
    "editable": true,
    "slideshow": {
     "slide_type": "skip"
    }
   },
   "source": [
    "<div class=\"alert alert-danger\" markdown=\"1\">\n",
    "\n",
    "#### Reference Slide\n",
    "\n",
    "### Example: Z-Scoring"
   ]
  },
  {
   "cell_type": "markdown",
   "id": "1ee3e203",
   "metadata": {
    "deletable": true,
    "editable": true,
    "slideshow": {
     "slide_type": "skip"
    }
   },
   "source": [
    "- Suppose we want to convert the `'body_mass_g'` column to to z-scores (i.e. standard units):\n",
    "\n",
    "$$z(x_i) = \\frac{x_i - \\text{mean of } x}{\\text{SD of } x}$$"
   ]
  },
  {
   "cell_type": "code",
   "execution_count": null,
   "id": "58c051b4",
   "metadata": {
    "deletable": true,
    "editable": true,
    "slideshow": {
     "slide_type": "skip"
    }
   },
   "outputs": [],
   "source": [
    "def z_score(x):\n",
    "    return (x - x.mean()) / x.std(ddof=0)"
   ]
  },
  {
   "cell_type": "code",
   "execution_count": null,
   "id": "83f79bb3",
   "metadata": {
    "deletable": true,
    "editable": true,
    "slideshow": {
     "slide_type": "skip"
    }
   },
   "outputs": [],
   "source": [
    "z_score(penguins['body_mass_g'])"
   ]
  },
  {
   "cell_type": "markdown",
   "id": "88564abb",
   "metadata": {
    "deletable": true,
    "editable": true,
    "slideshow": {
     "slide_type": "skip"
    }
   },
   "source": [
    "<div class=\"alert alert-danger\" markdown=\"1\">\n",
    "\n",
    "#### Reference Slide\n",
    "\n",
    "### Grouping, then transforming"
   ]
  },
  {
   "cell_type": "markdown",
   "id": "c3992789",
   "metadata": {
    "deletable": true,
    "editable": true,
    "slideshow": {
     "slide_type": "skip"
    }
   },
   "source": [
    "- Now, what if we wanted the z-score within each group?"
   ]
  },
  {
   "cell_type": "markdown",
   "id": "4b63058a",
   "metadata": {
    "deletable": true,
    "editable": true,
    "slideshow": {
     "slide_type": "skip"
    }
   },
   "source": [
    "- To do so, we can use the `transform` method on a `DataFrameGroupBy` object. The `transform` method takes in a function, which itself takes in a Series and returns a new Series."
   ]
  },
  {
   "cell_type": "markdown",
   "id": "dea3a1b5",
   "metadata": {
    "deletable": true,
    "editable": true,
    "slideshow": {
     "slide_type": "skip"
    }
   },
   "source": [
    "- A transformation produces a DataFrame or Series of the same size – it is **not** an aggregation!"
   ]
  },
  {
   "cell_type": "code",
   "execution_count": null,
   "id": "0f922121",
   "metadata": {
    "deletable": true,
    "editable": true,
    "slideshow": {
     "slide_type": "skip"
    }
   },
   "outputs": [],
   "source": [
    "z_mass = (penguins\n",
    "          .groupby('species')\n",
    "          ['body_mass_g']\n",
    "          .transform(z_score))\n",
    "z_mass"
   ]
  },
  {
   "cell_type": "code",
   "execution_count": null,
   "id": "4dc5ee6c",
   "metadata": {
    "deletable": true,
    "editable": true,
    "slideshow": {
     "slide_type": "skip"
    }
   },
   "outputs": [],
   "source": [
    "penguins.assign(z_mass=z_mass)"
   ]
  },
  {
   "cell_type": "code",
   "execution_count": null,
   "id": "378f4ef0",
   "metadata": {
    "deletable": true,
    "editable": true,
    "slideshow": {
     "slide_type": "skip"
    }
   },
   "outputs": [],
   "source": [
    "display_df(penguins.assign(z_mass=z_mass), rows=8)"
   ]
  },
  {
   "cell_type": "markdown",
   "id": "b6516573",
   "metadata": {
    "deletable": true,
    "editable": true,
    "slideshow": {
     "slide_type": "skip"
    }
   },
   "source": [
    "- Note that above, penguin 340 has a larger `'body_mass_g'` than penguin 0, but a lower `'z_mass'`.\n",
    "    - Penguin 0 has an above average `'body_mass_g'` among `'Adelie'` penguins.\n",
    "    - Penguin 340 has a below average `'body_mass_g'` among `'Gentoo'` penguins. Remember from earlier that the average `'body_mass_g'` of `'Gentoo'` penguins is much higher than for other species."
   ]
  },
  {
   "cell_type": "markdown",
   "id": "caf86af6",
   "metadata": {
    "deletable": true,
    "editable": true,
    "slideshow": {
     "slide_type": "slide"
    }
   },
   "source": [
    "### What's next?"
   ]
  },
  {
   "cell_type": "markdown",
   "id": "72969553",
   "metadata": {
    "deletable": true,
    "editable": true,
    "slideshow": {
     "slide_type": "fragment"
    }
   },
   "source": [
    "- Can we group on multiple columns at once?"
   ]
  },
  {
   "cell_type": "markdown",
   "id": "28052e48",
   "metadata": {
    "deletable": true,
    "editable": true,
    "slideshow": {
     "slide_type": "fragment"
    }
   },
   "source": [
    "- What does `pivot_table` do?"
   ]
  },
  {
   "cell_type": "markdown",
   "id": "7247914f",
   "metadata": {
    "deletable": true,
    "editable": true,
    "slideshow": {
     "slide_type": "fragment"
    }
   },
   "source": [
    "- How do we combine two DataFrames with information about similar individuals?"
   ]
  },
  {
   "cell_type": "markdown",
   "id": "9b65b3cb",
   "metadata": {
    "deletable": true,
    "editable": true,
    "slideshow": {
     "slide_type": "fragment"
    }
   },
   "source": [
    "- How do we deal with missing values?"
   ]
  },
  {
   "cell_type": "markdown",
   "id": "cb7d754a",
   "metadata": {
    "deletable": true,
    "editable": true,
    "slideshow": {
     "slide_type": "fragment"
    }
   },
   "source": [
    "- How do we decide which type of visualization to create?"
   ]
  }
 ],
 "metadata": {
  "celltoolbar": "None",
  "kernelspec": {
   "display_name": "pds",
   "language": "python",
   "name": "python3"
  },
  "language_info": {
   "codemirror_mode": {
    "name": "ipython",
    "version": 3
   },
   "file_extension": ".py",
   "mimetype": "text/x-python",
   "name": "python",
   "nbconvert_exporter": "python",
   "pygments_lexer": "ipython3",
   "version": "3.10.14"
  },
  "livereveal": {
   "scroll": true
  },
  "rise": {
   "transition": "none"
  }
 },
 "nbformat": 4,
 "nbformat_minor": 5
}
