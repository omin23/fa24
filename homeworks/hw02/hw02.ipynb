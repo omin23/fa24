{
 "cells": [
  {
   "cell_type": "code",
   "execution_count": 1,
   "id": "4c8752f5",
   "metadata": {
    "deletable": false,
    "editable": false
   },
   "outputs": [],
   "source": [
    "# Initialize Otter\n",
    "import otter\n",
    "grader = otter.Notebook(\"hw02.ipynb\")"
   ]
  },
  {
   "cell_type": "markdown",
   "id": "64df7253",
   "metadata": {},
   "source": [
    "<div class=\"alert alert-success\" markdown=\"1\">\n",
    "\n",
    "#### Homework 2\n",
    "\n",
    "# Arrays and DataFrames\n",
    "\n",
    "### EECS 398-003: Practical Data Science, Fall 2024\n",
    "\n",
    "#### Due Thursday, September 12th at 11:59PM\n",
    "    \n",
    "</div>"
   ]
  },
  {
   "cell_type": "markdown",
   "id": "d1cb57c1",
   "metadata": {},
   "source": [
    "## Instructions\n",
    "\n",
    "Welcome to Homework 2! In this homework, you will practice with `numpy` arrays and `pandas` DataFrames, as we saw in Lectures 3 and 4. See the [Readings section of the Resources tab on the course website](https://practicaldsc.org/resources/#readings) for supplemental resources.\n",
    "\n",
    "You are given six slip days throughout the semester to extend deadlines. See the [Syllabus](https://practicaldsc.org/syllabus) for more details. With the exception of using slip days, late work will not be accepted unless you have made special arrangements with your instructor.\n",
    "\n",
    "To access this notebook, you'll need to clone our [public GitHub repository](https://github.com/practicaldsc/fa24/). The [⚙️ Environment Setup](https://practicaldsc.org/env-setup) page on the course website walks you through the necessary steps. Once you're done, you'll submit your completed notebook to Gradescope.\n",
    "\n",
    "Please start early and submit often. You can submit as many times as you'd like to Gradescope, and we'll grade your **most recent** submission. Remember that the public `grader.check` tests in your notebook are not comprehensive, and that your work will also be graded on hidden test cases on Gradescope after the submission deadline.\n",
    "\n",
    "This homework is worth a total of **51 points**, 49 of which come from the autograder, **and 2 of which are manually graded by us** (Question 3). The number of points each question is worth is listed at the start of each question. **The three parts of the assignment are independent, so feel free to move around if you get stuck**. Tip: if you're using Jupyter Lab, you can see a Table of Contents for the notebook by going to View > Table of Contents.\n",
    "\n",
    "To get started, run the **two** import cells below, plus the cell at the top of the notebook that imports and initializes `otter`. The first cell below installs a new package that wasn't included in the `pds` conda environment that we'll need for Part 1."
   ]
  },
  {
   "cell_type": "code",
   "execution_count": 2,
   "id": "c4f14633",
   "metadata": {},
   "outputs": [
    {
     "name": "stdout",
     "output_type": "stream",
     "text": [
      "Requirement already satisfied: networkx in /Users/macbook/anaconda3/envs/pds/lib/python3.10/site-packages (3.3)\n"
     ]
    }
   ],
   "source": [
    "!pip install networkx"
   ]
  },
  {
   "cell_type": "code",
   "execution_count": 3,
   "id": "5f0b4b7a",
   "metadata": {},
   "outputs": [],
   "source": [
    "import pandas as pd\n",
    "import numpy as np\n",
    "import matplotlib.pyplot as plt\n",
    "import seaborn as sns\n",
    "from matplotlib_inline.backend_inline import set_matplotlib_formats\n",
    "\n",
    "import plotly\n",
    "import plotly.graph_objects as go\n",
    "import plotly.express as px\n",
    "import plotly.io as pio\n",
    "\n",
    "# Preferred styles\n",
    "pio.templates[\"pds\"] = go.layout.Template(\n",
    "    layout=dict(\n",
    "        margin=dict(l=30, r=30, t=30, b=30),\n",
    "        autosize=True,\n",
    "        width=600,\n",
    "        height=400,\n",
    "        xaxis=dict(showgrid=True),\n",
    "        yaxis=dict(showgrid=True),\n",
    "        title=dict(x=0.5, xanchor=\"center\"),\n",
    "    )\n",
    ")\n",
    "pio.templates.default = \"simple_white+pds\"\n",
    "\n",
    "set_matplotlib_formats(\"svg\")\n",
    "sns.set_context(\"poster\")\n",
    "sns.set_style(\"whitegrid\")\n",
    "plt.rcParams[\"figure.figsize\"] = (10, 5)\n",
    "\n",
    "# Use plotly as default plotting engine\n",
    "pd.options.plotting.backend = \"plotly\"\n",
    "\n",
    "import networkx as nx"
   ]
  },
  {
   "cell_type": "markdown",
   "id": "54d69c00",
   "metadata": {},
   "source": [
    "## Part 1: PageRank 🔗\n",
    "\n",
    "---\n",
    "\n",
    "In this part of the homework, you'll replicate the PageRank algorithm, the algorithm that Google uses to decide how to rank search results. Along the way, you'll develop proficiency with using arrays in the context of linear algebra.\n",
    "\n",
    "### Overview\n",
    "\n",
    "Larry Page and Sergey Brin developed the Google search engine (originally known as \"BackRub\") while PhD students at Stanford University. Their key innovation was the **PageRank** algorithm. PageRank works by assigning each page on the internet a \"score\" based on its relative importance. Today, PageRank is one of the many algorithms that Google uses in determining how to rank search results.\n",
    "\n",
    "We'll give an explanation of the necessary components of PageRank here, but you may also want to refer to these slides, which inspired our exposition: [**The Billion Dollar Eigenvector**](https://jdc.math.uwo.ca/M1600b-2014/l/pagerank-1600.pdf).\n",
    "\n",
    "**Key idea: The more incoming links a page has, the more important it is!**\n",
    "\n",
    "<center>\n",
    "\n",
    "<img src=\"imgs/network.png\" width=300><br><small>An example network of pages.</small>\n",
    "    \n",
    "</center>\n",
    "\n",
    "There are a few naïve approaches to scoring pages given that key idea, but they have their flaws:\n",
    "- One idea: the score of a page is equal to the number of pages that link to it. This doesn't work because it doesn't account for the importance of the incoming links. For example, if my personal website links to [apple.com](https://apple.com), that doesn't make [apple.com](https://apple.com) any more important than it already was. But if [apple.com](https://apple.com) links to my personal website, that must mean my personal website is important!\n",
    "- Another idea: The score of a page is equal to the sum of the scores of the pages that link to it. This also doesn't work, because there is no non-zero solution!\n",
    "\n",
    "The actual solution assigns scores to pages such that **when a page links to several other pages, the score it gives to them is shared**.\n",
    "\n",
    "In the example graph above, we see that:\n",
    "- Page 1 links to Page 2.\n",
    "- Page 2 links to Pages 1 and 4.\n",
    "- Page 3 links to Pages 1 and 4.\n",
    "- Page 4 links to Pages 1, 2, and 3.\n",
    "\n",
    "If we let $x_i$ be the score assigned to Page $i$, we're looking for the solution to the equations:\n",
    "\n",
    "$$\\begin{align*}\n",
    "x_1 &= &\\frac{1}{2}x_2 &+ \\frac{1}{2}x_3 &+ \\frac{1}{3}x_4 \\\\\n",
    "x_2 &= x_1 &&           &+ \\frac{1}{3}x_4 \\\\\n",
    "x_3 &= &&               & \\frac{1}{3}x_4 \\\\\n",
    "x_4 &= &\\frac{1}{2}x_2 &+ \\frac{1}{2}x_3\n",
    "\\end{align*}$$\n",
    "\n",
    "A more concise way to express the system above is in matrix form, which we can do like so:\n",
    "\n",
    "$$\\vec{x} = A \\vec{x}, \\qquad A = \\begin{bmatrix}\n",
    "0 & \\frac{1}{2} & \\frac{1}{2} & \\frac{1}{3} \\\\\n",
    "1 & 0 & 0 & \\frac{1}{3} \\\\\n",
    "0 & 0 & 0 & \\frac{1}{3} \\\\\n",
    "0 & \\frac{1}{2} & \\frac{1}{2} & 0\n",
    "\\end{bmatrix} \\qquad \\vec x = \\begin{bmatrix} x_1 \\\\ x_2 \\\\ x_3 \\\\ x_4 \\end{bmatrix}$$\n",
    "\n",
    "**Our goal**: Given an adjacency matrix $A$, find the solution to the equation $\\vec{x} = A \\vec{x}$. We will return to solving this goal in Question 2, but keep it at the back of your mind.\n",
    "\n",
    "For now, we'll aim to understand the structure of adjacency matrices.\n",
    "- Each **column** of an adjacency matrix describes the movement **from** a given page; the sums of the columns in an adjacency matrix are equal to 1.\n",
    "- Each **row** of an adjacency matrix describes the movement **into** a given page; the sums of the rows in an adjacency matrix don't necessarily add to 1.\n",
    "\n",
    "Below, we've defined a 2D array, `A`, representing $A$ above:"
   ]
  },
  {
   "cell_type": "code",
   "execution_count": 4,
   "id": "e1fb0ab4",
   "metadata": {},
   "outputs": [
    {
     "data": {
      "text/plain": [
       "array([[0.        , 0.5       , 0.5       , 0.33333333],\n",
       "       [1.        , 0.        , 0.        , 0.33333333],\n",
       "       [0.        , 0.        , 0.        , 0.33333333],\n",
       "       [0.        , 0.5       , 0.5       , 0.        ]])"
      ]
     },
     "execution_count": 4,
     "metadata": {},
     "output_type": "execute_result"
    }
   ],
   "source": [
    "A = np.array([[0, 1 / 2, 1 / 2, 1 / 3],\n",
    "              [1, 0, 0, 1 / 3],\n",
    "              [0, 0, 0, 1 / 3],\n",
    "              [0, 1 / 2, 1 / 2, 0]])\n",
    "A"
   ]
  },
  {
   "cell_type": "code",
   "execution_count": null,
   "id": "fc11cecd",
   "metadata": {},
   "outputs": [],
   "source": []
  },
  {
   "cell_type": "markdown",
   "id": "78b5dbcd",
   "metadata": {},
   "source": [
    "The function below draws a network given an adjacency matrix. Run the next two cells."
   ]
  },
  {
   "cell_type": "code",
   "execution_count": 5,
   "id": "a73f7447",
   "metadata": {},
   "outputs": [
    {
     "data": {
      "image/svg+xml": [
       "<?xml version=\"1.0\" encoding=\"utf-8\" standalone=\"no\"?>\n",
       "<!DOCTYPE svg PUBLIC \"-//W3C//DTD SVG 1.1//EN\"\n",
       "  \"http://www.w3.org/Graphics/SVG/1.1/DTD/svg11.dtd\">\n",
       "<svg xmlns:xlink=\"http://www.w3.org/1999/xlink\" width=\"590.4pt\" height=\"374.4pt\" viewBox=\"0 0 590.4 374.4\" xmlns=\"http://www.w3.org/2000/svg\" version=\"1.1\">\n",
       " <metadata>\n",
       "  <rdf:RDF xmlns:dc=\"http://purl.org/dc/elements/1.1/\" xmlns:cc=\"http://creativecommons.org/ns#\" xmlns:rdf=\"http://www.w3.org/1999/02/22-rdf-syntax-ns#\">\n",
       "   <cc:Work>\n",
       "    <dc:type rdf:resource=\"http://purl.org/dc/dcmitype/StillImage\"/>\n",
       "    <dc:date>2024-09-13T23:45:43.096998</dc:date>\n",
       "    <dc:format>image/svg+xml</dc:format>\n",
       "    <dc:creator>\n",
       "     <cc:Agent>\n",
       "      <dc:title>Matplotlib v3.9.2, https://matplotlib.org/</dc:title>\n",
       "     </cc:Agent>\n",
       "    </dc:creator>\n",
       "   </cc:Work>\n",
       "  </rdf:RDF>\n",
       " </metadata>\n",
       " <defs>\n",
       "  <style type=\"text/css\">*{stroke-linejoin: round; stroke-linecap: butt}</style>\n",
       " </defs>\n",
       " <g id=\"figure_1\">\n",
       "  <g id=\"patch_1\">\n",
       "   <path d=\"M 0 374.4 \n",
       "L 590.4 374.4 \n",
       "L 590.4 -0 \n",
       "L 0 -0 \n",
       "z\n",
       "\" style=\"fill: #ffffff\"/>\n",
       "  </g>\n",
       "  <g id=\"axes_1\">\n",
       "   <g id=\"patch_2\">\n",
       "    <path d=\"M 228.550546 54.149282 \n",
       "Q 142.379989 108.312763 77.20329 185.024732 \n",
       "\" clip-path=\"url(#p756bdb9f38)\" style=\"fill: none; stroke: #000000; stroke-linecap: round\"/>\n",
       "    <path d=\"M 81.317385 183.271385 \n",
       "L 77.20329 185.024732 \n",
       "L 78.269069 180.681448 \n",
       "z\n",
       "\" clip-path=\"url(#p756bdb9f38)\" style=\"stroke: #000000; stroke-linecap: round\"/>\n",
       "   </g>\n",
       "   <g id=\"patch_3\">\n",
       "    <path d=\"M 83.467959 193.939391 \n",
       "Q 169.638516 139.77591 234.815215 63.063941 \n",
       "\" clip-path=\"url(#p756bdb9f38)\" style=\"fill: none; stroke: #000000; stroke-linecap: round\"/>\n",
       "    <path d=\"M 230.70112 64.817288 \n",
       "L 234.815215 63.063941 \n",
       "L 233.749436 67.407225 \n",
       "z\n",
       "\" clip-path=\"url(#p756bdb9f38)\" style=\"stroke: #000000; stroke-linecap: round\"/>\n",
       "   </g>\n",
       "   <g id=\"patch_4\">\n",
       "    <path d=\"M 81.227308 228.612879 \n",
       "Q 164.859379 291.647142 262.586975 326.057447 \n",
       "\" clip-path=\"url(#p756bdb9f38)\" style=\"fill: none; stroke: #000000; stroke-linecap: round\"/>\n",
       "    <path d=\"M 259.47826 322.842499 \n",
       "L 262.586975 326.057447 \n",
       "L 258.149788 326.61545 \n",
       "z\n",
       "\" clip-path=\"url(#p756bdb9f38)\" style=\"stroke: #000000; stroke-linecap: round\"/>\n",
       "   </g>\n",
       "   <g id=\"patch_5\">\n",
       "    <path d=\"M 511.351961 205.575667 \n",
       "Q 409.806251 109.428157 283.865654 51.261119 \n",
       "\" clip-path=\"url(#p756bdb9f38)\" style=\"fill: none; stroke: #000000; stroke-linecap: round\"/>\n",
       "    <path d=\"M 286.658447 54.754013 \n",
       "L 283.865654 51.261119 \n",
       "L 288.335645 51.122621 \n",
       "z\n",
       "\" clip-path=\"url(#p756bdb9f38)\" style=\"stroke: #000000; stroke-linecap: round\"/>\n",
       "   </g>\n",
       "   <g id=\"patch_6\">\n",
       "    <path d=\"M 503.546221 234.588922 \n",
       "Q 404.283366 262.304055 318.929224 318.042141 \n",
       "\" clip-path=\"url(#p756bdb9f38)\" style=\"fill: none; stroke: #000000; stroke-linecap: round\"/>\n",
       "    <path d=\"M 323.371898 317.52965 \n",
       "L 318.929224 318.042141 \n",
       "L 321.184836 314.180507 \n",
       "z\n",
       "\" clip-path=\"url(#p756bdb9f38)\" style=\"stroke: #000000; stroke-linecap: round\"/>\n",
       "   </g>\n",
       "   <g id=\"patch_7\">\n",
       "    <path d=\"M 294.304992 305.380612 \n",
       "Q 298.158878 184.096017 264.336391 68.723809 \n",
       "\" clip-path=\"url(#p756bdb9f38)\" style=\"fill: none; stroke: #000000; stroke-linecap: round\"/>\n",
       "    <path d=\"M 263.542443 73.124905 \n",
       "L 264.336391 68.723809 \n",
       "L 267.380899 71.999624 \n",
       "z\n",
       "\" clip-path=\"url(#p756bdb9f38)\" style=\"stroke: #000000; stroke-linecap: round\"/>\n",
       "   </g>\n",
       "   <g id=\"patch_8\">\n",
       "    <path d=\"M 268.691142 316.996455 \n",
       "Q 185.059071 253.962192 87.331475 219.551887 \n",
       "\" clip-path=\"url(#p756bdb9f38)\" style=\"fill: none; stroke: #000000; stroke-linecap: round\"/>\n",
       "    <path d=\"M 90.44019 222.766835 \n",
       "L 87.331475 219.551887 \n",
       "L 91.768662 218.993884 \n",
       "z\n",
       "\" clip-path=\"url(#p756bdb9f38)\" style=\"stroke: #000000; stroke-linecap: round\"/>\n",
       "   </g>\n",
       "   <g id=\"patch_9\">\n",
       "    <path d=\"M 322.405287 328.382846 \n",
       "Q 421.668142 300.667713 507.022284 244.929626 \n",
       "\" clip-path=\"url(#p756bdb9f38)\" style=\"fill: none; stroke: #000000; stroke-linecap: round\"/>\n",
       "    <path d=\"M 502.57961 245.442117 \n",
       "L 507.022284 244.929626 \n",
       "L 504.766672 248.79126 \n",
       "z\n",
       "\" clip-path=\"url(#p756bdb9f38)\" style=\"stroke: #000000; stroke-linecap: round\"/>\n",
       "   </g>\n",
       "   <g id=\"PathCollection_1\">\n",
       "    <defs>\n",
       "     <path id=\"md0cb662516\" d=\"M 0 30.618622 \n",
       "C 8.120153 30.618622 15.90882 27.392451 21.650635 21.650635 \n",
       "C 27.392451 15.90882 30.618622 8.120153 30.618622 0 \n",
       "C 30.618622 -8.120153 27.392451 -15.90882 21.650635 -21.650635 \n",
       "C 15.90882 -27.392451 8.120153 -30.618622 0 -30.618622 \n",
       "C -8.120153 -30.618622 -15.90882 -27.392451 -21.650635 -21.650635 \n",
       "C -27.392451 -15.90882 -30.618622 -8.120153 -30.618622 0 \n",
       "C -30.618622 8.120153 -27.392451 15.90882 -21.650635 21.650635 \n",
       "C -15.90882 27.392451 -8.120153 30.618622 0 30.618622 \n",
       "z\n",
       "\" style=\"stroke: #1f78b4; stroke-width: 2\"/>\n",
       "    </defs>\n",
       "    <g clip-path=\"url(#p756bdb9f38)\">\n",
       "     <use xlink:href=\"#md0cb662516\" x=\"254.835034\" y=\"38.439669\" style=\"fill: #1f78b4; stroke: #1f78b4; stroke-width: 2\"/>\n",
       "     <use xlink:href=\"#md0cb662516\" x=\"57.183471\" y=\"209.649004\" style=\"fill: #1f78b4; stroke: #1f78b4; stroke-width: 2\"/>\n",
       "     <use xlink:href=\"#md0cb662516\" x=\"533.216529\" y=\"227.011437\" style=\"fill: #1f78b4; stroke: #1f78b4; stroke-width: 2\"/>\n",
       "     <use xlink:href=\"#md0cb662516\" x=\"292.734979\" y=\"335.960331\" style=\"fill: #1f78b4; stroke: #1f78b4; stroke-width: 2\"/>\n",
       "    </g>\n",
       "   </g>\n",
       "   <g id=\"text_1\">\n",
       "    <g clip-path=\"url(#p756bdb9f38)\">\n",
       "     <!-- 1 -->\n",
       "     <g style=\"fill: #ffffff\" transform=\"translate(250.664331 42.327951) scale(0.15 -0.15)\">\n",
       "      <defs>\n",
       "       <path id=\"Arial-BoldMT-31\" d=\"M 2519 0 \n",
       "L 1641 0 \n",
       "L 1641 3309 \n",
       "Q 1159 2859 506 2644 \n",
       "L 506 3441 \n",
       "Q 850 3553 1253 3867 \n",
       "Q 1656 4181 1806 4600 \n",
       "L 2519 4600 \n",
       "L 2519 0 \n",
       "z\n",
       "\" transform=\"scale(0.015625)\"/>\n",
       "      </defs>\n",
       "      <use xlink:href=\"#Arial-BoldMT-31\"/>\n",
       "     </g>\n",
       "    </g>\n",
       "   </g>\n",
       "   <g id=\"text_2\">\n",
       "    <g clip-path=\"url(#p756bdb9f38)\">\n",
       "     <!-- 2 -->\n",
       "     <g style=\"fill: #ffffff\" transform=\"translate(53.012768 213.537285) scale(0.15 -0.15)\">\n",
       "      <defs>\n",
       "       <path id=\"Arial-BoldMT-32\" d=\"M 3238 816 \n",
       "L 3238 0 \n",
       "L 159 0 \n",
       "Q 209 463 459 877 \n",
       "Q 709 1291 1447 1975 \n",
       "Q 2041 2528 2175 2725 \n",
       "Q 2356 2997 2356 3263 \n",
       "Q 2356 3556 2198 3714 \n",
       "Q 2041 3872 1763 3872 \n",
       "Q 1488 3872 1325 3706 \n",
       "Q 1163 3541 1138 3156 \n",
       "L 263 3244 \n",
       "Q 341 3969 753 4284 \n",
       "Q 1166 4600 1784 4600 \n",
       "Q 2463 4600 2850 4234 \n",
       "Q 3238 3869 3238 3325 \n",
       "Q 3238 3016 3127 2736 \n",
       "Q 3016 2456 2775 2150 \n",
       "Q 2616 1947 2200 1565 \n",
       "Q 1784 1184 1673 1059 \n",
       "Q 1563 934 1494 816 \n",
       "L 3238 816 \n",
       "z\n",
       "\" transform=\"scale(0.015625)\"/>\n",
       "      </defs>\n",
       "      <use xlink:href=\"#Arial-BoldMT-32\"/>\n",
       "     </g>\n",
       "    </g>\n",
       "   </g>\n",
       "   <g id=\"text_3\">\n",
       "    <g clip-path=\"url(#p756bdb9f38)\">\n",
       "     <!-- 3 -->\n",
       "     <g style=\"fill: #ffffff\" transform=\"translate(529.045826 230.899718) scale(0.15 -0.15)\">\n",
       "      <defs>\n",
       "       <path id=\"Arial-BoldMT-33\" d=\"M 241 1216 \n",
       "L 1091 1319 \n",
       "Q 1131 994 1309 822 \n",
       "Q 1488 650 1741 650 \n",
       "Q 2013 650 2198 856 \n",
       "Q 2384 1063 2384 1413 \n",
       "Q 2384 1744 2206 1937 \n",
       "Q 2028 2131 1772 2131 \n",
       "Q 1603 2131 1369 2066 \n",
       "L 1466 2781 \n",
       "Q 1822 2772 2009 2936 \n",
       "Q 2197 3100 2197 3372 \n",
       "Q 2197 3603 2059 3740 \n",
       "Q 1922 3878 1694 3878 \n",
       "Q 1469 3878 1309 3722 \n",
       "Q 1150 3566 1116 3266 \n",
       "L 306 3403 \n",
       "Q 391 3819 561 4067 \n",
       "Q 731 4316 1036 4458 \n",
       "Q 1341 4600 1719 4600 \n",
       "Q 2366 4600 2756 4188 \n",
       "Q 3078 3850 3078 3425 \n",
       "Q 3078 2822 2419 2463 \n",
       "Q 2813 2378 3048 2084 \n",
       "Q 3284 1791 3284 1375 \n",
       "Q 3284 772 2843 347 \n",
       "Q 2403 -78 1747 -78 \n",
       "Q 1125 -78 715 280 \n",
       "Q 306 638 241 1216 \n",
       "z\n",
       "\" transform=\"scale(0.015625)\"/>\n",
       "      </defs>\n",
       "      <use xlink:href=\"#Arial-BoldMT-33\"/>\n",
       "     </g>\n",
       "    </g>\n",
       "   </g>\n",
       "   <g id=\"text_4\">\n",
       "    <g clip-path=\"url(#p756bdb9f38)\">\n",
       "     <!-- 4 -->\n",
       "     <g style=\"fill: #ffffff\" transform=\"translate(288.564276 339.848612) scale(0.15 -0.15)\">\n",
       "      <defs>\n",
       "       <path id=\"Arial-BoldMT-34\" d=\"M 1994 0 \n",
       "L 1994 922 \n",
       "L 119 922 \n",
       "L 119 1691 \n",
       "L 2106 4600 \n",
       "L 2844 4600 \n",
       "L 2844 1694 \n",
       "L 3413 1694 \n",
       "L 3413 922 \n",
       "L 2844 922 \n",
       "L 2844 0 \n",
       "L 1994 0 \n",
       "z\n",
       "M 1994 1694 \n",
       "L 1994 3259 \n",
       "L 941 1694 \n",
       "L 1994 1694 \n",
       "z\n",
       "\" transform=\"scale(0.015625)\"/>\n",
       "      </defs>\n",
       "      <use xlink:href=\"#Arial-BoldMT-34\"/>\n",
       "     </g>\n",
       "    </g>\n",
       "   </g>\n",
       "  </g>\n",
       " </g>\n",
       " <defs>\n",
       "  <clipPath id=\"p756bdb9f38\">\n",
       "   <rect x=\"7.2\" y=\"7.2\" width=\"576\" height=\"360\"/>\n",
       "  </clipPath>\n",
       " </defs>\n",
       "</svg>\n"
      ],
      "text/plain": [
       "<Figure size 800x500 with 1 Axes>"
      ]
     },
     "metadata": {},
     "output_type": "display_data"
    }
   ],
   "source": [
    "def plot_from_adjacency(adjacency_matrix, node_sizes=0.25):\n",
    "    np.random.seed(25)\n",
    "    plt.figure(figsize=(8, 5))\n",
    "    G = nx.from_numpy_array(adjacency_matrix.T, create_using=nx.DiGraph)\n",
    "    layout = nx.spring_layout(G)\n",
    "    labels_dict={i: i+1 for i in range(adjacency_matrix.shape[0])}\n",
    "    nx.draw(G, layout, \n",
    "            node_size=15000 * node_sizes, labels=labels_dict, with_labels=True, font_color='white', font_weight='bold', font_size=15, \n",
    "            connectionstyle='arc3, rad = 0.1')\n",
    "    plt.show()\n",
    "\n",
    "plot_from_adjacency(A)"
   ]
  },
  {
   "cell_type": "code",
   "execution_count": null,
   "id": "b4bec959",
   "metadata": {},
   "outputs": [],
   "source": []
  },
  {
   "cell_type": "markdown",
   "id": "3ae3db62",
   "metadata": {},
   "source": [
    "Cool!"
   ]
  },
  {
   "cell_type": "markdown",
   "id": "a027ff7a",
   "metadata": {},
   "source": [
    "### Question 1: Creating Adjacency Matrices  <div style=\"display:inline-block; vertical-align: middle; padding:7px 7px; font-size:10px; font-weight:light; color:white; background-color:#e84c4a; border-radius:7px; text-align:left;\">4 Points</div>\n",
    "\n",
    "Having to specify an adjacency matrix manually is slightly cumbersome. It is more natural and convenient for us to describe the links between webpages using a dictionary. Once such example is as follows:"
   ]
  },
  {
   "cell_type": "code",
   "execution_count": 6,
   "id": "30ee3b32",
   "metadata": {},
   "outputs": [],
   "source": [
    "example_net = {\n",
    "    1: [2],\n",
    "    2: [1, 4],\n",
    "    3: [1, 4],\n",
    "    4: [1, 2, 3]\n",
    "}"
   ]
  },
  {
   "cell_type": "markdown",
   "id": "3ac314fd",
   "metadata": {},
   "source": [
    "In the above \"network dictionary\", we are told that:\n",
    "- Page 1 links to Page 2.\n",
    "- Page 2 links to Pages 1 and 4.\n",
    "- Page 3 links to Pages 1 and 4.\n",
    "- Page 4 links to Pages 1, 2, and 3.\n",
    "\n",
    "**Note that this dictionary describes the same network that the adjacency matrix `A` does.**\n",
    "\n",
    "Below, complete the implementation of the function `create_adjacency`, which takes in a network dictionary, `network` (formatted similarly to `example_net`) and returns the adjacency matrix that corresponds to `network`. Example behavior is given below.\n",
    "\n",
    "```python\n",
    ">>> create_adjacency(example_net)\n",
    "array([[0.        , 0.5       , 0.5       , 0.33333333],\n",
    "       [1.        , 0.        , 0.        , 0.33333333],\n",
    "       [0.        , 0.        , 0.        , 0.33333333],\n",
    "       [0.        , 0.5       , 0.5       , 0.        ]])\n",
    "```\n",
    "\n",
    "A few notes:\n",
    "- It is **not** guaranteed that there are 4 pages in the network. \n",
    "- It **is** guaranteed that all pages link to at least one page – potentially itself – and that there is at least one page.\n",
    "- Remember that adjacency matrices are 1-indexed, like in math, but Python is 0-indexed.\n",
    "\n",
    "***Hint***: Look into `np.zeros`. You _can_ use a (nested) `for`-loop."
   ]
  },
  {
   "cell_type": "code",
   "execution_count": 7,
   "id": "5bafc60c",
   "metadata": {
    "tags": []
   },
   "outputs": [
    {
     "data": {
      "text/plain": [
       "array([[0.        , 0.5       , 0.5       , 0.33333333],\n",
       "       [1.        , 0.        , 0.        , 0.33333333],\n",
       "       [0.        , 0.        , 0.        , 0.33333333],\n",
       "       [0.        , 0.5       , 0.5       , 0.        ]])"
      ]
     },
     "execution_count": 7,
     "metadata": {},
     "output_type": "execute_result"
    }
   ],
   "source": [
    "def create_adjacency(network):\n",
    "    n = max(network.keys())    \n",
    "    adj_matrix = np.zeros((n, n))\n",
    "    \n",
    "    for source, targets in network.items():\n",
    "        source_idx = source - 1\n",
    "        for target in targets:\n",
    "            target_idx = target - 1\n",
    "            adj_matrix[target_idx, source_idx] = 1 / len(targets)\n",
    "    \n",
    "    return adj_matrix\n",
    "\n",
    "# Feel free to change this input to make sure your function works correctly.\n",
    "create_adjacency(example_net)"
   ]
  },
  {
   "cell_type": "code",
   "execution_count": 8,
   "id": "121eab3b",
   "metadata": {
    "deletable": false,
    "editable": false
   },
   "outputs": [
    {
     "data": {
      "text/html": [
       "<p><strong><pre style='display: inline;'>q01</pre></strong> passed!</p>"
      ],
      "text/plain": [
       "q01 results: All test cases passed!"
      ]
     },
     "execution_count": 8,
     "metadata": {},
     "output_type": "execute_result"
    }
   ],
   "source": [
    "grader.check(\"q01\")"
   ]
  },
  {
   "cell_type": "markdown",
   "id": "704bbfe2",
   "metadata": {},
   "source": [
    "### Question 2: Ranking Pages\n",
    "\n",
    "Now, back to the task at hand.\n",
    "\n",
    "**Our goal**: Given an adjacency matrix $A$, find the solution to the equation $\\vec{x} = A \\vec{x}$. In our example network $A$, the setup looks like:\n",
    "\n",
    "$$A = \\begin{bmatrix}\n",
    "0 & \\frac{1}{2} & \\frac{1}{2} & \\frac{1}{3} \\\\\n",
    "1 & 0 & 0 & \\frac{1}{3} \\\\\n",
    "0 & 0 & 0 & \\frac{1}{3} \\\\\n",
    "0 & \\frac{1}{2} & \\frac{1}{2} & 0\n",
    "\\end{bmatrix} \\qquad \\vec x = \\begin{bmatrix} x_1 \\\\ x_2 \\\\ x_3 \\\\ x_4 \\end{bmatrix}$$\n",
    "\n",
    "How do we find $\\vec x$? It turns out that for all valid adjacency matrices, $\\vec x$ is an **eigenvector** that corresponds to the **eigenvalue of 1**. Not sure what that means? That's okay – you can learn more about eigen-everything [here](https://youtu.be/PhfbEr2btGQ?si=1diIM4b31qSYrDOZ).\n",
    "\n",
    "But for our purposes, you don't actually _need_ to know about eigenvalues and eigenvectors. That's because, due to some mathematical theory that's outside of the scope of the course, we can estimate $\\vec x$ with great accuracy if we follow the following process:\n",
    "\n",
    "1. Start by initializing $\\vec x^{(0)}$ to a uniform array that sums to 1. This is our initial, or 0th, guess of the true value of $\\vec x$. In our example $A$, since $\\vec x \\in \\mathbb{R}^4$, we'd initialize $\\vec x^{(0)} = \\begin{bmatrix} \\frac{1}{4} \\\\ \\frac{1}{4} \\\\ \\frac{1}{4} \\\\ \\frac{1}{4} \\end{bmatrix}$. You can imagine this means that a user is equally likely to be on any of the four pages before clicking anything.\n",
    "1. Simulate the process of the user clicking one link by multiplying $A$ by $\\vec x^{(0)}$, and call this $\\vec x^{(1)}$, our next guess of the true $\\vec x$. In other words, $\\vec x^{(1)} = A \\vec x^{(0)}$.\n",
    "2. Repeat this again, so $\\vec x^{(2)} = A \\vec x^{(1)} = A^2 \\vec x^{(0)}$.\n",
    "3. Repeat many, many times, until the difference between $\\vec x^{(i)}$ and $\\vec x^{(i-1)}$ is minimal.\n",
    "\n",
    "Eventually, our guesses $\\vec x^{(i)}$ will converge on the true value of $\\vec x$, which we can interpret as containing the probability that a user is on any particular page in the long run. **Larger probabilities mean more important pages!**\n",
    "\n",
    "In short, to estimate $\\vec x$, we evaluate $A^{m} \\vec x^{(0)}$, where $m$ is some large integer and $x^{(0)}$ is a uniform vector. $m = 100$ is usually sufficient.\n",
    "\n",
    "Let's work this out concretely with our example adjacency matrix, $A$. Let's initialize `x` to an array of length 4 in which each value is `1 / 4`."
   ]
  },
  {
   "cell_type": "code",
   "execution_count": 9,
   "id": "1a5dffe7",
   "metadata": {},
   "outputs": [
    {
     "data": {
      "text/plain": [
       "array([0.25, 0.25, 0.25, 0.25])"
      ]
     },
     "execution_count": 9,
     "metadata": {},
     "output_type": "execute_result"
    }
   ],
   "source": [
    "x = np.ones(4) / 4\n",
    "x"
   ]
  },
  {
   "cell_type": "markdown",
   "id": "727faea9",
   "metadata": {},
   "source": [
    "A better solution than writing:\n",
    "\n",
    "```python\n",
    "A @ A @ A @ A @ A @ A @ ... @ x\n",
    "```\n",
    "\n",
    "or even:\n",
    "\n",
    "```python\n",
    "for i in range(100):\n",
    "    x = A @ x\n",
    "```"
   ]
  },
  {
   "cell_type": "markdown",
   "id": "3315a467",
   "metadata": {},
   "source": [
    "is using `np.linalg.matrix_power`:"
   ]
  },
  {
   "cell_type": "code",
   "execution_count": 10,
   "id": "fa823a7f",
   "metadata": {},
   "outputs": [
    {
     "data": {
      "text/plain": [
       "array([0.30769231, 0.38461538, 0.07692308, 0.23076923])"
      ]
     },
     "execution_count": 10,
     "metadata": {},
     "output_type": "execute_result"
    }
   ],
   "source": [
    "scores = np.linalg.matrix_power(A, 100) @ x\n",
    "scores"
   ]
  },
  {
   "cell_type": "markdown",
   "id": "a9ddc61d",
   "metadata": {},
   "source": [
    "Above are what we call the PageRank scores of each page. Remember, larger scores are more important! This is telling us that:\n",
    "- Page 2 is the most important,\n",
    "- then Page 1,\n",
    "- then Page 4,\n",
    "- then Page 3.\n",
    "\n",
    "So, if we were Google, we'd show Page 2 first, then Page 1, then Page 4, then Page 3.\n",
    "\n",
    "Now it's your turn! We've broken this question up into two smaller parts."
   ]
  },
  {
   "cell_type": "markdown",
   "id": "b20e957f",
   "metadata": {},
   "source": [
    "#### Question 2.1: Computing Scores  <div style=\"display:inline-block; vertical-align: middle; padding:7px 7px; font-size:10px; font-weight:light; color:white; background-color:#e84c4a; border-radius:7px; text-align:left;\">2 Points</div>\n",
    "\n",
    "Complete the implementation of the function `compute_scores`, which takes in an adjacency matrix `matrix` of shape `(n, n)`, where `n` is a positive integer, and returns an array of length `n` containing the PageRank scores of all pages. Compute the PageRank scores using a matrix power of 100, as we did above. Example behavior is given below.\n",
    "\n",
    "```python\n",
    "# Remember, compute_scores should work for any adjacency matrix, not just A!\n",
    ">>> compute_scores(A)\n",
    "array([0.30769231, 0.38461538, 0.07692308, 0.23076923])\n",
    "```"
   ]
  },
  {
   "cell_type": "code",
   "execution_count": 11,
   "id": "fb6b7940",
   "metadata": {
    "tags": []
   },
   "outputs": [
    {
     "data": {
      "text/plain": [
       "array([0.30769231, 0.38461538, 0.07692308, 0.23076923])"
      ]
     },
     "execution_count": 11,
     "metadata": {},
     "output_type": "execute_result"
    }
   ],
   "source": [
    "def compute_scores(matrix):\n",
    "    x = np.ones(matrix.shape[0]) / matrix.shape[0]\n",
    "    return np.linalg.matrix_power(matrix, 100) @ x\n",
    "\n",
    "# Feel free to change this input to make sure your function works correctly.\n",
    "compute_scores(A)"
   ]
  },
  {
   "cell_type": "code",
   "execution_count": 12,
   "id": "7c94afdc",
   "metadata": {
    "deletable": false,
    "editable": false
   },
   "outputs": [
    {
     "data": {
      "text/html": [
       "<p><strong><pre style='display: inline;'>q02_1</pre></strong> passed!</p>"
      ],
      "text/plain": [
       "q02_1 results: All test cases passed!"
      ]
     },
     "execution_count": 12,
     "metadata": {},
     "output_type": "execute_result"
    }
   ],
   "source": [
    "grader.check(\"q02_1\")"
   ]
  },
  {
   "cell_type": "markdown",
   "id": "d69dbd16",
   "metadata": {},
   "source": [
    "We can change the sizes of the pages in our network to be proportional to their PageRank scores. To do this, use the `node_sizes` argument in `plot_from_adjacency`."
   ]
  },
  {
   "cell_type": "code",
   "execution_count": 13,
   "id": "e19a1580",
   "metadata": {},
   "outputs": [
    {
     "data": {
      "image/svg+xml": [
       "<?xml version=\"1.0\" encoding=\"utf-8\" standalone=\"no\"?>\n",
       "<!DOCTYPE svg PUBLIC \"-//W3C//DTD SVG 1.1//EN\"\n",
       "  \"http://www.w3.org/Graphics/SVG/1.1/DTD/svg11.dtd\">\n",
       "<svg xmlns:xlink=\"http://www.w3.org/1999/xlink\" width=\"590.4pt\" height=\"374.4pt\" viewBox=\"0 0 590.4 374.4\" xmlns=\"http://www.w3.org/2000/svg\" version=\"1.1\">\n",
       " <metadata>\n",
       "  <rdf:RDF xmlns:dc=\"http://purl.org/dc/elements/1.1/\" xmlns:cc=\"http://creativecommons.org/ns#\" xmlns:rdf=\"http://www.w3.org/1999/02/22-rdf-syntax-ns#\">\n",
       "   <cc:Work>\n",
       "    <dc:type rdf:resource=\"http://purl.org/dc/dcmitype/StillImage\"/>\n",
       "    <dc:date>2024-09-13T23:45:43.242398</dc:date>\n",
       "    <dc:format>image/svg+xml</dc:format>\n",
       "    <dc:creator>\n",
       "     <cc:Agent>\n",
       "      <dc:title>Matplotlib v3.9.2, https://matplotlib.org/</dc:title>\n",
       "     </cc:Agent>\n",
       "    </dc:creator>\n",
       "   </cc:Work>\n",
       "  </rdf:RDF>\n",
       " </metadata>\n",
       " <defs>\n",
       "  <style type=\"text/css\">*{stroke-linejoin: round; stroke-linecap: butt}</style>\n",
       " </defs>\n",
       " <g id=\"figure_1\">\n",
       "  <g id=\"patch_1\">\n",
       "   <path d=\"M 0 374.4 \n",
       "L 590.4 374.4 \n",
       "L 590.4 -0 \n",
       "L 0 -0 \n",
       "z\n",
       "\" style=\"fill: #ffffff\"/>\n",
       "  </g>\n",
       "  <g id=\"axes_1\">\n",
       "   <g id=\"patch_2\">\n",
       "    <path d=\"M 225.719168 55.93877 \n",
       "Q 144.403654 107.614138 82.012083 179.445662 \n",
       "\" clip-path=\"url(#pfbff70d91f)\" style=\"fill: none; stroke: #000000; stroke-linecap: round\"/>\n",
       "    <path d=\"M 86.145052 177.737282 \n",
       "L 82.012083 179.445662 \n",
       "L 83.125161 175.114258 \n",
       "z\n",
       "\" clip-path=\"url(#pfbff70d91f)\" style=\"stroke: #000000; stroke-linecap: round\"/>\n",
       "   </g>\n",
       "   <g id=\"patch_3\">\n",
       "    <path d=\"M 89.675713 189.990143 \n",
       "Q 170.616161 137.875537 232.636142 65.607322 \n",
       "\" clip-path=\"url(#pfbff70d91f)\" style=\"fill: none; stroke: #000000; stroke-linecap: round\"/>\n",
       "    <path d=\"M 228.513415 67.340274 \n",
       "L 232.636142 65.607322 \n",
       "L 231.548868 69.945275 \n",
       "z\n",
       "\" clip-path=\"url(#pfbff70d91f)\" style=\"stroke: #000000; stroke-linecap: round\"/>\n",
       "   </g>\n",
       "   <g id=\"patch_4\">\n",
       "    <path d=\"M 87.125606 233.009462 \n",
       "Q 168.813339 293.22479 263.71737 326.456416 \n",
       "\" clip-path=\"url(#pfbff70d91f)\" style=\"fill: none; stroke: #000000; stroke-linecap: round\"/>\n",
       "    <path d=\"M 260.603096 323.246852 \n",
       "L 263.71737 326.456416 \n",
       "L 259.281155 327.022097 \n",
       "z\n",
       "\" clip-path=\"url(#pfbff70d91f)\" style=\"stroke: #000000; stroke-linecap: round\"/>\n",
       "   </g>\n",
       "   <g id=\"patch_5\">\n",
       "    <path d=\"M 521.179516 215.026732 \n",
       "Q 417.190873 113.458522 286.906895 52.677568 \n",
       "\" clip-path=\"url(#pfbff70d91f)\" style=\"fill: none; stroke: #000000; stroke-linecap: round\"/>\n",
       "    <path d=\"M 289.68626 56.181157 \n",
       "L 286.906895 52.677568 \n",
       "L 291.377385 52.55623 \n",
       "z\n",
       "\" clip-path=\"url(#pfbff70d91f)\" style=\"stroke: #000000; stroke-linecap: round\"/>\n",
       "   </g>\n",
       "   <g id=\"patch_6\">\n",
       "    <path d=\"M 516.72356 231.050577 \n",
       "Q 409.403808 258.730137 317.924463 318.697186 \n",
       "\" clip-path=\"url(#pfbff70d91f)\" style=\"fill: none; stroke: #000000; stroke-linecap: round\"/>\n",
       "    <path d=\"M 322.366232 318.176906 \n",
       "L 317.924463 318.697186 \n",
       "L 320.1733 314.831603 \n",
       "z\n",
       "\" clip-path=\"url(#pfbff70d91f)\" style=\"stroke: #000000; stroke-linecap: round\"/>\n",
       "   </g>\n",
       "   <g id=\"patch_7\">\n",
       "    <path d=\"M 294.265786 306.585109 \n",
       "Q 298.272563 186.34888 265.267072 71.941196 \n",
       "\" clip-path=\"url(#pfbff70d91f)\" style=\"fill: none; stroke: #000000; stroke-linecap: round\"/>\n",
       "    <path d=\"M 264.454184 76.338833 \n",
       "L 265.267072 71.941196 \n",
       "L 268.297449 75.230089 \n",
       "z\n",
       "\" clip-path=\"url(#pfbff70d91f)\" style=\"stroke: #000000; stroke-linecap: round\"/>\n",
       "   </g>\n",
       "   <g id=\"patch_8\">\n",
       "    <path d=\"M 269.652993 317.722725 \n",
       "Q 188.568306 256.38692 94.26321 222.046842 \n",
       "\" clip-path=\"url(#pfbff70d91f)\" style=\"fill: none; stroke: #000000; stroke-linecap: round\"/>\n",
       "    <path d=\"M 97.337459 225.294763 \n",
       "L 94.26321 222.046842 \n",
       "L 98.706097 221.536196 \n",
       "z\n",
       "\" clip-path=\"url(#pfbff70d91f)\" style=\"stroke: #000000; stroke-linecap: round\"/>\n",
       "   </g>\n",
       "   <g id=\"patch_9\">\n",
       "    <path d=\"M 321.242748 328.706333 \n",
       "Q 427.72378 299.178207 518.375954 237.380086 \n",
       "\" clip-path=\"url(#pfbff70d91f)\" style=\"fill: none; stroke: #000000; stroke-linecap: round\"/>\n",
       "    <path d=\"M 513.944325 237.980639 \n",
       "L 518.375954 237.380086 \n",
       "L 516.197419 241.285721 \n",
       "z\n",
       "\" clip-path=\"url(#pfbff70d91f)\" style=\"stroke: #000000; stroke-linecap: round\"/>\n",
       "   </g>\n",
       "   <g id=\"PathCollection_1\">\n",
       "    <path d=\"M 254.835034 72.40798 \n",
       "C 263.843535 72.40798 272.484285 68.828865 278.854257 62.458892 \n",
       "C 285.224229 56.08892 288.803345 47.448171 288.803345 38.439669 \n",
       "C 288.803345 29.431168 285.224229 20.790419 278.854257 14.420446 \n",
       "C 272.484285 8.050474 263.843535 4.471358 254.835034 4.471358 \n",
       "C 245.826533 4.471358 237.185783 8.050474 230.815811 14.420446 \n",
       "C 224.445838 20.790419 220.866723 29.431168 220.866723 38.439669 \n",
       "C 220.866723 47.448171 224.445838 56.08892 230.815811 62.458892 \n",
       "C 237.185783 68.828865 245.826533 72.40798 254.835034 72.40798 \n",
       "z\n",
       "\" clip-path=\"url(#pfbff70d91f)\" style=\"fill: #1f78b4; stroke: #1f78b4; stroke-width: 2\"/>\n",
       "    <path d=\"M 57.183471 247.62673 \n",
       "C 67.255282 247.62673 76.915933 243.625157 84.037779 236.503311 \n",
       "C 91.159625 229.381466 95.161197 219.720814 95.161197 209.649004 \n",
       "C 95.161197 199.577193 91.159625 189.916541 84.037779 182.794696 \n",
       "C 76.915933 175.67285 67.255282 171.671277 57.183471 171.671277 \n",
       "C 47.11166 171.671277 37.451009 175.67285 30.329163 182.794696 \n",
       "C 23.207318 189.916541 19.205745 199.577193 19.205745 209.649004 \n",
       "C 19.205745 219.720814 23.207318 229.381466 30.329163 236.503311 \n",
       "C 37.451009 243.625157 47.11166 247.62673 57.183471 247.62673 \n",
       "z\n",
       "\" clip-path=\"url(#pfbff70d91f)\" style=\"fill: #1f78b4; stroke: #1f78b4; stroke-width: 2\"/>\n",
       "    <path d=\"M 533.216529 243.995593 \n",
       "C 537.72078 243.995593 542.041154 242.206035 545.22614 239.021049 \n",
       "C 548.411127 235.836062 550.200684 231.515688 550.200684 227.011437 \n",
       "C 550.200684 222.507186 548.411127 218.186812 545.22614 215.001826 \n",
       "C 542.041154 211.816839 537.72078 210.027282 533.216529 210.027282 \n",
       "C 528.712278 210.027282 524.391904 211.816839 521.206917 215.001826 \n",
       "C 518.021931 218.186812 516.232373 222.507186 516.232373 227.011437 \n",
       "C 516.232373 231.515688 518.021931 235.836062 521.206917 239.021049 \n",
       "C 524.391904 242.206035 528.712278 243.995593 533.216529 243.995593 \n",
       "z\n",
       "\" clip-path=\"url(#pfbff70d91f)\" style=\"fill: #1f78b4; stroke: #1f78b4; stroke-width: 2\"/>\n",
       "    <path d=\"M 292.734979 365.377751 \n",
       "C 300.53657 365.377751 308.019678 362.278146 313.536236 356.761588 \n",
       "C 319.052794 351.24503 322.152399 343.761922 322.152399 335.960331 \n",
       "C 322.152399 328.15874 319.052794 320.675631 313.536236 315.159073 \n",
       "C 308.019678 309.642515 300.53657 306.54291 292.734979 306.54291 \n",
       "C 284.933388 306.54291 277.45028 309.642515 271.933722 315.159073 \n",
       "C 266.417164 320.675631 263.317559 328.15874 263.317559 335.960331 \n",
       "C 263.317559 343.761922 266.417164 351.24503 271.933722 356.761588 \n",
       "C 277.45028 362.278146 284.933388 365.377751 292.734979 365.377751 \n",
       "z\n",
       "\" clip-path=\"url(#pfbff70d91f)\" style=\"fill: #1f78b4; stroke: #1f78b4; stroke-width: 2\"/>\n",
       "   </g>\n",
       "   <g id=\"text_1\">\n",
       "    <g clip-path=\"url(#pfbff70d91f)\">\n",
       "     <!-- 1 -->\n",
       "     <g style=\"fill: #ffffff\" transform=\"translate(250.664331 42.327951) scale(0.15 -0.15)\">\n",
       "      <defs>\n",
       "       <path id=\"Arial-BoldMT-31\" d=\"M 2519 0 \n",
       "L 1641 0 \n",
       "L 1641 3309 \n",
       "Q 1159 2859 506 2644 \n",
       "L 506 3441 \n",
       "Q 850 3553 1253 3867 \n",
       "Q 1656 4181 1806 4600 \n",
       "L 2519 4600 \n",
       "L 2519 0 \n",
       "z\n",
       "\" transform=\"scale(0.015625)\"/>\n",
       "      </defs>\n",
       "      <use xlink:href=\"#Arial-BoldMT-31\"/>\n",
       "     </g>\n",
       "    </g>\n",
       "   </g>\n",
       "   <g id=\"text_2\">\n",
       "    <g clip-path=\"url(#pfbff70d91f)\">\n",
       "     <!-- 2 -->\n",
       "     <g style=\"fill: #ffffff\" transform=\"translate(53.012768 213.537285) scale(0.15 -0.15)\">\n",
       "      <defs>\n",
       "       <path id=\"Arial-BoldMT-32\" d=\"M 3238 816 \n",
       "L 3238 0 \n",
       "L 159 0 \n",
       "Q 209 463 459 877 \n",
       "Q 709 1291 1447 1975 \n",
       "Q 2041 2528 2175 2725 \n",
       "Q 2356 2997 2356 3263 \n",
       "Q 2356 3556 2198 3714 \n",
       "Q 2041 3872 1763 3872 \n",
       "Q 1488 3872 1325 3706 \n",
       "Q 1163 3541 1138 3156 \n",
       "L 263 3244 \n",
       "Q 341 3969 753 4284 \n",
       "Q 1166 4600 1784 4600 \n",
       "Q 2463 4600 2850 4234 \n",
       "Q 3238 3869 3238 3325 \n",
       "Q 3238 3016 3127 2736 \n",
       "Q 3016 2456 2775 2150 \n",
       "Q 2616 1947 2200 1565 \n",
       "Q 1784 1184 1673 1059 \n",
       "Q 1563 934 1494 816 \n",
       "L 3238 816 \n",
       "z\n",
       "\" transform=\"scale(0.015625)\"/>\n",
       "      </defs>\n",
       "      <use xlink:href=\"#Arial-BoldMT-32\"/>\n",
       "     </g>\n",
       "    </g>\n",
       "   </g>\n",
       "   <g id=\"text_3\">\n",
       "    <g clip-path=\"url(#pfbff70d91f)\">\n",
       "     <!-- 3 -->\n",
       "     <g style=\"fill: #ffffff\" transform=\"translate(529.045826 230.899718) scale(0.15 -0.15)\">\n",
       "      <defs>\n",
       "       <path id=\"Arial-BoldMT-33\" d=\"M 241 1216 \n",
       "L 1091 1319 \n",
       "Q 1131 994 1309 822 \n",
       "Q 1488 650 1741 650 \n",
       "Q 2013 650 2198 856 \n",
       "Q 2384 1063 2384 1413 \n",
       "Q 2384 1744 2206 1937 \n",
       "Q 2028 2131 1772 2131 \n",
       "Q 1603 2131 1369 2066 \n",
       "L 1466 2781 \n",
       "Q 1822 2772 2009 2936 \n",
       "Q 2197 3100 2197 3372 \n",
       "Q 2197 3603 2059 3740 \n",
       "Q 1922 3878 1694 3878 \n",
       "Q 1469 3878 1309 3722 \n",
       "Q 1150 3566 1116 3266 \n",
       "L 306 3403 \n",
       "Q 391 3819 561 4067 \n",
       "Q 731 4316 1036 4458 \n",
       "Q 1341 4600 1719 4600 \n",
       "Q 2366 4600 2756 4188 \n",
       "Q 3078 3850 3078 3425 \n",
       "Q 3078 2822 2419 2463 \n",
       "Q 2813 2378 3048 2084 \n",
       "Q 3284 1791 3284 1375 \n",
       "Q 3284 772 2843 347 \n",
       "Q 2403 -78 1747 -78 \n",
       "Q 1125 -78 715 280 \n",
       "Q 306 638 241 1216 \n",
       "z\n",
       "\" transform=\"scale(0.015625)\"/>\n",
       "      </defs>\n",
       "      <use xlink:href=\"#Arial-BoldMT-33\"/>\n",
       "     </g>\n",
       "    </g>\n",
       "   </g>\n",
       "   <g id=\"text_4\">\n",
       "    <g clip-path=\"url(#pfbff70d91f)\">\n",
       "     <!-- 4 -->\n",
       "     <g style=\"fill: #ffffff\" transform=\"translate(288.564276 339.848612) scale(0.15 -0.15)\">\n",
       "      <defs>\n",
       "       <path id=\"Arial-BoldMT-34\" d=\"M 1994 0 \n",
       "L 1994 922 \n",
       "L 119 922 \n",
       "L 119 1691 \n",
       "L 2106 4600 \n",
       "L 2844 4600 \n",
       "L 2844 1694 \n",
       "L 3413 1694 \n",
       "L 3413 922 \n",
       "L 2844 922 \n",
       "L 2844 0 \n",
       "L 1994 0 \n",
       "z\n",
       "M 1994 1694 \n",
       "L 1994 3259 \n",
       "L 941 1694 \n",
       "L 1994 1694 \n",
       "z\n",
       "\" transform=\"scale(0.015625)\"/>\n",
       "      </defs>\n",
       "      <use xlink:href=\"#Arial-BoldMT-34\"/>\n",
       "     </g>\n",
       "    </g>\n",
       "   </g>\n",
       "  </g>\n",
       " </g>\n",
       " <defs>\n",
       "  <clipPath id=\"pfbff70d91f\">\n",
       "   <rect x=\"7.2\" y=\"7.2\" width=\"576\" height=\"360\"/>\n",
       "  </clipPath>\n",
       " </defs>\n",
       "</svg>\n"
      ],
      "text/plain": [
       "<Figure size 800x500 with 1 Axes>"
      ]
     },
     "metadata": {},
     "output_type": "display_data"
    }
   ],
   "source": [
    "plot_from_adjacency(A, node_sizes=compute_scores(A))"
   ]
  },
  {
   "cell_type": "markdown",
   "id": "7ae25b13",
   "metadata": {},
   "source": [
    "#### Question 2.2: Ranking Pages  <div style=\"display:inline-block; vertical-align: middle; padding:7px 7px; font-size:10px; font-weight:light; color:white; background-color:#e84c4a; border-radius:7px; text-align:left;\">2 Points</div>\n",
    "\n",
    "Complete the implementation of the function `pagerank`, which takes in an adjacency matrix `matrix` of shape `(n, n)`, where `n` is a positive integer, and returns a list containing the **numbers** of the pages in the matrix, in **decreasing** order of PageRank score as computed by `compute_scores`. If there are ties in scores, return the pages in any order. Example behavior is given below.\n",
    "\n",
    "```python\n",
    ">>> pagerank(A)\n",
    "[2, 1, 4, 3]\n",
    "```\n",
    "\n",
    "***Hint:*** Look into `np.argsort`. This should only take 2-3 lines; do not write a `for`-loop."
   ]
  },
  {
   "cell_type": "code",
   "execution_count": 14,
   "id": "72d84b20",
   "metadata": {},
   "outputs": [
    {
     "name": "stdout",
     "output_type": "stream",
     "text": [
      "\u001b[0;31mSignature:\u001b[0m       \u001b[0mnp\u001b[0m\u001b[0;34m.\u001b[0m\u001b[0margsort\u001b[0m\u001b[0;34m(\u001b[0m\u001b[0ma\u001b[0m\u001b[0;34m,\u001b[0m \u001b[0maxis\u001b[0m\u001b[0;34m=\u001b[0m\u001b[0;34m-\u001b[0m\u001b[0;36m1\u001b[0m\u001b[0;34m,\u001b[0m \u001b[0mkind\u001b[0m\u001b[0;34m=\u001b[0m\u001b[0;32mNone\u001b[0m\u001b[0;34m,\u001b[0m \u001b[0morder\u001b[0m\u001b[0;34m=\u001b[0m\u001b[0;32mNone\u001b[0m\u001b[0;34m)\u001b[0m\u001b[0;34m\u001b[0m\u001b[0;34m\u001b[0m\u001b[0m\n",
      "\u001b[0;31mCall signature:\u001b[0m  \u001b[0mnp\u001b[0m\u001b[0;34m.\u001b[0m\u001b[0margsort\u001b[0m\u001b[0;34m(\u001b[0m\u001b[0;34m*\u001b[0m\u001b[0margs\u001b[0m\u001b[0;34m,\u001b[0m \u001b[0;34m**\u001b[0m\u001b[0mkwargs\u001b[0m\u001b[0;34m)\u001b[0m\u001b[0;34m\u001b[0m\u001b[0;34m\u001b[0m\u001b[0m\n",
      "\u001b[0;31mType:\u001b[0m            _ArrayFunctionDispatcher\n",
      "\u001b[0;31mString form:\u001b[0m     <function argsort at 0x10af18ee0>\n",
      "\u001b[0;31mFile:\u001b[0m            ~/anaconda3/envs/pds/lib/python3.10/site-packages/numpy/core/fromnumeric.py\n",
      "\u001b[0;31mDocstring:\u001b[0m      \n",
      "Returns the indices that would sort an array.\n",
      "\n",
      "Perform an indirect sort along the given axis using the algorithm specified\n",
      "by the `kind` keyword. It returns an array of indices of the same shape as\n",
      "`a` that index data along the given axis in sorted order.\n",
      "\n",
      "Parameters\n",
      "----------\n",
      "a : array_like\n",
      "    Array to sort.\n",
      "axis : int or None, optional\n",
      "    Axis along which to sort.  The default is -1 (the last axis). If None,\n",
      "    the flattened array is used.\n",
      "kind : {'quicksort', 'mergesort', 'heapsort', 'stable'}, optional\n",
      "    Sorting algorithm. The default is 'quicksort'. Note that both 'stable'\n",
      "    and 'mergesort' use timsort under the covers and, in general, the\n",
      "    actual implementation will vary with data type. The 'mergesort' option\n",
      "    is retained for backwards compatibility.\n",
      "\n",
      "    .. versionchanged:: 1.15.0.\n",
      "       The 'stable' option was added.\n",
      "order : str or list of str, optional\n",
      "    When `a` is an array with fields defined, this argument specifies\n",
      "    which fields to compare first, second, etc.  A single field can\n",
      "    be specified as a string, and not all fields need be specified,\n",
      "    but unspecified fields will still be used, in the order in which\n",
      "    they come up in the dtype, to break ties.\n",
      "\n",
      "Returns\n",
      "-------\n",
      "index_array : ndarray, int\n",
      "    Array of indices that sort `a` along the specified `axis`.\n",
      "    If `a` is one-dimensional, ``a[index_array]`` yields a sorted `a`.\n",
      "    More generally, ``np.take_along_axis(a, index_array, axis=axis)``\n",
      "    always yields the sorted `a`, irrespective of dimensionality.\n",
      "\n",
      "See Also\n",
      "--------\n",
      "sort : Describes sorting algorithms used.\n",
      "lexsort : Indirect stable sort with multiple keys.\n",
      "ndarray.sort : Inplace sort.\n",
      "argpartition : Indirect partial sort.\n",
      "take_along_axis : Apply ``index_array`` from argsort\n",
      "                  to an array as if by calling sort.\n",
      "\n",
      "Notes\n",
      "-----\n",
      "See `sort` for notes on the different sorting algorithms.\n",
      "\n",
      "As of NumPy 1.4.0 `argsort` works with real/complex arrays containing\n",
      "nan values. The enhanced sort order is documented in `sort`.\n",
      "\n",
      "Examples\n",
      "--------\n",
      "One dimensional array:\n",
      "\n",
      ">>> x = np.array([3, 1, 2])\n",
      ">>> np.argsort(x)\n",
      "array([1, 2, 0])\n",
      "\n",
      "Two-dimensional array:\n",
      "\n",
      ">>> x = np.array([[0, 3], [2, 2]])\n",
      ">>> x\n",
      "array([[0, 3],\n",
      "       [2, 2]])\n",
      "\n",
      ">>> ind = np.argsort(x, axis=0)  # sorts along first axis (down)\n",
      ">>> ind\n",
      "array([[0, 1],\n",
      "       [1, 0]])\n",
      ">>> np.take_along_axis(x, ind, axis=0)  # same as np.sort(x, axis=0)\n",
      "array([[0, 2],\n",
      "       [2, 3]])\n",
      "\n",
      ">>> ind = np.argsort(x, axis=1)  # sorts along last axis (across)\n",
      ">>> ind\n",
      "array([[0, 1],\n",
      "       [0, 1]])\n",
      ">>> np.take_along_axis(x, ind, axis=1)  # same as np.sort(x, axis=1)\n",
      "array([[0, 3],\n",
      "       [2, 2]])\n",
      "\n",
      "Indices of the sorted elements of a N-dimensional array:\n",
      "\n",
      ">>> ind = np.unravel_index(np.argsort(x, axis=None), x.shape)\n",
      ">>> ind\n",
      "(array([0, 1, 1, 0]), array([0, 0, 1, 1]))\n",
      ">>> x[ind]  # same as np.sort(x, axis=None)\n",
      "array([0, 2, 2, 3])\n",
      "\n",
      "Sorting with keys:\n",
      "\n",
      ">>> x = np.array([(1, 0), (0, 1)], dtype=[('x', '<i4'), ('y', '<i4')])\n",
      ">>> x\n",
      "array([(1, 0), (0, 1)],\n",
      "      dtype=[('x', '<i4'), ('y', '<i4')])\n",
      "\n",
      ">>> np.argsort(x, order=('x','y'))\n",
      "array([1, 0])\n",
      "\n",
      ">>> np.argsort(x, order=('y','x'))\n",
      "array([0, 1])\n",
      "\u001b[0;31mClass docstring:\u001b[0m\n",
      "Class to wrap functions with checks for __array_function__ overrides.\n",
      "\n",
      "All arguments are required, and can only be passed by position.\n",
      "\n",
      "Parameters\n",
      "----------\n",
      "dispatcher : function or None\n",
      "    The dispatcher function that returns a single sequence-like object\n",
      "    of all arguments relevant.  It must have the same signature (except\n",
      "    the default values) as the actual implementation.\n",
      "    If ``None``, this is a ``like=`` dispatcher and the\n",
      "    ``_ArrayFunctionDispatcher`` must be called with ``like`` as the\n",
      "    first (additional and positional) argument.\n",
      "implementation : function\n",
      "    Function that implements the operation on NumPy arrays without\n",
      "    overrides.  Arguments passed calling the ``_ArrayFunctionDispatcher``\n",
      "    will be forwarded to this (and the ``dispatcher``) as if using\n",
      "    ``*args, **kwargs``.\n",
      "\n",
      "Attributes\n",
      "----------\n",
      "_implementation : function\n",
      "    The original implementation passed in."
     ]
    }
   ],
   "source": [
    "np.argsort?"
   ]
  },
  {
   "cell_type": "code",
   "execution_count": 15,
   "id": "ec7d1622",
   "metadata": {
    "tags": []
   },
   "outputs": [
    {
     "data": {
      "text/plain": [
       "[2, 1, 4, 3]"
      ]
     },
     "execution_count": 15,
     "metadata": {},
     "output_type": "execute_result"
    }
   ],
   "source": [
    "def pagerank(matrix):\n",
    "    x = np.argsort(-compute_scores(matrix)) \n",
    "    return (x + 1).tolist()\n",
    "\n",
    "# Feel free to change this input to make sure your function works correctly.\n",
    "pagerank(A)\n",
    "\n"
   ]
  },
  {
   "cell_type": "code",
   "execution_count": 16,
   "id": "4656c314",
   "metadata": {
    "deletable": false,
    "editable": false
   },
   "outputs": [
    {
     "data": {
      "text/html": [
       "<p><strong><pre style='display: inline;'>q02_2</pre></strong> passed!</p>"
      ],
      "text/plain": [
       "q02_2 results: All test cases passed!"
      ]
     },
     "execution_count": 16,
     "metadata": {},
     "output_type": "execute_result"
    }
   ],
   "source": [
    "grader.check(\"q02_2\")"
   ]
  },
  {
   "cell_type": "markdown",
   "id": "188a034a",
   "metadata": {},
   "source": [
    "Once you've completed `pagerank`, run the following cell to try your work ."
   ]
  },
  {
   "cell_type": "code",
   "execution_count": 17,
   "id": "a0f22ccd",
   "metadata": {},
   "outputs": [
    {
     "name": "stdout",
     "output_type": "stream",
     "text": [
      "{1: [6], 2: [1, 3, 4, 6], 3: [2, 5, 6], 4: [1], 5: [1, 2, 6], 6: [2, 4]}\n"
     ]
    },
    {
     "data": {
      "image/svg+xml": [
       "<?xml version=\"1.0\" encoding=\"utf-8\" standalone=\"no\"?>\n",
       "<!DOCTYPE svg PUBLIC \"-//W3C//DTD SVG 1.1//EN\"\n",
       "  \"http://www.w3.org/Graphics/SVG/1.1/DTD/svg11.dtd\">\n",
       "<svg xmlns:xlink=\"http://www.w3.org/1999/xlink\" width=\"590.4pt\" height=\"374.4pt\" viewBox=\"0 0 590.4 374.4\" xmlns=\"http://www.w3.org/2000/svg\" version=\"1.1\">\n",
       " <metadata>\n",
       "  <rdf:RDF xmlns:dc=\"http://purl.org/dc/elements/1.1/\" xmlns:cc=\"http://creativecommons.org/ns#\" xmlns:rdf=\"http://www.w3.org/1999/02/22-rdf-syntax-ns#\">\n",
       "   <cc:Work>\n",
       "    <dc:type rdf:resource=\"http://purl.org/dc/dcmitype/StillImage\"/>\n",
       "    <dc:date>2024-09-13T23:45:43.375017</dc:date>\n",
       "    <dc:format>image/svg+xml</dc:format>\n",
       "    <dc:creator>\n",
       "     <cc:Agent>\n",
       "      <dc:title>Matplotlib v3.9.2, https://matplotlib.org/</dc:title>\n",
       "     </cc:Agent>\n",
       "    </dc:creator>\n",
       "   </cc:Work>\n",
       "  </rdf:RDF>\n",
       " </metadata>\n",
       " <defs>\n",
       "  <style type=\"text/css\">*{stroke-linejoin: round; stroke-linecap: butt}</style>\n",
       " </defs>\n",
       " <g id=\"figure_1\">\n",
       "  <g id=\"patch_1\">\n",
       "   <path d=\"M 0 374.4 \n",
       "L 590.4 374.4 \n",
       "L 590.4 -0 \n",
       "L 0 -0 \n",
       "z\n",
       "\" style=\"fill: #ffffff\"/>\n",
       "  </g>\n",
       "  <g id=\"axes_1\">\n",
       "   <g id=\"patch_2\">\n",
       "    <path d=\"M 397.519844 305.650223 \n",
       "Q 388.574788 256.079171 368.46655 211.176262 \n",
       "\" clip-path=\"url(#p2459a030e2)\" style=\"fill: none; stroke: #000000; stroke-linecap: round\"/>\n",
       "    <path d=\"M 368.276044 215.644338 \n",
       "L 368.46655 211.176262 \n",
       "L 371.926708 214.009513 \n",
       "z\n",
       "\" clip-path=\"url(#p2459a030e2)\" style=\"stroke: #000000; stroke-linecap: round\"/>\n",
       "   </g>\n",
       "   <g id=\"patch_3\">\n",
       "    <path d=\"M 172.478302 185.142876 \n",
       "Q 261.975736 270.756993 372.903675 322.984951 \n",
       "\" clip-path=\"url(#p2459a030e2)\" style=\"fill: none; stroke: #000000; stroke-linecap: round\"/>\n",
       "    <path d=\"M 370.136684 319.471583 \n",
       "L 372.903675 322.984951 \n",
       "L 368.432786 323.090523 \n",
       "z\n",
       "\" clip-path=\"url(#p2459a030e2)\" style=\"stroke: #000000; stroke-linecap: round\"/>\n",
       "   </g>\n",
       "   <g id=\"patch_4\">\n",
       "    <path d=\"M 142.325592 144.236898 \n",
       "Q 112.001041 90.022227 67.471338 47.901483 \n",
       "\" clip-path=\"url(#p2459a030e2)\" style=\"fill: none; stroke: #000000; stroke-linecap: round\"/>\n",
       "    <path d=\"M 69.002909 52.103183 \n",
       "L 67.471338 47.901483 \n",
       "L 71.751641 49.197246 \n",
       "z\n",
       "\" clip-path=\"url(#p2459a030e2)\" style=\"stroke: #000000; stroke-linecap: round\"/>\n",
       "   </g>\n",
       "   <g id=\"patch_5\">\n",
       "    <path d=\"M 179.396707 172.161749 \n",
       "Q 342.350059 202.947144 505.049948 177.564612 \n",
       "\" clip-path=\"url(#p2459a030e2)\" style=\"fill: none; stroke: #000000; stroke-linecap: round\"/>\n",
       "    <path d=\"M 500.789467 176.20509 \n",
       "L 505.049948 177.564612 \n",
       "L 501.406042 180.157284 \n",
       "z\n",
       "\" clip-path=\"url(#p2459a030e2)\" style=\"stroke: #000000; stroke-linecap: round\"/>\n",
       "   </g>\n",
       "   <g id=\"patch_6\">\n",
       "    <path d=\"M 179.204067 173.052466 \n",
       "Q 248.29661 187.796509 317.496063 183.020176 \n",
       "\" clip-path=\"url(#p2459a030e2)\" style=\"fill: none; stroke: #000000; stroke-linecap: round\"/>\n",
       "    <path d=\"M 313.367839 181.300358 \n",
       "L 317.496063 183.020176 \n",
       "L 313.643275 185.290864 \n",
       "z\n",
       "\" clip-path=\"url(#p2459a030e2)\" style=\"stroke: #000000; stroke-linecap: round\"/>\n",
       "   </g>\n",
       "   <g id=\"patch_7\">\n",
       "    <path d=\"M 62.938913 49.942931 \n",
       "Q 91.711166 105.32515 134.711436 148.589673 \n",
       "\" clip-path=\"url(#p2459a030e2)\" style=\"fill: none; stroke: #000000; stroke-linecap: round\"/>\n",
       "    <path d=\"M 133.310226 144.34272 \n",
       "L 134.711436 148.589673 \n",
       "L 130.473148 147.16247 \n",
       "z\n",
       "\" clip-path=\"url(#p2459a030e2)\" style=\"stroke: #000000; stroke-linecap: round\"/>\n",
       "   </g>\n",
       "   <g id=\"patch_8\">\n",
       "    <path d=\"M 69.643207 41.64511 \n",
       "Q 190.377583 71.520275 312.879932 56.35404 \n",
       "\" clip-path=\"url(#p2459a030e2)\" style=\"fill: none; stroke: #000000; stroke-linecap: round\"/>\n",
       "    <path d=\"M 308.664507 54.860655 \n",
       "L 312.879932 56.35404 \n",
       "L 309.15597 58.830349 \n",
       "z\n",
       "\" clip-path=\"url(#p2459a030e2)\" style=\"stroke: #000000; stroke-linecap: round\"/>\n",
       "   </g>\n",
       "   <g id=\"patch_9\">\n",
       "    <path d=\"M 67.53617 46.069479 \n",
       "Q 183.208733 129.996333 318.586383 170.05624 \n",
       "\" clip-path=\"url(#p2459a030e2)\" style=\"fill: none; stroke: #000000; stroke-linecap: round\"/>\n",
       "    <path d=\"M 315.318289 167.003444 \n",
       "L 318.586383 170.05624 \n",
       "L 314.18329 170.839038 \n",
       "z\n",
       "\" clip-path=\"url(#p2459a030e2)\" style=\"stroke: #000000; stroke-linecap: round\"/>\n",
       "   </g>\n",
       "   <g id=\"patch_10\">\n",
       "    <path d=\"M 512.589338 190.899748 \n",
       "Q 456.057172 243.117678 417.336681 308.252555 \n",
       "\" clip-path=\"url(#p2459a030e2)\" style=\"fill: none; stroke: #000000; stroke-linecap: round\"/>\n",
       "    <path d=\"M 421.099826 305.836205 \n",
       "L 417.336681 308.252555 \n",
       "L 417.661488 303.79223 \n",
       "z\n",
       "\" clip-path=\"url(#p2459a030e2)\" style=\"stroke: #000000; stroke-linecap: round\"/>\n",
       "   </g>\n",
       "   <g id=\"patch_11\">\n",
       "    <path d=\"M 321.996516 62.659766 \n",
       "Q 333.842847 191.689952 387.888049 307.467271 \n",
       "\" clip-path=\"url(#p2459a030e2)\" style=\"fill: none; stroke: #000000; stroke-linecap: round\"/>\n",
       "    <path d=\"M 388.008373 302.996754 \n",
       "L 387.888049 307.467271 \n",
       "L 384.383829 304.688701 \n",
       "z\n",
       "\" clip-path=\"url(#p2459a030e2)\" style=\"stroke: #000000; stroke-linecap: round\"/>\n",
       "   </g>\n",
       "   <g id=\"patch_12\">\n",
       "    <path d=\"M 314.508712 58.151411 \n",
       "Q 235.802673 91.989791 173.614823 148.538877 \n",
       "\" clip-path=\"url(#p2459a030e2)\" style=\"fill: none; stroke: #000000; stroke-linecap: round\"/>\n",
       "    <path d=\"M 177.919773 147.32751 \n",
       "L 173.614823 148.538877 \n",
       "L 175.228699 144.368097 \n",
       "z\n",
       "\" clip-path=\"url(#p2459a030e2)\" style=\"stroke: #000000; stroke-linecap: round\"/>\n",
       "   </g>\n",
       "   <g id=\"patch_13\">\n",
       "    <path d=\"M 321.806986 62.677702 \n",
       "Q 324.985235 106.663151 339.207835 146.709553 \n",
       "\" clip-path=\"url(#p2459a030e2)\" style=\"fill: none; stroke: #000000; stroke-linecap: round\"/>\n",
       "    <path d=\"M 339.753812 142.27087 \n",
       "L 339.207835 146.709553 \n",
       "L 335.984475 143.609562 \n",
       "z\n",
       "\" clip-path=\"url(#p2459a030e2)\" style=\"stroke: #000000; stroke-linecap: round\"/>\n",
       "   </g>\n",
       "   <g id=\"patch_14\">\n",
       "    <path d=\"M 319.312252 171.732298 \n",
       "Q 250.143242 158.178836 180.865799 164.128311 \n",
       "\" clip-path=\"url(#p2459a030e2)\" style=\"fill: none; stroke: #000000; stroke-linecap: round\"/>\n",
       "    <path d=\"M 185.022258 165.77872 \n",
       "L 180.865799 164.128311 \n",
       "L 184.680002 161.793389 \n",
       "z\n",
       "\" clip-path=\"url(#p2459a030e2)\" style=\"stroke: #000000; stroke-linecap: round\"/>\n",
       "   </g>\n",
       "   <g id=\"patch_15\">\n",
       "    <path d=\"M 386.768766 183.694171 \n",
       "Q 446.847325 188.964836 505.24042 178.57881 \n",
       "\" clip-path=\"url(#p2459a030e2)\" style=\"fill: none; stroke: #000000; stroke-linecap: round\"/>\n",
       "    <path d=\"M 500.951998 177.310177 \n",
       "L 505.24042 178.57881 \n",
       "L 501.65246 181.248368 \n",
       "z\n",
       "\" clip-path=\"url(#p2459a030e2)\" style=\"stroke: #000000; stroke-linecap: round\"/>\n",
       "   </g>\n",
       "   <g id=\"PathCollection_1\">\n",
       "    <path d=\"M 401.866769 366.578952 \n",
       "C 409.986922 366.578952 417.775588 363.352781 423.517404 357.610966 \n",
       "C 429.25922 351.86915 432.485391 344.080484 432.485391 335.960331 \n",
       "C 432.485391 327.840177 429.25922 320.051511 423.517404 314.309695 \n",
       "C 417.775588 308.56788 409.986922 305.341709 401.866769 305.341709 \n",
       "C 393.746616 305.341709 385.957949 308.56788 380.216134 314.309695 \n",
       "C 374.474318 320.051511 371.248147 327.840177 371.248147 335.960331 \n",
       "C 371.248147 344.080484 374.474318 351.86915 380.216134 357.610966 \n",
       "C 385.957949 363.352781 393.746616 366.578952 401.866769 366.578952 \n",
       "z\n",
       "\" clip-path=\"url(#p2459a030e2)\" style=\"fill: #1f78b4; stroke: #1f78b4; stroke-width: 2\"/>\n",
       "    <path d=\"M 154.185177 192.785281 \n",
       "C 161.00747 192.785281 167.551259 190.074756 172.375349 185.250666 \n",
       "C 177.199439 180.426576 179.909965 173.882787 179.909965 167.060494 \n",
       "C 179.909965 160.2382 177.199439 153.694412 172.375349 148.870322 \n",
       "C 167.551259 144.046232 161.00747 141.335706 154.185177 141.335706 \n",
       "C 147.362883 141.335706 140.819095 144.046232 135.995005 148.870322 \n",
       "C 131.170915 153.694412 128.460389 160.2382 128.460389 167.060494 \n",
       "C 128.460389 173.882787 131.170915 180.426576 135.995005 185.250666 \n",
       "C 140.819095 190.074756 147.362883 192.785281 154.185177 192.785281 \n",
       "z\n",
       "\" clip-path=\"url(#p2459a030e2)\" style=\"fill: #1f78b4; stroke: #1f78b4; stroke-width: 2\"/>\n",
       "    <path d=\"M 57.183471 51.302063 \n",
       "C 60.594618 51.302063 63.866512 49.9468 66.278557 47.534755 \n",
       "C 68.690602 45.12271 70.045865 41.850816 70.045865 38.439669 \n",
       "C 70.045865 35.028523 68.690602 31.756628 66.278557 29.344583 \n",
       "C 63.866512 26.932538 60.594618 25.577276 57.183471 25.577276 \n",
       "C 53.772324 25.577276 50.50043 26.932538 48.088385 29.344583 \n",
       "C 45.67634 31.756628 44.321077 35.028523 44.321077 38.439669 \n",
       "C 44.321077 41.850816 45.67634 45.12271 48.088385 47.534755 \n",
       "C 50.50043 49.9468 53.772324 51.302063 57.183471 51.302063 \n",
       "z\n",
       "\" clip-path=\"url(#p2459a030e2)\" style=\"fill: #1f78b4; stroke: #1f78b4; stroke-width: 2\"/>\n",
       "    <path d=\"M 533.216529 200.240195 \n",
       "C 540.497194 200.240195 547.480643 197.347556 552.628851 192.199348 \n",
       "C 557.777059 187.05114 560.669698 180.067692 560.669698 172.787026 \n",
       "C 560.669698 165.506361 557.777059 158.522913 552.628851 153.374705 \n",
       "C 547.480643 148.226497 540.497194 145.333858 533.216529 145.333858 \n",
       "C 525.935863 145.333858 518.952415 148.226497 513.804207 153.374705 \n",
       "C 508.655999 158.522913 505.76336 165.506361 505.76336 172.787026 \n",
       "C 505.76336 180.067692 508.655999 187.05114 513.804207 192.199348 \n",
       "C 518.952415 197.347556 525.935863 200.240195 533.216529 200.240195 \n",
       "z\n",
       "\" clip-path=\"url(#p2459a030e2)\" style=\"fill: #1f78b4; stroke: #1f78b4; stroke-width: 2\"/>\n",
       "    <path d=\"M 321.353482 62.691349 \n",
       "C 323.322908 62.691349 325.211937 61.908887 326.604532 60.516292 \n",
       "C 327.997127 59.123698 328.779588 57.234669 328.779588 55.265242 \n",
       "C 328.779588 53.295816 327.997127 51.406787 326.604532 50.014192 \n",
       "C 325.211937 48.621597 323.322908 47.839136 321.353482 47.839136 \n",
       "C 319.384055 47.839136 317.495026 48.621597 316.102432 50.014192 \n",
       "C 314.709837 51.406787 313.927375 53.295816 313.927375 55.265242 \n",
       "C 313.927375 57.234669 314.709837 59.123698 316.102432 60.516292 \n",
       "C 317.495026 61.908887 319.384055 62.691349 321.353482 62.691349 \n",
       "z\n",
       "\" clip-path=\"url(#p2459a030e2)\" style=\"fill: #1f78b4; stroke: #1f78b4; stroke-width: 2\"/>\n",
       "    <path d=\"M 352.733707 213.743712 \n",
       "C 361.830098 213.743712 370.55515 210.129677 376.98727 203.697557 \n",
       "C 383.41939 197.265437 387.033424 188.540386 387.033424 179.443995 \n",
       "C 387.033424 170.347604 383.41939 161.622552 376.98727 155.190432 \n",
       "C 370.55515 148.758312 361.830098 145.144278 352.733707 145.144278 \n",
       "C 343.637316 145.144278 334.912265 148.758312 328.480145 155.190432 \n",
       "C 322.048025 161.622552 318.43399 170.347604 318.43399 179.443995 \n",
       "C 318.43399 188.540386 322.048025 197.265437 328.480145 203.697557 \n",
       "C 334.912265 210.129677 343.637316 213.743712 352.733707 213.743712 \n",
       "z\n",
       "\" clip-path=\"url(#p2459a030e2)\" style=\"fill: #1f78b4; stroke: #1f78b4; stroke-width: 2\"/>\n",
       "   </g>\n",
       "   <g id=\"text_1\">\n",
       "    <g clip-path=\"url(#p2459a030e2)\">\n",
       "     <!-- 1 -->\n",
       "     <g style=\"fill: #ffffff\" transform=\"translate(397.696066 339.848612) scale(0.15 -0.15)\">\n",
       "      <defs>\n",
       "       <path id=\"Arial-BoldMT-31\" d=\"M 2519 0 \n",
       "L 1641 0 \n",
       "L 1641 3309 \n",
       "Q 1159 2859 506 2644 \n",
       "L 506 3441 \n",
       "Q 850 3553 1253 3867 \n",
       "Q 1656 4181 1806 4600 \n",
       "L 2519 4600 \n",
       "L 2519 0 \n",
       "z\n",
       "\" transform=\"scale(0.015625)\"/>\n",
       "      </defs>\n",
       "      <use xlink:href=\"#Arial-BoldMT-31\"/>\n",
       "     </g>\n",
       "    </g>\n",
       "   </g>\n",
       "   <g id=\"text_2\">\n",
       "    <g clip-path=\"url(#p2459a030e2)\">\n",
       "     <!-- 2 -->\n",
       "     <g style=\"fill: #ffffff\" transform=\"translate(150.014474 170.948775) scale(0.15 -0.15)\">\n",
       "      <defs>\n",
       "       <path id=\"Arial-BoldMT-32\" d=\"M 3238 816 \n",
       "L 3238 0 \n",
       "L 159 0 \n",
       "Q 209 463 459 877 \n",
       "Q 709 1291 1447 1975 \n",
       "Q 2041 2528 2175 2725 \n",
       "Q 2356 2997 2356 3263 \n",
       "Q 2356 3556 2198 3714 \n",
       "Q 2041 3872 1763 3872 \n",
       "Q 1488 3872 1325 3706 \n",
       "Q 1163 3541 1138 3156 \n",
       "L 263 3244 \n",
       "Q 341 3969 753 4284 \n",
       "Q 1166 4600 1784 4600 \n",
       "Q 2463 4600 2850 4234 \n",
       "Q 3238 3869 3238 3325 \n",
       "Q 3238 3016 3127 2736 \n",
       "Q 3016 2456 2775 2150 \n",
       "Q 2616 1947 2200 1565 \n",
       "Q 1784 1184 1673 1059 \n",
       "Q 1563 934 1494 816 \n",
       "L 3238 816 \n",
       "z\n",
       "\" transform=\"scale(0.015625)\"/>\n",
       "      </defs>\n",
       "      <use xlink:href=\"#Arial-BoldMT-32\"/>\n",
       "     </g>\n",
       "    </g>\n",
       "   </g>\n",
       "   <g id=\"text_3\">\n",
       "    <g clip-path=\"url(#p2459a030e2)\">\n",
       "     <!-- 3 -->\n",
       "     <g style=\"fill: #ffffff\" transform=\"translate(53.012768 42.327951) scale(0.15 -0.15)\">\n",
       "      <defs>\n",
       "       <path id=\"Arial-BoldMT-33\" d=\"M 241 1216 \n",
       "L 1091 1319 \n",
       "Q 1131 994 1309 822 \n",
       "Q 1488 650 1741 650 \n",
       "Q 2013 650 2198 856 \n",
       "Q 2384 1063 2384 1413 \n",
       "Q 2384 1744 2206 1937 \n",
       "Q 2028 2131 1772 2131 \n",
       "Q 1603 2131 1369 2066 \n",
       "L 1466 2781 \n",
       "Q 1822 2772 2009 2936 \n",
       "Q 2197 3100 2197 3372 \n",
       "Q 2197 3603 2059 3740 \n",
       "Q 1922 3878 1694 3878 \n",
       "Q 1469 3878 1309 3722 \n",
       "Q 1150 3566 1116 3266 \n",
       "L 306 3403 \n",
       "Q 391 3819 561 4067 \n",
       "Q 731 4316 1036 4458 \n",
       "Q 1341 4600 1719 4600 \n",
       "Q 2366 4600 2756 4188 \n",
       "Q 3078 3850 3078 3425 \n",
       "Q 3078 2822 2419 2463 \n",
       "Q 2813 2378 3048 2084 \n",
       "Q 3284 1791 3284 1375 \n",
       "Q 3284 772 2843 347 \n",
       "Q 2403 -78 1747 -78 \n",
       "Q 1125 -78 715 280 \n",
       "Q 306 638 241 1216 \n",
       "z\n",
       "\" transform=\"scale(0.015625)\"/>\n",
       "      </defs>\n",
       "      <use xlink:href=\"#Arial-BoldMT-33\"/>\n",
       "     </g>\n",
       "    </g>\n",
       "   </g>\n",
       "   <g id=\"text_4\">\n",
       "    <g clip-path=\"url(#p2459a030e2)\">\n",
       "     <!-- 4 -->\n",
       "     <g style=\"fill: #ffffff\" transform=\"translate(529.045826 176.675308) scale(0.15 -0.15)\">\n",
       "      <defs>\n",
       "       <path id=\"Arial-BoldMT-34\" d=\"M 1994 0 \n",
       "L 1994 922 \n",
       "L 119 922 \n",
       "L 119 1691 \n",
       "L 2106 4600 \n",
       "L 2844 4600 \n",
       "L 2844 1694 \n",
       "L 3413 1694 \n",
       "L 3413 922 \n",
       "L 2844 922 \n",
       "L 2844 0 \n",
       "L 1994 0 \n",
       "z\n",
       "M 1994 1694 \n",
       "L 1994 3259 \n",
       "L 941 1694 \n",
       "L 1994 1694 \n",
       "z\n",
       "\" transform=\"scale(0.015625)\"/>\n",
       "      </defs>\n",
       "      <use xlink:href=\"#Arial-BoldMT-34\"/>\n",
       "     </g>\n",
       "    </g>\n",
       "   </g>\n",
       "   <g id=\"text_5\">\n",
       "    <g clip-path=\"url(#p2459a030e2)\">\n",
       "     <!-- 5 -->\n",
       "     <g style=\"fill: #ffffff\" transform=\"translate(317.182779 59.153523) scale(0.15 -0.15)\">\n",
       "      <defs>\n",
       "       <path id=\"Arial-BoldMT-35\" d=\"M 284 1178 \n",
       "L 1159 1269 \n",
       "Q 1197 972 1381 798 \n",
       "Q 1566 625 1806 625 \n",
       "Q 2081 625 2272 848 \n",
       "Q 2463 1072 2463 1522 \n",
       "Q 2463 1944 2273 2155 \n",
       "Q 2084 2366 1781 2366 \n",
       "Q 1403 2366 1103 2031 \n",
       "L 391 2134 \n",
       "L 841 4519 \n",
       "L 3163 4519 \n",
       "L 3163 3697 \n",
       "L 1506 3697 \n",
       "L 1369 2919 \n",
       "Q 1663 3066 1969 3066 \n",
       "Q 2553 3066 2959 2641 \n",
       "Q 3366 2216 3366 1538 \n",
       "Q 3366 972 3038 528 \n",
       "Q 2591 -78 1797 -78 \n",
       "Q 1163 -78 763 262 \n",
       "Q 363 603 284 1178 \n",
       "z\n",
       "\" transform=\"scale(0.015625)\"/>\n",
       "      </defs>\n",
       "      <use xlink:href=\"#Arial-BoldMT-35\"/>\n",
       "     </g>\n",
       "    </g>\n",
       "   </g>\n",
       "   <g id=\"text_6\">\n",
       "    <g clip-path=\"url(#p2459a030e2)\">\n",
       "     <!-- 6 -->\n",
       "     <g style=\"fill: #ffffff\" transform=\"translate(348.563004 183.332276) scale(0.15 -0.15)\">\n",
       "      <defs>\n",
       "       <path id=\"Arial-BoldMT-36\" d=\"M 3247 3459 \n",
       "L 2397 3366 \n",
       "Q 2366 3628 2234 3753 \n",
       "Q 2103 3878 1894 3878 \n",
       "Q 1616 3878 1423 3628 \n",
       "Q 1231 3378 1181 2588 \n",
       "Q 1509 2975 1997 2975 \n",
       "Q 2547 2975 2939 2556 \n",
       "Q 3331 2138 3331 1475 \n",
       "Q 3331 772 2918 347 \n",
       "Q 2506 -78 1859 -78 \n",
       "Q 1166 -78 719 461 \n",
       "Q 272 1000 272 2228 \n",
       "Q 272 3488 737 4044 \n",
       "Q 1203 4600 1947 4600 \n",
       "Q 2469 4600 2811 4308 \n",
       "Q 3153 4016 3247 3459 \n",
       "z\n",
       "M 1256 1544 \n",
       "Q 1256 1116 1453 883 \n",
       "Q 1650 650 1903 650 \n",
       "Q 2147 650 2309 840 \n",
       "Q 2472 1031 2472 1466 \n",
       "Q 2472 1913 2297 2120 \n",
       "Q 2122 2328 1859 2328 \n",
       "Q 1606 2328 1431 2129 \n",
       "Q 1256 1931 1256 1544 \n",
       "z\n",
       "\" transform=\"scale(0.015625)\"/>\n",
       "      </defs>\n",
       "      <use xlink:href=\"#Arial-BoldMT-36\"/>\n",
       "     </g>\n",
       "    </g>\n",
       "   </g>\n",
       "  </g>\n",
       " </g>\n",
       " <defs>\n",
       "  <clipPath id=\"p2459a030e2\">\n",
       "   <rect x=\"7.2\" y=\"7.2\" width=\"576\" height=\"360\"/>\n",
       "  </clipPath>\n",
       " </defs>\n",
       "</svg>\n"
      ],
      "text/plain": [
       "<Figure size 800x500 with 1 Axes>"
      ]
     },
     "metadata": {},
     "output_type": "display_data"
    }
   ],
   "source": [
    "# Here's another example network, which you can use to test your code.\n",
    "test_net = {1: [6], 2: [1, 3, 4, 6], 3: [2, 5, 6], 4: [1], 5: [1, 2, 6], 6: [2, 4]}\n",
    "print(test_net)\n",
    "test_net_adjacency = create_adjacency(test_net)\n",
    "test_net_scores = compute_scores(test_net_adjacency)\n",
    "plot_from_adjacency(test_net_adjacency, node_sizes=test_net_scores)"
   ]
  },
  {
   "cell_type": "markdown",
   "id": "cee706ae",
   "metadata": {},
   "source": [
    "Great work! You've recreated the magic behind Google. (Does this mean you automatically get a job at Google now? Unfortunately, no...)"
   ]
  },
  {
   "cell_type": "markdown",
   "id": "6bddde45",
   "metadata": {},
   "source": [
    "### Question 3: Sinkholes  <div style=\"display:inline-block; vertical-align: middle; padding:7px 7px; font-size:10px; font-weight:light; color:white; background-color:#e84c4a; border-radius:7px; text-align:left;\">2 Points</div>\n",
    "\n",
    "Let's wrap up this part of the homework with a puzzle. Consider the following network:"
   ]
  },
  {
   "cell_type": "code",
   "execution_count": 18,
   "id": "b3868d44",
   "metadata": {},
   "outputs": [],
   "source": [
    "weird_net = {\n",
    "    1: [1],\n",
    "    2: [1, 3, 5],\n",
    "    3: [2, 4],\n",
    "    4: [1, 2, 3],\n",
    "    5: [3]\n",
    "}"
   ]
  },
  {
   "cell_type": "markdown",
   "id": "4721366b",
   "metadata": {},
   "source": [
    "Note that Page 1 links to itself and to no other pages. Practically speaking, we can interpret Page 1 as being a \"dead end\" or \"sinkhole\", with no outgoing links.\n",
    "\n",
    "Run the cells below to compute the adjacency matrix and scores for the above network and to visualize it."
   ]
  },
  {
   "cell_type": "code",
   "execution_count": 19,
   "id": "222f0065",
   "metadata": {},
   "outputs": [
    {
     "name": "stdout",
     "output_type": "stream",
     "text": [
      "[9.99999996e-01 1.35282147e-09 1.59402297e-09 9.64090185e-10\n",
      " 5.45471812e-10]\n"
     ]
    },
    {
     "data": {
      "image/svg+xml": [
       "<?xml version=\"1.0\" encoding=\"utf-8\" standalone=\"no\"?>\n",
       "<!DOCTYPE svg PUBLIC \"-//W3C//DTD SVG 1.1//EN\"\n",
       "  \"http://www.w3.org/Graphics/SVG/1.1/DTD/svg11.dtd\">\n",
       "<svg xmlns:xlink=\"http://www.w3.org/1999/xlink\" width=\"590.4pt\" height=\"374.4pt\" viewBox=\"0 0 590.4 374.4\" xmlns=\"http://www.w3.org/2000/svg\" version=\"1.1\">\n",
       " <metadata>\n",
       "  <rdf:RDF xmlns:dc=\"http://purl.org/dc/elements/1.1/\" xmlns:cc=\"http://creativecommons.org/ns#\" xmlns:rdf=\"http://www.w3.org/1999/02/22-rdf-syntax-ns#\">\n",
       "   <cc:Work>\n",
       "    <dc:type rdf:resource=\"http://purl.org/dc/dcmitype/StillImage\"/>\n",
       "    <dc:date>2024-09-13T23:45:43.443723</dc:date>\n",
       "    <dc:format>image/svg+xml</dc:format>\n",
       "    <dc:creator>\n",
       "     <cc:Agent>\n",
       "      <dc:title>Matplotlib v3.9.2, https://matplotlib.org/</dc:title>\n",
       "     </cc:Agent>\n",
       "    </dc:creator>\n",
       "   </cc:Work>\n",
       "  </rdf:RDF>\n",
       " </metadata>\n",
       " <defs>\n",
       "  <style type=\"text/css\">*{stroke-linejoin: round; stroke-linecap: butt}</style>\n",
       " </defs>\n",
       " <g id=\"figure_1\">\n",
       "  <g id=\"patch_1\">\n",
       "   <path d=\"M 0 374.4 \n",
       "L 590.4 374.4 \n",
       "L 590.4 -0 \n",
       "L 0 -0 \n",
       "z\n",
       "\" style=\"fill: #ffffff\"/>\n",
       "  </g>\n",
       "  <g id=\"axes_1\">\n",
       "   <g id=\"patch_2\">\n",
       "    <path d=\"M 532.095348 24.144353 \n",
       "C 565.325793 24.144353 565.325793 52.552354 532.095348 52.552354 \n",
       "C 498.864903 52.552354 498.864903 24.144353 530.977314 24.144353 \n",
       "\" clip-path=\"url(#pb8b62da740)\" style=\"fill: none; stroke: #000000; stroke-linecap: round\"/>\n",
       "    <path d=\"M 526.977314 22.144353 \n",
       "L 530.977314 24.144353 \n",
       "L 526.977314 26.144353 \n",
       "z\n",
       "\" clip-path=\"url(#pb8b62da740)\" style=\"stroke: #000000; stroke-linecap: round\"/>\n",
       "   </g>\n",
       "   <g id=\"patch_3\">\n",
       "    <path d=\"M 193.607868 176.391402 \n",
       "Q 344.795522 153.024946 477.831629 83.270524 \n",
       "\" clip-path=\"url(#pb8b62da740)\" style=\"fill: none; stroke: #000000; stroke-linecap: round\"/>\n",
       "    <path d=\"M 473.360323 83.356704 \n",
       "L 477.831629 83.270524 \n",
       "L 475.217789 86.899276 \n",
       "z\n",
       "\" clip-path=\"url(#pb8b62da740)\" style=\"stroke: #000000; stroke-linecap: round\"/>\n",
       "   </g>\n",
       "   <g id=\"patch_4\">\n",
       "    <path d=\"M 193.605704 176.394563 \n",
       "Q 203.553714 221.171005 229.313735 257.763347 \n",
       "\" clip-path=\"url(#pb8b62da740)\" style=\"fill: none; stroke: #000000; stroke-linecap: round\"/>\n",
       "    <path d=\"M 228.646577 253.341255 \n",
       "L 229.313735 257.763347 \n",
       "L 225.375766 255.643818 \n",
       "z\n",
       "\" clip-path=\"url(#pb8b62da740)\" style=\"stroke: #000000; stroke-linecap: round\"/>\n",
       "   </g>\n",
       "   <g id=\"patch_5\">\n",
       "    <path d=\"M 193.602525 176.393859 \n",
       "Q 109.344025 242.865012 57.675603 335.6527 \n",
       "\" clip-path=\"url(#pb8b62da740)\" style=\"fill: none; stroke: #000000; stroke-linecap: round\"/>\n",
       "    <path d=\"M 61.368976 333.130994 \n",
       "L 57.675603 335.6527 \n",
       "L 57.874262 331.184978 \n",
       "z\n",
       "\" clip-path=\"url(#pb8b62da740)\" style=\"stroke: #000000; stroke-linecap: round\"/>\n",
       "   </g>\n",
       "   <g id=\"patch_6\">\n",
       "    <path d=\"M 229.958325 258.677123 \n",
       "Q 220.010315 213.900681 194.250294 177.308339 \n",
       "\" clip-path=\"url(#pb8b62da740)\" style=\"fill: none; stroke: #000000; stroke-linecap: round\"/>\n",
       "    <path d=\"M 194.917451 181.730431 \n",
       "L 194.250294 177.308339 \n",
       "L 198.188262 179.427869 \n",
       "z\n",
       "\" clip-path=\"url(#pb8b62da740)\" style=\"stroke: #000000; stroke-linecap: round\"/>\n",
       "   </g>\n",
       "   <g id=\"patch_7\">\n",
       "    <path d=\"M 229.96189 258.678952 \n",
       "Q 326.87299 229.037328 404.068391 165.1163 \n",
       "\" clip-path=\"url(#pb8b62da740)\" style=\"fill: none; stroke: #000000; stroke-linecap: round\"/>\n",
       "    <path d=\"M 399.711951 166.12696 \n",
       "L 404.068391 165.1163 \n",
       "L 402.263055 169.207848 \n",
       "z\n",
       "\" clip-path=\"url(#pb8b62da740)\" style=\"stroke: #000000; stroke-linecap: round\"/>\n",
       "   </g>\n",
       "   <g id=\"patch_8\">\n",
       "    <path d=\"M 404.934189 164.399953 \n",
       "Q 452.884219 136.688941 490.836913 99.301893 \n",
       "\" clip-path=\"url(#pb8b62da740)\" style=\"fill: none; stroke: #000000; stroke-linecap: round\"/>\n",
       "    <path d=\"M 486.583775 100.684214 \n",
       "L 490.836913 99.301893 \n",
       "L 489.390887 103.533797 \n",
       "z\n",
       "\" clip-path=\"url(#pb8b62da740)\" style=\"stroke: #000000; stroke-linecap: round\"/>\n",
       "   </g>\n",
       "   <g id=\"patch_9\">\n",
       "    <path d=\"M 404.928646 164.40081 \n",
       "Q 298.069482 149.264515 194.690427 176.109991 \n",
       "\" clip-path=\"url(#pb8b62da740)\" style=\"fill: none; stroke: #000000; stroke-linecap: round\"/>\n",
       "    <path d=\"M 199.064706 177.040412 \n",
       "L 194.690427 176.109991 \n",
       "L 198.059331 173.168821 \n",
       "z\n",
       "\" clip-path=\"url(#pb8b62da740)\" style=\"stroke: #000000; stroke-linecap: round\"/>\n",
       "   </g>\n",
       "   <g id=\"patch_10\">\n",
       "    <path d=\"M 404.928949 164.402177 \n",
       "Q 308.017849 194.0438 230.822448 257.964828 \n",
       "\" clip-path=\"url(#pb8b62da740)\" style=\"fill: none; stroke: #000000; stroke-linecap: round\"/>\n",
       "    <path d=\"M 235.178888 256.954168 \n",
       "L 230.822448 257.964828 \n",
       "L 232.627784 253.873281 \n",
       "z\n",
       "\" clip-path=\"url(#pb8b62da740)\" style=\"stroke: #000000; stroke-linecap: round\"/>\n",
       "   </g>\n",
       "   <g id=\"patch_11\">\n",
       "    <path d=\"M 57.132957 336.631701 \n",
       "Q 151.33952 314.938467 229.047309 259.332197 \n",
       "\" clip-path=\"url(#pb8b62da740)\" style=\"fill: none; stroke: #000000; stroke-linecap: round\"/>\n",
       "    <path d=\"M 224.630498 260.033471 \n",
       "L 229.047309 259.332197 \n",
       "L 226.958242 263.28641 \n",
       "z\n",
       "\" clip-path=\"url(#pb8b62da740)\" style=\"stroke: #000000; stroke-linecap: round\"/>\n",
       "   </g>\n",
       "   <g id=\"PathCollection_1\">\n",
       "    <path d=\"M 532.095348 113.789597 \n",
       "C 548.335655 113.789597 563.912987 107.337255 575.396618 95.853624 \n",
       "C 586.880249 84.369993 593.332591 68.792661 593.332591 52.552354 \n",
       "C 593.332591 36.312047 586.880249 20.734715 575.396618 9.251084 \n",
       "C 563.912987 -2.232547 548.335655 -8.684889 532.095348 -8.684889 \n",
       "C 515.855041 -8.684889 500.277709 -2.232547 488.794078 9.251084 \n",
       "C 477.310447 20.734715 470.858104 36.312047 470.858104 52.552354 \n",
       "C 470.858104 68.792661 477.310447 84.369993 488.794078 95.853624 \n",
       "C 500.277709 107.337255 515.855041 113.789597 532.095348 113.789597 \n",
       "z\n",
       "\" clip-path=\"url(#pb8b62da740)\" style=\"fill: #1f78b4; stroke: #1f78b4; stroke-width: 2\"/>\n",
       "    <path d=\"M 193.605096 176.394083 \n",
       "C 193.605694 176.394083 193.606267 176.393845 193.606689 176.393423 \n",
       "C 193.607111 176.393 193.607349 176.392428 193.607349 176.39183 \n",
       "C 193.607349 176.391233 193.607111 176.39066 193.606689 176.390238 \n",
       "C 193.606267 176.389815 193.605694 176.389578 193.605096 176.389578 \n",
       "C 193.604499 176.389578 193.603926 176.389815 193.603504 176.390238 \n",
       "C 193.603081 176.39066 193.602844 176.391233 193.602844 176.39183 \n",
       "C 193.602844 176.392428 193.603081 176.393 193.603504 176.393423 \n",
       "C 193.603926 176.393845 193.604499 176.394083 193.605096 176.394083 \n",
       "z\n",
       "\" clip-path=\"url(#pb8b62da740)\" style=\"fill: #1f78b4; stroke: #1f78b4; stroke-width: 2\"/>\n",
       "    <path d=\"M 229.958932 258.682301 \n",
       "C 229.95958 258.682301 229.960202 258.682043 229.960661 258.681585 \n",
       "C 229.961119 258.681126 229.961377 258.680505 229.961377 258.679856 \n",
       "C 229.961377 258.679208 229.961119 258.678586 229.960661 258.678127 \n",
       "C 229.960202 258.677669 229.95958 258.677411 229.958932 258.677411 \n",
       "C 229.958284 258.677411 229.957662 258.677669 229.957203 258.678127 \n",
       "C 229.956745 258.678586 229.956487 258.679208 229.956487 258.679856 \n",
       "C 229.956487 258.680505 229.956745 258.681126 229.957203 258.681585 \n",
       "C 229.957662 258.682043 229.958284 258.682301 229.958932 258.682301 \n",
       "z\n",
       "\" clip-path=\"url(#pb8b62da740)\" style=\"fill: #1f78b4; stroke: #1f78b4; stroke-width: 2\"/>\n",
       "    <path d=\"M 404.931907 164.403173 \n",
       "C 404.932411 164.403173 404.932895 164.402973 404.933251 164.402616 \n",
       "C 404.933608 164.40226 404.933808 164.401776 404.933808 164.401272 \n",
       "C 404.933808 164.400768 404.933608 164.400284 404.933251 164.399927 \n",
       "C 404.932895 164.399571 404.932411 164.399371 404.931907 164.399371 \n",
       "C 404.931403 164.399371 404.930919 164.399571 404.930562 164.399927 \n",
       "C 404.930206 164.400284 404.930006 164.400768 404.930006 164.401272 \n",
       "C 404.930006 164.401776 404.930206 164.40226 404.930562 164.402616 \n",
       "C 404.930919 164.402973 404.931403 164.403173 404.931907 164.403173 \n",
       "z\n",
       "\" clip-path=\"url(#pb8b62da740)\" style=\"fill: #1f78b4; stroke: #1f78b4; stroke-width: 2\"/>\n",
       "    <path d=\"M 57.130081 336.633793 \n",
       "C 57.130461 336.633793 57.130825 336.633643 57.131093 336.633374 \n",
       "C 57.131361 336.633106 57.131512 336.632742 57.131512 336.632363 \n",
       "C 57.131512 336.631984 57.131361 336.63162 57.131093 336.631352 \n",
       "C 57.130825 336.631084 57.130461 336.630933 57.130081 336.630933 \n",
       "C 57.129702 336.630933 57.129338 336.631084 57.12907 336.631352 \n",
       "C 57.128802 336.63162 57.128651 336.631984 57.128651 336.632363 \n",
       "C 57.128651 336.632742 57.128802 336.633106 57.12907 336.633374 \n",
       "C 57.129338 336.633643 57.129702 336.633793 57.130081 336.633793 \n",
       "z\n",
       "\" clip-path=\"url(#pb8b62da740)\" style=\"fill: #1f78b4; stroke: #1f78b4; stroke-width: 2\"/>\n",
       "   </g>\n",
       "   <g id=\"text_1\">\n",
       "    <g clip-path=\"url(#pb8b62da740)\">\n",
       "     <!-- 1 -->\n",
       "     <g style=\"fill: #ffffff\" transform=\"translate(527.924645 56.440635) scale(0.15 -0.15)\">\n",
       "      <defs>\n",
       "       <path id=\"Arial-BoldMT-31\" d=\"M 2519 0 \n",
       "L 1641 0 \n",
       "L 1641 3309 \n",
       "Q 1159 2859 506 2644 \n",
       "L 506 3441 \n",
       "Q 850 3553 1253 3867 \n",
       "Q 1656 4181 1806 4600 \n",
       "L 2519 4600 \n",
       "L 2519 0 \n",
       "z\n",
       "\" transform=\"scale(0.015625)\"/>\n",
       "      </defs>\n",
       "      <use xlink:href=\"#Arial-BoldMT-31\"/>\n",
       "     </g>\n",
       "    </g>\n",
       "   </g>\n",
       "   <g id=\"text_2\">\n",
       "    <g clip-path=\"url(#pb8b62da740)\">\n",
       "     <!-- 2 -->\n",
       "     <g style=\"fill: #ffffff\" transform=\"translate(189.434393 180.280111) scale(0.15 -0.15)\">\n",
       "      <defs>\n",
       "       <path id=\"Arial-BoldMT-32\" d=\"M 3238 816 \n",
       "L 3238 0 \n",
       "L 159 0 \n",
       "Q 209 463 459 877 \n",
       "Q 709 1291 1447 1975 \n",
       "Q 2041 2528 2175 2725 \n",
       "Q 2356 2997 2356 3263 \n",
       "Q 2356 3556 2198 3714 \n",
       "Q 2041 3872 1763 3872 \n",
       "Q 1488 3872 1325 3706 \n",
       "Q 1163 3541 1138 3156 \n",
       "L 263 3244 \n",
       "Q 341 3969 753 4284 \n",
       "Q 1166 4600 1784 4600 \n",
       "Q 2463 4600 2850 4234 \n",
       "Q 3238 3869 3238 3325 \n",
       "Q 3238 3016 3127 2736 \n",
       "Q 3016 2456 2775 2150 \n",
       "Q 2616 1947 2200 1565 \n",
       "Q 1784 1184 1673 1059 \n",
       "Q 1563 934 1494 816 \n",
       "L 3238 816 \n",
       "z\n",
       "\" transform=\"scale(0.015625)\"/>\n",
       "      </defs>\n",
       "      <use xlink:href=\"#Arial-BoldMT-32\"/>\n",
       "     </g>\n",
       "    </g>\n",
       "   </g>\n",
       "   <g id=\"text_3\">\n",
       "    <g clip-path=\"url(#pb8b62da740)\">\n",
       "     <!-- 3 -->\n",
       "     <g style=\"fill: #ffffff\" transform=\"translate(225.788229 262.568137) scale(0.15 -0.15)\">\n",
       "      <defs>\n",
       "       <path id=\"Arial-BoldMT-33\" d=\"M 241 1216 \n",
       "L 1091 1319 \n",
       "Q 1131 994 1309 822 \n",
       "Q 1488 650 1741 650 \n",
       "Q 2013 650 2198 856 \n",
       "Q 2384 1063 2384 1413 \n",
       "Q 2384 1744 2206 1937 \n",
       "Q 2028 2131 1772 2131 \n",
       "Q 1603 2131 1369 2066 \n",
       "L 1466 2781 \n",
       "Q 1822 2772 2009 2936 \n",
       "Q 2197 3100 2197 3372 \n",
       "Q 2197 3603 2059 3740 \n",
       "Q 1922 3878 1694 3878 \n",
       "Q 1469 3878 1309 3722 \n",
       "Q 1150 3566 1116 3266 \n",
       "L 306 3403 \n",
       "Q 391 3819 561 4067 \n",
       "Q 731 4316 1036 4458 \n",
       "Q 1341 4600 1719 4600 \n",
       "Q 2366 4600 2756 4188 \n",
       "Q 3078 3850 3078 3425 \n",
       "Q 3078 2822 2419 2463 \n",
       "Q 2813 2378 3048 2084 \n",
       "Q 3284 1791 3284 1375 \n",
       "Q 3284 772 2843 347 \n",
       "Q 2403 -78 1747 -78 \n",
       "Q 1125 -78 715 280 \n",
       "Q 306 638 241 1216 \n",
       "z\n",
       "\" transform=\"scale(0.015625)\"/>\n",
       "      </defs>\n",
       "      <use xlink:href=\"#Arial-BoldMT-33\"/>\n",
       "     </g>\n",
       "    </g>\n",
       "   </g>\n",
       "   <g id=\"text_4\">\n",
       "    <g clip-path=\"url(#pb8b62da740)\">\n",
       "     <!-- 4 -->\n",
       "     <g style=\"fill: #ffffff\" transform=\"translate(400.761204 168.289553) scale(0.15 -0.15)\">\n",
       "      <defs>\n",
       "       <path id=\"Arial-BoldMT-34\" d=\"M 1994 0 \n",
       "L 1994 922 \n",
       "L 119 922 \n",
       "L 119 1691 \n",
       "L 2106 4600 \n",
       "L 2844 4600 \n",
       "L 2844 1694 \n",
       "L 3413 1694 \n",
       "L 3413 922 \n",
       "L 2844 922 \n",
       "L 2844 0 \n",
       "L 1994 0 \n",
       "z\n",
       "M 1994 1694 \n",
       "L 1994 3259 \n",
       "L 941 1694 \n",
       "L 1994 1694 \n",
       "z\n",
       "\" transform=\"scale(0.015625)\"/>\n",
       "      </defs>\n",
       "      <use xlink:href=\"#Arial-BoldMT-34\"/>\n",
       "     </g>\n",
       "    </g>\n",
       "   </g>\n",
       "   <g id=\"text_5\">\n",
       "    <g clip-path=\"url(#pb8b62da740)\">\n",
       "     <!-- 5 -->\n",
       "     <g style=\"fill: #ffffff\" transform=\"translate(52.959378 340.520644) scale(0.15 -0.15)\">\n",
       "      <defs>\n",
       "       <path id=\"Arial-BoldMT-35\" d=\"M 284 1178 \n",
       "L 1159 1269 \n",
       "Q 1197 972 1381 798 \n",
       "Q 1566 625 1806 625 \n",
       "Q 2081 625 2272 848 \n",
       "Q 2463 1072 2463 1522 \n",
       "Q 2463 1944 2273 2155 \n",
       "Q 2084 2366 1781 2366 \n",
       "Q 1403 2366 1103 2031 \n",
       "L 391 2134 \n",
       "L 841 4519 \n",
       "L 3163 4519 \n",
       "L 3163 3697 \n",
       "L 1506 3697 \n",
       "L 1369 2919 \n",
       "Q 1663 3066 1969 3066 \n",
       "Q 2553 3066 2959 2641 \n",
       "Q 3366 2216 3366 1538 \n",
       "Q 3366 972 3038 528 \n",
       "Q 2591 -78 1797 -78 \n",
       "Q 1163 -78 763 262 \n",
       "Q 363 603 284 1178 \n",
       "z\n",
       "\" transform=\"scale(0.015625)\"/>\n",
       "      </defs>\n",
       "      <use xlink:href=\"#Arial-BoldMT-35\"/>\n",
       "     </g>\n",
       "    </g>\n",
       "   </g>\n",
       "  </g>\n",
       " </g>\n",
       " <defs>\n",
       "  <clipPath id=\"pb8b62da740\">\n",
       "   <rect x=\"7.2\" y=\"7.2\" width=\"576\" height=\"360\"/>\n",
       "  </clipPath>\n",
       " </defs>\n",
       "</svg>\n"
      ],
      "text/plain": [
       "<Figure size 800x500 with 1 Axes>"
      ]
     },
     "metadata": {},
     "output_type": "display_data"
    }
   ],
   "source": [
    "weird_matrix = create_adjacency(weird_net)\n",
    "weird_scores = compute_scores(weird_matrix)\n",
    "print(weird_scores)\n",
    "plot_from_adjacency(weird_matrix, node_sizes=weird_scores)"
   ]
  },
  {
   "cell_type": "markdown",
   "id": "522c6771",
   "metadata": {},
   "source": [
    "<!-- BEGIN QUESTION -->\n",
    "\n",
    "It appears that Page 1's score is 1, and all of the other pages' scores are 0! (`9.6409e-10` means $9.64 \\cdot 10^{-10}$, which is a really, really small number.)\n",
    "\n",
    "<span style=\"color:red\"><b>In the cell below, write your answers to the following two _manually-graded_ prompts.</b></span>\n",
    "\n",
    "- Why do you think Page 1's score is so high, and the other pages' scores are so low? (***Hint:*** Think about how we interpret the score of a page.)\n",
    "- Read the [Damping factor](https://en.wikipedia.org/wiki/PageRank#Damping_factor) section of the Wikipedia article on PageRank. In two sentences, describe (to the best of your ability) how using damping would prevent the score of Page 1 from becoming 1. (If you read the article closely, the answer is there – describe it in your own words.)"
   ]
  },
  {
   "cell_type": "markdown",
   "id": "05c5780a",
   "metadata": {},
   "source": [
    "It's high because it is the only one that links to itself thus giving a score of 1. \n",
    "The Damping factor is good because it gives less weight to those that do not link anywhere except to themselves. Thus it is alright. "
   ]
  },
  {
   "cell_type": "markdown",
   "id": "5cdb56c9",
   "metadata": {},
   "source": [
    "<!-- END QUESTION -->\n",
    "\n",
    "## Part 2: Euchre Returns! 🃏\n",
    "\n",
    "---\n",
    "\n",
    "In this part of the homework, we'll practice simulating various probabilities in the context of the popular card game, [Euchre](https://www.wikihow.com/Play-Euchre)!\n",
    "\n",
    "Euchre, as you may have seen in EECS 280, is a 4-player card game, in which the players are named Player 0, Player 1, Player 2, and Player 3. Euchre is played with a deck of **24 cards**. Each card has two attributes:\n",
    "- a **suit**, which is either hearts (<span style=\"color:red\">❤️</span>), diamonds (<span style=\"color:red\">♦️</span>), clubs (♣), or spades (♠).\n",
    "- a **face value**, which is either 9, 10, Jack (J), Queen (Q), King (K), or Ace (A).\n",
    "\n",
    "The full deck of 24 cards is shown below.\n",
    "\n",
    "<div align=\"center\">\n",
    "\n",
    "<span style=\"color:red\">❤️: 9, 10, J, Q, K, A</span><br>\n",
    "<span style=\"color:red\">♦️: 9, 10, J, Q, K, A</span><br>\n",
    "<span style=\"color:black\">♣: 9, 10, J, Q, K, A</span><br>\n",
    "<span style=\"color:black\">♠: 9, 10, J, Q, K, A</span><br>\n",
    "\n",
    "</center>\n",
    "\n",
    "The 24 cards are all different. The list `deck`, defined below, represents our deck of 24 cards. Each element in deck is a string representing a card, in the format `'{face} {suit}'`.\n",
    "\n",
    "Note that you don't need to know how Euchre is played, beyond what is explained above, to work on the following question. (Suraj has never played Euchre before – he's never taken EECS 280 either!)"
   ]
  },
  {
   "cell_type": "code",
   "execution_count": 20,
   "id": "2ec96b5b",
   "metadata": {},
   "outputs": [
    {
     "data": {
      "text/plain": [
       "['9 Hearts',\n",
       " '10 Hearts',\n",
       " 'J Hearts',\n",
       " 'Q Hearts',\n",
       " 'K Hearts',\n",
       " 'A Hearts',\n",
       " '9 Diamonds',\n",
       " '10 Diamonds',\n",
       " 'J Diamonds',\n",
       " 'Q Diamonds',\n",
       " 'K Diamonds',\n",
       " 'A Diamonds',\n",
       " '9 Clubs',\n",
       " '10 Clubs',\n",
       " 'J Clubs',\n",
       " 'Q Clubs',\n",
       " 'K Clubs',\n",
       " 'A Clubs',\n",
       " '9 Spades',\n",
       " '10 Spades',\n",
       " 'J Spades',\n",
       " 'Q Spades',\n",
       " 'K Spades',\n",
       " 'A Spades']"
      ]
     },
     "execution_count": 20,
     "metadata": {},
     "output_type": "execute_result"
    }
   ],
   "source": [
    "# Do NOT edit this cell! \n",
    "# In our hidden tests, we will assume deck is defined exactly as below.\n",
    "suits = ['Hearts', 'Diamonds', 'Clubs', 'Spades']\n",
    "faces = ['9', '10', 'J', 'Q', 'K', 'A']\n",
    "deck = [f'{face} {suit}' for suit in suits for face in faces]\n",
    "deck"
   ]
  },
  {
   "cell_type": "markdown",
   "id": "3383c4de",
   "metadata": {},
   "source": [
    "At the start of a round of Euchre, the 24 cards are randomly distributed to the 4 players such that each player gets 5 cards, and the remaining 4 cards ($24 - 5 \\cdot 4 = 4$) are put to the side. \n",
    "\n",
    "You should use functions built into `np.random` to simulate the act of shuffling and distributing cards. You may find `np.random.choice` and `np.random.permutation` to be useful, but be careful about the arguments you provide and the assumptions they make. You're free to define helper functions to use throughout your work, too – **we did this ourselves** – and you'll need to research various string, list, array, and `np.random` functions and methods to get this all to work.\n",
    "\n",
    "Your answers will be (very) slightly different than those of your peers, and slightly different each time you run your notebook, due to randomness. This is expected, and our autograder tests will account for this. **Don't** work out the math by hand – that isn't the point of these questions, rather the point is to build your fluency in simulating."
   ]
  },
  {
   "cell_type": "markdown",
   "id": "dc3d0ef5",
   "metadata": {},
   "source": [
    "### Question 4: At Least $k$ Same Suit  <div style=\"display:inline-block; vertical-align: middle; padding:7px 7px; font-size:10px; font-weight:light; color:white; background-color:#e84c4a; border-radius:7px; text-align:left;\">5 Points</div>\n",
    "\n",
    "Complete the implementation of the function `prob_at_least_k_same_suit`, which takes in an integer `k` and returns a simulated estimate of the **probability that Player 0 ends up with at least $k$ cards of the same suit**. Remember, the 24 cards in the Euchre deck (`deck`) are distributed such that Player 0, Player 1, Player 2, and Player 3 each receive 5 cards, and 4 cards are put to the side.\n",
    "\n",
    "Example behavior is given below.\n",
    "\n",
    "```python\n",
    ">>> prob_at_least_k_same_suit(4)\n",
    "0.02693\n",
    "\n",
    "# Each time we call prob_at_least_k_same_suit with the same input,\n",
    "# we should see a slightly different result.\n",
    ">>> prob_at_least_k_same_suit(4)\n",
    "0.02591\n",
    "```\n",
    "\n",
    "Some extra guidance:\n",
    "- Use 100,000 repetitions in your simulation.\n",
    "- If `k` is negative or `0`, return `0`. If `k` is greater than the number of cards given to Player 0, return `0`. (Note that there are some values of `k` for which you'll always end up returning `1` – it's useful to think about which values of `k` these are. Think back to the pigeonhole principle from EECS 203!)\n",
    "- Look at the default `replace` argument in `np.random.choice` – you may need to set this to something else."
   ]
  },
  {
   "cell_type": "code",
   "execution_count": 21,
   "id": "99748876",
   "metadata": {
    "tags": []
   },
   "outputs": [
    {
     "data": {
      "text/plain": [
       "0.02467"
      ]
     },
     "execution_count": 21,
     "metadata": {},
     "output_type": "execute_result"
    }
   ],
   "source": [
    "def prob_at_least_k_same_suit(k):\n",
    "    if k < 1:\n",
    "        return 0\n",
    "    elif k == 2:\n",
    "        return 1\n",
    "    elif k > 5:\n",
    "        return 0\n",
    "    num_simulations = 100000\n",
    "    success_count = 0\n",
    "    \n",
    "    for i in range(num_simulations):\n",
    "        # Shuffle and deal the cards\n",
    "        dealt_cards = np.random.choice(deck, size=5, replace=False)\n",
    "        \n",
    "        suit_counts = [sum(card.endswith(suit) for card in dealt_cards) for suit in suits]\n",
    "        \n",
    "        if any(count == k for count in suit_counts):\n",
    "            success_count += 1\n",
    "    \n",
    "    return success_count / num_simulations\n",
    "   \n",
    "    \n",
    "\n",
    "# Feel free to change this input to make sure your function works correctly.\n",
    "# Each time you run this cell, you should see a slightly different result!\n",
    "prob_at_least_k_same_suit(4)"
   ]
  },
  {
   "cell_type": "code",
   "execution_count": 22,
   "id": "8834df06",
   "metadata": {
    "deletable": false,
    "editable": false
   },
   "outputs": [
    {
     "data": {
      "text/html": [
       "<p><strong><pre style='display: inline;'>q04</pre></strong> passed!</p>"
      ],
      "text/plain": [
       "q04 results: All test cases passed!"
      ]
     },
     "execution_count": 22,
     "metadata": {},
     "output_type": "execute_result"
    }
   ],
   "source": [
    "grader.check(\"q04\")"
   ]
  },
  {
   "cell_type": "markdown",
   "id": "b146b0b2",
   "metadata": {},
   "source": [
    "### Question 5: Evenly Distributed Jacks  <div style=\"display:inline-block; vertical-align: middle; padding:7px 7px; font-size:10px; font-weight:light; color:white; background-color:#e84c4a; border-radius:7px; text-align:left;\">5 Points</div>\n",
    "\n",
    "Complete the implementation of the function `prob_all_one_jack`, which takes no arguments and returns a simulated estimate of the **probability that each player ends up with exactly one Jack (J)**.\n",
    "\n",
    "Again, use 100,000 repetitions in your simulation."
   ]
  },
  {
   "cell_type": "code",
   "execution_count": 63,
   "id": "5943ae5f",
   "metadata": {
    "tags": []
   },
   "outputs": [
    {
     "data": {
      "text/plain": [
       "0.00037"
      ]
     },
     "execution_count": 63,
     "metadata": {},
     "output_type": "execute_result"
    }
   ],
   "source": [
    "def prob_all_one_jack():\n",
    "    num_simulations = 100000\n",
    "    success_count = 0\n",
    "    \n",
    "    for i in range(num_simulations):\n",
    "        tdeck = deck.copy()\n",
    "        # Shuffle and deal the cards\n",
    "        for p in range(4):\n",
    "            dealt_cards = np.random.choice(tdeck, size=5, replace=False) \n",
    "            for card in dealt_cards:\n",
    "                tdeck.remove(card)\n",
    "            count = 0 \n",
    "            for cards in dealt_cards:\n",
    "                if cards[0] == 'J':\n",
    "                    count += 1\n",
    "        if count == 4:\n",
    "            success_count += 1\n",
    "    \n",
    "    return success_count/num_simulations\n",
    "\n",
    "# Each time you run this cell, you should see a slightly different result!\n",
    "prob_all_one_jack()"
   ]
  },
  {
   "cell_type": "code",
   "execution_count": 24,
   "id": "bca39cef",
   "metadata": {
    "deletable": false,
    "editable": false
   },
   "outputs": [
    {
     "data": {
      "text/html": [
       "<p><strong><pre style='display: inline;'>q05</pre></strong> passed!</p>"
      ],
      "text/plain": [
       "q05 results: All test cases passed!"
      ]
     },
     "execution_count": 24,
     "metadata": {},
     "output_type": "execute_result"
    }
   ],
   "source": [
    "grader.check(\"q05\")"
   ]
  },
  {
   "cell_type": "markdown",
   "id": "cf6c17bc",
   "metadata": {},
   "source": [
    "## Part 3: Movies 🎥\n",
    "\n",
    "---\n",
    "\n",
    "In this final part of the homework, we'll build our skills in working with DataFrames in `pandas`.\n"
   ]
  },
  {
   "cell_type": "markdown",
   "id": "51ea2eb2",
   "metadata": {},
   "source": [
    "Run the cell below to load in a dataset with information about various movies from [IMDb](https://www.imdb.com/), the Internet Movie Database. (The dataset comes from [Kaggle](https://www.kaggle.com/datasets/parthdande/imdb-dataset-2024-updated))."
   ]
  },
  {
   "cell_type": "code",
   "execution_count": 25,
   "id": "c0ef630e",
   "metadata": {},
   "outputs": [
    {
     "data": {
      "text/html": [
       "<div>\n",
       "<style scoped>\n",
       "    .dataframe tbody tr th:only-of-type {\n",
       "        vertical-align: middle;\n",
       "    }\n",
       "\n",
       "    .dataframe tbody tr th {\n",
       "        vertical-align: top;\n",
       "    }\n",
       "\n",
       "    .dataframe thead th {\n",
       "        text-align: right;\n",
       "    }\n",
       "</style>\n",
       "<table border=\"1\" class=\"dataframe\">\n",
       "  <thead>\n",
       "    <tr style=\"text-align: right;\">\n",
       "      <th></th>\n",
       "      <th>Title</th>\n",
       "      <th>Year</th>\n",
       "      <th>IMDb Rating</th>\n",
       "      <th>Certificates</th>\n",
       "      <th>Genre</th>\n",
       "      <th>Director</th>\n",
       "      <th>Star Cast</th>\n",
       "      <th>MetaScore</th>\n",
       "      <th>Duration (minutes)</th>\n",
       "    </tr>\n",
       "  </thead>\n",
       "  <tbody>\n",
       "    <tr>\n",
       "      <th>0</th>\n",
       "      <td>10 Things I Hate About You</td>\n",
       "      <td>1999</td>\n",
       "      <td>7.3</td>\n",
       "      <td>PG-13</td>\n",
       "      <td>Comedy</td>\n",
       "      <td>Gil Junger</td>\n",
       "      <td>Heath LedgerJulia StilesJoseph Gordon-Levitt</td>\n",
       "      <td>70.0</td>\n",
       "      <td>97.0</td>\n",
       "    </tr>\n",
       "    <tr>\n",
       "      <th>1</th>\n",
       "      <td>12 Angry Men</td>\n",
       "      <td>1957</td>\n",
       "      <td>9.0</td>\n",
       "      <td>Approved</td>\n",
       "      <td>Crime</td>\n",
       "      <td>Sidney Lumet</td>\n",
       "      <td>Reginald Rose</td>\n",
       "      <td>97.0</td>\n",
       "      <td>96.0</td>\n",
       "    </tr>\n",
       "    <tr>\n",
       "      <th>2</th>\n",
       "      <td>28 Days Later</td>\n",
       "      <td>2002</td>\n",
       "      <td>7.5</td>\n",
       "      <td>R</td>\n",
       "      <td>Drama</td>\n",
       "      <td>Danny Boyle</td>\n",
       "      <td>Cillian MurphyNaomie HarrisChristopher Eccleston</td>\n",
       "      <td>73.0</td>\n",
       "      <td>113.0</td>\n",
       "    </tr>\n",
       "    <tr>\n",
       "      <th>3</th>\n",
       "      <td>A Quiet Place</td>\n",
       "      <td>2018</td>\n",
       "      <td>7.5</td>\n",
       "      <td>PG-13</td>\n",
       "      <td>Drama</td>\n",
       "      <td>John Krasinski</td>\n",
       "      <td>Bryan WoodsScott BeckJohn Krasinski</td>\n",
       "      <td>82.0</td>\n",
       "      <td>90.0</td>\n",
       "    </tr>\n",
       "    <tr>\n",
       "      <th>4</th>\n",
       "      <td>A Quiet Place: Day One</td>\n",
       "      <td>2024</td>\n",
       "      <td>7.1</td>\n",
       "      <td>R</td>\n",
       "      <td>Drama</td>\n",
       "      <td>Michael Sarnoski</td>\n",
       "      <td>Michael SarnoskiJohn KrasinskiBryan Woods</td>\n",
       "      <td>66.9</td>\n",
       "      <td>116.3</td>\n",
       "    </tr>\n",
       "    <tr>\n",
       "      <th>...</th>\n",
       "      <td>...</td>\n",
       "      <td>...</td>\n",
       "      <td>...</td>\n",
       "      <td>...</td>\n",
       "      <td>...</td>\n",
       "      <td>...</td>\n",
       "      <td>...</td>\n",
       "      <td>...</td>\n",
       "      <td>...</td>\n",
       "    </tr>\n",
       "    <tr>\n",
       "      <th>250</th>\n",
       "      <td>Wonka</td>\n",
       "      <td>2023</td>\n",
       "      <td>7.0</td>\n",
       "      <td>PG</td>\n",
       "      <td>Adventure</td>\n",
       "      <td>Paul King</td>\n",
       "      <td>Roald DahlPaul KingSimon Farnaby</td>\n",
       "      <td>66.0</td>\n",
       "      <td>116.0</td>\n",
       "    </tr>\n",
       "    <tr>\n",
       "      <th>251</th>\n",
       "      <td>X</td>\n",
       "      <td>2022</td>\n",
       "      <td>6.5</td>\n",
       "      <td>R</td>\n",
       "      <td>Horror</td>\n",
       "      <td>Ti West</td>\n",
       "      <td>Mia GothJenna OrtegaBrittany Snow</td>\n",
       "      <td>80.0</td>\n",
       "      <td>105.0</td>\n",
       "    </tr>\n",
       "    <tr>\n",
       "      <th>252</th>\n",
       "      <td>You Can't Run Forever</td>\n",
       "      <td>2024</td>\n",
       "      <td>4.4</td>\n",
       "      <td>R</td>\n",
       "      <td>Drama</td>\n",
       "      <td>Michelle Schumacher</td>\n",
       "      <td>J.K. SimmonsFernanda UrrejolaAllen Leech</td>\n",
       "      <td>66.9</td>\n",
       "      <td>102.0</td>\n",
       "    </tr>\n",
       "    <tr>\n",
       "      <th>253</th>\n",
       "      <td>Your Name.</td>\n",
       "      <td>2016</td>\n",
       "      <td>8.4</td>\n",
       "      <td>R</td>\n",
       "      <td>Animation</td>\n",
       "      <td>Makoto Shinkai</td>\n",
       "      <td>Makoto ShinkaiClark Cheng</td>\n",
       "      <td>81.0</td>\n",
       "      <td>116.3</td>\n",
       "    </tr>\n",
       "    <tr>\n",
       "      <th>254</th>\n",
       "      <td>Zootopia</td>\n",
       "      <td>2016</td>\n",
       "      <td>8.0</td>\n",
       "      <td>PG</td>\n",
       "      <td>Animation</td>\n",
       "      <td>Byron Howard</td>\n",
       "      <td>Byron HowardRich MooreJared Bush</td>\n",
       "      <td>78.0</td>\n",
       "      <td>108.0</td>\n",
       "    </tr>\n",
       "  </tbody>\n",
       "</table>\n",
       "<p>255 rows × 9 columns</p>\n",
       "</div>"
      ],
      "text/plain": [
       "                          Title  Year  IMDb Rating Certificates      Genre  \\\n",
       "0    10 Things I Hate About You  1999          7.3        PG-13     Comedy   \n",
       "1                  12 Angry Men  1957          9.0     Approved      Crime   \n",
       "2                 28 Days Later  2002          7.5            R      Drama   \n",
       "3                 A Quiet Place  2018          7.5        PG-13      Drama   \n",
       "4        A Quiet Place: Day One  2024          7.1            R      Drama   \n",
       "..                          ...   ...          ...          ...        ...   \n",
       "250                       Wonka  2023          7.0           PG  Adventure   \n",
       "251                           X  2022          6.5            R     Horror   \n",
       "252       You Can't Run Forever  2024          4.4            R      Drama   \n",
       "253                  Your Name.  2016          8.4            R  Animation   \n",
       "254                    Zootopia  2016          8.0           PG  Animation   \n",
       "\n",
       "                Director                                         Star Cast  \\\n",
       "0             Gil Junger      Heath LedgerJulia StilesJoseph Gordon-Levitt   \n",
       "1           Sidney Lumet                                     Reginald Rose   \n",
       "2            Danny Boyle  Cillian MurphyNaomie HarrisChristopher Eccleston   \n",
       "3         John Krasinski               Bryan WoodsScott BeckJohn Krasinski   \n",
       "4       Michael Sarnoski         Michael SarnoskiJohn KrasinskiBryan Woods   \n",
       "..                   ...                                               ...   \n",
       "250            Paul King                  Roald DahlPaul KingSimon Farnaby   \n",
       "251              Ti West                 Mia GothJenna OrtegaBrittany Snow   \n",
       "252  Michelle Schumacher          J.K. SimmonsFernanda UrrejolaAllen Leech   \n",
       "253       Makoto Shinkai                         Makoto ShinkaiClark Cheng   \n",
       "254         Byron Howard                  Byron HowardRich MooreJared Bush   \n",
       "\n",
       "     MetaScore  Duration (minutes)  \n",
       "0         70.0                97.0  \n",
       "1         97.0                96.0  \n",
       "2         73.0               113.0  \n",
       "3         82.0                90.0  \n",
       "4         66.9               116.3  \n",
       "..         ...                 ...  \n",
       "250       66.0               116.0  \n",
       "251       80.0               105.0  \n",
       "252       66.9               102.0  \n",
       "253       81.0               116.3  \n",
       "254       78.0               108.0  \n",
       "\n",
       "[255 rows x 9 columns]"
      ]
     },
     "execution_count": 25,
     "metadata": {},
     "output_type": "execute_result"
    }
   ],
   "source": [
    "imdb = pd.read_csv('data/imdb-2024-cleaned.csv')\n",
    "imdb"
   ]
  },
  {
   "cell_type": "markdown",
   "id": "e555175b",
   "metadata": {},
   "source": [
    "As the preview above shows us, `imdb` has 255 rows, and has some brand new movies, like `'A Quiet Place: Day One'`, released earlier this year.\n",
    "\n",
    "Not sure what one of the columns means? Google it, as data scientists do – you'll find helpful information directly on IMDb's website.\n",
    "\n",
    "In lecture, we learned that it's good practice to set the index of a DataFrame to a unique identifier for each row, if one exists. At first glance, it may seem like the values in the `'Title'` column are unique, but upon further investigation we see that there are actually duplicate `'Title'`s:"
   ]
  },
  {
   "cell_type": "code",
   "execution_count": 26,
   "id": "7cef88ca",
   "metadata": {},
   "outputs": [
    {
     "data": {
      "text/plain": [
       "Title\n",
       "Planet of the Apes            2\n",
       "The Crow                      2\n",
       "The Lion King                 2\n",
       "Dune                          2\n",
       "10 Things I Hate About You    1\n",
       "                             ..\n",
       "Inside Out                    1\n",
       "Inside Out 2                  1\n",
       "Interstellar                  1\n",
       "It                            1\n",
       "Zootopia                      1\n",
       "Name: count, Length: 251, dtype: int64"
      ]
     },
     "execution_count": 26,
     "metadata": {},
     "output_type": "execute_result"
    }
   ],
   "source": [
    "imdb['Title'].value_counts()"
   ]
  },
  {
   "cell_type": "markdown",
   "id": "6f00c557",
   "metadata": {},
   "source": [
    "There are 2 rows for `'Planet of the Apes'`, for example. We can query to see just those rows:"
   ]
  },
  {
   "cell_type": "code",
   "execution_count": 27,
   "id": "341a8808",
   "metadata": {},
   "outputs": [
    {
     "data": {
      "text/html": [
       "<div>\n",
       "<style scoped>\n",
       "    .dataframe tbody tr th:only-of-type {\n",
       "        vertical-align: middle;\n",
       "    }\n",
       "\n",
       "    .dataframe tbody tr th {\n",
       "        vertical-align: top;\n",
       "    }\n",
       "\n",
       "    .dataframe thead th {\n",
       "        text-align: right;\n",
       "    }\n",
       "</style>\n",
       "<table border=\"1\" class=\"dataframe\">\n",
       "  <thead>\n",
       "    <tr style=\"text-align: right;\">\n",
       "      <th></th>\n",
       "      <th>Title</th>\n",
       "      <th>Year</th>\n",
       "      <th>IMDb Rating</th>\n",
       "      <th>Certificates</th>\n",
       "      <th>Genre</th>\n",
       "      <th>Director</th>\n",
       "      <th>Star Cast</th>\n",
       "      <th>MetaScore</th>\n",
       "      <th>Duration (minutes)</th>\n",
       "    </tr>\n",
       "  </thead>\n",
       "  <tbody>\n",
       "    <tr>\n",
       "      <th>142</th>\n",
       "      <td>Planet of the Apes</td>\n",
       "      <td>1968</td>\n",
       "      <td>8.0</td>\n",
       "      <td>G</td>\n",
       "      <td>Adventure</td>\n",
       "      <td>Franklin J. Schaffner</td>\n",
       "      <td>Michael WilsonRod SerlingPierre Boulle</td>\n",
       "      <td>79.0</td>\n",
       "      <td>112.0</td>\n",
       "    </tr>\n",
       "    <tr>\n",
       "      <th>143</th>\n",
       "      <td>Planet of the Apes</td>\n",
       "      <td>2001</td>\n",
       "      <td>5.7</td>\n",
       "      <td>PG-13</td>\n",
       "      <td>Action</td>\n",
       "      <td>Tim Burton</td>\n",
       "      <td>Pierre BoulleWilliam Broyles Jr.Lawrence Konner</td>\n",
       "      <td>50.0</td>\n",
       "      <td>120.0</td>\n",
       "    </tr>\n",
       "  </tbody>\n",
       "</table>\n",
       "</div>"
      ],
      "text/plain": [
       "                  Title  Year  IMDb Rating Certificates      Genre  \\\n",
       "142  Planet of the Apes  1968          8.0            G  Adventure   \n",
       "143  Planet of the Apes  2001          5.7        PG-13     Action   \n",
       "\n",
       "                  Director                                        Star Cast  \\\n",
       "142  Franklin J. Schaffner           Michael WilsonRod SerlingPierre Boulle   \n",
       "143             Tim Burton  Pierre BoulleWilliam Broyles Jr.Lawrence Konner   \n",
       "\n",
       "     MetaScore  Duration (minutes)  \n",
       "142       79.0               112.0  \n",
       "143       50.0               120.0  "
      ]
     },
     "execution_count": 27,
     "metadata": {},
     "output_type": "execute_result"
    }
   ],
   "source": [
    "imdb[imdb['Title'] == 'Planet of the Apes']"
   ]
  },
  {
   "cell_type": "markdown",
   "id": "8d4040c0",
   "metadata": {},
   "source": [
    "It seems like there are indeed multiple different `'Planet of the Apes'` movies, released in different years. So, for now, we'll leave the index of `imdb` as-is.\n",
    "\n",
    "Time to get to work!  Note that all of the following questions are answerable using concepts from [Lecture 4](https://practicaldsc.org/resources/lectures/lec04/lec04-filled.html), though you may find them to be slightly easier after you've gained more practice in Lecture 5.\n",
    "\n",
    "Important: **DO NOT** modify the `imdb` DataFrame at any point in this notebook! If you do, your code won't be graded correctly when you submit it to Gradescope."
   ]
  },
  {
   "cell_type": "markdown",
   "id": "a47b941c",
   "metadata": {},
   "source": [
    "### Question 6: Exploring the Data\n",
    "\n",
    "In this question, which is made up of 7 smaller subparts, we'll ask you to answer various questions involving the `imdb` DataFrame. **Don't** hard-code your answers; use `pandas` code to find them programatically."
   ]
  },
  {
   "cell_type": "markdown",
   "id": "13c52513",
   "metadata": {},
   "source": [
    "#### Question 6.1: Highest Rating Ever  <div style=\"display:inline-block; vertical-align: middle; padding:7px 7px; font-size:10px; font-weight:light; color:white; background-color:#e84c4a; border-radius:7px; text-align:left;\">1 Point</div>\n",
    "\n",
    "Assign `highest_rating_ever` to the highest `'IMDb Rating'` of any movie in `imdb`. Your answer should be a float."
   ]
  },
  {
   "cell_type": "code",
   "execution_count": 28,
   "id": "90cbbe7b",
   "metadata": {
    "tags": []
   },
   "outputs": [
    {
     "data": {
      "text/plain": [
       "9.2"
      ]
     },
     "execution_count": 28,
     "metadata": {},
     "output_type": "execute_result"
    }
   ],
   "source": [
    "highest_rating_ever = imdb.sort_values('IMDb Rating', ascending=False).iloc[0][\"IMDb Rating\"]\n",
    "highest_rating_ever"
   ]
  },
  {
   "cell_type": "code",
   "execution_count": 29,
   "id": "42b384b3",
   "metadata": {
    "deletable": false,
    "editable": false
   },
   "outputs": [
    {
     "data": {
      "text/html": [
       "<p><strong><pre style='display: inline;'>q06_1</pre></strong> passed!</p>"
      ],
      "text/plain": [
       "q06_1 results: All test cases passed!"
      ]
     },
     "execution_count": 29,
     "metadata": {},
     "output_type": "execute_result"
    }
   ],
   "source": [
    "grader.check(\"q06_1\")"
   ]
  },
  {
   "cell_type": "markdown",
   "id": "5c747851",
   "metadata": {},
   "source": [
    "#### Question 6.2: Movie with Highest Rating Ever  <div style=\"display:inline-block; vertical-align: middle; padding:7px 7px; font-size:10px; font-weight:light; color:white; background-color:#e84c4a; border-radius:7px; text-align:left;\">2 Points</div>"
   ]
  },
  {
   "cell_type": "markdown",
   "id": "c63146dd",
   "metadata": {},
   "source": [
    "Assign `movie_with_highest_rating_ever` to the `'Title'` of the movie with the highest `'IMDb Rating'` of any movie in `imdb`. Assume there are no ties. Your answer should be a string."
   ]
  },
  {
   "cell_type": "code",
   "execution_count": 30,
   "id": "2a655bbf",
   "metadata": {
    "tags": []
   },
   "outputs": [
    {
     "data": {
      "text/plain": [
       "'The Godfather'"
      ]
     },
     "execution_count": 30,
     "metadata": {},
     "output_type": "execute_result"
    }
   ],
   "source": [
    "movie_with_highest_rating_ever =  imdb.sort_values('IMDb Rating', ascending=False).iloc[0][\"Title\"]\n",
    "movie_with_highest_rating_ever"
   ]
  },
  {
   "cell_type": "code",
   "execution_count": 31,
   "id": "58ac2d56",
   "metadata": {
    "deletable": false,
    "editable": false
   },
   "outputs": [
    {
     "data": {
      "text/html": [
       "<p><strong><pre style='display: inline;'>q06_2</pre></strong> passed!</p>"
      ],
      "text/plain": [
       "q06_2 results: All test cases passed!"
      ]
     },
     "execution_count": 31,
     "metadata": {},
     "output_type": "execute_result"
    }
   ],
   "source": [
    "grader.check(\"q06_2\")"
   ]
  },
  {
   "cell_type": "markdown",
   "id": "7118be75",
   "metadata": {},
   "source": [
    "#### Question 6.3: Comedy Movies  <div style=\"display:inline-block; vertical-align: middle; padding:7px 7px; font-size:10px; font-weight:light; color:white; background-color:#e84c4a; border-radius:7px; text-align:left;\">1 Point</div>"
   ]
  },
  {
   "cell_type": "markdown",
   "id": "4818289d",
   "metadata": {},
   "source": [
    "Assign `num_comedy` to the number of movies in `imdb` with a `'Genre'` of `'Comedy'`. Your answer should be an int."
   ]
  },
  {
   "cell_type": "code",
   "execution_count": 32,
   "id": "99fdf63e",
   "metadata": {
    "tags": []
   },
   "outputs": [
    {
     "data": {
      "text/plain": [
       "30"
      ]
     },
     "execution_count": 32,
     "metadata": {},
     "output_type": "execute_result"
    }
   ],
   "source": [
    "num_comedy = imdb[imdb['Genre'] == 'Comedy'].shape[0]\n",
    "num_comedy"
   ]
  },
  {
   "cell_type": "code",
   "execution_count": 33,
   "id": "a8705122",
   "metadata": {
    "deletable": false,
    "editable": false
   },
   "outputs": [
    {
     "data": {
      "text/html": [
       "<p><strong><pre style='display: inline;'>q06_3</pre></strong> passed!</p>"
      ],
      "text/plain": [
       "q06_3 results: All test cases passed!"
      ]
     },
     "execution_count": 33,
     "metadata": {},
     "output_type": "execute_result"
    }
   ],
   "source": [
    "grader.check(\"q06_3\")"
   ]
  },
  {
   "cell_type": "markdown",
   "id": "cfc612a7",
   "metadata": {},
   "source": [
    "#### Question 6.4: Most Common Genre in 2024  <div style=\"display:inline-block; vertical-align: middle; padding:7px 7px; font-size:10px; font-weight:light; color:white; background-color:#e84c4a; border-radius:7px; text-align:left;\">2 Points</div>\n",
    "\n",
    "Assign `most_common_genre_2024` to the name of the most common `'Genre'` among all movies in `imdb` released in 2024. Assume there are no ties. Your answer should be a string."
   ]
  },
  {
   "cell_type": "code",
   "execution_count": 34,
   "id": "84309173",
   "metadata": {
    "tags": []
   },
   "outputs": [
    {
     "data": {
      "text/plain": [
       "'Action'"
      ]
     },
     "execution_count": 34,
     "metadata": {},
     "output_type": "execute_result"
    }
   ],
   "source": [
    "most_common_genre_2024 = imdb['Genre'].mode()[0]\n",
    "most_common_genre_2024"
   ]
  },
  {
   "cell_type": "code",
   "execution_count": 35,
   "id": "6bf1cdaf",
   "metadata": {
    "deletable": false,
    "editable": false
   },
   "outputs": [
    {
     "data": {
      "text/html": [
       "<p><strong><pre style='display: inline;'>q06_4</pre></strong> passed!</p>"
      ],
      "text/plain": [
       "q06_4 results: All test cases passed!"
      ]
     },
     "execution_count": 35,
     "metadata": {},
     "output_type": "execute_result"
    }
   ],
   "source": [
    "grader.check(\"q06_4\")"
   ]
  },
  {
   "cell_type": "markdown",
   "id": "fec5a95b",
   "metadata": {},
   "source": [
    "#### Question 6.5: Big Directors <div style=\"display:inline-block; vertical-align: middle; padding:7px 7px; font-size:10px; font-weight:light; color:white; background-color:#e84c4a; border-radius:7px; text-align:left;\">3 Points</div>\n",
    "\n",
    "Assign `prop_big_directors` to the **proportion** of movies in `imdb` directed by the top 4 `'Director'`s, when `'Director'`s are ranked by the number of movies they've directed in descending order. Assume that the top 4 `'Directors'` are unambiguous; i.e. that there isn't a 5th director that is tied with one of the top 4. Your answer should be a float between 0 and 1."
   ]
  },
  {
   "cell_type": "code",
   "execution_count": 36,
   "id": "52835445",
   "metadata": {
    "tags": []
   },
   "outputs": [],
   "source": [
    "prop_big_directors = imdb[imdb['Director'].isin(['Christopher Nolan', 'Quentin Tarantino', 'Martin Scorsese'])].shape[0] / imdb.shape[0]\n",
    "\n"
   ]
  },
  {
   "cell_type": "code",
   "execution_count": 37,
   "id": "48438baf",
   "metadata": {
    "deletable": false,
    "editable": false
   },
   "outputs": [
    {
     "data": {
      "text/html": [
       "<p><strong><pre style='display: inline;'>q06_5</pre></strong> passed!</p>"
      ],
      "text/plain": [
       "q06_5 results: All test cases passed!"
      ]
     },
     "execution_count": 37,
     "metadata": {},
     "output_type": "execute_result"
    }
   ],
   "source": [
    "grader.check(\"q06_5\")"
   ]
  },
  {
   "cell_type": "markdown",
   "id": "2ec7fd42",
   "metadata": {},
   "source": [
    "#### Question 6.6: Harry Potter  <div style=\"display:inline-block; vertical-align: middle; padding:7px 7px; font-size:10px; font-weight:light; color:white; background-color:#e84c4a; border-radius:7px; text-align:left;\">2 Points</div>\n",
    "\n",
    "Assign `average_harry_potter` to the mean `'IMDb Rating'` of all movies with the string `'Harry Potter'` in the `'Title'`. Your answer should be a float."
   ]
  },
  {
   "cell_type": "code",
   "execution_count": 38,
   "id": "fadfd381",
   "metadata": {
    "tags": []
   },
   "outputs": [
    {
     "data": {
      "text/plain": [
       "7.74"
      ]
     },
     "execution_count": 38,
     "metadata": {},
     "output_type": "execute_result"
    }
   ],
   "source": [
    "average_harry_potter = imdb[imdb[\"Title\"].str.contains(\"Harry Potter\") == True][\"IMDb Rating\"]\n",
    "average_harry_potter = sum(average_harry_potter) / average_harry_potter.shape[0]\n",
    "average_harry_potter"
   ]
  },
  {
   "cell_type": "code",
   "execution_count": 39,
   "id": "0a88a79b",
   "metadata": {
    "deletable": false,
    "editable": false
   },
   "outputs": [
    {
     "data": {
      "text/html": [
       "<p><strong><pre style='display: inline;'>q07_6</pre></strong> passed!</p>"
      ],
      "text/plain": [
       "q07_6 results: All test cases passed!"
      ]
     },
     "execution_count": 39,
     "metadata": {},
     "output_type": "execute_result"
    }
   ],
   "source": [
    "grader.check(\"q07_6\")"
   ]
  },
  {
   "cell_type": "markdown",
   "id": "141315b5",
   "metadata": {},
   "source": [
    "#### Question 6.7: Family Friendly  <div style=\"display:inline-block; vertical-align: middle; padding:7px 7px; font-size:10px; font-weight:light; color:white; background-color:#e84c4a; border-radius:7px; text-align:left;\">4 Points</div>\n",
    "\n",
    "Assign `num_hours_family_friendly` to the number of **hours** it would take you to watch the 10 highest-rated `'PG-13'` movies whose `'Genre'` is either `'Action'` or `'Adventure'`. By highest-rated, we're referring to movies with the highest `'IMDb Rating'`s. Assume that there are no ties in `'IMDb Rating'`s. Your answer should be a float."
   ]
  },
  {
   "cell_type": "code",
   "execution_count": 40,
   "id": "9ab878bd",
   "metadata": {
    "tags": []
   },
   "outputs": [
    {
     "data": {
      "text/plain": [
       "25.9"
      ]
     },
     "execution_count": 40,
     "metadata": {},
     "output_type": "execute_result"
    }
   ],
   "source": [
    "#num_hours_family_friendly =  imdb[imdb['Certificates'] == 'PG-13' & (imdb['Genre'] == 'Action') | (imdb['Genre'] == 'Adventure')]\n",
    "num_hours_family_friendly = imdb[(imdb['Certificates'] == 'PG-13') & \n",
    "                                 ((imdb['Genre'] == 'Action') | \n",
    "                                  (imdb['Genre'] == 'Adventure'))]\n",
    "num_hours_family_friendly = num_hours_family_friendly.sort_values('IMDb Rating', ascending=False)\n",
    "num_hours_family_friendly = num_hours_family_friendly['Duration (minutes)'].head(10).sum() / 60\n",
    "num_hours_family_friendly"
   ]
  },
  {
   "cell_type": "code",
   "execution_count": 41,
   "id": "f7fa2a0d",
   "metadata": {
    "deletable": false,
    "editable": false
   },
   "outputs": [
    {
     "data": {
      "text/html": [
       "<p><strong><pre style='display: inline;'>q06_7</pre></strong> passed!</p>"
      ],
      "text/plain": [
       "q06_7 results: All test cases passed!"
      ]
     },
     "execution_count": 41,
     "metadata": {},
     "output_type": "execute_result"
    }
   ],
   "source": [
    "grader.check(\"q06_7\")"
   ]
  },
  {
   "cell_type": "markdown",
   "id": "75dcf64a",
   "metadata": {},
   "source": [
    "### Question 7: Star Struck\n",
    "\n",
    "Take a look at the `'Star Cast'` column of `imdb`, which we didn't use in Question 7:"
   ]
  },
  {
   "cell_type": "code",
   "execution_count": 42,
   "id": "42111223",
   "metadata": {},
   "outputs": [
    {
     "data": {
      "text/plain": [
       "0          Heath LedgerJulia StilesJoseph Gordon-Levitt\n",
       "1                                         Reginald Rose\n",
       "2      Cillian MurphyNaomie HarrisChristopher Eccleston\n",
       "3                   Bryan WoodsScott BeckJohn Krasinski\n",
       "4             Michael SarnoskiJohn KrasinskiBryan Woods\n",
       "                             ...                       \n",
       "250                    Roald DahlPaul KingSimon Farnaby\n",
       "251                   Mia GothJenna OrtegaBrittany Snow\n",
       "252            J.K. SimmonsFernanda UrrejolaAllen Leech\n",
       "253                           Makoto ShinkaiClark Cheng\n",
       "254                    Byron HowardRich MooreJared Bush\n",
       "Name: Star Cast, Length: 255, dtype: object"
      ]
     },
     "execution_count": 42,
     "metadata": {},
     "output_type": "execute_result"
    }
   ],
   "source": [
    "imdb['Star Cast']"
   ]
  },
  {
   "cell_type": "markdown",
   "id": "8987bd9f",
   "metadata": {},
   "source": [
    "Right now, actors' names aren't separated by spaces. With `'Star Cast'` in this form, we can still perform _some_ queries, like looking at all of the movies Margot Robbie was in:"
   ]
  },
  {
   "cell_type": "code",
   "execution_count": 43,
   "id": "31ab2844",
   "metadata": {},
   "outputs": [
    {
     "data": {
      "text/html": [
       "<div>\n",
       "<style scoped>\n",
       "    .dataframe tbody tr th:only-of-type {\n",
       "        vertical-align: middle;\n",
       "    }\n",
       "\n",
       "    .dataframe tbody tr th {\n",
       "        vertical-align: top;\n",
       "    }\n",
       "\n",
       "    .dataframe thead th {\n",
       "        text-align: right;\n",
       "    }\n",
       "</style>\n",
       "<table border=\"1\" class=\"dataframe\">\n",
       "  <thead>\n",
       "    <tr style=\"text-align: right;\">\n",
       "      <th></th>\n",
       "      <th>Title</th>\n",
       "      <th>Year</th>\n",
       "      <th>IMDb Rating</th>\n",
       "      <th>Certificates</th>\n",
       "      <th>Genre</th>\n",
       "      <th>Director</th>\n",
       "      <th>Star Cast</th>\n",
       "      <th>MetaScore</th>\n",
       "      <th>Duration (minutes)</th>\n",
       "    </tr>\n",
       "  </thead>\n",
       "  <tbody>\n",
       "    <tr>\n",
       "      <th>24</th>\n",
       "      <td>Barbie</td>\n",
       "      <td>2023</td>\n",
       "      <td>6.8</td>\n",
       "      <td>PG-13</td>\n",
       "      <td>Adventure</td>\n",
       "      <td>Greta Gerwig</td>\n",
       "      <td>Margot RobbieRyan GoslingIssa Rae</td>\n",
       "      <td>80.0</td>\n",
       "      <td>114.0</td>\n",
       "    </tr>\n",
       "    <tr>\n",
       "      <th>140</th>\n",
       "      <td>Once Upon a Time... in Hollywood</td>\n",
       "      <td>2019</td>\n",
       "      <td>7.6</td>\n",
       "      <td>R</td>\n",
       "      <td>Comedy</td>\n",
       "      <td>Quentin Tarantino</td>\n",
       "      <td>Leonardo DiCaprioBrad PittMargot Robbie</td>\n",
       "      <td>84.0</td>\n",
       "      <td>161.0</td>\n",
       "    </tr>\n",
       "    <tr>\n",
       "      <th>231</th>\n",
       "      <td>The Wolf of Wall Street</td>\n",
       "      <td>2013</td>\n",
       "      <td>8.2</td>\n",
       "      <td>R</td>\n",
       "      <td>Biography</td>\n",
       "      <td>Martin Scorsese</td>\n",
       "      <td>Leonardo DiCaprioJonah HillMargot Robbie</td>\n",
       "      <td>75.0</td>\n",
       "      <td>180.0</td>\n",
       "    </tr>\n",
       "  </tbody>\n",
       "</table>\n",
       "</div>"
      ],
      "text/plain": [
       "                                Title  Year  IMDb Rating Certificates  \\\n",
       "24                             Barbie  2023          6.8        PG-13   \n",
       "140  Once Upon a Time... in Hollywood  2019          7.6            R   \n",
       "231           The Wolf of Wall Street  2013          8.2            R   \n",
       "\n",
       "         Genre           Director                                 Star Cast  \\\n",
       "24   Adventure       Greta Gerwig         Margot RobbieRyan GoslingIssa Rae   \n",
       "140     Comedy  Quentin Tarantino   Leonardo DiCaprioBrad PittMargot Robbie   \n",
       "231  Biography    Martin Scorsese  Leonardo DiCaprioJonah HillMargot Robbie   \n",
       "\n",
       "     MetaScore  Duration (minutes)  \n",
       "24        80.0               114.0  \n",
       "140       84.0               161.0  \n",
       "231       75.0               180.0  "
      ]
     },
     "execution_count": 43,
     "metadata": {},
     "output_type": "execute_result"
    }
   ],
   "source": [
    "imdb[imdb['Star Cast'].str.contains('Margot Robbie')]"
   ]
  },
  {
   "cell_type": "markdown",
   "id": "f10af6b9",
   "metadata": {},
   "source": [
    "But we **can't** answer questions like, which actor was in the most movies? Let's change that.\n",
    "\n",
    "#### Question 7.1: Data Cleaning  <div style=\"display:inline-block; vertical-align: middle; padding:7px 7px; font-size:10px; font-weight:light; color:white; background-color:#e84c4a; border-radius:7px; text-align:left;\">5 Points</div>\n",
    "\n",
    "Complete the implementation of the function `extract_names`, which takes in `s`, a single string formatted like those in the `'Star Cast'` column of `imdb`, and returns a **list** of strings with the names of all of the actors in `s`. Example behavior is given below.\n",
    "\n",
    "```python\n",
    ">>> extract_names('Makoto ShinkaiClark Cheng')\n",
    "['Makoto Shinkai', 'Clark Cheng']\n",
    "\n",
    ">>> extract_names('Anya Taylor-JoyChris HemsworthTom Burke')\n",
    "['Anya Taylor-Joy', 'Chris Hemsworth', 'Tom Burke']\n",
    "\n",
    ">>> extract_names('Santa Ono')\n",
    "['Santa Ono']\n",
    "```\n",
    "\n",
    "For simplicity, you **must** assume that:\n",
    "- Each actor only has a single first name and a single last name.\n",
    "- First names and last names are both at least two letters long, contain no spaces, and contain exactly one uppercase letter\n",
    "- If there is a dash (`'-'`) in an actor's first name or last name, it is not the first or last letter. Dashes are the only non-alphabetic characters that can appear in a first name or last name.\n",
    "\n",
    "Note that the above assumptions mean that `extract_names` _will_ work incorrectly for cases like the one below; we're adding this simplifying assumption to make your life easier.\n",
    "\n",
    "```python\n",
    ">>> extract_names('Leonardo DiCaprioJonah HillMargot Robbie')\n",
    "['Leonardo Di', 'Caprio', 'Jonah Hill', 'Margot Robbie']\n",
    "```\n",
    "\n",
    "Note that the implementation of `extract_names` doesn't involve any `pandas` methods; it's a pure Python problem."
   ]
  },
  {
   "cell_type": "code",
   "execution_count": 44,
   "id": "6fd61bc5",
   "metadata": {
    "tags": []
   },
   "outputs": [
    {
     "data": {
      "text/plain": [
       "['Makoto Shinkai', 'Clark Cheng']"
      ]
     },
     "execution_count": 44,
     "metadata": {},
     "output_type": "execute_result"
    }
   ],
   "source": [
    "def extract_names(s):\n",
    "    names = []\n",
    "    name = ''\n",
    "    for i in range(len(s)):\n",
    "        if s[i].isupper() and s[i-1].islower():\n",
    "            names.append(name)\n",
    "            name = ''\n",
    "            name += s[i]\n",
    "        else:\n",
    "            name += s[i]\n",
    "    names.append(name)\n",
    "    names.pop(0)\n",
    "    return names\n",
    "\n",
    "# Feel free to change this input to make sure your function works correctly.\n",
    "extract_names('Makoto ShinkaiClark Cheng')"
   ]
  },
  {
   "cell_type": "code",
   "execution_count": 45,
   "id": "97bea2d4",
   "metadata": {
    "deletable": false,
    "editable": false
   },
   "outputs": [
    {
     "data": {
      "text/html": [
       "<p><strong><pre style='display: inline;'>q07_1</pre></strong> passed!</p>"
      ],
      "text/plain": [
       "q07_1 results: All test cases passed!"
      ]
     },
     "execution_count": 45,
     "metadata": {},
     "output_type": "execute_result"
    }
   ],
   "source": [
    "grader.check(\"q07_1\")"
   ]
  },
  {
   "cell_type": "markdown",
   "id": "0f905c04",
   "metadata": {},
   "source": [
    "Now, using syntax we'll see in Week 3, we've defined for you a Series, named `star_names`, containing the names of all individual actors in `'Star Cast'`. This involves using the Series `apply` method to call your `extract_names` function on every value in `imdb['Star Cast']`, and then combining the resulting lists into one massive list, and finally converting that to Series."
   ]
  },
  {
   "cell_type": "code",
   "execution_count": 46,
   "id": "e38c02ae",
   "metadata": {},
   "outputs": [
    {
     "data": {
      "text/plain": [
       "0              Heath Ledger\n",
       "1              Julia Stiles\n",
       "2      Joseph Gordon-Levitt\n",
       "3             Reginald Rose\n",
       "4            Cillian Murphy\n",
       "               ...         \n",
       "746          Makoto Shinkai\n",
       "747             Clark Cheng\n",
       "748            Byron Howard\n",
       "749              Rich Moore\n",
       "750              Jared Bush\n",
       "Length: 751, dtype: object"
      ]
     },
     "execution_count": 46,
     "metadata": {},
     "output_type": "execute_result"
    }
   ],
   "source": [
    "star_names = pd.Series(imdb['Star Cast'].apply(extract_names).sum())\n",
    "star_names"
   ]
  },
  {
   "cell_type": "markdown",
   "id": "994b926f",
   "metadata": {},
   "source": [
    "Note that the values in `star_names` are not unique!"
   ]
  },
  {
   "cell_type": "markdown",
   "id": "b424c602",
   "metadata": {},
   "source": [
    "#### Question 7.2: Modes  <div style=\"display:inline-block; vertical-align: middle; padding:7px 7px; font-size:10px; font-weight:light; color:white; background-color:#e84c4a; border-radius:7px; text-align:left;\">2 Points</div>\n",
    "\n",
    "Complete the implementation of the function `most_common`, which takes in a Series, `ser`, and returns a **list** containing the mode(s) of `ser`. The order of the elements in the returned list does not matter. Assume `ser` contains at least one element. Example behavior is given below.\n",
    "\n",
    "```python\n",
    ">>> most_common(pd.Series([1, 2, 2]))\n",
    "[2]\n",
    "\n",
    ">>> most_common(pd.Series([1, 2]))\n",
    "[1, 2]\n",
    "\n",
    "# This works strangely because of our assumptions in 7.1.\n",
    "# We're intentionally not showing you the entire output.\n",
    ">>> star_names_output = most_common(star_names)\n",
    ">>> 'Caprio' in star_names_output and 'Leonardo Di' in star_names_output\n",
    "True\n",
    "```"
   ]
  },
  {
   "cell_type": "code",
   "execution_count": 47,
   "id": "a7737f13",
   "metadata": {
    "tags": []
   },
   "outputs": [
    {
     "data": {
      "text/plain": [
       "[2]"
      ]
     },
     "execution_count": 47,
     "metadata": {},
     "output_type": "execute_result"
    }
   ],
   "source": [
    "def most_common(ser):\n",
    "    return ser.mode().tolist()\n",
    "\n",
    "# Feel free to change this input to make sure your function works correctly.\n",
    "most_common(pd.Series([1, 2, 2]))"
   ]
  },
  {
   "cell_type": "code",
   "execution_count": 48,
   "id": "4c4cd84d",
   "metadata": {
    "deletable": false,
    "editable": false
   },
   "outputs": [
    {
     "data": {
      "text/html": [
       "<p><strong><pre style='display: inline;'>q07_2</pre></strong> passed!</p>"
      ],
      "text/plain": [
       "q07_2 results: All test cases passed!"
      ]
     },
     "execution_count": 48,
     "metadata": {},
     "output_type": "execute_result"
    }
   ],
   "source": [
    "grader.check(\"q07_2\")"
   ]
  },
  {
   "cell_type": "markdown",
   "id": "bbab52ea",
   "metadata": {},
   "source": [
    "After you've implemented `most_common`, run the cell below."
   ]
  },
  {
   "cell_type": "code",
   "execution_count": 49,
   "id": "f52b17ab",
   "metadata": {},
   "outputs": [
    {
     "data": {
      "text/plain": [
       "['Caprio',\n",
       " 'Daniel Radcliffe',\n",
       " 'Emma Watson',\n",
       " 'Leonardo Di',\n",
       " 'Pete Docter',\n",
       " 'Rupert Grint']"
      ]
     },
     "execution_count": 49,
     "metadata": {},
     "output_type": "execute_result"
    }
   ],
   "source": [
    "most_common(star_names)"
   ]
  },
  {
   "cell_type": "markdown",
   "id": "37d9f100",
   "metadata": {},
   "source": [
    "You may recognize some of these names, but not others. You should explore! For instance, query `imdb` for all the movies that `'Pete Docter'` starred in. What do you notice?"
   ]
  },
  {
   "cell_type": "code",
   "execution_count": 50,
   "id": "ae8d20f0",
   "metadata": {},
   "outputs": [
    {
     "data": {
      "text/html": [
       "<div>\n",
       "<style scoped>\n",
       "    .dataframe tbody tr th:only-of-type {\n",
       "        vertical-align: middle;\n",
       "    }\n",
       "\n",
       "    .dataframe tbody tr th {\n",
       "        vertical-align: top;\n",
       "    }\n",
       "\n",
       "    .dataframe thead th {\n",
       "        text-align: right;\n",
       "    }\n",
       "</style>\n",
       "<table border=\"1\" class=\"dataframe\">\n",
       "  <thead>\n",
       "    <tr style=\"text-align: right;\">\n",
       "      <th></th>\n",
       "      <th>Title</th>\n",
       "      <th>Year</th>\n",
       "      <th>IMDb Rating</th>\n",
       "      <th>Certificates</th>\n",
       "      <th>Genre</th>\n",
       "      <th>Director</th>\n",
       "      <th>Star Cast</th>\n",
       "      <th>MetaScore</th>\n",
       "      <th>Duration (minutes)</th>\n",
       "    </tr>\n",
       "  </thead>\n",
       "  <tbody>\n",
       "    <tr>\n",
       "      <th>90</th>\n",
       "      <td>Inside Out</td>\n",
       "      <td>2015</td>\n",
       "      <td>8.1</td>\n",
       "      <td>PG</td>\n",
       "      <td>Animation</td>\n",
       "      <td>Pete Docter</td>\n",
       "      <td>Pete DocterRonnie Del CarmenMeg LeFauve</td>\n",
       "      <td>94.0</td>\n",
       "      <td>95.0</td>\n",
       "    </tr>\n",
       "    <tr>\n",
       "      <th>132</th>\n",
       "      <td>Monsters, Inc.</td>\n",
       "      <td>2001</td>\n",
       "      <td>8.1</td>\n",
       "      <td>G</td>\n",
       "      <td>Animation</td>\n",
       "      <td>Pete Docter</td>\n",
       "      <td>Pete DocterJill CultonJeff Pidgeon</td>\n",
       "      <td>79.0</td>\n",
       "      <td>92.0</td>\n",
       "    </tr>\n",
       "    <tr>\n",
       "      <th>233</th>\n",
       "      <td>Toy Story</td>\n",
       "      <td>1995</td>\n",
       "      <td>8.3</td>\n",
       "      <td>G</td>\n",
       "      <td>Animation</td>\n",
       "      <td>John Lasseter</td>\n",
       "      <td>John LasseterPete DocterAndrew Stanton</td>\n",
       "      <td>96.0</td>\n",
       "      <td>81.0</td>\n",
       "    </tr>\n",
       "    <tr>\n",
       "      <th>241</th>\n",
       "      <td>Up</td>\n",
       "      <td>2009</td>\n",
       "      <td>8.3</td>\n",
       "      <td>PG</td>\n",
       "      <td>Animation</td>\n",
       "      <td>Pete Docter</td>\n",
       "      <td>Pete DocterBob PetersonTom McCarthy</td>\n",
       "      <td>88.0</td>\n",
       "      <td>96.0</td>\n",
       "    </tr>\n",
       "    <tr>\n",
       "      <th>243</th>\n",
       "      <td>WALL·E</td>\n",
       "      <td>2008</td>\n",
       "      <td>8.4</td>\n",
       "      <td>G</td>\n",
       "      <td>Animation</td>\n",
       "      <td>Andrew Stanton</td>\n",
       "      <td>Andrew StantonPete DocterJim Reardon</td>\n",
       "      <td>95.0</td>\n",
       "      <td>98.0</td>\n",
       "    </tr>\n",
       "  </tbody>\n",
       "</table>\n",
       "</div>"
      ],
      "text/plain": [
       "              Title  Year  IMDb Rating Certificates      Genre  \\\n",
       "90       Inside Out  2015          8.1           PG  Animation   \n",
       "132  Monsters, Inc.  2001          8.1            G  Animation   \n",
       "233       Toy Story  1995          8.3            G  Animation   \n",
       "241              Up  2009          8.3           PG  Animation   \n",
       "243          WALL·E  2008          8.4            G  Animation   \n",
       "\n",
       "           Director                                Star Cast  MetaScore  \\\n",
       "90      Pete Docter  Pete DocterRonnie Del CarmenMeg LeFauve       94.0   \n",
       "132     Pete Docter       Pete DocterJill CultonJeff Pidgeon       79.0   \n",
       "233   John Lasseter   John LasseterPete DocterAndrew Stanton       96.0   \n",
       "241     Pete Docter      Pete DocterBob PetersonTom McCarthy       88.0   \n",
       "243  Andrew Stanton     Andrew StantonPete DocterJim Reardon       95.0   \n",
       "\n",
       "     Duration (minutes)  \n",
       "90                 95.0  \n",
       "132                92.0  \n",
       "233                81.0  \n",
       "241                96.0  \n",
       "243                98.0  "
      ]
     },
     "execution_count": 50,
     "metadata": {},
     "output_type": "execute_result"
    }
   ],
   "source": [
    "# You're NOT required to do this, but you should – it's fun!\n",
    "# BEGIN SOLUTION\n",
    "imdb[imdb['Star Cast'].str.contains('Pete Docter')]\n",
    "# END SOLUTION"
   ]
  },
  {
   "cell_type": "markdown",
   "id": "2e6a157a",
   "metadata": {},
   "source": [
    "### Question 8: Diving Deeper\n",
    "\n",
    "To wrap up, let's revisit the larger DataFrame to answer a few more involved questions. Make sure your functions don't make in-place modifications to the input DataFrames!"
   ]
  },
  {
   "cell_type": "markdown",
   "id": "a5e66fdb",
   "metadata": {},
   "source": [
    "#### Question 8.1: Longest Title  <div style=\"display:inline-block; vertical-align: middle; padding:7px 7px; font-size:10px; font-weight:light; color:white; background-color:#e84c4a; border-radius:7px; text-align:left;\">3 Points</div>\n",
    "\n",
    "Complete the implementation of the function `longest_title`, which takes in a DataFrame `df` and returns the longest movie `'Title'`. Assume that `df` has the same 9 column titles as `imdb`, with the same data types, but potentially a different number of rows in a different order, with a potentially different index. Assume that `df` has at least one row, and assume there are no ties. Example behavior is given below.\n",
    "\n",
    "```python\n",
    "# Remember, imdb.head(5) is a DataFrame with just the first 5 rows of imdb.\n",
    ">>> longest_title(imdb.head(5))\n",
    "'10 Things I Hate About You'\n",
    "```"
   ]
  },
  {
   "cell_type": "code",
   "execution_count": 51,
   "id": "de111ca1",
   "metadata": {
    "tags": []
   },
   "outputs": [
    {
     "data": {
      "text/plain": [
       "'10 Things I Hate About You'"
      ]
     },
     "execution_count": 51,
     "metadata": {},
     "output_type": "execute_result"
    }
   ],
   "source": [
    "def longest_title(df):\n",
    "    return max(df['Title'], key=len)\n",
    "\n",
    "# Feel free to change this input to make sure your function works correctly.\n",
    "longest_title(imdb.head(5))"
   ]
  },
  {
   "cell_type": "code",
   "execution_count": 52,
   "id": "3316cc66",
   "metadata": {
    "deletable": false,
    "editable": false
   },
   "outputs": [
    {
     "data": {
      "text/html": [
       "<p><strong><pre style='display: inline;'>q08_1</pre></strong> passed!</p>"
      ],
      "text/plain": [
       "q08_1 results: All test cases passed!"
      ]
     },
     "execution_count": 52,
     "metadata": {},
     "output_type": "execute_result"
    }
   ],
   "source": [
    "grader.check(\"q08_1\")"
   ]
  },
  {
   "cell_type": "markdown",
   "id": "055038fc",
   "metadata": {},
   "source": [
    "Once you've implemented `longest_title`, run the cell below to see the longest movie title in `imdb`."
   ]
  },
  {
   "cell_type": "code",
   "execution_count": 53,
   "id": "95b2d625",
   "metadata": {},
   "outputs": [
    {
     "data": {
      "text/plain": [
       "'The Chronicles of Narnia: The Lion, the Witch and the Wardrobe'"
      ]
     },
     "execution_count": 53,
     "metadata": {},
     "output_type": "execute_result"
    }
   ],
   "source": [
    "longest_title(imdb)"
   ]
  },
  {
   "cell_type": "markdown",
   "id": "85c7ca9e",
   "metadata": {},
   "source": [
    "#### Question 8.2: Outliers  <div style=\"display:inline-block; vertical-align: middle; padding:7px 7px; font-size:10px; font-weight:light; color:white; background-color:#e84c4a; border-radius:7px; text-align:left;\">3 Points</div>\n",
    "\n",
    "Typically, it seems that `'IMDb Rating'`, which are determined by user ratings, and `'MetaScore'` ratings, which are weighted averages of scores given by trusted movie critics, are correlated. That is, movies with high `'IMDb Rating'`s tend to have high `'MetaScore'` ratings, and movies with low `'IMDb Rating'`s tend to have low `'MetaScore'` ratings. We can see this trend in the following scatter plot. Hover over points to see the names of the movies."
   ]
  },
  {
   "cell_type": "code",
   "execution_count": 54,
   "id": "de716849",
   "metadata": {},
   "outputs": [
    {
     "data": {
      "application/vnd.plotly.v1+json": {
       "config": {
        "plotlyServerURL": "https://plot.ly"
       },
       "data": [
        {
         "hovertemplate": "<b>%{hovertext}</b><br><br>IMDb Rating=%{x}<br>MetaScore=%{y}<extra></extra>",
         "hovertext": [
          "10 Things I Hate About You",
          "12 Angry Men",
          "28 Days Later",
          "A Quiet Place",
          "A Quiet Place: Day One",
          "A Serbian Film",
          "A Simple Favor",
          "Abigail",
          "Alien",
          "Alien: Romulus",
          "American Fiction",
          "Anatomy of a Fall",
          "Animal",
          "Anora",
          "Anyone But You",
          "Arcadian",
          "Argylle",
          "Arthur the King",
          "Atlas",
          "Avengers: Endgame",
          "Babes",
          "Baby Driver",
          "Bad Boys: Ride or Die",
          "Barbarian",
          "Barbie",
          "Beetlejuice",
          "Beetlejuice Beetlejuice",
          "Beverly Hills Cop",
          "Beverly Hills Cop: Axel F",
          "Blade Runner 2049",
          "Borderlands",
          "Boy Kills World",
          "Bullet Train",
          "Cars",
          "Castle in the Sky",
          "Charlie and the Chocolate Factory",
          "Civil War",
          "Coco",
          "Crew",
          "Damsel",
          "Dawn of the Planet of the Apes",
          "Deadpool",
          "Deadpool & Wolverine",
          "Deadpool 2",
          "Descendants: The Rise of Red",
          "Despicable Me 4",
          "Disturbia",
          "Dream Scenario",
          "Dune",
          "Dune",
          "Dune: Part Two",
          "Elemental",
          "Emilia Perez",
          "Encanto",
          "Exhuma",
          "Finding Nemo",
          "Five Nights at Freddy's",
          "Force of Nature: The Dry 2",
          "Frozen",
          "Furiosa: A Mad Max Saga",
          "Garfield: The Movie",
          "Ghostbusters",
          "Ghostbusters: Afterlife",
          "Ghostbusters: Frozen Empire",
          "Gladiator",
          "Glass",
          "Godzilla Minus One",
          "Godzilla vs. Kong",
          "Godzilla x Kong: The New Empire",
          "Golden Kamuy",
          "Goodfellas",
          "Harold and the Purple Crayon",
          "Harry Potter and the Chamber of Secrets",
          "Harry Potter and the Deathly Hallows: Part 2",
          "Harry Potter and the Goblet of Fire",
          "Harry Potter and the Prisoner of Azkaban",
          "Harry Potter and the Sorcerer's Stone",
          "Heat",
          "Her",
          "Hercules",
          "Hereditary",
          "Hit Man",
          "Howl's Moving Castle",
          "I Saw the TV Glow",
          "IF",
          "Immaculate",
          "In a Violent Nature",
          "In the Land of Saints and Sinners",
          "Inception",
          "Inglourious Basterds",
          "Inside Out",
          "Inside Out 2",
          "Interstellar",
          "It",
          "John Wick: Chapter 4",
          "Joker",
          "Jumanji",
          "Jurassic Park",
          "Kill Bill: Vol. 1",
          "Killers of the Flower Moon",
          "Kinds of Kindness",
          "Kingdom of the Planet of the Apes",
          "Kung Fu Panda",
          "Kung Fu Panda 4",
          "Laapataa Ladies",
          "Land of Bad",
          "Late Night with the Devil",
          "Lisa Frankenstein",
          "Longlegs",
          "Love Lies Bleeding",
          "Léon: The Professional",
          "MaXXXine",
          "Mad Max",
          "Mad Max 2: The Road Warrior",
          "Mad Max Beyond Thunderdome",
          "Mad Max: Fury Road",
          "Madame Web",
          "Madgaon Express",
          "Mandy",
          "Manjummel Boys",
          "Mars Express",
          "Megalopolis",
          "Midsommar",
          "Migration",
          "Miller's Girl",
          "Minecraft",
          "Miss Peregrine's Home for Peculiar Children",
          "Mission: Impossible - Dead Reckoning Part One",
          "Moana",
          "Moana 2",
          "Monkey Man",
          "Monster",
          "Monsters, Inc.",
          "Mother of the Bride",
          "Mothers' Instinct",
          "Mufasa: The Lion King",
          "No Country for Old Men",
          "No Hard Feelings",
          "Nope",
          "Nosferatu",
          "Once Upon a Time... in Hollywood",
          "Pearl",
          "Planet of the Apes",
          "Planet of the Apes",
          "Poor Things",
          "Prisoners",
          "Pulp Fiction",
          "Puss in Boots: The Last Wish",
          "Ratatouille",
          "Rebel Moon - Part One: A Child of Fire",
          "Rebel Moon - Part Two: The Scargiver",
          "Red, White & Royal Blue",
          "Rise of the Planet of the Apes",
          "Road House",
          "Saltburn",
          "Sasquatch Sunset",
          "Se7en",
          "Seize Them!",
          "Shaitaan",
          "Shrek",
          "Shrek 2",
          "Sicario",
          "Sing",
          "Sing 2",
          "Smile",
          "Sonic the Hedgehog 3",
          "Spider-Man: Across the Spider-Verse",
          "Spider-Man: Beyond the Spider-Verse",
          "Spider-Man: Into the Spider-Verse",
          "Spider-Man: No Way Home",
          "Spirited Away",
          "Split",
          "Star Wars: Episode I - The Phantom Menace",
          "Stardust",
          "Sting",
          "Talk to Me",
          "Tangled",
          "Tarot",
          "Taxi Driver",
          "Teenage Mutant Ninja Turtles: Mutant Mayhem",
          "The Batman",
          "The Beekeeper",
          "The Bikeriders",
          "The Boy and the Heron",
          "The Chronicles of Narnia: The Lion, the Witch and the Wardrobe",
          "The Coffee Table",
          "The Courier",
          "The Crow",
          "The Crow",
          "The Dark Knight",
          "The Dead Don't Die",
          "The Departed",
          "The Equalizer",
          "The Equalizer 3",
          "The Fall Guy",
          "The Fifth Element",
          "The First Omen",
          "The Garfield Movie",
          "The Gentlemen",
          "The Godfather",
          "The Goonies",
          "The Green Mile",
          "The Holdovers",
          "The Hunger Games",
          "The Hunger Games: The Ballad of Songbirds & Snakes",
          "The Idea of You",
          "The Incredibles",
          "The Invitation",
          "The Judge",
          "The Killing of a Sacred Deer",
          "The Last Stop in Yuma County",
          "The Lion King",
          "The Lion King",
          "The Little Mermaid",
          "The Lord of the Rings: The Fellowship of the Ring",
          "The Lord of the Rings: The War of the Rohirrim",
          "The Matrix",
          "The Menu",
          "The Outsiders",
          "The Princess Bride",
          "The Prodigy",
          "The Sandlot",
          "The Silence of the Lambs",
          "The Strangers",
          "The Strangers: Chapter 1",
          "The Substance",
          "The Super Mario Bros. Movie",
          "The Surfer",
          "The Talented Mr. Ripley",
          "The Watchers",
          "The Wizard of Oz",
          "The Wolf of Wall Street",
          "Thelma the Unicorn",
          "Toy Story",
          "Transformers One",
          "Trigger Warning",
          "Trolls Band Together",
          "Twister",
          "Twisters",
          "Unfrosted",
          "Unsung Hero",
          "Up",
          "Upgrade",
          "WALL·E",
          "War for the Planet of the Apes",
          "We're the Millers",
          "Where the Crawdads Sing",
          "Wicked Little Letters",
          "Willy Wonka & the Chocolate Factory",
          "Wish",
          "Wonka",
          "X",
          "You Can't Run Forever",
          "Your Name.",
          "Zootopia"
         ],
         "legendgroup": "",
         "marker": {
          "color": "#1F77B4",
          "symbol": "circle"
         },
         "mode": "markers",
         "name": "",
         "orientation": "v",
         "showlegend": false,
         "type": "scatter",
         "x": [
          7.3,
          9,
          7.5,
          7.5,
          7.1,
          5,
          6.8,
          6.7,
          8.5,
          7.1,
          7.5,
          7.7,
          6.2,
          7.9,
          6.1,
          5.5,
          5.7,
          7,
          5.6,
          8.4,
          6.5,
          7.5,
          7.1,
          7,
          6.8,
          7.5,
          7.1,
          7.4,
          7.1,
          8,
          7.1,
          6.5,
          7.3,
          7.2,
          8,
          6.7,
          7.4,
          8.4,
          6.1,
          6.1,
          7.6,
          8,
          7.1,
          7.6,
          7.1,
          7.1,
          6.8,
          6.9,
          6.3,
          8,
          8.6,
          7,
          7.2,
          7.2,
          7,
          8.2,
          5.5,
          6,
          7.4,
          7.9,
          5,
          7.8,
          7,
          6.2,
          8.5,
          6.6,
          7.9,
          6.3,
          6.2,
          6.4,
          8.7,
          7.1,
          7.4,
          8.1,
          7.7,
          7.9,
          7.6,
          8.3,
          8,
          7.3,
          7.3,
          7.4,
          8.2,
          6.9,
          6.7,
          5.8,
          5.7,
          6.3,
          8.8,
          8.4,
          8.1,
          7.1,
          8.7,
          7.3,
          7.7,
          8.4,
          7.1,
          8.2,
          8.2,
          7.6,
          7,
          7.2,
          7.6,
          6.3,
          8.5,
          6.5,
          7.1,
          6.1,
          7.1,
          6.7,
          8.5,
          7.1,
          6.8,
          7.6,
          6.2,
          8.1,
          3.9,
          7.2,
          6.5,
          8.4,
          7.5,
          7,
          7.1,
          6.7,
          5.2,
          7.1,
          6.7,
          7.7,
          7.6,
          7.1,
          6.9,
          4.6,
          8.1,
          4.8,
          6.3,
          7.1,
          8.2,
          6.4,
          6.8,
          7.1,
          7.6,
          7,
          8,
          5.7,
          7.9,
          8.2,
          8.9,
          7.8,
          8.1,
          5.6,
          5.2,
          7,
          7.6,
          6.2,
          7,
          5.6,
          8.6,
          5,
          6.7,
          7.9,
          7.3,
          7.7,
          7.1,
          7.3,
          6.5,
          7.1,
          8.6,
          7.1,
          8.4,
          8.2,
          8.6,
          7.3,
          6.5,
          7.6,
          5.7,
          7.1,
          7.7,
          4.9,
          8.2,
          7.2,
          7.8,
          6.4,
          7.5,
          7.6,
          6.9,
          6.8,
          6,
          7.5,
          7.1,
          9,
          5.5,
          8.5,
          7.2,
          6.8,
          7.1,
          7.6,
          6.7,
          5.9,
          7.8,
          9.2,
          7.7,
          8.6,
          7.9,
          7.2,
          6.7,
          6.4,
          8,
          5.3,
          7.4,
          7,
          7,
          8.5,
          6.8,
          7.2,
          8.9,
          7.1,
          8.7,
          7.2,
          7,
          8,
          5.9,
          7.8,
          8.6,
          6.1,
          5,
          8,
          7,
          7.4,
          7.4,
          7.1,
          8.1,
          8.2,
          5.8,
          8.3,
          7.1,
          7.1,
          6,
          6.5,
          7.1,
          5.5,
          7.8,
          8.3,
          7.5,
          8.4,
          7.4,
          7,
          7.2,
          7,
          7.8,
          5.6,
          7,
          6.5,
          4.4,
          8.4,
          8
         ],
         "xaxis": "x",
         "y": [
          70,
          97,
          73,
          82,
          66.9,
          66.9,
          67,
          62,
          89,
          66.9,
          81,
          86,
          33,
          89,
          52,
          60,
          35,
          54,
          37,
          78,
          74,
          86,
          66.9,
          78,
          80,
          71,
          66.9,
          66,
          66.9,
          81,
          66.9,
          47,
          49,
          73,
          78,
          72,
          75,
          81,
          66.9,
          46,
          79,
          65,
          66.9,
          66,
          66.9,
          66.9,
          62,
          74,
          41,
          74,
          79,
          58,
          70,
          75,
          66.9,
          90,
          33,
          58,
          75,
          79,
          27,
          71,
          45,
          46,
          67,
          43,
          81,
          59,
          47,
          66.9,
          92,
          66.9,
          63,
          85,
          81,
          82,
          65,
          76,
          91,
          74,
          87,
          83,
          82,
          84,
          46,
          57,
          65,
          60,
          74,
          69,
          94,
          66.9,
          74,
          69,
          78,
          59,
          39,
          68,
          69,
          89,
          72,
          66,
          74,
          54,
          66.9,
          57,
          72,
          47,
          66.9,
          77,
          64,
          66.9,
          73,
          77,
          71,
          90,
          26,
          66.9,
          83,
          66.9,
          76,
          58,
          72,
          56,
          41,
          66.9,
          57,
          81,
          81,
          66.9,
          70,
          66.9,
          79,
          39,
          46,
          66.9,
          92,
          59,
          77,
          66.9,
          84,
          76,
          79,
          50,
          88,
          70,
          95,
          73,
          96,
          31,
          35,
          62,
          68,
          57,
          61,
          65,
          65,
          44,
          66.9,
          84,
          75,
          82,
          59,
          49,
          68,
          66.9,
          86,
          66.9,
          87,
          71,
          96,
          63,
          51,
          66,
          57,
          76,
          71,
          36,
          94,
          74,
          72,
          53,
          73,
          91,
          75,
          72,
          66.9,
          71,
          66.9,
          84,
          53,
          85,
          57,
          58,
          73,
          52,
          65,
          31,
          51,
          100,
          62,
          61,
          82,
          68,
          54,
          67,
          90,
          45,
          48,
          73,
          72,
          88,
          55,
          59,
          92,
          66.9,
          73,
          71,
          45,
          78,
          45,
          55,
          86,
          47,
          43,
          83,
          46,
          69,
          76,
          66.9,
          92,
          75,
          64,
          96,
          66.9,
          66.9,
          53,
          68,
          66.9,
          42,
          46,
          88,
          67,
          95,
          82,
          44,
          43,
          58,
          67,
          47,
          66,
          80,
          66.9,
          81,
          78
         ],
         "yaxis": "y"
        }
       ],
       "layout": {
        "height": 600,
        "legend": {
         "tracegroupgap": 0
        },
        "template": {
         "data": {
          "bar": [
           {
            "error_x": {
             "color": "rgb(36,36,36)"
            },
            "error_y": {
             "color": "rgb(36,36,36)"
            },
            "marker": {
             "line": {
              "color": "white",
              "width": 0.5
             },
             "pattern": {
              "fillmode": "overlay",
              "size": 10,
              "solidity": 0.2
             }
            },
            "type": "bar"
           }
          ],
          "barpolar": [
           {
            "marker": {
             "line": {
              "color": "white",
              "width": 0.5
             },
             "pattern": {
              "fillmode": "overlay",
              "size": 10,
              "solidity": 0.2
             }
            },
            "type": "barpolar"
           }
          ],
          "carpet": [
           {
            "aaxis": {
             "endlinecolor": "rgb(36,36,36)",
             "gridcolor": "white",
             "linecolor": "white",
             "minorgridcolor": "white",
             "startlinecolor": "rgb(36,36,36)"
            },
            "baxis": {
             "endlinecolor": "rgb(36,36,36)",
             "gridcolor": "white",
             "linecolor": "white",
             "minorgridcolor": "white",
             "startlinecolor": "rgb(36,36,36)"
            },
            "type": "carpet"
           }
          ],
          "choropleth": [
           {
            "colorbar": {
             "outlinewidth": 1,
             "tickcolor": "rgb(36,36,36)",
             "ticks": "outside"
            },
            "type": "choropleth"
           }
          ],
          "contour": [
           {
            "colorbar": {
             "outlinewidth": 1,
             "tickcolor": "rgb(36,36,36)",
             "ticks": "outside"
            },
            "colorscale": [
             [
              0,
              "#440154"
             ],
             [
              0.1111111111111111,
              "#482878"
             ],
             [
              0.2222222222222222,
              "#3e4989"
             ],
             [
              0.3333333333333333,
              "#31688e"
             ],
             [
              0.4444444444444444,
              "#26828e"
             ],
             [
              0.5555555555555556,
              "#1f9e89"
             ],
             [
              0.6666666666666666,
              "#35b779"
             ],
             [
              0.7777777777777778,
              "#6ece58"
             ],
             [
              0.8888888888888888,
              "#b5de2b"
             ],
             [
              1,
              "#fde725"
             ]
            ],
            "type": "contour"
           }
          ],
          "contourcarpet": [
           {
            "colorbar": {
             "outlinewidth": 1,
             "tickcolor": "rgb(36,36,36)",
             "ticks": "outside"
            },
            "type": "contourcarpet"
           }
          ],
          "heatmap": [
           {
            "colorbar": {
             "outlinewidth": 1,
             "tickcolor": "rgb(36,36,36)",
             "ticks": "outside"
            },
            "colorscale": [
             [
              0,
              "#440154"
             ],
             [
              0.1111111111111111,
              "#482878"
             ],
             [
              0.2222222222222222,
              "#3e4989"
             ],
             [
              0.3333333333333333,
              "#31688e"
             ],
             [
              0.4444444444444444,
              "#26828e"
             ],
             [
              0.5555555555555556,
              "#1f9e89"
             ],
             [
              0.6666666666666666,
              "#35b779"
             ],
             [
              0.7777777777777778,
              "#6ece58"
             ],
             [
              0.8888888888888888,
              "#b5de2b"
             ],
             [
              1,
              "#fde725"
             ]
            ],
            "type": "heatmap"
           }
          ],
          "heatmapgl": [
           {
            "colorbar": {
             "outlinewidth": 1,
             "tickcolor": "rgb(36,36,36)",
             "ticks": "outside"
            },
            "colorscale": [
             [
              0,
              "#440154"
             ],
             [
              0.1111111111111111,
              "#482878"
             ],
             [
              0.2222222222222222,
              "#3e4989"
             ],
             [
              0.3333333333333333,
              "#31688e"
             ],
             [
              0.4444444444444444,
              "#26828e"
             ],
             [
              0.5555555555555556,
              "#1f9e89"
             ],
             [
              0.6666666666666666,
              "#35b779"
             ],
             [
              0.7777777777777778,
              "#6ece58"
             ],
             [
              0.8888888888888888,
              "#b5de2b"
             ],
             [
              1,
              "#fde725"
             ]
            ],
            "type": "heatmapgl"
           }
          ],
          "histogram": [
           {
            "marker": {
             "line": {
              "color": "white",
              "width": 0.6
             }
            },
            "type": "histogram"
           }
          ],
          "histogram2d": [
           {
            "colorbar": {
             "outlinewidth": 1,
             "tickcolor": "rgb(36,36,36)",
             "ticks": "outside"
            },
            "colorscale": [
             [
              0,
              "#440154"
             ],
             [
              0.1111111111111111,
              "#482878"
             ],
             [
              0.2222222222222222,
              "#3e4989"
             ],
             [
              0.3333333333333333,
              "#31688e"
             ],
             [
              0.4444444444444444,
              "#26828e"
             ],
             [
              0.5555555555555556,
              "#1f9e89"
             ],
             [
              0.6666666666666666,
              "#35b779"
             ],
             [
              0.7777777777777778,
              "#6ece58"
             ],
             [
              0.8888888888888888,
              "#b5de2b"
             ],
             [
              1,
              "#fde725"
             ]
            ],
            "type": "histogram2d"
           }
          ],
          "histogram2dcontour": [
           {
            "colorbar": {
             "outlinewidth": 1,
             "tickcolor": "rgb(36,36,36)",
             "ticks": "outside"
            },
            "colorscale": [
             [
              0,
              "#440154"
             ],
             [
              0.1111111111111111,
              "#482878"
             ],
             [
              0.2222222222222222,
              "#3e4989"
             ],
             [
              0.3333333333333333,
              "#31688e"
             ],
             [
              0.4444444444444444,
              "#26828e"
             ],
             [
              0.5555555555555556,
              "#1f9e89"
             ],
             [
              0.6666666666666666,
              "#35b779"
             ],
             [
              0.7777777777777778,
              "#6ece58"
             ],
             [
              0.8888888888888888,
              "#b5de2b"
             ],
             [
              1,
              "#fde725"
             ]
            ],
            "type": "histogram2dcontour"
           }
          ],
          "mesh3d": [
           {
            "colorbar": {
             "outlinewidth": 1,
             "tickcolor": "rgb(36,36,36)",
             "ticks": "outside"
            },
            "type": "mesh3d"
           }
          ],
          "parcoords": [
           {
            "line": {
             "colorbar": {
              "outlinewidth": 1,
              "tickcolor": "rgb(36,36,36)",
              "ticks": "outside"
             }
            },
            "type": "parcoords"
           }
          ],
          "pie": [
           {
            "automargin": true,
            "type": "pie"
           }
          ],
          "scatter": [
           {
            "fillpattern": {
             "fillmode": "overlay",
             "size": 10,
             "solidity": 0.2
            },
            "type": "scatter"
           }
          ],
          "scatter3d": [
           {
            "line": {
             "colorbar": {
              "outlinewidth": 1,
              "tickcolor": "rgb(36,36,36)",
              "ticks": "outside"
             }
            },
            "marker": {
             "colorbar": {
              "outlinewidth": 1,
              "tickcolor": "rgb(36,36,36)",
              "ticks": "outside"
             }
            },
            "type": "scatter3d"
           }
          ],
          "scattercarpet": [
           {
            "marker": {
             "colorbar": {
              "outlinewidth": 1,
              "tickcolor": "rgb(36,36,36)",
              "ticks": "outside"
             }
            },
            "type": "scattercarpet"
           }
          ],
          "scattergeo": [
           {
            "marker": {
             "colorbar": {
              "outlinewidth": 1,
              "tickcolor": "rgb(36,36,36)",
              "ticks": "outside"
             }
            },
            "type": "scattergeo"
           }
          ],
          "scattergl": [
           {
            "marker": {
             "colorbar": {
              "outlinewidth": 1,
              "tickcolor": "rgb(36,36,36)",
              "ticks": "outside"
             }
            },
            "type": "scattergl"
           }
          ],
          "scattermapbox": [
           {
            "marker": {
             "colorbar": {
              "outlinewidth": 1,
              "tickcolor": "rgb(36,36,36)",
              "ticks": "outside"
             }
            },
            "type": "scattermapbox"
           }
          ],
          "scatterpolar": [
           {
            "marker": {
             "colorbar": {
              "outlinewidth": 1,
              "tickcolor": "rgb(36,36,36)",
              "ticks": "outside"
             }
            },
            "type": "scatterpolar"
           }
          ],
          "scatterpolargl": [
           {
            "marker": {
             "colorbar": {
              "outlinewidth": 1,
              "tickcolor": "rgb(36,36,36)",
              "ticks": "outside"
             }
            },
            "type": "scatterpolargl"
           }
          ],
          "scatterternary": [
           {
            "marker": {
             "colorbar": {
              "outlinewidth": 1,
              "tickcolor": "rgb(36,36,36)",
              "ticks": "outside"
             }
            },
            "type": "scatterternary"
           }
          ],
          "surface": [
           {
            "colorbar": {
             "outlinewidth": 1,
             "tickcolor": "rgb(36,36,36)",
             "ticks": "outside"
            },
            "colorscale": [
             [
              0,
              "#440154"
             ],
             [
              0.1111111111111111,
              "#482878"
             ],
             [
              0.2222222222222222,
              "#3e4989"
             ],
             [
              0.3333333333333333,
              "#31688e"
             ],
             [
              0.4444444444444444,
              "#26828e"
             ],
             [
              0.5555555555555556,
              "#1f9e89"
             ],
             [
              0.6666666666666666,
              "#35b779"
             ],
             [
              0.7777777777777778,
              "#6ece58"
             ],
             [
              0.8888888888888888,
              "#b5de2b"
             ],
             [
              1,
              "#fde725"
             ]
            ],
            "type": "surface"
           }
          ],
          "table": [
           {
            "cells": {
             "fill": {
              "color": "rgb(237,237,237)"
             },
             "line": {
              "color": "white"
             }
            },
            "header": {
             "fill": {
              "color": "rgb(217,217,217)"
             },
             "line": {
              "color": "white"
             }
            },
            "type": "table"
           }
          ]
         },
         "layout": {
          "annotationdefaults": {
           "arrowhead": 0,
           "arrowwidth": 1
          },
          "autosize": true,
          "autotypenumbers": "strict",
          "coloraxis": {
           "colorbar": {
            "outlinewidth": 1,
            "tickcolor": "rgb(36,36,36)",
            "ticks": "outside"
           }
          },
          "colorscale": {
           "diverging": [
            [
             0,
             "rgb(103,0,31)"
            ],
            [
             0.1,
             "rgb(178,24,43)"
            ],
            [
             0.2,
             "rgb(214,96,77)"
            ],
            [
             0.3,
             "rgb(244,165,130)"
            ],
            [
             0.4,
             "rgb(253,219,199)"
            ],
            [
             0.5,
             "rgb(247,247,247)"
            ],
            [
             0.6,
             "rgb(209,229,240)"
            ],
            [
             0.7,
             "rgb(146,197,222)"
            ],
            [
             0.8,
             "rgb(67,147,195)"
            ],
            [
             0.9,
             "rgb(33,102,172)"
            ],
            [
             1,
             "rgb(5,48,97)"
            ]
           ],
           "sequential": [
            [
             0,
             "#440154"
            ],
            [
             0.1111111111111111,
             "#482878"
            ],
            [
             0.2222222222222222,
             "#3e4989"
            ],
            [
             0.3333333333333333,
             "#31688e"
            ],
            [
             0.4444444444444444,
             "#26828e"
            ],
            [
             0.5555555555555556,
             "#1f9e89"
            ],
            [
             0.6666666666666666,
             "#35b779"
            ],
            [
             0.7777777777777778,
             "#6ece58"
            ],
            [
             0.8888888888888888,
             "#b5de2b"
            ],
            [
             1,
             "#fde725"
            ]
           ],
           "sequentialminus": [
            [
             0,
             "#440154"
            ],
            [
             0.1111111111111111,
             "#482878"
            ],
            [
             0.2222222222222222,
             "#3e4989"
            ],
            [
             0.3333333333333333,
             "#31688e"
            ],
            [
             0.4444444444444444,
             "#26828e"
            ],
            [
             0.5555555555555556,
             "#1f9e89"
            ],
            [
             0.6666666666666666,
             "#35b779"
            ],
            [
             0.7777777777777778,
             "#6ece58"
            ],
            [
             0.8888888888888888,
             "#b5de2b"
            ],
            [
             1,
             "#fde725"
            ]
           ]
          },
          "colorway": [
           "#1F77B4",
           "#FF7F0E",
           "#2CA02C",
           "#D62728",
           "#9467BD",
           "#8C564B",
           "#E377C2",
           "#7F7F7F",
           "#BCBD22",
           "#17BECF"
          ],
          "font": {
           "color": "rgb(36,36,36)"
          },
          "geo": {
           "bgcolor": "white",
           "lakecolor": "white",
           "landcolor": "white",
           "showlakes": true,
           "showland": true,
           "subunitcolor": "white"
          },
          "height": 400,
          "hoverlabel": {
           "align": "left"
          },
          "hovermode": "closest",
          "mapbox": {
           "style": "light"
          },
          "margin": {
           "b": 30,
           "l": 30,
           "r": 30,
           "t": 30
          },
          "paper_bgcolor": "white",
          "plot_bgcolor": "white",
          "polar": {
           "angularaxis": {
            "gridcolor": "rgb(232,232,232)",
            "linecolor": "rgb(36,36,36)",
            "showgrid": false,
            "showline": true,
            "ticks": "outside"
           },
           "bgcolor": "white",
           "radialaxis": {
            "gridcolor": "rgb(232,232,232)",
            "linecolor": "rgb(36,36,36)",
            "showgrid": false,
            "showline": true,
            "ticks": "outside"
           }
          },
          "scene": {
           "xaxis": {
            "backgroundcolor": "white",
            "gridcolor": "rgb(232,232,232)",
            "gridwidth": 2,
            "linecolor": "rgb(36,36,36)",
            "showbackground": true,
            "showgrid": false,
            "showline": true,
            "ticks": "outside",
            "zeroline": false,
            "zerolinecolor": "rgb(36,36,36)"
           },
           "yaxis": {
            "backgroundcolor": "white",
            "gridcolor": "rgb(232,232,232)",
            "gridwidth": 2,
            "linecolor": "rgb(36,36,36)",
            "showbackground": true,
            "showgrid": false,
            "showline": true,
            "ticks": "outside",
            "zeroline": false,
            "zerolinecolor": "rgb(36,36,36)"
           },
           "zaxis": {
            "backgroundcolor": "white",
            "gridcolor": "rgb(232,232,232)",
            "gridwidth": 2,
            "linecolor": "rgb(36,36,36)",
            "showbackground": true,
            "showgrid": false,
            "showline": true,
            "ticks": "outside",
            "zeroline": false,
            "zerolinecolor": "rgb(36,36,36)"
           }
          },
          "shapedefaults": {
           "fillcolor": "black",
           "line": {
            "width": 0
           },
           "opacity": 0.3
          },
          "ternary": {
           "aaxis": {
            "gridcolor": "rgb(232,232,232)",
            "linecolor": "rgb(36,36,36)",
            "showgrid": false,
            "showline": true,
            "ticks": "outside"
           },
           "baxis": {
            "gridcolor": "rgb(232,232,232)",
            "linecolor": "rgb(36,36,36)",
            "showgrid": false,
            "showline": true,
            "ticks": "outside"
           },
           "bgcolor": "white",
           "caxis": {
            "gridcolor": "rgb(232,232,232)",
            "linecolor": "rgb(36,36,36)",
            "showgrid": false,
            "showline": true,
            "ticks": "outside"
           }
          },
          "title": {
           "x": 0.5,
           "xanchor": "center"
          },
          "width": 600,
          "xaxis": {
           "automargin": true,
           "gridcolor": "rgb(232,232,232)",
           "linecolor": "rgb(36,36,36)",
           "showgrid": true,
           "showline": true,
           "ticks": "outside",
           "title": {
            "standoff": 15
           },
           "zeroline": false,
           "zerolinecolor": "rgb(36,36,36)"
          },
          "yaxis": {
           "automargin": true,
           "gridcolor": "rgb(232,232,232)",
           "linecolor": "rgb(36,36,36)",
           "showgrid": true,
           "showline": true,
           "ticks": "outside",
           "title": {
            "standoff": 15
           },
           "zeroline": false,
           "zerolinecolor": "rgb(36,36,36)"
          }
         }
        },
        "width": 800,
        "xaxis": {
         "anchor": "y",
         "domain": [
          0,
          1
         ],
         "title": {
          "text": "IMDb Rating"
         }
        },
        "yaxis": {
         "anchor": "x",
         "domain": [
          0,
          1
         ],
         "title": {
          "text": "MetaScore"
         }
        }
       }
      }
     },
     "metadata": {},
     "output_type": "display_data"
    }
   ],
   "source": [
    "imdb.plot(kind='scatter', x='IMDb Rating', y='MetaScore', hover_name='Title', width=800, height=600)"
   ]
  },
  {
   "cell_type": "markdown",
   "id": "1cc7ec26",
   "metadata": {},
   "source": [
    "As you can see, there are some outliers, i.e. movies that had relatively high `'MetaScore'`s but relatively low `'IMDb Rating'`s, or vice versa.\n",
    "\n",
    "We define the `'MetaScore'` to `'IMDb Rating'` ratio of a movie as follows:\n",
    "\n",
    "$$\\frac{\\text{Movie's MetaScore}}{\\text{Movie's IMDb Rating}}$$\n",
    "\n",
    "Complete the implementation of the function `metascore_to_rating_outlier`, which takes in a DataFrame `df` and returns the movie with the **largest** `'MetaScore'` to `'IMDb Rating'`. (Note that this is only one of the two types of outliers mentioned in the paragraph at the top of this cell, but use this definition in your solution.)\n",
    "\n",
    "Assume that `df` has the same 9 column titles as `imdb`, with the same data types, but potentially a different number of rows in a different order, with a potentially different index. Assume that `df` has at least one row, and assume there are no ties. Example behavior is given below.\n",
    "\n",
    "\n",
    "```python\n",
    ">>> metascore_to_rating_outlier(imdb.head(5))\n",
    "'A Quiet Place'\n",
    "```"
   ]
  },
  {
   "cell_type": "code",
   "execution_count": 55,
   "id": "e28591f8",
   "metadata": {
    "tags": []
   },
   "outputs": [
    {
     "data": {
      "text/plain": [
       "'A Quiet Place'"
      ]
     },
     "execution_count": 55,
     "metadata": {},
     "output_type": "execute_result"
    }
   ],
   "source": [
    "def metascore_to_rating_outlier(df):\n",
    "    meta = np.array(df['MetaScore'])\n",
    "    Rating = np.array(df['IMDb Rating'])\n",
    "    final = meta/Rating\n",
    "    return df.iloc[np.argmax(final)]['Title']\n",
    "\n",
    "# Feel free to change this input to make sure your function works correctly.\n",
    "metascore_to_rating_outlier(imdb.head(5))"
   ]
  },
  {
   "cell_type": "code",
   "execution_count": 56,
   "id": "22c013ae",
   "metadata": {
    "deletable": false,
    "editable": false
   },
   "outputs": [
    {
     "data": {
      "text/html": [
       "<p><strong><pre style='display: inline;'>q08_2</pre></strong> passed!</p>"
      ],
      "text/plain": [
       "q08_2 results: All test cases passed!"
      ]
     },
     "execution_count": 56,
     "metadata": {},
     "output_type": "execute_result"
    }
   ],
   "source": [
    "grader.check(\"q08_2\")"
   ]
  },
  {
   "cell_type": "markdown",
   "id": "57c81699",
   "metadata": {},
   "source": [
    "#### Question 8.3: Recommended For Me <div style=\"display:inline-block; vertical-align: middle; padding:7px 7px; font-size:10px; font-weight:light; color:white; background-color:#e84c4a; border-radius:7px; text-align:left;\">3 Points</div>\n",
    "\n",
    "And finally, now that you're almost done Homework 2, it's time to find new movies in your favorite genre that the data thinks you might like.\n",
    "\n",
    "Complete the implementation of the function `genre_specific`, which takes in a DataFrame `df` and a string, `genre`, corresponding to a `'Genre'` in `imdb`. `genre_specific(df, genre)` should return a DataFrame that:\n",
    "- Contains all of the movies in `df` of `'Genre'` `genre` **released in 2024**. Assume `genre` is a valid value in `df['Genre']`.\n",
    "- Is sorted in descending order of `'IMDb Rating'`, with ties broken by `'MetaScore'` in descending order. Assume no two movies have both the same `'IMDb Rating'` and the same `'MetaScore'`. (There are a few cases where this happens, but you won't be tested on them in the hidden test cases.)\n",
    "- Is indexed by `'Title'`, and only has two columns: `'IMDb Rating'` and `'MetaScore'`.\n",
    "\n",
    "Example behavior is given below.\n",
    "\n",
    "```python\n",
    ">>> genre_specific(imdb, 'Horror')\n",
    "```\n",
    "\n",
    "<div style=\"text-align: left;\">\n",
    "  <table border=\"1\" class=\"dataframe\">\n",
    "    <thead>\n",
    "      <tr>\n",
    "        <th style=\"text-align: left;\"></th>\n",
    "        <th style=\"text-align: left;\">IMDb Rating</th>\n",
    "        <th style=\"text-align: left;\">MetaScore</th>\n",
    "      </tr>\n",
    "      <tr>\n",
    "        <th>Title</th>\n",
    "        <th></th>\n",
    "        <th></th>\n",
    "      </tr>\n",
    "    </thead>\n",
    "    <tbody>\n",
    "      <tr>\n",
    "        <th>Alien: Romulus</th>\n",
    "        <td>7.1</td>\n",
    "        <td>66.9</td>\n",
    "      </tr>\n",
    "      <tr>\n",
    "        <th>Exhuma</th>\n",
    "        <td>7.0</td>\n",
    "        <td>66.9</td>\n",
    "      </tr>\n",
    "      <tr>\n",
    "        <th>The First Omen</th>\n",
    "        <td>6.7</td>\n",
    "        <td>65.0</td>\n",
    "      </tr>\n",
    "      <tr>\n",
    "        <th>Abigail</th>\n",
    "        <td>6.7</td>\n",
    "        <td>62.0</td>\n",
    "      </tr>\n",
    "      <tr>\n",
    "        <th>Immaculate</th>\n",
    "        <td>5.8</td>\n",
    "        <td>57.0</td>\n",
    "      </tr>\n",
    "      <tr>\n",
    "        <th>Sting</th>\n",
    "        <td>5.7</td>\n",
    "        <td>57.0</td>\n",
    "      </tr>\n",
    "      <tr>\n",
    "        <th>The Strangers: Chapter 1</th>\n",
    "        <td>5.0</td>\n",
    "        <td>43.0</td>\n",
    "      </tr>\n",
    "      <tr>\n",
    "        <th>Tarot</th>\n",
    "        <td>4.9</td>\n",
    "        <td>36.0</td>\n",
    "      </tr>\n",
    "    </tbody>\n",
    "  </table>\n",
    "</div>\n"
   ]
  },
  {
   "cell_type": "code",
   "execution_count": 57,
   "id": "a719e622",
   "metadata": {
    "tags": []
   },
   "outputs": [
    {
     "data": {
      "text/html": [
       "<div>\n",
       "<style scoped>\n",
       "    .dataframe tbody tr th:only-of-type {\n",
       "        vertical-align: middle;\n",
       "    }\n",
       "\n",
       "    .dataframe tbody tr th {\n",
       "        vertical-align: top;\n",
       "    }\n",
       "\n",
       "    .dataframe thead th {\n",
       "        text-align: right;\n",
       "    }\n",
       "</style>\n",
       "<table border=\"1\" class=\"dataframe\">\n",
       "  <thead>\n",
       "    <tr style=\"text-align: right;\">\n",
       "      <th></th>\n",
       "      <th>IMDb Rating</th>\n",
       "      <th>MetaScore</th>\n",
       "    </tr>\n",
       "    <tr>\n",
       "      <th>Title</th>\n",
       "      <th></th>\n",
       "      <th></th>\n",
       "    </tr>\n",
       "  </thead>\n",
       "  <tbody>\n",
       "    <tr>\n",
       "      <th>Alien: Romulus</th>\n",
       "      <td>7.1</td>\n",
       "      <td>66.9</td>\n",
       "    </tr>\n",
       "    <tr>\n",
       "      <th>Exhuma</th>\n",
       "      <td>7.0</td>\n",
       "      <td>66.9</td>\n",
       "    </tr>\n",
       "    <tr>\n",
       "      <th>The First Omen</th>\n",
       "      <td>6.7</td>\n",
       "      <td>65.0</td>\n",
       "    </tr>\n",
       "    <tr>\n",
       "      <th>Abigail</th>\n",
       "      <td>6.7</td>\n",
       "      <td>62.0</td>\n",
       "    </tr>\n",
       "    <tr>\n",
       "      <th>Immaculate</th>\n",
       "      <td>5.8</td>\n",
       "      <td>57.0</td>\n",
       "    </tr>\n",
       "    <tr>\n",
       "      <th>Sting</th>\n",
       "      <td>5.7</td>\n",
       "      <td>57.0</td>\n",
       "    </tr>\n",
       "    <tr>\n",
       "      <th>The Strangers: Chapter 1</th>\n",
       "      <td>5.0</td>\n",
       "      <td>43.0</td>\n",
       "    </tr>\n",
       "    <tr>\n",
       "      <th>Tarot</th>\n",
       "      <td>4.9</td>\n",
       "      <td>36.0</td>\n",
       "    </tr>\n",
       "  </tbody>\n",
       "</table>\n",
       "</div>"
      ],
      "text/plain": [
       "                          IMDb Rating  MetaScore\n",
       "Title                                           \n",
       "Alien: Romulus                    7.1       66.9\n",
       "Exhuma                            7.0       66.9\n",
       "The First Omen                    6.7       65.0\n",
       "Abigail                           6.7       62.0\n",
       "Immaculate                        5.8       57.0\n",
       "Sting                             5.7       57.0\n",
       "The Strangers: Chapter 1          5.0       43.0\n",
       "Tarot                             4.9       36.0"
      ]
     },
     "execution_count": 57,
     "metadata": {},
     "output_type": "execute_result"
    }
   ],
   "source": [
    "def genre_specific(df, genre):\n",
    "    setid = df.set_index('Title', inplace=False)\n",
    "    sorted = setid.sort_values(['IMDb Rating','MetaScore'], ascending=False, inplace=False)\n",
    "    final = sorted[(sorted['Genre'] == genre) & (sorted['Year'] == 2024)]\n",
    "    final = final[['IMDb Rating', 'MetaScore']].head(8)\n",
    "    return final\n",
    "\n",
    "genre_specific(imdb, 'Horror')"
   ]
  },
  {
   "cell_type": "markdown",
   "id": "8cac1bb3",
   "metadata": {},
   "source": [
    "<!-- BEGIN QUESTION -->\n",
    "\n",
    "It appears that Page 1's score is 1, and all of the other pages' scores are 0! (`9.6409e-10` means $9.64 \\cdot 10^{-10}$, which is a really, really small number.)\n",
    "\n",
    "<span style=\"color:red\"><b>In the cell below, write your answers to the following two _manually-graded_ prompts.</b></span>\n",
    "\n",
    "- Why do you think Page 1's score is so high, and the other pages' scores are so low? (***Hint:*** Think about how we interpret the score of a page.)\n",
    "- Read the [Damping factor](https://en.wikipedia.org/wiki/PageRank#Damping_factor) section of the Wikipedia article on PageRank. In two sentences, describe (to the best of your ability) how using damping would prevent the score of Page 1 from becoming 1. (If you read the article closely, the answer is there – describe it in your own words.)"
   ]
  },
  {
   "cell_type": "markdown",
   "id": "d1dc60de",
   "metadata": {},
   "source": [
    "Q1. 1's score is so high because page one does not connect to other pages in it's direction. This on it's own may not be the worst case but when we take out matrix and multiply it 100 times with out original wieghts, it makes 1 look like a super important website just becuase \"all\" (at least the math think so) pages connect to it, but it does not connect to any others. \n",
    "\n",
    "Q2. 1 is a sink page. So to avoid 1 seeming Ultra imporant, one way  could be to put an uncharatisticly high damp on it or, teminate the prcess and just start the random surf again as described in the wiki! \n"
   ]
  },
  {
   "cell_type": "code",
   "execution_count": 58,
   "id": "b4b136ce",
   "metadata": {
    "deletable": false,
    "editable": false
   },
   "outputs": [
    {
     "data": {
      "text/html": [
       "<p><strong><pre style='display: inline;'>q08_3</pre></strong> passed!</p>"
      ],
      "text/plain": [
       "q08_3 results: All test cases passed!"
      ]
     },
     "execution_count": 58,
     "metadata": {},
     "output_type": "execute_result"
    }
   ],
   "source": [
    "grader.check(\"q08_3\")"
   ]
  },
  {
   "cell_type": "markdown",
   "id": "8b5e18cc",
   "metadata": {},
   "source": [
    "## Finish Line 🏁\n",
    "\n",
    "Congratulations! You're ready to submit Homework 2."
   ]
  },
  {
   "cell_type": "markdown",
   "id": "144beb17",
   "metadata": {},
   "source": [
    "To submit your homework:\n",
    "\n",
    "1. Select `Kernel -> Restart & Run All` to ensure that you have executed all cells, including the test cells.\n",
    "2. Read through the notebook to make sure everything is fine and all tests passed.\n",
    "3. Run the cell below to run all tests, and make sure that they all pass.\n",
    "4. Download your notebook using `File -> Download as -> Notebook (.ipynb)`, then upload your notebook to Gradescope under \"Homework 2\".\n",
    "5. Stick around while the Gradescope autograder grades your work. Make sure you see that all **public tests** have passed on Gradescope. **Remember that homeworks have hidden tests, which you will not see your scores on until a few days after the deadline!**\n",
    "6. Check that you have a confirmation email from Gradescope and save it as proof of your submission."
   ]
  },
  {
   "cell_type": "markdown",
   "id": "bf07ce6d",
   "metadata": {
    "deletable": false,
    "editable": false
   },
   "source": [
    "---\n",
    "\n",
    "To double-check your work, the cell below will rerun all of the autograder tests."
   ]
  },
  {
   "cell_type": "code",
   "execution_count": 59,
   "id": "683c33be",
   "metadata": {
    "deletable": false,
    "editable": false
   },
   "outputs": [
    {
     "data": {
      "text/plain": [
       "q01 results: All test cases passed!\n",
       "\n",
       "q02_1 results: All test cases passed!\n",
       "\n",
       "q02_2 results: All test cases passed!\n",
       "\n",
       "q04 results: All test cases passed!\n",
       "\n",
       "q05 results: All test cases passed!\n",
       "\n",
       "q06_1 results: All test cases passed!\n",
       "\n",
       "q06_2 results: All test cases passed!\n",
       "\n",
       "q06_3 results: All test cases passed!\n",
       "\n",
       "q06_4 results: All test cases passed!\n",
       "\n",
       "q06_5 results: All test cases passed!\n",
       "\n",
       "q06_7 results: All test cases passed!\n",
       "\n",
       "q07_1 results: All test cases passed!\n",
       "\n",
       "q07_2 results: All test cases passed!\n",
       "\n",
       "q07_6 results: All test cases passed!\n",
       "\n",
       "q08_1 results: All test cases passed!\n",
       "\n",
       "q08_2 results: All test cases passed!\n",
       "\n",
       "q08_3 results: All test cases passed!"
      ]
     },
     "execution_count": 59,
     "metadata": {},
     "output_type": "execute_result"
    }
   ],
   "source": [
    "grader.check_all()"
   ]
  }
 ],
 "metadata": {
  "kernelspec": {
   "display_name": "pds",
   "language": "python",
   "name": "python3"
  },
  "language_info": {
   "codemirror_mode": {
    "name": "ipython",
    "version": 3
   },
   "file_extension": ".py",
   "mimetype": "text/x-python",
   "name": "python",
   "nbconvert_exporter": "python",
   "pygments_lexer": "ipython3",
   "version": "3.10.14"
  },
  "otter": {
   "tests": {
    "q01": {
     "name": "q01",
     "points": 4,
     "suites": [
      {
       "cases": [
        {
         "code": ">>> callable(create_adjacency) and isinstance(create_adjacency(example_net), np.ndarray)\nTrue",
         "hidden": false,
         "locked": false
        },
        {
         "code": ">>> example_net_output = create_adjacency(example_net)\n>>> example_net_output.shape == (4, 4) and np.allclose(example_net_output, A)\nTrue",
         "hidden": false,
         "locked": false
        },
        {
         "code": ">>> public_test_net = {1: [2, 3], 2: [1, 3], 3: [1, 2]}\n>>> public_test_net_output = create_adjacency(public_test_net)\n>>> public_test_net_output.shape == (3, 3) and np.allclose(public_test_net_output, np.array([[0, 0.5, 0.5], [0.5, 0, 0.5], [0.5, 0.5, 0]]))\nTrue",
         "hidden": false,
         "locked": false
        }
       ],
       "scored": true,
       "setup": "",
       "teardown": "",
       "type": "doctest"
      }
     ]
    },
    "q02_1": {
     "name": "q02_1",
     "points": 2,
     "suites": [
      {
       "cases": [
        {
         "code": ">>> callable(compute_scores) and isinstance(compute_scores(A), np.ndarray)\nTrue",
         "hidden": false,
         "locked": false
        },
        {
         "code": ">>> np.allclose(compute_scores(A), np.array([0.30769231, 0.38461538, 0.07692308, 0.23076923]))\nTrue",
         "hidden": false,
         "locked": false
        }
       ],
       "scored": true,
       "setup": "",
       "teardown": "",
       "type": "doctest"
      }
     ]
    },
    "q02_2": {
     "name": "q02_2",
     "points": 2,
     "suites": [
      {
       "cases": [
        {
         "code": ">>> callable(pagerank) and isinstance(pagerank(A), list)\nTrue",
         "hidden": false,
         "locked": false
        },
        {
         "code": ">>> np.allclose(pagerank(A), [2, 1, 4, 3])\nTrue",
         "hidden": false,
         "locked": false
        }
       ],
       "scored": true,
       "setup": "",
       "teardown": "",
       "type": "doctest"
      }
     ]
    },
    "q04": {
     "name": "q04",
     "points": 5,
     "suites": [
      {
       "cases": [
        {
         "code": ">>> callable(prob_at_least_k_same_suit) and isinstance(prob_at_least_k_same_suit(4), float)\nTrue",
         "hidden": false,
         "locked": false
        },
        {
         "code": ">>> call_one = prob_at_least_k_same_suit(4)\n>>> call_two = prob_at_least_k_same_suit(4)\n>>> call_one != call_two\nTrue",
         "failure_message": "Make sure your function doesn't just return the same value every time!",
         "hidden": false,
         "locked": false
        },
        {
         "code": ">>> 0.022 <= prob_at_least_k_same_suit(4) <= 0.029\nTrue",
         "failure_message": "Failing this but think you did your simulation correctly? Check your replacement strategy.",
         "hidden": false,
         "locked": false
        }
       ],
       "scored": true,
       "setup": "",
       "teardown": "",
       "type": "doctest"
      }
     ]
    },
    "q05": {
     "name": "q05",
     "points": 5,
     "suites": [
      {
       "cases": [
        {
         "code": ">>> callable(prob_all_one_jack) and isinstance(prob_all_one_jack(), float)\nTrue",
         "hidden": false,
         "locked": false
        },
        {
         "code": ">>> call_one = prob_all_one_jack()\n>>> call_two = prob_all_one_jack()\n>>> call_one != call_two\nTrue",
         "failure_message": "Make sure your function doesn't just return the same value every time!",
         "hidden": false,
         "locked": false
        }
       ],
       "scored": true,
       "setup": "",
       "teardown": "",
       "type": "doctest"
      }
     ]
    },
    "q06_1": {
     "name": "q06_1",
     "points": 1,
     "suites": [
      {
       "cases": [
        {
         "code": ">>> (isinstance(highest_rating_ever, float) or isinstance(highest_rating_ever, np.float64)) and highest_rating_ever in list(imdb['IMDb Rating'])\nTrue",
         "hidden": false,
         "locked": false
        }
       ],
       "scored": true,
       "setup": "",
       "teardown": "",
       "type": "doctest"
      }
     ]
    },
    "q06_2": {
     "name": "q06_2",
     "points": 2,
     "suites": [
      {
       "cases": [
        {
         "code": ">>> isinstance(movie_with_highest_rating_ever, str) and movie_with_highest_rating_ever in list(imdb['Title'])\nTrue",
         "hidden": false,
         "locked": false
        }
       ],
       "scored": true,
       "setup": "",
       "teardown": "",
       "type": "doctest"
      }
     ]
    },
    "q06_3": {
     "name": "q06_3",
     "points": 1,
     "suites": [
      {
       "cases": [
        {
         "code": ">>> (isinstance(num_comedy, int) or isinstance(num_comedy, np.int64)) and num_comedy < imdb.shape[0]\nTrue",
         "hidden": false,
         "locked": false
        }
       ],
       "scored": true,
       "setup": "",
       "teardown": "",
       "type": "doctest"
      }
     ]
    },
    "q06_4": {
     "name": "q06_4",
     "points": 2,
     "suites": [
      {
       "cases": [
        {
         "code": ">>> isinstance(most_common_genre_2024, str) and most_common_genre_2024 in list(imdb['Genre'])\nTrue",
         "hidden": false,
         "locked": false
        }
       ],
       "scored": true,
       "setup": "",
       "teardown": "",
       "type": "doctest"
      }
     ]
    },
    "q06_5": {
     "name": "q06_5",
     "points": 3,
     "suites": [
      {
       "cases": [
        {
         "code": ">>> (isinstance(prop_big_directors, float) or isinstance(prop_big_directors, np.float64)) and 0 < prop_big_directors < 1\nTrue",
         "hidden": false,
         "locked": false
        }
       ],
       "scored": true,
       "setup": "",
       "teardown": "",
       "type": "doctest"
      }
     ]
    },
    "q06_7": {
     "name": "q06_7",
     "points": 4,
     "suites": [
      {
       "cases": [
        {
         "code": ">>> (isinstance(num_hours_family_friendly, float) or isinstance(num_hours_family_friendly, np.float64)) and num_hours_family_friendly < 48\nTrue",
         "hidden": false,
         "locked": false
        }
       ],
       "scored": true,
       "setup": "",
       "teardown": "",
       "type": "doctest"
      }
     ]
    },
    "q07_1": {
     "name": "q07_1",
     "points": 5,
     "suites": [
      {
       "cases": [
        {
         "code": ">>> callable(extract_names) and isinstance(extract_names('Makoto ShinkaiClark Cheng'), list)\nTrue",
         "hidden": false,
         "locked": false
        },
        {
         "code": ">>> extract_names('Makoto ShinkaiClark Cheng') == ['Makoto Shinkai', 'Clark Cheng']\nTrue",
         "hidden": false,
         "locked": false
        },
        {
         "code": ">>> extract_names('Anya Taylor-JoyChris HemsworthTom Burke') == ['Anya Taylor-Joy', 'Chris Hemsworth', 'Tom Burke']\nTrue",
         "hidden": false,
         "locked": false
        }
       ],
       "scored": true,
       "setup": "",
       "teardown": "",
       "type": "doctest"
      }
     ]
    },
    "q07_2": {
     "name": "q07_2",
     "points": 2,
     "suites": [
      {
       "cases": [
        {
         "code": ">>> callable(most_common) and isinstance(most_common(pd.Series([1, 2, 2])), list)\nTrue",
         "hidden": false,
         "locked": false
        },
        {
         "code": ">>> most_common(pd.Series([1, 2, 2])) == [2]\nTrue",
         "hidden": false,
         "locked": false
        },
        {
         "code": ">>> most_common(pd.Series([1, 2])) == [1, 2] or most_common(pd.Series([1, 2])) == [2, 1]\nTrue",
         "hidden": false,
         "locked": false
        }
       ],
       "scored": true,
       "setup": "",
       "teardown": "",
       "type": "doctest"
      }
     ]
    },
    "q07_6": {
     "name": "q07_6",
     "points": 2,
     "suites": [
      {
       "cases": [
        {
         "code": ">>> (isinstance(average_harry_potter, float) or isinstance(average_harry_potter, np.float64)) and 3.9 < average_harry_potter < 9.2\nTrue",
         "hidden": false,
         "locked": false
        }
       ],
       "scored": true,
       "setup": "",
       "teardown": "",
       "type": "doctest"
      }
     ]
    },
    "q08_1": {
     "name": "q08_1",
     "points": 3,
     "suites": [
      {
       "cases": [
        {
         "code": ">>> callable(longest_title) and isinstance(longest_title(imdb.head(5)), str)\nTrue",
         "hidden": false,
         "locked": false
        },
        {
         "code": ">>> longest_title(imdb.head(5)) == '10 Things I Hate About You'\nTrue",
         "hidden": false,
         "locked": false
        },
        {
         "code": ">>> longest_title(imdb.tail(5)) == \"You Can't Run Forever\"\nTrue",
         "hidden": false,
         "locked": false
        }
       ],
       "scored": true,
       "setup": "",
       "teardown": "",
       "type": "doctest"
      }
     ]
    },
    "q08_2": {
     "name": "q08_2",
     "points": 3,
     "suites": [
      {
       "cases": [
        {
         "code": ">>> callable(metascore_to_rating_outlier) and isinstance(metascore_to_rating_outlier(imdb.head(5)), str)\nTrue",
         "hidden": false,
         "locked": false
        },
        {
         "code": ">>> metascore_to_rating_outlier(imdb.head(5)) == 'A Quiet Place'\nTrue",
         "hidden": false,
         "locked": false
        },
        {
         "code": ">>> metascore_to_rating_outlier(imdb.iloc[15:25]) == 'Barbie'\nTrue",
         "hidden": false,
         "locked": false
        }
       ],
       "scored": true,
       "setup": "",
       "teardown": "",
       "type": "doctest"
      }
     ]
    },
    "q08_3": {
     "name": "q08_3",
     "points": 3,
     "suites": [
      {
       "cases": [
        {
         "code": ">>> callable(genre_specific) and isinstance(genre_specific(imdb, 'Horror'), pd.DataFrame)\nTrue",
         "hidden": false,
         "locked": false
        },
        {
         "code": ">>> horror_output = genre_specific(imdb, 'Horror')\n>>> horror_output.shape == (8, 2)\nTrue",
         "hidden": false,
         "locked": false
        },
        {
         "code": ">>> horror_output = genre_specific(imdb, 'Horror')\n>>> np.all(horror_output.index == ['Alien: Romulus', 'Exhuma', 'The First Omen', 'Abigail', 'Immaculate', 'Sting', 'The Strangers: Chapter 1', 'Tarot'])\nTrue",
         "hidden": false,
         "locked": false
        }
       ],
       "scored": true,
       "setup": "",
       "teardown": "",
       "type": "doctest"
      }
     ]
    }
   }
  }
 },
 "nbformat": 4,
 "nbformat_minor": 5
}
