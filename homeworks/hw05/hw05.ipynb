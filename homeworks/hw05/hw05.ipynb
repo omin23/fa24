{
 "cells": [
  {
   "cell_type": "code",
   "execution_count": 1,
   "id": "a0d4f82c",
   "metadata": {
    "deletable": false,
    "editable": false
   },
   "outputs": [],
   "source": [
    "# Initialize Otter\n",
    "import otter\n",
    "grader = otter.Notebook(\"hw05.ipynb\")"
   ]
  },
  {
   "cell_type": "markdown",
   "id": "a5dac199",
   "metadata": {},
   "source": [
    "<div class=\"alert alert-success\" markdown=\"1\">\n",
    "\n",
    "#### Homework 5\n",
    "\n",
    "# Web Scraping and APIs\n",
    "\n",
    "### EECS 398-003: Practical Data Science, Fall 2024\n",
    "\n",
    "#### Due Thursday, October 3rd at 11:59PM\n",
    "    \n",
    "</div>"
   ]
  },
  {
   "cell_type": "markdown",
   "id": "d6b62438",
   "metadata": {},
   "source": [
    "## Instructions\n",
    "\n",
    "Welcome to Homework 5! In this homework, you will work with and wrangle real-world data from websites & APIs. We'll be writing some HTML, scraping it from the web and parsing it, and making requests to APIs to build structured DataFrames from JSON. See the [Readings section of the Resources tab on the course website](https://practicaldsc.org/resources/#readings) for supplemental resources.\n",
    "\n",
    "You are given six slip days throughout the semester to extend deadlines. See the [Syllabus](https://practicaldsc.org/syllabus) for more details. With the exception of using slip days, late work will not be accepted unless you have made special arrangements with your instructor.\n",
    "\n",
    "To access this notebook, you'll need to clone our [public GitHub repository](https://github.com/practicaldsc/fa24/). The [⚙️ Environment Setup](https://practicaldsc.org/env-setup) page on the course website walks you through the necessary steps. Once you're done, you'll submit your completed notebook to Gradescope.\n",
    "\n",
    "Please start early and submit often. You can submit as many times as you'd like to Gradescope, and we'll grade your **most recent** submission. Remember that the public `grader.check` tests in your notebook are not comprehensive, and that your work will also be graded On a hidden test cases on Gradescope after the submission deadline.\n",
    "\n",
    "This homework is worth a total of **34 points**, 30 of which come from the autograder and 4 of which are for completing our Pre-Midterm Survey (Question 0). The number of points each question is worth is listed at the start of each question. **The four questions in the assignment are independent, so feel free to move around if you get stuck**. Tip: if you're using Jupyter Lab, you can see a Table of Contents for the notebook by going to View > Table of Contents.\n",
    "\n",
    "<!-- <a name='like-dataframe'>\n",
    "\n",
    "</a>\n",
    "\n",
    "<div class=\"alert alert-warning\" markdown=\"1\">\n",
    "    \n",
    "**Note**: Throughout this homework, you'll see statements like this frequently:\n",
    "\n",
    "<blockquote>Complete the implementation of the function ____, which takes in a DataFrame <code>df</code> like <code>other_df</code> and _____.</blockquote>\n",
    "\n",
    "What this means is that you should assume that `df` has the same number of columns as `other_df`, with the same column titles and data types, but potentially a different number of rows in a different order, with a potentially different index. You should always also assume that `df` has at least one row.\n",
    "\n",
    "We have you implement functions like this to prevent you from hard-coding your answers to one specific dataset.\n",
    "\n",
    "</div>\n",
    " -->\n",
    " \n",
    "<div class=\"alert alert-danger\" markdown=\"1\">\n",
    "Unlike in recent homeworks, <tt>for</tt>-loops are <strong>allowed</strong> throughout this entire homework.\n",
    "\n",
    "</div>"
   ]
  },
  {
   "cell_type": "markdown",
   "id": "96f2a003",
   "metadata": {},
   "source": [
    "To get started, run the import cell above, plus the cell at the top of the notebook that imports and initializes `otter`."
   ]
  },
  {
   "cell_type": "code",
   "execution_count": 2,
   "id": "7f3dba4b",
   "metadata": {},
   "outputs": [],
   "source": [
    "import os\n",
    "import pandas as pd\n",
    "import numpy as np\n",
    "import requests\n",
    "from bs4 import BeautifulSoup"
   ]
  },
  {
   "cell_type": "markdown",
   "id": "b0f271f0",
   "metadata": {},
   "source": [
    "## Question 0: Pre-Midterm Survey 📬 <div style=\"display:inline-block; vertical-align: middle; padding:7px 7px; font-size:10px; font-weight:light; color:white; background-color:#e84c4a; border-radius:7px; text-align:left;\">5 Points</div>\n",
    "\n",
    "We'd like to get your feedback on how the class is going so far, now that we're just over a month in. We've put together a survey that asks you to provide feedback on all aspects of the course. You can provide as much or as little detail as you'd like. We expect it will take 15 minutes to complete.\n",
    "\n",
    "This survey is **NOT anonymous**, since it's for class credit – it counts towards your score for Homework 5. The responses to the survey will be visible to course staff.\n",
    "\n",
    "<center><h3>Access the survey <a href=\"https://docs.google.com/forms/d/e/1FAIpQLSfCT2TfFUWF0gbnfuV_at0bG3w0Za9-KuLIA7cpZm0NL5jbKQ/viewform\"><b>here</b></a>.</center>\n",
    "\n",
    "We will manually add 4 points to your Homework 5 score after the deadline, once we verify that you submitted this survey. Make sure to sign in with your @umich.edu email.\n",
    "\n",
    "We really appreciate your feedback, thanks! 😊"
   ]
  },
  {
   "cell_type": "markdown",
   "id": "f7c54cc4",
   "metadata": {},
   "source": [
    "## Question 1: Practice with HTML Tags 📎 <div style=\"display:inline-block; vertical-align: middle; padding:7px 7px; font-size:10px; font-weight:light; color:white; background-color:#e84c4a; border-radius:7px; text-align:left;\">4 Points</div>\n",
    "\n",
    "In Question 2, you'll spend plenty of time parsing HTML source code. But before you get your hands dirty trying to extract information from HTML written by other people, it is a good idea to write some basic HTML code yourself. This exercise will help you better understand how the code in a `.html` file is structured.\n",
    "\n",
    "For this question, you'll create a very basic `.html` file, named `hw05_q01.html`, that satisfies the following conditions:\n",
    "\n",
    "- It must have `<title>` and `<head>` tags.\n",
    "- It must also have `<body>` tags. Within the `<body>` tags, it must have:\n",
    "    - At least two headers.\n",
    "    * At least three images.\n",
    "        - At least one image must be a local file.\n",
    "        - At least one image must be linked to online source.\n",
    "        - At least one image has to have default text when it cannot be displayed.\n",
    "    * At least three references (hyperlinks) to different web pages.\n",
    "    * At least one table with two rows and two columns.\n",
    "    \n",
    "\n",
    "Make sure to save your file as `hw05_q01.html`. **When submitting this homework to Gradescope, make sure to also upload `hw05_q01.html` along with the _local_ image that you embedded in your site.** You can upload multiple files to Gradescope at a time.\n",
    "   \n",
    "\n",
    "Some guidance: \n",
    "\n",
    "- You can write and view basic HTML with a Jupyter Notebook, using either a Markdown cell or by using the `IPython.display.HTML` function (which takes in a string of HTML and renders it).\n",
    "- If you write your HTML code within a Jupyter Notebook, you should later copy your code into a text editor and save it with the `.html` extension. You could also write your HTML in a text editor directly.\n",
    "- Be sure to open your final `.html` file in a browser and make sure it looks correct on its own."
   ]
  },
  {
   "cell_type": "code",
   "execution_count": 32,
   "id": "360262bc",
   "metadata": {},
   "outputs": [
    {
     "data": {
      "text/html": [
       "\n",
       "<head>\n",
       "    <title>Homework 5</title>\n",
       "</head>\n",
       "<body>\n",
       "    <h1>Homework 5 local img</h1>\n",
       "    <img src=\"emblem .png\">\n",
       "    \n",
       "    <h1>Homework 5 non local img</h1>\n",
       "    <img src=\"https://www.w3schools.com/images/w3schools_green.jpg\">\n",
       "\n",
       "    <h1>Homework 5 local img with alt</h1>\n",
       "    <img src=\"emblem .png\" alt=\"emblem\">\n",
       "\n",
       "    <a href=\"chrome-extension://efaidnbmnnnibpcajpcglclefindmkaj/https://openreview.net/pdf?id=2noXK5KBbx\">Graph Structure Learnings</a>\n",
       "    <br>\n",
       "    <a href=\"https://www.w3schools.com/html/html_images.asp\">W3 Schools</a>\n",
       "    <br>\n",
       "    <a href=\"https://events.umich.edu/list\">UMICH happening</a>\n",
       "\n",
       "    <h1>Homework 5 table</h1>\n",
       "    <table border=\"1\">\n",
       "        <tr>\n",
       "            <th>Option 1</th>\n",
       "            <th>Option 2</th>\n",
       "            <th>Option 3</th>\n",
       "        </tr>\n",
       "        <tr>\n",
       "            <td>R H, C 1</td>\n",
       "            <td>R 1, C E</td>\n",
       "            <td>R L, C 3</td>\n",
       "        </tr>\n",
       "        <tr>\n",
       "            <td>R 2, C 1</td>\n",
       "            <td>R L, C 2</td>\n",
       "            <td>R 2, C 3</td>\n",
       "        </tr>\n",
       "        <tr>\n",
       "            <td>R 3, C 1</td>\n",
       "            <td>R 3, C O</td>\n",
       "            <td>R 3, C :)</td>\n",
       "        </tr>\n",
       "    </table>\n",
       "</body>"
      ],
      "text/plain": [
       "<IPython.core.display.HTML object>"
      ]
     },
     "metadata": {},
     "output_type": "display_data"
    }
   ],
   "source": [
    "from IPython.display import HTML\n",
    "\n",
    "with open(\"/Users/macbook/Desktop/EECS389/fa24/homeworks/hw05/hw05_q01.html\", \"r\") as file:\n",
    "    html_content = file.read()\n",
    "\n",
    "# Display the HTML content\n",
    "display(HTML(html_content))"
   ]
  },
  {
   "cell_type": "code",
   "execution_count": 4,
   "id": "6e51d60c",
   "metadata": {
    "deletable": false,
    "editable": false
   },
   "outputs": [
    {
     "data": {
      "text/html": [
       "<p><strong><pre style='display: inline;'>q01</pre></strong> passed!</p>"
      ],
      "text/plain": [
       "q01 results: All test cases passed!"
      ]
     },
     "execution_count": 4,
     "metadata": {},
     "output_type": "execute_result"
    }
   ],
   "source": [
    "grader.check(\"q01\")"
   ]
  },
  {
   "cell_type": "markdown",
   "id": "529e2935",
   "metadata": {},
   "source": [
    "## Question 2: Scraping an Online Bookstore 📚\n",
    "\n",
    "Browse through the following fake online bookstore: http://books.toscrape.com/. This website is meant for toying with scraping.\n",
    "\n",
    "By the end of this question, you'll scrape this website, collecting data on all the books that have:\n",
    "- **_at least_ a four-star rating**, and\n",
    "- **a price _strictly_ less than £50**, and \n",
    "- **belong to specific categories** (more details below). \n",
    "\n",
    "This is a multi-step question, which we've broken into several sub-questions to help you organize your work."
   ]
  },
  {
   "cell_type": "markdown",
   "id": "372fd656",
   "metadata": {},
   "source": [
    "### MAKING A DATAFRAME"
   ]
  },
  {
   "cell_type": "code",
   "execution_count": 5,
   "id": "9d0133d5",
   "metadata": {},
   "outputs": [],
   "source": [
    "def gener(i):\n",
    "    return BeautifulSoup((requests.get(f'http://books.toscrape.com/catalogue/page-{i}.html')).text)"
   ]
  },
  {
   "cell_type": "code",
   "execution_count": 6,
   "id": "06212940",
   "metadata": {},
   "outputs": [],
   "source": [
    "def process(article):\n",
    "    title = article.find('h3').find('a').get('title')\n",
    "    price =  float(article.find('div', class_='product_price').find('p', class_='price_color').text[1:])\n",
    "    rating = article.find('p').get('class')[1]\n",
    "    exist = (article.find('p', class_='instock availability').text.strip() == 'In stock')\n",
    "    link = article.find('h3').find('a').get('href')\n",
    "    return {'title': title, 'price': price, 'rating': rating, 'exist': exist, 'link': link}\n",
    "    "
   ]
  },
  {
   "cell_type": "code",
   "execution_count": 7,
   "id": "7bf3bc31",
   "metadata": {},
   "outputs": [],
   "source": [
    "row_list = []\n",
    "\n",
    "for i in range(1,51):\n",
    "    soup = gener(i)\n",
    "    thing = soup.find_all('li')\n",
    "    for j in range(53,len(thing)+1):\n",
    "        try:\n",
    "            row_list.append(process(thing[j]))\n",
    "        except:\n",
    "            continue"
   ]
  },
  {
   "cell_type": "code",
   "execution_count": 8,
   "id": "9ead07b2",
   "metadata": {},
   "outputs": [],
   "source": [
    "def booksratingtonum(rating):\n",
    "    if rating == 'One':\n",
    "        return 1\n",
    "    elif rating == 'Two':\n",
    "        return 2\n",
    "    elif rating == 'Three':\n",
    "        return 3\n",
    "    elif rating == 'Four':\n",
    "        return 4\n",
    "    elif rating == 'Five':\n",
    "        return 5"
   ]
  },
  {
   "cell_type": "code",
   "execution_count": 9,
   "id": "2ca58910",
   "metadata": {},
   "outputs": [],
   "source": [
    "#books = pd.DataFrame(row_list)\n",
    "#books['rating_num'] = books['rating'].apply(booksratingtonum)"
   ]
  },
  {
   "cell_type": "markdown",
   "id": "1e49bc08",
   "metadata": {},
   "source": [
    "### Question 2.1 <div style=\"display:inline-block; vertical-align: middle; padding:7px 7px; font-size:10px; font-weight:light; color:white; background-color:#e84c4a; border-radius:7px; text-align:left;\">4 Points</div>\n",
    "\n",
    "Complete the implementation of the function `extract_book_links`, which takes in the content of a page that contains book listings as a **string of HTML**, and returns a **list** of URLs of book-specific pages for all books with:\n",
    "- **_at least_ a four-star rating**, and\n",
    "-  **a price _strictly_ less than £50**.\n",
    "\n",
    "Example behavior is given below.\n",
    "\n",
    "```python\n",
    ">>> out = extract_book_links(open('data/products.html', encoding='utf-8').read())\n",
    ">>> len(out)\n",
    "6\n",
    "\n",
    ">>> out[1]\n",
    "'scarlet-the-lunar-chronicles-2_218/index.html'\n",
    "\n",
    ">>> out[-1]\n",
    "'ready-player-one_209/index.html'\n",
    "```\n",
    "\n",
    "Some guidance:\n",
    "- The URLs should appear in the order in which they appear in the string of HTML. Additionally, the URLs shouldn't contain the protocol, i.e. `'http://books.toscrape.com/catalogue/'`. The protocols should be added into the URLs when you actually make the requests in Question 2.3.\n",
    "- Throughout this question, you should use the \"Inspect\" tool in your browser to view the source code of the pages you're trying to scrape. The public tests for this question are run on the file `data/products.html`, but your code should also work on any page of book listings from https://books.toscrape.com/, e.g. https://books.toscrape.com/catalogue/page-3.html. So, to test your work, you may want to request a few specific pages **outside** of your function; `extract_book_links` itself should not make any requests."
   ]
  },
  {
   "cell_type": "code",
   "execution_count": 10,
   "id": "95877972",
   "metadata": {
    "tags": []
   },
   "outputs": [
    {
     "data": {
      "text/plain": [
       "['seven-brief-lessons-on-physics_219/index.html',\n",
       " 'scarlet-the-lunar-chronicles-2_218/index.html',\n",
       " 'saga-volume-3-saga-collected-editions-3_216/index.html',\n",
       " 'running-with-scissors_215/index.html',\n",
       " 'rise-of-the-rocket-girls-the-women-who-propelled-us-from-missiles-to-the-moon-to-mars_213/index.html',\n",
       " 'ready-player-one_209/index.html']"
      ]
     },
     "execution_count": 10,
     "metadata": {},
     "output_type": "execute_result"
    }
   ],
   "source": [
    "def extract_book_links(text):\n",
    "    row_list = []\n",
    "    \n",
    "    soup = BeautifulSoup(text)\n",
    "    thing = soup.find_all('article', class_ = \"product_pod\")\n",
    "    for i in range(len(thing)):\n",
    "            row_list.append(process(thing[i]))\n",
    "    books = pd.DataFrame(row_list)\n",
    "    books['rating_num'] = books['rating'].apply(booksratingtonum)\n",
    "    return books[(books['rating_num'] > 3) & (books['price'] < 50)]['link'].to_list()\n",
    "    \n",
    "    \n",
    "\n",
    "# Feel free to change this input to make sure your function works correctly.\n",
    "extract_book_links(open('data/products.html', encoding='utf-8').read())"
   ]
  },
  {
   "cell_type": "code",
   "execution_count": 11,
   "id": "733eeda0",
   "metadata": {
    "deletable": false,
    "editable": false
   },
   "outputs": [
    {
     "data": {
      "text/html": [
       "<p><strong><pre style='display: inline;'>q02_1</pre></strong> passed!</p>"
      ],
      "text/plain": [
       "q02_1 results: All test cases passed!"
      ]
     },
     "execution_count": 11,
     "metadata": {},
     "output_type": "execute_result"
    }
   ],
   "source": [
    "grader.check(\"q02_1\")"
   ]
  },
  {
   "cell_type": "markdown",
   "id": "7b9da962",
   "metadata": {},
   "source": [
    "### Question 2.2 <div style=\"display:inline-block; vertical-align: middle; padding:7px 7px; font-size:10px; font-weight:light; color:white; background-color:#e84c4a; border-radius:7px; text-align:left;\">5 Points</div>\n",
    "\n",
    "Complete the implementation of the function `get_product_info`, which takes in the content of a single book-specific page as a **string of HTML**, and a list `categories` of book categories. If the input book is in the list of `categories`, `get_product_info` should return a **dictionary** corresponding to a row in the DataFrame in the image above (where the keys are the column names and the values are the row values). If the input book is not in the list of `categories`, return `None`.\n",
    "\n",
    "Example behavior is given below.\n",
    "\n",
    "```python\n",
    ">>> html_string = open('data/Frankenstein.html', encoding='utf-8').read()\n",
    ">>> out = get_product_info(html_string, ['Default'])\n",
    ">>> type(out)\n",
    "dict\n",
    "\n",
    ">>> out.keys()\n",
    "dict_keys(['UPC', 'Product Type', 'Price (excl. tax)', 'Price (incl. tax)', 'Tax', 'Availability', 'Number of reviews', 'Category', 'Rating', 'Description', 'Title'])\n",
    "\n",
    ">>> out['Rating']\n",
    "'Two'\n",
    "\n",
    ">>> out['Price (incl. tax)']\n",
    "'£38.00'\n",
    "```\n",
    "\n",
    "Some guidance:\n",
    "- The public tests for this question are run on the file `data/Frankenstein.html`, but your code should also work on any individual book's page from https://books.toscrape.com/, e.g. https://books.toscrape.com/catalogue/sharp-objects_997/index.html. So, to test your work, you may want to request a few specific pages **outside** of your function; `extract_book_links` itself should not make any requests.\n",
    "- Don't worry about the types of the values in your returned dictionary. That is, it's fine if your `'Number of reviews'` value is not stored as type `int`, and it's fine if your `'Price'` value is not stored as type `float`."
   ]
  },
  {
   "cell_type": "code",
   "execution_count": 12,
   "id": "23a7cd0c",
   "metadata": {
    "tags": []
   },
   "outputs": [
    {
     "data": {
      "text/plain": [
       "{'UPC': 'a492f49a3e2b6a71',\n",
       " 'Product Type': 'Books',\n",
       " 'Price (excl. tax)': '£38.00',\n",
       " 'Price (incl. tax)': '£38.00',\n",
       " 'Tax': '£0.00',\n",
       " 'Availability': 'In stock (1 available)',\n",
       " 'Number of reviews': '0',\n",
       " 'Category': 'Default',\n",
       " 'Rating': 'Two',\n",
       " 'Description': \"Mary Shelley began writing Frankenstein when she was only eighteen. At once a Gothic thriller, a passionate romance, and a cautionary tale about the dangers of science, Frankenstein tells the story of committed science student Victor Frankenstein. Obsessed with discovering the cause of generation and life and bestowing animation upon lifeless matter, Frankenstein assembles Mary Shelley began writing Frankenstein when she was only eighteen. At once a Gothic thriller, a passionate romance, and a cautionary tale about the dangers of science, Frankenstein tells the story of committed science student Victor Frankenstein. Obsessed with discovering the cause of generation and life and bestowing animation upon lifeless matter, Frankenstein assembles a human being from stolen body parts but; upon bringing it to life, he recoils in horror at the creature's hideousness. Tormented by isolation and loneliness, the once-innocent creature turns to evil and unleashes a campaign of murderous revenge against his creator, Frankenstein.Frankenstein, an instant bestseller and an important ancestor of both the horror and science fiction genres, not only tells a terrifying story, but also raises profound, disturbing questions about the very nature of life and the place of humankind within the cosmos: What does it mean to be human? What responsibilities do we have to each other? How far can we go in tampering with Nature? In our age, filled with news of organ donation genetic engineering, and bio-terrorism, these questions are more relevant than ever. ...more\",\n",
       " 'Title': 'Frankenstein'}"
      ]
     },
     "execution_count": 12,
     "metadata": {},
     "output_type": "execute_result"
    }
   ],
   "source": [
    "import re\n",
    "def get_product_info(text, categories):\n",
    "    row_list = []\n",
    "    soup = BeautifulSoup(text)\n",
    "    category = soup.find('a', attrs={'href': re.compile(\"../category/books/\")}).text\n",
    "    rating = soup.find('p', class_ = re.compile('star-rating')).get('class')[1]\n",
    "    title = soup.find(\"h1\").text\n",
    "    dec = soup.find_all('p')\n",
    "    for i in dec:\n",
    "        if not i.get('class'):\n",
    "            description = i.text\n",
    "            break \n",
    "        \n",
    "    UPC = soup.find('table', class_='table table-striped').find_all('td')[0].text\n",
    "    PROD_TYPE = soup.find('table', class_='table table-striped').find_all('td')[1].text\n",
    "    Price_ecl = soup.find('table', class_='table table-striped').find_all('td')[2].text\n",
    "    Price_incl = soup.find('table', class_='table table-striped').find_all('td')[3].text\n",
    "    Tax = soup.find('table', class_='table table-striped').find_all('td')[4].text\n",
    "    available = soup.find('table', class_='table table-striped').find_all('td')[5].text\n",
    "    rev = soup.find('table', class_='table table-striped').find_all('td')[6].text\n",
    "    if category in categories:\n",
    "        return {'UPC': UPC,'Product Type': PROD_TYPE,'Price (excl. tax)': Price_ecl, 'Price (incl. tax)': Price_incl, 'Tax': Tax, 'Availability': available,'Number of reviews': rev, 'Category': category, 'Rating': rating, 'Description': description,'Title': title}\n",
    "    return {'UPC': np.nan,'Product Type':  np.nan,'Price (excl. tax)':  np.nan, 'Price (incl. tax)':  np.nan, 'Tax':  np.nan, 'Availability':  np.nan,'Number of reviews':  np.nan, 'Category':  np.nan, 'Rating':  np.nan, 'Description':  np.nan,'Title':  title}\n",
    "# Feel free to change this input to make sure your function works correctly.\n",
    "get_product_info(open('data/Frankenstein.html', encoding='utf-8').read(), ['Default'])"
   ]
  },
  {
   "cell_type": "code",
   "execution_count": 13,
   "id": "9ad090b9",
   "metadata": {
    "deletable": false,
    "editable": false
   },
   "outputs": [
    {
     "data": {
      "text/html": [
       "<p><strong><pre style='display: inline;'>q02_2</pre></strong> passed!</p>"
      ],
      "text/plain": [
       "q02_2 results: All test cases passed!"
      ]
     },
     "execution_count": 13,
     "metadata": {},
     "output_type": "execute_result"
    }
   ],
   "source": [
    "grader.check(\"q02_2\")"
   ]
  },
  {
   "cell_type": "markdown",
   "id": "edbc6bb4",
   "metadata": {},
   "source": [
    "### Question 2.3 <div style=\"display:inline-block; vertical-align: middle; padding:7px 7px; font-size:10px; font-weight:light; color:white; background-color:#e84c4a; border-radius:7px; text-align:left;\">4 Points</div>\n",
    "\n",
    "Finally, put everything together. Complete the implementation of the function `scrape_books`, which takes in an integer `k` and a list `categories` of book categories. `scrape_books` should use `requests` to scrape the first `k` pages of the bookstore and return a DataFrame of only the books that have:\n",
    "- **_at least_ a four-star rating**, and\n",
    "- **a price _strictly_ less than £50**, and\n",
    "- **a category that is in the list `categories`**.\n",
    "\n",
    "Example behavior is given below.\n",
    "\n",
    "```python\n",
    ">>> scrape_books(5, ['Default', 'Romance'])\n",
    "```\n",
    "<table border=\"1\" class=\"dataframe\">\n",
    "  <thead>\n",
    "    <tr style=\"text-align: right;\">\n",
    "      <th></th>\n",
    "      <th>UPC</th>\n",
    "      <th>Product Type</th>\n",
    "      <th>Price (excl. tax)</th>\n",
    "      <th>Price (incl. tax)</th>\n",
    "      <th>Tax</th>\n",
    "      <th>Availability</th>\n",
    "      <th>Number of reviews</th>\n",
    "      <th>Category</th>\n",
    "      <th>Rating</th>\n",
    "      <th>Description</th>\n",
    "      <th>Title</th>\n",
    "    </tr>\n",
    "  </thead>\n",
    "  <tbody>\n",
    "    <tr>\n",
    "      <th>0</th>\n",
    "      <td>e10e1e165dc8be4a</td>\n",
    "      <td>Books</td>\n",
    "      <td>Â£22.60</td>\n",
    "      <td>Â£22.60</td>\n",
    "      <td>Â£0.00</td>\n",
    "      <td>In stock (19 available)</td>\n",
    "      <td>0</td>\n",
    "      <td>Default</td>\n",
    "      <td>Four</td>\n",
    "      <td>For readers of Laura Hillenbrand's Seabiscuit ...</td>\n",
    "      <td>The Boys in the Boat: Nine Americans and Their...</td>\n",
    "    </tr>\n",
    "    <tr>\n",
    "      <th>1</th>\n",
    "      <td>c2e46a2ee3b4a322</td>\n",
    "      <td>Books</td>\n",
    "      <td>Â£25.27</td>\n",
    "      <td>Â£25.27</td>\n",
    "      <td>Â£0.00</td>\n",
    "      <td>In stock (19 available)</td>\n",
    "      <td>0</td>\n",
    "      <td>Romance</td>\n",
    "      <td>Five</td>\n",
    "      <td>A Michelin two-star chef at twenty-eight, Viol...</td>\n",
    "      <td>Chase Me (Paris Nights #2)</td>\n",
    "    </tr>\n",
    "    <tr>\n",
    "      <th>2</th>\n",
    "      <td>00bfed9e18bb36f3</td>\n",
    "      <td>Books</td>\n",
    "      <td>Â£34.53</td>\n",
    "      <td>Â£34.53</td>\n",
    "      <td>Â£0.00</td>\n",
    "      <td>In stock (19 available)</td>\n",
    "      <td>0</td>\n",
    "      <td>Romance</td>\n",
    "      <td>Five</td>\n",
    "      <td>No matter how busy he keeps himself, successfu...</td>\n",
    "      <td>Black Dust</td>\n",
    "    </tr>\n",
    "    <tr>\n",
    "      <th>3</th>\n",
    "      <td>8c9e6bf2467d740d</td>\n",
    "      <td>Books</td>\n",
    "      <td>Â£20.59</td>\n",
    "      <td>Â£20.59</td>\n",
    "      <td>Â£0.00</td>\n",
    "      <td>In stock (16 available)</td>\n",
    "      <td>0</td>\n",
    "      <td>Default</td>\n",
    "      <td>Five</td>\n",
    "      <td>Slay Procrastination, Distraction, and Overwhe...</td>\n",
    "      <td>The Inefficiency Assassin: Time Management Tac...</td>\n",
    "    </tr>\n",
    "  </tbody>\n",
    "</table>\n",
    "\n",
    "\n",
    "<br>\n",
    "\n",
    "Some guidance:\n",
    "\n",
    "- The first page of the bookstore is at http://books.toscrape.com/catalogue/page-1.html. Subsequent pages can be found by clicking the \"Next\" button at the bottom of the page. Look at how the URLs change each time you navigate to a new page; think about how to use [f-strings](https://docs.python.org/3/tutorial/inputoutput.html#formatted-string-literals) (or some other string formatting technique) to generate these URLs.\n",
    "- **`scrape_books` should run in under 180 seconds on the entire bookstore (`k = 50`). `scrape_books` is also the only function that should make `GET` requests; the other two functions parse already-existing HTML.**\n",
    "- It's fine if your `'Price'` column contains symbols other than `'£'`, as in the example above."
   ]
  },
  {
   "cell_type": "code",
   "execution_count": 14,
   "id": "de4e40a5",
   "metadata": {},
   "outputs": [],
   "source": [
    "def process(article):\n",
    "    title = article.find('h3').find('a').get('title')\n",
    "    price =  float(article.find('div', class_='product_price').find('p', class_='price_color').text[2:])\n",
    "    rating = article.find('p').get('class')[1]\n",
    "    exist = (article.find('p', class_='instock availability').text.strip() == 'In stock')\n",
    "    link = article.find('h3').find('a').get('href')\n",
    "    return {'Title': title, 'price': price, 'rating': rating, 'exist': exist, 'link': link}"
   ]
  },
  {
   "cell_type": "code",
   "execution_count": 15,
   "id": "ef168553",
   "metadata": {
    "tags": [
     "to-py"
    ]
   },
   "outputs": [
    {
     "name": "stderr",
     "output_type": "stream",
     "text": [
      "/var/folders/tk/5wwklm_510195bkcv38s82q80000gn/T/ipykernel_35950/2127363547.py:16: UserWarning: Boolean Series key will be reindexed to match DataFrame index.\n",
      "  return big[big['price'] < 50][big['rating_num'] > 3].drop(columns = ['rating_num', 'price'])\n"
     ]
    },
    {
     "data": {
      "text/html": [
       "<div>\n",
       "<style scoped>\n",
       "    .dataframe tbody tr th:only-of-type {\n",
       "        vertical-align: middle;\n",
       "    }\n",
       "\n",
       "    .dataframe tbody tr th {\n",
       "        vertical-align: top;\n",
       "    }\n",
       "\n",
       "    .dataframe thead th {\n",
       "        text-align: right;\n",
       "    }\n",
       "</style>\n",
       "<table border=\"1\" class=\"dataframe\">\n",
       "  <thead>\n",
       "    <tr style=\"text-align: right;\">\n",
       "      <th></th>\n",
       "      <th>UPC</th>\n",
       "      <th>Product Type</th>\n",
       "      <th>Price (excl. tax)</th>\n",
       "      <th>Price (incl. tax)</th>\n",
       "      <th>Tax</th>\n",
       "      <th>Availability</th>\n",
       "      <th>Number of reviews</th>\n",
       "      <th>Category</th>\n",
       "      <th>Rating</th>\n",
       "      <th>Description</th>\n",
       "      <th>Title</th>\n",
       "    </tr>\n",
       "  </thead>\n",
       "  <tbody>\n",
       "    <tr>\n",
       "      <th>8</th>\n",
       "      <td>e10e1e165dc8be4a</td>\n",
       "      <td>Books</td>\n",
       "      <td>Â£22.60</td>\n",
       "      <td>Â£22.60</td>\n",
       "      <td>Â£0.00</td>\n",
       "      <td>In stock (19 available)</td>\n",
       "      <td>0</td>\n",
       "      <td>Default</td>\n",
       "      <td>Four</td>\n",
       "      <td>For readers of Laura Hillenbrand's Seabiscuit ...</td>\n",
       "      <td>The Boys in the Boat: Nine Americans and Their...</td>\n",
       "    </tr>\n",
       "    <tr>\n",
       "      <th>23</th>\n",
       "      <td>c2e46a2ee3b4a322</td>\n",
       "      <td>Books</td>\n",
       "      <td>Â£25.27</td>\n",
       "      <td>Â£25.27</td>\n",
       "      <td>Â£0.00</td>\n",
       "      <td>In stock (19 available)</td>\n",
       "      <td>0</td>\n",
       "      <td>Romance</td>\n",
       "      <td>Five</td>\n",
       "      <td>A Michelin two-star chef at twenty-eight, Viol...</td>\n",
       "      <td>Chase Me (Paris Nights #2)</td>\n",
       "    </tr>\n",
       "    <tr>\n",
       "      <th>24</th>\n",
       "      <td>00bfed9e18bb36f3</td>\n",
       "      <td>Books</td>\n",
       "      <td>Â£34.53</td>\n",
       "      <td>Â£34.53</td>\n",
       "      <td>Â£0.00</td>\n",
       "      <td>In stock (19 available)</td>\n",
       "      <td>0</td>\n",
       "      <td>Romance</td>\n",
       "      <td>Five</td>\n",
       "      <td>No matter how busy he keeps himself, successfu...</td>\n",
       "      <td>Black Dust</td>\n",
       "    </tr>\n",
       "    <tr>\n",
       "      <th>65</th>\n",
       "      <td>8c9e6bf2467d740d</td>\n",
       "      <td>Books</td>\n",
       "      <td>Â£20.59</td>\n",
       "      <td>Â£20.59</td>\n",
       "      <td>Â£0.00</td>\n",
       "      <td>In stock (16 available)</td>\n",
       "      <td>0</td>\n",
       "      <td>Default</td>\n",
       "      <td>Five</td>\n",
       "      <td>Slay Procrastination, Distraction, and Overwhe...</td>\n",
       "      <td>The Inefficiency Assassin: Time Management Tac...</td>\n",
       "    </tr>\n",
       "  </tbody>\n",
       "</table>\n",
       "</div>"
      ],
      "text/plain": [
       "                 UPC Product Type Price (excl. tax) Price (incl. tax)     Tax  \\\n",
       "8   e10e1e165dc8be4a        Books           Â£22.60           Â£22.60  Â£0.00   \n",
       "23  c2e46a2ee3b4a322        Books           Â£25.27           Â£25.27  Â£0.00   \n",
       "24  00bfed9e18bb36f3        Books           Â£34.53           Â£34.53  Â£0.00   \n",
       "65  8c9e6bf2467d740d        Books           Â£20.59           Â£20.59  Â£0.00   \n",
       "\n",
       "               Availability Number of reviews Category Rating  \\\n",
       "8   In stock (19 available)                 0  Default   Four   \n",
       "23  In stock (19 available)                 0  Romance   Five   \n",
       "24  In stock (19 available)                 0  Romance   Five   \n",
       "65  In stock (16 available)                 0  Default   Five   \n",
       "\n",
       "                                          Description  \\\n",
       "8   For readers of Laura Hillenbrand's Seabiscuit ...   \n",
       "23  A Michelin two-star chef at twenty-eight, Viol...   \n",
       "24  No matter how busy he keeps himself, successfu...   \n",
       "65  Slay Procrastination, Distraction, and Overwhe...   \n",
       "\n",
       "                                                Title  \n",
       "8   The Boys in the Boat: Nine Americans and Their...  \n",
       "23                         Chase Me (Paris Nights #2)  \n",
       "24                                         Black Dust  \n",
       "65  The Inefficiency Assassin: Time Management Tac...  "
      ]
     },
     "execution_count": 15,
     "metadata": {},
     "output_type": "execute_result"
    }
   ],
   "source": [
    "def scrape_books(k,catagories):\n",
    "    row_listbig = []\n",
    "    row_list = []\n",
    "    for i in range(1,k):\n",
    "        soup = gener(i)\n",
    "        thing = soup.find_all('article', class_ = \"product_pod\")\n",
    "        for j in thing:\n",
    "            info = j.find('h3').find('a').get('href')\n",
    "            #row_list.append(process(j))\n",
    "            prod_soup = requests.get(f'http://books.toscrape.com/catalogue/{info}').text\n",
    "            row_listbig.append(get_product_info(prod_soup, catagories))\n",
    "    big = pd.DataFrame(row_listbig)\n",
    "    big = big.dropna()\n",
    "    big['price'] = big['Price (excl. tax)'].apply(lambda x: float(x[2:]))\n",
    "    big['rating_num'] = big['Rating'].apply(booksratingtonum)\n",
    "    return big[big['price'] < 50][big['rating_num'] > 3].drop(columns = ['rating_num', 'price'])\n",
    "\n",
    "            \n",
    "# Feel free to change this input to make sure your function works correctly.\n",
    "big = scrape_books(5, ['Default', 'Romance'])\n",
    "big "
   ]
  },
  {
   "cell_type": "code",
   "execution_count": 16,
   "id": "2b247a75",
   "metadata": {},
   "outputs": [
    {
     "data": {
      "text/plain": [
       "{'Availability',\n",
       " 'Category',\n",
       " 'Description',\n",
       " 'Number of reviews',\n",
       " 'Price (excl. tax)',\n",
       " 'Price (incl. tax)',\n",
       " 'Product Type',\n",
       " 'Rating',\n",
       " 'Tax',\n",
       " 'Title',\n",
       " 'UPC'}"
      ]
     },
     "execution_count": 16,
     "metadata": {},
     "output_type": "execute_result"
    }
   ],
   "source": [
    "set(big.columns)"
   ]
  },
  {
   "cell_type": "code",
   "execution_count": 17,
   "id": "bf2fb6ca",
   "metadata": {
    "deletable": false,
    "editable": false
   },
   "outputs": [
    {
     "data": {
      "text/html": [
       "<p><strong><pre style='display: inline;'>q02_3</pre></strong> passed!</p>"
      ],
      "text/plain": [
       "q02_3 results: All test cases passed!"
      ]
     },
     "execution_count": 17,
     "metadata": {},
     "output_type": "execute_result"
    }
   ],
   "source": [
    "grader.check(\"q02_3\")"
   ]
  },
  {
   "cell_type": "markdown",
   "id": "34311f3c",
   "metadata": {},
   "source": [
    "## Question 3: Stock Stats 🤑\n",
    "\n",
    "You're aspiring for a finance job in Chicago, and decide to put your new data wrangling skills to the test by pulling stock data from an API and calculating various statistics. The API we will work in this question is hosted by Financial Modeling Prep, and can be found at https://site.financialmodelingprep.com/developer/docs#daily-chart-charts. Specifically, we will use the \"**Daily Chart EOD**\" endpoint – search for it at the linked page.\n",
    "\n",
    "Some relevant definitions:\n",
    "- Ticker: A short code that refers to a stock. For example, Apple's ticker is AAPL and Ford's ticker is F. \n",
    "- Open: The price of a stock at the beginning of a trading day.\n",
    "- Close: The price of a stock at the end of a trading day.\n",
    "- Volume: The total number of shares traded in a day.\n",
    "- Percent change: The difference in price with respect to the original price, as a percentage.\n",
    "\n",
    "To make requests to the aforementioned API, you will need an API key. **In order to get one, you will need to make an account at the website.** Once you've signed up, you can use the API key that comes with the free plan. It has a limit of 250 requests per day, which should be more than enough. You will have to encode your API key in the URL that you make requests to; see a complete example of such a request at the [**documentation**](https://site.financialmodelingprep.com/developer/docs#Stock-Historical-Price)."
   ]
  },
  {
   "cell_type": "markdown",
   "id": "778d1460",
   "metadata": {},
   "source": [
    "### Question 3.1 <div style=\"display:inline-block; vertical-align: middle; padding:7px 7px; font-size:10px; font-weight:light; color:white; background-color:#e84c4a; border-radius:7px; text-align:left;\">4 Points</div>\n",
    "\n",
    "Complete the implementation of the function `stock_history`, which takes in a string `ticker` and two integers, `year` and `month`, and returns a DataFrame containing the price history for that stock in that month. Keep all of the attributes that are returned by the API.\n",
    "\n",
    "Example behavior is given below.\n",
    "\n",
    "```python\n",
    ">>> out = stock_history('F', 2024, 8)\n",
    ">>> out.shape\n",
    "(22, 13)\n",
    "\n",
    "# August 31st was a Saturday, which is why it doesn't appear – US markets are closed on weekends!\n",
    ">>> out.head()\n",
    "```\n",
    "\n",
    "<table border=\"1\" class=\"dataframe\">\n",
    "  <thead>\n",
    "    <tr style=\"text-align: right;\">\n",
    "      <th></th>\n",
    "      <th>date</th>\n",
    "      <th>open</th>\n",
    "      <th>high</th>\n",
    "      <th>low</th>\n",
    "      <th>close</th>\n",
    "      <th>adjClose</th>\n",
    "      <th>volume</th>\n",
    "      <th>unadjustedVolume</th>\n",
    "      <th>change</th>\n",
    "      <th>changePercent</th>\n",
    "      <th>vwap</th>\n",
    "      <th>label</th>\n",
    "      <th>changeOverTime</th>\n",
    "    </tr>\n",
    "  </thead>\n",
    "  <tbody>\n",
    "    <tr>\n",
    "      <th>0</th>\n",
    "      <td>2024-08-30</td>\n",
    "      <td>11.15</td>\n",
    "      <td>11.23</td>\n",
    "      <td>11.06</td>\n",
    "      <td>11.19</td>\n",
    "      <td>11.19</td>\n",
    "      <td>44977100</td>\n",
    "      <td>44977100</td>\n",
    "      <td>0.04</td>\n",
    "      <td>0.35874</td>\n",
    "      <td>11.1575</td>\n",
    "      <td>August 30, 24</td>\n",
    "      <td>0.003587</td>\n",
    "    </tr>\n",
    "    <tr>\n",
    "      <th>1</th>\n",
    "      <td>2024-08-29</td>\n",
    "      <td>11.02</td>\n",
    "      <td>11.20</td>\n",
    "      <td>10.99</td>\n",
    "      <td>11.11</td>\n",
    "      <td>11.11</td>\n",
    "      <td>44989200</td>\n",
    "      <td>44989200</td>\n",
    "      <td>0.09</td>\n",
    "      <td>0.81670</td>\n",
    "      <td>11.0800</td>\n",
    "      <td>August 29, 24</td>\n",
    "      <td>0.008167</td>\n",
    "    </tr>\n",
    "    <tr>\n",
    "      <th>2</th>\n",
    "      <td>2024-08-28</td>\n",
    "      <td>11.10</td>\n",
    "      <td>11.19</td>\n",
    "      <td>10.98</td>\n",
    "      <td>11.04</td>\n",
    "      <td>11.04</td>\n",
    "      <td>35442200</td>\n",
    "      <td>35442200</td>\n",
    "      <td>-0.06</td>\n",
    "      <td>-0.54054</td>\n",
    "      <td>11.0775</td>\n",
    "      <td>August 28, 24</td>\n",
    "      <td>-0.005405</td>\n",
    "    </tr>\n",
    "    <tr>\n",
    "      <th>3</th>\n",
    "      <td>2024-08-27</td>\n",
    "      <td>11.12</td>\n",
    "      <td>11.22</td>\n",
    "      <td>10.99</td>\n",
    "      <td>11.14</td>\n",
    "      <td>11.14</td>\n",
    "      <td>44841000</td>\n",
    "      <td>44841000</td>\n",
    "      <td>0.02</td>\n",
    "      <td>0.17986</td>\n",
    "      <td>11.1175</td>\n",
    "      <td>August 27, 24</td>\n",
    "      <td>0.001799</td>\n",
    "    </tr>\n",
    "    <tr>\n",
    "      <th>4</th>\n",
    "      <td>2024-08-26</td>\n",
    "      <td>11.32</td>\n",
    "      <td>11.37</td>\n",
    "      <td>11.07</td>\n",
    "      <td>11.11</td>\n",
    "      <td>11.11</td>\n",
    "      <td>53070331</td>\n",
    "      <td>53070331</td>\n",
    "      <td>-0.21</td>\n",
    "      <td>-1.86000</td>\n",
    "      <td>11.2175</td>\n",
    "      <td>August 26, 24</td>\n",
    "      <td>-0.018600</td>\n",
    "    </tr>\n",
    "  </tbody>\n",
    "</table>\n",
    "\n",
    "\n",
    "\n",
    "\n",
    "Some guidance:\n",
    "- Read the API [**documentation**](https://site.financialmodelingprep.com/developer/docs#Stock-Historical-Price) if you get stuck! In particular, [this page](https://site.financialmodelingprep.com/playground?url=daily-chart-charts) will help you craft the URL you need to make a request to.\n",
    "- To format the starting and ending dates you'll need to pass to the API, [`pd.date_range`](https://pandas.pydata.org/pandas-docs/stable/reference/api/pandas.date_range.html) might be helpful, along with `pd.to_datetime`.\n",
    "- The [`requests.get`](https://docs.python-requests.org/en/master/user/quickstart/) function returns a Response object, not the data itself. Use the `json` method on the Response object to extract the relevant JSON, as we did in [Lecture 10](https://practicaldsc.org/resources/lectures/lec10/lec10-filled.html#APIs-and-JSON) (you don't need to `import json` to do this).\n",
    "- You can instantiate a DataFrame using a sequence of dictionaries as input to `pd.DataFrame`. Once you've gotten your response object back, you're done 99% of the work involved with this question."
   ]
  },
  {
   "cell_type": "code",
   "execution_count": 18,
   "id": "45bf3f74",
   "metadata": {
    "tags": []
   },
   "outputs": [
    {
     "data": {
      "text/html": [
       "<div>\n",
       "<style scoped>\n",
       "    .dataframe tbody tr th:only-of-type {\n",
       "        vertical-align: middle;\n",
       "    }\n",
       "\n",
       "    .dataframe tbody tr th {\n",
       "        vertical-align: top;\n",
       "    }\n",
       "\n",
       "    .dataframe thead th {\n",
       "        text-align: right;\n",
       "    }\n",
       "</style>\n",
       "<table border=\"1\" class=\"dataframe\">\n",
       "  <thead>\n",
       "    <tr style=\"text-align: right;\">\n",
       "      <th></th>\n",
       "      <th>date</th>\n",
       "      <th>open</th>\n",
       "      <th>high</th>\n",
       "      <th>low</th>\n",
       "      <th>close</th>\n",
       "      <th>adjClose</th>\n",
       "      <th>volume</th>\n",
       "      <th>unadjustedVolume</th>\n",
       "      <th>change</th>\n",
       "      <th>changePercent</th>\n",
       "      <th>vwap</th>\n",
       "      <th>label</th>\n",
       "      <th>changeOverTime</th>\n",
       "    </tr>\n",
       "  </thead>\n",
       "  <tbody>\n",
       "    <tr>\n",
       "      <th>29</th>\n",
       "      <td>2024-08-30</td>\n",
       "      <td>11.15</td>\n",
       "      <td>11.23</td>\n",
       "      <td>11.06</td>\n",
       "      <td>11.19</td>\n",
       "      <td>11.19</td>\n",
       "      <td>44977100.0</td>\n",
       "      <td>44977100.0</td>\n",
       "      <td>0.040</td>\n",
       "      <td>0.358740</td>\n",
       "      <td>11.1575</td>\n",
       "      <td>August 30, 24</td>\n",
       "      <td>0.003587</td>\n",
       "    </tr>\n",
       "    <tr>\n",
       "      <th>28</th>\n",
       "      <td>2024-08-29</td>\n",
       "      <td>11.02</td>\n",
       "      <td>11.20</td>\n",
       "      <td>10.99</td>\n",
       "      <td>11.11</td>\n",
       "      <td>11.11</td>\n",
       "      <td>44989200.0</td>\n",
       "      <td>44989200.0</td>\n",
       "      <td>0.090</td>\n",
       "      <td>0.816700</td>\n",
       "      <td>11.0800</td>\n",
       "      <td>August 29, 24</td>\n",
       "      <td>0.008167</td>\n",
       "    </tr>\n",
       "    <tr>\n",
       "      <th>27</th>\n",
       "      <td>2024-08-28</td>\n",
       "      <td>11.10</td>\n",
       "      <td>11.19</td>\n",
       "      <td>10.98</td>\n",
       "      <td>11.04</td>\n",
       "      <td>11.04</td>\n",
       "      <td>35442200.0</td>\n",
       "      <td>35442200.0</td>\n",
       "      <td>-0.060</td>\n",
       "      <td>-0.540540</td>\n",
       "      <td>11.0775</td>\n",
       "      <td>August 28, 24</td>\n",
       "      <td>-0.005405</td>\n",
       "    </tr>\n",
       "    <tr>\n",
       "      <th>26</th>\n",
       "      <td>2024-08-27</td>\n",
       "      <td>11.12</td>\n",
       "      <td>11.22</td>\n",
       "      <td>10.99</td>\n",
       "      <td>11.14</td>\n",
       "      <td>11.14</td>\n",
       "      <td>44841000.0</td>\n",
       "      <td>44841000.0</td>\n",
       "      <td>0.020</td>\n",
       "      <td>0.179860</td>\n",
       "      <td>11.1175</td>\n",
       "      <td>August 27, 24</td>\n",
       "      <td>0.001799</td>\n",
       "    </tr>\n",
       "    <tr>\n",
       "      <th>25</th>\n",
       "      <td>2024-08-26</td>\n",
       "      <td>11.32</td>\n",
       "      <td>11.37</td>\n",
       "      <td>11.07</td>\n",
       "      <td>11.11</td>\n",
       "      <td>11.11</td>\n",
       "      <td>53070331.0</td>\n",
       "      <td>53070331.0</td>\n",
       "      <td>-0.210</td>\n",
       "      <td>-1.860000</td>\n",
       "      <td>11.2175</td>\n",
       "      <td>August 26, 24</td>\n",
       "      <td>-0.018600</td>\n",
       "    </tr>\n",
       "    <tr>\n",
       "      <th>22</th>\n",
       "      <td>2024-08-23</td>\n",
       "      <td>10.98</td>\n",
       "      <td>11.28</td>\n",
       "      <td>10.94</td>\n",
       "      <td>11.27</td>\n",
       "      <td>11.27</td>\n",
       "      <td>64612700.0</td>\n",
       "      <td>64612700.0</td>\n",
       "      <td>0.290</td>\n",
       "      <td>2.640000</td>\n",
       "      <td>11.1175</td>\n",
       "      <td>August 23, 24</td>\n",
       "      <td>0.026400</td>\n",
       "    </tr>\n",
       "    <tr>\n",
       "      <th>21</th>\n",
       "      <td>2024-08-22</td>\n",
       "      <td>10.85</td>\n",
       "      <td>11.01</td>\n",
       "      <td>10.84</td>\n",
       "      <td>10.92</td>\n",
       "      <td>10.92</td>\n",
       "      <td>50885400.0</td>\n",
       "      <td>50885400.0</td>\n",
       "      <td>0.070</td>\n",
       "      <td>0.645160</td>\n",
       "      <td>10.9050</td>\n",
       "      <td>August 22, 24</td>\n",
       "      <td>0.006452</td>\n",
       "    </tr>\n",
       "    <tr>\n",
       "      <th>20</th>\n",
       "      <td>2024-08-21</td>\n",
       "      <td>10.84</td>\n",
       "      <td>10.97</td>\n",
       "      <td>10.75</td>\n",
       "      <td>10.85</td>\n",
       "      <td>10.85</td>\n",
       "      <td>48943900.0</td>\n",
       "      <td>48943900.0</td>\n",
       "      <td>0.015</td>\n",
       "      <td>0.092251</td>\n",
       "      <td>10.8525</td>\n",
       "      <td>August 21, 24</td>\n",
       "      <td>0.000923</td>\n",
       "    </tr>\n",
       "    <tr>\n",
       "      <th>19</th>\n",
       "      <td>2024-08-20</td>\n",
       "      <td>10.70</td>\n",
       "      <td>10.79</td>\n",
       "      <td>10.61</td>\n",
       "      <td>10.68</td>\n",
       "      <td>10.68</td>\n",
       "      <td>32468000.0</td>\n",
       "      <td>32468000.0</td>\n",
       "      <td>-0.020</td>\n",
       "      <td>-0.186920</td>\n",
       "      <td>10.6950</td>\n",
       "      <td>August 20, 24</td>\n",
       "      <td>-0.001869</td>\n",
       "    </tr>\n",
       "    <tr>\n",
       "      <th>18</th>\n",
       "      <td>2024-08-19</td>\n",
       "      <td>10.56</td>\n",
       "      <td>10.75</td>\n",
       "      <td>10.54</td>\n",
       "      <td>10.72</td>\n",
       "      <td>10.72</td>\n",
       "      <td>41066305.0</td>\n",
       "      <td>41066305.0</td>\n",
       "      <td>0.160</td>\n",
       "      <td>1.520000</td>\n",
       "      <td>10.6425</td>\n",
       "      <td>August 19, 24</td>\n",
       "      <td>0.015200</td>\n",
       "    </tr>\n",
       "    <tr>\n",
       "      <th>15</th>\n",
       "      <td>2024-08-16</td>\n",
       "      <td>10.40</td>\n",
       "      <td>10.52</td>\n",
       "      <td>10.37</td>\n",
       "      <td>10.51</td>\n",
       "      <td>10.51</td>\n",
       "      <td>34142630.0</td>\n",
       "      <td>34142630.0</td>\n",
       "      <td>0.110</td>\n",
       "      <td>1.060000</td>\n",
       "      <td>10.4500</td>\n",
       "      <td>August 16, 24</td>\n",
       "      <td>0.010600</td>\n",
       "    </tr>\n",
       "    <tr>\n",
       "      <th>14</th>\n",
       "      <td>2024-08-15</td>\n",
       "      <td>10.37</td>\n",
       "      <td>10.50</td>\n",
       "      <td>10.37</td>\n",
       "      <td>10.46</td>\n",
       "      <td>10.46</td>\n",
       "      <td>41597908.0</td>\n",
       "      <td>41597908.0</td>\n",
       "      <td>0.090</td>\n",
       "      <td>0.867890</td>\n",
       "      <td>10.4250</td>\n",
       "      <td>August 15, 24</td>\n",
       "      <td>0.008679</td>\n",
       "    </tr>\n",
       "    <tr>\n",
       "      <th>13</th>\n",
       "      <td>2024-08-14</td>\n",
       "      <td>10.16</td>\n",
       "      <td>10.24</td>\n",
       "      <td>10.05</td>\n",
       "      <td>10.18</td>\n",
       "      <td>10.18</td>\n",
       "      <td>37026425.0</td>\n",
       "      <td>37026425.0</td>\n",
       "      <td>0.020</td>\n",
       "      <td>0.196850</td>\n",
       "      <td>10.1575</td>\n",
       "      <td>August 14, 24</td>\n",
       "      <td>0.001969</td>\n",
       "    </tr>\n",
       "    <tr>\n",
       "      <th>12</th>\n",
       "      <td>2024-08-13</td>\n",
       "      <td>9.92</td>\n",
       "      <td>10.15</td>\n",
       "      <td>9.77</td>\n",
       "      <td>10.14</td>\n",
       "      <td>10.14</td>\n",
       "      <td>44766100.0</td>\n",
       "      <td>44766100.0</td>\n",
       "      <td>0.220</td>\n",
       "      <td>2.220000</td>\n",
       "      <td>9.9950</td>\n",
       "      <td>August 13, 24</td>\n",
       "      <td>0.022200</td>\n",
       "    </tr>\n",
       "    <tr>\n",
       "      <th>11</th>\n",
       "      <td>2024-08-12</td>\n",
       "      <td>10.10</td>\n",
       "      <td>10.10</td>\n",
       "      <td>9.84</td>\n",
       "      <td>9.86</td>\n",
       "      <td>9.86</td>\n",
       "      <td>56118717.0</td>\n",
       "      <td>56118717.0</td>\n",
       "      <td>-0.240</td>\n",
       "      <td>-2.380000</td>\n",
       "      <td>9.9750</td>\n",
       "      <td>August 12, 24</td>\n",
       "      <td>-0.023800</td>\n",
       "    </tr>\n",
       "    <tr>\n",
       "      <th>8</th>\n",
       "      <td>2024-08-09</td>\n",
       "      <td>10.08</td>\n",
       "      <td>10.17</td>\n",
       "      <td>9.97</td>\n",
       "      <td>10.10</td>\n",
       "      <td>10.10</td>\n",
       "      <td>48860845.0</td>\n",
       "      <td>48860845.0</td>\n",
       "      <td>0.020</td>\n",
       "      <td>0.198410</td>\n",
       "      <td>10.0800</td>\n",
       "      <td>August 09, 24</td>\n",
       "      <td>0.001984</td>\n",
       "    </tr>\n",
       "    <tr>\n",
       "      <th>7</th>\n",
       "      <td>2024-08-08</td>\n",
       "      <td>9.80</td>\n",
       "      <td>10.25</td>\n",
       "      <td>9.80</td>\n",
       "      <td>10.13</td>\n",
       "      <td>10.13</td>\n",
       "      <td>73007624.0</td>\n",
       "      <td>73007624.0</td>\n",
       "      <td>0.330</td>\n",
       "      <td>3.370000</td>\n",
       "      <td>9.9950</td>\n",
       "      <td>August 08, 24</td>\n",
       "      <td>0.033700</td>\n",
       "    </tr>\n",
       "    <tr>\n",
       "      <th>6</th>\n",
       "      <td>2024-08-07</td>\n",
       "      <td>9.85</td>\n",
       "      <td>9.98</td>\n",
       "      <td>9.75</td>\n",
       "      <td>9.77</td>\n",
       "      <td>9.77</td>\n",
       "      <td>69482430.0</td>\n",
       "      <td>69482430.0</td>\n",
       "      <td>-0.080</td>\n",
       "      <td>-0.812180</td>\n",
       "      <td>9.8375</td>\n",
       "      <td>August 07, 24</td>\n",
       "      <td>-0.008122</td>\n",
       "    </tr>\n",
       "    <tr>\n",
       "      <th>5</th>\n",
       "      <td>2024-08-06</td>\n",
       "      <td>9.79</td>\n",
       "      <td>9.86</td>\n",
       "      <td>9.68</td>\n",
       "      <td>9.78</td>\n",
       "      <td>9.63</td>\n",
       "      <td>111817647.0</td>\n",
       "      <td>111817647.0</td>\n",
       "      <td>-0.010</td>\n",
       "      <td>-0.102150</td>\n",
       "      <td>9.7775</td>\n",
       "      <td>August 06, 24</td>\n",
       "      <td>-0.001022</td>\n",
       "    </tr>\n",
       "    <tr>\n",
       "      <th>4</th>\n",
       "      <td>2024-08-05</td>\n",
       "      <td>9.56</td>\n",
       "      <td>9.90</td>\n",
       "      <td>9.49</td>\n",
       "      <td>9.71</td>\n",
       "      <td>9.56</td>\n",
       "      <td>115594200.0</td>\n",
       "      <td>115594200.0</td>\n",
       "      <td>0.150</td>\n",
       "      <td>1.570000</td>\n",
       "      <td>9.6650</td>\n",
       "      <td>August 05, 24</td>\n",
       "      <td>0.015700</td>\n",
       "    </tr>\n",
       "    <tr>\n",
       "      <th>1</th>\n",
       "      <td>2024-08-02</td>\n",
       "      <td>10.55</td>\n",
       "      <td>10.55</td>\n",
       "      <td>10.00</td>\n",
       "      <td>10.03</td>\n",
       "      <td>9.88</td>\n",
       "      <td>110703005.0</td>\n",
       "      <td>110703005.0</td>\n",
       "      <td>-0.520</td>\n",
       "      <td>-4.930000</td>\n",
       "      <td>10.2825</td>\n",
       "      <td>August 02, 24</td>\n",
       "      <td>-0.049300</td>\n",
       "    </tr>\n",
       "    <tr>\n",
       "      <th>0</th>\n",
       "      <td>2024-08-01</td>\n",
       "      <td>10.86</td>\n",
       "      <td>10.92</td>\n",
       "      <td>10.61</td>\n",
       "      <td>10.69</td>\n",
       "      <td>10.53</td>\n",
       "      <td>60516500.0</td>\n",
       "      <td>60516500.0</td>\n",
       "      <td>-0.170</td>\n",
       "      <td>-1.570000</td>\n",
       "      <td>10.7700</td>\n",
       "      <td>August 01, 24</td>\n",
       "      <td>-0.015700</td>\n",
       "    </tr>\n",
       "  </tbody>\n",
       "</table>\n",
       "</div>"
      ],
      "text/plain": [
       "          date   open   high    low  close  adjClose       volume  \\\n",
       "29  2024-08-30  11.15  11.23  11.06  11.19     11.19   44977100.0   \n",
       "28  2024-08-29  11.02  11.20  10.99  11.11     11.11   44989200.0   \n",
       "27  2024-08-28  11.10  11.19  10.98  11.04     11.04   35442200.0   \n",
       "26  2024-08-27  11.12  11.22  10.99  11.14     11.14   44841000.0   \n",
       "25  2024-08-26  11.32  11.37  11.07  11.11     11.11   53070331.0   \n",
       "22  2024-08-23  10.98  11.28  10.94  11.27     11.27   64612700.0   \n",
       "21  2024-08-22  10.85  11.01  10.84  10.92     10.92   50885400.0   \n",
       "20  2024-08-21  10.84  10.97  10.75  10.85     10.85   48943900.0   \n",
       "19  2024-08-20  10.70  10.79  10.61  10.68     10.68   32468000.0   \n",
       "18  2024-08-19  10.56  10.75  10.54  10.72     10.72   41066305.0   \n",
       "15  2024-08-16  10.40  10.52  10.37  10.51     10.51   34142630.0   \n",
       "14  2024-08-15  10.37  10.50  10.37  10.46     10.46   41597908.0   \n",
       "13  2024-08-14  10.16  10.24  10.05  10.18     10.18   37026425.0   \n",
       "12  2024-08-13   9.92  10.15   9.77  10.14     10.14   44766100.0   \n",
       "11  2024-08-12  10.10  10.10   9.84   9.86      9.86   56118717.0   \n",
       "8   2024-08-09  10.08  10.17   9.97  10.10     10.10   48860845.0   \n",
       "7   2024-08-08   9.80  10.25   9.80  10.13     10.13   73007624.0   \n",
       "6   2024-08-07   9.85   9.98   9.75   9.77      9.77   69482430.0   \n",
       "5   2024-08-06   9.79   9.86   9.68   9.78      9.63  111817647.0   \n",
       "4   2024-08-05   9.56   9.90   9.49   9.71      9.56  115594200.0   \n",
       "1   2024-08-02  10.55  10.55  10.00  10.03      9.88  110703005.0   \n",
       "0   2024-08-01  10.86  10.92  10.61  10.69     10.53   60516500.0   \n",
       "\n",
       "    unadjustedVolume  change  changePercent     vwap          label  \\\n",
       "29        44977100.0   0.040       0.358740  11.1575  August 30, 24   \n",
       "28        44989200.0   0.090       0.816700  11.0800  August 29, 24   \n",
       "27        35442200.0  -0.060      -0.540540  11.0775  August 28, 24   \n",
       "26        44841000.0   0.020       0.179860  11.1175  August 27, 24   \n",
       "25        53070331.0  -0.210      -1.860000  11.2175  August 26, 24   \n",
       "22        64612700.0   0.290       2.640000  11.1175  August 23, 24   \n",
       "21        50885400.0   0.070       0.645160  10.9050  August 22, 24   \n",
       "20        48943900.0   0.015       0.092251  10.8525  August 21, 24   \n",
       "19        32468000.0  -0.020      -0.186920  10.6950  August 20, 24   \n",
       "18        41066305.0   0.160       1.520000  10.6425  August 19, 24   \n",
       "15        34142630.0   0.110       1.060000  10.4500  August 16, 24   \n",
       "14        41597908.0   0.090       0.867890  10.4250  August 15, 24   \n",
       "13        37026425.0   0.020       0.196850  10.1575  August 14, 24   \n",
       "12        44766100.0   0.220       2.220000   9.9950  August 13, 24   \n",
       "11        56118717.0  -0.240      -2.380000   9.9750  August 12, 24   \n",
       "8         48860845.0   0.020       0.198410  10.0800  August 09, 24   \n",
       "7         73007624.0   0.330       3.370000   9.9950  August 08, 24   \n",
       "6         69482430.0  -0.080      -0.812180   9.8375  August 07, 24   \n",
       "5        111817647.0  -0.010      -0.102150   9.7775  August 06, 24   \n",
       "4        115594200.0   0.150       1.570000   9.6650  August 05, 24   \n",
       "1        110703005.0  -0.520      -4.930000  10.2825  August 02, 24   \n",
       "0         60516500.0  -0.170      -1.570000  10.7700  August 01, 24   \n",
       "\n",
       "    changeOverTime  \n",
       "29        0.003587  \n",
       "28        0.008167  \n",
       "27       -0.005405  \n",
       "26        0.001799  \n",
       "25       -0.018600  \n",
       "22        0.026400  \n",
       "21        0.006452  \n",
       "20        0.000923  \n",
       "19       -0.001869  \n",
       "18        0.015200  \n",
       "15        0.010600  \n",
       "14        0.008679  \n",
       "13        0.001969  \n",
       "12        0.022200  \n",
       "11       -0.023800  \n",
       "8         0.001984  \n",
       "7         0.033700  \n",
       "6        -0.008122  \n",
       "5        -0.001022  \n",
       "4         0.015700  \n",
       "1        -0.049300  \n",
       "0        -0.015700  "
      ]
     },
     "execution_count": 18,
     "metadata": {},
     "output_type": "execute_result"
    }
   ],
   "source": [
    "def stock_history(ticker, year, month):\n",
    "    soup = requests.get(f'https://financialmodelingprep.com/api/v3/historical-price-full/{ticker}?apikey=gERvtE75Bgi4Odsh2FgMV3xJ43ooOdJM')\n",
    "    newsoup = soup.json()\n",
    "    data = newsoup['historical']\n",
    "    date = []\n",
    "    open = []\n",
    "    high = []\n",
    "    low = []\n",
    "    close = []\n",
    "    adj_close = []\n",
    "    volume = []\n",
    "    unadjustedVolume =[]\n",
    "    change = []\n",
    "    changePercent = []\n",
    "    vwap = []\n",
    "    label = []\n",
    "    changeOverTime = []\n",
    "    for i in range(len(data)):\n",
    "        date.append(data[i]['date'])\n",
    "        open.append(data[i]['open'])\n",
    "        high.append(data[i]['high'])\n",
    "        low.append(data[i]['low'])\n",
    "        close.append(data[i]['close'])\n",
    "        adj_close.append(data[i]['adjClose'])\n",
    "        volume.append(data[i]['volume'])\n",
    "        unadjustedVolume.append(data[i]['unadjustedVolume'])\n",
    "        change.append(data[i]['change'])\n",
    "        changePercent.append(data[i]['changePercent'])\n",
    "        vwap.append(data[i]['vwap'])\n",
    "        label.append(data[i]['label'])\n",
    "        changeOverTime.append(data[i]['changeOverTime'])\n",
    "    df = pd.DataFrame({'date': date, 'open': open, 'high': high, 'low': low, 'close': close, \n",
    "    'adjClose': adj_close, 'volume': volume, 'unadjustedVolume': unadjustedVolume,\n",
    "    'change': change, 'changePercent': changePercent, 'vwap': vwap, 'label': label, 'changeOverTime': changeOverTime}) \n",
    "    df['date'] = pd.to_datetime(df['date'])\n",
    "    time = pd.DataFrame(pd.date_range(start = f'{year}-{month}-01', end = f'{year}-{month}-31')).rename(columns = {0: 'date'})\n",
    "    df = df.merge(time, on = 'date', how = 'right')\n",
    "    df = df.dropna()\n",
    "    df = df.sort_values(by = 'date', ascending = False)\n",
    "    df['date'] = df['date'].dt.strftime('%Y-%m-%d')\n",
    "    return df\n",
    "    \n",
    "# Feel free to change this input to make sure your function works correctly.\n",
    "out = stock_history('F', 2024, 8)\n",
    "out"
   ]
  },
  {
   "cell_type": "code",
   "execution_count": 19,
   "id": "e874a171",
   "metadata": {
    "deletable": false,
    "editable": false
   },
   "outputs": [
    {
     "data": {
      "text/html": [
       "<p><strong><pre style='display: inline;'>q03_1</pre></strong> passed!</p>"
      ],
      "text/plain": [
       "q03_1 results: All test cases passed!"
      ]
     },
     "execution_count": 19,
     "metadata": {},
     "output_type": "execute_result"
    }
   ],
   "source": [
    "grader.check(\"q03_1\")"
   ]
  },
  {
   "cell_type": "markdown",
   "id": "f43450d3",
   "metadata": {
    "tags": []
   },
   "source": [
    "### Question 3.2 <div style=\"display:inline-block; vertical-align: middle; padding:7px 7px; font-size:10px; font-weight:light; color:white; background-color:#e84c4a; border-radius:7px; text-align:left;\">3 Points</div>\n",
    "\n",
    "Create a function `stock_stats` that takes in a DataFrame outputted by `stock_history` and returns a **tuple** of two numbers:\n",
    "1. The percent change of the stock throughout the month as a **percentage**.\n",
    "2. An estimate of the total transaction volume **in billion of dollars** for that month.\n",
    "\n",
    "Example behavior is given below.\n",
    "\n",
    "```python\n",
    ">>> stock_stats(stock_history('F', 2024, 8))\n",
    "('+3.04%', '13.16B')\n",
    "```\n",
    "\n",
    "Both values in the tuple should be **strings** that contain numbers rounded to two decimal places. Add a plus or minus sign in front of the percent change, and make sure that the total transaction volume string ends in a `'B'`. Both strings should **always** have two decimal places, e.g. if a percentage change is 3% exactly, render it as `'+3.00%'`. Python [string formatting](https://docs.python.org/3/tutorial/inputoutput.html) will be helpful.\n",
    "\n",
    "Let's illustrate both calculations. For example, suppose there are only three days in March – March 1st, March 2nd, and March 3rd. If BYND (Beyond Meat) opens at \\\\$4 on March 1st and closes at \\\\$5 on March 3rd, its **percent change** for the month of March is: $$\\frac{\\$5-\\$4}{\\$4} = +25.00\\%$$\n",
    "\n",
    "That is, when computing the percent change, use the opening price on the first day of the month as the starting price and the closing price on the last day of the month as the ending price.\n",
    "\n",
    "<br>\n",
    "\n",
    "**To compute the total transaction volume**, assume that on any given day, the average price of a share is the midpoint of the high and low price for that day, i.e. $\\frac{\\text{high} + \\text{low}}{2}$.\n",
    "\n",
    "$$ \\text{Estimated Total Transaction Volume (in dollars)} = \\text{Volume (number of shares traded)} \\cdot \\text{Average Price} $$\n",
    "\n",
    "\n",
    "\n",
    "\n",
    "Suppose the high and low prices and volumes of BYND on each day are given below.\n",
    "- March 1st: high \\\\$5, low \\\\$3, volume 500 million (0.5 billion).\n",
    "- March 2nd: high \\\\$5.5, low \\\\$2.5, volume 1 billion.\n",
    "- March 3rd: high \\\\$5.25, low \\\\$4, volume 500 million (0.5 billion).\n",
    "\n",
    "Then, the estimated total transaction volume is:\n",
    "$$\\left( \\frac{\\$5 + \\$3}{2} \\cdot 0.5 B \\right) + \\left( \\frac{\\$5.5 + \\$2.5}{2} \\cdot 1 B \\right) + \\left( \\frac{\\$5.25 + \\$4}{2} \\cdot 0.5 B \\right) = 8.3125B$$"
   ]
  },
  {
   "cell_type": "code",
   "execution_count": 20,
   "id": "b0ff8b65",
   "metadata": {
    "tags": [
     "to-py"
    ]
   },
   "outputs": [
    {
     "data": {
      "text/plain": [
       "('+3.04%', '13.16B')"
      ]
     },
     "execution_count": 20,
     "metadata": {},
     "output_type": "execute_result"
    }
   ],
   "source": [
    "\n",
    "def stock_stats(history):\n",
    "    #find the percent change\n",
    "    percent  = (history['close'].iloc[0] - history['open'].iloc[-1]) / history['open'].iloc[-1]\n",
    "    percent = round((percent *100),2)\n",
    "    if percent > 0:\n",
    "        percent = '+' + f'{percent:.2f}'  + '%'\n",
    "    else:\n",
    "        percent = f'{percent:.2f}' + '%'\n",
    "        \n",
    "    # calc the sums\n",
    "    total = history['volume'].shape[0]\n",
    "    sum = 0\n",
    "    for i in range(0,total):\n",
    "       avg = (history['high'].iloc[i] + history['low'].iloc[i])/2\n",
    "       sum += history['volume'].iloc[i] * avg\n",
    "    sum = round((sum/1000000000),2)\n",
    "    sum = str(sum) + 'B'\n",
    "    \n",
    "    return (percent,sum)\n",
    "    \n",
    "# Feel free to change this input to make sure your function works correctly.\n",
    "stock_stats(stock_history('F', 2024, 8))"
   ]
  },
  {
   "cell_type": "code",
   "execution_count": 21,
   "id": "1eeb7d3f",
   "metadata": {
    "deletable": false,
    "editable": false
   },
   "outputs": [
    {
     "data": {
      "text/html": [
       "<p><strong><pre style='display: inline;'>q03_2</pre></strong> passed!</p>"
      ],
      "text/plain": [
       "q03_2 results: All test cases passed!"
      ]
     },
     "execution_count": 21,
     "metadata": {},
     "output_type": "execute_result"
    }
   ],
   "source": [
    "grader.check(\"q03_2\")"
   ]
  },
  {
   "cell_type": "markdown",
   "id": "d225f8ef",
   "metadata": {},
   "source": [
    "## Question 4: Comment Threads 🧵 <div style=\"display:inline-block; vertical-align: middle; padding:7px 7px; font-size:10px; font-weight:light; color:white; background-color:#e84c4a; border-radius:7px; text-align:left;\">6 Points</div>\n",
    "\n",
    "You regularly browse [Hacker News](https://news.ycombinator.com/) to keep up with the latest news in tech. An example link to a Hacker News article is https://news.ycombinator.com/item?id=18344932. Note that this article has 18 comments and has a `storyid` of 18344932. \n",
    "\n",
    "The problem now is that you don't have internet access on your phone during your morning commute to school, so you want to save the interesting stories' comment threads beforehand locally. You find their [API documentation](https://github.com/HackerNews/API) and decide to get to work.\n",
    "\n",
    "Complete the implementation of the function `get_comments`, which takes in a `storyid` and returns a DataFrame of all the comments below the news story. **Make sure the order of the comments in your DataFrame is from top to bottom, just as you see on the website**. \n",
    "\n",
    "Example behavior is given below.\n",
    "\n",
    "```python\n",
    ">>> get_comments(18344932).head()\n",
    "```\n",
    "\n",
    "<table border=\"1\" class=\"dataframe\">\n",
    "  <thead>\n",
    "    <tr style=\"text-align: right;\">\n",
    "      <th></th>\n",
    "      <th>id</th>\n",
    "      <th>by</th>\n",
    "      <th>parent</th>\n",
    "      <th>text</th>\n",
    "      <th>time</th>\n",
    "    </tr>\n",
    "  </thead>\n",
    "  <tbody>\n",
    "    <tr>\n",
    "      <th>0</th>\n",
    "      <td>18380397</td>\n",
    "      <td>valyala</td>\n",
    "      <td>18344932</td>\n",
    "      <td>TimescaleDB is great for storing time series c...</td>\n",
    "      <td>2018-11-05 06:53:19</td>\n",
    "    </tr>\n",
    "    <tr>\n",
    "      <th>1</th>\n",
    "      <td>18346406</td>\n",
    "      <td>msiggy</td>\n",
    "      <td>18344932</td>\n",
    "      <td>I&amp;#x27;m excited to give this database a try i...</td>\n",
    "      <td>2018-10-31 15:20:22</td>\n",
    "    </tr>\n",
    "    <tr>\n",
    "      <th>2</th>\n",
    "      <td>18348601</td>\n",
    "      <td>sman393</td>\n",
    "      <td>18344932</td>\n",
    "      <td>Can this be used side by side on normal Postgr...</td>\n",
    "      <td>2018-10-31 19:29:39</td>\n",
    "    </tr>\n",
    "    <tr>\n",
    "      <th>3</th>\n",
    "      <td>18348631</td>\n",
    "      <td>RobAtticus</td>\n",
    "      <td>18348601</td>\n",
    "      <td>Yep, absolutely. Regular PostgreSQL tables coe...</td>\n",
    "      <td>2018-10-31 19:34:52</td>\n",
    "    </tr>\n",
    "    <tr>\n",
    "      <th>4</th>\n",
    "      <td>18348984</td>\n",
    "      <td>sman393</td>\n",
    "      <td>18348631</td>\n",
    "      <td>Good to hear! how does the current TimescaleDB...</td>\n",
    "      <td>2018-10-31 20:23:46</td>\n",
    "    </tr>\n",
    "  </tbody>\n",
    "</table>\n",
    "\n",
    "As you see above, the DataFrame that `get_comments` returns should have 5 columns:\n",
    "- `'id'`: The unique ID of the comment.\n",
    "- `'by'`: The author of the comment.\n",
    "- `'parent'`: The unique ID of the comment this comment is replying to.\n",
    "- `'text'`: The actual comment.\n",
    "- `'time'`: When the comment was created (in `pd.Timestamp` format).\n",
    "\n",
    "Some guidance:\n",
    "- The URL to make requests to is `'https://hacker-news.firebaseio.com/v0/item/{id}.json'`, however, the `{id}` should be replaced with the ID of the article or page you are trying to access. \n",
    "- Again, do not `import json` – instead, use the `json` method on the Response object you get back.\n",
    "- Use depth-first search when traversing the comments tree. You will have to do this manually, since you cannot use BeautifulSoup (which is only for HTML documents, not JSON objects). Haven't taken (or finished) EECS 281 and don't know what depth-first search is? Don't worry – the video linked in the green box below will walk through the general idea.\n",
    "- Make sure the length of your returned DataFrame is the same as value for the `'descendants'` key in the response JSON, both of which correspond to the number of comments for the story.\n",
    "- You should ignore \"dead\" comments (you will know them when you see them), as well as \"dead\" comments' children. \n",
    "- Remember, you're allowed to use loops in this function (both `for`-loops and, **hint**, other types of loops!). You may also want to create at least one helper function.\n",
    "\n",
    "<div class=\"alert alert-block alert-success\">\n",
    "You may find <a href=\"https://www.youtube.com/watch?v=uOfwW-onmpc\"><b>this hint video 🎥</b></a> helpful!\n",
    "\n",
    "Also, the following Python behavior may be useful:\n",
    "\n",
    "```python\n",
    ">>> places = [280, 203, 398, 492]\n",
    ">>> places.pop(0)\n",
    "280\n",
    ">>> places\n",
    "[203, 398, 492]\n",
    "\n",
    ">>> places = [183, 101] + places\n",
    ">>> places\n",
    "[183, 101, 203, 398, 492]\n",
    "\n",
    "```\n",
    " \n",
    "</div>"
   ]
  },
  {
   "cell_type": "code",
   "execution_count": 22,
   "id": "0e6b4de6",
   "metadata": {},
   "outputs": [],
   "source": [
    "def prcesscom(box, mainparentid):\n",
    "    id = box.get('id')\n",
    "    by = box.find('a', class_ = 'hnuser').text\n",
    "    parent = box.find('span', class_ = 'navs').find('a')\n",
    "    if parent.text == 'parent':\n",
    "            parent = parent.get('href')[1:]\n",
    "    else:\n",
    "        parent = mainparentid\n",
    "    text = box.find('div', class_ = 'commtext c00').text\n",
    "    time = pd.Timestamp(box.find('span', class_ = 'age').get('title'))\n",
    "    return {'id': id, 'by': by, 'parent': parent, 'text': text, 'time': time}\n",
    "    "
   ]
  },
  {
   "cell_type": "code",
   "execution_count": 23,
   "id": "287b83ae",
   "metadata": {
    "tags": [
     "to-py"
    ]
   },
   "outputs": [
    {
     "data": {
      "text/html": [
       "<div>\n",
       "<style scoped>\n",
       "    .dataframe tbody tr th:only-of-type {\n",
       "        vertical-align: middle;\n",
       "    }\n",
       "\n",
       "    .dataframe tbody tr th {\n",
       "        vertical-align: top;\n",
       "    }\n",
       "\n",
       "    .dataframe thead th {\n",
       "        text-align: right;\n",
       "    }\n",
       "</style>\n",
       "<table border=\"1\" class=\"dataframe\">\n",
       "  <thead>\n",
       "    <tr style=\"text-align: right;\">\n",
       "      <th></th>\n",
       "      <th>id</th>\n",
       "      <th>by</th>\n",
       "      <th>parent</th>\n",
       "      <th>text</th>\n",
       "      <th>time</th>\n",
       "    </tr>\n",
       "  </thead>\n",
       "  <tbody>\n",
       "    <tr>\n",
       "      <th>0</th>\n",
       "      <td>18380397</td>\n",
       "      <td>valyala</td>\n",
       "      <td>18344932</td>\n",
       "      <td>TimescaleDB is great for storing time series c...</td>\n",
       "      <td>2018-11-05 06:53:19+00:00</td>\n",
       "    </tr>\n",
       "    <tr>\n",
       "      <th>1</th>\n",
       "      <td>18346406</td>\n",
       "      <td>msiggy</td>\n",
       "      <td>18344932</td>\n",
       "      <td>I'm excited to give this database a try if I c...</td>\n",
       "      <td>2018-10-31 15:20:22+00:00</td>\n",
       "    </tr>\n",
       "    <tr>\n",
       "      <th>2</th>\n",
       "      <td>18348601</td>\n",
       "      <td>sman393</td>\n",
       "      <td>18344932</td>\n",
       "      <td>Can this be used side by side on normal Postgr...</td>\n",
       "      <td>2018-10-31 19:29:39+00:00</td>\n",
       "    </tr>\n",
       "    <tr>\n",
       "      <th>3</th>\n",
       "      <td>18348631</td>\n",
       "      <td>RobAtticus</td>\n",
       "      <td>18348601</td>\n",
       "      <td>Yep, absolutely. Regular PostgreSQL tables coe...</td>\n",
       "      <td>2018-10-31 19:34:52+00:00</td>\n",
       "    </tr>\n",
       "    <tr>\n",
       "      <th>4</th>\n",
       "      <td>18348984</td>\n",
       "      <td>sman393</td>\n",
       "      <td>18344932</td>\n",
       "      <td>Good to hear! how does the current TimescaleDB...</td>\n",
       "      <td>2018-10-31 20:23:46+00:00</td>\n",
       "    </tr>\n",
       "  </tbody>\n",
       "</table>\n",
       "</div>"
      ],
      "text/plain": [
       "         id          by    parent  \\\n",
       "0  18380397     valyala  18344932   \n",
       "1  18346406      msiggy  18344932   \n",
       "2  18348601     sman393  18344932   \n",
       "3  18348631  RobAtticus  18348601   \n",
       "4  18348984     sman393  18344932   \n",
       "\n",
       "                                                text                      time  \n",
       "0  TimescaleDB is great for storing time series c... 2018-11-05 06:53:19+00:00  \n",
       "1  I'm excited to give this database a try if I c... 2018-10-31 15:20:22+00:00  \n",
       "2  Can this be used side by side on normal Postgr... 2018-10-31 19:29:39+00:00  \n",
       "3  Yep, absolutely. Regular PostgreSQL tables coe... 2018-10-31 19:34:52+00:00  \n",
       "4  Good to hear! how does the current TimescaleDB... 2018-10-31 20:23:46+00:00  "
      ]
     },
     "execution_count": 23,
     "metadata": {},
     "output_type": "execute_result"
    }
   ],
   "source": [
    "def get_comments(storyid):\n",
    "    url = f'https://news.ycombinator.com/item?id={storyid}'\n",
    "    response = requests.get(url)\n",
    "    soup = BeautifulSoup(response.text, 'html.parser')\n",
    "    mainparentid = soup.find('table', class_ = 'fatitem').find('tr').get_attribute_list('id')[0]\n",
    "    comments = soup.find_all('tr', class_ = 'athing comtr')    \n",
    "    row_list = []\n",
    "    for i in comments:\n",
    "        row_list.append(prcesscom(i, mainparentid))\n",
    "    return pd.DataFrame(row_list)\n",
    "    \n",
    "# Feel free to change this input to make sure your function works correctly.\n",
    "# For example, test your code on newer Hacker News articles, like\n",
    "# https://news.ycombinator.com/item?id=41660308!\n",
    "box = get_comments(18344932)\n",
    "box.head()"
   ]
  },
  {
   "cell_type": "markdown",
   "id": "98af738d",
   "metadata": {},
   "source": [
    "As you see above, the DataFrame that `get_comments` returns should have 5 columns:\n",
    "- `'id'`: The unique ID of the comment.\n",
    "- `'by'`: The author of the comment.\n",
    "- `'parent'`: The unique ID of the comment this comment is replying to.\n",
    "- `'text'`: The actual comment.\n",
    "- `'time'`: When the comment was created (in `pd.Timestamp` format)."
   ]
  },
  {
   "cell_type": "code",
   "execution_count": 24,
   "id": "71105b89",
   "metadata": {
    "deletable": false,
    "editable": false
   },
   "outputs": [
    {
     "data": {
      "text/html": [
       "<p><strong><pre style='display: inline;'>q04</pre></strong> passed!</p>"
      ],
      "text/plain": [
       "q04 results: All test cases passed!"
      ]
     },
     "execution_count": 24,
     "metadata": {},
     "output_type": "execute_result"
    }
   ],
   "source": [
    "grader.check(\"q04\")"
   ]
  },
  {
   "cell_type": "markdown",
   "id": "c8a7454c",
   "metadata": {
    "tags": []
   },
   "source": [
    "## Finish Line 🏁\n",
    "\n",
    "Congratulations! You're ready to submit Homework 5."
   ]
  },
  {
   "cell_type": "markdown",
   "id": "e36337c9",
   "metadata": {},
   "source": [
    "To submit your homework:\n",
    "\n",
    "1. Select `Kernel -> Restart & Run All` to ensure that you have executed all cells, including the test cells.\n",
    "2. Read through the notebook to make sure everything is fine and all tests passed.\n",
    "3. Run the cell below to run all tests, and make sure that they all pass.\n",
    "4. Download your notebook using `File -> Download as -> Notebook (.ipynb)`, then upload your notebook to Gradescope under \"Homework 5\".\n",
    "5. Stick around while the Gradescope autograder grades your work. Make sure you see that all **public tests** have passed on Gradescope. **Remember that homeworks have hidden tests, which you will not see your scores on until a few days after the deadline!**\n",
    "6. Check that you have a confirmation email from Gradescope and save it as proof of your submission."
   ]
  },
  {
   "cell_type": "markdown",
   "id": "36650f8d",
   "metadata": {
    "deletable": false,
    "editable": false
   },
   "source": [
    "---\n",
    "\n",
    "To double-check your work, the cell below will rerun all of the autograder tests."
   ]
  },
  {
   "cell_type": "code",
   "execution_count": 25,
   "id": "3febf1eb",
   "metadata": {
    "deletable": false,
    "editable": false
   },
   "outputs": [
    {
     "data": {
      "text/plain": [
       "q01 results: All test cases passed!\n",
       "\n",
       "q02_1 results: All test cases passed!\n",
       "\n",
       "q02_2 results: All test cases passed!\n",
       "\n",
       "q02_3 results: All test cases passed!\n",
       "\n",
       "q03_1 results: All test cases passed!\n",
       "\n",
       "q03_2 results: All test cases passed!\n",
       "\n",
       "q04 results: All test cases passed!"
      ]
     },
     "execution_count": 25,
     "metadata": {},
     "output_type": "execute_result"
    }
   ],
   "source": [
    "grader.check_all()"
   ]
  }
 ],
 "metadata": {
  "kernelspec": {
   "display_name": "pds",
   "language": "python",
   "name": "python3"
  },
  "language_info": {
   "codemirror_mode": {
    "name": "ipython",
    "version": 3
   },
   "file_extension": ".py",
   "mimetype": "text/x-python",
   "name": "python",
   "nbconvert_exporter": "python",
   "pygments_lexer": "ipython3",
   "version": "3.10.14"
  },
  "otter": {
   "tests": {
    "q01": {
     "name": "q01",
     "points": 4,
     "suites": [
      {
       "cases": [
        {
         "code": ">>> os.path.exists('hw05_q01.html')\nTrue",
         "failure_message": "File hw05_q01.html does not exist.",
         "hidden": false,
         "locked": false
        },
        {
         "code": ">>> q01_html = BeautifulSoup(open(\"hw05_q01.html\", encoding='utf-8'))\n>>> len(q01_html.find_all('image')) == 0\nTrue",
         "failure_message": "You should not use the <image> tag to add images.",
         "hidden": false,
         "locked": false
        }
       ],
       "scored": true,
       "setup": "",
       "teardown": "",
       "type": "doctest"
      }
     ]
    },
    "q02_1": {
     "name": "q02_1",
     "points": 4,
     "suites": [
      {
       "cases": [
        {
         "code": ">>> out = extract_book_links(open('data/products.html', encoding='utf-8').read())\n>>> len(out) == 6\nTrue",
         "failure_message": "Behavior does not match example given.",
         "hidden": false,
         "locked": false
        },
        {
         "code": ">>> out = extract_book_links(open('data/products.html', encoding='utf-8').read())\n>>> out[1] == 'scarlet-the-lunar-chronicles-2_218/index.html' and out[-1] == 'ready-player-one_209/index.html'\nTrue",
         "failure_message": "Behavior does not match example given.",
         "hidden": false,
         "locked": false
        }
       ],
       "scored": true,
       "setup": "",
       "teardown": "",
       "type": "doctest"
      }
     ]
    },
    "q02_2": {
     "name": "q02_2",
     "points": 5,
     "suites": [
      {
       "cases": [
        {
         "code": ">>> out = get_product_info(open('data/Frankenstein.html', encoding='utf-8').read(), ['Default'])\n>>> isinstance(out, dict)\nTrue",
         "failure_message": "Return type is not dict.",
         "hidden": false,
         "locked": false
        },
        {
         "code": ">>> out = get_product_info(open('data/Frankenstein.html', encoding='utf-8').read(), ['Default'])\n>>> set(out.keys()) == {'UPC', 'Product Type', 'Price (excl. tax)', 'Price (incl. tax)', 'Tax', 'Availability', 'Number of reviews', 'Category', 'Rating', 'Description', 'Title'}\nTrue",
         "failure_message": "Keys of returned dictionary are incorrect.",
         "hidden": false,
         "locked": false
        },
        {
         "code": ">>> out = get_product_info(open('data/Frankenstein.html', encoding='utf-8').read(), ['Default'])\n>>> out['Rating'] == 'Two'\nTrue",
         "failure_message": "Rating is incorrect.",
         "hidden": false,
         "locked": false
        }
       ],
       "scored": true,
       "setup": "",
       "teardown": "",
       "type": "doctest"
      }
     ]
    },
    "q02_3": {
     "name": "q02_3",
     "points": 4,
     "suites": [
      {
       "cases": [
        {
         "code": ">>> out = scrape_books(5, ['Default', 'Romance'])\n>>> out.shape == (4, 11)\nTrue",
         "failure_message": "Returned DataFrame has wrong shape.",
         "hidden": false,
         "locked": false
        },
        {
         "code": ">>> out = scrape_books(5, ['Default', 'Romance'])\n>>> set(out.columns) == {'Availability', 'Category', 'Description', 'Number of reviews', 'Price (excl. tax)', 'Price (incl. tax)', 'Product Type', 'Rating', 'Tax', 'Title', 'UPC'}\nTrue",
         "failure_message": "Incorrect column(s) in returned DataFrame.",
         "hidden": false,
         "locked": false
        },
        {
         "code": ">>> out = scrape_books(5, ['Default', 'Romance'])\n>>> (out['Rating'] == ['Four', 'Five', 'Five', 'Five']).all()\nTrue",
         "failure_message": "Incorrect rating(s) in returned DataFrame.",
         "hidden": false,
         "locked": false
        },
        {
         "code": ">>> out = scrape_books(5, ['Default', 'Romance'])\n>>> (out['Title'] == ['The Boys in the Boat: Nine Americans and Their Epic Quest for Gold at the 1936 Berlin Olympics', 'Chase Me (Paris Nights #2)', 'Black Dust', 'The Inefficiency Assassin: Time Management Tactics for Working Smarter, Not Longer']).all()\nTrue",
         "failure_message": "Incorrect title(s) in returned DataFrame.",
         "hidden": false,
         "locked": false
        }
       ],
       "scored": true,
       "setup": "",
       "teardown": "",
       "type": "doctest"
      }
     ]
    },
    "q03_1": {
     "name": "q03_1",
     "points": 4,
     "suites": [
      {
       "cases": [
        {
         "code": ">>> out = stock_history('F', 2024, 8)\n>>> out.shape == (22, 13)\nTrue",
         "failure_message": "DataFrame shape is incorrect.",
         "hidden": false,
         "locked": false
        },
        {
         "code": ">>> out = stock_history('F', 2024, 8)\n>>> out['label'].iloc[0] == 'August 30, 24'\nTrue",
         "failure_message": "Last label is incorrect.",
         "hidden": false,
         "locked": false
        },
        {
         "code": ">>> out = stock_history('F', 2024, 8)\n>>> np.isclose(out['open'].min(), 9.56)\nTrue",
         "failure_message": "Minimum value in the \"open\" column is incorrect.",
         "hidden": false,
         "locked": false
        },
        {
         "code": ">>> out = stock_history('DUOL', 2021, 8)\n>>> out['date'].min() == '2021-08-02' and out['date'].max() == '2021-08-31'\nTrue",
         "failure_message": "On a hidden input, date range is incorrect.",
         "hidden": false,
         "locked": false
        },
        {
         "code": ">>> out = stock_history('AAPL', 2024, 3)\n>>> out.shape == (20, 13)\nTrue",
         "failure_message": "On a hidden input, shape is incorrect.",
         "hidden": false,
         "locked": false
        },
        {
         "code": ">>> out = stock_history('AAPL', 2024, 3)\n>>> np.isclose(out['low'].iloc[15], 168.49)\nTrue",
         "failure_message": "On a hidden input, one of the \"low\" values are incorrect.",
         "hidden": false,
         "locked": false
        }
       ],
       "scored": true,
       "setup": "",
       "teardown": "",
       "type": "doctest"
      }
     ]
    },
    "q03_2": {
     "name": "q03_2",
     "points": 3,
     "suites": [
      {
       "cases": [
        {
         "code": ">>> out = stock_stats(stock_history('F', 2024, 8))\n>>> out[0] == '+3.04%'\nTrue",
         "failure_message": "Percentage change is incorrect.",
         "hidden": false,
         "locked": false
        },
        {
         "code": ">>> out = stock_stats(stock_history('F', 2024, 8))\n>>> out[1] == '13.16B'\nTrue",
         "failure_message": "Transaction volume is incorrect.",
         "hidden": false,
         "locked": false
        }
       ],
       "scored": true,
       "setup": "",
       "teardown": "",
       "type": "doctest"
      }
     ]
    },
    "q04": {
     "name": "q04",
     "points": 6,
     "suites": [
      {
       "cases": [
        {
         "code": ">>> out = get_comments(18344932)\n>>> out.shape == (18, 5)\nTrue",
         "failure_message": "On example input, the returned DataFrame has the wrong shape.",
         "hidden": false,
         "locked": false
        },
        {
         "code": ">>> out = get_comments(18344932)\n>>> out.loc[5, 'by'] == 'RobAtticus'\nTrue",
         "failure_message": "On example input, the returned DataFrame has an incorrect author name(s).",
         "hidden": false,
         "locked": false
        },
        {
         "code": ">>> out = get_comments(18344932)\n>>> out.loc[5, 'time'].day == 31\nTrue",
         "failure_message": "On example input, the returned DataFrame has an incorrect date(s).",
         "hidden": false,
         "locked": false
        }
       ],
       "scored": true,
       "setup": "",
       "teardown": "",
       "type": "doctest"
      }
     ]
    }
   }
  }
 },
 "nbformat": 4,
 "nbformat_minor": 5
}
