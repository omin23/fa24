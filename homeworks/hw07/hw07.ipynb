{
 "cells": [
  {
   "cell_type": "markdown",
   "id": "b4e0b501",
   "metadata": {},
   "source": [
    "<div class=\"alert alert-success\" markdown=\"1\">\n",
    "\n",
    "#### Homework 7\n",
    "\n",
    "# Loss Functions and Linear Algebra\n",
    "\n",
    "### EECS 398-003: Practical Data Science, Fall 2024\n",
    "\n",
    "#### Due Thursday, October 24th at 11:59PM\n",
    "    \n",
    "</div>"
   ]
  },
  {
   "cell_type": "markdown",
   "id": "f738d1e3",
   "metadata": {},
   "source": [
    "## Instructions\n",
    "\n",
    "Welcome to Homework 7! In this homework, you'll gain a strong understanding of a key concept in machine learning: loss functions. Along the way, you'll practice working with summation notation, derivatives, limits, and linear algebra, all concepts that are crucial to machine learning. See the [Readings section of the Resources tab on the course website](https://practicaldsc.org/resources/#readings) for supplemental resources.\n",
    "\n",
    "You are given six slip days throughout the semester to extend deadlines. See the [Syllabus](https://practicaldsc.org/syllabus) for more details. With the exception of using slip days, late work will not be accepted unless you have made special arrangements with your instructor.\n",
    "\n",
    "To access this notebook, you'll need to clone our [public GitHub repository](https://github.com/practicaldsc/fa24/). The [⚙️ Environment Setup](https://practicaldsc.org/env-setup) page on the course website walks you through the necessary steps.\n",
    "<div class=\"alert alert-warning\" markdown=\"1\">\n",
    "    \n",
    "Unlike other homeworks, you **are not** going to submit this notebook! Instead, you will write **all** of your answers to the questions in this homework in a separate PDF. You can create this PDF either digitally, using your tablet or using [Overleaf + LaTeX](https://overleaf.com) (or some other sort of digital document), or by writing your answers on a piece of paper and scanning them in. \n",
    "\n",
    "**Make sure to show your work for all questions! Answers without work shown may not receive full credit.**\n",
    "</div>\n",
    "    \n",
    "This homework is worth a total of **56 points**, all of which come from **manual grading**. The number of points each question is worth is listed at the start of each question. **All questions in the assignment are independent, so feel free to move around if you get stuck**. Tip: if you're using Jupyter Lab, you can see a Table of Contents for the notebook by going to View > Table of Contents."
   ]
  },
  {
   "cell_type": "markdown",
   "id": "ce5ae98d",
   "metadata": {},
   "source": [
    "To get started, run the cell below. There's no need to `import otter` at the top, since there are no autograder tests. But, you will still run some code."
   ]
  },
  {
   "cell_type": "code",
   "execution_count": 2,
   "id": "def9fcf8",
   "metadata": {},
   "outputs": [],
   "source": [
    "import pandas as pd\n",
    "import numpy as np\n",
    "import math as math\n",
    "import plotly\n",
    "import plotly.figure_factory as ff\n",
    "import plotly.graph_objects as go\n",
    "import plotly.express as px\n",
    "from plotly.subplots import make_subplots\n",
    "import plotly.io as pio\n",
    "\n",
    "# Preferred styles\n",
    "pio.templates[\"pds\"] = go.layout.Template(\n",
    "    layout=dict(\n",
    "        margin=dict(l=30, r=30, t=30, b=30),\n",
    "        autosize=True,\n",
    "        width=600,\n",
    "        height=400,\n",
    "        xaxis=dict(showgrid=True),\n",
    "        yaxis=dict(showgrid=True),\n",
    "        title=dict(x=0.5, xanchor=\"center\"),\n",
    "    )\n",
    ")\n",
    "pio.templates.default = \"simple_white+pds\"\n",
    "pd.options.plotting.backend = 'plotly'\n",
    "\n",
    "import warnings\n",
    "warnings.simplefilter('ignore')"
   ]
  },
  {
   "cell_type": "markdown",
   "id": "98133a4a",
   "metadata": {},
   "source": [
    "## Question 1: Imputation Returns 📏\n",
    "\n",
    "---\n",
    "\n",
    "Earlier in the semester, we learned about mean imputation, a technique for handling missing values in a dataset. Specifically, with mean imputation, we fill in all of the missing values in a column with the mean of the observed values in that column. (Here, we'll just consider _unconditional_ mean imputation.)\n",
    "\n",
    "One of the observations we made in [Lecture 8](https://practicaldsc.org/resources/lectures/lec08/lec08-filled.html#Idea:-Mean-imputation) is that when performing mean imputation:\n",
    "\n",
    "- the mean of the imputed column is **the same as** the mean of the observed values, pre-imputation, and\n",
    "- the standard deviation of the imputed column is **less than** the standard deviation of the observed values, pre-imputation.\n",
    "\n",
    "For clarity, let's illustrate that fact once more. Run the cell below to load in the same `heights` DataFrame we used in Lecture 8."
   ]
  },
  {
   "cell_type": "code",
   "execution_count": 2,
   "id": "ab4778e3",
   "metadata": {},
   "outputs": [
    {
     "data": {
      "text/html": [
       "<div>\n",
       "<style scoped>\n",
       "    .dataframe tbody tr th:only-of-type {\n",
       "        vertical-align: middle;\n",
       "    }\n",
       "\n",
       "    .dataframe tbody tr th {\n",
       "        vertical-align: top;\n",
       "    }\n",
       "\n",
       "    .dataframe thead th {\n",
       "        text-align: right;\n",
       "    }\n",
       "</style>\n",
       "<table border=\"1\" class=\"dataframe\">\n",
       "  <thead>\n",
       "    <tr style=\"text-align: right;\">\n",
       "      <th></th>\n",
       "      <th>father</th>\n",
       "      <th>mother</th>\n",
       "      <th>gender</th>\n",
       "      <th>child</th>\n",
       "    </tr>\n",
       "  </thead>\n",
       "  <tbody>\n",
       "    <tr>\n",
       "      <th>0</th>\n",
       "      <td>78.5</td>\n",
       "      <td>67.0</td>\n",
       "      <td>male</td>\n",
       "      <td>NaN</td>\n",
       "    </tr>\n",
       "    <tr>\n",
       "      <th>1</th>\n",
       "      <td>78.5</td>\n",
       "      <td>67.0</td>\n",
       "      <td>female</td>\n",
       "      <td>69.2</td>\n",
       "    </tr>\n",
       "    <tr>\n",
       "      <th>2</th>\n",
       "      <td>78.5</td>\n",
       "      <td>67.0</td>\n",
       "      <td>female</td>\n",
       "      <td>69.0</td>\n",
       "    </tr>\n",
       "    <tr>\n",
       "      <th>3</th>\n",
       "      <td>78.5</td>\n",
       "      <td>67.0</td>\n",
       "      <td>female</td>\n",
       "      <td>69.0</td>\n",
       "    </tr>\n",
       "    <tr>\n",
       "      <th>4</th>\n",
       "      <td>75.5</td>\n",
       "      <td>66.5</td>\n",
       "      <td>male</td>\n",
       "      <td>NaN</td>\n",
       "    </tr>\n",
       "  </tbody>\n",
       "</table>\n",
       "</div>"
      ],
      "text/plain": [
       "   father  mother  gender  child\n",
       "0    78.5    67.0    male    NaN\n",
       "1    78.5    67.0  female   69.2\n",
       "2    78.5    67.0  female   69.0\n",
       "3    78.5    67.0  female   69.0\n",
       "4    75.5    66.5    male    NaN"
      ]
     },
     "execution_count": 2,
     "metadata": {},
     "output_type": "execute_result"
    }
   ],
   "source": [
    "heights = pd.read_csv('data/heights-missing-2.csv')\n",
    "heights.head()"
   ]
  },
  {
   "cell_type": "markdown",
   "id": "08f73ee0",
   "metadata": {},
   "source": [
    "The `'child'` column in `heights` has many missing values."
   ]
  },
  {
   "cell_type": "code",
   "execution_count": 3,
   "id": "7f98f2f5",
   "metadata": {},
   "outputs": [
    {
     "data": {
      "text/plain": [
       "child\n",
       "False    765\n",
       "True     169\n",
       "Name: count, dtype: int64"
      ]
     },
     "execution_count": 3,
     "metadata": {},
     "output_type": "execute_result"
    }
   ],
   "source": [
    "# 169 missing values, 765 present values.\n",
    "original_heights = heights['child']\n",
    "original_heights.isna().value_counts()"
   ]
  },
  {
   "cell_type": "markdown",
   "id": "c062927f",
   "metadata": {},
   "source": [
    "When dropping all missing values, the mean and standard deviation of `heights` is below:"
   ]
  },
  {
   "cell_type": "code",
   "execution_count": 4,
   "id": "7eeb78d0",
   "metadata": {},
   "outputs": [
    {
     "data": {
      "text/plain": [
       "67.10339869281046"
      ]
     },
     "execution_count": 4,
     "metadata": {},
     "output_type": "execute_result"
    }
   ],
   "source": [
    "original_heights = heights['child']\n",
    "original_heights.mean()"
   ]
  },
  {
   "cell_type": "code",
   "execution_count": 5,
   "id": "83db0e96",
   "metadata": {},
   "outputs": [
    {
     "data": {
      "text/plain": [
       "3.520474411620415"
      ]
     },
     "execution_count": 5,
     "metadata": {},
     "output_type": "execute_result"
    }
   ],
   "source": [
    "# We'll talk about what ddof=0 does later in the question.\n",
    "# For now, just interpret this result as the standard deviation.\n",
    "original_heights.std(ddof=0)"
   ]
  },
  {
   "cell_type": "markdown",
   "id": "9883593e",
   "metadata": {},
   "source": [
    "After filling in missing `'child'` heights with the mean of the observed heights, we have:"
   ]
  },
  {
   "cell_type": "code",
   "execution_count": 6,
   "id": "10bc56ff",
   "metadata": {},
   "outputs": [
    {
     "data": {
      "text/plain": [
       "67.10339869281046"
      ]
     },
     "execution_count": 6,
     "metadata": {},
     "output_type": "execute_result"
    }
   ],
   "source": [
    "imputed_heights = original_heights.fillna(original_heights.mean())\n",
    "\n",
    "# The same as original_heights.mean()!\n",
    "imputed_heights.mean()"
   ]
  },
  {
   "cell_type": "code",
   "execution_count": 7,
   "id": "6118b435",
   "metadata": {},
   "outputs": [
    {
     "data": {
      "text/plain": [
       "3.1860931691398657"
      ]
     },
     "execution_count": 7,
     "metadata": {},
     "output_type": "execute_result"
    }
   ],
   "source": [
    "# Smaller than original_heights.std(ddof=0)!\n",
    "imputed_heights.std(ddof=0)"
   ]
  },
  {
   "cell_type": "markdown",
   "id": "255f01cd",
   "metadata": {},
   "source": [
    "Again, we see that the mean pre-imputation and post-imputation is the same, but the standard deviations are different. But is the mean always guaranteed to be the same after performing mean imputation? And what is the relationship between the standard deviation pre-imputation, $\\approx 3.52047$, and the standard deviation post-imputation, $\\approx 3.18609$?\n",
    "\n",
    "In this question, we will mathematically **prove** the relationships we're seeing above in more generality, to better understand the properties of mean imputation. This will also give us practice with manipulating equations involving summations and squares, which we'll need to do a lot to understand the machinery behind machine learning."
   ]
  },
  {
   "cell_type": "markdown",
   "id": "391764cd",
   "metadata": {},
   "source": [
    "<!-- BEGIN QUESTION -->\n",
    "\n",
    "### Question 1.1 <div style=\"display:inline-block; vertical-align: middle; padding:7px 7px; font-size:10px; font-weight:light; color:white; background-color:#e84c4a; border-radius:7px; text-align:left;\">2 Points</div>\n",
    "\n",
    "Consider a column of $n$ numbers, $y_1, y_2, ..., y_n$ with mean $M$ and standard deviation $S$, where the standard deviation is defined as follows:\n",
    "\n",
    "$$S = \\sqrt{\\frac{1}{n} \\sum_{i = 1}^n (y_i - M)^2}$$\n",
    "\n",
    "Suppose we introduce $k$ new values to the dataset, $y_{n+1}, y_{n+2}, ... , y_{n+k}$, all of which are equal to $M$. (This is like mean imputation, if the full dataset had $n + k$ values, with $n$ observed/not missing and $k$ missing, and we imputed the $k$ missing values with the mean of the observed, $M$.)\n",
    "\n",
    "Let the new mean and standard deviation of all $n+k$ values be $M'$ and $S'$, respectively.\n",
    "\n",
    "**Prove that $M' = M$.**\n",
    "\n",
    "Some guidance: It's not sufficient to provide a verbal argument. Instead, start with the definition of $M' = \\frac{1}{n+k} \\sum_{i = 1}^{n + k} y_i$, and manipulate the sum to show that it's equal to $M$."
   ]
  },
  {
   "cell_type": "markdown",
   "id": "1ffd004e",
   "metadata": {},
   "source": [
    "### 1.1 ###\n",
    " \n",
    "We want to show that M' = M. \n",
    "\n",
    "We know that $M' = \\frac{1}{n+k} \\sum_{i = 1}^{n + k} y_i$ and that $M = \\frac{1}{n} \\sum_{i = 1}^{n} y_i$\n",
    "\n",
    "Additionally we know that y_{n+1} $\\ldots$ y_{n+k} are all M.\n",
    "\n",
    "So we may show;\n",
    "\n",
    "$M' = \\frac{1}{n+k} \\sum_{i = 1}^{n + k} y_i$ $\\implies$ $\\frac{1}{n+k} (\\sum_{i = 1}^{n} y_i + \\sum_{i = n+1}^{n+k} y_i)$\n",
    "\n",
    "Since we know that y_{n+1} $\\ldots$ y_{n+k} are all M and that $\\sum_{i = 1}^{n} y_i$ = Mn, we may write:\n",
    "\n",
    "$\\frac{1}{n+k}(Mn + Mk)$ $\\implies$ $M(\\frac{1}{n+k})(n+k) = M$\n",
    "\n",
    "Thus we have shown that $M' = M$."
   ]
  },
  {
   "cell_type": "markdown",
   "id": "bdab5768",
   "metadata": {},
   "source": [
    "<!-- END QUESTION -->\n",
    "\n",
    "<!-- BEGIN QUESTION -->\n",
    "\n",
    "### Question 1.2 <div style=\"display:inline-block; vertical-align: middle; padding:7px 7px; font-size:10px; font-weight:light; color:white; background-color:#e84c4a; border-radius:7px; text-align:left;\">4 Points</div>\n",
    "\n",
    "Using the same definitions as in Question 1.1, find $S'$ in terms of $M$, $n$, $k$, and $S$. Show your work.\n",
    "\n",
    "Some guidance: \n",
    "- You may not need to use all of these variables in your answer.\n",
    "- To verify your answer is correct, plug in $M = 67.10340$, $n = 765$, $k = 169$, and $S = 3.52047$. The answer you get should be approximately $3.18609$, as we saw at the start of the question."
   ]
  },
  {
   "cell_type": "markdown",
   "id": "77e3a557",
   "metadata": {},
   "source": [
    "### 1.2 ###\n",
    "\n",
    "To find S' we need to adjust the original S to accomidate k and the make sure the error is accuratly taken. That is, we need to tweak the sum so that it considers $y_{n+1} \\ldots y_{n+k}$. Additionally since we are adding mpre values into the dataset we also need to adjust the denominator so that it relfects the added values. M will remain the same as we proved in 1.1 we don't need to use S since that was derrivted without considering the extra M's that we are adding. Finally we would result with:  \n",
    "\n",
    "\n",
    "$$S' = \\sqrt{\\frac{1}{n+k} (\\sum_{i = 1}^{n} (y_i - M)^2 + \\sum_{i = n+1}^{k} (y_i - M)^2)} \\implies$$\n",
    "$$S' = \\sqrt{\\frac{1}{n+k} \\sum_{i = 1}^{n+k} (y_i - M)^2}$$\n",
    "\n",
    "While this form would give us S' we need to express S' in terms of M,n,K and S, \n",
    "\n",
    "So we may write: \n",
    "\n",
    "$$S'^2 = \\frac{1}{n+k} (\\sum_{i = 1}^{n} (y_i - M)^2 + \\sum_{i = n+1}^{k} (y_i - M)^2)$$\n",
    "\n",
    "Since all $y_i$ after n is all M, we may conclude that $\\sum_{i = n+1}^{k} (y_i - M)^2 = 0$\n",
    "\n",
    "Also from the question in 1.1 we may observe that $\\sum_{i = 1}^n (y_i - M)^2 = nS^2$\n",
    "\n",
    "So we may write: \n",
    "\n",
    "$$S'^2 = \\frac{1}{n+k} (nS^2 + 0) \\implies S'^2 = \\frac{n}{n+k} (S^2) \\implies S' = S\\sqrt{\\frac{n}{n+k}} $$"
   ]
  },
  {
   "cell_type": "code",
   "execution_count": 206,
   "id": "b8d1b638",
   "metadata": {},
   "outputs": [
    {
     "name": "stdout",
     "output_type": "stream",
     "text": [
      "3.1860931691401397\n",
      "3.186089176543407\n"
     ]
    }
   ],
   "source": [
    "M = 67.10340\n",
    "n = 765\n",
    "k = 169\n",
    "S = 3.52047\n",
    "\n",
    "tsum = 0\n",
    "\n",
    "for i in imputed_heights:\n",
    "    tsum += (i-M)**2\n",
    "s = math.sqrt((1/(n+k)) * tsum)\n",
    "print(s)\n",
    "\n",
    "s_1 = math.sqrt((n/(n+k)))* S\n",
    "print(s_1)\n"
   ]
  },
  {
   "cell_type": "markdown",
   "id": "f570f9e8",
   "metadata": {},
   "source": [
    "<!-- END QUESTION -->\n",
    "\n",
    "## Question 2: Relative Squared Loss 🧑‍🧑‍🧒‍🧒\n",
    "\n",
    "---\n",
    "\n",
    "In [Lecture 14](https://practicaldsc.org/resources/lectures/lec14/lec14-filled.pdf), we introduced the \"modeling recipe\" for making predictions:\n",
    "\n",
    "1. Choose a model.\n",
    "1. Choose a loss function.\n",
    "1. Minimize average loss to find optimal model parameters.\n",
    "\n",
    "The first instance of this recipe saw us choose:\n",
    "1. The constant model, $H(x) = h$.\n",
    "1. The squared loss function: $L_\\text{sq}(y_i, h) = (y_i - h)^2$.\n",
    "1. The average squared loss across our entire dataset, then, was:\n",
    "$$R_\\text{sq}(h) = \\frac{1}{n} \\sum_{i = 1}^n (y_i - h)^2$$\n",
    "which, using calculus, we showed is minimized when: $$h^* = \\text{Mean}(y_1, y_2, ..., y_n)$$\n",
    "This means that using the squared loss function, the **best** constant prediction is $h^* = \\text{Mean}(y_1, y_2, ..., y_n)$.\n",
    "\n",
    "In this question, you will find the best constant prediction when using a different loss function. In particular, here, we'll explore the **relative squared loss** function, $L_{\\text{rsq}}(y_i, h)$:\n",
    "\n",
    "$$L_{\\text{rsq}}(y_i, h) = \\frac{(y_i - h)^2}{y_i}$$\n",
    "\n",
    "Throughout this question, assume that each of $y_1, y_2, ..., y_n$ is positive."
   ]
  },
  {
   "cell_type": "markdown",
   "id": "3a55f7f1",
   "metadata": {},
   "source": [
    "<!-- BEGIN QUESTION -->\n",
    "\n",
    "### Question 2.1 <div style=\"display:inline-block; vertical-align: middle; padding:7px 7px; font-size:10px; font-weight:light; color:white; background-color:#e84c4a; border-radius:7px; text-align:left;\">2 Points</div>\n",
    "\n",
    "Determine $\\frac{d}{d h} L_{\\text{rsq}}(h)$, the derivative of the relative squared loss function with respect to $h$.\n",
    "\n",
    "(Technically, this is a **partial** derivative, since there are other variables in the definition of $L_\\text{rsq}(h)$.)"
   ]
  },
  {
   "cell_type": "markdown",
   "id": "8e924eef",
   "metadata": {},
   "source": [
    "### 2.1 ###\n",
    "\n",
    "Since $L_{\\text{rsq}}(h)$ is $\\frac{(y_i - h)^2}{y_i}$ we may write \n",
    "\n",
    "$\\frac{d}{d h} L_{\\text{rsq}}(h)$  = $\\frac{d}{d h} \\frac{(y_i - h)^2}{y_i}$ \n",
    "\n",
    "Here we may ignore trhe constants and apply the power rule: \n",
    "\n",
    "$\\frac{d}{d h} \\frac{(y_i - h)^2}{y_i}$ $\\implies$ $\\frac{1}{y_i} * 2*(y_{i}-h) * -1$ $\\implies$ $\\frac{1}{y_i} * 2*(h - y_{i})$\n",
    "\n",
    "Here we may distribute the $\\frac{1}{y_i}$:\n",
    "\n",
    "$\\frac{2(h - y_{i})}{y_i}$"
   ]
  },
  {
   "cell_type": "markdown",
   "id": "fe707f4a",
   "metadata": {},
   "source": [
    "<!-- END QUESTION -->\n",
    "\n",
    "<!-- BEGIN QUESTION -->\n",
    "\n",
    "### Question 2.2 <div style=\"display:inline-block; vertical-align: middle; padding:7px 7px; font-size:10px; font-weight:light; color:white; background-color:#e84c4a; border-radius:7px; text-align:left;\">4 Points</div>\n",
    "\n",
    "What value of $h$ minimizes average loss when using the relative squared loss function – that is, what is $h^*$? Your answer should only be in terms of the variables $n, y_1, y_2, ..., y_n$, and any constants."
   ]
  },
  {
   "cell_type": "markdown",
   "id": "a7943d76",
   "metadata": {},
   "source": [
    "### 2.2 ###\n",
    "\n",
    "When the first derivative of f(x) is 0 (when f'(x) = 0) we now that we have hit a maximum or minimum. \n",
    "\n",
    "Thus we must find R_{rsq}'(h)$ = 0.\n",
    "\n",
    "we know that $R_{rsq}'(h)$  = $2* \\sum_{i=1}^n(\\frac{(h - y_{i})}{y_i})$ \n",
    "\n",
    "so, \n",
    "\n",
    "$\\frac{2}{n}* \\sum_{i=1}^n(\\frac{(h - y_{i})}{y_i}) = 0$  $\\implies$ \n",
    "\n",
    "$\\sum_{i=1}^n(\\frac{(h - y_{i})}{y_i}) = 0$ $\\implies$ \n",
    "\n",
    "$\\sum_{i=1}^n(\\frac{(h)}{y_i} - 1) = 0$ $\\implies$ \n",
    "\n",
    "h $\\sum_{i=1}^n(\\frac{1}{y_i}) - n = 0$ $\\implies$ \n",
    "\n",
    "h = $\\frac{n}{\\sum_{i=1}^n(\\frac{1}{y_i})}$"
   ]
  },
  {
   "cell_type": "markdown",
   "id": "c6f190fb",
   "metadata": {},
   "source": [
    "<!-- END QUESTION -->\n",
    "\n",
    "<!-- BEGIN QUESTION -->\n",
    "\n",
    "### Question 2.3 <div style=\"display:inline-block; vertical-align: middle; padding:7px 7px; font-size:10px; font-weight:light; color:white; background-color:#e84c4a; border-radius:7px; text-align:left;\">3 Points</div>\n",
    "\n",
    "Let $C(y_1, y_2, ..., y_n)$ be your minimizer $h^*$ from Question 2.2. That is, for a particular dataset $y_1, y_2, ..., y_n$, $C(y_1, y_2, ..., y_n)$ is the value of $h$ that minimizes empirical risk for relative squared loss on that dataset.\n",
    "\n",
    "What is the value of $\\displaystyle\\lim_{y_4 \\rightarrow \\infty} C(1, 3, 5, y_4)$ in terms of $C(1, 3, 5)$? Your answer should involve the function $C$ and/or one or more constants.\n",
    "\n",
    "Some guidance: To notice the pattern, evaluate $C(1, 3, 5, 100)$, $C(1, 3, 5, 10000)$, and $C(1, 3, 5, 1000000)$."
   ]
  },
  {
   "cell_type": "code",
   "execution_count": 34,
   "id": "293ec7ac",
   "metadata": {},
   "outputs": [],
   "source": [
    "def C(l):\n",
    "    s = 0\n",
    "    for i in l:\n",
    "        s += 1/i\n",
    "    h = (len(l)/s)\n",
    "    return h"
   ]
  },
  {
   "cell_type": "code",
   "execution_count": 38,
   "id": "a1fee1f9",
   "metadata": {},
   "outputs": [
    {
     "name": "stdout",
     "output_type": "stream",
     "text": [
      "y4 = 100\n",
      "2.591792656587473\n",
      "y4 = 10000\n",
      "2.608525530943634\n",
      "y4 = 1000000\n",
      "2.6086939508517717\n",
      "y4 = inf\n",
      "2.608695652173913\n",
      "2.608695652173913\n"
     ]
    }
   ],
   "source": [
    "l = [1,3,5,100]\n",
    "\n",
    "print(\"y4 = 100\")\n",
    "print(C(l))\n",
    "\n",
    "print(\"y4 = 10000\")\n",
    "l = [1,3,5,10000]\n",
    "print(C(l))\n",
    "\n",
    "print(\"y4 = 1000000\")\n",
    "l = [1,3,5,1000000]\n",
    "print(C(l))\n",
    "\n",
    "print(\"y4 = inf\")\n",
    "l = [1,3,5,math.inf]\n",
    "print(C(l))\n",
    "l = [1,3,5]\n",
    "print(C(l)* (4/3))"
   ]
  },
  {
   "cell_type": "markdown",
   "id": "e4517634",
   "metadata": {},
   "source": [
    "### 2.3 ###\n",
    "\n",
    "C(1,3,5,y4) is equal to:\n",
    "\n",
    "$\\frac{4}{(\\frac{1}{1}+\\frac{1}{3}+\\frac{1}{5}+\\frac{1}{y_4})}$\n",
    "so, as $y_4 \\rightarrow \\infty$ $y_4$ will make less and less of an impact on the sum until we get:\n",
    "\n",
    "$\\frac{4}{(\\frac{1}{1}+\\frac{1}{3}+\\frac{1}{5})}$ which is the same as C(1,3,5) $\\frac{4}{3} =2.608695652173913$\n",
    "\n",
    "Thus, as $y_4 \\rightarrow \\infty$, C(1,3,5,inf) = 2.608695652173913\n",
    "\n"
   ]
  },
  {
   "cell_type": "markdown",
   "id": "f870acab",
   "metadata": {},
   "source": [
    "<!-- END QUESTION -->\n",
    "\n",
    "<!-- BEGIN QUESTION -->\n",
    "\n",
    "### Question 2.4 <div style=\"display:inline-block; vertical-align: middle; padding:7px 7px; font-size:10px; font-weight:light; color:white; background-color:#e84c4a; border-radius:7px; text-align:left;\">2 Points</div>\n",
    "\n",
    "What is the value of $\\displaystyle\\lim_{y_4 \\rightarrow 0} C(1, 3, 5, y_4)$? Again, your answer should involve the function $C$ and/or one or more constants."
   ]
  },
  {
   "cell_type": "code",
   "execution_count": 49,
   "id": "948d3da4",
   "metadata": {},
   "outputs": [
    {
     "name": "stdout",
     "output_type": "stream",
     "text": [
      "y4 = 0.1\n",
      "0.3468208092485549\n",
      "y4 = 0.0001\n",
      "0.00039993867606966934\n"
     ]
    }
   ],
   "source": [
    "print(\"y4 = 0.1\")\n",
    "l = [1,3,5,0.1]\n",
    "print(C(l))\n",
    "\n",
    "print(\"y4 = 0.0001\")\n",
    "l = [1,3,5,0.0001]\n",
    "print(C(l))"
   ]
  },
  {
   "cell_type": "code",
   "execution_count": 56,
   "id": "c5b91102",
   "metadata": {},
   "outputs": [
    {
     "data": {
      "text/plain": [
       "0.0"
      ]
     },
     "execution_count": 56,
     "metadata": {},
     "output_type": "execute_result"
    }
   ],
   "source": [
    "4/(1+(1/3)+(1/5)+(math.inf))"
   ]
  },
  {
   "cell_type": "markdown",
   "id": "676f3c83",
   "metadata": {},
   "source": [
    "### 2.4 ###\n",
    "\n",
    "C(1,3,5,y4) is equal to:\n",
    "\n",
    "$\\frac{4}{(\\frac{1}{1}+\\frac{1}{3}+\\frac{1}{5}+\\frac{1}{y_4})}$\n",
    "\n",
    "so, as $y_4 \\rightarrow y$, $y_4$ will make more and more of an impact on the sum until we get:\n",
    "\n",
    "$\\frac{4}{(\\frac{1}{1}+\\frac{1}{3}+\\frac{1}{5} + \\frac{1}{0})}$ which equals to\n",
    "\n",
    "$\\frac{4}{(\\frac{1}{1}+\\frac{1}{3}+\\frac{1}{5} + \\infty)}$ = 0\n",
    "\n",
    "Thus, as $y_4 \\rightarrow 0$, C(1,3,5,$y_4$) = 0\n",
    "\n",
    "This is the equivalent to C(1,3,5) = 0"
   ]
  },
  {
   "cell_type": "markdown",
   "id": "131ce513",
   "metadata": {},
   "source": [
    "<!-- END QUESTION -->\n",
    "\n",
    "<!-- BEGIN QUESTION -->\n",
    "\n",
    "### Question 2.5 <div style=\"display:inline-block; vertical-align: middle; padding:7px 7px; font-size:10px; font-weight:light; color:white; background-color:#e84c4a; border-radius:7px; text-align:left;\">2 Points</div>\n",
    "\n",
    "Based on the results of Questions 2.3 and 2.4, when is the prediction $C(y_1, y_2, ..., y_n)$ robust to outliers? When is it not robust to outliers?"
   ]
  },
  {
   "cell_type": "markdown",
   "id": "38230a04",
   "metadata": {},
   "source": [
    "### 2.5 ###\n",
    "\n",
    "Based on 2.3 and 2.4, $C(y_1, y_2, ..., y_n)$ is not very robust to outliers. When if any $y_i$ too close to 0 or much larger than the other elements then the function returns either 0 or 2.61 respectively. This makes makes this particular function not ideal for datasets that don't have elements in some reletive range from each other (that is to say that this function only really performs well when elements are closer together the larger the elements are)."
   ]
  },
  {
   "cell_type": "markdown",
   "id": "06480557",
   "metadata": {},
   "source": [
    "<!-- BEGIN QUESTION -->\n",
    "\n",
    "### Question 3.1 <div style=\"display:inline-block; vertical-align: middle; padding:7px 7px; font-size:10px; font-weight:light; color:white; background-color:#e84c4a; border-radius:7px; text-align:left;\">2 Points</div>\n",
    "\n",
    "What is the value of $\\sum_{i = 1}^n (y_i - \\bar{y})$? Show your work."
   ]
  },
  {
   "cell_type": "markdown",
   "id": "7d57b67b",
   "metadata": {},
   "source": [
    "### 3.1 ###\n",
    "\n",
    "$\\sum_{i = 1}^n (y_i - \\bar{y}) = \\sum_{i = 1}^n (y_i) - \\sum_{i = 1}^n (\\bar{y})$\n",
    "\n",
    "We know that $\\sum_{i = 1}^n (y_i)$ = Mn (as we saw in 1.1) and $\\sum_{i = 1}^n (\\bar{y})$ = Mn as well thus, we get:\n",
    "\n",
    "$\\bar{y}n - \\bar{y}n = 0 $"
   ]
  },
  {
   "cell_type": "markdown",
   "id": "a6196ff8",
   "metadata": {},
   "source": [
    "<!-- END QUESTION -->\n",
    "\n",
    "<!-- BEGIN QUESTION -->\n",
    "\n",
    "### Question 3.2 <div style=\"display:inline-block; vertical-align: middle; padding:7px 7px; font-size:10px; font-weight:light; color:white; background-color:#e84c4a; border-radius:7px; text-align:left;\">2 Points</div>\n",
    "\n",
    "Show that:\n",
    "\n",
    "$$R_\\text{sq}(h) = \\frac{1}{n} \\sum_{i = 1}^n \\left( (y_i - \\bar{y})^2 + 2(y_i - \\bar{y})(\\bar{y} - h) + (\\bar{y} - h)^2 \\right)$$\n",
    "\n",
    "Some guidance:\n",
    "- To proceed, start by rewriting $y_i - h$ in the definition of $R_\\text{sq}(h)$ as $(y_i - \\bar{y}) + (\\bar{y} - h)$. Why is this a valid step?\n",
    "- Make sure not to expand unnecessarily. Your work should only take ~3 lines."
   ]
  },
  {
   "cell_type": "markdown",
   "id": "2c12f0c7",
   "metadata": {},
   "source": [
    "### 3.2 ###\n",
    "\n",
    "Repleace $(y_i-h)$ = $(y_i - \\bar{y}) + (\\bar{y} - h)$ to get \n",
    "\n",
    "$R_\\text{sq}(h) = \\frac{1}{n} \\sum_{i = 1}^n (y_i-h)^2$ $\\implies$\n",
    "\n",
    "Expand to get: \n",
    "\n",
    "\n",
    "$\\frac{1}{n} \\sum_{i = 1}^n ((y_i - \\bar{y}) + (\\bar{y} - h))^2$ $\\implies$\n",
    "\n",
    "Final:\n",
    "\n",
    "$\\frac{1}{n} \\sum_{i = 1}^n \\left( (y_i - \\bar{y})^2 + 2(y_i - \\bar{y})(\\bar{y} - h) + (\\bar{y} - h)^2 \\right)$\n",
    "\n"
   ]
  },
  {
   "cell_type": "markdown",
   "id": "6b25844a",
   "metadata": {},
   "source": [
    "<!-- END QUESTION -->\n",
    "\n",
    "<!-- BEGIN QUESTION -->\n",
    "\n",
    "### Question 3.3 <div style=\"display:inline-block; vertical-align: middle; padding:7px 7px; font-size:10px; font-weight:light; color:white; background-color:#e84c4a; border-radius:7px; text-align:left;\">2 Points</div>\n",
    "\n",
    "Show that:\n",
    "\n",
    "$$R_\\text{sq}(h) = \\frac{1}{n} \\sum_{i = 1}^n (y_i - \\bar{y})^2 + (\\bar{y} - h)^2$$\n",
    "\n",
    "This is called the **bias-variance decomposition** of $R_\\text{sq}(h)$, which is an idea we'll revisit in the coming weeks.\n",
    "\n",
    "Some guidance: At some point, you will need to use your result from Question 3.1."
   ]
  },
  {
   "cell_type": "markdown",
   "id": "1da34712",
   "metadata": {},
   "source": [
    "### 3.3 ###\n",
    "\n",
    "$\\frac{1}{n} \\sum_{i = 1}^n \\left( (y_i - \\bar{y})^2 + 2(y_i - \\bar{y})(\\bar{y} - h) + (\\bar{y} - h)^2 \\right)$ $\\implies$\n",
    "\n",
    "$\\frac{1}{n} \\left(\\sum_{i = 1}^n(y_i - \\bar{y})^2 + 2(\\bar{y} - h)\\sum_{i = 1}^n(y_i - \\bar{y}) + (\\bar{y} - h)^2 \\sum_{i = 1}^n(1)\\right)$ $\\implies$\n",
    "\n",
    "$\\frac{1}{n} \\sum_{i = 1}^n(y_i - \\bar{y})^2 + \\frac{1}{n}2(\\bar{y} - h)\\sum_{i = 1}^n(y_i - \\bar{y}) +\\frac{1}{n} (\\bar{y} - h)^2 \\sum_{i = 1}^n(1)$ $\\implies$\n",
    "\n",
    "$\\frac{1}{n} \\sum_{i = 1}^n(y_i - \\bar{y})^2  + (\\bar{y} - h)^2$"
   ]
  },
  {
   "cell_type": "markdown",
   "id": "e3246244",
   "metadata": {},
   "source": [
    "<!-- END QUESTION -->\n",
    "\n",
    "<!-- BEGIN QUESTION -->\n",
    "\n",
    "### Question 3.4 <div style=\"display:inline-block; vertical-align: middle; padding:7px 7px; font-size:10px; font-weight:light; color:white; background-color:#e84c4a; border-radius:7px; text-align:left;\">1 Point</div>\n",
    "\n",
    "Why does the result in Question 3.3 prove that $h^* = \\text{Mean}(y_1, y_2, ..., y_n)$ minimizes $R_\\text{sq}(h)$?"
   ]
  },
  {
   "cell_type": "markdown",
   "id": "bb465e08",
   "metadata": {},
   "source": [
    "### 3.4 ###\n",
    "\n",
    "3.3 shows us that the $\\frac{1}{n} \\sum_{i = 1}^n(y_i - \\bar{y})^2$ can not be affected by the value of h but the only way to minimise the overall expression is to set  $(\\bar{y} - h)^2 = 0$. Here it is observable that the function will only be zero when h = $\\bar{y}$ thus we may conclude that $h^*$ must be $\\text{Mean}(y_1, y_2, ..., y_n)$. "
   ]
  },
  {
   "cell_type": "markdown",
   "id": "bb29b485",
   "metadata": {},
   "source": [
    "<!-- END QUESTION -->\n",
    "\n",
    "<!-- BEGIN QUESTION -->\n",
    "\n",
    "### Question 3.5 <div style=\"display:inline-block; vertical-align: middle; padding:7px 7px; font-size:10px; font-weight:light; color:white; background-color:#e84c4a; border-radius:7px; text-align:left;\">1 Point</div>\n",
    "\n",
    "In Question 3.3, you showed that:\n",
    "\n",
    "$$R_\\text{sq}(h) = \\frac{1}{n} \\sum_{i = 1}^n (y_i - \\bar{y})^2 + (\\bar{y} - h)^2$$\n",
    "\n",
    "Take a close look at the equation above, then fill in the blank below with **a single word**:\n",
    "\n",
    "> The value of $R_\\text{sq}(h^*)$, when $h^* = \\text{Mean}(y_1, y_2, ..., y_n)$, is equal to the ____ of the data."
   ]
  },
  {
   "cell_type": "markdown",
   "id": "61f13b32",
   "metadata": {},
   "source": [
    "### 3.5 ###\n",
    "Variance "
   ]
  },
  {
   "cell_type": "markdown",
   "id": "17e1a0d5",
   "metadata": {},
   "source": [
    "<!-- END QUESTION -->\n",
    "\n",
    "## Question 4: Probability 🤝 Statistics\n",
    "\n",
    "---\n",
    "\n",
    "In Lecture 14, we discussed the relationship between probability and statistics:\n",
    "- In probability questions, we're given some model of how the universe works, and it's our job to determine how various samples could turn out.<br><small>Example: If we have 5 blue marbles and 3 green marbles and pick 2 at random, what are the chances we see one marble of each?</small>\n",
    "- In statistics questions, we're given information about a sample, and it's our job to figure out how the universe – or **data generating process** works.<br><small>Example: Repeatedly, I picked 2 marbles at random from a bag with replacement. I don't know what's inside the bag. One time, I saw 2 blue marbles, then next time I saw 1 of each, the next time I saw 2 red marbles, and so on. What marbles are inside the bag?</small>\n",
    "\n",
    "In this question, we'll gain a deeper understanding of this relationship, through the lens of your probability knowledge from EECS 203. To do so, we'll introduce you to a key idea in machine learning and statistics, called **maximum likelihood estimation**.\n",
    "\n",
    "<div class=\"alert alert-success\">\n",
    "\n",
    "<h4>Click <a href=\"https://practicaldsc.org/mle\"><b>here</b></a> to read a lecture note (written by us) that introduces you to maximum likelihood estimation!</h4>You <i>can</i> attempt the question without reading the note, but it'll be significantly more difficult.\n",
    "\n",
    "</div>"
   ]
  },
  {
   "cell_type": "markdown",
   "id": "b45c194a",
   "metadata": {},
   "source": [
    "<!-- BEGIN QUESTION -->\n",
    "\n",
    "### Question 4.1 <div style=\"display:inline-block; vertical-align: middle; padding:7px 7px; font-size:10px; font-weight:light; color:white; background-color:#e84c4a; border-radius:7px; text-align:left;\">2 Points</div>\n",
    "\n",
    "When you step on campus, each person you see has a $0.1$ chance of saying \"Go Blue!\" to you, independent of all other people.\n",
    "\n",
    "Tomorrow, what's the probability that the first person to say \"Go Blue!\" to you is the **6th** person you see?\n",
    "\n",
    "Leave your answer in unsimplified form. This question should not take very long; think back to the probability distributions you learned in EECS 203 (other than the binomial distribution)."
   ]
  },
  {
   "cell_type": "markdown",
   "id": "83f00878",
   "metadata": {},
   "source": [
    "### 4.1 ###\n",
    "1-5th person, don't say \"Go Blue\" so $0.9^5$ and the 6th person does so :\n",
    "\n",
    "$$0.9^5*0.1$$"
   ]
  },
  {
   "cell_type": "markdown",
   "id": "dd3d6669",
   "metadata": {},
   "source": [
    "<!-- END QUESTION -->\n",
    "\n",
    "<!-- BEGIN QUESTION -->\n",
    "\n",
    "### Question 4.2 <div style=\"display:inline-block; vertical-align: middle; padding:7px 7px; font-size:10px; font-weight:light; color:white; background-color:#e84c4a; border-radius:7px; text-align:left;\">2 Points</div>\n",
    "\n",
    "Again, assume that the probability that each person you see has a $0.1$ chance of saying \"Go Blue!\" to you, independent of all other people. \n",
    "\n",
    "What's the probability that:\n",
    "- the first person to say \"Go Blue!\" to you tomorrow is the **6th** person you see, **and**\n",
    "- the first person to say \"Go Blue!\" to you the day after tomorrow is the **10th** person you see, **and**\n",
    "- the first person to say \"Go Blue!\" to you the day after that is the **2nd** person you see?\n",
    "\n",
    "Again, leave your answer in unsimplified form. Note that we're asking for a single probability, not three separate probabilities."
   ]
  },
  {
   "cell_type": "markdown",
   "id": "695e1ce3",
   "metadata": {},
   "source": [
    "First day $\\rightarrow$ $0.9^5*0.1$\n",
    "\n",
    "Second day $\\rightarrow$ $0.9^9*0.1$\n",
    "\n",
    "Third day $\\rightarrow$ $0.9*0.1$\n",
    "\n",
    "Overall the probablility is $(0.9^5*0.1) * (0.9^9*0.1)* (0.9*0.1)$"
   ]
  },
  {
   "cell_type": "markdown",
   "id": "d8350d3b",
   "metadata": {},
   "source": [
    "<!-- END QUESTION -->\n",
    "\n",
    "<!-- BEGIN QUESTION -->\n",
    "\n",
    "### Question 4.3 <div style=\"display:inline-block; vertical-align: middle; padding:7px 7px; font-size:10px; font-weight:light; color:white; background-color:#e84c4a; border-radius:7px; text-align:left;\">4 Points</div>\n",
    "\n",
    "Now, suppose that the probability that each person you see says \"Go Blue!\" to you is some **unknown parameter**, $\\pi$. (That is, $0.1$ will not appear in the rest of this question.)\n",
    "\n",
    "Suppose you go to campus on $n$ straight days, and you collect a dataset $x_1, x_2, ..., x_n$, where:\n",
    "- On Day 1, the first person to say \"Go Blue!\" to you is the $x_1$ th person you saw (or \"person $x_1$\"), **and**\n",
    "- On Day 2, the first person to say \"Go Blue!\" to you is person $x_2$, **and**,\n",
    "- On Day 3, the first person to say \"Go Blue!\" to you is person $x_3$, **and** so on.\n",
    "- In general, for $i = 1, 2, ..., n$, on Day $i$, the first person to say \"Go Blue!\" to you is person $x_i$.\n",
    "\n",
    "For example, the dataset $x_1 = 5, x_2 = 10, x_3 = 2$ would mean that on Day 1, person 5 was the first to say \"Go Blue!\"; on Day 2, person 10 was the first to say \"Go Blue!\"; and on Day 3, person 2 was the first to say \"Go Blue!\".\n",
    "\n",
    "**Prove** that $\\log L(\\pi)$, the log of the likelihood function for $\\pi$, is:\n",
    "\n",
    "$$\\log L(\\pi) = \\log(1 - \\pi) \\sum_{i = 1}^n (x_i - 1) + n \\log \\pi$$\n",
    "\n",
    "Some guidance: Try and generalize the calculation you made in Question 4.2."
   ]
  },
  {
   "cell_type": "markdown",
   "id": "230d5528",
   "metadata": {},
   "source": [
    "### 4.3 ###\n",
    "\n",
    "In general may construct the probablilty for a day we may write: \n",
    "$x_1 = (1-\\pi)^{n-k}(\\pi)^k$\n",
    "\n",
    "so the total of a sequnce of days is $x_1,x_2,x_3$ is $x_1 * x_2 * x_3$\n",
    "\n",
    "so we may write \n",
    "\n",
    "$L(\\pi) = (1-\\pi)^{\\sum_{i=1}^n({x_i}-1)}(\\pi)^{n}$ from this we may use log rules to wrtie: \n",
    "\n",
    "$Log(\\pi) = Log((1-\\pi)^{\\sum_{i=1}^n({x_i}-1)}(\\pi)^{n})$ $\\implies$\n",
    "\n",
    "$Log(\\pi) = Log((1-\\pi)^{\\sum_{i=1}^n({x_i}-1)}) + Log((\\pi)^{n})$\n",
    "\n",
    "$Log(\\pi) = Log((1-\\pi))\\sum_{i=1}^{n}({x_i}-1) + nLog(\\pi)$\n",
    "\n",
    "Thus we have proven the prompt above \n"
   ]
  },
  {
   "cell_type": "markdown",
   "id": "f5f2641b",
   "metadata": {},
   "source": [
    "<!-- END QUESTION -->\n",
    "\n",
    "<!-- BEGIN QUESTION -->\n",
    "\n",
    "### Question 4.4 <div style=\"display:inline-block; vertical-align: middle; padding:7px 7px; font-size:10px; font-weight:light; color:white; background-color:#e84c4a; border-radius:7px; text-align:left;\">4 Points</div>\n",
    "\n",
    "Using the result to Question 4.3, find $\\pi^*$, the maximum likelihood estimate of $\\pi$ given the dataset $x_1, x_2, ..., x_n$. Once you've done that, give a brief English explanation of why the value of $\\pi^*$ makes intuitive sense."
   ]
  },
  {
   "cell_type": "markdown",
   "id": "86331567",
   "metadata": {},
   "source": [
    "### 4.4 ###\n",
    "\n",
    "To find $\\pi^*$ we need to take the deivative of the Log($\\pi$) and set it to zero.\n",
    "\n",
    "Thus we may write: \n",
    "\n",
    "$\\frac{d}{d\\pi}L(\\pi) = \\frac{d}{d\\pi}(Log((1-\\pi))\\sum_{i=1}^{n}({x_i}-1) + nLog(\\pi))$  $\\implies$\n",
    "\n",
    "$\\frac{d}{d\\pi}(Log((1-\\pi))\\sum_{i=1}^{n}({x_i}-1) + \\frac{d}{d\\pi}(nLog(\\pi)))$ $\\implies$\n",
    "\n",
    "$\\sum_{i=1}^{n}({x_i}-1)\\frac{d}{d\\pi}Log((1-\\pi)) + n\\frac{d}{d\\pi}(Log(\\pi))$ $\\implies$\n",
    "\n",
    "$\\sum_{i=1}^{n}({x_i}-1) \\frac{-1}{(1-\\pi)} + \\frac{n}{\\pi}$ $\\implies$\n",
    "\n",
    "$\\frac{-\\pi\\sum_{i=1}^{n}({x_i}-1)}{\\pi(1-\\pi)} + \\frac{n(1-\\pi)}{\\pi(1-\\pi)}$ $\\implies$\n",
    "\n",
    "$\\frac{-\\pi\\sum_{i=1}^{n}({x_i}-1) + n(1-\\pi)}{\\pi(1-\\pi)} = 0$ $\\implies$\n",
    "\n",
    "$-\\pi\\sum_{i=1}^{n}({x_i}-1) + n(1-\\pi) = 0$  $\\implies$ $-\\pi\\sum_{i=1}^{k}({x_i}-1) + n -n\\pi = 0$ $\\implies$\n",
    "\n",
    "$-\\pi(\\sum_{i=1}^{n}({x_i}-1) + n) + n = 0$ $\\implies$\n",
    "\n",
    "$\\pi(\\sum_{i=1}^{n}({x_i}-1) + n) = n$ $\\implies$\n",
    "\n",
    "$\\pi^* = \\frac{n}{\\sum_{i=1}^{k}({x_i}-1)+n}$\n",
    "\n",
    "This makes intuitive sense because this essentially evaluates to number of people who did say \"Go Blue\" divided by the number of poeple who didn't say \"Go Blue. This is, the $\\textit{probalility}$ that someone in specified days would say \"Go Blue\"! "
   ]
  },
  {
   "cell_type": "markdown",
   "id": "d0ae35b5",
   "metadata": {},
   "source": [
    "<!-- END QUESTION -->\n",
    "\n",
    "## Question 5: More and More Losses 🅻\n",
    "\n",
    "---\n",
    "\n",
    "As we mentioned in Questions 2 and 3, $h^* = \\text{Mean}(y_1, y_2, ..., y_n)$ is the constant prediction that minimizes mean squared error, i.e. average squared loss:\n",
    "\n",
    "$$R_\\text{sq}(h) = \\frac{1}{n} \\sum_{i = 1}^n (y_i-h)^2$$\n",
    "\n",
    "Related, $h^* = \\text{Median}(y_1, y_2, ..., y_n)$ is the constant prediction that minimizes mean absolute error, i.e. average absolute loss:\n",
    "\n",
    "$$R_{\\text{abs}}(h) = \\frac{1}{n} \\sum_{i=1}^n \\left|y_i - h\\right|$$\n",
    "\n",
    "You may notice that the formulas for $R_\\text{sq}(h)$ and $R_\\text{abs}(h)$ look awfully similar – they're nearly identical besides the exponent. More generally, for any positive integer $p$, define the $L_p$ loss as follows:\n",
    "\n",
    "$$L_p(y_i, h) = |y_i - h|^p$$\n",
    "\n",
    "With this definition, $L_2$ loss is the same as squared loss and $L_1$ loss is the same as absolute loss. The corresponding average loss, for any value of $p$, is then:\n",
    "\n",
    "$$ R_{p}(h) = \\frac{1}{n} \\sum_{i=1}^n \\left|y_i - h\\right| ^ p $$\n",
    "\n",
    "Written in terms of $R_p(h)$, we know – from the top of this question – that:\n",
    "\n",
    "- The minimizer of $R_1(h)$ is $\\text{Median}(y_1, y_2, ..., y_n)$:\n",
    "\n",
    "$$\\text{Median}(y_1, y_2, ..., y_n) = \\underset{h}{\\mathrm{argmin}} \\: R_1(h)$$\n",
    "\n",
    "- The minimizer of $R_2(h)$ is $\\text{Mean}(y_1, y_2, ..., y_n)$:\n",
    "\n",
    "$$\\text{Mean}(y_1, y_2, ..., y_n) = \\underset{h}{\\mathrm{argmin}} \\: R_2(h)$$\n",
    "\n",
    "But what constant prediction $h^*$ minimizes $R_3(h)$, or $R_{10}(h)$, or $R_{10000}(h)$? In this question, we'll explore this idea – more specifically, we'll study how $h^*$ changes as $p$ (the exponent on $|y_i - h|$) increases.\n",
    "\n",
    "[Lecture 14](https://practicaldsc.org/resources/lectures/lec14/lec14-filled.pdf#page=38) worked through how to solve for constant prediction $h^*$ that minimized average squared loss (i.e. minimized $R_2(h)$), and we linked to a [video](https://youtu.be/0s7M8OsnBNA?si=lHm6eN3rns7PzPOW) that works through a similar derivation for average absolute loss (i.e. $R_1(h)$). Unfortunately, $p = 1$ and $p = 2$ are the only cases in which we can solve for the minimizer to $R_p(h)$ by hand. \n",
    "\n",
    "For all other values of $p$, there is no closed-form solution (i.e. no \"formula\" for the best constant prediction), and so we need to approximate the solution using the computer. Later in the class, we'll learn how to minimize functions using code we write ourselves (the idea is called gradient descent if you're curious), but for now, we're going to use `scipy.optimize.minimize`, which does the hard work for us.\n",
    "\n",
    "The `minimize` function is a versatile tool from the `scipy` library that can help us find the input that minimizes the output of a function. Let's test it out."
   ]
  },
  {
   "cell_type": "code",
   "execution_count": 3,
   "id": "89a5b204",
   "metadata": {},
   "outputs": [],
   "source": [
    "from scipy.optimize import minimize"
   ]
  },
  {
   "cell_type": "markdown",
   "id": "9ccf53ef",
   "metadata": {},
   "source": [
    "Below, we've defined and plotted a quadratic function. We can see 👀 that it's minimized when $x = -4$."
   ]
  },
  {
   "cell_type": "code",
   "execution_count": 4,
   "id": "d39e91e2",
   "metadata": {},
   "outputs": [],
   "source": [
    "def f(x):\n",
    "    return (x + 4) ** 2 - 1"
   ]
  },
  {
   "cell_type": "code",
   "execution_count": 5,
   "id": "e2710fa2",
   "metadata": {},
   "outputs": [
    {
     "data": {
      "application/vnd.plotly.v1+json": {
       "config": {
        "plotlyServerURL": "https://plot.ly"
       },
       "data": [
        {
         "hovertemplate": "x=%{x}<br>y=%{y}<extra></extra>",
         "legendgroup": "",
         "line": {
          "color": "#1F77B4",
          "dash": "solid"
         },
         "marker": {
          "symbol": "circle"
         },
         "mode": "lines",
         "name": "",
         "orientation": "v",
         "showlegend": false,
         "type": "scatter",
         "x": [
          -20,
          -19.183673469387756,
          -18.367346938775512,
          -17.551020408163264,
          -16.73469387755102,
          -15.918367346938776,
          -15.10204081632653,
          -14.285714285714285,
          -13.46938775510204,
          -12.653061224489797,
          -11.83673469387755,
          -11.020408163265305,
          -10.204081632653061,
          -9.387755102040817,
          -8.571428571428571,
          -7.755102040816325,
          -6.938775510204081,
          -6.122448979591837,
          -5.3061224489795915,
          -4.489795918367346,
          -3.6734693877551017,
          -2.8571428571428577,
          -2.04081632653061,
          -1.224489795918366,
          -0.408163265306122,
          0.408163265306122,
          1.224489795918366,
          2.0408163265306136,
          2.8571428571428577,
          3.6734693877551017,
          4.489795918367349,
          5.306122448979593,
          6.122448979591837,
          6.938775510204081,
          7.755102040816325,
          8.571428571428573,
          9.387755102040817,
          10.204081632653061,
          11.020408163265309,
          11.836734693877553,
          12.653061224489797,
          13.46938775510204,
          14.285714285714285,
          15.102040816326529,
          15.91836734693878,
          16.734693877551024,
          17.551020408163268,
          18.367346938775512,
          19.183673469387756,
          20
         ],
         "xaxis": "x",
         "y": [
          255,
          229.5439400249896,
          205.42065805914208,
          182.63015410245728,
          161.17242815493543,
          141.04748021657645,
          122.25531028738025,
          104.79591836734691,
          88.66930445647647,
          73.87546855476886,
          60.41441066222407,
          48.286130778842136,
          37.49062890462307,
          28.027905039566853,
          19.897959183673468,
          13.100791336942931,
          7.636401499375259,
          3.504789670970432,
          0.7059558517284457,
          -0.7600999583506884,
          -0.8933777592669718,
          0.3061224489795906,
          2.838400666389013,
          6.703456892961273,
          11.90129112869638,
          18.43190337359433,
          26.29529362765513,
          35.49146189087882,
          46.020408163265316,
          57.88213244481466,
          71.07663473552691,
          85.60391503540194,
          101.46397334443982,
          118.65680966264055,
          137.18242399000414,
          157.04081632653066,
          178.23198667221993,
          200.75593502707204,
          224.61266139108713,
          249.80216576426494,
          276.3244481466056,
          304.17950853810913,
          333.3673469387755,
          363.88796334860467,
          395.741357767597,
          428.9275301957519,
          463.44648063306965,
          499.29820907955025,
          536.4827155351937,
          575
         ],
         "yaxis": "y"
        }
       ],
       "layout": {
        "legend": {
         "tracegroupgap": 0
        },
        "template": {
         "data": {
          "bar": [
           {
            "error_x": {
             "color": "rgb(36,36,36)"
            },
            "error_y": {
             "color": "rgb(36,36,36)"
            },
            "marker": {
             "line": {
              "color": "white",
              "width": 0.5
             },
             "pattern": {
              "fillmode": "overlay",
              "size": 10,
              "solidity": 0.2
             }
            },
            "type": "bar"
           }
          ],
          "barpolar": [
           {
            "marker": {
             "line": {
              "color": "white",
              "width": 0.5
             },
             "pattern": {
              "fillmode": "overlay",
              "size": 10,
              "solidity": 0.2
             }
            },
            "type": "barpolar"
           }
          ],
          "carpet": [
           {
            "aaxis": {
             "endlinecolor": "rgb(36,36,36)",
             "gridcolor": "white",
             "linecolor": "white",
             "minorgridcolor": "white",
             "startlinecolor": "rgb(36,36,36)"
            },
            "baxis": {
             "endlinecolor": "rgb(36,36,36)",
             "gridcolor": "white",
             "linecolor": "white",
             "minorgridcolor": "white",
             "startlinecolor": "rgb(36,36,36)"
            },
            "type": "carpet"
           }
          ],
          "choropleth": [
           {
            "colorbar": {
             "outlinewidth": 1,
             "tickcolor": "rgb(36,36,36)",
             "ticks": "outside"
            },
            "type": "choropleth"
           }
          ],
          "contour": [
           {
            "colorbar": {
             "outlinewidth": 1,
             "tickcolor": "rgb(36,36,36)",
             "ticks": "outside"
            },
            "colorscale": [
             [
              0,
              "#440154"
             ],
             [
              0.1111111111111111,
              "#482878"
             ],
             [
              0.2222222222222222,
              "#3e4989"
             ],
             [
              0.3333333333333333,
              "#31688e"
             ],
             [
              0.4444444444444444,
              "#26828e"
             ],
             [
              0.5555555555555556,
              "#1f9e89"
             ],
             [
              0.6666666666666666,
              "#35b779"
             ],
             [
              0.7777777777777778,
              "#6ece58"
             ],
             [
              0.8888888888888888,
              "#b5de2b"
             ],
             [
              1,
              "#fde725"
             ]
            ],
            "type": "contour"
           }
          ],
          "contourcarpet": [
           {
            "colorbar": {
             "outlinewidth": 1,
             "tickcolor": "rgb(36,36,36)",
             "ticks": "outside"
            },
            "type": "contourcarpet"
           }
          ],
          "heatmap": [
           {
            "colorbar": {
             "outlinewidth": 1,
             "tickcolor": "rgb(36,36,36)",
             "ticks": "outside"
            },
            "colorscale": [
             [
              0,
              "#440154"
             ],
             [
              0.1111111111111111,
              "#482878"
             ],
             [
              0.2222222222222222,
              "#3e4989"
             ],
             [
              0.3333333333333333,
              "#31688e"
             ],
             [
              0.4444444444444444,
              "#26828e"
             ],
             [
              0.5555555555555556,
              "#1f9e89"
             ],
             [
              0.6666666666666666,
              "#35b779"
             ],
             [
              0.7777777777777778,
              "#6ece58"
             ],
             [
              0.8888888888888888,
              "#b5de2b"
             ],
             [
              1,
              "#fde725"
             ]
            ],
            "type": "heatmap"
           }
          ],
          "heatmapgl": [
           {
            "colorbar": {
             "outlinewidth": 1,
             "tickcolor": "rgb(36,36,36)",
             "ticks": "outside"
            },
            "colorscale": [
             [
              0,
              "#440154"
             ],
             [
              0.1111111111111111,
              "#482878"
             ],
             [
              0.2222222222222222,
              "#3e4989"
             ],
             [
              0.3333333333333333,
              "#31688e"
             ],
             [
              0.4444444444444444,
              "#26828e"
             ],
             [
              0.5555555555555556,
              "#1f9e89"
             ],
             [
              0.6666666666666666,
              "#35b779"
             ],
             [
              0.7777777777777778,
              "#6ece58"
             ],
             [
              0.8888888888888888,
              "#b5de2b"
             ],
             [
              1,
              "#fde725"
             ]
            ],
            "type": "heatmapgl"
           }
          ],
          "histogram": [
           {
            "marker": {
             "line": {
              "color": "white",
              "width": 0.6
             }
            },
            "type": "histogram"
           }
          ],
          "histogram2d": [
           {
            "colorbar": {
             "outlinewidth": 1,
             "tickcolor": "rgb(36,36,36)",
             "ticks": "outside"
            },
            "colorscale": [
             [
              0,
              "#440154"
             ],
             [
              0.1111111111111111,
              "#482878"
             ],
             [
              0.2222222222222222,
              "#3e4989"
             ],
             [
              0.3333333333333333,
              "#31688e"
             ],
             [
              0.4444444444444444,
              "#26828e"
             ],
             [
              0.5555555555555556,
              "#1f9e89"
             ],
             [
              0.6666666666666666,
              "#35b779"
             ],
             [
              0.7777777777777778,
              "#6ece58"
             ],
             [
              0.8888888888888888,
              "#b5de2b"
             ],
             [
              1,
              "#fde725"
             ]
            ],
            "type": "histogram2d"
           }
          ],
          "histogram2dcontour": [
           {
            "colorbar": {
             "outlinewidth": 1,
             "tickcolor": "rgb(36,36,36)",
             "ticks": "outside"
            },
            "colorscale": [
             [
              0,
              "#440154"
             ],
             [
              0.1111111111111111,
              "#482878"
             ],
             [
              0.2222222222222222,
              "#3e4989"
             ],
             [
              0.3333333333333333,
              "#31688e"
             ],
             [
              0.4444444444444444,
              "#26828e"
             ],
             [
              0.5555555555555556,
              "#1f9e89"
             ],
             [
              0.6666666666666666,
              "#35b779"
             ],
             [
              0.7777777777777778,
              "#6ece58"
             ],
             [
              0.8888888888888888,
              "#b5de2b"
             ],
             [
              1,
              "#fde725"
             ]
            ],
            "type": "histogram2dcontour"
           }
          ],
          "mesh3d": [
           {
            "colorbar": {
             "outlinewidth": 1,
             "tickcolor": "rgb(36,36,36)",
             "ticks": "outside"
            },
            "type": "mesh3d"
           }
          ],
          "parcoords": [
           {
            "line": {
             "colorbar": {
              "outlinewidth": 1,
              "tickcolor": "rgb(36,36,36)",
              "ticks": "outside"
             }
            },
            "type": "parcoords"
           }
          ],
          "pie": [
           {
            "automargin": true,
            "type": "pie"
           }
          ],
          "scatter": [
           {
            "fillpattern": {
             "fillmode": "overlay",
             "size": 10,
             "solidity": 0.2
            },
            "type": "scatter"
           }
          ],
          "scatter3d": [
           {
            "line": {
             "colorbar": {
              "outlinewidth": 1,
              "tickcolor": "rgb(36,36,36)",
              "ticks": "outside"
             }
            },
            "marker": {
             "colorbar": {
              "outlinewidth": 1,
              "tickcolor": "rgb(36,36,36)",
              "ticks": "outside"
             }
            },
            "type": "scatter3d"
           }
          ],
          "scattercarpet": [
           {
            "marker": {
             "colorbar": {
              "outlinewidth": 1,
              "tickcolor": "rgb(36,36,36)",
              "ticks": "outside"
             }
            },
            "type": "scattercarpet"
           }
          ],
          "scattergeo": [
           {
            "marker": {
             "colorbar": {
              "outlinewidth": 1,
              "tickcolor": "rgb(36,36,36)",
              "ticks": "outside"
             }
            },
            "type": "scattergeo"
           }
          ],
          "scattergl": [
           {
            "marker": {
             "colorbar": {
              "outlinewidth": 1,
              "tickcolor": "rgb(36,36,36)",
              "ticks": "outside"
             }
            },
            "type": "scattergl"
           }
          ],
          "scattermapbox": [
           {
            "marker": {
             "colorbar": {
              "outlinewidth": 1,
              "tickcolor": "rgb(36,36,36)",
              "ticks": "outside"
             }
            },
            "type": "scattermapbox"
           }
          ],
          "scatterpolar": [
           {
            "marker": {
             "colorbar": {
              "outlinewidth": 1,
              "tickcolor": "rgb(36,36,36)",
              "ticks": "outside"
             }
            },
            "type": "scatterpolar"
           }
          ],
          "scatterpolargl": [
           {
            "marker": {
             "colorbar": {
              "outlinewidth": 1,
              "tickcolor": "rgb(36,36,36)",
              "ticks": "outside"
             }
            },
            "type": "scatterpolargl"
           }
          ],
          "scatterternary": [
           {
            "marker": {
             "colorbar": {
              "outlinewidth": 1,
              "tickcolor": "rgb(36,36,36)",
              "ticks": "outside"
             }
            },
            "type": "scatterternary"
           }
          ],
          "surface": [
           {
            "colorbar": {
             "outlinewidth": 1,
             "tickcolor": "rgb(36,36,36)",
             "ticks": "outside"
            },
            "colorscale": [
             [
              0,
              "#440154"
             ],
             [
              0.1111111111111111,
              "#482878"
             ],
             [
              0.2222222222222222,
              "#3e4989"
             ],
             [
              0.3333333333333333,
              "#31688e"
             ],
             [
              0.4444444444444444,
              "#26828e"
             ],
             [
              0.5555555555555556,
              "#1f9e89"
             ],
             [
              0.6666666666666666,
              "#35b779"
             ],
             [
              0.7777777777777778,
              "#6ece58"
             ],
             [
              0.8888888888888888,
              "#b5de2b"
             ],
             [
              1,
              "#fde725"
             ]
            ],
            "type": "surface"
           }
          ],
          "table": [
           {
            "cells": {
             "fill": {
              "color": "rgb(237,237,237)"
             },
             "line": {
              "color": "white"
             }
            },
            "header": {
             "fill": {
              "color": "rgb(217,217,217)"
             },
             "line": {
              "color": "white"
             }
            },
            "type": "table"
           }
          ]
         },
         "layout": {
          "annotationdefaults": {
           "arrowhead": 0,
           "arrowwidth": 1
          },
          "autosize": true,
          "autotypenumbers": "strict",
          "coloraxis": {
           "colorbar": {
            "outlinewidth": 1,
            "tickcolor": "rgb(36,36,36)",
            "ticks": "outside"
           }
          },
          "colorscale": {
           "diverging": [
            [
             0,
             "rgb(103,0,31)"
            ],
            [
             0.1,
             "rgb(178,24,43)"
            ],
            [
             0.2,
             "rgb(214,96,77)"
            ],
            [
             0.3,
             "rgb(244,165,130)"
            ],
            [
             0.4,
             "rgb(253,219,199)"
            ],
            [
             0.5,
             "rgb(247,247,247)"
            ],
            [
             0.6,
             "rgb(209,229,240)"
            ],
            [
             0.7,
             "rgb(146,197,222)"
            ],
            [
             0.8,
             "rgb(67,147,195)"
            ],
            [
             0.9,
             "rgb(33,102,172)"
            ],
            [
             1,
             "rgb(5,48,97)"
            ]
           ],
           "sequential": [
            [
             0,
             "#440154"
            ],
            [
             0.1111111111111111,
             "#482878"
            ],
            [
             0.2222222222222222,
             "#3e4989"
            ],
            [
             0.3333333333333333,
             "#31688e"
            ],
            [
             0.4444444444444444,
             "#26828e"
            ],
            [
             0.5555555555555556,
             "#1f9e89"
            ],
            [
             0.6666666666666666,
             "#35b779"
            ],
            [
             0.7777777777777778,
             "#6ece58"
            ],
            [
             0.8888888888888888,
             "#b5de2b"
            ],
            [
             1,
             "#fde725"
            ]
           ],
           "sequentialminus": [
            [
             0,
             "#440154"
            ],
            [
             0.1111111111111111,
             "#482878"
            ],
            [
             0.2222222222222222,
             "#3e4989"
            ],
            [
             0.3333333333333333,
             "#31688e"
            ],
            [
             0.4444444444444444,
             "#26828e"
            ],
            [
             0.5555555555555556,
             "#1f9e89"
            ],
            [
             0.6666666666666666,
             "#35b779"
            ],
            [
             0.7777777777777778,
             "#6ece58"
            ],
            [
             0.8888888888888888,
             "#b5de2b"
            ],
            [
             1,
             "#fde725"
            ]
           ]
          },
          "colorway": [
           "#1F77B4",
           "#FF7F0E",
           "#2CA02C",
           "#D62728",
           "#9467BD",
           "#8C564B",
           "#E377C2",
           "#7F7F7F",
           "#BCBD22",
           "#17BECF"
          ],
          "font": {
           "color": "rgb(36,36,36)"
          },
          "geo": {
           "bgcolor": "white",
           "lakecolor": "white",
           "landcolor": "white",
           "showlakes": true,
           "showland": true,
           "subunitcolor": "white"
          },
          "height": 400,
          "hoverlabel": {
           "align": "left"
          },
          "hovermode": "closest",
          "mapbox": {
           "style": "light"
          },
          "margin": {
           "b": 30,
           "l": 30,
           "r": 30,
           "t": 30
          },
          "paper_bgcolor": "white",
          "plot_bgcolor": "white",
          "polar": {
           "angularaxis": {
            "gridcolor": "rgb(232,232,232)",
            "linecolor": "rgb(36,36,36)",
            "showgrid": false,
            "showline": true,
            "ticks": "outside"
           },
           "bgcolor": "white",
           "radialaxis": {
            "gridcolor": "rgb(232,232,232)",
            "linecolor": "rgb(36,36,36)",
            "showgrid": false,
            "showline": true,
            "ticks": "outside"
           }
          },
          "scene": {
           "xaxis": {
            "backgroundcolor": "white",
            "gridcolor": "rgb(232,232,232)",
            "gridwidth": 2,
            "linecolor": "rgb(36,36,36)",
            "showbackground": true,
            "showgrid": false,
            "showline": true,
            "ticks": "outside",
            "zeroline": false,
            "zerolinecolor": "rgb(36,36,36)"
           },
           "yaxis": {
            "backgroundcolor": "white",
            "gridcolor": "rgb(232,232,232)",
            "gridwidth": 2,
            "linecolor": "rgb(36,36,36)",
            "showbackground": true,
            "showgrid": false,
            "showline": true,
            "ticks": "outside",
            "zeroline": false,
            "zerolinecolor": "rgb(36,36,36)"
           },
           "zaxis": {
            "backgroundcolor": "white",
            "gridcolor": "rgb(232,232,232)",
            "gridwidth": 2,
            "linecolor": "rgb(36,36,36)",
            "showbackground": true,
            "showgrid": false,
            "showline": true,
            "ticks": "outside",
            "zeroline": false,
            "zerolinecolor": "rgb(36,36,36)"
           }
          },
          "shapedefaults": {
           "fillcolor": "black",
           "line": {
            "width": 0
           },
           "opacity": 0.3
          },
          "ternary": {
           "aaxis": {
            "gridcolor": "rgb(232,232,232)",
            "linecolor": "rgb(36,36,36)",
            "showgrid": false,
            "showline": true,
            "ticks": "outside"
           },
           "baxis": {
            "gridcolor": "rgb(232,232,232)",
            "linecolor": "rgb(36,36,36)",
            "showgrid": false,
            "showline": true,
            "ticks": "outside"
           },
           "bgcolor": "white",
           "caxis": {
            "gridcolor": "rgb(232,232,232)",
            "linecolor": "rgb(36,36,36)",
            "showgrid": false,
            "showline": true,
            "ticks": "outside"
           }
          },
          "title": {
           "x": 0.5,
           "xanchor": "center"
          },
          "width": 600,
          "xaxis": {
           "automargin": true,
           "gridcolor": "rgb(232,232,232)",
           "linecolor": "rgb(36,36,36)",
           "showgrid": true,
           "showline": true,
           "ticks": "outside",
           "title": {
            "standoff": 15
           },
           "zeroline": false,
           "zerolinecolor": "rgb(36,36,36)"
          },
          "yaxis": {
           "automargin": true,
           "gridcolor": "rgb(232,232,232)",
           "linecolor": "rgb(36,36,36)",
           "showgrid": true,
           "showline": true,
           "ticks": "outside",
           "title": {
            "standoff": 15
           },
           "zeroline": false,
           "zerolinecolor": "rgb(36,36,36)"
          }
         }
        },
        "xaxis": {
         "anchor": "y",
         "domain": [
          0,
          1
         ],
         "title": {
          "text": "x"
         }
        },
        "yaxis": {
         "anchor": "x",
         "domain": [
          0,
          1
         ],
         "title": {
          "text": "y"
         }
        }
       }
      }
     },
     "metadata": {},
     "output_type": "display_data"
    }
   ],
   "source": [
    "xs = np.linspace(-20, 20)\n",
    "ys = f(xs)\n",
    "px.line(x=xs, y=ys)"
   ]
  },
  {
   "cell_type": "markdown",
   "id": "3f2b440d",
   "metadata": {},
   "source": [
    "But Python doesn't have eyes, so it can't see that the graph is minimized at $x = -4$. `minimize`, though, magically **can** do this minimization!"
   ]
  },
  {
   "cell_type": "code",
   "execution_count": 6,
   "id": "4820e2d3",
   "metadata": {},
   "outputs": [
    {
     "data": {
      "text/plain": [
       "  message: Optimization terminated successfully.\n",
       "  success: True\n",
       "   status: 0\n",
       "      fun: -0.9999999999999999\n",
       "        x: [-4.000e+00]\n",
       "      nit: 3\n",
       "      jac: [-7.451e-09]\n",
       " hess_inv: [[ 5.000e-01]]\n",
       "     nfev: 8\n",
       "     njev: 4"
      ]
     },
     "execution_count": 6,
     "metadata": {},
     "output_type": "execute_result"
    }
   ],
   "source": [
    "# To call minimize, we have to provide an array of initial \"guesses\"\n",
    "# as to where the minimizing input might be.\n",
    "# For our purposes, using 0 as an initial guess will work fine.\n",
    "minimize(f, x0=[0])"
   ]
  },
  {
   "cell_type": "markdown",
   "id": "5d492fd8",
   "metadata": {},
   "source": [
    "Above, the `x` attribute of the output tells us that the minimizing input to `f` is `-4.0000`, which is what we were able to see ourselves! Cool."
   ]
  },
  {
   "cell_type": "markdown",
   "id": "fe8a422f",
   "metadata": {},
   "source": [
    "In this question, we'll deal with the following example array of values, `vals`:"
   ]
  },
  {
   "cell_type": "markdown",
   "id": "48935fd5",
   "metadata": {},
   "source": [
    "For context, let's see what the distribution of `vals` looks like:"
   ]
  },
  {
   "cell_type": "code",
   "execution_count": 71,
   "id": "04e2a14a",
   "metadata": {},
   "outputs": [
    {
     "data": {
      "application/vnd.plotly.v1+json": {
       "config": {
        "plotlyServerURL": "https://plot.ly"
       },
       "data": [
        {
         "alignmentgroup": "True",
         "bingroup": "x",
         "hovertemplate": "variable=0<br>value=%{x}<br>count=%{y}<extra></extra>",
         "legendgroup": "0",
         "marker": {
          "color": "#1F77B4",
          "pattern": {
           "shape": ""
          }
         },
         "name": "0",
         "nbinsx": 40,
         "offsetgroup": "0",
         "orientation": "v",
         "showlegend": true,
         "type": "histogram",
         "x": [
          1,
          1,
          1,
          1,
          1,
          1,
          2,
          2,
          2,
          4,
          5,
          10,
          10,
          39
         ],
         "xaxis": "x",
         "yaxis": "y"
        }
       ],
       "layout": {
        "barmode": "relative",
        "legend": {
         "title": {
          "text": "variable"
         },
         "tracegroupgap": 0
        },
        "template": {
         "data": {
          "bar": [
           {
            "error_x": {
             "color": "rgb(36,36,36)"
            },
            "error_y": {
             "color": "rgb(36,36,36)"
            },
            "marker": {
             "line": {
              "color": "white",
              "width": 0.5
             },
             "pattern": {
              "fillmode": "overlay",
              "size": 10,
              "solidity": 0.2
             }
            },
            "type": "bar"
           }
          ],
          "barpolar": [
           {
            "marker": {
             "line": {
              "color": "white",
              "width": 0.5
             },
             "pattern": {
              "fillmode": "overlay",
              "size": 10,
              "solidity": 0.2
             }
            },
            "type": "barpolar"
           }
          ],
          "carpet": [
           {
            "aaxis": {
             "endlinecolor": "rgb(36,36,36)",
             "gridcolor": "white",
             "linecolor": "white",
             "minorgridcolor": "white",
             "startlinecolor": "rgb(36,36,36)"
            },
            "baxis": {
             "endlinecolor": "rgb(36,36,36)",
             "gridcolor": "white",
             "linecolor": "white",
             "minorgridcolor": "white",
             "startlinecolor": "rgb(36,36,36)"
            },
            "type": "carpet"
           }
          ],
          "choropleth": [
           {
            "colorbar": {
             "outlinewidth": 1,
             "tickcolor": "rgb(36,36,36)",
             "ticks": "outside"
            },
            "type": "choropleth"
           }
          ],
          "contour": [
           {
            "colorbar": {
             "outlinewidth": 1,
             "tickcolor": "rgb(36,36,36)",
             "ticks": "outside"
            },
            "colorscale": [
             [
              0,
              "#440154"
             ],
             [
              0.1111111111111111,
              "#482878"
             ],
             [
              0.2222222222222222,
              "#3e4989"
             ],
             [
              0.3333333333333333,
              "#31688e"
             ],
             [
              0.4444444444444444,
              "#26828e"
             ],
             [
              0.5555555555555556,
              "#1f9e89"
             ],
             [
              0.6666666666666666,
              "#35b779"
             ],
             [
              0.7777777777777778,
              "#6ece58"
             ],
             [
              0.8888888888888888,
              "#b5de2b"
             ],
             [
              1,
              "#fde725"
             ]
            ],
            "type": "contour"
           }
          ],
          "contourcarpet": [
           {
            "colorbar": {
             "outlinewidth": 1,
             "tickcolor": "rgb(36,36,36)",
             "ticks": "outside"
            },
            "type": "contourcarpet"
           }
          ],
          "heatmap": [
           {
            "colorbar": {
             "outlinewidth": 1,
             "tickcolor": "rgb(36,36,36)",
             "ticks": "outside"
            },
            "colorscale": [
             [
              0,
              "#440154"
             ],
             [
              0.1111111111111111,
              "#482878"
             ],
             [
              0.2222222222222222,
              "#3e4989"
             ],
             [
              0.3333333333333333,
              "#31688e"
             ],
             [
              0.4444444444444444,
              "#26828e"
             ],
             [
              0.5555555555555556,
              "#1f9e89"
             ],
             [
              0.6666666666666666,
              "#35b779"
             ],
             [
              0.7777777777777778,
              "#6ece58"
             ],
             [
              0.8888888888888888,
              "#b5de2b"
             ],
             [
              1,
              "#fde725"
             ]
            ],
            "type": "heatmap"
           }
          ],
          "heatmapgl": [
           {
            "colorbar": {
             "outlinewidth": 1,
             "tickcolor": "rgb(36,36,36)",
             "ticks": "outside"
            },
            "colorscale": [
             [
              0,
              "#440154"
             ],
             [
              0.1111111111111111,
              "#482878"
             ],
             [
              0.2222222222222222,
              "#3e4989"
             ],
             [
              0.3333333333333333,
              "#31688e"
             ],
             [
              0.4444444444444444,
              "#26828e"
             ],
             [
              0.5555555555555556,
              "#1f9e89"
             ],
             [
              0.6666666666666666,
              "#35b779"
             ],
             [
              0.7777777777777778,
              "#6ece58"
             ],
             [
              0.8888888888888888,
              "#b5de2b"
             ],
             [
              1,
              "#fde725"
             ]
            ],
            "type": "heatmapgl"
           }
          ],
          "histogram": [
           {
            "marker": {
             "line": {
              "color": "white",
              "width": 0.6
             }
            },
            "type": "histogram"
           }
          ],
          "histogram2d": [
           {
            "colorbar": {
             "outlinewidth": 1,
             "tickcolor": "rgb(36,36,36)",
             "ticks": "outside"
            },
            "colorscale": [
             [
              0,
              "#440154"
             ],
             [
              0.1111111111111111,
              "#482878"
             ],
             [
              0.2222222222222222,
              "#3e4989"
             ],
             [
              0.3333333333333333,
              "#31688e"
             ],
             [
              0.4444444444444444,
              "#26828e"
             ],
             [
              0.5555555555555556,
              "#1f9e89"
             ],
             [
              0.6666666666666666,
              "#35b779"
             ],
             [
              0.7777777777777778,
              "#6ece58"
             ],
             [
              0.8888888888888888,
              "#b5de2b"
             ],
             [
              1,
              "#fde725"
             ]
            ],
            "type": "histogram2d"
           }
          ],
          "histogram2dcontour": [
           {
            "colorbar": {
             "outlinewidth": 1,
             "tickcolor": "rgb(36,36,36)",
             "ticks": "outside"
            },
            "colorscale": [
             [
              0,
              "#440154"
             ],
             [
              0.1111111111111111,
              "#482878"
             ],
             [
              0.2222222222222222,
              "#3e4989"
             ],
             [
              0.3333333333333333,
              "#31688e"
             ],
             [
              0.4444444444444444,
              "#26828e"
             ],
             [
              0.5555555555555556,
              "#1f9e89"
             ],
             [
              0.6666666666666666,
              "#35b779"
             ],
             [
              0.7777777777777778,
              "#6ece58"
             ],
             [
              0.8888888888888888,
              "#b5de2b"
             ],
             [
              1,
              "#fde725"
             ]
            ],
            "type": "histogram2dcontour"
           }
          ],
          "mesh3d": [
           {
            "colorbar": {
             "outlinewidth": 1,
             "tickcolor": "rgb(36,36,36)",
             "ticks": "outside"
            },
            "type": "mesh3d"
           }
          ],
          "parcoords": [
           {
            "line": {
             "colorbar": {
              "outlinewidth": 1,
              "tickcolor": "rgb(36,36,36)",
              "ticks": "outside"
             }
            },
            "type": "parcoords"
           }
          ],
          "pie": [
           {
            "automargin": true,
            "type": "pie"
           }
          ],
          "scatter": [
           {
            "fillpattern": {
             "fillmode": "overlay",
             "size": 10,
             "solidity": 0.2
            },
            "type": "scatter"
           }
          ],
          "scatter3d": [
           {
            "line": {
             "colorbar": {
              "outlinewidth": 1,
              "tickcolor": "rgb(36,36,36)",
              "ticks": "outside"
             }
            },
            "marker": {
             "colorbar": {
              "outlinewidth": 1,
              "tickcolor": "rgb(36,36,36)",
              "ticks": "outside"
             }
            },
            "type": "scatter3d"
           }
          ],
          "scattercarpet": [
           {
            "marker": {
             "colorbar": {
              "outlinewidth": 1,
              "tickcolor": "rgb(36,36,36)",
              "ticks": "outside"
             }
            },
            "type": "scattercarpet"
           }
          ],
          "scattergeo": [
           {
            "marker": {
             "colorbar": {
              "outlinewidth": 1,
              "tickcolor": "rgb(36,36,36)",
              "ticks": "outside"
             }
            },
            "type": "scattergeo"
           }
          ],
          "scattergl": [
           {
            "marker": {
             "colorbar": {
              "outlinewidth": 1,
              "tickcolor": "rgb(36,36,36)",
              "ticks": "outside"
             }
            },
            "type": "scattergl"
           }
          ],
          "scattermapbox": [
           {
            "marker": {
             "colorbar": {
              "outlinewidth": 1,
              "tickcolor": "rgb(36,36,36)",
              "ticks": "outside"
             }
            },
            "type": "scattermapbox"
           }
          ],
          "scatterpolar": [
           {
            "marker": {
             "colorbar": {
              "outlinewidth": 1,
              "tickcolor": "rgb(36,36,36)",
              "ticks": "outside"
             }
            },
            "type": "scatterpolar"
           }
          ],
          "scatterpolargl": [
           {
            "marker": {
             "colorbar": {
              "outlinewidth": 1,
              "tickcolor": "rgb(36,36,36)",
              "ticks": "outside"
             }
            },
            "type": "scatterpolargl"
           }
          ],
          "scatterternary": [
           {
            "marker": {
             "colorbar": {
              "outlinewidth": 1,
              "tickcolor": "rgb(36,36,36)",
              "ticks": "outside"
             }
            },
            "type": "scatterternary"
           }
          ],
          "surface": [
           {
            "colorbar": {
             "outlinewidth": 1,
             "tickcolor": "rgb(36,36,36)",
             "ticks": "outside"
            },
            "colorscale": [
             [
              0,
              "#440154"
             ],
             [
              0.1111111111111111,
              "#482878"
             ],
             [
              0.2222222222222222,
              "#3e4989"
             ],
             [
              0.3333333333333333,
              "#31688e"
             ],
             [
              0.4444444444444444,
              "#26828e"
             ],
             [
              0.5555555555555556,
              "#1f9e89"
             ],
             [
              0.6666666666666666,
              "#35b779"
             ],
             [
              0.7777777777777778,
              "#6ece58"
             ],
             [
              0.8888888888888888,
              "#b5de2b"
             ],
             [
              1,
              "#fde725"
             ]
            ],
            "type": "surface"
           }
          ],
          "table": [
           {
            "cells": {
             "fill": {
              "color": "rgb(237,237,237)"
             },
             "line": {
              "color": "white"
             }
            },
            "header": {
             "fill": {
              "color": "rgb(217,217,217)"
             },
             "line": {
              "color": "white"
             }
            },
            "type": "table"
           }
          ]
         },
         "layout": {
          "annotationdefaults": {
           "arrowhead": 0,
           "arrowwidth": 1
          },
          "autosize": true,
          "autotypenumbers": "strict",
          "coloraxis": {
           "colorbar": {
            "outlinewidth": 1,
            "tickcolor": "rgb(36,36,36)",
            "ticks": "outside"
           }
          },
          "colorscale": {
           "diverging": [
            [
             0,
             "rgb(103,0,31)"
            ],
            [
             0.1,
             "rgb(178,24,43)"
            ],
            [
             0.2,
             "rgb(214,96,77)"
            ],
            [
             0.3,
             "rgb(244,165,130)"
            ],
            [
             0.4,
             "rgb(253,219,199)"
            ],
            [
             0.5,
             "rgb(247,247,247)"
            ],
            [
             0.6,
             "rgb(209,229,240)"
            ],
            [
             0.7,
             "rgb(146,197,222)"
            ],
            [
             0.8,
             "rgb(67,147,195)"
            ],
            [
             0.9,
             "rgb(33,102,172)"
            ],
            [
             1,
             "rgb(5,48,97)"
            ]
           ],
           "sequential": [
            [
             0,
             "#440154"
            ],
            [
             0.1111111111111111,
             "#482878"
            ],
            [
             0.2222222222222222,
             "#3e4989"
            ],
            [
             0.3333333333333333,
             "#31688e"
            ],
            [
             0.4444444444444444,
             "#26828e"
            ],
            [
             0.5555555555555556,
             "#1f9e89"
            ],
            [
             0.6666666666666666,
             "#35b779"
            ],
            [
             0.7777777777777778,
             "#6ece58"
            ],
            [
             0.8888888888888888,
             "#b5de2b"
            ],
            [
             1,
             "#fde725"
            ]
           ],
           "sequentialminus": [
            [
             0,
             "#440154"
            ],
            [
             0.1111111111111111,
             "#482878"
            ],
            [
             0.2222222222222222,
             "#3e4989"
            ],
            [
             0.3333333333333333,
             "#31688e"
            ],
            [
             0.4444444444444444,
             "#26828e"
            ],
            [
             0.5555555555555556,
             "#1f9e89"
            ],
            [
             0.6666666666666666,
             "#35b779"
            ],
            [
             0.7777777777777778,
             "#6ece58"
            ],
            [
             0.8888888888888888,
             "#b5de2b"
            ],
            [
             1,
             "#fde725"
            ]
           ]
          },
          "colorway": [
           "#1F77B4",
           "#FF7F0E",
           "#2CA02C",
           "#D62728",
           "#9467BD",
           "#8C564B",
           "#E377C2",
           "#7F7F7F",
           "#BCBD22",
           "#17BECF"
          ],
          "font": {
           "color": "rgb(36,36,36)"
          },
          "geo": {
           "bgcolor": "white",
           "lakecolor": "white",
           "landcolor": "white",
           "showlakes": true,
           "showland": true,
           "subunitcolor": "white"
          },
          "height": 400,
          "hoverlabel": {
           "align": "left"
          },
          "hovermode": "closest",
          "mapbox": {
           "style": "light"
          },
          "margin": {
           "b": 30,
           "l": 30,
           "r": 30,
           "t": 30
          },
          "paper_bgcolor": "white",
          "plot_bgcolor": "white",
          "polar": {
           "angularaxis": {
            "gridcolor": "rgb(232,232,232)",
            "linecolor": "rgb(36,36,36)",
            "showgrid": false,
            "showline": true,
            "ticks": "outside"
           },
           "bgcolor": "white",
           "radialaxis": {
            "gridcolor": "rgb(232,232,232)",
            "linecolor": "rgb(36,36,36)",
            "showgrid": false,
            "showline": true,
            "ticks": "outside"
           }
          },
          "scene": {
           "xaxis": {
            "backgroundcolor": "white",
            "gridcolor": "rgb(232,232,232)",
            "gridwidth": 2,
            "linecolor": "rgb(36,36,36)",
            "showbackground": true,
            "showgrid": false,
            "showline": true,
            "ticks": "outside",
            "zeroline": false,
            "zerolinecolor": "rgb(36,36,36)"
           },
           "yaxis": {
            "backgroundcolor": "white",
            "gridcolor": "rgb(232,232,232)",
            "gridwidth": 2,
            "linecolor": "rgb(36,36,36)",
            "showbackground": true,
            "showgrid": false,
            "showline": true,
            "ticks": "outside",
            "zeroline": false,
            "zerolinecolor": "rgb(36,36,36)"
           },
           "zaxis": {
            "backgroundcolor": "white",
            "gridcolor": "rgb(232,232,232)",
            "gridwidth": 2,
            "linecolor": "rgb(36,36,36)",
            "showbackground": true,
            "showgrid": false,
            "showline": true,
            "ticks": "outside",
            "zeroline": false,
            "zerolinecolor": "rgb(36,36,36)"
           }
          },
          "shapedefaults": {
           "fillcolor": "black",
           "line": {
            "width": 0
           },
           "opacity": 0.3
          },
          "ternary": {
           "aaxis": {
            "gridcolor": "rgb(232,232,232)",
            "linecolor": "rgb(36,36,36)",
            "showgrid": false,
            "showline": true,
            "ticks": "outside"
           },
           "baxis": {
            "gridcolor": "rgb(232,232,232)",
            "linecolor": "rgb(36,36,36)",
            "showgrid": false,
            "showline": true,
            "ticks": "outside"
           },
           "bgcolor": "white",
           "caxis": {
            "gridcolor": "rgb(232,232,232)",
            "linecolor": "rgb(36,36,36)",
            "showgrid": false,
            "showline": true,
            "ticks": "outside"
           }
          },
          "title": {
           "x": 0.5,
           "xanchor": "center"
          },
          "width": 600,
          "xaxis": {
           "automargin": true,
           "gridcolor": "rgb(232,232,232)",
           "linecolor": "rgb(36,36,36)",
           "showgrid": true,
           "showline": true,
           "ticks": "outside",
           "title": {
            "standoff": 15
           },
           "zeroline": false,
           "zerolinecolor": "rgb(36,36,36)"
          },
          "yaxis": {
           "automargin": true,
           "gridcolor": "rgb(232,232,232)",
           "linecolor": "rgb(36,36,36)",
           "showgrid": true,
           "showline": true,
           "ticks": "outside",
           "title": {
            "standoff": 15
           },
           "zeroline": false,
           "zerolinecolor": "rgb(36,36,36)"
          }
         }
        },
        "xaxis": {
         "anchor": "y",
         "domain": [
          0,
          1
         ],
         "title": {
          "text": "value"
         }
        },
        "yaxis": {
         "anchor": "x",
         "domain": [
          0,
          1
         ],
         "title": {
          "text": "count"
         }
        }
       }
      }
     },
     "metadata": {},
     "output_type": "display_data"
    }
   ],
   "source": [
    "pd.Series(vals).hist(nbins=40)"
   ]
  },
  {
   "cell_type": "markdown",
   "id": "3268c746",
   "metadata": {},
   "source": [
    "To reiterate, the constant prediction $h^*$ that minimizes $R_1(h)$ for `vals` is:"
   ]
  },
  {
   "cell_type": "code",
   "execution_count": 72,
   "id": "01f80027",
   "metadata": {},
   "outputs": [
    {
     "data": {
      "text/plain": [
       "2.0"
      ]
     },
     "execution_count": 72,
     "metadata": {},
     "output_type": "execute_result"
    }
   ],
   "source": [
    "np.median(vals)"
   ]
  },
  {
   "cell_type": "markdown",
   "id": "bfe5c82b",
   "metadata": {},
   "source": [
    "And the constant prediction $h^*$ that minimizes $R_2(h)$ for `vals` is:"
   ]
  },
  {
   "cell_type": "code",
   "execution_count": 73,
   "id": "2efcb9a6",
   "metadata": {},
   "outputs": [
    {
     "data": {
      "text/plain": [
       "5.714285714285714"
      ]
     },
     "execution_count": 73,
     "metadata": {},
     "output_type": "execute_result"
    }
   ],
   "source": [
    "np.mean(vals)"
   ]
  },
  {
   "cell_type": "markdown",
   "id": "38533e27",
   "metadata": {},
   "source": [
    "### Question 5.1 <div style=\"display:inline-block; vertical-align: middle; padding:7px 7px; font-size:10px; font-weight:light; color:white; background-color:#e84c4a; border-radius:7px; text-align:left;\">0 Points</div>\n",
    "\n",
    "Complete the implementation of the function `h_star`, which takes in a positive integer `p` and an array `vals` and returns the value of the constant prediction $h^*$ that minimizes average $L_p$ loss for `vals`, i.e. the value of $h^*$ that minimizes $R_p(h)$ for `vals`. Example behavior is given below.\n",
    "\n",
    "```python\n",
    ">>> h_star(1, vals)\n",
    "2.0\n",
    "\n",
    ">>> h_star(2, vals)\n",
    "5.714285345730987\n",
    "```\n",
    "\n",
    "Some guidance:\n",
    "- Your solution should use `minimize`, and will likely involve defining a helper function inside.\n",
    "- It's okay if your example values are slightly different than those above, but they should be roughly the same. (So, it's fine if `h_star(1, vals)` gives you `1.9999999920558864` or something similar.)\n",
    "\n",
    "<div class=\"alert alert-warning\">\n",
    "\n",
    "**We're not autograding Question 5.1, and it's not worth any points.** But, you need to do it in order to answer Question 5.2, which is worth points (and which you will answer on paper!).\n",
    "    \n",
    "</div>"
   ]
  },
  {
   "cell_type": "code",
   "execution_count": 8,
   "id": "31519e9c",
   "metadata": {},
   "outputs": [],
   "source": [
    "def g(x,deg,vals):\n",
    "    return np.sum(np.abs(vals - x)**deg)"
   ]
  },
  {
   "cell_type": "code",
   "execution_count": 9,
   "id": "05e9d267",
   "metadata": {
    "tags": []
   },
   "outputs": [
    {
     "data": {
      "text/plain": [
       "64.84039484083391"
      ]
     },
     "execution_count": 9,
     "metadata": {},
     "output_type": "execute_result"
    }
   ],
   "source": [
    "def h_star(deg, vals):\n",
    "    return minimize(lambda x:g(x,deg, vals), x0=[0]).x[0]\n",
    "    \n",
    "\n",
    "# Feel free to change this input to make sure your function works correctly.\n",
    "h_star(77, vals)"
   ]
  },
  {
   "cell_type": "markdown",
   "id": "26c446a1",
   "metadata": {},
   "source": [
    "Before proceeding, make sure that the following cells both say `True`, otherwise you did something incorrectly:"
   ]
  },
  {
   "cell_type": "code",
   "execution_count": 10,
   "id": "0b836805",
   "metadata": {},
   "outputs": [
    {
     "data": {
      "text/plain": [
       "True"
      ]
     },
     "execution_count": 10,
     "metadata": {},
     "output_type": "execute_result"
    }
   ],
   "source": [
    "np.isclose(h_star(1, vals), np.median(vals))"
   ]
  },
  {
   "cell_type": "code",
   "execution_count": 11,
   "id": "f5b31054",
   "metadata": {},
   "outputs": [
    {
     "data": {
      "text/plain": [
       "True"
      ]
     },
     "execution_count": 11,
     "metadata": {},
     "output_type": "execute_result"
    }
   ],
   "source": [
    "np.isclose(h_star(2, vals), np.mean(vals))"
   ]
  },
  {
   "cell_type": "code",
   "execution_count": 17,
   "id": "81773f23",
   "metadata": {},
   "outputs": [],
   "source": [
    "#vals = np.array([1, 1, 1, 1, 1, 1, 2, 2, 2, 4, 5, 10, 10, 39])\n",
    "\n",
    "vals = np.array([ 40, 40, 40, 40, 40, 40, 60, 60, 60, 80, 80, 100])"
   ]
  },
  {
   "cell_type": "markdown",
   "id": "ab55a20d",
   "metadata": {},
   "source": [
    "Once you have a working implementation of `h_star`, run the cell below."
   ]
  },
  {
   "cell_type": "code",
   "execution_count": 32,
   "id": "ebac3578",
   "metadata": {},
   "outputs": [
    {
     "data": {
      "application/vnd.plotly.v1+json": {
       "config": {
        "plotlyServerURL": "https://plot.ly"
       },
       "data": [
        {
         "hovertemplate": "x=%{x}<br>y=%{y}<extra></extra>",
         "legendgroup": "",
         "line": {
          "color": "#1F77B4",
          "dash": "solid"
         },
         "marker": {
          "symbol": "circle"
         },
         "mode": "lines",
         "name": "",
         "orientation": "v",
         "showlegend": false,
         "type": "scatter",
         "x": [
          1,
          2,
          3,
          4,
          5,
          6,
          7,
          8,
          9,
          10,
          11,
          12,
          13,
          14,
          15,
          16,
          17,
          18,
          19,
          20,
          21,
          22,
          23,
          24,
          25,
          26,
          27,
          28,
          29,
          30,
          31,
          32,
          33,
          34,
          35,
          36,
          37,
          38,
          39,
          40,
          41,
          42,
          43,
          44,
          45,
          46,
          47,
          48,
          49,
          50,
          51,
          52,
          53,
          54,
          55,
          56,
          57,
          58,
          59,
          60,
          61,
          62,
          63,
          64,
          65,
          66,
          67,
          68,
          69,
          70,
          71,
          72,
          73,
          74
         ],
         "xaxis": "x",
         "y": [
          5.05,
          16.87500766717568,
          31.001992430257573,
          37.53275711274112,
          41.06634570989832,
          43.24822354876123,
          44.719767535993206,
          45.77491322310648,
          46.56594021180989,
          47.179266315405414,
          47.667464694581774,
          48.06431291308795,
          48.392486275793225,
          48.667765136077115,
          48.90146703751092,
          49.101918261452354,
          49.27537994116036,
          49.42665011925708,
          49.55946694331753,
          49.67678600051509,
          49.78097391314386,
          49.87394848065863,
          49.95727942482548,
          50.03226388680087,
          50.099982673874536,
          50.16134351650499,
          50.217113880923925,
          50.267947030508736,
          50.314402165764314,
          50.356960618894384,
          50.396038702509266,
          50.43199828395856,
          50.46515514016876,
          50.49578595812897,
          50.52413414956433,
          50.55041444751742,
          50.57481710877249,
          50.597510956875496,
          50.61864648288762,
          50.638358055890976,
          50.65676600644661,
          50.673978295993074,
          50.690092144494876,
          50.70519511475011,
          50.719366359478705,
          50.73267757756493,
          50.74519369518868,
          50.756973866935645,
          50.76807180226221,
          50.77853651110351,
          50.78841281569442,
          50.79774164527393,
          50.8065605168189,
          50.814903845399925,
          50.822803255729205,
          50.8302878371483,
          50.83738437669596,
          50.84411756992004,
          50.85051025108631,
          50.856583497083825,
          50.86235683637432,
          50.86784835259671,
          50.87307482560116,
          50.87805182722462,
          50.88279384143447,
          50.887314333194745,
          50.891625860224465,
          50.89574008585081,
          50.89966795646706,
          50.90341964123657,
          50.907004659499435,
          50.9104319231975,
          50.913709774802506,
          50.91684602574857
         ],
         "yaxis": "y"
        }
       ],
       "layout": {
        "legend": {
         "tracegroupgap": 0
        },
        "template": {
         "data": {
          "bar": [
           {
            "error_x": {
             "color": "rgb(36,36,36)"
            },
            "error_y": {
             "color": "rgb(36,36,36)"
            },
            "marker": {
             "line": {
              "color": "white",
              "width": 0.5
             },
             "pattern": {
              "fillmode": "overlay",
              "size": 10,
              "solidity": 0.2
             }
            },
            "type": "bar"
           }
          ],
          "barpolar": [
           {
            "marker": {
             "line": {
              "color": "white",
              "width": 0.5
             },
             "pattern": {
              "fillmode": "overlay",
              "size": 10,
              "solidity": 0.2
             }
            },
            "type": "barpolar"
           }
          ],
          "carpet": [
           {
            "aaxis": {
             "endlinecolor": "rgb(36,36,36)",
             "gridcolor": "white",
             "linecolor": "white",
             "minorgridcolor": "white",
             "startlinecolor": "rgb(36,36,36)"
            },
            "baxis": {
             "endlinecolor": "rgb(36,36,36)",
             "gridcolor": "white",
             "linecolor": "white",
             "minorgridcolor": "white",
             "startlinecolor": "rgb(36,36,36)"
            },
            "type": "carpet"
           }
          ],
          "choropleth": [
           {
            "colorbar": {
             "outlinewidth": 1,
             "tickcolor": "rgb(36,36,36)",
             "ticks": "outside"
            },
            "type": "choropleth"
           }
          ],
          "contour": [
           {
            "colorbar": {
             "outlinewidth": 1,
             "tickcolor": "rgb(36,36,36)",
             "ticks": "outside"
            },
            "colorscale": [
             [
              0,
              "#440154"
             ],
             [
              0.1111111111111111,
              "#482878"
             ],
             [
              0.2222222222222222,
              "#3e4989"
             ],
             [
              0.3333333333333333,
              "#31688e"
             ],
             [
              0.4444444444444444,
              "#26828e"
             ],
             [
              0.5555555555555556,
              "#1f9e89"
             ],
             [
              0.6666666666666666,
              "#35b779"
             ],
             [
              0.7777777777777778,
              "#6ece58"
             ],
             [
              0.8888888888888888,
              "#b5de2b"
             ],
             [
              1,
              "#fde725"
             ]
            ],
            "type": "contour"
           }
          ],
          "contourcarpet": [
           {
            "colorbar": {
             "outlinewidth": 1,
             "tickcolor": "rgb(36,36,36)",
             "ticks": "outside"
            },
            "type": "contourcarpet"
           }
          ],
          "heatmap": [
           {
            "colorbar": {
             "outlinewidth": 1,
             "tickcolor": "rgb(36,36,36)",
             "ticks": "outside"
            },
            "colorscale": [
             [
              0,
              "#440154"
             ],
             [
              0.1111111111111111,
              "#482878"
             ],
             [
              0.2222222222222222,
              "#3e4989"
             ],
             [
              0.3333333333333333,
              "#31688e"
             ],
             [
              0.4444444444444444,
              "#26828e"
             ],
             [
              0.5555555555555556,
              "#1f9e89"
             ],
             [
              0.6666666666666666,
              "#35b779"
             ],
             [
              0.7777777777777778,
              "#6ece58"
             ],
             [
              0.8888888888888888,
              "#b5de2b"
             ],
             [
              1,
              "#fde725"
             ]
            ],
            "type": "heatmap"
           }
          ],
          "heatmapgl": [
           {
            "colorbar": {
             "outlinewidth": 1,
             "tickcolor": "rgb(36,36,36)",
             "ticks": "outside"
            },
            "colorscale": [
             [
              0,
              "#440154"
             ],
             [
              0.1111111111111111,
              "#482878"
             ],
             [
              0.2222222222222222,
              "#3e4989"
             ],
             [
              0.3333333333333333,
              "#31688e"
             ],
             [
              0.4444444444444444,
              "#26828e"
             ],
             [
              0.5555555555555556,
              "#1f9e89"
             ],
             [
              0.6666666666666666,
              "#35b779"
             ],
             [
              0.7777777777777778,
              "#6ece58"
             ],
             [
              0.8888888888888888,
              "#b5de2b"
             ],
             [
              1,
              "#fde725"
             ]
            ],
            "type": "heatmapgl"
           }
          ],
          "histogram": [
           {
            "marker": {
             "line": {
              "color": "white",
              "width": 0.6
             }
            },
            "type": "histogram"
           }
          ],
          "histogram2d": [
           {
            "colorbar": {
             "outlinewidth": 1,
             "tickcolor": "rgb(36,36,36)",
             "ticks": "outside"
            },
            "colorscale": [
             [
              0,
              "#440154"
             ],
             [
              0.1111111111111111,
              "#482878"
             ],
             [
              0.2222222222222222,
              "#3e4989"
             ],
             [
              0.3333333333333333,
              "#31688e"
             ],
             [
              0.4444444444444444,
              "#26828e"
             ],
             [
              0.5555555555555556,
              "#1f9e89"
             ],
             [
              0.6666666666666666,
              "#35b779"
             ],
             [
              0.7777777777777778,
              "#6ece58"
             ],
             [
              0.8888888888888888,
              "#b5de2b"
             ],
             [
              1,
              "#fde725"
             ]
            ],
            "type": "histogram2d"
           }
          ],
          "histogram2dcontour": [
           {
            "colorbar": {
             "outlinewidth": 1,
             "tickcolor": "rgb(36,36,36)",
             "ticks": "outside"
            },
            "colorscale": [
             [
              0,
              "#440154"
             ],
             [
              0.1111111111111111,
              "#482878"
             ],
             [
              0.2222222222222222,
              "#3e4989"
             ],
             [
              0.3333333333333333,
              "#31688e"
             ],
             [
              0.4444444444444444,
              "#26828e"
             ],
             [
              0.5555555555555556,
              "#1f9e89"
             ],
             [
              0.6666666666666666,
              "#35b779"
             ],
             [
              0.7777777777777778,
              "#6ece58"
             ],
             [
              0.8888888888888888,
              "#b5de2b"
             ],
             [
              1,
              "#fde725"
             ]
            ],
            "type": "histogram2dcontour"
           }
          ],
          "mesh3d": [
           {
            "colorbar": {
             "outlinewidth": 1,
             "tickcolor": "rgb(36,36,36)",
             "ticks": "outside"
            },
            "type": "mesh3d"
           }
          ],
          "parcoords": [
           {
            "line": {
             "colorbar": {
              "outlinewidth": 1,
              "tickcolor": "rgb(36,36,36)",
              "ticks": "outside"
             }
            },
            "type": "parcoords"
           }
          ],
          "pie": [
           {
            "automargin": true,
            "type": "pie"
           }
          ],
          "scatter": [
           {
            "fillpattern": {
             "fillmode": "overlay",
             "size": 10,
             "solidity": 0.2
            },
            "type": "scatter"
           }
          ],
          "scatter3d": [
           {
            "line": {
             "colorbar": {
              "outlinewidth": 1,
              "tickcolor": "rgb(36,36,36)",
              "ticks": "outside"
             }
            },
            "marker": {
             "colorbar": {
              "outlinewidth": 1,
              "tickcolor": "rgb(36,36,36)",
              "ticks": "outside"
             }
            },
            "type": "scatter3d"
           }
          ],
          "scattercarpet": [
           {
            "marker": {
             "colorbar": {
              "outlinewidth": 1,
              "tickcolor": "rgb(36,36,36)",
              "ticks": "outside"
             }
            },
            "type": "scattercarpet"
           }
          ],
          "scattergeo": [
           {
            "marker": {
             "colorbar": {
              "outlinewidth": 1,
              "tickcolor": "rgb(36,36,36)",
              "ticks": "outside"
             }
            },
            "type": "scattergeo"
           }
          ],
          "scattergl": [
           {
            "marker": {
             "colorbar": {
              "outlinewidth": 1,
              "tickcolor": "rgb(36,36,36)",
              "ticks": "outside"
             }
            },
            "type": "scattergl"
           }
          ],
          "scattermapbox": [
           {
            "marker": {
             "colorbar": {
              "outlinewidth": 1,
              "tickcolor": "rgb(36,36,36)",
              "ticks": "outside"
             }
            },
            "type": "scattermapbox"
           }
          ],
          "scatterpolar": [
           {
            "marker": {
             "colorbar": {
              "outlinewidth": 1,
              "tickcolor": "rgb(36,36,36)",
              "ticks": "outside"
             }
            },
            "type": "scatterpolar"
           }
          ],
          "scatterpolargl": [
           {
            "marker": {
             "colorbar": {
              "outlinewidth": 1,
              "tickcolor": "rgb(36,36,36)",
              "ticks": "outside"
             }
            },
            "type": "scatterpolargl"
           }
          ],
          "scatterternary": [
           {
            "marker": {
             "colorbar": {
              "outlinewidth": 1,
              "tickcolor": "rgb(36,36,36)",
              "ticks": "outside"
             }
            },
            "type": "scatterternary"
           }
          ],
          "surface": [
           {
            "colorbar": {
             "outlinewidth": 1,
             "tickcolor": "rgb(36,36,36)",
             "ticks": "outside"
            },
            "colorscale": [
             [
              0,
              "#440154"
             ],
             [
              0.1111111111111111,
              "#482878"
             ],
             [
              0.2222222222222222,
              "#3e4989"
             ],
             [
              0.3333333333333333,
              "#31688e"
             ],
             [
              0.4444444444444444,
              "#26828e"
             ],
             [
              0.5555555555555556,
              "#1f9e89"
             ],
             [
              0.6666666666666666,
              "#35b779"
             ],
             [
              0.7777777777777778,
              "#6ece58"
             ],
             [
              0.8888888888888888,
              "#b5de2b"
             ],
             [
              1,
              "#fde725"
             ]
            ],
            "type": "surface"
           }
          ],
          "table": [
           {
            "cells": {
             "fill": {
              "color": "rgb(237,237,237)"
             },
             "line": {
              "color": "white"
             }
            },
            "header": {
             "fill": {
              "color": "rgb(217,217,217)"
             },
             "line": {
              "color": "white"
             }
            },
            "type": "table"
           }
          ]
         },
         "layout": {
          "annotationdefaults": {
           "arrowhead": 0,
           "arrowwidth": 1
          },
          "autosize": true,
          "autotypenumbers": "strict",
          "coloraxis": {
           "colorbar": {
            "outlinewidth": 1,
            "tickcolor": "rgb(36,36,36)",
            "ticks": "outside"
           }
          },
          "colorscale": {
           "diverging": [
            [
             0,
             "rgb(103,0,31)"
            ],
            [
             0.1,
             "rgb(178,24,43)"
            ],
            [
             0.2,
             "rgb(214,96,77)"
            ],
            [
             0.3,
             "rgb(244,165,130)"
            ],
            [
             0.4,
             "rgb(253,219,199)"
            ],
            [
             0.5,
             "rgb(247,247,247)"
            ],
            [
             0.6,
             "rgb(209,229,240)"
            ],
            [
             0.7,
             "rgb(146,197,222)"
            ],
            [
             0.8,
             "rgb(67,147,195)"
            ],
            [
             0.9,
             "rgb(33,102,172)"
            ],
            [
             1,
             "rgb(5,48,97)"
            ]
           ],
           "sequential": [
            [
             0,
             "#440154"
            ],
            [
             0.1111111111111111,
             "#482878"
            ],
            [
             0.2222222222222222,
             "#3e4989"
            ],
            [
             0.3333333333333333,
             "#31688e"
            ],
            [
             0.4444444444444444,
             "#26828e"
            ],
            [
             0.5555555555555556,
             "#1f9e89"
            ],
            [
             0.6666666666666666,
             "#35b779"
            ],
            [
             0.7777777777777778,
             "#6ece58"
            ],
            [
             0.8888888888888888,
             "#b5de2b"
            ],
            [
             1,
             "#fde725"
            ]
           ],
           "sequentialminus": [
            [
             0,
             "#440154"
            ],
            [
             0.1111111111111111,
             "#482878"
            ],
            [
             0.2222222222222222,
             "#3e4989"
            ],
            [
             0.3333333333333333,
             "#31688e"
            ],
            [
             0.4444444444444444,
             "#26828e"
            ],
            [
             0.5555555555555556,
             "#1f9e89"
            ],
            [
             0.6666666666666666,
             "#35b779"
            ],
            [
             0.7777777777777778,
             "#6ece58"
            ],
            [
             0.8888888888888888,
             "#b5de2b"
            ],
            [
             1,
             "#fde725"
            ]
           ]
          },
          "colorway": [
           "#1F77B4",
           "#FF7F0E",
           "#2CA02C",
           "#D62728",
           "#9467BD",
           "#8C564B",
           "#E377C2",
           "#7F7F7F",
           "#BCBD22",
           "#17BECF"
          ],
          "font": {
           "color": "rgb(36,36,36)"
          },
          "geo": {
           "bgcolor": "white",
           "lakecolor": "white",
           "landcolor": "white",
           "showlakes": true,
           "showland": true,
           "subunitcolor": "white"
          },
          "height": 400,
          "hoverlabel": {
           "align": "left"
          },
          "hovermode": "closest",
          "mapbox": {
           "style": "light"
          },
          "margin": {
           "b": 30,
           "l": 30,
           "r": 30,
           "t": 30
          },
          "paper_bgcolor": "white",
          "plot_bgcolor": "white",
          "polar": {
           "angularaxis": {
            "gridcolor": "rgb(232,232,232)",
            "linecolor": "rgb(36,36,36)",
            "showgrid": false,
            "showline": true,
            "ticks": "outside"
           },
           "bgcolor": "white",
           "radialaxis": {
            "gridcolor": "rgb(232,232,232)",
            "linecolor": "rgb(36,36,36)",
            "showgrid": false,
            "showline": true,
            "ticks": "outside"
           }
          },
          "scene": {
           "xaxis": {
            "backgroundcolor": "white",
            "gridcolor": "rgb(232,232,232)",
            "gridwidth": 2,
            "linecolor": "rgb(36,36,36)",
            "showbackground": true,
            "showgrid": false,
            "showline": true,
            "ticks": "outside",
            "zeroline": false,
            "zerolinecolor": "rgb(36,36,36)"
           },
           "yaxis": {
            "backgroundcolor": "white",
            "gridcolor": "rgb(232,232,232)",
            "gridwidth": 2,
            "linecolor": "rgb(36,36,36)",
            "showbackground": true,
            "showgrid": false,
            "showline": true,
            "ticks": "outside",
            "zeroline": false,
            "zerolinecolor": "rgb(36,36,36)"
           },
           "zaxis": {
            "backgroundcolor": "white",
            "gridcolor": "rgb(232,232,232)",
            "gridwidth": 2,
            "linecolor": "rgb(36,36,36)",
            "showbackground": true,
            "showgrid": false,
            "showline": true,
            "ticks": "outside",
            "zeroline": false,
            "zerolinecolor": "rgb(36,36,36)"
           }
          },
          "shapedefaults": {
           "fillcolor": "black",
           "line": {
            "width": 0
           },
           "opacity": 0.3
          },
          "ternary": {
           "aaxis": {
            "gridcolor": "rgb(232,232,232)",
            "linecolor": "rgb(36,36,36)",
            "showgrid": false,
            "showline": true,
            "ticks": "outside"
           },
           "baxis": {
            "gridcolor": "rgb(232,232,232)",
            "linecolor": "rgb(36,36,36)",
            "showgrid": false,
            "showline": true,
            "ticks": "outside"
           },
           "bgcolor": "white",
           "caxis": {
            "gridcolor": "rgb(232,232,232)",
            "linecolor": "rgb(36,36,36)",
            "showgrid": false,
            "showline": true,
            "ticks": "outside"
           }
          },
          "title": {
           "x": 0.5,
           "xanchor": "center"
          },
          "width": 600,
          "xaxis": {
           "automargin": true,
           "gridcolor": "rgb(232,232,232)",
           "linecolor": "rgb(36,36,36)",
           "showgrid": true,
           "showline": true,
           "ticks": "outside",
           "title": {
            "standoff": 15
           },
           "zeroline": false,
           "zerolinecolor": "rgb(36,36,36)"
          },
          "yaxis": {
           "automargin": true,
           "gridcolor": "rgb(232,232,232)",
           "linecolor": "rgb(36,36,36)",
           "showgrid": true,
           "showline": true,
           "ticks": "outside",
           "title": {
            "standoff": 15
           },
           "zeroline": false,
           "zerolinecolor": "rgb(36,36,36)"
          }
         }
        },
        "xaxis": {
         "anchor": "y",
         "domain": [
          0,
          1
         ],
         "title": {
          "text": "p"
         }
        },
        "yaxis": {
         "anchor": "x",
         "domain": [
          0,
          1
         ],
         "title": {
          "text": "h^* = minimizer of $R_p(h)$"
         }
        }
       }
      }
     },
     "metadata": {},
     "output_type": "display_data"
    }
   ],
   "source": [
    "vals = np.array([2,3,4,5,6,7,8,100])\n",
    "ps = np.arange(1, 75)\n",
    "hs = [h_star(p, vals) for p in ps]\n",
    "px.line(x=ps, y=hs).update_layout(xaxis_title=r'p', yaxis_title=r'h^* = minimizer of $R_p(h)$')\n"
   ]
  },
  {
   "cell_type": "markdown",
   "id": "148aa9d3",
   "metadata": {},
   "source": [
    "It seems like as $p$ increases, the value of $h^*$ that minimizes $R_p(h)$ approaches some fixed value. But what is that value? For context, look at `vals` again:"
   ]
  },
  {
   "cell_type": "code",
   "execution_count": 198,
   "id": "0ccd4c60",
   "metadata": {},
   "outputs": [
    {
     "data": {
      "text/plain": [
       "array([ 30,  30,  40,  40,  40,  40,  40,  40,  60,  60,  60,  80,  80,\n",
       "       100])"
      ]
     },
     "execution_count": 198,
     "metadata": {},
     "output_type": "execute_result"
    }
   ],
   "source": [
    "vals"
   ]
  },
  {
   "cell_type": "markdown",
   "id": "e9eefe67",
   "metadata": {
    "tags": []
   },
   "source": [
    "<!-- BEGIN QUESTION -->\n",
    "\n",
    "### Question 5.2 <div style=\"display:inline-block; vertical-align: middle; padding:7px 7px; font-size:10px; font-weight:light; color:white; background-color:#e84c4a; border-radius:7px; text-align:left;\">4 Points</div>\n",
    "\n",
    "Use the plot above to answer the following prompts:\n",
    "\n",
    "1. In the `vals` dataset, as $p$ increases, what does the value of $h^*$ that minimizes $R_p(h)$ approach?\n",
    "1. In any general dataset of values $y_1, y_2, ..., y_n$, as $p$ increases, what does the value of $h^*$ that minimizes $R_p(h)$ approach? Why?\n",
    "\n",
    "Put another way, we're asking you to evaluate the following limit, but using your plot, not calculus (you're welcome 😊):\n",
    "\n",
    "$$\\lim_{p \\rightarrow \\infty} \\left( \\underset{h}{\\mathrm{argmin}} \\frac{1}{n} \\sum_{i = 1}^n |y_i - h|^p \\right)$$\n",
    "\n",
    "Some guidance:\n",
    "- To answer the second prompt, try calling `h_star` with different arrays that you create. Try and see if you can find a pattern in the values that `h_star` returns when `p` is very large.\n",
    "- If you experiment in the way we're suggesting above, you may run into _overflow_ errors, where the numbers you're dealing with are too big for Python to compute. (e.g., something like $|100 - 90|^{2000}$ is far too big to be represented)."
   ]
  },
  {
   "cell_type": "markdown",
   "id": "c16eeb97",
   "metadata": {},
   "source": [
    "### 5.2 ###\n",
    "\n",
    "1. As p increases $h^*$ approaches 20 \n",
    "\n",
    "2. From the values we may noticed that the limit appraoches the mean between the two extremes. \n",
    "\n",
    "Thus we get $\\frac {v_{min} + v_{max}}{2}$\n",
    "\n",
    "This is because as p increases the differences between all values are exagurated more and more. This effect will impact the outliers the most thus, minimizing the function as p incrases means minimising the difference of h with it's extremes. Thus we take the average of the minimum and maximum values in the set. \n",
    "\n"
   ]
  },
  {
   "cell_type": "markdown",
   "id": "b80f1218",
   "metadata": {},
   "source": [
    "<!-- END QUESTION -->\n",
    "\n",
    "## Question 6: Algebra, Too 📐\n",
    "\n",
    "---\n",
    "\n",
    "In the coming lectures, we'll start formulating the problem of making predictions about future data given past data in terms of matrices and vectors. Why? The answer is simple: doing so will allow us to build models that use multiple input variables (i.e. features) in order to make predictions.\n",
    "\n",
    "This question serves to review the key linear algebra knowledge you'll need to be familiar with as we start using matrices and vectors in lecture. If any of this feels foreign – and it's totally fine if it does! – review [LARDS: Linear Algebra Review for Data Science](https://practicaldsc.org/lin-alg/). We'll link to specific sections in LARDS for each part of this question.\n",
    "\n",
    "Throughout this question, consider the following vectors in $\\mathbb{R}^3$, where $\\beta \\in \\mathbb{R}$ is a scalar:\n",
    "\n",
    "$$\n",
    "\\vec{v}_1 = \\begin{bmatrix} 0 \\\\ 1 \\\\ 1 \\end{bmatrix}, \\quad \n",
    "\\vec{v}_2 = \\begin{bmatrix} 1 \\\\ 0 \\\\ 1 \\end{bmatrix}, \\quad \n",
    "\\vec{v}_3 = \\begin{bmatrix} \\beta \\\\ 1 \\\\ 2 \\end{bmatrix}\n",
    "$$"
   ]
  },
  {
   "cell_type": "markdown",
   "id": "21628b36",
   "metadata": {},
   "source": [
    "<!-- BEGIN QUESTION -->\n",
    "\n",
    "### Question 6.1 <div style=\"display:inline-block; vertical-align: middle; padding:7px 7px; font-size:10px; font-weight:light; color:white; background-color:#e84c4a; border-radius:7px; text-align:left;\">2 Points</div>\n",
    "\n",
    "For what value(s) of $\\beta$ are $\\vec{v}_1, \\vec{v}_2,$ and $\\vec{v}_3$ linearly **in**dependent?\n",
    "\n",
    "<small><small>📕 To review, read LARDS [Section 5](https://practicaldsc.org/lin-alg/#linear-independence).</small></small>"
   ]
  },
  {
   "cell_type": "markdown",
   "id": "38c11d92",
   "metadata": {},
   "source": [
    "Since $\\vec{v_1}$ + $\\vec{v_2}$ = $\\begin{bmatrix} 1 \\\\ 1 \\\\ 2 \\end{bmatrix}$\n",
    "Any value bseides 1. The reason why no other number makes $\\vec{v_3}$ not linearly independant is because any other linear combination would affect both the first and the third element, thus any ther value for beta will result in $\\vec{v_3}$ being a linearly indepednet vector. "
   ]
  },
  {
   "cell_type": "markdown",
   "id": "3ad9a65d",
   "metadata": {},
   "source": [
    "<!-- END QUESTION -->\n",
    "\n",
    "<!-- BEGIN QUESTION -->\n",
    "\n",
    "### Question 6.2 <div style=\"display:inline-block; vertical-align: middle; padding:7px 7px; font-size:10px; font-weight:light; color:white; background-color:#e84c4a; border-radius:7px; text-align:left;\">1 Point</div>\n",
    "\n",
    "For what value(s) of $\\beta$ are $\\vec{v}_1$ and $\\vec{v}_3$ orthogonal?\n",
    "\n",
    "<small><small>📕 To review, watch LARDS [Section 2](https://practicaldsc.org/lin-alg/#the-dot-product-angles-and-orthogonality).</small></small>"
   ]
  },
  {
   "cell_type": "markdown",
   "id": "a2b18050",
   "metadata": {},
   "source": [
    "### 6.2 ###\n",
    "\n",
    "For $\\vec{v}_1$ and $\\vec{v}_3$ to be orthogonal we need to have the dot product = 0. \n",
    "\n",
    "so, $\\beta$*0 + 1 * 1 +1 * 2 = 0  \n",
    "\n",
    "since 0 $\\neq$ -3 there is not value of $\\beta$ such that $\\vec{v}_1$ and $\\vec{v}_3$ would be orthogonal "
   ]
  },
  {
   "cell_type": "markdown",
   "id": "c75cab53",
   "metadata": {},
   "source": [
    "<!-- END QUESTION -->\n",
    "\n",
    "<!-- BEGIN QUESTION -->\n",
    "\n",
    "### Question 6.3 <div style=\"display:inline-block; vertical-align: middle; padding:7px 7px; font-size:10px; font-weight:light; color:white; background-color:#e84c4a; border-radius:7px; text-align:left;\">1 Point</div>\n",
    "\n",
    "For what value(s) of $\\beta$ are $\\vec{v}_2$ and $\\vec{v}_3$ orthogonal?\n",
    "\n",
    "<small><small>📕 To review, watch LARDS [Section 2](https://practicaldsc.org/lin-alg/#the-dot-product-angles-and-orthogonality).</small></small>"
   ]
  },
  {
   "cell_type": "markdown",
   "id": "691dd502",
   "metadata": {},
   "source": [
    "### 6.3 ###\n",
    "\n",
    "For $\\vec{v}_2$ and $\\vec{v}_3$ to be orthogonal we need to have the dot product = 0. \n",
    "\n",
    "1 * $\\beta$ + 0 * 1 +  1 * 2 = 0 $\\implies$ $\\beta$ + 2 = 0\n",
    "\n",
    "$\\beta$ = -2"
   ]
  },
  {
   "cell_type": "markdown",
   "id": "845d2211",
   "metadata": {},
   "source": [
    "<!-- END QUESTION -->\n",
    "\n",
    "<!-- BEGIN QUESTION -->\n",
    "\n",
    "### Question 6.4 <div style=\"display:inline-block; vertical-align: middle; padding:7px 7px; font-size:10px; font-weight:light; color:white; background-color:#e84c4a; border-radius:7px; text-align:left;\">2 Points</div>\n",
    "\n",
    "Regardless of your answers to the previous three parts, in this part, let $\\beta = 3$.\n",
    "\n",
    "Is the vector $\\begin{bmatrix}\n",
    "3 \\\\\n",
    "5 \\\\\n",
    "8\n",
    "\\end{bmatrix}$ in $\\text{span}(\\vec{v}_1, \\vec{v}_2, \\vec{v}_3)$? Why or why not?\n",
    "\n",
    "<small><small>📕 To review, watch LARDS [Section 4](https://practicaldsc.org/lin-alg/#linear-combinations-and-span) and read [Section 5](https://practicaldsc.org/lin-alg/#linear-independence).</small></small>"
   ]
  },
  {
   "cell_type": "markdown",
   "id": "d3ae7422",
   "metadata": {},
   "source": [
    "### 6.4 ###\n",
    "\n",
    "For the vector above to be in the span, we must show that there exist some cofeffiecnts for $\\vec{v}_1, \\vec{v}_2, \\vec{v}_3$ such that \n",
    "\n",
    "$a\\vec{v}_1 + b\\vec{v}_2 + c\\vec{v}_3$ = $\\begin{bmatrix}\n",
    "3 \\\\\n",
    "5 \\\\\n",
    "8\n",
    "\\end{bmatrix}$ \n",
    "\n",
    "Rememebr that:\n",
    "$\n",
    "\\vec{v}_1 = \\begin{bmatrix} 0 \\\\ 1 \\\\ 1 \\end{bmatrix}, \\quad \n",
    "\\vec{v}_2 = \\begin{bmatrix} 1 \\\\ 0 \\\\ 1 \\end{bmatrix}, \\quad \n",
    "\\vec{v}_3 = \\begin{bmatrix} 3 \\\\ 1 \\\\ 2 \\end{bmatrix}\n",
    "$\n",
    "\n",
    "so we may write: \n",
    "\n",
    "a0 + b1 + c3 = 3\n",
    "\n",
    "a1 + b0 + c1 = 5\n",
    "\n",
    "a1 + b1 + c2 = 8\n",
    "\n",
    "so, we know that b = 3-3c and a = 5-1c, thus using the third equation we may write 5-c + 3-3c + 2c = 8 $\\implies$ -2c = 0 $\\implies$ c = 0.\n",
    "\n",
    "so, we we may show that b = 3 and a = 5. \n",
    "\n",
    "Since these coefficients exist, \n",
    "\n",
    "Thus  $\\begin{bmatrix}3 \\\\5 \\\\8 \\end{bmatrix}$ is \\in the span($\\vec{v}_1, \\vec{v}_2, \\vec{v}_3$)\n"
   ]
  },
  {
   "cell_type": "markdown",
   "id": "1a9cb54b",
   "metadata": {},
   "source": [
    "<!-- END QUESTION -->\n",
    "\n",
    "<!-- BEGIN QUESTION -->\n",
    "\n",
    "### Question 6.5 <div style=\"display:inline-block; vertical-align: middle; padding:7px 7px; font-size:10px; font-weight:light; color:white; background-color:#e84c4a; border-radius:7px; text-align:left;\">3 Points</div>\n",
    "\n",
    "What is the projection of the vector $\\begin{bmatrix}\n",
    "3 \\\\\n",
    "15 \\\\\n",
    "21\n",
    "\\end{bmatrix}$ onto $\\vec{v}_1$?  Give your answer in the form of a vector.\n",
    "\n",
    "<small><small>📕 To review, watch LARDS [Section 6](https://practicaldsc.org/lin-alg/#projecting-onto-a-single-vector).</small></small>"
   ]
  },
  {
   "cell_type": "markdown",
   "id": "4693d3d7",
   "metadata": {},
   "source": [
    "### 6.5 ### \n",
    "\n",
    "Let's refer to $\\begin{bmatrix}3 \\\\15 \\\\21\\end{bmatrix}$ as $\\vec{v}_p$\n",
    "\n",
    "Since we are projecting $\\vec{v}_p$ to $\\vec{v}_1$ we may find the coeffecint using:\n",
    "\n",
    "$$\\frac{\\vec{v_p} * \\vec{v_1}}{\\vec{v_1} * \\vec{v_1}}$$\n",
    "\n",
    "so:\n",
    "\n",
    "$$\\frac{0 * 3 + 15 * 1 + 21 * 1}{ 1^2 + 1^2} = \\frac{36}{2}$$\n",
    "\n",
    "Thus, the projection of $\\vec{v_p}$ onto span($\\vec{v_1}$) is $18\\vec{v_1}$\n",
    "\n"
   ]
  },
  {
   "cell_type": "markdown",
   "id": "c1d14fa7",
   "metadata": {},
   "source": [
    "<!-- END QUESTION -->\n",
    "\n",
    "<!-- BEGIN QUESTION -->\n",
    "\n",
    "### Question 6.6 <div style=\"display:inline-block; vertical-align: middle; padding:7px 7px; font-size:10px; font-weight:light; color:white; background-color:#e84c4a; border-radius:7px; text-align:left;\">4 Points</div>\n",
    "\n",
    "What is the orthogonal projection of the vector $\\begin{bmatrix}\n",
    "3 \\\\\n",
    "15 \\\\\n",
    "21\n",
    "\\end{bmatrix}$ \n",
    "onto $\\text{span}(\\vec{v}_1, \\vec{v}_2)$?\n",
    "\n",
    "The answer is a vector, $\\vec{z}$, which can be written in the form:\n",
    "\n",
    "$$\\vec{z} = \\lambda_1 \\vec v_1 + \\lambda_2 \\vec v_2$$\n",
    "\n",
    "**Your job** is to find the values of scalars $\\lambda_1$ and $\\lambda_2$, and then, the vector $\\vec z$. As done in LARDS [Section 8](https://practicaldsc.org/lin-alg/#projecting-onto-the-span-of-multiple-vectors-again), one of the intermediate steps in answering this question involves defining a particular matrix $X$ and computing $(X^T X) ^{-1}X^T$.\n",
    "\n",
    "<small><small>📕 To review, watch LARDS [Sections 6-8](https://practicaldsc.org/lin-alg/#projecting-onto-the-span-of-multiple-vectors-again).</small></small>"
   ]
  },
  {
   "cell_type": "markdown",
   "id": "70702c78",
   "metadata": {},
   "source": [
    "\n",
    "X =  $\\begin{bmatrix} 1&0 \\\\0&1 \\\\1&1 \\end{bmatrix}$ which is  $\\begin{bmatrix} 1&0  \\end{bmatrix}$\n",
    "\n",
    "From the slides we can find that the coefficients can be found using $(X^TX)^{-1}X^T \\vec{v_p}$\n",
    "\n",
    "$\\vec{w}^*$ =  $ (\\begin{bmatrix} 1&0&1 \\\\0&1&1 \\end{bmatrix} \\begin{bmatrix} 1&0 \\\\0&1 \\\\1&1 \\end{bmatrix})^{-1} \\begin{bmatrix} 1&0&1 \\\\0&1&1 \\end{bmatrix} \\begin{bmatrix} 3 \\\\ 15 \\\\ 21 \\end{bmatrix}$ \n",
    "\n",
    "\n",
    "$\\vec{w}^*$ =  $(\\begin{bmatrix} 1&0&1 \\\\0&1&1 \\end{bmatrix} \\begin{bmatrix} 1&0 \\\\0&1 \\\\1&1 \\end{bmatrix})^{-1} \\begin{bmatrix} 1&0&1 \\\\0&1&1 \\end{bmatrix} \\begin{bmatrix} 3 \\\\ 15 \\\\ 21 \\end{bmatrix}$ \n",
    "\n",
    "$\\vec{w}^*$ = $(\\begin{bmatrix}2&1 \\\\1&2 \\end{bmatrix}^{-1})\\begin{bmatrix} 24 \\\\36 \\end{bmatrix} $\n",
    "\n",
    "$\\vec{w}^*$ = $\\begin{bmatrix}\\frac{2}{3} +&\\frac{-1}{3} \\\\\\frac{-1}{3} +&\\frac{2}{3} \\end{bmatrix}\\begin{bmatrix} 24 \\\\36 \\end{bmatrix}$ = $\\begin{bmatrix} 24\\frac{2}{3} +& 36\\frac{-1}{3} \\\\ 24\\frac{-1}{3} +& 36\\frac{2}{3} \\end{bmatrix}$\n",
    "\n",
    "\n",
    "$\\vec{w}^*$ = $\\begin{bmatrix} 16 +& -12 \\\\ -8 +& 24 \\end{bmatrix}$ = $\\begin{bmatrix} 4 \\\\ 16 \\end{bmatrix}$\n",
    "\n",
    "Thus we may conclude that $\\lambda_1 = 16$ and $\\lambda_2 = 4$\n",
    "\n",
    "so, \n",
    "\n",
    "$\\vec{z} = 16\\vec{v_1} + 4\\vec{v_2}$"
   ]
  },
  {
   "cell_type": "markdown",
   "id": "78144885",
   "metadata": {
    "tags": []
   },
   "source": [
    "<!-- END QUESTION -->\n",
    "\n",
    "## Finish Line 🏁\n",
    "\n",
    "Congratulations! You're ready to submit Homework 7.\n",
    "\n",
    "Remember, you'll submit Homework 7 as a **PDF** to the **Homework 7 (PDF)** assignment on Gradescope. You won't submit this notebook anywhere; Homework 7 will be entirely manually graded."
   ]
  }
 ],
 "metadata": {
  "kernelspec": {
   "display_name": "pds",
   "language": "python",
   "name": "python3"
  },
  "language_info": {
   "codemirror_mode": {
    "name": "ipython",
    "version": 3
   },
   "file_extension": ".py",
   "mimetype": "text/x-python",
   "name": "python",
   "nbconvert_exporter": "python",
   "pygments_lexer": "ipython3",
   "version": "3.10.14"
  }
 },
 "nbformat": 4,
 "nbformat_minor": 5
}
