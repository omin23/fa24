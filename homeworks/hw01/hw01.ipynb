{
 "cells": [
  {
   "cell_type": "code",
   "execution_count": 2,
   "id": "3b25ccdc",
   "metadata": {
    "deletable": false,
    "editable": false
   },
   "outputs": [],
   "source": [
    "# Initialize Otter\n",
    "import otter\n",
    "grader = otter.Notebook(\"hw01.ipynb\")"
   ]
  },
  {
   "cell_type": "markdown",
   "id": "98da9e32",
   "metadata": {},
   "source": [
    "<div class=\"alert alert-success\" markdown=\"1\">\n",
    "\n",
    "#### Homework 1\n",
    "\n",
    "# Python Fundamentals\n",
    "\n",
    "### EECS 398-003: Practical Data Science, Fall 2024\n",
    "\n",
    "#### Due Thursday, September 5th at 11:59PM\n",
    "    \n",
    "</div>"
   ]
  },
  {
   "attachments": {},
   "cell_type": "markdown",
   "id": "c6d382c9",
   "metadata": {},
   "source": [
    "## Instructions\n",
    "\n",
    "Welcome to Homework 1! In this homework, you will practice with core features of the Python language, including defining functions, writing conditional statements and loops, and working with lists and strings. You'll also gain experience in reading documentation to figure out how to work with unfamiliar libraries. See the [Readings section of the Resources tab on the course website](https://practicaldsc.org/resources/#readings) for supplemental resources.\n",
    "\n",
    "You are given six slip days throughout the semester to extend deadlines. See the [Syllabus](https://practicaldsc.org/syllabus) for more details. With the exception of using slip days, late work will not be accepted unless you have made special arrangements with your instructor.\n",
    "\n",
    "To access this notebook, you'll need to clone our [public GitHub repository](https://github.com/practicaldsc/fa24/). The [⚙️ Environment Setup](https://practicaldsc.org/env-setup) page on the course website walks you through the necessary steps. Once you're done, you'll submit your completed notebook to Gradescope.\n",
    "\n",
    "Please start early and submit often. You can submit as many times as you'd like to Gradescope, and we'll take your **most recent** submission. Remember that the public `grader.check` tests in your notebook are not comprehensive, and that your work will also be graded on hidden test cases on Gradescope after the submission deadline.\n",
    "\n",
    "This homework is worth a total of **40 points**. The number of points each question is worth is listed at the start of each question. **The four parts of the assignment are independent**; with the exception of Part 1, in which the questions build off one another, you can complete the questions in any order. Tip: if you're using Jupyter Lab, you can see a Table of Contents for the notebook by going to View > Table of Contents.\n",
    "\n",
    "To get started, run the import cell below."
   ]
  },
  {
   "cell_type": "code",
   "execution_count": 3,
   "id": "645a8703",
   "metadata": {},
   "outputs": [],
   "source": [
    "import numpy as np\n",
    "from IPython.display import HTML, YouTubeVideo, clear_output\n",
    "from ipywidgets import interact"
   ]
  },
  {
   "cell_type": "markdown",
   "id": "0be408e2",
   "metadata": {},
   "source": [
    "## Part 1: Death and Taxes 💰💸\n",
    "\n",
    "---\n",
    "\n",
    "The United States, like many countries, uses a progressive tax bracket system. This means that as your earnings increase, the percentage of your earnings you owe in tax also increases. In addition, the US tax system uses marginal tax brackets – what this means is that US taxpayers pay different tax percentages on different \"chunks\" of their earnings.\n",
    "\n",
    "Let's suppose the tax brackets for the 2024 tax year for single filers are defined by the table below. These are close to the actual brackets, but for simplicity's sake we'll use 5 brackets instead of 7. \n",
    "\n",
    "| Tax Bracket | Taxable Income |\n",
    "| --- | --- |\n",
    "| 10% | [$0, \\\\$11,000] |\n",
    "| 12% | (\\\\$11,000, \\\\$44,725] |\n",
    "| 22% | (\\\\$44,725, \\\\$95,375] |\n",
    "| 24% | (\\\\$95,375, \\\\$182,100] |\n",
    "| 32% | Over \\\\$182,100 |\n",
    "\n",
    "**You will need to use these numbers throughout Questions 1-3.**\n",
    "\n",
    "A few notes:\n",
    "- The notation $(a, b]$ means \"greater than $a$ and less than or equal to $b$\". For example, someone with a taxable income of \\\\$44,725 is in the 12% bracket, but someone with a taxable income of \\\\$44,725.01 is in the 22% bracket. For simplicity, we will only test your code on integer values of taxable income.\n",
    "- \"Taxable income\" refers to the part of one's income that is taxable; in the US there is what's known as a \"standard deduction\" which can be thought of as a discount on your taxes. Here, we won't worry about deductions.\n",
    "\n",
    "If someone has a taxable income of \\\\$75,000, we say they are in the 22% tax bracket. However, such an individual doesn't owe 22% of \\\\$75,000 in taxes. Instead, they owe:\n",
    "- 10% of \\\\$11,000, **plus**\n",
    "- 12% of \\\\$33,725 (which is \\\\$44,725 - \\\\$11,000), **plus**\n",
    "- 22% of \\\\$30,275 (which is \\\\$75,000 - \\\\$44,725).\n",
    "\n",
    "More concretely, their tax owed is:\n",
    "$$0.1 \\cdot \\$11{,}000 + 0.12 \\cdot \\$33{,}725 + 0.22 \\cdot \\$30{,}275 = \\$11{,}807.50.$$ \n",
    "\n",
    "This makes their **effective tax rate**:\n",
    "$$\\frac{\\$11{,}807.50}{\\$75{,}000} = 0.15743,$$\n",
    "or 15.743\\%, because they wound up having to pay 15.743\\% of their taxable income in taxes. We will give effective tax rates as percentages, rounded to three decimal places.\n",
    "\n",
    "If you want to read more about the US federal income tax system, click [here](https://www.taxpolicycenter.org/briefing-book/how-do-federal-income-tax-rates-work)."
   ]
  },
  {
   "cell_type": "markdown",
   "id": "9bc70564",
   "metadata": {},
   "source": [
    "### Question 1: Tax Brackets <div style=\"display:inline-block; vertical-align: middle; padding:7px 7px; font-size:10px; font-weight:light; color:white; background-color:#e84c4a; border-radius:7px; text-align:left;\">3 Points</div>\n",
    "\n",
    "Complete the implementation of the function `tax_bracket`, which takes in a taxable income, `income`, and returns the tax bracket it is in, as a **proportion**. Assume that `income` is a non-negative integer. Example behavior is given below.\n",
    "\n",
    "```python\n",
    ">>> tax_bracket(75000)\n",
    "0.22\n",
    "\n",
    ">>> tax_bracket(402150)\n",
    "0.32\n",
    "```\n",
    "\n",
    "For your convenience, the tax bracket table is shown again below.\n",
    "\n",
    "| Tax Bracket | Taxable Income |\n",
    "| --- | --- |\n",
    "| 10% | [$0, \\\\$11,000] |\n",
    "| 12% | (\\\\$11,000, \\\\$44,725] |\n",
    "| 22% | (\\\\$44,725, \\\\$95,375] |\n",
    "| 24% | (\\\\$95,375, \\\\$182,100] |\n",
    "| 32% | Over \\\\$182,100 |"
   ]
  },
  {
   "cell_type": "code",
   "execution_count": 4,
   "id": "1eaf1d37",
   "metadata": {
    "tags": []
   },
   "outputs": [
    {
     "data": {
      "text/plain": [
       "0.1"
      ]
     },
     "execution_count": 4,
     "metadata": {},
     "output_type": "execute_result"
    }
   ],
   "source": [
    "def tax_bracket(income):\n",
    "    if(income <= 11000):\n",
    "        return 0.10\n",
    "    elif(income <= 44725):\n",
    "        return 0.12\n",
    "    elif(income <= 95375):\n",
    "        return 0.22\n",
    "    elif(income <= 182100):\n",
    "        return 0.24\n",
    "    else:\n",
    "        return 0.32\n",
    "\n",
    "# Feel free to change this input to make sure your function works correctly.\n",
    "tax_bracket(11000)"
   ]
  },
  {
   "cell_type": "code",
   "execution_count": 5,
   "id": "b97a806f",
   "metadata": {},
   "outputs": [
    {
     "data": {
      "text/plain": [
       "0.1"
      ]
     },
     "execution_count": 5,
     "metadata": {},
     "output_type": "execute_result"
    }
   ],
   "source": [
    "tax_bracket(11000)"
   ]
  },
  {
   "cell_type": "code",
   "execution_count": 6,
   "id": "50d8e525",
   "metadata": {
    "deletable": false,
    "editable": false
   },
   "outputs": [
    {
     "data": {
      "text/html": [
       "<p><strong><pre style='display: inline;'>q1</pre></strong> passed!</p>"
      ],
      "text/plain": [
       "q1 results: All test cases passed!"
      ]
     },
     "execution_count": 6,
     "metadata": {},
     "output_type": "execute_result"
    }
   ],
   "source": [
    "grader.check(\"q1\")"
   ]
  },
  {
   "cell_type": "markdown",
   "id": "dd8a3eb9",
   "metadata": {},
   "source": [
    "### Question 2: Tax Owed <div style=\"display:inline-block; vertical-align: middle; padding:7px 7px; font-size:10px; font-weight:light; color:white; background-color:#e84c4a; border-radius:7px; text-align:left;\">6 Points</div>\n",
    "\n",
    "Complete the implementation of the function `tax_owed`, which takes in a taxable income, `income`, and returns the amount of tax owed by an individual with that taxable income. Assume that `income` is a non-negative integer. Example behavior is given below.\n",
    "\n",
    "```python\n",
    ">>> tax_owed(75000)\n",
    "11807.5\n",
    "```\n",
    "\n",
    "For your convenience, the tax bracket table is shown again below.\n",
    "\n",
    "| Tax Bracket | Taxable Income |\n",
    "| --- | --- |\n",
    "| 10% | [$0, \\\\$11,000] |\n",
    "| 12% | (\\\\$11,000, \\\\$44,725] |\n",
    "| 22% | (\\\\$44,725, \\\\$95,375] |\n",
    "| 24% | (\\\\$95,375, \\\\$182,100] |\n",
    "| 32% | Over \\\\$182,100 |\n",
    "\n",
    "Below are some suggested steps to break down this problem into manageable chunks.\n",
    "1. Make sure you understand the example calculating the tax owed on \\\\$75,000 of taxable income. \n",
    "2. Once you're sure you understand the given example calculation, then calculate the tax owed for a different taxable income, say \\\\$152,000, by hand. \n",
    "3. In a blank cell in your notebook, write Python code to compute the tax owed for \\\\$152,000 in taxable income and verify you get the same answer as when you did it by hand. \n",
    "4. Once you have that working, write the more general function and test it on a variety of inputs."
   ]
  },
  {
   "cell_type": "code",
   "execution_count": 7,
   "id": "020d6a7c",
   "metadata": {
    "tags": []
   },
   "outputs": [
    {
     "data": {
      "text/plain": [
       "11807.5"
      ]
     },
     "execution_count": 7,
     "metadata": {},
     "output_type": "execute_result"
    }
   ],
   "source": [
    "def tax_owed(income):\n",
    "    if(income <= 11000):\n",
    "        return 0.10 * income\n",
    "    elif(income <= 44725):\n",
    "        return 0.10 * 11000 + 0.12 * (income-11000)\n",
    "    elif(income <= 95375):\n",
    "        return 0.10 * 11000 + 0.12 * (44725-11000) + 0.22 * (income - 44725)\n",
    "    elif(income <= 182100):\n",
    "        return 0.10 * 11000 + 0.12 * (44725-11000) +0.22 * (95375-44725) + 0.24 * (income-95375)\n",
    "    else:\n",
    "        return 0.10 * 11000 + 0.12 * (44725-11000) +0.22 * (95375-44725) + 0.24 * (182100-95375) + 0.32 * (income - 182100)\n",
    "\n",
    "# Feel free to change this input to make sure your function works correctly.\n",
    "tax_owed(75000)"
   ]
  },
  {
   "cell_type": "code",
   "execution_count": 8,
   "id": "3f65e64a",
   "metadata": {},
   "outputs": [
    {
     "data": {
      "text/plain": [
       "11807.5"
      ]
     },
     "execution_count": 8,
     "metadata": {},
     "output_type": "execute_result"
    }
   ],
   "source": [
    "tax_owed(75000)"
   ]
  },
  {
   "cell_type": "code",
   "execution_count": 9,
   "id": "a30f7d62",
   "metadata": {
    "deletable": false,
    "editable": false
   },
   "outputs": [
    {
     "data": {
      "text/html": [
       "<p><strong><pre style='display: inline;'>q2</pre></strong> passed!</p>"
      ],
      "text/plain": [
       "q2 results: All test cases passed!"
      ]
     },
     "execution_count": 9,
     "metadata": {},
     "output_type": "execute_result"
    }
   ],
   "source": [
    "grader.check(\"q2\")"
   ]
  },
  {
   "cell_type": "markdown",
   "id": "69996100",
   "metadata": {},
   "source": [
    "### Question 3: Effective Tax Rate <div style=\"display:inline-block; vertical-align: middle; padding:7px 7px; font-size:10px; font-weight:light; color:white; background-color:#e84c4a; border-radius:7px; text-align:left;\">2 Points</div>\n",
    "\n",
    "Finally, complete the implementation of `effective_tax_rate`, which takes in a taxable income, `income`, and returns the effective tax rate for an individual with that taxable income, as a **percentage** rounded to three decimal places. Here, `income` is still an integer, but don't assume that `income` is non-negative; if it is less than or equal to 0, return `0`. Example behavior is given below.\n",
    "\n",
    "```python\n",
    ">>> effective_tax_rate(75000)\n",
    "15.743\n",
    "\n",
    "# If income is <= 0, return 0.\n",
    ">>> effective_tax_rate(-15)\n",
    "0\n",
    "```"
   ]
  },
  {
   "cell_type": "code",
   "execution_count": 10,
   "id": "81d99da9",
   "metadata": {
    "tags": []
   },
   "outputs": [],
   "source": [
    "def effective_tax_rate(income):\n",
    "    if (income < 0):\n",
    "        return 0;  \n",
    "    return round((tax_owed(income) / income)*100,3)"
   ]
  },
  {
   "cell_type": "code",
   "execution_count": 11,
   "id": "9d503a42",
   "metadata": {},
   "outputs": [
    {
     "data": {
      "text/plain": [
       "15.743"
      ]
     },
     "execution_count": 11,
     "metadata": {},
     "output_type": "execute_result"
    }
   ],
   "source": [
    "effective_tax_rate(75000)"
   ]
  },
  {
   "cell_type": "code",
   "execution_count": 12,
   "id": "bb6045e6",
   "metadata": {
    "deletable": false,
    "editable": false
   },
   "outputs": [
    {
     "data": {
      "text/html": [
       "<p><strong><pre style='display: inline;'>q3</pre></strong> passed!</p>"
      ],
      "text/plain": [
       "q3 results: All test cases passed!"
      ]
     },
     "execution_count": 12,
     "metadata": {},
     "output_type": "execute_result"
    }
   ],
   "source": [
    "grader.check(\"q3\")"
   ]
  },
  {
   "cell_type": "markdown",
   "id": "e73dd037",
   "metadata": {},
   "source": [
    "### Fun Demo\n",
    "\n",
    "You just did all of the math necessary to build an income tax calculator, like the ones you see on many financial websites. Run the following cell once you've completed the rest of this question!"
   ]
  },
  {
   "cell_type": "code",
   "execution_count": 13,
   "id": "0ddde226",
   "metadata": {},
   "outputs": [
    {
     "data": {
      "application/vnd.jupyter.widget-view+json": {
       "model_id": "fa4886f670c24aa5a95ec79db98eac19",
       "version_major": 2,
       "version_minor": 0
      },
      "text/plain": [
       "interactive(children=(IntSlider(value=100000, description='income', max=200000, step=1000), Output()), _dom_cl…"
      ]
     },
     "metadata": {},
     "output_type": "display_data"
    }
   ],
   "source": [
    "# Don't worry about the code, just play with the slider that appears after running.\n",
    "def plot_income_calculator(income):\n",
    "    s = f'''\n",
    "    <h1>EECS 398-003 Tax Calculator 💰💸</h1>\n",
    "    <h3>{'${:,.2f}'.format(income)}</h3>\n",
    "    Taxable Income\n",
    "    \n",
    "    <h2>{'${:,.2f}'.format(tax_owed(income))}</h2>\n",
    "    Tax Owed\n",
    "    \n",
    "    <h3>{'{:,.1f}'.format((effective_tax_rate(income))) + '%'}</h3>\n",
    "    Effective Tax Rate\n",
    "    \n",
    "    '''\n",
    "    display(HTML(s))\n",
    "    \n",
    "interact(plot_income_calculator, income=(0, 200000, 1000));"
   ]
  },
  {
   "cell_type": "markdown",
   "id": "2c7c816b",
   "metadata": {},
   "source": [
    "<br>\n",
    "\n",
    "## Part 2: Fun with Loops 🔁\n",
    "\n",
    "---\n",
    "\n",
    "In this part, you'll work through a few separate questions that involve writing loops in Python."
   ]
  },
  {
   "cell_type": "markdown",
   "id": "a4f7aa29",
   "metadata": {},
   "source": [
    "### Question 4: Collatz Conjecture <div style=\"display:inline-block; vertical-align: middle; padding:7px 7px; font-size:10px; font-weight:light; color:white; background-color:#e84c4a; border-radius:7px; text-align:left;\">5 Points</div>\n",
    "\n",
    "Before we get started, observe the behavior in the cell below:"
   ]
  },
  {
   "cell_type": "code",
   "execution_count": 14,
   "id": "0fd0f6c1",
   "metadata": {},
   "outputs": [
    {
     "name": "stdout",
     "output_type": "stream",
     "text": [
      "8\n",
      "heyheyheyheyheyhey\n"
     ]
    },
    {
     "data": {
      "text/plain": [
       "37.209999999999994"
      ]
     },
     "execution_count": 14,
     "metadata": {},
     "output_type": "execute_result"
    }
   ],
   "source": [
    "def my_function(stuff):\n",
    "    print(stuff + 2)\n",
    "    print('hey' * stuff)\n",
    "    return (stuff + 0.1) ** 2\n",
    "\n",
    "my_function(6)"
   ]
  },
  {
   "cell_type": "markdown",
   "id": "707f31db",
   "metadata": {},
   "source": [
    "- The values `8` and `'heyheyheyheyheyhey'`are **printed**, because we used the `print` function to display them within the body of `my_function`. No numbers appear in square brackets to the left of these values.\n",
    "- The value `37.2099999999` is displayed, even though we didn't explicitly ask for it to be displayed. That's because it's the value of the last expression in the cell, i.e. it is what the function `my_function` returned when called on the input `6`. Note a value in square brackets to the left of it, e.g. `[55]`.\n",
    "\n",
    "Keep this in mind as you work through this question, as you'll have to `print` some values and `return` other values in the function you define."
   ]
  },
  {
   "cell_type": "markdown",
   "id": "3e97f343",
   "metadata": {},
   "source": [
    "Now, run the following cell and watch the video that pops up. It's short."
   ]
  },
  {
   "cell_type": "code",
   "execution_count": 15,
   "id": "cf22ab3b",
   "metadata": {},
   "outputs": [
    {
     "data": {
      "image/jpeg": "[encoded data removed]",
      "text/html": [
       "\n",
       "        <iframe\n",
       "            width=\"600\"\n",
       "            height=\"300\"\n",
       "            src=\"https://www.youtube.com/embed/m4CjXk_b8zo\"\n",
       "            frameborder=\"0\"\n",
       "            allowfullscreen\n",
       "            \n",
       "        ></iframe>\n",
       "        "
      ],
      "text/plain": [
       "<IPython.lib.display.YouTubeVideo at 0x131a3b4f0>"
      ]
     },
     "execution_count": 15,
     "metadata": {},
     "output_type": "execute_result"
    }
   ],
   "source": [
    "YouTubeVideo('m4CjXk_b8zo', width=600, height=300)"
   ]
  },
  {
   "cell_type": "markdown",
   "id": "69fbd375",
   "metadata": {},
   "source": [
    "The video above describes the [Collatz conjecture](https://en.wikipedia.org/wiki/Collatz_conjecture), which says the following:\n",
    "\n",
    "1. Pick a positive integer `n` as the start.\n",
    "2. If `n` is even, divide it by 2.\n",
    "3. If `n` is odd, multiply it by 3 and add 1.\n",
    "4. Continue this process until `n` is 1.\n",
    "\n",
    "The number `n` will travel up and down but eventually end at 1 (at least for all numbers that have ever been tried – nobody has ever proved that the sequence will terminate). Analogously, a hailstone travels up and down in the atmosphere before eventually landing on earth, which is why this sequence is sometimes called the **hailstone sequence**.\n",
    "\n",
    "For instance, if we start with $n = 10$:\n",
    "\n",
    "$$10 \\rightarrow 5 \\rightarrow 16 \\rightarrow 8 \\rightarrow 4 \\rightarrow 2 \\rightarrow 1$$\n",
    "\n",
    "So, **for $n = 10$, we'd say the hailstone sequence is of length 7.**\n",
    "\n",
    "Complete the implementation of the function `hailstone`, which takes in a positive integer `n`, **prints** out the hailstone sequence starting at `n` (including `n` and `1`), and **returns** the **length** of the sequence. Example behavior is given below.\n",
    "\n",
    "```python\n",
    "In  [5]: hailstone(10)\n",
    "         10\n",
    "         5\n",
    "         16\n",
    "         8\n",
    "         4\n",
    "         2\n",
    "         1\n",
    "Out [5]: 7\n",
    "```\n",
    "\n",
    "Note that the `[5]` above is arbitrary; what's meant to be highlighted is the fact that the numbers 10, 5, 16, ..., 1 are being printed, but the value of `hailstone(10)` is `7`.\n",
    "\n",
    "***Hint***: You'll need to write the kind of loop that we **didn't** write in [Lecture 2](https://practicaldsc.org/resources/lectures/lec02/lec02.html). It's a good idea to write out the hailstone sequence for an arbitrary number by hand on paper to make sure you understand how it works."
   ]
  },
  {
   "cell_type": "code",
   "execution_count": 16,
   "id": "1a490d64",
   "metadata": {
    "tags": []
   },
   "outputs": [
    {
     "name": "stdout",
     "output_type": "stream",
     "text": [
      "10\n",
      "5\n",
      "16\n",
      "8\n",
      "4\n",
      "2\n",
      "1\n"
     ]
    },
    {
     "data": {
      "text/plain": [
       "7"
      ]
     },
     "execution_count": 16,
     "metadata": {},
     "output_type": "execute_result"
    }
   ],
   "source": [
    "def hailstone(n):\n",
    "    x = 1\n",
    "    while n != 1:\n",
    "        print(n)\n",
    "        if n % 2 == 0:\n",
    "            n = n // 2\n",
    "            x = x + 1\n",
    "        else:\n",
    "            n = 3 * n + 1\n",
    "            x = x + 1\n",
    "    print(n)\n",
    "    return x\n",
    "# Feel free to change this input to make sure your function works correctly.\n",
    "hailstone(10)"
   ]
  },
  {
   "cell_type": "code",
   "execution_count": 17,
   "id": "aacf1dc5",
   "metadata": {
    "deletable": false,
    "editable": false
   },
   "outputs": [
    {
     "data": {
      "text/html": [
       "<p><strong><pre style='display: inline;'>q4</pre></strong> passed!</p>"
      ],
      "text/plain": [
       "q4 results: All test cases passed!"
      ]
     },
     "execution_count": 17,
     "metadata": {},
     "output_type": "execute_result"
    }
   ],
   "source": [
    "grader.check(\"q4\")"
   ]
  },
  {
   "cell_type": "markdown",
   "id": "9f75afef",
   "metadata": {},
   "source": [
    "### Question 5: Alternating Sign Mean <div style=\"display:inline-block; vertical-align: middle; padding:7px 7px; font-size:10px; font-weight:light; color:white; background-color:#e84c4a; border-radius:7px; text-align:left;\">4 Points</div>\n",
    "\n",
    "In math, the word \"alternating\" is sometimes used to indicate that the signs of the elements of a sequence oscillate, or \"bounce\", back and forth between positive and negative.\n",
    "\n",
    "Complete the implementation of the function `alternating_sign_mean`, which takes in a list of positive numbers, `values`, and computes the mean of **_every_ element** in the original list with **alternating signs**, starting with a positive sign for the element at position 0, a negative sign for the element at position 1, and so on. Example behavior is shown below.\n",
    "\n",
    "```python\n",
    ">>> alternating_sign_mean([3, 2, 9.5])\n",
    "3.5 # Comes from (3 + (-2) + 9.5) / 3.\n",
    "\n",
    ">>> alternating_sign_mean([3, 2.5, 7, 6.5])\n",
    "0.25 # Comes from (3 + (-2.5) + 7 + (-6.5)) / 4.\n",
    "```\n",
    "\n",
    "Note that you **should not** use any additional packages (e.g. `math`, `numpy`) in your solution – everything should be done using base Python."
   ]
  },
  {
   "cell_type": "code",
   "execution_count": 18,
   "id": "aee483f6",
   "metadata": {
    "tags": []
   },
   "outputs": [
    {
     "data": {
      "text/plain": [
       "0.25"
      ]
     },
     "execution_count": 18,
     "metadata": {},
     "output_type": "execute_result"
    }
   ],
   "source": [
    "def alternating_sign_mean(values):\n",
    "    x = 0\n",
    "    res = 0\n",
    "    for i in values:\n",
    "        if x%2 == 0:\n",
    "            res = res + i\n",
    "        else:\n",
    "            res = res - i\n",
    "        x = x + 1\n",
    "    return res / len(values)\n",
    "    \n",
    "# Feel free to change this input to make sure your function works correctly.\n",
    "alternating_sign_mean([3, 2.5,7, 6.5])"
   ]
  },
  {
   "cell_type": "code",
   "execution_count": 19,
   "id": "b85288ff",
   "metadata": {
    "deletable": false,
    "editable": false
   },
   "outputs": [
    {
     "data": {
      "text/html": [
       "<p><strong><pre style='display: inline;'>q5</pre></strong> passed!</p>"
      ],
      "text/plain": [
       "q5 results: All test cases passed!"
      ]
     },
     "execution_count": 19,
     "metadata": {},
     "output_type": "execute_result"
    }
   ],
   "source": [
    "grader.check(\"q5\")"
   ]
  },
  {
   "cell_type": "markdown",
   "id": "4e24e3b3",
   "metadata": {},
   "source": [
    "### Question 6: Big Tippers <div style=\"display:inline-block; vertical-align: middle; padding:7px 7px; font-size:10px; font-weight:light; color:white; background-color:#e84c4a; border-radius:7px; text-align:left;\">5 Points</div>\n",
    "\n",
    "Suppose we are waiters at a restaurant, and we keep track of the tips that we receive in a given night. Specifically, we store in a list the first names of our customers along with the tip that they gave, like so:\n",
    "\n",
    "```python\n",
    "[name_1, tip_1, name_2, tip_2, name_3, tip_3, ...]\n",
    "```\n",
    "\n",
    "Names are strings, while tips are non-negative numbers, either `int` or `float`.\n",
    "\n",
    "Complete the implementation of the function `big_tippers`, which takes in a list `tips` as described above and returns only the names of the customers who tipped **strictly more** than the average tip. Example behavior is given below.\n",
    "\n",
    "```python\n",
    ">>> tips = ['yutong', 15, 'kyle', 9, 'pranavi', 19]\n",
    ">>> big_tippers(tips)\n",
    "['yutong', 'pranavi']\n",
    "```\n",
    "\n",
    "In the example above, the average tip is $\\frac{15 + 9 + 19}{3} = 14.33$, and both `'yutong'` and `'pranavi'` tipped more than that, so your function should return `['yutong', 'pranavi']`.\n",
    "\n",
    "You may assume that `tips` is well-formed, i.e. has an even, positive number of entries, in the correct order.\n",
    "\n",
    "Note that you **should not** use any additional packages (e.g. `math`, `numpy`) in your solution – everything should be done using base Python."
   ]
  },
  {
   "cell_type": "code",
   "execution_count": 20,
   "id": "3b0d2de5",
   "metadata": {
    "tags": []
   },
   "outputs": [
    {
     "data": {
      "text/plain": [
       "['pranavi']"
      ]
     },
     "execution_count": 20,
     "metadata": {},
     "output_type": "execute_result"
    }
   ],
   "source": [
    "def big_tippers(tips):\n",
    "    tip_count = 0\n",
    "    res = []\n",
    "    for i in tips:\n",
    "        if type(i) == int:\n",
    "            tip_count = tip_count + i\n",
    "    tip_count = tip_count / (len(tips)/2)\n",
    "    for i in range(len(tips)):\n",
    "        if type(tips[i]) == int and tips[i] > tip_count:\n",
    "            res.append(tips[i-1])\n",
    "    return res\n",
    "            \n",
    "    \n",
    "            \n",
    "\n",
    "# Feel free to change this input to make sure your function works correctly.\n",
    "big_tippers(['yutong', 1, 'kyle', 9, 'pranavi', 19])"
   ]
  },
  {
   "cell_type": "code",
   "execution_count": 21,
   "id": "cdda64bd",
   "metadata": {},
   "outputs": [
    {
     "data": {
      "text/plain": [
       "['kyle', 'pranavi']"
      ]
     },
     "execution_count": 21,
     "metadata": {},
     "output_type": "execute_result"
    }
   ],
   "source": [
    "big_tippers(['yutong', 18, 'kyle', 19, 'pranavi', 19])"
   ]
  },
  {
   "cell_type": "code",
   "execution_count": 22,
   "id": "e2f7b72f",
   "metadata": {
    "deletable": false,
    "editable": false
   },
   "outputs": [
    {
     "data": {
      "text/html": [
       "<p><strong><pre style='display: inline;'>q6</pre></strong> passed!</p>"
      ],
      "text/plain": [
       "q6 results: All test cases passed!"
      ]
     },
     "execution_count": 22,
     "metadata": {},
     "output_type": "execute_result"
    }
   ],
   "source": [
    "grader.check(\"q6\")"
   ]
  },
  {
   "cell_type": "markdown",
   "id": "0a685a46",
   "metadata": {
    "slideshow": {
     "slide_type": "slide"
    }
   },
   "source": [
    "## Part 3: String Theory 🧵\n",
    "\n",
    "---\n",
    "\n",
    "In this part, you'll practice working with strings in Python. It's a good idea to review the [Strings section of Lecture 2](https://practicaldsc.org/resources/lectures/lec02/lec02.html#Strings) before proceeding."
   ]
  },
  {
   "cell_type": "markdown",
   "id": "e1635f8f",
   "metadata": {},
   "source": [
    "### Question 7: Running, Eating, and Living <div style=\"display:inline-block; vertical-align: middle; padding:7px 7px; font-size:10px; font-weight:light; color:white; background-color:#e84c4a; border-radius:7px; text-align:left;\">2 Points</div>\n",
    "\n",
    "Complete the implementation of the function `is_ing`, which takes in a string `s` and returns `True` if `s` ends in \"ing\" and `False` otherwise. Example behavior is given below.\n",
    "\n",
    "```python\n",
    ">>> is_ing('running')\n",
    "True\n",
    "\n",
    "# Not case sensitive!\n",
    ">>> is_ing('eatInG')\n",
    "True\n",
    "\n",
    ">>> is_ing('science')\n",
    "False\n",
    "\n",
    ">>> is_ing('25')\n",
    "False\n",
    "```"
   ]
  },
  {
   "cell_type": "code",
   "execution_count": 23,
   "id": "931151f7",
   "metadata": {
    "tags": []
   },
   "outputs": [
    {
     "data": {
      "text/plain": [
       "True"
      ]
     },
     "execution_count": 23,
     "metadata": {},
     "output_type": "execute_result"
    }
   ],
   "source": [
    "def is_ing(s):\n",
    "    if ((s[-1] == 'g' or s[-1] == 'G') and (s[-2] == 'n' or s[-2] == 'N') and (s[-3] == 'i' or s[-3] ==  'I')):\n",
    "        return True\n",
    "    return False\n",
    "\n",
    "# Feel free to change this input to make sure your function works correctly.\n",
    "is_ing('runnIng')"
   ]
  },
  {
   "cell_type": "code",
   "execution_count": 24,
   "id": "219f7313",
   "metadata": {
    "deletable": false,
    "editable": false
   },
   "outputs": [
    {
     "data": {
      "text/html": [
       "<p><strong><pre style='display: inline;'>q7</pre></strong> passed!</p>"
      ],
      "text/plain": [
       "q7 results: All test cases passed!"
      ]
     },
     "execution_count": 24,
     "metadata": {},
     "output_type": "execute_result"
    }
   ],
   "source": [
    "grader.check(\"q7\")"
   ]
  },
  {
   "cell_type": "markdown",
   "id": "9c0baed2",
   "metadata": {},
   "source": [
    "### Question 8: Pump the Brakes <div style=\"display:inline-block; vertical-align: middle; padding:7px 7px; font-size:10px; font-weight:light; color:white; background-color:#e84c4a; border-radius:7px; text-align:left;\">3 Points</div>\n",
    "\n",
    "Complete the implementation of the function `pump`, which takes in a string `base` and integer `rep` and returns a string with the same first and last characters as `base`, and with everything except the first and last characters in `base` repeated `rep` times. Example behavior is given below.\n",
    "\n",
    "```python\n",
    ">>> pump('zebra', 4)\n",
    "'zebrebrebrebra'\n",
    "\n",
    "# If base is <= 2 characters long, return base.\n",
    ">>> pump('hi', 2)\n",
    "'hi'\n",
    "```"
   ]
  },
  {
   "cell_type": "code",
   "execution_count": 25,
   "id": "d502f6a5",
   "metadata": {
    "tags": []
   },
   "outputs": [
    {
     "data": {
      "text/plain": [
       "'zebrebrebrebra'"
      ]
     },
     "execution_count": 25,
     "metadata": {},
     "output_type": "execute_result"
    }
   ],
   "source": [
    "def pump(base, rep):\n",
    "    if len(base) <= 2:\n",
    "        return base\n",
    "    res = \"\" \n",
    "    res = res + base[0]\n",
    "    repeat = \"\"\n",
    "    for i in range(1, len(base)-1):\n",
    "        repeat = repeat + base[i]\n",
    "    res = res + repeat * rep\n",
    "    res = res + base[-1]\n",
    "    return res\n",
    "\n",
    "# Feel free to change this input to make sure your function works correctly.\n",
    "pump('zebra', 4)"
   ]
  },
  {
   "cell_type": "code",
   "execution_count": 26,
   "id": "d98725b8",
   "metadata": {
    "deletable": false,
    "editable": false
   },
   "outputs": [
    {
     "data": {
      "text/html": [
       "<p><strong><pre style='display: inline;'>q8</pre></strong> passed!</p>"
      ],
      "text/plain": [
       "q8 results: All test cases passed!"
      ]
     },
     "execution_count": 26,
     "metadata": {},
     "output_type": "execute_result"
    }
   ],
   "source": [
    "grader.check(\"q8\")"
   ]
  },
  {
   "cell_type": "markdown",
   "id": "e9b35018",
   "metadata": {},
   "source": [
    "### Question 9: $n$ Prefixes <div style=\"display:inline-block; vertical-align: middle; padding:7px 7px; font-size:10px; font-weight:light; color:white; background-color:#e84c4a; border-radius:7px; text-align:left;\">4 Points</div>\n",
    "\n",
    "Complete the implementation of the function `n_prefixes`, which takes in a string `s` and a positive integer `n`, and returns a string containing the first `n` consecutive prefixes of `s` in reverse order. Example behavior is given below.\n",
    "\n",
    "```python\n",
    ">>> n_prefixes('Billy!', 4)\n",
    "'BillBilBiB'\n",
    "\n",
    ">>> n_prefixes('Michigan', 3)\n",
    "'MicMiM'\n",
    "```\n",
    "\n",
    "Let's take a closer look at the first example above. The consecutive prefixes of `'Billy!'` are:\n",
    "- `'B'`\n",
    "- `'Bi'`\n",
    "- `'Bil'`\n",
    "- `'Bill'`\n",
    "- `'Billy'`\n",
    "- `'Billy!'`\n",
    "\n",
    "The first 4 of these are `'B'`, `'Bi'`, `'Bil'`, and `'Bill'`. If we combine these 4 in reverse order, we get `'BillBilBiB'`, which is what `n_prefixes('Billy!', 4)` should return.\n",
    "\n",
    "You may assume that `n <= len(s)`."
   ]
  },
  {
   "cell_type": "code",
   "execution_count": 27,
   "id": "8aaa436b",
   "metadata": {
    "tags": [
     "to-py"
    ]
   },
   "outputs": [
    {
     "data": {
      "text/plain": [
       "'BillBilBiB'"
      ]
     },
     "execution_count": 27,
     "metadata": {},
     "output_type": "execute_result"
    }
   ],
   "source": [
    "def n_prefixes(s, n):\n",
    "    i = 0\n",
    "    res = \"\"\n",
    "    while n > 0:\n",
    "        i = 0 \n",
    "        while i < n:\n",
    "            res = res + s[i]\n",
    "            i +=1\n",
    "        n -= 1\n",
    "    return res\n",
    "\n",
    "# Feel free to change this input to make sure your function works correctly.\n",
    "n_prefixes('Billy!', 4)"
   ]
  },
  {
   "cell_type": "code",
   "execution_count": 28,
   "id": "c3329505",
   "metadata": {
    "deletable": false,
    "editable": false
   },
   "outputs": [
    {
     "data": {
      "text/html": [
       "<p><strong><pre style='display: inline;'>q9</pre></strong> passed!</p>"
      ],
      "text/plain": [
       "q9 results: All test cases passed!"
      ]
     },
     "execution_count": 28,
     "metadata": {},
     "output_type": "execute_result"
    }
   ],
   "source": [
    "grader.check(\"q9\")"
   ]
  },
  {
   "cell_type": "markdown",
   "id": "652f49bb",
   "metadata": {},
   "source": [
    "## Part 4: Plotly 📈\n",
    "\n",
    "---"
   ]
  },
  {
   "cell_type": "markdown",
   "id": "683cfda2",
   "metadata": {},
   "source": [
    "As a data scientist, you're often going to have to work with unfamiliar libraries. In this final part of the homework, you're going to familiarize yourself with `plotly`, a library for making interactive visualizations in Python. `plotly` is the library we used to make the bar charts and line charts in [Lecture 1](https://practicaldsc.org/resources/lectures/lec01/lec01.html). We'll gain more exposure to using `plotly` for data analysis specifically in lecture and future homeworks, but in this question, you'll learn how to use it for a different (but related) purpose: graphing functions. We'll use it as an opportunity to review key concepts from calculus, too.\n",
    "\n",
    "Run the cell below to load in the necessary `plotly` modules (there are a few)."
   ]
  },
  {
   "cell_type": "code",
   "execution_count": 29,
   "id": "fd76b598",
   "metadata": {},
   "outputs": [],
   "source": [
    "import plotly.express as px\n",
    "import plotly.graph_objects as go"
   ]
  },
  {
   "cell_type": "markdown",
   "id": "5e8b755a",
   "metadata": {},
   "source": [
    "First, let's walk through an example. Consider the function $f(x)$:\n",
    "\n",
    "$$f(x) = x^2 - 12x + 3$$\n",
    "\n",
    "$f$ is a degree-2 polynomial, and has the shape of a parabola. To plot a graph of $f$, we could use the following code:"
   ]
  },
  {
   "cell_type": "code",
   "execution_count": 30,
   "id": "630c334d",
   "metadata": {},
   "outputs": [
    {
     "data": {
      "application/vnd.plotly.v1+json": {
       "config": {
        "plotlyServerURL": "https://plot.ly"
       },
       "data": [
        {
         "hovertemplate": "x=%{x}<br>y=%{y}<extra></extra>",
         "legendgroup": "",
         "line": {
          "color": "#1F77B4",
          "dash": "solid"
         },
         "marker": {
          "symbol": "circle"
         },
         "mode": "lines",
         "name": "",
         "orientation": "v",
         "showlegend": false,
         "type": "scatter",
         "x": [
          -10,
          -9.183673469387756,
          -8.36734693877551,
          -7.551020408163265,
          -6.73469387755102,
          -5.918367346938775,
          -5.1020408163265305,
          -4.285714285714286,
          -3.4693877551020407,
          -2.6530612244897958,
          -1.8367346938775508,
          -1.020408163265305,
          -0.204081632653061,
          0.612244897959183,
          1.4285714285714288,
          2.2448979591836746,
          3.0612244897959187,
          3.8775510204081627,
          4.6938775510204085,
          5.510204081632654,
          6.326530612244898,
          7.142857142857142,
          7.95918367346939,
          8.775510204081634,
          9.591836734693878,
          10.408163265306122,
          11.224489795918366,
          12.040816326530614,
          12.857142857142858,
          13.673469387755102,
          14.48979591836735,
          15.306122448979593,
          16.122448979591837,
          16.93877551020408,
          17.755102040816325,
          18.571428571428573,
          19.387755102040817,
          20.20408163265306,
          21.02040816326531,
          21.836734693877553,
          22.653061224489797,
          23.46938775510204,
          24.285714285714285,
          25.10204081632653,
          25.91836734693878,
          26.734693877551024,
          27.551020408163268,
          28.367346938775512,
          29.183673469387756,
          30
         ],
         "xaxis": "x",
         "y": [
          223,
          197.5439400249896,
          173.420658059142,
          150.6301541024573,
          129.17242815493543,
          109.04748021657642,
          90.25531028738025,
          72.79591836734694,
          56.66930445647647,
          41.875468554768844,
          28.41441066222407,
          16.286130778842136,
          5.490628904623071,
          -3.9720949604331457,
          -12.102040816326532,
          -18.899208663057067,
          -24.36359850062474,
          -28.495210329029568,
          -31.294044148271553,
          -32.76009995835069,
          -32.89337775926697,
          -31.693877551020407,
          -29.161599333610987,
          -25.29654310703873,
          -20.098708871303614,
          -13.568096626405662,
          -5.704706372344873,
          3.4914618908788384,
          14.02040816326533,
          25.88213244481466,
          39.07663473552691,
          53.60391503540194,
          69.46397334443981,
          86.65680966264057,
          105.18242399000411,
          125.04081632653066,
          146.23198667221993,
          168.75593502707204,
          192.61266139108713,
          217.80216576426494,
          244.32444814660562,
          272.1795085381092,
          301.3673469387754,
          331.88796334860467,
          363.741357767597,
          396.92753019575196,
          431.4464806330697,
          467.29820907955025,
          504.4827155351937,
          543
         ],
         "yaxis": "y"
        },
        {
         "marker": {
          "color": "red"
         },
         "mode": "markers",
         "name": "Random Point",
         "type": "scatter",
         "x": [
          20
         ],
         "y": [
          163
         ]
        }
       ],
       "layout": {
        "legend": {
         "tracegroupgap": 0
        },
        "margin": {
         "t": 60
        },
        "template": {
         "data": {
          "bar": [
           {
            "error_x": {
             "color": "rgb(36,36,36)"
            },
            "error_y": {
             "color": "rgb(36,36,36)"
            },
            "marker": {
             "line": {
              "color": "white",
              "width": 0.5
             },
             "pattern": {
              "fillmode": "overlay",
              "size": 10,
              "solidity": 0.2
             }
            },
            "type": "bar"
           }
          ],
          "barpolar": [
           {
            "marker": {
             "line": {
              "color": "white",
              "width": 0.5
             },
             "pattern": {
              "fillmode": "overlay",
              "size": 10,
              "solidity": 0.2
             }
            },
            "type": "barpolar"
           }
          ],
          "carpet": [
           {
            "aaxis": {
             "endlinecolor": "rgb(36,36,36)",
             "gridcolor": "white",
             "linecolor": "white",
             "minorgridcolor": "white",
             "startlinecolor": "rgb(36,36,36)"
            },
            "baxis": {
             "endlinecolor": "rgb(36,36,36)",
             "gridcolor": "white",
             "linecolor": "white",
             "minorgridcolor": "white",
             "startlinecolor": "rgb(36,36,36)"
            },
            "type": "carpet"
           }
          ],
          "choropleth": [
           {
            "colorbar": {
             "outlinewidth": 1,
             "tickcolor": "rgb(36,36,36)",
             "ticks": "outside"
            },
            "type": "choropleth"
           }
          ],
          "contour": [
           {
            "colorbar": {
             "outlinewidth": 1,
             "tickcolor": "rgb(36,36,36)",
             "ticks": "outside"
            },
            "colorscale": [
             [
              0,
              "#440154"
             ],
             [
              0.1111111111111111,
              "#482878"
             ],
             [
              0.2222222222222222,
              "#3e4989"
             ],
             [
              0.3333333333333333,
              "#31688e"
             ],
             [
              0.4444444444444444,
              "#26828e"
             ],
             [
              0.5555555555555556,
              "#1f9e89"
             ],
             [
              0.6666666666666666,
              "#35b779"
             ],
             [
              0.7777777777777778,
              "#6ece58"
             ],
             [
              0.8888888888888888,
              "#b5de2b"
             ],
             [
              1,
              "#fde725"
             ]
            ],
            "type": "contour"
           }
          ],
          "contourcarpet": [
           {
            "colorbar": {
             "outlinewidth": 1,
             "tickcolor": "rgb(36,36,36)",
             "ticks": "outside"
            },
            "type": "contourcarpet"
           }
          ],
          "heatmap": [
           {
            "colorbar": {
             "outlinewidth": 1,
             "tickcolor": "rgb(36,36,36)",
             "ticks": "outside"
            },
            "colorscale": [
             [
              0,
              "#440154"
             ],
             [
              0.1111111111111111,
              "#482878"
             ],
             [
              0.2222222222222222,
              "#3e4989"
             ],
             [
              0.3333333333333333,
              "#31688e"
             ],
             [
              0.4444444444444444,
              "#26828e"
             ],
             [
              0.5555555555555556,
              "#1f9e89"
             ],
             [
              0.6666666666666666,
              "#35b779"
             ],
             [
              0.7777777777777778,
              "#6ece58"
             ],
             [
              0.8888888888888888,
              "#b5de2b"
             ],
             [
              1,
              "#fde725"
             ]
            ],
            "type": "heatmap"
           }
          ],
          "heatmapgl": [
           {
            "colorbar": {
             "outlinewidth": 1,
             "tickcolor": "rgb(36,36,36)",
             "ticks": "outside"
            },
            "colorscale": [
             [
              0,
              "#440154"
             ],
             [
              0.1111111111111111,
              "#482878"
             ],
             [
              0.2222222222222222,
              "#3e4989"
             ],
             [
              0.3333333333333333,
              "#31688e"
             ],
             [
              0.4444444444444444,
              "#26828e"
             ],
             [
              0.5555555555555556,
              "#1f9e89"
             ],
             [
              0.6666666666666666,
              "#35b779"
             ],
             [
              0.7777777777777778,
              "#6ece58"
             ],
             [
              0.8888888888888888,
              "#b5de2b"
             ],
             [
              1,
              "#fde725"
             ]
            ],
            "type": "heatmapgl"
           }
          ],
          "histogram": [
           {
            "marker": {
             "line": {
              "color": "white",
              "width": 0.6
             }
            },
            "type": "histogram"
           }
          ],
          "histogram2d": [
           {
            "colorbar": {
             "outlinewidth": 1,
             "tickcolor": "rgb(36,36,36)",
             "ticks": "outside"
            },
            "colorscale": [
             [
              0,
              "#440154"
             ],
             [
              0.1111111111111111,
              "#482878"
             ],
             [
              0.2222222222222222,
              "#3e4989"
             ],
             [
              0.3333333333333333,
              "#31688e"
             ],
             [
              0.4444444444444444,
              "#26828e"
             ],
             [
              0.5555555555555556,
              "#1f9e89"
             ],
             [
              0.6666666666666666,
              "#35b779"
             ],
             [
              0.7777777777777778,
              "#6ece58"
             ],
             [
              0.8888888888888888,
              "#b5de2b"
             ],
             [
              1,
              "#fde725"
             ]
            ],
            "type": "histogram2d"
           }
          ],
          "histogram2dcontour": [
           {
            "colorbar": {
             "outlinewidth": 1,
             "tickcolor": "rgb(36,36,36)",
             "ticks": "outside"
            },
            "colorscale": [
             [
              0,
              "#440154"
             ],
             [
              0.1111111111111111,
              "#482878"
             ],
             [
              0.2222222222222222,
              "#3e4989"
             ],
             [
              0.3333333333333333,
              "#31688e"
             ],
             [
              0.4444444444444444,
              "#26828e"
             ],
             [
              0.5555555555555556,
              "#1f9e89"
             ],
             [
              0.6666666666666666,
              "#35b779"
             ],
             [
              0.7777777777777778,
              "#6ece58"
             ],
             [
              0.8888888888888888,
              "#b5de2b"
             ],
             [
              1,
              "#fde725"
             ]
            ],
            "type": "histogram2dcontour"
           }
          ],
          "mesh3d": [
           {
            "colorbar": {
             "outlinewidth": 1,
             "tickcolor": "rgb(36,36,36)",
             "ticks": "outside"
            },
            "type": "mesh3d"
           }
          ],
          "parcoords": [
           {
            "line": {
             "colorbar": {
              "outlinewidth": 1,
              "tickcolor": "rgb(36,36,36)",
              "ticks": "outside"
             }
            },
            "type": "parcoords"
           }
          ],
          "pie": [
           {
            "automargin": true,
            "type": "pie"
           }
          ],
          "scatter": [
           {
            "fillpattern": {
             "fillmode": "overlay",
             "size": 10,
             "solidity": 0.2
            },
            "type": "scatter"
           }
          ],
          "scatter3d": [
           {
            "line": {
             "colorbar": {
              "outlinewidth": 1,
              "tickcolor": "rgb(36,36,36)",
              "ticks": "outside"
             }
            },
            "marker": {
             "colorbar": {
              "outlinewidth": 1,
              "tickcolor": "rgb(36,36,36)",
              "ticks": "outside"
             }
            },
            "type": "scatter3d"
           }
          ],
          "scattercarpet": [
           {
            "marker": {
             "colorbar": {
              "outlinewidth": 1,
              "tickcolor": "rgb(36,36,36)",
              "ticks": "outside"
             }
            },
            "type": "scattercarpet"
           }
          ],
          "scattergeo": [
           {
            "marker": {
             "colorbar": {
              "outlinewidth": 1,
              "tickcolor": "rgb(36,36,36)",
              "ticks": "outside"
             }
            },
            "type": "scattergeo"
           }
          ],
          "scattergl": [
           {
            "marker": {
             "colorbar": {
              "outlinewidth": 1,
              "tickcolor": "rgb(36,36,36)",
              "ticks": "outside"
             }
            },
            "type": "scattergl"
           }
          ],
          "scattermapbox": [
           {
            "marker": {
             "colorbar": {
              "outlinewidth": 1,
              "tickcolor": "rgb(36,36,36)",
              "ticks": "outside"
             }
            },
            "type": "scattermapbox"
           }
          ],
          "scatterpolar": [
           {
            "marker": {
             "colorbar": {
              "outlinewidth": 1,
              "tickcolor": "rgb(36,36,36)",
              "ticks": "outside"
             }
            },
            "type": "scatterpolar"
           }
          ],
          "scatterpolargl": [
           {
            "marker": {
             "colorbar": {
              "outlinewidth": 1,
              "tickcolor": "rgb(36,36,36)",
              "ticks": "outside"
             }
            },
            "type": "scatterpolargl"
           }
          ],
          "scatterternary": [
           {
            "marker": {
             "colorbar": {
              "outlinewidth": 1,
              "tickcolor": "rgb(36,36,36)",
              "ticks": "outside"
             }
            },
            "type": "scatterternary"
           }
          ],
          "surface": [
           {
            "colorbar": {
             "outlinewidth": 1,
             "tickcolor": "rgb(36,36,36)",
             "ticks": "outside"
            },
            "colorscale": [
             [
              0,
              "#440154"
             ],
             [
              0.1111111111111111,
              "#482878"
             ],
             [
              0.2222222222222222,
              "#3e4989"
             ],
             [
              0.3333333333333333,
              "#31688e"
             ],
             [
              0.4444444444444444,
              "#26828e"
             ],
             [
              0.5555555555555556,
              "#1f9e89"
             ],
             [
              0.6666666666666666,
              "#35b779"
             ],
             [
              0.7777777777777778,
              "#6ece58"
             ],
             [
              0.8888888888888888,
              "#b5de2b"
             ],
             [
              1,
              "#fde725"
             ]
            ],
            "type": "surface"
           }
          ],
          "table": [
           {
            "cells": {
             "fill": {
              "color": "rgb(237,237,237)"
             },
             "line": {
              "color": "white"
             }
            },
            "header": {
             "fill": {
              "color": "rgb(217,217,217)"
             },
             "line": {
              "color": "white"
             }
            },
            "type": "table"
           }
          ]
         },
         "layout": {
          "annotationdefaults": {
           "arrowhead": 0,
           "arrowwidth": 1
          },
          "autotypenumbers": "strict",
          "coloraxis": {
           "colorbar": {
            "outlinewidth": 1,
            "tickcolor": "rgb(36,36,36)",
            "ticks": "outside"
           }
          },
          "colorscale": {
           "diverging": [
            [
             0,
             "rgb(103,0,31)"
            ],
            [
             0.1,
             "rgb(178,24,43)"
            ],
            [
             0.2,
             "rgb(214,96,77)"
            ],
            [
             0.3,
             "rgb(244,165,130)"
            ],
            [
             0.4,
             "rgb(253,219,199)"
            ],
            [
             0.5,
             "rgb(247,247,247)"
            ],
            [
             0.6,
             "rgb(209,229,240)"
            ],
            [
             0.7,
             "rgb(146,197,222)"
            ],
            [
             0.8,
             "rgb(67,147,195)"
            ],
            [
             0.9,
             "rgb(33,102,172)"
            ],
            [
             1,
             "rgb(5,48,97)"
            ]
           ],
           "sequential": [
            [
             0,
             "#440154"
            ],
            [
             0.1111111111111111,
             "#482878"
            ],
            [
             0.2222222222222222,
             "#3e4989"
            ],
            [
             0.3333333333333333,
             "#31688e"
            ],
            [
             0.4444444444444444,
             "#26828e"
            ],
            [
             0.5555555555555556,
             "#1f9e89"
            ],
            [
             0.6666666666666666,
             "#35b779"
            ],
            [
             0.7777777777777778,
             "#6ece58"
            ],
            [
             0.8888888888888888,
             "#b5de2b"
            ],
            [
             1,
             "#fde725"
            ]
           ],
           "sequentialminus": [
            [
             0,
             "#440154"
            ],
            [
             0.1111111111111111,
             "#482878"
            ],
            [
             0.2222222222222222,
             "#3e4989"
            ],
            [
             0.3333333333333333,
             "#31688e"
            ],
            [
             0.4444444444444444,
             "#26828e"
            ],
            [
             0.5555555555555556,
             "#1f9e89"
            ],
            [
             0.6666666666666666,
             "#35b779"
            ],
            [
             0.7777777777777778,
             "#6ece58"
            ],
            [
             0.8888888888888888,
             "#b5de2b"
            ],
            [
             1,
             "#fde725"
            ]
           ]
          },
          "colorway": [
           "#1F77B4",
           "#FF7F0E",
           "#2CA02C",
           "#D62728",
           "#9467BD",
           "#8C564B",
           "#E377C2",
           "#7F7F7F",
           "#BCBD22",
           "#17BECF"
          ],
          "font": {
           "color": "rgb(36,36,36)"
          },
          "geo": {
           "bgcolor": "white",
           "lakecolor": "white",
           "landcolor": "white",
           "showlakes": true,
           "showland": true,
           "subunitcolor": "white"
          },
          "hoverlabel": {
           "align": "left"
          },
          "hovermode": "closest",
          "mapbox": {
           "style": "light"
          },
          "paper_bgcolor": "white",
          "plot_bgcolor": "white",
          "polar": {
           "angularaxis": {
            "gridcolor": "rgb(232,232,232)",
            "linecolor": "rgb(36,36,36)",
            "showgrid": false,
            "showline": true,
            "ticks": "outside"
           },
           "bgcolor": "white",
           "radialaxis": {
            "gridcolor": "rgb(232,232,232)",
            "linecolor": "rgb(36,36,36)",
            "showgrid": false,
            "showline": true,
            "ticks": "outside"
           }
          },
          "scene": {
           "xaxis": {
            "backgroundcolor": "white",
            "gridcolor": "rgb(232,232,232)",
            "gridwidth": 2,
            "linecolor": "rgb(36,36,36)",
            "showbackground": true,
            "showgrid": false,
            "showline": true,
            "ticks": "outside",
            "zeroline": false,
            "zerolinecolor": "rgb(36,36,36)"
           },
           "yaxis": {
            "backgroundcolor": "white",
            "gridcolor": "rgb(232,232,232)",
            "gridwidth": 2,
            "linecolor": "rgb(36,36,36)",
            "showbackground": true,
            "showgrid": false,
            "showline": true,
            "ticks": "outside",
            "zeroline": false,
            "zerolinecolor": "rgb(36,36,36)"
           },
           "zaxis": {
            "backgroundcolor": "white",
            "gridcolor": "rgb(232,232,232)",
            "gridwidth": 2,
            "linecolor": "rgb(36,36,36)",
            "showbackground": true,
            "showgrid": false,
            "showline": true,
            "ticks": "outside",
            "zeroline": false,
            "zerolinecolor": "rgb(36,36,36)"
           }
          },
          "shapedefaults": {
           "fillcolor": "black",
           "line": {
            "width": 0
           },
           "opacity": 0.3
          },
          "ternary": {
           "aaxis": {
            "gridcolor": "rgb(232,232,232)",
            "linecolor": "rgb(36,36,36)",
            "showgrid": false,
            "showline": true,
            "ticks": "outside"
           },
           "baxis": {
            "gridcolor": "rgb(232,232,232)",
            "linecolor": "rgb(36,36,36)",
            "showgrid": false,
            "showline": true,
            "ticks": "outside"
           },
           "bgcolor": "white",
           "caxis": {
            "gridcolor": "rgb(232,232,232)",
            "linecolor": "rgb(36,36,36)",
            "showgrid": false,
            "showline": true,
            "ticks": "outside"
           }
          },
          "title": {
           "x": 0.05
          },
          "xaxis": {
           "automargin": true,
           "gridcolor": "rgb(232,232,232)",
           "linecolor": "rgb(36,36,36)",
           "showgrid": false,
           "showline": true,
           "ticks": "outside",
           "title": {
            "standoff": 15
           },
           "zeroline": false,
           "zerolinecolor": "rgb(36,36,36)"
          },
          "yaxis": {
           "automargin": true,
           "gridcolor": "rgb(232,232,232)",
           "linecolor": "rgb(36,36,36)",
           "showgrid": false,
           "showline": true,
           "ticks": "outside",
           "title": {
            "standoff": 15
           },
           "zeroline": false,
           "zerolinecolor": "rgb(36,36,36)"
          }
         }
        },
        "width": 600,
        "xaxis": {
         "anchor": "y",
         "domain": [
          0,
          1
         ],
         "title": {
          "text": "x"
         }
        },
        "yaxis": {
         "anchor": "x",
         "domain": [
          0,
          1
         ],
         "title": {
          "text": "y"
         }
        }
       }
      }
     },
     "metadata": {},
     "output_type": "display_data"
    }
   ],
   "source": [
    "def f(x):\n",
    "    return x**2 - 12 * x + 3\n",
    "\n",
    "xs = np.linspace(-10, 30)\n",
    "ys = f(xs)\n",
    "\n",
    "fig = px.line(x=xs, y=ys, width=600, template='simple_white')\n",
    "fig.add_trace(go.Scatter(x=[20], y=[163], mode='markers', marker=dict(color='red'), name='Random Point'))"
   ]
  },
  {
   "cell_type": "markdown",
   "id": "089b4fa7",
   "metadata": {},
   "source": [
    "There are many ways you can customize a `plotly` graph. Some features are customized by setting various [keyword arguments](https://www.w3schools.com/python/gloss_python_function_keyword_arguments.asp) in the `px.<plot type>` function when you call it, and others are customized by using `fig.add_trace`, `fig.update_traces`, or `fig.update_layout` on the resulting `fig` object afterwards. Here, we used `fig.add_trace` to add a particular point to the plot.\n",
    "\n",
    "Remember that in a Jupyter Notebook, you can view the documentation (including the possible arguments) for a function inline. To see the documentation, run `function?`, where function is the name of the function."
   ]
  },
  {
   "cell_type": "code",
   "execution_count": 31,
   "id": "23ea2295",
   "metadata": {},
   "outputs": [
    {
     "name": "stdout",
     "output_type": "stream",
     "text": [
      "\u001b[0;31mSignature:\u001b[0m\n",
      "\u001b[0mpx\u001b[0m\u001b[0;34m.\u001b[0m\u001b[0mline\u001b[0m\u001b[0;34m(\u001b[0m\u001b[0;34m\u001b[0m\n",
      "\u001b[0;34m\u001b[0m    \u001b[0mdata_frame\u001b[0m\u001b[0;34m=\u001b[0m\u001b[0;32mNone\u001b[0m\u001b[0;34m,\u001b[0m\u001b[0;34m\u001b[0m\n",
      "\u001b[0;34m\u001b[0m    \u001b[0mx\u001b[0m\u001b[0;34m=\u001b[0m\u001b[0;32mNone\u001b[0m\u001b[0;34m,\u001b[0m\u001b[0;34m\u001b[0m\n",
      "\u001b[0;34m\u001b[0m    \u001b[0my\u001b[0m\u001b[0;34m=\u001b[0m\u001b[0;32mNone\u001b[0m\u001b[0;34m,\u001b[0m\u001b[0;34m\u001b[0m\n",
      "\u001b[0;34m\u001b[0m    \u001b[0mline_group\u001b[0m\u001b[0;34m=\u001b[0m\u001b[0;32mNone\u001b[0m\u001b[0;34m,\u001b[0m\u001b[0;34m\u001b[0m\n",
      "\u001b[0;34m\u001b[0m    \u001b[0mcolor\u001b[0m\u001b[0;34m=\u001b[0m\u001b[0;32mNone\u001b[0m\u001b[0;34m,\u001b[0m\u001b[0;34m\u001b[0m\n",
      "\u001b[0;34m\u001b[0m    \u001b[0mline_dash\u001b[0m\u001b[0;34m=\u001b[0m\u001b[0;32mNone\u001b[0m\u001b[0;34m,\u001b[0m\u001b[0;34m\u001b[0m\n",
      "\u001b[0;34m\u001b[0m    \u001b[0msymbol\u001b[0m\u001b[0;34m=\u001b[0m\u001b[0;32mNone\u001b[0m\u001b[0;34m,\u001b[0m\u001b[0;34m\u001b[0m\n",
      "\u001b[0;34m\u001b[0m    \u001b[0mhover_name\u001b[0m\u001b[0;34m=\u001b[0m\u001b[0;32mNone\u001b[0m\u001b[0;34m,\u001b[0m\u001b[0;34m\u001b[0m\n",
      "\u001b[0;34m\u001b[0m    \u001b[0mhover_data\u001b[0m\u001b[0;34m=\u001b[0m\u001b[0;32mNone\u001b[0m\u001b[0;34m,\u001b[0m\u001b[0;34m\u001b[0m\n",
      "\u001b[0;34m\u001b[0m    \u001b[0mcustom_data\u001b[0m\u001b[0;34m=\u001b[0m\u001b[0;32mNone\u001b[0m\u001b[0;34m,\u001b[0m\u001b[0;34m\u001b[0m\n",
      "\u001b[0;34m\u001b[0m    \u001b[0mtext\u001b[0m\u001b[0;34m=\u001b[0m\u001b[0;32mNone\u001b[0m\u001b[0;34m,\u001b[0m\u001b[0;34m\u001b[0m\n",
      "\u001b[0;34m\u001b[0m    \u001b[0mfacet_row\u001b[0m\u001b[0;34m=\u001b[0m\u001b[0;32mNone\u001b[0m\u001b[0;34m,\u001b[0m\u001b[0;34m\u001b[0m\n",
      "\u001b[0;34m\u001b[0m    \u001b[0mfacet_col\u001b[0m\u001b[0;34m=\u001b[0m\u001b[0;32mNone\u001b[0m\u001b[0;34m,\u001b[0m\u001b[0;34m\u001b[0m\n",
      "\u001b[0;34m\u001b[0m    \u001b[0mfacet_col_wrap\u001b[0m\u001b[0;34m=\u001b[0m\u001b[0;36m0\u001b[0m\u001b[0;34m,\u001b[0m\u001b[0;34m\u001b[0m\n",
      "\u001b[0;34m\u001b[0m    \u001b[0mfacet_row_spacing\u001b[0m\u001b[0;34m=\u001b[0m\u001b[0;32mNone\u001b[0m\u001b[0;34m,\u001b[0m\u001b[0;34m\u001b[0m\n",
      "\u001b[0;34m\u001b[0m    \u001b[0mfacet_col_spacing\u001b[0m\u001b[0;34m=\u001b[0m\u001b[0;32mNone\u001b[0m\u001b[0;34m,\u001b[0m\u001b[0;34m\u001b[0m\n",
      "\u001b[0;34m\u001b[0m    \u001b[0merror_x\u001b[0m\u001b[0;34m=\u001b[0m\u001b[0;32mNone\u001b[0m\u001b[0;34m,\u001b[0m\u001b[0;34m\u001b[0m\n",
      "\u001b[0;34m\u001b[0m    \u001b[0merror_x_minus\u001b[0m\u001b[0;34m=\u001b[0m\u001b[0;32mNone\u001b[0m\u001b[0;34m,\u001b[0m\u001b[0;34m\u001b[0m\n",
      "\u001b[0;34m\u001b[0m    \u001b[0merror_y\u001b[0m\u001b[0;34m=\u001b[0m\u001b[0;32mNone\u001b[0m\u001b[0;34m,\u001b[0m\u001b[0;34m\u001b[0m\n",
      "\u001b[0;34m\u001b[0m    \u001b[0merror_y_minus\u001b[0m\u001b[0;34m=\u001b[0m\u001b[0;32mNone\u001b[0m\u001b[0;34m,\u001b[0m\u001b[0;34m\u001b[0m\n",
      "\u001b[0;34m\u001b[0m    \u001b[0manimation_frame\u001b[0m\u001b[0;34m=\u001b[0m\u001b[0;32mNone\u001b[0m\u001b[0;34m,\u001b[0m\u001b[0;34m\u001b[0m\n",
      "\u001b[0;34m\u001b[0m    \u001b[0manimation_group\u001b[0m\u001b[0;34m=\u001b[0m\u001b[0;32mNone\u001b[0m\u001b[0;34m,\u001b[0m\u001b[0;34m\u001b[0m\n",
      "\u001b[0;34m\u001b[0m    \u001b[0mcategory_orders\u001b[0m\u001b[0;34m=\u001b[0m\u001b[0;32mNone\u001b[0m\u001b[0;34m,\u001b[0m\u001b[0;34m\u001b[0m\n",
      "\u001b[0;34m\u001b[0m    \u001b[0mlabels\u001b[0m\u001b[0;34m=\u001b[0m\u001b[0;32mNone\u001b[0m\u001b[0;34m,\u001b[0m\u001b[0;34m\u001b[0m\n",
      "\u001b[0;34m\u001b[0m    \u001b[0morientation\u001b[0m\u001b[0;34m=\u001b[0m\u001b[0;32mNone\u001b[0m\u001b[0;34m,\u001b[0m\u001b[0;34m\u001b[0m\n",
      "\u001b[0;34m\u001b[0m    \u001b[0mcolor_discrete_sequence\u001b[0m\u001b[0;34m=\u001b[0m\u001b[0;32mNone\u001b[0m\u001b[0;34m,\u001b[0m\u001b[0;34m\u001b[0m\n",
      "\u001b[0;34m\u001b[0m    \u001b[0mcolor_discrete_map\u001b[0m\u001b[0;34m=\u001b[0m\u001b[0;32mNone\u001b[0m\u001b[0;34m,\u001b[0m\u001b[0;34m\u001b[0m\n",
      "\u001b[0;34m\u001b[0m    \u001b[0mline_dash_sequence\u001b[0m\u001b[0;34m=\u001b[0m\u001b[0;32mNone\u001b[0m\u001b[0;34m,\u001b[0m\u001b[0;34m\u001b[0m\n",
      "\u001b[0;34m\u001b[0m    \u001b[0mline_dash_map\u001b[0m\u001b[0;34m=\u001b[0m\u001b[0;32mNone\u001b[0m\u001b[0;34m,\u001b[0m\u001b[0;34m\u001b[0m\n",
      "\u001b[0;34m\u001b[0m    \u001b[0msymbol_sequence\u001b[0m\u001b[0;34m=\u001b[0m\u001b[0;32mNone\u001b[0m\u001b[0;34m,\u001b[0m\u001b[0;34m\u001b[0m\n",
      "\u001b[0;34m\u001b[0m    \u001b[0msymbol_map\u001b[0m\u001b[0;34m=\u001b[0m\u001b[0;32mNone\u001b[0m\u001b[0;34m,\u001b[0m\u001b[0;34m\u001b[0m\n",
      "\u001b[0;34m\u001b[0m    \u001b[0mmarkers\u001b[0m\u001b[0;34m=\u001b[0m\u001b[0;32mFalse\u001b[0m\u001b[0;34m,\u001b[0m\u001b[0;34m\u001b[0m\n",
      "\u001b[0;34m\u001b[0m    \u001b[0mlog_x\u001b[0m\u001b[0;34m=\u001b[0m\u001b[0;32mFalse\u001b[0m\u001b[0;34m,\u001b[0m\u001b[0;34m\u001b[0m\n",
      "\u001b[0;34m\u001b[0m    \u001b[0mlog_y\u001b[0m\u001b[0;34m=\u001b[0m\u001b[0;32mFalse\u001b[0m\u001b[0;34m,\u001b[0m\u001b[0;34m\u001b[0m\n",
      "\u001b[0;34m\u001b[0m    \u001b[0mrange_x\u001b[0m\u001b[0;34m=\u001b[0m\u001b[0;32mNone\u001b[0m\u001b[0;34m,\u001b[0m\u001b[0;34m\u001b[0m\n",
      "\u001b[0;34m\u001b[0m    \u001b[0mrange_y\u001b[0m\u001b[0;34m=\u001b[0m\u001b[0;32mNone\u001b[0m\u001b[0;34m,\u001b[0m\u001b[0;34m\u001b[0m\n",
      "\u001b[0;34m\u001b[0m    \u001b[0mline_shape\u001b[0m\u001b[0;34m=\u001b[0m\u001b[0;32mNone\u001b[0m\u001b[0;34m,\u001b[0m\u001b[0;34m\u001b[0m\n",
      "\u001b[0;34m\u001b[0m    \u001b[0mrender_mode\u001b[0m\u001b[0;34m=\u001b[0m\u001b[0;34m'auto'\u001b[0m\u001b[0;34m,\u001b[0m\u001b[0;34m\u001b[0m\n",
      "\u001b[0;34m\u001b[0m    \u001b[0mtitle\u001b[0m\u001b[0;34m=\u001b[0m\u001b[0;32mNone\u001b[0m\u001b[0;34m,\u001b[0m\u001b[0;34m\u001b[0m\n",
      "\u001b[0;34m\u001b[0m    \u001b[0mtemplate\u001b[0m\u001b[0;34m=\u001b[0m\u001b[0;32mNone\u001b[0m\u001b[0;34m,\u001b[0m\u001b[0;34m\u001b[0m\n",
      "\u001b[0;34m\u001b[0m    \u001b[0mwidth\u001b[0m\u001b[0;34m=\u001b[0m\u001b[0;32mNone\u001b[0m\u001b[0;34m,\u001b[0m\u001b[0;34m\u001b[0m\n",
      "\u001b[0;34m\u001b[0m    \u001b[0mheight\u001b[0m\u001b[0;34m=\u001b[0m\u001b[0;32mNone\u001b[0m\u001b[0;34m,\u001b[0m\u001b[0;34m\u001b[0m\n",
      "\u001b[0;34m\u001b[0m\u001b[0;34m)\u001b[0m \u001b[0;34m->\u001b[0m \u001b[0mplotly\u001b[0m\u001b[0;34m.\u001b[0m\u001b[0mgraph_objs\u001b[0m\u001b[0;34m.\u001b[0m\u001b[0m_figure\u001b[0m\u001b[0;34m.\u001b[0m\u001b[0mFigure\u001b[0m\u001b[0;34m\u001b[0m\u001b[0;34m\u001b[0m\u001b[0m\n",
      "\u001b[0;31mDocstring:\u001b[0m\n",
      "    In a 2D line plot, each row of `data_frame` is represented as vertex of\n",
      "    a polyline mark in 2D space.\n",
      "    \n",
      "Parameters\n",
      "----------\n",
      "data_frame: DataFrame or array-like or dict\n",
      "    This argument needs to be passed for column names (and not keyword\n",
      "    names) to be used. Array-like and dict are transformed internally to a\n",
      "    pandas DataFrame. Optional: if missing, a DataFrame gets constructed\n",
      "    under the hood using the other arguments.\n",
      "x: str or int or Series or array-like\n",
      "    Either a name of a column in `data_frame`, or a pandas Series or\n",
      "    array_like object. Values from this column or array_like are used to\n",
      "    position marks along the x axis in cartesian coordinates. Either `x` or\n",
      "    `y` can optionally be a list of column references or array_likes,  in\n",
      "    which case the data will be treated as if it were 'wide' rather than\n",
      "    'long'.\n",
      "y: str or int or Series or array-like\n",
      "    Either a name of a column in `data_frame`, or a pandas Series or\n",
      "    array_like object. Values from this column or array_like are used to\n",
      "    position marks along the y axis in cartesian coordinates. Either `x` or\n",
      "    `y` can optionally be a list of column references or array_likes,  in\n",
      "    which case the data will be treated as if it were 'wide' rather than\n",
      "    'long'.\n",
      "line_group: str or int or Series or array-like\n",
      "    Either a name of a column in `data_frame`, or a pandas Series or\n",
      "    array_like object. Values from this column or array_like are used to\n",
      "    group rows of `data_frame` into lines.\n",
      "color: str or int or Series or array-like\n",
      "    Either a name of a column in `data_frame`, or a pandas Series or\n",
      "    array_like object. Values from this column or array_like are used to\n",
      "    assign color to marks.\n",
      "line_dash: str or int or Series or array-like\n",
      "    Either a name of a column in `data_frame`, or a pandas Series or\n",
      "    array_like object. Values from this column or array_like are used to\n",
      "    assign dash-patterns to lines.\n",
      "symbol: str or int or Series or array-like\n",
      "    Either a name of a column in `data_frame`, or a pandas Series or\n",
      "    array_like object. Values from this column or array_like are used to\n",
      "    assign symbols to marks.\n",
      "hover_name: str or int or Series or array-like\n",
      "    Either a name of a column in `data_frame`, or a pandas Series or\n",
      "    array_like object. Values from this column or array_like appear in bold\n",
      "    in the hover tooltip.\n",
      "hover_data: str, or list of str or int, or Series or array-like, or dict\n",
      "    Either a name or list of names of columns in `data_frame`, or pandas\n",
      "    Series, or array_like objects or a dict with column names as keys, with\n",
      "    values True (for default formatting) False (in order to remove this\n",
      "    column from hover information), or a formatting string, for example\n",
      "    ':.3f' or '|%a' or list-like data to appear in the hover tooltip or\n",
      "    tuples with a bool or formatting string as first element, and list-like\n",
      "    data to appear in hover as second element Values from these columns\n",
      "    appear as extra data in the hover tooltip.\n",
      "custom_data: str, or list of str or int, or Series or array-like\n",
      "    Either name or list of names of columns in `data_frame`, or pandas\n",
      "    Series, or array_like objects Values from these columns are extra data,\n",
      "    to be used in widgets or Dash callbacks for example. This data is not\n",
      "    user-visible but is included in events emitted by the figure (lasso\n",
      "    selection etc.)\n",
      "text: str or int or Series or array-like\n",
      "    Either a name of a column in `data_frame`, or a pandas Series or\n",
      "    array_like object. Values from this column or array_like appear in the\n",
      "    figure as text labels.\n",
      "facet_row: str or int or Series or array-like\n",
      "    Either a name of a column in `data_frame`, or a pandas Series or\n",
      "    array_like object. Values from this column or array_like are used to\n",
      "    assign marks to facetted subplots in the vertical direction.\n",
      "facet_col: str or int or Series or array-like\n",
      "    Either a name of a column in `data_frame`, or a pandas Series or\n",
      "    array_like object. Values from this column or array_like are used to\n",
      "    assign marks to facetted subplots in the horizontal direction.\n",
      "facet_col_wrap: int\n",
      "    Maximum number of facet columns. Wraps the column variable at this\n",
      "    width, so that the column facets span multiple rows. Ignored if 0, and\n",
      "    forced to 0 if `facet_row` or a `marginal` is set.\n",
      "facet_row_spacing: float between 0 and 1\n",
      "    Spacing between facet rows, in paper units. Default is 0.03 or 0.07\n",
      "    when facet_col_wrap is used.\n",
      "facet_col_spacing: float between 0 and 1\n",
      "    Spacing between facet columns, in paper units Default is 0.02.\n",
      "error_x: str or int or Series or array-like\n",
      "    Either a name of a column in `data_frame`, or a pandas Series or\n",
      "    array_like object. Values from this column or array_like are used to\n",
      "    size x-axis error bars. If `error_x_minus` is `None`, error bars will\n",
      "    be symmetrical, otherwise `error_x` is used for the positive direction\n",
      "    only.\n",
      "error_x_minus: str or int or Series or array-like\n",
      "    Either a name of a column in `data_frame`, or a pandas Series or\n",
      "    array_like object. Values from this column or array_like are used to\n",
      "    size x-axis error bars in the negative direction. Ignored if `error_x`\n",
      "    is `None`.\n",
      "error_y: str or int or Series or array-like\n",
      "    Either a name of a column in `data_frame`, or a pandas Series or\n",
      "    array_like object. Values from this column or array_like are used to\n",
      "    size y-axis error bars. If `error_y_minus` is `None`, error bars will\n",
      "    be symmetrical, otherwise `error_y` is used for the positive direction\n",
      "    only.\n",
      "error_y_minus: str or int or Series or array-like\n",
      "    Either a name of a column in `data_frame`, or a pandas Series or\n",
      "    array_like object. Values from this column or array_like are used to\n",
      "    size y-axis error bars in the negative direction. Ignored if `error_y`\n",
      "    is `None`.\n",
      "animation_frame: str or int or Series or array-like\n",
      "    Either a name of a column in `data_frame`, or a pandas Series or\n",
      "    array_like object. Values from this column or array_like are used to\n",
      "    assign marks to animation frames.\n",
      "animation_group: str or int or Series or array-like\n",
      "    Either a name of a column in `data_frame`, or a pandas Series or\n",
      "    array_like object. Values from this column or array_like are used to\n",
      "    provide object-constancy across animation frames: rows with matching\n",
      "    `animation_group`s will be treated as if they describe the same object\n",
      "    in each frame.\n",
      "category_orders: dict with str keys and list of str values (default `{}`)\n",
      "    By default, in Python 3.6+, the order of categorical values in axes,\n",
      "    legends and facets depends on the order in which these values are first\n",
      "    encountered in `data_frame` (and no order is guaranteed by default in\n",
      "    Python below 3.6). This parameter is used to force a specific ordering\n",
      "    of values per column. The keys of this dict should correspond to column\n",
      "    names, and the values should be lists of strings corresponding to the\n",
      "    specific display order desired.\n",
      "labels: dict with str keys and str values (default `{}`)\n",
      "    By default, column names are used in the figure for axis titles, legend\n",
      "    entries and hovers. This parameter allows this to be overridden. The\n",
      "    keys of this dict should correspond to column names, and the values\n",
      "    should correspond to the desired label to be displayed.\n",
      "orientation: str, one of `'h'` for horizontal or `'v'` for vertical. \n",
      "    (default `'v'` if `x` and `y` are provided and both continous or both\n",
      "    categorical,  otherwise `'v'`(`'h'`) if `x`(`y`) is categorical and\n",
      "    `y`(`x`) is continuous,  otherwise `'v'`(`'h'`) if only `x`(`y`) is\n",
      "    provided)\n",
      "color_discrete_sequence: list of str\n",
      "    Strings should define valid CSS-colors. When `color` is set and the\n",
      "    values in the corresponding column are not numeric, values in that\n",
      "    column are assigned colors by cycling through `color_discrete_sequence`\n",
      "    in the order described in `category_orders`, unless the value of\n",
      "    `color` is a key in `color_discrete_map`. Various useful color\n",
      "    sequences are available in the `plotly.express.colors` submodules,\n",
      "    specifically `plotly.express.colors.qualitative`.\n",
      "color_discrete_map: dict with str keys and str values (default `{}`)\n",
      "    String values should define valid CSS-colors Used to override\n",
      "    `color_discrete_sequence` to assign a specific colors to marks\n",
      "    corresponding with specific values. Keys in `color_discrete_map` should\n",
      "    be values in the column denoted by `color`. Alternatively, if the\n",
      "    values of `color` are valid colors, the string `'identity'` may be\n",
      "    passed to cause them to be used directly.\n",
      "line_dash_sequence: list of str\n",
      "    Strings should define valid plotly.js dash-patterns. When `line_dash`\n",
      "    is set, values in that column are assigned dash-patterns by cycling\n",
      "    through `line_dash_sequence` in the order described in\n",
      "    `category_orders`, unless the value of `line_dash` is a key in\n",
      "    `line_dash_map`.\n",
      "line_dash_map: dict with str keys and str values (default `{}`)\n",
      "    Strings values define plotly.js dash-patterns. Used to override\n",
      "    `line_dash_sequences` to assign a specific dash-patterns to lines\n",
      "    corresponding with specific values. Keys in `line_dash_map` should be\n",
      "    values in the column denoted by `line_dash`. Alternatively, if the\n",
      "    values of `line_dash` are valid line-dash names, the string\n",
      "    `'identity'` may be passed to cause them to be used directly.\n",
      "symbol_sequence: list of str\n",
      "    Strings should define valid plotly.js symbols. When `symbol` is set,\n",
      "    values in that column are assigned symbols by cycling through\n",
      "    `symbol_sequence` in the order described in `category_orders`, unless\n",
      "    the value of `symbol` is a key in `symbol_map`.\n",
      "symbol_map: dict with str keys and str values (default `{}`)\n",
      "    String values should define plotly.js symbols Used to override\n",
      "    `symbol_sequence` to assign a specific symbols to marks corresponding\n",
      "    with specific values. Keys in `symbol_map` should be values in the\n",
      "    column denoted by `symbol`. Alternatively, if the values of `symbol`\n",
      "    are valid symbol names, the string `'identity'` may be passed to cause\n",
      "    them to be used directly.\n",
      "markers: boolean (default `False`)\n",
      "    If `True`, markers are shown on lines.\n",
      "log_x: boolean (default `False`)\n",
      "    If `True`, the x-axis is log-scaled in cartesian coordinates.\n",
      "log_y: boolean (default `False`)\n",
      "    If `True`, the y-axis is log-scaled in cartesian coordinates.\n",
      "range_x: list of two numbers\n",
      "    If provided, overrides auto-scaling on the x-axis in cartesian\n",
      "    coordinates.\n",
      "range_y: list of two numbers\n",
      "    If provided, overrides auto-scaling on the y-axis in cartesian\n",
      "    coordinates.\n",
      "line_shape: str (default `'linear'`)\n",
      "    One of `'linear'`, `'spline'`, `'hv'`, `'vh'`, `'hvh'`, or `'vhv'`\n",
      "render_mode: str\n",
      "    One of `'auto'`, `'svg'` or `'webgl'`, default `'auto'` Controls the\n",
      "    browser API used to draw marks. `'svg'` is appropriate for figures of\n",
      "    less than 1000 data points, and will allow for fully-vectorized output.\n",
      "    `'webgl'` is likely necessary for acceptable performance above 1000\n",
      "    points but rasterizes part of the output.  `'auto'` uses heuristics to\n",
      "    choose the mode.\n",
      "title: str\n",
      "    The figure title.\n",
      "template: str or dict or plotly.graph_objects.layout.Template instance\n",
      "    The figure template name (must be a key in plotly.io.templates) or\n",
      "    definition.\n",
      "width: int (default `None`)\n",
      "    The figure width in pixels.\n",
      "height: int (default `None`)\n",
      "    The figure height in pixels.\n",
      "\n",
      "Returns\n",
      "-------\n",
      "    plotly.graph_objects.Figure\n",
      "\u001b[0;31mFile:\u001b[0m      ~/anaconda3/envs/pds/lib/python3.10/site-packages/plotly/express/_chart_types.py\n",
      "\u001b[0;31mType:\u001b[0m      function"
     ]
    }
   ],
   "source": [
    "px.line?"
   ]
  },
  {
   "cell_type": "markdown",
   "id": "c1226f07",
   "metadata": {},
   "source": [
    "To see possible functions in a module, you can use tab to autocomplete. Check out what happens when you hit tab in the cell below."
   ]
  },
  {
   "cell_type": "code",
   "execution_count": 32,
   "id": "b8322a82",
   "metadata": {},
   "outputs": [
    {
     "data": {
      "application/vnd.plotly.v1+json": {
       "config": {
        "plotlyServerURL": "https://plot.ly"
       },
       "data": [
        {
         "hovertemplate": "x=%{x}<br>y=%{y}<extra></extra>",
         "legendgroup": "",
         "line": {
          "color": "#1F77B4",
          "dash": "solid"
         },
         "marker": {
          "symbol": "circle"
         },
         "mode": "lines",
         "name": "",
         "orientation": "v",
         "showlegend": false,
         "type": "scatter",
         "x": [
          -10,
          -9.183673469387756,
          -8.36734693877551,
          -7.551020408163265,
          -6.73469387755102,
          -5.918367346938775,
          -5.1020408163265305,
          -4.285714285714286,
          -3.4693877551020407,
          -2.6530612244897958,
          -1.8367346938775508,
          -1.020408163265305,
          -0.204081632653061,
          0.612244897959183,
          1.4285714285714288,
          2.2448979591836746,
          3.0612244897959187,
          3.8775510204081627,
          4.6938775510204085,
          5.510204081632654,
          6.326530612244898,
          7.142857142857142,
          7.95918367346939,
          8.775510204081634,
          9.591836734693878,
          10.408163265306122,
          11.224489795918366,
          12.040816326530614,
          12.857142857142858,
          13.673469387755102,
          14.48979591836735,
          15.306122448979593,
          16.122448979591837,
          16.93877551020408,
          17.755102040816325,
          18.571428571428573,
          19.387755102040817,
          20.20408163265306,
          21.02040816326531,
          21.836734693877553,
          22.653061224489797,
          23.46938775510204,
          24.285714285714285,
          25.10204081632653,
          25.91836734693878,
          26.734693877551024,
          27.551020408163268,
          28.367346938775512,
          29.183673469387756,
          30
         ],
         "xaxis": "x",
         "y": [
          223,
          197.5439400249896,
          173.420658059142,
          150.6301541024573,
          129.17242815493543,
          109.04748021657642,
          90.25531028738025,
          72.79591836734694,
          56.66930445647647,
          41.875468554768844,
          28.41441066222407,
          16.286130778842136,
          5.490628904623071,
          -3.9720949604331457,
          -12.102040816326532,
          -18.899208663057067,
          -24.36359850062474,
          -28.495210329029568,
          -31.294044148271553,
          -32.76009995835069,
          -32.89337775926697,
          -31.693877551020407,
          -29.161599333610987,
          -25.29654310703873,
          -20.098708871303614,
          -13.568096626405662,
          -5.704706372344873,
          3.4914618908788384,
          14.02040816326533,
          25.88213244481466,
          39.07663473552691,
          53.60391503540194,
          69.46397334443981,
          86.65680966264057,
          105.18242399000411,
          125.04081632653066,
          146.23198667221993,
          168.75593502707204,
          192.61266139108713,
          217.80216576426494,
          244.32444814660562,
          272.1795085381092,
          301.3673469387754,
          331.88796334860467,
          363.741357767597,
          396.92753019575196,
          431.4464806330697,
          467.29820907955025,
          504.4827155351937,
          543
         ],
         "yaxis": "y"
        },
        {
         "marker": {
          "color": "red"
         },
         "mode": "markers",
         "name": "Random Point",
         "type": "scatter",
         "x": [
          20
         ],
         "y": [
          163
         ]
        },
        {
         "marker": {
          "color": "red"
         },
         "mode": "markers",
         "name": "Random Point",
         "type": "scatter",
         "x": [
          2
         ],
         "y": [
          13
         ]
        }
       ],
       "layout": {
        "legend": {
         "tracegroupgap": 0
        },
        "margin": {
         "t": 60
        },
        "template": {
         "data": {
          "bar": [
           {
            "error_x": {
             "color": "rgb(36,36,36)"
            },
            "error_y": {
             "color": "rgb(36,36,36)"
            },
            "marker": {
             "line": {
              "color": "white",
              "width": 0.5
             },
             "pattern": {
              "fillmode": "overlay",
              "size": 10,
              "solidity": 0.2
             }
            },
            "type": "bar"
           }
          ],
          "barpolar": [
           {
            "marker": {
             "line": {
              "color": "white",
              "width": 0.5
             },
             "pattern": {
              "fillmode": "overlay",
              "size": 10,
              "solidity": 0.2
             }
            },
            "type": "barpolar"
           }
          ],
          "carpet": [
           {
            "aaxis": {
             "endlinecolor": "rgb(36,36,36)",
             "gridcolor": "white",
             "linecolor": "white",
             "minorgridcolor": "white",
             "startlinecolor": "rgb(36,36,36)"
            },
            "baxis": {
             "endlinecolor": "rgb(36,36,36)",
             "gridcolor": "white",
             "linecolor": "white",
             "minorgridcolor": "white",
             "startlinecolor": "rgb(36,36,36)"
            },
            "type": "carpet"
           }
          ],
          "choropleth": [
           {
            "colorbar": {
             "outlinewidth": 1,
             "tickcolor": "rgb(36,36,36)",
             "ticks": "outside"
            },
            "type": "choropleth"
           }
          ],
          "contour": [
           {
            "colorbar": {
             "outlinewidth": 1,
             "tickcolor": "rgb(36,36,36)",
             "ticks": "outside"
            },
            "colorscale": [
             [
              0,
              "#440154"
             ],
             [
              0.1111111111111111,
              "#482878"
             ],
             [
              0.2222222222222222,
              "#3e4989"
             ],
             [
              0.3333333333333333,
              "#31688e"
             ],
             [
              0.4444444444444444,
              "#26828e"
             ],
             [
              0.5555555555555556,
              "#1f9e89"
             ],
             [
              0.6666666666666666,
              "#35b779"
             ],
             [
              0.7777777777777778,
              "#6ece58"
             ],
             [
              0.8888888888888888,
              "#b5de2b"
             ],
             [
              1,
              "#fde725"
             ]
            ],
            "type": "contour"
           }
          ],
          "contourcarpet": [
           {
            "colorbar": {
             "outlinewidth": 1,
             "tickcolor": "rgb(36,36,36)",
             "ticks": "outside"
            },
            "type": "contourcarpet"
           }
          ],
          "heatmap": [
           {
            "colorbar": {
             "outlinewidth": 1,
             "tickcolor": "rgb(36,36,36)",
             "ticks": "outside"
            },
            "colorscale": [
             [
              0,
              "#440154"
             ],
             [
              0.1111111111111111,
              "#482878"
             ],
             [
              0.2222222222222222,
              "#3e4989"
             ],
             [
              0.3333333333333333,
              "#31688e"
             ],
             [
              0.4444444444444444,
              "#26828e"
             ],
             [
              0.5555555555555556,
              "#1f9e89"
             ],
             [
              0.6666666666666666,
              "#35b779"
             ],
             [
              0.7777777777777778,
              "#6ece58"
             ],
             [
              0.8888888888888888,
              "#b5de2b"
             ],
             [
              1,
              "#fde725"
             ]
            ],
            "type": "heatmap"
           }
          ],
          "heatmapgl": [
           {
            "colorbar": {
             "outlinewidth": 1,
             "tickcolor": "rgb(36,36,36)",
             "ticks": "outside"
            },
            "colorscale": [
             [
              0,
              "#440154"
             ],
             [
              0.1111111111111111,
              "#482878"
             ],
             [
              0.2222222222222222,
              "#3e4989"
             ],
             [
              0.3333333333333333,
              "#31688e"
             ],
             [
              0.4444444444444444,
              "#26828e"
             ],
             [
              0.5555555555555556,
              "#1f9e89"
             ],
             [
              0.6666666666666666,
              "#35b779"
             ],
             [
              0.7777777777777778,
              "#6ece58"
             ],
             [
              0.8888888888888888,
              "#b5de2b"
             ],
             [
              1,
              "#fde725"
             ]
            ],
            "type": "heatmapgl"
           }
          ],
          "histogram": [
           {
            "marker": {
             "line": {
              "color": "white",
              "width": 0.6
             }
            },
            "type": "histogram"
           }
          ],
          "histogram2d": [
           {
            "colorbar": {
             "outlinewidth": 1,
             "tickcolor": "rgb(36,36,36)",
             "ticks": "outside"
            },
            "colorscale": [
             [
              0,
              "#440154"
             ],
             [
              0.1111111111111111,
              "#482878"
             ],
             [
              0.2222222222222222,
              "#3e4989"
             ],
             [
              0.3333333333333333,
              "#31688e"
             ],
             [
              0.4444444444444444,
              "#26828e"
             ],
             [
              0.5555555555555556,
              "#1f9e89"
             ],
             [
              0.6666666666666666,
              "#35b779"
             ],
             [
              0.7777777777777778,
              "#6ece58"
             ],
             [
              0.8888888888888888,
              "#b5de2b"
             ],
             [
              1,
              "#fde725"
             ]
            ],
            "type": "histogram2d"
           }
          ],
          "histogram2dcontour": [
           {
            "colorbar": {
             "outlinewidth": 1,
             "tickcolor": "rgb(36,36,36)",
             "ticks": "outside"
            },
            "colorscale": [
             [
              0,
              "#440154"
             ],
             [
              0.1111111111111111,
              "#482878"
             ],
             [
              0.2222222222222222,
              "#3e4989"
             ],
             [
              0.3333333333333333,
              "#31688e"
             ],
             [
              0.4444444444444444,
              "#26828e"
             ],
             [
              0.5555555555555556,
              "#1f9e89"
             ],
             [
              0.6666666666666666,
              "#35b779"
             ],
             [
              0.7777777777777778,
              "#6ece58"
             ],
             [
              0.8888888888888888,
              "#b5de2b"
             ],
             [
              1,
              "#fde725"
             ]
            ],
            "type": "histogram2dcontour"
           }
          ],
          "mesh3d": [
           {
            "colorbar": {
             "outlinewidth": 1,
             "tickcolor": "rgb(36,36,36)",
             "ticks": "outside"
            },
            "type": "mesh3d"
           }
          ],
          "parcoords": [
           {
            "line": {
             "colorbar": {
              "outlinewidth": 1,
              "tickcolor": "rgb(36,36,36)",
              "ticks": "outside"
             }
            },
            "type": "parcoords"
           }
          ],
          "pie": [
           {
            "automargin": true,
            "type": "pie"
           }
          ],
          "scatter": [
           {
            "fillpattern": {
             "fillmode": "overlay",
             "size": 10,
             "solidity": 0.2
            },
            "type": "scatter"
           }
          ],
          "scatter3d": [
           {
            "line": {
             "colorbar": {
              "outlinewidth": 1,
              "tickcolor": "rgb(36,36,36)",
              "ticks": "outside"
             }
            },
            "marker": {
             "colorbar": {
              "outlinewidth": 1,
              "tickcolor": "rgb(36,36,36)",
              "ticks": "outside"
             }
            },
            "type": "scatter3d"
           }
          ],
          "scattercarpet": [
           {
            "marker": {
             "colorbar": {
              "outlinewidth": 1,
              "tickcolor": "rgb(36,36,36)",
              "ticks": "outside"
             }
            },
            "type": "scattercarpet"
           }
          ],
          "scattergeo": [
           {
            "marker": {
             "colorbar": {
              "outlinewidth": 1,
              "tickcolor": "rgb(36,36,36)",
              "ticks": "outside"
             }
            },
            "type": "scattergeo"
           }
          ],
          "scattergl": [
           {
            "marker": {
             "colorbar": {
              "outlinewidth": 1,
              "tickcolor": "rgb(36,36,36)",
              "ticks": "outside"
             }
            },
            "type": "scattergl"
           }
          ],
          "scattermapbox": [
           {
            "marker": {
             "colorbar": {
              "outlinewidth": 1,
              "tickcolor": "rgb(36,36,36)",
              "ticks": "outside"
             }
            },
            "type": "scattermapbox"
           }
          ],
          "scatterpolar": [
           {
            "marker": {
             "colorbar": {
              "outlinewidth": 1,
              "tickcolor": "rgb(36,36,36)",
              "ticks": "outside"
             }
            },
            "type": "scatterpolar"
           }
          ],
          "scatterpolargl": [
           {
            "marker": {
             "colorbar": {
              "outlinewidth": 1,
              "tickcolor": "rgb(36,36,36)",
              "ticks": "outside"
             }
            },
            "type": "scatterpolargl"
           }
          ],
          "scatterternary": [
           {
            "marker": {
             "colorbar": {
              "outlinewidth": 1,
              "tickcolor": "rgb(36,36,36)",
              "ticks": "outside"
             }
            },
            "type": "scatterternary"
           }
          ],
          "surface": [
           {
            "colorbar": {
             "outlinewidth": 1,
             "tickcolor": "rgb(36,36,36)",
             "ticks": "outside"
            },
            "colorscale": [
             [
              0,
              "#440154"
             ],
             [
              0.1111111111111111,
              "#482878"
             ],
             [
              0.2222222222222222,
              "#3e4989"
             ],
             [
              0.3333333333333333,
              "#31688e"
             ],
             [
              0.4444444444444444,
              "#26828e"
             ],
             [
              0.5555555555555556,
              "#1f9e89"
             ],
             [
              0.6666666666666666,
              "#35b779"
             ],
             [
              0.7777777777777778,
              "#6ece58"
             ],
             [
              0.8888888888888888,
              "#b5de2b"
             ],
             [
              1,
              "#fde725"
             ]
            ],
            "type": "surface"
           }
          ],
          "table": [
           {
            "cells": {
             "fill": {
              "color": "rgb(237,237,237)"
             },
             "line": {
              "color": "white"
             }
            },
            "header": {
             "fill": {
              "color": "rgb(217,217,217)"
             },
             "line": {
              "color": "white"
             }
            },
            "type": "table"
           }
          ]
         },
         "layout": {
          "annotationdefaults": {
           "arrowhead": 0,
           "arrowwidth": 1
          },
          "autotypenumbers": "strict",
          "coloraxis": {
           "colorbar": {
            "outlinewidth": 1,
            "tickcolor": "rgb(36,36,36)",
            "ticks": "outside"
           }
          },
          "colorscale": {
           "diverging": [
            [
             0,
             "rgb(103,0,31)"
            ],
            [
             0.1,
             "rgb(178,24,43)"
            ],
            [
             0.2,
             "rgb(214,96,77)"
            ],
            [
             0.3,
             "rgb(244,165,130)"
            ],
            [
             0.4,
             "rgb(253,219,199)"
            ],
            [
             0.5,
             "rgb(247,247,247)"
            ],
            [
             0.6,
             "rgb(209,229,240)"
            ],
            [
             0.7,
             "rgb(146,197,222)"
            ],
            [
             0.8,
             "rgb(67,147,195)"
            ],
            [
             0.9,
             "rgb(33,102,172)"
            ],
            [
             1,
             "rgb(5,48,97)"
            ]
           ],
           "sequential": [
            [
             0,
             "#440154"
            ],
            [
             0.1111111111111111,
             "#482878"
            ],
            [
             0.2222222222222222,
             "#3e4989"
            ],
            [
             0.3333333333333333,
             "#31688e"
            ],
            [
             0.4444444444444444,
             "#26828e"
            ],
            [
             0.5555555555555556,
             "#1f9e89"
            ],
            [
             0.6666666666666666,
             "#35b779"
            ],
            [
             0.7777777777777778,
             "#6ece58"
            ],
            [
             0.8888888888888888,
             "#b5de2b"
            ],
            [
             1,
             "#fde725"
            ]
           ],
           "sequentialminus": [
            [
             0,
             "#440154"
            ],
            [
             0.1111111111111111,
             "#482878"
            ],
            [
             0.2222222222222222,
             "#3e4989"
            ],
            [
             0.3333333333333333,
             "#31688e"
            ],
            [
             0.4444444444444444,
             "#26828e"
            ],
            [
             0.5555555555555556,
             "#1f9e89"
            ],
            [
             0.6666666666666666,
             "#35b779"
            ],
            [
             0.7777777777777778,
             "#6ece58"
            ],
            [
             0.8888888888888888,
             "#b5de2b"
            ],
            [
             1,
             "#fde725"
            ]
           ]
          },
          "colorway": [
           "#1F77B4",
           "#FF7F0E",
           "#2CA02C",
           "#D62728",
           "#9467BD",
           "#8C564B",
           "#E377C2",
           "#7F7F7F",
           "#BCBD22",
           "#17BECF"
          ],
          "font": {
           "color": "rgb(36,36,36)"
          },
          "geo": {
           "bgcolor": "white",
           "lakecolor": "white",
           "landcolor": "white",
           "showlakes": true,
           "showland": true,
           "subunitcolor": "white"
          },
          "hoverlabel": {
           "align": "left"
          },
          "hovermode": "closest",
          "mapbox": {
           "style": "light"
          },
          "paper_bgcolor": "white",
          "plot_bgcolor": "white",
          "polar": {
           "angularaxis": {
            "gridcolor": "rgb(232,232,232)",
            "linecolor": "rgb(36,36,36)",
            "showgrid": false,
            "showline": true,
            "ticks": "outside"
           },
           "bgcolor": "white",
           "radialaxis": {
            "gridcolor": "rgb(232,232,232)",
            "linecolor": "rgb(36,36,36)",
            "showgrid": false,
            "showline": true,
            "ticks": "outside"
           }
          },
          "scene": {
           "xaxis": {
            "backgroundcolor": "white",
            "gridcolor": "rgb(232,232,232)",
            "gridwidth": 2,
            "linecolor": "rgb(36,36,36)",
            "showbackground": true,
            "showgrid": false,
            "showline": true,
            "ticks": "outside",
            "zeroline": false,
            "zerolinecolor": "rgb(36,36,36)"
           },
           "yaxis": {
            "backgroundcolor": "white",
            "gridcolor": "rgb(232,232,232)",
            "gridwidth": 2,
            "linecolor": "rgb(36,36,36)",
            "showbackground": true,
            "showgrid": false,
            "showline": true,
            "ticks": "outside",
            "zeroline": false,
            "zerolinecolor": "rgb(36,36,36)"
           },
           "zaxis": {
            "backgroundcolor": "white",
            "gridcolor": "rgb(232,232,232)",
            "gridwidth": 2,
            "linecolor": "rgb(36,36,36)",
            "showbackground": true,
            "showgrid": false,
            "showline": true,
            "ticks": "outside",
            "zeroline": false,
            "zerolinecolor": "rgb(36,36,36)"
           }
          },
          "shapedefaults": {
           "fillcolor": "black",
           "line": {
            "width": 0
           },
           "opacity": 0.3
          },
          "ternary": {
           "aaxis": {
            "gridcolor": "rgb(232,232,232)",
            "linecolor": "rgb(36,36,36)",
            "showgrid": false,
            "showline": true,
            "ticks": "outside"
           },
           "baxis": {
            "gridcolor": "rgb(232,232,232)",
            "linecolor": "rgb(36,36,36)",
            "showgrid": false,
            "showline": true,
            "ticks": "outside"
           },
           "bgcolor": "white",
           "caxis": {
            "gridcolor": "rgb(232,232,232)",
            "linecolor": "rgb(36,36,36)",
            "showgrid": false,
            "showline": true,
            "ticks": "outside"
           }
          },
          "title": {
           "x": 0.05
          },
          "xaxis": {
           "automargin": true,
           "gridcolor": "rgb(232,232,232)",
           "linecolor": "rgb(36,36,36)",
           "showgrid": false,
           "showline": true,
           "ticks": "outside",
           "title": {
            "standoff": 15
           },
           "zeroline": false,
           "zerolinecolor": "rgb(36,36,36)"
          },
          "yaxis": {
           "automargin": true,
           "gridcolor": "rgb(232,232,232)",
           "linecolor": "rgb(36,36,36)",
           "showgrid": false,
           "showline": true,
           "ticks": "outside",
           "title": {
            "standoff": 15
           },
           "zeroline": false,
           "zerolinecolor": "rgb(36,36,36)"
          }
         }
        },
        "width": 600,
        "xaxis": {
         "anchor": "y",
         "domain": [
          0,
          1
         ],
         "title": {
          "text": "x"
         }
        },
        "yaxis": {
         "anchor": "x",
         "domain": [
          0,
          1
         ],
         "title": {
          "text": "y"
         }
        }
       }
      }
     },
     "metadata": {},
     "output_type": "display_data"
    }
   ],
   "source": [
    "px.line_3d(x=xs, y=ys, width=600, template='simple_white')\n",
    "fig.add_trace(go.Scatter(x=[2], y=[13], mode='markers', marker=dict(color='red'), name='Random Point'))"
   ]
  },
  {
   "cell_type": "markdown",
   "id": "227f9fad",
   "metadata": {},
   "source": [
    "And once you've picked a function, and you're exploring the various keyword arguments it supports, you can use tab to get suggestions as well:\n",
    "\n",
    "<center><img src=\"imgs/tab.png\" width=200></center>\n",
    "\n",
    "With that said, it's time for your job."
   ]
  },
  {
   "cell_type": "markdown",
   "id": "c575f061",
   "metadata": {},
   "source": [
    "### Question 10: Recreation <div style=\"display:inline-block; vertical-align: middle; padding:7px 7px; font-size:10px; font-weight:light; color:white; background-color:#e84c4a; border-radius:7px; text-align:left;\">6 Points</div>\n",
    "\n",
    "Below, assign `polyfig` to a `plotly` Figure object, corresponding to the graph of the following polynomial:\n",
    "\n",
    "$$g(x) = 2x^3 - 15x^2 + 36x - 5$$\n",
    "\n",
    "You can choose the colors, theme, etc. of your graph yourself. However, your graph must have:\n",
    "\n",
    "- A title of your choosing.\n",
    "- A plot of $g(x)$.\n",
    "- An $x$-axis range of 1 to 4.\n",
    "- A width of 800 and a height of 600.\n",
    "- On top of the plot of $g(x)$, two **points**: one at the local maximum of $g(x)$ and one at the local minimum of $g(x)$. **You'll need to do some math to figure out where these are!** These should appear in the legend as `'Local Maximum'` and `'Local Minimum'`, respectively, and should be colored with different colors.\n",
    "- A legend whose title says `'Legend'`.\n",
    "\n",
    "You can get pretty far by copying the code we gave a few cells above to create $f(x)$, but you'll need to do some research to figure out how to achieve the goals we set out.\n",
    "\n",
    "Yes, this question is also autograded! Unlike other questions, this question has no hidden tests, so you'll be able to verify if your graph meets our requirements before you submit."
   ]
  },
  {
   "cell_type": "code",
   "execution_count": 33,
   "id": "1d0073e3",
   "metadata": {
    "tags": []
   },
   "outputs": [
    {
     "data": {
      "application/vnd.plotly.v1+json": {
       "config": {
        "plotlyServerURL": "https://plot.ly"
       },
       "data": [
        {
         "hovertemplate": "x=%{x}<br>y=%{y}<extra></extra>",
         "legendgroup": "",
         "line": {
          "color": "#1F77B4",
          "dash": "solid"
         },
         "marker": {
          "symbol": "circle"
         },
         "mode": "lines",
         "name": "",
         "orientation": "v",
         "showlegend": false,
         "type": "scatter",
         "x": [
          1,
          1.0612244897959184,
          1.1224489795918366,
          1.183673469387755,
          1.2448979591836735,
          1.306122448979592,
          1.3673469387755102,
          1.4285714285714286,
          1.489795918367347,
          1.5510204081632653,
          1.6122448979591837,
          1.6734693877551021,
          1.7346938775510203,
          1.7959183673469388,
          1.8571428571428572,
          1.9183673469387754,
          1.9795918367346939,
          2.0408163265306123,
          2.1020408163265305,
          2.163265306122449,
          2.2244897959183674,
          2.2857142857142856,
          2.3469387755102042,
          2.4081632653061225,
          2.4693877551020407,
          2.5306122448979593,
          2.5918367346938775,
          2.6530612244897958,
          2.7142857142857144,
          2.7755102040816326,
          2.836734693877551,
          2.8979591836734695,
          2.9591836734693877,
          3.020408163265306,
          3.0816326530612246,
          3.142857142857143,
          3.204081632653061,
          3.2653061224489797,
          3.326530612244898,
          3.387755102040816,
          3.4489795918367347,
          3.510204081632653,
          3.571428571428571,
          3.63265306122449,
          3.693877551020408,
          3.7551020408163263,
          3.816326530612245,
          3.877551020408163,
          3.9387755102040813,
          4
         ],
         "xaxis": "x",
         "y": [
          18,
          18.701416926620713,
          19.338115921087304,
          19.912850937959526,
          20.428375931797124,
          20.887444857159856,
          21.29281166860747,
          21.647230320699713,
          21.953454767996327,
          22.214238965057074,
          22.432336866441695,
          22.610502426709957,
          22.751489600421586,
          22.858052342136347,
          22.932944606413997,
          22.978920347814267,
          22.998733520896906,
          22.99513808022168,
          22.97088798034831,
          22.928737175836588,
          22.871439621246253,
          22.801749271137027,
          22.72242008006866,
          22.636206002600957,
          22.545860993293616,
          22.4541390067064,
          22.363793997399043,
          22.277579919931327,
          22.198250728862973,
          22.12856037875376,
          22.071262824163398,
          22.029112019651677,
          22.004861919778335,
          22.00126647910308,
          22.021079652185733,
          22.067055393586003,
          22.14194765786364,
          22.248510399578393,
          22.389497573290072,
          22.5676631335583,
          22.785761034942936,
          23.04654523200368,
          23.35276967930028,
          23.70718833139253,
          24.11255514284015,
          24.571624068202865,
          25.087149062040467,
          25.661884078912706,
          26.29858307337929,
          27
         ],
         "yaxis": "y"
        },
        {
         "marker": {
          "color": "red"
         },
         "mode": "markers",
         "name": "Local Maximum",
         "type": "scatter",
         "x": [
          2
         ],
         "y": [
          23
         ]
        },
        {
         "marker": {
          "color": "green"
         },
         "mode": "markers",
         "name": "Local Minimum",
         "type": "scatter",
         "x": [
          3
         ],
         "y": [
          22
         ]
        }
       ],
       "layout": {
        "height": 600,
        "legend": {
         "title": {
          "text": "Legend"
         },
         "tracegroupgap": 0
        },
        "template": {
         "data": {
          "bar": [
           {
            "error_x": {
             "color": "rgb(36,36,36)"
            },
            "error_y": {
             "color": "rgb(36,36,36)"
            },
            "marker": {
             "line": {
              "color": "white",
              "width": 0.5
             },
             "pattern": {
              "fillmode": "overlay",
              "size": 10,
              "solidity": 0.2
             }
            },
            "type": "bar"
           }
          ],
          "barpolar": [
           {
            "marker": {
             "line": {
              "color": "white",
              "width": 0.5
             },
             "pattern": {
              "fillmode": "overlay",
              "size": 10,
              "solidity": 0.2
             }
            },
            "type": "barpolar"
           }
          ],
          "carpet": [
           {
            "aaxis": {
             "endlinecolor": "rgb(36,36,36)",
             "gridcolor": "white",
             "linecolor": "white",
             "minorgridcolor": "white",
             "startlinecolor": "rgb(36,36,36)"
            },
            "baxis": {
             "endlinecolor": "rgb(36,36,36)",
             "gridcolor": "white",
             "linecolor": "white",
             "minorgridcolor": "white",
             "startlinecolor": "rgb(36,36,36)"
            },
            "type": "carpet"
           }
          ],
          "choropleth": [
           {
            "colorbar": {
             "outlinewidth": 1,
             "tickcolor": "rgb(36,36,36)",
             "ticks": "outside"
            },
            "type": "choropleth"
           }
          ],
          "contour": [
           {
            "colorbar": {
             "outlinewidth": 1,
             "tickcolor": "rgb(36,36,36)",
             "ticks": "outside"
            },
            "colorscale": [
             [
              0,
              "#440154"
             ],
             [
              0.1111111111111111,
              "#482878"
             ],
             [
              0.2222222222222222,
              "#3e4989"
             ],
             [
              0.3333333333333333,
              "#31688e"
             ],
             [
              0.4444444444444444,
              "#26828e"
             ],
             [
              0.5555555555555556,
              "#1f9e89"
             ],
             [
              0.6666666666666666,
              "#35b779"
             ],
             [
              0.7777777777777778,
              "#6ece58"
             ],
             [
              0.8888888888888888,
              "#b5de2b"
             ],
             [
              1,
              "#fde725"
             ]
            ],
            "type": "contour"
           }
          ],
          "contourcarpet": [
           {
            "colorbar": {
             "outlinewidth": 1,
             "tickcolor": "rgb(36,36,36)",
             "ticks": "outside"
            },
            "type": "contourcarpet"
           }
          ],
          "heatmap": [
           {
            "colorbar": {
             "outlinewidth": 1,
             "tickcolor": "rgb(36,36,36)",
             "ticks": "outside"
            },
            "colorscale": [
             [
              0,
              "#440154"
             ],
             [
              0.1111111111111111,
              "#482878"
             ],
             [
              0.2222222222222222,
              "#3e4989"
             ],
             [
              0.3333333333333333,
              "#31688e"
             ],
             [
              0.4444444444444444,
              "#26828e"
             ],
             [
              0.5555555555555556,
              "#1f9e89"
             ],
             [
              0.6666666666666666,
              "#35b779"
             ],
             [
              0.7777777777777778,
              "#6ece58"
             ],
             [
              0.8888888888888888,
              "#b5de2b"
             ],
             [
              1,
              "#fde725"
             ]
            ],
            "type": "heatmap"
           }
          ],
          "heatmapgl": [
           {
            "colorbar": {
             "outlinewidth": 1,
             "tickcolor": "rgb(36,36,36)",
             "ticks": "outside"
            },
            "colorscale": [
             [
              0,
              "#440154"
             ],
             [
              0.1111111111111111,
              "#482878"
             ],
             [
              0.2222222222222222,
              "#3e4989"
             ],
             [
              0.3333333333333333,
              "#31688e"
             ],
             [
              0.4444444444444444,
              "#26828e"
             ],
             [
              0.5555555555555556,
              "#1f9e89"
             ],
             [
              0.6666666666666666,
              "#35b779"
             ],
             [
              0.7777777777777778,
              "#6ece58"
             ],
             [
              0.8888888888888888,
              "#b5de2b"
             ],
             [
              1,
              "#fde725"
             ]
            ],
            "type": "heatmapgl"
           }
          ],
          "histogram": [
           {
            "marker": {
             "line": {
              "color": "white",
              "width": 0.6
             }
            },
            "type": "histogram"
           }
          ],
          "histogram2d": [
           {
            "colorbar": {
             "outlinewidth": 1,
             "tickcolor": "rgb(36,36,36)",
             "ticks": "outside"
            },
            "colorscale": [
             [
              0,
              "#440154"
             ],
             [
              0.1111111111111111,
              "#482878"
             ],
             [
              0.2222222222222222,
              "#3e4989"
             ],
             [
              0.3333333333333333,
              "#31688e"
             ],
             [
              0.4444444444444444,
              "#26828e"
             ],
             [
              0.5555555555555556,
              "#1f9e89"
             ],
             [
              0.6666666666666666,
              "#35b779"
             ],
             [
              0.7777777777777778,
              "#6ece58"
             ],
             [
              0.8888888888888888,
              "#b5de2b"
             ],
             [
              1,
              "#fde725"
             ]
            ],
            "type": "histogram2d"
           }
          ],
          "histogram2dcontour": [
           {
            "colorbar": {
             "outlinewidth": 1,
             "tickcolor": "rgb(36,36,36)",
             "ticks": "outside"
            },
            "colorscale": [
             [
              0,
              "#440154"
             ],
             [
              0.1111111111111111,
              "#482878"
             ],
             [
              0.2222222222222222,
              "#3e4989"
             ],
             [
              0.3333333333333333,
              "#31688e"
             ],
             [
              0.4444444444444444,
              "#26828e"
             ],
             [
              0.5555555555555556,
              "#1f9e89"
             ],
             [
              0.6666666666666666,
              "#35b779"
             ],
             [
              0.7777777777777778,
              "#6ece58"
             ],
             [
              0.8888888888888888,
              "#b5de2b"
             ],
             [
              1,
              "#fde725"
             ]
            ],
            "type": "histogram2dcontour"
           }
          ],
          "mesh3d": [
           {
            "colorbar": {
             "outlinewidth": 1,
             "tickcolor": "rgb(36,36,36)",
             "ticks": "outside"
            },
            "type": "mesh3d"
           }
          ],
          "parcoords": [
           {
            "line": {
             "colorbar": {
              "outlinewidth": 1,
              "tickcolor": "rgb(36,36,36)",
              "ticks": "outside"
             }
            },
            "type": "parcoords"
           }
          ],
          "pie": [
           {
            "automargin": true,
            "type": "pie"
           }
          ],
          "scatter": [
           {
            "fillpattern": {
             "fillmode": "overlay",
             "size": 10,
             "solidity": 0.2
            },
            "type": "scatter"
           }
          ],
          "scatter3d": [
           {
            "line": {
             "colorbar": {
              "outlinewidth": 1,
              "tickcolor": "rgb(36,36,36)",
              "ticks": "outside"
             }
            },
            "marker": {
             "colorbar": {
              "outlinewidth": 1,
              "tickcolor": "rgb(36,36,36)",
              "ticks": "outside"
             }
            },
            "type": "scatter3d"
           }
          ],
          "scattercarpet": [
           {
            "marker": {
             "colorbar": {
              "outlinewidth": 1,
              "tickcolor": "rgb(36,36,36)",
              "ticks": "outside"
             }
            },
            "type": "scattercarpet"
           }
          ],
          "scattergeo": [
           {
            "marker": {
             "colorbar": {
              "outlinewidth": 1,
              "tickcolor": "rgb(36,36,36)",
              "ticks": "outside"
             }
            },
            "type": "scattergeo"
           }
          ],
          "scattergl": [
           {
            "marker": {
             "colorbar": {
              "outlinewidth": 1,
              "tickcolor": "rgb(36,36,36)",
              "ticks": "outside"
             }
            },
            "type": "scattergl"
           }
          ],
          "scattermapbox": [
           {
            "marker": {
             "colorbar": {
              "outlinewidth": 1,
              "tickcolor": "rgb(36,36,36)",
              "ticks": "outside"
             }
            },
            "type": "scattermapbox"
           }
          ],
          "scatterpolar": [
           {
            "marker": {
             "colorbar": {
              "outlinewidth": 1,
              "tickcolor": "rgb(36,36,36)",
              "ticks": "outside"
             }
            },
            "type": "scatterpolar"
           }
          ],
          "scatterpolargl": [
           {
            "marker": {
             "colorbar": {
              "outlinewidth": 1,
              "tickcolor": "rgb(36,36,36)",
              "ticks": "outside"
             }
            },
            "type": "scatterpolargl"
           }
          ],
          "scatterternary": [
           {
            "marker": {
             "colorbar": {
              "outlinewidth": 1,
              "tickcolor": "rgb(36,36,36)",
              "ticks": "outside"
             }
            },
            "type": "scatterternary"
           }
          ],
          "surface": [
           {
            "colorbar": {
             "outlinewidth": 1,
             "tickcolor": "rgb(36,36,36)",
             "ticks": "outside"
            },
            "colorscale": [
             [
              0,
              "#440154"
             ],
             [
              0.1111111111111111,
              "#482878"
             ],
             [
              0.2222222222222222,
              "#3e4989"
             ],
             [
              0.3333333333333333,
              "#31688e"
             ],
             [
              0.4444444444444444,
              "#26828e"
             ],
             [
              0.5555555555555556,
              "#1f9e89"
             ],
             [
              0.6666666666666666,
              "#35b779"
             ],
             [
              0.7777777777777778,
              "#6ece58"
             ],
             [
              0.8888888888888888,
              "#b5de2b"
             ],
             [
              1,
              "#fde725"
             ]
            ],
            "type": "surface"
           }
          ],
          "table": [
           {
            "cells": {
             "fill": {
              "color": "rgb(237,237,237)"
             },
             "line": {
              "color": "white"
             }
            },
            "header": {
             "fill": {
              "color": "rgb(217,217,217)"
             },
             "line": {
              "color": "white"
             }
            },
            "type": "table"
           }
          ]
         },
         "layout": {
          "annotationdefaults": {
           "arrowhead": 0,
           "arrowwidth": 1
          },
          "autotypenumbers": "strict",
          "coloraxis": {
           "colorbar": {
            "outlinewidth": 1,
            "tickcolor": "rgb(36,36,36)",
            "ticks": "outside"
           }
          },
          "colorscale": {
           "diverging": [
            [
             0,
             "rgb(103,0,31)"
            ],
            [
             0.1,
             "rgb(178,24,43)"
            ],
            [
             0.2,
             "rgb(214,96,77)"
            ],
            [
             0.3,
             "rgb(244,165,130)"
            ],
            [
             0.4,
             "rgb(253,219,199)"
            ],
            [
             0.5,
             "rgb(247,247,247)"
            ],
            [
             0.6,
             "rgb(209,229,240)"
            ],
            [
             0.7,
             "rgb(146,197,222)"
            ],
            [
             0.8,
             "rgb(67,147,195)"
            ],
            [
             0.9,
             "rgb(33,102,172)"
            ],
            [
             1,
             "rgb(5,48,97)"
            ]
           ],
           "sequential": [
            [
             0,
             "#440154"
            ],
            [
             0.1111111111111111,
             "#482878"
            ],
            [
             0.2222222222222222,
             "#3e4989"
            ],
            [
             0.3333333333333333,
             "#31688e"
            ],
            [
             0.4444444444444444,
             "#26828e"
            ],
            [
             0.5555555555555556,
             "#1f9e89"
            ],
            [
             0.6666666666666666,
             "#35b779"
            ],
            [
             0.7777777777777778,
             "#6ece58"
            ],
            [
             0.8888888888888888,
             "#b5de2b"
            ],
            [
             1,
             "#fde725"
            ]
           ],
           "sequentialminus": [
            [
             0,
             "#440154"
            ],
            [
             0.1111111111111111,
             "#482878"
            ],
            [
             0.2222222222222222,
             "#3e4989"
            ],
            [
             0.3333333333333333,
             "#31688e"
            ],
            [
             0.4444444444444444,
             "#26828e"
            ],
            [
             0.5555555555555556,
             "#1f9e89"
            ],
            [
             0.6666666666666666,
             "#35b779"
            ],
            [
             0.7777777777777778,
             "#6ece58"
            ],
            [
             0.8888888888888888,
             "#b5de2b"
            ],
            [
             1,
             "#fde725"
            ]
           ]
          },
          "colorway": [
           "#1F77B4",
           "#FF7F0E",
           "#2CA02C",
           "#D62728",
           "#9467BD",
           "#8C564B",
           "#E377C2",
           "#7F7F7F",
           "#BCBD22",
           "#17BECF"
          ],
          "font": {
           "color": "rgb(36,36,36)"
          },
          "geo": {
           "bgcolor": "white",
           "lakecolor": "white",
           "landcolor": "white",
           "showlakes": true,
           "showland": true,
           "subunitcolor": "white"
          },
          "hoverlabel": {
           "align": "left"
          },
          "hovermode": "closest",
          "mapbox": {
           "style": "light"
          },
          "paper_bgcolor": "white",
          "plot_bgcolor": "white",
          "polar": {
           "angularaxis": {
            "gridcolor": "rgb(232,232,232)",
            "linecolor": "rgb(36,36,36)",
            "showgrid": false,
            "showline": true,
            "ticks": "outside"
           },
           "bgcolor": "white",
           "radialaxis": {
            "gridcolor": "rgb(232,232,232)",
            "linecolor": "rgb(36,36,36)",
            "showgrid": false,
            "showline": true,
            "ticks": "outside"
           }
          },
          "scene": {
           "xaxis": {
            "backgroundcolor": "white",
            "gridcolor": "rgb(232,232,232)",
            "gridwidth": 2,
            "linecolor": "rgb(36,36,36)",
            "showbackground": true,
            "showgrid": false,
            "showline": true,
            "ticks": "outside",
            "zeroline": false,
            "zerolinecolor": "rgb(36,36,36)"
           },
           "yaxis": {
            "backgroundcolor": "white",
            "gridcolor": "rgb(232,232,232)",
            "gridwidth": 2,
            "linecolor": "rgb(36,36,36)",
            "showbackground": true,
            "showgrid": false,
            "showline": true,
            "ticks": "outside",
            "zeroline": false,
            "zerolinecolor": "rgb(36,36,36)"
           },
           "zaxis": {
            "backgroundcolor": "white",
            "gridcolor": "rgb(232,232,232)",
            "gridwidth": 2,
            "linecolor": "rgb(36,36,36)",
            "showbackground": true,
            "showgrid": false,
            "showline": true,
            "ticks": "outside",
            "zeroline": false,
            "zerolinecolor": "rgb(36,36,36)"
           }
          },
          "shapedefaults": {
           "fillcolor": "black",
           "line": {
            "width": 0
           },
           "opacity": 0.3
          },
          "ternary": {
           "aaxis": {
            "gridcolor": "rgb(232,232,232)",
            "linecolor": "rgb(36,36,36)",
            "showgrid": false,
            "showline": true,
            "ticks": "outside"
           },
           "baxis": {
            "gridcolor": "rgb(232,232,232)",
            "linecolor": "rgb(36,36,36)",
            "showgrid": false,
            "showline": true,
            "ticks": "outside"
           },
           "bgcolor": "white",
           "caxis": {
            "gridcolor": "rgb(232,232,232)",
            "linecolor": "rgb(36,36,36)",
            "showgrid": false,
            "showline": true,
            "ticks": "outside"
           }
          },
          "title": {
           "x": 0.05
          },
          "xaxis": {
           "automargin": true,
           "gridcolor": "rgb(232,232,232)",
           "linecolor": "rgb(36,36,36)",
           "showgrid": false,
           "showline": true,
           "ticks": "outside",
           "title": {
            "standoff": 15
           },
           "zeroline": false,
           "zerolinecolor": "rgb(36,36,36)"
          },
          "yaxis": {
           "automargin": true,
           "gridcolor": "rgb(232,232,232)",
           "linecolor": "rgb(36,36,36)",
           "showgrid": false,
           "showline": true,
           "ticks": "outside",
           "title": {
            "standoff": 15
           },
           "zeroline": false,
           "zerolinecolor": "rgb(36,36,36)"
          }
         }
        },
        "title": {
         "text": "HW 1 plot :)"
        },
        "width": 800,
        "xaxis": {
         "anchor": "y",
         "domain": [
          0,
          1
         ],
         "title": {
          "text": "x"
         }
        },
        "yaxis": {
         "anchor": "x",
         "domain": [
          0,
          1
         ],
         "title": {
          "text": "y"
         }
        }
       }
      }
     },
     "metadata": {},
     "output_type": "display_data"
    }
   ],
   "source": [
    "def g(x):\n",
    "    return 2*(x**3)- 15*(x**2) + 36*(x) - 5\n",
    "\n",
    "xs = np.linspace(1,4)\n",
    "ya = g(xs)\n",
    "\n",
    "polyfig = px.line(x=xs, y=ya, width=800, height=600, title=\"HW 1 plot :)\", template ='simple_white')\n",
    "\n",
    "polyfig.add_trace(go.Scatter(x=[2], y=[23], mode='markers', marker=dict(color='red'), name='Local Maximum'))\n",
    "polyfig.add_trace(go.Scatter(x=[3], y=[22], mode='markers', marker=dict(color='green'), name='Local Minimum'))\n",
    "polyfig.update_layout(legend_title_text='Legend')"
   ]
  },
  {
   "cell_type": "code",
   "execution_count": 34,
   "id": "1f7da73d",
   "metadata": {
    "deletable": false,
    "editable": false
   },
   "outputs": [
    {
     "data": {
      "text/html": [
       "<p><strong><pre style='display: inline;'>q10</pre></strong> passed!</p>"
      ],
      "text/plain": [
       "q10 results: All test cases passed!"
      ]
     },
     "execution_count": 34,
     "metadata": {},
     "output_type": "execute_result"
    }
   ],
   "source": [
    "grader.check(\"q10\")"
   ]
  },
  {
   "cell_type": "markdown",
   "id": "3cbe2753",
   "metadata": {},
   "source": [
    "## Finish Line 🏁\n",
    "\n",
    "Congratulations! You're ready to submit Homework 1."
   ]
  },
  {
   "cell_type": "markdown",
   "id": "8e3f6634",
   "metadata": {},
   "source": [
    "To submit your homework:\n",
    "\n",
    "1. Select `Kernel -> Restart & Run All` to ensure that you have executed all cells, including the test cells.\n",
    "2. Read through the notebook to make sure everything is fine and all tests passed.\n",
    "3. Run the cell below to run all tests, and make sure that they all pass.\n",
    "4. Download your notebook using `File -> Download as -> Notebook (.ipynb)`, then upload your notebook to Gradescope under \"Homework 1\".\n",
    "5. Stick around while the Gradescope autograder grades your work. Make sure you see that all **public tests** have passed on Gradescope. **Remember that homeworks have hidden tests, which you will not see your scores on until a few days after the deadline!**\n",
    "6. Check that you have a confirmation email from Gradescope and save it as proof of your submission."
   ]
  },
  {
   "cell_type": "markdown",
   "id": "24855bc7",
   "metadata": {
    "deletable": false,
    "editable": false
   },
   "source": [
    "---\n",
    "\n",
    "To double-check your work, the cell below will rerun all of the autograder tests."
   ]
  },
  {
   "cell_type": "code",
   "execution_count": 35,
   "id": "7e4cec09",
   "metadata": {
    "deletable": false,
    "editable": false
   },
   "outputs": [
    {
     "data": {
      "text/plain": [
       "q1 results: All test cases passed!\n",
       "\n",
       "q10 results: All test cases passed!\n",
       "\n",
       "q2 results: All test cases passed!\n",
       "\n",
       "q3 results: All test cases passed!\n",
       "\n",
       "q4 results: All test cases passed!\n",
       "\n",
       "q5 results: All test cases passed!\n",
       "\n",
       "q6 results: All test cases passed!\n",
       "\n",
       "q7 results: All test cases passed!\n",
       "\n",
       "q8 results: All test cases passed!\n",
       "\n",
       "q9 results: All test cases passed!"
      ]
     },
     "execution_count": 35,
     "metadata": {},
     "output_type": "execute_result"
    }
   ],
   "source": [
    "grader.check_all()"
   ]
  }
 ],
 "metadata": {
  "kernelspec": {
   "display_name": "Python 3 (ipykernel)",
   "language": "python",
   "name": "python3"
  },
  "language_info": {
   "codemirror_mode": {
    "name": "ipython",
    "version": 3
   },
   "file_extension": ".py",
   "mimetype": "text/x-python",
   "name": "python",
   "nbconvert_exporter": "python",
   "pygments_lexer": "ipython3",
   "version": "3.10.14"
  },
  "otter": {
   "tests": {
    "q1": {
     "name": "q1",
     "points": 3,
     "suites": [
      {
       "cases": [
        {
         "code": ">>> tax_bracket(11000) == 0.10\nTrue",
         "hidden": false,
         "locked": false
        },
        {
         "code": ">>> tax_bracket(100_000) == 0.24\nTrue",
         "hidden": false,
         "locked": false
        }
       ],
       "scored": true,
       "setup": "",
       "teardown": "",
       "type": "doctest"
      }
     ]
    },
    "q10": {
     "name": "q10",
     "points": 6,
     "suites": [
      {
       "cases": [
        {
         "code": ">>> str(type(polyfig)) == \"<class 'plotly.graph_objs._figure.Figure'>\"\nTrue",
         "failure_message": "Make sure polyfig is a plotly Figure object.",
         "hidden": false,
         "locked": false
        },
        {
         "code": ">>> len(polyfig.data) == 3\nTrue",
         "failure_message": "Make sure there are three elements in your graph.",
         "hidden": false,
         "locked": false
        },
        {
         "code": ">>> isinstance(polyfig.layout['title']['text'], str)\nTrue",
         "failure_message": "Make sure to give your graph a title.",
         "hidden": false,
         "locked": false
        },
        {
         "code": ">>> points = [(t['x'][0], t['y'][0]) for t in polyfig.data[1:]]\n>>> (2, 23) in points\nTrue",
         "failure_message": "Make sure your local maximum is in the correct position.",
         "hidden": false,
         "locked": false
        },
        {
         "code": ">>> points = [(t['x'][0], t['y'][0]) for t in polyfig.data[1:]]\n>>> (3, 22) in points\nTrue",
         "failure_message": "Make sure your local minimum is in the correct position.",
         "hidden": false,
         "locked": false
        },
        {
         "code": ">>> names = [t['name'] for t in polyfig.data[1:]]\n>>> sorted(names) == ['Local Maximum', 'Local Minimum']\nTrue",
         "failure_message": "Make sure you've labeled your maxima and minima correctly.",
         "hidden": false,
         "locked": false
        },
        {
         "code": ">>> np.isclose(polyfig.data[0]['x'].min(), 1) and np.isclose(polyfig.data[0]['x'].max(), 4)\nTrue",
         "failure_message": "Make sure your x-axis range is correct.",
         "hidden": false,
         "locked": false
        },
        {
         "code": ">>> len(set([t['marker']['color'] for t in polyfig.data[1:]])) == 2\nTrue",
         "failure_message": "Make sure your maxima and minima are labeled different colors.",
         "hidden": false,
         "locked": false
        },
        {
         "code": ">>> polyfig.layout['legend']['title']['text'] == 'Legend'\nTrue",
         "failure_message": "Make sure the title of your legend is 'Legend'.",
         "hidden": false,
         "locked": false
        }
       ],
       "scored": true,
       "setup": "",
       "teardown": "",
       "type": "doctest"
      }
     ]
    },
    "q2": {
     "name": "q2",
     "points": 6,
     "suites": [
      {
       "cases": [
        {
         "code": ">>> np.isclose(tax_owed(75000), 11807.50)\nTrue",
         "hidden": false,
         "locked": false
        },
        {
         "code": ">>> np.isclose(tax_owed(39), 3.9)\nTrue",
         "hidden": false,
         "locked": false
        }
       ],
       "scored": true,
       "setup": "",
       "teardown": "",
       "type": "doctest"
      }
     ]
    },
    "q3": {
     "name": "q3",
     "points": 2,
     "suites": [
      {
       "cases": [
        {
         "code": ">>> np.isclose(effective_tax_rate(75000), 15.743)\nTrue",
         "hidden": false,
         "locked": false
        },
        {
         "code": ">>> effective_tax_rate(-1) == 0\nTrue",
         "failure_message": "Make sure you address the case where the input is less than or equal to 0. The function should evaluate to 0 in that case.",
         "hidden": false,
         "locked": false
        }
       ],
       "scored": true,
       "setup": "",
       "teardown": "",
       "type": "doctest"
      }
     ]
    },
    "q4": {
     "name": "q4",
     "points": 5,
     "suites": [
      {
       "cases": [
        {
         "code": ">>> hailstone(4)\n4\n2\n1\n3",
         "hidden": false,
         "locked": false
        },
        {
         "code": ">>> hailstone(10)\n10\n5\n16\n8\n4\n2\n1\n7",
         "hidden": false,
         "locked": false
        }
       ],
       "scored": true,
       "setup": "",
       "teardown": "",
       "type": "doctest"
      }
     ]
    },
    "q5": {
     "name": "q5",
     "points": 4,
     "suites": [
      {
       "cases": [
        {
         "code": ">>> np.isclose(alternating_sign_mean([3, 1.5, 9.9]), 3.8)\nTrue",
         "hidden": false,
         "locked": false
        },
        {
         "code": ">>> np.isclose(alternating_sign_mean([2, 4.5, 3, 7]), -6.5 / 4)\nTrue",
         "hidden": false,
         "locked": false
        }
       ],
       "scored": true,
       "setup": "",
       "teardown": "",
       "type": "doctest"
      }
     ]
    },
    "q6": {
     "name": "q6",
     "points": 5,
     "suites": [
      {
       "cases": [
        {
         "code": ">>> big_tippers(['yutong', 15, 'kyle', 9, 'pranavi', 19]) == ['yutong', 'pranavi']\nTrue",
         "hidden": false,
         "locked": false
        }
       ],
       "scored": true,
       "setup": "",
       "teardown": "",
       "type": "doctest"
      }
     ]
    },
    "q7": {
     "name": "q7",
     "points": 2,
     "suites": [
      {
       "cases": [
        {
         "code": ">>> is_ing('running')\nTrue",
         "hidden": false,
         "locked": false
        },
        {
         "code": ">>> is_ing('eatInG')\nTrue",
         "hidden": false,
         "locked": false
        },
        {
         "code": ">>> not is_ing('science')\nTrue",
         "hidden": false,
         "locked": false
        },
        {
         "code": ">>> not is_ing('25')\nTrue",
         "hidden": false,
         "locked": false
        }
       ],
       "scored": true,
       "setup": "",
       "teardown": "",
       "type": "doctest"
      }
     ]
    },
    "q8": {
     "name": "q8",
     "points": 3,
     "suites": [
      {
       "cases": [
        {
         "code": ">>> pump('zebra', 4) == 'zebrebrebrebra'\nTrue",
         "hidden": false,
         "locked": false
        },
        {
         "code": ">>> pump('hi', 2) == 'hi'\nTrue",
         "hidden": false,
         "locked": false
        }
       ],
       "scored": true,
       "setup": "",
       "teardown": "",
       "type": "doctest"
      }
     ]
    },
    "q9": {
     "name": "q9",
     "points": 4,
     "suites": [
      {
       "cases": [
        {
         "code": ">>> n_prefixes('Billy', 4) == 'BillBilBiB'\nTrue",
         "hidden": false,
         "locked": false
        },
        {
         "code": ">>> n_prefixes('Michigan', 3) == 'MicMiM'\nTrue",
         "hidden": false,
         "locked": false
        },
        {
         "code": ">>> n_prefixes('aaron', 2) == 'aaa'\nTrue",
         "hidden": false,
         "locked": false
        }
       ],
       "scored": true,
       "setup": "",
       "teardown": "",
       "type": "doctest"
      }
     ]
    }
   }
  }
 },
 "nbformat": 4,
 "nbformat_minor": 5
}
