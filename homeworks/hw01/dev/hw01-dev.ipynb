{
 "cells": [
  {
   "cell_type": "markdown",
   "id": "623a8aa3",
   "metadata": {},
   "source": [
    "## HW1"
   ]
  },
  {
   "cell_type": "markdown",
   "id": "41ef5661",
   "metadata": {},
   "source": [
    "**Question 5.2.** Make an array called `likes` containing the following three strings, in the specified order:\n",
    "- `'I like surfing'`\n",
    "- `'otters'`\n",
    "- `'and popcorn.'`\n",
    "\n",
    "```\n",
    "BEGIN QUESTION\n",
    "name: q5_2\n",
    "```"
   ]
  },
  {
   "cell_type": "code",
   "execution_count": null,
   "id": "bce65a74",
   "metadata": {
    "tags": []
   },
   "outputs": [],
   "source": [
    "likes = np.array(['I like surfing', 'otters', 'and popcorn.']) # SOLUTION\n",
    "likes"
   ]
  },
  {
   "cell_type": "code",
   "execution_count": null,
   "id": "92751a67",
   "metadata": {
    "tags": []
   },
   "outputs": [],
   "source": [
    "## TEST ##\n",
    "isinstance(likes, np.ndarray)"
   ]
  },
  {
   "cell_type": "code",
   "execution_count": null,
   "id": "a96c80a2",
   "metadata": {
    "tags": []
   },
   "outputs": [],
   "source": [
    "## TEST ##\n",
    "likes[0] == 'I like surfing'"
   ]
  },
  {
   "cell_type": "code",
   "execution_count": null,
   "id": "f5f6abaf",
   "metadata": {
    "scrolled": true,
    "tags": []
   },
   "outputs": [],
   "source": [
    "## HIDDEN TEST ##\n",
    "np.all(likes == np.array(['I like surfing', 'otters', 'and popcorn.']))"
   ]
  },
  {
   "cell_type": "markdown",
   "id": "2a50cea7",
   "metadata": {},
   "source": [
    "<center><img src=images/otter.webp width=300>\n",
    "<br>\n",
    "<a href=\"https://www.npr.org/2023/07/13/1187295769/otter-santa-cruz-surfboard-surfers-california\">An otter in Santa Cruz is hassling surfers — and stealing their boards</a></center>\n",
    "\n",
    "\n",
    "In [Lecture 3](https://dsc10.com/resources/lectures/lec03/lec03.html#String-methods), we looked at several string methods, like `upper` and `replace`. Strings have another method that we haven't seen yet, called `join`. `join` takes one argument, an array of strings, and it returns a single string. Specifically, `some_string.join(some_array)` evaluates to a new string consisting of all of elements in `some_array`, with `some_string` inserted **in between each element**.\n",
    "\n",
    "For example, `'-'.join(np.array(['call', '858', '534', '2230']))` evaluates to `'call-858-534-2230'`.\n",
    "\n",
    "**Question 5.3.** Use the array `likes` and the method `join` to make two strings:\n",
    "\n",
    "1. `'I like surfing, otters, and popcorn.'` (call this one `by_comma`)\n",
    "1. `'I like surfing otters and popcorn.'` (call this one `by_space`)"
   ]
  },
  {
   "cell_type": "markdown",
   "id": "044ceda4",
   "metadata": {},
   "source": [
    "```\n",
    "BEGIN QUESTION\n",
    "name: q5_3\n",
    "```"
   ]
  },
  {
   "cell_type": "code",
   "execution_count": null,
   "id": "654180e9",
   "metadata": {
    "scrolled": true,
    "tags": []
   },
   "outputs": [],
   "source": [
    "by_comma = ', '.join(likes) # SOLUTION\n",
    "by_space = ' '.join(likes) # SOLUTION\n",
    "\n",
    "# Don't change the lines below.\n",
    "print(by_comma)\n",
    "print(by_space)"
   ]
  },
  {
   "cell_type": "code",
   "execution_count": null,
   "id": "27074379",
   "metadata": {
    "tags": []
   },
   "outputs": [],
   "source": [
    "## TEST ##\n",
    "isinstance(by_comma, str) and isinstance(by_space, str)"
   ]
  },
  {
   "cell_type": "code",
   "execution_count": null,
   "id": "d1215f83",
   "metadata": {
    "tags": []
   },
   "outputs": [],
   "source": [
    "## TEST ##\n",
    "len(by_comma) == 36 # You have the wrong length for by_comma. Make sure by_comma appears EXACTLY as described."
   ]
  },
  {
   "cell_type": "code",
   "execution_count": null,
   "id": "977c7acc",
   "metadata": {
    "tags": []
   },
   "outputs": [],
   "source": [
    "## HIDDEN TEST ##\n",
    "by_comma == 'I like surfing, otters, and popcorn.' or by_comma == ', '.join(likes)"
   ]
  },
  {
   "cell_type": "code",
   "execution_count": null,
   "id": "f5abb06d",
   "metadata": {
    "tags": []
   },
   "outputs": [],
   "source": [
    "## HIDDEN TEST ##\n",
    "by_space == 'I like surfing otters and popcorn.' or by_space == ' '.join(likes)"
   ]
  },
  {
   "cell_type": "markdown",
   "id": "d86129bb",
   "metadata": {},
   "source": [
    "## HW3 "
   ]
  },
  {
   "cell_type": "markdown",
   "id": "41376256",
   "metadata": {},
   "source": [
    "**Question 3.3.** Finally, complete the implementation of the function `monthly_payment`, which takes in the price of a car (`price`), a down payment (`down_payment`), and a credit score (`score`), and returns the monthly payment amount, **rounded to the nearest integer**. For example, a \\\\$20,000 car with a \\\\$5,000 down payment and a 750 credit score should produce a monthly payment of \\\\$270. For your convenience, the monthly payment formula is shown here again.\n",
    "\n",
    "$$ \\text{monthly car payment} = \\text{principal} \\cdot\\frac{\\frac{\\text{interest}}{12}}{1-\\left(1+ \\frac{\\text{interest}}{12}\\right)^{-\\text{number of months}}}$$\n",
    "\n",
    "\n",
    "***Notes:***\n",
    "- In this formula, the denominator is raised to the *negative* power of the number of months on the loan.\n",
    "- All Tritonmobile loans are all paid over 5 years, or 60 months.\n",
    "- You should use both of the functions you implemented in 3.1 and 3.2."
   ]
  },
  {
   "cell_type": "markdown",
   "id": "d850724e",
   "metadata": {},
   "source": [
    "```\n",
    "BEGIN QUESTION\n",
    "name: q3_3\n",
    "```"
   ]
  },
  {
   "cell_type": "code",
   "execution_count": null,
   "id": "ffb6c86a",
   "metadata": {
    "tags": []
   },
   "outputs": [],
   "source": [
    "def monthly_payment(price, down_payment, score): \n",
    "    # BEGIN SOLUTION\n",
    "    interest = calculate_interest(score)\n",
    "    principal = calculate_principal(price, down_payment)\n",
    "    payment = round(principal * (interest/12) / (1 - ( 1 + (interest/12))**(-60)))\n",
    "    return payment\n",
    "    # END SOLUTION\n",
    "\n",
    "# Feel free to change the line below to try other examples.\n",
    "monthly_payment(20_000, 5_000, 750) # should be 270"
   ]
  },
  {
   "cell_type": "code",
   "execution_count": null,
   "id": "1fd0702b",
   "metadata": {
    "tags": []
   },
   "outputs": [],
   "source": [
    "## TEST ##\n",
    "callable(monthly_payment) and monthly_payment(20_000, 5_000, 750) == 270"
   ]
  },
  {
   "cell_type": "code",
   "execution_count": null,
   "id": "053a5492",
   "metadata": {
    "tags": []
   },
   "outputs": [],
   "source": [
    "## HIDDEN TEST ##\n",
    "monthly_payment(25_000, 3_000, 680) == 413 or monthly_payment(25_000, 3_000, 680) == round(calculate_principal(25_000, 3_000) * (calculate_interest(680)/12) / (1 - ( 1 + (calculate_interest(680)/12))**(-60)))"
   ]
  },
  {
   "cell_type": "code",
   "execution_count": null,
   "id": "87afc28b",
   "metadata": {},
   "outputs": [],
   "source": [
    "## HIDDEN TEST ##\n",
    "monthly_payment(35_000, 5_500, 730) == 554 or monthly_payment(35_000, 5_500, 730) == round(calculate_principal(35_000, 5_500) * (calculate_interest(730)/12) / (1 - ( 1 + (calculate_interest(730)/12))**(-60)))"
   ]
  },
  {
   "cell_type": "code",
   "execution_count": null,
   "id": "e4d149fc",
   "metadata": {
    "tags": []
   },
   "outputs": [],
   "source": [
    "## HIDDEN TEST ##\n",
    "monthly_payment(40_000, 6_000, 770) == 638 or monthly_payment(40_000, 6_000, 770) == round(calculate_principal(40_000, 6_000) * (calculate_interest(770)/12) / (1 - ( 1 + (calculate_interest(770)/12))**(-60)))"
   ]
  },
  {
   "cell_type": "code",
   "execution_count": null,
   "id": "8bd9e06b",
   "metadata": {},
   "outputs": [],
   "source": []
  },
  {
   "cell_type": "markdown",
   "id": "481814b2",
   "metadata": {},
   "source": [
    "## 4. Wordle 🟨 ⬛ 🟨 🟩 ⬛\n",
    "\n",
    "\n",
    "<img src = \"data/wordle_example.jpg\" width=200>\n",
    "\n",
    "[Wordle](https://www.nytimes.com/games/wordle/index.html) is a word-guessing game that became extremely popular at the end of 2021. Players have six tries to guess a five-letter word. To play, you first enter a guess for the five-letter word. After you make your guess, each letter of your guess will be highlighted with a color-coded square as follows:\n",
    "\n",
    "- A black square ⬛ means that this letter is **not** in the word at all.  \n",
    "- A yellow square 🟨 means that this letter is in the word, but in a **different position**.  \n",
    "- A green square means 🟩 the letter is in the **correct position**.\n",
    "\n",
    "In this question, you will replicate some of that behavior using `for`-loops. We'll make a simplifying assumption that's not present in the real Wordle game: the answer word will always have five **different** letters and every guess must also have five **different** letters.\n",
    "\n",
    "We'll represent Wordle results as a string of five colored square emojis. Emojis can be included in strings, just like letters, numbers, and punctuation! \n",
    "\n",
    "For example, if the answer word is `'STEIN'` and your guess is `'SCALE'`, as shown in the image above, your results can be represented by the string `'🟩⬛⬛⬛🟨'`. \n",
    "\n",
    "The array `emojis` defined below contains all the symbols we'll need to construct such strings."
   ]
  },
  {
   "cell_type": "code",
   "execution_count": null,
   "id": "a64b4574",
   "metadata": {},
   "outputs": [],
   "source": [
    "emojis = np.array(['⬛', '🟨', '🟩'])\n",
    "emojis"
   ]
  },
  {
   "cell_type": "markdown",
   "id": "98fe482f",
   "metadata": {},
   "source": [
    "Recall, in [Lecture 10](https://dsc10.com/resources/lectures/lec10/lec10.html), we introduced the accumulator pattern. In the coin-flipping example, we started with an empty array, and added to it in each iteration of our `for`-loop.\n",
    "\n",
    "We can also use the accumulator pattern for strings, by starting with an empty string, and repeatedly adding onto it via concatenation. Here's an example that loops through the letters in a word and replaces certain letters with colored square emojis."
   ]
  },
  {
   "cell_type": "code",
   "execution_count": null,
   "id": "835ca85d",
   "metadata": {},
   "outputs": [],
   "source": [
    "output = ''\n",
    "for ch in 'goodbye':\n",
    "    if ch == 'b':\n",
    "        output = output + emojis[0] # add a black square\n",
    "    elif ch == 'y':\n",
    "        output = output + emojis[1] # add a yellow square\n",
    "    elif ch == 'g':\n",
    "        output = output + emojis[2] # add a green square\n",
    "        \n",
    "    else:\n",
    "        output = output + ch\n",
    "output"
   ]
  },
  {
   "cell_type": "markdown",
   "id": "6407a0d6",
   "metadata": {},
   "source": [
    "In the above example, we started with an empty string, `output`. For each character of the string `'goodbye'`, we added a single new character to `output`, depending on whether we saw `'g'`, `'b'`, `'y'`, or something else."
   ]
  },
  {
   "cell_type": "markdown",
   "id": "24e3e6d9",
   "metadata": {},
   "source": [
    "**Question 4.1.** Now, complete the implementation of the function `emojify`, which takes as input two five-letter strings, each having no repeated letters. The first input string, `guess`, should be cross-checked with each letter of the second input string, `answer`. The function should return a new string, formed entirely of emojis from  the `emojis` array, that indicates the accuracy of each letter in the guess, as described in the rules above. For example, let's say the `answer` string is `'shark'`. Here is how the function would work on various example guesses.\n",
    "\n",
    "```py\n",
    ">>> emojify('crept', 'shark')\n",
    "'⬛🟨⬛⬛⬛'\n",
    "\n",
    ">>> emojify('chalk', 'shark')\n",
    "'⬛🟩🟩⬛🟩'\n",
    "\n",
    ">>> emojify('harks', 'shark')\n",
    "'🟨🟨🟨🟨🟨'\n",
    "\n",
    ">>> emojify('sharp', 'shark')\n",
    "'🟩🟩🟩🟩⬛'\n",
    "\n",
    ">>> emojify('shark', 'shark')\n",
    "'🟩🟩🟩🟩🟩'\n",
    "```\n",
    "\n",
    "_Note_: As we did in the preceding example, use the array `emojis` to access the emojis – don't actually include any colored square emojis in the code you write below.\n",
    "\n",
    "***Hints:*** \n",
    "- Look at the slide titled *Ranges* in [Lecture 10](https://dsc10.com/resources/lectures/lec10/lec10.html#Ranges) for guidance.\n",
    "- You'll need to use the `in` keyword, which we also introduced in Lecture 10.\n",
    "- Remember to write a general function that works for any answer word, not just `'shark'`."
   ]
  },
  {
   "cell_type": "markdown",
   "id": "1f48f0b2",
   "metadata": {},
   "source": [
    "```\n",
    "BEGIN QUESTION\n",
    "name: q4_1\n",
    "```"
   ]
  },
  {
   "cell_type": "code",
   "execution_count": null,
   "id": "9badaa3e",
   "metadata": {},
   "outputs": [],
   "source": [
    "def emojify(guess, answer):\n",
    "    # This line ensures your code works correctly regardless of \n",
    "    # whether the message is in upper case or lower case.\n",
    "    guess = guess.lower()\n",
    "\n",
    "    # Empty string to add on to.\n",
    "    emoji_output_string = '' \n",
    "    \n",
    "    # You'll need to complete the body of this for loop.\n",
    "    for i in range(len(guess)):\n",
    "    # BEGIN SOLUTION\n",
    "        if guess[i] == answer[i]:\n",
    "            emoji_output_string = emoji_output_string + emojis[2] # add a green square\n",
    "        elif guess[i] in answer:\n",
    "            emoji_output_string = emoji_output_string + emojis[1] # add a yellow square\n",
    "        else:\n",
    "            emoji_output_string = emoji_output_string + emojis[0] # add a black square\n",
    "    # END SOLUTION\n",
    "    \n",
    "    # Don't change this\n",
    "    return emoji_output_string\n",
    "\n",
    "# An example call to emojify. Try out some other words, too.\n",
    "emojify('crept', 'shark')"
   ]
  },
  {
   "cell_type": "code",
   "execution_count": null,
   "id": "f0676c82",
   "metadata": {},
   "outputs": [],
   "source": [
    "## TEST ##\n",
    "# The function should return a string\n",
    "callable(emojify) and isinstance(emojify('crept', 'shark'), str)"
   ]
  },
  {
   "cell_type": "code",
   "execution_count": null,
   "id": "0bd48ccf",
   "metadata": {},
   "outputs": [],
   "source": [
    "## TEST ##\n",
    "((ord(emojify('plane', 'grain')[-1]) + ord(emojify('plane', 'grain')[3]) - ord(emojify('plane', 'grain')[2])) ** 2 ) % 13 == 9 # Try again!"
   ]
  },
  {
   "cell_type": "code",
   "execution_count": null,
   "id": "17890b7b",
   "metadata": {
    "scrolled": true
   },
   "outputs": [],
   "source": [
    "## TEST ##\n",
    "# This test checks the first example in question description.\n",
    "emojify('crept', 'shark') == '⬛🟨⬛⬛⬛'"
   ]
  },
  {
   "cell_type": "code",
   "execution_count": null,
   "id": "6cfedb48",
   "metadata": {},
   "outputs": [],
   "source": [
    "## TEST ##\n",
    "# This test checks the second example in question description.\n",
    "emojify('chalk', 'shark') == '⬛🟩🟩⬛🟩'"
   ]
  },
  {
   "cell_type": "code",
   "execution_count": null,
   "id": "15ef2614",
   "metadata": {},
   "outputs": [],
   "source": [
    "## HIDDEN TEST ##\n",
    "emojify('plane', 'grain') == '⬛⬛🟩🟨⬛'"
   ]
  },
  {
   "cell_type": "code",
   "execution_count": null,
   "id": "00fc35d5",
   "metadata": {},
   "outputs": [],
   "source": [
    "## HIDDEN TEST ##\n",
    "# This test checks if the function can identify a correct guess.\n",
    "emojify('point', 'point') == '🟩🟩🟩🟩🟩'"
   ]
  },
  {
   "cell_type": "markdown",
   "id": "cf1be37f",
   "metadata": {},
   "source": [
    "### Final Product\n",
    "\n",
    "You just implemented the logic for a Wordle game. Let's try it out! Run the following cell once you've completed the rest of this question, and you'll see a text box. Type a five-letter word with no repeated letters to guess the secret answer word. You can change your guess by backspacing and typing in a different guess for the same answer word. \n",
    "\n",
    "You can play the game more than once by running the cell again to generate a new answer word."
   ]
  },
  {
   "cell_type": "code",
   "execution_count": null,
   "id": "44a45fac",
   "metadata": {},
   "outputs": [],
   "source": [
    "\n",
    "answer = np.random.choice(answer_words)\n",
    "def emojify_live(guess):\n",
    "    result = emojify(guess, answer)\n",
    "    display(HTML('<h3>' + result + '</h3>'))\n",
    "    if result == '🟩🟩🟩🟩🟩':\n",
    "        display(HTML('<h3> You win! </h3>'))\n",
    "display(HTML('<h2> Let\\'s play Wordle! </h2>'))\n",
    "interact(emojify_live, guess=\"\");"
   ]
  },
  {
   "cell_type": "markdown",
   "id": "cecde8b6",
   "metadata": {},
   "source": [
    "# HW4"
   ]
  },
  {
   "cell_type": "markdown",
   "id": "8b79641b",
   "metadata": {},
   "source": [
    "## 1. Triton Spirit Night Lotto, continued 🔱 🏀 \n",
    "\n",
    "In the last homework, we calculated the probability of winning the grand prize (free housing) on a Spirit Night Lotto lottery ticket, and found that it was quite low 😭."
   ]
  },
  {
   "cell_type": "code",
   "execution_count": null,
   "id": "b55783a3",
   "metadata": {},
   "outputs": [],
   "source": [
    "# Just run this cell, do not change it!\n",
    "free_housing_chance = (1 / 66) * (1 / 65) * (1 / 64) * (1 / 63) * (1 / 62) * (1 / 15)\n",
    "free_housing_chance"
   ]
  },
  {
   "cell_type": "markdown",
   "id": "5a47b2a0",
   "metadata": {},
   "source": [
    "In this question, we'll approach the same question not using math, but using simulation. \n",
    "\n",
    "It's important to remember how this lottery works:\n",
    "- First, you pick five **different** numbers, one at a time, from 1 to 66, representing the winning score at the Spirit Night game.\n",
    "- Then, you separately pick a number from 1 to 15. This is because the top scoring athlete (Bryce Pope) scored 15 points during the game. Let's say you select 9.\n",
    "- The six numbers you have selected, or  **your numbers**, can be represented all together as (7, 32, 24, 65, 13, 9). This is a _sequence_ of six numbers – **order matters**!\n",
    "\n",
    "The **winning numbers** are chosen by King Triton, who draws five balls, one at a time, **without replacement**, from a pot of white balls numbered 1 to 66. Then, he draws a gold ball, the Tritonball, from a pot of gold balls numbered 1 to 15. Both pots are completely separate, hence the different ball colors. For example, maybe the winning numbers are (65, 9, 24, 23, 1, 9).\n",
    "\n",
    "We’ll assume for this problem that in order to win the grand prize (free housing), all six of your numbers need to match the winning numbers and be in the **exact same positions**. In other words, your entire sequence of numbers must be exactly the same as King Triton's sequence of winning numbers. However, if some numbers in your sequence match up with the corresponding number in the winning sequence, you will still win some Triton Cash. \n",
    "\n",
    "Suppose again that you select (7, 32, 24, 65, 13, 9) and the winning numbers are (65, 9, 24, 23, 1, 9). In this case, two of your numbers are considered to match two of the winning numbers. \n",
    "- Your numbers: (7, 32, **24**, 65, 13, **9**)\n",
    "- Winning numbers: (65, 9, **24**, 23, 1, **9**)\n",
    "\n",
    "You won't win free housing, but you will win some Triton Cash. Note that although both sequences include the number 65 within the first five numbers (representing a white ball), since they are in different positions, that's not considered a match.\n"
   ]
  },
  {
   "cell_type": "markdown",
   "id": "e1cb5ceb",
   "metadata": {},
   "source": [
    "**Question 1.1.** Implement a function called `simulate_one_ticket`. It should take no arguments, and it should return an array with 6 random numbers, simulating how the numbers are selected for a single Spirit Night Lotto ticket. The first five numbers should all be randomly chosen without replacement, from 1 to 66. The last number should be between 1 and 15."
   ]
  },
  {
   "cell_type": "markdown",
   "id": "caba1361",
   "metadata": {},
   "source": [
    "```\n",
    "BEGIN QUESTION\n",
    "name: q1_1\n",
    "```"
   ]
  },
  {
   "cell_type": "code",
   "execution_count": null,
   "id": "ded42758",
   "metadata": {},
   "outputs": [],
   "source": [
    "def simulate_one_ticket():\n",
    "    \"\"\"Simulate one Spirit Night Lotto ticket.\"\"\"\n",
    "    # BEGIN SOLUTION\n",
    "    white_balls = np.random.choice(np.arange(1, 67), size=5, replace=False)\n",
    "    gold_ball = np.random.choice(np.arange(1, 16))\n",
    "    balls = np.append(white_balls, gold_ball)\n",
    "    return balls\n",
    "    # END SOLUTION"
   ]
  },
  {
   "cell_type": "code",
   "execution_count": null,
   "id": "7f4f7b38",
   "metadata": {},
   "outputs": [],
   "source": [
    "## TEST ##\n",
    "callable(simulate_one_ticket) and isinstance(simulate_one_ticket(), np.ndarray) # Make sure simulate_one_ticket is a function that returns an array."
   ]
  },
  {
   "cell_type": "code",
   "execution_count": null,
   "id": "417147a8",
   "metadata": {},
   "outputs": [],
   "source": [
    "## TEST ##\n",
    "len(simulate_one_ticket()) == 6 # Make sure the returned array has 6 numbers in it."
   ]
  },
  {
   "cell_type": "code",
   "execution_count": null,
   "id": "cd941d74",
   "metadata": {},
   "outputs": [],
   "source": [
    "## TEST ##\n",
    "a = simulate_one_ticket()\n",
    "np.array([True if 1 <= i <= 66 else False for i in a[:5]]).all() and 1 <= a[-1] <= 15"
   ]
  },
  {
   "cell_type": "code",
   "execution_count": null,
   "id": "2aea3077",
   "metadata": {},
   "outputs": [],
   "source": [
    "## HIDDEN TEST ##\n",
    "len(np.unique(simulate_one_ticket())) >= 5"
   ]
  },
  {
   "cell_type": "code",
   "execution_count": null,
   "id": "0890da57",
   "metadata": {},
   "outputs": [],
   "source": [
    "## 1. Triton Spirit Night Lotto, continued 🔱 🏀 \n",
    "\n",
    "In the last homework, we calculated the probability of winning the grand prize (free housing) on a Spirit Night Lotto lottery ticket, and found that it was quite low 😭.\n",
    "\n",
    "# Just run this cell, do not change it!\n",
    "free_housing_chance = (1 / 66) * (1 / 65) * (1 / 64) * (1 / 63) * (1 / 62) * (1 / 15)\n",
    "free_housing_chance\n",
    "\n",
    "In this question, we'll approach the same question not using math, but using simulation. \n",
    "\n",
    "It's important to remember how this lottery works:\n",
    "- First, you pick five **different** numbers, one at a time, from 1 to 66, representing the winning score at the Spirit Night game.\n",
    "- Then, you separately pick a number from 1 to 15. This is because the top scoring athlete (Bryce Pope) scored 15 points during the game. Let's say you select 9.\n",
    "- The six numbers you have selected, or  **your numbers**, can be represented all together as (7, 32, 24, 65, 13, 9). This is a _sequence_ of six numbers – **order matters**!\n",
    "\n",
    "The **winning numbers** are chosen by King Triton, who draws five balls, one at a time, **without replacement**, from a pot of white balls numbered 1 to 66. Then, he draws a gold ball, the Tritonball, from a pot of gold balls numbered 1 to 15. Both pots are completely separate, hence the different ball colors. For example, maybe the winning numbers are (65, 9, 24, 23, 1, 9).\n",
    "\n",
    "We’ll assume for this problem that in order to win the grand prize (free housing), all six of your numbers need to match the winning numbers and be in the **exact same positions**. In other words, your entire sequence of numbers must be exactly the same as King Triton's sequence of winning numbers. However, if some numbers in your sequence match up with the corresponding number in the winning sequence, you will still win some Triton Cash. \n",
    "\n",
    "Suppose again that you select (7, 32, 24, 65, 13, 9) and the winning numbers are (65, 9, 24, 23, 1, 9). In this case, two of your numbers are considered to match two of the winning numbers. \n",
    "- Your numbers: (7, 32, **24**, 65, 13, **9**)\n",
    "- Winning numbers: (65, 9, **24**, 23, 1, **9**)\n",
    "\n",
    "You won't win free housing, but you will win some Triton Cash. Note that although both sequences include the number 65 within the first five numbers (representing a white ball), since they are in different positions, that's not considered a match.\n",
    "\n",
    "\n",
    "**Question 1.1.** Implement a function called `simulate_one_ticket`. It should take no arguments, and it should return an array with 6 random numbers, simulating how the numbers are selected for a single Spirit Night Lotto ticket. The first five numbers should all be randomly chosen without replacement, from 1 to 66. The last number should be between 1 and 15.\n",
    "\n",
    "```\n",
    "BEGIN QUESTION\n",
    "name: q1_1\n",
    "```\n",
    "\n",
    "def simulate_one_ticket():\n",
    "    \"\"\"Simulate one Spirit Night Lotto ticket.\"\"\"\n",
    "    # BEGIN SOLUTION\n",
    "    white_balls = np.random.choice(np.arange(1, 67), size=5, replace=False)\n",
    "    gold_ball = np.random.choice(np.arange(1, 16))\n",
    "    balls = np.append(white_balls, gold_ball)\n",
    "    return balls\n",
    "    # END SOLUTION\n",
    "\n",
    "## TEST ##\n",
    "callable(simulate_one_ticket) and isinstance(simulate_one_ticket(), np.ndarray) # Make sure simulate_one_ticket is a function that returns an array.\n",
    "\n",
    "## TEST ##\n",
    "len(simulate_one_ticket()) == 6 # Make sure the returned array has 6 numbers in it.\n",
    "\n",
    "## TEST ##\n",
    "a = simulate_one_ticket()\n",
    "np.array([True if 1 <= i <= 66 else False for i in a[:5]]).all() and 1 <= a[-1] <= 15\n",
    "\n",
    "## HIDDEN TEST ##\n",
    "len(np.unique(simulate_one_ticket())) >= 5"
   ]
  }
 ],
 "metadata": {
  "kernelspec": {
   "display_name": "Python 3 (ipykernel)",
   "language": "python",
   "name": "python3"
  },
  "language_info": {
   "codemirror_mode": {
    "name": "ipython",
    "version": 3
   },
   "file_extension": ".py",
   "mimetype": "text/x-python",
   "name": "python",
   "nbconvert_exporter": "python",
   "pygments_lexer": "ipython3",
   "version": "3.11.5"
  }
 },
 "nbformat": 4,
 "nbformat_minor": 5
}
