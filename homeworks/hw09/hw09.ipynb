{
 "cells": [
  {
   "cell_type": "code",
   "execution_count": 1,
   "id": "88395c47",
   "metadata": {
    "deletable": false,
    "editable": false
   },
   "outputs": [],
   "source": [
    "# Initialize Otter\n",
    "import otter\n",
    "grader = otter.Notebook(\"hw09.ipynb\")"
   ]
  },
  {
   "cell_type": "markdown",
   "id": "4d53f5c3",
   "metadata": {},
   "source": [
    "<div class=\"alert alert-success\" markdown=\"1\">\n",
    "\n",
    "#### Homework 9\n",
    "\n",
    "# Multiple Linear Regression and Feature Engineering\n",
    "\n",
    "### EECS 398-003: Practical Data Science, Fall 2024\n",
    "\n",
    "#### Due Monday, November 11th at 11:59PM (note the later deadline!)\n",
    "    \n",
    "</div>"
   ]
  },
  {
   "cell_type": "markdown",
   "id": "45cfd796",
   "metadata": {
    "tags": []
   },
   "source": [
    "## Instructions\n",
    "\n",
    "Welcome to Homework 9! In this homework, you'll gain a better understanding of how the normal equations and multiple regression work, and learn how to create new features for model building, both using `pandas` and `sklearn`. Only content through Lecture 18 is necessary, though parts of Question 3 touch on ideas from Lecture 19. See the [Readings section of the Resources tab on the course website](https://practicaldsc.org/resources/#readings) for supplemental resources.\n",
    "\n",
    "You are given **eight** slip days throughout the semester to extend deadlines. See the [Syllabus](https://practicaldsc.org/syllabus) for more details. With the exception of using slip days, late work will not be accepted unless you have made special arrangements with your instructor.\n",
    "\n",
    "To access this notebook, you'll need to clone our [public GitHub repository](https://github.com/practicaldsc/fa24/). The [⚙️ Environment Setup](https://practicaldsc.org/env-setup) page on the course website walks you through the necessary steps.\n",
    "<div class=\"alert alert-warning\" markdown=\"1\">\n",
    "\n",
    "<div class=\"alert alert-warning\">\n",
    "This homework features a mix of autograded programming questions and manually-graded questions.\n",
    "    \n",
    "- Questions 1, 2, and 3.4 are **manually graded**, like in Homework 8, and say **[Written ✏️]** in the title. For these questions, **do not write your answers in this notebook**! Instead, like in Homework 8, write **all** of your answers to the written questions in this homework in a separate PDF. You can create this PDF either digitally, using your tablet or using [Overleaf + LaTeX](https://overleaf.com) (or some other sort of digital document), or by writing your answers on a piece of paper and scanning them in. Submit this separate PDF to the **Homework 9 (Questions 1, 2, and 3.4; written problems)** assignment on Gradescope, and **make sure to correctly select the pages associated with each question**!\n",
    "\n",
    "- Questions 3, 4, and 5 (except 3.4) are **fully autograded**, and say **[Autograded 💻]** in the title. For these questions, all you need to is write your code in this notebook, run the local `grader.check` tests, and submit to the **Homework 9 (Questions 3-5; autograder problems)** assignment on Gradescope to have your code graded by the hidden autograder. This is the same workflow you followed in Homeworks 1-5 and Homework 8.\n",
    "\n",
    "Your Homework 9 submission time will be the **later** of your two individual submissions.\n",
    "</div>\n",
    "</div>\n",
    "\n",
    "**Make sure to show your work for all written questions! Answers without work shown may not receive full credit.**\n",
    "\n",
    "    \n",
    "This homework is worth a total of **62 points**, 26 of which are manually graded and 36 of which come from the autograder. The number of points each question is worth is listed at the start of each question. **All questions in the assignment are independent, so feel free to move around if you get stuck**, but keep in mind that you'll need to submit this homework twice – one submission for your written problems, and one submission for your autograded problems. Tip: if you're using Jupyter Lab, you can see a Table of Contents for the notebook by going to View > Table of Contents."
   ]
  },
  {
   "cell_type": "markdown",
   "id": "3bccc3ff",
   "metadata": {},
   "source": [
    "To get started, run the cell below, plus the cell at the top of the notebook that imports and initializes `otter`. "
   ]
  },
  {
   "cell_type": "code",
   "execution_count": 2,
   "id": "613f06f2",
   "metadata": {},
   "outputs": [],
   "source": [
    "import pandas as pd\n",
    "import numpy as np\n",
    "import warnings\n",
    "warnings.simplefilter('ignore')\n",
    "\n",
    "import plotly\n",
    "import plotly.graph_objects as go\n",
    "import plotly.express as px\n",
    "import plotly.io as pio\n",
    "\n",
    "# Preferred styles\n",
    "pio.templates[\"pds\"] = go.layout.Template(\n",
    "    layout=dict(\n",
    "        margin=dict(l=30, r=30, t=30, b=30),\n",
    "        autosize=True,\n",
    "        width=600,\n",
    "        height=400,\n",
    "        xaxis=dict(showgrid=True),\n",
    "        yaxis=dict(showgrid=True),\n",
    "        title=dict(x=0.5, xanchor=\"center\"),\n",
    "    )\n",
    ")\n",
    "pio.templates.default = \"simple_white+pds\"\n",
    "\n",
    "# Use plotly as default plotting engine\n",
    "pd.options.plotting.backend = \"plotly\""
   ]
  },
  {
   "cell_type": "markdown",
   "id": "385f266e",
   "metadata": {
    "jp-MarkdownHeadingCollapsed": true
   },
   "source": [
    "## Question 1: Sums of Residuals 🤔\n",
    "\n",
    "---\n",
    "\n",
    "In this problem, we will prove that the sum of the residuals of a fit regression model is 0.\n",
    "\n",
    "We define the $i$th **residual** to be the difference between the actual and predicted values for individual $i$ in our dataset, when the predictions are made using a regression model whose coefficients $w_0^*$ and $w_1^*$ (or, for multiple linear regression models, $w_0^*$, $w_1^*$, $w_2^*$, ..., $w_d^*$) are all optimal.\n",
    "\n",
    "In other words, the $i$th residual $e_i$ is: $$e_i = y_i - H^*(x_i)$$\n",
    "\n",
    "We use the letter $e$ for residuals because residuals are also known as errors.\n",
    "\n",
    "We'll get to the proof soon, but first, a warmup."
   ]
  },
  {
   "cell_type": "markdown",
   "id": "f12d9ae7",
   "metadata": {
    "tags": []
   },
   "source": [
    "<!-- BEGIN QUESTION -->\n",
    "\n",
    "### Question 1.1 [Written ✏️] <div style=\"display:inline-block; vertical-align: middle; padding:7px 7px; font-size:10px; font-weight:light; color:white; background-color:#e84c4a; border-radius:7px; text-align:left;\">3 Points</div>\n",
    "Suppose $\\vec{1} \\in \\mathbb{R}^n$ is a vector containing the value 1 for each element, i.e. $\\vec{1} = \\begin{bmatrix} 1 \\\\ 1 \\\\ ... \\\\ 1 \\end{bmatrix}$.\n",
    "\n",
    "For any other vector $\\vec{b} = \\begin{bmatrix} b_1 \\\\ b_2 \\\\ ... \\\\ b_n \\end{bmatrix}$, what is the value of $\\vec{1}^T \\vec{b}$, i.e. what is the dot product of $\\vec{1}$ and $\\vec{b}$?"
   ]
  },
  {
   "cell_type": "markdown",
   "id": "2a3dba15",
   "metadata": {},
   "source": [
    "DONE"
   ]
  },
  {
   "cell_type": "markdown",
   "id": "675289cb",
   "metadata": {},
   "source": [
    "<!-- END QUESTION -->\n",
    "\n",
    "<!-- BEGIN QUESTION -->\n",
    "\n",
    "### Question 1.2 [Written ✏️] <div style=\"display:inline-block; vertical-align: middle; padding:7px 7px; font-size:10px; font-weight:light; color:white; background-color:#e84c4a; border-radius:7px; text-align:left;\">4 Points</div>\n",
    "Back to the main problem at hand.\n",
    "\n",
    "Consider the typical multiple regression scenario where our hypothesis function has an intercept term:\n",
    "$$H(\\vec{x}) = w_0 + w_1 x^{(1)} + w_2 x^{(2)} + ... + w_d x^{(d)}$$\n",
    "\n",
    "Note that another way of writing the $i$th residual, $e_i = y_i - H^*(x_i)$, is:\n",
    "\n",
    "$$e_i = (\\vec{y} - X \\vec{w}^*)_i$$\n",
    "\n",
    "Here, $X$ is a $n \\times (d + 1)$ design matrix, $\\vec{y} \\in \\mathbb{R}^n$ is an observation vector, and $\\vec{w} \\in \\mathbb{R}^{(d+1)}$ is the parameter vector. We'll use $\\vec{w}^*$ to denote the optimal parameter vector, or the one that satisfies the normal equations. $(\\vec{y} - X \\vec{w}^*)_i$ is referring to element $i$ of the vector $\\vec{y} - X \\vec{w}^*$.\n",
    "\n",
    "Using facts about $\\vec{w}^*$ we learned in Lectures 16 and 17, prove that for multiple linear regression models with an intercept term, the sum of the residuals is 0. That is, prove that:$$\\sum_{i = 1}^n e_i = 0$$\n",
    "\n",
    "*Hint: Refer to the derivation of $\\vec{w*^*}$ in Lecture 16. How did we define $X$? Your proof should not be very long.*"
   ]
  },
  {
   "cell_type": "markdown",
   "id": "8e822f56",
   "metadata": {},
   "source": [
    "DONE "
   ]
  },
  {
   "cell_type": "markdown",
   "id": "f2e168e4",
   "metadata": {},
   "source": [
    "<!-- END QUESTION -->\n",
    "\n",
    "<!-- BEGIN QUESTION -->\n",
    "\n",
    "### Question 1.3 [Written ✏️]  <div style=\"display:inline-block; vertical-align: middle; padding:7px 7px; font-size:10px; font-weight:light; color:white; background-color:#e84c4a; border-radius:7px; text-align:left;\">4 Points</div>\n",
    "Now suppose our hypothesis function does not have an intercept term, but is otherwise linear with multiple features: $$H(\\vec{x}) = w_1 x^{(1)} + w_2 x^{(2)} + ... + w_d x^{(d)}$$\n",
    "\n",
    "- Is it still guaranteed that $\\displaystyle\\sum_{i = 1}^n e_i = 0$? Why or why not?\n",
    "- Is it still possible that $\\displaystyle\\sum_{i = 1}^n e_i = 0$? If you believe the answer is yes, come up with a simple example where a linear hypothesis function without an intercept has residuals that sum to 0. If you believe the answer is no, state why not."
   ]
  },
  {
   "cell_type": "markdown",
   "id": "a0b5ece8",
   "metadata": {},
   "source": [
    "DONE "
   ]
  },
  {
   "cell_type": "markdown",
   "id": "cd3be436",
   "metadata": {
    "jp-MarkdownHeadingCollapsed": true
   },
   "source": [
    "<!-- END QUESTION -->\n",
    "\n",
    "## Question 2: Real Estate 🏡\n",
    "\n",
    "---\n",
    "\n",
    "You are given a dataset containing information on recently sold houses in Ann Arbor, including:\n",
    "\n",
    "- square footage\n",
    "- number of bedrooms\n",
    "- number of bathrooms\n",
    "- year the house was built\n",
    "- asking price, or how much the house was originally listed for, before negotiations\n",
    "- sale price, or how much the house actually sold for, after negotiations\n",
    "\n",
    "The table below shows the first few rows of the data set. Note that since you don't have the full dataset, you cannot answer the questions that follow based on calculations; you must answer conceptually.\n",
    "\n",
    "<table border=\"1\" class=\"dataframe\">\n",
    "  <thead>\n",
    "    <tr style=\"text-align: right;\">\n",
    "      <th>House</th>\n",
    "      <th>Square Feet</th>\n",
    "      <th>Bedrooms</th>\n",
    "      <th>Bathrooms</th>\n",
    "      <th>Year</th>\n",
    "      <th>Asking Price</th>\n",
    "      <th>Sale Price</th>\n",
    "    </tr>\n",
    "  </thead>\n",
    "  <tbody>\n",
    "    <tr>\n",
    "      <td>1</td>\n",
    "      <td>1247</td>\n",
    "      <td>3</td>\n",
    "      <td>3</td>\n",
    "      <td>2005</td>\n",
    "      <td>500,000</td>\n",
    "      <td>494,000</td>\n",
    "    </tr>\n",
    "    <tr>\n",
    "      <td>2</td>\n",
    "      <td>1670</td>\n",
    "      <td>3</td>\n",
    "      <td>2</td>\n",
    "      <td>1927</td>\n",
    "      <td>1,000,000</td>\n",
    "      <td>985,000</td>\n",
    "    </tr>\n",
    "    <tr>\n",
    "      <td>3</td>\n",
    "      <td>716</td>\n",
    "      <td>1</td>\n",
    "      <td>1</td>\n",
    "      <td>1993</td>\n",
    "      <td>335,000</td>\n",
    "      <td>333,850</td>\n",
    "    </tr>\n",
    "    <tr>\n",
    "      <td>4</td>\n",
    "      <td>1600</td>\n",
    "      <td>4</td>\n",
    "      <td>2</td>\n",
    "      <td>1962</td>\n",
    "      <td>830,000</td>\n",
    "      <td>815,000</td>\n",
    "    </tr>\n",
    "    <tr>\n",
    "      <td>5</td>\n",
    "      <td>2635</td>\n",
    "      <td>4</td>\n",
    "      <td>3</td>\n",
    "      <td>1993</td>\n",
    "      <td>1,250,000</td>\n",
    "      <td>1,250,000</td>\n",
    "    </tr>\n",
    "    <tr>\n",
    "      <td>&#8943;</td> <!-- ellipsis -->\n",
    "      <td>&#8943;</td>\n",
    "      <td>&#8943;</td>\n",
    "      <td>&#8943;</td>\n",
    "      <td>&#8943;</td>\n",
    "      <td>&#8943;</td>\n",
    "      <td>&#8943;</td>\n",
    "    </tr>\n",
    "  </tbody>\n",
    "</table>\n"
   ]
  },
  {
   "cell_type": "markdown",
   "id": "2d75f90d",
   "metadata": {},
   "source": [
    "<!-- BEGIN QUESTION -->\n",
    "\n",
    "### Question 2.1 [Written ✏️] <div style=\"display:inline-block; vertical-align: middle; padding:7px 7px; font-size:10px; font-weight:light; color:white; background-color:#e84c4a; border-radius:7px; text-align:left;\">3 Points</div>\n",
    "First, suppose we fit a multiple linear regression model to predict the sale price of a house given all five of the other variables.  Which feature would you expect to have the largest magnitude weight? Why? (Remember that the weight of a feature is the value of $w^*$ for that feature.)\n",
    "\n",
    "Then, suppose we standardize each variable separately. (Recall, to standardize a column $x_1, x_2, ..., x_n$, we replace each value $x_i$ with $\\frac{x_i - \\bar{x}}{\\sigma_x}$.) Suppose we fit another multiple linear regression model to predict the sale price of a house given all five of the other standardized variables. Now, which feature would you expect to have the largest magnitude weight? Why?"
   ]
  },
  {
   "cell_type": "markdown",
   "id": "0b7a5b68",
   "metadata": {},
   "source": [
    "DONE"
   ]
  },
  {
   "cell_type": "markdown",
   "id": "0b66cfb6",
   "metadata": {},
   "source": [
    "<!-- END QUESTION -->\n",
    "\n",
    "<!-- BEGIN QUESTION -->\n",
    "\n",
    "### Question 2.2 [Written ✏️] <div style=\"display:inline-block; vertical-align: middle; padding:7px 7px; font-size:10px; font-weight:light; color:white; background-color:#e84c4a; border-radius:7px; text-align:left;\">3 Points</div>\n",
    "\n",
    "Suppose we fit a multiple linear regression model to predict the sale price of a house given all five of the other variables in their original, unstandardized form. Suppose the weight for the Year feature is $\\alpha$.\n",
    "\n",
    "Now, suppose we replace Year with a new feature, Age, which is 0 if the house was built in 2024, 1 if the house was built in 2023, 2 if the house was built in 2022, and so on. If we fit a new multiple linear regression model on all five variables, but using Age instead of Year, what will the weight for the Age feature be, in terms of $\\alpha$?"
   ]
  },
  {
   "cell_type": "markdown",
   "id": "662ee720",
   "metadata": {},
   "source": [
    "DONE"
   ]
  },
  {
   "cell_type": "markdown",
   "id": "0ab05f84",
   "metadata": {},
   "source": [
    "<!-- END QUESTION -->\n",
    "\n",
    "<!-- BEGIN QUESTION -->\n",
    "\n",
    "### Question 2.3 [Written ✏️] <div style=\"display:inline-block; vertical-align: middle; padding:7px 7px; font-size:10px; font-weight:light; color:white; background-color:#e84c4a; border-radius:7px; text-align:left;\">3 Points</div>\n",
    "\n",
    "Now, suppose we fit a multiple linear regression model to predict the sale price of a house given all five of the other features, plus a new sixth feature named $\\text{Rooms}$, which is the total number of bedrooms and bathrooms in the house. Will our new regression model with an added sixth feature make better predictions than the models we fit in Questions 2.1 or 2.2?"
   ]
  },
  {
   "cell_type": "markdown",
   "id": "bae80ab1",
   "metadata": {},
   "source": [
    "<!-- END QUESTION -->\n",
    "\n",
    "<!-- BEGIN QUESTION -->\n",
    "\n",
    "### Question 2.4 [Written ✏️] <div style=\"display:inline-block; vertical-align: middle; padding:7px 7px; font-size:10px; font-weight:light; color:white; background-color:#e84c4a; border-radius:7px; text-align:left;\">3 Points</div>\n",
    "\n",
    "Now, suppose we fit two multiple linear regression models to predict the sale price of a house.\n",
    "\n",
    "The first uses the features $\\text{Square Feet}$ and $\\text{Bathrooms}$:\n",
    "\n",
    "$$H_\\gamma(\\vec x) = \\gamma_0 + \\gamma_1 \\cdot \\text{Square Feet} +\\gamma_2 \\cdot \\text{Bathrooms}$$\n",
    "\n",
    "The second model uses the  features $\\text{Square Feet}$ and $\\text{Bathrooms}$ and a new seventh feature named $\\text{Length of Street Name}$, which is the number of letters in the name of the street that the house is on:\n",
    "\n",
    "$$H_\\lambda(\\vec x) = \\lambda_0 + \\lambda_1 \\cdot \\text{Square Feet} +\\lambda_2 \\cdot \\text{Bathrooms} + \\lambda_3 \\cdot \\text{Length of Street Name}$$\n",
    "\n",
    "Let $\\text{TMSE}$ refer to the \"training\" mean squared error, that is, the mean squared error of a hypothesis function **on the same dataset we used to fit it**. (Through Lecture 18, we just referred to this idea as MSE.)\n",
    "\n",
    "Argue why $\\text{TMSE}(H_\\lambda) \\leq \\text{TMSE}(H_\\gamma)$."
   ]
  },
  {
   "cell_type": "markdown",
   "id": "7b3554e5",
   "metadata": {
    "jp-MarkdownHeadingCollapsed": true,
    "tags": []
   },
   "source": [
    "<!-- END QUESTION -->\n",
    "\n",
    "## Question 3: Play Ball ⚾️\n",
    "\n",
    "---\n",
    "\n",
    "In this question, you'll get a feel for the process of creating new features from existing ones and how to _think_ about model generalizability, an idea we'll see more in Lecture 19.\n",
    "\n",
    "<br>\n",
    "\n",
    "As we discussed in Lecture 18, a numerical-to-numerical transformation results from taking the values in some numerical column $x_1, x_2, ..., x_n$ and applying some function $f$ to each value, to produce a new set of numbers $f(x_1), f(x_2), ..., f(x_n)$. These **transformed** values, $f(x_1), f(x_2), ..., f(x_n)$, can then either be used as a feature, or as the target ($y$) variable.\n",
    "\n",
    "A common goal of applying a numerical-to-numerical transformation is to modify the data from a complicated, non-linear relationship into a **linear** relationship. Linear relationships are easy to understand and are well-described using linear models.\n",
    "\n",
    "However, non-linear growth is common in real-world datasets. Sometimes this growth is by a **fixed power** and sometimes it is **exponential**. The transformation functions, $f$, that turn these types of growth linear are **root** and **log** transformations respectively. (Generally, it is more difficult to determine which transformation is appropriate for a given dataset, though the [Tukey-Mosteller bulge diagram](https://freakonometrics.hypotheses.org/files/2014/06/Selection_005.png) from Lectures 17 and 18 is useful.)\n",
    "\n",
    "Let's start by looking at some examples of transformations."
   ]
  },
  {
   "cell_type": "markdown",
   "id": "a48dec5b",
   "metadata": {},
   "source": [
    "### Example 1\n",
    "\n",
    "Run the cell below to generate a scatter plot."
   ]
  },
  {
   "cell_type": "code",
   "execution_count": 3,
   "id": "e546d51e",
   "metadata": {},
   "outputs": [
    {
     "data": {
      "application/vnd.plotly.v1+json": {
       "config": {
        "plotlyServerURL": "https://plot.ly"
       },
       "data": [
        {
         "hovertemplate": "x=%{x}<br>y=%{y}<extra></extra>",
         "legendgroup": "",
         "marker": {
          "color": "#1F77B4",
          "symbol": "circle"
         },
         "mode": "markers",
         "name": "",
         "orientation": "v",
         "showlegend": false,
         "type": "scatter",
         "x": [
          1.3334940281767342,
          2.012906540533137,
          2.611190293404091,
          4.474316911247471,
          5.350835897323757,
          5.474459218046441,
          6.816225941941417,
          7.431270154637486,
          8.33892623870457,
          10.886129139153715,
          10.826270504489068,
          12.335070081448576,
          13.161135760174652,
          14.030171467085244,
          14.478274999126636,
          15.495029061706077,
          17.220868186191105,
          18.5644384267234,
          18.080966116121026,
          19.530615684439937,
          20.89907973878431,
          22.52268563867706,
          23.26908098290725,
          24.406059334886127,
          25.120553150314763,
          25.523745234498506,
          26.931866621840683,
          28.633624104278088,
          29.08681682229509,
          29.38837261289643,
          31.707659990558877,
          32.22885548989133,
          33.36443792144573,
          34.98421736545491,
          34.72610599608749,
          35.66029086417425,
          35.74688484148996,
          38.07348024745351,
          39.30309774522677,
          39.9887305549735,
          41.00671112869007,
          42.46797244687282,
          43.21031133008538,
          44.205809820452664,
          44.96433803761893,
          45.97728121222439,
          47.52044298649494,
          47.95298263267223,
          48.789578023359766,
          49.72400571756281,
          50.939451226027174,
          52.095070679515,
          53.256068697373195,
          54.06576923333343,
          54.83419143789176,
          55.18380685969189,
          57.30955703637515,
          57.503713109716045,
          58.919326806597496,
          60.596202165340415,
          61.12536827598895,
          61.593191876264754,
          63.35181181506139,
          63.8659289304322,
          64.75872026067347,
          66.62230524012053,
          67.3384300585266,
          69.59375134328317,
          68.4597176226692,
          70.00511465072638,
          71.21891484021818,
          72.66389381148909,
          72.87442748457717,
          74.79655531358348,
          75.08540885355,
          75.64537304892008,
          76.93348770446904,
          77.99132153025484,
          78.94945354330945,
          79.71798018622445,
          80.9104822024308,
          82.50552941405732,
          83.460497917877,
          84.96654491707238,
          84.60231839055565,
          85.49423240163344,
          88.07538997279127,
          88.21257004190318,
          89.22057575353669,
          89.59128033656711,
          91.2189462398995,
          92.0498616389471,
          93.03270303426204,
          94.61221533571333,
          94.61520047551814,
          96.09605983956332,
          96.13837346912635,
          98.23062960130152,
          98.45731661056149,
          100.91168911732761
         ],
         "xaxis": "x",
         "y": [
          22.920753043397713,
          -12.779724936945986,
          138.82899499135644,
          126.69779702313319,
          79.8022686364038,
          -59.8096355143432,
          -101.70830514795452,
          -84.88263937407467,
          273.49378113560925,
          -52.757347963372155,
          547.4787294329273,
          1083.8563487112756,
          -169.59280973833006,
          227.03733524935467,
          817.6370902087476,
          656.5826326094747,
          191.59587710718733,
          618.4855987790022,
          664.2859770119368,
          1121.7285220895,
          372.03616139554674,
          990.739868305774,
          963.2374704318458,
          1400.1628062515333,
          908.131612728823,
          378.77972661038916,
          604.3852788304825,
          2640.3525633248028,
          1290.1206834808847,
          1819.5201380007156,
          2224.0613071635353,
          2256.9597049883705,
          3694.815261425011,
          2197.9369224377365,
          3349.325473083215,
          3005.466884408579,
          3044.7420558137314,
          1738.5577761651173,
          2486.226718360496,
          4219.211150473849,
          2803.8932025297518,
          3472.937440762097,
          3578.536340828953,
          2222.433801498799,
          2712.523270087474,
          4610.759622032107,
          3275.3940189067316,
          2690.143803430548,
          5851.178825808349,
          6314.1032554386975,
          5098.997721340042,
          4007.988478933152,
          7258.885760428301,
          6600.850986586599,
          3313.5948364311184,
          4698.650718386465,
          4112.723229636089,
          2975.411149941616,
          9215.114987457786,
          9860.193032006418,
          3495.7132325463886,
          8663.88697341136,
          7864.076901369791,
          8156.182901121289,
          9820.51303700965,
          10470.951313609272,
          8645.407924154239,
          8498.623177425507,
          10463.251725677303,
          13221.310770766959,
          6755.064820387253,
          8340.680730944634,
          10083.033185115151,
          9624.85794735366,
          10067.571217450648,
          12681.821021908298,
          12922.923413471495,
          11633.433084486482,
          12592.534320137474,
          10523.392327764597,
          14997.859965551079,
          12247.141142240125,
          10553.883385243027,
          12698.174422349659,
          14094.596906850538,
          17872.05401895161,
          15563.806114015837,
          14032.834543760842,
          21667.282037066718,
          15623.84655347914,
          20190.39440608535,
          18197.371428074384,
          18178.161901581436,
          14356.219351696664,
          18923.068886245568,
          16650.691613126874,
          15536.731654479374,
          20563.644688474044,
          18205.58247167097,
          20374.95811153422
         ],
         "yaxis": "y"
        },
        {
         "hovertemplate": "<b>OLS trendline</b><br>y = 200.569 * x + -3485.84<br>R<sup>2</sup>=0.872782<br><br>x=%{x}<br>y=%{y} <b>(trend)</b><extra></extra>",
         "legendgroup": "",
         "line": {
          "color": "#ff7f0e"
         },
         "marker": {
          "color": "#1F77B4",
          "symbol": "circle"
         },
         "mode": "lines",
         "name": "",
         "showlegend": false,
         "type": "scatter",
         "x": [
          1.3334940281767342,
          2.012906540533137,
          2.611190293404091,
          4.474316911247471,
          5.350835897323757,
          5.474459218046441,
          6.816225941941417,
          7.431270154637486,
          8.33892623870457,
          10.826270504489068,
          10.886129139153715,
          12.335070081448576,
          13.161135760174652,
          14.030171467085244,
          14.478274999126636,
          15.495029061706077,
          17.220868186191105,
          18.080966116121026,
          18.5644384267234,
          19.530615684439937,
          20.89907973878431,
          22.52268563867706,
          23.26908098290725,
          24.406059334886127,
          25.120553150314763,
          25.523745234498506,
          26.931866621840683,
          28.633624104278088,
          29.08681682229509,
          29.38837261289643,
          31.707659990558877,
          32.22885548989133,
          33.36443792144573,
          34.72610599608749,
          34.98421736545491,
          35.66029086417425,
          35.74688484148996,
          38.07348024745351,
          39.30309774522677,
          39.9887305549735,
          41.00671112869007,
          42.46797244687282,
          43.21031133008538,
          44.205809820452664,
          44.96433803761893,
          45.97728121222439,
          47.52044298649494,
          47.95298263267223,
          48.789578023359766,
          49.72400571756281,
          50.939451226027174,
          52.095070679515,
          53.256068697373195,
          54.06576923333343,
          54.83419143789176,
          55.18380685969189,
          57.30955703637515,
          57.503713109716045,
          58.919326806597496,
          60.596202165340415,
          61.12536827598895,
          61.593191876264754,
          63.35181181506139,
          63.8659289304322,
          64.75872026067347,
          66.62230524012053,
          67.3384300585266,
          68.4597176226692,
          69.59375134328317,
          70.00511465072638,
          71.21891484021818,
          72.66389381148909,
          72.87442748457717,
          74.79655531358348,
          75.08540885355,
          75.64537304892008,
          76.93348770446904,
          77.99132153025484,
          78.94945354330945,
          79.71798018622445,
          80.9104822024308,
          82.50552941405732,
          83.460497917877,
          84.60231839055565,
          84.96654491707238,
          85.49423240163344,
          88.07538997279127,
          88.21257004190318,
          89.22057575353669,
          89.59128033656711,
          91.2189462398995,
          92.0498616389471,
          93.03270303426204,
          94.61221533571333,
          94.61520047551814,
          96.09605983956332,
          96.13837346912635,
          98.23062960130152,
          98.45731661056149,
          100.91168911732761
         ],
         "xaxis": "x",
         "y": [
          -3218.3815330066604,
          -3082.112175822043,
          -2962.1147649192567,
          -2588.4285846537314,
          -2412.625701102962,
          -2387.8306463438425,
          -2118.7133050650814,
          -1995.3542588598104,
          -1813.3062263742881,
          -1314.4210895378703,
          -1302.4152793425153,
          -1011.802069820964,
          -846.118575647652,
          -671.8166088786554,
          -581.9407541469645,
          -378.01100601499644,
          -31.860495359889487,
          140.64882687921562,
          237.61857616135262,
          431.4041650943447,
          705.8761738140497,
          1031.5218283696092,
          1181.2258916802427,
          1409.268952912109,
          1552.5745458620524,
          1633.442538626989,
          1915.868594669909,
          2257.189064926734,
          2348.085654615284,
          2408.5685173727293,
          2873.746585678113,
          2978.2824521360635,
          3206.045534451638,
          3479.154477627698,
          3530.923719062111,
          3666.5233722985704,
          3683.891474019195,
          4150.535309146306,
          4397.158947888807,
          4534.675906363453,
          4738.851655093285,
          5031.935954964192,
          5180.826416338942,
          5380.492947192359,
          5532.630493498569,
          5735.795894131673,
          6045.3069190057795,
          6132.061134551521,
          6299.856566692167,
          6487.274164850496,
          6731.05533625831,
          6962.837231959132,
          7195.697903066642,
          7358.099050441245,
          7512.2210278219345,
          7582.343181777116,
          8008.703610593829,
          8047.64537693824,
          8331.574160979506,
          8667.904038717692,
          8774.038565872432,
          8867.869662777422,
          9220.595001556814,
          9323.71116081948,
          9502.777778609641,
          9876.555892185128,
          10020.188614417002,
          10245.08458381102,
          10472.537042108817,
          10555.043932186842,
          10798.49510296223,
          11088.31366234885,
          11130.540273981194,
          11516.060291528287,
          11573.99547154907,
          11686.307151951936,
          11944.663530292617,
          12156.832621715468,
          12349.004580786579,
          12503.147505305376,
          12742.326914330677,
          13062.244570032379,
          13253.78202596725,
          13482.796268422846,
          13555.848962824777,
          13661.686922838358,
          14179.388137662874,
          14206.902261257075,
          14409.077357924512,
          14483.429352208139,
          14809.889319201024,
          14976.545518849613,
          15173.673423794262,
          15490.475251946425,
          15491.073979633817,
          15788.089047724588,
          15796.575866845276,
          16216.218415388043,
          16261.684891898496,
          16753.956902946138
         ],
         "yaxis": "y"
        }
       ],
       "layout": {
        "legend": {
         "tracegroupgap": 0
        },
        "template": {
         "data": {
          "bar": [
           {
            "error_x": {
             "color": "rgb(36,36,36)"
            },
            "error_y": {
             "color": "rgb(36,36,36)"
            },
            "marker": {
             "line": {
              "color": "white",
              "width": 0.5
             },
             "pattern": {
              "fillmode": "overlay",
              "size": 10,
              "solidity": 0.2
             }
            },
            "type": "bar"
           }
          ],
          "barpolar": [
           {
            "marker": {
             "line": {
              "color": "white",
              "width": 0.5
             },
             "pattern": {
              "fillmode": "overlay",
              "size": 10,
              "solidity": 0.2
             }
            },
            "type": "barpolar"
           }
          ],
          "carpet": [
           {
            "aaxis": {
             "endlinecolor": "rgb(36,36,36)",
             "gridcolor": "white",
             "linecolor": "white",
             "minorgridcolor": "white",
             "startlinecolor": "rgb(36,36,36)"
            },
            "baxis": {
             "endlinecolor": "rgb(36,36,36)",
             "gridcolor": "white",
             "linecolor": "white",
             "minorgridcolor": "white",
             "startlinecolor": "rgb(36,36,36)"
            },
            "type": "carpet"
           }
          ],
          "choropleth": [
           {
            "colorbar": {
             "outlinewidth": 1,
             "tickcolor": "rgb(36,36,36)",
             "ticks": "outside"
            },
            "type": "choropleth"
           }
          ],
          "contour": [
           {
            "colorbar": {
             "outlinewidth": 1,
             "tickcolor": "rgb(36,36,36)",
             "ticks": "outside"
            },
            "colorscale": [
             [
              0,
              "#440154"
             ],
             [
              0.1111111111111111,
              "#482878"
             ],
             [
              0.2222222222222222,
              "#3e4989"
             ],
             [
              0.3333333333333333,
              "#31688e"
             ],
             [
              0.4444444444444444,
              "#26828e"
             ],
             [
              0.5555555555555556,
              "#1f9e89"
             ],
             [
              0.6666666666666666,
              "#35b779"
             ],
             [
              0.7777777777777778,
              "#6ece58"
             ],
             [
              0.8888888888888888,
              "#b5de2b"
             ],
             [
              1,
              "#fde725"
             ]
            ],
            "type": "contour"
           }
          ],
          "contourcarpet": [
           {
            "colorbar": {
             "outlinewidth": 1,
             "tickcolor": "rgb(36,36,36)",
             "ticks": "outside"
            },
            "type": "contourcarpet"
           }
          ],
          "heatmap": [
           {
            "colorbar": {
             "outlinewidth": 1,
             "tickcolor": "rgb(36,36,36)",
             "ticks": "outside"
            },
            "colorscale": [
             [
              0,
              "#440154"
             ],
             [
              0.1111111111111111,
              "#482878"
             ],
             [
              0.2222222222222222,
              "#3e4989"
             ],
             [
              0.3333333333333333,
              "#31688e"
             ],
             [
              0.4444444444444444,
              "#26828e"
             ],
             [
              0.5555555555555556,
              "#1f9e89"
             ],
             [
              0.6666666666666666,
              "#35b779"
             ],
             [
              0.7777777777777778,
              "#6ece58"
             ],
             [
              0.8888888888888888,
              "#b5de2b"
             ],
             [
              1,
              "#fde725"
             ]
            ],
            "type": "heatmap"
           }
          ],
          "heatmapgl": [
           {
            "colorbar": {
             "outlinewidth": 1,
             "tickcolor": "rgb(36,36,36)",
             "ticks": "outside"
            },
            "colorscale": [
             [
              0,
              "#440154"
             ],
             [
              0.1111111111111111,
              "#482878"
             ],
             [
              0.2222222222222222,
              "#3e4989"
             ],
             [
              0.3333333333333333,
              "#31688e"
             ],
             [
              0.4444444444444444,
              "#26828e"
             ],
             [
              0.5555555555555556,
              "#1f9e89"
             ],
             [
              0.6666666666666666,
              "#35b779"
             ],
             [
              0.7777777777777778,
              "#6ece58"
             ],
             [
              0.8888888888888888,
              "#b5de2b"
             ],
             [
              1,
              "#fde725"
             ]
            ],
            "type": "heatmapgl"
           }
          ],
          "histogram": [
           {
            "marker": {
             "line": {
              "color": "white",
              "width": 0.6
             }
            },
            "type": "histogram"
           }
          ],
          "histogram2d": [
           {
            "colorbar": {
             "outlinewidth": 1,
             "tickcolor": "rgb(36,36,36)",
             "ticks": "outside"
            },
            "colorscale": [
             [
              0,
              "#440154"
             ],
             [
              0.1111111111111111,
              "#482878"
             ],
             [
              0.2222222222222222,
              "#3e4989"
             ],
             [
              0.3333333333333333,
              "#31688e"
             ],
             [
              0.4444444444444444,
              "#26828e"
             ],
             [
              0.5555555555555556,
              "#1f9e89"
             ],
             [
              0.6666666666666666,
              "#35b779"
             ],
             [
              0.7777777777777778,
              "#6ece58"
             ],
             [
              0.8888888888888888,
              "#b5de2b"
             ],
             [
              1,
              "#fde725"
             ]
            ],
            "type": "histogram2d"
           }
          ],
          "histogram2dcontour": [
           {
            "colorbar": {
             "outlinewidth": 1,
             "tickcolor": "rgb(36,36,36)",
             "ticks": "outside"
            },
            "colorscale": [
             [
              0,
              "#440154"
             ],
             [
              0.1111111111111111,
              "#482878"
             ],
             [
              0.2222222222222222,
              "#3e4989"
             ],
             [
              0.3333333333333333,
              "#31688e"
             ],
             [
              0.4444444444444444,
              "#26828e"
             ],
             [
              0.5555555555555556,
              "#1f9e89"
             ],
             [
              0.6666666666666666,
              "#35b779"
             ],
             [
              0.7777777777777778,
              "#6ece58"
             ],
             [
              0.8888888888888888,
              "#b5de2b"
             ],
             [
              1,
              "#fde725"
             ]
            ],
            "type": "histogram2dcontour"
           }
          ],
          "mesh3d": [
           {
            "colorbar": {
             "outlinewidth": 1,
             "tickcolor": "rgb(36,36,36)",
             "ticks": "outside"
            },
            "type": "mesh3d"
           }
          ],
          "parcoords": [
           {
            "line": {
             "colorbar": {
              "outlinewidth": 1,
              "tickcolor": "rgb(36,36,36)",
              "ticks": "outside"
             }
            },
            "type": "parcoords"
           }
          ],
          "pie": [
           {
            "automargin": true,
            "type": "pie"
           }
          ],
          "scatter": [
           {
            "fillpattern": {
             "fillmode": "overlay",
             "size": 10,
             "solidity": 0.2
            },
            "type": "scatter"
           }
          ],
          "scatter3d": [
           {
            "line": {
             "colorbar": {
              "outlinewidth": 1,
              "tickcolor": "rgb(36,36,36)",
              "ticks": "outside"
             }
            },
            "marker": {
             "colorbar": {
              "outlinewidth": 1,
              "tickcolor": "rgb(36,36,36)",
              "ticks": "outside"
             }
            },
            "type": "scatter3d"
           }
          ],
          "scattercarpet": [
           {
            "marker": {
             "colorbar": {
              "outlinewidth": 1,
              "tickcolor": "rgb(36,36,36)",
              "ticks": "outside"
             }
            },
            "type": "scattercarpet"
           }
          ],
          "scattergeo": [
           {
            "marker": {
             "colorbar": {
              "outlinewidth": 1,
              "tickcolor": "rgb(36,36,36)",
              "ticks": "outside"
             }
            },
            "type": "scattergeo"
           }
          ],
          "scattergl": [
           {
            "marker": {
             "colorbar": {
              "outlinewidth": 1,
              "tickcolor": "rgb(36,36,36)",
              "ticks": "outside"
             }
            },
            "type": "scattergl"
           }
          ],
          "scattermapbox": [
           {
            "marker": {
             "colorbar": {
              "outlinewidth": 1,
              "tickcolor": "rgb(36,36,36)",
              "ticks": "outside"
             }
            },
            "type": "scattermapbox"
           }
          ],
          "scatterpolar": [
           {
            "marker": {
             "colorbar": {
              "outlinewidth": 1,
              "tickcolor": "rgb(36,36,36)",
              "ticks": "outside"
             }
            },
            "type": "scatterpolar"
           }
          ],
          "scatterpolargl": [
           {
            "marker": {
             "colorbar": {
              "outlinewidth": 1,
              "tickcolor": "rgb(36,36,36)",
              "ticks": "outside"
             }
            },
            "type": "scatterpolargl"
           }
          ],
          "scatterternary": [
           {
            "marker": {
             "colorbar": {
              "outlinewidth": 1,
              "tickcolor": "rgb(36,36,36)",
              "ticks": "outside"
             }
            },
            "type": "scatterternary"
           }
          ],
          "surface": [
           {
            "colorbar": {
             "outlinewidth": 1,
             "tickcolor": "rgb(36,36,36)",
             "ticks": "outside"
            },
            "colorscale": [
             [
              0,
              "#440154"
             ],
             [
              0.1111111111111111,
              "#482878"
             ],
             [
              0.2222222222222222,
              "#3e4989"
             ],
             [
              0.3333333333333333,
              "#31688e"
             ],
             [
              0.4444444444444444,
              "#26828e"
             ],
             [
              0.5555555555555556,
              "#1f9e89"
             ],
             [
              0.6666666666666666,
              "#35b779"
             ],
             [
              0.7777777777777778,
              "#6ece58"
             ],
             [
              0.8888888888888888,
              "#b5de2b"
             ],
             [
              1,
              "#fde725"
             ]
            ],
            "type": "surface"
           }
          ],
          "table": [
           {
            "cells": {
             "fill": {
              "color": "rgb(237,237,237)"
             },
             "line": {
              "color": "white"
             }
            },
            "header": {
             "fill": {
              "color": "rgb(217,217,217)"
             },
             "line": {
              "color": "white"
             }
            },
            "type": "table"
           }
          ]
         },
         "layout": {
          "annotationdefaults": {
           "arrowhead": 0,
           "arrowwidth": 1
          },
          "autosize": true,
          "autotypenumbers": "strict",
          "coloraxis": {
           "colorbar": {
            "outlinewidth": 1,
            "tickcolor": "rgb(36,36,36)",
            "ticks": "outside"
           }
          },
          "colorscale": {
           "diverging": [
            [
             0,
             "rgb(103,0,31)"
            ],
            [
             0.1,
             "rgb(178,24,43)"
            ],
            [
             0.2,
             "rgb(214,96,77)"
            ],
            [
             0.3,
             "rgb(244,165,130)"
            ],
            [
             0.4,
             "rgb(253,219,199)"
            ],
            [
             0.5,
             "rgb(247,247,247)"
            ],
            [
             0.6,
             "rgb(209,229,240)"
            ],
            [
             0.7,
             "rgb(146,197,222)"
            ],
            [
             0.8,
             "rgb(67,147,195)"
            ],
            [
             0.9,
             "rgb(33,102,172)"
            ],
            [
             1,
             "rgb(5,48,97)"
            ]
           ],
           "sequential": [
            [
             0,
             "#440154"
            ],
            [
             0.1111111111111111,
             "#482878"
            ],
            [
             0.2222222222222222,
             "#3e4989"
            ],
            [
             0.3333333333333333,
             "#31688e"
            ],
            [
             0.4444444444444444,
             "#26828e"
            ],
            [
             0.5555555555555556,
             "#1f9e89"
            ],
            [
             0.6666666666666666,
             "#35b779"
            ],
            [
             0.7777777777777778,
             "#6ece58"
            ],
            [
             0.8888888888888888,
             "#b5de2b"
            ],
            [
             1,
             "#fde725"
            ]
           ],
           "sequentialminus": [
            [
             0,
             "#440154"
            ],
            [
             0.1111111111111111,
             "#482878"
            ],
            [
             0.2222222222222222,
             "#3e4989"
            ],
            [
             0.3333333333333333,
             "#31688e"
            ],
            [
             0.4444444444444444,
             "#26828e"
            ],
            [
             0.5555555555555556,
             "#1f9e89"
            ],
            [
             0.6666666666666666,
             "#35b779"
            ],
            [
             0.7777777777777778,
             "#6ece58"
            ],
            [
             0.8888888888888888,
             "#b5de2b"
            ],
            [
             1,
             "#fde725"
            ]
           ]
          },
          "colorway": [
           "#1F77B4",
           "#FF7F0E",
           "#2CA02C",
           "#D62728",
           "#9467BD",
           "#8C564B",
           "#E377C2",
           "#7F7F7F",
           "#BCBD22",
           "#17BECF"
          ],
          "font": {
           "color": "rgb(36,36,36)"
          },
          "geo": {
           "bgcolor": "white",
           "lakecolor": "white",
           "landcolor": "white",
           "showlakes": true,
           "showland": true,
           "subunitcolor": "white"
          },
          "height": 400,
          "hoverlabel": {
           "align": "left"
          },
          "hovermode": "closest",
          "mapbox": {
           "style": "light"
          },
          "margin": {
           "b": 30,
           "l": 30,
           "r": 30,
           "t": 30
          },
          "paper_bgcolor": "white",
          "plot_bgcolor": "white",
          "polar": {
           "angularaxis": {
            "gridcolor": "rgb(232,232,232)",
            "linecolor": "rgb(36,36,36)",
            "showgrid": false,
            "showline": true,
            "ticks": "outside"
           },
           "bgcolor": "white",
           "radialaxis": {
            "gridcolor": "rgb(232,232,232)",
            "linecolor": "rgb(36,36,36)",
            "showgrid": false,
            "showline": true,
            "ticks": "outside"
           }
          },
          "scene": {
           "xaxis": {
            "backgroundcolor": "white",
            "gridcolor": "rgb(232,232,232)",
            "gridwidth": 2,
            "linecolor": "rgb(36,36,36)",
            "showbackground": true,
            "showgrid": false,
            "showline": true,
            "ticks": "outside",
            "zeroline": false,
            "zerolinecolor": "rgb(36,36,36)"
           },
           "yaxis": {
            "backgroundcolor": "white",
            "gridcolor": "rgb(232,232,232)",
            "gridwidth": 2,
            "linecolor": "rgb(36,36,36)",
            "showbackground": true,
            "showgrid": false,
            "showline": true,
            "ticks": "outside",
            "zeroline": false,
            "zerolinecolor": "rgb(36,36,36)"
           },
           "zaxis": {
            "backgroundcolor": "white",
            "gridcolor": "rgb(232,232,232)",
            "gridwidth": 2,
            "linecolor": "rgb(36,36,36)",
            "showbackground": true,
            "showgrid": false,
            "showline": true,
            "ticks": "outside",
            "zeroline": false,
            "zerolinecolor": "rgb(36,36,36)"
           }
          },
          "shapedefaults": {
           "fillcolor": "black",
           "line": {
            "width": 0
           },
           "opacity": 0.3
          },
          "ternary": {
           "aaxis": {
            "gridcolor": "rgb(232,232,232)",
            "linecolor": "rgb(36,36,36)",
            "showgrid": false,
            "showline": true,
            "ticks": "outside"
           },
           "baxis": {
            "gridcolor": "rgb(232,232,232)",
            "linecolor": "rgb(36,36,36)",
            "showgrid": false,
            "showline": true,
            "ticks": "outside"
           },
           "bgcolor": "white",
           "caxis": {
            "gridcolor": "rgb(232,232,232)",
            "linecolor": "rgb(36,36,36)",
            "showgrid": false,
            "showline": true,
            "ticks": "outside"
           }
          },
          "title": {
           "x": 0.5,
           "xanchor": "center"
          },
          "width": 600,
          "xaxis": {
           "automargin": true,
           "gridcolor": "rgb(232,232,232)",
           "linecolor": "rgb(36,36,36)",
           "showgrid": true,
           "showline": true,
           "ticks": "outside",
           "title": {
            "standoff": 15
           },
           "zeroline": false,
           "zerolinecolor": "rgb(36,36,36)"
          },
          "yaxis": {
           "automargin": true,
           "gridcolor": "rgb(232,232,232)",
           "linecolor": "rgb(36,36,36)",
           "showgrid": true,
           "showline": true,
           "ticks": "outside",
           "title": {
            "standoff": 15
           },
           "zeroline": false,
           "zerolinecolor": "rgb(36,36,36)"
          }
         }
        },
        "xaxis": {
         "anchor": "y",
         "domain": [
          0,
          1
         ],
         "title": {
          "text": "x"
         }
        },
        "yaxis": {
         "anchor": "x",
         "domain": [
          0,
          1
         ],
         "title": {
          "text": "y"
         }
        }
       }
      }
     },
     "metadata": {},
     "output_type": "display_data"
    }
   ],
   "source": [
    "# By setting a seed, we guarantee that we will see the same results each time we run this cell.\n",
    "np.random.seed(23)\n",
    "\n",
    "# Generates a random scatter plot\n",
    "x = np.arange(1, 101) + np.random.normal(0, 0.5, 100)\n",
    "y = 2 * ((x + np.random.normal(0, 1, 100)) ** 2) + np.abs(x) * np.random.normal(0, 30, 100)\n",
    "df_1 = pd.DataFrame().assign(x=x, y=y)\n",
    "\n",
    "px.scatter(df_1, x='x', y='y', trendline=\"ols\", trendline_color_override=\"#ff7f0e\")"
   ]
  },
  {
   "cell_type": "markdown",
   "id": "0115a96d",
   "metadata": {},
   "source": [
    "It doesn't appear to be the case that `'x'` and `'y'` are linearly associated here, and they aren't – there is a **quadratic** relationship between them. \n",
    "\n",
    "One way we may be able to notice this is a **residual plot**, where we visualize the residuals (or errors), $e = y_i - H^*(x_i)$, as defined in Question 1. Note that if we were to create a **residual plot** based on the data above, there would be a pattern – the residuals for smaller `'x'` would mostly be positive, and the residuals for larger `'x'` would mostly be negative. Patterns in a residual plot imply that the relationship between the two variables is non-linear.\n",
    "\n",
    "Let's take a look at the residual plot, using a helper function defined below. This function fits a `LinearRegression` model to `'x'` and `'y'`, adds a `'residuals'` column to the `df`, and plots that against the predictions `'pred'`. Note that it's equally valid to plot the residuals against `'x'`: to do that, change `x = 'pred'` to `x = x` in the call to `px.scatter` below. You'll see the trend is the same, but the x-axis will have different numbers. That's because `'pred'` is just a linear transformation of `'x'`."
   ]
  },
  {
   "cell_type": "code",
   "execution_count": 4,
   "id": "5e48ee74",
   "metadata": {},
   "outputs": [
    {
     "data": {
      "application/vnd.plotly.v1+json": {
       "config": {
        "plotlyServerURL": "https://plot.ly"
       },
       "data": [
        {
         "hovertemplate": "pred=%{x}<br>y residuals=%{y}<extra></extra>",
         "legendgroup": "",
         "marker": {
          "color": "#1F77B4",
          "symbol": "circle"
         },
         "mode": "markers",
         "name": "",
         "orientation": "v",
         "showlegend": false,
         "type": "scatter",
         "x": [
          -3218.381533006653,
          -3082.1121758220356,
          -2962.1147649192494,
          -2588.428584653724,
          -2412.625701102955,
          -2387.8306463438357,
          -2118.7133050650746,
          -1995.3542588598036,
          -1813.3062263742816,
          -1302.4152793425092,
          -1314.4210895378642,
          -1011.802069820958,
          -846.1185756476461,
          -671.8166088786497,
          -581.9407541469591,
          -378.0110060149909,
          -31.860495359884226,
          237.61857616135785,
          140.6488268792209,
          431.40416509434954,
          705.8761738140547,
          1031.521828369614,
          1181.2258916802475,
          1409.2689529121135,
          1552.5745458620568,
          1633.4425386269932,
          1915.8685946699134,
          2257.189064926738,
          2348.0856546152872,
          2408.5685173727325,
          2873.7465856781164,
          2978.2824521360662,
          3206.0455344516413,
          3530.9237190621134,
          3479.1544776277005,
          3666.523372298573,
          3683.8914740191976,
          4150.5353091463085,
          4397.158947888809,
          4534.6759063634545,
          4738.851655093287,
          5031.935954964194,
          5180.826416338943,
          5380.492947192361,
          5532.630493498571,
          5735.795894131674,
          6045.306919005781,
          6132.061134551523,
          6299.856566692168,
          6487.274164850496,
          6731.0553362583105,
          6962.837231959131,
          7195.6979030666425,
          7358.099050441244,
          7512.221027821934,
          7582.343181777116,
          8008.703610593828,
          8047.645376938239,
          8331.574160979506,
          8667.904038717692,
          8774.03856587243,
          8867.869662777422,
          9220.595001556812,
          9323.711160819477,
          9502.77777860964,
          9876.555892185126,
          10020.188614417,
          10472.537042108816,
          10245.084583811018,
          10555.04393218684,
          10798.495102962226,
          11088.313662348848,
          11130.540273981193,
          11516.060291528285,
          11573.995471549066,
          11686.307151951933,
          11944.663530292613,
          12156.832621715464,
          12349.004580786575,
          12503.147505305373,
          12742.326914330673,
          13062.244570032373,
          13253.782025967244,
          13555.848962824773,
          13482.79626842284,
          13661.686922838355,
          14179.38813766287,
          14206.90226125707,
          14409.077357924507,
          14483.429352208132,
          14809.889319201018,
          14976.545518849605,
          15173.673423794258,
          15490.47525194642,
          15491.07397963381,
          15788.089047724581,
          15796.575866845273,
          16216.218415388037,
          16261.68489189849,
          16753.95690294613
         ],
         "xaxis": "x",
         "y": [
          3241.302286050051,
          3069.3324508850897,
          3100.943759910606,
          2715.1263816768574,
          2492.427969739359,
          2328.0210108294923,
          2017.0049999171201,
          1910.471619485729,
          2086.8000075098907,
          1249.657931379137,
          1861.8998189707913,
          2095.6584185322336,
          676.5257659093161,
          898.8539441280044,
          1399.5778443557067,
          1034.5936386244657,
          223.45637246707156,
          380.86702261764435,
          523.6371501327159,
          690.3243569951505,
          -333.84001241850797,
          -40.78196006383996,
          -217.98842124840166,
          -9.10614666058018,
          -644.4429331332337,
          -1254.662812016604,
          -1311.4833158394308,
          383.1634983980648,
          -1057.9649711344025,
          -589.0483793720168,
          -649.6852785145811,
          -721.3227471476957,
          488.76972697336987,
          -1332.986796624377,
          -129.82900454448554,
          -661.0564878899941,
          -639.1494182054662,
          -2411.977532981191,
          -1910.9322295283132,
          -315.46475588960584,
          -1934.9584525635355,
          -1558.9985142020969,
          -1602.29007550999,
          -3158.0591456935617,
          -2820.107223411097,
          -1125.0362720995672,
          -2769.9129000990497,
          -3441.9173311209747,
          -448.67774088381884,
          -173.17090941179868,
          -1632.0576149182689,
          -2954.848753025979,
          63.187857361658644,
          -757.2480638546449,
          -4198.626191390815,
          -2883.692463390651,
          -3895.980380957739,
          -5072.234226996623,
          883.54082647828,
          1192.2889932887265,
          -5278.325333326042,
          -203.9826893660629,
          -1356.5181001870214,
          -1167.5282596981879,
          317.73525840001093,
          594.3954214241458,
          -1374.7806902627617,
          -1973.913864683309,
          218.1671418662845,
          2666.266838580119,
          -4043.430282574973,
          -2747.632931404214,
          -1047.5070888660412,
          -1891.202344174626,
          -1506.4242540984178,
          995.5138699563649,
          978.2598831788819,
          -523.3995372289828,
          243.52973935089904,
          -1979.7551775407755,
          2255.5330512204055,
          -815.1034277922481,
          -2699.8986407242173,
          -857.6745404751146,
          611.8006384276978,
          4210.367096113256,
          1384.4179763529664,
          -174.0677174962275,
          7258.204679142211,
          1140.4172012710078,
          5380.505086884332,
          3220.825909224779,
          3004.4884777871775,
          -1134.2559002497565,
          3431.994906611759,
          862.6025654022924,
          -259.8442123658988,
          4347.426273086006,
          1943.897579772478,
          3621.001208588088
         ],
         "yaxis": "y"
        },
        {
         "hovertemplate": "<b>OLS trendline</b><br>y residuals = 1.64799e-17 * pred + -1.27898e-12<br>R<sup>2</sup>=-0.000000<br><br>pred=%{x}<br>y residuals=%{y} <b>(trend)</b><extra></extra>",
         "legendgroup": "",
         "line": {
          "color": "red"
         },
         "marker": {
          "color": "#1F77B4",
          "symbol": "circle"
         },
         "mode": "lines",
         "name": "",
         "showlegend": false,
         "type": "scatter",
         "x": [
          -3218.381533006653,
          -3082.1121758220356,
          -2962.1147649192494,
          -2588.428584653724,
          -2412.625701102955,
          -2387.8306463438357,
          -2118.7133050650746,
          -1995.3542588598036,
          -1813.3062263742816,
          -1314.4210895378642,
          -1302.4152793425092,
          -1011.802069820958,
          -846.1185756476461,
          -671.8166088786497,
          -581.9407541469591,
          -378.0110060149909,
          -31.860495359884226,
          140.6488268792209,
          237.61857616135785,
          431.40416509434954,
          705.8761738140547,
          1031.521828369614,
          1181.2258916802475,
          1409.2689529121135,
          1552.5745458620568,
          1633.4425386269932,
          1915.8685946699134,
          2257.189064926738,
          2348.0856546152872,
          2408.5685173727325,
          2873.7465856781164,
          2978.2824521360662,
          3206.0455344516413,
          3479.1544776277005,
          3530.9237190621134,
          3666.523372298573,
          3683.8914740191976,
          4150.5353091463085,
          4397.158947888809,
          4534.6759063634545,
          4738.851655093287,
          5031.935954964194,
          5180.826416338943,
          5380.492947192361,
          5532.630493498571,
          5735.795894131674,
          6045.306919005781,
          6132.061134551523,
          6299.856566692168,
          6487.274164850496,
          6731.0553362583105,
          6962.837231959131,
          7195.6979030666425,
          7358.099050441244,
          7512.221027821934,
          7582.343181777116,
          8008.703610593828,
          8047.645376938239,
          8331.574160979506,
          8667.904038717692,
          8774.03856587243,
          8867.869662777422,
          9220.595001556812,
          9323.711160819477,
          9502.77777860964,
          9876.555892185126,
          10020.188614417,
          10245.084583811018,
          10472.537042108816,
          10555.04393218684,
          10798.495102962226,
          11088.313662348848,
          11130.540273981193,
          11516.060291528285,
          11573.995471549066,
          11686.307151951933,
          11944.663530292613,
          12156.832621715464,
          12349.004580786575,
          12503.147505305373,
          12742.326914330673,
          13062.244570032373,
          13253.782025967244,
          13482.79626842284,
          13555.848962824773,
          13661.686922838355,
          14179.38813766287,
          14206.90226125707,
          14409.077357924507,
          14483.429352208132,
          14809.889319201018,
          14976.545518849605,
          15173.673423794258,
          15490.47525194642,
          15491.07397963381,
          15788.089047724581,
          15796.575866845273,
          16216.218415388037,
          16261.68489189849,
          16753.95690294613
         ],
         "xaxis": "x",
         "y": [
          -1.3320154433677705e-12,
          -1.3297697416646086e-12,
          -1.3277921995699883e-12,
          -1.3216338987692186e-12,
          -1.3187366895714392e-12,
          -1.3183280702174408e-12,
          -1.313893050605208e-12,
          -1.3118601091876571e-12,
          -1.308859980728431e-12,
          -1.3006384170209135e-12,
          -1.3004405627933706e-12,
          -1.2956512940020035e-12,
          -1.2929208510562226e-12,
          -1.290048376776423e-12,
          -1.288567234102721e-12,
          -1.2852064977481425e-12,
          -1.2795019812861222e-12,
          -1.2766590495605486e-12,
          -1.2750610004054251e-12,
          -1.2718674385063586e-12,
          -1.267344174654625e-12,
          -1.261977575617455e-12,
          -1.2595104716632514e-12,
          -1.2557523509706523e-12,
          -1.2533906929955264e-12,
          -1.252057998743234e-12,
          -1.2474036532016048e-12,
          -1.2417787351920381e-12,
          -1.240280770935858e-12,
          -1.2392840210376215e-12,
          -1.2316179455394322e-12,
          -1.2298952077339833e-12,
          -1.2261417010583736e-12,
          -1.2216409003537196e-12,
          -1.2207877498284467e-12,
          -1.2185530847613125e-12,
          -1.2182668606503272e-12,
          -1.2105766295010362e-12,
          -1.2065123032503905e-12,
          -1.204246041236387e-12,
          -1.2008812508231925e-12,
          -1.1960512587766428e-12,
          -1.1935975628790328e-12,
          -1.1903070838038692e-12,
          -1.1877998763588978e-12,
          -1.1844517363540451e-12,
          -1.179351033965279e-12,
          -1.1779213355089812e-12,
          -1.1751560880936687e-12,
          -1.1720674698739725e-12,
          -1.1680499871240709e-12,
          -1.164230250914174e-12,
          -1.1603927366225559e-12,
          -1.1577163863352311e-12,
          -1.1551764757181316e-12,
          -1.1540208715249366e-12,
          -1.1469945057965256e-12,
          -1.146352750431926e-12,
          -1.1416736401236976e-12,
          -1.1361309664451417e-12,
          -1.1343818829144049e-12,
          -1.1328355583519163e-12,
          -1.1270226895572678e-12,
          -1.1253233483461255e-12,
          -1.122372353222504e-12,
          -1.1162125373724597e-12,
          -1.1138454883483058e-12,
          -1.1101392313295823e-12,
          -1.106390843698343e-12,
          -1.1050311406264352e-12,
          -1.1010190962450534e-12,
          -1.0962429231870068e-12,
          -1.0955470339891656e-12,
          -1.0891937130526353e-12,
          -1.088238948642399e-12,
          -1.0863880664104968e-12,
          -1.0821303861010756e-12,
          -1.0786338664152807e-12,
          -1.0754668969314421e-12,
          -1.0729266411081665e-12,
          -1.0689849948180053e-12,
          -1.0637127924746158e-12,
          -1.0605562795218944e-12,
          -1.0567821538860472e-12,
          -1.0555782547584044e-12,
          -1.0538340586164964e-12,
          -1.0453024083329674e-12,
          -1.0448489790698293e-12,
          -1.041517159148584e-12,
          -1.0402918477238739e-12,
          -1.0349118289211367e-12,
          -1.0321653559126355e-12,
          -1.0289167130700982e-12,
          -1.023695859169083e-12,
          -1.02368599221282e-12,
          -1.018791221605129e-12,
          -1.018651359903661e-12,
          -1.0117357039891403e-12,
          -1.0109864222295004e-12,
          -1.0028738419952593e-12
         ],
         "yaxis": "y"
        }
       ],
       "layout": {
        "legend": {
         "tracegroupgap": 0
        },
        "template": {
         "data": {
          "bar": [
           {
            "error_x": {
             "color": "rgb(36,36,36)"
            },
            "error_y": {
             "color": "rgb(36,36,36)"
            },
            "marker": {
             "line": {
              "color": "white",
              "width": 0.5
             },
             "pattern": {
              "fillmode": "overlay",
              "size": 10,
              "solidity": 0.2
             }
            },
            "type": "bar"
           }
          ],
          "barpolar": [
           {
            "marker": {
             "line": {
              "color": "white",
              "width": 0.5
             },
             "pattern": {
              "fillmode": "overlay",
              "size": 10,
              "solidity": 0.2
             }
            },
            "type": "barpolar"
           }
          ],
          "carpet": [
           {
            "aaxis": {
             "endlinecolor": "rgb(36,36,36)",
             "gridcolor": "white",
             "linecolor": "white",
             "minorgridcolor": "white",
             "startlinecolor": "rgb(36,36,36)"
            },
            "baxis": {
             "endlinecolor": "rgb(36,36,36)",
             "gridcolor": "white",
             "linecolor": "white",
             "minorgridcolor": "white",
             "startlinecolor": "rgb(36,36,36)"
            },
            "type": "carpet"
           }
          ],
          "choropleth": [
           {
            "colorbar": {
             "outlinewidth": 1,
             "tickcolor": "rgb(36,36,36)",
             "ticks": "outside"
            },
            "type": "choropleth"
           }
          ],
          "contour": [
           {
            "colorbar": {
             "outlinewidth": 1,
             "tickcolor": "rgb(36,36,36)",
             "ticks": "outside"
            },
            "colorscale": [
             [
              0,
              "#440154"
             ],
             [
              0.1111111111111111,
              "#482878"
             ],
             [
              0.2222222222222222,
              "#3e4989"
             ],
             [
              0.3333333333333333,
              "#31688e"
             ],
             [
              0.4444444444444444,
              "#26828e"
             ],
             [
              0.5555555555555556,
              "#1f9e89"
             ],
             [
              0.6666666666666666,
              "#35b779"
             ],
             [
              0.7777777777777778,
              "#6ece58"
             ],
             [
              0.8888888888888888,
              "#b5de2b"
             ],
             [
              1,
              "#fde725"
             ]
            ],
            "type": "contour"
           }
          ],
          "contourcarpet": [
           {
            "colorbar": {
             "outlinewidth": 1,
             "tickcolor": "rgb(36,36,36)",
             "ticks": "outside"
            },
            "type": "contourcarpet"
           }
          ],
          "heatmap": [
           {
            "colorbar": {
             "outlinewidth": 1,
             "tickcolor": "rgb(36,36,36)",
             "ticks": "outside"
            },
            "colorscale": [
             [
              0,
              "#440154"
             ],
             [
              0.1111111111111111,
              "#482878"
             ],
             [
              0.2222222222222222,
              "#3e4989"
             ],
             [
              0.3333333333333333,
              "#31688e"
             ],
             [
              0.4444444444444444,
              "#26828e"
             ],
             [
              0.5555555555555556,
              "#1f9e89"
             ],
             [
              0.6666666666666666,
              "#35b779"
             ],
             [
              0.7777777777777778,
              "#6ece58"
             ],
             [
              0.8888888888888888,
              "#b5de2b"
             ],
             [
              1,
              "#fde725"
             ]
            ],
            "type": "heatmap"
           }
          ],
          "heatmapgl": [
           {
            "colorbar": {
             "outlinewidth": 1,
             "tickcolor": "rgb(36,36,36)",
             "ticks": "outside"
            },
            "colorscale": [
             [
              0,
              "#440154"
             ],
             [
              0.1111111111111111,
              "#482878"
             ],
             [
              0.2222222222222222,
              "#3e4989"
             ],
             [
              0.3333333333333333,
              "#31688e"
             ],
             [
              0.4444444444444444,
              "#26828e"
             ],
             [
              0.5555555555555556,
              "#1f9e89"
             ],
             [
              0.6666666666666666,
              "#35b779"
             ],
             [
              0.7777777777777778,
              "#6ece58"
             ],
             [
              0.8888888888888888,
              "#b5de2b"
             ],
             [
              1,
              "#fde725"
             ]
            ],
            "type": "heatmapgl"
           }
          ],
          "histogram": [
           {
            "marker": {
             "line": {
              "color": "white",
              "width": 0.6
             }
            },
            "type": "histogram"
           }
          ],
          "histogram2d": [
           {
            "colorbar": {
             "outlinewidth": 1,
             "tickcolor": "rgb(36,36,36)",
             "ticks": "outside"
            },
            "colorscale": [
             [
              0,
              "#440154"
             ],
             [
              0.1111111111111111,
              "#482878"
             ],
             [
              0.2222222222222222,
              "#3e4989"
             ],
             [
              0.3333333333333333,
              "#31688e"
             ],
             [
              0.4444444444444444,
              "#26828e"
             ],
             [
              0.5555555555555556,
              "#1f9e89"
             ],
             [
              0.6666666666666666,
              "#35b779"
             ],
             [
              0.7777777777777778,
              "#6ece58"
             ],
             [
              0.8888888888888888,
              "#b5de2b"
             ],
             [
              1,
              "#fde725"
             ]
            ],
            "type": "histogram2d"
           }
          ],
          "histogram2dcontour": [
           {
            "colorbar": {
             "outlinewidth": 1,
             "tickcolor": "rgb(36,36,36)",
             "ticks": "outside"
            },
            "colorscale": [
             [
              0,
              "#440154"
             ],
             [
              0.1111111111111111,
              "#482878"
             ],
             [
              0.2222222222222222,
              "#3e4989"
             ],
             [
              0.3333333333333333,
              "#31688e"
             ],
             [
              0.4444444444444444,
              "#26828e"
             ],
             [
              0.5555555555555556,
              "#1f9e89"
             ],
             [
              0.6666666666666666,
              "#35b779"
             ],
             [
              0.7777777777777778,
              "#6ece58"
             ],
             [
              0.8888888888888888,
              "#b5de2b"
             ],
             [
              1,
              "#fde725"
             ]
            ],
            "type": "histogram2dcontour"
           }
          ],
          "mesh3d": [
           {
            "colorbar": {
             "outlinewidth": 1,
             "tickcolor": "rgb(36,36,36)",
             "ticks": "outside"
            },
            "type": "mesh3d"
           }
          ],
          "parcoords": [
           {
            "line": {
             "colorbar": {
              "outlinewidth": 1,
              "tickcolor": "rgb(36,36,36)",
              "ticks": "outside"
             }
            },
            "type": "parcoords"
           }
          ],
          "pie": [
           {
            "automargin": true,
            "type": "pie"
           }
          ],
          "scatter": [
           {
            "fillpattern": {
             "fillmode": "overlay",
             "size": 10,
             "solidity": 0.2
            },
            "type": "scatter"
           }
          ],
          "scatter3d": [
           {
            "line": {
             "colorbar": {
              "outlinewidth": 1,
              "tickcolor": "rgb(36,36,36)",
              "ticks": "outside"
             }
            },
            "marker": {
             "colorbar": {
              "outlinewidth": 1,
              "tickcolor": "rgb(36,36,36)",
              "ticks": "outside"
             }
            },
            "type": "scatter3d"
           }
          ],
          "scattercarpet": [
           {
            "marker": {
             "colorbar": {
              "outlinewidth": 1,
              "tickcolor": "rgb(36,36,36)",
              "ticks": "outside"
             }
            },
            "type": "scattercarpet"
           }
          ],
          "scattergeo": [
           {
            "marker": {
             "colorbar": {
              "outlinewidth": 1,
              "tickcolor": "rgb(36,36,36)",
              "ticks": "outside"
             }
            },
            "type": "scattergeo"
           }
          ],
          "scattergl": [
           {
            "marker": {
             "colorbar": {
              "outlinewidth": 1,
              "tickcolor": "rgb(36,36,36)",
              "ticks": "outside"
             }
            },
            "type": "scattergl"
           }
          ],
          "scattermapbox": [
           {
            "marker": {
             "colorbar": {
              "outlinewidth": 1,
              "tickcolor": "rgb(36,36,36)",
              "ticks": "outside"
             }
            },
            "type": "scattermapbox"
           }
          ],
          "scatterpolar": [
           {
            "marker": {
             "colorbar": {
              "outlinewidth": 1,
              "tickcolor": "rgb(36,36,36)",
              "ticks": "outside"
             }
            },
            "type": "scatterpolar"
           }
          ],
          "scatterpolargl": [
           {
            "marker": {
             "colorbar": {
              "outlinewidth": 1,
              "tickcolor": "rgb(36,36,36)",
              "ticks": "outside"
             }
            },
            "type": "scatterpolargl"
           }
          ],
          "scatterternary": [
           {
            "marker": {
             "colorbar": {
              "outlinewidth": 1,
              "tickcolor": "rgb(36,36,36)",
              "ticks": "outside"
             }
            },
            "type": "scatterternary"
           }
          ],
          "surface": [
           {
            "colorbar": {
             "outlinewidth": 1,
             "tickcolor": "rgb(36,36,36)",
             "ticks": "outside"
            },
            "colorscale": [
             [
              0,
              "#440154"
             ],
             [
              0.1111111111111111,
              "#482878"
             ],
             [
              0.2222222222222222,
              "#3e4989"
             ],
             [
              0.3333333333333333,
              "#31688e"
             ],
             [
              0.4444444444444444,
              "#26828e"
             ],
             [
              0.5555555555555556,
              "#1f9e89"
             ],
             [
              0.6666666666666666,
              "#35b779"
             ],
             [
              0.7777777777777778,
              "#6ece58"
             ],
             [
              0.8888888888888888,
              "#b5de2b"
             ],
             [
              1,
              "#fde725"
             ]
            ],
            "type": "surface"
           }
          ],
          "table": [
           {
            "cells": {
             "fill": {
              "color": "rgb(237,237,237)"
             },
             "line": {
              "color": "white"
             }
            },
            "header": {
             "fill": {
              "color": "rgb(217,217,217)"
             },
             "line": {
              "color": "white"
             }
            },
            "type": "table"
           }
          ]
         },
         "layout": {
          "annotationdefaults": {
           "arrowhead": 0,
           "arrowwidth": 1
          },
          "autosize": true,
          "autotypenumbers": "strict",
          "coloraxis": {
           "colorbar": {
            "outlinewidth": 1,
            "tickcolor": "rgb(36,36,36)",
            "ticks": "outside"
           }
          },
          "colorscale": {
           "diverging": [
            [
             0,
             "rgb(103,0,31)"
            ],
            [
             0.1,
             "rgb(178,24,43)"
            ],
            [
             0.2,
             "rgb(214,96,77)"
            ],
            [
             0.3,
             "rgb(244,165,130)"
            ],
            [
             0.4,
             "rgb(253,219,199)"
            ],
            [
             0.5,
             "rgb(247,247,247)"
            ],
            [
             0.6,
             "rgb(209,229,240)"
            ],
            [
             0.7,
             "rgb(146,197,222)"
            ],
            [
             0.8,
             "rgb(67,147,195)"
            ],
            [
             0.9,
             "rgb(33,102,172)"
            ],
            [
             1,
             "rgb(5,48,97)"
            ]
           ],
           "sequential": [
            [
             0,
             "#440154"
            ],
            [
             0.1111111111111111,
             "#482878"
            ],
            [
             0.2222222222222222,
             "#3e4989"
            ],
            [
             0.3333333333333333,
             "#31688e"
            ],
            [
             0.4444444444444444,
             "#26828e"
            ],
            [
             0.5555555555555556,
             "#1f9e89"
            ],
            [
             0.6666666666666666,
             "#35b779"
            ],
            [
             0.7777777777777778,
             "#6ece58"
            ],
            [
             0.8888888888888888,
             "#b5de2b"
            ],
            [
             1,
             "#fde725"
            ]
           ],
           "sequentialminus": [
            [
             0,
             "#440154"
            ],
            [
             0.1111111111111111,
             "#482878"
            ],
            [
             0.2222222222222222,
             "#3e4989"
            ],
            [
             0.3333333333333333,
             "#31688e"
            ],
            [
             0.4444444444444444,
             "#26828e"
            ],
            [
             0.5555555555555556,
             "#1f9e89"
            ],
            [
             0.6666666666666666,
             "#35b779"
            ],
            [
             0.7777777777777778,
             "#6ece58"
            ],
            [
             0.8888888888888888,
             "#b5de2b"
            ],
            [
             1,
             "#fde725"
            ]
           ]
          },
          "colorway": [
           "#1F77B4",
           "#FF7F0E",
           "#2CA02C",
           "#D62728",
           "#9467BD",
           "#8C564B",
           "#E377C2",
           "#7F7F7F",
           "#BCBD22",
           "#17BECF"
          ],
          "font": {
           "color": "rgb(36,36,36)"
          },
          "geo": {
           "bgcolor": "white",
           "lakecolor": "white",
           "landcolor": "white",
           "showlakes": true,
           "showland": true,
           "subunitcolor": "white"
          },
          "height": 400,
          "hoverlabel": {
           "align": "left"
          },
          "hovermode": "closest",
          "mapbox": {
           "style": "light"
          },
          "margin": {
           "b": 30,
           "l": 30,
           "r": 30,
           "t": 30
          },
          "paper_bgcolor": "white",
          "plot_bgcolor": "white",
          "polar": {
           "angularaxis": {
            "gridcolor": "rgb(232,232,232)",
            "linecolor": "rgb(36,36,36)",
            "showgrid": false,
            "showline": true,
            "ticks": "outside"
           },
           "bgcolor": "white",
           "radialaxis": {
            "gridcolor": "rgb(232,232,232)",
            "linecolor": "rgb(36,36,36)",
            "showgrid": false,
            "showline": true,
            "ticks": "outside"
           }
          },
          "scene": {
           "xaxis": {
            "backgroundcolor": "white",
            "gridcolor": "rgb(232,232,232)",
            "gridwidth": 2,
            "linecolor": "rgb(36,36,36)",
            "showbackground": true,
            "showgrid": false,
            "showline": true,
            "ticks": "outside",
            "zeroline": false,
            "zerolinecolor": "rgb(36,36,36)"
           },
           "yaxis": {
            "backgroundcolor": "white",
            "gridcolor": "rgb(232,232,232)",
            "gridwidth": 2,
            "linecolor": "rgb(36,36,36)",
            "showbackground": true,
            "showgrid": false,
            "showline": true,
            "ticks": "outside",
            "zeroline": false,
            "zerolinecolor": "rgb(36,36,36)"
           },
           "zaxis": {
            "backgroundcolor": "white",
            "gridcolor": "rgb(232,232,232)",
            "gridwidth": 2,
            "linecolor": "rgb(36,36,36)",
            "showbackground": true,
            "showgrid": false,
            "showline": true,
            "ticks": "outside",
            "zeroline": false,
            "zerolinecolor": "rgb(36,36,36)"
           }
          },
          "shapedefaults": {
           "fillcolor": "black",
           "line": {
            "width": 0
           },
           "opacity": 0.3
          },
          "ternary": {
           "aaxis": {
            "gridcolor": "rgb(232,232,232)",
            "linecolor": "rgb(36,36,36)",
            "showgrid": false,
            "showline": true,
            "ticks": "outside"
           },
           "baxis": {
            "gridcolor": "rgb(232,232,232)",
            "linecolor": "rgb(36,36,36)",
            "showgrid": false,
            "showline": true,
            "ticks": "outside"
           },
           "bgcolor": "white",
           "caxis": {
            "gridcolor": "rgb(232,232,232)",
            "linecolor": "rgb(36,36,36)",
            "showgrid": false,
            "showline": true,
            "ticks": "outside"
           }
          },
          "title": {
           "x": 0.5,
           "xanchor": "center"
          },
          "width": 600,
          "xaxis": {
           "automargin": true,
           "gridcolor": "rgb(232,232,232)",
           "linecolor": "rgb(36,36,36)",
           "showgrid": true,
           "showline": true,
           "ticks": "outside",
           "title": {
            "standoff": 15
           },
           "zeroline": false,
           "zerolinecolor": "rgb(36,36,36)"
          },
          "yaxis": {
           "automargin": true,
           "gridcolor": "rgb(232,232,232)",
           "linecolor": "rgb(36,36,36)",
           "showgrid": true,
           "showline": true,
           "ticks": "outside",
           "title": {
            "standoff": 15
           },
           "zeroline": false,
           "zerolinecolor": "rgb(36,36,36)"
          }
         }
        },
        "xaxis": {
         "anchor": "y",
         "domain": [
          0,
          1
         ],
         "title": {
          "text": "pred"
         }
        },
        "yaxis": {
         "anchor": "x",
         "domain": [
          0,
          1
         ],
         "title": {
          "text": "y residuals"
         }
        }
       }
      }
     },
     "metadata": {},
     "output_type": "display_data"
    }
   ],
   "source": [
    "# Feel free to use this function directly to help you answer Question 1.\n",
    "def create_residual_plot(df, x, y):\n",
    "    df = df.copy()\n",
    "    from sklearn.linear_model import LinearRegression\n",
    "    model = LinearRegression()\n",
    "    model.fit(df[[x]], df[y])\n",
    "    df['pred'] = model.predict(df[[x]])\n",
    "    df[f'{y} residuals'] = df[y] - model.predict(df[[x]])\n",
    "    return px.scatter(df, x='pred', y=f'{y} residuals', trendline='ols', trendline_color_override='red')\n",
    "\n",
    "create_residual_plot(df_1, 'x', 'y')"
   ]
  },
  {
   "cell_type": "markdown",
   "id": "18dfa6d6",
   "metadata": {},
   "source": [
    "To linearize the relationship, we can take the square root of each `'y'` value:"
   ]
  },
  {
   "cell_type": "code",
   "execution_count": 5,
   "id": "74b20f4e",
   "metadata": {},
   "outputs": [
    {
     "data": {
      "application/vnd.plotly.v1+json": {
       "config": {
        "plotlyServerURL": "https://plot.ly"
       },
       "data": [
        {
         "hovertemplate": "x=%{x}<br>root y=%{y}<extra></extra>",
         "legendgroup": "",
         "marker": {
          "color": "#1F77B4",
          "symbol": "circle"
         },
         "mode": "markers",
         "name": "",
         "orientation": "v",
         "showlegend": false,
         "type": "scatter",
         "x": [
          1.3334940281767342,
          2.012906540533137,
          2.611190293404091,
          4.474316911247471,
          5.350835897323757,
          5.474459218046441,
          6.816225941941417,
          7.431270154637486,
          8.33892623870457,
          10.886129139153715,
          10.826270504489068,
          12.335070081448576,
          13.161135760174652,
          14.030171467085244,
          14.478274999126636,
          15.495029061706077,
          17.220868186191105,
          18.5644384267234,
          18.080966116121026,
          19.530615684439937,
          20.89907973878431,
          22.52268563867706,
          23.26908098290725,
          24.406059334886127,
          25.120553150314763,
          25.523745234498506,
          26.931866621840683,
          28.633624104278088,
          29.08681682229509,
          29.38837261289643,
          31.707659990558877,
          32.22885548989133,
          33.36443792144573,
          34.98421736545491,
          34.72610599608749,
          35.66029086417425,
          35.74688484148996,
          38.07348024745351,
          39.30309774522677,
          39.9887305549735,
          41.00671112869007,
          42.46797244687282,
          43.21031133008538,
          44.205809820452664,
          44.96433803761893,
          45.97728121222439,
          47.52044298649494,
          47.95298263267223,
          48.789578023359766,
          49.72400571756281,
          50.939451226027174,
          52.095070679515,
          53.256068697373195,
          54.06576923333343,
          54.83419143789176,
          55.18380685969189,
          57.30955703637515,
          57.503713109716045,
          58.919326806597496,
          60.596202165340415,
          61.12536827598895,
          61.593191876264754,
          63.35181181506139,
          63.8659289304322,
          64.75872026067347,
          66.62230524012053,
          67.3384300585266,
          69.59375134328317,
          68.4597176226692,
          70.00511465072638,
          71.21891484021818,
          72.66389381148909,
          72.87442748457717,
          74.79655531358348,
          75.08540885355,
          75.64537304892008,
          76.93348770446904,
          77.99132153025484,
          78.94945354330945,
          79.71798018622445,
          80.9104822024308,
          82.50552941405732,
          83.460497917877,
          84.96654491707238,
          84.60231839055565,
          85.49423240163344,
          88.07538997279127,
          88.21257004190318,
          89.22057575353669,
          89.59128033656711,
          91.2189462398995,
          92.0498616389471,
          93.03270303426204,
          94.61221533571333,
          94.61520047551814,
          96.09605983956332,
          96.13837346912635,
          98.23062960130152,
          98.45731661056149,
          100.91168911732761
         ],
         "xaxis": "x",
         "y": [
          4.787562327886469,
          null,
          11.782571662899251,
          11.256011594838252,
          8.933211552202478,
          null,
          null,
          null,
          16.537647388174936,
          null,
          23.398263384980673,
          32.92197364544349,
          null,
          15.067758136144695,
          28.59435416666632,
          25.62386841617547,
          13.84181625030427,
          24.869370695274984,
          25.77374588630719,
          33.4922158432299,
          19.288238939715225,
          31.47602052842408,
          31.036067251374583,
          37.41874939454195,
          30.135222128413506,
          19.462264169679464,
          24.584248591943634,
          51.38436107732393,
          35.91825000582413,
          42.65583357526513,
          47.1599544864447,
          47.5074699914484,
          60.78499207390761,
          46.882159959175695,
          57.873357195545644,
          54.822138634027944,
          55.17918136230123,
          41.69601631049563,
          49.86207695594414,
          64.95545512483035,
          52.95180074869741,
          58.93163361694717,
          59.820868773605696,
          47.142696162807646,
          52.081890039508686,
          67.90257448751193,
          57.2310581669318,
          51.86659621982676,
          76.49299854109753,
          79.46133182522614,
          71.4072665863919,
          63.30867617422712,
          85.199094833386,
          81.2456213379318,
          57.56383271144407,
          68.5467046500885,
          64.13051714773621,
          54.54732944830219,
          95.9953904490095,
          99.29850468162357,
          59.12455693319307,
          93.08000308020708,
          88.67963070158666,
          90.31158785627285,
          99.0985016890248,
          102.32766641338632,
          92.98068575867914,
          92.18797740174966,
          102.29003727478694,
          114.98395875411039,
          82.18920136117185,
          91.32732740502502,
          100.41430767134308,
          98.10636038174925,
          100.33728727372815,
          112.61359163932343,
          113.67903682505185,
          107.85839366728248,
          112.21646189457888,
          102.58358702913735,
          122.46575017347128,
          110.6668023493953,
          102.73209520516471,
          112.68617671369306,
          118.72066756403679,
          133.68640177277422,
          124.75498432534003,
          118.46026567487024,
          147.19810473327,
          124.99538612876533,
          142.09290765581986,
          134.8976331448198,
          134.82641396099444,
          119.81744176745164,
          137.56114599059418,
          129.03755892424064,
          124.64642656121103,
          143.40029528726237,
          134.9280640625625,
          142.74087750723064
         ],
         "yaxis": "y"
        },
        {
         "hovertemplate": "<b>OLS trendline</b><br>root y = 1.38582 * x + 0.49141<br>R<sup>2</sup>=0.942240<br><br>x=%{x}<br>root y=%{y} <b>(trend)</b><extra></extra>",
         "legendgroup": "",
         "line": {
          "color": "#ff7f0e"
         },
         "marker": {
          "color": "#1F77B4",
          "symbol": "circle"
         },
         "mode": "lines",
         "name": "",
         "showlegend": false,
         "type": "scatter",
         "x": [
          1.3334940281767342,
          2.611190293404091,
          4.474316911247471,
          5.350835897323757,
          8.33892623870457,
          10.826270504489068,
          12.335070081448576,
          14.030171467085244,
          14.478274999126636,
          15.495029061706077,
          17.220868186191105,
          18.080966116121026,
          18.5644384267234,
          19.530615684439937,
          20.89907973878431,
          22.52268563867706,
          23.26908098290725,
          24.406059334886127,
          25.120553150314763,
          25.523745234498506,
          26.931866621840683,
          28.633624104278088,
          29.08681682229509,
          29.38837261289643,
          31.707659990558877,
          32.22885548989133,
          33.36443792144573,
          34.72610599608749,
          34.98421736545491,
          35.66029086417425,
          35.74688484148996,
          38.07348024745351,
          39.30309774522677,
          39.9887305549735,
          41.00671112869007,
          42.46797244687282,
          43.21031133008538,
          44.205809820452664,
          44.96433803761893,
          45.97728121222439,
          47.52044298649494,
          47.95298263267223,
          48.789578023359766,
          49.72400571756281,
          50.939451226027174,
          52.095070679515,
          53.256068697373195,
          54.06576923333343,
          54.83419143789176,
          55.18380685969189,
          57.30955703637515,
          57.503713109716045,
          58.919326806597496,
          60.596202165340415,
          61.12536827598895,
          61.593191876264754,
          63.35181181506139,
          63.8659289304322,
          64.75872026067347,
          66.62230524012053,
          67.3384300585266,
          68.4597176226692,
          69.59375134328317,
          70.00511465072638,
          71.21891484021818,
          72.66389381148909,
          72.87442748457717,
          74.79655531358348,
          75.08540885355,
          75.64537304892008,
          76.93348770446904,
          77.99132153025484,
          78.94945354330945,
          79.71798018622445,
          80.9104822024308,
          82.50552941405732,
          83.460497917877,
          84.60231839055565,
          84.96654491707238,
          85.49423240163344,
          88.07538997279127,
          88.21257004190318,
          89.22057575353669,
          89.59128033656711,
          91.2189462398995,
          92.0498616389471,
          93.03270303426204,
          94.61221533571333,
          94.61520047551814,
          96.09605983956332,
          96.13837346912635,
          98.23062960130152,
          98.45731661056149,
          100.91168911732761
         ],
         "xaxis": "x",
         "y": [
          2.3393889979350595,
          4.110042709603725,
          6.691995988308853,
          7.906691247489141,
          12.047638824592495,
          15.494643778954943,
          17.58556448038791,
          19.934665469266655,
          20.555655139358354,
          21.96469060714234,
          24.356388489243173,
          25.548327163148553,
          26.218331501859513,
          27.55727675361011,
          29.453718046469994,
          31.70373934744068,
          32.7381070000676,
          34.31375137957127,
          35.3039093386132,
          35.86265994296622,
          37.81405905778932,
          40.17238418140666,
          40.80042653395688,
          41.21832779455767,
          44.43243658977557,
          45.15471837967639,
          46.72842826837183,
          48.61545157433425,
          48.973146800212504,
          49.91006121598346,
          50.03006465617112,
          53.254301044142075,
          54.95832636347534,
          55.908488238765656,
          57.31922342702036,
          59.34426478244588,
          60.373010920826744,
          61.75259004686866,
          62.80377164587872,
          64.20752591881262,
          66.3460663510578,
          66.94548731736343,
          68.10485576352711,
          69.39980191783256,
          71.08418744783995,
          72.6856649901028,
          74.29459624043777,
          75.41669332904668,
          76.48158618790444,
          76.96608932148513,
          79.91199089673532,
          80.18105576078803,
          82.14283784850988,
          84.466680892252,
          85.2000084939746,
          85.84832657768376,
          88.28545268252581,
          88.99792512479418,
          90.23517088159853,
          92.81775936578788,
          93.81017759712952,
          95.36407740988646,
          96.93564106801865,
          97.50571549571451,
          99.18782091406707,
          101.19029790988795,
          101.4820591365816,
          104.14577732012505,
          104.54607558082267,
          105.32208370412822,
          107.10717540234707,
          108.57313992062244,
          109.90093593236224,
          110.96597352371151,
          112.61856356301355,
          114.8290077369665,
          116.15241970257486,
          117.73477437717975,
          118.23952583385736,
          118.97080432982516,
          122.54781739478784,
          122.73792392100262,
          124.13483577185592,
          124.64856463194505,
          126.90421235631183,
          128.0557093712495,
          129.41774807477998,
          131.60666369996056,
          131.61080055863275,
          133.6630012269499,
          133.7216401909032,
          136.62112513659824,
          136.93527193756884,
          140.33658405469367
         ],
         "yaxis": "y"
        }
       ],
       "layout": {
        "legend": {
         "tracegroupgap": 0
        },
        "template": {
         "data": {
          "bar": [
           {
            "error_x": {
             "color": "rgb(36,36,36)"
            },
            "error_y": {
             "color": "rgb(36,36,36)"
            },
            "marker": {
             "line": {
              "color": "white",
              "width": 0.5
             },
             "pattern": {
              "fillmode": "overlay",
              "size": 10,
              "solidity": 0.2
             }
            },
            "type": "bar"
           }
          ],
          "barpolar": [
           {
            "marker": {
             "line": {
              "color": "white",
              "width": 0.5
             },
             "pattern": {
              "fillmode": "overlay",
              "size": 10,
              "solidity": 0.2
             }
            },
            "type": "barpolar"
           }
          ],
          "carpet": [
           {
            "aaxis": {
             "endlinecolor": "rgb(36,36,36)",
             "gridcolor": "white",
             "linecolor": "white",
             "minorgridcolor": "white",
             "startlinecolor": "rgb(36,36,36)"
            },
            "baxis": {
             "endlinecolor": "rgb(36,36,36)",
             "gridcolor": "white",
             "linecolor": "white",
             "minorgridcolor": "white",
             "startlinecolor": "rgb(36,36,36)"
            },
            "type": "carpet"
           }
          ],
          "choropleth": [
           {
            "colorbar": {
             "outlinewidth": 1,
             "tickcolor": "rgb(36,36,36)",
             "ticks": "outside"
            },
            "type": "choropleth"
           }
          ],
          "contour": [
           {
            "colorbar": {
             "outlinewidth": 1,
             "tickcolor": "rgb(36,36,36)",
             "ticks": "outside"
            },
            "colorscale": [
             [
              0,
              "#440154"
             ],
             [
              0.1111111111111111,
              "#482878"
             ],
             [
              0.2222222222222222,
              "#3e4989"
             ],
             [
              0.3333333333333333,
              "#31688e"
             ],
             [
              0.4444444444444444,
              "#26828e"
             ],
             [
              0.5555555555555556,
              "#1f9e89"
             ],
             [
              0.6666666666666666,
              "#35b779"
             ],
             [
              0.7777777777777778,
              "#6ece58"
             ],
             [
              0.8888888888888888,
              "#b5de2b"
             ],
             [
              1,
              "#fde725"
             ]
            ],
            "type": "contour"
           }
          ],
          "contourcarpet": [
           {
            "colorbar": {
             "outlinewidth": 1,
             "tickcolor": "rgb(36,36,36)",
             "ticks": "outside"
            },
            "type": "contourcarpet"
           }
          ],
          "heatmap": [
           {
            "colorbar": {
             "outlinewidth": 1,
             "tickcolor": "rgb(36,36,36)",
             "ticks": "outside"
            },
            "colorscale": [
             [
              0,
              "#440154"
             ],
             [
              0.1111111111111111,
              "#482878"
             ],
             [
              0.2222222222222222,
              "#3e4989"
             ],
             [
              0.3333333333333333,
              "#31688e"
             ],
             [
              0.4444444444444444,
              "#26828e"
             ],
             [
              0.5555555555555556,
              "#1f9e89"
             ],
             [
              0.6666666666666666,
              "#35b779"
             ],
             [
              0.7777777777777778,
              "#6ece58"
             ],
             [
              0.8888888888888888,
              "#b5de2b"
             ],
             [
              1,
              "#fde725"
             ]
            ],
            "type": "heatmap"
           }
          ],
          "heatmapgl": [
           {
            "colorbar": {
             "outlinewidth": 1,
             "tickcolor": "rgb(36,36,36)",
             "ticks": "outside"
            },
            "colorscale": [
             [
              0,
              "#440154"
             ],
             [
              0.1111111111111111,
              "#482878"
             ],
             [
              0.2222222222222222,
              "#3e4989"
             ],
             [
              0.3333333333333333,
              "#31688e"
             ],
             [
              0.4444444444444444,
              "#26828e"
             ],
             [
              0.5555555555555556,
              "#1f9e89"
             ],
             [
              0.6666666666666666,
              "#35b779"
             ],
             [
              0.7777777777777778,
              "#6ece58"
             ],
             [
              0.8888888888888888,
              "#b5de2b"
             ],
             [
              1,
              "#fde725"
             ]
            ],
            "type": "heatmapgl"
           }
          ],
          "histogram": [
           {
            "marker": {
             "line": {
              "color": "white",
              "width": 0.6
             }
            },
            "type": "histogram"
           }
          ],
          "histogram2d": [
           {
            "colorbar": {
             "outlinewidth": 1,
             "tickcolor": "rgb(36,36,36)",
             "ticks": "outside"
            },
            "colorscale": [
             [
              0,
              "#440154"
             ],
             [
              0.1111111111111111,
              "#482878"
             ],
             [
              0.2222222222222222,
              "#3e4989"
             ],
             [
              0.3333333333333333,
              "#31688e"
             ],
             [
              0.4444444444444444,
              "#26828e"
             ],
             [
              0.5555555555555556,
              "#1f9e89"
             ],
             [
              0.6666666666666666,
              "#35b779"
             ],
             [
              0.7777777777777778,
              "#6ece58"
             ],
             [
              0.8888888888888888,
              "#b5de2b"
             ],
             [
              1,
              "#fde725"
             ]
            ],
            "type": "histogram2d"
           }
          ],
          "histogram2dcontour": [
           {
            "colorbar": {
             "outlinewidth": 1,
             "tickcolor": "rgb(36,36,36)",
             "ticks": "outside"
            },
            "colorscale": [
             [
              0,
              "#440154"
             ],
             [
              0.1111111111111111,
              "#482878"
             ],
             [
              0.2222222222222222,
              "#3e4989"
             ],
             [
              0.3333333333333333,
              "#31688e"
             ],
             [
              0.4444444444444444,
              "#26828e"
             ],
             [
              0.5555555555555556,
              "#1f9e89"
             ],
             [
              0.6666666666666666,
              "#35b779"
             ],
             [
              0.7777777777777778,
              "#6ece58"
             ],
             [
              0.8888888888888888,
              "#b5de2b"
             ],
             [
              1,
              "#fde725"
             ]
            ],
            "type": "histogram2dcontour"
           }
          ],
          "mesh3d": [
           {
            "colorbar": {
             "outlinewidth": 1,
             "tickcolor": "rgb(36,36,36)",
             "ticks": "outside"
            },
            "type": "mesh3d"
           }
          ],
          "parcoords": [
           {
            "line": {
             "colorbar": {
              "outlinewidth": 1,
              "tickcolor": "rgb(36,36,36)",
              "ticks": "outside"
             }
            },
            "type": "parcoords"
           }
          ],
          "pie": [
           {
            "automargin": true,
            "type": "pie"
           }
          ],
          "scatter": [
           {
            "fillpattern": {
             "fillmode": "overlay",
             "size": 10,
             "solidity": 0.2
            },
            "type": "scatter"
           }
          ],
          "scatter3d": [
           {
            "line": {
             "colorbar": {
              "outlinewidth": 1,
              "tickcolor": "rgb(36,36,36)",
              "ticks": "outside"
             }
            },
            "marker": {
             "colorbar": {
              "outlinewidth": 1,
              "tickcolor": "rgb(36,36,36)",
              "ticks": "outside"
             }
            },
            "type": "scatter3d"
           }
          ],
          "scattercarpet": [
           {
            "marker": {
             "colorbar": {
              "outlinewidth": 1,
              "tickcolor": "rgb(36,36,36)",
              "ticks": "outside"
             }
            },
            "type": "scattercarpet"
           }
          ],
          "scattergeo": [
           {
            "marker": {
             "colorbar": {
              "outlinewidth": 1,
              "tickcolor": "rgb(36,36,36)",
              "ticks": "outside"
             }
            },
            "type": "scattergeo"
           }
          ],
          "scattergl": [
           {
            "marker": {
             "colorbar": {
              "outlinewidth": 1,
              "tickcolor": "rgb(36,36,36)",
              "ticks": "outside"
             }
            },
            "type": "scattergl"
           }
          ],
          "scattermapbox": [
           {
            "marker": {
             "colorbar": {
              "outlinewidth": 1,
              "tickcolor": "rgb(36,36,36)",
              "ticks": "outside"
             }
            },
            "type": "scattermapbox"
           }
          ],
          "scatterpolar": [
           {
            "marker": {
             "colorbar": {
              "outlinewidth": 1,
              "tickcolor": "rgb(36,36,36)",
              "ticks": "outside"
             }
            },
            "type": "scatterpolar"
           }
          ],
          "scatterpolargl": [
           {
            "marker": {
             "colorbar": {
              "outlinewidth": 1,
              "tickcolor": "rgb(36,36,36)",
              "ticks": "outside"
             }
            },
            "type": "scatterpolargl"
           }
          ],
          "scatterternary": [
           {
            "marker": {
             "colorbar": {
              "outlinewidth": 1,
              "tickcolor": "rgb(36,36,36)",
              "ticks": "outside"
             }
            },
            "type": "scatterternary"
           }
          ],
          "surface": [
           {
            "colorbar": {
             "outlinewidth": 1,
             "tickcolor": "rgb(36,36,36)",
             "ticks": "outside"
            },
            "colorscale": [
             [
              0,
              "#440154"
             ],
             [
              0.1111111111111111,
              "#482878"
             ],
             [
              0.2222222222222222,
              "#3e4989"
             ],
             [
              0.3333333333333333,
              "#31688e"
             ],
             [
              0.4444444444444444,
              "#26828e"
             ],
             [
              0.5555555555555556,
              "#1f9e89"
             ],
             [
              0.6666666666666666,
              "#35b779"
             ],
             [
              0.7777777777777778,
              "#6ece58"
             ],
             [
              0.8888888888888888,
              "#b5de2b"
             ],
             [
              1,
              "#fde725"
             ]
            ],
            "type": "surface"
           }
          ],
          "table": [
           {
            "cells": {
             "fill": {
              "color": "rgb(237,237,237)"
             },
             "line": {
              "color": "white"
             }
            },
            "header": {
             "fill": {
              "color": "rgb(217,217,217)"
             },
             "line": {
              "color": "white"
             }
            },
            "type": "table"
           }
          ]
         },
         "layout": {
          "annotationdefaults": {
           "arrowhead": 0,
           "arrowwidth": 1
          },
          "autosize": true,
          "autotypenumbers": "strict",
          "coloraxis": {
           "colorbar": {
            "outlinewidth": 1,
            "tickcolor": "rgb(36,36,36)",
            "ticks": "outside"
           }
          },
          "colorscale": {
           "diverging": [
            [
             0,
             "rgb(103,0,31)"
            ],
            [
             0.1,
             "rgb(178,24,43)"
            ],
            [
             0.2,
             "rgb(214,96,77)"
            ],
            [
             0.3,
             "rgb(244,165,130)"
            ],
            [
             0.4,
             "rgb(253,219,199)"
            ],
            [
             0.5,
             "rgb(247,247,247)"
            ],
            [
             0.6,
             "rgb(209,229,240)"
            ],
            [
             0.7,
             "rgb(146,197,222)"
            ],
            [
             0.8,
             "rgb(67,147,195)"
            ],
            [
             0.9,
             "rgb(33,102,172)"
            ],
            [
             1,
             "rgb(5,48,97)"
            ]
           ],
           "sequential": [
            [
             0,
             "#440154"
            ],
            [
             0.1111111111111111,
             "#482878"
            ],
            [
             0.2222222222222222,
             "#3e4989"
            ],
            [
             0.3333333333333333,
             "#31688e"
            ],
            [
             0.4444444444444444,
             "#26828e"
            ],
            [
             0.5555555555555556,
             "#1f9e89"
            ],
            [
             0.6666666666666666,
             "#35b779"
            ],
            [
             0.7777777777777778,
             "#6ece58"
            ],
            [
             0.8888888888888888,
             "#b5de2b"
            ],
            [
             1,
             "#fde725"
            ]
           ],
           "sequentialminus": [
            [
             0,
             "#440154"
            ],
            [
             0.1111111111111111,
             "#482878"
            ],
            [
             0.2222222222222222,
             "#3e4989"
            ],
            [
             0.3333333333333333,
             "#31688e"
            ],
            [
             0.4444444444444444,
             "#26828e"
            ],
            [
             0.5555555555555556,
             "#1f9e89"
            ],
            [
             0.6666666666666666,
             "#35b779"
            ],
            [
             0.7777777777777778,
             "#6ece58"
            ],
            [
             0.8888888888888888,
             "#b5de2b"
            ],
            [
             1,
             "#fde725"
            ]
           ]
          },
          "colorway": [
           "#1F77B4",
           "#FF7F0E",
           "#2CA02C",
           "#D62728",
           "#9467BD",
           "#8C564B",
           "#E377C2",
           "#7F7F7F",
           "#BCBD22",
           "#17BECF"
          ],
          "font": {
           "color": "rgb(36,36,36)"
          },
          "geo": {
           "bgcolor": "white",
           "lakecolor": "white",
           "landcolor": "white",
           "showlakes": true,
           "showland": true,
           "subunitcolor": "white"
          },
          "height": 400,
          "hoverlabel": {
           "align": "left"
          },
          "hovermode": "closest",
          "mapbox": {
           "style": "light"
          },
          "margin": {
           "b": 30,
           "l": 30,
           "r": 30,
           "t": 30
          },
          "paper_bgcolor": "white",
          "plot_bgcolor": "white",
          "polar": {
           "angularaxis": {
            "gridcolor": "rgb(232,232,232)",
            "linecolor": "rgb(36,36,36)",
            "showgrid": false,
            "showline": true,
            "ticks": "outside"
           },
           "bgcolor": "white",
           "radialaxis": {
            "gridcolor": "rgb(232,232,232)",
            "linecolor": "rgb(36,36,36)",
            "showgrid": false,
            "showline": true,
            "ticks": "outside"
           }
          },
          "scene": {
           "xaxis": {
            "backgroundcolor": "white",
            "gridcolor": "rgb(232,232,232)",
            "gridwidth": 2,
            "linecolor": "rgb(36,36,36)",
            "showbackground": true,
            "showgrid": false,
            "showline": true,
            "ticks": "outside",
            "zeroline": false,
            "zerolinecolor": "rgb(36,36,36)"
           },
           "yaxis": {
            "backgroundcolor": "white",
            "gridcolor": "rgb(232,232,232)",
            "gridwidth": 2,
            "linecolor": "rgb(36,36,36)",
            "showbackground": true,
            "showgrid": false,
            "showline": true,
            "ticks": "outside",
            "zeroline": false,
            "zerolinecolor": "rgb(36,36,36)"
           },
           "zaxis": {
            "backgroundcolor": "white",
            "gridcolor": "rgb(232,232,232)",
            "gridwidth": 2,
            "linecolor": "rgb(36,36,36)",
            "showbackground": true,
            "showgrid": false,
            "showline": true,
            "ticks": "outside",
            "zeroline": false,
            "zerolinecolor": "rgb(36,36,36)"
           }
          },
          "shapedefaults": {
           "fillcolor": "black",
           "line": {
            "width": 0
           },
           "opacity": 0.3
          },
          "ternary": {
           "aaxis": {
            "gridcolor": "rgb(232,232,232)",
            "linecolor": "rgb(36,36,36)",
            "showgrid": false,
            "showline": true,
            "ticks": "outside"
           },
           "baxis": {
            "gridcolor": "rgb(232,232,232)",
            "linecolor": "rgb(36,36,36)",
            "showgrid": false,
            "showline": true,
            "ticks": "outside"
           },
           "bgcolor": "white",
           "caxis": {
            "gridcolor": "rgb(232,232,232)",
            "linecolor": "rgb(36,36,36)",
            "showgrid": false,
            "showline": true,
            "ticks": "outside"
           }
          },
          "title": {
           "x": 0.5,
           "xanchor": "center"
          },
          "width": 600,
          "xaxis": {
           "automargin": true,
           "gridcolor": "rgb(232,232,232)",
           "linecolor": "rgb(36,36,36)",
           "showgrid": true,
           "showline": true,
           "ticks": "outside",
           "title": {
            "standoff": 15
           },
           "zeroline": false,
           "zerolinecolor": "rgb(36,36,36)"
          },
          "yaxis": {
           "automargin": true,
           "gridcolor": "rgb(232,232,232)",
           "linecolor": "rgb(36,36,36)",
           "showgrid": true,
           "showline": true,
           "ticks": "outside",
           "title": {
            "standoff": 15
           },
           "zeroline": false,
           "zerolinecolor": "rgb(36,36,36)"
          }
         }
        },
        "xaxis": {
         "anchor": "y",
         "domain": [
          0,
          1
         ],
         "title": {
          "text": "x"
         }
        },
        "yaxis": {
         "anchor": "x",
         "domain": [
          0,
          1
         ],
         "title": {
          "text": "root y"
         }
        }
       }
      }
     },
     "metadata": {},
     "output_type": "display_data"
    }
   ],
   "source": [
    "df_1['root y'] = np.sqrt(df_1['y'])\n",
    "\n",
    "px.scatter(df_1, x='x', y='root y', trendline=\"ols\", trendline_color_override=\"#ff7f0e\")"
   ]
  },
  {
   "cell_type": "markdown",
   "id": "b6e0c681",
   "metadata": {},
   "source": [
    "That looks much better!"
   ]
  },
  {
   "cell_type": "markdown",
   "id": "e5b9fbb0",
   "metadata": {},
   "source": [
    "### Example 2\n",
    "\n",
    "Run the cell below to generate another scatter plot."
   ]
  },
  {
   "cell_type": "code",
   "execution_count": 6,
   "id": "6db1914e",
   "metadata": {},
   "outputs": [
    {
     "data": {
      "application/vnd.plotly.v1+json": {
       "config": {
        "plotlyServerURL": "https://plot.ly"
       },
       "data": [
        {
         "hovertemplate": "x=%{x}<br>y=%{y}<extra></extra>",
         "legendgroup": "",
         "marker": {
          "color": "#1F77B4",
          "symbol": "circle"
         },
         "mode": "markers",
         "name": "",
         "orientation": "v",
         "showlegend": false,
         "type": "scatter",
         "x": [
          2,
          2.0303030303030303,
          2.0606060606060606,
          2.090909090909091,
          2.121212121212121,
          2.1515151515151514,
          2.1818181818181817,
          2.212121212121212,
          2.242424242424242,
          2.2727272727272725,
          2.303030303030303,
          2.3333333333333335,
          2.3636363636363638,
          2.393939393939394,
          2.4242424242424243,
          2.4545454545454546,
          2.484848484848485,
          2.515151515151515,
          2.5454545454545454,
          2.5757575757575757,
          2.606060606060606,
          2.6363636363636362,
          2.666666666666667,
          2.6969696969696972,
          2.7272727272727275,
          2.757575757575758,
          2.787878787878788,
          2.8181818181818183,
          2.8484848484848486,
          2.878787878787879,
          2.909090909090909,
          2.9393939393939394,
          2.9696969696969697,
          3,
          3.0303030303030303,
          3.0606060606060606,
          3.090909090909091,
          3.121212121212121,
          3.1515151515151514,
          3.1818181818181817,
          3.212121212121212,
          3.242424242424242,
          3.2727272727272725,
          3.3030303030303028,
          3.3333333333333335,
          3.3636363636363638,
          3.393939393939394,
          3.4242424242424243,
          3.4545454545454546,
          3.484848484848485,
          3.515151515151515,
          3.5454545454545454,
          3.5757575757575757,
          3.6060606060606064,
          3.6363636363636367,
          3.666666666666667,
          3.6969696969696972,
          3.7272727272727275,
          3.757575757575758,
          3.787878787878788,
          3.8181818181818183,
          3.8484848484848486,
          3.878787878787879,
          3.909090909090909,
          3.9393939393939394,
          3.9696969696969697,
          4,
          4.03030303030303,
          4.0606060606060606,
          4.090909090909091,
          4.121212121212121,
          4.151515151515151,
          4.181818181818182,
          4.212121212121213,
          4.242424242424242,
          4.272727272727273,
          4.303030303030303,
          4.333333333333334,
          4.363636363636363,
          4.3939393939393945,
          4.424242424242424,
          4.454545454545455,
          4.484848484848484,
          4.515151515151516,
          4.545454545454545,
          4.575757575757576,
          4.6060606060606055,
          4.636363636363637,
          4.666666666666667,
          4.696969696969697,
          4.7272727272727275,
          4.757575757575758,
          4.787878787878788,
          4.818181818181818,
          4.848484848484849,
          4.878787878787879,
          4.909090909090909,
          4.9393939393939394,
          4.96969696969697,
          5
         ],
         "xaxis": "x",
         "y": [
          26.20876349356717,
          61.925982380222194,
          53.50984989711234,
          107.24282107554222,
          67.80720271102038,
          120.20400821162806,
          155.71489372002614,
          113.18271717510773,
          82.81211638478487,
          54.43856322223938,
          152.2746595710632,
          125.5471413190048,
          145.46415194418287,
          117.63097776553522,
          96.66291649011706,
          129.4259725342059,
          99.44797634199661,
          184.1472095752843,
          108.84458474509671,
          141.31213770267246,
          142.16320095534817,
          121.869462661296,
          188.5524937959253,
          86.65949453110437,
          165.12613129653948,
          194.12977205755197,
          144.54230701224208,
          141.36623265694755,
          229.38135262136976,
          183.24187921288205,
          123.04297789531425,
          259.43276247820575,
          288.2813153852144,
          158.1669669776928,
          239.63529912947683,
          200.8374995492895,
          204.55634051336975,
          160.86284647112248,
          268.40264848134404,
          275.48010396241943,
          245.78645639306538,
          224.1601461173096,
          251.54644999768362,
          261.25074586555576,
          268.22747143867576,
          327.4025613573661,
          246.08494669855742,
          339.2889068194531,
          353.80094019143604,
          329.0119957205983,
          368.7103000816962,
          331.47302713175446,
          383.454292545306,
          351.8472059388524,
          329.4846121315459,
          424.65163163667114,
          466.9670248137561,
          432.3066205889843,
          431.0767983105392,
          382.0397269926399,
          396.43233049278604,
          443.03177434706856,
          532.5134485228731,
          467.0436459747958,
          541.0742761595185,
          539.0485330172553,
          577.3317983642002,
          558.559515958953,
          606.9197292585355,
          637.9626151820737,
          608.9481586986306,
          609.5096655594825,
          604.7044307344363,
          643.1008532427225,
          674.220989325344,
          687.3902533733154,
          724.154933058414,
          808.3286043528386,
          828.0445554360854,
          810.86276426455,
          856.9981001464332,
          915.3116389123522,
          911.2415986956338,
          921.2551136032771,
          984.9680784915498,
          1002.6761507320138,
          1059.3876906728551,
          984.7502588016507,
          1066.3541077327798,
          1086.888938050981,
          1148.323074604285,
          1235.280666833249,
          1220.1200202712403,
          1248.9550726976313,
          1218.2325134117068,
          1279.926537667901,
          1393.8660180970792,
          1409.1005082461468,
          1442.8440418439284,
          1451.8131678415164
         ],
         "yaxis": "y"
        },
        {
         "hovertemplate": "<b>OLS trendline</b><br>y = 414.144 * x + -971.449<br>R<sup>2</sup>=0.866068<br><br>x=%{x}<br>y=%{y} <b>(trend)</b><extra></extra>",
         "legendgroup": "",
         "line": {
          "color": "#ff7f0e"
         },
         "marker": {
          "color": "#1F77B4",
          "symbol": "circle"
         },
         "mode": "lines",
         "name": "",
         "showlegend": false,
         "type": "scatter",
         "x": [
          2,
          2.0303030303030303,
          2.0606060606060606,
          2.090909090909091,
          2.121212121212121,
          2.1515151515151514,
          2.1818181818181817,
          2.212121212121212,
          2.242424242424242,
          2.2727272727272725,
          2.303030303030303,
          2.3333333333333335,
          2.3636363636363638,
          2.393939393939394,
          2.4242424242424243,
          2.4545454545454546,
          2.484848484848485,
          2.515151515151515,
          2.5454545454545454,
          2.5757575757575757,
          2.606060606060606,
          2.6363636363636362,
          2.666666666666667,
          2.6969696969696972,
          2.7272727272727275,
          2.757575757575758,
          2.787878787878788,
          2.8181818181818183,
          2.8484848484848486,
          2.878787878787879,
          2.909090909090909,
          2.9393939393939394,
          2.9696969696969697,
          3,
          3.0303030303030303,
          3.0606060606060606,
          3.090909090909091,
          3.121212121212121,
          3.1515151515151514,
          3.1818181818181817,
          3.212121212121212,
          3.242424242424242,
          3.2727272727272725,
          3.3030303030303028,
          3.3333333333333335,
          3.3636363636363638,
          3.393939393939394,
          3.4242424242424243,
          3.4545454545454546,
          3.484848484848485,
          3.515151515151515,
          3.5454545454545454,
          3.5757575757575757,
          3.6060606060606064,
          3.6363636363636367,
          3.666666666666667,
          3.6969696969696972,
          3.7272727272727275,
          3.757575757575758,
          3.787878787878788,
          3.8181818181818183,
          3.8484848484848486,
          3.878787878787879,
          3.909090909090909,
          3.9393939393939394,
          3.9696969696969697,
          4,
          4.03030303030303,
          4.0606060606060606,
          4.090909090909091,
          4.121212121212121,
          4.151515151515151,
          4.181818181818182,
          4.212121212121213,
          4.242424242424242,
          4.272727272727273,
          4.303030303030303,
          4.333333333333334,
          4.363636363636363,
          4.3939393939393945,
          4.424242424242424,
          4.454545454545455,
          4.484848484848484,
          4.515151515151516,
          4.545454545454545,
          4.575757575757576,
          4.6060606060606055,
          4.636363636363637,
          4.666666666666667,
          4.696969696969697,
          4.7272727272727275,
          4.757575757575758,
          4.787878787878788,
          4.818181818181818,
          4.848484848484849,
          4.878787878787879,
          4.909090909090909,
          4.9393939393939394,
          4.96969696969697,
          5
         ],
         "xaxis": "x",
         "y": [
          -143.16062139784992,
          -130.61079394186214,
          -118.06096648587437,
          -105.5111390298866,
          -92.96131157389883,
          -80.41148411791106,
          -67.86165666192328,
          -55.31182920593551,
          -42.762001749947736,
          -30.21217429395996,
          -17.662346837972002,
          -5.112519381984228,
          7.437308074003545,
          19.98713552999132,
          32.536962985979095,
          45.08679044196687,
          57.63661789795464,
          70.18644535394242,
          82.73627280993018,
          95.28610026591797,
          107.83592772190573,
          120.38575517789351,
          132.93558263388147,
          145.48541008986925,
          158.035237545857,
          170.58506500184478,
          183.13489245783256,
          195.68471991382035,
          208.2345473698081,
          220.78437482579588,
          233.33420228178366,
          245.88402973777144,
          258.4338571937592,
          270.983684649747,
          283.53351210573476,
          296.08333956172254,
          308.6331670177103,
          321.18299447369805,
          333.7328219296858,
          346.2826493856736,
          358.8324768416614,
          371.38230429764917,
          383.93213175363695,
          396.48195920962473,
          409.0317866656127,
          421.58161412160047,
          434.1314415775882,
          446.681269033576,
          459.23109648956375,
          471.78092394555154,
          484.3307514015393,
          496.8805788575271,
          509.4304063135149,
          521.9802337695028,
          534.5300612254906,
          547.0798886814783,
          559.6297161374662,
          572.1795435934539,
          584.7293710494417,
          597.2791985054295,
          609.8290259614172,
          622.378853417405,
          634.9286808733928,
          647.4785083293806,
          660.0283357853683,
          672.5781632413562,
          685.1279906973439,
          697.6778181533316,
          710.2276456093194,
          722.7774730653072,
          735.327300521295,
          747.8771279772827,
          760.4269554332706,
          772.9767828892586,
          785.526610345246,
          798.0764378012342,
          810.6262652572216,
          823.1760927132098,
          835.7259201691971,
          848.2757476251853,
          860.8255750811727,
          873.3754025371609,
          885.9252299931483,
          898.4750574491364,
          911.0248849051238,
          923.5747123611119,
          936.1245398170994,
          948.6743672730875,
          961.2241947290753,
          973.774022185063,
          986.3238496410509,
          998.8736770970386,
          1011.4235045530263,
          1023.9733320090141,
          1036.523159465002,
          1049.0729869209897,
          1061.6228143769774,
          1074.1726418329652,
          1086.722469288953,
          1099.2722967449408
         ],
         "yaxis": "y"
        }
       ],
       "layout": {
        "legend": {
         "tracegroupgap": 0
        },
        "template": {
         "data": {
          "bar": [
           {
            "error_x": {
             "color": "rgb(36,36,36)"
            },
            "error_y": {
             "color": "rgb(36,36,36)"
            },
            "marker": {
             "line": {
              "color": "white",
              "width": 0.5
             },
             "pattern": {
              "fillmode": "overlay",
              "size": 10,
              "solidity": 0.2
             }
            },
            "type": "bar"
           }
          ],
          "barpolar": [
           {
            "marker": {
             "line": {
              "color": "white",
              "width": 0.5
             },
             "pattern": {
              "fillmode": "overlay",
              "size": 10,
              "solidity": 0.2
             }
            },
            "type": "barpolar"
           }
          ],
          "carpet": [
           {
            "aaxis": {
             "endlinecolor": "rgb(36,36,36)",
             "gridcolor": "white",
             "linecolor": "white",
             "minorgridcolor": "white",
             "startlinecolor": "rgb(36,36,36)"
            },
            "baxis": {
             "endlinecolor": "rgb(36,36,36)",
             "gridcolor": "white",
             "linecolor": "white",
             "minorgridcolor": "white",
             "startlinecolor": "rgb(36,36,36)"
            },
            "type": "carpet"
           }
          ],
          "choropleth": [
           {
            "colorbar": {
             "outlinewidth": 1,
             "tickcolor": "rgb(36,36,36)",
             "ticks": "outside"
            },
            "type": "choropleth"
           }
          ],
          "contour": [
           {
            "colorbar": {
             "outlinewidth": 1,
             "tickcolor": "rgb(36,36,36)",
             "ticks": "outside"
            },
            "colorscale": [
             [
              0,
              "#440154"
             ],
             [
              0.1111111111111111,
              "#482878"
             ],
             [
              0.2222222222222222,
              "#3e4989"
             ],
             [
              0.3333333333333333,
              "#31688e"
             ],
             [
              0.4444444444444444,
              "#26828e"
             ],
             [
              0.5555555555555556,
              "#1f9e89"
             ],
             [
              0.6666666666666666,
              "#35b779"
             ],
             [
              0.7777777777777778,
              "#6ece58"
             ],
             [
              0.8888888888888888,
              "#b5de2b"
             ],
             [
              1,
              "#fde725"
             ]
            ],
            "type": "contour"
           }
          ],
          "contourcarpet": [
           {
            "colorbar": {
             "outlinewidth": 1,
             "tickcolor": "rgb(36,36,36)",
             "ticks": "outside"
            },
            "type": "contourcarpet"
           }
          ],
          "heatmap": [
           {
            "colorbar": {
             "outlinewidth": 1,
             "tickcolor": "rgb(36,36,36)",
             "ticks": "outside"
            },
            "colorscale": [
             [
              0,
              "#440154"
             ],
             [
              0.1111111111111111,
              "#482878"
             ],
             [
              0.2222222222222222,
              "#3e4989"
             ],
             [
              0.3333333333333333,
              "#31688e"
             ],
             [
              0.4444444444444444,
              "#26828e"
             ],
             [
              0.5555555555555556,
              "#1f9e89"
             ],
             [
              0.6666666666666666,
              "#35b779"
             ],
             [
              0.7777777777777778,
              "#6ece58"
             ],
             [
              0.8888888888888888,
              "#b5de2b"
             ],
             [
              1,
              "#fde725"
             ]
            ],
            "type": "heatmap"
           }
          ],
          "heatmapgl": [
           {
            "colorbar": {
             "outlinewidth": 1,
             "tickcolor": "rgb(36,36,36)",
             "ticks": "outside"
            },
            "colorscale": [
             [
              0,
              "#440154"
             ],
             [
              0.1111111111111111,
              "#482878"
             ],
             [
              0.2222222222222222,
              "#3e4989"
             ],
             [
              0.3333333333333333,
              "#31688e"
             ],
             [
              0.4444444444444444,
              "#26828e"
             ],
             [
              0.5555555555555556,
              "#1f9e89"
             ],
             [
              0.6666666666666666,
              "#35b779"
             ],
             [
              0.7777777777777778,
              "#6ece58"
             ],
             [
              0.8888888888888888,
              "#b5de2b"
             ],
             [
              1,
              "#fde725"
             ]
            ],
            "type": "heatmapgl"
           }
          ],
          "histogram": [
           {
            "marker": {
             "line": {
              "color": "white",
              "width": 0.6
             }
            },
            "type": "histogram"
           }
          ],
          "histogram2d": [
           {
            "colorbar": {
             "outlinewidth": 1,
             "tickcolor": "rgb(36,36,36)",
             "ticks": "outside"
            },
            "colorscale": [
             [
              0,
              "#440154"
             ],
             [
              0.1111111111111111,
              "#482878"
             ],
             [
              0.2222222222222222,
              "#3e4989"
             ],
             [
              0.3333333333333333,
              "#31688e"
             ],
             [
              0.4444444444444444,
              "#26828e"
             ],
             [
              0.5555555555555556,
              "#1f9e89"
             ],
             [
              0.6666666666666666,
              "#35b779"
             ],
             [
              0.7777777777777778,
              "#6ece58"
             ],
             [
              0.8888888888888888,
              "#b5de2b"
             ],
             [
              1,
              "#fde725"
             ]
            ],
            "type": "histogram2d"
           }
          ],
          "histogram2dcontour": [
           {
            "colorbar": {
             "outlinewidth": 1,
             "tickcolor": "rgb(36,36,36)",
             "ticks": "outside"
            },
            "colorscale": [
             [
              0,
              "#440154"
             ],
             [
              0.1111111111111111,
              "#482878"
             ],
             [
              0.2222222222222222,
              "#3e4989"
             ],
             [
              0.3333333333333333,
              "#31688e"
             ],
             [
              0.4444444444444444,
              "#26828e"
             ],
             [
              0.5555555555555556,
              "#1f9e89"
             ],
             [
              0.6666666666666666,
              "#35b779"
             ],
             [
              0.7777777777777778,
              "#6ece58"
             ],
             [
              0.8888888888888888,
              "#b5de2b"
             ],
             [
              1,
              "#fde725"
             ]
            ],
            "type": "histogram2dcontour"
           }
          ],
          "mesh3d": [
           {
            "colorbar": {
             "outlinewidth": 1,
             "tickcolor": "rgb(36,36,36)",
             "ticks": "outside"
            },
            "type": "mesh3d"
           }
          ],
          "parcoords": [
           {
            "line": {
             "colorbar": {
              "outlinewidth": 1,
              "tickcolor": "rgb(36,36,36)",
              "ticks": "outside"
             }
            },
            "type": "parcoords"
           }
          ],
          "pie": [
           {
            "automargin": true,
            "type": "pie"
           }
          ],
          "scatter": [
           {
            "fillpattern": {
             "fillmode": "overlay",
             "size": 10,
             "solidity": 0.2
            },
            "type": "scatter"
           }
          ],
          "scatter3d": [
           {
            "line": {
             "colorbar": {
              "outlinewidth": 1,
              "tickcolor": "rgb(36,36,36)",
              "ticks": "outside"
             }
            },
            "marker": {
             "colorbar": {
              "outlinewidth": 1,
              "tickcolor": "rgb(36,36,36)",
              "ticks": "outside"
             }
            },
            "type": "scatter3d"
           }
          ],
          "scattercarpet": [
           {
            "marker": {
             "colorbar": {
              "outlinewidth": 1,
              "tickcolor": "rgb(36,36,36)",
              "ticks": "outside"
             }
            },
            "type": "scattercarpet"
           }
          ],
          "scattergeo": [
           {
            "marker": {
             "colorbar": {
              "outlinewidth": 1,
              "tickcolor": "rgb(36,36,36)",
              "ticks": "outside"
             }
            },
            "type": "scattergeo"
           }
          ],
          "scattergl": [
           {
            "marker": {
             "colorbar": {
              "outlinewidth": 1,
              "tickcolor": "rgb(36,36,36)",
              "ticks": "outside"
             }
            },
            "type": "scattergl"
           }
          ],
          "scattermapbox": [
           {
            "marker": {
             "colorbar": {
              "outlinewidth": 1,
              "tickcolor": "rgb(36,36,36)",
              "ticks": "outside"
             }
            },
            "type": "scattermapbox"
           }
          ],
          "scatterpolar": [
           {
            "marker": {
             "colorbar": {
              "outlinewidth": 1,
              "tickcolor": "rgb(36,36,36)",
              "ticks": "outside"
             }
            },
            "type": "scatterpolar"
           }
          ],
          "scatterpolargl": [
           {
            "marker": {
             "colorbar": {
              "outlinewidth": 1,
              "tickcolor": "rgb(36,36,36)",
              "ticks": "outside"
             }
            },
            "type": "scatterpolargl"
           }
          ],
          "scatterternary": [
           {
            "marker": {
             "colorbar": {
              "outlinewidth": 1,
              "tickcolor": "rgb(36,36,36)",
              "ticks": "outside"
             }
            },
            "type": "scatterternary"
           }
          ],
          "surface": [
           {
            "colorbar": {
             "outlinewidth": 1,
             "tickcolor": "rgb(36,36,36)",
             "ticks": "outside"
            },
            "colorscale": [
             [
              0,
              "#440154"
             ],
             [
              0.1111111111111111,
              "#482878"
             ],
             [
              0.2222222222222222,
              "#3e4989"
             ],
             [
              0.3333333333333333,
              "#31688e"
             ],
             [
              0.4444444444444444,
              "#26828e"
             ],
             [
              0.5555555555555556,
              "#1f9e89"
             ],
             [
              0.6666666666666666,
              "#35b779"
             ],
             [
              0.7777777777777778,
              "#6ece58"
             ],
             [
              0.8888888888888888,
              "#b5de2b"
             ],
             [
              1,
              "#fde725"
             ]
            ],
            "type": "surface"
           }
          ],
          "table": [
           {
            "cells": {
             "fill": {
              "color": "rgb(237,237,237)"
             },
             "line": {
              "color": "white"
             }
            },
            "header": {
             "fill": {
              "color": "rgb(217,217,217)"
             },
             "line": {
              "color": "white"
             }
            },
            "type": "table"
           }
          ]
         },
         "layout": {
          "annotationdefaults": {
           "arrowhead": 0,
           "arrowwidth": 1
          },
          "autosize": true,
          "autotypenumbers": "strict",
          "coloraxis": {
           "colorbar": {
            "outlinewidth": 1,
            "tickcolor": "rgb(36,36,36)",
            "ticks": "outside"
           }
          },
          "colorscale": {
           "diverging": [
            [
             0,
             "rgb(103,0,31)"
            ],
            [
             0.1,
             "rgb(178,24,43)"
            ],
            [
             0.2,
             "rgb(214,96,77)"
            ],
            [
             0.3,
             "rgb(244,165,130)"
            ],
            [
             0.4,
             "rgb(253,219,199)"
            ],
            [
             0.5,
             "rgb(247,247,247)"
            ],
            [
             0.6,
             "rgb(209,229,240)"
            ],
            [
             0.7,
             "rgb(146,197,222)"
            ],
            [
             0.8,
             "rgb(67,147,195)"
            ],
            [
             0.9,
             "rgb(33,102,172)"
            ],
            [
             1,
             "rgb(5,48,97)"
            ]
           ],
           "sequential": [
            [
             0,
             "#440154"
            ],
            [
             0.1111111111111111,
             "#482878"
            ],
            [
             0.2222222222222222,
             "#3e4989"
            ],
            [
             0.3333333333333333,
             "#31688e"
            ],
            [
             0.4444444444444444,
             "#26828e"
            ],
            [
             0.5555555555555556,
             "#1f9e89"
            ],
            [
             0.6666666666666666,
             "#35b779"
            ],
            [
             0.7777777777777778,
             "#6ece58"
            ],
            [
             0.8888888888888888,
             "#b5de2b"
            ],
            [
             1,
             "#fde725"
            ]
           ],
           "sequentialminus": [
            [
             0,
             "#440154"
            ],
            [
             0.1111111111111111,
             "#482878"
            ],
            [
             0.2222222222222222,
             "#3e4989"
            ],
            [
             0.3333333333333333,
             "#31688e"
            ],
            [
             0.4444444444444444,
             "#26828e"
            ],
            [
             0.5555555555555556,
             "#1f9e89"
            ],
            [
             0.6666666666666666,
             "#35b779"
            ],
            [
             0.7777777777777778,
             "#6ece58"
            ],
            [
             0.8888888888888888,
             "#b5de2b"
            ],
            [
             1,
             "#fde725"
            ]
           ]
          },
          "colorway": [
           "#1F77B4",
           "#FF7F0E",
           "#2CA02C",
           "#D62728",
           "#9467BD",
           "#8C564B",
           "#E377C2",
           "#7F7F7F",
           "#BCBD22",
           "#17BECF"
          ],
          "font": {
           "color": "rgb(36,36,36)"
          },
          "geo": {
           "bgcolor": "white",
           "lakecolor": "white",
           "landcolor": "white",
           "showlakes": true,
           "showland": true,
           "subunitcolor": "white"
          },
          "height": 400,
          "hoverlabel": {
           "align": "left"
          },
          "hovermode": "closest",
          "mapbox": {
           "style": "light"
          },
          "margin": {
           "b": 30,
           "l": 30,
           "r": 30,
           "t": 30
          },
          "paper_bgcolor": "white",
          "plot_bgcolor": "white",
          "polar": {
           "angularaxis": {
            "gridcolor": "rgb(232,232,232)",
            "linecolor": "rgb(36,36,36)",
            "showgrid": false,
            "showline": true,
            "ticks": "outside"
           },
           "bgcolor": "white",
           "radialaxis": {
            "gridcolor": "rgb(232,232,232)",
            "linecolor": "rgb(36,36,36)",
            "showgrid": false,
            "showline": true,
            "ticks": "outside"
           }
          },
          "scene": {
           "xaxis": {
            "backgroundcolor": "white",
            "gridcolor": "rgb(232,232,232)",
            "gridwidth": 2,
            "linecolor": "rgb(36,36,36)",
            "showbackground": true,
            "showgrid": false,
            "showline": true,
            "ticks": "outside",
            "zeroline": false,
            "zerolinecolor": "rgb(36,36,36)"
           },
           "yaxis": {
            "backgroundcolor": "white",
            "gridcolor": "rgb(232,232,232)",
            "gridwidth": 2,
            "linecolor": "rgb(36,36,36)",
            "showbackground": true,
            "showgrid": false,
            "showline": true,
            "ticks": "outside",
            "zeroline": false,
            "zerolinecolor": "rgb(36,36,36)"
           },
           "zaxis": {
            "backgroundcolor": "white",
            "gridcolor": "rgb(232,232,232)",
            "gridwidth": 2,
            "linecolor": "rgb(36,36,36)",
            "showbackground": true,
            "showgrid": false,
            "showline": true,
            "ticks": "outside",
            "zeroline": false,
            "zerolinecolor": "rgb(36,36,36)"
           }
          },
          "shapedefaults": {
           "fillcolor": "black",
           "line": {
            "width": 0
           },
           "opacity": 0.3
          },
          "ternary": {
           "aaxis": {
            "gridcolor": "rgb(232,232,232)",
            "linecolor": "rgb(36,36,36)",
            "showgrid": false,
            "showline": true,
            "ticks": "outside"
           },
           "baxis": {
            "gridcolor": "rgb(232,232,232)",
            "linecolor": "rgb(36,36,36)",
            "showgrid": false,
            "showline": true,
            "ticks": "outside"
           },
           "bgcolor": "white",
           "caxis": {
            "gridcolor": "rgb(232,232,232)",
            "linecolor": "rgb(36,36,36)",
            "showgrid": false,
            "showline": true,
            "ticks": "outside"
           }
          },
          "title": {
           "x": 0.5,
           "xanchor": "center"
          },
          "width": 600,
          "xaxis": {
           "automargin": true,
           "gridcolor": "rgb(232,232,232)",
           "linecolor": "rgb(36,36,36)",
           "showgrid": true,
           "showline": true,
           "ticks": "outside",
           "title": {
            "standoff": 15
           },
           "zeroline": false,
           "zerolinecolor": "rgb(36,36,36)"
          },
          "yaxis": {
           "automargin": true,
           "gridcolor": "rgb(232,232,232)",
           "linecolor": "rgb(36,36,36)",
           "showgrid": true,
           "showline": true,
           "ticks": "outside",
           "title": {
            "standoff": 15
           },
           "zeroline": false,
           "zerolinecolor": "rgb(36,36,36)"
          }
         }
        },
        "xaxis": {
         "anchor": "y",
         "domain": [
          0,
          1
         ],
         "title": {
          "text": "x"
         }
        },
        "yaxis": {
         "anchor": "x",
         "domain": [
          0,
          1
         ],
         "title": {
          "text": "y"
         }
        }
       }
      }
     },
     "metadata": {},
     "output_type": "display_data"
    }
   ],
   "source": [
    "# By setting a seed, we guarantee that we will see the same results each time we run this cell\n",
    "np.random.seed(32)\n",
    "\n",
    "# Generates a different random scatter plot\n",
    "x = np.linspace(2, 5, 100)\n",
    "y = 10 * (np.e ** x) + np.abs(x) * np.random.normal(0, 5, 100) + np.random.normal(0, 30, 100)\n",
    "df_2 = pd.DataFrame().assign(x=x, y=y)\n",
    "\n",
    "px.scatter(df_2, x='x', y='y', trendline=\"ols\", trendline_color_override=\"#ff7f0e\")"
   ]
  },
  {
   "cell_type": "markdown",
   "id": "f0160004",
   "metadata": {},
   "source": [
    "Again, the relationship between `'x'` and `'y'` is not quite linear. Let's try the square root transformation we tried in Example 1:"
   ]
  },
  {
   "cell_type": "code",
   "execution_count": 7,
   "id": "b4d4c53b",
   "metadata": {},
   "outputs": [
    {
     "data": {
      "application/vnd.plotly.v1+json": {
       "config": {
        "plotlyServerURL": "https://plot.ly"
       },
       "data": [
        {
         "hovertemplate": "x=%{x}<br>root y=%{y}<extra></extra>",
         "legendgroup": "",
         "marker": {
          "color": "#1F77B4",
          "symbol": "circle"
         },
         "mode": "markers",
         "name": "",
         "orientation": "v",
         "showlegend": false,
         "type": "scatter",
         "x": [
          2,
          2.0303030303030303,
          2.0606060606060606,
          2.090909090909091,
          2.121212121212121,
          2.1515151515151514,
          2.1818181818181817,
          2.212121212121212,
          2.242424242424242,
          2.2727272727272725,
          2.303030303030303,
          2.3333333333333335,
          2.3636363636363638,
          2.393939393939394,
          2.4242424242424243,
          2.4545454545454546,
          2.484848484848485,
          2.515151515151515,
          2.5454545454545454,
          2.5757575757575757,
          2.606060606060606,
          2.6363636363636362,
          2.666666666666667,
          2.6969696969696972,
          2.7272727272727275,
          2.757575757575758,
          2.787878787878788,
          2.8181818181818183,
          2.8484848484848486,
          2.878787878787879,
          2.909090909090909,
          2.9393939393939394,
          2.9696969696969697,
          3,
          3.0303030303030303,
          3.0606060606060606,
          3.090909090909091,
          3.121212121212121,
          3.1515151515151514,
          3.1818181818181817,
          3.212121212121212,
          3.242424242424242,
          3.2727272727272725,
          3.3030303030303028,
          3.3333333333333335,
          3.3636363636363638,
          3.393939393939394,
          3.4242424242424243,
          3.4545454545454546,
          3.484848484848485,
          3.515151515151515,
          3.5454545454545454,
          3.5757575757575757,
          3.6060606060606064,
          3.6363636363636367,
          3.666666666666667,
          3.6969696969696972,
          3.7272727272727275,
          3.757575757575758,
          3.787878787878788,
          3.8181818181818183,
          3.8484848484848486,
          3.878787878787879,
          3.909090909090909,
          3.9393939393939394,
          3.9696969696969697,
          4,
          4.03030303030303,
          4.0606060606060606,
          4.090909090909091,
          4.121212121212121,
          4.151515151515151,
          4.181818181818182,
          4.212121212121213,
          4.242424242424242,
          4.272727272727273,
          4.303030303030303,
          4.333333333333334,
          4.363636363636363,
          4.3939393939393945,
          4.424242424242424,
          4.454545454545455,
          4.484848484848484,
          4.515151515151516,
          4.545454545454545,
          4.575757575757576,
          4.6060606060606055,
          4.636363636363637,
          4.666666666666667,
          4.696969696969697,
          4.7272727272727275,
          4.757575757575758,
          4.787878787878788,
          4.818181818181818,
          4.848484848484849,
          4.878787878787879,
          4.909090909090909,
          4.9393939393939394,
          4.96969696969697,
          5
         ],
         "xaxis": "x",
         "y": [
          5.119449530327178,
          7.869306346827667,
          7.3150427132801035,
          10.355810981064797,
          8.234512900652982,
          10.963758854135204,
          12.478577391675149,
          10.638736634352208,
          9.100116284135323,
          7.37824933315752,
          12.339961895040974,
          11.204782073695355,
          12.060852040555961,
          10.845781565453695,
          9.831730086313245,
          11.376553631667452,
          9.972360620334415,
          13.570085098306654,
          10.432860813079829,
          11.887478189366846,
          11.923221081375123,
          11.039450288003293,
          13.731441795963208,
          9.30910814907123,
          12.850141294808376,
          13.933046043760566,
          12.022574891105569,
          11.889753263081095,
          15.145340954279298,
          13.536686419241677,
          11.09247393034188,
          16.106916603689413,
          16.97884905949795,
          12.576444926039027,
          15.480158239807396,
          14.171714770954484,
          14.302319410269432,
          12.683171782764848,
          16.38299876339323,
          16.59759331838262,
          15.67757814182616,
          14.971978697463793,
          15.860215950537484,
          16.16325294813998,
          16.377651584970167,
          18.09426874337192,
          15.68709490946483,
          18.41979660092513,
          18.80959702363227,
          18.138687816945257,
          19.20183064402184,
          18.206400718751482,
          19.581988983382306,
          18.75759062190164,
          18.151710997356307,
          20.607077222077642,
          21.60941981668541,
          20.7919845274323,
          20.762389031865748,
          19.545836564154524,
          19.91060849127384,
          21.048319988708567,
          23.076252913392874,
          21.611192608803332,
          23.261003335185663,
          23.217418741480614,
          24.027729779656674,
          23.633863754345228,
          24.63574089120389,
          25.257921830231275,
          24.67687497838068,
          24.688249544256525,
          24.59073871876232,
          25.359433220060783,
          25.96576571806316,
          26.218128334671707,
          26.91012696102369,
          28.431120349941164,
          28.77576333368214,
          28.475652130628195,
          29.274529887710123,
          30.25411771829336,
          30.186778541202997,
          30.352184659481715,
          31.38420109691419,
          31.6650619884442,
          32.548236368086904,
          31.380730692602597,
          32.65507782463211,
          32.96799869647809,
          33.88691597953825,
          35.14655981505514,
          34.93021643607781,
          35.34055846612545,
          34.903187725646305,
          35.77606095796323,
          37.33451510461973,
          37.53798753591016,
          37.984786979051606,
          38.102666151353716
         ],
         "yaxis": "y"
        },
        {
         "hovertemplate": "<b>OLS trendline</b><br>root y = 9.63148 * x + -13.6349<br>R<sup>2</sup>=0.945913<br><br>x=%{x}<br>root y=%{y} <b>(trend)</b><extra></extra>",
         "legendgroup": "",
         "line": {
          "color": "#ff7f0e"
         },
         "marker": {
          "color": "#1F77B4",
          "symbol": "circle"
         },
         "mode": "lines",
         "name": "",
         "showlegend": false,
         "type": "scatter",
         "x": [
          2,
          2.0303030303030303,
          2.0606060606060606,
          2.090909090909091,
          2.121212121212121,
          2.1515151515151514,
          2.1818181818181817,
          2.212121212121212,
          2.242424242424242,
          2.2727272727272725,
          2.303030303030303,
          2.3333333333333335,
          2.3636363636363638,
          2.393939393939394,
          2.4242424242424243,
          2.4545454545454546,
          2.484848484848485,
          2.515151515151515,
          2.5454545454545454,
          2.5757575757575757,
          2.606060606060606,
          2.6363636363636362,
          2.666666666666667,
          2.6969696969696972,
          2.7272727272727275,
          2.757575757575758,
          2.787878787878788,
          2.8181818181818183,
          2.8484848484848486,
          2.878787878787879,
          2.909090909090909,
          2.9393939393939394,
          2.9696969696969697,
          3,
          3.0303030303030303,
          3.0606060606060606,
          3.090909090909091,
          3.121212121212121,
          3.1515151515151514,
          3.1818181818181817,
          3.212121212121212,
          3.242424242424242,
          3.2727272727272725,
          3.3030303030303028,
          3.3333333333333335,
          3.3636363636363638,
          3.393939393939394,
          3.4242424242424243,
          3.4545454545454546,
          3.484848484848485,
          3.515151515151515,
          3.5454545454545454,
          3.5757575757575757,
          3.6060606060606064,
          3.6363636363636367,
          3.666666666666667,
          3.6969696969696972,
          3.7272727272727275,
          3.757575757575758,
          3.787878787878788,
          3.8181818181818183,
          3.8484848484848486,
          3.878787878787879,
          3.909090909090909,
          3.9393939393939394,
          3.9696969696969697,
          4,
          4.03030303030303,
          4.0606060606060606,
          4.090909090909091,
          4.121212121212121,
          4.151515151515151,
          4.181818181818182,
          4.212121212121213,
          4.242424242424242,
          4.272727272727273,
          4.303030303030303,
          4.333333333333334,
          4.363636363636363,
          4.3939393939393945,
          4.424242424242424,
          4.454545454545455,
          4.484848484848484,
          4.515151515151516,
          4.545454545454545,
          4.575757575757576,
          4.6060606060606055,
          4.636363636363637,
          4.666666666666667,
          4.696969696969697,
          4.7272727272727275,
          4.757575757575758,
          4.787878787878788,
          4.818181818181818,
          4.848484848484849,
          4.878787878787879,
          4.909090909090909,
          4.9393939393939394,
          4.96969696969697,
          5
         ],
         "xaxis": "x",
         "y": [
          5.628084132349896,
          5.919947087608099,
          6.211810042866302,
          6.503672998124506,
          6.795535953382709,
          7.087398908640912,
          7.379261863899115,
          7.67112481915732,
          7.962987774415523,
          8.254850729673725,
          8.546713684931934,
          8.838576640190137,
          9.13043959544834,
          9.422302550706544,
          9.714165505964747,
          10.00602846122295,
          10.297891416481153,
          10.589754371739357,
          10.88161732699756,
          11.173480282255763,
          11.465343237513967,
          11.75720619277217,
          12.049069148030378,
          12.340932103288582,
          12.632795058546785,
          12.924658013804988,
          13.216520969063192,
          13.508383924321395,
          13.800246879579598,
          14.092109834837801,
          14.383972790096005,
          14.675835745354208,
          14.967698700612411,
          15.259561655870614,
          15.551424611128818,
          15.843287566387021,
          16.135150521645226,
          16.42701347690343,
          16.718876432161633,
          17.010739387419836,
          17.30260234267804,
          17.594465297936242,
          17.886328253194446,
          18.17819120845265,
          18.470054163710856,
          18.76191711896906,
          19.053780074227262,
          19.345643029485466,
          19.63750598474367,
          19.929368940001872,
          20.221231895260075,
          20.51309485051828,
          20.804957805776482,
          21.09682076103469,
          21.388683716292892,
          21.680546671551095,
          21.9724096268093,
          22.264272582067502,
          22.556135537325705,
          22.84799849258391,
          23.13986144784211,
          23.431724403100315,
          23.723587358358518,
          24.01545031361672,
          24.307313268874925,
          24.599176224133128,
          24.891039179391335,
          25.182902134649538,
          25.47476508990774,
          25.766628045165945,
          26.058491000424148,
          26.35035395568235,
          26.642216910940554,
          26.934079866198765,
          27.22594282145696,
          27.51780577671517,
          27.809668731973368,
          28.101531687231578,
          28.393394642489774,
          28.685257597747984,
          28.97712055300618,
          29.26898350826439,
          29.560846463522587,
          29.852709418780798,
          30.144572374038994,
          30.436435329297204,
          30.7282982845554,
          31.02016123981361,
          31.312024195071814,
          31.603887150330017,
          31.89575010558822,
          32.187613060846424,
          32.47947601610463,
          32.77133897136283,
          33.06320192662103,
          33.35506488187924,
          33.64692783713744,
          33.93879079239564,
          34.23065374765385,
          34.52251670291205
         ],
         "yaxis": "y"
        }
       ],
       "layout": {
        "legend": {
         "tracegroupgap": 0
        },
        "template": {
         "data": {
          "bar": [
           {
            "error_x": {
             "color": "rgb(36,36,36)"
            },
            "error_y": {
             "color": "rgb(36,36,36)"
            },
            "marker": {
             "line": {
              "color": "white",
              "width": 0.5
             },
             "pattern": {
              "fillmode": "overlay",
              "size": 10,
              "solidity": 0.2
             }
            },
            "type": "bar"
           }
          ],
          "barpolar": [
           {
            "marker": {
             "line": {
              "color": "white",
              "width": 0.5
             },
             "pattern": {
              "fillmode": "overlay",
              "size": 10,
              "solidity": 0.2
             }
            },
            "type": "barpolar"
           }
          ],
          "carpet": [
           {
            "aaxis": {
             "endlinecolor": "rgb(36,36,36)",
             "gridcolor": "white",
             "linecolor": "white",
             "minorgridcolor": "white",
             "startlinecolor": "rgb(36,36,36)"
            },
            "baxis": {
             "endlinecolor": "rgb(36,36,36)",
             "gridcolor": "white",
             "linecolor": "white",
             "minorgridcolor": "white",
             "startlinecolor": "rgb(36,36,36)"
            },
            "type": "carpet"
           }
          ],
          "choropleth": [
           {
            "colorbar": {
             "outlinewidth": 1,
             "tickcolor": "rgb(36,36,36)",
             "ticks": "outside"
            },
            "type": "choropleth"
           }
          ],
          "contour": [
           {
            "colorbar": {
             "outlinewidth": 1,
             "tickcolor": "rgb(36,36,36)",
             "ticks": "outside"
            },
            "colorscale": [
             [
              0,
              "#440154"
             ],
             [
              0.1111111111111111,
              "#482878"
             ],
             [
              0.2222222222222222,
              "#3e4989"
             ],
             [
              0.3333333333333333,
              "#31688e"
             ],
             [
              0.4444444444444444,
              "#26828e"
             ],
             [
              0.5555555555555556,
              "#1f9e89"
             ],
             [
              0.6666666666666666,
              "#35b779"
             ],
             [
              0.7777777777777778,
              "#6ece58"
             ],
             [
              0.8888888888888888,
              "#b5de2b"
             ],
             [
              1,
              "#fde725"
             ]
            ],
            "type": "contour"
           }
          ],
          "contourcarpet": [
           {
            "colorbar": {
             "outlinewidth": 1,
             "tickcolor": "rgb(36,36,36)",
             "ticks": "outside"
            },
            "type": "contourcarpet"
           }
          ],
          "heatmap": [
           {
            "colorbar": {
             "outlinewidth": 1,
             "tickcolor": "rgb(36,36,36)",
             "ticks": "outside"
            },
            "colorscale": [
             [
              0,
              "#440154"
             ],
             [
              0.1111111111111111,
              "#482878"
             ],
             [
              0.2222222222222222,
              "#3e4989"
             ],
             [
              0.3333333333333333,
              "#31688e"
             ],
             [
              0.4444444444444444,
              "#26828e"
             ],
             [
              0.5555555555555556,
              "#1f9e89"
             ],
             [
              0.6666666666666666,
              "#35b779"
             ],
             [
              0.7777777777777778,
              "#6ece58"
             ],
             [
              0.8888888888888888,
              "#b5de2b"
             ],
             [
              1,
              "#fde725"
             ]
            ],
            "type": "heatmap"
           }
          ],
          "heatmapgl": [
           {
            "colorbar": {
             "outlinewidth": 1,
             "tickcolor": "rgb(36,36,36)",
             "ticks": "outside"
            },
            "colorscale": [
             [
              0,
              "#440154"
             ],
             [
              0.1111111111111111,
              "#482878"
             ],
             [
              0.2222222222222222,
              "#3e4989"
             ],
             [
              0.3333333333333333,
              "#31688e"
             ],
             [
              0.4444444444444444,
              "#26828e"
             ],
             [
              0.5555555555555556,
              "#1f9e89"
             ],
             [
              0.6666666666666666,
              "#35b779"
             ],
             [
              0.7777777777777778,
              "#6ece58"
             ],
             [
              0.8888888888888888,
              "#b5de2b"
             ],
             [
              1,
              "#fde725"
             ]
            ],
            "type": "heatmapgl"
           }
          ],
          "histogram": [
           {
            "marker": {
             "line": {
              "color": "white",
              "width": 0.6
             }
            },
            "type": "histogram"
           }
          ],
          "histogram2d": [
           {
            "colorbar": {
             "outlinewidth": 1,
             "tickcolor": "rgb(36,36,36)",
             "ticks": "outside"
            },
            "colorscale": [
             [
              0,
              "#440154"
             ],
             [
              0.1111111111111111,
              "#482878"
             ],
             [
              0.2222222222222222,
              "#3e4989"
             ],
             [
              0.3333333333333333,
              "#31688e"
             ],
             [
              0.4444444444444444,
              "#26828e"
             ],
             [
              0.5555555555555556,
              "#1f9e89"
             ],
             [
              0.6666666666666666,
              "#35b779"
             ],
             [
              0.7777777777777778,
              "#6ece58"
             ],
             [
              0.8888888888888888,
              "#b5de2b"
             ],
             [
              1,
              "#fde725"
             ]
            ],
            "type": "histogram2d"
           }
          ],
          "histogram2dcontour": [
           {
            "colorbar": {
             "outlinewidth": 1,
             "tickcolor": "rgb(36,36,36)",
             "ticks": "outside"
            },
            "colorscale": [
             [
              0,
              "#440154"
             ],
             [
              0.1111111111111111,
              "#482878"
             ],
             [
              0.2222222222222222,
              "#3e4989"
             ],
             [
              0.3333333333333333,
              "#31688e"
             ],
             [
              0.4444444444444444,
              "#26828e"
             ],
             [
              0.5555555555555556,
              "#1f9e89"
             ],
             [
              0.6666666666666666,
              "#35b779"
             ],
             [
              0.7777777777777778,
              "#6ece58"
             ],
             [
              0.8888888888888888,
              "#b5de2b"
             ],
             [
              1,
              "#fde725"
             ]
            ],
            "type": "histogram2dcontour"
           }
          ],
          "mesh3d": [
           {
            "colorbar": {
             "outlinewidth": 1,
             "tickcolor": "rgb(36,36,36)",
             "ticks": "outside"
            },
            "type": "mesh3d"
           }
          ],
          "parcoords": [
           {
            "line": {
             "colorbar": {
              "outlinewidth": 1,
              "tickcolor": "rgb(36,36,36)",
              "ticks": "outside"
             }
            },
            "type": "parcoords"
           }
          ],
          "pie": [
           {
            "automargin": true,
            "type": "pie"
           }
          ],
          "scatter": [
           {
            "fillpattern": {
             "fillmode": "overlay",
             "size": 10,
             "solidity": 0.2
            },
            "type": "scatter"
           }
          ],
          "scatter3d": [
           {
            "line": {
             "colorbar": {
              "outlinewidth": 1,
              "tickcolor": "rgb(36,36,36)",
              "ticks": "outside"
             }
            },
            "marker": {
             "colorbar": {
              "outlinewidth": 1,
              "tickcolor": "rgb(36,36,36)",
              "ticks": "outside"
             }
            },
            "type": "scatter3d"
           }
          ],
          "scattercarpet": [
           {
            "marker": {
             "colorbar": {
              "outlinewidth": 1,
              "tickcolor": "rgb(36,36,36)",
              "ticks": "outside"
             }
            },
            "type": "scattercarpet"
           }
          ],
          "scattergeo": [
           {
            "marker": {
             "colorbar": {
              "outlinewidth": 1,
              "tickcolor": "rgb(36,36,36)",
              "ticks": "outside"
             }
            },
            "type": "scattergeo"
           }
          ],
          "scattergl": [
           {
            "marker": {
             "colorbar": {
              "outlinewidth": 1,
              "tickcolor": "rgb(36,36,36)",
              "ticks": "outside"
             }
            },
            "type": "scattergl"
           }
          ],
          "scattermapbox": [
           {
            "marker": {
             "colorbar": {
              "outlinewidth": 1,
              "tickcolor": "rgb(36,36,36)",
              "ticks": "outside"
             }
            },
            "type": "scattermapbox"
           }
          ],
          "scatterpolar": [
           {
            "marker": {
             "colorbar": {
              "outlinewidth": 1,
              "tickcolor": "rgb(36,36,36)",
              "ticks": "outside"
             }
            },
            "type": "scatterpolar"
           }
          ],
          "scatterpolargl": [
           {
            "marker": {
             "colorbar": {
              "outlinewidth": 1,
              "tickcolor": "rgb(36,36,36)",
              "ticks": "outside"
             }
            },
            "type": "scatterpolargl"
           }
          ],
          "scatterternary": [
           {
            "marker": {
             "colorbar": {
              "outlinewidth": 1,
              "tickcolor": "rgb(36,36,36)",
              "ticks": "outside"
             }
            },
            "type": "scatterternary"
           }
          ],
          "surface": [
           {
            "colorbar": {
             "outlinewidth": 1,
             "tickcolor": "rgb(36,36,36)",
             "ticks": "outside"
            },
            "colorscale": [
             [
              0,
              "#440154"
             ],
             [
              0.1111111111111111,
              "#482878"
             ],
             [
              0.2222222222222222,
              "#3e4989"
             ],
             [
              0.3333333333333333,
              "#31688e"
             ],
             [
              0.4444444444444444,
              "#26828e"
             ],
             [
              0.5555555555555556,
              "#1f9e89"
             ],
             [
              0.6666666666666666,
              "#35b779"
             ],
             [
              0.7777777777777778,
              "#6ece58"
             ],
             [
              0.8888888888888888,
              "#b5de2b"
             ],
             [
              1,
              "#fde725"
             ]
            ],
            "type": "surface"
           }
          ],
          "table": [
           {
            "cells": {
             "fill": {
              "color": "rgb(237,237,237)"
             },
             "line": {
              "color": "white"
             }
            },
            "header": {
             "fill": {
              "color": "rgb(217,217,217)"
             },
             "line": {
              "color": "white"
             }
            },
            "type": "table"
           }
          ]
         },
         "layout": {
          "annotationdefaults": {
           "arrowhead": 0,
           "arrowwidth": 1
          },
          "autosize": true,
          "autotypenumbers": "strict",
          "coloraxis": {
           "colorbar": {
            "outlinewidth": 1,
            "tickcolor": "rgb(36,36,36)",
            "ticks": "outside"
           }
          },
          "colorscale": {
           "diverging": [
            [
             0,
             "rgb(103,0,31)"
            ],
            [
             0.1,
             "rgb(178,24,43)"
            ],
            [
             0.2,
             "rgb(214,96,77)"
            ],
            [
             0.3,
             "rgb(244,165,130)"
            ],
            [
             0.4,
             "rgb(253,219,199)"
            ],
            [
             0.5,
             "rgb(247,247,247)"
            ],
            [
             0.6,
             "rgb(209,229,240)"
            ],
            [
             0.7,
             "rgb(146,197,222)"
            ],
            [
             0.8,
             "rgb(67,147,195)"
            ],
            [
             0.9,
             "rgb(33,102,172)"
            ],
            [
             1,
             "rgb(5,48,97)"
            ]
           ],
           "sequential": [
            [
             0,
             "#440154"
            ],
            [
             0.1111111111111111,
             "#482878"
            ],
            [
             0.2222222222222222,
             "#3e4989"
            ],
            [
             0.3333333333333333,
             "#31688e"
            ],
            [
             0.4444444444444444,
             "#26828e"
            ],
            [
             0.5555555555555556,
             "#1f9e89"
            ],
            [
             0.6666666666666666,
             "#35b779"
            ],
            [
             0.7777777777777778,
             "#6ece58"
            ],
            [
             0.8888888888888888,
             "#b5de2b"
            ],
            [
             1,
             "#fde725"
            ]
           ],
           "sequentialminus": [
            [
             0,
             "#440154"
            ],
            [
             0.1111111111111111,
             "#482878"
            ],
            [
             0.2222222222222222,
             "#3e4989"
            ],
            [
             0.3333333333333333,
             "#31688e"
            ],
            [
             0.4444444444444444,
             "#26828e"
            ],
            [
             0.5555555555555556,
             "#1f9e89"
            ],
            [
             0.6666666666666666,
             "#35b779"
            ],
            [
             0.7777777777777778,
             "#6ece58"
            ],
            [
             0.8888888888888888,
             "#b5de2b"
            ],
            [
             1,
             "#fde725"
            ]
           ]
          },
          "colorway": [
           "#1F77B4",
           "#FF7F0E",
           "#2CA02C",
           "#D62728",
           "#9467BD",
           "#8C564B",
           "#E377C2",
           "#7F7F7F",
           "#BCBD22",
           "#17BECF"
          ],
          "font": {
           "color": "rgb(36,36,36)"
          },
          "geo": {
           "bgcolor": "white",
           "lakecolor": "white",
           "landcolor": "white",
           "showlakes": true,
           "showland": true,
           "subunitcolor": "white"
          },
          "height": 400,
          "hoverlabel": {
           "align": "left"
          },
          "hovermode": "closest",
          "mapbox": {
           "style": "light"
          },
          "margin": {
           "b": 30,
           "l": 30,
           "r": 30,
           "t": 30
          },
          "paper_bgcolor": "white",
          "plot_bgcolor": "white",
          "polar": {
           "angularaxis": {
            "gridcolor": "rgb(232,232,232)",
            "linecolor": "rgb(36,36,36)",
            "showgrid": false,
            "showline": true,
            "ticks": "outside"
           },
           "bgcolor": "white",
           "radialaxis": {
            "gridcolor": "rgb(232,232,232)",
            "linecolor": "rgb(36,36,36)",
            "showgrid": false,
            "showline": true,
            "ticks": "outside"
           }
          },
          "scene": {
           "xaxis": {
            "backgroundcolor": "white",
            "gridcolor": "rgb(232,232,232)",
            "gridwidth": 2,
            "linecolor": "rgb(36,36,36)",
            "showbackground": true,
            "showgrid": false,
            "showline": true,
            "ticks": "outside",
            "zeroline": false,
            "zerolinecolor": "rgb(36,36,36)"
           },
           "yaxis": {
            "backgroundcolor": "white",
            "gridcolor": "rgb(232,232,232)",
            "gridwidth": 2,
            "linecolor": "rgb(36,36,36)",
            "showbackground": true,
            "showgrid": false,
            "showline": true,
            "ticks": "outside",
            "zeroline": false,
            "zerolinecolor": "rgb(36,36,36)"
           },
           "zaxis": {
            "backgroundcolor": "white",
            "gridcolor": "rgb(232,232,232)",
            "gridwidth": 2,
            "linecolor": "rgb(36,36,36)",
            "showbackground": true,
            "showgrid": false,
            "showline": true,
            "ticks": "outside",
            "zeroline": false,
            "zerolinecolor": "rgb(36,36,36)"
           }
          },
          "shapedefaults": {
           "fillcolor": "black",
           "line": {
            "width": 0
           },
           "opacity": 0.3
          },
          "ternary": {
           "aaxis": {
            "gridcolor": "rgb(232,232,232)",
            "linecolor": "rgb(36,36,36)",
            "showgrid": false,
            "showline": true,
            "ticks": "outside"
           },
           "baxis": {
            "gridcolor": "rgb(232,232,232)",
            "linecolor": "rgb(36,36,36)",
            "showgrid": false,
            "showline": true,
            "ticks": "outside"
           },
           "bgcolor": "white",
           "caxis": {
            "gridcolor": "rgb(232,232,232)",
            "linecolor": "rgb(36,36,36)",
            "showgrid": false,
            "showline": true,
            "ticks": "outside"
           }
          },
          "title": {
           "x": 0.5,
           "xanchor": "center"
          },
          "width": 600,
          "xaxis": {
           "automargin": true,
           "gridcolor": "rgb(232,232,232)",
           "linecolor": "rgb(36,36,36)",
           "showgrid": true,
           "showline": true,
           "ticks": "outside",
           "title": {
            "standoff": 15
           },
           "zeroline": false,
           "zerolinecolor": "rgb(36,36,36)"
          },
          "yaxis": {
           "automargin": true,
           "gridcolor": "rgb(232,232,232)",
           "linecolor": "rgb(36,36,36)",
           "showgrid": true,
           "showline": true,
           "ticks": "outside",
           "title": {
            "standoff": 15
           },
           "zeroline": false,
           "zerolinecolor": "rgb(36,36,36)"
          }
         }
        },
        "xaxis": {
         "anchor": "y",
         "domain": [
          0,
          1
         ],
         "title": {
          "text": "x"
         }
        },
        "yaxis": {
         "anchor": "x",
         "domain": [
          0,
          1
         ],
         "title": {
          "text": "root y"
         }
        }
       }
      }
     },
     "metadata": {},
     "output_type": "display_data"
    }
   ],
   "source": [
    "df_2['root y'] = np.sqrt(df_2['y'])\n",
    "\n",
    "px.scatter(df_2, x='x', y='root y', trendline=\"ols\", trendline_color_override=\"#ff7f0e\")"
   ]
  },
  {
   "cell_type": "markdown",
   "id": "a2ed68b7",
   "metadata": {},
   "source": [
    "Hmm... the relationship certainly looks _more_ linear than before, but still not quite linear. Let's look at the residual plot:"
   ]
  },
  {
   "cell_type": "code",
   "execution_count": 8,
   "id": "3a9a5341",
   "metadata": {},
   "outputs": [
    {
     "data": {
      "application/vnd.plotly.v1+json": {
       "config": {
        "plotlyServerURL": "https://plot.ly"
       },
       "data": [
        {
         "hovertemplate": "pred=%{x}<br>root y residuals=%{y}<extra></extra>",
         "legendgroup": "",
         "marker": {
          "color": "#1F77B4",
          "symbol": "circle"
         },
         "mode": "markers",
         "name": "",
         "orientation": "v",
         "showlegend": false,
         "type": "scatter",
         "x": [
          5.628084132349898,
          5.919947087608101,
          6.211810042866304,
          6.503672998124507,
          6.795535953382711,
          7.087398908640914,
          7.379261863899117,
          7.6711248191573205,
          7.962987774415524,
          8.254850729673727,
          8.546713684931937,
          8.83857664019014,
          9.130439595448344,
          9.422302550706547,
          9.71416550596475,
          10.006028461222954,
          10.297891416481157,
          10.58975437173936,
          10.881617326997564,
          11.173480282255767,
          11.46534323751397,
          11.757206192772173,
          12.04906914803038,
          12.340932103288587,
          12.63279505854679,
          12.924658013804994,
          13.216520969063197,
          13.5083839243214,
          13.800246879579603,
          14.092109834837807,
          14.38397279009601,
          14.675835745354213,
          14.967698700612416,
          15.25956165587062,
          15.551424611128823,
          15.843287566387026,
          16.13515052164523,
          16.427013476903433,
          16.718876432161636,
          17.01073938741984,
          17.302602342678043,
          17.594465297936246,
          17.88632825319445,
          18.178191208452652,
          18.470054163710863,
          18.761917118969066,
          19.05378007422727,
          19.345643029485473,
          19.637505984743676,
          19.92936894000188,
          20.221231895260082,
          20.513094850518286,
          20.80495780577649,
          21.0968207610347,
          21.388683716292903,
          21.680546671551106,
          21.97240962680931,
          22.264272582067512,
          22.556135537325716,
          22.84799849258392,
          23.139861447842122,
          23.431724403100326,
          23.72358735835853,
          24.015450313616732,
          24.307313268874935,
          24.59917622413314,
          24.891039179391342,
          25.182902134649545,
          25.47476508990775,
          25.76662804516595,
          26.058491000424155,
          26.35035395568236,
          26.64221691094056,
          26.934079866198772,
          27.225942821456968,
          27.51780577671518,
          27.809668731973375,
          28.101531687231585,
          28.39339464248978,
          28.685257597748,
          28.977120553006188,
          29.268983508264405,
          29.560846463522594,
          29.85270941878081,
          30.144572374039,
          30.43643532929722,
          30.728298284555407,
          31.020161239813625,
          31.312024195071828,
          31.60388715033003,
          31.895750105588235,
          32.18761306084644,
          32.47947601610464,
          32.771338971362844,
          33.06320192662105,
          33.35506488187925,
          33.646927837137454,
          33.93879079239566,
          34.23065374765386,
          34.522516702912064
         ],
         "xaxis": "x",
         "y": [
          -0.5086346020227195,
          1.949359259219566,
          1.1032326704137994,
          3.85213798294029,
          1.4389769472702714,
          3.87635994549429,
          5.099315527776032,
          2.9676118151948874,
          1.1371285097197994,
          -0.8766013965162074,
          3.793248210109036,
          2.3662054335052147,
          2.930412445107617,
          1.4234790147471479,
          0.11756458034849437,
          1.3705251704444983,
          -0.32553079614674196,
          2.980330726567294,
          -0.4487565139177345,
          0.7139979071110787,
          0.45787784386115327,
          -0.7177559047688806,
          1.6823726479328283,
          -3.031823954217357,
          0.21734623626158545,
          1.0083880299555723,
          -1.1939460779576283,
          -1.6186306612403047,
          1.3450940746996949,
          -0.5554234155961293,
          -3.29149885975413,
          1.4310808583352,
          2.0111503588855335,
          -2.6831167298315926,
          -0.07126637132142655,
          -1.6715727954325423,
          -1.832831111375798,
          -3.7438416941385846,
          -0.33587766876840774,
          -0.41314606903721796,
          -1.6250242008518825,
          -2.6224866004724525,
          -2.0261123026569656,
          -2.0149382603126718,
          -2.092402578740696,
          -0.6676483755971461,
          -3.3666851647624387,
          -0.9258464285603409,
          -0.8279089611114046,
          -1.790681123056622,
          -1.0194012512382429,
          -2.306694131766804,
          -1.2229688223941828,
          -2.3392301391330577,
          -3.2369727189365953,
          -1.073469449473464,
          -0.3629898101238993,
          -1.4722880546352108,
          -1.7937465054599677,
          -3.3021619284293955,
          -3.2292529565682813,
          -2.3834044143917588,
          -0.6473344449656544,
          -2.4042577048134,
          -1.0463099336892725,
          -1.3817574826525245,
          -0.8633093997346677,
          -1.5490383803043173,
          -0.8390241987038571,
          -0.5087062149346764,
          -1.381616022043474,
          -1.6621044114258332,
          -2.051478192178241,
          -1.5746466461379889,
          -1.2601771033938078,
          -1.2996774420434711,
          -0.8995417709496856,
          0.329588662709579,
          0.38236869119235806,
          -0.209605467119804,
          0.2974093347039357,
          0.9851342100289564,
          0.6259320776804032,
          0.4994752407009031,
          1.2396287228751888,
          1.2286266591469825,
          1.8199380835314969,
          0.36056945278897246,
          1.3430536295602806,
          1.3641115461480595,
          1.9911658739500169,
          2.9589467542087036,
          2.4507404199731653,
          2.5692194947626064,
          1.839985799025257,
          2.4209960760839806,
          3.6875872674822787,
          3.5991967435145042,
          3.754133231397745,
          3.5801494484416523
         ],
         "yaxis": "y"
        },
        {
         "hovertemplate": "<b>OLS trendline</b><br>root y residuals = -1.36393e-16 * pred + 6.09582e-15<br>R<sup>2</sup>=0.000000<br><br>pred=%{x}<br>root y residuals=%{y} <b>(trend)</b><extra></extra>",
         "legendgroup": "",
         "line": {
          "color": "red"
         },
         "marker": {
          "color": "#1F77B4",
          "symbol": "circle"
         },
         "mode": "lines",
         "name": "",
         "showlegend": false,
         "type": "scatter",
         "x": [
          5.628084132349898,
          5.919947087608101,
          6.211810042866304,
          6.503672998124507,
          6.795535953382711,
          7.087398908640914,
          7.379261863899117,
          7.6711248191573205,
          7.962987774415524,
          8.254850729673727,
          8.546713684931937,
          8.83857664019014,
          9.130439595448344,
          9.422302550706547,
          9.71416550596475,
          10.006028461222954,
          10.297891416481157,
          10.58975437173936,
          10.881617326997564,
          11.173480282255767,
          11.46534323751397,
          11.757206192772173,
          12.04906914803038,
          12.340932103288587,
          12.63279505854679,
          12.924658013804994,
          13.216520969063197,
          13.5083839243214,
          13.800246879579603,
          14.092109834837807,
          14.38397279009601,
          14.675835745354213,
          14.967698700612416,
          15.25956165587062,
          15.551424611128823,
          15.843287566387026,
          16.13515052164523,
          16.427013476903433,
          16.718876432161636,
          17.01073938741984,
          17.302602342678043,
          17.594465297936246,
          17.88632825319445,
          18.178191208452652,
          18.470054163710863,
          18.761917118969066,
          19.05378007422727,
          19.345643029485473,
          19.637505984743676,
          19.92936894000188,
          20.221231895260082,
          20.513094850518286,
          20.80495780577649,
          21.0968207610347,
          21.388683716292903,
          21.680546671551106,
          21.97240962680931,
          22.264272582067512,
          22.556135537325716,
          22.84799849258392,
          23.139861447842122,
          23.431724403100326,
          23.72358735835853,
          24.015450313616732,
          24.307313268874935,
          24.59917622413314,
          24.891039179391342,
          25.182902134649545,
          25.47476508990775,
          25.76662804516595,
          26.058491000424155,
          26.35035395568236,
          26.64221691094056,
          26.934079866198772,
          27.225942821456968,
          27.51780577671518,
          27.809668731973375,
          28.101531687231585,
          28.39339464248978,
          28.685257597748,
          28.977120553006188,
          29.268983508264405,
          29.560846463522594,
          29.85270941878081,
          30.144572374039,
          30.43643532929722,
          30.728298284555407,
          31.020161239813625,
          31.312024195071828,
          31.60388715033003,
          31.895750105588235,
          32.18761306084644,
          32.47947601610464,
          32.771338971362844,
          33.06320192662105,
          33.35506488187925,
          33.646927837137454,
          33.93879079239566,
          34.23065374765386,
          34.522516702912064
         ],
         "xaxis": "x",
         "y": [
          5.328189079344801e-15,
          5.288381122314801e-15,
          5.2485731652848e-15,
          5.2087652082548e-15,
          5.1689572512248004e-15,
          5.1291492941948005e-15,
          5.0893413371648e-15,
          5.0495333801348e-15,
          5.0097254231048e-15,
          4.9699174660748e-15,
          4.930109509044798e-15,
          4.8903015520147984e-15,
          4.8504935949847985e-15,
          4.8106856379547985e-15,
          4.770877680924798e-15,
          4.731069723894798e-15,
          4.691261766864798e-15,
          4.651453809834798e-15,
          4.611645852804797e-15,
          4.571837895774797e-15,
          4.532029938744797e-15,
          4.492221981714797e-15,
          4.4524140246847966e-15,
          4.412606067654796e-15,
          4.372798110624796e-15,
          4.332990153594796e-15,
          4.293182196564795e-15,
          4.253374239534795e-15,
          4.213566282504795e-15,
          4.173758325474795e-15,
          4.133950368444795e-15,
          4.094142411414795e-15,
          4.054334454384795e-15,
          4.014526497354795e-15,
          3.974718540324795e-15,
          3.934910583294794e-15,
          3.895102626264794e-15,
          3.855294669234794e-15,
          3.815486712204794e-15,
          3.7756787551747935e-15,
          3.7358707981447936e-15,
          3.696062841114794e-15,
          3.656254884084794e-15,
          3.616446927054793e-15,
          3.576638970024792e-15,
          3.536831012994792e-15,
          3.497023055964792e-15,
          3.4572150989347915e-15,
          3.4174071419047916e-15,
          3.3775991848747916e-15,
          3.3377912278447913e-15,
          3.2979832708147914e-15,
          3.258175313784791e-15,
          3.21836735675479e-15,
          3.17855939972479e-15,
          3.1387514426947896e-15,
          3.0989434856647896e-15,
          3.0591355286347893e-15,
          3.0193275716047893e-15,
          2.979519614574789e-15,
          2.939711657544789e-15,
          2.899903700514789e-15,
          2.8600957434847888e-15,
          2.820287786454789e-15,
          2.7804798294247885e-15,
          2.7406718723947885e-15,
          2.700863915364788e-15,
          2.6610559583347882e-15,
          2.621248001304788e-15,
          2.581440044274788e-15,
          2.5416320872447876e-15,
          2.5018241302147876e-15,
          2.4620161731847873e-15,
          2.4222082161547866e-15,
          2.382400259124787e-15,
          2.3425923020947863e-15,
          2.302784345064787e-15,
          2.262976388034786e-15,
          2.223168431004787e-15,
          2.1833604739747845e-15,
          2.1435525169447865e-15,
          2.1037445599147842e-15,
          2.0639366028847862e-15,
          2.024128645854784e-15,
          1.984320688824786e-15,
          1.9445127317947836e-15,
          1.9047047747647856e-15,
          1.8648968177347837e-15,
          1.8250888607047834e-15,
          1.7852809036747834e-15,
          1.745472946644783e-15,
          1.705664989614783e-15,
          1.6658570325847828e-15,
          1.6260490755547826e-15,
          1.5862411185247827e-15,
          1.5464331614947825e-15,
          1.5066252044647824e-15,
          1.4668172474347822e-15,
          1.4270092904047821e-15,
          1.387201333374782e-15
         ],
         "yaxis": "y"
        }
       ],
       "layout": {
        "legend": {
         "tracegroupgap": 0
        },
        "template": {
         "data": {
          "bar": [
           {
            "error_x": {
             "color": "rgb(36,36,36)"
            },
            "error_y": {
             "color": "rgb(36,36,36)"
            },
            "marker": {
             "line": {
              "color": "white",
              "width": 0.5
             },
             "pattern": {
              "fillmode": "overlay",
              "size": 10,
              "solidity": 0.2
             }
            },
            "type": "bar"
           }
          ],
          "barpolar": [
           {
            "marker": {
             "line": {
              "color": "white",
              "width": 0.5
             },
             "pattern": {
              "fillmode": "overlay",
              "size": 10,
              "solidity": 0.2
             }
            },
            "type": "barpolar"
           }
          ],
          "carpet": [
           {
            "aaxis": {
             "endlinecolor": "rgb(36,36,36)",
             "gridcolor": "white",
             "linecolor": "white",
             "minorgridcolor": "white",
             "startlinecolor": "rgb(36,36,36)"
            },
            "baxis": {
             "endlinecolor": "rgb(36,36,36)",
             "gridcolor": "white",
             "linecolor": "white",
             "minorgridcolor": "white",
             "startlinecolor": "rgb(36,36,36)"
            },
            "type": "carpet"
           }
          ],
          "choropleth": [
           {
            "colorbar": {
             "outlinewidth": 1,
             "tickcolor": "rgb(36,36,36)",
             "ticks": "outside"
            },
            "type": "choropleth"
           }
          ],
          "contour": [
           {
            "colorbar": {
             "outlinewidth": 1,
             "tickcolor": "rgb(36,36,36)",
             "ticks": "outside"
            },
            "colorscale": [
             [
              0,
              "#440154"
             ],
             [
              0.1111111111111111,
              "#482878"
             ],
             [
              0.2222222222222222,
              "#3e4989"
             ],
             [
              0.3333333333333333,
              "#31688e"
             ],
             [
              0.4444444444444444,
              "#26828e"
             ],
             [
              0.5555555555555556,
              "#1f9e89"
             ],
             [
              0.6666666666666666,
              "#35b779"
             ],
             [
              0.7777777777777778,
              "#6ece58"
             ],
             [
              0.8888888888888888,
              "#b5de2b"
             ],
             [
              1,
              "#fde725"
             ]
            ],
            "type": "contour"
           }
          ],
          "contourcarpet": [
           {
            "colorbar": {
             "outlinewidth": 1,
             "tickcolor": "rgb(36,36,36)",
             "ticks": "outside"
            },
            "type": "contourcarpet"
           }
          ],
          "heatmap": [
           {
            "colorbar": {
             "outlinewidth": 1,
             "tickcolor": "rgb(36,36,36)",
             "ticks": "outside"
            },
            "colorscale": [
             [
              0,
              "#440154"
             ],
             [
              0.1111111111111111,
              "#482878"
             ],
             [
              0.2222222222222222,
              "#3e4989"
             ],
             [
              0.3333333333333333,
              "#31688e"
             ],
             [
              0.4444444444444444,
              "#26828e"
             ],
             [
              0.5555555555555556,
              "#1f9e89"
             ],
             [
              0.6666666666666666,
              "#35b779"
             ],
             [
              0.7777777777777778,
              "#6ece58"
             ],
             [
              0.8888888888888888,
              "#b5de2b"
             ],
             [
              1,
              "#fde725"
             ]
            ],
            "type": "heatmap"
           }
          ],
          "heatmapgl": [
           {
            "colorbar": {
             "outlinewidth": 1,
             "tickcolor": "rgb(36,36,36)",
             "ticks": "outside"
            },
            "colorscale": [
             [
              0,
              "#440154"
             ],
             [
              0.1111111111111111,
              "#482878"
             ],
             [
              0.2222222222222222,
              "#3e4989"
             ],
             [
              0.3333333333333333,
              "#31688e"
             ],
             [
              0.4444444444444444,
              "#26828e"
             ],
             [
              0.5555555555555556,
              "#1f9e89"
             ],
             [
              0.6666666666666666,
              "#35b779"
             ],
             [
              0.7777777777777778,
              "#6ece58"
             ],
             [
              0.8888888888888888,
              "#b5de2b"
             ],
             [
              1,
              "#fde725"
             ]
            ],
            "type": "heatmapgl"
           }
          ],
          "histogram": [
           {
            "marker": {
             "line": {
              "color": "white",
              "width": 0.6
             }
            },
            "type": "histogram"
           }
          ],
          "histogram2d": [
           {
            "colorbar": {
             "outlinewidth": 1,
             "tickcolor": "rgb(36,36,36)",
             "ticks": "outside"
            },
            "colorscale": [
             [
              0,
              "#440154"
             ],
             [
              0.1111111111111111,
              "#482878"
             ],
             [
              0.2222222222222222,
              "#3e4989"
             ],
             [
              0.3333333333333333,
              "#31688e"
             ],
             [
              0.4444444444444444,
              "#26828e"
             ],
             [
              0.5555555555555556,
              "#1f9e89"
             ],
             [
              0.6666666666666666,
              "#35b779"
             ],
             [
              0.7777777777777778,
              "#6ece58"
             ],
             [
              0.8888888888888888,
              "#b5de2b"
             ],
             [
              1,
              "#fde725"
             ]
            ],
            "type": "histogram2d"
           }
          ],
          "histogram2dcontour": [
           {
            "colorbar": {
             "outlinewidth": 1,
             "tickcolor": "rgb(36,36,36)",
             "ticks": "outside"
            },
            "colorscale": [
             [
              0,
              "#440154"
             ],
             [
              0.1111111111111111,
              "#482878"
             ],
             [
              0.2222222222222222,
              "#3e4989"
             ],
             [
              0.3333333333333333,
              "#31688e"
             ],
             [
              0.4444444444444444,
              "#26828e"
             ],
             [
              0.5555555555555556,
              "#1f9e89"
             ],
             [
              0.6666666666666666,
              "#35b779"
             ],
             [
              0.7777777777777778,
              "#6ece58"
             ],
             [
              0.8888888888888888,
              "#b5de2b"
             ],
             [
              1,
              "#fde725"
             ]
            ],
            "type": "histogram2dcontour"
           }
          ],
          "mesh3d": [
           {
            "colorbar": {
             "outlinewidth": 1,
             "tickcolor": "rgb(36,36,36)",
             "ticks": "outside"
            },
            "type": "mesh3d"
           }
          ],
          "parcoords": [
           {
            "line": {
             "colorbar": {
              "outlinewidth": 1,
              "tickcolor": "rgb(36,36,36)",
              "ticks": "outside"
             }
            },
            "type": "parcoords"
           }
          ],
          "pie": [
           {
            "automargin": true,
            "type": "pie"
           }
          ],
          "scatter": [
           {
            "fillpattern": {
             "fillmode": "overlay",
             "size": 10,
             "solidity": 0.2
            },
            "type": "scatter"
           }
          ],
          "scatter3d": [
           {
            "line": {
             "colorbar": {
              "outlinewidth": 1,
              "tickcolor": "rgb(36,36,36)",
              "ticks": "outside"
             }
            },
            "marker": {
             "colorbar": {
              "outlinewidth": 1,
              "tickcolor": "rgb(36,36,36)",
              "ticks": "outside"
             }
            },
            "type": "scatter3d"
           }
          ],
          "scattercarpet": [
           {
            "marker": {
             "colorbar": {
              "outlinewidth": 1,
              "tickcolor": "rgb(36,36,36)",
              "ticks": "outside"
             }
            },
            "type": "scattercarpet"
           }
          ],
          "scattergeo": [
           {
            "marker": {
             "colorbar": {
              "outlinewidth": 1,
              "tickcolor": "rgb(36,36,36)",
              "ticks": "outside"
             }
            },
            "type": "scattergeo"
           }
          ],
          "scattergl": [
           {
            "marker": {
             "colorbar": {
              "outlinewidth": 1,
              "tickcolor": "rgb(36,36,36)",
              "ticks": "outside"
             }
            },
            "type": "scattergl"
           }
          ],
          "scattermapbox": [
           {
            "marker": {
             "colorbar": {
              "outlinewidth": 1,
              "tickcolor": "rgb(36,36,36)",
              "ticks": "outside"
             }
            },
            "type": "scattermapbox"
           }
          ],
          "scatterpolar": [
           {
            "marker": {
             "colorbar": {
              "outlinewidth": 1,
              "tickcolor": "rgb(36,36,36)",
              "ticks": "outside"
             }
            },
            "type": "scatterpolar"
           }
          ],
          "scatterpolargl": [
           {
            "marker": {
             "colorbar": {
              "outlinewidth": 1,
              "tickcolor": "rgb(36,36,36)",
              "ticks": "outside"
             }
            },
            "type": "scatterpolargl"
           }
          ],
          "scatterternary": [
           {
            "marker": {
             "colorbar": {
              "outlinewidth": 1,
              "tickcolor": "rgb(36,36,36)",
              "ticks": "outside"
             }
            },
            "type": "scatterternary"
           }
          ],
          "surface": [
           {
            "colorbar": {
             "outlinewidth": 1,
             "tickcolor": "rgb(36,36,36)",
             "ticks": "outside"
            },
            "colorscale": [
             [
              0,
              "#440154"
             ],
             [
              0.1111111111111111,
              "#482878"
             ],
             [
              0.2222222222222222,
              "#3e4989"
             ],
             [
              0.3333333333333333,
              "#31688e"
             ],
             [
              0.4444444444444444,
              "#26828e"
             ],
             [
              0.5555555555555556,
              "#1f9e89"
             ],
             [
              0.6666666666666666,
              "#35b779"
             ],
             [
              0.7777777777777778,
              "#6ece58"
             ],
             [
              0.8888888888888888,
              "#b5de2b"
             ],
             [
              1,
              "#fde725"
             ]
            ],
            "type": "surface"
           }
          ],
          "table": [
           {
            "cells": {
             "fill": {
              "color": "rgb(237,237,237)"
             },
             "line": {
              "color": "white"
             }
            },
            "header": {
             "fill": {
              "color": "rgb(217,217,217)"
             },
             "line": {
              "color": "white"
             }
            },
            "type": "table"
           }
          ]
         },
         "layout": {
          "annotationdefaults": {
           "arrowhead": 0,
           "arrowwidth": 1
          },
          "autosize": true,
          "autotypenumbers": "strict",
          "coloraxis": {
           "colorbar": {
            "outlinewidth": 1,
            "tickcolor": "rgb(36,36,36)",
            "ticks": "outside"
           }
          },
          "colorscale": {
           "diverging": [
            [
             0,
             "rgb(103,0,31)"
            ],
            [
             0.1,
             "rgb(178,24,43)"
            ],
            [
             0.2,
             "rgb(214,96,77)"
            ],
            [
             0.3,
             "rgb(244,165,130)"
            ],
            [
             0.4,
             "rgb(253,219,199)"
            ],
            [
             0.5,
             "rgb(247,247,247)"
            ],
            [
             0.6,
             "rgb(209,229,240)"
            ],
            [
             0.7,
             "rgb(146,197,222)"
            ],
            [
             0.8,
             "rgb(67,147,195)"
            ],
            [
             0.9,
             "rgb(33,102,172)"
            ],
            [
             1,
             "rgb(5,48,97)"
            ]
           ],
           "sequential": [
            [
             0,
             "#440154"
            ],
            [
             0.1111111111111111,
             "#482878"
            ],
            [
             0.2222222222222222,
             "#3e4989"
            ],
            [
             0.3333333333333333,
             "#31688e"
            ],
            [
             0.4444444444444444,
             "#26828e"
            ],
            [
             0.5555555555555556,
             "#1f9e89"
            ],
            [
             0.6666666666666666,
             "#35b779"
            ],
            [
             0.7777777777777778,
             "#6ece58"
            ],
            [
             0.8888888888888888,
             "#b5de2b"
            ],
            [
             1,
             "#fde725"
            ]
           ],
           "sequentialminus": [
            [
             0,
             "#440154"
            ],
            [
             0.1111111111111111,
             "#482878"
            ],
            [
             0.2222222222222222,
             "#3e4989"
            ],
            [
             0.3333333333333333,
             "#31688e"
            ],
            [
             0.4444444444444444,
             "#26828e"
            ],
            [
             0.5555555555555556,
             "#1f9e89"
            ],
            [
             0.6666666666666666,
             "#35b779"
            ],
            [
             0.7777777777777778,
             "#6ece58"
            ],
            [
             0.8888888888888888,
             "#b5de2b"
            ],
            [
             1,
             "#fde725"
            ]
           ]
          },
          "colorway": [
           "#1F77B4",
           "#FF7F0E",
           "#2CA02C",
           "#D62728",
           "#9467BD",
           "#8C564B",
           "#E377C2",
           "#7F7F7F",
           "#BCBD22",
           "#17BECF"
          ],
          "font": {
           "color": "rgb(36,36,36)"
          },
          "geo": {
           "bgcolor": "white",
           "lakecolor": "white",
           "landcolor": "white",
           "showlakes": true,
           "showland": true,
           "subunitcolor": "white"
          },
          "height": 400,
          "hoverlabel": {
           "align": "left"
          },
          "hovermode": "closest",
          "mapbox": {
           "style": "light"
          },
          "margin": {
           "b": 30,
           "l": 30,
           "r": 30,
           "t": 30
          },
          "paper_bgcolor": "white",
          "plot_bgcolor": "white",
          "polar": {
           "angularaxis": {
            "gridcolor": "rgb(232,232,232)",
            "linecolor": "rgb(36,36,36)",
            "showgrid": false,
            "showline": true,
            "ticks": "outside"
           },
           "bgcolor": "white",
           "radialaxis": {
            "gridcolor": "rgb(232,232,232)",
            "linecolor": "rgb(36,36,36)",
            "showgrid": false,
            "showline": true,
            "ticks": "outside"
           }
          },
          "scene": {
           "xaxis": {
            "backgroundcolor": "white",
            "gridcolor": "rgb(232,232,232)",
            "gridwidth": 2,
            "linecolor": "rgb(36,36,36)",
            "showbackground": true,
            "showgrid": false,
            "showline": true,
            "ticks": "outside",
            "zeroline": false,
            "zerolinecolor": "rgb(36,36,36)"
           },
           "yaxis": {
            "backgroundcolor": "white",
            "gridcolor": "rgb(232,232,232)",
            "gridwidth": 2,
            "linecolor": "rgb(36,36,36)",
            "showbackground": true,
            "showgrid": false,
            "showline": true,
            "ticks": "outside",
            "zeroline": false,
            "zerolinecolor": "rgb(36,36,36)"
           },
           "zaxis": {
            "backgroundcolor": "white",
            "gridcolor": "rgb(232,232,232)",
            "gridwidth": 2,
            "linecolor": "rgb(36,36,36)",
            "showbackground": true,
            "showgrid": false,
            "showline": true,
            "ticks": "outside",
            "zeroline": false,
            "zerolinecolor": "rgb(36,36,36)"
           }
          },
          "shapedefaults": {
           "fillcolor": "black",
           "line": {
            "width": 0
           },
           "opacity": 0.3
          },
          "ternary": {
           "aaxis": {
            "gridcolor": "rgb(232,232,232)",
            "linecolor": "rgb(36,36,36)",
            "showgrid": false,
            "showline": true,
            "ticks": "outside"
           },
           "baxis": {
            "gridcolor": "rgb(232,232,232)",
            "linecolor": "rgb(36,36,36)",
            "showgrid": false,
            "showline": true,
            "ticks": "outside"
           },
           "bgcolor": "white",
           "caxis": {
            "gridcolor": "rgb(232,232,232)",
            "linecolor": "rgb(36,36,36)",
            "showgrid": false,
            "showline": true,
            "ticks": "outside"
           }
          },
          "title": {
           "x": 0.5,
           "xanchor": "center"
          },
          "width": 600,
          "xaxis": {
           "automargin": true,
           "gridcolor": "rgb(232,232,232)",
           "linecolor": "rgb(36,36,36)",
           "showgrid": true,
           "showline": true,
           "ticks": "outside",
           "title": {
            "standoff": 15
           },
           "zeroline": false,
           "zerolinecolor": "rgb(36,36,36)"
          },
          "yaxis": {
           "automargin": true,
           "gridcolor": "rgb(232,232,232)",
           "linecolor": "rgb(36,36,36)",
           "showgrid": true,
           "showline": true,
           "ticks": "outside",
           "title": {
            "standoff": 15
           },
           "zeroline": false,
           "zerolinecolor": "rgb(36,36,36)"
          }
         }
        },
        "xaxis": {
         "anchor": "y",
         "domain": [
          0,
          1
         ],
         "title": {
          "text": "pred"
         }
        },
        "yaxis": {
         "anchor": "x",
         "domain": [
          0,
          1
         ],
         "title": {
          "text": "root y residuals"
         }
        }
       }
      }
     },
     "metadata": {},
     "output_type": "display_data"
    }
   ],
   "source": [
    "create_residual_plot(df_2, 'x', 'root y')"
   ]
  },
  {
   "cell_type": "markdown",
   "id": "ed636c1f",
   "metadata": {},
   "source": [
    "There is clearly a pattern in the residual plot. Let's instead try another transformation for the `'y'` values – $\\log$."
   ]
  },
  {
   "cell_type": "code",
   "execution_count": 9,
   "id": "cc2b1852",
   "metadata": {},
   "outputs": [
    {
     "data": {
      "application/vnd.plotly.v1+json": {
       "config": {
        "plotlyServerURL": "https://plot.ly"
       },
       "data": [
        {
         "hovertemplate": "x=%{x}<br>log y=%{y}<extra></extra>",
         "legendgroup": "",
         "marker": {
          "color": "#1F77B4",
          "symbol": "circle"
         },
         "mode": "markers",
         "name": "",
         "orientation": "v",
         "showlegend": false,
         "type": "scatter",
         "x": [
          2,
          2.0303030303030303,
          2.0606060606060606,
          2.090909090909091,
          2.121212121212121,
          2.1515151515151514,
          2.1818181818181817,
          2.212121212121212,
          2.242424242424242,
          2.2727272727272725,
          2.303030303030303,
          2.3333333333333335,
          2.3636363636363638,
          2.393939393939394,
          2.4242424242424243,
          2.4545454545454546,
          2.484848484848485,
          2.515151515151515,
          2.5454545454545454,
          2.5757575757575757,
          2.606060606060606,
          2.6363636363636362,
          2.666666666666667,
          2.6969696969696972,
          2.7272727272727275,
          2.757575757575758,
          2.787878787878788,
          2.8181818181818183,
          2.8484848484848486,
          2.878787878787879,
          2.909090909090909,
          2.9393939393939394,
          2.9696969696969697,
          3,
          3.0303030303030303,
          3.0606060606060606,
          3.090909090909091,
          3.121212121212121,
          3.1515151515151514,
          3.1818181818181817,
          3.212121212121212,
          3.242424242424242,
          3.2727272727272725,
          3.3030303030303028,
          3.3333333333333335,
          3.3636363636363638,
          3.393939393939394,
          3.4242424242424243,
          3.4545454545454546,
          3.484848484848485,
          3.515151515151515,
          3.5454545454545454,
          3.5757575757575757,
          3.6060606060606064,
          3.6363636363636367,
          3.666666666666667,
          3.6969696969696972,
          3.7272727272727275,
          3.757575757575758,
          3.787878787878788,
          3.8181818181818183,
          3.8484848484848486,
          3.878787878787879,
          3.909090909090909,
          3.9393939393939394,
          3.9696969696969697,
          4,
          4.03030303030303,
          4.0606060606060606,
          4.090909090909091,
          4.121212121212121,
          4.151515151515151,
          4.181818181818182,
          4.212121212121213,
          4.242424242424242,
          4.272727272727273,
          4.303030303030303,
          4.333333333333334,
          4.363636363636363,
          4.3939393939393945,
          4.424242424242424,
          4.454545454545455,
          4.484848484848484,
          4.515151515151516,
          4.545454545454545,
          4.575757575757576,
          4.6060606060606055,
          4.636363636363637,
          4.666666666666667,
          4.696969696969697,
          4.7272727272727275,
          4.757575757575758,
          4.787878787878788,
          4.818181818181818,
          4.848484848484849,
          4.878787878787879,
          4.909090909090909,
          4.9393939393939394,
          4.96969696969697,
          5
         ],
         "xaxis": "x",
         "y": [
          3.2660938393268824,
          4.125939839282246,
          3.979865747182152,
          4.675095619209207,
          4.216668423979663,
          4.789190367731725,
          5.048026730784274,
          4.729003478981491,
          4.416574383835139,
          3.9970727854849435,
          5.025685861100698,
          4.832681316081167,
          4.979929677864909,
          4.767552417150124,
          4.571229838630043,
          4.863109077028274,
          4.599634656596182,
          5.215735489777539,
          4.689921036742463,
          4.950971186232496,
          4.956975700161192,
          4.802950493711848,
          5.2393764497952375,
          4.461986583512666,
          5.106709613971417,
          5.26852686356234,
          4.973572246791815,
          4.951353917708318,
          5.435385913777346,
          5.210807024439006,
          4.812533708124681,
          5.55849756490244,
          5.6639367929194755,
          5.0636512280799195,
          5.479118180638229,
          5.302496121125299,
          5.320843441271531,
          5.080552116651468,
          5.592488272714058,
          5.618515408062877,
          5.504463095504288,
          5.4123607344322995,
          5.527627664326052,
          5.565480658262718,
          5.591835394530788,
          5.791190488233757,
          5.505676788108724,
          5.826851976942283,
          5.868734439131527,
          5.796094211257514,
          5.91001124106279,
          5.8035464401971275,
          5.949220428685453,
          5.86319700732334,
          5.797529652189065,
          6.051269142528,
          6.146258644498665,
          6.0691351063585,
          6.066286260565806,
          5.945524600562156,
          5.98250535940441,
          6.093641492861409,
          6.277608152706682,
          6.146422713633221,
          6.29355656361754,
          6.289805609559024,
          6.35841714172822,
          6.32536117676897,
          6.408396540566081,
          6.458279684734624,
          6.4117331387969285,
          6.412654806973573,
          6.40473979441362,
          6.466301559905172,
          6.513557934509585,
          6.532902185341274,
          6.585005365428888,
          6.6949686644012125,
          6.719066963850651,
          6.698098821873572,
          6.753435701730017,
          6.819264596263511,
          6.814808063741968,
          6.82573699421083,
          6.892609233024158,
          6.910427855198655,
          6.965446369893268,
          6.8923880646604765,
          6.972000733179268,
          6.991074708995021,
          7.046057961158571,
          7.119053483836025,
          7.1067045101600845,
          7.13006253886023,
          7.105156327761954,
          7.154557962819701,
          7.239836473428035,
          7.250706842389481,
          7.274371473822666,
          7.280568514820295
         ],
         "yaxis": "y"
        },
        {
         "hovertemplate": "<b>OLS trendline</b><br>log y = 1.01038 * x + 2.26617<br>R<sup>2</sup>=0.948153<br><br>x=%{x}<br>log y=%{y} <b>(trend)</b><extra></extra>",
         "legendgroup": "",
         "line": {
          "color": "#ff7f0e"
         },
         "marker": {
          "color": "#1F77B4",
          "symbol": "circle"
         },
         "mode": "lines",
         "name": "",
         "showlegend": false,
         "type": "scatter",
         "x": [
          2,
          2.0303030303030303,
          2.0606060606060606,
          2.090909090909091,
          2.121212121212121,
          2.1515151515151514,
          2.1818181818181817,
          2.212121212121212,
          2.242424242424242,
          2.2727272727272725,
          2.303030303030303,
          2.3333333333333335,
          2.3636363636363638,
          2.393939393939394,
          2.4242424242424243,
          2.4545454545454546,
          2.484848484848485,
          2.515151515151515,
          2.5454545454545454,
          2.5757575757575757,
          2.606060606060606,
          2.6363636363636362,
          2.666666666666667,
          2.6969696969696972,
          2.7272727272727275,
          2.757575757575758,
          2.787878787878788,
          2.8181818181818183,
          2.8484848484848486,
          2.878787878787879,
          2.909090909090909,
          2.9393939393939394,
          2.9696969696969697,
          3,
          3.0303030303030303,
          3.0606060606060606,
          3.090909090909091,
          3.121212121212121,
          3.1515151515151514,
          3.1818181818181817,
          3.212121212121212,
          3.242424242424242,
          3.2727272727272725,
          3.3030303030303028,
          3.3333333333333335,
          3.3636363636363638,
          3.393939393939394,
          3.4242424242424243,
          3.4545454545454546,
          3.484848484848485,
          3.515151515151515,
          3.5454545454545454,
          3.5757575757575757,
          3.6060606060606064,
          3.6363636363636367,
          3.666666666666667,
          3.6969696969696972,
          3.7272727272727275,
          3.757575757575758,
          3.787878787878788,
          3.8181818181818183,
          3.8484848484848486,
          3.878787878787879,
          3.909090909090909,
          3.9393939393939394,
          3.9696969696969697,
          4,
          4.03030303030303,
          4.0606060606060606,
          4.090909090909091,
          4.121212121212121,
          4.151515151515151,
          4.181818181818182,
          4.212121212121213,
          4.242424242424242,
          4.272727272727273,
          4.303030303030303,
          4.333333333333334,
          4.363636363636363,
          4.3939393939393945,
          4.424242424242424,
          4.454545454545455,
          4.484848484848484,
          4.515151515151516,
          4.545454545454545,
          4.575757575757576,
          4.6060606060606055,
          4.636363636363637,
          4.666666666666667,
          4.696969696969697,
          4.7272727272727275,
          4.757575757575758,
          4.787878787878788,
          4.818181818181818,
          4.848484848484849,
          4.878787878787879,
          4.909090909090909,
          4.9393939393939394,
          4.96969696969697,
          5
         ],
         "xaxis": "x",
         "y": [
          4.286930502750646,
          4.3175480371335935,
          4.348165571516541,
          4.378783105899488,
          4.409400640282435,
          4.440018174665382,
          4.470635709048329,
          4.501253243431275,
          4.531870777814222,
          4.5624883121971695,
          4.593105846580118,
          4.623723380963064,
          4.654340915346011,
          4.684958449728958,
          4.715575984111905,
          4.746193518494852,
          4.776811052877799,
          4.8074285872607465,
          4.838046121643693,
          4.86866365602664,
          4.899281190409587,
          4.929898724792534,
          4.960516259175481,
          4.991133793558428,
          5.0217513279413755,
          5.052368862324323,
          5.08298639670727,
          5.113603931090217,
          5.144221465473163,
          5.17483899985611,
          5.205456534239057,
          5.236074068622004,
          5.2666916030049515,
          5.297309137387899,
          5.327926671770846,
          5.358544206153792,
          5.389161740536739,
          5.419779274919686,
          5.450396809302633,
          5.4810143436855805,
          5.511631878068528,
          5.542249412451475,
          5.572866946834421,
          5.603484481217368,
          5.634102015600316,
          5.664719549983263,
          5.6953370843662094,
          5.725954618749157,
          5.756572153132104,
          5.787189687515051,
          5.817807221897998,
          5.848424756280945,
          5.879042290663892,
          5.909659825046839,
          5.940277359429786,
          5.9708948938127335,
          6.00151242819568,
          6.032129962578627,
          6.062747496961574,
          6.093365031344521,
          6.123982565727468,
          6.154600100110415,
          6.1852176344933625,
          6.215835168876309,
          6.246452703259256,
          6.277070237642203,
          6.30768777202515,
          6.338305306408097,
          6.368922840791044,
          6.399540375173991,
          6.430157909556938,
          6.460775443939885,
          6.491392978322832,
          6.52201051270578,
          6.552628047088726,
          6.583245581471674,
          6.61386311585462,
          6.6444806502375675,
          6.675098184620514,
          6.705715719003462,
          6.736333253386408,
          6.766950787769356,
          6.797568322152302,
          6.82818585653525,
          6.858803390918196,
          6.889420925301144,
          6.92003845968409,
          6.950655994067038,
          6.981273528449985,
          7.011891062832932,
          7.042508597215879,
          7.073126131598825,
          7.1037436659817725,
          7.13436120036472,
          7.164978734747667,
          7.195596269130614,
          7.226213803513561,
          7.256831337896508,
          7.287448872279454,
          7.3180664066624015
         ],
         "yaxis": "y"
        }
       ],
       "layout": {
        "legend": {
         "tracegroupgap": 0
        },
        "template": {
         "data": {
          "bar": [
           {
            "error_x": {
             "color": "rgb(36,36,36)"
            },
            "error_y": {
             "color": "rgb(36,36,36)"
            },
            "marker": {
             "line": {
              "color": "white",
              "width": 0.5
             },
             "pattern": {
              "fillmode": "overlay",
              "size": 10,
              "solidity": 0.2
             }
            },
            "type": "bar"
           }
          ],
          "barpolar": [
           {
            "marker": {
             "line": {
              "color": "white",
              "width": 0.5
             },
             "pattern": {
              "fillmode": "overlay",
              "size": 10,
              "solidity": 0.2
             }
            },
            "type": "barpolar"
           }
          ],
          "carpet": [
           {
            "aaxis": {
             "endlinecolor": "rgb(36,36,36)",
             "gridcolor": "white",
             "linecolor": "white",
             "minorgridcolor": "white",
             "startlinecolor": "rgb(36,36,36)"
            },
            "baxis": {
             "endlinecolor": "rgb(36,36,36)",
             "gridcolor": "white",
             "linecolor": "white",
             "minorgridcolor": "white",
             "startlinecolor": "rgb(36,36,36)"
            },
            "type": "carpet"
           }
          ],
          "choropleth": [
           {
            "colorbar": {
             "outlinewidth": 1,
             "tickcolor": "rgb(36,36,36)",
             "ticks": "outside"
            },
            "type": "choropleth"
           }
          ],
          "contour": [
           {
            "colorbar": {
             "outlinewidth": 1,
             "tickcolor": "rgb(36,36,36)",
             "ticks": "outside"
            },
            "colorscale": [
             [
              0,
              "#440154"
             ],
             [
              0.1111111111111111,
              "#482878"
             ],
             [
              0.2222222222222222,
              "#3e4989"
             ],
             [
              0.3333333333333333,
              "#31688e"
             ],
             [
              0.4444444444444444,
              "#26828e"
             ],
             [
              0.5555555555555556,
              "#1f9e89"
             ],
             [
              0.6666666666666666,
              "#35b779"
             ],
             [
              0.7777777777777778,
              "#6ece58"
             ],
             [
              0.8888888888888888,
              "#b5de2b"
             ],
             [
              1,
              "#fde725"
             ]
            ],
            "type": "contour"
           }
          ],
          "contourcarpet": [
           {
            "colorbar": {
             "outlinewidth": 1,
             "tickcolor": "rgb(36,36,36)",
             "ticks": "outside"
            },
            "type": "contourcarpet"
           }
          ],
          "heatmap": [
           {
            "colorbar": {
             "outlinewidth": 1,
             "tickcolor": "rgb(36,36,36)",
             "ticks": "outside"
            },
            "colorscale": [
             [
              0,
              "#440154"
             ],
             [
              0.1111111111111111,
              "#482878"
             ],
             [
              0.2222222222222222,
              "#3e4989"
             ],
             [
              0.3333333333333333,
              "#31688e"
             ],
             [
              0.4444444444444444,
              "#26828e"
             ],
             [
              0.5555555555555556,
              "#1f9e89"
             ],
             [
              0.6666666666666666,
              "#35b779"
             ],
             [
              0.7777777777777778,
              "#6ece58"
             ],
             [
              0.8888888888888888,
              "#b5de2b"
             ],
             [
              1,
              "#fde725"
             ]
            ],
            "type": "heatmap"
           }
          ],
          "heatmapgl": [
           {
            "colorbar": {
             "outlinewidth": 1,
             "tickcolor": "rgb(36,36,36)",
             "ticks": "outside"
            },
            "colorscale": [
             [
              0,
              "#440154"
             ],
             [
              0.1111111111111111,
              "#482878"
             ],
             [
              0.2222222222222222,
              "#3e4989"
             ],
             [
              0.3333333333333333,
              "#31688e"
             ],
             [
              0.4444444444444444,
              "#26828e"
             ],
             [
              0.5555555555555556,
              "#1f9e89"
             ],
             [
              0.6666666666666666,
              "#35b779"
             ],
             [
              0.7777777777777778,
              "#6ece58"
             ],
             [
              0.8888888888888888,
              "#b5de2b"
             ],
             [
              1,
              "#fde725"
             ]
            ],
            "type": "heatmapgl"
           }
          ],
          "histogram": [
           {
            "marker": {
             "line": {
              "color": "white",
              "width": 0.6
             }
            },
            "type": "histogram"
           }
          ],
          "histogram2d": [
           {
            "colorbar": {
             "outlinewidth": 1,
             "tickcolor": "rgb(36,36,36)",
             "ticks": "outside"
            },
            "colorscale": [
             [
              0,
              "#440154"
             ],
             [
              0.1111111111111111,
              "#482878"
             ],
             [
              0.2222222222222222,
              "#3e4989"
             ],
             [
              0.3333333333333333,
              "#31688e"
             ],
             [
              0.4444444444444444,
              "#26828e"
             ],
             [
              0.5555555555555556,
              "#1f9e89"
             ],
             [
              0.6666666666666666,
              "#35b779"
             ],
             [
              0.7777777777777778,
              "#6ece58"
             ],
             [
              0.8888888888888888,
              "#b5de2b"
             ],
             [
              1,
              "#fde725"
             ]
            ],
            "type": "histogram2d"
           }
          ],
          "histogram2dcontour": [
           {
            "colorbar": {
             "outlinewidth": 1,
             "tickcolor": "rgb(36,36,36)",
             "ticks": "outside"
            },
            "colorscale": [
             [
              0,
              "#440154"
             ],
             [
              0.1111111111111111,
              "#482878"
             ],
             [
              0.2222222222222222,
              "#3e4989"
             ],
             [
              0.3333333333333333,
              "#31688e"
             ],
             [
              0.4444444444444444,
              "#26828e"
             ],
             [
              0.5555555555555556,
              "#1f9e89"
             ],
             [
              0.6666666666666666,
              "#35b779"
             ],
             [
              0.7777777777777778,
              "#6ece58"
             ],
             [
              0.8888888888888888,
              "#b5de2b"
             ],
             [
              1,
              "#fde725"
             ]
            ],
            "type": "histogram2dcontour"
           }
          ],
          "mesh3d": [
           {
            "colorbar": {
             "outlinewidth": 1,
             "tickcolor": "rgb(36,36,36)",
             "ticks": "outside"
            },
            "type": "mesh3d"
           }
          ],
          "parcoords": [
           {
            "line": {
             "colorbar": {
              "outlinewidth": 1,
              "tickcolor": "rgb(36,36,36)",
              "ticks": "outside"
             }
            },
            "type": "parcoords"
           }
          ],
          "pie": [
           {
            "automargin": true,
            "type": "pie"
           }
          ],
          "scatter": [
           {
            "fillpattern": {
             "fillmode": "overlay",
             "size": 10,
             "solidity": 0.2
            },
            "type": "scatter"
           }
          ],
          "scatter3d": [
           {
            "line": {
             "colorbar": {
              "outlinewidth": 1,
              "tickcolor": "rgb(36,36,36)",
              "ticks": "outside"
             }
            },
            "marker": {
             "colorbar": {
              "outlinewidth": 1,
              "tickcolor": "rgb(36,36,36)",
              "ticks": "outside"
             }
            },
            "type": "scatter3d"
           }
          ],
          "scattercarpet": [
           {
            "marker": {
             "colorbar": {
              "outlinewidth": 1,
              "tickcolor": "rgb(36,36,36)",
              "ticks": "outside"
             }
            },
            "type": "scattercarpet"
           }
          ],
          "scattergeo": [
           {
            "marker": {
             "colorbar": {
              "outlinewidth": 1,
              "tickcolor": "rgb(36,36,36)",
              "ticks": "outside"
             }
            },
            "type": "scattergeo"
           }
          ],
          "scattergl": [
           {
            "marker": {
             "colorbar": {
              "outlinewidth": 1,
              "tickcolor": "rgb(36,36,36)",
              "ticks": "outside"
             }
            },
            "type": "scattergl"
           }
          ],
          "scattermapbox": [
           {
            "marker": {
             "colorbar": {
              "outlinewidth": 1,
              "tickcolor": "rgb(36,36,36)",
              "ticks": "outside"
             }
            },
            "type": "scattermapbox"
           }
          ],
          "scatterpolar": [
           {
            "marker": {
             "colorbar": {
              "outlinewidth": 1,
              "tickcolor": "rgb(36,36,36)",
              "ticks": "outside"
             }
            },
            "type": "scatterpolar"
           }
          ],
          "scatterpolargl": [
           {
            "marker": {
             "colorbar": {
              "outlinewidth": 1,
              "tickcolor": "rgb(36,36,36)",
              "ticks": "outside"
             }
            },
            "type": "scatterpolargl"
           }
          ],
          "scatterternary": [
           {
            "marker": {
             "colorbar": {
              "outlinewidth": 1,
              "tickcolor": "rgb(36,36,36)",
              "ticks": "outside"
             }
            },
            "type": "scatterternary"
           }
          ],
          "surface": [
           {
            "colorbar": {
             "outlinewidth": 1,
             "tickcolor": "rgb(36,36,36)",
             "ticks": "outside"
            },
            "colorscale": [
             [
              0,
              "#440154"
             ],
             [
              0.1111111111111111,
              "#482878"
             ],
             [
              0.2222222222222222,
              "#3e4989"
             ],
             [
              0.3333333333333333,
              "#31688e"
             ],
             [
              0.4444444444444444,
              "#26828e"
             ],
             [
              0.5555555555555556,
              "#1f9e89"
             ],
             [
              0.6666666666666666,
              "#35b779"
             ],
             [
              0.7777777777777778,
              "#6ece58"
             ],
             [
              0.8888888888888888,
              "#b5de2b"
             ],
             [
              1,
              "#fde725"
             ]
            ],
            "type": "surface"
           }
          ],
          "table": [
           {
            "cells": {
             "fill": {
              "color": "rgb(237,237,237)"
             },
             "line": {
              "color": "white"
             }
            },
            "header": {
             "fill": {
              "color": "rgb(217,217,217)"
             },
             "line": {
              "color": "white"
             }
            },
            "type": "table"
           }
          ]
         },
         "layout": {
          "annotationdefaults": {
           "arrowhead": 0,
           "arrowwidth": 1
          },
          "autosize": true,
          "autotypenumbers": "strict",
          "coloraxis": {
           "colorbar": {
            "outlinewidth": 1,
            "tickcolor": "rgb(36,36,36)",
            "ticks": "outside"
           }
          },
          "colorscale": {
           "diverging": [
            [
             0,
             "rgb(103,0,31)"
            ],
            [
             0.1,
             "rgb(178,24,43)"
            ],
            [
             0.2,
             "rgb(214,96,77)"
            ],
            [
             0.3,
             "rgb(244,165,130)"
            ],
            [
             0.4,
             "rgb(253,219,199)"
            ],
            [
             0.5,
             "rgb(247,247,247)"
            ],
            [
             0.6,
             "rgb(209,229,240)"
            ],
            [
             0.7,
             "rgb(146,197,222)"
            ],
            [
             0.8,
             "rgb(67,147,195)"
            ],
            [
             0.9,
             "rgb(33,102,172)"
            ],
            [
             1,
             "rgb(5,48,97)"
            ]
           ],
           "sequential": [
            [
             0,
             "#440154"
            ],
            [
             0.1111111111111111,
             "#482878"
            ],
            [
             0.2222222222222222,
             "#3e4989"
            ],
            [
             0.3333333333333333,
             "#31688e"
            ],
            [
             0.4444444444444444,
             "#26828e"
            ],
            [
             0.5555555555555556,
             "#1f9e89"
            ],
            [
             0.6666666666666666,
             "#35b779"
            ],
            [
             0.7777777777777778,
             "#6ece58"
            ],
            [
             0.8888888888888888,
             "#b5de2b"
            ],
            [
             1,
             "#fde725"
            ]
           ],
           "sequentialminus": [
            [
             0,
             "#440154"
            ],
            [
             0.1111111111111111,
             "#482878"
            ],
            [
             0.2222222222222222,
             "#3e4989"
            ],
            [
             0.3333333333333333,
             "#31688e"
            ],
            [
             0.4444444444444444,
             "#26828e"
            ],
            [
             0.5555555555555556,
             "#1f9e89"
            ],
            [
             0.6666666666666666,
             "#35b779"
            ],
            [
             0.7777777777777778,
             "#6ece58"
            ],
            [
             0.8888888888888888,
             "#b5de2b"
            ],
            [
             1,
             "#fde725"
            ]
           ]
          },
          "colorway": [
           "#1F77B4",
           "#FF7F0E",
           "#2CA02C",
           "#D62728",
           "#9467BD",
           "#8C564B",
           "#E377C2",
           "#7F7F7F",
           "#BCBD22",
           "#17BECF"
          ],
          "font": {
           "color": "rgb(36,36,36)"
          },
          "geo": {
           "bgcolor": "white",
           "lakecolor": "white",
           "landcolor": "white",
           "showlakes": true,
           "showland": true,
           "subunitcolor": "white"
          },
          "height": 400,
          "hoverlabel": {
           "align": "left"
          },
          "hovermode": "closest",
          "mapbox": {
           "style": "light"
          },
          "margin": {
           "b": 30,
           "l": 30,
           "r": 30,
           "t": 30
          },
          "paper_bgcolor": "white",
          "plot_bgcolor": "white",
          "polar": {
           "angularaxis": {
            "gridcolor": "rgb(232,232,232)",
            "linecolor": "rgb(36,36,36)",
            "showgrid": false,
            "showline": true,
            "ticks": "outside"
           },
           "bgcolor": "white",
           "radialaxis": {
            "gridcolor": "rgb(232,232,232)",
            "linecolor": "rgb(36,36,36)",
            "showgrid": false,
            "showline": true,
            "ticks": "outside"
           }
          },
          "scene": {
           "xaxis": {
            "backgroundcolor": "white",
            "gridcolor": "rgb(232,232,232)",
            "gridwidth": 2,
            "linecolor": "rgb(36,36,36)",
            "showbackground": true,
            "showgrid": false,
            "showline": true,
            "ticks": "outside",
            "zeroline": false,
            "zerolinecolor": "rgb(36,36,36)"
           },
           "yaxis": {
            "backgroundcolor": "white",
            "gridcolor": "rgb(232,232,232)",
            "gridwidth": 2,
            "linecolor": "rgb(36,36,36)",
            "showbackground": true,
            "showgrid": false,
            "showline": true,
            "ticks": "outside",
            "zeroline": false,
            "zerolinecolor": "rgb(36,36,36)"
           },
           "zaxis": {
            "backgroundcolor": "white",
            "gridcolor": "rgb(232,232,232)",
            "gridwidth": 2,
            "linecolor": "rgb(36,36,36)",
            "showbackground": true,
            "showgrid": false,
            "showline": true,
            "ticks": "outside",
            "zeroline": false,
            "zerolinecolor": "rgb(36,36,36)"
           }
          },
          "shapedefaults": {
           "fillcolor": "black",
           "line": {
            "width": 0
           },
           "opacity": 0.3
          },
          "ternary": {
           "aaxis": {
            "gridcolor": "rgb(232,232,232)",
            "linecolor": "rgb(36,36,36)",
            "showgrid": false,
            "showline": true,
            "ticks": "outside"
           },
           "baxis": {
            "gridcolor": "rgb(232,232,232)",
            "linecolor": "rgb(36,36,36)",
            "showgrid": false,
            "showline": true,
            "ticks": "outside"
           },
           "bgcolor": "white",
           "caxis": {
            "gridcolor": "rgb(232,232,232)",
            "linecolor": "rgb(36,36,36)",
            "showgrid": false,
            "showline": true,
            "ticks": "outside"
           }
          },
          "title": {
           "x": 0.5,
           "xanchor": "center"
          },
          "width": 600,
          "xaxis": {
           "automargin": true,
           "gridcolor": "rgb(232,232,232)",
           "linecolor": "rgb(36,36,36)",
           "showgrid": true,
           "showline": true,
           "ticks": "outside",
           "title": {
            "standoff": 15
           },
           "zeroline": false,
           "zerolinecolor": "rgb(36,36,36)"
          },
          "yaxis": {
           "automargin": true,
           "gridcolor": "rgb(232,232,232)",
           "linecolor": "rgb(36,36,36)",
           "showgrid": true,
           "showline": true,
           "ticks": "outside",
           "title": {
            "standoff": 15
           },
           "zeroline": false,
           "zerolinecolor": "rgb(36,36,36)"
          }
         }
        },
        "xaxis": {
         "anchor": "y",
         "domain": [
          0,
          1
         ],
         "title": {
          "text": "x"
         }
        },
        "yaxis": {
         "anchor": "x",
         "domain": [
          0,
          1
         ],
         "title": {
          "text": "log y"
         }
        }
       }
      }
     },
     "metadata": {},
     "output_type": "display_data"
    }
   ],
   "source": [
    "df_2['log y'] = np.log(df_2['y'])\n",
    "\n",
    "px.scatter(df_2, x='x', y='log y', trendline=\"ols\", trendline_color_override=\"#ff7f0e\")"
   ]
  },
  {
   "cell_type": "markdown",
   "id": "343eb3bf",
   "metadata": {},
   "source": [
    "That looks much better! We can verify that the residual plot has no \"patterns\":"
   ]
  },
  {
   "cell_type": "code",
   "execution_count": 10,
   "id": "7f3524e1",
   "metadata": {},
   "outputs": [
    {
     "data": {
      "application/vnd.plotly.v1+json": {
       "config": {
        "plotlyServerURL": "https://plot.ly"
       },
       "data": [
        {
         "hovertemplate": "pred=%{x}<br>log y residuals=%{y}<extra></extra>",
         "legendgroup": "",
         "marker": {
          "color": "#1F77B4",
          "symbol": "circle"
         },
         "mode": "markers",
         "name": "",
         "orientation": "v",
         "showlegend": false,
         "type": "scatter",
         "x": [
          4.286930502750645,
          4.317548037133593,
          4.348165571516539,
          4.378783105899486,
          4.409400640282433,
          4.44001817466538,
          4.470635709048327,
          4.5012532434312735,
          4.5318707778142215,
          4.562488312197168,
          4.593105846580116,
          4.623723380963062,
          4.65434091534601,
          4.684958449728956,
          4.715575984111903,
          4.7461935184948505,
          4.776811052877798,
          4.807428587260745,
          4.838046121643691,
          4.868663656026639,
          4.899281190409585,
          4.929898724792533,
          4.9605162591754794,
          4.9911337935584275,
          5.021751327941374,
          5.052368862324322,
          5.082986396707268,
          5.113603931090215,
          5.144221465473162,
          5.174838999856109,
          5.205456534239056,
          5.236074068622003,
          5.266691603004951,
          5.297309137387897,
          5.327926671770844,
          5.358544206153791,
          5.389161740536738,
          5.419779274919685,
          5.450396809302632,
          5.48101434368558,
          5.511631878068526,
          5.542249412451473,
          5.57286694683442,
          5.603484481217367,
          5.634102015600314,
          5.664719549983261,
          5.695337084366209,
          5.725954618749156,
          5.756572153132103,
          5.787189687515049,
          5.817807221897997,
          5.848424756280943,
          5.879042290663891,
          5.9096598250468375,
          5.9402773594297855,
          5.970894893812732,
          6.00151242819568,
          6.032129962578626,
          6.062747496961573,
          6.09336503134452,
          6.123982565727467,
          6.1546001001104145,
          6.185217634493361,
          6.215835168876309,
          6.246452703259255,
          6.277070237642202,
          6.307687772025149,
          6.338305306408096,
          6.368922840791043,
          6.3995403751739905,
          6.430157909556937,
          6.460775443939884,
          6.491392978322831,
          6.522010512705779,
          6.552628047088725,
          6.583245581471673,
          6.6138631158546195,
          6.6444806502375675,
          6.675098184620513,
          6.705715719003461,
          6.736333253386407,
          6.766950787769355,
          6.797568322152301,
          6.828185856535249,
          6.858803390918196,
          6.889420925301144,
          6.920038459684089,
          6.950655994067037,
          6.981273528449984,
          7.011891062832931,
          7.042508597215878,
          7.073126131598825,
          7.1037436659817725,
          7.13436120036472,
          7.164978734747666,
          7.195596269130613,
          7.22621380351356,
          7.256831337896507,
          7.287448872279454,
          7.3180664066624015
         ],
         "xaxis": "x",
         "y": [
          -1.0208366634237622,
          -0.19160819785134642,
          -0.3682998243343869,
          0.2963125133097213,
          -0.19273221630276982,
          0.3491721930663445,
          0.5773910217359468,
          0.2277502355502179,
          -0.11529639397908298,
          -0.5654155267122243,
          0.4325800145205818,
          0.20895793511810457,
          0.32558876251889934,
          0.08259396742116731,
          -0.14434614548185998,
          0.11691555853342361,
          -0.17717639628161574,
          0.40830690251679425,
          -0.14812508490122767,
          0.08230753020585713,
          0.05769450975160684,
          -0.12694823108068487,
          0.2788601906197581,
          -0.5291472100457613,
          0.08495828603004352,
          0.21615800123801865,
          -0.10941414991545262,
          -0.1622500133818967,
          0.2911644483041842,
          0.03596802458289705,
          -0.39292282611437557,
          0.32242349628043776,
          0.39724518991452484,
          -0.23365790930797736,
          0.15119150886738542,
          -0.056048085028492345,
          -0.06831829926520694,
          -0.33922715826821737,
          0.1420914634114263,
          0.1375010643772976,
          -0.007168782564237475,
          -0.12988867801917348,
          -0.045239282508368284,
          -0.0380038229546491,
          -0.04226662106952617,
          0.12647093825049538,
          -0.18966029625748426,
          0.1008973581931274,
          0.1121622859994238,
          0.008904523742464754,
          0.09220401916479304,
          -0.04487831608381576,
          0.07017813802156159,
          -0.04646281772349781,
          -0.14274770724072017,
          0.08037424871526788,
          0.1447462163029849,
          0.03700514377987396,
          0.0035387636042329973,
          -0.14784043078236397,
          -0.14147720632305738,
          -0.06095860724900515,
          0.09239051821332112,
          -0.06941245524308748,
          0.047103860358284955,
          0.012735371916821947,
          0.050729369703070404,
          -0.012944129639126167,
          0.03947369977503801,
          0.058739309560633224,
          -0.018424770760008258,
          -0.04812063696631075,
          -0.08665318390921062,
          -0.05570895280060739,
          -0.03907011257914039,
          -0.0503433961303994,
          -0.028857750425731687,
          0.05048801416364501,
          0.043968779230137756,
          -0.007616897129889111,
          0.017102448343609744,
          0.0523138084941559,
          0.017239741589667013,
          -0.00244886232441921,
          0.033805842105962824,
          0.02100692989751174,
          0.045407910209179114,
          -0.05826792940656045,
          -0.009272795270716117,
          -0.02081635383791003,
          0.0035493639426924517,
          0.04592735223719924,
          0.0029608441783119943,
          -0.004298661504489765,
          -0.059822406985712284,
          -0.0410383063109121,
          0.013622669914474805,
          -0.006124495507026317,
          -0.013077398456788458,
          -0.03749789184210606
         ],
         "yaxis": "y"
        },
        {
         "hovertemplate": "<b>OLS trendline</b><br>log y residuals = -1.73472e-16 * pred + 2.90046e-15<br>R<sup>2</sup>=0.000000<br><br>pred=%{x}<br>log y residuals=%{y} <b>(trend)</b><extra></extra>",
         "legendgroup": "",
         "line": {
          "color": "red"
         },
         "marker": {
          "color": "#1F77B4",
          "symbol": "circle"
         },
         "mode": "lines",
         "name": "",
         "showlegend": false,
         "type": "scatter",
         "x": [
          4.286930502750645,
          4.317548037133593,
          4.348165571516539,
          4.378783105899486,
          4.409400640282433,
          4.44001817466538,
          4.470635709048327,
          4.5012532434312735,
          4.5318707778142215,
          4.562488312197168,
          4.593105846580116,
          4.623723380963062,
          4.65434091534601,
          4.684958449728956,
          4.715575984111903,
          4.7461935184948505,
          4.776811052877798,
          4.807428587260745,
          4.838046121643691,
          4.868663656026639,
          4.899281190409585,
          4.929898724792533,
          4.9605162591754794,
          4.9911337935584275,
          5.021751327941374,
          5.052368862324322,
          5.082986396707268,
          5.113603931090215,
          5.144221465473162,
          5.174838999856109,
          5.205456534239056,
          5.236074068622003,
          5.266691603004951,
          5.297309137387897,
          5.327926671770844,
          5.358544206153791,
          5.389161740536738,
          5.419779274919685,
          5.450396809302632,
          5.48101434368558,
          5.511631878068526,
          5.542249412451473,
          5.57286694683442,
          5.603484481217367,
          5.634102015600314,
          5.664719549983261,
          5.695337084366209,
          5.725954618749156,
          5.756572153132103,
          5.787189687515049,
          5.817807221897997,
          5.848424756280943,
          5.879042290663891,
          5.9096598250468375,
          5.9402773594297855,
          5.970894893812732,
          6.00151242819568,
          6.032129962578626,
          6.062747496961573,
          6.09336503134452,
          6.123982565727467,
          6.1546001001104145,
          6.185217634493361,
          6.215835168876309,
          6.246452703259255,
          6.277070237642202,
          6.307687772025149,
          6.338305306408096,
          6.368922840791043,
          6.3995403751739905,
          6.430157909556937,
          6.460775443939884,
          6.491392978322831,
          6.522010512705779,
          6.552628047088725,
          6.583245581471673,
          6.6138631158546195,
          6.6444806502375675,
          6.675098184620513,
          6.705715719003461,
          6.736333253386407,
          6.766950787769355,
          6.797568322152301,
          6.828185856535249,
          6.858803390918196,
          6.889420925301144,
          6.920038459684089,
          6.950655994067037,
          6.981273528449984,
          7.011891062832931,
          7.042508597215878,
          7.073126131598825,
          7.1037436659817725,
          7.13436120036472,
          7.164978734747666,
          7.195596269130613,
          7.22621380351356,
          7.256831337896507,
          7.287448872279454,
          7.3180664066624015
         ],
         "xaxis": "x",
         "y": [
          2.1567937535329615e-15,
          2.151482457965899e-15,
          2.1461711623988366e-15,
          2.140859866831774e-15,
          2.1355485712647113e-15,
          2.1302372756976486e-15,
          2.1249259801305864e-15,
          2.1196146845635237e-15,
          2.114303388996461e-15,
          2.108992093429399e-15,
          2.103680797862336e-15,
          2.0983695022952735e-15,
          2.093058206728211e-15,
          2.0877469111611486e-15,
          2.082435615594086e-15,
          2.0771243200270233e-15,
          2.071813024459961e-15,
          2.0665017288928984e-15,
          2.061190433325836e-15,
          2.0558791377587735e-15,
          2.050567842191711e-15,
          2.0452565466246482e-15,
          2.039945251057586e-15,
          2.0346339554905233e-15,
          2.0293226599234607e-15,
          2.024011364356398e-15,
          2.0187000687893358e-15,
          2.013388773222273e-15,
          2.0080774776552105e-15,
          2.0027661820881482e-15,
          1.9974548865210856e-15,
          1.9921435909540233e-15,
          1.9868322953869603e-15,
          1.981520999819898e-15,
          1.9762097042528354e-15,
          1.970898408685773e-15,
          1.9655871131187105e-15,
          1.960275817551648e-15,
          1.9549645219845856e-15,
          1.949653226417523e-15,
          1.9443419308504603e-15,
          1.939030635283398e-15,
          1.9337193397163354e-15,
          1.9284080441492727e-15,
          1.92309674858221e-15,
          1.917785453015148e-15,
          1.912474157448085e-15,
          1.9071628618810225e-15,
          1.90185156631396e-15,
          1.8965402707468976e-15,
          1.891228975179835e-15,
          1.8859176796127727e-15,
          1.8806063840457097e-15,
          1.8752950884786474e-15,
          1.8699837929115848e-15,
          1.8646724973445225e-15,
          1.85936120177746e-15,
          1.8540499062103972e-15,
          1.8487386106433346e-15,
          1.8434273150762723e-15,
          1.8381160195092097e-15,
          1.832804723942147e-15,
          1.8274934283750848e-15,
          1.822182132808022e-15,
          1.8168708372409595e-15,
          1.8115595416738972e-15,
          1.8062482461068346e-15,
          1.800936950539772e-15,
          1.7956256549727097e-15,
          1.790314359405647e-15,
          1.7850030638385844e-15,
          1.779691768271522e-15,
          1.7743804727044595e-15,
          1.7690691771373969e-15,
          1.7637578815703344e-15,
          1.7584465860032718e-15,
          1.7531352904362093e-15,
          1.7478239948691467e-15,
          1.7425126993020844e-15,
          1.7372014037350218e-15,
          1.7318901081679593e-15,
          1.7265788126008967e-15,
          1.7212675170338342e-15,
          1.7159562214667716e-15,
          1.7106449258997091e-15,
          1.7053336303326465e-15,
          1.7000223347655842e-15,
          1.6947110391985216e-15,
          1.689399743631459e-15,
          1.6840884480643965e-15,
          1.6787771524973338e-15,
          1.6734658569302714e-15,
          1.6681545613632087e-15,
          1.6628432657961463e-15,
          1.6575319702290838e-15,
          1.6522206746620214e-15,
          1.6469093790949587e-15,
          1.6415980835278963e-15,
          1.6362867879608336e-15,
          1.6309754923937712e-15
         ],
         "yaxis": "y"
        }
       ],
       "layout": {
        "legend": {
         "tracegroupgap": 0
        },
        "template": {
         "data": {
          "bar": [
           {
            "error_x": {
             "color": "rgb(36,36,36)"
            },
            "error_y": {
             "color": "rgb(36,36,36)"
            },
            "marker": {
             "line": {
              "color": "white",
              "width": 0.5
             },
             "pattern": {
              "fillmode": "overlay",
              "size": 10,
              "solidity": 0.2
             }
            },
            "type": "bar"
           }
          ],
          "barpolar": [
           {
            "marker": {
             "line": {
              "color": "white",
              "width": 0.5
             },
             "pattern": {
              "fillmode": "overlay",
              "size": 10,
              "solidity": 0.2
             }
            },
            "type": "barpolar"
           }
          ],
          "carpet": [
           {
            "aaxis": {
             "endlinecolor": "rgb(36,36,36)",
             "gridcolor": "white",
             "linecolor": "white",
             "minorgridcolor": "white",
             "startlinecolor": "rgb(36,36,36)"
            },
            "baxis": {
             "endlinecolor": "rgb(36,36,36)",
             "gridcolor": "white",
             "linecolor": "white",
             "minorgridcolor": "white",
             "startlinecolor": "rgb(36,36,36)"
            },
            "type": "carpet"
           }
          ],
          "choropleth": [
           {
            "colorbar": {
             "outlinewidth": 1,
             "tickcolor": "rgb(36,36,36)",
             "ticks": "outside"
            },
            "type": "choropleth"
           }
          ],
          "contour": [
           {
            "colorbar": {
             "outlinewidth": 1,
             "tickcolor": "rgb(36,36,36)",
             "ticks": "outside"
            },
            "colorscale": [
             [
              0,
              "#440154"
             ],
             [
              0.1111111111111111,
              "#482878"
             ],
             [
              0.2222222222222222,
              "#3e4989"
             ],
             [
              0.3333333333333333,
              "#31688e"
             ],
             [
              0.4444444444444444,
              "#26828e"
             ],
             [
              0.5555555555555556,
              "#1f9e89"
             ],
             [
              0.6666666666666666,
              "#35b779"
             ],
             [
              0.7777777777777778,
              "#6ece58"
             ],
             [
              0.8888888888888888,
              "#b5de2b"
             ],
             [
              1,
              "#fde725"
             ]
            ],
            "type": "contour"
           }
          ],
          "contourcarpet": [
           {
            "colorbar": {
             "outlinewidth": 1,
             "tickcolor": "rgb(36,36,36)",
             "ticks": "outside"
            },
            "type": "contourcarpet"
           }
          ],
          "heatmap": [
           {
            "colorbar": {
             "outlinewidth": 1,
             "tickcolor": "rgb(36,36,36)",
             "ticks": "outside"
            },
            "colorscale": [
             [
              0,
              "#440154"
             ],
             [
              0.1111111111111111,
              "#482878"
             ],
             [
              0.2222222222222222,
              "#3e4989"
             ],
             [
              0.3333333333333333,
              "#31688e"
             ],
             [
              0.4444444444444444,
              "#26828e"
             ],
             [
              0.5555555555555556,
              "#1f9e89"
             ],
             [
              0.6666666666666666,
              "#35b779"
             ],
             [
              0.7777777777777778,
              "#6ece58"
             ],
             [
              0.8888888888888888,
              "#b5de2b"
             ],
             [
              1,
              "#fde725"
             ]
            ],
            "type": "heatmap"
           }
          ],
          "heatmapgl": [
           {
            "colorbar": {
             "outlinewidth": 1,
             "tickcolor": "rgb(36,36,36)",
             "ticks": "outside"
            },
            "colorscale": [
             [
              0,
              "#440154"
             ],
             [
              0.1111111111111111,
              "#482878"
             ],
             [
              0.2222222222222222,
              "#3e4989"
             ],
             [
              0.3333333333333333,
              "#31688e"
             ],
             [
              0.4444444444444444,
              "#26828e"
             ],
             [
              0.5555555555555556,
              "#1f9e89"
             ],
             [
              0.6666666666666666,
              "#35b779"
             ],
             [
              0.7777777777777778,
              "#6ece58"
             ],
             [
              0.8888888888888888,
              "#b5de2b"
             ],
             [
              1,
              "#fde725"
             ]
            ],
            "type": "heatmapgl"
           }
          ],
          "histogram": [
           {
            "marker": {
             "line": {
              "color": "white",
              "width": 0.6
             }
            },
            "type": "histogram"
           }
          ],
          "histogram2d": [
           {
            "colorbar": {
             "outlinewidth": 1,
             "tickcolor": "rgb(36,36,36)",
             "ticks": "outside"
            },
            "colorscale": [
             [
              0,
              "#440154"
             ],
             [
              0.1111111111111111,
              "#482878"
             ],
             [
              0.2222222222222222,
              "#3e4989"
             ],
             [
              0.3333333333333333,
              "#31688e"
             ],
             [
              0.4444444444444444,
              "#26828e"
             ],
             [
              0.5555555555555556,
              "#1f9e89"
             ],
             [
              0.6666666666666666,
              "#35b779"
             ],
             [
              0.7777777777777778,
              "#6ece58"
             ],
             [
              0.8888888888888888,
              "#b5de2b"
             ],
             [
              1,
              "#fde725"
             ]
            ],
            "type": "histogram2d"
           }
          ],
          "histogram2dcontour": [
           {
            "colorbar": {
             "outlinewidth": 1,
             "tickcolor": "rgb(36,36,36)",
             "ticks": "outside"
            },
            "colorscale": [
             [
              0,
              "#440154"
             ],
             [
              0.1111111111111111,
              "#482878"
             ],
             [
              0.2222222222222222,
              "#3e4989"
             ],
             [
              0.3333333333333333,
              "#31688e"
             ],
             [
              0.4444444444444444,
              "#26828e"
             ],
             [
              0.5555555555555556,
              "#1f9e89"
             ],
             [
              0.6666666666666666,
              "#35b779"
             ],
             [
              0.7777777777777778,
              "#6ece58"
             ],
             [
              0.8888888888888888,
              "#b5de2b"
             ],
             [
              1,
              "#fde725"
             ]
            ],
            "type": "histogram2dcontour"
           }
          ],
          "mesh3d": [
           {
            "colorbar": {
             "outlinewidth": 1,
             "tickcolor": "rgb(36,36,36)",
             "ticks": "outside"
            },
            "type": "mesh3d"
           }
          ],
          "parcoords": [
           {
            "line": {
             "colorbar": {
              "outlinewidth": 1,
              "tickcolor": "rgb(36,36,36)",
              "ticks": "outside"
             }
            },
            "type": "parcoords"
           }
          ],
          "pie": [
           {
            "automargin": true,
            "type": "pie"
           }
          ],
          "scatter": [
           {
            "fillpattern": {
             "fillmode": "overlay",
             "size": 10,
             "solidity": 0.2
            },
            "type": "scatter"
           }
          ],
          "scatter3d": [
           {
            "line": {
             "colorbar": {
              "outlinewidth": 1,
              "tickcolor": "rgb(36,36,36)",
              "ticks": "outside"
             }
            },
            "marker": {
             "colorbar": {
              "outlinewidth": 1,
              "tickcolor": "rgb(36,36,36)",
              "ticks": "outside"
             }
            },
            "type": "scatter3d"
           }
          ],
          "scattercarpet": [
           {
            "marker": {
             "colorbar": {
              "outlinewidth": 1,
              "tickcolor": "rgb(36,36,36)",
              "ticks": "outside"
             }
            },
            "type": "scattercarpet"
           }
          ],
          "scattergeo": [
           {
            "marker": {
             "colorbar": {
              "outlinewidth": 1,
              "tickcolor": "rgb(36,36,36)",
              "ticks": "outside"
             }
            },
            "type": "scattergeo"
           }
          ],
          "scattergl": [
           {
            "marker": {
             "colorbar": {
              "outlinewidth": 1,
              "tickcolor": "rgb(36,36,36)",
              "ticks": "outside"
             }
            },
            "type": "scattergl"
           }
          ],
          "scattermapbox": [
           {
            "marker": {
             "colorbar": {
              "outlinewidth": 1,
              "tickcolor": "rgb(36,36,36)",
              "ticks": "outside"
             }
            },
            "type": "scattermapbox"
           }
          ],
          "scatterpolar": [
           {
            "marker": {
             "colorbar": {
              "outlinewidth": 1,
              "tickcolor": "rgb(36,36,36)",
              "ticks": "outside"
             }
            },
            "type": "scatterpolar"
           }
          ],
          "scatterpolargl": [
           {
            "marker": {
             "colorbar": {
              "outlinewidth": 1,
              "tickcolor": "rgb(36,36,36)",
              "ticks": "outside"
             }
            },
            "type": "scatterpolargl"
           }
          ],
          "scatterternary": [
           {
            "marker": {
             "colorbar": {
              "outlinewidth": 1,
              "tickcolor": "rgb(36,36,36)",
              "ticks": "outside"
             }
            },
            "type": "scatterternary"
           }
          ],
          "surface": [
           {
            "colorbar": {
             "outlinewidth": 1,
             "tickcolor": "rgb(36,36,36)",
             "ticks": "outside"
            },
            "colorscale": [
             [
              0,
              "#440154"
             ],
             [
              0.1111111111111111,
              "#482878"
             ],
             [
              0.2222222222222222,
              "#3e4989"
             ],
             [
              0.3333333333333333,
              "#31688e"
             ],
             [
              0.4444444444444444,
              "#26828e"
             ],
             [
              0.5555555555555556,
              "#1f9e89"
             ],
             [
              0.6666666666666666,
              "#35b779"
             ],
             [
              0.7777777777777778,
              "#6ece58"
             ],
             [
              0.8888888888888888,
              "#b5de2b"
             ],
             [
              1,
              "#fde725"
             ]
            ],
            "type": "surface"
           }
          ],
          "table": [
           {
            "cells": {
             "fill": {
              "color": "rgb(237,237,237)"
             },
             "line": {
              "color": "white"
             }
            },
            "header": {
             "fill": {
              "color": "rgb(217,217,217)"
             },
             "line": {
              "color": "white"
             }
            },
            "type": "table"
           }
          ]
         },
         "layout": {
          "annotationdefaults": {
           "arrowhead": 0,
           "arrowwidth": 1
          },
          "autosize": true,
          "autotypenumbers": "strict",
          "coloraxis": {
           "colorbar": {
            "outlinewidth": 1,
            "tickcolor": "rgb(36,36,36)",
            "ticks": "outside"
           }
          },
          "colorscale": {
           "diverging": [
            [
             0,
             "rgb(103,0,31)"
            ],
            [
             0.1,
             "rgb(178,24,43)"
            ],
            [
             0.2,
             "rgb(214,96,77)"
            ],
            [
             0.3,
             "rgb(244,165,130)"
            ],
            [
             0.4,
             "rgb(253,219,199)"
            ],
            [
             0.5,
             "rgb(247,247,247)"
            ],
            [
             0.6,
             "rgb(209,229,240)"
            ],
            [
             0.7,
             "rgb(146,197,222)"
            ],
            [
             0.8,
             "rgb(67,147,195)"
            ],
            [
             0.9,
             "rgb(33,102,172)"
            ],
            [
             1,
             "rgb(5,48,97)"
            ]
           ],
           "sequential": [
            [
             0,
             "#440154"
            ],
            [
             0.1111111111111111,
             "#482878"
            ],
            [
             0.2222222222222222,
             "#3e4989"
            ],
            [
             0.3333333333333333,
             "#31688e"
            ],
            [
             0.4444444444444444,
             "#26828e"
            ],
            [
             0.5555555555555556,
             "#1f9e89"
            ],
            [
             0.6666666666666666,
             "#35b779"
            ],
            [
             0.7777777777777778,
             "#6ece58"
            ],
            [
             0.8888888888888888,
             "#b5de2b"
            ],
            [
             1,
             "#fde725"
            ]
           ],
           "sequentialminus": [
            [
             0,
             "#440154"
            ],
            [
             0.1111111111111111,
             "#482878"
            ],
            [
             0.2222222222222222,
             "#3e4989"
            ],
            [
             0.3333333333333333,
             "#31688e"
            ],
            [
             0.4444444444444444,
             "#26828e"
            ],
            [
             0.5555555555555556,
             "#1f9e89"
            ],
            [
             0.6666666666666666,
             "#35b779"
            ],
            [
             0.7777777777777778,
             "#6ece58"
            ],
            [
             0.8888888888888888,
             "#b5de2b"
            ],
            [
             1,
             "#fde725"
            ]
           ]
          },
          "colorway": [
           "#1F77B4",
           "#FF7F0E",
           "#2CA02C",
           "#D62728",
           "#9467BD",
           "#8C564B",
           "#E377C2",
           "#7F7F7F",
           "#BCBD22",
           "#17BECF"
          ],
          "font": {
           "color": "rgb(36,36,36)"
          },
          "geo": {
           "bgcolor": "white",
           "lakecolor": "white",
           "landcolor": "white",
           "showlakes": true,
           "showland": true,
           "subunitcolor": "white"
          },
          "height": 400,
          "hoverlabel": {
           "align": "left"
          },
          "hovermode": "closest",
          "mapbox": {
           "style": "light"
          },
          "margin": {
           "b": 30,
           "l": 30,
           "r": 30,
           "t": 30
          },
          "paper_bgcolor": "white",
          "plot_bgcolor": "white",
          "polar": {
           "angularaxis": {
            "gridcolor": "rgb(232,232,232)",
            "linecolor": "rgb(36,36,36)",
            "showgrid": false,
            "showline": true,
            "ticks": "outside"
           },
           "bgcolor": "white",
           "radialaxis": {
            "gridcolor": "rgb(232,232,232)",
            "linecolor": "rgb(36,36,36)",
            "showgrid": false,
            "showline": true,
            "ticks": "outside"
           }
          },
          "scene": {
           "xaxis": {
            "backgroundcolor": "white",
            "gridcolor": "rgb(232,232,232)",
            "gridwidth": 2,
            "linecolor": "rgb(36,36,36)",
            "showbackground": true,
            "showgrid": false,
            "showline": true,
            "ticks": "outside",
            "zeroline": false,
            "zerolinecolor": "rgb(36,36,36)"
           },
           "yaxis": {
            "backgroundcolor": "white",
            "gridcolor": "rgb(232,232,232)",
            "gridwidth": 2,
            "linecolor": "rgb(36,36,36)",
            "showbackground": true,
            "showgrid": false,
            "showline": true,
            "ticks": "outside",
            "zeroline": false,
            "zerolinecolor": "rgb(36,36,36)"
           },
           "zaxis": {
            "backgroundcolor": "white",
            "gridcolor": "rgb(232,232,232)",
            "gridwidth": 2,
            "linecolor": "rgb(36,36,36)",
            "showbackground": true,
            "showgrid": false,
            "showline": true,
            "ticks": "outside",
            "zeroline": false,
            "zerolinecolor": "rgb(36,36,36)"
           }
          },
          "shapedefaults": {
           "fillcolor": "black",
           "line": {
            "width": 0
           },
           "opacity": 0.3
          },
          "ternary": {
           "aaxis": {
            "gridcolor": "rgb(232,232,232)",
            "linecolor": "rgb(36,36,36)",
            "showgrid": false,
            "showline": true,
            "ticks": "outside"
           },
           "baxis": {
            "gridcolor": "rgb(232,232,232)",
            "linecolor": "rgb(36,36,36)",
            "showgrid": false,
            "showline": true,
            "ticks": "outside"
           },
           "bgcolor": "white",
           "caxis": {
            "gridcolor": "rgb(232,232,232)",
            "linecolor": "rgb(36,36,36)",
            "showgrid": false,
            "showline": true,
            "ticks": "outside"
           }
          },
          "title": {
           "x": 0.5,
           "xanchor": "center"
          },
          "width": 600,
          "xaxis": {
           "automargin": true,
           "gridcolor": "rgb(232,232,232)",
           "linecolor": "rgb(36,36,36)",
           "showgrid": true,
           "showline": true,
           "ticks": "outside",
           "title": {
            "standoff": 15
           },
           "zeroline": false,
           "zerolinecolor": "rgb(36,36,36)"
          },
          "yaxis": {
           "automargin": true,
           "gridcolor": "rgb(232,232,232)",
           "linecolor": "rgb(36,36,36)",
           "showgrid": true,
           "showline": true,
           "ticks": "outside",
           "title": {
            "standoff": 15
           },
           "zeroline": false,
           "zerolinecolor": "rgb(36,36,36)"
          }
         }
        },
        "xaxis": {
         "anchor": "y",
         "domain": [
          0,
          1
         ],
         "title": {
          "text": "pred"
         }
        },
        "yaxis": {
         "anchor": "x",
         "domain": [
          0,
          1
         ],
         "title": {
          "text": "log y residuals"
         }
        }
       }
      }
     },
     "metadata": {},
     "output_type": "display_data"
    }
   ],
   "source": [
    "create_residual_plot(df_2, 'x', 'log y')"
   ]
  },
  {
   "cell_type": "markdown",
   "id": "4bc65841",
   "metadata": {},
   "source": [
    "Note – there is still evidence of **heteroscedasticity**, or \"uneven spread\", in this scatter plot, but the relationship is as close to linear as we'll get."
   ]
  },
  {
   "cell_type": "markdown",
   "id": "94254929",
   "metadata": {},
   "source": [
    "Now that we've learned how to perform transformations with example datasets, it's your job to apply these ideas to a real dataset. Below, we load in a dataset that describes the [number of home runs in the MLB per year](https://www.mlb.com/glossary/standard-stats/home-run). The relationship between the two variables, `'Year'` and `'Homeruns'`, is not linear."
   ]
  },
  {
   "cell_type": "code",
   "execution_count": 11,
   "id": "b9e4606a",
   "metadata": {},
   "outputs": [
    {
     "data": {
      "text/html": [
       "<div>\n",
       "<style scoped>\n",
       "    .dataframe tbody tr th:only-of-type {\n",
       "        vertical-align: middle;\n",
       "    }\n",
       "\n",
       "    .dataframe tbody tr th {\n",
       "        vertical-align: top;\n",
       "    }\n",
       "\n",
       "    .dataframe thead th {\n",
       "        text-align: right;\n",
       "    }\n",
       "</style>\n",
       "<table border=\"1\" class=\"dataframe\">\n",
       "  <thead>\n",
       "    <tr style=\"text-align: right;\">\n",
       "      <th></th>\n",
       "      <th>Year</th>\n",
       "      <th>Homeruns</th>\n",
       "    </tr>\n",
       "  </thead>\n",
       "  <tbody>\n",
       "    <tr>\n",
       "      <th>0</th>\n",
       "      <td>1900</td>\n",
       "      <td>254</td>\n",
       "    </tr>\n",
       "    <tr>\n",
       "      <th>1</th>\n",
       "      <td>1901</td>\n",
       "      <td>455</td>\n",
       "    </tr>\n",
       "    <tr>\n",
       "      <th>2</th>\n",
       "      <td>1902</td>\n",
       "      <td>354</td>\n",
       "    </tr>\n",
       "    <tr>\n",
       "      <th>3</th>\n",
       "      <td>1903</td>\n",
       "      <td>335</td>\n",
       "    </tr>\n",
       "    <tr>\n",
       "      <th>4</th>\n",
       "      <td>1904</td>\n",
       "      <td>331</td>\n",
       "    </tr>\n",
       "  </tbody>\n",
       "</table>\n",
       "</div>"
      ],
      "text/plain": [
       "   Year  Homeruns\n",
       "0  1900       254\n",
       "1  1901       455\n",
       "2  1902       354\n",
       "3  1903       335\n",
       "4  1904       331"
      ]
     },
     "execution_count": 11,
     "metadata": {},
     "output_type": "execute_result"
    }
   ],
   "source": [
    "homeruns = pd.read_csv('data/homeruns.csv')\n",
    "homeruns.head()"
   ]
  },
  {
   "cell_type": "code",
   "execution_count": 12,
   "id": "06c68f90",
   "metadata": {},
   "outputs": [
    {
     "data": {
      "application/vnd.plotly.v1+json": {
       "config": {
        "plotlyServerURL": "https://plot.ly"
       },
       "data": [
        {
         "hovertemplate": "Year=%{x}<br>Homeruns=%{y}<extra></extra>",
         "legendgroup": "",
         "marker": {
          "color": "#1F77B4",
          "symbol": "circle"
         },
         "mode": "markers",
         "name": "",
         "orientation": "v",
         "showlegend": false,
         "type": "scatter",
         "x": [
          1900,
          1901,
          1902,
          1903,
          1904,
          1905,
          1906,
          1907,
          1908,
          1909,
          1910,
          1911,
          1912,
          1913,
          1914,
          1915,
          1916,
          1917,
          1918,
          1919,
          1920,
          1921,
          1922,
          1923,
          1924,
          1925,
          1926,
          1927,
          1928,
          1929,
          1930,
          1931,
          1932,
          1933,
          1934,
          1935,
          1936,
          1937,
          1938,
          1939,
          1940,
          1941,
          1942,
          1943,
          1944,
          1945,
          1946,
          1947,
          1948,
          1949,
          1950,
          1951,
          1952,
          1953,
          1954,
          1955,
          1956,
          1957,
          1958,
          1959,
          1960,
          1961,
          1962,
          1963,
          1964,
          1965,
          1966,
          1967,
          1968,
          1969,
          1970,
          1971,
          1972,
          1973,
          1974,
          1975,
          1976,
          1977,
          1978,
          1979,
          1980,
          1981,
          1982,
          1983,
          1984,
          1985,
          1986,
          1987,
          1988,
          1989,
          1990,
          1991,
          1992,
          1993,
          1994,
          1995,
          1996,
          1997,
          1998,
          1999,
          2000,
          2001,
          2002,
          2003,
          2004,
          2005,
          2006,
          2007,
          2008,
          2009,
          2010,
          2011,
          2012,
          2013,
          2014,
          2015,
          2016,
          2017,
          2018,
          2019
         ],
         "xaxis": "x",
         "y": [
          254,
          455,
          354,
          335,
          331,
          338,
          261,
          244,
          267,
          259,
          361,
          514,
          442,
          470,
          710,
          635,
          383,
          335,
          235,
          447,
          630,
          937,
          1055,
          980,
          896,
          1169,
          863,
          922,
          1093,
          1349,
          1565,
          1069,
          1358,
          1067,
          1344,
          1325,
          1364,
          1430,
          1475,
          1445,
          1571,
          1331,
          1071,
          905,
          1034,
          1007,
          1215,
          1565,
          1555,
          1704,
          2073,
          1863,
          1701,
          2076,
          1937,
          2224,
          2294,
          2202,
          2240,
          2250,
          2128,
          2730,
          3001,
          2704,
          2762,
          2688,
          2743,
          2299,
          1995,
          3119,
          3429,
          2863,
          2534,
          3102,
          2649,
          2698,
          2235,
          3644,
          2956,
          3433,
          3087,
          1781,
          3379,
          3301,
          3258,
          3602,
          3813,
          4458,
          3180,
          3083,
          3317,
          3383,
          3038,
          4030,
          3306,
          4081,
          4962,
          4640,
          5064,
          5528,
          5693,
          5458,
          5059,
          5207,
          5451,
          5017,
          5386,
          4957,
          4878,
          5042,
          4613,
          4552,
          4934,
          4661,
          4186,
          4909,
          5610,
          6105,
          5585,
          6776
         ],
         "yaxis": "y"
        }
       ],
       "layout": {
        "legend": {
         "tracegroupgap": 0
        },
        "template": {
         "data": {
          "bar": [
           {
            "error_x": {
             "color": "rgb(36,36,36)"
            },
            "error_y": {
             "color": "rgb(36,36,36)"
            },
            "marker": {
             "line": {
              "color": "white",
              "width": 0.5
             },
             "pattern": {
              "fillmode": "overlay",
              "size": 10,
              "solidity": 0.2
             }
            },
            "type": "bar"
           }
          ],
          "barpolar": [
           {
            "marker": {
             "line": {
              "color": "white",
              "width": 0.5
             },
             "pattern": {
              "fillmode": "overlay",
              "size": 10,
              "solidity": 0.2
             }
            },
            "type": "barpolar"
           }
          ],
          "carpet": [
           {
            "aaxis": {
             "endlinecolor": "rgb(36,36,36)",
             "gridcolor": "white",
             "linecolor": "white",
             "minorgridcolor": "white",
             "startlinecolor": "rgb(36,36,36)"
            },
            "baxis": {
             "endlinecolor": "rgb(36,36,36)",
             "gridcolor": "white",
             "linecolor": "white",
             "minorgridcolor": "white",
             "startlinecolor": "rgb(36,36,36)"
            },
            "type": "carpet"
           }
          ],
          "choropleth": [
           {
            "colorbar": {
             "outlinewidth": 1,
             "tickcolor": "rgb(36,36,36)",
             "ticks": "outside"
            },
            "type": "choropleth"
           }
          ],
          "contour": [
           {
            "colorbar": {
             "outlinewidth": 1,
             "tickcolor": "rgb(36,36,36)",
             "ticks": "outside"
            },
            "colorscale": [
             [
              0,
              "#440154"
             ],
             [
              0.1111111111111111,
              "#482878"
             ],
             [
              0.2222222222222222,
              "#3e4989"
             ],
             [
              0.3333333333333333,
              "#31688e"
             ],
             [
              0.4444444444444444,
              "#26828e"
             ],
             [
              0.5555555555555556,
              "#1f9e89"
             ],
             [
              0.6666666666666666,
              "#35b779"
             ],
             [
              0.7777777777777778,
              "#6ece58"
             ],
             [
              0.8888888888888888,
              "#b5de2b"
             ],
             [
              1,
              "#fde725"
             ]
            ],
            "type": "contour"
           }
          ],
          "contourcarpet": [
           {
            "colorbar": {
             "outlinewidth": 1,
             "tickcolor": "rgb(36,36,36)",
             "ticks": "outside"
            },
            "type": "contourcarpet"
           }
          ],
          "heatmap": [
           {
            "colorbar": {
             "outlinewidth": 1,
             "tickcolor": "rgb(36,36,36)",
             "ticks": "outside"
            },
            "colorscale": [
             [
              0,
              "#440154"
             ],
             [
              0.1111111111111111,
              "#482878"
             ],
             [
              0.2222222222222222,
              "#3e4989"
             ],
             [
              0.3333333333333333,
              "#31688e"
             ],
             [
              0.4444444444444444,
              "#26828e"
             ],
             [
              0.5555555555555556,
              "#1f9e89"
             ],
             [
              0.6666666666666666,
              "#35b779"
             ],
             [
              0.7777777777777778,
              "#6ece58"
             ],
             [
              0.8888888888888888,
              "#b5de2b"
             ],
             [
              1,
              "#fde725"
             ]
            ],
            "type": "heatmap"
           }
          ],
          "heatmapgl": [
           {
            "colorbar": {
             "outlinewidth": 1,
             "tickcolor": "rgb(36,36,36)",
             "ticks": "outside"
            },
            "colorscale": [
             [
              0,
              "#440154"
             ],
             [
              0.1111111111111111,
              "#482878"
             ],
             [
              0.2222222222222222,
              "#3e4989"
             ],
             [
              0.3333333333333333,
              "#31688e"
             ],
             [
              0.4444444444444444,
              "#26828e"
             ],
             [
              0.5555555555555556,
              "#1f9e89"
             ],
             [
              0.6666666666666666,
              "#35b779"
             ],
             [
              0.7777777777777778,
              "#6ece58"
             ],
             [
              0.8888888888888888,
              "#b5de2b"
             ],
             [
              1,
              "#fde725"
             ]
            ],
            "type": "heatmapgl"
           }
          ],
          "histogram": [
           {
            "marker": {
             "line": {
              "color": "white",
              "width": 0.6
             }
            },
            "type": "histogram"
           }
          ],
          "histogram2d": [
           {
            "colorbar": {
             "outlinewidth": 1,
             "tickcolor": "rgb(36,36,36)",
             "ticks": "outside"
            },
            "colorscale": [
             [
              0,
              "#440154"
             ],
             [
              0.1111111111111111,
              "#482878"
             ],
             [
              0.2222222222222222,
              "#3e4989"
             ],
             [
              0.3333333333333333,
              "#31688e"
             ],
             [
              0.4444444444444444,
              "#26828e"
             ],
             [
              0.5555555555555556,
              "#1f9e89"
             ],
             [
              0.6666666666666666,
              "#35b779"
             ],
             [
              0.7777777777777778,
              "#6ece58"
             ],
             [
              0.8888888888888888,
              "#b5de2b"
             ],
             [
              1,
              "#fde725"
             ]
            ],
            "type": "histogram2d"
           }
          ],
          "histogram2dcontour": [
           {
            "colorbar": {
             "outlinewidth": 1,
             "tickcolor": "rgb(36,36,36)",
             "ticks": "outside"
            },
            "colorscale": [
             [
              0,
              "#440154"
             ],
             [
              0.1111111111111111,
              "#482878"
             ],
             [
              0.2222222222222222,
              "#3e4989"
             ],
             [
              0.3333333333333333,
              "#31688e"
             ],
             [
              0.4444444444444444,
              "#26828e"
             ],
             [
              0.5555555555555556,
              "#1f9e89"
             ],
             [
              0.6666666666666666,
              "#35b779"
             ],
             [
              0.7777777777777778,
              "#6ece58"
             ],
             [
              0.8888888888888888,
              "#b5de2b"
             ],
             [
              1,
              "#fde725"
             ]
            ],
            "type": "histogram2dcontour"
           }
          ],
          "mesh3d": [
           {
            "colorbar": {
             "outlinewidth": 1,
             "tickcolor": "rgb(36,36,36)",
             "ticks": "outside"
            },
            "type": "mesh3d"
           }
          ],
          "parcoords": [
           {
            "line": {
             "colorbar": {
              "outlinewidth": 1,
              "tickcolor": "rgb(36,36,36)",
              "ticks": "outside"
             }
            },
            "type": "parcoords"
           }
          ],
          "pie": [
           {
            "automargin": true,
            "type": "pie"
           }
          ],
          "scatter": [
           {
            "fillpattern": {
             "fillmode": "overlay",
             "size": 10,
             "solidity": 0.2
            },
            "type": "scatter"
           }
          ],
          "scatter3d": [
           {
            "line": {
             "colorbar": {
              "outlinewidth": 1,
              "tickcolor": "rgb(36,36,36)",
              "ticks": "outside"
             }
            },
            "marker": {
             "colorbar": {
              "outlinewidth": 1,
              "tickcolor": "rgb(36,36,36)",
              "ticks": "outside"
             }
            },
            "type": "scatter3d"
           }
          ],
          "scattercarpet": [
           {
            "marker": {
             "colorbar": {
              "outlinewidth": 1,
              "tickcolor": "rgb(36,36,36)",
              "ticks": "outside"
             }
            },
            "type": "scattercarpet"
           }
          ],
          "scattergeo": [
           {
            "marker": {
             "colorbar": {
              "outlinewidth": 1,
              "tickcolor": "rgb(36,36,36)",
              "ticks": "outside"
             }
            },
            "type": "scattergeo"
           }
          ],
          "scattergl": [
           {
            "marker": {
             "colorbar": {
              "outlinewidth": 1,
              "tickcolor": "rgb(36,36,36)",
              "ticks": "outside"
             }
            },
            "type": "scattergl"
           }
          ],
          "scattermapbox": [
           {
            "marker": {
             "colorbar": {
              "outlinewidth": 1,
              "tickcolor": "rgb(36,36,36)",
              "ticks": "outside"
             }
            },
            "type": "scattermapbox"
           }
          ],
          "scatterpolar": [
           {
            "marker": {
             "colorbar": {
              "outlinewidth": 1,
              "tickcolor": "rgb(36,36,36)",
              "ticks": "outside"
             }
            },
            "type": "scatterpolar"
           }
          ],
          "scatterpolargl": [
           {
            "marker": {
             "colorbar": {
              "outlinewidth": 1,
              "tickcolor": "rgb(36,36,36)",
              "ticks": "outside"
             }
            },
            "type": "scatterpolargl"
           }
          ],
          "scatterternary": [
           {
            "marker": {
             "colorbar": {
              "outlinewidth": 1,
              "tickcolor": "rgb(36,36,36)",
              "ticks": "outside"
             }
            },
            "type": "scatterternary"
           }
          ],
          "surface": [
           {
            "colorbar": {
             "outlinewidth": 1,
             "tickcolor": "rgb(36,36,36)",
             "ticks": "outside"
            },
            "colorscale": [
             [
              0,
              "#440154"
             ],
             [
              0.1111111111111111,
              "#482878"
             ],
             [
              0.2222222222222222,
              "#3e4989"
             ],
             [
              0.3333333333333333,
              "#31688e"
             ],
             [
              0.4444444444444444,
              "#26828e"
             ],
             [
              0.5555555555555556,
              "#1f9e89"
             ],
             [
              0.6666666666666666,
              "#35b779"
             ],
             [
              0.7777777777777778,
              "#6ece58"
             ],
             [
              0.8888888888888888,
              "#b5de2b"
             ],
             [
              1,
              "#fde725"
             ]
            ],
            "type": "surface"
           }
          ],
          "table": [
           {
            "cells": {
             "fill": {
              "color": "rgb(237,237,237)"
             },
             "line": {
              "color": "white"
             }
            },
            "header": {
             "fill": {
              "color": "rgb(217,217,217)"
             },
             "line": {
              "color": "white"
             }
            },
            "type": "table"
           }
          ]
         },
         "layout": {
          "annotationdefaults": {
           "arrowhead": 0,
           "arrowwidth": 1
          },
          "autosize": true,
          "autotypenumbers": "strict",
          "coloraxis": {
           "colorbar": {
            "outlinewidth": 1,
            "tickcolor": "rgb(36,36,36)",
            "ticks": "outside"
           }
          },
          "colorscale": {
           "diverging": [
            [
             0,
             "rgb(103,0,31)"
            ],
            [
             0.1,
             "rgb(178,24,43)"
            ],
            [
             0.2,
             "rgb(214,96,77)"
            ],
            [
             0.3,
             "rgb(244,165,130)"
            ],
            [
             0.4,
             "rgb(253,219,199)"
            ],
            [
             0.5,
             "rgb(247,247,247)"
            ],
            [
             0.6,
             "rgb(209,229,240)"
            ],
            [
             0.7,
             "rgb(146,197,222)"
            ],
            [
             0.8,
             "rgb(67,147,195)"
            ],
            [
             0.9,
             "rgb(33,102,172)"
            ],
            [
             1,
             "rgb(5,48,97)"
            ]
           ],
           "sequential": [
            [
             0,
             "#440154"
            ],
            [
             0.1111111111111111,
             "#482878"
            ],
            [
             0.2222222222222222,
             "#3e4989"
            ],
            [
             0.3333333333333333,
             "#31688e"
            ],
            [
             0.4444444444444444,
             "#26828e"
            ],
            [
             0.5555555555555556,
             "#1f9e89"
            ],
            [
             0.6666666666666666,
             "#35b779"
            ],
            [
             0.7777777777777778,
             "#6ece58"
            ],
            [
             0.8888888888888888,
             "#b5de2b"
            ],
            [
             1,
             "#fde725"
            ]
           ],
           "sequentialminus": [
            [
             0,
             "#440154"
            ],
            [
             0.1111111111111111,
             "#482878"
            ],
            [
             0.2222222222222222,
             "#3e4989"
            ],
            [
             0.3333333333333333,
             "#31688e"
            ],
            [
             0.4444444444444444,
             "#26828e"
            ],
            [
             0.5555555555555556,
             "#1f9e89"
            ],
            [
             0.6666666666666666,
             "#35b779"
            ],
            [
             0.7777777777777778,
             "#6ece58"
            ],
            [
             0.8888888888888888,
             "#b5de2b"
            ],
            [
             1,
             "#fde725"
            ]
           ]
          },
          "colorway": [
           "#1F77B4",
           "#FF7F0E",
           "#2CA02C",
           "#D62728",
           "#9467BD",
           "#8C564B",
           "#E377C2",
           "#7F7F7F",
           "#BCBD22",
           "#17BECF"
          ],
          "font": {
           "color": "rgb(36,36,36)"
          },
          "geo": {
           "bgcolor": "white",
           "lakecolor": "white",
           "landcolor": "white",
           "showlakes": true,
           "showland": true,
           "subunitcolor": "white"
          },
          "height": 400,
          "hoverlabel": {
           "align": "left"
          },
          "hovermode": "closest",
          "mapbox": {
           "style": "light"
          },
          "margin": {
           "b": 30,
           "l": 30,
           "r": 30,
           "t": 30
          },
          "paper_bgcolor": "white",
          "plot_bgcolor": "white",
          "polar": {
           "angularaxis": {
            "gridcolor": "rgb(232,232,232)",
            "linecolor": "rgb(36,36,36)",
            "showgrid": false,
            "showline": true,
            "ticks": "outside"
           },
           "bgcolor": "white",
           "radialaxis": {
            "gridcolor": "rgb(232,232,232)",
            "linecolor": "rgb(36,36,36)",
            "showgrid": false,
            "showline": true,
            "ticks": "outside"
           }
          },
          "scene": {
           "xaxis": {
            "backgroundcolor": "white",
            "gridcolor": "rgb(232,232,232)",
            "gridwidth": 2,
            "linecolor": "rgb(36,36,36)",
            "showbackground": true,
            "showgrid": false,
            "showline": true,
            "ticks": "outside",
            "zeroline": false,
            "zerolinecolor": "rgb(36,36,36)"
           },
           "yaxis": {
            "backgroundcolor": "white",
            "gridcolor": "rgb(232,232,232)",
            "gridwidth": 2,
            "linecolor": "rgb(36,36,36)",
            "showbackground": true,
            "showgrid": false,
            "showline": true,
            "ticks": "outside",
            "zeroline": false,
            "zerolinecolor": "rgb(36,36,36)"
           },
           "zaxis": {
            "backgroundcolor": "white",
            "gridcolor": "rgb(232,232,232)",
            "gridwidth": 2,
            "linecolor": "rgb(36,36,36)",
            "showbackground": true,
            "showgrid": false,
            "showline": true,
            "ticks": "outside",
            "zeroline": false,
            "zerolinecolor": "rgb(36,36,36)"
           }
          },
          "shapedefaults": {
           "fillcolor": "black",
           "line": {
            "width": 0
           },
           "opacity": 0.3
          },
          "ternary": {
           "aaxis": {
            "gridcolor": "rgb(232,232,232)",
            "linecolor": "rgb(36,36,36)",
            "showgrid": false,
            "showline": true,
            "ticks": "outside"
           },
           "baxis": {
            "gridcolor": "rgb(232,232,232)",
            "linecolor": "rgb(36,36,36)",
            "showgrid": false,
            "showline": true,
            "ticks": "outside"
           },
           "bgcolor": "white",
           "caxis": {
            "gridcolor": "rgb(232,232,232)",
            "linecolor": "rgb(36,36,36)",
            "showgrid": false,
            "showline": true,
            "ticks": "outside"
           }
          },
          "title": {
           "x": 0.5,
           "xanchor": "center"
          },
          "width": 600,
          "xaxis": {
           "automargin": true,
           "gridcolor": "rgb(232,232,232)",
           "linecolor": "rgb(36,36,36)",
           "showgrid": true,
           "showline": true,
           "ticks": "outside",
           "title": {
            "standoff": 15
           },
           "zeroline": false,
           "zerolinecolor": "rgb(36,36,36)"
          },
          "yaxis": {
           "automargin": true,
           "gridcolor": "rgb(232,232,232)",
           "linecolor": "rgb(36,36,36)",
           "showgrid": true,
           "showline": true,
           "ticks": "outside",
           "title": {
            "standoff": 15
           },
           "zeroline": false,
           "zerolinecolor": "rgb(36,36,36)"
          }
         }
        },
        "xaxis": {
         "anchor": "y",
         "domain": [
          0,
          1
         ],
         "title": {
          "text": "Year"
         }
        },
        "yaxis": {
         "anchor": "x",
         "domain": [
          0,
          1
         ],
         "title": {
          "text": "Homeruns"
         }
        }
       }
      }
     },
     "metadata": {},
     "output_type": "display_data"
    }
   ],
   "source": [
    "homeruns.plot(kind='scatter', x='Year', y='Homeruns')"
   ]
  },
  {
   "cell_type": "markdown",
   "id": "0898ed2c",
   "metadata": {},
   "source": [
    "**Throughout this entire question**, suppose we're modeling `'Homeruns'` as a function of `'Year'`, i.e. `'Homeruns'` is the $y$ variable and `'Year'` is the $x$."
   ]
  },
  {
   "cell_type": "markdown",
   "id": "c766f67d",
   "metadata": {},
   "source": [
    "### Question 3.1 [Autograded 💻] <div style=\"display:inline-block; vertical-align: middle; padding:7px 7px; font-size:10px; font-weight:light; color:white; background-color:#e84c4a; border-radius:7px; text-align:left;\">3 Points</div>\n",
    "\n",
    "**Your first job is to determine what the appropriate transformation to apply to the `'Homeruns'` column is, in order to linearize the relationship.** Specifically, try out the transformations below, and then draw and examine residual plots to identify which numerical-to-numerical transformation is best.\n",
    "\n",
    "While you'll have to write a bunch of code, this is a multiple-choice question. Assign `best_transformation` to either 1, 2, 3, or 4, with the value corresponding to one of the following choices:\n",
    "\n",
    "1. Square root transformation.\n",
    "2. Log transformation.\n",
    "3. Both work the same.\n",
    "4. Neither gives a transformation revealing a linear relationship.\n",
    "\n",
    "If you find that both residual plots have some sort of pattern, choose the residual plot in which the vertical spread is constant. There is one clearly correct answer."
   ]
  },
  {
   "cell_type": "code",
   "execution_count": 13,
   "id": "ae532ffa",
   "metadata": {},
   "outputs": [],
   "source": [
    "homeruns[\"log\"] = np.log(homeruns[\"Homeruns\"])\n",
    "homeruns[\"sqrt\"] = np.sqrt(homeruns[\"Homeruns\"])"
   ]
  },
  {
   "cell_type": "code",
   "execution_count": 14,
   "id": "810492cc",
   "metadata": {},
   "outputs": [
    {
     "data": {
      "application/vnd.plotly.v1+json": {
       "config": {
        "plotlyServerURL": "https://plot.ly"
       },
       "data": [
        {
         "hovertemplate": "Year=%{x}<br>sqrt=%{y}<extra></extra>",
         "legendgroup": "",
         "marker": {
          "color": "#1F77B4",
          "symbol": "circle"
         },
         "mode": "markers",
         "name": "",
         "orientation": "v",
         "showlegend": false,
         "type": "scatter",
         "x": [
          1900,
          1901,
          1902,
          1903,
          1904,
          1905,
          1906,
          1907,
          1908,
          1909,
          1910,
          1911,
          1912,
          1913,
          1914,
          1915,
          1916,
          1917,
          1918,
          1919,
          1920,
          1921,
          1922,
          1923,
          1924,
          1925,
          1926,
          1927,
          1928,
          1929,
          1930,
          1931,
          1932,
          1933,
          1934,
          1935,
          1936,
          1937,
          1938,
          1939,
          1940,
          1941,
          1942,
          1943,
          1944,
          1945,
          1946,
          1947,
          1948,
          1949,
          1950,
          1951,
          1952,
          1953,
          1954,
          1955,
          1956,
          1957,
          1958,
          1959,
          1960,
          1961,
          1962,
          1963,
          1964,
          1965,
          1966,
          1967,
          1968,
          1969,
          1970,
          1971,
          1972,
          1973,
          1974,
          1975,
          1976,
          1977,
          1978,
          1979,
          1980,
          1981,
          1982,
          1983,
          1984,
          1985,
          1986,
          1987,
          1988,
          1989,
          1990,
          1991,
          1992,
          1993,
          1994,
          1995,
          1996,
          1997,
          1998,
          1999,
          2000,
          2001,
          2002,
          2003,
          2004,
          2005,
          2006,
          2007,
          2008,
          2009,
          2010,
          2011,
          2012,
          2013,
          2014,
          2015,
          2016,
          2017,
          2018,
          2019
         ],
         "xaxis": "x",
         "y": [
          15.937377450509228,
          21.330729007701542,
          18.81488772222678,
          18.303005217723125,
          18.193405398660254,
          18.384776310850235,
          16.15549442140351,
          15.620499351813308,
          16.34013463836819,
          16.09347693943108,
          19,
          22.67156809750927,
          21.02379604162864,
          21.6794833886788,
          26.645825188948457,
          25.199206336708304,
          19.570385790780925,
          18.303005217723125,
          15.329709716755891,
          21.142374511865974,
          25.099800796022265,
          30.610455730027933,
          32.48076353782343,
          31.304951684997057,
          29.93325909419153,
          34.19064199455752,
          29.376861643136763,
          30.364452901377952,
          33.06055050963308,
          36.72873534441391,
          39.56008088970496,
          32.69556544854363,
          36.851051545376556,
          32.66496594212215,
          36.66060555964672,
          36.40054944640259,
          36.932370625238775,
          37.815340802378074,
          38.40572873934304,
          38.01315561749642,
          39.63584236521283,
          36.4828726939094,
          32.72613634390714,
          30.083217912982647,
          32.155870381627054,
          31.73326330524486,
          34.85685011586675,
          39.56008088970496,
          39.433488306260706,
          41.27953488110059,
          45.53020975132884,
          43.162483709814474,
          41.24318125460256,
          45.56314299957807,
          44.01136216933077,
          47.15930449020638,
          47.89572005931219,
          46.92547282660026,
          47.32863826479693,
          47.43416490252569,
          46.130250378683186,
          52.24940191045253,
          54.78138369920935,
          52,
          52.55473337388365,
          51.84592558726288,
          52.373657500693994,
          47.94788837894741,
          44.66542286825459,
          55.848008021772806,
          58.557663887829406,
          53.50700888668698,
          50.33885179461288,
          55.695601262577284,
          51.468436929831086,
          51.94227565288221,
          47.275786614291256,
          60.36555309114628,
          54.36910887627275,
          58.59180830116101,
          55.560777532356404,
          42.20189569201838,
          58.12916651733448,
          57.4543296888929,
          57.07889277132134,
          60.01666435249463,
          61.74949392505172,
          66.76825593049439,
          56.39148871948674,
          55.52476924760696,
          57.59340239992772,
          58.16356247686347,
          55.11805511808268,
          63.48228099241551,
          57.4978260458602,
          63.88270501473775,
          70.44146506142529,
          68.11754546370561,
          71.16178749862878,
          74.35052118176442,
          75.45197147855052,
          73.87827826905551,
          71.12664760833313,
          72.15954545311382,
          73.83088784512888,
          70.83078426785913,
          73.38937252763509,
          70.40596565632774,
          69.8426803609369,
          71.00704190430693,
          67.91906948714772,
          67.468511173732,
          70.24243731534378,
          68.27151675479314,
          64.69930447848725,
          70.06425622241343,
          74.89993324429602,
          78.13449942247023,
          74.73285756613352,
          82.3164625090267
         ],
         "yaxis": "y"
        }
       ],
       "layout": {
        "legend": {
         "tracegroupgap": 0
        },
        "template": {
         "data": {
          "bar": [
           {
            "error_x": {
             "color": "rgb(36,36,36)"
            },
            "error_y": {
             "color": "rgb(36,36,36)"
            },
            "marker": {
             "line": {
              "color": "white",
              "width": 0.5
             },
             "pattern": {
              "fillmode": "overlay",
              "size": 10,
              "solidity": 0.2
             }
            },
            "type": "bar"
           }
          ],
          "barpolar": [
           {
            "marker": {
             "line": {
              "color": "white",
              "width": 0.5
             },
             "pattern": {
              "fillmode": "overlay",
              "size": 10,
              "solidity": 0.2
             }
            },
            "type": "barpolar"
           }
          ],
          "carpet": [
           {
            "aaxis": {
             "endlinecolor": "rgb(36,36,36)",
             "gridcolor": "white",
             "linecolor": "white",
             "minorgridcolor": "white",
             "startlinecolor": "rgb(36,36,36)"
            },
            "baxis": {
             "endlinecolor": "rgb(36,36,36)",
             "gridcolor": "white",
             "linecolor": "white",
             "minorgridcolor": "white",
             "startlinecolor": "rgb(36,36,36)"
            },
            "type": "carpet"
           }
          ],
          "choropleth": [
           {
            "colorbar": {
             "outlinewidth": 1,
             "tickcolor": "rgb(36,36,36)",
             "ticks": "outside"
            },
            "type": "choropleth"
           }
          ],
          "contour": [
           {
            "colorbar": {
             "outlinewidth": 1,
             "tickcolor": "rgb(36,36,36)",
             "ticks": "outside"
            },
            "colorscale": [
             [
              0,
              "#440154"
             ],
             [
              0.1111111111111111,
              "#482878"
             ],
             [
              0.2222222222222222,
              "#3e4989"
             ],
             [
              0.3333333333333333,
              "#31688e"
             ],
             [
              0.4444444444444444,
              "#26828e"
             ],
             [
              0.5555555555555556,
              "#1f9e89"
             ],
             [
              0.6666666666666666,
              "#35b779"
             ],
             [
              0.7777777777777778,
              "#6ece58"
             ],
             [
              0.8888888888888888,
              "#b5de2b"
             ],
             [
              1,
              "#fde725"
             ]
            ],
            "type": "contour"
           }
          ],
          "contourcarpet": [
           {
            "colorbar": {
             "outlinewidth": 1,
             "tickcolor": "rgb(36,36,36)",
             "ticks": "outside"
            },
            "type": "contourcarpet"
           }
          ],
          "heatmap": [
           {
            "colorbar": {
             "outlinewidth": 1,
             "tickcolor": "rgb(36,36,36)",
             "ticks": "outside"
            },
            "colorscale": [
             [
              0,
              "#440154"
             ],
             [
              0.1111111111111111,
              "#482878"
             ],
             [
              0.2222222222222222,
              "#3e4989"
             ],
             [
              0.3333333333333333,
              "#31688e"
             ],
             [
              0.4444444444444444,
              "#26828e"
             ],
             [
              0.5555555555555556,
              "#1f9e89"
             ],
             [
              0.6666666666666666,
              "#35b779"
             ],
             [
              0.7777777777777778,
              "#6ece58"
             ],
             [
              0.8888888888888888,
              "#b5de2b"
             ],
             [
              1,
              "#fde725"
             ]
            ],
            "type": "heatmap"
           }
          ],
          "heatmapgl": [
           {
            "colorbar": {
             "outlinewidth": 1,
             "tickcolor": "rgb(36,36,36)",
             "ticks": "outside"
            },
            "colorscale": [
             [
              0,
              "#440154"
             ],
             [
              0.1111111111111111,
              "#482878"
             ],
             [
              0.2222222222222222,
              "#3e4989"
             ],
             [
              0.3333333333333333,
              "#31688e"
             ],
             [
              0.4444444444444444,
              "#26828e"
             ],
             [
              0.5555555555555556,
              "#1f9e89"
             ],
             [
              0.6666666666666666,
              "#35b779"
             ],
             [
              0.7777777777777778,
              "#6ece58"
             ],
             [
              0.8888888888888888,
              "#b5de2b"
             ],
             [
              1,
              "#fde725"
             ]
            ],
            "type": "heatmapgl"
           }
          ],
          "histogram": [
           {
            "marker": {
             "line": {
              "color": "white",
              "width": 0.6
             }
            },
            "type": "histogram"
           }
          ],
          "histogram2d": [
           {
            "colorbar": {
             "outlinewidth": 1,
             "tickcolor": "rgb(36,36,36)",
             "ticks": "outside"
            },
            "colorscale": [
             [
              0,
              "#440154"
             ],
             [
              0.1111111111111111,
              "#482878"
             ],
             [
              0.2222222222222222,
              "#3e4989"
             ],
             [
              0.3333333333333333,
              "#31688e"
             ],
             [
              0.4444444444444444,
              "#26828e"
             ],
             [
              0.5555555555555556,
              "#1f9e89"
             ],
             [
              0.6666666666666666,
              "#35b779"
             ],
             [
              0.7777777777777778,
              "#6ece58"
             ],
             [
              0.8888888888888888,
              "#b5de2b"
             ],
             [
              1,
              "#fde725"
             ]
            ],
            "type": "histogram2d"
           }
          ],
          "histogram2dcontour": [
           {
            "colorbar": {
             "outlinewidth": 1,
             "tickcolor": "rgb(36,36,36)",
             "ticks": "outside"
            },
            "colorscale": [
             [
              0,
              "#440154"
             ],
             [
              0.1111111111111111,
              "#482878"
             ],
             [
              0.2222222222222222,
              "#3e4989"
             ],
             [
              0.3333333333333333,
              "#31688e"
             ],
             [
              0.4444444444444444,
              "#26828e"
             ],
             [
              0.5555555555555556,
              "#1f9e89"
             ],
             [
              0.6666666666666666,
              "#35b779"
             ],
             [
              0.7777777777777778,
              "#6ece58"
             ],
             [
              0.8888888888888888,
              "#b5de2b"
             ],
             [
              1,
              "#fde725"
             ]
            ],
            "type": "histogram2dcontour"
           }
          ],
          "mesh3d": [
           {
            "colorbar": {
             "outlinewidth": 1,
             "tickcolor": "rgb(36,36,36)",
             "ticks": "outside"
            },
            "type": "mesh3d"
           }
          ],
          "parcoords": [
           {
            "line": {
             "colorbar": {
              "outlinewidth": 1,
              "tickcolor": "rgb(36,36,36)",
              "ticks": "outside"
             }
            },
            "type": "parcoords"
           }
          ],
          "pie": [
           {
            "automargin": true,
            "type": "pie"
           }
          ],
          "scatter": [
           {
            "fillpattern": {
             "fillmode": "overlay",
             "size": 10,
             "solidity": 0.2
            },
            "type": "scatter"
           }
          ],
          "scatter3d": [
           {
            "line": {
             "colorbar": {
              "outlinewidth": 1,
              "tickcolor": "rgb(36,36,36)",
              "ticks": "outside"
             }
            },
            "marker": {
             "colorbar": {
              "outlinewidth": 1,
              "tickcolor": "rgb(36,36,36)",
              "ticks": "outside"
             }
            },
            "type": "scatter3d"
           }
          ],
          "scattercarpet": [
           {
            "marker": {
             "colorbar": {
              "outlinewidth": 1,
              "tickcolor": "rgb(36,36,36)",
              "ticks": "outside"
             }
            },
            "type": "scattercarpet"
           }
          ],
          "scattergeo": [
           {
            "marker": {
             "colorbar": {
              "outlinewidth": 1,
              "tickcolor": "rgb(36,36,36)",
              "ticks": "outside"
             }
            },
            "type": "scattergeo"
           }
          ],
          "scattergl": [
           {
            "marker": {
             "colorbar": {
              "outlinewidth": 1,
              "tickcolor": "rgb(36,36,36)",
              "ticks": "outside"
             }
            },
            "type": "scattergl"
           }
          ],
          "scattermapbox": [
           {
            "marker": {
             "colorbar": {
              "outlinewidth": 1,
              "tickcolor": "rgb(36,36,36)",
              "ticks": "outside"
             }
            },
            "type": "scattermapbox"
           }
          ],
          "scatterpolar": [
           {
            "marker": {
             "colorbar": {
              "outlinewidth": 1,
              "tickcolor": "rgb(36,36,36)",
              "ticks": "outside"
             }
            },
            "type": "scatterpolar"
           }
          ],
          "scatterpolargl": [
           {
            "marker": {
             "colorbar": {
              "outlinewidth": 1,
              "tickcolor": "rgb(36,36,36)",
              "ticks": "outside"
             }
            },
            "type": "scatterpolargl"
           }
          ],
          "scatterternary": [
           {
            "marker": {
             "colorbar": {
              "outlinewidth": 1,
              "tickcolor": "rgb(36,36,36)",
              "ticks": "outside"
             }
            },
            "type": "scatterternary"
           }
          ],
          "surface": [
           {
            "colorbar": {
             "outlinewidth": 1,
             "tickcolor": "rgb(36,36,36)",
             "ticks": "outside"
            },
            "colorscale": [
             [
              0,
              "#440154"
             ],
             [
              0.1111111111111111,
              "#482878"
             ],
             [
              0.2222222222222222,
              "#3e4989"
             ],
             [
              0.3333333333333333,
              "#31688e"
             ],
             [
              0.4444444444444444,
              "#26828e"
             ],
             [
              0.5555555555555556,
              "#1f9e89"
             ],
             [
              0.6666666666666666,
              "#35b779"
             ],
             [
              0.7777777777777778,
              "#6ece58"
             ],
             [
              0.8888888888888888,
              "#b5de2b"
             ],
             [
              1,
              "#fde725"
             ]
            ],
            "type": "surface"
           }
          ],
          "table": [
           {
            "cells": {
             "fill": {
              "color": "rgb(237,237,237)"
             },
             "line": {
              "color": "white"
             }
            },
            "header": {
             "fill": {
              "color": "rgb(217,217,217)"
             },
             "line": {
              "color": "white"
             }
            },
            "type": "table"
           }
          ]
         },
         "layout": {
          "annotationdefaults": {
           "arrowhead": 0,
           "arrowwidth": 1
          },
          "autosize": true,
          "autotypenumbers": "strict",
          "coloraxis": {
           "colorbar": {
            "outlinewidth": 1,
            "tickcolor": "rgb(36,36,36)",
            "ticks": "outside"
           }
          },
          "colorscale": {
           "diverging": [
            [
             0,
             "rgb(103,0,31)"
            ],
            [
             0.1,
             "rgb(178,24,43)"
            ],
            [
             0.2,
             "rgb(214,96,77)"
            ],
            [
             0.3,
             "rgb(244,165,130)"
            ],
            [
             0.4,
             "rgb(253,219,199)"
            ],
            [
             0.5,
             "rgb(247,247,247)"
            ],
            [
             0.6,
             "rgb(209,229,240)"
            ],
            [
             0.7,
             "rgb(146,197,222)"
            ],
            [
             0.8,
             "rgb(67,147,195)"
            ],
            [
             0.9,
             "rgb(33,102,172)"
            ],
            [
             1,
             "rgb(5,48,97)"
            ]
           ],
           "sequential": [
            [
             0,
             "#440154"
            ],
            [
             0.1111111111111111,
             "#482878"
            ],
            [
             0.2222222222222222,
             "#3e4989"
            ],
            [
             0.3333333333333333,
             "#31688e"
            ],
            [
             0.4444444444444444,
             "#26828e"
            ],
            [
             0.5555555555555556,
             "#1f9e89"
            ],
            [
             0.6666666666666666,
             "#35b779"
            ],
            [
             0.7777777777777778,
             "#6ece58"
            ],
            [
             0.8888888888888888,
             "#b5de2b"
            ],
            [
             1,
             "#fde725"
            ]
           ],
           "sequentialminus": [
            [
             0,
             "#440154"
            ],
            [
             0.1111111111111111,
             "#482878"
            ],
            [
             0.2222222222222222,
             "#3e4989"
            ],
            [
             0.3333333333333333,
             "#31688e"
            ],
            [
             0.4444444444444444,
             "#26828e"
            ],
            [
             0.5555555555555556,
             "#1f9e89"
            ],
            [
             0.6666666666666666,
             "#35b779"
            ],
            [
             0.7777777777777778,
             "#6ece58"
            ],
            [
             0.8888888888888888,
             "#b5de2b"
            ],
            [
             1,
             "#fde725"
            ]
           ]
          },
          "colorway": [
           "#1F77B4",
           "#FF7F0E",
           "#2CA02C",
           "#D62728",
           "#9467BD",
           "#8C564B",
           "#E377C2",
           "#7F7F7F",
           "#BCBD22",
           "#17BECF"
          ],
          "font": {
           "color": "rgb(36,36,36)"
          },
          "geo": {
           "bgcolor": "white",
           "lakecolor": "white",
           "landcolor": "white",
           "showlakes": true,
           "showland": true,
           "subunitcolor": "white"
          },
          "height": 400,
          "hoverlabel": {
           "align": "left"
          },
          "hovermode": "closest",
          "mapbox": {
           "style": "light"
          },
          "margin": {
           "b": 30,
           "l": 30,
           "r": 30,
           "t": 30
          },
          "paper_bgcolor": "white",
          "plot_bgcolor": "white",
          "polar": {
           "angularaxis": {
            "gridcolor": "rgb(232,232,232)",
            "linecolor": "rgb(36,36,36)",
            "showgrid": false,
            "showline": true,
            "ticks": "outside"
           },
           "bgcolor": "white",
           "radialaxis": {
            "gridcolor": "rgb(232,232,232)",
            "linecolor": "rgb(36,36,36)",
            "showgrid": false,
            "showline": true,
            "ticks": "outside"
           }
          },
          "scene": {
           "xaxis": {
            "backgroundcolor": "white",
            "gridcolor": "rgb(232,232,232)",
            "gridwidth": 2,
            "linecolor": "rgb(36,36,36)",
            "showbackground": true,
            "showgrid": false,
            "showline": true,
            "ticks": "outside",
            "zeroline": false,
            "zerolinecolor": "rgb(36,36,36)"
           },
           "yaxis": {
            "backgroundcolor": "white",
            "gridcolor": "rgb(232,232,232)",
            "gridwidth": 2,
            "linecolor": "rgb(36,36,36)",
            "showbackground": true,
            "showgrid": false,
            "showline": true,
            "ticks": "outside",
            "zeroline": false,
            "zerolinecolor": "rgb(36,36,36)"
           },
           "zaxis": {
            "backgroundcolor": "white",
            "gridcolor": "rgb(232,232,232)",
            "gridwidth": 2,
            "linecolor": "rgb(36,36,36)",
            "showbackground": true,
            "showgrid": false,
            "showline": true,
            "ticks": "outside",
            "zeroline": false,
            "zerolinecolor": "rgb(36,36,36)"
           }
          },
          "shapedefaults": {
           "fillcolor": "black",
           "line": {
            "width": 0
           },
           "opacity": 0.3
          },
          "ternary": {
           "aaxis": {
            "gridcolor": "rgb(232,232,232)",
            "linecolor": "rgb(36,36,36)",
            "showgrid": false,
            "showline": true,
            "ticks": "outside"
           },
           "baxis": {
            "gridcolor": "rgb(232,232,232)",
            "linecolor": "rgb(36,36,36)",
            "showgrid": false,
            "showline": true,
            "ticks": "outside"
           },
           "bgcolor": "white",
           "caxis": {
            "gridcolor": "rgb(232,232,232)",
            "linecolor": "rgb(36,36,36)",
            "showgrid": false,
            "showline": true,
            "ticks": "outside"
           }
          },
          "title": {
           "x": 0.5,
           "xanchor": "center"
          },
          "width": 600,
          "xaxis": {
           "automargin": true,
           "gridcolor": "rgb(232,232,232)",
           "linecolor": "rgb(36,36,36)",
           "showgrid": true,
           "showline": true,
           "ticks": "outside",
           "title": {
            "standoff": 15
           },
           "zeroline": false,
           "zerolinecolor": "rgb(36,36,36)"
          },
          "yaxis": {
           "automargin": true,
           "gridcolor": "rgb(232,232,232)",
           "linecolor": "rgb(36,36,36)",
           "showgrid": true,
           "showline": true,
           "ticks": "outside",
           "title": {
            "standoff": 15
           },
           "zeroline": false,
           "zerolinecolor": "rgb(36,36,36)"
          }
         }
        },
        "xaxis": {
         "anchor": "y",
         "domain": [
          0,
          1
         ],
         "title": {
          "text": "Year"
         }
        },
        "yaxis": {
         "anchor": "x",
         "domain": [
          0,
          1
         ],
         "title": {
          "text": "sqrt"
         }
        }
       }
      }
     },
     "metadata": {},
     "output_type": "display_data"
    }
   ],
   "source": [
    "homeruns.plot(kind='scatter', x='Year', y='sqrt')"
   ]
  },
  {
   "cell_type": "code",
   "execution_count": 15,
   "id": "bb4526cd",
   "metadata": {},
   "outputs": [
    {
     "data": {
      "application/vnd.plotly.v1+json": {
       "config": {
        "plotlyServerURL": "https://plot.ly"
       },
       "data": [
        {
         "hovertemplate": "pred=%{x}<br>sqrt residuals=%{y}<extra></extra>",
         "legendgroup": "",
         "marker": {
          "color": "#1F77B4",
          "symbol": "circle"
         },
         "mode": "markers",
         "name": "",
         "orientation": "v",
         "showlegend": false,
         "type": "scatter",
         "x": [
          16.379512475514275,
          16.88615309811314,
          17.392793720712007,
          17.899434343310872,
          18.40607496590974,
          18.912715588508604,
          19.41935621110747,
          19.925996833706336,
          20.4326374563052,
          20.939278078904067,
          21.445918701502933,
          21.9525593241018,
          22.459199946700664,
          22.96584056929953,
          23.472481191898396,
          23.97912181449726,
          24.485762437096128,
          24.992403059694993,
          25.499043682293973,
          26.00568430489284,
          26.512324927491704,
          27.01896555009057,
          27.525606172689436,
          28.0322467952883,
          28.538887417887167,
          29.045528040486033,
          29.5521686630849,
          30.058809285683765,
          30.56544990828263,
          31.072090530881496,
          31.578731153480362,
          32.08537177607923,
          32.592012398678094,
          33.09865302127696,
          33.605293643875825,
          34.11193426647469,
          34.61857488907356,
          35.12521551167242,
          35.6318561342714,
          36.13849675687027,
          36.64513737946913,
          37.151778002068,
          37.658418624666865,
          38.16505924726573,
          38.6716998698646,
          39.17834049246346,
          39.68498111506233,
          40.191621737661194,
          40.69826236026006,
          41.204902982858925,
          41.71154360545779,
          42.21818422805666,
          42.72482485065552,
          43.23146547325439,
          43.738106095853254,
          44.24474671845212,
          44.751387341050986,
          45.25802796364985,
          45.76466858624883,
          46.2713092088477,
          46.77794983144656,
          47.28459045404543,
          47.791231076644294,
          48.29787169924316,
          48.804512321842026,
          49.31115294444089,
          49.81779356703976,
          50.32443418963862,
          50.83107481223749,
          51.337715434836355,
          51.84435605743522,
          52.350996680034086,
          52.85763730263295,
          53.36427792523182,
          53.870918547830684,
          54.37755917042955,
          54.884199793028415,
          55.39084041562728,
          55.89748103822626,
          56.404121660825126,
          56.91076228342399,
          57.41740290602286,
          57.92404352862172,
          58.43068415122059,
          58.937324773819455,
          59.44396539641832,
          59.95060601901719,
          60.45724664161605,
          60.96388726421492,
          61.470527886813784,
          61.97716850941265,
          62.483809132011515,
          62.99044975461038,
          63.49709037720925,
          64.00373099980811,
          64.51037162240698,
          65.01701224500584,
          65.52365286760471,
          66.03029349020369,
          66.53693411280256,
          67.04357473540142,
          67.55021535800029,
          68.05685598059915,
          68.56349660319802,
          69.07013722579688,
          69.57677784839575,
          70.08341847099462,
          70.59005909359348,
          71.09669971619235,
          71.60334033879121,
          72.10998096139008,
          72.61662158398894,
          73.12326220658781,
          73.62990282918668,
          74.13654345178554,
          74.64318407438441,
          75.14982469698327,
          75.65646531958214,
          76.16310594218112,
          76.66974656477998
         ],
         "xaxis": "x",
         "y": [
          -0.4421350250050473,
          4.444575909588401,
          1.4220940015147718,
          0.40357087441225303,
          -0.21266956724948471,
          -0.5279392776583691,
          -3.2638617897039595,
          -4.305497481893028,
          -4.09250281793701,
          -4.845801139472986,
          -2.445918701502933,
          0.7190087734074702,
          -1.4354039050720253,
          -1.2863571806207297,
          3.173343997050061,
          1.2200845222110424,
          -4.915376646315202,
          -6.689397841971868,
          -10.169333965538081,
          -4.863309793026865,
          -1.4125241314694392,
          3.591490179937363,
          4.955157365133992,
          3.2727048897087556,
          1.3943716763043632,
          5.145113954071483,
          -0.1753070199481357,
          0.3056436156941871,
          2.495100601350451,
          5.6566448135324165,
          7.981349736224601,
          0.6101936724644048,
          4.259039146698463,
          -0.433687079154808,
          3.0553119157708934,
          2.288615179927902,
          2.3137957361652184,
          2.6901252907056517,
          2.773872605071638,
          1.8746588606261554,
          2.9907049857436974,
          -0.6689053081585996,
          -4.932282280759722,
          -8.081841334283084,
          -6.515829488237543,
          -7.445077187218601,
          -4.828130999195579,
          -0.6315408479562308,
          -1.2647740539993535,
          0.0746318982416625,
          3.818666145871049,
          0.9442994817578167,
          -1.4816435960529617,
          2.3316775263236806,
          0.2732560734775191,
          2.914557771754261,
          3.1443327182612038,
          1.6674448629504113,
          1.5639696785480979,
          1.1628556936779901,
          -0.6476994527633764,
          4.964811456407098,
          6.990152622565056,
          3.70212830075684,
          3.750221052041624,
          2.5347726428219914,
          2.555863933654237,
          -2.376545810691212,
          -6.165651943982901,
          4.510292586936451,
          6.713307830394186,
          1.1560122066528962,
          -2.5187855080200734,
          2.3313233373454665,
          -2.402481617999598,
          -2.43528351754734,
          -7.608413178737159,
          4.974712675519001,
          -1.5283721619535129,
          2.1876866403358832,
          -1.3499847510675878,
          -15.215507214004475,
          0.20512298871275902,
          -0.9763544623276914,
          -1.8584320024981125,
          0.5726989560763087,
          1.7988879060345369,
          6.3110092888783385,
          -4.5723985447281805,
          -5.945758639206822,
          -4.383766109484931,
          -4.320246655148047,
          -7.8723946365277016,
          -0.014809384793736058,
          -6.505904953947912,
          -0.6276666076692266,
          5.424452816419446,
          2.5938925961009005,
          5.1314940084250935,
          7.813587068961866,
          8.408396743149098,
          6.328062911055227,
          3.069791627733977,
          3.596048849915803,
          4.760750619332001,
          1.25400641946338,
          3.3059540566404735,
          -0.18409343726574434,
          -1.2540193552554513,
          -0.5962984344842823,
          -4.190911474242355,
          -5.1481104102569475,
          -2.880824891244032,
          -5.358386074393536,
          -9.437238973298292,
          -4.578927851970974,
          -0.2498914526872511,
          2.4780341028880883,
          -1.4302483760476008,
          5.646715944246722
         ],
         "yaxis": "y"
        },
        {
         "hovertemplate": "<b>OLS trendline</b><br>sqrt residuals = 8.50015e-17 * pred + -3.40006e-14<br>R<sup>2</sup>=0.000000<br><br>pred=%{x}<br>sqrt residuals=%{y} <b>(trend)</b><extra></extra>",
         "legendgroup": "",
         "line": {
          "color": "red"
         },
         "marker": {
          "color": "#1F77B4",
          "symbol": "circle"
         },
         "mode": "lines",
         "name": "",
         "showlegend": false,
         "type": "scatter",
         "x": [
          16.379512475514275,
          16.88615309811314,
          17.392793720712007,
          17.899434343310872,
          18.40607496590974,
          18.912715588508604,
          19.41935621110747,
          19.925996833706336,
          20.4326374563052,
          20.939278078904067,
          21.445918701502933,
          21.9525593241018,
          22.459199946700664,
          22.96584056929953,
          23.472481191898396,
          23.97912181449726,
          24.485762437096128,
          24.992403059694993,
          25.499043682293973,
          26.00568430489284,
          26.512324927491704,
          27.01896555009057,
          27.525606172689436,
          28.0322467952883,
          28.538887417887167,
          29.045528040486033,
          29.5521686630849,
          30.058809285683765,
          30.56544990828263,
          31.072090530881496,
          31.578731153480362,
          32.08537177607923,
          32.592012398678094,
          33.09865302127696,
          33.605293643875825,
          34.11193426647469,
          34.61857488907356,
          35.12521551167242,
          35.6318561342714,
          36.13849675687027,
          36.64513737946913,
          37.151778002068,
          37.658418624666865,
          38.16505924726573,
          38.6716998698646,
          39.17834049246346,
          39.68498111506233,
          40.191621737661194,
          40.69826236026006,
          41.204902982858925,
          41.71154360545779,
          42.21818422805666,
          42.72482485065552,
          43.23146547325439,
          43.738106095853254,
          44.24474671845212,
          44.751387341050986,
          45.25802796364985,
          45.76466858624883,
          46.2713092088477,
          46.77794983144656,
          47.28459045404543,
          47.791231076644294,
          48.29787169924316,
          48.804512321842026,
          49.31115294444089,
          49.81779356703976,
          50.32443418963862,
          50.83107481223749,
          51.337715434836355,
          51.84435605743522,
          52.350996680034086,
          52.85763730263295,
          53.36427792523182,
          53.870918547830684,
          54.37755917042955,
          54.884199793028415,
          55.39084041562728,
          55.89748103822626,
          56.404121660825126,
          56.91076228342399,
          57.41740290602286,
          57.92404352862172,
          58.43068415122059,
          58.937324773819455,
          59.44396539641832,
          59.95060601901719,
          60.45724664161605,
          60.96388726421492,
          61.470527886813784,
          61.97716850941265,
          62.483809132011515,
          62.99044975461038,
          63.49709037720925,
          64.00373099980811,
          64.51037162240698,
          65.01701224500584,
          65.52365286760471,
          66.03029349020369,
          66.53693411280256,
          67.04357473540142,
          67.55021535800029,
          68.05685598059915,
          68.56349660319802,
          69.07013722579688,
          69.57677784839575,
          70.08341847099462,
          70.59005909359348,
          71.09669971619235,
          71.60334033879121,
          72.10998096139008,
          72.61662158398894,
          73.12326220658781,
          73.62990282918668,
          74.13654345178554,
          74.64318407438441,
          75.14982469698327,
          75.65646531958214,
          76.16310594218112,
          76.66974656477998
         ],
         "xaxis": "x",
         "y": [
          -3.260829781314527e-14,
          -3.2565232625431885e-14,
          -3.2522167437718505e-14,
          -3.2479102250005124e-14,
          -3.243603706229174e-14,
          -3.239297187457836e-14,
          -3.234990668686498e-14,
          -3.2306841499151597e-14,
          -3.226377631143821e-14,
          -3.222071112372483e-14,
          -3.217764593601145e-14,
          -3.213458074829806e-14,
          -3.209151556058468e-14,
          -3.20484503728713e-14,
          -3.200538518515792e-14,
          -3.1962319997444535e-14,
          -3.1919254809731154e-14,
          -3.1876189622017774e-14,
          -3.183312443430438e-14,
          -3.1790059246591e-14,
          -3.1746994058877614e-14,
          -3.1703928871164233e-14,
          -3.166086368345085e-14,
          -3.161779849573747e-14,
          -3.1574733308024086e-14,
          -3.1531668120310706e-14,
          -3.1488602932597325e-14,
          -3.144553774488394e-14,
          -3.140247255717056e-14,
          -3.135940736945718e-14,
          -3.13163421817438e-14,
          -3.127327699403041e-14,
          -3.123021180631703e-14,
          -3.118714661860365e-14,
          -3.1144081430890263e-14,
          -3.110101624317688e-14,
          -3.10579510554635e-14,
          -3.101488586775012e-14,
          -3.097182068003673e-14,
          -3.092875549232334e-14,
          -3.088569030460996e-14,
          -3.084262511689658e-14,
          -3.07995599291832e-14,
          -3.0756494741469815e-14,
          -3.0713429553756434e-14,
          -3.0670364366043054e-14,
          -3.0627299178329674e-14,
          -3.058423399061629e-14,
          -3.0541168802902907e-14,
          -3.0498103615189526e-14,
          -3.045503842747614e-14,
          -3.041197323976276e-14,
          -3.036890805204938e-14,
          -3.0325842864336e-14,
          -3.028277767662261e-14,
          -3.023971248890923e-14,
          -3.019664730119585e-14,
          -3.0153582113482464e-14,
          -3.011051692576908e-14,
          -3.006745173805569e-14,
          -3.002438655034231e-14,
          -2.998132136262893e-14,
          -2.9938256174915544e-14,
          -2.9895190987202163e-14,
          -2.985212579948878e-14,
          -2.98090606117754e-14,
          -2.9765995424062016e-14,
          -2.9722930236348635e-14,
          -2.9679865048635255e-14,
          -2.9636799860921875e-14,
          -2.959373467320849e-14,
          -2.955066948549511e-14,
          -2.950760429778173e-14,
          -2.946453911006834e-14,
          -2.942147392235496e-14,
          -2.937840873464158e-14,
          -2.93353435469282e-14,
          -2.929227835921481e-14,
          -2.924921317150142e-14,
          -2.920614798378804e-14,
          -2.916308279607466e-14,
          -2.912001760836128e-14,
          -2.907695242064789e-14,
          -2.903388723293451e-14,
          -2.899082204522113e-14,
          -2.8947756857507744e-14,
          -2.8904691669794364e-14,
          -2.8861626482080984e-14,
          -2.8818561294367603e-14,
          -2.8775496106654217e-14,
          -2.8732430918940836e-14,
          -2.8689365731227456e-14,
          -2.8646300543514076e-14,
          -2.860323535580069e-14,
          -2.856017016808731e-14,
          -2.851710498037393e-14,
          -2.847403979266054e-14,
          -2.843097460494716e-14,
          -2.838790941723377e-14,
          -2.8344844229520388e-14,
          -2.8301779041807004e-14,
          -2.8258713854093624e-14,
          -2.821564866638024e-14,
          -2.817258347866686e-14,
          -2.8129518290953476e-14,
          -2.8086453103240096e-14,
          -2.8043387915526712e-14,
          -2.8000322727813332e-14,
          -2.795725754009995e-14,
          -2.7914192352386565e-14,
          -2.7871127164673185e-14,
          -2.78280619769598e-14,
          -2.778499678924642e-14,
          -2.7741931601533037e-14,
          -2.7698866413819657e-14,
          -2.7655801226106273e-14,
          -2.761273603839289e-14,
          -2.756967085067951e-14,
          -2.7526605662966116e-14,
          -2.7483540475252736e-14
         ],
         "yaxis": "y"
        }
       ],
       "layout": {
        "legend": {
         "tracegroupgap": 0
        },
        "template": {
         "data": {
          "bar": [
           {
            "error_x": {
             "color": "rgb(36,36,36)"
            },
            "error_y": {
             "color": "rgb(36,36,36)"
            },
            "marker": {
             "line": {
              "color": "white",
              "width": 0.5
             },
             "pattern": {
              "fillmode": "overlay",
              "size": 10,
              "solidity": 0.2
             }
            },
            "type": "bar"
           }
          ],
          "barpolar": [
           {
            "marker": {
             "line": {
              "color": "white",
              "width": 0.5
             },
             "pattern": {
              "fillmode": "overlay",
              "size": 10,
              "solidity": 0.2
             }
            },
            "type": "barpolar"
           }
          ],
          "carpet": [
           {
            "aaxis": {
             "endlinecolor": "rgb(36,36,36)",
             "gridcolor": "white",
             "linecolor": "white",
             "minorgridcolor": "white",
             "startlinecolor": "rgb(36,36,36)"
            },
            "baxis": {
             "endlinecolor": "rgb(36,36,36)",
             "gridcolor": "white",
             "linecolor": "white",
             "minorgridcolor": "white",
             "startlinecolor": "rgb(36,36,36)"
            },
            "type": "carpet"
           }
          ],
          "choropleth": [
           {
            "colorbar": {
             "outlinewidth": 1,
             "tickcolor": "rgb(36,36,36)",
             "ticks": "outside"
            },
            "type": "choropleth"
           }
          ],
          "contour": [
           {
            "colorbar": {
             "outlinewidth": 1,
             "tickcolor": "rgb(36,36,36)",
             "ticks": "outside"
            },
            "colorscale": [
             [
              0,
              "#440154"
             ],
             [
              0.1111111111111111,
              "#482878"
             ],
             [
              0.2222222222222222,
              "#3e4989"
             ],
             [
              0.3333333333333333,
              "#31688e"
             ],
             [
              0.4444444444444444,
              "#26828e"
             ],
             [
              0.5555555555555556,
              "#1f9e89"
             ],
             [
              0.6666666666666666,
              "#35b779"
             ],
             [
              0.7777777777777778,
              "#6ece58"
             ],
             [
              0.8888888888888888,
              "#b5de2b"
             ],
             [
              1,
              "#fde725"
             ]
            ],
            "type": "contour"
           }
          ],
          "contourcarpet": [
           {
            "colorbar": {
             "outlinewidth": 1,
             "tickcolor": "rgb(36,36,36)",
             "ticks": "outside"
            },
            "type": "contourcarpet"
           }
          ],
          "heatmap": [
           {
            "colorbar": {
             "outlinewidth": 1,
             "tickcolor": "rgb(36,36,36)",
             "ticks": "outside"
            },
            "colorscale": [
             [
              0,
              "#440154"
             ],
             [
              0.1111111111111111,
              "#482878"
             ],
             [
              0.2222222222222222,
              "#3e4989"
             ],
             [
              0.3333333333333333,
              "#31688e"
             ],
             [
              0.4444444444444444,
              "#26828e"
             ],
             [
              0.5555555555555556,
              "#1f9e89"
             ],
             [
              0.6666666666666666,
              "#35b779"
             ],
             [
              0.7777777777777778,
              "#6ece58"
             ],
             [
              0.8888888888888888,
              "#b5de2b"
             ],
             [
              1,
              "#fde725"
             ]
            ],
            "type": "heatmap"
           }
          ],
          "heatmapgl": [
           {
            "colorbar": {
             "outlinewidth": 1,
             "tickcolor": "rgb(36,36,36)",
             "ticks": "outside"
            },
            "colorscale": [
             [
              0,
              "#440154"
             ],
             [
              0.1111111111111111,
              "#482878"
             ],
             [
              0.2222222222222222,
              "#3e4989"
             ],
             [
              0.3333333333333333,
              "#31688e"
             ],
             [
              0.4444444444444444,
              "#26828e"
             ],
             [
              0.5555555555555556,
              "#1f9e89"
             ],
             [
              0.6666666666666666,
              "#35b779"
             ],
             [
              0.7777777777777778,
              "#6ece58"
             ],
             [
              0.8888888888888888,
              "#b5de2b"
             ],
             [
              1,
              "#fde725"
             ]
            ],
            "type": "heatmapgl"
           }
          ],
          "histogram": [
           {
            "marker": {
             "line": {
              "color": "white",
              "width": 0.6
             }
            },
            "type": "histogram"
           }
          ],
          "histogram2d": [
           {
            "colorbar": {
             "outlinewidth": 1,
             "tickcolor": "rgb(36,36,36)",
             "ticks": "outside"
            },
            "colorscale": [
             [
              0,
              "#440154"
             ],
             [
              0.1111111111111111,
              "#482878"
             ],
             [
              0.2222222222222222,
              "#3e4989"
             ],
             [
              0.3333333333333333,
              "#31688e"
             ],
             [
              0.4444444444444444,
              "#26828e"
             ],
             [
              0.5555555555555556,
              "#1f9e89"
             ],
             [
              0.6666666666666666,
              "#35b779"
             ],
             [
              0.7777777777777778,
              "#6ece58"
             ],
             [
              0.8888888888888888,
              "#b5de2b"
             ],
             [
              1,
              "#fde725"
             ]
            ],
            "type": "histogram2d"
           }
          ],
          "histogram2dcontour": [
           {
            "colorbar": {
             "outlinewidth": 1,
             "tickcolor": "rgb(36,36,36)",
             "ticks": "outside"
            },
            "colorscale": [
             [
              0,
              "#440154"
             ],
             [
              0.1111111111111111,
              "#482878"
             ],
             [
              0.2222222222222222,
              "#3e4989"
             ],
             [
              0.3333333333333333,
              "#31688e"
             ],
             [
              0.4444444444444444,
              "#26828e"
             ],
             [
              0.5555555555555556,
              "#1f9e89"
             ],
             [
              0.6666666666666666,
              "#35b779"
             ],
             [
              0.7777777777777778,
              "#6ece58"
             ],
             [
              0.8888888888888888,
              "#b5de2b"
             ],
             [
              1,
              "#fde725"
             ]
            ],
            "type": "histogram2dcontour"
           }
          ],
          "mesh3d": [
           {
            "colorbar": {
             "outlinewidth": 1,
             "tickcolor": "rgb(36,36,36)",
             "ticks": "outside"
            },
            "type": "mesh3d"
           }
          ],
          "parcoords": [
           {
            "line": {
             "colorbar": {
              "outlinewidth": 1,
              "tickcolor": "rgb(36,36,36)",
              "ticks": "outside"
             }
            },
            "type": "parcoords"
           }
          ],
          "pie": [
           {
            "automargin": true,
            "type": "pie"
           }
          ],
          "scatter": [
           {
            "fillpattern": {
             "fillmode": "overlay",
             "size": 10,
             "solidity": 0.2
            },
            "type": "scatter"
           }
          ],
          "scatter3d": [
           {
            "line": {
             "colorbar": {
              "outlinewidth": 1,
              "tickcolor": "rgb(36,36,36)",
              "ticks": "outside"
             }
            },
            "marker": {
             "colorbar": {
              "outlinewidth": 1,
              "tickcolor": "rgb(36,36,36)",
              "ticks": "outside"
             }
            },
            "type": "scatter3d"
           }
          ],
          "scattercarpet": [
           {
            "marker": {
             "colorbar": {
              "outlinewidth": 1,
              "tickcolor": "rgb(36,36,36)",
              "ticks": "outside"
             }
            },
            "type": "scattercarpet"
           }
          ],
          "scattergeo": [
           {
            "marker": {
             "colorbar": {
              "outlinewidth": 1,
              "tickcolor": "rgb(36,36,36)",
              "ticks": "outside"
             }
            },
            "type": "scattergeo"
           }
          ],
          "scattergl": [
           {
            "marker": {
             "colorbar": {
              "outlinewidth": 1,
              "tickcolor": "rgb(36,36,36)",
              "ticks": "outside"
             }
            },
            "type": "scattergl"
           }
          ],
          "scattermapbox": [
           {
            "marker": {
             "colorbar": {
              "outlinewidth": 1,
              "tickcolor": "rgb(36,36,36)",
              "ticks": "outside"
             }
            },
            "type": "scattermapbox"
           }
          ],
          "scatterpolar": [
           {
            "marker": {
             "colorbar": {
              "outlinewidth": 1,
              "tickcolor": "rgb(36,36,36)",
              "ticks": "outside"
             }
            },
            "type": "scatterpolar"
           }
          ],
          "scatterpolargl": [
           {
            "marker": {
             "colorbar": {
              "outlinewidth": 1,
              "tickcolor": "rgb(36,36,36)",
              "ticks": "outside"
             }
            },
            "type": "scatterpolargl"
           }
          ],
          "scatterternary": [
           {
            "marker": {
             "colorbar": {
              "outlinewidth": 1,
              "tickcolor": "rgb(36,36,36)",
              "ticks": "outside"
             }
            },
            "type": "scatterternary"
           }
          ],
          "surface": [
           {
            "colorbar": {
             "outlinewidth": 1,
             "tickcolor": "rgb(36,36,36)",
             "ticks": "outside"
            },
            "colorscale": [
             [
              0,
              "#440154"
             ],
             [
              0.1111111111111111,
              "#482878"
             ],
             [
              0.2222222222222222,
              "#3e4989"
             ],
             [
              0.3333333333333333,
              "#31688e"
             ],
             [
              0.4444444444444444,
              "#26828e"
             ],
             [
              0.5555555555555556,
              "#1f9e89"
             ],
             [
              0.6666666666666666,
              "#35b779"
             ],
             [
              0.7777777777777778,
              "#6ece58"
             ],
             [
              0.8888888888888888,
              "#b5de2b"
             ],
             [
              1,
              "#fde725"
             ]
            ],
            "type": "surface"
           }
          ],
          "table": [
           {
            "cells": {
             "fill": {
              "color": "rgb(237,237,237)"
             },
             "line": {
              "color": "white"
             }
            },
            "header": {
             "fill": {
              "color": "rgb(217,217,217)"
             },
             "line": {
              "color": "white"
             }
            },
            "type": "table"
           }
          ]
         },
         "layout": {
          "annotationdefaults": {
           "arrowhead": 0,
           "arrowwidth": 1
          },
          "autosize": true,
          "autotypenumbers": "strict",
          "coloraxis": {
           "colorbar": {
            "outlinewidth": 1,
            "tickcolor": "rgb(36,36,36)",
            "ticks": "outside"
           }
          },
          "colorscale": {
           "diverging": [
            [
             0,
             "rgb(103,0,31)"
            ],
            [
             0.1,
             "rgb(178,24,43)"
            ],
            [
             0.2,
             "rgb(214,96,77)"
            ],
            [
             0.3,
             "rgb(244,165,130)"
            ],
            [
             0.4,
             "rgb(253,219,199)"
            ],
            [
             0.5,
             "rgb(247,247,247)"
            ],
            [
             0.6,
             "rgb(209,229,240)"
            ],
            [
             0.7,
             "rgb(146,197,222)"
            ],
            [
             0.8,
             "rgb(67,147,195)"
            ],
            [
             0.9,
             "rgb(33,102,172)"
            ],
            [
             1,
             "rgb(5,48,97)"
            ]
           ],
           "sequential": [
            [
             0,
             "#440154"
            ],
            [
             0.1111111111111111,
             "#482878"
            ],
            [
             0.2222222222222222,
             "#3e4989"
            ],
            [
             0.3333333333333333,
             "#31688e"
            ],
            [
             0.4444444444444444,
             "#26828e"
            ],
            [
             0.5555555555555556,
             "#1f9e89"
            ],
            [
             0.6666666666666666,
             "#35b779"
            ],
            [
             0.7777777777777778,
             "#6ece58"
            ],
            [
             0.8888888888888888,
             "#b5de2b"
            ],
            [
             1,
             "#fde725"
            ]
           ],
           "sequentialminus": [
            [
             0,
             "#440154"
            ],
            [
             0.1111111111111111,
             "#482878"
            ],
            [
             0.2222222222222222,
             "#3e4989"
            ],
            [
             0.3333333333333333,
             "#31688e"
            ],
            [
             0.4444444444444444,
             "#26828e"
            ],
            [
             0.5555555555555556,
             "#1f9e89"
            ],
            [
             0.6666666666666666,
             "#35b779"
            ],
            [
             0.7777777777777778,
             "#6ece58"
            ],
            [
             0.8888888888888888,
             "#b5de2b"
            ],
            [
             1,
             "#fde725"
            ]
           ]
          },
          "colorway": [
           "#1F77B4",
           "#FF7F0E",
           "#2CA02C",
           "#D62728",
           "#9467BD",
           "#8C564B",
           "#E377C2",
           "#7F7F7F",
           "#BCBD22",
           "#17BECF"
          ],
          "font": {
           "color": "rgb(36,36,36)"
          },
          "geo": {
           "bgcolor": "white",
           "lakecolor": "white",
           "landcolor": "white",
           "showlakes": true,
           "showland": true,
           "subunitcolor": "white"
          },
          "height": 400,
          "hoverlabel": {
           "align": "left"
          },
          "hovermode": "closest",
          "mapbox": {
           "style": "light"
          },
          "margin": {
           "b": 30,
           "l": 30,
           "r": 30,
           "t": 30
          },
          "paper_bgcolor": "white",
          "plot_bgcolor": "white",
          "polar": {
           "angularaxis": {
            "gridcolor": "rgb(232,232,232)",
            "linecolor": "rgb(36,36,36)",
            "showgrid": false,
            "showline": true,
            "ticks": "outside"
           },
           "bgcolor": "white",
           "radialaxis": {
            "gridcolor": "rgb(232,232,232)",
            "linecolor": "rgb(36,36,36)",
            "showgrid": false,
            "showline": true,
            "ticks": "outside"
           }
          },
          "scene": {
           "xaxis": {
            "backgroundcolor": "white",
            "gridcolor": "rgb(232,232,232)",
            "gridwidth": 2,
            "linecolor": "rgb(36,36,36)",
            "showbackground": true,
            "showgrid": false,
            "showline": true,
            "ticks": "outside",
            "zeroline": false,
            "zerolinecolor": "rgb(36,36,36)"
           },
           "yaxis": {
            "backgroundcolor": "white",
            "gridcolor": "rgb(232,232,232)",
            "gridwidth": 2,
            "linecolor": "rgb(36,36,36)",
            "showbackground": true,
            "showgrid": false,
            "showline": true,
            "ticks": "outside",
            "zeroline": false,
            "zerolinecolor": "rgb(36,36,36)"
           },
           "zaxis": {
            "backgroundcolor": "white",
            "gridcolor": "rgb(232,232,232)",
            "gridwidth": 2,
            "linecolor": "rgb(36,36,36)",
            "showbackground": true,
            "showgrid": false,
            "showline": true,
            "ticks": "outside",
            "zeroline": false,
            "zerolinecolor": "rgb(36,36,36)"
           }
          },
          "shapedefaults": {
           "fillcolor": "black",
           "line": {
            "width": 0
           },
           "opacity": 0.3
          },
          "ternary": {
           "aaxis": {
            "gridcolor": "rgb(232,232,232)",
            "linecolor": "rgb(36,36,36)",
            "showgrid": false,
            "showline": true,
            "ticks": "outside"
           },
           "baxis": {
            "gridcolor": "rgb(232,232,232)",
            "linecolor": "rgb(36,36,36)",
            "showgrid": false,
            "showline": true,
            "ticks": "outside"
           },
           "bgcolor": "white",
           "caxis": {
            "gridcolor": "rgb(232,232,232)",
            "linecolor": "rgb(36,36,36)",
            "showgrid": false,
            "showline": true,
            "ticks": "outside"
           }
          },
          "title": {
           "x": 0.5,
           "xanchor": "center"
          },
          "width": 600,
          "xaxis": {
           "automargin": true,
           "gridcolor": "rgb(232,232,232)",
           "linecolor": "rgb(36,36,36)",
           "showgrid": true,
           "showline": true,
           "ticks": "outside",
           "title": {
            "standoff": 15
           },
           "zeroline": false,
           "zerolinecolor": "rgb(36,36,36)"
          },
          "yaxis": {
           "automargin": true,
           "gridcolor": "rgb(232,232,232)",
           "linecolor": "rgb(36,36,36)",
           "showgrid": true,
           "showline": true,
           "ticks": "outside",
           "title": {
            "standoff": 15
           },
           "zeroline": false,
           "zerolinecolor": "rgb(36,36,36)"
          }
         }
        },
        "xaxis": {
         "anchor": "y",
         "domain": [
          0,
          1
         ],
         "title": {
          "text": "pred"
         }
        },
        "yaxis": {
         "anchor": "x",
         "domain": [
          0,
          1
         ],
         "title": {
          "text": "sqrt residuals"
         }
        }
       }
      }
     },
     "metadata": {},
     "output_type": "display_data"
    }
   ],
   "source": [
    "create_residual_plot(homeruns, 'Year', 'sqrt')"
   ]
  },
  {
   "cell_type": "code",
   "execution_count": 16,
   "id": "6942738d",
   "metadata": {},
   "outputs": [
    {
     "data": {
      "application/vnd.plotly.v1+json": {
       "config": {
        "plotlyServerURL": "https://plot.ly"
       },
       "data": [
        {
         "hovertemplate": "Year=%{x}<br>log=%{y}<extra></extra>",
         "legendgroup": "",
         "marker": {
          "color": "#1F77B4",
          "symbol": "circle"
         },
         "mode": "markers",
         "name": "",
         "orientation": "v",
         "showlegend": false,
         "type": "scatter",
         "x": [
          1900,
          1901,
          1902,
          1903,
          1904,
          1905,
          1906,
          1907,
          1908,
          1909,
          1910,
          1911,
          1912,
          1913,
          1914,
          1915,
          1916,
          1917,
          1918,
          1919,
          1920,
          1921,
          1922,
          1923,
          1924,
          1925,
          1926,
          1927,
          1928,
          1929,
          1930,
          1931,
          1932,
          1933,
          1934,
          1935,
          1936,
          1937,
          1938,
          1939,
          1940,
          1941,
          1942,
          1943,
          1944,
          1945,
          1946,
          1947,
          1948,
          1949,
          1950,
          1951,
          1952,
          1953,
          1954,
          1955,
          1956,
          1957,
          1958,
          1959,
          1960,
          1961,
          1962,
          1963,
          1964,
          1965,
          1966,
          1967,
          1968,
          1969,
          1970,
          1971,
          1972,
          1973,
          1974,
          1975,
          1976,
          1977,
          1978,
          1979,
          1980,
          1981,
          1982,
          1983,
          1984,
          1985,
          1986,
          1987,
          1988,
          1989,
          1990,
          1991,
          1992,
          1993,
          1994,
          1995,
          1996,
          1997,
          1998,
          1999,
          2000,
          2001,
          2002,
          2003,
          2004,
          2005,
          2006,
          2007,
          2008,
          2009,
          2010,
          2011,
          2012,
          2013,
          2014,
          2015,
          2016,
          2017,
          2018,
          2019
         ],
         "xaxis": "x",
         "y": [
          5.537334267018537,
          6.12029741895095,
          5.869296913133774,
          5.814130531825066,
          5.802118375377063,
          5.823045895483019,
          5.564520407322694,
          5.497168225293202,
          5.58724865840025,
          5.556828061699537,
          5.8888779583328805,
          6.2422232654551655,
          6.091309882077698,
          6.152732694704104,
          6.565264970035361,
          6.453624998892692,
          5.948034989180646,
          5.814130531825066,
          5.459585514144159,
          6.102558594613569,
          6.4457198193855785,
          6.842683282238422,
          6.961296045910167,
          6.887552571664617,
          6.79794041297493,
          7.063903961472068,
          6.760414691083428,
          6.826545223556594,
          6.996681488176539,
          7.207118856207756,
          7.355641102974253,
          6.974478911025045,
          7.213768308118642,
          6.9726062513017535,
          7.203405521083095,
          7.1891677384203225,
          7.218176838403408,
          7.265429723253953,
          7.29641326877392,
          7.275864600546533,
          7.359467638255621,
          7.193685818395112,
          6.976348070447749,
          6.807934943699926,
          6.9411900550683745,
          6.914730892718563,
          7.102499355774649,
          7.355641102974253,
          7.349230824613334,
          7.440733707389261,
          7.636752112435779,
          7.529943370601589,
          7.438971592395862,
          7.638198244285779,
          7.5688956634069955,
          7.707062655370473,
          7.738052297689316,
          7.697121317282625,
          7.7142311448490855,
          7.718685495198466,
          7.662937850461535,
          7.912056888179006,
          8.006700845440367,
          7.902487437162855,
          7.923710333969238,
          7.89655270164304,
          7.916807490937603,
          7.740229524763182,
          7.598399329323964,
          8.045267716607803,
          8.14002395246292,
          7.959625305098115,
          7.837554360881084,
          8.039802343736485,
          7.88193748927207,
          7.900266036767701,
          7.711996507047669,
          8.200837258379849,
          7.991592282068092,
          8.141189793457691,
          8.034955024502159,
          7.484930283289661,
          8.12533508671429,
          8.101980731853192,
          8.08886878916199,
          8.189244525735901,
          8.246171559857563,
          8.402455513945814,
          8.064636475774222,
          8.03365842788615,
          8.106816038947052,
          8.12651816878071,
          8.018954683155718,
          8.301521654940728,
          8.10349427838097,
          8.314097335405807,
          8.509564164251746,
          8.442469645220301,
          8.529911963824013,
          8.617581365447506,
          8.646992628951082,
          8.604837701268284,
          8.528924114291936,
          8.557759153162898,
          8.603554357064281,
          8.520587424484253,
          8.591558273371545,
          8.508555998020574,
          8.492490578775866,
          8.525558107747866,
          8.43663368355782,
          8.423321975806166,
          8.503905297089302,
          8.446985296372741,
          8.339500903005945,
          8.498825534058053,
          8.632305998516742,
          8.716863386544805,
          8.6278397115033,
          8.821142236331891
         ],
         "yaxis": "y"
        }
       ],
       "layout": {
        "legend": {
         "tracegroupgap": 0
        },
        "template": {
         "data": {
          "bar": [
           {
            "error_x": {
             "color": "rgb(36,36,36)"
            },
            "error_y": {
             "color": "rgb(36,36,36)"
            },
            "marker": {
             "line": {
              "color": "white",
              "width": 0.5
             },
             "pattern": {
              "fillmode": "overlay",
              "size": 10,
              "solidity": 0.2
             }
            },
            "type": "bar"
           }
          ],
          "barpolar": [
           {
            "marker": {
             "line": {
              "color": "white",
              "width": 0.5
             },
             "pattern": {
              "fillmode": "overlay",
              "size": 10,
              "solidity": 0.2
             }
            },
            "type": "barpolar"
           }
          ],
          "carpet": [
           {
            "aaxis": {
             "endlinecolor": "rgb(36,36,36)",
             "gridcolor": "white",
             "linecolor": "white",
             "minorgridcolor": "white",
             "startlinecolor": "rgb(36,36,36)"
            },
            "baxis": {
             "endlinecolor": "rgb(36,36,36)",
             "gridcolor": "white",
             "linecolor": "white",
             "minorgridcolor": "white",
             "startlinecolor": "rgb(36,36,36)"
            },
            "type": "carpet"
           }
          ],
          "choropleth": [
           {
            "colorbar": {
             "outlinewidth": 1,
             "tickcolor": "rgb(36,36,36)",
             "ticks": "outside"
            },
            "type": "choropleth"
           }
          ],
          "contour": [
           {
            "colorbar": {
             "outlinewidth": 1,
             "tickcolor": "rgb(36,36,36)",
             "ticks": "outside"
            },
            "colorscale": [
             [
              0,
              "#440154"
             ],
             [
              0.1111111111111111,
              "#482878"
             ],
             [
              0.2222222222222222,
              "#3e4989"
             ],
             [
              0.3333333333333333,
              "#31688e"
             ],
             [
              0.4444444444444444,
              "#26828e"
             ],
             [
              0.5555555555555556,
              "#1f9e89"
             ],
             [
              0.6666666666666666,
              "#35b779"
             ],
             [
              0.7777777777777778,
              "#6ece58"
             ],
             [
              0.8888888888888888,
              "#b5de2b"
             ],
             [
              1,
              "#fde725"
             ]
            ],
            "type": "contour"
           }
          ],
          "contourcarpet": [
           {
            "colorbar": {
             "outlinewidth": 1,
             "tickcolor": "rgb(36,36,36)",
             "ticks": "outside"
            },
            "type": "contourcarpet"
           }
          ],
          "heatmap": [
           {
            "colorbar": {
             "outlinewidth": 1,
             "tickcolor": "rgb(36,36,36)",
             "ticks": "outside"
            },
            "colorscale": [
             [
              0,
              "#440154"
             ],
             [
              0.1111111111111111,
              "#482878"
             ],
             [
              0.2222222222222222,
              "#3e4989"
             ],
             [
              0.3333333333333333,
              "#31688e"
             ],
             [
              0.4444444444444444,
              "#26828e"
             ],
             [
              0.5555555555555556,
              "#1f9e89"
             ],
             [
              0.6666666666666666,
              "#35b779"
             ],
             [
              0.7777777777777778,
              "#6ece58"
             ],
             [
              0.8888888888888888,
              "#b5de2b"
             ],
             [
              1,
              "#fde725"
             ]
            ],
            "type": "heatmap"
           }
          ],
          "heatmapgl": [
           {
            "colorbar": {
             "outlinewidth": 1,
             "tickcolor": "rgb(36,36,36)",
             "ticks": "outside"
            },
            "colorscale": [
             [
              0,
              "#440154"
             ],
             [
              0.1111111111111111,
              "#482878"
             ],
             [
              0.2222222222222222,
              "#3e4989"
             ],
             [
              0.3333333333333333,
              "#31688e"
             ],
             [
              0.4444444444444444,
              "#26828e"
             ],
             [
              0.5555555555555556,
              "#1f9e89"
             ],
             [
              0.6666666666666666,
              "#35b779"
             ],
             [
              0.7777777777777778,
              "#6ece58"
             ],
             [
              0.8888888888888888,
              "#b5de2b"
             ],
             [
              1,
              "#fde725"
             ]
            ],
            "type": "heatmapgl"
           }
          ],
          "histogram": [
           {
            "marker": {
             "line": {
              "color": "white",
              "width": 0.6
             }
            },
            "type": "histogram"
           }
          ],
          "histogram2d": [
           {
            "colorbar": {
             "outlinewidth": 1,
             "tickcolor": "rgb(36,36,36)",
             "ticks": "outside"
            },
            "colorscale": [
             [
              0,
              "#440154"
             ],
             [
              0.1111111111111111,
              "#482878"
             ],
             [
              0.2222222222222222,
              "#3e4989"
             ],
             [
              0.3333333333333333,
              "#31688e"
             ],
             [
              0.4444444444444444,
              "#26828e"
             ],
             [
              0.5555555555555556,
              "#1f9e89"
             ],
             [
              0.6666666666666666,
              "#35b779"
             ],
             [
              0.7777777777777778,
              "#6ece58"
             ],
             [
              0.8888888888888888,
              "#b5de2b"
             ],
             [
              1,
              "#fde725"
             ]
            ],
            "type": "histogram2d"
           }
          ],
          "histogram2dcontour": [
           {
            "colorbar": {
             "outlinewidth": 1,
             "tickcolor": "rgb(36,36,36)",
             "ticks": "outside"
            },
            "colorscale": [
             [
              0,
              "#440154"
             ],
             [
              0.1111111111111111,
              "#482878"
             ],
             [
              0.2222222222222222,
              "#3e4989"
             ],
             [
              0.3333333333333333,
              "#31688e"
             ],
             [
              0.4444444444444444,
              "#26828e"
             ],
             [
              0.5555555555555556,
              "#1f9e89"
             ],
             [
              0.6666666666666666,
              "#35b779"
             ],
             [
              0.7777777777777778,
              "#6ece58"
             ],
             [
              0.8888888888888888,
              "#b5de2b"
             ],
             [
              1,
              "#fde725"
             ]
            ],
            "type": "histogram2dcontour"
           }
          ],
          "mesh3d": [
           {
            "colorbar": {
             "outlinewidth": 1,
             "tickcolor": "rgb(36,36,36)",
             "ticks": "outside"
            },
            "type": "mesh3d"
           }
          ],
          "parcoords": [
           {
            "line": {
             "colorbar": {
              "outlinewidth": 1,
              "tickcolor": "rgb(36,36,36)",
              "ticks": "outside"
             }
            },
            "type": "parcoords"
           }
          ],
          "pie": [
           {
            "automargin": true,
            "type": "pie"
           }
          ],
          "scatter": [
           {
            "fillpattern": {
             "fillmode": "overlay",
             "size": 10,
             "solidity": 0.2
            },
            "type": "scatter"
           }
          ],
          "scatter3d": [
           {
            "line": {
             "colorbar": {
              "outlinewidth": 1,
              "tickcolor": "rgb(36,36,36)",
              "ticks": "outside"
             }
            },
            "marker": {
             "colorbar": {
              "outlinewidth": 1,
              "tickcolor": "rgb(36,36,36)",
              "ticks": "outside"
             }
            },
            "type": "scatter3d"
           }
          ],
          "scattercarpet": [
           {
            "marker": {
             "colorbar": {
              "outlinewidth": 1,
              "tickcolor": "rgb(36,36,36)",
              "ticks": "outside"
             }
            },
            "type": "scattercarpet"
           }
          ],
          "scattergeo": [
           {
            "marker": {
             "colorbar": {
              "outlinewidth": 1,
              "tickcolor": "rgb(36,36,36)",
              "ticks": "outside"
             }
            },
            "type": "scattergeo"
           }
          ],
          "scattergl": [
           {
            "marker": {
             "colorbar": {
              "outlinewidth": 1,
              "tickcolor": "rgb(36,36,36)",
              "ticks": "outside"
             }
            },
            "type": "scattergl"
           }
          ],
          "scattermapbox": [
           {
            "marker": {
             "colorbar": {
              "outlinewidth": 1,
              "tickcolor": "rgb(36,36,36)",
              "ticks": "outside"
             }
            },
            "type": "scattermapbox"
           }
          ],
          "scatterpolar": [
           {
            "marker": {
             "colorbar": {
              "outlinewidth": 1,
              "tickcolor": "rgb(36,36,36)",
              "ticks": "outside"
             }
            },
            "type": "scatterpolar"
           }
          ],
          "scatterpolargl": [
           {
            "marker": {
             "colorbar": {
              "outlinewidth": 1,
              "tickcolor": "rgb(36,36,36)",
              "ticks": "outside"
             }
            },
            "type": "scatterpolargl"
           }
          ],
          "scatterternary": [
           {
            "marker": {
             "colorbar": {
              "outlinewidth": 1,
              "tickcolor": "rgb(36,36,36)",
              "ticks": "outside"
             }
            },
            "type": "scatterternary"
           }
          ],
          "surface": [
           {
            "colorbar": {
             "outlinewidth": 1,
             "tickcolor": "rgb(36,36,36)",
             "ticks": "outside"
            },
            "colorscale": [
             [
              0,
              "#440154"
             ],
             [
              0.1111111111111111,
              "#482878"
             ],
             [
              0.2222222222222222,
              "#3e4989"
             ],
             [
              0.3333333333333333,
              "#31688e"
             ],
             [
              0.4444444444444444,
              "#26828e"
             ],
             [
              0.5555555555555556,
              "#1f9e89"
             ],
             [
              0.6666666666666666,
              "#35b779"
             ],
             [
              0.7777777777777778,
              "#6ece58"
             ],
             [
              0.8888888888888888,
              "#b5de2b"
             ],
             [
              1,
              "#fde725"
             ]
            ],
            "type": "surface"
           }
          ],
          "table": [
           {
            "cells": {
             "fill": {
              "color": "rgb(237,237,237)"
             },
             "line": {
              "color": "white"
             }
            },
            "header": {
             "fill": {
              "color": "rgb(217,217,217)"
             },
             "line": {
              "color": "white"
             }
            },
            "type": "table"
           }
          ]
         },
         "layout": {
          "annotationdefaults": {
           "arrowhead": 0,
           "arrowwidth": 1
          },
          "autosize": true,
          "autotypenumbers": "strict",
          "coloraxis": {
           "colorbar": {
            "outlinewidth": 1,
            "tickcolor": "rgb(36,36,36)",
            "ticks": "outside"
           }
          },
          "colorscale": {
           "diverging": [
            [
             0,
             "rgb(103,0,31)"
            ],
            [
             0.1,
             "rgb(178,24,43)"
            ],
            [
             0.2,
             "rgb(214,96,77)"
            ],
            [
             0.3,
             "rgb(244,165,130)"
            ],
            [
             0.4,
             "rgb(253,219,199)"
            ],
            [
             0.5,
             "rgb(247,247,247)"
            ],
            [
             0.6,
             "rgb(209,229,240)"
            ],
            [
             0.7,
             "rgb(146,197,222)"
            ],
            [
             0.8,
             "rgb(67,147,195)"
            ],
            [
             0.9,
             "rgb(33,102,172)"
            ],
            [
             1,
             "rgb(5,48,97)"
            ]
           ],
           "sequential": [
            [
             0,
             "#440154"
            ],
            [
             0.1111111111111111,
             "#482878"
            ],
            [
             0.2222222222222222,
             "#3e4989"
            ],
            [
             0.3333333333333333,
             "#31688e"
            ],
            [
             0.4444444444444444,
             "#26828e"
            ],
            [
             0.5555555555555556,
             "#1f9e89"
            ],
            [
             0.6666666666666666,
             "#35b779"
            ],
            [
             0.7777777777777778,
             "#6ece58"
            ],
            [
             0.8888888888888888,
             "#b5de2b"
            ],
            [
             1,
             "#fde725"
            ]
           ],
           "sequentialminus": [
            [
             0,
             "#440154"
            ],
            [
             0.1111111111111111,
             "#482878"
            ],
            [
             0.2222222222222222,
             "#3e4989"
            ],
            [
             0.3333333333333333,
             "#31688e"
            ],
            [
             0.4444444444444444,
             "#26828e"
            ],
            [
             0.5555555555555556,
             "#1f9e89"
            ],
            [
             0.6666666666666666,
             "#35b779"
            ],
            [
             0.7777777777777778,
             "#6ece58"
            ],
            [
             0.8888888888888888,
             "#b5de2b"
            ],
            [
             1,
             "#fde725"
            ]
           ]
          },
          "colorway": [
           "#1F77B4",
           "#FF7F0E",
           "#2CA02C",
           "#D62728",
           "#9467BD",
           "#8C564B",
           "#E377C2",
           "#7F7F7F",
           "#BCBD22",
           "#17BECF"
          ],
          "font": {
           "color": "rgb(36,36,36)"
          },
          "geo": {
           "bgcolor": "white",
           "lakecolor": "white",
           "landcolor": "white",
           "showlakes": true,
           "showland": true,
           "subunitcolor": "white"
          },
          "height": 400,
          "hoverlabel": {
           "align": "left"
          },
          "hovermode": "closest",
          "mapbox": {
           "style": "light"
          },
          "margin": {
           "b": 30,
           "l": 30,
           "r": 30,
           "t": 30
          },
          "paper_bgcolor": "white",
          "plot_bgcolor": "white",
          "polar": {
           "angularaxis": {
            "gridcolor": "rgb(232,232,232)",
            "linecolor": "rgb(36,36,36)",
            "showgrid": false,
            "showline": true,
            "ticks": "outside"
           },
           "bgcolor": "white",
           "radialaxis": {
            "gridcolor": "rgb(232,232,232)",
            "linecolor": "rgb(36,36,36)",
            "showgrid": false,
            "showline": true,
            "ticks": "outside"
           }
          },
          "scene": {
           "xaxis": {
            "backgroundcolor": "white",
            "gridcolor": "rgb(232,232,232)",
            "gridwidth": 2,
            "linecolor": "rgb(36,36,36)",
            "showbackground": true,
            "showgrid": false,
            "showline": true,
            "ticks": "outside",
            "zeroline": false,
            "zerolinecolor": "rgb(36,36,36)"
           },
           "yaxis": {
            "backgroundcolor": "white",
            "gridcolor": "rgb(232,232,232)",
            "gridwidth": 2,
            "linecolor": "rgb(36,36,36)",
            "showbackground": true,
            "showgrid": false,
            "showline": true,
            "ticks": "outside",
            "zeroline": false,
            "zerolinecolor": "rgb(36,36,36)"
           },
           "zaxis": {
            "backgroundcolor": "white",
            "gridcolor": "rgb(232,232,232)",
            "gridwidth": 2,
            "linecolor": "rgb(36,36,36)",
            "showbackground": true,
            "showgrid": false,
            "showline": true,
            "ticks": "outside",
            "zeroline": false,
            "zerolinecolor": "rgb(36,36,36)"
           }
          },
          "shapedefaults": {
           "fillcolor": "black",
           "line": {
            "width": 0
           },
           "opacity": 0.3
          },
          "ternary": {
           "aaxis": {
            "gridcolor": "rgb(232,232,232)",
            "linecolor": "rgb(36,36,36)",
            "showgrid": false,
            "showline": true,
            "ticks": "outside"
           },
           "baxis": {
            "gridcolor": "rgb(232,232,232)",
            "linecolor": "rgb(36,36,36)",
            "showgrid": false,
            "showline": true,
            "ticks": "outside"
           },
           "bgcolor": "white",
           "caxis": {
            "gridcolor": "rgb(232,232,232)",
            "linecolor": "rgb(36,36,36)",
            "showgrid": false,
            "showline": true,
            "ticks": "outside"
           }
          },
          "title": {
           "x": 0.5,
           "xanchor": "center"
          },
          "width": 600,
          "xaxis": {
           "automargin": true,
           "gridcolor": "rgb(232,232,232)",
           "linecolor": "rgb(36,36,36)",
           "showgrid": true,
           "showline": true,
           "ticks": "outside",
           "title": {
            "standoff": 15
           },
           "zeroline": false,
           "zerolinecolor": "rgb(36,36,36)"
          },
          "yaxis": {
           "automargin": true,
           "gridcolor": "rgb(232,232,232)",
           "linecolor": "rgb(36,36,36)",
           "showgrid": true,
           "showline": true,
           "ticks": "outside",
           "title": {
            "standoff": 15
           },
           "zeroline": false,
           "zerolinecolor": "rgb(36,36,36)"
          }
         }
        },
        "xaxis": {
         "anchor": "y",
         "domain": [
          0,
          1
         ],
         "title": {
          "text": "Year"
         }
        },
        "yaxis": {
         "anchor": "x",
         "domain": [
          0,
          1
         ],
         "title": {
          "text": "log"
         }
        }
       }
      }
     },
     "metadata": {},
     "output_type": "display_data"
    }
   ],
   "source": [
    "homeruns.plot(kind='scatter', x='Year', y='log')"
   ]
  },
  {
   "cell_type": "code",
   "execution_count": 17,
   "id": "c47bd7f4",
   "metadata": {},
   "outputs": [
    {
     "data": {
      "application/vnd.plotly.v1+json": {
       "config": {
        "plotlyServerURL": "https://plot.ly"
       },
       "data": [
        {
         "hovertemplate": "pred=%{x}<br>log residuals=%{y}<extra></extra>",
         "legendgroup": "",
         "marker": {
          "color": "#1F77B4",
          "symbol": "circle"
         },
         "mode": "markers",
         "name": "",
         "orientation": "v",
         "showlegend": false,
         "type": "scatter",
         "x": [
          6.033241867461591,
          6.057859063050174,
          6.082476258638756,
          6.107093454227332,
          6.131710649815915,
          6.1563278454044905,
          6.180945040993073,
          6.205562236581649,
          6.230179432170232,
          6.2547966277588145,
          6.27941382334739,
          6.304031018935973,
          6.328648214524549,
          6.353265410113131,
          6.377882605701707,
          6.40249980129029,
          6.427116996878873,
          6.451734192467448,
          6.476351388056031,
          6.500968583644607,
          6.5255857792331895,
          6.550202974821765,
          6.574820170410348,
          6.599437365998931,
          6.624054561587506,
          6.648671757176089,
          6.673288952764665,
          6.697906148353248,
          6.722523343941823,
          6.747140539530406,
          6.771757735118989,
          6.7963749307075645,
          6.820992126296147,
          6.845609321884723,
          6.870226517473306,
          6.894843713061881,
          6.919460908650464,
          6.944078104239047,
          6.968695299827623,
          6.993312495416205,
          7.017929691004781,
          7.042546886593364,
          7.0671640821819395,
          7.091781277770522,
          7.116398473359105,
          7.141015668947681,
          7.1656328645362635,
          7.190250060124839,
          7.214867255713422,
          7.239484451301998,
          7.26410164689058,
          7.288718842479163,
          7.313336038067739,
          7.337953233656322,
          7.362570429244897,
          7.38718762483348,
          7.411804820422056,
          7.4364220160106385,
          7.461039211599221,
          7.485656407187797,
          7.51027360277638,
          7.534890798364955,
          7.559507993953538,
          7.584125189542114,
          7.608742385130697,
          7.633359580719279,
          7.657976776307855,
          7.682593971896438,
          7.7072111674850134,
          7.731828363073596,
          7.756445558662172,
          7.781062754250755,
          7.805679949839337,
          7.830297145427913,
          7.854914341016496,
          7.8795315366050716,
          7.904148732193654,
          7.92876592778223,
          7.953383123370813,
          7.9780003189593955,
          8.002617514547971,
          8.027234710136554,
          8.05185190572513,
          8.076469101313712,
          8.101086296902288,
          8.12570349249087,
          8.150320688079454,
          8.17493788366803,
          8.199555079256612,
          8.224172274845188,
          8.24878947043377,
          8.273406666022346,
          8.298023861610929,
          8.322641057199512,
          8.347258252788087,
          8.37187544837667,
          8.396492643965246,
          8.421109839553829,
          8.445727035142404,
          8.470344230730987,
          8.49496142631957,
          8.519578621908146,
          8.544195817496728,
          8.568813013085304,
          8.593430208673887,
          8.618047404262462,
          8.642664599851045,
          8.667281795439628,
          8.691898991028204,
          8.716516186616786,
          8.741133382205362,
          8.765750577793945,
          8.79036777338252,
          8.814984968971103,
          8.839602164559686,
          8.864219360148262,
          8.888836555736845,
          8.91345375132542,
          8.938070946914003,
          8.962688142502579
         ],
         "xaxis": "x",
         "y": [
          -0.49590760044305426,
          0.06243835590077662,
          -0.2131793455049822,
          -0.29296292240226585,
          -0.329592274438852,
          -0.33328194992147164,
          -0.6164246336703796,
          -0.7083940112884468,
          -0.6429307737699821,
          -0.6979685660592772,
          -0.39053586501450965,
          -0.06180775348080747,
          -0.23733833244685076,
          -0.20053271540902706,
          0.1873823643336543,
          0.05112519760240186,
          -0.47908200769822695,
          -0.637603660642382,
          -1.0167658739118721,
          -0.3984099890310375,
          -0.07986595984761102,
          0.29248030741665687,
          0.3864758754998192,
          0.2881152056656866,
          0.17388585138742396,
          0.41523220429597885,
          0.08712573831876291,
          0.1286390752033464,
          0.27415814423471563,
          0.4599783166773497,
          0.5838833678552646,
          0.17810398031748065,
          0.3927761818224944,
          0.12699692941703056,
          0.33317900360978925,
          0.29432402535844115,
          0.2987159297529436,
          0.32135161901490594,
          0.32771796894629723,
          0.28255210513032747,
          0.3415379472508402,
          0.1511389318017482,
          -0.09081601173419074,
          -0.28384633407059656,
          -0.17520841829073053,
          -0.22628477622911802,
          -0.06313350876161472,
          0.1653910428494143,
          0.13436356889991252,
          0.20124925608726318,
          0.372650465545199,
          0.24122452812242567,
          0.1256355543281229,
          0.30024501062945763,
          0.20632523416209825,
          0.31987503053699307,
          0.3262474772672599,
          0.2606993012719867,
          0.2531919332498642,
          0.23302908801066913,
          0.15266424768515563,
          0.3771660898140503,
          0.44719285148682886,
          0.3183622476207413,
          0.3149679488385413,
          0.263193120923761,
          0.25883071462974794,
          0.05763555286674382,
          -0.10881183816104922,
          0.31343935353420704,
          0.38357839380074843,
          0.17856255084736006,
          0.0318744110417466,
          0.2095051983085714,
          0.027023148255573837,
          0.020734500162629566,
          -0.1921522251459855,
          0.272071330597619,
          0.03820915869727948,
          0.1631894744982958,
          0.03233750995418738,
          -0.5423044268468926,
          0.07348318098916096,
          0.025511630539480024,
          -0.012217507740297506,
          0.06354103324503058,
          0.09585087177810969,
          0.22751763027778438,
          -0.13491860348239015,
          -0.19051384695903728,
          -0.14197343148671848,
          -0.14688849724163688,
          -0.2790691784552113,
          -0.021119402258783282,
          -0.24376397440711806,
          -0.05777811297086366,
          0.1130715202864998,
          0.021359805666472553,
          0.08418492868160854,
          0.14723713471651934,
          0.15203120263151249,
          0.08525907936013866,
          -0.01527170320479243,
          -0.011053859922405707,
          0.010124148390394438,
          -0.09745997977820942,
          -0.0511063264795002,
          -0.1587257974190539,
          -0.19940841225233719,
          -0.19095807886892047,
          -0.30449969864754145,
          -0.3424286019877787,
          -0.2864624762932184,
          -0.3679996725983621,
          -0.5001012615537412,
          -0.36539382609020876,
          -0.25653055722010265,
          -0.1965903647806151,
          -0.3102312354107024,
          -0.14154590617068763
         ],
         "yaxis": "y"
        },
        {
         "hovertemplate": "<b>OLS trendline</b><br>log residuals = -4.16334e-16 * pred + 1.92901e-15<br>R<sup>2</sup>=0.000000<br><br>pred=%{x}<br>log residuals=%{y} <b>(trend)</b><extra></extra>",
         "legendgroup": "",
         "line": {
          "color": "red"
         },
         "marker": {
          "color": "#1F77B4",
          "symbol": "circle"
         },
         "mode": "lines",
         "name": "",
         "showlegend": false,
         "type": "scatter",
         "x": [
          6.033241867461591,
          6.057859063050174,
          6.082476258638756,
          6.107093454227332,
          6.131710649815915,
          6.1563278454044905,
          6.180945040993073,
          6.205562236581649,
          6.230179432170232,
          6.2547966277588145,
          6.27941382334739,
          6.304031018935973,
          6.328648214524549,
          6.353265410113131,
          6.377882605701707,
          6.40249980129029,
          6.427116996878873,
          6.451734192467448,
          6.476351388056031,
          6.500968583644607,
          6.5255857792331895,
          6.550202974821765,
          6.574820170410348,
          6.599437365998931,
          6.624054561587506,
          6.648671757176089,
          6.673288952764665,
          6.697906148353248,
          6.722523343941823,
          6.747140539530406,
          6.771757735118989,
          6.7963749307075645,
          6.820992126296147,
          6.845609321884723,
          6.870226517473306,
          6.894843713061881,
          6.919460908650464,
          6.944078104239047,
          6.968695299827623,
          6.993312495416205,
          7.017929691004781,
          7.042546886593364,
          7.0671640821819395,
          7.091781277770522,
          7.116398473359105,
          7.141015668947681,
          7.1656328645362635,
          7.190250060124839,
          7.214867255713422,
          7.239484451301998,
          7.26410164689058,
          7.288718842479163,
          7.313336038067739,
          7.337953233656322,
          7.362570429244897,
          7.38718762483348,
          7.411804820422056,
          7.4364220160106385,
          7.461039211599221,
          7.485656407187797,
          7.51027360277638,
          7.534890798364955,
          7.559507993953538,
          7.584125189542114,
          7.608742385130697,
          7.633359580719279,
          7.657976776307855,
          7.682593971896438,
          7.7072111674850134,
          7.731828363073596,
          7.756445558662172,
          7.781062754250755,
          7.805679949839337,
          7.830297145427913,
          7.854914341016496,
          7.8795315366050716,
          7.904148732193654,
          7.92876592778223,
          7.953383123370813,
          7.9780003189593955,
          8.002617514547971,
          8.027234710136554,
          8.05185190572513,
          8.076469101313712,
          8.101086296902288,
          8.12570349249087,
          8.150320688079454,
          8.17493788366803,
          8.199555079256612,
          8.224172274845188,
          8.24878947043377,
          8.273406666022346,
          8.298023861610929,
          8.322641057199512,
          8.347258252788087,
          8.37187544837667,
          8.396492643965246,
          8.421109839553829,
          8.445727035142404,
          8.470344230730987,
          8.49496142631957,
          8.519578621908146,
          8.544195817496728,
          8.568813013085304,
          8.593430208673887,
          8.618047404262462,
          8.642664599851045,
          8.667281795439628,
          8.691898991028204,
          8.716516186616786,
          8.741133382205362,
          8.765750577793945,
          8.79036777338252,
          8.814984968971103,
          8.839602164559686,
          8.864219360148262,
          8.888836555736845,
          8.91345375132542,
          8.938070946914003,
          8.962688142502579
         ],
         "xaxis": "x",
         "y": [
          -5.828290076094162e-16,
          -5.930779741134708e-16,
          -6.033269406175253e-16,
          -6.135759071215769e-16,
          -6.238248736256314e-16,
          -6.34073840129683e-16,
          -6.443228066337375e-16,
          -6.545717731377891e-16,
          -6.648207396418436e-16,
          -6.750697061458982e-16,
          -6.853186726499497e-16,
          -6.955676391540043e-16,
          -7.058166056580559e-16,
          -7.160655721621104e-16,
          -7.26314538666162e-16,
          -7.365635051702165e-16,
          -7.46812471674271e-16,
          -7.570614381783226e-16,
          -7.673104046823772e-16,
          -7.775593711864287e-16,
          -7.878083376904833e-16,
          -7.980573041945348e-16,
          -8.083062706985894e-16,
          -8.185552372026439e-16,
          -8.288042037066955e-16,
          -8.3905317021075e-16,
          -8.493021367148016e-16,
          -8.595511032188561e-16,
          -8.698000697229077e-16,
          -8.800490362269623e-16,
          -8.902980027310168e-16,
          -9.005469692350684e-16,
          -9.107959357391229e-16,
          -9.210449022431745e-16,
          -9.31293868747229e-16,
          -9.415428352512806e-16,
          -9.517918017553351e-16,
          -9.620407682593897e-16,
          -9.722897347634412e-16,
          -9.825387012674958e-16,
          -9.927876677715474e-16,
          -1.0030366342756019e-15,
          -1.0132856007796535e-15,
          -1.023534567283708e-15,
          -1.0337835337877625e-15,
          -1.0440325002918141e-15,
          -1.0542814667958687e-15,
          -1.0645304332999202e-15,
          -1.0747793998039748e-15,
          -1.0850283663080263e-15,
          -1.0952773328120809e-15,
          -1.1055262993161354e-15,
          -1.115775265820187e-15,
          -1.1260242323242415e-15,
          -1.1362731988282931e-15,
          -1.1465221653323476e-15,
          -1.1567711318363992e-15,
          -1.1670200983404538e-15,
          -1.1772690648445083e-15,
          -1.1875180313485599e-15,
          -1.1977669978526144e-15,
          -1.208015964356666e-15,
          -1.2182649308607205e-15,
          -1.228513897364772e-15,
          -1.2387628638688266e-15,
          -1.2490118303728812e-15,
          -1.2592607968769327e-15,
          -1.2695097633809873e-15,
          -1.2797587298850389e-15,
          -1.2900076963890934e-15,
          -1.300256662893145e-15,
          -1.3105056293971995e-15,
          -1.320754595901254e-15,
          -1.3310035624053056e-15,
          -1.3412525289093601e-15,
          -1.3515014954134117e-15,
          -1.3617504619174663e-15,
          -1.3719994284215178e-15,
          -1.3822483949255724e-15,
          -1.392497361429627e-15,
          -1.4027463279336785e-15,
          -1.412995294437733e-15,
          -1.4232442609417846e-15,
          -1.4334932274458391e-15,
          -1.4437421939498907e-15,
          -1.4539911604539452e-15,
          -1.4642401269579998e-15,
          -1.4744890934620514e-15,
          -1.4847380599661059e-15,
          -1.4949870264701575e-15,
          -1.505235992974212e-15,
          -1.5154849594782636e-15,
          -1.5257339259823181e-15,
          -1.5359828924863727e-15,
          -1.5462318589904242e-15,
          -1.5564808254944788e-15,
          -1.5667297919985303e-15,
          -1.5769787585025849e-15,
          -1.5872277250066365e-15,
          -1.597476691510691e-15,
          -1.6077256580147455e-15,
          -1.6179746245187971e-15,
          -1.6282235910228516e-15,
          -1.6384725575269032e-15,
          -1.6487215240309578e-15,
          -1.6589704905350093e-15,
          -1.6692194570390639e-15,
          -1.6794684235431184e-15,
          -1.68971739004717e-15,
          -1.6999663565512245e-15,
          -1.7102153230552761e-15,
          -1.7204642895593306e-15,
          -1.7307132560633822e-15,
          -1.7409622225674367e-15,
          -1.7512111890714913e-15,
          -1.7614601555755429e-15,
          -1.7717091220795974e-15,
          -1.781958088583649e-15,
          -1.7922070550877037e-15,
          -1.8024560215917553e-15
         ],
         "yaxis": "y"
        }
       ],
       "layout": {
        "legend": {
         "tracegroupgap": 0
        },
        "template": {
         "data": {
          "bar": [
           {
            "error_x": {
             "color": "rgb(36,36,36)"
            },
            "error_y": {
             "color": "rgb(36,36,36)"
            },
            "marker": {
             "line": {
              "color": "white",
              "width": 0.5
             },
             "pattern": {
              "fillmode": "overlay",
              "size": 10,
              "solidity": 0.2
             }
            },
            "type": "bar"
           }
          ],
          "barpolar": [
           {
            "marker": {
             "line": {
              "color": "white",
              "width": 0.5
             },
             "pattern": {
              "fillmode": "overlay",
              "size": 10,
              "solidity": 0.2
             }
            },
            "type": "barpolar"
           }
          ],
          "carpet": [
           {
            "aaxis": {
             "endlinecolor": "rgb(36,36,36)",
             "gridcolor": "white",
             "linecolor": "white",
             "minorgridcolor": "white",
             "startlinecolor": "rgb(36,36,36)"
            },
            "baxis": {
             "endlinecolor": "rgb(36,36,36)",
             "gridcolor": "white",
             "linecolor": "white",
             "minorgridcolor": "white",
             "startlinecolor": "rgb(36,36,36)"
            },
            "type": "carpet"
           }
          ],
          "choropleth": [
           {
            "colorbar": {
             "outlinewidth": 1,
             "tickcolor": "rgb(36,36,36)",
             "ticks": "outside"
            },
            "type": "choropleth"
           }
          ],
          "contour": [
           {
            "colorbar": {
             "outlinewidth": 1,
             "tickcolor": "rgb(36,36,36)",
             "ticks": "outside"
            },
            "colorscale": [
             [
              0,
              "#440154"
             ],
             [
              0.1111111111111111,
              "#482878"
             ],
             [
              0.2222222222222222,
              "#3e4989"
             ],
             [
              0.3333333333333333,
              "#31688e"
             ],
             [
              0.4444444444444444,
              "#26828e"
             ],
             [
              0.5555555555555556,
              "#1f9e89"
             ],
             [
              0.6666666666666666,
              "#35b779"
             ],
             [
              0.7777777777777778,
              "#6ece58"
             ],
             [
              0.8888888888888888,
              "#b5de2b"
             ],
             [
              1,
              "#fde725"
             ]
            ],
            "type": "contour"
           }
          ],
          "contourcarpet": [
           {
            "colorbar": {
             "outlinewidth": 1,
             "tickcolor": "rgb(36,36,36)",
             "ticks": "outside"
            },
            "type": "contourcarpet"
           }
          ],
          "heatmap": [
           {
            "colorbar": {
             "outlinewidth": 1,
             "tickcolor": "rgb(36,36,36)",
             "ticks": "outside"
            },
            "colorscale": [
             [
              0,
              "#440154"
             ],
             [
              0.1111111111111111,
              "#482878"
             ],
             [
              0.2222222222222222,
              "#3e4989"
             ],
             [
              0.3333333333333333,
              "#31688e"
             ],
             [
              0.4444444444444444,
              "#26828e"
             ],
             [
              0.5555555555555556,
              "#1f9e89"
             ],
             [
              0.6666666666666666,
              "#35b779"
             ],
             [
              0.7777777777777778,
              "#6ece58"
             ],
             [
              0.8888888888888888,
              "#b5de2b"
             ],
             [
              1,
              "#fde725"
             ]
            ],
            "type": "heatmap"
           }
          ],
          "heatmapgl": [
           {
            "colorbar": {
             "outlinewidth": 1,
             "tickcolor": "rgb(36,36,36)",
             "ticks": "outside"
            },
            "colorscale": [
             [
              0,
              "#440154"
             ],
             [
              0.1111111111111111,
              "#482878"
             ],
             [
              0.2222222222222222,
              "#3e4989"
             ],
             [
              0.3333333333333333,
              "#31688e"
             ],
             [
              0.4444444444444444,
              "#26828e"
             ],
             [
              0.5555555555555556,
              "#1f9e89"
             ],
             [
              0.6666666666666666,
              "#35b779"
             ],
             [
              0.7777777777777778,
              "#6ece58"
             ],
             [
              0.8888888888888888,
              "#b5de2b"
             ],
             [
              1,
              "#fde725"
             ]
            ],
            "type": "heatmapgl"
           }
          ],
          "histogram": [
           {
            "marker": {
             "line": {
              "color": "white",
              "width": 0.6
             }
            },
            "type": "histogram"
           }
          ],
          "histogram2d": [
           {
            "colorbar": {
             "outlinewidth": 1,
             "tickcolor": "rgb(36,36,36)",
             "ticks": "outside"
            },
            "colorscale": [
             [
              0,
              "#440154"
             ],
             [
              0.1111111111111111,
              "#482878"
             ],
             [
              0.2222222222222222,
              "#3e4989"
             ],
             [
              0.3333333333333333,
              "#31688e"
             ],
             [
              0.4444444444444444,
              "#26828e"
             ],
             [
              0.5555555555555556,
              "#1f9e89"
             ],
             [
              0.6666666666666666,
              "#35b779"
             ],
             [
              0.7777777777777778,
              "#6ece58"
             ],
             [
              0.8888888888888888,
              "#b5de2b"
             ],
             [
              1,
              "#fde725"
             ]
            ],
            "type": "histogram2d"
           }
          ],
          "histogram2dcontour": [
           {
            "colorbar": {
             "outlinewidth": 1,
             "tickcolor": "rgb(36,36,36)",
             "ticks": "outside"
            },
            "colorscale": [
             [
              0,
              "#440154"
             ],
             [
              0.1111111111111111,
              "#482878"
             ],
             [
              0.2222222222222222,
              "#3e4989"
             ],
             [
              0.3333333333333333,
              "#31688e"
             ],
             [
              0.4444444444444444,
              "#26828e"
             ],
             [
              0.5555555555555556,
              "#1f9e89"
             ],
             [
              0.6666666666666666,
              "#35b779"
             ],
             [
              0.7777777777777778,
              "#6ece58"
             ],
             [
              0.8888888888888888,
              "#b5de2b"
             ],
             [
              1,
              "#fde725"
             ]
            ],
            "type": "histogram2dcontour"
           }
          ],
          "mesh3d": [
           {
            "colorbar": {
             "outlinewidth": 1,
             "tickcolor": "rgb(36,36,36)",
             "ticks": "outside"
            },
            "type": "mesh3d"
           }
          ],
          "parcoords": [
           {
            "line": {
             "colorbar": {
              "outlinewidth": 1,
              "tickcolor": "rgb(36,36,36)",
              "ticks": "outside"
             }
            },
            "type": "parcoords"
           }
          ],
          "pie": [
           {
            "automargin": true,
            "type": "pie"
           }
          ],
          "scatter": [
           {
            "fillpattern": {
             "fillmode": "overlay",
             "size": 10,
             "solidity": 0.2
            },
            "type": "scatter"
           }
          ],
          "scatter3d": [
           {
            "line": {
             "colorbar": {
              "outlinewidth": 1,
              "tickcolor": "rgb(36,36,36)",
              "ticks": "outside"
             }
            },
            "marker": {
             "colorbar": {
              "outlinewidth": 1,
              "tickcolor": "rgb(36,36,36)",
              "ticks": "outside"
             }
            },
            "type": "scatter3d"
           }
          ],
          "scattercarpet": [
           {
            "marker": {
             "colorbar": {
              "outlinewidth": 1,
              "tickcolor": "rgb(36,36,36)",
              "ticks": "outside"
             }
            },
            "type": "scattercarpet"
           }
          ],
          "scattergeo": [
           {
            "marker": {
             "colorbar": {
              "outlinewidth": 1,
              "tickcolor": "rgb(36,36,36)",
              "ticks": "outside"
             }
            },
            "type": "scattergeo"
           }
          ],
          "scattergl": [
           {
            "marker": {
             "colorbar": {
              "outlinewidth": 1,
              "tickcolor": "rgb(36,36,36)",
              "ticks": "outside"
             }
            },
            "type": "scattergl"
           }
          ],
          "scattermapbox": [
           {
            "marker": {
             "colorbar": {
              "outlinewidth": 1,
              "tickcolor": "rgb(36,36,36)",
              "ticks": "outside"
             }
            },
            "type": "scattermapbox"
           }
          ],
          "scatterpolar": [
           {
            "marker": {
             "colorbar": {
              "outlinewidth": 1,
              "tickcolor": "rgb(36,36,36)",
              "ticks": "outside"
             }
            },
            "type": "scatterpolar"
           }
          ],
          "scatterpolargl": [
           {
            "marker": {
             "colorbar": {
              "outlinewidth": 1,
              "tickcolor": "rgb(36,36,36)",
              "ticks": "outside"
             }
            },
            "type": "scatterpolargl"
           }
          ],
          "scatterternary": [
           {
            "marker": {
             "colorbar": {
              "outlinewidth": 1,
              "tickcolor": "rgb(36,36,36)",
              "ticks": "outside"
             }
            },
            "type": "scatterternary"
           }
          ],
          "surface": [
           {
            "colorbar": {
             "outlinewidth": 1,
             "tickcolor": "rgb(36,36,36)",
             "ticks": "outside"
            },
            "colorscale": [
             [
              0,
              "#440154"
             ],
             [
              0.1111111111111111,
              "#482878"
             ],
             [
              0.2222222222222222,
              "#3e4989"
             ],
             [
              0.3333333333333333,
              "#31688e"
             ],
             [
              0.4444444444444444,
              "#26828e"
             ],
             [
              0.5555555555555556,
              "#1f9e89"
             ],
             [
              0.6666666666666666,
              "#35b779"
             ],
             [
              0.7777777777777778,
              "#6ece58"
             ],
             [
              0.8888888888888888,
              "#b5de2b"
             ],
             [
              1,
              "#fde725"
             ]
            ],
            "type": "surface"
           }
          ],
          "table": [
           {
            "cells": {
             "fill": {
              "color": "rgb(237,237,237)"
             },
             "line": {
              "color": "white"
             }
            },
            "header": {
             "fill": {
              "color": "rgb(217,217,217)"
             },
             "line": {
              "color": "white"
             }
            },
            "type": "table"
           }
          ]
         },
         "layout": {
          "annotationdefaults": {
           "arrowhead": 0,
           "arrowwidth": 1
          },
          "autosize": true,
          "autotypenumbers": "strict",
          "coloraxis": {
           "colorbar": {
            "outlinewidth": 1,
            "tickcolor": "rgb(36,36,36)",
            "ticks": "outside"
           }
          },
          "colorscale": {
           "diverging": [
            [
             0,
             "rgb(103,0,31)"
            ],
            [
             0.1,
             "rgb(178,24,43)"
            ],
            [
             0.2,
             "rgb(214,96,77)"
            ],
            [
             0.3,
             "rgb(244,165,130)"
            ],
            [
             0.4,
             "rgb(253,219,199)"
            ],
            [
             0.5,
             "rgb(247,247,247)"
            ],
            [
             0.6,
             "rgb(209,229,240)"
            ],
            [
             0.7,
             "rgb(146,197,222)"
            ],
            [
             0.8,
             "rgb(67,147,195)"
            ],
            [
             0.9,
             "rgb(33,102,172)"
            ],
            [
             1,
             "rgb(5,48,97)"
            ]
           ],
           "sequential": [
            [
             0,
             "#440154"
            ],
            [
             0.1111111111111111,
             "#482878"
            ],
            [
             0.2222222222222222,
             "#3e4989"
            ],
            [
             0.3333333333333333,
             "#31688e"
            ],
            [
             0.4444444444444444,
             "#26828e"
            ],
            [
             0.5555555555555556,
             "#1f9e89"
            ],
            [
             0.6666666666666666,
             "#35b779"
            ],
            [
             0.7777777777777778,
             "#6ece58"
            ],
            [
             0.8888888888888888,
             "#b5de2b"
            ],
            [
             1,
             "#fde725"
            ]
           ],
           "sequentialminus": [
            [
             0,
             "#440154"
            ],
            [
             0.1111111111111111,
             "#482878"
            ],
            [
             0.2222222222222222,
             "#3e4989"
            ],
            [
             0.3333333333333333,
             "#31688e"
            ],
            [
             0.4444444444444444,
             "#26828e"
            ],
            [
             0.5555555555555556,
             "#1f9e89"
            ],
            [
             0.6666666666666666,
             "#35b779"
            ],
            [
             0.7777777777777778,
             "#6ece58"
            ],
            [
             0.8888888888888888,
             "#b5de2b"
            ],
            [
             1,
             "#fde725"
            ]
           ]
          },
          "colorway": [
           "#1F77B4",
           "#FF7F0E",
           "#2CA02C",
           "#D62728",
           "#9467BD",
           "#8C564B",
           "#E377C2",
           "#7F7F7F",
           "#BCBD22",
           "#17BECF"
          ],
          "font": {
           "color": "rgb(36,36,36)"
          },
          "geo": {
           "bgcolor": "white",
           "lakecolor": "white",
           "landcolor": "white",
           "showlakes": true,
           "showland": true,
           "subunitcolor": "white"
          },
          "height": 400,
          "hoverlabel": {
           "align": "left"
          },
          "hovermode": "closest",
          "mapbox": {
           "style": "light"
          },
          "margin": {
           "b": 30,
           "l": 30,
           "r": 30,
           "t": 30
          },
          "paper_bgcolor": "white",
          "plot_bgcolor": "white",
          "polar": {
           "angularaxis": {
            "gridcolor": "rgb(232,232,232)",
            "linecolor": "rgb(36,36,36)",
            "showgrid": false,
            "showline": true,
            "ticks": "outside"
           },
           "bgcolor": "white",
           "radialaxis": {
            "gridcolor": "rgb(232,232,232)",
            "linecolor": "rgb(36,36,36)",
            "showgrid": false,
            "showline": true,
            "ticks": "outside"
           }
          },
          "scene": {
           "xaxis": {
            "backgroundcolor": "white",
            "gridcolor": "rgb(232,232,232)",
            "gridwidth": 2,
            "linecolor": "rgb(36,36,36)",
            "showbackground": true,
            "showgrid": false,
            "showline": true,
            "ticks": "outside",
            "zeroline": false,
            "zerolinecolor": "rgb(36,36,36)"
           },
           "yaxis": {
            "backgroundcolor": "white",
            "gridcolor": "rgb(232,232,232)",
            "gridwidth": 2,
            "linecolor": "rgb(36,36,36)",
            "showbackground": true,
            "showgrid": false,
            "showline": true,
            "ticks": "outside",
            "zeroline": false,
            "zerolinecolor": "rgb(36,36,36)"
           },
           "zaxis": {
            "backgroundcolor": "white",
            "gridcolor": "rgb(232,232,232)",
            "gridwidth": 2,
            "linecolor": "rgb(36,36,36)",
            "showbackground": true,
            "showgrid": false,
            "showline": true,
            "ticks": "outside",
            "zeroline": false,
            "zerolinecolor": "rgb(36,36,36)"
           }
          },
          "shapedefaults": {
           "fillcolor": "black",
           "line": {
            "width": 0
           },
           "opacity": 0.3
          },
          "ternary": {
           "aaxis": {
            "gridcolor": "rgb(232,232,232)",
            "linecolor": "rgb(36,36,36)",
            "showgrid": false,
            "showline": true,
            "ticks": "outside"
           },
           "baxis": {
            "gridcolor": "rgb(232,232,232)",
            "linecolor": "rgb(36,36,36)",
            "showgrid": false,
            "showline": true,
            "ticks": "outside"
           },
           "bgcolor": "white",
           "caxis": {
            "gridcolor": "rgb(232,232,232)",
            "linecolor": "rgb(36,36,36)",
            "showgrid": false,
            "showline": true,
            "ticks": "outside"
           }
          },
          "title": {
           "x": 0.5,
           "xanchor": "center"
          },
          "width": 600,
          "xaxis": {
           "automargin": true,
           "gridcolor": "rgb(232,232,232)",
           "linecolor": "rgb(36,36,36)",
           "showgrid": true,
           "showline": true,
           "ticks": "outside",
           "title": {
            "standoff": 15
           },
           "zeroline": false,
           "zerolinecolor": "rgb(36,36,36)"
          },
          "yaxis": {
           "automargin": true,
           "gridcolor": "rgb(232,232,232)",
           "linecolor": "rgb(36,36,36)",
           "showgrid": true,
           "showline": true,
           "ticks": "outside",
           "title": {
            "standoff": 15
           },
           "zeroline": false,
           "zerolinecolor": "rgb(36,36,36)"
          }
         }
        },
        "xaxis": {
         "anchor": "y",
         "domain": [
          0,
          1
         ],
         "title": {
          "text": "pred"
         }
        },
        "yaxis": {
         "anchor": "x",
         "domain": [
          0,
          1
         ],
         "title": {
          "text": "log residuals"
         }
        }
       }
      }
     },
     "metadata": {},
     "output_type": "display_data"
    }
   ],
   "source": [
    "create_residual_plot(homeruns, 'Year', 'log')"
   ]
  },
  {
   "cell_type": "code",
   "execution_count": 18,
   "id": "95460c34",
   "metadata": {
    "tags": [
     "to-py"
    ]
   },
   "outputs": [
    {
     "data": {
      "text/plain": [
       "1"
      ]
     },
     "execution_count": 18,
     "metadata": {},
     "output_type": "execute_result"
    }
   ],
   "source": [
    "best_transformation = 1\n",
    "best_transformation"
   ]
  },
  {
   "cell_type": "code",
   "execution_count": 19,
   "id": "92b728b3",
   "metadata": {
    "deletable": false,
    "editable": false
   },
   "outputs": [
    {
     "data": {
      "text/html": [
       "<p><strong><pre style='display: inline;'>q03_01</pre></strong> passed!</p>"
      ],
      "text/plain": [
       "q03_01 results: All test cases passed!"
      ]
     },
     "execution_count": 19,
     "metadata": {},
     "output_type": "execute_result"
    }
   ],
   "source": [
    "grader.check(\"q03_01\")"
   ]
  },
  {
   "cell_type": "markdown",
   "id": "f6e9b38d",
   "metadata": {},
   "source": [
    "### Question 3.2 [Autograded 💻] <div style=\"display:inline-block; vertical-align: middle; padding:7px 7px; font-size:10px; font-weight:light; color:white; background-color:#e84c4a; border-radius:7px; text-align:left;\">5 Points</div>\n",
    "\n",
    "Recall, our goal in this question is to model `'Homeruns'` as a function of `'Year'`. In the previous part, we had you apply a numerical-to-numerical transformation to `'Homeruns'`, which is the $y$ variable.\n",
    "\n",
    "In this part, you'll be required to engineer new quantitative features **of your own choosing**, all based on transformations of the $x$ variable, `'Year'`.\n",
    "\n",
    "Complete the implementation of the function `fit_model_and_return_predictions`, which takes in:\n",
    "- `X`, a DataFrame with a single column of `'Year'` values from `homeruns`, and\n",
    "- `y`, an array or Series with a sequence of `'Homerun'` values from `homeruns`.\n",
    "\n",
    "`fit_model_and_return_predictions` should:\n",
    "- Create new numerical features by applying various transformations to the values in `X['Year']` (look at the \"Polynomial regression\" example from Lecture 18 for inspiration – you don't need to use the `apply` method to apply a transformation),\n",
    "- Fit a `sklearn` LinearRegression object using your custom design matrix as the `X` argument and our passed-in `y` as the `y` argument, and\n",
    "- **Return an array of predictions** that result from calling the `predict` method on the fit model, using your custom design matrix as the `X` argument.\n",
    "\n",
    "For example, suppose our `fit_model_and_return_predictions` function creates polynomial features of degrees 2 through 10, and adds no other new features. Example behavior of `fit_model_and_return_predictions` may then be as follows:\n",
    "\n",
    "```python\n",
    ">>> fit_model_and_return_predictions(homeruns[['Year']], homeruns['Homeruns'])[:5]\n",
    "array([165.07808666, 300.52105073, 174.28363771, 288.87689757, 395.065479  ])\n",
    "```\n",
    "\n",
    "A plot of the predictions returned by `fit_model_and_return_predictions` might then look like:\n",
    "\n",
    "<center><img src=\"imgs/fit-model.png\" width=500></center>\n",
    "\n",
    "Is this a \"good\" model? Sure, it has a low training MSE, but it's not likely to generalize well to unseen $x$-values – in this case, future `'Year'`.\n",
    "\n",
    "**You can create your features however you'd like!** Don't just use our example of using polynomial features of degrees 2 to 10. Try, intuitively, to come up with a fit hypothesis function that _you think_ is likely to generalize well to future `'Year'`s for whom we don't know the number of `'Homeruns'`. We will formalize how to develop models that generalize well in the coming lectures.\n",
    "\n",
    "All we can autograde in this question are your resulting predictions – practically, we have no way of knowing how you come up with them. Other than what's described above, here are the only added requirements of your function:\n",
    "\n",
    "- It should be able to take in a **subset** of the rows in `homeruns`, and should do all calculations (feature creation, fitting, predicting) using that subset. So, this should work too:\n",
    "    ```python\n",
    "        >>> fit_model_and_return_predictions(homeruns.head()[['Year']], homeruns.head()['Homeruns'])\n",
    "        \n",
    "    ```\n",
    "    Note that in `fit_model_and_return_predictions`, the `X` data used to fit the model is always the same as the data used to make predictions. In other cases, this is not necessarily how it works – after all, we typically build models using historical data and use them to make predictions about future data – but this is how we'll use and test `fit_model_and_return_predictions`.\n",
    "\n",
    "- The array that `fit_model_and_return_predictions` returns should be **deterministic**. That is, if `fit_model_and_return_predictions` is called twice with the exact same inputs `X` and `y`, the output should not change.\n",
    "- The mean squared error of the predictions, when called on `X=homeruns[['Year']]` and `y=homeruns['Homeruns']`, should be **between 100,000 and 200,000**. Yes, it's possible to achieve a mean squared error of less than 100,000, but such a model is likely **overfitting** significantly to the data. (In fact, in Homework 8, you learned how to build models with 0 MSE, using Lagrange Interpolation! **Don't do that here – try and build more general-purpose models.**)"
   ]
  },
  {
   "cell_type": "code",
   "execution_count": 20,
   "id": "adc4eb1c",
   "metadata": {},
   "outputs": [],
   "source": [
    "def MSE(pred,y):\n",
    "    return np.mean((y-pred)**2)\n"
   ]
  },
  {
   "cell_type": "code",
   "execution_count": 21,
   "id": "638d3271",
   "metadata": {
    "tags": []
   },
   "outputs": [
    {
     "name": "stdout",
     "output_type": "stream",
     "text": [
      "191902.32551333544\n"
     ]
    },
    {
     "data": {
      "application/vnd.plotly.v1+json": {
       "config": {
        "plotlyServerURL": "https://plot.ly"
       },
       "data": [
        {
         "hovertemplate": "Year=%{x}<br>Homeruns=%{y}<extra></extra>",
         "legendgroup": "",
         "marker": {
          "color": "#1F77B4",
          "symbol": "circle"
         },
         "mode": "markers",
         "name": "",
         "orientation": "v",
         "showlegend": false,
         "type": "scatter",
         "x": [
          1900,
          1901,
          1902,
          1903,
          1904,
          1905,
          1906,
          1907,
          1908,
          1909,
          1910,
          1911,
          1912,
          1913,
          1914,
          1915,
          1916,
          1917,
          1918,
          1919,
          1920,
          1921,
          1922,
          1923,
          1924,
          1925,
          1926,
          1927,
          1928,
          1929,
          1930,
          1931,
          1932,
          1933,
          1934,
          1935,
          1936,
          1937,
          1938,
          1939,
          1940,
          1941,
          1942,
          1943,
          1944,
          1945,
          1946,
          1947,
          1948,
          1949,
          1950,
          1951,
          1952,
          1953,
          1954,
          1955,
          1956,
          1957,
          1958,
          1959,
          1960,
          1961,
          1962,
          1963,
          1964,
          1965,
          1966,
          1967,
          1968,
          1969,
          1970,
          1971,
          1972,
          1973,
          1974,
          1975,
          1976,
          1977,
          1978,
          1979,
          1980,
          1981,
          1982,
          1983,
          1984,
          1985,
          1986,
          1987,
          1988,
          1989,
          1990,
          1991,
          1992,
          1993,
          1994,
          1995,
          1996,
          1997,
          1998,
          1999,
          2000,
          2001,
          2002,
          2003,
          2004,
          2005,
          2006,
          2007,
          2008,
          2009,
          2010,
          2011,
          2012,
          2013,
          2014,
          2015,
          2016,
          2017,
          2018,
          2019
         ],
         "xaxis": "x",
         "y": [
          254,
          455,
          354,
          335,
          331,
          338,
          261,
          244,
          267,
          259,
          361,
          514,
          442,
          470,
          710,
          635,
          383,
          335,
          235,
          447,
          630,
          937,
          1055,
          980,
          896,
          1169,
          863,
          922,
          1093,
          1349,
          1565,
          1069,
          1358,
          1067,
          1344,
          1325,
          1364,
          1430,
          1475,
          1445,
          1571,
          1331,
          1071,
          905,
          1034,
          1007,
          1215,
          1565,
          1555,
          1704,
          2073,
          1863,
          1701,
          2076,
          1937,
          2224,
          2294,
          2202,
          2240,
          2250,
          2128,
          2730,
          3001,
          2704,
          2762,
          2688,
          2743,
          2299,
          1995,
          3119,
          3429,
          2863,
          2534,
          3102,
          2649,
          2698,
          2235,
          3644,
          2956,
          3433,
          3087,
          1781,
          3379,
          3301,
          3258,
          3602,
          3813,
          4458,
          3180,
          3083,
          3317,
          3383,
          3038,
          4030,
          3306,
          4081,
          4962,
          4640,
          5064,
          5528,
          5693,
          5458,
          5059,
          5207,
          5451,
          5017,
          5386,
          4957,
          4878,
          5042,
          4613,
          4552,
          4934,
          4661,
          4186,
          4909,
          5610,
          6105,
          5585,
          6776
         ],
         "yaxis": "y"
        },
        {
         "line": {
          "width": 4
         },
         "mode": "lines",
         "name": "Fit Model",
         "type": "scatter",
         "x": [
          1900,
          1901,
          1902,
          1903,
          1904,
          1905,
          1906,
          1907,
          1908,
          1909,
          1910,
          1911,
          1912,
          1913,
          1914,
          1915,
          1916,
          1917,
          1918,
          1919,
          1920,
          1921,
          1922,
          1923,
          1924,
          1925,
          1926,
          1927,
          1928,
          1929,
          1930,
          1931,
          1932,
          1933,
          1934,
          1935,
          1936,
          1937,
          1938,
          1939,
          1940,
          1941,
          1942,
          1943,
          1944,
          1945,
          1946,
          1947,
          1948,
          1949,
          1950,
          1951,
          1952,
          1953,
          1954,
          1955,
          1956,
          1957,
          1958,
          1959,
          1960,
          1961,
          1962,
          1963,
          1964,
          1965,
          1966,
          1967,
          1968,
          1969,
          1970,
          1971,
          1972,
          1973,
          1974,
          1975,
          1976,
          1977,
          1978,
          1979,
          1980,
          1981,
          1982,
          1983,
          1984,
          1985,
          1986,
          1987,
          1988,
          1989,
          1990,
          1991,
          1992,
          1993,
          1994,
          1995,
          1996,
          1997,
          1998,
          1999,
          2000,
          2001,
          2002,
          2003,
          2004,
          2005,
          2006,
          2007,
          2008,
          2009,
          2010,
          2011,
          2012,
          2013,
          2014,
          2015,
          2016,
          2017,
          2018,
          2019
         ],
         "y": [
          224.0295669741463,
          244.69913763320073,
          265.8069288658444,
          287.35311294696294,
          309.33786171255633,
          331.76134656276554,
          354.6237384604756,
          377.9252079313155,
          401.66592506296,
          425.84605950745754,
          450.46578047866933,
          475.52525675389916,
          501.024656672962,
          526.9641481384169,
          553.3438986164983,
          580.1640751352534,
          607.4248442868702,
          635.1263722246513,
          663.2688246669713,
          691.8523668930866,
          720.8771637461614,
          750.3433796321042,
          780.2511785198003,
          810.6007239406463,
          841.3921789894812,
          872.6257063231897,
          904.3014681625646,
          936.4196262902115,
          968.9803420526441,
          1001.9837763584219,
          1035.4300896793138,
          1069.3194420500658,
          1103.651993068168,
          1138.427901894087,
          1173.6473272510339,
          1209.3104274251964,
          1245.4173602657393,
          1281.9682831843384,
          1318.963353156345,
          1356.4027267184574,
          1394.2865599722136,
          1432.6150085804984,
          1471.3882277698722,
          1510.6063723294064,
          1550.2695966111496,
          1590.3780545303598,
          1630.9318995645735,
          1671.9312847543042,
          1713.3763627037406,
          1755.2672855788842,
          1797.6042051094119,
          1840.3872725872789,
          1883.6166388674174,
          1927.2924543686677,
          1971.4148690709844,
          2015.9840325184632,
          2061.000093817478,
          2106.463201638311,
          2152.373504212359,
          2198.7311493356247,
          2245.536284365924,
          2292.789056224283,
          2340.4896113944706,
          2388.6380959236994,
          2437.23465542146,
          2486.279435059987,
          2535.7725795747247,
          2585.71423326456,
          2636.1045399897266,
          2686.9436431750655,
          2738.23168580723,
          2789.968810436316,
          2842.1551591744646,
          2894.790873697493,
          2947.8760952441953,
          3001.41096461541,
          3055.3956221754197,
          3109.8302078517154,
          3164.7148611338343,
          3220.0497210745234,
          3275.834926289972,
          3332.070614958415,
          3388.7569248217624,
          3445.8939931837376,
          3503.481956911972,
          3561.52095243684,
          3620.0111157505307,
          3678.952582410071,
          3738.3454875329044,
          3798.189965801779,
          3858.486151460791,
          3919.2341783167794,
          3980.434179740958,
          4042.08628866612,
          4104.190637588035,
          4166.747358565917,
          4229.75658322149,
          4293.21844273922,
          4357.13306786702,
          4421.500588914845,
          4486.32113575656,
          4551.594837827841,
          4617.321824128041,
          4683.502223218791,
          4750.13616322563,
          4817.2237718354445,
          4884.765176299261,
          4952.760503430385,
          5021.2098796051,
          5090.113430762896,
          5159.471282405546,
          5229.283559598029,
          5299.550386968767,
          5370.271888707532,
          5441.448188568698,
          5513.079409868689,
          5585.165675486438,
          5657.707107864786,
          5730.703829008155,
          5804.155960485339
         ]
        }
       ],
       "layout": {
        "legend": {
         "tracegroupgap": 0
        },
        "template": {
         "data": {
          "bar": [
           {
            "error_x": {
             "color": "rgb(36,36,36)"
            },
            "error_y": {
             "color": "rgb(36,36,36)"
            },
            "marker": {
             "line": {
              "color": "white",
              "width": 0.5
             },
             "pattern": {
              "fillmode": "overlay",
              "size": 10,
              "solidity": 0.2
             }
            },
            "type": "bar"
           }
          ],
          "barpolar": [
           {
            "marker": {
             "line": {
              "color": "white",
              "width": 0.5
             },
             "pattern": {
              "fillmode": "overlay",
              "size": 10,
              "solidity": 0.2
             }
            },
            "type": "barpolar"
           }
          ],
          "carpet": [
           {
            "aaxis": {
             "endlinecolor": "rgb(36,36,36)",
             "gridcolor": "white",
             "linecolor": "white",
             "minorgridcolor": "white",
             "startlinecolor": "rgb(36,36,36)"
            },
            "baxis": {
             "endlinecolor": "rgb(36,36,36)",
             "gridcolor": "white",
             "linecolor": "white",
             "minorgridcolor": "white",
             "startlinecolor": "rgb(36,36,36)"
            },
            "type": "carpet"
           }
          ],
          "choropleth": [
           {
            "colorbar": {
             "outlinewidth": 1,
             "tickcolor": "rgb(36,36,36)",
             "ticks": "outside"
            },
            "type": "choropleth"
           }
          ],
          "contour": [
           {
            "colorbar": {
             "outlinewidth": 1,
             "tickcolor": "rgb(36,36,36)",
             "ticks": "outside"
            },
            "colorscale": [
             [
              0,
              "#440154"
             ],
             [
              0.1111111111111111,
              "#482878"
             ],
             [
              0.2222222222222222,
              "#3e4989"
             ],
             [
              0.3333333333333333,
              "#31688e"
             ],
             [
              0.4444444444444444,
              "#26828e"
             ],
             [
              0.5555555555555556,
              "#1f9e89"
             ],
             [
              0.6666666666666666,
              "#35b779"
             ],
             [
              0.7777777777777778,
              "#6ece58"
             ],
             [
              0.8888888888888888,
              "#b5de2b"
             ],
             [
              1,
              "#fde725"
             ]
            ],
            "type": "contour"
           }
          ],
          "contourcarpet": [
           {
            "colorbar": {
             "outlinewidth": 1,
             "tickcolor": "rgb(36,36,36)",
             "ticks": "outside"
            },
            "type": "contourcarpet"
           }
          ],
          "heatmap": [
           {
            "colorbar": {
             "outlinewidth": 1,
             "tickcolor": "rgb(36,36,36)",
             "ticks": "outside"
            },
            "colorscale": [
             [
              0,
              "#440154"
             ],
             [
              0.1111111111111111,
              "#482878"
             ],
             [
              0.2222222222222222,
              "#3e4989"
             ],
             [
              0.3333333333333333,
              "#31688e"
             ],
             [
              0.4444444444444444,
              "#26828e"
             ],
             [
              0.5555555555555556,
              "#1f9e89"
             ],
             [
              0.6666666666666666,
              "#35b779"
             ],
             [
              0.7777777777777778,
              "#6ece58"
             ],
             [
              0.8888888888888888,
              "#b5de2b"
             ],
             [
              1,
              "#fde725"
             ]
            ],
            "type": "heatmap"
           }
          ],
          "heatmapgl": [
           {
            "colorbar": {
             "outlinewidth": 1,
             "tickcolor": "rgb(36,36,36)",
             "ticks": "outside"
            },
            "colorscale": [
             [
              0,
              "#440154"
             ],
             [
              0.1111111111111111,
              "#482878"
             ],
             [
              0.2222222222222222,
              "#3e4989"
             ],
             [
              0.3333333333333333,
              "#31688e"
             ],
             [
              0.4444444444444444,
              "#26828e"
             ],
             [
              0.5555555555555556,
              "#1f9e89"
             ],
             [
              0.6666666666666666,
              "#35b779"
             ],
             [
              0.7777777777777778,
              "#6ece58"
             ],
             [
              0.8888888888888888,
              "#b5de2b"
             ],
             [
              1,
              "#fde725"
             ]
            ],
            "type": "heatmapgl"
           }
          ],
          "histogram": [
           {
            "marker": {
             "line": {
              "color": "white",
              "width": 0.6
             }
            },
            "type": "histogram"
           }
          ],
          "histogram2d": [
           {
            "colorbar": {
             "outlinewidth": 1,
             "tickcolor": "rgb(36,36,36)",
             "ticks": "outside"
            },
            "colorscale": [
             [
              0,
              "#440154"
             ],
             [
              0.1111111111111111,
              "#482878"
             ],
             [
              0.2222222222222222,
              "#3e4989"
             ],
             [
              0.3333333333333333,
              "#31688e"
             ],
             [
              0.4444444444444444,
              "#26828e"
             ],
             [
              0.5555555555555556,
              "#1f9e89"
             ],
             [
              0.6666666666666666,
              "#35b779"
             ],
             [
              0.7777777777777778,
              "#6ece58"
             ],
             [
              0.8888888888888888,
              "#b5de2b"
             ],
             [
              1,
              "#fde725"
             ]
            ],
            "type": "histogram2d"
           }
          ],
          "histogram2dcontour": [
           {
            "colorbar": {
             "outlinewidth": 1,
             "tickcolor": "rgb(36,36,36)",
             "ticks": "outside"
            },
            "colorscale": [
             [
              0,
              "#440154"
             ],
             [
              0.1111111111111111,
              "#482878"
             ],
             [
              0.2222222222222222,
              "#3e4989"
             ],
             [
              0.3333333333333333,
              "#31688e"
             ],
             [
              0.4444444444444444,
              "#26828e"
             ],
             [
              0.5555555555555556,
              "#1f9e89"
             ],
             [
              0.6666666666666666,
              "#35b779"
             ],
             [
              0.7777777777777778,
              "#6ece58"
             ],
             [
              0.8888888888888888,
              "#b5de2b"
             ],
             [
              1,
              "#fde725"
             ]
            ],
            "type": "histogram2dcontour"
           }
          ],
          "mesh3d": [
           {
            "colorbar": {
             "outlinewidth": 1,
             "tickcolor": "rgb(36,36,36)",
             "ticks": "outside"
            },
            "type": "mesh3d"
           }
          ],
          "parcoords": [
           {
            "line": {
             "colorbar": {
              "outlinewidth": 1,
              "tickcolor": "rgb(36,36,36)",
              "ticks": "outside"
             }
            },
            "type": "parcoords"
           }
          ],
          "pie": [
           {
            "automargin": true,
            "type": "pie"
           }
          ],
          "scatter": [
           {
            "fillpattern": {
             "fillmode": "overlay",
             "size": 10,
             "solidity": 0.2
            },
            "type": "scatter"
           }
          ],
          "scatter3d": [
           {
            "line": {
             "colorbar": {
              "outlinewidth": 1,
              "tickcolor": "rgb(36,36,36)",
              "ticks": "outside"
             }
            },
            "marker": {
             "colorbar": {
              "outlinewidth": 1,
              "tickcolor": "rgb(36,36,36)",
              "ticks": "outside"
             }
            },
            "type": "scatter3d"
           }
          ],
          "scattercarpet": [
           {
            "marker": {
             "colorbar": {
              "outlinewidth": 1,
              "tickcolor": "rgb(36,36,36)",
              "ticks": "outside"
             }
            },
            "type": "scattercarpet"
           }
          ],
          "scattergeo": [
           {
            "marker": {
             "colorbar": {
              "outlinewidth": 1,
              "tickcolor": "rgb(36,36,36)",
              "ticks": "outside"
             }
            },
            "type": "scattergeo"
           }
          ],
          "scattergl": [
           {
            "marker": {
             "colorbar": {
              "outlinewidth": 1,
              "tickcolor": "rgb(36,36,36)",
              "ticks": "outside"
             }
            },
            "type": "scattergl"
           }
          ],
          "scattermapbox": [
           {
            "marker": {
             "colorbar": {
              "outlinewidth": 1,
              "tickcolor": "rgb(36,36,36)",
              "ticks": "outside"
             }
            },
            "type": "scattermapbox"
           }
          ],
          "scatterpolar": [
           {
            "marker": {
             "colorbar": {
              "outlinewidth": 1,
              "tickcolor": "rgb(36,36,36)",
              "ticks": "outside"
             }
            },
            "type": "scatterpolar"
           }
          ],
          "scatterpolargl": [
           {
            "marker": {
             "colorbar": {
              "outlinewidth": 1,
              "tickcolor": "rgb(36,36,36)",
              "ticks": "outside"
             }
            },
            "type": "scatterpolargl"
           }
          ],
          "scatterternary": [
           {
            "marker": {
             "colorbar": {
              "outlinewidth": 1,
              "tickcolor": "rgb(36,36,36)",
              "ticks": "outside"
             }
            },
            "type": "scatterternary"
           }
          ],
          "surface": [
           {
            "colorbar": {
             "outlinewidth": 1,
             "tickcolor": "rgb(36,36,36)",
             "ticks": "outside"
            },
            "colorscale": [
             [
              0,
              "#440154"
             ],
             [
              0.1111111111111111,
              "#482878"
             ],
             [
              0.2222222222222222,
              "#3e4989"
             ],
             [
              0.3333333333333333,
              "#31688e"
             ],
             [
              0.4444444444444444,
              "#26828e"
             ],
             [
              0.5555555555555556,
              "#1f9e89"
             ],
             [
              0.6666666666666666,
              "#35b779"
             ],
             [
              0.7777777777777778,
              "#6ece58"
             ],
             [
              0.8888888888888888,
              "#b5de2b"
             ],
             [
              1,
              "#fde725"
             ]
            ],
            "type": "surface"
           }
          ],
          "table": [
           {
            "cells": {
             "fill": {
              "color": "rgb(237,237,237)"
             },
             "line": {
              "color": "white"
             }
            },
            "header": {
             "fill": {
              "color": "rgb(217,217,217)"
             },
             "line": {
              "color": "white"
             }
            },
            "type": "table"
           }
          ]
         },
         "layout": {
          "annotationdefaults": {
           "arrowhead": 0,
           "arrowwidth": 1
          },
          "autosize": true,
          "autotypenumbers": "strict",
          "coloraxis": {
           "colorbar": {
            "outlinewidth": 1,
            "tickcolor": "rgb(36,36,36)",
            "ticks": "outside"
           }
          },
          "colorscale": {
           "diverging": [
            [
             0,
             "rgb(103,0,31)"
            ],
            [
             0.1,
             "rgb(178,24,43)"
            ],
            [
             0.2,
             "rgb(214,96,77)"
            ],
            [
             0.3,
             "rgb(244,165,130)"
            ],
            [
             0.4,
             "rgb(253,219,199)"
            ],
            [
             0.5,
             "rgb(247,247,247)"
            ],
            [
             0.6,
             "rgb(209,229,240)"
            ],
            [
             0.7,
             "rgb(146,197,222)"
            ],
            [
             0.8,
             "rgb(67,147,195)"
            ],
            [
             0.9,
             "rgb(33,102,172)"
            ],
            [
             1,
             "rgb(5,48,97)"
            ]
           ],
           "sequential": [
            [
             0,
             "#440154"
            ],
            [
             0.1111111111111111,
             "#482878"
            ],
            [
             0.2222222222222222,
             "#3e4989"
            ],
            [
             0.3333333333333333,
             "#31688e"
            ],
            [
             0.4444444444444444,
             "#26828e"
            ],
            [
             0.5555555555555556,
             "#1f9e89"
            ],
            [
             0.6666666666666666,
             "#35b779"
            ],
            [
             0.7777777777777778,
             "#6ece58"
            ],
            [
             0.8888888888888888,
             "#b5de2b"
            ],
            [
             1,
             "#fde725"
            ]
           ],
           "sequentialminus": [
            [
             0,
             "#440154"
            ],
            [
             0.1111111111111111,
             "#482878"
            ],
            [
             0.2222222222222222,
             "#3e4989"
            ],
            [
             0.3333333333333333,
             "#31688e"
            ],
            [
             0.4444444444444444,
             "#26828e"
            ],
            [
             0.5555555555555556,
             "#1f9e89"
            ],
            [
             0.6666666666666666,
             "#35b779"
            ],
            [
             0.7777777777777778,
             "#6ece58"
            ],
            [
             0.8888888888888888,
             "#b5de2b"
            ],
            [
             1,
             "#fde725"
            ]
           ]
          },
          "colorway": [
           "#1F77B4",
           "#FF7F0E",
           "#2CA02C",
           "#D62728",
           "#9467BD",
           "#8C564B",
           "#E377C2",
           "#7F7F7F",
           "#BCBD22",
           "#17BECF"
          ],
          "font": {
           "color": "rgb(36,36,36)"
          },
          "geo": {
           "bgcolor": "white",
           "lakecolor": "white",
           "landcolor": "white",
           "showlakes": true,
           "showland": true,
           "subunitcolor": "white"
          },
          "height": 400,
          "hoverlabel": {
           "align": "left"
          },
          "hovermode": "closest",
          "mapbox": {
           "style": "light"
          },
          "margin": {
           "b": 30,
           "l": 30,
           "r": 30,
           "t": 30
          },
          "paper_bgcolor": "white",
          "plot_bgcolor": "white",
          "polar": {
           "angularaxis": {
            "gridcolor": "rgb(232,232,232)",
            "linecolor": "rgb(36,36,36)",
            "showgrid": false,
            "showline": true,
            "ticks": "outside"
           },
           "bgcolor": "white",
           "radialaxis": {
            "gridcolor": "rgb(232,232,232)",
            "linecolor": "rgb(36,36,36)",
            "showgrid": false,
            "showline": true,
            "ticks": "outside"
           }
          },
          "scene": {
           "xaxis": {
            "backgroundcolor": "white",
            "gridcolor": "rgb(232,232,232)",
            "gridwidth": 2,
            "linecolor": "rgb(36,36,36)",
            "showbackground": true,
            "showgrid": false,
            "showline": true,
            "ticks": "outside",
            "zeroline": false,
            "zerolinecolor": "rgb(36,36,36)"
           },
           "yaxis": {
            "backgroundcolor": "white",
            "gridcolor": "rgb(232,232,232)",
            "gridwidth": 2,
            "linecolor": "rgb(36,36,36)",
            "showbackground": true,
            "showgrid": false,
            "showline": true,
            "ticks": "outside",
            "zeroline": false,
            "zerolinecolor": "rgb(36,36,36)"
           },
           "zaxis": {
            "backgroundcolor": "white",
            "gridcolor": "rgb(232,232,232)",
            "gridwidth": 2,
            "linecolor": "rgb(36,36,36)",
            "showbackground": true,
            "showgrid": false,
            "showline": true,
            "ticks": "outside",
            "zeroline": false,
            "zerolinecolor": "rgb(36,36,36)"
           }
          },
          "shapedefaults": {
           "fillcolor": "black",
           "line": {
            "width": 0
           },
           "opacity": 0.3
          },
          "ternary": {
           "aaxis": {
            "gridcolor": "rgb(232,232,232)",
            "linecolor": "rgb(36,36,36)",
            "showgrid": false,
            "showline": true,
            "ticks": "outside"
           },
           "baxis": {
            "gridcolor": "rgb(232,232,232)",
            "linecolor": "rgb(36,36,36)",
            "showgrid": false,
            "showline": true,
            "ticks": "outside"
           },
           "bgcolor": "white",
           "caxis": {
            "gridcolor": "rgb(232,232,232)",
            "linecolor": "rgb(36,36,36)",
            "showgrid": false,
            "showline": true,
            "ticks": "outside"
           }
          },
          "title": {
           "x": 0.5,
           "xanchor": "center"
          },
          "width": 600,
          "xaxis": {
           "automargin": true,
           "gridcolor": "rgb(232,232,232)",
           "linecolor": "rgb(36,36,36)",
           "showgrid": true,
           "showline": true,
           "ticks": "outside",
           "title": {
            "standoff": 15
           },
           "zeroline": false,
           "zerolinecolor": "rgb(36,36,36)"
          },
          "yaxis": {
           "automargin": true,
           "gridcolor": "rgb(232,232,232)",
           "linecolor": "rgb(36,36,36)",
           "showgrid": true,
           "showline": true,
           "ticks": "outside",
           "title": {
            "standoff": 15
           },
           "zeroline": false,
           "zerolinecolor": "rgb(36,36,36)"
          }
         }
        },
        "xaxis": {
         "anchor": "y",
         "domain": [
          0,
          1
         ],
         "title": {
          "text": "Year"
         }
        },
        "yaxis": {
         "anchor": "x",
         "domain": [
          0,
          1
         ],
         "title": {
          "text": "Homeruns"
         }
        }
       }
      }
     },
     "metadata": {},
     "output_type": "display_data"
    }
   ],
   "source": [
    "from sklearn.linear_model import LinearRegression\n",
    "\n",
    "def fit_model_and_return_predictions(X, y):\n",
    "    X = X.copy()\n",
    "    # Below, create your features and design matrix,\n",
    "    # instantiate a LinearRegression object,\n",
    "    # fit it, and then call model.predict on it.\n",
    "    X[\"X^2\"] = X[\"Year\"]**2\n",
    "    X[\"X^3\"] = X[\"Year\"]**3\n",
    "    X[\"X^4\"] = X[\"Year\"]**4\n",
    "    model = LinearRegression()\n",
    "    model.fit(X, y)\n",
    "    return model.predict(X)\n",
    "\n",
    "# Feel free to change this input to make sure your function works correctly.\n",
    "preds = fit_model_and_return_predictions(homeruns[['Year']], homeruns['Homeruns'])\n",
    "print(MSE(preds,homeruns['Homeruns']))\n",
    "\n",
    "\n",
    "# Uncomment the code below to see a graph of your\n",
    "# fit hypothesis function's predictions.\n",
    "fig = homeruns.plot(kind='scatter', x='Year', y='Homeruns')\n",
    "\n",
    "fig.add_trace(go.Scatter(\n",
    "    x=homeruns['Year'],\n",
    "    y=preds,\n",
    "    mode='lines',\n",
    "    line=dict(width=4),\n",
    "    name='Fit Model'\n",
    "))"
   ]
  },
  {
   "cell_type": "code",
   "execution_count": 22,
   "id": "cae995c4",
   "metadata": {
    "deletable": false,
    "editable": false
   },
   "outputs": [
    {
     "data": {
      "text/html": [
       "<p><strong><pre style='display: inline;'>q03_02</pre></strong> passed!</p>"
      ],
      "text/plain": [
       "q03_02 results: All test cases passed!"
      ]
     },
     "execution_count": 22,
     "metadata": {},
     "output_type": "execute_result"
    }
   ],
   "source": [
    "grader.check(\"q03_02\")"
   ]
  },
  {
   "cell_type": "markdown",
   "id": "636a7f59",
   "metadata": {},
   "source": [
    "### Question 3.3 [Autograded 💻] <div style=\"display:inline-block; vertical-align: middle; padding:7px 7px; font-size:10px; font-weight:light; color:white; background-color:#e84c4a; border-radius:7px; text-align:left;\">5 Points</div>\n",
    "\n",
    "Above, you had to manually create features that resulted in a hypothesis function that fit the data well (but not too well). You may wonder, is there a way to do this automatically?\n",
    "\n",
    "One _kind-of_ solution is to use **Nearest Neighbors Regression**. In nearest neighbors regression, to evaluate the hypothesis function $H^*$ on the input $x_\\text{new}$:\n",
    "\n",
    "1. First, choose a value of $k$. Sometimes, this is called **$k$-Nearest Neighbors Regression, or $k$-NN Regression**.\n",
    "1. Then:\n",
    "    1. Find the $k$ points in the original dataset whose $x$-values are closest to $x_\\text{new}$ in terms of absolute value (note that since we're essentially dealing with just a single $x$ feature, using squared distance would also work the same way).\n",
    "    1. Return the mean of the $y$-values corresponding to the $k$ points found in the step above.\n",
    "\n",
    "For example, suppose our original dataset is:\n",
    "\n",
    "| x | y |\n",
    "| --- | --- |\n",
    "| 10 | 5 |\n",
    "| 11 | 17 |\n",
    "| 12 | 26 |\n",
    "| 19 | -5 |\n",
    "| 25 | 3 |\n",
    "\n",
    "Suppose we choose $k = 3$, and suppose we want to predict the $y$-value for $x_\\text{new} = 20$. Then:\n",
    "- The $k = 3$ points with the closest $x$-values are $(19, -5)$, $(25, 3)$, and $(12, 26)$.\n",
    "- The mean of the $y$-values of the three points above is $\\frac{-5 + 3 + 26}{3} = 8$.\n",
    "- So, we predict a $y$-value of 8 for input $x_\\text{new} = 20$.\n",
    "\n",
    "This is a regression technique, because it allows us to predict real-valued outputs. However, it is different from linear regression in that it is **non-parametric** – there are no **parameters** $w_0^*, w_1^*, ...$ that we're solving for in order to make our predictions.\n",
    "\n",
    "We can choose $k$ to be whatever we want it to be, but some values of $k$ are \"better\" in some sense than others. We'll explore this idea in Question 3.4, when we tie things back into the `homeruns` dataset.\n",
    "\n",
    "**Your job is to** complete the implementation of the function `create_knn_regressor`, which takes in:\n",
    "- `x`, a 1D array/Series of $x$-values, e.g. `homeruns['Year']`,\n",
    "- `y`, a 1D array/Series of $y$-values, e.g. `homeruns['Homeruns']`, and\n",
    "- `k`, a positive integer corresponding to the value of $k$ (where `k <= len(x)`).\n",
    "\n",
    "`create_knn_regressor` should return a **function** that can take in a single number `x_new` and return the predicted $y$-value for the input `x_new`, according to the process outlined above.\n",
    "\n",
    "Example behavior is given below.\n",
    "\n",
    "```python\n",
    ">> regressor = create_knn_regressor(x=np.array([10, 11, 12, 19, 25]),\n",
    "                                    y=np.array([5, 17, 26, -5, 3]),\n",
    "                                    k=3)\n",
    ">>> regressor(20)\n",
    "8.0\n",
    "```\n",
    "\n",
    "Some guidance:\n",
    "- The bulk of the work in this question is in understanding how Nearest Neighbors Regression works. Our implementation is very short (5 lines total).\n",
    "- **You're not allowed to use `sklearn` here**, but don't forget to use what you know about `pandas` DataFrames! You shouldn't use a `for`-loop.\n",
    "- Don't worry about cases in which there are ties in distance (e.g. if $k = 3$ but there are 4 points that are all equidistant from $x_\\text{new}$ such that they are all the closest); our tests are written in a way that will not penalize your handling of this situation if it's different from ours."
   ]
  },
  {
   "cell_type": "code",
   "execution_count": 23,
   "id": "72c61ae4",
   "metadata": {
    "tags": []
   },
   "outputs": [
    {
     "data": {
      "text/plain": [
       "8.0"
      ]
     },
     "execution_count": 23,
     "metadata": {},
     "output_type": "execute_result"
    }
   ],
   "source": [
    "def create_knn_regressor(x, y, k):\n",
    "    x = x.copy()\n",
    "    y = y.copy()\n",
    "    def reg(new):\n",
    "        dis = np.abs(x - new)\n",
    "        idx = np.argsort(dis)\n",
    "        return np.mean(y[idx[:k]])\n",
    "    return reg\n",
    "\n",
    "# Feel free to change these inputs to make sure your function works correctly.\n",
    "# It's a good idea to test out create_knn_regressor on the homeruns dataset!\n",
    "regressor = create_knn_regressor(x=np.array([10, 11, 12, 19, 25]),\n",
    "                                 y=np.array([5, 17, 26, -5, 3]),\n",
    "                                 k=3)\n",
    "regressor(20)"
   ]
  },
  {
   "cell_type": "code",
   "execution_count": 24,
   "id": "032512a9",
   "metadata": {
    "deletable": false,
    "editable": false
   },
   "outputs": [
    {
     "data": {
      "text/html": [
       "<p><strong><pre style='display: inline;'>q03_03</pre></strong> passed!</p>"
      ],
      "text/plain": [
       "q03_03 results: All test cases passed!"
      ]
     },
     "execution_count": 24,
     "metadata": {},
     "output_type": "execute_result"
    }
   ],
   "source": [
    "grader.check(\"q03_03\")"
   ]
  },
  {
   "cell_type": "markdown",
   "id": "d1d376f4",
   "metadata": {},
   "source": [
    "Once you've implemented `create_knn_regressor`, run the cell below to see an **interactive** widget that will allow you to choose different values of $k$ and see the resulting $k$-NN regressor plotted on top of the `homeruns` dataset."
   ]
  },
  {
   "cell_type": "code",
   "execution_count": 25,
   "id": "50a3c759",
   "metadata": {},
   "outputs": [
    {
     "data": {
      "application/vnd.plotly.v1+json": {
       "config": {
        "plotlyServerURL": "https://plot.ly"
       },
       "data": [
        {
         "hovertemplate": "x=%{x}<br>y=%{y}<extra></extra>",
         "legendgroup": "",
         "marker": {
          "color": "#1F77B4",
          "symbol": "circle"
         },
         "mode": "markers",
         "name": "",
         "orientation": "v",
         "showlegend": false,
         "type": "scatter",
         "x": [
          1900,
          1901,
          1902,
          1903,
          1904,
          1905,
          1906,
          1907,
          1908,
          1909,
          1910,
          1911,
          1912,
          1913,
          1914,
          1915,
          1916,
          1917,
          1918,
          1919,
          1920,
          1921,
          1922,
          1923,
          1924,
          1925,
          1926,
          1927,
          1928,
          1929,
          1930,
          1931,
          1932,
          1933,
          1934,
          1935,
          1936,
          1937,
          1938,
          1939,
          1940,
          1941,
          1942,
          1943,
          1944,
          1945,
          1946,
          1947,
          1948,
          1949,
          1950,
          1951,
          1952,
          1953,
          1954,
          1955,
          1956,
          1957,
          1958,
          1959,
          1960,
          1961,
          1962,
          1963,
          1964,
          1965,
          1966,
          1967,
          1968,
          1969,
          1970,
          1971,
          1972,
          1973,
          1974,
          1975,
          1976,
          1977,
          1978,
          1979,
          1980,
          1981,
          1982,
          1983,
          1984,
          1985,
          1986,
          1987,
          1988,
          1989,
          1990,
          1991,
          1992,
          1993,
          1994,
          1995,
          1996,
          1997,
          1998,
          1999,
          2000,
          2001,
          2002,
          2003,
          2004,
          2005,
          2006,
          2007,
          2008,
          2009,
          2010,
          2011,
          2012,
          2013,
          2014,
          2015,
          2016,
          2017,
          2018,
          2019
         ],
         "xaxis": "x",
         "y": [
          254,
          455,
          354,
          335,
          331,
          338,
          261,
          244,
          267,
          259,
          361,
          514,
          442,
          470,
          710,
          635,
          383,
          335,
          235,
          447,
          630,
          937,
          1055,
          980,
          896,
          1169,
          863,
          922,
          1093,
          1349,
          1565,
          1069,
          1358,
          1067,
          1344,
          1325,
          1364,
          1430,
          1475,
          1445,
          1571,
          1331,
          1071,
          905,
          1034,
          1007,
          1215,
          1565,
          1555,
          1704,
          2073,
          1863,
          1701,
          2076,
          1937,
          2224,
          2294,
          2202,
          2240,
          2250,
          2128,
          2730,
          3001,
          2704,
          2762,
          2688,
          2743,
          2299,
          1995,
          3119,
          3429,
          2863,
          2534,
          3102,
          2649,
          2698,
          2235,
          3644,
          2956,
          3433,
          3087,
          1781,
          3379,
          3301,
          3258,
          3602,
          3813,
          4458,
          3180,
          3083,
          3317,
          3383,
          3038,
          4030,
          3306,
          4081,
          4962,
          4640,
          5064,
          5528,
          5693,
          5458,
          5059,
          5207,
          5451,
          5017,
          5386,
          4957,
          4878,
          5042,
          4613,
          4552,
          4934,
          4661,
          4186,
          4909,
          5610,
          6105,
          5585,
          6776
         ],
         "yaxis": "y"
        },
        {
         "line": {
          "width": 4
         },
         "mode": "lines",
         "name": "Fit Model",
         "type": "scatter",
         "x": [
          1900,
          1901,
          1902,
          1903,
          1904,
          1905,
          1906,
          1907,
          1908,
          1909,
          1910,
          1911,
          1912,
          1913,
          1914,
          1915,
          1916,
          1917,
          1918,
          1919,
          1920,
          1921,
          1922,
          1923,
          1924,
          1925,
          1926,
          1927,
          1928,
          1929,
          1930,
          1931,
          1932,
          1933,
          1934,
          1935,
          1936,
          1937,
          1938,
          1939,
          1940,
          1941,
          1942,
          1943,
          1944,
          1945,
          1946,
          1947,
          1948,
          1949,
          1950,
          1951,
          1952,
          1953,
          1954,
          1955,
          1956,
          1957,
          1958,
          1959,
          1960,
          1961,
          1962,
          1963,
          1964,
          1965,
          1966,
          1967,
          1968,
          1969,
          1970,
          1971,
          1972,
          1973,
          1974,
          1975,
          1976,
          1977,
          1978,
          1979,
          1980,
          1981,
          1982,
          1983,
          1984,
          1985,
          1986,
          1987,
          1988,
          1989,
          1990,
          1991,
          1992,
          1993,
          1994,
          1995,
          1996,
          1997,
          1998,
          1999,
          2000,
          2001,
          2002,
          2003,
          2004,
          2005,
          2006,
          2007,
          2008,
          2009,
          2010,
          2011,
          2012,
          2013,
          2014,
          2015,
          2016,
          2017,
          2018,
          2019
         ],
         "y": [
          345.8,
          345.8,
          345.8,
          362.6,
          323.8,
          301.8,
          288.2,
          273.8,
          278.4,
          329,
          368.6,
          409.2,
          499.4,
          554.2,
          528,
          506.6,
          459.6,
          407,
          406,
          516.8,
          660.8,
          809.8,
          899.6,
          1007.4,
          992.6,
          966,
          988.6,
          1079.2,
          1158.4,
          1199.6,
          1286.8,
          1281.6,
          1280.6,
          1232.6,
          1291.6,
          1306,
          1387.6,
          1407.8,
          1457,
          1450.4,
          1378.6,
          1264.6,
          1182.4,
          1069.6,
          1046.4,
          1145.2,
          1275.2,
          1409.2,
          1622.4,
          1752,
          1779.2,
          1883.4,
          1930,
          1960.2,
          2046.4,
          2146.6,
          2179.4,
          2242,
          2222.8,
          2310,
          2469.8,
          2562.6,
          2665,
          2777,
          2779.6,
          2639.2,
          2497.4,
          2568.8,
          2717,
          2741,
          2788,
          3009.4,
          2915.4,
          2769.2,
          2643.6,
          2865.6,
          2836.4,
          2993.2,
          3071,
          2980.2,
          2927.2,
          2996.2,
          2961.2,
          3064.2,
          3470.6,
          3686.4,
          3662.2,
          3627.2,
          3570.2,
          3484.2,
          3200.2,
          3370.2,
          3414.8,
          3567.6,
          3883.4,
          4203.8,
          4410.6,
          4855,
          5177.4,
          5276.6,
          5360.4,
          5389,
          5373.6,
          5238.4,
          5224,
          5203.6,
          5137.8,
          5056,
          4975.2,
          4808.4,
          4803.8,
          4760.4,
          4589.2,
          4648.4,
          4860,
          5094.2,
          5279,
          5797,
          5797,
          5797
         ]
        }
       ],
       "layout": {
        "legend": {
         "tracegroupgap": 0
        },
        "template": {
         "data": {
          "bar": [
           {
            "error_x": {
             "color": "rgb(36,36,36)"
            },
            "error_y": {
             "color": "rgb(36,36,36)"
            },
            "marker": {
             "line": {
              "color": "white",
              "width": 0.5
             },
             "pattern": {
              "fillmode": "overlay",
              "size": 10,
              "solidity": 0.2
             }
            },
            "type": "bar"
           }
          ],
          "barpolar": [
           {
            "marker": {
             "line": {
              "color": "white",
              "width": 0.5
             },
             "pattern": {
              "fillmode": "overlay",
              "size": 10,
              "solidity": 0.2
             }
            },
            "type": "barpolar"
           }
          ],
          "carpet": [
           {
            "aaxis": {
             "endlinecolor": "rgb(36,36,36)",
             "gridcolor": "white",
             "linecolor": "white",
             "minorgridcolor": "white",
             "startlinecolor": "rgb(36,36,36)"
            },
            "baxis": {
             "endlinecolor": "rgb(36,36,36)",
             "gridcolor": "white",
             "linecolor": "white",
             "minorgridcolor": "white",
             "startlinecolor": "rgb(36,36,36)"
            },
            "type": "carpet"
           }
          ],
          "choropleth": [
           {
            "colorbar": {
             "outlinewidth": 1,
             "tickcolor": "rgb(36,36,36)",
             "ticks": "outside"
            },
            "type": "choropleth"
           }
          ],
          "contour": [
           {
            "colorbar": {
             "outlinewidth": 1,
             "tickcolor": "rgb(36,36,36)",
             "ticks": "outside"
            },
            "colorscale": [
             [
              0,
              "#440154"
             ],
             [
              0.1111111111111111,
              "#482878"
             ],
             [
              0.2222222222222222,
              "#3e4989"
             ],
             [
              0.3333333333333333,
              "#31688e"
             ],
             [
              0.4444444444444444,
              "#26828e"
             ],
             [
              0.5555555555555556,
              "#1f9e89"
             ],
             [
              0.6666666666666666,
              "#35b779"
             ],
             [
              0.7777777777777778,
              "#6ece58"
             ],
             [
              0.8888888888888888,
              "#b5de2b"
             ],
             [
              1,
              "#fde725"
             ]
            ],
            "type": "contour"
           }
          ],
          "contourcarpet": [
           {
            "colorbar": {
             "outlinewidth": 1,
             "tickcolor": "rgb(36,36,36)",
             "ticks": "outside"
            },
            "type": "contourcarpet"
           }
          ],
          "heatmap": [
           {
            "colorbar": {
             "outlinewidth": 1,
             "tickcolor": "rgb(36,36,36)",
             "ticks": "outside"
            },
            "colorscale": [
             [
              0,
              "#440154"
             ],
             [
              0.1111111111111111,
              "#482878"
             ],
             [
              0.2222222222222222,
              "#3e4989"
             ],
             [
              0.3333333333333333,
              "#31688e"
             ],
             [
              0.4444444444444444,
              "#26828e"
             ],
             [
              0.5555555555555556,
              "#1f9e89"
             ],
             [
              0.6666666666666666,
              "#35b779"
             ],
             [
              0.7777777777777778,
              "#6ece58"
             ],
             [
              0.8888888888888888,
              "#b5de2b"
             ],
             [
              1,
              "#fde725"
             ]
            ],
            "type": "heatmap"
           }
          ],
          "heatmapgl": [
           {
            "colorbar": {
             "outlinewidth": 1,
             "tickcolor": "rgb(36,36,36)",
             "ticks": "outside"
            },
            "colorscale": [
             [
              0,
              "#440154"
             ],
             [
              0.1111111111111111,
              "#482878"
             ],
             [
              0.2222222222222222,
              "#3e4989"
             ],
             [
              0.3333333333333333,
              "#31688e"
             ],
             [
              0.4444444444444444,
              "#26828e"
             ],
             [
              0.5555555555555556,
              "#1f9e89"
             ],
             [
              0.6666666666666666,
              "#35b779"
             ],
             [
              0.7777777777777778,
              "#6ece58"
             ],
             [
              0.8888888888888888,
              "#b5de2b"
             ],
             [
              1,
              "#fde725"
             ]
            ],
            "type": "heatmapgl"
           }
          ],
          "histogram": [
           {
            "marker": {
             "line": {
              "color": "white",
              "width": 0.6
             }
            },
            "type": "histogram"
           }
          ],
          "histogram2d": [
           {
            "colorbar": {
             "outlinewidth": 1,
             "tickcolor": "rgb(36,36,36)",
             "ticks": "outside"
            },
            "colorscale": [
             [
              0,
              "#440154"
             ],
             [
              0.1111111111111111,
              "#482878"
             ],
             [
              0.2222222222222222,
              "#3e4989"
             ],
             [
              0.3333333333333333,
              "#31688e"
             ],
             [
              0.4444444444444444,
              "#26828e"
             ],
             [
              0.5555555555555556,
              "#1f9e89"
             ],
             [
              0.6666666666666666,
              "#35b779"
             ],
             [
              0.7777777777777778,
              "#6ece58"
             ],
             [
              0.8888888888888888,
              "#b5de2b"
             ],
             [
              1,
              "#fde725"
             ]
            ],
            "type": "histogram2d"
           }
          ],
          "histogram2dcontour": [
           {
            "colorbar": {
             "outlinewidth": 1,
             "tickcolor": "rgb(36,36,36)",
             "ticks": "outside"
            },
            "colorscale": [
             [
              0,
              "#440154"
             ],
             [
              0.1111111111111111,
              "#482878"
             ],
             [
              0.2222222222222222,
              "#3e4989"
             ],
             [
              0.3333333333333333,
              "#31688e"
             ],
             [
              0.4444444444444444,
              "#26828e"
             ],
             [
              0.5555555555555556,
              "#1f9e89"
             ],
             [
              0.6666666666666666,
              "#35b779"
             ],
             [
              0.7777777777777778,
              "#6ece58"
             ],
             [
              0.8888888888888888,
              "#b5de2b"
             ],
             [
              1,
              "#fde725"
             ]
            ],
            "type": "histogram2dcontour"
           }
          ],
          "mesh3d": [
           {
            "colorbar": {
             "outlinewidth": 1,
             "tickcolor": "rgb(36,36,36)",
             "ticks": "outside"
            },
            "type": "mesh3d"
           }
          ],
          "parcoords": [
           {
            "line": {
             "colorbar": {
              "outlinewidth": 1,
              "tickcolor": "rgb(36,36,36)",
              "ticks": "outside"
             }
            },
            "type": "parcoords"
           }
          ],
          "pie": [
           {
            "automargin": true,
            "type": "pie"
           }
          ],
          "scatter": [
           {
            "fillpattern": {
             "fillmode": "overlay",
             "size": 10,
             "solidity": 0.2
            },
            "type": "scatter"
           }
          ],
          "scatter3d": [
           {
            "line": {
             "colorbar": {
              "outlinewidth": 1,
              "tickcolor": "rgb(36,36,36)",
              "ticks": "outside"
             }
            },
            "marker": {
             "colorbar": {
              "outlinewidth": 1,
              "tickcolor": "rgb(36,36,36)",
              "ticks": "outside"
             }
            },
            "type": "scatter3d"
           }
          ],
          "scattercarpet": [
           {
            "marker": {
             "colorbar": {
              "outlinewidth": 1,
              "tickcolor": "rgb(36,36,36)",
              "ticks": "outside"
             }
            },
            "type": "scattercarpet"
           }
          ],
          "scattergeo": [
           {
            "marker": {
             "colorbar": {
              "outlinewidth": 1,
              "tickcolor": "rgb(36,36,36)",
              "ticks": "outside"
             }
            },
            "type": "scattergeo"
           }
          ],
          "scattergl": [
           {
            "marker": {
             "colorbar": {
              "outlinewidth": 1,
              "tickcolor": "rgb(36,36,36)",
              "ticks": "outside"
             }
            },
            "type": "scattergl"
           }
          ],
          "scattermapbox": [
           {
            "marker": {
             "colorbar": {
              "outlinewidth": 1,
              "tickcolor": "rgb(36,36,36)",
              "ticks": "outside"
             }
            },
            "type": "scattermapbox"
           }
          ],
          "scatterpolar": [
           {
            "marker": {
             "colorbar": {
              "outlinewidth": 1,
              "tickcolor": "rgb(36,36,36)",
              "ticks": "outside"
             }
            },
            "type": "scatterpolar"
           }
          ],
          "scatterpolargl": [
           {
            "marker": {
             "colorbar": {
              "outlinewidth": 1,
              "tickcolor": "rgb(36,36,36)",
              "ticks": "outside"
             }
            },
            "type": "scatterpolargl"
           }
          ],
          "scatterternary": [
           {
            "marker": {
             "colorbar": {
              "outlinewidth": 1,
              "tickcolor": "rgb(36,36,36)",
              "ticks": "outside"
             }
            },
            "type": "scatterternary"
           }
          ],
          "surface": [
           {
            "colorbar": {
             "outlinewidth": 1,
             "tickcolor": "rgb(36,36,36)",
             "ticks": "outside"
            },
            "colorscale": [
             [
              0,
              "#440154"
             ],
             [
              0.1111111111111111,
              "#482878"
             ],
             [
              0.2222222222222222,
              "#3e4989"
             ],
             [
              0.3333333333333333,
              "#31688e"
             ],
             [
              0.4444444444444444,
              "#26828e"
             ],
             [
              0.5555555555555556,
              "#1f9e89"
             ],
             [
              0.6666666666666666,
              "#35b779"
             ],
             [
              0.7777777777777778,
              "#6ece58"
             ],
             [
              0.8888888888888888,
              "#b5de2b"
             ],
             [
              1,
              "#fde725"
             ]
            ],
            "type": "surface"
           }
          ],
          "table": [
           {
            "cells": {
             "fill": {
              "color": "rgb(237,237,237)"
             },
             "line": {
              "color": "white"
             }
            },
            "header": {
             "fill": {
              "color": "rgb(217,217,217)"
             },
             "line": {
              "color": "white"
             }
            },
            "type": "table"
           }
          ]
         },
         "layout": {
          "annotationdefaults": {
           "arrowhead": 0,
           "arrowwidth": 1
          },
          "autosize": true,
          "autotypenumbers": "strict",
          "coloraxis": {
           "colorbar": {
            "outlinewidth": 1,
            "tickcolor": "rgb(36,36,36)",
            "ticks": "outside"
           }
          },
          "colorscale": {
           "diverging": [
            [
             0,
             "rgb(103,0,31)"
            ],
            [
             0.1,
             "rgb(178,24,43)"
            ],
            [
             0.2,
             "rgb(214,96,77)"
            ],
            [
             0.3,
             "rgb(244,165,130)"
            ],
            [
             0.4,
             "rgb(253,219,199)"
            ],
            [
             0.5,
             "rgb(247,247,247)"
            ],
            [
             0.6,
             "rgb(209,229,240)"
            ],
            [
             0.7,
             "rgb(146,197,222)"
            ],
            [
             0.8,
             "rgb(67,147,195)"
            ],
            [
             0.9,
             "rgb(33,102,172)"
            ],
            [
             1,
             "rgb(5,48,97)"
            ]
           ],
           "sequential": [
            [
             0,
             "#440154"
            ],
            [
             0.1111111111111111,
             "#482878"
            ],
            [
             0.2222222222222222,
             "#3e4989"
            ],
            [
             0.3333333333333333,
             "#31688e"
            ],
            [
             0.4444444444444444,
             "#26828e"
            ],
            [
             0.5555555555555556,
             "#1f9e89"
            ],
            [
             0.6666666666666666,
             "#35b779"
            ],
            [
             0.7777777777777778,
             "#6ece58"
            ],
            [
             0.8888888888888888,
             "#b5de2b"
            ],
            [
             1,
             "#fde725"
            ]
           ],
           "sequentialminus": [
            [
             0,
             "#440154"
            ],
            [
             0.1111111111111111,
             "#482878"
            ],
            [
             0.2222222222222222,
             "#3e4989"
            ],
            [
             0.3333333333333333,
             "#31688e"
            ],
            [
             0.4444444444444444,
             "#26828e"
            ],
            [
             0.5555555555555556,
             "#1f9e89"
            ],
            [
             0.6666666666666666,
             "#35b779"
            ],
            [
             0.7777777777777778,
             "#6ece58"
            ],
            [
             0.8888888888888888,
             "#b5de2b"
            ],
            [
             1,
             "#fde725"
            ]
           ]
          },
          "colorway": [
           "#1F77B4",
           "#FF7F0E",
           "#2CA02C",
           "#D62728",
           "#9467BD",
           "#8C564B",
           "#E377C2",
           "#7F7F7F",
           "#BCBD22",
           "#17BECF"
          ],
          "font": {
           "color": "rgb(36,36,36)"
          },
          "geo": {
           "bgcolor": "white",
           "lakecolor": "white",
           "landcolor": "white",
           "showlakes": true,
           "showland": true,
           "subunitcolor": "white"
          },
          "height": 400,
          "hoverlabel": {
           "align": "left"
          },
          "hovermode": "closest",
          "mapbox": {
           "style": "light"
          },
          "margin": {
           "b": 30,
           "l": 30,
           "r": 30,
           "t": 30
          },
          "paper_bgcolor": "white",
          "plot_bgcolor": "white",
          "polar": {
           "angularaxis": {
            "gridcolor": "rgb(232,232,232)",
            "linecolor": "rgb(36,36,36)",
            "showgrid": false,
            "showline": true,
            "ticks": "outside"
           },
           "bgcolor": "white",
           "radialaxis": {
            "gridcolor": "rgb(232,232,232)",
            "linecolor": "rgb(36,36,36)",
            "showgrid": false,
            "showline": true,
            "ticks": "outside"
           }
          },
          "scene": {
           "xaxis": {
            "backgroundcolor": "white",
            "gridcolor": "rgb(232,232,232)",
            "gridwidth": 2,
            "linecolor": "rgb(36,36,36)",
            "showbackground": true,
            "showgrid": false,
            "showline": true,
            "ticks": "outside",
            "zeroline": false,
            "zerolinecolor": "rgb(36,36,36)"
           },
           "yaxis": {
            "backgroundcolor": "white",
            "gridcolor": "rgb(232,232,232)",
            "gridwidth": 2,
            "linecolor": "rgb(36,36,36)",
            "showbackground": true,
            "showgrid": false,
            "showline": true,
            "ticks": "outside",
            "zeroline": false,
            "zerolinecolor": "rgb(36,36,36)"
           },
           "zaxis": {
            "backgroundcolor": "white",
            "gridcolor": "rgb(232,232,232)",
            "gridwidth": 2,
            "linecolor": "rgb(36,36,36)",
            "showbackground": true,
            "showgrid": false,
            "showline": true,
            "ticks": "outside",
            "zeroline": false,
            "zerolinecolor": "rgb(36,36,36)"
           }
          },
          "shapedefaults": {
           "fillcolor": "black",
           "line": {
            "width": 0
           },
           "opacity": 0.3
          },
          "ternary": {
           "aaxis": {
            "gridcolor": "rgb(232,232,232)",
            "linecolor": "rgb(36,36,36)",
            "showgrid": false,
            "showline": true,
            "ticks": "outside"
           },
           "baxis": {
            "gridcolor": "rgb(232,232,232)",
            "linecolor": "rgb(36,36,36)",
            "showgrid": false,
            "showline": true,
            "ticks": "outside"
           },
           "bgcolor": "white",
           "caxis": {
            "gridcolor": "rgb(232,232,232)",
            "linecolor": "rgb(36,36,36)",
            "showgrid": false,
            "showline": true,
            "ticks": "outside"
           }
          },
          "title": {
           "x": 0.5,
           "xanchor": "center"
          },
          "width": 600,
          "xaxis": {
           "automargin": true,
           "gridcolor": "rgb(232,232,232)",
           "linecolor": "rgb(36,36,36)",
           "showgrid": true,
           "showline": true,
           "ticks": "outside",
           "title": {
            "standoff": 15
           },
           "zeroline": false,
           "zerolinecolor": "rgb(36,36,36)"
          },
          "yaxis": {
           "automargin": true,
           "gridcolor": "rgb(232,232,232)",
           "linecolor": "rgb(36,36,36)",
           "showgrid": true,
           "showline": true,
           "ticks": "outside",
           "title": {
            "standoff": 15
           },
           "zeroline": false,
           "zerolinecolor": "rgb(36,36,36)"
          }
         }
        },
        "title": {
         "text": "Fit kNN Model with k=5"
        },
        "xaxis": {
         "anchor": "y",
         "domain": [
          0,
          1
         ],
         "title": {
          "text": "Year"
         }
        },
        "yaxis": {
         "anchor": "x",
         "domain": [
          0,
          1
         ],
         "title": {
          "text": "Homeruns"
         }
        }
       }
      }
     },
     "metadata": {},
     "output_type": "display_data"
    },
    {
     "data": {
      "application/vnd.jupyter.widget-view+json": {
       "model_id": "aa855945da764fe1af00bb6174c9d8b4",
       "version_major": 2,
       "version_minor": 0
      },
      "text/plain": [
       "interactive(children=(IntSlider(value=5, description='k', max=140, min=1), Output()), _dom_classes=('widget-in…"
      ]
     },
     "metadata": {},
     "output_type": "display_data"
    }
   ],
   "source": [
    "import ipywidgets as widgets\n",
    "from IPython.display import display, clear_output\n",
    "\n",
    "def plot_given_k(k):\n",
    "    x = homeruns['Year']\n",
    "    y = homeruns['Homeruns']\n",
    "    regressor = create_knn_regressor(x, y, k)\n",
    "    preds = [regressor(xi) for xi in x]\n",
    "\n",
    "    fig = px.scatter(x=x, y=y).update_layout(xaxis_title='Year', yaxis_title='Homeruns', title=f'Fit kNN Model with k={k}')\n",
    "\n",
    "    return fig.add_trace(go.Scatter(\n",
    "        x=x,\n",
    "        y=preds,\n",
    "        mode='lines',\n",
    "        line=dict(width=4),\n",
    "        name='Fit Model'\n",
    "    ))\n",
    "\n",
    "widgets.interact(plot_given_k, k=widgets.IntSlider(min=1, max=140, step=1, value=5));"
   ]
  },
  {
   "cell_type": "markdown",
   "id": "4ff5c6e3",
   "metadata": {},
   "source": [
    "Try different values of $k$ – what do you notice?"
   ]
  },
  {
   "cell_type": "markdown",
   "id": "73b35959",
   "metadata": {},
   "source": [
    "<!-- BEGIN QUESTION -->\n",
    "\n",
    "### Question 3.4 [Written ✏️] <div style=\"display:inline-block; vertical-align: middle; padding:7px 7px; font-size:10px; font-weight:light; color:white; background-color:#e84c4a; border-radius:7px; text-align:left;\">3 Points</div>\n",
    "\n",
    "Play around with the interactive cell above. Then, comment on the following points **in your PDF writeup, along with your answers to the rest of the written problems in this homework (that is, _not_ in this notebook)**:\n",
    "1. When $k = 1$, what does the resulting fit model look like, and how does it relate to models we've seen in earlier lectures/homeworks?\n",
    "2. When $k = 140$, what does the resulting fit model look like, and how does it relate to models we've seen in earlier lectures/homeworks?\n",
    "3. Which value of $k$ do you _feel_ best captures the trend in the data, and why? (Just give a one sentence intuitive answer – no calculations needed.)"
   ]
  },
  {
   "cell_type": "markdown",
   "id": "8f1e1892",
   "metadata": {},
   "source": [
    "DONE "
   ]
  },
  {
   "cell_type": "markdown",
   "id": "cf6aa416",
   "metadata": {},
   "source": [
    "<!-- END QUESTION -->\n",
    "\n",
    "## Question 4: Diamond Pricing 💎\n",
    "\n",
    "---\n",
    "\n",
    "In this next section, you will pretend you are a jewelry appraiser and predict the prices of diamonds given several standard characteristics of diamonds.\n",
    "\n",
    "You will use linear regression to predict prices, while improving the quality of your predictions using **feature engineering**. Since this question is supposed to help you understand feature engineering, **you will be building these features from scratch, instead of using built-in `sklearn` methods**.\n",
    "\n",
    "The `diamonds` dataset is accessible via `seaborn` (with `sns.load_dataset('diamonds')`), but we've skipped that step and loaded it for you below. The DataFrame has 53940 rows and 10 columns:\n",
    "\n",
    "|column|description|unique values or range|\n",
    "|---|---|---|\n",
    "|`'carat'`|weight of the diamond in carats (each carat is 0.2 grams)| 0.2 - 5.01 |\n",
    "|`'cut'`|quality of the cut | Fair, Good, Very Good, Premium, Ideal |\n",
    "|`'color'`|diamond colour | J (worst, near colorless), I, H, G, F, E, D (best, absolute colorless) |\n",
    "|`'clarity'`|a measurement of how clear the diamond is | I1 (worst), SI2, SI1, VS2, VS1, VVS2, VVS1, IF (best) |\n",
    "|`'depth'`|total depth percentage, computed as z / mean(x, y) = 2 * z / (x + y) | 43 - 79 |\n",
    "|`'table'`|width of top of diamond relative to widest point | 43 - 95 |\n",
    "|`'price'`|price in US dollars | \\\\$326 - \\\\$18,823 USD |\n",
    "|`'x'`|length in mm | 0 - 10.74 |\n",
    "|`'y'`|width in mm | 0 - 58.9 | \n",
    "|`'z'`|depth in mm | 0 - 31.8 |\n",
    "\n",
    "If you want to learn more about how diamonds are measured, refer to [this page by the American Gem Society](https://www.americangemsociety.org/4cs-of-diamonds/)."
   ]
  },
  {
   "cell_type": "code",
   "execution_count": 26,
   "id": "c14a1202",
   "metadata": {},
   "outputs": [
    {
     "data": {
      "text/html": [
       "<div>\n",
       "<style scoped>\n",
       "    .dataframe tbody tr th:only-of-type {\n",
       "        vertical-align: middle;\n",
       "    }\n",
       "\n",
       "    .dataframe tbody tr th {\n",
       "        vertical-align: top;\n",
       "    }\n",
       "\n",
       "    .dataframe thead th {\n",
       "        text-align: right;\n",
       "    }\n",
       "</style>\n",
       "<table border=\"1\" class=\"dataframe\">\n",
       "  <thead>\n",
       "    <tr style=\"text-align: right;\">\n",
       "      <th></th>\n",
       "      <th>carat</th>\n",
       "      <th>cut</th>\n",
       "      <th>color</th>\n",
       "      <th>clarity</th>\n",
       "      <th>depth</th>\n",
       "      <th>table</th>\n",
       "      <th>price</th>\n",
       "      <th>x</th>\n",
       "      <th>y</th>\n",
       "      <th>z</th>\n",
       "    </tr>\n",
       "  </thead>\n",
       "  <tbody>\n",
       "    <tr>\n",
       "      <th>0</th>\n",
       "      <td>0.23</td>\n",
       "      <td>Ideal</td>\n",
       "      <td>E</td>\n",
       "      <td>SI2</td>\n",
       "      <td>61.5</td>\n",
       "      <td>55.0</td>\n",
       "      <td>326</td>\n",
       "      <td>3.95</td>\n",
       "      <td>3.98</td>\n",
       "      <td>2.43</td>\n",
       "    </tr>\n",
       "    <tr>\n",
       "      <th>1</th>\n",
       "      <td>0.21</td>\n",
       "      <td>Premium</td>\n",
       "      <td>E</td>\n",
       "      <td>SI1</td>\n",
       "      <td>59.8</td>\n",
       "      <td>61.0</td>\n",
       "      <td>326</td>\n",
       "      <td>3.89</td>\n",
       "      <td>3.84</td>\n",
       "      <td>2.31</td>\n",
       "    </tr>\n",
       "    <tr>\n",
       "      <th>2</th>\n",
       "      <td>0.23</td>\n",
       "      <td>Good</td>\n",
       "      <td>E</td>\n",
       "      <td>VS1</td>\n",
       "      <td>56.9</td>\n",
       "      <td>65.0</td>\n",
       "      <td>327</td>\n",
       "      <td>4.05</td>\n",
       "      <td>4.07</td>\n",
       "      <td>2.31</td>\n",
       "    </tr>\n",
       "    <tr>\n",
       "      <th>3</th>\n",
       "      <td>0.29</td>\n",
       "      <td>Premium</td>\n",
       "      <td>I</td>\n",
       "      <td>VS2</td>\n",
       "      <td>62.4</td>\n",
       "      <td>58.0</td>\n",
       "      <td>334</td>\n",
       "      <td>4.20</td>\n",
       "      <td>4.23</td>\n",
       "      <td>2.63</td>\n",
       "    </tr>\n",
       "    <tr>\n",
       "      <th>4</th>\n",
       "      <td>0.31</td>\n",
       "      <td>Good</td>\n",
       "      <td>J</td>\n",
       "      <td>SI2</td>\n",
       "      <td>63.3</td>\n",
       "      <td>58.0</td>\n",
       "      <td>335</td>\n",
       "      <td>4.34</td>\n",
       "      <td>4.35</td>\n",
       "      <td>2.75</td>\n",
       "    </tr>\n",
       "  </tbody>\n",
       "</table>\n",
       "</div>"
      ],
      "text/plain": [
       "   carat      cut color clarity  depth  table  price     x     y     z\n",
       "0   0.23    Ideal     E     SI2   61.5   55.0    326  3.95  3.98  2.43\n",
       "1   0.21  Premium     E     SI1   59.8   61.0    326  3.89  3.84  2.31\n",
       "2   0.23     Good     E     VS1   56.9   65.0    327  4.05  4.07  2.31\n",
       "3   0.29  Premium     I     VS2   62.4   58.0    334  4.20  4.23  2.63\n",
       "4   0.31     Good     J     SI2   63.3   58.0    335  4.34  4.35  2.75"
      ]
     },
     "execution_count": 26,
     "metadata": {},
     "output_type": "execute_result"
    }
   ],
   "source": [
    "diamonds = pd.read_csv('data/diamonds.csv')\n",
    "diamonds.head()"
   ]
  },
  {
   "cell_type": "markdown",
   "id": "3982ecbc",
   "metadata": {},
   "source": [
    "### Question 4.1 [Autograded 💻] <div style=\"display:inline-block; vertical-align: middle; padding:7px 7px; font-size:10px; font-weight:light; color:white; background-color:#e84c4a; border-radius:7px; text-align:left;\">4 Points</div>\n",
    "\n",
    "Every categorical variable in the dataset is an ordinal column, meaning that there is an inherent order that we can use to sort the values in the column. An **ordinal encoding** is a feature transformation that maps the values in an ordinal column to positive integers in a way that preserves the order of the column values. For instance, an ordinal encoding for Freshman, Sophomore, Junior, Senior is 0, 1, 2, 3.\n",
    "\n",
    "Complete the implementation of the function `create_ordinal`, which takes in a DataFrame `df` like `diamonds` and returns a DataFrame of ordinal features only with names of the form `'ordinal_<col>'`, where `'<col>'` is the original categorical column name. For instance, the `'ordinal_color'` column should consist of values from 0 to 6, where 0 refers to `'J'` and 6 refers to `'D'`. **In all cases, start counting from 0.**\n",
    "\n",
    "Example behavior is given below.\n",
    "\n",
    "```python\n",
    ">>> create_ordinal(diamonds.head(5))\n",
    "```\n",
    "<table border=\"1\" class=\"dataframe\">\n",
    "  <thead>\n",
    "    <tr style=\"text-align: right;\">\n",
    "      <th></th>\n",
    "      <th>ordinal_cut</th>\n",
    "      <th>ordinal_clarity</th>\n",
    "      <th>ordinal_color</th>\n",
    "    </tr>\n",
    "  </thead>\n",
    "  <tbody>\n",
    "    <tr>\n",
    "      <th>0</th>\n",
    "      <td>4</td>\n",
    "      <td>1</td>\n",
    "      <td>5</td>\n",
    "    </tr>\n",
    "    <tr>\n",
    "      <th>1</th>\n",
    "      <td>3</td>\n",
    "      <td>2</td>\n",
    "      <td>5</td>\n",
    "    </tr>\n",
    "    <tr>\n",
    "      <th>2</th>\n",
    "      <td>1</td>\n",
    "      <td>4</td>\n",
    "      <td>5</td>\n",
    "    </tr>\n",
    "    <tr>\n",
    "      <th>3</th>\n",
    "      <td>3</td>\n",
    "      <td>3</td>\n",
    "      <td>1</td>\n",
    "    </tr>\n",
    "    <tr>\n",
    "      <th>4</th>\n",
    "      <td>1</td>\n",
    "      <td>1</td>\n",
    "      <td>0</td>\n",
    "    </tr>\n",
    "  </tbody>\n",
    "</table>\n",
    "\n",
    "Some guidance:\n",
    "- Remember, you're only permitted to use `pandas` operations. You might want to create a helper function that takes in a single column and an ordering for that column.\n",
    "- Don't include non-ordinal features in the returned DataFrame. That is, if there are only three columns in `diamonds` that are ordinal, `create_ordinal` should return a DataFrame with three columns.\n",
    "- The orderings for each of the ordinal columns are displayed in the data dictionary above (in the `'unique values or range'` column)."
   ]
  },
  {
   "cell_type": "code",
   "execution_count": 27,
   "id": "345f8420",
   "metadata": {
    "tags": [
     "to-py"
    ]
   },
   "outputs": [
    {
     "data": {
      "text/html": [
       "<div>\n",
       "<style scoped>\n",
       "    .dataframe tbody tr th:only-of-type {\n",
       "        vertical-align: middle;\n",
       "    }\n",
       "\n",
       "    .dataframe tbody tr th {\n",
       "        vertical-align: top;\n",
       "    }\n",
       "\n",
       "    .dataframe thead th {\n",
       "        text-align: right;\n",
       "    }\n",
       "</style>\n",
       "<table border=\"1\" class=\"dataframe\">\n",
       "  <thead>\n",
       "    <tr style=\"text-align: right;\">\n",
       "      <th></th>\n",
       "      <th>ordinal_cut</th>\n",
       "      <th>ordinal_color</th>\n",
       "      <th>ordinal_clarity</th>\n",
       "    </tr>\n",
       "  </thead>\n",
       "  <tbody>\n",
       "    <tr>\n",
       "      <th>0</th>\n",
       "      <td>4</td>\n",
       "      <td>5</td>\n",
       "      <td>1</td>\n",
       "    </tr>\n",
       "    <tr>\n",
       "      <th>1</th>\n",
       "      <td>3</td>\n",
       "      <td>5</td>\n",
       "      <td>2</td>\n",
       "    </tr>\n",
       "    <tr>\n",
       "      <th>2</th>\n",
       "      <td>1</td>\n",
       "      <td>5</td>\n",
       "      <td>4</td>\n",
       "    </tr>\n",
       "    <tr>\n",
       "      <th>3</th>\n",
       "      <td>3</td>\n",
       "      <td>1</td>\n",
       "      <td>3</td>\n",
       "    </tr>\n",
       "    <tr>\n",
       "      <th>4</th>\n",
       "      <td>1</td>\n",
       "      <td>0</td>\n",
       "      <td>1</td>\n",
       "    </tr>\n",
       "    <tr>\n",
       "      <th>...</th>\n",
       "      <td>...</td>\n",
       "      <td>...</td>\n",
       "      <td>...</td>\n",
       "    </tr>\n",
       "    <tr>\n",
       "      <th>53935</th>\n",
       "      <td>4</td>\n",
       "      <td>6</td>\n",
       "      <td>2</td>\n",
       "    </tr>\n",
       "    <tr>\n",
       "      <th>53936</th>\n",
       "      <td>1</td>\n",
       "      <td>6</td>\n",
       "      <td>2</td>\n",
       "    </tr>\n",
       "    <tr>\n",
       "      <th>53937</th>\n",
       "      <td>2</td>\n",
       "      <td>6</td>\n",
       "      <td>2</td>\n",
       "    </tr>\n",
       "    <tr>\n",
       "      <th>53938</th>\n",
       "      <td>3</td>\n",
       "      <td>2</td>\n",
       "      <td>1</td>\n",
       "    </tr>\n",
       "    <tr>\n",
       "      <th>53939</th>\n",
       "      <td>4</td>\n",
       "      <td>6</td>\n",
       "      <td>1</td>\n",
       "    </tr>\n",
       "  </tbody>\n",
       "</table>\n",
       "<p>53940 rows × 3 columns</p>\n",
       "</div>"
      ],
      "text/plain": [
       "       ordinal_cut  ordinal_color  ordinal_clarity\n",
       "0                4              5                1\n",
       "1                3              5                2\n",
       "2                1              5                4\n",
       "3                3              1                3\n",
       "4                1              0                1\n",
       "...            ...            ...              ...\n",
       "53935            4              6                2\n",
       "53936            1              6                2\n",
       "53937            2              6                2\n",
       "53938            3              2                1\n",
       "53939            4              6                1\n",
       "\n",
       "[53940 rows x 3 columns]"
      ]
     },
     "execution_count": 27,
     "metadata": {},
     "output_type": "execute_result"
    }
   ],
   "source": [
    "def create_ordinal(df):\n",
    "    dfc = df.copy()\n",
    "    dfc = dfc[[\"cut\", \"color\", \"clarity\"]]\n",
    "    dfc[\"ordinal_cut\"] = dfc[\"cut\"].replace({\"Fair\": 0, \"Good\": 1, \"Very Good\": 2, \"Premium\": 3, \"Ideal\": 4})\n",
    "    dfc[\"ordinal_color\"] = dfc[\"color\"].replace({\"J\": 0, \"I\": 1, \"H\": 2, \"G\": 3, \"F\": 4, \"E\": 5, \"D\": 6})\n",
    "    dfc[\"ordinal_clarity\"] = dfc[\"clarity\"].replace({\"I1\": 0, \"SI2\": 1, \"SI1\": 2, \"VS2\": 3, \"VS1\": 4, \"VVS2\": 5, \"VVS1\": 6, \"IF\": 7})\n",
    "    \n",
    "    dfc = dfc.drop(columns=[\"cut\", \"color\", \"clarity\"])\n",
    "    return dfc\n",
    "    \n",
    "# Feel free to change this input to make sure your function works correctly.\n",
    "create_ordinal(diamonds)"
   ]
  },
  {
   "cell_type": "code",
   "execution_count": 28,
   "id": "08b6139c",
   "metadata": {
    "deletable": false,
    "editable": false
   },
   "outputs": [
    {
     "data": {
      "text/html": [
       "<p><strong><pre style='display: inline;'>q04_01</pre></strong> passed!</p>"
      ],
      "text/plain": [
       "q04_01 results: All test cases passed!"
      ]
     },
     "execution_count": 28,
     "metadata": {},
     "output_type": "execute_result"
    }
   ],
   "source": [
    "grader.check(\"q04_01\")"
   ]
  },
  {
   "cell_type": "markdown",
   "id": "c0d08fd6",
   "metadata": {},
   "source": [
    "### Question 4.2 [Autograded 💻] <div style=\"display:inline-block; vertical-align: middle; padding:7px 7px; font-size:10px; font-weight:light; color:white; background-color:#e84c4a; border-radius:7px; text-align:left;\">4 Points</div>\n",
    "\n",
    "Even though the categorical variables in the dataset are ordinal, we can still treat them as nominal by forgetting their order. To treat the categorical variables in our dataset as nominal, we might **one hot encode** them. \n",
    "\n",
    "Complete the implementation of the function `create_one_hot`, which takes in a DataFrame `df` like `diamonds` and returns a DataFrame of one hot encoded features with names of the form `'one_hot_<col>_<val>'`, where `'<col>'` is the original categorical column name, and `'<val>'` is the value found in the categorical column `'<col>'`. For instance, one of your column names will be `'one_hot_color_J'`.\n",
    "\n",
    "Example behavior is given below, for a subset of features.\n",
    "\n",
    "```python\n",
    ">>> out = create_one_hot(diamonds)\n",
    ">>> out.loc[:5, out.columns.str.contains('cut')]\n",
    "```\n",
    "<table border=\"1\" class=\"dataframe\">\n",
    "  <thead>\n",
    "    <tr style=\"text-align: right;\">\n",
    "      <th></th>\n",
    "      <th>one_hot_cut_Ideal</th>\n",
    "      <th>one_hot_cut_Premium</th>\n",
    "      <th>one_hot_cut_Good</th>\n",
    "      <th>one_hot_cut_Very Good</th>\n",
    "      <th>one_hot_cut_Fair</th>\n",
    "      <th>one_hot_color_E</th>\n",
    "    </tr>\n",
    "  </thead>\n",
    "  <tbody>\n",
    "    <tr>\n",
    "      <th>0</th>\n",
    "      <td>1</td>\n",
    "      <td>0</td>\n",
    "      <td>0</td>\n",
    "      <td>0</td>\n",
    "      <td>0</td>\n",
    "      <td>1</td>\n",
    "    </tr>\n",
    "    <tr>\n",
    "      <th>1</th>\n",
    "      <td>0</td>\n",
    "      <td>1</td>\n",
    "      <td>0</td>\n",
    "      <td>0</td>\n",
    "      <td>0</td>\n",
    "      <td>1</td>\n",
    "    </tr>\n",
    "    <tr>\n",
    "      <th>2</th>\n",
    "      <td>0</td>\n",
    "      <td>0</td>\n",
    "      <td>1</td>\n",
    "      <td>0</td>\n",
    "      <td>0</td>\n",
    "      <td>1</td>\n",
    "    </tr>\n",
    "    <tr>\n",
    "      <th>3</th>\n",
    "      <td>0</td>\n",
    "      <td>1</td>\n",
    "      <td>0</td>\n",
    "      <td>0</td>\n",
    "      <td>0</td>\n",
    "      <td>0</td>\n",
    "    </tr>\n",
    "    <tr>\n",
    "      <th>4</th>\n",
    "      <td>0</td>\n",
    "      <td>0</td>\n",
    "      <td>1</td>\n",
    "      <td>0</td>\n",
    "      <td>0</td>\n",
    "      <td>0</td>\n",
    "    </tr>\n",
    "    <tr>\n",
    "      <th>5</th>\n",
    "      <td>0</td>\n",
    "      <td>0</td>\n",
    "      <td>0</td>\n",
    "      <td>1</td>\n",
    "      <td>0</td>\n",
    "      <td>0</td>\n",
    "    </tr>\n",
    "  </tbody>\n",
    "</table>\n",
    "\n",
    "\n",
    "Some guidance:\n",
    "- Only include one-hot-encoded columns in the DataFrame that `create_one_hot` returns.\n",
    "- Create a helper function that creates the one-hot encoding for a single column. **Do not** use `sklearn` or `pd.get_dummies` for this question!\n",
    "- As per usual, write an efficient implementation. You may use a `for`-loop over **columns**, but not over rows. And the order of **columns** does not matter.\n",
    "- In lecture, we discussed the fact that for statistical reasons, we often drop a single one hot encoded column per original categorical feature. **Do not drop** any one hot encoded columns here!"
   ]
  },
  {
   "cell_type": "code",
   "execution_count": 29,
   "id": "1a2aa1e1",
   "metadata": {
    "tags": []
   },
   "outputs": [
    {
     "data": {
      "text/html": [
       "<div>\n",
       "<style scoped>\n",
       "    .dataframe tbody tr th:only-of-type {\n",
       "        vertical-align: middle;\n",
       "    }\n",
       "\n",
       "    .dataframe tbody tr th {\n",
       "        vertical-align: top;\n",
       "    }\n",
       "\n",
       "    .dataframe thead th {\n",
       "        text-align: right;\n",
       "    }\n",
       "</style>\n",
       "<table border=\"1\" class=\"dataframe\">\n",
       "  <thead>\n",
       "    <tr style=\"text-align: right;\">\n",
       "      <th></th>\n",
       "      <th>one_hot_cut_Ideal</th>\n",
       "      <th>one_hot_cut_Premium</th>\n",
       "      <th>one_hot_cut_Good</th>\n",
       "      <th>one_hot_cut_Very Good</th>\n",
       "      <th>one_hot_cut_Fair</th>\n",
       "      <th>one_hot_color_E</th>\n",
       "      <th>one_hot_color_I</th>\n",
       "      <th>one_hot_color_J</th>\n",
       "      <th>one_hot_color_H</th>\n",
       "      <th>one_hot_color_F</th>\n",
       "      <th>one_hot_color_G</th>\n",
       "      <th>one_hot_color_D</th>\n",
       "      <th>one_hot_clarity_SI2</th>\n",
       "      <th>one_hot_clarity_SI1</th>\n",
       "      <th>one_hot_clarity_VS1</th>\n",
       "      <th>one_hot_clarity_VS2</th>\n",
       "      <th>one_hot_clarity_VVS2</th>\n",
       "      <th>one_hot_clarity_VVS1</th>\n",
       "      <th>one_hot_clarity_I1</th>\n",
       "      <th>one_hot_clarity_IF</th>\n",
       "    </tr>\n",
       "  </thead>\n",
       "  <tbody>\n",
       "    <tr>\n",
       "      <th>0</th>\n",
       "      <td>1</td>\n",
       "      <td>0</td>\n",
       "      <td>0</td>\n",
       "      <td>0</td>\n",
       "      <td>0</td>\n",
       "      <td>1</td>\n",
       "      <td>0</td>\n",
       "      <td>0</td>\n",
       "      <td>0</td>\n",
       "      <td>0</td>\n",
       "      <td>0</td>\n",
       "      <td>0</td>\n",
       "      <td>1</td>\n",
       "      <td>0</td>\n",
       "      <td>0</td>\n",
       "      <td>0</td>\n",
       "      <td>0</td>\n",
       "      <td>0</td>\n",
       "      <td>0</td>\n",
       "      <td>0</td>\n",
       "    </tr>\n",
       "    <tr>\n",
       "      <th>1</th>\n",
       "      <td>0</td>\n",
       "      <td>1</td>\n",
       "      <td>0</td>\n",
       "      <td>0</td>\n",
       "      <td>0</td>\n",
       "      <td>1</td>\n",
       "      <td>0</td>\n",
       "      <td>0</td>\n",
       "      <td>0</td>\n",
       "      <td>0</td>\n",
       "      <td>0</td>\n",
       "      <td>0</td>\n",
       "      <td>0</td>\n",
       "      <td>1</td>\n",
       "      <td>0</td>\n",
       "      <td>0</td>\n",
       "      <td>0</td>\n",
       "      <td>0</td>\n",
       "      <td>0</td>\n",
       "      <td>0</td>\n",
       "    </tr>\n",
       "    <tr>\n",
       "      <th>2</th>\n",
       "      <td>0</td>\n",
       "      <td>0</td>\n",
       "      <td>1</td>\n",
       "      <td>0</td>\n",
       "      <td>0</td>\n",
       "      <td>1</td>\n",
       "      <td>0</td>\n",
       "      <td>0</td>\n",
       "      <td>0</td>\n",
       "      <td>0</td>\n",
       "      <td>0</td>\n",
       "      <td>0</td>\n",
       "      <td>0</td>\n",
       "      <td>0</td>\n",
       "      <td>1</td>\n",
       "      <td>0</td>\n",
       "      <td>0</td>\n",
       "      <td>0</td>\n",
       "      <td>0</td>\n",
       "      <td>0</td>\n",
       "    </tr>\n",
       "    <tr>\n",
       "      <th>3</th>\n",
       "      <td>0</td>\n",
       "      <td>1</td>\n",
       "      <td>0</td>\n",
       "      <td>0</td>\n",
       "      <td>0</td>\n",
       "      <td>0</td>\n",
       "      <td>1</td>\n",
       "      <td>0</td>\n",
       "      <td>0</td>\n",
       "      <td>0</td>\n",
       "      <td>0</td>\n",
       "      <td>0</td>\n",
       "      <td>0</td>\n",
       "      <td>0</td>\n",
       "      <td>0</td>\n",
       "      <td>1</td>\n",
       "      <td>0</td>\n",
       "      <td>0</td>\n",
       "      <td>0</td>\n",
       "      <td>0</td>\n",
       "    </tr>\n",
       "    <tr>\n",
       "      <th>4</th>\n",
       "      <td>0</td>\n",
       "      <td>0</td>\n",
       "      <td>1</td>\n",
       "      <td>0</td>\n",
       "      <td>0</td>\n",
       "      <td>0</td>\n",
       "      <td>0</td>\n",
       "      <td>1</td>\n",
       "      <td>0</td>\n",
       "      <td>0</td>\n",
       "      <td>0</td>\n",
       "      <td>0</td>\n",
       "      <td>1</td>\n",
       "      <td>0</td>\n",
       "      <td>0</td>\n",
       "      <td>0</td>\n",
       "      <td>0</td>\n",
       "      <td>0</td>\n",
       "      <td>0</td>\n",
       "      <td>0</td>\n",
       "    </tr>\n",
       "    <tr>\n",
       "      <th>...</th>\n",
       "      <td>...</td>\n",
       "      <td>...</td>\n",
       "      <td>...</td>\n",
       "      <td>...</td>\n",
       "      <td>...</td>\n",
       "      <td>...</td>\n",
       "      <td>...</td>\n",
       "      <td>...</td>\n",
       "      <td>...</td>\n",
       "      <td>...</td>\n",
       "      <td>...</td>\n",
       "      <td>...</td>\n",
       "      <td>...</td>\n",
       "      <td>...</td>\n",
       "      <td>...</td>\n",
       "      <td>...</td>\n",
       "      <td>...</td>\n",
       "      <td>...</td>\n",
       "      <td>...</td>\n",
       "      <td>...</td>\n",
       "    </tr>\n",
       "    <tr>\n",
       "      <th>53935</th>\n",
       "      <td>1</td>\n",
       "      <td>0</td>\n",
       "      <td>0</td>\n",
       "      <td>0</td>\n",
       "      <td>0</td>\n",
       "      <td>0</td>\n",
       "      <td>0</td>\n",
       "      <td>0</td>\n",
       "      <td>0</td>\n",
       "      <td>0</td>\n",
       "      <td>0</td>\n",
       "      <td>1</td>\n",
       "      <td>0</td>\n",
       "      <td>1</td>\n",
       "      <td>0</td>\n",
       "      <td>0</td>\n",
       "      <td>0</td>\n",
       "      <td>0</td>\n",
       "      <td>0</td>\n",
       "      <td>0</td>\n",
       "    </tr>\n",
       "    <tr>\n",
       "      <th>53936</th>\n",
       "      <td>0</td>\n",
       "      <td>0</td>\n",
       "      <td>1</td>\n",
       "      <td>0</td>\n",
       "      <td>0</td>\n",
       "      <td>0</td>\n",
       "      <td>0</td>\n",
       "      <td>0</td>\n",
       "      <td>0</td>\n",
       "      <td>0</td>\n",
       "      <td>0</td>\n",
       "      <td>1</td>\n",
       "      <td>0</td>\n",
       "      <td>1</td>\n",
       "      <td>0</td>\n",
       "      <td>0</td>\n",
       "      <td>0</td>\n",
       "      <td>0</td>\n",
       "      <td>0</td>\n",
       "      <td>0</td>\n",
       "    </tr>\n",
       "    <tr>\n",
       "      <th>53937</th>\n",
       "      <td>0</td>\n",
       "      <td>0</td>\n",
       "      <td>0</td>\n",
       "      <td>1</td>\n",
       "      <td>0</td>\n",
       "      <td>0</td>\n",
       "      <td>0</td>\n",
       "      <td>0</td>\n",
       "      <td>0</td>\n",
       "      <td>0</td>\n",
       "      <td>0</td>\n",
       "      <td>1</td>\n",
       "      <td>0</td>\n",
       "      <td>1</td>\n",
       "      <td>0</td>\n",
       "      <td>0</td>\n",
       "      <td>0</td>\n",
       "      <td>0</td>\n",
       "      <td>0</td>\n",
       "      <td>0</td>\n",
       "    </tr>\n",
       "    <tr>\n",
       "      <th>53938</th>\n",
       "      <td>0</td>\n",
       "      <td>1</td>\n",
       "      <td>0</td>\n",
       "      <td>0</td>\n",
       "      <td>0</td>\n",
       "      <td>0</td>\n",
       "      <td>0</td>\n",
       "      <td>0</td>\n",
       "      <td>1</td>\n",
       "      <td>0</td>\n",
       "      <td>0</td>\n",
       "      <td>0</td>\n",
       "      <td>1</td>\n",
       "      <td>0</td>\n",
       "      <td>0</td>\n",
       "      <td>0</td>\n",
       "      <td>0</td>\n",
       "      <td>0</td>\n",
       "      <td>0</td>\n",
       "      <td>0</td>\n",
       "    </tr>\n",
       "    <tr>\n",
       "      <th>53939</th>\n",
       "      <td>1</td>\n",
       "      <td>0</td>\n",
       "      <td>0</td>\n",
       "      <td>0</td>\n",
       "      <td>0</td>\n",
       "      <td>0</td>\n",
       "      <td>0</td>\n",
       "      <td>0</td>\n",
       "      <td>0</td>\n",
       "      <td>0</td>\n",
       "      <td>0</td>\n",
       "      <td>1</td>\n",
       "      <td>1</td>\n",
       "      <td>0</td>\n",
       "      <td>0</td>\n",
       "      <td>0</td>\n",
       "      <td>0</td>\n",
       "      <td>0</td>\n",
       "      <td>0</td>\n",
       "      <td>0</td>\n",
       "    </tr>\n",
       "  </tbody>\n",
       "</table>\n",
       "<p>53940 rows × 20 columns</p>\n",
       "</div>"
      ],
      "text/plain": [
       "       one_hot_cut_Ideal  one_hot_cut_Premium  one_hot_cut_Good  \\\n",
       "0                      1                    0                 0   \n",
       "1                      0                    1                 0   \n",
       "2                      0                    0                 1   \n",
       "3                      0                    1                 0   \n",
       "4                      0                    0                 1   \n",
       "...                  ...                  ...               ...   \n",
       "53935                  1                    0                 0   \n",
       "53936                  0                    0                 1   \n",
       "53937                  0                    0                 0   \n",
       "53938                  0                    1                 0   \n",
       "53939                  1                    0                 0   \n",
       "\n",
       "       one_hot_cut_Very Good  one_hot_cut_Fair  one_hot_color_E  \\\n",
       "0                          0                 0                1   \n",
       "1                          0                 0                1   \n",
       "2                          0                 0                1   \n",
       "3                          0                 0                0   \n",
       "4                          0                 0                0   \n",
       "...                      ...               ...              ...   \n",
       "53935                      0                 0                0   \n",
       "53936                      0                 0                0   \n",
       "53937                      1                 0                0   \n",
       "53938                      0                 0                0   \n",
       "53939                      0                 0                0   \n",
       "\n",
       "       one_hot_color_I  one_hot_color_J  one_hot_color_H  one_hot_color_F  \\\n",
       "0                    0                0                0                0   \n",
       "1                    0                0                0                0   \n",
       "2                    0                0                0                0   \n",
       "3                    1                0                0                0   \n",
       "4                    0                1                0                0   \n",
       "...                ...              ...              ...              ...   \n",
       "53935                0                0                0                0   \n",
       "53936                0                0                0                0   \n",
       "53937                0                0                0                0   \n",
       "53938                0                0                1                0   \n",
       "53939                0                0                0                0   \n",
       "\n",
       "       one_hot_color_G  one_hot_color_D  one_hot_clarity_SI2  \\\n",
       "0                    0                0                    1   \n",
       "1                    0                0                    0   \n",
       "2                    0                0                    0   \n",
       "3                    0                0                    0   \n",
       "4                    0                0                    1   \n",
       "...                ...              ...                  ...   \n",
       "53935                0                1                    0   \n",
       "53936                0                1                    0   \n",
       "53937                0                1                    0   \n",
       "53938                0                0                    1   \n",
       "53939                0                1                    1   \n",
       "\n",
       "       one_hot_clarity_SI1  one_hot_clarity_VS1  one_hot_clarity_VS2  \\\n",
       "0                        0                    0                    0   \n",
       "1                        1                    0                    0   \n",
       "2                        0                    1                    0   \n",
       "3                        0                    0                    1   \n",
       "4                        0                    0                    0   \n",
       "...                    ...                  ...                  ...   \n",
       "53935                    1                    0                    0   \n",
       "53936                    1                    0                    0   \n",
       "53937                    1                    0                    0   \n",
       "53938                    0                    0                    0   \n",
       "53939                    0                    0                    0   \n",
       "\n",
       "       one_hot_clarity_VVS2  one_hot_clarity_VVS1  one_hot_clarity_I1  \\\n",
       "0                         0                     0                   0   \n",
       "1                         0                     0                   0   \n",
       "2                         0                     0                   0   \n",
       "3                         0                     0                   0   \n",
       "4                         0                     0                   0   \n",
       "...                     ...                   ...                 ...   \n",
       "53935                     0                     0                   0   \n",
       "53936                     0                     0                   0   \n",
       "53937                     0                     0                   0   \n",
       "53938                     0                     0                   0   \n",
       "53939                     0                     0                   0   \n",
       "\n",
       "       one_hot_clarity_IF  \n",
       "0                       0  \n",
       "1                       0  \n",
       "2                       0  \n",
       "3                       0  \n",
       "4                       0  \n",
       "...                   ...  \n",
       "53935                   0  \n",
       "53936                   0  \n",
       "53937                   0  \n",
       "53938                   0  \n",
       "53939                   0  \n",
       "\n",
       "[53940 rows x 20 columns]"
      ]
     },
     "execution_count": 29,
     "metadata": {},
     "output_type": "execute_result"
    }
   ],
   "source": [
    "def create_one_hot(df):\n",
    "    dfc = df.copy()\n",
    "    dfc = dfc[[\"cut\", \"color\", \"clarity\"]]\n",
    "    for col in dfc.columns:\n",
    "        for val in dfc[col].unique():\n",
    "            dfc[f'one_hot_{col}_{val}'] = (dfc[col] == val).astype(int)\n",
    "            \n",
    "    dfc = dfc.drop(columns=[\"cut\", \"color\", \"clarity\"])\n",
    "    return dfc\n",
    "\n",
    "    \n",
    "    \n",
    "# Feel free to change this input to make sure your function works correctly.\n",
    "create_one_hot(diamonds)"
   ]
  },
  {
   "cell_type": "code",
   "execution_count": 30,
   "id": "c2a34a3b",
   "metadata": {
    "deletable": false,
    "editable": false
   },
   "outputs": [
    {
     "data": {
      "text/html": [
       "<p><strong><pre style='display: inline;'>q04_02</pre></strong> passed!</p>"
      ],
      "text/plain": [
       "q04_02 results: All test cases passed!"
      ]
     },
     "execution_count": 30,
     "metadata": {},
     "output_type": "execute_result"
    }
   ],
   "source": [
    "grader.check(\"q04_02\")"
   ]
  },
  {
   "cell_type": "markdown",
   "id": "9d41ff70",
   "metadata": {},
   "source": [
    "### Question 4.3 [Autograded 💻] <div style=\"display:inline-block; vertical-align: middle; padding:7px 7px; font-size:10px; font-weight:light; color:white; background-color:#e84c4a; border-radius:7px; text-align:left;\">4 Points</div>\n",
    "\n",
    "Similar to the one hot encoding case, you can replace a value in a nominal column with the proportion of times that value appears in the column. For instance, if a column consists of the values `['a', 'b', 'a', 'c']`, then the proportion-encoded column is `[0.5, 0.25, 0.5, 0.25]`.  This might be a reasonable approach to predicting the price of a diamond, as you might expect **rarer attributes to be considered more valuable** than common ones.\n",
    "\n",
    "Complete the implementation of the function `create_proportions`, which takes in a DataFrame `df` like `diamonds` and returns a DataFrame of proportion-encoded features with names of the form `'proportion_<col>'`, where `'<col>'` is the original categorical column name.\n",
    "\n",
    "Example behavior is given below.\n",
    "\n",
    "```python\n",
    ">>> create_proportions(diamonds).head(5)\n",
    "```\n",
    "<table border=\"1\" class=\"dataframe\">\n",
    "  <thead>\n",
    "    <tr style=\"text-align: right;\">\n",
    "      <th></th>\n",
    "      <th>proportion_cut</th>\n",
    "      <th>proportion_color</th>\n",
    "      <th>proportion_clarity</th>\n",
    "    </tr>\n",
    "  </thead>\n",
    "  <tbody>\n",
    "    <tr>\n",
    "      <th>0</th>\n",
    "      <td>0.399537</td>\n",
    "      <td>0.181628</td>\n",
    "      <td>0.170449</td>\n",
    "    </tr>\n",
    "    <tr>\n",
    "      <th>1</th>\n",
    "      <td>0.255673</td>\n",
    "      <td>0.181628</td>\n",
    "      <td>0.242214</td>\n",
    "    </tr>\n",
    "    <tr>\n",
    "      <th>2</th>\n",
    "      <td>0.090953</td>\n",
    "      <td>0.181628</td>\n",
    "      <td>0.151483</td>\n",
    "    </tr>\n",
    "    <tr>\n",
    "      <th>3</th>\n",
    "      <td>0.255673</td>\n",
    "      <td>0.100519</td>\n",
    "      <td>0.227253</td>\n",
    "    </tr>\n",
    "    <tr>\n",
    "      <th>4</th>\n",
    "      <td>0.090953</td>\n",
    "      <td>0.052058</td>\n",
    "      <td>0.170449</td>\n",
    "    </tr>\n",
    "  </tbody>\n",
    "</table>\n"
   ]
  },
  {
   "cell_type": "code",
   "execution_count": 31,
   "id": "81bfadbb",
   "metadata": {
    "tags": [
     "to-py"
    ]
   },
   "outputs": [
    {
     "data": {
      "text/html": [
       "<div>\n",
       "<style scoped>\n",
       "    .dataframe tbody tr th:only-of-type {\n",
       "        vertical-align: middle;\n",
       "    }\n",
       "\n",
       "    .dataframe tbody tr th {\n",
       "        vertical-align: top;\n",
       "    }\n",
       "\n",
       "    .dataframe thead th {\n",
       "        text-align: right;\n",
       "    }\n",
       "</style>\n",
       "<table border=\"1\" class=\"dataframe\">\n",
       "  <thead>\n",
       "    <tr style=\"text-align: right;\">\n",
       "      <th></th>\n",
       "      <th>proportion_cut</th>\n",
       "      <th>proportion_color</th>\n",
       "      <th>proportion_clarity</th>\n",
       "    </tr>\n",
       "  </thead>\n",
       "  <tbody>\n",
       "    <tr>\n",
       "      <th>0</th>\n",
       "      <td>0.399537</td>\n",
       "      <td>0.181628</td>\n",
       "      <td>0.170449</td>\n",
       "    </tr>\n",
       "    <tr>\n",
       "      <th>1</th>\n",
       "      <td>0.255673</td>\n",
       "      <td>0.181628</td>\n",
       "      <td>0.242214</td>\n",
       "    </tr>\n",
       "    <tr>\n",
       "      <th>2</th>\n",
       "      <td>0.090953</td>\n",
       "      <td>0.181628</td>\n",
       "      <td>0.151483</td>\n",
       "    </tr>\n",
       "    <tr>\n",
       "      <th>3</th>\n",
       "      <td>0.255673</td>\n",
       "      <td>0.100519</td>\n",
       "      <td>0.227253</td>\n",
       "    </tr>\n",
       "    <tr>\n",
       "      <th>4</th>\n",
       "      <td>0.090953</td>\n",
       "      <td>0.052058</td>\n",
       "      <td>0.170449</td>\n",
       "    </tr>\n",
       "    <tr>\n",
       "      <th>...</th>\n",
       "      <td>...</td>\n",
       "      <td>...</td>\n",
       "      <td>...</td>\n",
       "    </tr>\n",
       "    <tr>\n",
       "      <th>53935</th>\n",
       "      <td>0.399537</td>\n",
       "      <td>0.125603</td>\n",
       "      <td>0.242214</td>\n",
       "    </tr>\n",
       "    <tr>\n",
       "      <th>53936</th>\n",
       "      <td>0.090953</td>\n",
       "      <td>0.125603</td>\n",
       "      <td>0.242214</td>\n",
       "    </tr>\n",
       "    <tr>\n",
       "      <th>53937</th>\n",
       "      <td>0.223990</td>\n",
       "      <td>0.125603</td>\n",
       "      <td>0.242214</td>\n",
       "    </tr>\n",
       "    <tr>\n",
       "      <th>53938</th>\n",
       "      <td>0.255673</td>\n",
       "      <td>0.153949</td>\n",
       "      <td>0.170449</td>\n",
       "    </tr>\n",
       "    <tr>\n",
       "      <th>53939</th>\n",
       "      <td>0.399537</td>\n",
       "      <td>0.125603</td>\n",
       "      <td>0.170449</td>\n",
       "    </tr>\n",
       "  </tbody>\n",
       "</table>\n",
       "<p>53940 rows × 3 columns</p>\n",
       "</div>"
      ],
      "text/plain": [
       "       proportion_cut  proportion_color  proportion_clarity\n",
       "0            0.399537          0.181628            0.170449\n",
       "1            0.255673          0.181628            0.242214\n",
       "2            0.090953          0.181628            0.151483\n",
       "3            0.255673          0.100519            0.227253\n",
       "4            0.090953          0.052058            0.170449\n",
       "...               ...               ...                 ...\n",
       "53935        0.399537          0.125603            0.242214\n",
       "53936        0.090953          0.125603            0.242214\n",
       "53937        0.223990          0.125603            0.242214\n",
       "53938        0.255673          0.153949            0.170449\n",
       "53939        0.399537          0.125603            0.170449\n",
       "\n",
       "[53940 rows x 3 columns]"
      ]
     },
     "execution_count": 31,
     "metadata": {},
     "output_type": "execute_result"
    }
   ],
   "source": [
    "def create_proportions(df):\n",
    "    dfc = df.copy()\n",
    "    dfc = dfc[[\"cut\", \"color\", \"clarity\"]]\n",
    "    for col in dfc.columns:\n",
    "        dfc[f'proportion_{col}'] = dfc[col].value_counts(normalize=True)[dfc[col]].values\n",
    "    dfc = dfc.drop(columns=[\"cut\", \"color\", \"clarity\"])\n",
    "    return dfc\n",
    "    \n",
    "# Feel free to change this input to make sure your function works correctly.\n",
    "create_proportions(diamonds)"
   ]
  },
  {
   "cell_type": "code",
   "execution_count": 32,
   "id": "befcae17",
   "metadata": {
    "deletable": false,
    "editable": false
   },
   "outputs": [
    {
     "data": {
      "text/html": [
       "<p><strong><pre style='display: inline;'>q04_03</pre></strong> passed!</p>"
      ],
      "text/plain": [
       "q04_03 results: All test cases passed!"
      ]
     },
     "execution_count": 32,
     "metadata": {},
     "output_type": "execute_result"
    }
   ],
   "source": [
    "grader.check(\"q04_03\")"
   ]
  },
  {
   "cell_type": "markdown",
   "id": "39f1b535",
   "metadata": {},
   "source": [
    "### Question 4.4 [Autograded 💻] <div style=\"display:inline-block; vertical-align: middle; padding:7px 7px; font-size:10px; font-weight:light; color:white; background-color:#e84c4a; border-radius:7px; text-align:left;\">4 Points</div>\n",
    "\n",
    "As we looked at in-depth in Question 3, linear regression doesn't capture non-linear relationships between variables, but you can create features that encode such dependencies **before** fitting your regression model, and creating polynomial features is one way to do this.\n",
    "\n",
    "For instance, the diamonds dataset contains `'x'`, `'y'`, and `'z'` dimensions for each stone. However, different combinations of size may be more valuable than others: a \"deep and wide\" diamond might be considered more valuable than a shallow, but \"long and wide\" diamond.\n",
    "\n",
    "Complete the implementation of the function `create_quadratics`, which takes in a DataFrame `df` like `diamonds` DataFrame and returns a DataFrame of quadratic features of the form `'<col1> * <col2>'`, where `'<col1>'` and `'<col2>'` are the original quantitative columns.\n",
    "- The output DataFrame should contain a column for every distinct pair of quantitative columns in `df` (aside from `'price'`, which should be left out as it is what we are predicting).\n",
    "- For instance, one of the columns in the returned DataFrame should named either `'carat * x'` or `'x * carat'`; the order of column names is not important.\n",
    "\n",
    "Example behavior is given below. \n",
    "\n",
    "\n",
    "```python\n",
    ">>> out = create_quadratics(diamonds)\n",
    ">>> out.loc[:5, out.columns.str.contains('carat')]\n",
    "```\n",
    "<table border=\"1\" class=\"dataframe\">\n",
    "  <thead>\n",
    "    <tr style=\"text-align: right;\">\n",
    "      <th></th>\n",
    "      <th>carat * depth</th>\n",
    "      <th>carat * table</th>\n",
    "      <th>carat * x</th>\n",
    "      <th>carat * y</th>\n",
    "      <th>carat * z</th>\n",
    "    </tr>\n",
    "  </thead>\n",
    "  <tbody>\n",
    "    <tr>\n",
    "      <th>0</th>\n",
    "      <td>14.145</td>\n",
    "      <td>12.65</td>\n",
    "      <td>0.9085</td>\n",
    "      <td>0.9154</td>\n",
    "      <td>0.5589</td>\n",
    "    </tr>\n",
    "    <tr>\n",
    "      <th>1</th>\n",
    "      <td>12.558</td>\n",
    "      <td>12.81</td>\n",
    "      <td>0.8169</td>\n",
    "      <td>0.8064</td>\n",
    "      <td>0.4851</td>\n",
    "    </tr>\n",
    "    <tr>\n",
    "      <th>2</th>\n",
    "      <td>13.087</td>\n",
    "      <td>14.95</td>\n",
    "      <td>0.9315</td>\n",
    "      <td>0.9361</td>\n",
    "      <td>0.5313</td>\n",
    "    </tr>\n",
    "    <tr>\n",
    "      <th>3</th>\n",
    "      <td>18.096</td>\n",
    "      <td>16.82</td>\n",
    "      <td>1.2180</td>\n",
    "      <td>1.2267</td>\n",
    "      <td>0.7627</td>\n",
    "    </tr>\n",
    "    <tr>\n",
    "      <th>4</th>\n",
    "      <td>19.623</td>\n",
    "      <td>17.98</td>\n",
    "      <td>1.3454</td>\n",
    "      <td>1.3485</td>\n",
    "      <td>0.8525</td>\n",
    "    </tr>\n",
    "    <tr>\n",
    "      <th>5</th>\n",
    "      <td>15.072</td>\n",
    "      <td>13.68</td>\n",
    "      <td>0.9456</td>\n",
    "      <td>0.9504</td>\n",
    "      <td>0.5952</td>\n",
    "    </tr>\n",
    "  </tbody>\n",
    "</table>\n",
    "\n",
    "\n",
    "Some guidance:\n",
    "- Again, **do not** use `sklearn` for this question! \n",
    "- Try finding all pairs of quantitative columns efficiently; don't use a nested loop (hint: think back to `SimpleLAD` from Homework 8). Our solution contains just a single `for`-loop, over pairs of columns.\n",
    "- The columns of the resulting DataFrame may be in any order."
   ]
  },
  {
   "cell_type": "code",
   "execution_count": 33,
   "id": "d6e48ccf",
   "metadata": {
    "tags": [
     "to-py"
    ]
   },
   "outputs": [
    {
     "data": {
      "text/html": [
       "<div>\n",
       "<style scoped>\n",
       "    .dataframe tbody tr th:only-of-type {\n",
       "        vertical-align: middle;\n",
       "    }\n",
       "\n",
       "    .dataframe tbody tr th {\n",
       "        vertical-align: top;\n",
       "    }\n",
       "\n",
       "    .dataframe thead th {\n",
       "        text-align: right;\n",
       "    }\n",
       "</style>\n",
       "<table border=\"1\" class=\"dataframe\">\n",
       "  <thead>\n",
       "    <tr style=\"text-align: right;\">\n",
       "      <th></th>\n",
       "      <th>carat * depth</th>\n",
       "      <th>carat * table</th>\n",
       "      <th>carat * x</th>\n",
       "      <th>carat * y</th>\n",
       "      <th>carat * z</th>\n",
       "      <th>depth * table</th>\n",
       "      <th>depth * x</th>\n",
       "      <th>depth * y</th>\n",
       "      <th>depth * z</th>\n",
       "      <th>table * x</th>\n",
       "      <th>table * y</th>\n",
       "      <th>table * z</th>\n",
       "      <th>x * y</th>\n",
       "      <th>x * z</th>\n",
       "      <th>y * z</th>\n",
       "    </tr>\n",
       "  </thead>\n",
       "  <tbody>\n",
       "    <tr>\n",
       "      <th>0</th>\n",
       "      <td>14.145</td>\n",
       "      <td>12.65</td>\n",
       "      <td>0.9085</td>\n",
       "      <td>0.9154</td>\n",
       "      <td>0.5589</td>\n",
       "      <td>3382.5</td>\n",
       "      <td>242.925</td>\n",
       "      <td>244.770</td>\n",
       "      <td>149.445</td>\n",
       "      <td>217.25</td>\n",
       "      <td>218.90</td>\n",
       "      <td>133.65</td>\n",
       "      <td>15.7210</td>\n",
       "      <td>9.5985</td>\n",
       "      <td>9.6714</td>\n",
       "    </tr>\n",
       "    <tr>\n",
       "      <th>1</th>\n",
       "      <td>12.558</td>\n",
       "      <td>12.81</td>\n",
       "      <td>0.8169</td>\n",
       "      <td>0.8064</td>\n",
       "      <td>0.4851</td>\n",
       "      <td>3647.8</td>\n",
       "      <td>232.622</td>\n",
       "      <td>229.632</td>\n",
       "      <td>138.138</td>\n",
       "      <td>237.29</td>\n",
       "      <td>234.24</td>\n",
       "      <td>140.91</td>\n",
       "      <td>14.9376</td>\n",
       "      <td>8.9859</td>\n",
       "      <td>8.8704</td>\n",
       "    </tr>\n",
       "    <tr>\n",
       "      <th>2</th>\n",
       "      <td>13.087</td>\n",
       "      <td>14.95</td>\n",
       "      <td>0.9315</td>\n",
       "      <td>0.9361</td>\n",
       "      <td>0.5313</td>\n",
       "      <td>3698.5</td>\n",
       "      <td>230.445</td>\n",
       "      <td>231.583</td>\n",
       "      <td>131.439</td>\n",
       "      <td>263.25</td>\n",
       "      <td>264.55</td>\n",
       "      <td>150.15</td>\n",
       "      <td>16.4835</td>\n",
       "      <td>9.3555</td>\n",
       "      <td>9.4017</td>\n",
       "    </tr>\n",
       "    <tr>\n",
       "      <th>3</th>\n",
       "      <td>18.096</td>\n",
       "      <td>16.82</td>\n",
       "      <td>1.2180</td>\n",
       "      <td>1.2267</td>\n",
       "      <td>0.7627</td>\n",
       "      <td>3619.2</td>\n",
       "      <td>262.080</td>\n",
       "      <td>263.952</td>\n",
       "      <td>164.112</td>\n",
       "      <td>243.60</td>\n",
       "      <td>245.34</td>\n",
       "      <td>152.54</td>\n",
       "      <td>17.7660</td>\n",
       "      <td>11.0460</td>\n",
       "      <td>11.1249</td>\n",
       "    </tr>\n",
       "    <tr>\n",
       "      <th>4</th>\n",
       "      <td>19.623</td>\n",
       "      <td>17.98</td>\n",
       "      <td>1.3454</td>\n",
       "      <td>1.3485</td>\n",
       "      <td>0.8525</td>\n",
       "      <td>3671.4</td>\n",
       "      <td>274.722</td>\n",
       "      <td>275.355</td>\n",
       "      <td>174.075</td>\n",
       "      <td>251.72</td>\n",
       "      <td>252.30</td>\n",
       "      <td>159.50</td>\n",
       "      <td>18.8790</td>\n",
       "      <td>11.9350</td>\n",
       "      <td>11.9625</td>\n",
       "    </tr>\n",
       "    <tr>\n",
       "      <th>...</th>\n",
       "      <td>...</td>\n",
       "      <td>...</td>\n",
       "      <td>...</td>\n",
       "      <td>...</td>\n",
       "      <td>...</td>\n",
       "      <td>...</td>\n",
       "      <td>...</td>\n",
       "      <td>...</td>\n",
       "      <td>...</td>\n",
       "      <td>...</td>\n",
       "      <td>...</td>\n",
       "      <td>...</td>\n",
       "      <td>...</td>\n",
       "      <td>...</td>\n",
       "      <td>...</td>\n",
       "    </tr>\n",
       "    <tr>\n",
       "      <th>53935</th>\n",
       "      <td>43.776</td>\n",
       "      <td>41.04</td>\n",
       "      <td>4.1400</td>\n",
       "      <td>4.1472</td>\n",
       "      <td>2.5200</td>\n",
       "      <td>3465.6</td>\n",
       "      <td>349.600</td>\n",
       "      <td>350.208</td>\n",
       "      <td>212.800</td>\n",
       "      <td>327.75</td>\n",
       "      <td>328.32</td>\n",
       "      <td>199.50</td>\n",
       "      <td>33.1200</td>\n",
       "      <td>20.1250</td>\n",
       "      <td>20.1600</td>\n",
       "    </tr>\n",
       "    <tr>\n",
       "      <th>53936</th>\n",
       "      <td>45.432</td>\n",
       "      <td>39.60</td>\n",
       "      <td>4.0968</td>\n",
       "      <td>4.1400</td>\n",
       "      <td>2.5992</td>\n",
       "      <td>3470.5</td>\n",
       "      <td>359.039</td>\n",
       "      <td>362.825</td>\n",
       "      <td>227.791</td>\n",
       "      <td>312.95</td>\n",
       "      <td>316.25</td>\n",
       "      <td>198.55</td>\n",
       "      <td>32.7175</td>\n",
       "      <td>20.5409</td>\n",
       "      <td>20.7575</td>\n",
       "    </tr>\n",
       "    <tr>\n",
       "      <th>53937</th>\n",
       "      <td>43.960</td>\n",
       "      <td>42.00</td>\n",
       "      <td>3.9620</td>\n",
       "      <td>3.9760</td>\n",
       "      <td>2.4920</td>\n",
       "      <td>3768.0</td>\n",
       "      <td>355.448</td>\n",
       "      <td>356.704</td>\n",
       "      <td>223.568</td>\n",
       "      <td>339.60</td>\n",
       "      <td>340.80</td>\n",
       "      <td>213.60</td>\n",
       "      <td>32.1488</td>\n",
       "      <td>20.1496</td>\n",
       "      <td>20.2208</td>\n",
       "    </tr>\n",
       "    <tr>\n",
       "      <th>53938</th>\n",
       "      <td>52.460</td>\n",
       "      <td>49.88</td>\n",
       "      <td>5.2890</td>\n",
       "      <td>5.2632</td>\n",
       "      <td>3.2164</td>\n",
       "      <td>3538.0</td>\n",
       "      <td>375.150</td>\n",
       "      <td>373.320</td>\n",
       "      <td>228.140</td>\n",
       "      <td>356.70</td>\n",
       "      <td>354.96</td>\n",
       "      <td>216.92</td>\n",
       "      <td>37.6380</td>\n",
       "      <td>23.0010</td>\n",
       "      <td>22.8888</td>\n",
       "    </tr>\n",
       "    <tr>\n",
       "      <th>53939</th>\n",
       "      <td>46.650</td>\n",
       "      <td>41.25</td>\n",
       "      <td>4.3725</td>\n",
       "      <td>4.4025</td>\n",
       "      <td>2.7300</td>\n",
       "      <td>3421.0</td>\n",
       "      <td>362.626</td>\n",
       "      <td>365.114</td>\n",
       "      <td>226.408</td>\n",
       "      <td>320.65</td>\n",
       "      <td>322.85</td>\n",
       "      <td>200.20</td>\n",
       "      <td>34.2221</td>\n",
       "      <td>21.2212</td>\n",
       "      <td>21.3668</td>\n",
       "    </tr>\n",
       "  </tbody>\n",
       "</table>\n",
       "<p>53940 rows × 15 columns</p>\n",
       "</div>"
      ],
      "text/plain": [
       "       carat * depth  carat * table  carat * x  carat * y  carat * z  \\\n",
       "0             14.145          12.65     0.9085     0.9154     0.5589   \n",
       "1             12.558          12.81     0.8169     0.8064     0.4851   \n",
       "2             13.087          14.95     0.9315     0.9361     0.5313   \n",
       "3             18.096          16.82     1.2180     1.2267     0.7627   \n",
       "4             19.623          17.98     1.3454     1.3485     0.8525   \n",
       "...              ...            ...        ...        ...        ...   \n",
       "53935         43.776          41.04     4.1400     4.1472     2.5200   \n",
       "53936         45.432          39.60     4.0968     4.1400     2.5992   \n",
       "53937         43.960          42.00     3.9620     3.9760     2.4920   \n",
       "53938         52.460          49.88     5.2890     5.2632     3.2164   \n",
       "53939         46.650          41.25     4.3725     4.4025     2.7300   \n",
       "\n",
       "       depth * table  depth * x  depth * y  depth * z  table * x  table * y  \\\n",
       "0             3382.5    242.925    244.770    149.445     217.25     218.90   \n",
       "1             3647.8    232.622    229.632    138.138     237.29     234.24   \n",
       "2             3698.5    230.445    231.583    131.439     263.25     264.55   \n",
       "3             3619.2    262.080    263.952    164.112     243.60     245.34   \n",
       "4             3671.4    274.722    275.355    174.075     251.72     252.30   \n",
       "...              ...        ...        ...        ...        ...        ...   \n",
       "53935         3465.6    349.600    350.208    212.800     327.75     328.32   \n",
       "53936         3470.5    359.039    362.825    227.791     312.95     316.25   \n",
       "53937         3768.0    355.448    356.704    223.568     339.60     340.80   \n",
       "53938         3538.0    375.150    373.320    228.140     356.70     354.96   \n",
       "53939         3421.0    362.626    365.114    226.408     320.65     322.85   \n",
       "\n",
       "       table * z    x * y    x * z    y * z  \n",
       "0         133.65  15.7210   9.5985   9.6714  \n",
       "1         140.91  14.9376   8.9859   8.8704  \n",
       "2         150.15  16.4835   9.3555   9.4017  \n",
       "3         152.54  17.7660  11.0460  11.1249  \n",
       "4         159.50  18.8790  11.9350  11.9625  \n",
       "...          ...      ...      ...      ...  \n",
       "53935     199.50  33.1200  20.1250  20.1600  \n",
       "53936     198.55  32.7175  20.5409  20.7575  \n",
       "53937     213.60  32.1488  20.1496  20.2208  \n",
       "53938     216.92  37.6380  23.0010  22.8888  \n",
       "53939     200.20  34.2221  21.2212  21.3668  \n",
       "\n",
       "[53940 rows x 15 columns]"
      ]
     },
     "execution_count": 33,
     "metadata": {},
     "output_type": "execute_result"
    }
   ],
   "source": [
    "from itertools import combinations \n",
    "\n",
    "def create_quadratics(df):\n",
    "    dfc =  df.copy()\n",
    "    dfc =dfc.drop(columns=['price'])\n",
    "    num = dfc.columns[dfc.dtypes != 'object']\n",
    "    pairs = list(combinations(num, 2))\n",
    "    res = pd.DataFrame()\n",
    "    for pair in pairs:\n",
    "        res[f'{pair[0]} * {pair[1]}'] = dfc[pair[0]] * dfc[pair[1]]\n",
    "    return res\n",
    "    \n",
    "   \n",
    "    \n",
    "# Feel free to change this input to make sure your function works correctly.\n",
    "create_quadratics(diamonds)"
   ]
  },
  {
   "cell_type": "code",
   "execution_count": 34,
   "id": "972277e1",
   "metadata": {
    "deletable": false,
    "editable": false
   },
   "outputs": [
    {
     "data": {
      "text/html": [
       "<p><strong><pre style='display: inline;'>q04_04</pre></strong> passed!</p>"
      ],
      "text/plain": [
       "q04_04 results: All test cases passed!"
      ]
     },
     "execution_count": 34,
     "metadata": {},
     "output_type": "execute_result"
    }
   ],
   "source": [
    "grader.check(\"q04_04\")"
   ]
  },
  {
   "cell_type": "markdown",
   "id": "f6c6b438",
   "metadata": {},
   "source": [
    "This homework is already quite long, and the focus of Question 4 was on having you develop the features yourself, not necesssarily use them in prediction tasks. So, we won't rqequire you to _fit_ any models using the features you've created. That said, you **should** try and experiment."
   ]
  },
  {
   "cell_type": "markdown",
   "id": "2fc8f63f",
   "metadata": {},
   "source": [
    "## Question 5: Feature Engineering with `sklearn` 🧠\n",
    "\n",
    "---\n",
    "\n",
    "In this final question, you will use `sklearn`'s transformers and estimators for feature engineering. While everything you do with `sklearn` is possible to do with `pandas`, `sklearn` transformers enable you to couple your feature engineering with your modeling. This will allow you to more quickly build and assess your models in `sklearn`.\n",
    "\n",
    "Specifically, you will implement a `TransformDiamonds` class that has the three methods described below. In the starter code, there is a skeleton for `TransformDiamonds`, complete with an initializer.\n",
    "\n",
    "Each of the methods you implement in the `TransformDiamonds` class should take in a DataFrame, initialize a specific `sklearn.Transformer` object (like `Binarizer` or `FunctionTransformer`), and use the transformer to transform columns from the input DataFrame. You should **not** use DataFrame methods like `apply` in this problem.\n",
    "\n",
    "<br>\n",
    "\n",
    "### 1. `transform_carat` <div style=\"display:inline-block; vertical-align: middle; padding:7px 7px; font-size:10px; font-weight:light; color:white; background-color:#e84c4a; border-radius:7px; text-align:left;\">2 Points</div> [Autograded 💻]\n",
    "\n",
    "We call a diamond **large** if its weight is strictly greater than 1 carat. We want to **binarize** weights, so that they are 1 for large diamonds and 0 for small diamonds. This methd takes in a DataFrame `df` like `diamonds` and returns a binarized **array** of weights. Use a `Binarizer` object as your transformer.\n",
    "\n",
    "Additional guidance:\n",
    "- `transform_carat` should return an array, not a Series, because `sklearn` thinks in terms of `np.ndarray`s, not DataFrames.\n",
    "- The implementation of `transform_carat` should only take two lines.\n",
    "\n",
    "<br>\n",
    "\n",
    "### 2. `transform_to_quantile` <div style=\"display:inline-block; vertical-align: middle; padding:7px 7px; font-size:10px; font-weight:light; color:white; background-color:#e84c4a; border-radius:7px; text-align:left;\">2 Points</div> [Autograded 💻]\n",
    "\n",
    "Here, transform the `'carat'` column so that each diamond's weight in carats is replaced with the **percentile** amongst all diamonds in which its weight lies. This method takes in a DataFrame `df` like `diamonds` and returns an array containing the percentiles of the weight of each diamond, amongst all diamonds in `self.data`. This array should consist of proportions between 0 and 1; for instance, 0.65 will refer to the 65th percentile. The relevant transformer is `QuantileTransformer`. \n",
    "\n",
    "Additional guidance:\n",
    "\n",
    "- Unlike with `Binarizer`, you need to `fit` your `QuantileTransformer` before calling `transform` on the input DataFrame `data`. \n",
    "    - You should `fit` your transformer on the DataFrame `self.data`, but you should only `transform` the `data` that is passed to `transform_to_quantiles`. \n",
    "    - Note that these two DataFrames, `self.data` and `data`, don't have to be the same! For instance, if we fit a `QuantileTransformer` using just the first 1000 rows of `diamonds`, and then `transform` the entire `diamonds` DataFrame, your `transform_to_quantiles` method should still work.\n",
    "- When initializing your `QuantileTransformer`, use `n_quantiles=100` and `random_state=98`. The `random_state` argument **is necessary** because `QuantileTransformer` is non-deterministic, meaning that it potentially outputs different results each time it's called on the same output. Read the [documentation](https://scikit-learn.org/stable/modules/generated/sklearn.preprocessing.QuantileTransformer.html) for more details, and **don't forget this step!**\n",
    "\n",
    "<br>\n",
    "\n",
    "### 3. `transform_to_depth_pct` <div style=\"display:inline-block; vertical-align: middle; padding:7px 7px; font-size:10px; font-weight:light; color:white; background-color:#e84c4a; border-radius:7px; text-align:left;\">3 Points</div> [Autograded 💻]\n",
    "\n",
    "Recall from Question 4 that the \"depth percentage\" of a diamond is defined as:\n",
    "$$\\text{Depth Pct.} = 100\\% \\cdot \\frac{2z}{x + y}$$\n",
    "where $x$, $y$, and $z$ come from the `'x'`, `'y'`, and `'z'` columns in `diamonds`.\n",
    "\n",
    "Let's suppose that for some reason we don't have access to the `'depth'` column in `diamonds`, and instead need to recreate it just by looking at the `'x'`, `'y'`, and `'z'` columns. \n",
    "\n",
    "This method takes in a DataFrame `df` like `diamonds` and returns an array consisting of the depth percentages of each diamond. Percentages should be between 0 and 100. The relevant transformer is `FunctionTransformer`.\n",
    "\n",
    "Additional guidance:\n",
    "- To use `FunctionTransformer`, you will need to define your own function that takes in a 2D array and returns a single array.\n",
    "- Ignore `ZeroDivisionError` errors, and leave `np.NaN`s as is.\n",
    "- To verify your work, compare your outputted array to the actual `'depth'` column in `diamonds`. Most – but not all – of the values should be the same.\n",
    "- It may seem like `FunctionTransformer` is totally unnecessary, since we can compute depth percentages using broadcasting directly. However, as we will see in lecture, transformers can be **pipelined** with other processing steps which greatly simplifies our code."
   ]
  },
  {
   "cell_type": "markdown",
   "id": "c7439c3e",
   "metadata": {},
   "source": [
    "The three test cells at the bottom of this section will test each method independently."
   ]
  },
  {
   "cell_type": "code",
   "execution_count": 35,
   "id": "78a72690",
   "metadata": {
    "tags": [
     "to-py"
    ]
   },
   "outputs": [],
   "source": [
    "from sklearn.preprocessing import Binarizer, QuantileTransformer, FunctionTransformer\n",
    "\n",
    "class TransformDiamonds(object):\n",
    "    \n",
    "    def __init__(self, diamonds):\n",
    "        self.data = diamonds\n",
    "        \n",
    "    def transform_carat(self, df):\n",
    "        transformer = Binarizer(threshold=1.0).fit(df[['carat']])\n",
    "        return transformer.transform(df[['carat']]) \n",
    "          \n",
    "    def transform_to_quantile(self, df):\n",
    "        # Don't forget to use random_state=98!\n",
    "        transformer = QuantileTransformer(n_quantiles=100, random_state=98).fit(df[['carat']])\n",
    "        return transformer.transform(df[['carat']])\n",
    "        \n",
    "    def transform_to_depth_pct(self, df):\n",
    "        transformer = FunctionTransformer(lambda X: 100 * (2 * X[:, 2]) / (X[:, 0] + X[:, 1]))\n",
    "        return transformer.transform(df[[\"x\", \"y\", \"z\"]].values)\n",
    "    \n",
    "\n",
    "        "
   ]
  },
  {
   "cell_type": "code",
   "execution_count": 36,
   "id": "37f2ad3e",
   "metadata": {
    "deletable": false,
    "editable": false
   },
   "outputs": [
    {
     "data": {
      "text/html": [
       "<p><strong><pre style='display: inline;'>q05_test_transform_carat</pre></strong> passed!</p>"
      ],
      "text/plain": [
       "q05_test_transform_carat results: All test cases passed!"
      ]
     },
     "execution_count": 36,
     "metadata": {},
     "output_type": "execute_result"
    }
   ],
   "source": [
    "grader.check(\"q05_test_transform_carat\")"
   ]
  },
  {
   "cell_type": "code",
   "execution_count": 37,
   "id": "7ea57509",
   "metadata": {
    "deletable": false,
    "editable": false
   },
   "outputs": [
    {
     "data": {
      "text/html": [
       "<p><strong><pre style='display: inline;'>q05_transform_to_quantile</pre></strong> passed!</p>"
      ],
      "text/plain": [
       "q05_transform_to_quantile results: All test cases passed!"
      ]
     },
     "execution_count": 37,
     "metadata": {},
     "output_type": "execute_result"
    }
   ],
   "source": [
    "grader.check(\"q05_transform_to_quantile\")"
   ]
  },
  {
   "cell_type": "code",
   "execution_count": 38,
   "id": "39293817",
   "metadata": {
    "deletable": false,
    "editable": false
   },
   "outputs": [
    {
     "data": {
      "text/html": [
       "<p><strong><pre style='display: inline;'>q05_transform_to_depth_pct</pre></strong> passed!</p>"
      ],
      "text/plain": [
       "q05_transform_to_depth_pct results: All test cases passed!"
      ]
     },
     "execution_count": 38,
     "metadata": {},
     "output_type": "execute_result"
    }
   ],
   "source": [
    "grader.check(\"q05_transform_to_depth_pct\")"
   ]
  },
  {
   "cell_type": "markdown",
   "id": "ba4036ef",
   "metadata": {},
   "source": [
    "## Finish Line 🏁\n",
    "\n",
    "Congratulations! You're ready to submit Homework 9. **Remember, you need to submit Homework 9 twice**:\n",
    "\n",
    "### To submit the manually graded problems (Questions 1, 2, and 3.4; marked [Written ✏️])\n",
    "\n",
    "- Make sure your answers **are not** in this notebook, but rather in a separate PDF.\n",
    "    - You can create this PDF either digitally, using your tablet or using [Overleaf + LaTeX](https://overleaf.com) (or some other sort of digital document), or by writing your answers on a piece of paper and scanning them in.\n",
    "- Submit this separate PDF to the **Homework 9 (Questions 1, 2, and 3.4; written problems)** assignment on Gradescope, and **make sure to correctly select the pages associated with each question**!\n",
    "\n",
    "### To submit the autograded problems (Questions 3-5; marked [Autograded 💻])\n",
    "\n",
    "1. Select `Kernel -> Restart & Run All` to ensure that you have executed all cells, including the test cells.\n",
    "2. Read through the notebook to make sure everything is fine and all tests passed.\n",
    "3. Run the cell below to run all tests, and make sure that they all pass.\n",
    "4. Download your notebook using `File -> Download as -> Notebook (.ipynb)`, then upload your notebook to Gradescope under \"Homework 9 (Questions 3-5; autograded problems)\". Make sure your notebook is still named `hw09.ipynb` and the name has not been changed.\n",
    "5. Stick around while the Gradescope autograder grades your work.\n",
    "6. Check that you have a confirmation email from Gradescope and save it as proof of your submission.\n",
    "\n",
    "Your Homework 9 submission time will be the **later** of your two individual submissions."
   ]
  },
  {
   "cell_type": "markdown",
   "id": "476782fe",
   "metadata": {
    "deletable": false,
    "editable": false
   },
   "source": [
    "---\n",
    "\n",
    "To double-check your work, the cell below will rerun all of the autograder tests."
   ]
  },
  {
   "cell_type": "code",
   "execution_count": 39,
   "id": "845d141a",
   "metadata": {
    "deletable": false,
    "editable": false
   },
   "outputs": [
    {
     "data": {
      "text/plain": [
       "q03_01 results: All test cases passed!\n",
       "\n",
       "q03_02 results: All test cases passed!\n",
       "\n",
       "q03_03 results: All test cases passed!\n",
       "\n",
       "q04_01 results: All test cases passed!\n",
       "\n",
       "q04_02 results: All test cases passed!\n",
       "\n",
       "q04_03 results: All test cases passed!\n",
       "\n",
       "q04_04 results: All test cases passed!\n",
       "\n",
       "q05_test_transform_carat results: All test cases passed!\n",
       "\n",
       "q05_transform_to_depth_pct results: All test cases passed!\n",
       "\n",
       "q05_transform_to_quantile results: All test cases passed!"
      ]
     },
     "execution_count": 39,
     "metadata": {},
     "output_type": "execute_result"
    }
   ],
   "source": [
    "grader.check_all()"
   ]
  }
 ],
 "metadata": {
  "kernelspec": {
   "display_name": "pds",
   "language": "python",
   "name": "python3"
  },
  "language_info": {
   "codemirror_mode": {
    "name": "ipython",
    "version": 3
   },
   "file_extension": ".py",
   "mimetype": "text/x-python",
   "name": "python",
   "nbconvert_exporter": "python",
   "pygments_lexer": "ipython3",
   "version": "3.10.14"
  },
  "otter": {
   "tests": {
    "q03_01": {
     "name": "q03_01",
     "points": 3,
     "suites": [
      {
       "cases": [
        {
         "code": ">>> best_transformation in [1, 2, 3, 4]\nTrue",
         "hidden": false,
         "locked": false
        }
       ],
       "scored": true,
       "setup": "",
       "teardown": "",
       "type": "doctest"
      }
     ]
    },
    "q03_02": {
     "name": "q03_02",
     "points": 5,
     "suites": [
      {
       "cases": [
        {
         "code": ">>> callable(fit_model_and_return_predictions)\nTrue",
         "failure_message": "fit_model_and_return_predictions is not a function!",
         "hidden": false,
         "locked": false
        },
        {
         "code": ">>> out = fit_model_and_return_predictions(homeruns[['Year']], homeruns['Homeruns'])\n>>> isinstance(out, np.ndarray) and out.shape[0] == 120\nTrue",
         "failure_message": "Output of fit_model_and_return_predictions has wrong shape (expecting length 120).",
         "hidden": false,
         "locked": false
        },
        {
         "code": ">>> out = fit_model_and_return_predictions(homeruns[['Year']].sample(55), homeruns['Homeruns'].sample(55))\n>>> out.shape[0] == 55\nTrue",
         "failure_message": "Output of fit_model_and_return_predictions has wrong shape (expecting length 55).",
         "hidden": false,
         "locked": false
        },
        {
         "code": ">>> out = fit_model_and_return_predictions(homeruns[['Year']], homeruns['Homeruns'])\n>>> out2 = fit_model_and_return_predictions(homeruns[['Year']], homeruns['Homeruns'])\n>>> np.allclose(out, out2)\nTrue",
         "failure_message": "Output of fit_model_and_return_predictions is non-deterministic, i.e. not the same on each function call.",
         "hidden": false,
         "locked": false
        }
       ],
       "scored": true,
       "setup": "",
       "teardown": "",
       "type": "doctest"
      }
     ]
    },
    "q03_03": {
     "name": "q03_03",
     "points": 5,
     "suites": [
      {
       "cases": [
        {
         "code": ">>> regressor = create_knn_regressor(x=np.array([10, 11, 12, 19, 25]), y=np.array([5, 17, 26, -5, 3]), k=3)\n>>> np.isclose(regressor(20), 8) and np.isclose(regressor(10), 16)\nTrue",
         "failure_message": "Incorrect outputs for input x, y, and k in the problem description.",
         "hidden": false,
         "locked": false
        },
        {
         "code": ">>> regressor = create_knn_regressor(x=np.array([10, 11, 12, 19, 25]), y=np.array([5, 17, 26, -5, 3]), k=5)\n>>> np.isclose(regressor(100), 9.2)\nTrue",
         "failure_message": "Incorrect outputs for the same x and y as in the problem description, with k=5. Should always return 9.2 since there are only 5 points.",
         "hidden": false,
         "locked": false
        },
        {
         "code": ">>> regressor = create_knn_regressor(x=np.array([10, 11, 12, 19, 25]), y=np.array([5, 17, 26, -5, 3]), k=1)\n>>> np.allclose([regressor(i) for i in range(10, 26)], [5.0, 17.0, 26.0, 26.0, 26.0, 26.0, -5.0, -5.0, -5.0, -5.0, -5.0, -5.0, -5.0, 3.0, 3.0, 3.0])\nTrue",
         "failure_message": "Incorrect outputs for the same x and y as in the problem description, with k=1.",
         "hidden": false,
         "locked": false
        }
       ],
       "scored": true,
       "setup": "",
       "teardown": "",
       "type": "doctest"
      }
     ]
    },
    "q04_01": {
     "name": "q04_01",
     "points": 4,
     "suites": [
      {
       "cases": [
        {
         "code": ">>> diamonds = pd.read_csv('data/diamonds.csv')\n>>> out = create_ordinal(diamonds)\n>>> set(out.columns) == {'ordinal_cut', 'ordinal_clarity', 'ordinal_color'}\nTrue",
         "hidden": false,
         "locked": false
        },
        {
         "code": ">>> diamonds = pd.read_csv('data/diamonds.csv')\n>>> out = create_ordinal(diamonds)\n>>> np.unique(out['ordinal_cut']).tolist() == [0, 1, 2, 3, 4]\nTrue",
         "hidden": false,
         "locked": false
        },
        {
         "code": ">>> diamonds = pd.read_csv('data/diamonds.csv')\n>>> out = create_ordinal(diamonds.head(5))\n>>> out.sum().sum() == 39\nTrue",
         "failure_message": "Wrong output for example provided in problem statement.",
         "hidden": false,
         "locked": false
        }
       ],
       "scored": true,
       "setup": "",
       "teardown": "",
       "type": "doctest"
      }
     ]
    },
    "q04_02": {
     "name": "q04_02",
     "points": 4,
     "suites": [
      {
       "cases": [
        {
         "code": ">>> diamonds = pd.read_csv('data/diamonds.csv')\n>>> out = create_one_hot(diamonds)\n>>> out.shape == (53940, 20)\nTrue",
         "failure_message": "Wrong shape for create_one_hot output.",
         "hidden": false,
         "locked": false
        },
        {
         "code": ">>> diamonds = pd.read_csv('data/diamonds.csv')\n>>> out = create_one_hot(diamonds)\n>>> out.loc[:5, out.columns.str.contains('cut')].sum().sum() == 6\nTrue",
         "failure_message": "Wrong output for example provided in problem statement.",
         "hidden": false,
         "locked": false
        },
        {
         "code": ">>> diamonds = pd.read_csv('data/diamonds.csv')\n>>> out = create_one_hot(diamonds)\n>>> out.columns.str.startswith('one_hot').all()\nTrue",
         "failure_message": "All columns must start with \"one_hot\".",
         "hidden": false,
         "locked": false
        },
        {
         "code": ">>> diamonds = pd.read_csv('data/diamonds.csv')\n>>> out = create_one_hot(diamonds)\n>>> out.isin([0,1]).all().all()\nTrue",
         "failure_message": "All values are 0s or 1s.",
         "hidden": false,
         "locked": false
        }
       ],
       "scored": true,
       "setup": "",
       "teardown": "",
       "type": "doctest"
      }
     ]
    },
    "q04_03": {
     "name": "q04_03",
     "points": 4,
     "suites": [
      {
       "cases": [
        {
         "code": ">>> diamonds = pd.read_csv('data/diamonds.csv')\n>>> out = create_proportions(diamonds)\n>>> out.shape[1] == 3\nTrue",
         "failure_message": "Incorrect shape for create_proportions.",
         "hidden": false,
         "locked": false
        },
        {
         "code": ">>> diamonds = pd.read_csv('data/diamonds.csv')\n>>> out = create_proportions(diamonds)\n>>> np.isclose(out.head().sum().sum(), 2.752094920281795)\nTrue",
         "failure_message": "Wrong output for example provided in problem statement.",
         "hidden": false,
         "locked": false
        },
        {
         "code": ">>> diamonds = pd.read_csv('data/diamonds.csv')\n>>> out = create_proportions(diamonds)\n>>> out.columns.str.startswith('proportion_').all()\nTrue",
         "failure_message": "All column names must start with 'proportion_'.",
         "hidden": false,
         "locked": false
        },
        {
         "code": ">>> diamonds = pd.read_csv('data/diamonds.csv')\n>>> out = create_proportions(diamonds)\n>>> ((out >= 0) & (out <= 1)).all().all()\nTrue",
         "failure_message": "All values must be between 0 and 1 (inclusive).",
         "hidden": false,
         "locked": false
        }
       ],
       "scored": true,
       "setup": "",
       "teardown": "",
       "type": "doctest"
      }
     ]
    },
    "q04_04": {
     "name": "q04_04",
     "points": 4,
     "suites": [
      {
       "cases": [
        {
         "code": ">>> diamonds = pd.read_csv('data/diamonds.csv')\n>>> out = create_quadratics(diamonds)\n>>> out.columns.str.contains(' * ').all()\nTrue",
         "failure_message": "All columns should contain '*'.",
         "hidden": false,
         "locked": false
        },
        {
         "code": ">>> diamonds = pd.read_csv('data/diamonds.csv')\n>>> out = create_quadratics(diamonds)\n>>> np.isclose(out.loc[:5, out.columns.str.contains('carat')].sum().sum(), 197.6061)\nTrue",
         "failure_message": "Wrong output for example provided in problem statement.",
         "hidden": false,
         "locked": false
        },
        {
         "code": ">>> diamonds = pd.read_csv('data/diamonds.csv')\n>>> out = create_quadratics(diamonds)\n>>> ('x * z' in out.columns) or ('z * x' in out.columns)\nTrue",
         "failure_message": "'x * z' or 'z * x' should be a column name.",
         "hidden": false,
         "locked": false
        },
        {
         "code": ">>> diamonds = pd.read_csv('data/diamonds.csv')\n>>> out = create_quadratics(diamonds)\n>>> out.shape[1] == 15\nTrue",
         "failure_message": "DataFrame shape was incorrect.",
         "hidden": false,
         "locked": false
        }
       ],
       "scored": true,
       "setup": "",
       "teardown": "",
       "type": "doctest"
      }
     ]
    },
    "q05_test_transform_carat": {
     "name": "q05_test_transform_carat",
     "points": 2,
     "suites": [
      {
       "cases": [
        {
         "code": ">>> diamonds = pd.read_csv('data/diamonds.csv')\n>>> transformed = TransformDiamonds(diamonds)\n>>> out = transformed.transform_carat(diamonds)\n>>> isinstance(out, np.ndarray)\nTrue",
         "failure_message": "Output should be array.",
         "hidden": false,
         "locked": false
        },
        {
         "code": ">>> diamonds = pd.read_csv('data/diamonds.csv')\n>>> transformed = TransformDiamonds(diamonds)\n>>> out = transformed.transform_carat(diamonds)\n>>> out[172, 0] == 1\nTrue",
         "failure_message": "Incorrect element at [172, 0].",
         "hidden": false,
         "locked": false
        },
        {
         "code": ">>> diamonds = pd.read_csv('data/diamonds.csv')\n>>> transformed = TransformDiamonds(diamonds)\n>>> out = transformed.transform_carat(diamonds)\n>>> out[0, 0] == 0\nTrue",
         "failure_message": "Incorrect element at [0, 0].",
         "hidden": false,
         "locked": false
        }
       ],
       "scored": true,
       "setup": "",
       "teardown": "",
       "type": "doctest"
      }
     ]
    },
    "q05_transform_to_depth_pct": {
     "name": "q05_transform_to_depth_pct",
     "points": 3,
     "suites": [
      {
       "cases": [
        {
         "code": ">>> diamonds = pd.read_csv('data/diamonds.csv')\n>>> transformed = TransformDiamonds(diamonds)\n>>> out = transformed.transform_to_depth_pct(diamonds)\n>>> len(out.shape) == 1\nTrue",
         "failure_message": "Shape should be 1-dimensional.",
         "hidden": false,
         "locked": false
        },
        {
         "code": ">>> diamonds = pd.read_csv('data/diamonds.csv')\n>>> transformed = TransformDiamonds(diamonds)\n>>> out = transformed.transform_to_depth_pct(diamonds)\n>>> np.isclose(out[0], 61.286, atol=0.0001)\nTrue",
         "failure_message": "Incorrect value of depth_pct first element.",
         "hidden": false,
         "locked": false
        }
       ],
       "scored": true,
       "setup": "",
       "teardown": "",
       "type": "doctest"
      }
     ]
    },
    "q05_transform_to_quantile": {
     "name": "q05_transform_to_quantile",
     "points": 2,
     "suites": [
      {
       "cases": [
        {
         "code": ">>> diamonds = pd.read_csv('data/diamonds.csv')\n>>> transformed = TransformDiamonds(diamonds)\n>>> out = transformed.transform_to_quantile(diamonds)\n>>> transformed_top_1000 = TransformDiamonds(diamonds[:1000])\n>>> out_top_1000 = transformed_top_1000.transform_to_quantile(diamonds)\n>>> isinstance(out, np.ndarray)\nTrue",
         "failure_message": "Output type should be array.",
         "hidden": false,
         "locked": false
        },
        {
         "code": ">>> diamonds = pd.read_csv('data/diamonds.csv')\n>>> transformed = TransformDiamonds(diamonds)\n>>> out = transformed.transform_to_quantile(diamonds)\n>>> np.isclose(out[0, 0], 0.005050505050505059, atol=0.01)\nTrue",
         "failure_message": "Output had wrong value. Make sure you're using random_state=98!",
         "hidden": false,
         "locked": false
        },
        {
         "code": ">>> diamonds = pd.read_csv('data/diamonds.csv')\n>>> transformed = TransformDiamonds(diamonds)\n>>> out = transformed.transform_to_quantile(diamonds)\n>>> np.isclose(out[1, 0], 0.0, atol=0.01)\nTrue",
         "failure_message": "Output had wrong value. Make sure you're using random_state=98!",
         "hidden": false,
         "locked": false
        }
       ],
       "scored": true,
       "setup": "",
       "teardown": "",
       "type": "doctest"
      }
     ]
    }
   }
  }
 },
 "nbformat": 4,
 "nbformat_minor": 5
}
