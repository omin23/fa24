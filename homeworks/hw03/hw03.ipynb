{
 "cells": [
  {
   "cell_type": "code",
   "execution_count": 1,
   "id": "6f2974c8",
   "metadata": {
    "deletable": false,
    "editable": false
   },
   "outputs": [],
   "source": [
    "# Initialize Otter\n",
    "import otter\n",
    "grader = otter.Notebook(\"hw03.ipynb\")"
   ]
  },
  {
   "cell_type": "markdown",
   "id": "889bbdeb",
   "metadata": {},
   "source": [
    "<div class=\"alert alert-success\" markdown=\"1\">\n",
    "\n",
    "#### Homework 3\n",
    "\n",
    "# Grouping, Pivoting, and Merging\n",
    "\n",
    "### EECS 398-003: Practical Data Science, Fall 2024\n",
    "\n",
    "#### Due Thursday, September 19th at 11:59PM\n",
    "    \n",
    "</div>"
   ]
  },
  {
   "cell_type": "markdown",
   "id": "3f1d21ee",
   "metadata": {},
   "source": [
    "## Instructions\n",
    "\n",
    "Welcome to Homework 3! In this homework, you will practice core DataFrame methods introduced in Lectures 5 and 6 – grouping, merging, and pivoting, in particular. See the [Readings section of the Resources tab on the course website](https://practicaldsc.org/resources/#readings) for supplemental resources.\n",
    "\n",
    "You are given six slip days throughout the semester to extend deadlines. See the [Syllabus](https://practicaldsc.org/syllabus) for more details. With the exception of using slip days, late work will not be accepted unless you have made special arrangements with your instructor.\n",
    "\n",
    "To access this notebook, you'll need to clone our [public GitHub repository](https://github.com/practicaldsc/fa24/). The [⚙️ Environment Setup](https://practicaldsc.org/env-setup) page on the course website walks you through the necessary steps. Once you're done, you'll submit your completed notebook to Gradescope.\n",
    "\n",
    "Please start early and submit often. You can submit as many times as you'd like to Gradescope, and we'll grade your **most recent** submission. Remember that the public `grader.check` tests in your notebook are not comprehensive, and that your work will also be graded on hidden test cases on Gradescope after the submission deadline.\n",
    "\n",
    "This homework is worth a total of **54 points**, 45 of which come from the autograder, **and 9 of which are manually graded by us** (Questions 1.3, 6.1, and 6.2). The number of points each question is worth is listed at the start of each question. **The four parts of the assignment are independent, so feel free to move around if you get stuck**. Tip: if you're using Jupyter Lab, you can see a Table of Contents for the notebook by going to View > Table of Contents.\n",
    "\n",
    "To get started, run the import cell below, plus the cell at the top of the notebook that imports and initializes `otter`.\n",
    "\n",
    "<a name='like-dataframe'>\n",
    "\n",
    "</a>\n",
    "\n",
    "<div class=\"alert alert-warning\" markdown=\"1\">\n",
    "    \n",
    "**Note**: Throughout this homework, you'll see statements like this frequently:\n",
    "\n",
    "<blockquote>Complete the implementation of the function ____, which takes in a DataFrame <code>df</code> like <code>other_df</code> and _____.</blockquote>\n",
    "\n",
    "What this means is that you should assume that `df` has the same number of columns as `other_df`, with the same column titles and data types, but potentially a different number of rows in a different order, with a potentially different index. You should always also assume that `df` has at least one row.\n",
    "\n",
    "We have you implement functions like this to prevent you from hard-coding your answers to one specific dataset.\n",
    "\n",
    "</div>\n",
    "\n",
    "<div class=\"alert alert-danger\" markdown=\"1\">\n",
    "\n",
    "You **cannot** use any `for`-loops on this homework, and may lose points in certain questions for doing so!\n",
    "\n",
    "</div>"
   ]
  },
  {
   "cell_type": "code",
   "execution_count": 2,
   "id": "fc6d173a",
   "metadata": {},
   "outputs": [],
   "source": [
    "import pandas as pd\n",
    "import numpy as np\n",
    "\n",
    "import plotly\n",
    "import plotly.graph_objects as go\n",
    "import plotly.express as px\n",
    "import plotly.io as pio\n",
    "\n",
    "# Preferred styles\n",
    "pio.templates[\"pds\"] = go.layout.Template(\n",
    "    layout=dict(\n",
    "        margin=dict(l=30, r=30, t=30, b=30),\n",
    "        autosize=True,\n",
    "        width=600,\n",
    "        height=400,\n",
    "        xaxis=dict(showgrid=True),\n",
    "        yaxis=dict(showgrid=True),\n",
    "        title=dict(x=0.5, xanchor=\"center\"),\n",
    "    )\n",
    ")\n",
    "pio.templates.default = \"simple_white+pds\"\n",
    "\n",
    "# Use plotly as default plotting engine\n",
    "pd.options.plotting.backend = \"plotly\""
   ]
  },
  {
   "cell_type": "markdown",
   "id": "213617e7",
   "metadata": {},
   "source": [
    "## Part 1: Presidential Elections 🇺🇸\n",
    "\n",
    "---\n",
    "\n",
    "The 2024 presidential election is on November 5th, and we're just a few days removed from the second presidential debate – a memorable one, to say the least.\n",
    "\n",
    "<center><img src=\"imgs/debate.jpg\" width=400>\n",
    "\n",
    "</center>\n",
    "\n",
    "<center><small>Kamala Harris (left) and Donald Trump (right), the Democratic and Republican candidates<br>in the 2024 presidential election, respectively.</small>\n",
    "</center>\n",
    "\n",
    "<br>\n",
    "\n",
    "In this first part of the homework, we'll familiarize ourselves with two equally important facets of American society – how the DataFrame `groupby` method works and how presidential elections work. We'll gain this familiarity by working with voting data from the past 12 elections, starting from 1976 and going through 2020, when our current president was elected.\n",
    "\n",
    "If you're not super familiar with the American political system, don't worry: [this brief article (along with the supplementary poster)](https://kz.usembassy.gov/summary-of-the-u-s-presidential-election-process/) has all of the context you need."
   ]
  },
  {
   "cell_type": "markdown",
   "id": "e05c97ef",
   "metadata": {},
   "source": [
    "Run the cell below to load in a DataFrame, `votes`."
   ]
  },
  {
   "cell_type": "code",
   "execution_count": 3,
   "id": "a76bbb6d",
   "metadata": {},
   "outputs": [
    {
     "data": {
      "text/html": [
       "<div>\n",
       "<style scoped>\n",
       "    .dataframe tbody tr th:only-of-type {\n",
       "        vertical-align: middle;\n",
       "    }\n",
       "\n",
       "    .dataframe tbody tr th {\n",
       "        vertical-align: top;\n",
       "    }\n",
       "\n",
       "    .dataframe thead th {\n",
       "        text-align: right;\n",
       "    }\n",
       "</style>\n",
       "<table border=\"1\" class=\"dataframe\">\n",
       "  <thead>\n",
       "    <tr style=\"text-align: right;\">\n",
       "      <th></th>\n",
       "      <th>year</th>\n",
       "      <th>state</th>\n",
       "      <th>state_ab</th>\n",
       "      <th>candidate</th>\n",
       "      <th>party</th>\n",
       "      <th>votes</th>\n",
       "    </tr>\n",
       "  </thead>\n",
       "  <tbody>\n",
       "    <tr>\n",
       "      <th>0</th>\n",
       "      <td>1976</td>\n",
       "      <td>ALABAMA</td>\n",
       "      <td>AL</td>\n",
       "      <td>BUBAR, BENJAMIN \"\"BEN\"\"</td>\n",
       "      <td>PROHIBITION</td>\n",
       "      <td>6669</td>\n",
       "    </tr>\n",
       "    <tr>\n",
       "      <th>1</th>\n",
       "      <td>1976</td>\n",
       "      <td>ALABAMA</td>\n",
       "      <td>AL</td>\n",
       "      <td>CARTER, JIMMY</td>\n",
       "      <td>DEMOCRAT</td>\n",
       "      <td>659170</td>\n",
       "    </tr>\n",
       "    <tr>\n",
       "      <th>2</th>\n",
       "      <td>1976</td>\n",
       "      <td>ALABAMA</td>\n",
       "      <td>AL</td>\n",
       "      <td>FORD, GERALD</td>\n",
       "      <td>REPUBLICAN</td>\n",
       "      <td>504070</td>\n",
       "    </tr>\n",
       "    <tr>\n",
       "      <th>3</th>\n",
       "      <td>1976</td>\n",
       "      <td>ALABAMA</td>\n",
       "      <td>AL</td>\n",
       "      <td>HALL, GUS</td>\n",
       "      <td>COMMUNIST PARTY USE</td>\n",
       "      <td>1954</td>\n",
       "    </tr>\n",
       "    <tr>\n",
       "      <th>4</th>\n",
       "      <td>1976</td>\n",
       "      <td>ALABAMA</td>\n",
       "      <td>AL</td>\n",
       "      <td>MACBRIDE, ROGER</td>\n",
       "      <td>LIBERTARIAN</td>\n",
       "      <td>1481</td>\n",
       "    </tr>\n",
       "    <tr>\n",
       "      <th>...</th>\n",
       "      <td>...</td>\n",
       "      <td>...</td>\n",
       "      <td>...</td>\n",
       "      <td>...</td>\n",
       "      <td>...</td>\n",
       "      <td>...</td>\n",
       "    </tr>\n",
       "    <tr>\n",
       "      <th>3747</th>\n",
       "      <td>2020</td>\n",
       "      <td>WISCONSIN</td>\n",
       "      <td>WI</td>\n",
       "      <td>WEST, KANYE</td>\n",
       "      <td>THE BIRTHDAY PARTY</td>\n",
       "      <td>411</td>\n",
       "    </tr>\n",
       "    <tr>\n",
       "      <th>3748</th>\n",
       "      <td>2020</td>\n",
       "      <td>WYOMING</td>\n",
       "      <td>WY</td>\n",
       "      <td>BIDEN, JOSEPH R. JR</td>\n",
       "      <td>DEMOCRAT</td>\n",
       "      <td>73491</td>\n",
       "    </tr>\n",
       "    <tr>\n",
       "      <th>3749</th>\n",
       "      <td>2020</td>\n",
       "      <td>WYOMING</td>\n",
       "      <td>WY</td>\n",
       "      <td>JORGENSEN, JO</td>\n",
       "      <td>LIBERTARIAN</td>\n",
       "      <td>5768</td>\n",
       "    </tr>\n",
       "    <tr>\n",
       "      <th>3750</th>\n",
       "      <td>2020</td>\n",
       "      <td>WYOMING</td>\n",
       "      <td>WY</td>\n",
       "      <td>PIERCE, BROCK</td>\n",
       "      <td>INDEPENDENT</td>\n",
       "      <td>2208</td>\n",
       "    </tr>\n",
       "    <tr>\n",
       "      <th>3751</th>\n",
       "      <td>2020</td>\n",
       "      <td>WYOMING</td>\n",
       "      <td>WY</td>\n",
       "      <td>TRUMP, DONALD J.</td>\n",
       "      <td>REPUBLICAN</td>\n",
       "      <td>193559</td>\n",
       "    </tr>\n",
       "  </tbody>\n",
       "</table>\n",
       "<p>3752 rows × 6 columns</p>\n",
       "</div>"
      ],
      "text/plain": [
       "      year      state state_ab                candidate                party  \\\n",
       "0     1976    ALABAMA       AL  BUBAR, BENJAMIN \"\"BEN\"\"          PROHIBITION   \n",
       "1     1976    ALABAMA       AL            CARTER, JIMMY             DEMOCRAT   \n",
       "2     1976    ALABAMA       AL             FORD, GERALD           REPUBLICAN   \n",
       "3     1976    ALABAMA       AL                HALL, GUS  COMMUNIST PARTY USE   \n",
       "4     1976    ALABAMA       AL          MACBRIDE, ROGER          LIBERTARIAN   \n",
       "...    ...        ...      ...                      ...                  ...   \n",
       "3747  2020  WISCONSIN       WI              WEST, KANYE   THE BIRTHDAY PARTY   \n",
       "3748  2020    WYOMING       WY      BIDEN, JOSEPH R. JR             DEMOCRAT   \n",
       "3749  2020    WYOMING       WY            JORGENSEN, JO          LIBERTARIAN   \n",
       "3750  2020    WYOMING       WY            PIERCE, BROCK          INDEPENDENT   \n",
       "3751  2020    WYOMING       WY         TRUMP, DONALD J.           REPUBLICAN   \n",
       "\n",
       "       votes  \n",
       "0       6669  \n",
       "1     659170  \n",
       "2     504070  \n",
       "3       1954  \n",
       "4       1481  \n",
       "...      ...  \n",
       "3747     411  \n",
       "3748   73491  \n",
       "3749    5768  \n",
       "3750    2208  \n",
       "3751  193559  \n",
       "\n",
       "[3752 rows x 6 columns]"
      ]
     },
     "execution_count": 3,
     "metadata": {},
     "output_type": "execute_result"
    }
   ],
   "source": [
    "votes = pd.read_csv('data/elections/historical_votes.csv')\n",
    "votes"
   ]
  },
  {
   "cell_type": "markdown",
   "id": "0cf30446",
   "metadata": {},
   "source": [
    "Each row of `votes` tells us the number of votes for a particular presidential `'party'` and `'candidate'` in a particular `'state'` and `'year'`. For instance:\n",
    "- The first row tells us that in 1976, 659170 voters in Alabama voted for Jimmy Carter, the Democrat `'candidate'`.\n",
    "- The second last row tells us that in 2020, 5768 voters in Wyoming voted for Jo Jorgensen, the Libertarian `'candidate'`.\n",
    "\n",
    "Note that each party only has one presidential candidate in a given year. That means, there is only one row in `votes` for any combination of `'year'`, `'state'`, and `'party'`."
   ]
  },
  {
   "cell_type": "markdown",
   "id": "6a38b51f",
   "metadata": {},
   "source": [
    "Let's get started!"
   ]
  },
  {
   "cell_type": "markdown",
   "id": "b408ab0e",
   "metadata": {},
   "source": [
    "### Question 1: Counting Votes 🗳️\n",
    "\n",
    "In Question 1, you'll answer some preliminary questions to familiarize yourself with the dataset. **Don't** hard-code your answers; use `pandas` code to find them programatically."
   ]
  },
  {
   "cell_type": "markdown",
   "id": "4990b39f",
   "metadata": {},
   "source": [
    "#### Question 1.1   <div style=\"display:inline-block; vertical-align: middle; padding:7px 7px; font-size:10px; font-weight:light; color:white; background-color:#e84c4a; border-radius:7px; text-align:left;\">2 Points</div>\n",
    "\n",
    "Assign `michigan_total_2020` to the total number of votes cast in Michigan in the 2020 election. Your answer should be an integer."
   ]
  },
  {
   "cell_type": "code",
   "execution_count": 4,
   "id": "2934df08",
   "metadata": {
    "tags": []
   },
   "outputs": [
    {
     "data": {
      "text/plain": [
       "5539269"
      ]
     },
     "execution_count": 4,
     "metadata": {},
     "output_type": "execute_result"
    }
   ],
   "source": [
    "michigan_total_2020 = votes.query('state == \"MICHIGAN\" and year == 2020')['votes'].sum()\n",
    "michigan_total_2020"
   ]
  },
  {
   "cell_type": "code",
   "execution_count": 5,
   "id": "4956d544",
   "metadata": {
    "deletable": false,
    "editable": false
   },
   "outputs": [
    {
     "data": {
      "text/html": [
       "<p><strong><pre style='display: inline;'>q01_1</pre></strong> passed!</p>"
      ],
      "text/plain": [
       "q01_1 results: All test cases passed!"
      ]
     },
     "execution_count": 5,
     "metadata": {},
     "output_type": "execute_result"
    }
   ],
   "source": [
    "grader.check(\"q01_1\")"
   ]
  },
  {
   "cell_type": "markdown",
   "id": "850616bc",
   "metadata": {},
   "source": [
    "#### Question 1.2   <div style=\"display:inline-block; vertical-align: middle; padding:7px 7px; font-size:10px; font-weight:light; color:white; background-color:#e84c4a; border-radius:7px; text-align:left;\">2 Points</div>\n",
    "\n",
    "Assign `votes_per_year` to a Series, indexed by `'year'`, containing the total number of votes cast each `'year'`. The Series should be sorted by the index (i.e. `'year'`) in ascending order.\n",
    "\n",
    "Example behavior is given below.\n",
    "\n",
    "```python\n",
    ">>> votes_per_year.loc[1996]\n",
    "95486860\n",
    "\n",
    ">>> votes_per_year.iloc[3]\n",
    "91496698\n",
    "```"
   ]
  },
  {
   "cell_type": "code",
   "execution_count": 6,
   "id": "ac7ca174",
   "metadata": {
    "tags": []
   },
   "outputs": [
    {
     "data": {
      "text/plain": [
       "year\n",
       "1976     81400304\n",
       "1980     86477435\n",
       "1984     92640132\n",
       "1988     91496698\n",
       "1992    104418327\n",
       "1996     95486860\n",
       "2000    104911114\n",
       "2004    122161457\n",
       "2008    131090435\n",
       "2012    128811137\n",
       "2016    135344878\n",
       "2020    158228801\n",
       "Name: votes, dtype: int64"
      ]
     },
     "execution_count": 6,
     "metadata": {},
     "output_type": "execute_result"
    }
   ],
   "source": [
    "votes_per_year = votes.groupby('year')['votes'].sum()\n",
    "votes_per_year"
   ]
  },
  {
   "cell_type": "code",
   "execution_count": 7,
   "id": "683c721e",
   "metadata": {
    "deletable": false,
    "editable": false
   },
   "outputs": [
    {
     "data": {
      "text/html": [
       "<p><strong><pre style='display: inline;'>q01_2</pre></strong> passed!</p>"
      ],
      "text/plain": [
       "q01_2 results: All test cases passed!"
      ]
     },
     "execution_count": 7,
     "metadata": {},
     "output_type": "execute_result"
    }
   ],
   "source": [
    "grader.check(\"q01_2\")"
   ]
  },
  {
   "cell_type": "markdown",
   "id": "8d9691e3",
   "metadata": {},
   "source": [
    "If you answered Question 1.2 correctly, then below, you should see a line chart depicting the number of votes cast each `'year'`."
   ]
  },
  {
   "cell_type": "code",
   "execution_count": 8,
   "id": "2fc367ec",
   "metadata": {},
   "outputs": [
    {
     "data": {
      "application/vnd.plotly.v1+json": {
       "config": {
        "plotlyServerURL": "https://plot.ly"
       },
       "data": [
        {
         "hovertemplate": "variable=votes<br>year=%{x}<br>value=%{y}<extra></extra>",
         "legendgroup": "votes",
         "line": {
          "color": "#1F77B4",
          "dash": "solid"
         },
         "marker": {
          "symbol": "circle"
         },
         "mode": "lines",
         "name": "votes",
         "orientation": "v",
         "showlegend": true,
         "type": "scatter",
         "x": [
          1976,
          1980,
          1984,
          1988,
          1992,
          1996,
          2000,
          2004,
          2008,
          2012,
          2016,
          2020
         ],
         "xaxis": "x",
         "y": [
          81400304,
          86477435,
          92640132,
          91496698,
          104418327,
          95486860,
          104911114,
          122161457,
          131090435,
          128811137,
          135344878,
          158228801
         ],
         "yaxis": "y"
        }
       ],
       "layout": {
        "legend": {
         "title": {
          "text": "variable"
         },
         "tracegroupgap": 0
        },
        "showlegend": false,
        "template": {
         "data": {
          "bar": [
           {
            "error_x": {
             "color": "rgb(36,36,36)"
            },
            "error_y": {
             "color": "rgb(36,36,36)"
            },
            "marker": {
             "line": {
              "color": "white",
              "width": 0.5
             },
             "pattern": {
              "fillmode": "overlay",
              "size": 10,
              "solidity": 0.2
             }
            },
            "type": "bar"
           }
          ],
          "barpolar": [
           {
            "marker": {
             "line": {
              "color": "white",
              "width": 0.5
             },
             "pattern": {
              "fillmode": "overlay",
              "size": 10,
              "solidity": 0.2
             }
            },
            "type": "barpolar"
           }
          ],
          "carpet": [
           {
            "aaxis": {
             "endlinecolor": "rgb(36,36,36)",
             "gridcolor": "white",
             "linecolor": "white",
             "minorgridcolor": "white",
             "startlinecolor": "rgb(36,36,36)"
            },
            "baxis": {
             "endlinecolor": "rgb(36,36,36)",
             "gridcolor": "white",
             "linecolor": "white",
             "minorgridcolor": "white",
             "startlinecolor": "rgb(36,36,36)"
            },
            "type": "carpet"
           }
          ],
          "choropleth": [
           {
            "colorbar": {
             "outlinewidth": 1,
             "tickcolor": "rgb(36,36,36)",
             "ticks": "outside"
            },
            "type": "choropleth"
           }
          ],
          "contour": [
           {
            "colorbar": {
             "outlinewidth": 1,
             "tickcolor": "rgb(36,36,36)",
             "ticks": "outside"
            },
            "colorscale": [
             [
              0,
              "#440154"
             ],
             [
              0.1111111111111111,
              "#482878"
             ],
             [
              0.2222222222222222,
              "#3e4989"
             ],
             [
              0.3333333333333333,
              "#31688e"
             ],
             [
              0.4444444444444444,
              "#26828e"
             ],
             [
              0.5555555555555556,
              "#1f9e89"
             ],
             [
              0.6666666666666666,
              "#35b779"
             ],
             [
              0.7777777777777778,
              "#6ece58"
             ],
             [
              0.8888888888888888,
              "#b5de2b"
             ],
             [
              1,
              "#fde725"
             ]
            ],
            "type": "contour"
           }
          ],
          "contourcarpet": [
           {
            "colorbar": {
             "outlinewidth": 1,
             "tickcolor": "rgb(36,36,36)",
             "ticks": "outside"
            },
            "type": "contourcarpet"
           }
          ],
          "heatmap": [
           {
            "colorbar": {
             "outlinewidth": 1,
             "tickcolor": "rgb(36,36,36)",
             "ticks": "outside"
            },
            "colorscale": [
             [
              0,
              "#440154"
             ],
             [
              0.1111111111111111,
              "#482878"
             ],
             [
              0.2222222222222222,
              "#3e4989"
             ],
             [
              0.3333333333333333,
              "#31688e"
             ],
             [
              0.4444444444444444,
              "#26828e"
             ],
             [
              0.5555555555555556,
              "#1f9e89"
             ],
             [
              0.6666666666666666,
              "#35b779"
             ],
             [
              0.7777777777777778,
              "#6ece58"
             ],
             [
              0.8888888888888888,
              "#b5de2b"
             ],
             [
              1,
              "#fde725"
             ]
            ],
            "type": "heatmap"
           }
          ],
          "heatmapgl": [
           {
            "colorbar": {
             "outlinewidth": 1,
             "tickcolor": "rgb(36,36,36)",
             "ticks": "outside"
            },
            "colorscale": [
             [
              0,
              "#440154"
             ],
             [
              0.1111111111111111,
              "#482878"
             ],
             [
              0.2222222222222222,
              "#3e4989"
             ],
             [
              0.3333333333333333,
              "#31688e"
             ],
             [
              0.4444444444444444,
              "#26828e"
             ],
             [
              0.5555555555555556,
              "#1f9e89"
             ],
             [
              0.6666666666666666,
              "#35b779"
             ],
             [
              0.7777777777777778,
              "#6ece58"
             ],
             [
              0.8888888888888888,
              "#b5de2b"
             ],
             [
              1,
              "#fde725"
             ]
            ],
            "type": "heatmapgl"
           }
          ],
          "histogram": [
           {
            "marker": {
             "line": {
              "color": "white",
              "width": 0.6
             }
            },
            "type": "histogram"
           }
          ],
          "histogram2d": [
           {
            "colorbar": {
             "outlinewidth": 1,
             "tickcolor": "rgb(36,36,36)",
             "ticks": "outside"
            },
            "colorscale": [
             [
              0,
              "#440154"
             ],
             [
              0.1111111111111111,
              "#482878"
             ],
             [
              0.2222222222222222,
              "#3e4989"
             ],
             [
              0.3333333333333333,
              "#31688e"
             ],
             [
              0.4444444444444444,
              "#26828e"
             ],
             [
              0.5555555555555556,
              "#1f9e89"
             ],
             [
              0.6666666666666666,
              "#35b779"
             ],
             [
              0.7777777777777778,
              "#6ece58"
             ],
             [
              0.8888888888888888,
              "#b5de2b"
             ],
             [
              1,
              "#fde725"
             ]
            ],
            "type": "histogram2d"
           }
          ],
          "histogram2dcontour": [
           {
            "colorbar": {
             "outlinewidth": 1,
             "tickcolor": "rgb(36,36,36)",
             "ticks": "outside"
            },
            "colorscale": [
             [
              0,
              "#440154"
             ],
             [
              0.1111111111111111,
              "#482878"
             ],
             [
              0.2222222222222222,
              "#3e4989"
             ],
             [
              0.3333333333333333,
              "#31688e"
             ],
             [
              0.4444444444444444,
              "#26828e"
             ],
             [
              0.5555555555555556,
              "#1f9e89"
             ],
             [
              0.6666666666666666,
              "#35b779"
             ],
             [
              0.7777777777777778,
              "#6ece58"
             ],
             [
              0.8888888888888888,
              "#b5de2b"
             ],
             [
              1,
              "#fde725"
             ]
            ],
            "type": "histogram2dcontour"
           }
          ],
          "mesh3d": [
           {
            "colorbar": {
             "outlinewidth": 1,
             "tickcolor": "rgb(36,36,36)",
             "ticks": "outside"
            },
            "type": "mesh3d"
           }
          ],
          "parcoords": [
           {
            "line": {
             "colorbar": {
              "outlinewidth": 1,
              "tickcolor": "rgb(36,36,36)",
              "ticks": "outside"
             }
            },
            "type": "parcoords"
           }
          ],
          "pie": [
           {
            "automargin": true,
            "type": "pie"
           }
          ],
          "scatter": [
           {
            "fillpattern": {
             "fillmode": "overlay",
             "size": 10,
             "solidity": 0.2
            },
            "type": "scatter"
           }
          ],
          "scatter3d": [
           {
            "line": {
             "colorbar": {
              "outlinewidth": 1,
              "tickcolor": "rgb(36,36,36)",
              "ticks": "outside"
             }
            },
            "marker": {
             "colorbar": {
              "outlinewidth": 1,
              "tickcolor": "rgb(36,36,36)",
              "ticks": "outside"
             }
            },
            "type": "scatter3d"
           }
          ],
          "scattercarpet": [
           {
            "marker": {
             "colorbar": {
              "outlinewidth": 1,
              "tickcolor": "rgb(36,36,36)",
              "ticks": "outside"
             }
            },
            "type": "scattercarpet"
           }
          ],
          "scattergeo": [
           {
            "marker": {
             "colorbar": {
              "outlinewidth": 1,
              "tickcolor": "rgb(36,36,36)",
              "ticks": "outside"
             }
            },
            "type": "scattergeo"
           }
          ],
          "scattergl": [
           {
            "marker": {
             "colorbar": {
              "outlinewidth": 1,
              "tickcolor": "rgb(36,36,36)",
              "ticks": "outside"
             }
            },
            "type": "scattergl"
           }
          ],
          "scattermapbox": [
           {
            "marker": {
             "colorbar": {
              "outlinewidth": 1,
              "tickcolor": "rgb(36,36,36)",
              "ticks": "outside"
             }
            },
            "type": "scattermapbox"
           }
          ],
          "scatterpolar": [
           {
            "marker": {
             "colorbar": {
              "outlinewidth": 1,
              "tickcolor": "rgb(36,36,36)",
              "ticks": "outside"
             }
            },
            "type": "scatterpolar"
           }
          ],
          "scatterpolargl": [
           {
            "marker": {
             "colorbar": {
              "outlinewidth": 1,
              "tickcolor": "rgb(36,36,36)",
              "ticks": "outside"
             }
            },
            "type": "scatterpolargl"
           }
          ],
          "scatterternary": [
           {
            "marker": {
             "colorbar": {
              "outlinewidth": 1,
              "tickcolor": "rgb(36,36,36)",
              "ticks": "outside"
             }
            },
            "type": "scatterternary"
           }
          ],
          "surface": [
           {
            "colorbar": {
             "outlinewidth": 1,
             "tickcolor": "rgb(36,36,36)",
             "ticks": "outside"
            },
            "colorscale": [
             [
              0,
              "#440154"
             ],
             [
              0.1111111111111111,
              "#482878"
             ],
             [
              0.2222222222222222,
              "#3e4989"
             ],
             [
              0.3333333333333333,
              "#31688e"
             ],
             [
              0.4444444444444444,
              "#26828e"
             ],
             [
              0.5555555555555556,
              "#1f9e89"
             ],
             [
              0.6666666666666666,
              "#35b779"
             ],
             [
              0.7777777777777778,
              "#6ece58"
             ],
             [
              0.8888888888888888,
              "#b5de2b"
             ],
             [
              1,
              "#fde725"
             ]
            ],
            "type": "surface"
           }
          ],
          "table": [
           {
            "cells": {
             "fill": {
              "color": "rgb(237,237,237)"
             },
             "line": {
              "color": "white"
             }
            },
            "header": {
             "fill": {
              "color": "rgb(217,217,217)"
             },
             "line": {
              "color": "white"
             }
            },
            "type": "table"
           }
          ]
         },
         "layout": {
          "annotationdefaults": {
           "arrowhead": 0,
           "arrowwidth": 1
          },
          "autosize": true,
          "autotypenumbers": "strict",
          "coloraxis": {
           "colorbar": {
            "outlinewidth": 1,
            "tickcolor": "rgb(36,36,36)",
            "ticks": "outside"
           }
          },
          "colorscale": {
           "diverging": [
            [
             0,
             "rgb(103,0,31)"
            ],
            [
             0.1,
             "rgb(178,24,43)"
            ],
            [
             0.2,
             "rgb(214,96,77)"
            ],
            [
             0.3,
             "rgb(244,165,130)"
            ],
            [
             0.4,
             "rgb(253,219,199)"
            ],
            [
             0.5,
             "rgb(247,247,247)"
            ],
            [
             0.6,
             "rgb(209,229,240)"
            ],
            [
             0.7,
             "rgb(146,197,222)"
            ],
            [
             0.8,
             "rgb(67,147,195)"
            ],
            [
             0.9,
             "rgb(33,102,172)"
            ],
            [
             1,
             "rgb(5,48,97)"
            ]
           ],
           "sequential": [
            [
             0,
             "#440154"
            ],
            [
             0.1111111111111111,
             "#482878"
            ],
            [
             0.2222222222222222,
             "#3e4989"
            ],
            [
             0.3333333333333333,
             "#31688e"
            ],
            [
             0.4444444444444444,
             "#26828e"
            ],
            [
             0.5555555555555556,
             "#1f9e89"
            ],
            [
             0.6666666666666666,
             "#35b779"
            ],
            [
             0.7777777777777778,
             "#6ece58"
            ],
            [
             0.8888888888888888,
             "#b5de2b"
            ],
            [
             1,
             "#fde725"
            ]
           ],
           "sequentialminus": [
            [
             0,
             "#440154"
            ],
            [
             0.1111111111111111,
             "#482878"
            ],
            [
             0.2222222222222222,
             "#3e4989"
            ],
            [
             0.3333333333333333,
             "#31688e"
            ],
            [
             0.4444444444444444,
             "#26828e"
            ],
            [
             0.5555555555555556,
             "#1f9e89"
            ],
            [
             0.6666666666666666,
             "#35b779"
            ],
            [
             0.7777777777777778,
             "#6ece58"
            ],
            [
             0.8888888888888888,
             "#b5de2b"
            ],
            [
             1,
             "#fde725"
            ]
           ]
          },
          "colorway": [
           "#1F77B4",
           "#FF7F0E",
           "#2CA02C",
           "#D62728",
           "#9467BD",
           "#8C564B",
           "#E377C2",
           "#7F7F7F",
           "#BCBD22",
           "#17BECF"
          ],
          "font": {
           "color": "rgb(36,36,36)"
          },
          "geo": {
           "bgcolor": "white",
           "lakecolor": "white",
           "landcolor": "white",
           "showlakes": true,
           "showland": true,
           "subunitcolor": "white"
          },
          "height": 400,
          "hoverlabel": {
           "align": "left"
          },
          "hovermode": "closest",
          "mapbox": {
           "style": "light"
          },
          "margin": {
           "b": 30,
           "l": 30,
           "r": 30,
           "t": 30
          },
          "paper_bgcolor": "white",
          "plot_bgcolor": "white",
          "polar": {
           "angularaxis": {
            "gridcolor": "rgb(232,232,232)",
            "linecolor": "rgb(36,36,36)",
            "showgrid": false,
            "showline": true,
            "ticks": "outside"
           },
           "bgcolor": "white",
           "radialaxis": {
            "gridcolor": "rgb(232,232,232)",
            "linecolor": "rgb(36,36,36)",
            "showgrid": false,
            "showline": true,
            "ticks": "outside"
           }
          },
          "scene": {
           "xaxis": {
            "backgroundcolor": "white",
            "gridcolor": "rgb(232,232,232)",
            "gridwidth": 2,
            "linecolor": "rgb(36,36,36)",
            "showbackground": true,
            "showgrid": false,
            "showline": true,
            "ticks": "outside",
            "zeroline": false,
            "zerolinecolor": "rgb(36,36,36)"
           },
           "yaxis": {
            "backgroundcolor": "white",
            "gridcolor": "rgb(232,232,232)",
            "gridwidth": 2,
            "linecolor": "rgb(36,36,36)",
            "showbackground": true,
            "showgrid": false,
            "showline": true,
            "ticks": "outside",
            "zeroline": false,
            "zerolinecolor": "rgb(36,36,36)"
           },
           "zaxis": {
            "backgroundcolor": "white",
            "gridcolor": "rgb(232,232,232)",
            "gridwidth": 2,
            "linecolor": "rgb(36,36,36)",
            "showbackground": true,
            "showgrid": false,
            "showline": true,
            "ticks": "outside",
            "zeroline": false,
            "zerolinecolor": "rgb(36,36,36)"
           }
          },
          "shapedefaults": {
           "fillcolor": "black",
           "line": {
            "width": 0
           },
           "opacity": 0.3
          },
          "ternary": {
           "aaxis": {
            "gridcolor": "rgb(232,232,232)",
            "linecolor": "rgb(36,36,36)",
            "showgrid": false,
            "showline": true,
            "ticks": "outside"
           },
           "baxis": {
            "gridcolor": "rgb(232,232,232)",
            "linecolor": "rgb(36,36,36)",
            "showgrid": false,
            "showline": true,
            "ticks": "outside"
           },
           "bgcolor": "white",
           "caxis": {
            "gridcolor": "rgb(232,232,232)",
            "linecolor": "rgb(36,36,36)",
            "showgrid": false,
            "showline": true,
            "ticks": "outside"
           }
          },
          "title": {
           "x": 0.5,
           "xanchor": "center"
          },
          "width": 600,
          "xaxis": {
           "automargin": true,
           "gridcolor": "rgb(232,232,232)",
           "linecolor": "rgb(36,36,36)",
           "showgrid": true,
           "showline": true,
           "ticks": "outside",
           "title": {
            "standoff": 15
           },
           "zeroline": false,
           "zerolinecolor": "rgb(36,36,36)"
          },
          "yaxis": {
           "automargin": true,
           "gridcolor": "rgb(232,232,232)",
           "linecolor": "rgb(36,36,36)",
           "showgrid": true,
           "showline": true,
           "ticks": "outside",
           "title": {
            "standoff": 15
           },
           "zeroline": false,
           "zerolinecolor": "rgb(36,36,36)"
          }
         }
        },
        "title": {
         "text": "Votes Cast in the Presidential Election Each Year"
        },
        "xaxis": {
         "anchor": "y",
         "domain": [
          0,
          1
         ],
         "title": {
          "text": "Year"
         }
        },
        "yaxis": {
         "anchor": "x",
         "domain": [
          0,
          1
         ],
         "title": {
          "text": "Votes"
         }
        }
       }
      }
     },
     "metadata": {},
     "output_type": "display_data"
    }
   ],
   "source": [
    "(\n",
    "    votes_per_year\n",
    "    .plot(kind='line', title='Votes Cast in the Presidential Election Each Year')\n",
    "    .update_layout(xaxis_title='Year', yaxis_title='Votes', showlegend=False)\n",
    ")"
   ]
  },
  {
   "cell_type": "markdown",
   "id": "6d9e69c7",
   "metadata": {},
   "source": [
    "Without looking at the data, one might guess that the number of people who vote each election only increases, since the population of the US increases considerably from year-to-year. However, a variety of factors play a role in determining voter _turnout_."
   ]
  },
  {
   "cell_type": "markdown",
   "id": "b5311825",
   "metadata": {},
   "source": [
    "<!-- BEGIN QUESTION -->\n",
    "\n",
    "#### Question 1.3   <div style=\"display:inline-block; vertical-align: middle; padding:7px 7px; font-size:10px; font-weight:light; color:white; background-color:#e84c4a; border-radius:7px; text-align:left;\">3 Points</div>\n",
    "\n",
    "Identify **two** interesting takeways from the graph above. Do a little bit of research on _why_ those historical events may have occurred, and write 1-2 sentences per takeaway about your findings (so 2-4 sentences total). You can use Google or ChatGPT to do your research, but you **must** write your answers in your own words. As a data scientist, you'll need to do this a lot – identify trends in data and try to make sense of them.\n",
    "\n",
    "For example, one interesting takeaway – **which you cannot use** – is that fewer people voted in 1996 than in 1992. Some [research](https://www.csmonitor.com/1996/1016/101696.us.us.1.html) shows that this was likely because the economy and nation more generally was relatively stable, meaning the public was generally happy with the job being done by the incumbent, leading to a lower sense of urgency to vote and change the status quo.\n",
    "\n",
    "---"
   ]
  },
  {
   "cell_type": "markdown",
   "id": "6d93ad22",
   "metadata": {},
   "source": [
    "Event 1: One interesting trend is that less people voted in 2012 than in 2008\n",
    "Take away 1: Some research suggests that less popele voted becuase more there was a lack of competitiveity becuase of a lack of viable candidates.\n",
    "\n",
    "Event 2: A second interesting trend is the way more poeple votes in 2020 than in 2016.\n",
    "Takeaway 2: This is most likely because there was a large movement for younger people to vote, as well as increased awareness and engagement due to significant political events and social movements leading up to the 2020 election.\n"
   ]
  },
  {
   "cell_type": "markdown",
   "id": "2d1cc88b",
   "metadata": {},
   "source": [
    "<!-- END QUESTION -->\n",
    "\n",
    "---"
   ]
  },
  {
   "cell_type": "markdown",
   "id": "9a1f0eca",
   "metadata": {},
   "source": [
    "#### Question 1.4   <div style=\"display:inline-block; vertical-align: middle; padding:7px 7px; font-size:10px; font-weight:light; color:white; background-color:#e84c4a; border-radius:7px; text-align:left;\">3 Points</div>\n",
    "\n",
    "Assign `rep_per_state` to a Series, indexed by `'state'`, containing the number of votes cast for the Republican `'party'` in each `'state'` in 2020. The Series should be sorted by number of votes in descending order, and **should only contain information for the 10 `'state'`s with the most votes for the Republican `'party'`**.\n",
    "\n",
    "Example behavior is given below.\n",
    "\n",
    "```python\n",
    ">>> rep_per_state.shape[0]\n",
    "10\n",
    "\n",
    ">>> rep_per_state.loc['MICHIGAN']\n",
    "2649852\n",
    "\n",
    ">>> rep_per_state.iloc[-1]\n",
    "2446891\n",
    "```"
   ]
  },
  {
   "cell_type": "code",
   "execution_count": 9,
   "id": "e5aa5524",
   "metadata": {
    "tags": []
   },
   "outputs": [
    {
     "data": {
      "text/plain": [
       "state\n",
       "CALIFORNIA        6006429\n",
       "TEXAS             5890347\n",
       "FLORIDA           5668731\n",
       "PENNSYLVANIA      3377674\n",
       "NEW YORK          3244798\n",
       "OHIO              3154834\n",
       "NORTH CAROLINA    2758773\n",
       "MICHIGAN          2649852\n",
       "GEORGIA           2461854\n",
       "ILLINOIS          2446891\n",
       "Name: votes, dtype: int64"
      ]
     },
     "execution_count": 9,
     "metadata": {},
     "output_type": "execute_result"
    }
   ],
   "source": [
    "rep_per_state = ( \n",
    "\n",
    "    votes.query('party == \"REPUBLICAN\" and year == 2020')\n",
    "    .sort_values('votes', ascending=False).set_index('state')['votes']\n",
    "    .head(10)\n",
    ")\n",
    "\n",
    "rep_per_state"
   ]
  },
  {
   "cell_type": "code",
   "execution_count": 10,
   "id": "1aa98410",
   "metadata": {
    "deletable": false,
    "editable": false
   },
   "outputs": [
    {
     "data": {
      "text/html": [
       "<p><strong><pre style='display: inline;'>q01_4</pre></strong> passed!</p>"
      ],
      "text/plain": [
       "q01_4 results: All test cases passed!"
      ]
     },
     "execution_count": 10,
     "metadata": {},
     "output_type": "execute_result"
    }
   ],
   "source": [
    "grader.check(\"q01_4\")"
   ]
  },
  {
   "cell_type": "markdown",
   "id": "6a5c7080",
   "metadata": {},
   "source": [
    "### Question 2: Winners and Losers 🏆\n",
    "\n",
    "In Question 1, we explored the number of individuals that voted in different periods of time and in different regions. But we didn't really attempt to find _who won_ the most votes in any particular year. That's what we'll work towards now.\n",
    "\n",
    "In Question 2, your solutions will be more complex than they were in Question 1. You may find yourself using `groupby` on multiple columns, or even `groupby` multiple times, to solve a single subpart. Expect to have to create custom aggregation methods and use other grouping-related methods from [Lecture 6](https://practicaldsc.org/resources/lectures/lec06/lec06-filled.html). Think one step at a time, and don't just write a bunch of code and then run it – run your cells frequently to _understand_ what they're doing!"
   ]
  },
  {
   "cell_type": "markdown",
   "id": "41144061",
   "metadata": {},
   "source": [
    "#### Question 2.1   <div style=\"display:inline-block; vertical-align: middle; padding:7px 7px; font-size:10px; font-weight:light; color:white; background-color:#e84c4a; border-radius:7px; text-align:left;\">3 Points</div>\n",
    "\n",
    "Complete the implementation of the function `votes_per_year_party`, which takes in a DataFrame `df` like `votes`, and returns a DataFrame with three columns: `'year'`, `'party'`, and `'votes'`, the latter of which contains the total number of votes cast for every unique combination of `'year'` and `'party'` in `df`.\n",
    "\n",
    "As an example, a random subset of the rows in `votes_per_year_party(votes)` are given below, though note that `votes_per_year_party(votes)` should have many more rows than below. And, remember [from the top of the assignment](#like-dataframe) that `votes_per_year_party` needs to work on other DataFrames like `votes`, not just `votes` itself.\n",
    "\n",
    "<table border=\"1\" class=\"dataframe\">\n",
    "  <thead>\n",
    "    <tr style=\"text-align: right;\">\n",
    "      <th></th>\n",
    "      <th>year</th>\n",
    "      <th>party</th>\n",
    "      <th>votes</th>\n",
    "    </tr>\n",
    "  </thead>\n",
    "  <tbody>\n",
    "    <tr>\n",
    "      <th>56</th>\n",
    "      <td>1984</td>\n",
    "      <td>DEMOCRAT</td>\n",
    "      <td>37449813</td>\n",
    "    </tr>\n",
    "    <tr>\n",
    "      <th>230</th>\n",
    "      <td>2004</td>\n",
    "      <td>POPULIST</td>\n",
    "      <td>23094</td>\n",
    "    </tr>\n",
    "    <tr>\n",
    "      <th>238</th>\n",
    "      <td>2004</td>\n",
    "      <td>SOCIALIST WORKERS</td>\n",
    "      <td>7493</td>\n",
    "    </tr>\n",
    "    <tr>\n",
    "      <th>175</th>\n",
    "      <td>2000</td>\n",
    "      <td>DEMOCRAT</td>\n",
    "      <td>49662314</td>\n",
    "    </tr>\n",
    "    <tr>\n",
    "      <th>355</th>\n",
    "      <td>2016</td>\n",
    "      <td>WORKERS WORLD PARTY</td>\n",
    "      <td>3519</td>\n",
    "    </tr>\n",
    "  </tbody>\n",
    "</table>\n",
    "\n",
    "<center>A random sample of the rows in <code>votes_per_year_party(votes)</code>.</center>\n",
    "\n",
    "<br>\n",
    "The index and order of the resulting DataFrame do not matter."
   ]
  },
  {
   "cell_type": "code",
   "execution_count": 104,
   "id": "c78072f5",
   "metadata": {
    "tags": []
   },
   "outputs": [
    {
     "data": {
      "text/html": [
       "<div>\n",
       "<style scoped>\n",
       "    .dataframe tbody tr th:only-of-type {\n",
       "        vertical-align: middle;\n",
       "    }\n",
       "\n",
       "    .dataframe tbody tr th {\n",
       "        vertical-align: top;\n",
       "    }\n",
       "\n",
       "    .dataframe thead th {\n",
       "        text-align: right;\n",
       "    }\n",
       "</style>\n",
       "<table border=\"1\" class=\"dataframe\">\n",
       "  <thead>\n",
       "    <tr style=\"text-align: right;\">\n",
       "      <th></th>\n",
       "      <th>year</th>\n",
       "      <th>party</th>\n",
       "      <th>votes</th>\n",
       "    </tr>\n",
       "  </thead>\n",
       "  <tbody>\n",
       "    <tr>\n",
       "      <th>0</th>\n",
       "      <td>1976</td>\n",
       "      <td>AMERICAN</td>\n",
       "      <td>143914</td>\n",
       "    </tr>\n",
       "    <tr>\n",
       "      <th>1</th>\n",
       "      <td>1976</td>\n",
       "      <td>AMERICAN INDEPENDENT PARTY</td>\n",
       "      <td>131761</td>\n",
       "    </tr>\n",
       "    <tr>\n",
       "      <th>2</th>\n",
       "      <td>1976</td>\n",
       "      <td>AMERICAN PARTY OF IOWA</td>\n",
       "      <td>3041</td>\n",
       "    </tr>\n",
       "    <tr>\n",
       "      <th>3</th>\n",
       "      <td>1976</td>\n",
       "      <td>COMMUNIST PARTY USE</td>\n",
       "      <td>44287</td>\n",
       "    </tr>\n",
       "    <tr>\n",
       "      <th>4</th>\n",
       "      <td>1976</td>\n",
       "      <td>CONCERNED CITIZENS</td>\n",
       "      <td>1162</td>\n",
       "    </tr>\n",
       "    <tr>\n",
       "      <th>...</th>\n",
       "      <td>...</td>\n",
       "      <td>...</td>\n",
       "      <td>...</td>\n",
       "    </tr>\n",
       "    <tr>\n",
       "      <th>395</th>\n",
       "      <td>2020</td>\n",
       "      <td>SOCIALIST WORKERS PARTY</td>\n",
       "      <td>4020</td>\n",
       "    </tr>\n",
       "    <tr>\n",
       "      <th>396</th>\n",
       "      <td>2020</td>\n",
       "      <td>THE BIRTHDAY PARTY</td>\n",
       "      <td>15535</td>\n",
       "    </tr>\n",
       "    <tr>\n",
       "      <th>397</th>\n",
       "      <td>2020</td>\n",
       "      <td>UNAFFILIATED</td>\n",
       "      <td>100</td>\n",
       "    </tr>\n",
       "    <tr>\n",
       "      <th>398</th>\n",
       "      <td>2020</td>\n",
       "      <td>UNITY PARTY</td>\n",
       "      <td>6647</td>\n",
       "    </tr>\n",
       "    <tr>\n",
       "      <th>399</th>\n",
       "      <td>2020</td>\n",
       "      <td>US TAXPAYERS PARTY</td>\n",
       "      <td>7235</td>\n",
       "    </tr>\n",
       "  </tbody>\n",
       "</table>\n",
       "<p>400 rows × 3 columns</p>\n",
       "</div>"
      ],
      "text/plain": [
       "     year                       party   votes\n",
       "0    1976                    AMERICAN  143914\n",
       "1    1976  AMERICAN INDEPENDENT PARTY  131761\n",
       "2    1976      AMERICAN PARTY OF IOWA    3041\n",
       "3    1976         COMMUNIST PARTY USE   44287\n",
       "4    1976          CONCERNED CITIZENS    1162\n",
       "..    ...                         ...     ...\n",
       "395  2020     SOCIALIST WORKERS PARTY    4020\n",
       "396  2020          THE BIRTHDAY PARTY   15535\n",
       "397  2020                UNAFFILIATED     100\n",
       "398  2020                 UNITY PARTY    6647\n",
       "399  2020          US TAXPAYERS PARTY    7235\n",
       "\n",
       "[400 rows x 3 columns]"
      ]
     },
     "execution_count": 104,
     "metadata": {},
     "output_type": "execute_result"
    }
   ],
   "source": [
    "# dtl\n",
    "\n",
    "def votes_per_year_party(df):\n",
    "    return df[['year','party', 'votes']].groupby(['year', 'party']).sum().reset_index()\n",
    "# Feel free to change this input to make sure your function works correctly.\n",
    "# A good strategy is to make sure it works when you call it on a random subset of votes,\n",
    "# e.g. votes_per_year_party(votes.sample(100)).\n",
    "votes_per_year_party(votes)"
   ]
  },
  {
   "cell_type": "code",
   "execution_count": 102,
   "id": "3b02a145",
   "metadata": {
    "deletable": false,
    "editable": false
   },
   "outputs": [
    {
     "data": {
      "text/html": [
       "<p><strong><pre style='display: inline;'>q02_1</pre></strong> passed!</p>"
      ],
      "text/plain": [
       "q02_1 results: All test cases passed!"
      ]
     },
     "execution_count": 102,
     "metadata": {},
     "output_type": "execute_result"
    }
   ],
   "source": [
    "grader.check(\"q02_1\")"
   ]
  },
  {
   "cell_type": "markdown",
   "id": "b352d42f",
   "metadata": {},
   "source": [
    "#### Question 2.2   <div style=\"display:inline-block; vertical-align: middle; padding:7px 7px; font-size:10px; font-weight:light; color:white; background-color:#e84c4a; border-radius:7px; text-align:left;\">4 Points</div>\n",
    "\n",
    "Complete the implementation of the function `above_threshold`, which takes in a DataFrame `df` like `votes` and a positive integer `threshold`, and returns a **list** containing the years in which at least `threshold` total votes were cast in the election. The returned list should be sorted in ascending order. Example behavior is given below.\n",
    "\n",
    "```python\n",
    ">>> above_threshold(votes, 125_000_000)\n",
    "[2008, 2012, 2016, 2020]\n",
    "\n",
    ">>> above_threshold(votes, 200_000_000)\n",
    "[]\n",
    "```"
   ]
  },
  {
   "cell_type": "code",
   "execution_count": 99,
   "id": "6a0ed163",
   "metadata": {
    "tags": []
   },
   "outputs": [
    {
     "data": {
      "text/plain": [
       "[2008, 2012, 2016, 2020]"
      ]
     },
     "execution_count": 99,
     "metadata": {},
     "output_type": "execute_result"
    }
   ],
   "source": [
    "def above_threshold(df, threshold):\n",
    "    df = df.groupby(['year'])['votes'].sum().reset_index()\n",
    "    final = df.query('votes > @threshold')['year']\n",
    "    return final.tolist()\n",
    "\n",
    "\n",
    "# Feel free to change this input to make sure your function works correctly.\n",
    "above_threshold(votes, 125_000_000)\n"
   ]
  },
  {
   "cell_type": "code",
   "execution_count": 100,
   "id": "fa4a96b4",
   "metadata": {
    "deletable": false,
    "editable": false
   },
   "outputs": [
    {
     "data": {
      "text/html": [
       "<p><strong><pre style='display: inline;'>q02_2</pre></strong> passed!</p>"
      ],
      "text/plain": [
       "q02_2 results: All test cases passed!"
      ]
     },
     "execution_count": 100,
     "metadata": {},
     "output_type": "execute_result"
    }
   ],
   "source": [
    "grader.check(\"q02_2\")"
   ]
  },
  {
   "cell_type": "markdown",
   "id": "ead5b641",
   "metadata": {},
   "source": [
    "#### Question 2.3   <div style=\"display:inline-block; vertical-align: middle; padding:7px 7px; font-size:10px; font-weight:light; color:white; background-color:#e84c4a; border-radius:7px; text-align:left;\">5 Points</div>\n",
    "\n",
    "Complete the implementation of the function `popular_vote_winners`, which takes in a DataFrame `df` like `votes`, and returns a DataFrame, indexed by `'year'`, with three columns:\n",
    "- `'party'`, which contains the name of the `'party'` who won the most votes across all `'state'`s that `'year'`.\n",
    "- `'votes'`, which contains the total number of votes won by the `'party'` who won the most votes across all `'state'`s that `'year'`.\n",
    "- `'vote_prop'`, which contains the proportion of votes won by the `'party'` who won the most votes across all `'state'`s that `'year'`. This is the fraction:\n",
    "\n",
    "$$\\text{vote prop} = \\frac{\\text{total number of votes cast for the party with the most votes this year}}{\\text{total number of votes cast this year}}$$\n",
    "\n",
    "The resulting DataFrame should be sorted by the index (i.e. `'year'`) in ascending order. Example behavior is given below.\n",
    "\n",
    "```python\n",
    "# In other words, the last two rows of popular_vote_winners(votes) should look like the example DataFrame below.\n",
    ">>> popular_vote_winners(votes).tail(2)\n",
    "```\n",
    "\n",
    "<table border=\"1\" class=\"dataframe\">\n",
    "  <thead>\n",
    "    <tr style=\"text-align: right;\">\n",
    "      <th></th>\n",
    "      <th>party</th>\n",
    "      <th>votes</th>\n",
    "      <th>vote_prop</th>\n",
    "    </tr>\n",
    "    <tr>\n",
    "      <th>year</th>\n",
    "      <th></th>\n",
    "      <th></th>\n",
    "      <th></th>\n",
    "    </tr>\n",
    "  </thead>\n",
    "  <tbody>\n",
    "    <tr>\n",
    "      <th>2016</th>\n",
    "      <td>DEMOCRAT</td>\n",
    "      <td>65677168</td>\n",
    "      <td>0.485258</td>\n",
    "    </tr>\n",
    "    <tr>\n",
    "      <th>2020</th>\n",
    "      <td>DEMOCRAT</td>\n",
    "      <td>81268908</td>\n",
    "      <td>0.513616</td>\n",
    "    </tr>\n",
    "  </tbody>\n",
    "</table>\n",
    "\n",
    "\n",
    "***Hint***: We defined a helper function that takes in a DataFrame that only has rows for a particular `'year'`, and returns the `'party'`, number of `'votes'`, and `'vote_prop'` earned by the `'party'` with the most total votes in that DataFrame. One possible solution is to create such a helper function yourself, and then use the `apply` method on a `DataFrameGroupBy` object with that helper function as the input. See the [documentation for the `apply` method](https://pandas.pydata.org/docs/reference/api/pandas.core.groupby.DataFrameGroupBy.apply.html) for examples."
   ]
  },
  {
   "cell_type": "code",
   "execution_count": 171,
   "id": "cbe24b72",
   "metadata": {},
   "outputs": [
    {
     "data": {
      "text/html": [
       "<div>\n",
       "<style scoped>\n",
       "    .dataframe tbody tr th:only-of-type {\n",
       "        vertical-align: middle;\n",
       "    }\n",
       "\n",
       "    .dataframe tbody tr th {\n",
       "        vertical-align: top;\n",
       "    }\n",
       "\n",
       "    .dataframe thead th {\n",
       "        text-align: right;\n",
       "    }\n",
       "</style>\n",
       "<table border=\"1\" class=\"dataframe\">\n",
       "  <thead>\n",
       "    <tr style=\"text-align: right;\">\n",
       "      <th></th>\n",
       "      <th>year</th>\n",
       "      <th>state</th>\n",
       "      <th>state_ab</th>\n",
       "      <th>candidate</th>\n",
       "      <th>party</th>\n",
       "      <th>votes</th>\n",
       "    </tr>\n",
       "  </thead>\n",
       "  <tbody>\n",
       "    <tr>\n",
       "      <th>0</th>\n",
       "      <td>1976</td>\n",
       "      <td>ALABAMA</td>\n",
       "      <td>AL</td>\n",
       "      <td>BUBAR, BENJAMIN \"\"BEN\"\"</td>\n",
       "      <td>PROHIBITION</td>\n",
       "      <td>6669</td>\n",
       "    </tr>\n",
       "    <tr>\n",
       "      <th>1</th>\n",
       "      <td>1976</td>\n",
       "      <td>ALABAMA</td>\n",
       "      <td>AL</td>\n",
       "      <td>CARTER, JIMMY</td>\n",
       "      <td>DEMOCRAT</td>\n",
       "      <td>659170</td>\n",
       "    </tr>\n",
       "    <tr>\n",
       "      <th>2</th>\n",
       "      <td>1976</td>\n",
       "      <td>ALABAMA</td>\n",
       "      <td>AL</td>\n",
       "      <td>FORD, GERALD</td>\n",
       "      <td>REPUBLICAN</td>\n",
       "      <td>504070</td>\n",
       "    </tr>\n",
       "    <tr>\n",
       "      <th>3</th>\n",
       "      <td>1976</td>\n",
       "      <td>ALABAMA</td>\n",
       "      <td>AL</td>\n",
       "      <td>HALL, GUS</td>\n",
       "      <td>COMMUNIST PARTY USE</td>\n",
       "      <td>1954</td>\n",
       "    </tr>\n",
       "    <tr>\n",
       "      <th>4</th>\n",
       "      <td>1976</td>\n",
       "      <td>ALABAMA</td>\n",
       "      <td>AL</td>\n",
       "      <td>MACBRIDE, ROGER</td>\n",
       "      <td>LIBERTARIAN</td>\n",
       "      <td>1481</td>\n",
       "    </tr>\n",
       "    <tr>\n",
       "      <th>...</th>\n",
       "      <td>...</td>\n",
       "      <td>...</td>\n",
       "      <td>...</td>\n",
       "      <td>...</td>\n",
       "      <td>...</td>\n",
       "      <td>...</td>\n",
       "    </tr>\n",
       "    <tr>\n",
       "      <th>3747</th>\n",
       "      <td>2020</td>\n",
       "      <td>WISCONSIN</td>\n",
       "      <td>WI</td>\n",
       "      <td>WEST, KANYE</td>\n",
       "      <td>THE BIRTHDAY PARTY</td>\n",
       "      <td>411</td>\n",
       "    </tr>\n",
       "    <tr>\n",
       "      <th>3748</th>\n",
       "      <td>2020</td>\n",
       "      <td>WYOMING</td>\n",
       "      <td>WY</td>\n",
       "      <td>BIDEN, JOSEPH R. JR</td>\n",
       "      <td>DEMOCRAT</td>\n",
       "      <td>73491</td>\n",
       "    </tr>\n",
       "    <tr>\n",
       "      <th>3749</th>\n",
       "      <td>2020</td>\n",
       "      <td>WYOMING</td>\n",
       "      <td>WY</td>\n",
       "      <td>JORGENSEN, JO</td>\n",
       "      <td>LIBERTARIAN</td>\n",
       "      <td>5768</td>\n",
       "    </tr>\n",
       "    <tr>\n",
       "      <th>3750</th>\n",
       "      <td>2020</td>\n",
       "      <td>WYOMING</td>\n",
       "      <td>WY</td>\n",
       "      <td>PIERCE, BROCK</td>\n",
       "      <td>INDEPENDENT</td>\n",
       "      <td>2208</td>\n",
       "    </tr>\n",
       "    <tr>\n",
       "      <th>3751</th>\n",
       "      <td>2020</td>\n",
       "      <td>WYOMING</td>\n",
       "      <td>WY</td>\n",
       "      <td>TRUMP, DONALD J.</td>\n",
       "      <td>REPUBLICAN</td>\n",
       "      <td>193559</td>\n",
       "    </tr>\n",
       "  </tbody>\n",
       "</table>\n",
       "<p>3752 rows × 6 columns</p>\n",
       "</div>"
      ],
      "text/plain": [
       "      year      state state_ab                candidate                party  \\\n",
       "0     1976    ALABAMA       AL  BUBAR, BENJAMIN \"\"BEN\"\"          PROHIBITION   \n",
       "1     1976    ALABAMA       AL            CARTER, JIMMY             DEMOCRAT   \n",
       "2     1976    ALABAMA       AL             FORD, GERALD           REPUBLICAN   \n",
       "3     1976    ALABAMA       AL                HALL, GUS  COMMUNIST PARTY USE   \n",
       "4     1976    ALABAMA       AL          MACBRIDE, ROGER          LIBERTARIAN   \n",
       "...    ...        ...      ...                      ...                  ...   \n",
       "3747  2020  WISCONSIN       WI              WEST, KANYE   THE BIRTHDAY PARTY   \n",
       "3748  2020    WYOMING       WY      BIDEN, JOSEPH R. JR             DEMOCRAT   \n",
       "3749  2020    WYOMING       WY            JORGENSEN, JO          LIBERTARIAN   \n",
       "3750  2020    WYOMING       WY            PIERCE, BROCK          INDEPENDENT   \n",
       "3751  2020    WYOMING       WY         TRUMP, DONALD J.           REPUBLICAN   \n",
       "\n",
       "       votes  \n",
       "0       6669  \n",
       "1     659170  \n",
       "2     504070  \n",
       "3       1954  \n",
       "4       1481  \n",
       "...      ...  \n",
       "3747     411  \n",
       "3748   73491  \n",
       "3749    5768  \n",
       "3750    2208  \n",
       "3751  193559  \n",
       "\n",
       "[3752 rows x 6 columns]"
      ]
     },
     "execution_count": 171,
     "metadata": {},
     "output_type": "execute_result"
    }
   ],
   "source": [
    "votes"
   ]
  },
  {
   "cell_type": "code",
   "execution_count": 215,
   "id": "14ceb331",
   "metadata": {},
   "outputs": [
    {
     "data": {
      "text/html": [
       "<div>\n",
       "<style scoped>\n",
       "    .dataframe tbody tr th:only-of-type {\n",
       "        vertical-align: middle;\n",
       "    }\n",
       "\n",
       "    .dataframe tbody tr th {\n",
       "        vertical-align: top;\n",
       "    }\n",
       "\n",
       "    .dataframe thead th {\n",
       "        text-align: right;\n",
       "    }\n",
       "</style>\n",
       "<table border=\"1\" class=\"dataframe\">\n",
       "  <thead>\n",
       "    <tr style=\"text-align: right;\">\n",
       "      <th></th>\n",
       "      <th>year</th>\n",
       "      <th>votes</th>\n",
       "    </tr>\n",
       "  </thead>\n",
       "  <tbody>\n",
       "    <tr>\n",
       "      <th>0</th>\n",
       "      <td>1976</td>\n",
       "      <td>81400304</td>\n",
       "    </tr>\n",
       "    <tr>\n",
       "      <th>1</th>\n",
       "      <td>1980</td>\n",
       "      <td>86477435</td>\n",
       "    </tr>\n",
       "    <tr>\n",
       "      <th>2</th>\n",
       "      <td>1984</td>\n",
       "      <td>92640132</td>\n",
       "    </tr>\n",
       "    <tr>\n",
       "      <th>3</th>\n",
       "      <td>1988</td>\n",
       "      <td>91496698</td>\n",
       "    </tr>\n",
       "    <tr>\n",
       "      <th>4</th>\n",
       "      <td>1992</td>\n",
       "      <td>104418327</td>\n",
       "    </tr>\n",
       "    <tr>\n",
       "      <th>5</th>\n",
       "      <td>1996</td>\n",
       "      <td>95486860</td>\n",
       "    </tr>\n",
       "    <tr>\n",
       "      <th>6</th>\n",
       "      <td>2000</td>\n",
       "      <td>104911114</td>\n",
       "    </tr>\n",
       "    <tr>\n",
       "      <th>7</th>\n",
       "      <td>2004</td>\n",
       "      <td>122161457</td>\n",
       "    </tr>\n",
       "    <tr>\n",
       "      <th>8</th>\n",
       "      <td>2008</td>\n",
       "      <td>131090435</td>\n",
       "    </tr>\n",
       "    <tr>\n",
       "      <th>9</th>\n",
       "      <td>2012</td>\n",
       "      <td>128811137</td>\n",
       "    </tr>\n",
       "    <tr>\n",
       "      <th>10</th>\n",
       "      <td>2016</td>\n",
       "      <td>135344878</td>\n",
       "    </tr>\n",
       "    <tr>\n",
       "      <th>11</th>\n",
       "      <td>2020</td>\n",
       "      <td>158228801</td>\n",
       "    </tr>\n",
       "  </tbody>\n",
       "</table>\n",
       "</div>"
      ],
      "text/plain": [
       "    year      votes\n",
       "0   1976   81400304\n",
       "1   1980   86477435\n",
       "2   1984   92640132\n",
       "3   1988   91496698\n",
       "4   1992  104418327\n",
       "5   1996   95486860\n",
       "6   2000  104911114\n",
       "7   2004  122161457\n",
       "8   2008  131090435\n",
       "9   2012  128811137\n",
       "10  2016  135344878\n",
       "11  2020  158228801"
      ]
     },
     "execution_count": 215,
     "metadata": {},
     "output_type": "execute_result"
    }
   ],
   "source": [
    "#!!!\n",
    "def popular_vote_winners(df):\n",
    "    total_votes = df.groupby(['party'])['votes'].sum().reset_index()\n",
    "    winning_party = total_votes.loc[total_votes['votes'].idxmax()]\n",
    "    result = df.groupby('year')['votes'].sum().reset_index()\n",
    "\n",
    "    return result\n",
    "\n",
    "\n",
    "popular_vote_winners(votes)"
   ]
  },
  {
   "cell_type": "code",
   "execution_count": null,
   "id": "ef1aa410",
   "metadata": {},
   "outputs": [],
   "source": []
  },
  {
   "cell_type": "code",
   "execution_count": 203,
   "id": "98d8b921",
   "metadata": {
    "deletable": false,
    "editable": false
   },
   "outputs": [
    {
     "data": {
      "text/html": [
       "<p><strong><pre style='display: inline;'>q02_3</pre></strong> passed!</p>"
      ],
      "text/plain": [
       "q02_3 results: All test cases passed!"
      ]
     },
     "execution_count": 203,
     "metadata": {},
     "output_type": "execute_result"
    }
   ],
   "source": [
    "grader.check(\"q02_3\")"
   ]
  },
  {
   "cell_type": "markdown",
   "id": "d11fae8b",
   "metadata": {},
   "source": [
    "### Question 3: The Electoral College 🗺️\n",
    "\n",
    "Let's take a look at the last two rows of `popular_vote_winners(votes)` once again:"
   ]
  },
  {
   "cell_type": "code",
   "execution_count": 216,
   "id": "1e980a7b",
   "metadata": {},
   "outputs": [
    {
     "data": {
      "text/html": [
       "<div>\n",
       "<style scoped>\n",
       "    .dataframe tbody tr th:only-of-type {\n",
       "        vertical-align: middle;\n",
       "    }\n",
       "\n",
       "    .dataframe tbody tr th {\n",
       "        vertical-align: top;\n",
       "    }\n",
       "\n",
       "    .dataframe thead th {\n",
       "        text-align: right;\n",
       "    }\n",
       "</style>\n",
       "<table border=\"1\" class=\"dataframe\">\n",
       "  <thead>\n",
       "    <tr style=\"text-align: right;\">\n",
       "      <th></th>\n",
       "      <th>year</th>\n",
       "      <th>votes</th>\n",
       "    </tr>\n",
       "  </thead>\n",
       "  <tbody>\n",
       "    <tr>\n",
       "      <th>10</th>\n",
       "      <td>2016</td>\n",
       "      <td>135344878</td>\n",
       "    </tr>\n",
       "    <tr>\n",
       "      <th>11</th>\n",
       "      <td>2020</td>\n",
       "      <td>158228801</td>\n",
       "    </tr>\n",
       "  </tbody>\n",
       "</table>\n",
       "</div>"
      ],
      "text/plain": [
       "    year      votes\n",
       "10  2016  135344878\n",
       "11  2020  158228801"
      ]
     },
     "execution_count": 216,
     "metadata": {},
     "output_type": "execute_result"
    }
   ],
   "source": [
    "# !!!\n",
    "popular_vote_winners(votes).tail(2)"
   ]
  },
  {
   "cell_type": "markdown",
   "id": "348de040",
   "metadata": {},
   "source": [
    "If you answered Question 2.3 correctly, you'll see above that in 2016, the Democratic `'party'` won the most votes of any `'party'`, with 48.5\\% of the total vote. But, the Democratic `'party'` **did not** actually win the 2016 presidential election – the Republican `'party'` did.\n",
    "\n",
    "The reason for this is the Electoral College, which is explained in sufficient detail in the [article that was linked before](https://kz.usembassy.gov/summary-of-the-u-s-presidential-election-process/). In short, there are 538 Electoral College votes total, and each `'state'` (plus Washington D.C., which is treated like a `'state'` for the purposes of the Electoral College) is assigned some number of Electoral College votes.\n",
    "\n",
    "The `'candidate'` that wins the most votes in a particular `'state'` wins **all** of the Electoral College votes assigned to that `'state'`*. For example, in 2020, the Democratic `'party'` only won 50.6% of the vote in Michigan, but because this was more than any other `'party'` won in Michigan, the Democratic `'party'` took all 16 Electoral College votes assigned to Michigan.\n",
    "\n",
    "So, in the 2016 election, even though the Democratic `'party'` won more votes overall – i.e. they won the \"popular vote\" – they won fewer Electoral College votes, and so they lost the election to the Republicans. To win the election, a `'party'` needs to win at least 270 of the 538 Electoral College votes. (Why 270? $\\frac{538}{2} = 269$, so if both `'party'`s won 269 votes, there would be a tie.)\n",
    "\n",
    "_*Caveat: This is not exactly how the Electoral College works in Nebraska and New Hampshire, but for simplicity, we will assume that these two `'state'`s work the same way as all other `'state'`s, in that they give all of their Electoral College votes to the `'candidate'` that won the most votes in their `'state'`._\n",
    "\n",
    "Run the cell below to load in a DataFrame, `ec`, which contains the number of Electoral College votes assigned to each `'state'` in 2020. (Note that the number of Electoral College votes assigned to each `'state'` changes every 10 years, when the US conducts the Census. The number of Electoral College votes per `'state'` is different in 2024 than it was in 2020.)"
   ]
  },
  {
   "cell_type": "code",
   "execution_count": 166,
   "id": "90e120df",
   "metadata": {},
   "outputs": [
    {
     "data": {
      "text/html": [
       "<div>\n",
       "<style scoped>\n",
       "    .dataframe tbody tr th:only-of-type {\n",
       "        vertical-align: middle;\n",
       "    }\n",
       "\n",
       "    .dataframe tbody tr th {\n",
       "        vertical-align: top;\n",
       "    }\n",
       "\n",
       "    .dataframe thead th {\n",
       "        text-align: right;\n",
       "    }\n",
       "</style>\n",
       "<table border=\"1\" class=\"dataframe\">\n",
       "  <thead>\n",
       "    <tr style=\"text-align: right;\">\n",
       "      <th></th>\n",
       "      <th>Full_State</th>\n",
       "      <th>Abb_State</th>\n",
       "      <th>Electoral_College_Votes</th>\n",
       "    </tr>\n",
       "  </thead>\n",
       "  <tbody>\n",
       "    <tr>\n",
       "      <th>0</th>\n",
       "      <td>Alabama</td>\n",
       "      <td>AL</td>\n",
       "      <td>9</td>\n",
       "    </tr>\n",
       "    <tr>\n",
       "      <th>1</th>\n",
       "      <td>Alaska</td>\n",
       "      <td>AK</td>\n",
       "      <td>3</td>\n",
       "    </tr>\n",
       "    <tr>\n",
       "      <th>2</th>\n",
       "      <td>Arizona</td>\n",
       "      <td>AZ</td>\n",
       "      <td>11</td>\n",
       "    </tr>\n",
       "    <tr>\n",
       "      <th>3</th>\n",
       "      <td>Arkansas</td>\n",
       "      <td>AR</td>\n",
       "      <td>6</td>\n",
       "    </tr>\n",
       "    <tr>\n",
       "      <th>4</th>\n",
       "      <td>California</td>\n",
       "      <td>CA</td>\n",
       "      <td>55</td>\n",
       "    </tr>\n",
       "    <tr>\n",
       "      <th>5</th>\n",
       "      <td>Colorado</td>\n",
       "      <td>CO</td>\n",
       "      <td>9</td>\n",
       "    </tr>\n",
       "    <tr>\n",
       "      <th>6</th>\n",
       "      <td>Connecticut</td>\n",
       "      <td>CT</td>\n",
       "      <td>7</td>\n",
       "    </tr>\n",
       "    <tr>\n",
       "      <th>7</th>\n",
       "      <td>Delaware</td>\n",
       "      <td>DE</td>\n",
       "      <td>3</td>\n",
       "    </tr>\n",
       "    <tr>\n",
       "      <th>8</th>\n",
       "      <td>District of Columbia</td>\n",
       "      <td>DC</td>\n",
       "      <td>3</td>\n",
       "    </tr>\n",
       "    <tr>\n",
       "      <th>9</th>\n",
       "      <td>Florida</td>\n",
       "      <td>FL</td>\n",
       "      <td>29</td>\n",
       "    </tr>\n",
       "    <tr>\n",
       "      <th>10</th>\n",
       "      <td>Georgia</td>\n",
       "      <td>GA</td>\n",
       "      <td>16</td>\n",
       "    </tr>\n",
       "    <tr>\n",
       "      <th>11</th>\n",
       "      <td>Hawaii</td>\n",
       "      <td>HI</td>\n",
       "      <td>4</td>\n",
       "    </tr>\n",
       "    <tr>\n",
       "      <th>12</th>\n",
       "      <td>Idaho</td>\n",
       "      <td>ID</td>\n",
       "      <td>4</td>\n",
       "    </tr>\n",
       "    <tr>\n",
       "      <th>13</th>\n",
       "      <td>Illinois</td>\n",
       "      <td>IL</td>\n",
       "      <td>20</td>\n",
       "    </tr>\n",
       "    <tr>\n",
       "      <th>14</th>\n",
       "      <td>Indiana</td>\n",
       "      <td>IN</td>\n",
       "      <td>11</td>\n",
       "    </tr>\n",
       "    <tr>\n",
       "      <th>15</th>\n",
       "      <td>Iowa</td>\n",
       "      <td>IA</td>\n",
       "      <td>6</td>\n",
       "    </tr>\n",
       "    <tr>\n",
       "      <th>16</th>\n",
       "      <td>Kansas</td>\n",
       "      <td>KS</td>\n",
       "      <td>6</td>\n",
       "    </tr>\n",
       "    <tr>\n",
       "      <th>17</th>\n",
       "      <td>Kentucky</td>\n",
       "      <td>KY</td>\n",
       "      <td>8</td>\n",
       "    </tr>\n",
       "    <tr>\n",
       "      <th>18</th>\n",
       "      <td>Louisiana</td>\n",
       "      <td>LA</td>\n",
       "      <td>8</td>\n",
       "    </tr>\n",
       "    <tr>\n",
       "      <th>19</th>\n",
       "      <td>Maine</td>\n",
       "      <td>ME</td>\n",
       "      <td>4</td>\n",
       "    </tr>\n",
       "    <tr>\n",
       "      <th>20</th>\n",
       "      <td>Maryland</td>\n",
       "      <td>MD</td>\n",
       "      <td>10</td>\n",
       "    </tr>\n",
       "    <tr>\n",
       "      <th>21</th>\n",
       "      <td>Massachusetts</td>\n",
       "      <td>MA</td>\n",
       "      <td>11</td>\n",
       "    </tr>\n",
       "    <tr>\n",
       "      <th>22</th>\n",
       "      <td>Michigan</td>\n",
       "      <td>MI</td>\n",
       "      <td>16</td>\n",
       "    </tr>\n",
       "    <tr>\n",
       "      <th>23</th>\n",
       "      <td>Minnesota</td>\n",
       "      <td>MN</td>\n",
       "      <td>10</td>\n",
       "    </tr>\n",
       "    <tr>\n",
       "      <th>24</th>\n",
       "      <td>Mississippi</td>\n",
       "      <td>MS</td>\n",
       "      <td>6</td>\n",
       "    </tr>\n",
       "    <tr>\n",
       "      <th>25</th>\n",
       "      <td>Missouri</td>\n",
       "      <td>MO</td>\n",
       "      <td>10</td>\n",
       "    </tr>\n",
       "    <tr>\n",
       "      <th>26</th>\n",
       "      <td>Montana</td>\n",
       "      <td>MT</td>\n",
       "      <td>3</td>\n",
       "    </tr>\n",
       "    <tr>\n",
       "      <th>27</th>\n",
       "      <td>Nebraska</td>\n",
       "      <td>NE</td>\n",
       "      <td>5</td>\n",
       "    </tr>\n",
       "    <tr>\n",
       "      <th>28</th>\n",
       "      <td>Nevada</td>\n",
       "      <td>NV</td>\n",
       "      <td>6</td>\n",
       "    </tr>\n",
       "    <tr>\n",
       "      <th>29</th>\n",
       "      <td>New Hampshire</td>\n",
       "      <td>NH</td>\n",
       "      <td>4</td>\n",
       "    </tr>\n",
       "    <tr>\n",
       "      <th>30</th>\n",
       "      <td>New Jersey</td>\n",
       "      <td>NJ</td>\n",
       "      <td>14</td>\n",
       "    </tr>\n",
       "    <tr>\n",
       "      <th>31</th>\n",
       "      <td>New Mexico</td>\n",
       "      <td>NM</td>\n",
       "      <td>5</td>\n",
       "    </tr>\n",
       "    <tr>\n",
       "      <th>32</th>\n",
       "      <td>New York</td>\n",
       "      <td>NY</td>\n",
       "      <td>29</td>\n",
       "    </tr>\n",
       "    <tr>\n",
       "      <th>33</th>\n",
       "      <td>North Carolina</td>\n",
       "      <td>NC</td>\n",
       "      <td>15</td>\n",
       "    </tr>\n",
       "    <tr>\n",
       "      <th>34</th>\n",
       "      <td>North Dakota</td>\n",
       "      <td>ND</td>\n",
       "      <td>3</td>\n",
       "    </tr>\n",
       "    <tr>\n",
       "      <th>35</th>\n",
       "      <td>Ohio</td>\n",
       "      <td>OH</td>\n",
       "      <td>18</td>\n",
       "    </tr>\n",
       "    <tr>\n",
       "      <th>36</th>\n",
       "      <td>Oklahoma</td>\n",
       "      <td>OK</td>\n",
       "      <td>7</td>\n",
       "    </tr>\n",
       "    <tr>\n",
       "      <th>37</th>\n",
       "      <td>Oregon</td>\n",
       "      <td>OR</td>\n",
       "      <td>7</td>\n",
       "    </tr>\n",
       "    <tr>\n",
       "      <th>38</th>\n",
       "      <td>Pennsylvania</td>\n",
       "      <td>PA</td>\n",
       "      <td>20</td>\n",
       "    </tr>\n",
       "    <tr>\n",
       "      <th>39</th>\n",
       "      <td>Rhode Island</td>\n",
       "      <td>RI</td>\n",
       "      <td>4</td>\n",
       "    </tr>\n",
       "    <tr>\n",
       "      <th>40</th>\n",
       "      <td>South Carolina</td>\n",
       "      <td>SC</td>\n",
       "      <td>9</td>\n",
       "    </tr>\n",
       "    <tr>\n",
       "      <th>41</th>\n",
       "      <td>South Dakota</td>\n",
       "      <td>SD</td>\n",
       "      <td>3</td>\n",
       "    </tr>\n",
       "    <tr>\n",
       "      <th>42</th>\n",
       "      <td>Tennessee</td>\n",
       "      <td>TN</td>\n",
       "      <td>11</td>\n",
       "    </tr>\n",
       "    <tr>\n",
       "      <th>43</th>\n",
       "      <td>Texas</td>\n",
       "      <td>TX</td>\n",
       "      <td>38</td>\n",
       "    </tr>\n",
       "    <tr>\n",
       "      <th>44</th>\n",
       "      <td>Utah</td>\n",
       "      <td>UT</td>\n",
       "      <td>6</td>\n",
       "    </tr>\n",
       "    <tr>\n",
       "      <th>45</th>\n",
       "      <td>Vermont</td>\n",
       "      <td>VT</td>\n",
       "      <td>3</td>\n",
       "    </tr>\n",
       "    <tr>\n",
       "      <th>46</th>\n",
       "      <td>Virginia</td>\n",
       "      <td>VA</td>\n",
       "      <td>13</td>\n",
       "    </tr>\n",
       "    <tr>\n",
       "      <th>47</th>\n",
       "      <td>Washington</td>\n",
       "      <td>WA</td>\n",
       "      <td>12</td>\n",
       "    </tr>\n",
       "    <tr>\n",
       "      <th>48</th>\n",
       "      <td>West Virginia</td>\n",
       "      <td>WV</td>\n",
       "      <td>5</td>\n",
       "    </tr>\n",
       "    <tr>\n",
       "      <th>49</th>\n",
       "      <td>Wisconsin</td>\n",
       "      <td>WI</td>\n",
       "      <td>10</td>\n",
       "    </tr>\n",
       "    <tr>\n",
       "      <th>50</th>\n",
       "      <td>Wyoming</td>\n",
       "      <td>WY</td>\n",
       "      <td>3</td>\n",
       "    </tr>\n",
       "  </tbody>\n",
       "</table>\n",
       "</div>"
      ],
      "text/plain": [
       "              Full_State Abb_State  Electoral_College_Votes\n",
       "0                Alabama        AL                        9\n",
       "1                 Alaska        AK                        3\n",
       "2                Arizona        AZ                       11\n",
       "3               Arkansas        AR                        6\n",
       "4             California        CA                       55\n",
       "5               Colorado        CO                        9\n",
       "6            Connecticut        CT                        7\n",
       "7               Delaware        DE                        3\n",
       "8   District of Columbia        DC                        3\n",
       "9                Florida        FL                       29\n",
       "10               Georgia        GA                       16\n",
       "11                Hawaii        HI                        4\n",
       "12                 Idaho        ID                        4\n",
       "13              Illinois        IL                       20\n",
       "14               Indiana        IN                       11\n",
       "15                  Iowa        IA                        6\n",
       "16                Kansas        KS                        6\n",
       "17              Kentucky        KY                        8\n",
       "18             Louisiana        LA                        8\n",
       "19                 Maine        ME                        4\n",
       "20              Maryland        MD                       10\n",
       "21         Massachusetts        MA                       11\n",
       "22              Michigan        MI                       16\n",
       "23             Minnesota        MN                       10\n",
       "24           Mississippi        MS                        6\n",
       "25              Missouri        MO                       10\n",
       "26               Montana        MT                        3\n",
       "27              Nebraska        NE                        5\n",
       "28                Nevada        NV                        6\n",
       "29         New Hampshire        NH                        4\n",
       "30            New Jersey        NJ                       14\n",
       "31            New Mexico        NM                        5\n",
       "32              New York        NY                       29\n",
       "33        North Carolina        NC                       15\n",
       "34          North Dakota        ND                        3\n",
       "35                  Ohio        OH                       18\n",
       "36              Oklahoma        OK                        7\n",
       "37                Oregon        OR                        7\n",
       "38          Pennsylvania        PA                       20\n",
       "39          Rhode Island        RI                        4\n",
       "40        South Carolina        SC                        9\n",
       "41          South Dakota        SD                        3\n",
       "42             Tennessee        TN                       11\n",
       "43                 Texas        TX                       38\n",
       "44                  Utah        UT                        6\n",
       "45               Vermont        VT                        3\n",
       "46              Virginia        VA                       13\n",
       "47            Washington        WA                       12\n",
       "48         West Virginia        WV                        5\n",
       "49             Wisconsin        WI                       10\n",
       "50               Wyoming        WY                        3"
      ]
     },
     "execution_count": 166,
     "metadata": {},
     "output_type": "execute_result"
    }
   ],
   "source": [
    "ec = pd.read_csv('data/elections/electoral_college.csv')\n",
    "ec"
   ]
  },
  {
   "cell_type": "markdown",
   "id": "9af56e55",
   "metadata": {},
   "source": [
    "Right now, this DataFrame is separate from the `votes` DataFrame that we've been working with. We'll combine it for you here, but you'll get your own hands-on practice with the DataFrame `merge` method in the next part of the homework.\n",
    "\n",
    "Run the cell below to define a new DataFrame, `combined`, which results from merging the rows in `votes` specific just to 2020 with `ec`."
   ]
  },
  {
   "cell_type": "code",
   "execution_count": 167,
   "id": "c69769eb",
   "metadata": {},
   "outputs": [
    {
     "data": {
      "text/html": [
       "<div>\n",
       "<style scoped>\n",
       "    .dataframe tbody tr th:only-of-type {\n",
       "        vertical-align: middle;\n",
       "    }\n",
       "\n",
       "    .dataframe tbody tr th {\n",
       "        vertical-align: top;\n",
       "    }\n",
       "\n",
       "    .dataframe thead th {\n",
       "        text-align: right;\n",
       "    }\n",
       "</style>\n",
       "<table border=\"1\" class=\"dataframe\">\n",
       "  <thead>\n",
       "    <tr style=\"text-align: right;\">\n",
       "      <th></th>\n",
       "      <th>state</th>\n",
       "      <th>state_ab</th>\n",
       "      <th>candidate</th>\n",
       "      <th>party</th>\n",
       "      <th>votes</th>\n",
       "      <th>Electoral_College_Votes</th>\n",
       "    </tr>\n",
       "  </thead>\n",
       "  <tbody>\n",
       "    <tr>\n",
       "      <th>0</th>\n",
       "      <td>ALABAMA</td>\n",
       "      <td>AL</td>\n",
       "      <td>BIDEN, JOSEPH R. JR</td>\n",
       "      <td>DEMOCRAT</td>\n",
       "      <td>849624</td>\n",
       "      <td>9</td>\n",
       "    </tr>\n",
       "    <tr>\n",
       "      <th>1</th>\n",
       "      <td>ALABAMA</td>\n",
       "      <td>AL</td>\n",
       "      <td>JORGENSEN, JO</td>\n",
       "      <td>LIBERTARIAN</td>\n",
       "      <td>25176</td>\n",
       "      <td>9</td>\n",
       "    </tr>\n",
       "    <tr>\n",
       "      <th>2</th>\n",
       "      <td>ALABAMA</td>\n",
       "      <td>AL</td>\n",
       "      <td>TRUMP, DONALD J.</td>\n",
       "      <td>REPUBLICAN</td>\n",
       "      <td>1441170</td>\n",
       "      <td>9</td>\n",
       "    </tr>\n",
       "    <tr>\n",
       "      <th>3</th>\n",
       "      <td>ALASKA</td>\n",
       "      <td>AK</td>\n",
       "      <td>BIDEN, JOSEPH R. JR</td>\n",
       "      <td>DEMOCRAT</td>\n",
       "      <td>153778</td>\n",
       "      <td>3</td>\n",
       "    </tr>\n",
       "    <tr>\n",
       "      <th>4</th>\n",
       "      <td>ALASKA</td>\n",
       "      <td>AK</td>\n",
       "      <td>BLANKENSHIP, DON</td>\n",
       "      <td>CONSTITUTION PARTY</td>\n",
       "      <td>1127</td>\n",
       "      <td>3</td>\n",
       "    </tr>\n",
       "    <tr>\n",
       "      <th>...</th>\n",
       "      <td>...</td>\n",
       "      <td>...</td>\n",
       "      <td>...</td>\n",
       "      <td>...</td>\n",
       "      <td>...</td>\n",
       "      <td>...</td>\n",
       "    </tr>\n",
       "    <tr>\n",
       "      <th>422</th>\n",
       "      <td>WISCONSIN</td>\n",
       "      <td>WI</td>\n",
       "      <td>WEST, KANYE</td>\n",
       "      <td>THE BIRTHDAY PARTY</td>\n",
       "      <td>411</td>\n",
       "      <td>10</td>\n",
       "    </tr>\n",
       "    <tr>\n",
       "      <th>423</th>\n",
       "      <td>WYOMING</td>\n",
       "      <td>WY</td>\n",
       "      <td>BIDEN, JOSEPH R. JR</td>\n",
       "      <td>DEMOCRAT</td>\n",
       "      <td>73491</td>\n",
       "      <td>3</td>\n",
       "    </tr>\n",
       "    <tr>\n",
       "      <th>424</th>\n",
       "      <td>WYOMING</td>\n",
       "      <td>WY</td>\n",
       "      <td>JORGENSEN, JO</td>\n",
       "      <td>LIBERTARIAN</td>\n",
       "      <td>5768</td>\n",
       "      <td>3</td>\n",
       "    </tr>\n",
       "    <tr>\n",
       "      <th>425</th>\n",
       "      <td>WYOMING</td>\n",
       "      <td>WY</td>\n",
       "      <td>PIERCE, BROCK</td>\n",
       "      <td>INDEPENDENT</td>\n",
       "      <td>2208</td>\n",
       "      <td>3</td>\n",
       "    </tr>\n",
       "    <tr>\n",
       "      <th>426</th>\n",
       "      <td>WYOMING</td>\n",
       "      <td>WY</td>\n",
       "      <td>TRUMP, DONALD J.</td>\n",
       "      <td>REPUBLICAN</td>\n",
       "      <td>193559</td>\n",
       "      <td>3</td>\n",
       "    </tr>\n",
       "  </tbody>\n",
       "</table>\n",
       "<p>427 rows × 6 columns</p>\n",
       "</div>"
      ],
      "text/plain": [
       "         state state_ab            candidate               party    votes  \\\n",
       "0      ALABAMA       AL  BIDEN, JOSEPH R. JR            DEMOCRAT   849624   \n",
       "1      ALABAMA       AL        JORGENSEN, JO         LIBERTARIAN    25176   \n",
       "2      ALABAMA       AL     TRUMP, DONALD J.          REPUBLICAN  1441170   \n",
       "3       ALASKA       AK  BIDEN, JOSEPH R. JR            DEMOCRAT   153778   \n",
       "4       ALASKA       AK     BLANKENSHIP, DON  CONSTITUTION PARTY     1127   \n",
       "..         ...      ...                  ...                 ...      ...   \n",
       "422  WISCONSIN       WI          WEST, KANYE  THE BIRTHDAY PARTY      411   \n",
       "423    WYOMING       WY  BIDEN, JOSEPH R. JR            DEMOCRAT    73491   \n",
       "424    WYOMING       WY        JORGENSEN, JO         LIBERTARIAN     5768   \n",
       "425    WYOMING       WY        PIERCE, BROCK         INDEPENDENT     2208   \n",
       "426    WYOMING       WY     TRUMP, DONALD J.          REPUBLICAN   193559   \n",
       "\n",
       "     Electoral_College_Votes  \n",
       "0                          9  \n",
       "1                          9  \n",
       "2                          9  \n",
       "3                          3  \n",
       "4                          3  \n",
       "..                       ...  \n",
       "422                       10  \n",
       "423                        3  \n",
       "424                        3  \n",
       "425                        3  \n",
       "426                        3  \n",
       "\n",
       "[427 rows x 6 columns]"
      ]
     },
     "execution_count": 167,
     "metadata": {},
     "output_type": "execute_result"
    }
   ],
   "source": [
    "combined = (\n",
    "    votes[votes['year'] == 2020]\n",
    "    .merge(ec, left_on='state_ab', right_on='Abb_State')\n",
    "    [['state', 'state_ab', 'candidate', 'party', 'votes', 'Electoral_College_Votes']]\n",
    ")\n",
    "combined"
   ]
  },
  {
   "cell_type": "markdown",
   "id": "be8f975e",
   "metadata": {},
   "source": [
    "Now, `combined` contains enough information to determine the Electoral College winner in a particular election. **We'll focus just on 2020**, since that's the only year we've loaded in Electoral College winner information for."
   ]
  },
  {
   "cell_type": "markdown",
   "id": "efc80071",
   "metadata": {},
   "source": [
    "#### Question 3.1 <div style=\"display:inline-block; vertical-align: middle; padding:7px 7px; font-size:10px; font-weight:light; color:white; background-color:#e84c4a; border-radius:7px; text-align:left;\">3 Points</div>\n",
    "\n",
    "Complete the implementation of the function `ec_results_per_state`, which takes in a DataFrame `df` like `combined` and returns a DataFrame with the same number of rows as `df` and 5 columns:\n",
    "- `'state'`, one row per `'state'` in `df`.\n",
    "- `'state_ab'`, the abbreviation of `'state'`.\n",
    "- `'party'`, the party that won the most votes in `'state'` in 2020.\n",
    "- `'votes'`, the number of (actual, human) votes won by `'party'` in `'state'` in 2020.\n",
    "- `'Electoral_College_Votes'`, the number of Electoral College votes assigned to `'state'` in 2020.\n",
    "\n",
    "The resulting DataFrame should be sorted by `'state'` in ascending order.\n",
    "\n",
    "Example behavior is given below.\n",
    "\n",
    "```python\n",
    ">>> ec_results_per_state(combined).tail(2)\n",
    "```\n",
    "\n",
    "<table border=\"1\" class=\"dataframe\">\n",
    "  <thead>\n",
    "    <tr style=\"text-align: right;\">\n",
    "      <th></th>\n",
    "      <th>state</th>\n",
    "      <th>state_ab</th>\n",
    "      <th>party</th>\n",
    "      <th>votes</th>\n",
    "      <th>Electoral_College_Votes</th>\n",
    "    </tr>\n",
    "  </thead>\n",
    "  <tbody>\n",
    "    <tr>\n",
    "      <th>49</th>\n",
    "      <td>WISCONSIN</td>\n",
    "      <td>WI</td>\n",
    "      <td>DEMOCRAT</td>\n",
    "      <td>1630866</td>\n",
    "      <td>10</td>\n",
    "    </tr>\n",
    "    <tr>\n",
    "      <th>50</th>\n",
    "      <td>WYOMING</td>\n",
    "      <td>WY</td>\n",
    "      <td>REPUBLICAN</td>\n",
    "      <td>193559</td>\n",
    "      <td>3</td>\n",
    "    </tr>\n",
    "  </tbody>\n",
    "</table>\n",
    "\n",
    "Remember, `ec_results_per_state` will be tested on other DataFrames like `combined`, not just `combined` itself!"
   ]
  },
  {
   "cell_type": "code",
   "execution_count": null,
   "id": "76b33e7f",
   "metadata": {
    "scrolled": true,
    "tags": []
   },
   "outputs": [],
   "source": [
    "def ec_results_per_state(df):\n",
    "    \n",
    "\n",
    "# Feel free to change this input to make sure your function works correctly.\n",
    "ec_results_per_state(combined)"
   ]
  },
  {
   "cell_type": "code",
   "execution_count": null,
   "id": "01b57457",
   "metadata": {
    "deletable": false,
    "editable": false
   },
   "outputs": [],
   "source": [
    "grader.check(\"q03_1\")"
   ]
  },
  {
   "cell_type": "markdown",
   "id": "a3f3b501",
   "metadata": {},
   "source": [
    "#### Question 3.2 <div style=\"display:inline-block; vertical-align: middle; padding:7px 7px; font-size:10px; font-weight:light; color:white; background-color:#e84c4a; border-radius:7px; text-align:left;\">1 Point</div>\n",
    "\n",
    "Complete the implementation of the function `ec_totals`, which takes in a DataFrame `df` like `combined` and returns a Series, indexed by `'party'`, containing the total number of Electoral College votes won by each `'party'`."
   ]
  },
  {
   "cell_type": "code",
   "execution_count": null,
   "id": "d85e8bbd",
   "metadata": {
    "tags": []
   },
   "outputs": [],
   "source": [
    "def ec_totals(df):\n",
    "    ...\n",
    "\n",
    "# Feel free to change this input to make sure your function works correctly.\n",
    "ec_totals(combined)"
   ]
  },
  {
   "cell_type": "code",
   "execution_count": null,
   "id": "77d345a6",
   "metadata": {
    "deletable": false,
    "editable": false
   },
   "outputs": [],
   "source": [
    "grader.check(\"q03_2\")"
   ]
  },
  {
   "cell_type": "markdown",
   "id": "46a8667e",
   "metadata": {},
   "source": [
    "#### Question 3.3 <div style=\"display:inline-block; vertical-align: middle; padding:7px 7px; font-size:10px; font-weight:light; color:white; background-color:#e84c4a; border-radius:7px; text-align:left;\">5 Points</div>\n",
    "\n",
    "Now's the (arguably) fun part. To wrap up our foray into voting data, we will create a choropleth, a kind of map that colors different regions in different colors.\n",
    "\n",
    "Specifically, complete the implementation of the function `draw_choropleth`, which takes in the DataFrame `combined` (no other DataFrame) and returns a `plotly` figure object containing a [choropleth](https://en.wikipedia.org/wiki/Choropleth_map) of the United States in which each `'state'` is colored either blue or red, depending on whether the Democratic `'party'` or Republican `'party'` won the majority of votes in that `'state'` in 2020.\n",
    "\n",
    "An example of what the graph `draw_choropleth(combined)` should look like is below.\n",
    "\n",
    "<center>\n",
    "\n",
    "<img src=\"imgs/repl.png\" width=600>\n",
    "    \n",
    "</center>\n",
    "\n",
    "Some added guidance and requirements:\n",
    "- The [`plotly` choropleth documentation](https://plotly.com/python/choropleth-maps/) is excellent. It has many examples, which you can use to tweak several aspects of your plot.<br><br>\n",
    "- Your plot must have the abbreviation of each `'state'` plotted on top of the `'state'`, along with the number of Electoral College votes assigned to that `'state'` in 2020. Use the `figure` `.add_scattergeo` method to do this after you create the rest of your choropleth; you'll find examples online of how this works.\n",
    "    - You'll also need to figure out how to create a Series of strings, in which each string contains both the name of a `'state'` and its number of Electoral College vote counts.\n",
    "    - To prevent the map from getting too crowded, we hid the annotations for New Hampshire, Connecticut, Rhode Island, Washington D.C., Maryland, and Delaware; you don't have to do this, but it's a good idea.<br><br>\n",
    "- Your plot must use one color for the Democratic `'party'` and one color for the Republican `'party'`. The colors you choose do not matter, except for the fact that **you cannot use the default colors that `px.choropleth` uses**. (If you want to use the politically accurate colors, as we did above, the Republicans use red and the Democrats use blue.) You'll need to either read the documentation or do some Googling to figure out how to change colors for different categories, but as a hint, these can be set using an argument to `px.choropleth` (i.e. you don't need to use `fig.update_layout`).<br><br>\n",
    "- **Question 3.3 has no hidden tests, so as long as you pass the public tests here, you'll receive full credit for it.** Everything that isn't mentioned above but is in our example plot (e.g. a text color of white instead of black, or a different font) is optional – but make your plot as pretty as you can!\n",
    "\n",
    "<br>\n",
    "\n",
    "***Note***: You _may_ need to use a `for`-loop or list comprehension in your implementation of `draw_choropleth` to hide particular labels, and that's okay. (Not for any other question on this homework, though!)"
   ]
  },
  {
   "cell_type": "code",
   "execution_count": null,
   "id": "2ad23af4",
   "metadata": {
    "tags": []
   },
   "outputs": [],
   "source": [
    "def draw_choropleth(combined):\n",
    "    ...\n",
    "\n",
    "# We won't \n",
    "# When you're ready to submit your homework, please comment the line below out;\n",
    "# otherwise, we won't be able to manually grade your work.\n",
    "draw_choropleth(combined)"
   ]
  },
  {
   "cell_type": "code",
   "execution_count": null,
   "id": "e19c0df7",
   "metadata": {
    "deletable": false,
    "editable": false
   },
   "outputs": [],
   "source": [
    "grader.check(\"q03_3\")"
   ]
  },
  {
   "cell_type": "markdown",
   "id": "5da55740",
   "metadata": {},
   "source": [
    "Nice work! You're now well equipped to create your own political choropleths.\n",
    "\n",
    "If you want a challenge, once you're finished Homework 3, see if you can adjust the choropleth so that the intensity (darkness) of each `'state'`'s color depends on the proportion of its population that voted for the winning `'party'`. For example, since the Democratic `'party'` won 92% of the vote in Washington D.C. but only 50.6% of the vote in Michigan, Washington D.C. should appear much darker blue than Michigan."
   ]
  },
  {
   "cell_type": "markdown",
   "id": "c073e0c9",
   "metadata": {},
   "source": [
    "## Part 2: Combining Data 🫂\n",
    "\n",
    "---\n",
    "\n",
    "In Part 2 of this homework, you'll practice combining multiple DataFrames together. You'll want to review our treatment of the `merge` method from Lecture 6."
   ]
  },
  {
   "cell_type": "markdown",
   "id": "f1cdf632",
   "metadata": {},
   "source": [
    "### Question 4: Paw Patrol 🐾\n",
    "\n",
    "In this question, you'll analyze data from a veterinarian clinic in Michigan. The datasets contain several types of information from the clinic, including its customers (pet owners), pets, available procedures, and procedure history. The column names are self-explanatory. These DataFrames are provided to you:\n",
    "-  `owners` stores the customer information, where every `'OwnerID'` is unique (verify this yourself).\n",
    "-  `pets` stores the pet information. Each pet belongs to a customer in `owners`.\n",
    "-  `procedure_detail` contains a catalog of procedures that are offered by the clinic.\n",
    "-  `procedure_history` has procedure records. Most procedures were given to a pet in `pets`.\n",
    "\n",
    "We define each DataFrame below and show the first two rows of each DataFrame. **Do not** modify any of these DataFrames directly!"
   ]
  },
  {
   "cell_type": "code",
   "execution_count": null,
   "id": "435e4bd1",
   "metadata": {},
   "outputs": [],
   "source": [
    "owners = pd.read_csv('data/pets/owners.csv')\n",
    "owners.head()"
   ]
  },
  {
   "cell_type": "code",
   "execution_count": null,
   "id": "cff92c63",
   "metadata": {},
   "outputs": [],
   "source": [
    "pets = pd.read_csv('data/pets/pets.csv')\n",
    "pets.head()"
   ]
  },
  {
   "cell_type": "code",
   "execution_count": null,
   "id": "befd6bb2",
   "metadata": {},
   "outputs": [],
   "source": [
    "procedure_detail = pd.read_csv('data/pets/procedures_details.csv')\n",
    "procedure_detail.head()"
   ]
  },
  {
   "cell_type": "code",
   "execution_count": null,
   "id": "6a35db79",
   "metadata": {},
   "outputs": [],
   "source": [
    "procedure_history = pd.read_csv('data/pets/procedures_history.csv')\n",
    "procedure_history.head()"
   ]
  },
  {
   "cell_type": "markdown",
   "id": "93ba829b",
   "metadata": {},
   "source": [
    "Each of the following three parts asks you to answer a particular question about the data by implementing a function.\n",
    "\n",
    "**Note**: Unlike in Parts 1 or 3, when we say (for example) that a function takes in DataFrames `a` and `b`, you can assume that your function will only ever be called on `a` and `b` exactly, not other DataFrames \"like\" `a` and `b`."
   ]
  },
  {
   "cell_type": "markdown",
   "id": "346b89cb",
   "metadata": {},
   "source": [
    "#### Question 4.1 <div style=\"display:inline-block; vertical-align: middle; padding:7px 7px; font-size:10px; font-weight:light; color:white; background-color:#e84c4a; border-radius:7px; text-align:left;\">2 Points</div>\n",
    "\n",
    "> What is the most popular `'ProcedureType'` amongst all pets in the `pets` DataFrame? \n",
    "\n",
    "Complete the implementation of the function `most_popular_procedure`, which takes in two DataFrames, `pets` and `procedure_history`, and returns the name of the most popular `'ProcedureType'` (among all pets in `pets`) as a string.\n",
    "\n",
    "Note that some pets are registered but haven't had any procedures performed. Also, some pets that have had procedures done are not registered in `pets`.\n",
    "\n",
    "Here, you can assume that the DataFrames given to `most_popular_procedure` are `pets` and `procedure_history` exactly as they're defined in your notebook."
   ]
  },
  {
   "cell_type": "code",
   "execution_count": null,
   "id": "04169037",
   "metadata": {
    "tags": []
   },
   "outputs": [],
   "source": [
    "def most_popular_procedure(pets, procedure_history):\n",
    "    ...\n",
    "\n",
    "most_popular_procedure(pets, procedure_history)"
   ]
  },
  {
   "cell_type": "code",
   "execution_count": null,
   "id": "9e15ed02",
   "metadata": {
    "deletable": false,
    "editable": false
   },
   "outputs": [],
   "source": [
    "grader.check(\"q04_1\")"
   ]
  },
  {
   "cell_type": "markdown",
   "id": "07a83987",
   "metadata": {},
   "source": [
    "#### Question 4.2 <div style=\"display:inline-block; vertical-align: middle; padding:7px 7px; font-size:10px; font-weight:light; color:white; background-color:#e84c4a; border-radius:7px; text-align:left;\">4 Points</div>\n",
    "\n",
    "> What is the name of each customer's pet(s)?\n",
    "\n",
    "Complete the implementation of the function `pet_name_by_owner`, which takes in two DataFrames, `owners` and `pets`, and returns a Series whose index contains owner first names, and whose values are pet names as **strings**. If an owner has multiple pets, the value corresponding to that owner should instead be a **list of pet names as strings**.\n",
    "\n",
    "Note that owner first names are not necessarily unique, and so the Series you return will not necessarily have a unique index."
   ]
  },
  {
   "cell_type": "code",
   "execution_count": null,
   "id": "a0cce6f5",
   "metadata": {
    "tags": []
   },
   "outputs": [],
   "source": [
    "def pet_name_by_owner(owners, pets):\n",
    "    ...\n",
    "\n",
    "pet_name_by_owner(owners, pets)"
   ]
  },
  {
   "cell_type": "code",
   "execution_count": null,
   "id": "9bdcc20f",
   "metadata": {
    "deletable": false,
    "editable": false
   },
   "outputs": [],
   "source": [
    "grader.check(\"q04_2\")"
   ]
  },
  {
   "cell_type": "markdown",
   "id": "2c43bafb",
   "metadata": {},
   "source": [
    "#### Question 4.3 <div style=\"display:inline-block; vertical-align: middle; padding:7px 7px; font-size:10px; font-weight:light; color:white; background-color:#e84c4a; border-radius:7px; text-align:left;\">4 Points</div>\n",
    "\n",
    "Note that the `owners` DataFrame has a `'City'` column, describing the city in which each pet owner and their pets live.\n",
    "\n",
    "> How much did each city spend in total on procedures?\n",
    "\n",
    "Complete the implementation of the function `total_cost_per_city`, which takes in four DataFrames, `owners`, `pets`, `procedure_history`, and `procedure_detail`, and returns a Series indexed by `'City'` that describes the total amount that each city has spent on pets' procedures.\n",
    "\n",
    "Some guidance:\n",
    "- At some point, you may have to `merge` on multiple columns.\n",
    "- Some owners may have never visited the veterinarian clinic in their city. This means some cities may have zero operational costs. **These cities should still appear in your output!**"
   ]
  },
  {
   "cell_type": "code",
   "execution_count": null,
   "id": "2605885b",
   "metadata": {
    "tags": [
     "to-py"
    ]
   },
   "outputs": [],
   "source": [
    "def total_cost_per_city(owners, pets, procedure_history, procedure_detail):\n",
    "    ...\n",
    "\n",
    "total_cost_per_city(owners, pets, procedure_history, procedure_detail)"
   ]
  },
  {
   "cell_type": "code",
   "execution_count": null,
   "id": "809e4d8e",
   "metadata": {
    "deletable": false,
    "editable": false
   },
   "outputs": [],
   "source": [
    "grader.check(\"q04_3\")"
   ]
  },
  {
   "cell_type": "markdown",
   "id": "a6f4890e",
   "metadata": {},
   "source": [
    "## Part 3: Pivot Tables 🕺\n",
    "\n",
    "---\n",
    "\n",
    "In Part 3 of this homework, you'll get better at using the DataFrame `pivot_table` method. Recall from [Lecture 6](https://practicaldsc.org/resources/lectures/lec06/lec06-filled.html#Pivot-tables-using-the-pivot_table-method), a pivot table allows you to aggregate the entries in a DataFrame based on two categorical columns. If it helps, [here](https://jakevdp.github.io/PythonDataScienceHandbook/03.09-pivot-tables.html) is another great resource that provides an overview of `pivot_table` with many examples from the Titanic dataset."
   ]
  },
  {
   "cell_type": "markdown",
   "id": "00406f69",
   "metadata": {},
   "source": [
    "### Question 5: Summarizing Sales 💰\n",
    "\n",
    "In this question, you'll analyze sales data for a (hypothetical) franchise with several locations in Metro Detroit. Each row tells us the amount (`'Total'`) that a customer (`'Name'`) spent at a particular location (`'Store'`) on a particular date (`'Date'`)."
   ]
  },
  {
   "cell_type": "code",
   "execution_count": null,
   "id": "9bd1ed4d",
   "metadata": {},
   "outputs": [],
   "source": [
    "sales = pd.read_csv('data/sales.csv')\n",
    "sales.head()"
   ]
  },
  {
   "cell_type": "markdown",
   "id": "873f8a25",
   "metadata": {},
   "source": [
    "Before starting the question, do some preliminary analyses of your own. Try and answer questions like:\n",
    "- How many rows are in `sales`?\n",
    "- How many unique customers are there?\n",
    "- What are the possible values of `'Store'`?\n",
    "- What is the earliest and latest `'Date'` of any row?\n",
    "\n",
    "<!-- **We have provided outlines for the DataFrames you need to create in this question, but yours may have a different number of rows and columns and different values.** -->"
   ]
  },
  {
   "cell_type": "code",
   "execution_count": null,
   "id": "67cbb6bb",
   "metadata": {},
   "outputs": [],
   "source": [
    "# Explore here."
   ]
  },
  {
   "cell_type": "markdown",
   "id": "d4007c4c",
   "metadata": {},
   "source": [
    "#### Question 5.1 <div style=\"display:inline-block; vertical-align: middle; padding:7px 7px; font-size:10px; font-weight:light; color:white; background-color:#e84c4a; border-radius:7px; text-align:left;\">2 Points</div>\n",
    "\n",
    "Complete the implementation of the function `average_per_customer`, which takes in a DataFrame `df` **like** `sales` and returns a DataFrame, indexed by `'Name'`, with a single column, `'Average Transaction'`, which contains the average transaction price for each customer in `df`. The resulting DataFrame should be sorted by the index (`'Name'`) in ascending order.\n",
    "\n",
    "Example behavior is given below.\n",
    "\n",
    "```python\n",
    ">>> average_per_customer(sales).head(3)\n",
    "```\n",
    "\n",
    "<table border=\"1\" class=\"dataframe\" style=\"text-align: left;\">\n",
    "  <thead>\n",
    "    <tr>\n",
    "      <th></th>\n",
    "      <th>Average Transaction</th>\n",
    "    </tr>\n",
    "    <tr>\n",
    "      <th>Name</th>\n",
    "      <th></th>\n",
    "    </tr>\n",
    "  </thead>\n",
    "  <tbody>\n",
    "    <tr>\n",
    "      <th>Gill</th>\n",
    "      <td>1534.616162</td>\n",
    "    </tr>\n",
    "    <tr>\n",
    "      <th>Hoffmeyer</th>\n",
    "      <td>1529.581395</td>\n",
    "    </tr>\n",
    "    <tr>\n",
    "      <th>Junior</th>\n",
    "      <td>1392.861111</td>\n",
    "    </tr>\n",
    "  </tbody>\n",
    "</table>\n",
    "\n",
    "\n",
    "***Note***: You may be able to implement `average_per_customer` without using `pivot_table`, and that's totally fine."
   ]
  },
  {
   "cell_type": "code",
   "execution_count": null,
   "id": "59d6d91c",
   "metadata": {
    "tags": []
   },
   "outputs": [],
   "source": [
    "def average_per_customer(df):\n",
    "    ...\n",
    "\n",
    "# Feel free to change this input to make sure your function works correctly.\n",
    "# Remember that we may test your function on inputs like sales,\n",
    "# e.g. sales.sample(100), so make sure it works there too!\n",
    "average_per_customer(sales)"
   ]
  },
  {
   "cell_type": "code",
   "execution_count": null,
   "id": "f2a50c3e",
   "metadata": {
    "deletable": false,
    "editable": false
   },
   "outputs": [],
   "source": [
    "grader.check(\"q05_1\")"
   ]
  },
  {
   "cell_type": "markdown",
   "id": "18bdf489",
   "metadata": {},
   "source": [
    "#### Question 5.2 <div style=\"display:inline-block; vertical-align: middle; padding:7px 7px; font-size:10px; font-weight:light; color:white; background-color:#e84c4a; border-radius:7px; text-align:left;\">2 Points</div>\n",
    "\n",
    "Complete the implementation of the function `store_and_customer`, which takes in a DataFrame `df` like `sales` and returns a DataFrame, indexed by `'Name'`, that has one column for each `'Store'`. The DataFrame should describe the total amount each customer spent at each `'Store'`. If a particular customer didn't spend any money at a particular store, you will have missing values; **don't** fill these in.\n",
    "\n",
    "Example behavior is given below. We've intentionally hidden the true values that this DataFrame should produce, but the structure of your DataFrame – when called on the full `sales` DataFrame – should be the same as below.\n",
    "\n",
    "```python\n",
    ">>> store_and_customer(sales)\n",
    "```\n",
    "\n",
    "<table border=\"1\" class=\"dataframe\" style=\"text-align: left\">\n",
    "  <thead>\n",
    "    <tr style=\"text-align: right;\">\n",
    "      <th>Store</th>\n",
    "      <th>12 Oaks</th>\n",
    "      <th>Birch Run</th>\n",
    "      <th>Briarwood</th>\n",
    "      <th>Great Lakes</th>\n",
    "      <th>Oakland</th>\n",
    "      <th>Somerset</th>\n",
    "      <th>Westland</th>\n",
    "    </tr>\n",
    "    <tr>\n",
    "      <th>Name</th>\n",
    "      <th></th>\n",
    "      <th></th>\n",
    "      <th></th>\n",
    "      <th></th>\n",
    "      <th></th>\n",
    "      <th></th>\n",
    "      <th></th>\n",
    "    </tr>\n",
    "  </thead>\n",
    "  <tbody>\n",
    "    <tr>\n",
    "      <th>Gill</th>\n",
    "      <td>-</td>\n",
    "      <td>-</td>\n",
    "      <td>-</td>\n",
    "      <td>-</td>\n",
    "      <td>-</td>\n",
    "      <td>-</td>\n",
    "      <td>-</td>\n",
    "    </tr>\n",
    "    <tr>\n",
    "      <th>Hoffmeyer</th>\n",
    "      <td>-</td>\n",
    "      <td>-</td>\n",
    "      <td>-</td>\n",
    "      <td>-</td>\n",
    "      <td>-</td>\n",
    "      <td>-</td>\n",
    "      <td>-</td>\n",
    "    </tr>\n",
    "    <tr>\n",
    "      <th>Junior</th>\n",
    "      <td>-</td>\n",
    "      <td>-</td>\n",
    "      <td>-</td>\n",
    "      <td>-</td>\n",
    "      <td>-</td>\n",
    "      <td>-</td>\n",
    "      <td>-</td>\n",
    "    </tr>\n",
    "    <tr>\n",
    "      <th>Kheterpal</th>\n",
    "      <td>-</td>\n",
    "      <td>-</td>\n",
    "      <td>-</td>\n",
    "      <td>-</td>\n",
    "      <td>-</td>\n",
    "      <td>-</td>\n",
    "      <td>-</td>\n",
    "    </tr>\n",
    "    <tr>\n",
    "      <th>Li</th>\n",
    "      <td>-</td>\n",
    "      <td>-</td>\n",
    "      <td>-</td>\n",
    "      <td>-</td>\n",
    "      <td>-</td>\n",
    "      <td>-</td>\n",
    "      <td>-</td>\n",
    "    </tr>\n",
    "    <tr>\n",
    "      <th>Pratapa</th>\n",
    "      <td>-</td>\n",
    "      <td>-</td>\n",
    "      <td>-</td>\n",
    "      <td>-</td>\n",
    "      <td>-</td>\n",
    "      <td>-</td>\n",
    "      <td>-</td>\n",
    "    </tr>\n",
    "    <tr>\n",
    "      <th>Rampure</th>\n",
    "      <td>-</td>\n",
    "      <td>-</td>\n",
    "      <td>-</td>\n",
    "      <td>-</td>\n",
    "      <td>-</td>\n",
    "      <td>-</td>\n",
    "      <td>-</td>\n",
    "    </tr>\n",
    "    <tr>\n",
    "      <th>Rex</th>\n",
    "      <td>-</td>\n",
    "      <td>-</td>\n",
    "      <td>-</td>\n",
    "      <td>-</td>\n",
    "      <td>-</td>\n",
    "      <td>-</td>\n",
    "      <td>-</td>\n",
    "    </tr>\n",
    "    <tr>\n",
    "      <th>Uppalapati</th>\n",
    "      <td>-</td>\n",
    "      <td>-</td>\n",
    "      <td>-</td>\n",
    "      <td>-</td>\n",
    "      <td>-</td>\n",
    "      <td>-</td>\n",
    "      <td>-</td>\n",
    "    </tr>\n",
    "    <tr>\n",
    "      <th>Zhuang</th>\n",
    "      <td>-</td>\n",
    "      <td>-</td>\n",
    "      <td>-</td>\n",
    "      <td>-</td>\n",
    "      <td>-</td>\n",
    "      <td>-</td>\n",
    "      <td>-</td>\n",
    "    </tr>\n",
    "  </tbody>\n",
    "</table>"
   ]
  },
  {
   "cell_type": "code",
   "execution_count": null,
   "id": "97d6f5af",
   "metadata": {
    "tags": []
   },
   "outputs": [],
   "source": [
    "def store_and_customer(df):\n",
    "    ...\n",
    "\n",
    "# Feel free to change this input to make sure your function works correctly.\n",
    "store_and_customer(sales)"
   ]
  },
  {
   "cell_type": "code",
   "execution_count": null,
   "id": "60c7ae83",
   "metadata": {
    "deletable": false,
    "editable": false
   },
   "outputs": [],
   "source": [
    "grader.check(\"q05_2\")"
   ]
  },
  {
   "cell_type": "markdown",
   "id": "60669ec8",
   "metadata": {},
   "source": [
    "#### Question 5.3 <div style=\"display:inline-block; vertical-align: middle; padding:7px 7px; font-size:10px; font-weight:light; color:white; background-color:#e84c4a; border-radius:7px; text-align:left;\">3 Points</div>\n",
    "\n",
    "Complete the implementation of the function `transactions_per_store`, which takes in a DataFrame `df` like `sales` returns a DataFrame, indexed by **both** `'Store'` and `'Name'`, that contains the number of transactions made per `'Date'` at each location by each customer. Replace `NaN`s with 0s, and don't reset the index after pivoting. The order of the rows and columns don't matter.\n",
    "\n",
    "Example behavior is given below.\n",
    "\n",
    "```python\n",
    "# For instance, this is saying that\n",
    "# Rampure made two transactions at Somerset on\n",
    "# August 13, 2024.\n",
    ">>> transactions_per_store(sales.head(8))\n",
    "```\n",
    "\n",
    "<table border=\"1\" class=\"dataframe\">\n",
    "  <thead>\n",
    "    <tr style=\"text-align: right;\">\n",
    "      <th></th>\n",
    "      <th>Date</th>\n",
    "      <th>01.14.2024</th>\n",
    "      <th>01.15.2023</th>\n",
    "      <th>04.09.2024</th>\n",
    "      <th>08.05.2023</th>\n",
    "      <th>08.13.2024</th>\n",
    "      <th>09.25.2023</th>\n",
    "      <th>10.24.2023</th>\n",
    "    </tr>\n",
    "    <tr>\n",
    "      <th>Store</th>\n",
    "      <th>Name</th>\n",
    "      <th></th>\n",
    "      <th></th>\n",
    "      <th></th>\n",
    "      <th></th>\n",
    "      <th></th>\n",
    "      <th></th>\n",
    "      <th></th>\n",
    "    </tr>\n",
    "  </thead>\n",
    "  <tbody>\n",
    "    <tr>\n",
    "      <th rowspan=\"3\" valign=\"top\">12 Oaks</th>\n",
    "      <th>Pratapa</th>\n",
    "      <td>1</td>\n",
    "      <td>0</td>\n",
    "      <td>0</td>\n",
    "      <td>0</td>\n",
    "      <td>0</td>\n",
    "      <td>0</td>\n",
    "      <td>0</td>\n",
    "    </tr>\n",
    "    <tr>\n",
    "      <th>Rex</th>\n",
    "      <td>0</td>\n",
    "      <td>0</td>\n",
    "      <td>0</td>\n",
    "      <td>0</td>\n",
    "      <td>0</td>\n",
    "      <td>0</td>\n",
    "      <td>1</td>\n",
    "    </tr>\n",
    "    <tr>\n",
    "      <th>Zhuang</th>\n",
    "      <td>0</td>\n",
    "      <td>0</td>\n",
    "      <td>0</td>\n",
    "      <td>0</td>\n",
    "      <td>0</td>\n",
    "      <td>1</td>\n",
    "      <td>0</td>\n",
    "    </tr>\n",
    "    <tr>\n",
    "      <th>Briarwood</th>\n",
    "      <th>Kheterpal</th>\n",
    "      <td>0</td>\n",
    "      <td>0</td>\n",
    "      <td>1</td>\n",
    "      <td>0</td>\n",
    "      <td>0</td>\n",
    "      <td>0</td>\n",
    "      <td>0</td>\n",
    "    </tr>\n",
    "    <tr>\n",
    "      <th rowspan=\"2\" valign=\"top\">Somerset</th>\n",
    "      <th>Kheterpal</th>\n",
    "      <td>0</td>\n",
    "      <td>0</td>\n",
    "      <td>0</td>\n",
    "      <td>1</td>\n",
    "      <td>0</td>\n",
    "      <td>0</td>\n",
    "      <td>0</td>\n",
    "    </tr>\n",
    "    <tr>\n",
    "      <th>Rampure</th>\n",
    "      <td>0</td>\n",
    "      <td>0</td>\n",
    "      <td>0</td>\n",
    "      <td>0</td>\n",
    "      <td>2</td>\n",
    "      <td>0</td>\n",
    "      <td>0</td>\n",
    "    </tr>\n",
    "    <tr>\n",
    "      <th>Westland</th>\n",
    "      <th>Pratapa</th>\n",
    "      <td>0</td>\n",
    "      <td>1</td>\n",
    "      <td>0</td>\n",
    "      <td>0</td>\n",
    "      <td>0</td>\n",
    "      <td>0</td>\n",
    "      <td>0</td>\n",
    "    </tr>\n",
    "  </tbody>\n",
    "</table>"
   ]
  },
  {
   "cell_type": "code",
   "execution_count": null,
   "id": "5610020c",
   "metadata": {
    "tags": []
   },
   "outputs": [],
   "source": [
    "def transactions_per_store(df):\n",
    "    ...\n",
    "\n",
    "# Feel free to change this input to make sure your function works correctly.\n",
    "transactions_per_store(sales.head(8))"
   ]
  },
  {
   "cell_type": "code",
   "execution_count": null,
   "id": "1aef87a5",
   "metadata": {
    "deletable": false,
    "editable": false
   },
   "outputs": [],
   "source": [
    "grader.check(\"q05_3\")"
   ]
  },
  {
   "cell_type": "markdown",
   "id": "a756edd9",
   "metadata": {},
   "source": [
    "#### Question 5.4 <div style=\"display:inline-block; vertical-align: middle; padding:7px 7px; font-size:10px; font-weight:light; color:white; background-color:#e84c4a; border-radius:7px; text-align:left;\">4 Points</div>\n",
    "\n",
    "Complete the implementation of the function `total_per_month`, which takes in a DataFrame `df` like `sales` and returns a DataFrame, indexed by **both** `'Store'` and `'Name'`, that contains the total **amount** spent per **month** at each location by each customer. Replace `NaN`s with 0s, and don't reset the index after pivoting. The order of the rows and columns don't matter. \n",
    "\n",
    "Example behavior is given below.\n",
    "\n",
    "```python\n",
    ">>> total_per_month(sales.head(8))\n",
    "```\n",
    "\n",
    "<table border=\"1\" class=\"dataframe\">\n",
    "  <thead>\n",
    "    <tr style=\"text-align: right;\">\n",
    "      <th></th>\n",
    "      <th>Month</th>\n",
    "      <th>April</th>\n",
    "      <th>August</th>\n",
    "      <th>January</th>\n",
    "      <th>October</th>\n",
    "      <th>September</th>\n",
    "    </tr>\n",
    "    <tr>\n",
    "      <th>Store</th>\n",
    "      <th>Name</th>\n",
    "      <th></th>\n",
    "      <th></th>\n",
    "      <th></th>\n",
    "      <th></th>\n",
    "      <th></th>\n",
    "    </tr>\n",
    "  </thead>\n",
    "  <tbody>\n",
    "    <tr>\n",
    "      <th rowspan=\"3\" valign=\"top\">12 Oaks</th>\n",
    "      <th>Pratapa</th>\n",
    "      <td>0</td>\n",
    "      <td>0</td>\n",
    "      <td>1845</td>\n",
    "      <td>0</td>\n",
    "      <td>0</td>\n",
    "    </tr>\n",
    "    <tr>\n",
    "      <th>Rex</th>\n",
    "      <td>0</td>\n",
    "      <td>0</td>\n",
    "      <td>0</td>\n",
    "      <td>2503</td>\n",
    "      <td>0</td>\n",
    "    </tr>\n",
    "    <tr>\n",
    "      <th>Zhuang</th>\n",
    "      <td>0</td>\n",
    "      <td>0</td>\n",
    "      <td>0</td>\n",
    "      <td>0</td>\n",
    "      <td>346</td>\n",
    "    </tr>\n",
    "    <tr>\n",
    "      <th>Briarwood</th>\n",
    "      <th>Kheterpal</th>\n",
    "      <td>392</td>\n",
    "      <td>0</td>\n",
    "      <td>0</td>\n",
    "      <td>0</td>\n",
    "      <td>0</td>\n",
    "    </tr>\n",
    "    <tr>\n",
    "      <th rowspan=\"2\" valign=\"top\">Somerset</th>\n",
    "      <th>Kheterpal</th>\n",
    "      <td>0</td>\n",
    "      <td>2781</td>\n",
    "      <td>0</td>\n",
    "      <td>0</td>\n",
    "      <td>0</td>\n",
    "    </tr>\n",
    "    <tr>\n",
    "      <th>Rampure</th>\n",
    "      <td>0</td>\n",
    "      <td>2529</td>\n",
    "      <td>0</td>\n",
    "      <td>0</td>\n",
    "      <td>0</td>\n",
    "    </tr>\n",
    "    <tr>\n",
    "      <th>Westland</th>\n",
    "      <th>Pratapa</th>\n",
    "      <td>0</td>\n",
    "      <td>0</td>\n",
    "      <td>199</td>\n",
    "      <td>0</td>\n",
    "      <td>0</td>\n",
    "    </tr>\n",
    "  </tbody>\n",
    "</table>\n",
    "\n",
    "***Hint***: At no point should you need to manually parse `'Date'`s and manually map from 1 to January, 2 to February, and so on. Look into the [`pd.to_datetime`](https://pandas.pydata.org/docs/reference/api/pandas.to_datetime.html) function. Once you use it, a single StackOverflow post has the one-line solution to extracting months."
   ]
  },
  {
   "cell_type": "code",
   "execution_count": null,
   "id": "a66205d0",
   "metadata": {
    "tags": [
     "to-py"
    ]
   },
   "outputs": [],
   "source": [
    "def total_per_month(df):\n",
    "    df = df.copy() # Leave this here – you'll probably need to make destructive modifications to the input.\n",
    "    ...\n",
    "\n",
    "# Feel free to change this input to make sure your function works correctly.\n",
    "total_per_month(sales.head(8))"
   ]
  },
  {
   "cell_type": "code",
   "execution_count": null,
   "id": "1076e6d5",
   "metadata": {
    "deletable": false,
    "editable": false
   },
   "outputs": [],
   "source": [
    "grader.check(\"q05_4\")"
   ]
  },
  {
   "cell_type": "markdown",
   "id": "1e7ee94e",
   "metadata": {},
   "source": [
    "## Part 4: Simpson's Paradox 🧐\n",
    "\n",
    "---\n",
    "\n",
    "In this class, we're not just teaching you how to wrangle DataFrames, but also how to think critically with data. In this final part of the homework, you'll explore a statistical phenomenon that appears when working with aggregated data – Simpson's paradox. **You won't write any code in this part – instead, you'll type out some math.**\n",
    "\n",
    "First, let's walk through an illustrative example. Consider two students, Lisa and Bart, who just finished their first three semesters at Michigan. They both took a different number of classes in Winter 2023, Fall 2023, and Winter 2024. **Each semester, Lisa had a higher GPA than Bart, but overall, Bart has a higher GPA. How is this possible? 🤔**"
   ]
  },
  {
   "cell_type": "markdown",
   "id": "f6053f66",
   "metadata": {
    "slideshow": {
     "slide_type": "slide"
    }
   },
   "source": [
    "Run this cell to create example DataFrames that contain each students' grades."
   ]
  },
  {
   "cell_type": "code",
   "execution_count": null,
   "id": "a6845784",
   "metadata": {},
   "outputs": [],
   "source": [
    "lisa = pd.DataFrame([[20, 46], [18, 54], [5, 20]],\n",
    "    columns=['Credits', 'Grade Points Earned'], \n",
    "    index=['WI23', 'FA23', 'WI24'],\n",
    ")\n",
    "lisa.columns.name = 'Lisa' # This allows us to see the name \"Lisa\" in the top left of the DataFrame.\n",
    "\n",
    "bart = pd.DataFrame([[5, 10], [5, 13.5], [22, 81.4]],\n",
    "    columns=['Credits', 'Grade Points Earned'], \n",
    "    index=['WI23', 'FA23', 'WI24'],\n",
    ")\n",
    "bart.columns.name = 'Bart'"
   ]
  },
  {
   "cell_type": "code",
   "execution_count": null,
   "id": "702d19de",
   "metadata": {},
   "outputs": [],
   "source": [
    "lisa"
   ]
  },
  {
   "cell_type": "code",
   "execution_count": null,
   "id": "5df4d806",
   "metadata": {},
   "outputs": [],
   "source": [
    "bart"
   ]
  },
  {
   "cell_type": "markdown",
   "id": "a15535c5",
   "metadata": {
    "slideshow": {
     "slide_type": "slide"
    }
   },
   "source": [
    "The number of \"grade points\" earned for a course is:\n",
    "\n",
    "$$\\text{number of credits} \\cdot \\text{grade (out of 4)}$$\n",
    "\n",
    "For instance, an A- in a 4 credit course earns $3.7 \\cdot 4 = 14.8$ grade points. Your GPA, then, is the **weighted** average of your grade grade points, where the weight of each course grade is the number of credits the course is worth.\n",
    "\n",
    "In our example data, Lisa has a higher GPA in all three semesters:"
   ]
  },
  {
   "cell_type": "code",
   "execution_count": null,
   "id": "929f071b",
   "metadata": {},
   "outputs": [],
   "source": [
    "semesterly_gpas = pd.DataFrame({\n",
    "    \"Lisa's Semester GPA\": lisa['Grade Points Earned'] / lisa['Credits'],\n",
    "    \"Bart's Semester GPA\": bart['Grade Points Earned'] / bart['Credits'],\n",
    "})\n",
    "\n",
    "semesterly_gpas"
   ]
  },
  {
   "cell_type": "markdown",
   "id": "94e4bc96",
   "metadata": {},
   "source": [
    "But, overall, Bart has a higher GPA:"
   ]
  },
  {
   "cell_type": "code",
   "execution_count": null,
   "id": "6a5a2ae0",
   "metadata": {},
   "outputs": [],
   "source": [
    "lisa['Grade Points Earned'].sum() / lisa['Credits'].sum()"
   ]
  },
  {
   "cell_type": "code",
   "execution_count": null,
   "id": "af5165ef",
   "metadata": {},
   "outputs": [],
   "source": [
    "# Higher than above!\n",
    "bart['Grade Points Earned'].sum() / bart['Credits'].sum()"
   ]
  },
  {
   "cell_type": "markdown",
   "id": "cc11a3a1",
   "metadata": {
    "slideshow": {
     "slide_type": "slide"
    }
   },
   "source": [
    "How did this happen? Let's take a look at all of our information together:"
   ]
  },
  {
   "cell_type": "code",
   "execution_count": null,
   "id": "58482584",
   "metadata": {},
   "outputs": [],
   "source": [
    "(\n",
    "    semesterly_gpas\n",
    "    .assign(Lisa_Units=lisa['Credits'], Bart_Units=bart['Credits']) \n",
    "    .iloc[:, [0, 2, 1, 3]]\n",
    ")"
   ]
  },
  {
   "cell_type": "markdown",
   "id": "5b223f49",
   "metadata": {
    "slideshow": {
     "slide_type": "fragment"
    }
   },
   "source": [
    "When both students performed poorly, Lisa took more credits than Bart, **which brought 📉 Lisa's overall average**. On the other hand, when both students performed well, Bart took more credits than Lisa, **which brought up 📈 Bart's overall average**.\n",
    "\n",
    "This phenomenon is known as Simpson's paradox. Specifically, Simpson's paradox is when **grouped and ungrouped data show opposing trends**. It's named after Edward H. Simpson, a statistician, not Lisa or Bart Simpson. It typically occurs when there is a hidden fact (i.e. a confounder) within the data that influences results.\n",
    "\n",
    "If you'd like to read more about Simpson's paradox, [here's a great article](https://statisticsbyjim.com/basics/simpsons-paradox/).\n",
    "\n",
    "But now, it's time for your task."
   ]
  },
  {
   "cell_type": "markdown",
   "id": "371e9b41",
   "metadata": {},
   "source": [
    "### Question 6: Save the Pets 🐶\n",
    "\n",
    "Kyle is a veterinarian. Below, you'll find information about some of the dogs in his care, separated by district and breed.\n",
    "\n",
    "<table style=\"border-collapse: collapse; width: 500; text-align: left;\">\n",
    "  <thead>\n",
    "    <tr>\n",
    "      <th colspan=\"2\"></th>\n",
    "      <th colspan=\"2\" style=\"text-align: center; font-weight: bold; padding: 10px;\">Golden Retriever</th>\n",
    "      <th colspan=\"2\" style=\"text-align: center; font-weight: bold; padding: 10px;\">German Shepherd</th>\n",
    "    </tr>\n",
    "    <tr>\n",
    "      <th></th>\n",
    "      <th></th>\n",
    "      <th style=\"text-align: center; font-weight: bold; padding: 10px;\">Mean Weight</th>\n",
    "      <th style=\"text-align: center; font-weight: bold; padding: 10px;\">Count</th>\n",
    "      <th style=\"text-align: center; font-weight: bold; padding: 10px;\">Mean Weight</th>\n",
    "      <th style=\"text-align: center; font-weight: bold; padding: 10px;\">Count</th>\n",
    "    </tr>\n",
    "  </thead>\n",
    "  <tbody>\n",
    "    <tr>\n",
    "      <td style=\"font-weight: bold; padding: 10px;\">District 1</td>\n",
    "      <td></td>\n",
    "      <td style=\"text-align: center; padding: 10px;\">30</td>\n",
    "      <td style=\"text-align: center; padding: 10px;\">4</td>\n",
    "      <td style=\"text-align: center; padding: 10px;\">20</td>\n",
    "      <td style=\"text-align: center; padding: 10px;\">3</td>\n",
    "    </tr>\n",
    "    <tr>\n",
    "      <td style=\"font-weight: bold; padding: 10px;\">District 2</td>\n",
    "      <td></td>\n",
    "      <td style=\"text-align: center; padding: 10px;\">45</td>\n",
    "      <td style=\"text-align: center; padding: 10px;\">1</td>\n",
    "      <td style=\"text-align: center; padding: 10px;\">$a$</td>\n",
    "      <td style=\"text-align: center; padding: 10px;\">$b$</td>\n",
    "    </tr>\n",
    "  </tbody>\n",
    "</table>\n"
   ]
  },
  {
   "cell_type": "markdown",
   "id": "f63da21c",
   "metadata": {},
   "source": [
    "<!-- BEGIN QUESTION -->\n",
    "\n",
    "#### Question 6.1 <div style=\"display:inline-block; vertical-align: middle; padding:7px 7px; font-size:10px; font-weight:light; color:white; background-color:#e84c4a; border-radius:7px; text-align:left;\">2 Points</div>\n",
    "\n",
    "What is the mean weight of all Golden Retrievers in Kyle's care? Type your final answer in the cell below, and **show your work**. While not required, this is a good opportunity to learn how to use [LaTeX](https://pages.uoregon.edu/torrence/391/labs/LaTeX-cheat-sheet.pdf). For example, here's how we might format a formula (double-click this cell to see how we did it):\n",
    "\n",
    "$$3 + \\frac{2}{5}$$\n",
    "\n",
    "---"
   ]
  },
  {
   "cell_type": "markdown",
   "id": "65770a63",
   "metadata": {},
   "source": [
    "_Type your answer here, replacing this text._"
   ]
  },
  {
   "cell_type": "markdown",
   "id": "07e0dfce",
   "metadata": {},
   "source": [
    "<!-- END QUESTION -->\n",
    "\n",
    "---"
   ]
  },
  {
   "cell_type": "markdown",
   "id": "908d5920",
   "metadata": {},
   "source": [
    "#### Question 6.2 <div style=\"display:inline-block; vertical-align: middle; padding:7px 7px; font-size:10px; font-weight:light; color:white; background-color:#e84c4a; border-radius:7px; text-align:left;\">4 Points</div>\n",
    "\n",
    "Find **integers** $a$ and $b$ such that Simpson's paradox occurs in this specific way:\n",
    "- The mean weight of Golden Retrievers in District 1 is **greater than** the mean weight of German Shepherds in District 1, and\n",
    "- The mean weight of Golden Retrievers in District 2 is **greater than** the mean weight of German Shepherds in District 2, but\n",
    "- The mean weight of Golden Retrievers overall is **less than** the mean weight of German Shepherds overall.\n",
    "\n",
    "There are infinitely many solutions; give a solution with the **smallest possible value of $a$**. If you still find that there are many possible values of $b$, then give the smallest possible value of $b$. Again, **show your work**.\n",
    "\n",
    "---"
   ]
  },
  {
   "cell_type": "markdown",
   "id": "b97dfb7c",
   "metadata": {},
   "source": [
    "_Type your answer here, replacing this text._"
   ]
  },
  {
   "cell_type": "markdown",
   "id": "c3a4089c",
   "metadata": {},
   "source": [
    "---"
   ]
  },
  {
   "cell_type": "markdown",
   "id": "5d99fd88",
   "metadata": {},
   "source": [
    "## Finish Line 🏁\n",
    "\n",
    "Congratulations! You're ready to submit Homework 3."
   ]
  },
  {
   "cell_type": "markdown",
   "id": "258acac4",
   "metadata": {},
   "source": [
    "To submit your homework:\n",
    "\n",
    "1. Select `Kernel -> Restart & Run All` to ensure that you have executed all cells, including the test cells.\n",
    "2. Read through the notebook to make sure everything is fine and all tests passed.\n",
    "3. Run the cell below to run all tests, and make sure that they all pass.\n",
    "4. Download your notebook using `File -> Download as -> Notebook (.ipynb)`, then upload your notebook to Gradescope under \"Homework 2\".\n",
    "5. Stick around while the Gradescope autograder grades your work. Make sure you see that all **public tests** have passed on Gradescope. **Remember that homeworks have hidden tests, which you will not see your scores on until a few days after the deadline!**\n",
    "6. Check that you have a confirmation email from Gradescope and save it as proof of your submission."
   ]
  },
  {
   "cell_type": "markdown",
   "id": "a90f5599",
   "metadata": {
    "deletable": false,
    "editable": false
   },
   "source": [
    "---\n",
    "\n",
    "To double-check your work, the cell below will rerun all of the autograder tests."
   ]
  },
  {
   "cell_type": "code",
   "execution_count": null,
   "id": "0a140978",
   "metadata": {
    "deletable": false,
    "editable": false
   },
   "outputs": [],
   "source": [
    "grader.check_all()"
   ]
  }
 ],
 "metadata": {
  "kernelspec": {
   "display_name": "pds",
   "language": "python",
   "name": "python3"
  },
  "language_info": {
   "codemirror_mode": {
    "name": "ipython",
    "version": 3
   },
   "file_extension": ".py",
   "mimetype": "text/x-python",
   "name": "python",
   "nbconvert_exporter": "python",
   "pygments_lexer": "ipython3",
   "version": "3.10.14"
  },
  "otter": {
   "tests": {
    "q01_1": {
     "name": "q01_1",
     "points": 2,
     "suites": [
      {
       "cases": [
        {
         "code": ">>> isinstance(michigan_total_2020, int) or isinstance(michigan_total_2020, np.int64)\nTrue",
         "failure_message": "If you fail this test, your answer is not an integer.",
         "hidden": false,
         "locked": false
        },
        {
         "code": ">>> 1_000_000 < michigan_total_2020 < 10_000_000\nTrue",
         "failure_message": "If you fail this test, your answer is either too big or too small.",
         "hidden": false,
         "locked": false
        }
       ],
       "scored": true,
       "setup": "",
       "teardown": "",
       "type": "doctest"
      }
     ]
    },
    "q01_2": {
     "name": "q01_2",
     "points": 2,
     "suites": [
      {
       "cases": [
        {
         "code": ">>> isinstance(votes_per_year, pd.Series) and votes_per_year.shape[0] == 12\nTrue",
         "hidden": false,
         "locked": false
        },
        {
         "code": ">>> votes_per_year.loc[1996] == 95486860 and votes_per_year.iloc[3] == 91496698\nTrue",
         "hidden": false,
         "locked": false
        }
       ],
       "scored": true,
       "setup": "",
       "teardown": "",
       "type": "doctest"
      }
     ]
    },
    "q01_4": {
     "name": "q01_4",
     "points": 3,
     "suites": [
      {
       "cases": [
        {
         "code": ">>> isinstance(rep_per_state, pd.Series) and rep_per_state.shape[0] == 10\nTrue",
         "hidden": false,
         "locked": false
        },
        {
         "code": ">>> rep_per_state.loc['MICHIGAN'] == 2649852 and rep_per_state.iloc[-1] == 2446891\nTrue",
         "hidden": false,
         "locked": false
        }
       ],
       "scored": true,
       "setup": "",
       "teardown": "",
       "type": "doctest"
      }
     ]
    },
    "q02_1": {
     "name": "q02_1",
     "points": 3,
     "suites": [
      {
       "cases": [
        {
         "code": ">>> callable(votes_per_year_party) and votes_per_year_party(votes).shape == (400, 3) and list(votes_per_year_party(votes).columns) == ['year', 'party', 'votes']\nTrue",
         "hidden": false,
         "locked": false
        },
        {
         "code": ">>> out = votes_per_year_party(votes)\n>>> out.query('year == 2000 and party == \"DEMOCRAT\"')['votes'].iloc[0] == 49662314\nTrue",
         "hidden": false,
         "locked": false
        }
       ],
       "scored": true,
       "setup": "",
       "teardown": "",
       "type": "doctest"
      }
     ]
    },
    "q02_2": {
     "name": "q02_2",
     "points": 4,
     "suites": [
      {
       "cases": [
        {
         "code": ">>> callable(above_threshold) and above_threshold(votes, 125_000_000) == [2008, 2012, 2016, 2020] and above_threshold(votes, 200_000_000) == []\nTrue",
         "hidden": false,
         "locked": false
        }
       ],
       "scored": true,
       "setup": "",
       "teardown": "",
       "type": "doctest"
      }
     ]
    },
    "q02_3": {
     "name": "q02_3",
     "points": 5,
     "suites": [
      {
       "cases": [
        {
         "code": ">>> callable(popular_vote_winners) and popular_vote_winners(votes).shape == (12, 3) and list(popular_vote_winners(votes).columns) == ['party', 'votes', 'vote_prop']\nTrue",
         "hidden": false,
         "locked": false
        },
        {
         "code": ">>> out = popular_vote_winners(votes).tail(2)\n>>> np.all(out['party'] == ['DEMOCRAT'] * 2) and np.all(out['votes'] == [65677168, 81268908]) and np.allclose(out['vote_prop'], [0.48525787580967783, 0.5136164053976494])\nTrue",
         "failure_message": "Testing the last two rows of popular_vote_winners(votes), as shown in the question prompt.",
         "hidden": false,
         "locked": false
        }
       ],
       "scored": true,
       "setup": "",
       "teardown": "",
       "type": "doctest"
      }
     ]
    },
    "q03_1": {
     "name": "q03_1",
     "points": 3,
     "suites": [
      {
       "cases": [
        {
         "code": ">>> callable(ec_results_per_state) and ec_results_per_state(combined).shape == (51, 5) and list(ec_results_per_state(combined).columns) == ['state', 'state_ab', 'party', 'votes', 'Electoral_College_Votes']\nTrue",
         "hidden": false,
         "locked": false
        },
        {
         "code": ">>> out = ec_results_per_state(combined).tail(2)\n>>> np.all(out['state'] == ['WISCONSIN', 'WYOMING']) and np.all(out['state_ab'] == ['WI', 'WY']) and np.all(out['party'] == ['DEMOCRAT', 'REPUBLICAN']) and np.all(out['votes'] == [1630866, 193559]) and np.all(out['Electoral_College_Votes'] == [10, 3])\nTrue",
         "failure_message": "Testing the last two rows of ec_results_per_state(combined), as shown in the question prompt.",
         "hidden": false,
         "locked": false
        }
       ],
       "scored": true,
       "setup": "",
       "teardown": "",
       "type": "doctest"
      }
     ]
    },
    "q03_2": {
     "name": "q03_2",
     "points": 1,
     "suites": [
      {
       "cases": [
        {
         "code": ">>> callable(ec_totals) and ec_totals(combined).shape == (2,) and set(ec_totals(combined).index) == {'DEMOCRAT', 'REPUBLICAN'}\nTrue",
         "hidden": false,
         "locked": false
        }
       ],
       "scored": true,
       "setup": "",
       "teardown": "",
       "type": "doctest"
      }
     ]
    },
    "q03_3": {
     "name": "q03_3",
     "points": 5,
     "suites": [
      {
       "cases": [
        {
         "code": ">>> out = draw_choropleth(combined)\n>>> str(type(out)) == \"<class 'plotly.graph_objs._figure.Figure'>\"\nTrue",
         "hidden": false,
         "locked": false
        },
        {
         "code": ">>> out = draw_choropleth(combined)\n>>> len(out.data) == 3\nTrue",
         "failure_message": "Make sure your plot just has a Republican slice, a Democratic slice, and the annotations!",
         "hidden": false,
         "locked": false
        },
        {
         "code": ">>> out = draw_choropleth(combined)\n>>> party1, party2 = out.data[0:2]\n>>> colors_used = set(np.array([l['colorscale'] for l in (party1, party2)]).reshape(4, 2)[:, -1])\n>>> colors_used = set([c.upper() for c in colors_used] + [c.lower() for c in colors_used])\n>>> default_colors = {'#1F77B4', '#1f77b4', '#FF7F0E', '#ff7f0e'}\n>>> len(colors_used.intersection(default_colors)) == 0\nTrue",
         "failure_message": "Make sure you're not using any of the default colors!",
         "hidden": false,
         "locked": false
        },
        {
         "code": ">>> out = draw_choropleth(combined)\n>>> party1, party2 = out.data[0:2]\n>>> loc1, loc2 = party1['locations'], party2['locations']\n>>> ('AK' in loc1 and 'CA' in loc2) or ('NY' in loc1 or 'SC' in loc2)\nTrue",
         "failure_message": "Make sure your states are assigned to parties correctly!",
         "hidden": false,
         "locked": false
        },
        {
         "code": ">>> out = draw_choropleth(combined)\n>>> annots = out.data[2]\n>>> any(['MI' in text and '16' in text for text in annots['text']]) and any(['CA' in text and '55' in text for text in annots['text']])\nTrue",
         "failure_message": "Make sure your labels are set up correctly!",
         "hidden": false,
         "locked": false
        }
       ],
       "scored": true,
       "setup": "",
       "teardown": "",
       "type": "doctest"
      }
     ]
    },
    "q04_1": {
     "name": "q04_1",
     "points": 2,
     "suites": [
      {
       "cases": [
        {
         "code": ">>> isinstance(most_popular_procedure(pets, procedure_history), str)\nTrue",
         "hidden": false,
         "locked": false
        }
       ],
       "scored": true,
       "setup": "",
       "teardown": "",
       "type": "doctest"
      }
     ]
    },
    "q04_2": {
     "name": "q04_2",
     "points": 4,
     "suites": [
      {
       "cases": [
        {
         "code": ">>> out = pet_name_by_owner(owners, pets)\n>>> out.shape[0] == owners.shape[0]\nTrue",
         "hidden": false,
         "locked": false
        },
        {
         "code": ">>> out = pet_name_by_owner(owners, pets)\n>>> 'Sarah' in out.index\nTrue",
         "hidden": false,
         "locked": false
        },
        {
         "code": ">>> out = pet_name_by_owner(owners, pets)\n>>> 'Cookie' in out.values\nTrue",
         "hidden": false,
         "locked": false
        }
       ],
       "scored": true,
       "setup": "",
       "teardown": "",
       "type": "doctest"
      }
     ]
    },
    "q04_3": {
     "name": "q04_3",
     "points": 4,
     "suites": [
      {
       "cases": [
        {
         "code": ">>> out = total_cost_per_city(owners, pets, procedure_history, procedure_detail)\n>>> set(out.index) <= set(owners['City'])\nTrue",
         "hidden": false,
         "locked": false
        },
        {
         "code": ">>> out = total_cost_per_city(owners, pets, procedure_history, procedure_detail)\n>>> out.shape[0] != 20\nTrue",
         "failure_message": "There are more than 20 unique cities in the owners DataFrame, and all should appear here!",
         "hidden": false,
         "locked": false
        }
       ],
       "scored": true,
       "setup": "",
       "teardown": "",
       "type": "doctest"
      }
     ]
    },
    "q05_1": {
     "name": "q05_1",
     "points": 2,
     "suites": [
      {
       "cases": [
        {
         "code": ">>> callable(average_per_customer) and isinstance(average_per_customer(sales), pd.DataFrame)\nTrue",
         "hidden": false,
         "locked": false
        },
        {
         "code": ">>> out = average_per_customer(sales).head(3)\n>>> list(out.index) == ['Gill', 'Hoffmeyer', 'Junior'] and np.isclose(out.to_numpy().reshape(-1,), np.array([1534.61616162, 1529.58139535, 1392.86111111])).all()\nTrue",
         "failure_message": "Testing the first three rows of average_per_customer(sales), as shown in the question prompt.",
         "hidden": false,
         "locked": false
        }
       ],
       "scored": true,
       "setup": "",
       "teardown": "",
       "type": "doctest"
      }
     ]
    },
    "q05_2": {
     "name": "q05_2",
     "points": 2,
     "suites": [
      {
       "cases": [
        {
         "code": ">>> callable(store_and_customer) and isinstance(store_and_customer(sales), pd.DataFrame) and store_and_customer(sales).shape == (10, 7)\nTrue",
         "hidden": false,
         "locked": false
        },
        {
         "code": ">>> (store_and_customer(sales).index == ['Gill', 'Hoffmeyer', 'Junior', 'Kheterpal', 'Li', 'Pratapa', 'Rampure', 'Rex', 'Uppalapati', 'Zhuang']).all() and (store_and_customer(sales).columns == ['12 Oaks', 'Birch Run', 'Briarwood', 'Great Lakes', 'Oakland', 'Somerset', 'Westland']).all()\nTrue",
         "hidden": false,
         "locked": false
        },
        {
         "code": ">>> store_and_customer(sales).isna().sum().sum() > 0\nTrue",
         "failure_message": "Testing that your function isn't filling in missing values.",
         "hidden": false,
         "locked": false
        }
       ],
       "scored": true,
       "setup": "",
       "teardown": "",
       "type": "doctest"
      }
     ]
    },
    "q05_3": {
     "name": "q05_3",
     "points": 3,
     "suites": [
      {
       "cases": [
        {
         "code": ">>> callable(transactions_per_store) and isinstance(transactions_per_store(sales), pd.DataFrame) and transactions_per_store(sales.head(8)).shape == (7, 7)\nTrue",
         "hidden": false,
         "locked": false
        },
        {
         "code": ">>> np.allclose(np.sort(transactions_per_store(sales.head(8)).mean()), np.array([0.14285714, 0.14285714, 0.14285714, 0.14285714, 0.14285714, 0.14285714, 0.28571429]))\nTrue",
         "failure_message": "Testing transactions_per_store(sales.head(8)), as in the question prompt.",
         "hidden": false,
         "locked": false
        },
        {
         "code": ">>> transactions_per_store(sales.head(8)).loc[('12 Oaks', 'Zhuang'), '09.25.2023'] == 1\nTrue",
         "failure_message": "Testing transactions_per_store(sales.head(8)), as in the question prompt.",
         "hidden": false,
         "locked": false
        }
       ],
       "scored": true,
       "setup": "",
       "teardown": "",
       "type": "doctest"
      }
     ]
    },
    "q05_4": {
     "name": "q05_4",
     "points": 4,
     "suites": [
      {
       "cases": [
        {
         "code": ">>> callable(total_per_month) and isinstance(total_per_month(sales), pd.DataFrame) and total_per_month(sales.head(8)).shape == (7, 5)\nTrue",
         "hidden": false,
         "locked": false
        },
        {
         "code": ">>> total_per_month(sales.head(8)).loc[('12 Oaks', 'Pratapa'), 'January'] == 1845\nTrue",
         "failure_message": "Testing total_per_month(sales.head(8)), as in the question prompt.",
         "hidden": false,
         "locked": false
        },
        {
         "code": ">>> np.allclose(np.sort(total_per_month(sales.head(8)).mean()), np.array([ 49.42857143,  56.        , 292.        , 357.57142857, 758.57142857]))\nTrue",
         "failure_message": "Testing total_per_month(sales.head(8)), as in the question prompt.",
         "hidden": false,
         "locked": false
        }
       ],
       "scored": true,
       "setup": "",
       "teardown": "",
       "type": "doctest"
      }
     ]
    }
   }
  }
 },
 "nbformat": 4,
 "nbformat_minor": 5
}
